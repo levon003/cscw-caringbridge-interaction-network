{
 "cells": [
  {
   "cell_type": "markdown",
   "metadata": {},
   "source": [
    "Author Type Labeling\n",
    "===\n",
    "\n",
    "Labeling of authors and sites based on update-level author type predictions.\n"
   ]
  },
  {
   "cell_type": "code",
   "execution_count": 1,
   "metadata": {},
   "outputs": [],
   "source": [
    "%reload_ext autoreload\n",
    "%autoreload 2\n",
    "%matplotlib inline"
   ]
  },
  {
   "cell_type": "code",
   "execution_count": 2,
   "metadata": {},
   "outputs": [],
   "source": [
    "import os\n",
    "import re\n",
    "import pandas as pd\n",
    "import numpy as np\n",
    "\n",
    "from collections import Counter\n",
    "import sqlite3\n",
    "from tqdm import tqdm\n",
    "import random\n",
    "import pickle\n",
    "from datetime import datetime\n",
    "\n",
    "import matplotlib.pyplot as plt\n",
    "import matplotlib.dates as md\n",
    "import matplotlib\n",
    "import pylab as pl\n",
    "from IPython.core.display import display, HTML"
   ]
  },
  {
   "cell_type": "code",
   "execution_count": 3,
   "metadata": {},
   "outputs": [],
   "source": [
    "import sys\n",
    "sys.path.append(\"/home/srivbane/levon003/repos/qual-health-journeys/annotation_data\")\n",
    "import journal as journal_utils"
   ]
  },
  {
   "cell_type": "code",
   "execution_count": 4,
   "metadata": {},
   "outputs": [],
   "source": [
    "working_dir = \"/home/srivbane/shared/caringbridge/data/projects/sna-social-support/author_type\""
   ]
  },
  {
   "cell_type": "code",
   "execution_count": 5,
   "metadata": {},
   "outputs": [
    {
     "data": {
      "text/plain": [
       "'/panfs/roc/groups/3/srivbane/levon003/repos/sna-social-support/figures'"
      ]
     },
     "execution_count": 5,
     "metadata": {},
     "output_type": "execute_result"
    }
   ],
   "source": [
    "git_root_dir = !git rev-parse --show-toplevel\n",
    "git_root_dir = git_root_dir[0]\n",
    "figures_dir = os.path.join(git_root_dir, 'figures')\n",
    "figures_dir"
   ]
  },
  {
   "cell_type": "code",
   "execution_count": 6,
   "metadata": {},
   "outputs": [],
   "source": [
    "p_thresh = 0.66\n",
    "cg_thresh = 0.34"
   ]
  },
  {
   "cell_type": "markdown",
   "metadata": {},
   "source": [
    "## Read in the data\n",
    "\n",
    "And convert it to a new dataframe that aggregates at the user/site level."
   ]
  },
  {
   "cell_type": "code",
   "execution_count": 7,
   "metadata": {},
   "outputs": [
    {
     "name": "stdout",
     "output_type": "stream",
     "text": [
      "0:00:19.435588\n"
     ]
    },
    {
     "data": {
      "text/plain": [
       "15850052"
      ]
     },
     "execution_count": 7,
     "metadata": {},
     "output_type": "execute_result"
    }
   ],
   "source": [
    "# read the journal metadata with author type info added\n",
    "s = datetime.now()\n",
    "author_type_dir = \"/home/srivbane/shared/caringbridge/data/projects/sna-social-support/author_type\"\n",
    "journal_metadata_filepath = os.path.join(author_type_dir, \"journal_metadata_with_author_type.df\")\n",
    "journal_df = pd.read_feather(journal_metadata_filepath)\n",
    "print(datetime.now() - s)\n",
    "len(journal_df)"
   ]
  },
  {
   "cell_type": "code",
   "execution_count": 8,
   "metadata": {},
   "outputs": [],
   "source": [
    "journal_df = journal_df[journal_df.is_nontrivial]"
   ]
  },
  {
   "cell_type": "code",
   "execution_count": 9,
   "metadata": {},
   "outputs": [
    {
     "data": {
      "text/html": [
       "<div>\n",
       "<style scoped>\n",
       "    .dataframe tbody tr th:only-of-type {\n",
       "        vertical-align: middle;\n",
       "    }\n",
       "\n",
       "    .dataframe tbody tr th {\n",
       "        vertical-align: top;\n",
       "    }\n",
       "\n",
       "    .dataframe thead th {\n",
       "        text-align: right;\n",
       "    }\n",
       "</style>\n",
       "<table border=\"1\" class=\"dataframe\">\n",
       "  <thead>\n",
       "    <tr style=\"text-align: right;\">\n",
       "      <th></th>\n",
       "      <th>created_at</th>\n",
       "      <th>journal_oid</th>\n",
       "      <th>published_at</th>\n",
       "      <th>site_id</th>\n",
       "      <th>updated_at</th>\n",
       "      <th>user_id</th>\n",
       "      <th>site_index</th>\n",
       "      <th>is_nontrivial</th>\n",
       "      <th>predicted_label</th>\n",
       "    </tr>\n",
       "  </thead>\n",
       "  <tbody>\n",
       "    <tr>\n",
       "      <td>0</td>\n",
       "      <td>1103856900000</td>\n",
       "      <td>51bdf3e56ca0048f4e00ced4</td>\n",
       "      <td>0</td>\n",
       "      <td>1</td>\n",
       "      <td>1103856900000</td>\n",
       "      <td>1</td>\n",
       "      <td>0</td>\n",
       "      <td>True</td>\n",
       "      <td>cg</td>\n",
       "    </tr>\n",
       "    <tr>\n",
       "      <td>1</td>\n",
       "      <td>1103943240000</td>\n",
       "      <td>51bdf3e56ca0048f4e00ced2</td>\n",
       "      <td>0</td>\n",
       "      <td>1</td>\n",
       "      <td>1103943240000</td>\n",
       "      <td>1</td>\n",
       "      <td>1</td>\n",
       "      <td>True</td>\n",
       "      <td>cg</td>\n",
       "    </tr>\n",
       "    <tr>\n",
       "      <td>2</td>\n",
       "      <td>1104288840000</td>\n",
       "      <td>51bdf3e56ca0048f4e00ced0</td>\n",
       "      <td>0</td>\n",
       "      <td>1</td>\n",
       "      <td>1104288840000</td>\n",
       "      <td>1</td>\n",
       "      <td>2</td>\n",
       "      <td>True</td>\n",
       "      <td>cg</td>\n",
       "    </tr>\n",
       "  </tbody>\n",
       "</table>\n",
       "</div>"
      ],
      "text/plain": [
       "      created_at               journal_oid  published_at  site_id  \\\n",
       "0  1103856900000  51bdf3e56ca0048f4e00ced4             0        1   \n",
       "1  1103943240000  51bdf3e56ca0048f4e00ced2             0        1   \n",
       "2  1104288840000  51bdf3e56ca0048f4e00ced0             0        1   \n",
       "\n",
       "      updated_at  user_id  site_index  is_nontrivial predicted_label  \n",
       "0  1103856900000        1           0           True              cg  \n",
       "1  1103943240000        1           1           True              cg  \n",
       "2  1104288840000        1           2           True              cg  "
      ]
     },
     "execution_count": 9,
     "metadata": {},
     "output_type": "execute_result"
    }
   ],
   "source": [
    "journal_df.head(n=3)"
   ]
  },
  {
   "cell_type": "code",
   "execution_count": 10,
   "metadata": {},
   "outputs": [
    {
     "data": {
      "text/plain": [
       "[('cg', 11707863), ('p', 3890387)]"
      ]
     },
     "execution_count": 10,
     "metadata": {},
     "output_type": "execute_result"
    }
   ],
   "source": [
    "Counter(journal_df.predicted_label).most_common()"
   ]
  },
  {
   "cell_type": "code",
   "execution_count": 11,
   "metadata": {},
   "outputs": [
    {
     "data": {
      "text/plain": [
       "0.24941176093472023"
      ]
     },
     "execution_count": 11,
     "metadata": {},
     "output_type": "execute_result"
    }
   ],
   "source": [
    "# what's the overall percentage that are patient-authored\n",
    "np.sum(journal_df.predicted_label == 'p') / len(journal_df)"
   ]
  },
  {
   "cell_type": "code",
   "execution_count": 37,
   "metadata": {},
   "outputs": [
    {
     "data": {
      "text/html": [
       "<div>\n",
       "<style scoped>\n",
       "    .dataframe tbody tr th:only-of-type {\n",
       "        vertical-align: middle;\n",
       "    }\n",
       "\n",
       "    .dataframe tbody tr th {\n",
       "        vertical-align: top;\n",
       "    }\n",
       "\n",
       "    .dataframe thead th {\n",
       "        text-align: right;\n",
       "    }\n",
       "</style>\n",
       "<table border=\"1\" class=\"dataframe\">\n",
       "  <thead>\n",
       "    <tr style=\"text-align: right;\">\n",
       "      <th></th>\n",
       "      <th></th>\n",
       "      <th>patient_proportion</th>\n",
       "      <th>site_total</th>\n",
       "    </tr>\n",
       "    <tr>\n",
       "      <th>user_id</th>\n",
       "      <th>site_id</th>\n",
       "      <th></th>\n",
       "      <th></th>\n",
       "    </tr>\n",
       "  </thead>\n",
       "  <tbody>\n",
       "    <tr>\n",
       "      <td>40905335</td>\n",
       "      <td>1327430</td>\n",
       "      <td>0.0</td>\n",
       "      <td>4</td>\n",
       "    </tr>\n",
       "    <tr>\n",
       "      <td>40906769</td>\n",
       "      <td>1327430</td>\n",
       "      <td>0.0</td>\n",
       "      <td>1</td>\n",
       "    </tr>\n",
       "    <tr>\n",
       "      <td>40914864</td>\n",
       "      <td>1328992</td>\n",
       "      <td>0.0</td>\n",
       "      <td>5</td>\n",
       "    </tr>\n",
       "    <tr>\n",
       "      <td>40933432</td>\n",
       "      <td>1330148</td>\n",
       "      <td>1.0</td>\n",
       "      <td>4</td>\n",
       "    </tr>\n",
       "    <tr>\n",
       "      <td>40972477</td>\n",
       "      <td>1333192</td>\n",
       "      <td>1.0</td>\n",
       "      <td>1</td>\n",
       "    </tr>\n",
       "  </tbody>\n",
       "</table>\n",
       "</div>"
      ],
      "text/plain": [
       "                  patient_proportion  site_total\n",
       "user_id  site_id                                \n",
       "40905335 1327430                 0.0           4\n",
       "40906769 1327430                 0.0           1\n",
       "40914864 1328992                 0.0           5\n",
       "40933432 1330148                 1.0           4\n",
       "40972477 1333192                 1.0           1"
      ]
     },
     "execution_count": 37,
     "metadata": {},
     "output_type": "execute_result"
    }
   ],
   "source": [
    "# generate a series with a multilevel index of user_id/site_id\n",
    "user_proportions = journal_df.groupby(['user_id', 'site_id']).agg({\n",
    "    'predicted_label': lambda group: np.sum(group == 'p') / len(group),\n",
    "    'site_index': lambda group: len(group)\n",
    "})\n",
    "# rename the resulting series\n",
    "user_proportions = user_proportions.rename(columns={\n",
    "    'predicted_label': 'patient_proportion', \n",
    "    'site_index': 'site_total'\n",
    "})\n",
    "user_proportions.tail()"
   ]
  },
  {
   "cell_type": "code",
   "execution_count": 38,
   "metadata": {},
   "outputs": [
    {
     "data": {
      "text/html": [
       "<div>\n",
       "<style scoped>\n",
       "    .dataframe tbody tr th:only-of-type {\n",
       "        vertical-align: middle;\n",
       "    }\n",
       "\n",
       "    .dataframe tbody tr th {\n",
       "        vertical-align: top;\n",
       "    }\n",
       "\n",
       "    .dataframe thead th {\n",
       "        text-align: right;\n",
       "    }\n",
       "</style>\n",
       "<table border=\"1\" class=\"dataframe\">\n",
       "  <thead>\n",
       "    <tr style=\"text-align: right;\">\n",
       "      <th></th>\n",
       "      <th>user_id</th>\n",
       "      <th>site_id</th>\n",
       "      <th>patient_proportion</th>\n",
       "      <th>site_total</th>\n",
       "    </tr>\n",
       "  </thead>\n",
       "  <tbody>\n",
       "    <tr>\n",
       "      <td>0</td>\n",
       "      <td>0</td>\n",
       "      <td>44</td>\n",
       "      <td>0.000000</td>\n",
       "      <td>72</td>\n",
       "    </tr>\n",
       "    <tr>\n",
       "      <td>1</td>\n",
       "      <td>0</td>\n",
       "      <td>102</td>\n",
       "      <td>0.369565</td>\n",
       "      <td>46</td>\n",
       "    </tr>\n",
       "    <tr>\n",
       "      <td>2</td>\n",
       "      <td>0</td>\n",
       "      <td>308</td>\n",
       "      <td>0.166667</td>\n",
       "      <td>12</td>\n",
       "    </tr>\n",
       "    <tr>\n",
       "      <td>3</td>\n",
       "      <td>0</td>\n",
       "      <td>664</td>\n",
       "      <td>0.000000</td>\n",
       "      <td>5</td>\n",
       "    </tr>\n",
       "    <tr>\n",
       "      <td>4</td>\n",
       "      <td>0</td>\n",
       "      <td>670</td>\n",
       "      <td>0.028571</td>\n",
       "      <td>315</td>\n",
       "    </tr>\n",
       "  </tbody>\n",
       "</table>\n",
       "</div>"
      ],
      "text/plain": [
       "   user_id  site_id  patient_proportion  site_total\n",
       "0        0       44            0.000000          72\n",
       "1        0      102            0.369565          46\n",
       "2        0      308            0.166667          12\n",
       "3        0      664            0.000000           5\n",
       "4        0      670            0.028571         315"
      ]
     },
     "execution_count": 38,
     "metadata": {},
     "output_type": "execute_result"
    }
   ],
   "source": [
    "user_site_df = user_proportions.reset_index(level=user_proportions.index.names)\n",
    "user_site_df.head()"
   ]
  },
  {
   "cell_type": "code",
   "execution_count": 12,
   "metadata": {},
   "outputs": [
    {
     "data": {
      "text/plain": [
       "362345"
      ]
     },
     "execution_count": 12,
     "metadata": {},
     "output_type": "execute_result"
    }
   ],
   "source": [
    "# load the list of valid users\n",
    "data_selection_working_dir = \"/home/srivbane/shared/caringbridge/data/projects/sna-social-support/data_selection\"\n",
    "valid_user_ids = set()\n",
    "with open(os.path.join(data_selection_working_dir, \"valid_user_ids.txt\"), 'r') as infile:\n",
    "    for line in infile:\n",
    "        user_id = line.strip()\n",
    "        if user_id == \"\":\n",
    "            continue\n",
    "        else:\n",
    "            valid_user_ids.add(int(user_id))\n",
    "len(valid_user_ids)"
   ]
  },
  {
   "cell_type": "code",
   "execution_count": 13,
   "metadata": {},
   "outputs": [
    {
     "data": {
      "text/plain": [
       "340414"
      ]
     },
     "execution_count": 13,
     "metadata": {},
     "output_type": "execute_result"
    }
   ],
   "source": [
    "# load the list of valid sites\n",
    "data_selection_working_dir = \"/home/srivbane/shared/caringbridge/data/projects/sna-social-support/data_selection\"\n",
    "valid_site_ids = set()\n",
    "with open(os.path.join(data_selection_working_dir, \"valid_site_ids.txt\"), 'r') as infile:\n",
    "    for line in infile:\n",
    "        site_id = line.strip()\n",
    "        if site_id == \"\":\n",
    "            continue\n",
    "        else:\n",
    "            valid_site_ids.add(int(site_id))\n",
    "len(valid_site_ids)"
   ]
  },
  {
   "cell_type": "code",
   "execution_count": 39,
   "metadata": {},
   "outputs": [
    {
     "data": {
      "text/plain": [
       "414566"
      ]
     },
     "execution_count": 39,
     "metadata": {},
     "output_type": "execute_result"
    }
   ],
   "source": [
    "# this doesn't actually trim any data out\n",
    "user_site_df = user_site_df[(user_site_df.user_id.isin(valid_user_ids))|(user_site_df.site_id.isin(valid_site_ids))]\n",
    "len(user_site_df)"
   ]
  },
  {
   "cell_type": "code",
   "execution_count": 40,
   "metadata": {},
   "outputs": [
    {
     "data": {
      "text/html": [
       "<div>\n",
       "<style scoped>\n",
       "    .dataframe tbody tr th:only-of-type {\n",
       "        vertical-align: middle;\n",
       "    }\n",
       "\n",
       "    .dataframe tbody tr th {\n",
       "        vertical-align: top;\n",
       "    }\n",
       "\n",
       "    .dataframe thead th {\n",
       "        text-align: right;\n",
       "    }\n",
       "</style>\n",
       "<table border=\"1\" class=\"dataframe\">\n",
       "  <thead>\n",
       "    <tr style=\"text-align: right;\">\n",
       "      <th></th>\n",
       "      <th>user_id</th>\n",
       "      <th>site_id</th>\n",
       "      <th>patient_proportion</th>\n",
       "      <th>site_total</th>\n",
       "    </tr>\n",
       "  </thead>\n",
       "  <tbody>\n",
       "    <tr>\n",
       "      <td>0</td>\n",
       "      <td>0</td>\n",
       "      <td>44</td>\n",
       "      <td>0.000000</td>\n",
       "      <td>72</td>\n",
       "    </tr>\n",
       "    <tr>\n",
       "      <td>1</td>\n",
       "      <td>0</td>\n",
       "      <td>102</td>\n",
       "      <td>0.369565</td>\n",
       "      <td>46</td>\n",
       "    </tr>\n",
       "    <tr>\n",
       "      <td>2</td>\n",
       "      <td>0</td>\n",
       "      <td>308</td>\n",
       "      <td>0.166667</td>\n",
       "      <td>12</td>\n",
       "    </tr>\n",
       "    <tr>\n",
       "      <td>3</td>\n",
       "      <td>0</td>\n",
       "      <td>664</td>\n",
       "      <td>0.000000</td>\n",
       "      <td>5</td>\n",
       "    </tr>\n",
       "    <tr>\n",
       "      <td>4</td>\n",
       "      <td>0</td>\n",
       "      <td>670</td>\n",
       "      <td>0.028571</td>\n",
       "      <td>315</td>\n",
       "    </tr>\n",
       "  </tbody>\n",
       "</table>\n",
       "</div>"
      ],
      "text/plain": [
       "   user_id  site_id  patient_proportion  site_total\n",
       "0        0       44            0.000000          72\n",
       "1        0      102            0.369565          46\n",
       "2        0      308            0.166667          12\n",
       "3        0      664            0.000000           5\n",
       "4        0      670            0.028571         315"
      ]
     },
     "execution_count": 40,
     "metadata": {},
     "output_type": "execute_result"
    }
   ],
   "source": [
    "user_site_df = user_site_df.reset_index(drop=True)\n",
    "user_site_df.head()"
   ]
  },
  {
   "cell_type": "code",
   "execution_count": null,
   "metadata": {},
   "outputs": [],
   "source": [
    "# save the user author type dataframe\n",
    "author_type_dir = \"/home/srivbane/shared/caringbridge/data/projects/sna-social-support/author_type\"\n",
    "user_site_patient_proportions_filepath = os.path.join(author_type_dir, 'user_site_patient_proportions.df')\n",
    "user_site_df.to_feather(user_site_patient_proportions_filepath)\n",
    "print(\"Finished.\")"
   ]
  },
  {
   "cell_type": "code",
   "execution_count": 41,
   "metadata": {},
   "outputs": [
    {
     "data": {
      "text/plain": [
       "414566"
      ]
     },
     "execution_count": 41,
     "metadata": {},
     "output_type": "execute_result"
    }
   ],
   "source": [
    "# load the user author type dataframe\n",
    "author_type_dir = \"/home/srivbane/shared/caringbridge/data/projects/sna-social-support/author_type\"\n",
    "user_site_patient_proportions_filepath = os.path.join(author_type_dir, 'user_site_patient_proportions.df')\n",
    "user_site_df = pd.read_feather(user_site_patient_proportions_filepath)\n",
    "len(user_site_df)"
   ]
  },
  {
   "cell_type": "markdown",
   "metadata": {},
   "source": [
    "#### Define some dates for further visualization"
   ]
  },
  {
   "cell_type": "code",
   "execution_count": 42,
   "metadata": {},
   "outputs": [
    {
     "data": {
      "text/plain": [
       "138"
      ]
     },
     "execution_count": 42,
     "metadata": {},
     "output_type": "execute_result"
    }
   ],
   "source": [
    "start_date = datetime.fromisoformat('2005-01-01')\n",
    "start_timestamp = int(start_date.timestamp() * 1000)\n",
    "end_date = datetime.fromisoformat('2016-06-01')\n",
    "end_timestamp = int(end_date.timestamp() * 1000)\n",
    "subset_start_date = datetime.fromisoformat('2014-01-01')\n",
    "subset_start_timestamp = int(subset_start_date.timestamp() * 1000)\n",
    "bins = []\n",
    "bins.append(start_date.timestamp() * 1000)\n",
    "year = 2005\n",
    "month = 1\n",
    "while year != 2016 or month != 6:\n",
    "    if month == 12:\n",
    "        year += 1\n",
    "        month = 1\n",
    "    else:\n",
    "        month += 1\n",
    "    bins.append(datetime.fromisoformat(f\"{year}-{month:02}-01\").timestamp() * 1000)\n",
    "len(bins)"
   ]
  },
  {
   "cell_type": "markdown",
   "metadata": {},
   "source": [
    "## Site-level labeling"
   ]
  },
  {
   "cell_type": "code",
   "execution_count": 43,
   "metadata": {},
   "outputs": [
    {
     "data": {
      "text/html": [
       "<div>\n",
       "<style scoped>\n",
       "    .dataframe tbody tr th:only-of-type {\n",
       "        vertical-align: middle;\n",
       "    }\n",
       "\n",
       "    .dataframe tbody tr th {\n",
       "        vertical-align: top;\n",
       "    }\n",
       "\n",
       "    .dataframe thead th {\n",
       "        text-align: right;\n",
       "    }\n",
       "</style>\n",
       "<table border=\"1\" class=\"dataframe\">\n",
       "  <thead>\n",
       "    <tr style=\"text-align: right;\">\n",
       "      <th></th>\n",
       "      <th>created_at</th>\n",
       "      <th>journal_oid</th>\n",
       "      <th>published_at</th>\n",
       "      <th>site_id</th>\n",
       "      <th>updated_at</th>\n",
       "      <th>user_id</th>\n",
       "      <th>site_index</th>\n",
       "      <th>is_nontrivial</th>\n",
       "      <th>predicted_label</th>\n",
       "    </tr>\n",
       "  </thead>\n",
       "  <tbody>\n",
       "    <tr>\n",
       "      <td>6108595</td>\n",
       "      <td>1350431833000</td>\n",
       "      <td>51be21ae6ca004d95f00f934</td>\n",
       "      <td>0</td>\n",
       "      <td>155746</td>\n",
       "      <td>1350431833000</td>\n",
       "      <td>7262862</td>\n",
       "      <td>0</td>\n",
       "      <td>True</td>\n",
       "      <td>p</td>\n",
       "    </tr>\n",
       "    <tr>\n",
       "      <td>6294742</td>\n",
       "      <td>1324264882000</td>\n",
       "      <td>51be23926ca004d26501107b</td>\n",
       "      <td>0</td>\n",
       "      <td>163675</td>\n",
       "      <td>1324264882000</td>\n",
       "      <td>7650926</td>\n",
       "      <td>0</td>\n",
       "      <td>True</td>\n",
       "      <td>p</td>\n",
       "    </tr>\n",
       "    <tr>\n",
       "      <td>6691857</td>\n",
       "      <td>1333021807000</td>\n",
       "      <td>51c060d76ca00467161b4df8</td>\n",
       "      <td>0</td>\n",
       "      <td>177974</td>\n",
       "      <td>1333021807000</td>\n",
       "      <td>8445081</td>\n",
       "      <td>0</td>\n",
       "      <td>True</td>\n",
       "      <td>p</td>\n",
       "    </tr>\n",
       "    <tr>\n",
       "      <td>6992753</td>\n",
       "      <td>1333203198000</td>\n",
       "      <td>51be29b86ca004987900c68b</td>\n",
       "      <td>0</td>\n",
       "      <td>190049</td>\n",
       "      <td>1333203198000</td>\n",
       "      <td>9031661</td>\n",
       "      <td>0</td>\n",
       "      <td>True</td>\n",
       "      <td>cg</td>\n",
       "    </tr>\n",
       "    <tr>\n",
       "      <td>7600252</td>\n",
       "      <td>1342800930000</td>\n",
       "      <td>51be2eba6ca004210b00cc45</td>\n",
       "      <td>0</td>\n",
       "      <td>210183</td>\n",
       "      <td>1342800930000</td>\n",
       "      <td>10139305</td>\n",
       "      <td>0</td>\n",
       "      <td>True</td>\n",
       "      <td>cg</td>\n",
       "    </tr>\n",
       "    <tr>\n",
       "      <td>7826961</td>\n",
       "      <td>1325601853000</td>\n",
       "      <td>51be309e6ca0047c11005896</td>\n",
       "      <td>0</td>\n",
       "      <td>223715</td>\n",
       "      <td>1325601853000</td>\n",
       "      <td>3638273</td>\n",
       "      <td>0</td>\n",
       "      <td>True</td>\n",
       "      <td>cg</td>\n",
       "    </tr>\n",
       "    <tr>\n",
       "      <td>8756897</td>\n",
       "      <td>1333506884000</td>\n",
       "      <td>51be3f316ca0044b40003d1a</td>\n",
       "      <td>0</td>\n",
       "      <td>311670</td>\n",
       "      <td>1333506884000</td>\n",
       "      <td>14356764</td>\n",
       "      <td>0</td>\n",
       "      <td>True</td>\n",
       "      <td>cg</td>\n",
       "    </tr>\n",
       "    <tr>\n",
       "      <td>8880348</td>\n",
       "      <td>1327535045000</td>\n",
       "      <td>51be411d6ca004cb46008cb7</td>\n",
       "      <td>0</td>\n",
       "      <td>332166</td>\n",
       "      <td>1327535045000</td>\n",
       "      <td>14793568</td>\n",
       "      <td>0</td>\n",
       "      <td>True</td>\n",
       "      <td>cg</td>\n",
       "    </tr>\n",
       "    <tr>\n",
       "      <td>9501496</td>\n",
       "      <td>1317350093000</td>\n",
       "      <td>51be491d6ca004e761002ecb</td>\n",
       "      <td>0</td>\n",
       "      <td>404252</td>\n",
       "      <td>1317350093000</td>\n",
       "      <td>16797514</td>\n",
       "      <td>0</td>\n",
       "      <td>True</td>\n",
       "      <td>cg</td>\n",
       "    </tr>\n",
       "    <tr>\n",
       "      <td>9611424</td>\n",
       "      <td>1321721744000</td>\n",
       "      <td>51be4a7b6ca0047c66002933</td>\n",
       "      <td>0</td>\n",
       "      <td>416488</td>\n",
       "      <td>1321721744000</td>\n",
       "      <td>17168846</td>\n",
       "      <td>0</td>\n",
       "      <td>True</td>\n",
       "      <td>p</td>\n",
       "    </tr>\n",
       "    <tr>\n",
       "      <td>9659879</td>\n",
       "      <td>1321789959000</td>\n",
       "      <td>51be4b136ca0048d68002cdf</td>\n",
       "      <td>0</td>\n",
       "      <td>421746</td>\n",
       "      <td>1321789959000</td>\n",
       "      <td>5416830</td>\n",
       "      <td>0</td>\n",
       "      <td>True</td>\n",
       "      <td>p</td>\n",
       "    </tr>\n",
       "    <tr>\n",
       "      <td>9853464</td>\n",
       "      <td>1323362233000</td>\n",
       "      <td>51be4d726ca0046370001cd2</td>\n",
       "      <td>0</td>\n",
       "      <td>443000</td>\n",
       "      <td>1323362233000</td>\n",
       "      <td>18021556</td>\n",
       "      <td>0</td>\n",
       "      <td>True</td>\n",
       "      <td>cg</td>\n",
       "    </tr>\n",
       "    <tr>\n",
       "      <td>9912353</td>\n",
       "      <td>1325727058000</td>\n",
       "      <td>51c15d1b6ca004c1380c4069</td>\n",
       "      <td>0</td>\n",
       "      <td>449811</td>\n",
       "      <td>1325727058000</td>\n",
       "      <td>11745866</td>\n",
       "      <td>0</td>\n",
       "      <td>True</td>\n",
       "      <td>cg</td>\n",
       "    </tr>\n",
       "    <tr>\n",
       "      <td>10006212</td>\n",
       "      <td>1339290553000</td>\n",
       "      <td>51be4f4c6ca0048576004668</td>\n",
       "      <td>0</td>\n",
       "      <td>458714</td>\n",
       "      <td>1339290553000</td>\n",
       "      <td>18528362</td>\n",
       "      <td>0</td>\n",
       "      <td>True</td>\n",
       "      <td>cg</td>\n",
       "    </tr>\n",
       "    <tr>\n",
       "      <td>10108574</td>\n",
       "      <td>1347845751000</td>\n",
       "      <td>51be50996ca004447b0048d1</td>\n",
       "      <td>0</td>\n",
       "      <td>471572</td>\n",
       "      <td>1347845751000</td>\n",
       "      <td>2370810</td>\n",
       "      <td>0</td>\n",
       "      <td>True</td>\n",
       "      <td>cg</td>\n",
       "    </tr>\n",
       "    <tr>\n",
       "      <td>10152362</td>\n",
       "      <td>1347924488000</td>\n",
       "      <td>51be51166ca004d97c005a4b</td>\n",
       "      <td>0</td>\n",
       "      <td>475876</td>\n",
       "      <td>1347924488000</td>\n",
       "      <td>4451745</td>\n",
       "      <td>0</td>\n",
       "      <td>True</td>\n",
       "      <td>cg</td>\n",
       "    </tr>\n",
       "    <tr>\n",
       "      <td>10276162</td>\n",
       "      <td>1333385799000</td>\n",
       "      <td>51be52996ca0042c030019e7</td>\n",
       "      <td>0</td>\n",
       "      <td>489638</td>\n",
       "      <td>1333385799000</td>\n",
       "      <td>1237003</td>\n",
       "      <td>0</td>\n",
       "      <td>True</td>\n",
       "      <td>cg</td>\n",
       "    </tr>\n",
       "    <tr>\n",
       "      <td>10506641</td>\n",
       "      <td>1336973366000</td>\n",
       "      <td>51be55276ca004270c002c24</td>\n",
       "      <td>0</td>\n",
       "      <td>513763</td>\n",
       "      <td>1336973366000</td>\n",
       "      <td>20217481</td>\n",
       "      <td>0</td>\n",
       "      <td>True</td>\n",
       "      <td>p</td>\n",
       "    </tr>\n",
       "    <tr>\n",
       "      <td>10538715</td>\n",
       "      <td>1334326373000</td>\n",
       "      <td>51be557f6ca004560d0020af</td>\n",
       "      <td>0</td>\n",
       "      <td>516901</td>\n",
       "      <td>1334326373000</td>\n",
       "      <td>18439845</td>\n",
       "      <td>0</td>\n",
       "      <td>True</td>\n",
       "      <td>cg</td>\n",
       "    </tr>\n",
       "    <tr>\n",
       "      <td>10600398</td>\n",
       "      <td>1357058254000</td>\n",
       "      <td>51be563a6ca004d90f002385</td>\n",
       "      <td>0</td>\n",
       "      <td>523781</td>\n",
       "      <td>1357058254000</td>\n",
       "      <td>20519761</td>\n",
       "      <td>0</td>\n",
       "      <td>True</td>\n",
       "      <td>cg</td>\n",
       "    </tr>\n",
       "    <tr>\n",
       "      <td>10600399</td>\n",
       "      <td>1357058438000</td>\n",
       "      <td>51be563a6ca004d90f002387</td>\n",
       "      <td>0</td>\n",
       "      <td>523781</td>\n",
       "      <td>1357058438000</td>\n",
       "      <td>20519761</td>\n",
       "      <td>1</td>\n",
       "      <td>True</td>\n",
       "      <td>cg</td>\n",
       "    </tr>\n",
       "    <tr>\n",
       "      <td>10600400</td>\n",
       "      <td>1357058517000</td>\n",
       "      <td>51be563a6ca004d90f002389</td>\n",
       "      <td>0</td>\n",
       "      <td>523781</td>\n",
       "      <td>1357058517000</td>\n",
       "      <td>20519761</td>\n",
       "      <td>2</td>\n",
       "      <td>True</td>\n",
       "      <td>cg</td>\n",
       "    </tr>\n",
       "    <tr>\n",
       "      <td>10600401</td>\n",
       "      <td>1357066301000</td>\n",
       "      <td>51be563a6ca004d90f00238b</td>\n",
       "      <td>0</td>\n",
       "      <td>523781</td>\n",
       "      <td>1357066301000</td>\n",
       "      <td>20519761</td>\n",
       "      <td>3</td>\n",
       "      <td>True</td>\n",
       "      <td>cg</td>\n",
       "    </tr>\n",
       "    <tr>\n",
       "      <td>10759950</td>\n",
       "      <td>1337647526000</td>\n",
       "      <td>51be57d76ca0043f1500201c</td>\n",
       "      <td>0</td>\n",
       "      <td>539413</td>\n",
       "      <td>1337647526000</td>\n",
       "      <td>20986755</td>\n",
       "      <td>0</td>\n",
       "      <td>True</td>\n",
       "      <td>p</td>\n",
       "    </tr>\n",
       "    <tr>\n",
       "      <td>10770786</td>\n",
       "      <td>1350243231000</td>\n",
       "      <td>51be57f66ca00499150020a7</td>\n",
       "      <td>0</td>\n",
       "      <td>540799</td>\n",
       "      <td>1350243231000</td>\n",
       "      <td>3687796</td>\n",
       "      <td>0</td>\n",
       "      <td>True</td>\n",
       "      <td>p</td>\n",
       "    </tr>\n",
       "    <tr>\n",
       "      <td>10853312</td>\n",
       "      <td>1344824139000</td>\n",
       "      <td>51be58d36ca00472180051d4</td>\n",
       "      <td>0</td>\n",
       "      <td>548751</td>\n",
       "      <td>1344824139000</td>\n",
       "      <td>21273175</td>\n",
       "      <td>0</td>\n",
       "      <td>True</td>\n",
       "      <td>cg</td>\n",
       "    </tr>\n",
       "    <tr>\n",
       "      <td>10913286</td>\n",
       "      <td>1342478031000</td>\n",
       "      <td>51be596a6ca0046c1a0020be</td>\n",
       "      <td>0</td>\n",
       "      <td>553807</td>\n",
       "      <td>1342478031000</td>\n",
       "      <td>20672551</td>\n",
       "      <td>0</td>\n",
       "      <td>True</td>\n",
       "      <td>cg</td>\n",
       "    </tr>\n",
       "    <tr>\n",
       "      <td>11140012</td>\n",
       "      <td>1355290707000</td>\n",
       "      <td>51be5b976ca004b42100358a</td>\n",
       "      <td>0</td>\n",
       "      <td>574187</td>\n",
       "      <td>1355290707000</td>\n",
       "      <td>9459488</td>\n",
       "      <td>0</td>\n",
       "      <td>True</td>\n",
       "      <td>cg</td>\n",
       "    </tr>\n",
       "    <tr>\n",
       "      <td>11261970</td>\n",
       "      <td>1365166824000</td>\n",
       "      <td>51be5ca16ca0040e25002be6</td>\n",
       "      <td>0</td>\n",
       "      <td>583169</td>\n",
       "      <td>1365166824000</td>\n",
       "      <td>22410821</td>\n",
       "      <td>0</td>\n",
       "      <td>True</td>\n",
       "      <td>p</td>\n",
       "    </tr>\n",
       "    <tr>\n",
       "      <td>11288667</td>\n",
       "      <td>1346207801000</td>\n",
       "      <td>51be5cdc6ca004d625001bc1</td>\n",
       "      <td>0</td>\n",
       "      <td>585295</td>\n",
       "      <td>1346207801000</td>\n",
       "      <td>1221876</td>\n",
       "      <td>0</td>\n",
       "      <td>True</td>\n",
       "      <td>cg</td>\n",
       "    </tr>\n",
       "    <tr>\n",
       "      <td>11677329</td>\n",
       "      <td>1361119998000</td>\n",
       "      <td>51be86c76ca0040e270034b6</td>\n",
       "      <td>0</td>\n",
       "      <td>619505</td>\n",
       "      <td>1361119998000</td>\n",
       "      <td>23434159</td>\n",
       "      <td>0</td>\n",
       "      <td>True</td>\n",
       "      <td>cg</td>\n",
       "    </tr>\n",
       "    <tr>\n",
       "      <td>11976019</td>\n",
       "      <td>1359026558000</td>\n",
       "      <td>51be892c6ca004352f0017b0</td>\n",
       "      <td>0</td>\n",
       "      <td>648649</td>\n",
       "      <td>1359026558000</td>\n",
       "      <td>24082135</td>\n",
       "      <td>0</td>\n",
       "      <td>True</td>\n",
       "      <td>cg</td>\n",
       "    </tr>\n",
       "    <tr>\n",
       "      <td>12044753</td>\n",
       "      <td>1369095675000</td>\n",
       "      <td>51be89ac6ca004ea300028f5</td>\n",
       "      <td>0</td>\n",
       "      <td>654403</td>\n",
       "      <td>1369095675000</td>\n",
       "      <td>0</td>\n",
       "      <td>0</td>\n",
       "      <td>True</td>\n",
       "      <td>cg</td>\n",
       "    </tr>\n",
       "    <tr>\n",
       "      <td>12044754</td>\n",
       "      <td>1369095675000</td>\n",
       "      <td>51bf42706ca0047323046c4e</td>\n",
       "      <td>0</td>\n",
       "      <td>654403</td>\n",
       "      <td>1369095675000</td>\n",
       "      <td>0</td>\n",
       "      <td>1</td>\n",
       "      <td>True</td>\n",
       "      <td>cg</td>\n",
       "    </tr>\n",
       "    <tr>\n",
       "      <td>12044755</td>\n",
       "      <td>1369095675000</td>\n",
       "      <td>51bfd3c76ca004d446063f65</td>\n",
       "      <td>0</td>\n",
       "      <td>654403</td>\n",
       "      <td>1369095675000</td>\n",
       "      <td>0</td>\n",
       "      <td>2</td>\n",
       "      <td>True</td>\n",
       "      <td>cg</td>\n",
       "    </tr>\n",
       "    <tr>\n",
       "      <td>12044756</td>\n",
       "      <td>1369095675000</td>\n",
       "      <td>51c066076ca004ba2c05014e</td>\n",
       "      <td>0</td>\n",
       "      <td>654403</td>\n",
       "      <td>1369095675000</td>\n",
       "      <td>24224855</td>\n",
       "      <td>3</td>\n",
       "      <td>True</td>\n",
       "      <td>cg</td>\n",
       "    </tr>\n",
       "    <tr>\n",
       "      <td>12175635</td>\n",
       "      <td>1361584888000</td>\n",
       "      <td>51be8a8d6ca0041934001c70</td>\n",
       "      <td>0</td>\n",
       "      <td>665857</td>\n",
       "      <td>1361584888000</td>\n",
       "      <td>24482965</td>\n",
       "      <td>0</td>\n",
       "      <td>True</td>\n",
       "      <td>cg</td>\n",
       "    </tr>\n",
       "    <tr>\n",
       "      <td>12596183</td>\n",
       "      <td>1365880853000</td>\n",
       "      <td>51be8d616ca0040f3e001353</td>\n",
       "      <td>0</td>\n",
       "      <td>704117</td>\n",
       "      <td>1365880853000</td>\n",
       "      <td>0</td>\n",
       "      <td>0</td>\n",
       "      <td>True</td>\n",
       "      <td>cg</td>\n",
       "    </tr>\n",
       "    <tr>\n",
       "      <td>12596184</td>\n",
       "      <td>1365880853000</td>\n",
       "      <td>51bf43af6ca0043628028925</td>\n",
       "      <td>0</td>\n",
       "      <td>704117</td>\n",
       "      <td>1365880853000</td>\n",
       "      <td>24300399</td>\n",
       "      <td>1</td>\n",
       "      <td>True</td>\n",
       "      <td>cg</td>\n",
       "    </tr>\n",
       "    <tr>\n",
       "      <td>12617704</td>\n",
       "      <td>1369624207000</td>\n",
       "      <td>51be8d7c6ca004523e002b66</td>\n",
       "      <td>0</td>\n",
       "      <td>705781</td>\n",
       "      <td>1369624207000</td>\n",
       "      <td>25411249</td>\n",
       "      <td>0</td>\n",
       "      <td>True</td>\n",
       "      <td>cg</td>\n",
       "    </tr>\n",
       "    <tr>\n",
       "      <td>12957941</td>\n",
       "      <td>1371079121000</td>\n",
       "      <td>51be9d7b6ca004c76f000751</td>\n",
       "      <td>0</td>\n",
       "      <td>735367</td>\n",
       "      <td>1371079121000</td>\n",
       "      <td>26103265</td>\n",
       "      <td>0</td>\n",
       "      <td>True</td>\n",
       "      <td>p</td>\n",
       "    </tr>\n",
       "  </tbody>\n",
       "</table>\n",
       "</div>"
      ],
      "text/plain": [
       "             created_at               journal_oid  published_at  site_id  \\\n",
       "6108595   1350431833000  51be21ae6ca004d95f00f934             0   155746   \n",
       "6294742   1324264882000  51be23926ca004d26501107b             0   163675   \n",
       "6691857   1333021807000  51c060d76ca00467161b4df8             0   177974   \n",
       "6992753   1333203198000  51be29b86ca004987900c68b             0   190049   \n",
       "7600252   1342800930000  51be2eba6ca004210b00cc45             0   210183   \n",
       "7826961   1325601853000  51be309e6ca0047c11005896             0   223715   \n",
       "8756897   1333506884000  51be3f316ca0044b40003d1a             0   311670   \n",
       "8880348   1327535045000  51be411d6ca004cb46008cb7             0   332166   \n",
       "9501496   1317350093000  51be491d6ca004e761002ecb             0   404252   \n",
       "9611424   1321721744000  51be4a7b6ca0047c66002933             0   416488   \n",
       "9659879   1321789959000  51be4b136ca0048d68002cdf             0   421746   \n",
       "9853464   1323362233000  51be4d726ca0046370001cd2             0   443000   \n",
       "9912353   1325727058000  51c15d1b6ca004c1380c4069             0   449811   \n",
       "10006212  1339290553000  51be4f4c6ca0048576004668             0   458714   \n",
       "10108574  1347845751000  51be50996ca004447b0048d1             0   471572   \n",
       "10152362  1347924488000  51be51166ca004d97c005a4b             0   475876   \n",
       "10276162  1333385799000  51be52996ca0042c030019e7             0   489638   \n",
       "10506641  1336973366000  51be55276ca004270c002c24             0   513763   \n",
       "10538715  1334326373000  51be557f6ca004560d0020af             0   516901   \n",
       "10600398  1357058254000  51be563a6ca004d90f002385             0   523781   \n",
       "10600399  1357058438000  51be563a6ca004d90f002387             0   523781   \n",
       "10600400  1357058517000  51be563a6ca004d90f002389             0   523781   \n",
       "10600401  1357066301000  51be563a6ca004d90f00238b             0   523781   \n",
       "10759950  1337647526000  51be57d76ca0043f1500201c             0   539413   \n",
       "10770786  1350243231000  51be57f66ca00499150020a7             0   540799   \n",
       "10853312  1344824139000  51be58d36ca00472180051d4             0   548751   \n",
       "10913286  1342478031000  51be596a6ca0046c1a0020be             0   553807   \n",
       "11140012  1355290707000  51be5b976ca004b42100358a             0   574187   \n",
       "11261970  1365166824000  51be5ca16ca0040e25002be6             0   583169   \n",
       "11288667  1346207801000  51be5cdc6ca004d625001bc1             0   585295   \n",
       "11677329  1361119998000  51be86c76ca0040e270034b6             0   619505   \n",
       "11976019  1359026558000  51be892c6ca004352f0017b0             0   648649   \n",
       "12044753  1369095675000  51be89ac6ca004ea300028f5             0   654403   \n",
       "12044754  1369095675000  51bf42706ca0047323046c4e             0   654403   \n",
       "12044755  1369095675000  51bfd3c76ca004d446063f65             0   654403   \n",
       "12044756  1369095675000  51c066076ca004ba2c05014e             0   654403   \n",
       "12175635  1361584888000  51be8a8d6ca0041934001c70             0   665857   \n",
       "12596183  1365880853000  51be8d616ca0040f3e001353             0   704117   \n",
       "12596184  1365880853000  51bf43af6ca0043628028925             0   704117   \n",
       "12617704  1369624207000  51be8d7c6ca004523e002b66             0   705781   \n",
       "12957941  1371079121000  51be9d7b6ca004c76f000751             0   735367   \n",
       "\n",
       "             updated_at   user_id  site_index  is_nontrivial predicted_label  \n",
       "6108595   1350431833000   7262862           0           True               p  \n",
       "6294742   1324264882000   7650926           0           True               p  \n",
       "6691857   1333021807000   8445081           0           True               p  \n",
       "6992753   1333203198000   9031661           0           True              cg  \n",
       "7600252   1342800930000  10139305           0           True              cg  \n",
       "7826961   1325601853000   3638273           0           True              cg  \n",
       "8756897   1333506884000  14356764           0           True              cg  \n",
       "8880348   1327535045000  14793568           0           True              cg  \n",
       "9501496   1317350093000  16797514           0           True              cg  \n",
       "9611424   1321721744000  17168846           0           True               p  \n",
       "9659879   1321789959000   5416830           0           True               p  \n",
       "9853464   1323362233000  18021556           0           True              cg  \n",
       "9912353   1325727058000  11745866           0           True              cg  \n",
       "10006212  1339290553000  18528362           0           True              cg  \n",
       "10108574  1347845751000   2370810           0           True              cg  \n",
       "10152362  1347924488000   4451745           0           True              cg  \n",
       "10276162  1333385799000   1237003           0           True              cg  \n",
       "10506641  1336973366000  20217481           0           True               p  \n",
       "10538715  1334326373000  18439845           0           True              cg  \n",
       "10600398  1357058254000  20519761           0           True              cg  \n",
       "10600399  1357058438000  20519761           1           True              cg  \n",
       "10600400  1357058517000  20519761           2           True              cg  \n",
       "10600401  1357066301000  20519761           3           True              cg  \n",
       "10759950  1337647526000  20986755           0           True               p  \n",
       "10770786  1350243231000   3687796           0           True               p  \n",
       "10853312  1344824139000  21273175           0           True              cg  \n",
       "10913286  1342478031000  20672551           0           True              cg  \n",
       "11140012  1355290707000   9459488           0           True              cg  \n",
       "11261970  1365166824000  22410821           0           True               p  \n",
       "11288667  1346207801000   1221876           0           True              cg  \n",
       "11677329  1361119998000  23434159           0           True              cg  \n",
       "11976019  1359026558000  24082135           0           True              cg  \n",
       "12044753  1369095675000         0           0           True              cg  \n",
       "12044754  1369095675000         0           1           True              cg  \n",
       "12044755  1369095675000         0           2           True              cg  \n",
       "12044756  1369095675000  24224855           3           True              cg  \n",
       "12175635  1361584888000  24482965           0           True              cg  \n",
       "12596183  1365880853000         0           0           True              cg  \n",
       "12596184  1365880853000  24300399           1           True              cg  \n",
       "12617704  1369624207000  25411249           0           True              cg  \n",
       "12957941  1371079121000  26103265           0           True               p  "
      ]
     },
     "execution_count": 43,
     "metadata": {},
     "output_type": "execute_result"
    }
   ],
   "source": [
    "# as a quick fix for invalid dates in journals, when created_at is 0 we use the updated_at instead\n",
    "# note that only 41 updates have this issue\n",
    "invalid_created_at = journal_df.created_at <= 0\n",
    "journal_df.loc[invalid_created_at, 'created_at'] = journal_df.loc[invalid_created_at, 'updated_at']\n",
    "journal_df[invalid_created_at]"
   ]
  },
  {
   "cell_type": "code",
   "execution_count": 44,
   "metadata": {},
   "outputs": [
    {
     "data": {
      "text/html": [
       "<div>\n",
       "<style scoped>\n",
       "    .dataframe tbody tr th:only-of-type {\n",
       "        vertical-align: middle;\n",
       "    }\n",
       "\n",
       "    .dataframe tbody tr th {\n",
       "        vertical-align: top;\n",
       "    }\n",
       "\n",
       "    .dataframe thead th {\n",
       "        text-align: right;\n",
       "    }\n",
       "</style>\n",
       "<table border=\"1\" class=\"dataframe\">\n",
       "  <thead>\n",
       "    <tr style=\"text-align: right;\">\n",
       "      <th></th>\n",
       "      <th>patient_proportion</th>\n",
       "      <th>site_total</th>\n",
       "      <th>num_authors</th>\n",
       "      <th>first_update_created_at</th>\n",
       "    </tr>\n",
       "    <tr>\n",
       "      <th>site_id</th>\n",
       "      <th></th>\n",
       "      <th></th>\n",
       "      <th></th>\n",
       "      <th></th>\n",
       "    </tr>\n",
       "  </thead>\n",
       "  <tbody>\n",
       "    <tr>\n",
       "      <td>1334300</td>\n",
       "      <td>0.0</td>\n",
       "      <td>1</td>\n",
       "      <td>1</td>\n",
       "      <td>1549749147000</td>\n",
       "    </tr>\n",
       "    <tr>\n",
       "      <td>1334403</td>\n",
       "      <td>0.0</td>\n",
       "      <td>2</td>\n",
       "      <td>1</td>\n",
       "      <td>1549765406000</td>\n",
       "    </tr>\n",
       "    <tr>\n",
       "      <td>1334702</td>\n",
       "      <td>0.0</td>\n",
       "      <td>2</td>\n",
       "      <td>1</td>\n",
       "      <td>1549817607000</td>\n",
       "    </tr>\n",
       "    <tr>\n",
       "      <td>1334735</td>\n",
       "      <td>1.0</td>\n",
       "      <td>1</td>\n",
       "      <td>1</td>\n",
       "      <td>1549823254000</td>\n",
       "    </tr>\n",
       "    <tr>\n",
       "      <td>1334755</td>\n",
       "      <td>0.0</td>\n",
       "      <td>1</td>\n",
       "      <td>1</td>\n",
       "      <td>1549824852000</td>\n",
       "    </tr>\n",
       "  </tbody>\n",
       "</table>\n",
       "</div>"
      ],
      "text/plain": [
       "         patient_proportion  site_total  num_authors  first_update_created_at\n",
       "site_id                                                                      \n",
       "1334300                 0.0           1            1            1549749147000\n",
       "1334403                 0.0           2            1            1549765406000\n",
       "1334702                 0.0           2            1            1549817607000\n",
       "1334735                 1.0           1            1            1549823254000\n",
       "1334755                 0.0           1            1            1549824852000"
      ]
     },
     "execution_count": 44,
     "metadata": {},
     "output_type": "execute_result"
    }
   ],
   "source": [
    "# generate a dataframe with an index of site_id\n",
    "site_proportions = journal_df.groupby(['site_id']).agg({\n",
    "    'predicted_label': lambda group: np.sum(group == 'p') / len(group),\n",
    "    'site_index': lambda group: len(group),\n",
    "    'user_id': lambda group: len(set(group)),\n",
    "    'created_at': lambda group: np.min(group)\n",
    "})\n",
    "# rename the resulting columns\n",
    "site_proportions = site_proportions.rename(columns={\n",
    "    'predicted_label': 'patient_proportion', \n",
    "    'site_index': 'site_total',\n",
    "    'user_id': 'num_authors',\n",
    "    'created_at': 'first_update_created_at'\n",
    "})\n",
    "site_proportions.tail()"
   ]
  },
  {
   "cell_type": "code",
   "execution_count": 45,
   "metadata": {},
   "outputs": [
    {
     "data": {
      "text/plain": [
       "(340414, 1.0)"
      ]
     },
     "execution_count": 45,
     "metadata": {},
     "output_type": "execute_result"
    }
   ],
   "source": [
    "site_df = site_proportions.reset_index(level=site_proportions.index.names)\n",
    "original_size = len(site_df)\n",
    "site_df = site_df[site_df.site_id.isin(valid_site_ids)]\n",
    "len(site_df), len(site_df) / original_size"
   ]
  },
  {
   "cell_type": "code",
   "execution_count": 46,
   "metadata": {},
   "outputs": [
    {
     "data": {
      "text/html": [
       "<div>\n",
       "<style scoped>\n",
       "    .dataframe tbody tr th:only-of-type {\n",
       "        vertical-align: middle;\n",
       "    }\n",
       "\n",
       "    .dataframe tbody tr th {\n",
       "        vertical-align: top;\n",
       "    }\n",
       "\n",
       "    .dataframe thead th {\n",
       "        text-align: right;\n",
       "    }\n",
       "</style>\n",
       "<table border=\"1\" class=\"dataframe\">\n",
       "  <thead>\n",
       "    <tr style=\"text-align: right;\">\n",
       "      <th></th>\n",
       "      <th>site_id</th>\n",
       "      <th>patient_proportion</th>\n",
       "      <th>site_total</th>\n",
       "      <th>num_authors</th>\n",
       "      <th>first_update_created_at</th>\n",
       "    </tr>\n",
       "  </thead>\n",
       "  <tbody>\n",
       "    <tr>\n",
       "      <td>0</td>\n",
       "      <td>1</td>\n",
       "      <td>0.032086</td>\n",
       "      <td>187</td>\n",
       "      <td>1</td>\n",
       "      <td>1103856900000</td>\n",
       "    </tr>\n",
       "    <tr>\n",
       "      <td>1</td>\n",
       "      <td>2</td>\n",
       "      <td>0.068966</td>\n",
       "      <td>29</td>\n",
       "      <td>1</td>\n",
       "      <td>1117053060000</td>\n",
       "    </tr>\n",
       "    <tr>\n",
       "      <td>2</td>\n",
       "      <td>6</td>\n",
       "      <td>0.000000</td>\n",
       "      <td>17</td>\n",
       "      <td>1</td>\n",
       "      <td>1112730300000</td>\n",
       "    </tr>\n",
       "    <tr>\n",
       "      <td>3</td>\n",
       "      <td>10</td>\n",
       "      <td>0.000000</td>\n",
       "      <td>15</td>\n",
       "      <td>1</td>\n",
       "      <td>1116042900000</td>\n",
       "    </tr>\n",
       "    <tr>\n",
       "      <td>4</td>\n",
       "      <td>13</td>\n",
       "      <td>0.250000</td>\n",
       "      <td>12</td>\n",
       "      <td>1</td>\n",
       "      <td>1117550400000</td>\n",
       "    </tr>\n",
       "  </tbody>\n",
       "</table>\n",
       "</div>"
      ],
      "text/plain": [
       "   site_id  patient_proportion  site_total  num_authors  \\\n",
       "0        1            0.032086         187            1   \n",
       "1        2            0.068966          29            1   \n",
       "2        6            0.000000          17            1   \n",
       "3       10            0.000000          15            1   \n",
       "4       13            0.250000          12            1   \n",
       "\n",
       "   first_update_created_at  \n",
       "0            1103856900000  \n",
       "1            1117053060000  \n",
       "2            1112730300000  \n",
       "3            1116042900000  \n",
       "4            1117550400000  "
      ]
     },
     "execution_count": 46,
     "metadata": {},
     "output_type": "execute_result"
    }
   ],
   "source": [
    "site_df.head()"
   ]
  },
  {
   "cell_type": "code",
   "execution_count": 47,
   "metadata": {},
   "outputs": [
    {
     "data": {
      "text/plain": [
       "0.1603253685218587"
      ]
     },
     "execution_count": 47,
     "metadata": {},
     "output_type": "execute_result"
    }
   ],
   "source": [
    "# percent of multiauthor sites\n",
    "np.sum(site_df.num_authors > 1) / len(site_df)"
   ]
  },
  {
   "cell_type": "code",
   "execution_count": 48,
   "metadata": {},
   "outputs": [],
   "source": [
    "site_types = []\n",
    "\n",
    "site_subset = site_df\n",
    "for patient_proportion, site_total, num_authors in zip(site_subset.patient_proportion, site_subset.site_total, site_subset.num_authors):\n",
    "    if patient_proportion >= p_thresh:\n",
    "        site_type = 'p'\n",
    "    elif patient_proportion > cg_thresh:\n",
    "        site_type = 'mixed'\n",
    "    else:\n",
    "        site_type = 'cg'\n",
    "    site_types.append(site_type)"
   ]
  },
  {
   "cell_type": "code",
   "execution_count": 49,
   "metadata": {},
   "outputs": [],
   "source": [
    "site_types_single_author = []\n",
    "site_types_multi_author = []\n",
    "\n",
    "site_subset = site_df[site_df.num_authors == 1]\n",
    "for patient_proportion, site_total, num_authors in zip(site_subset.patient_proportion, site_subset.site_total, site_subset.num_authors):\n",
    "    if patient_proportion >= p_thresh:\n",
    "        site_type = 'p'\n",
    "    elif patient_proportion > cg_thresh:\n",
    "        site_type = 'mixed'\n",
    "    else:\n",
    "        site_type = 'cg'\n",
    "    site_types_single_author.append(site_type)\n",
    "    \n",
    "site_subset = site_df[site_df.num_authors > 1]\n",
    "for patient_proportion, site_total, num_authors in zip(site_subset.patient_proportion, site_subset.site_total, site_subset.num_authors):\n",
    "    if patient_proportion >= p_thresh:\n",
    "        site_type = 'p'\n",
    "    elif patient_proportion > cg_thresh:\n",
    "        site_type = 'mixed'\n",
    "    else:\n",
    "        site_type = 'cg'\n",
    "    site_types_multi_author.append(site_type)"
   ]
  },
  {
   "cell_type": "code",
   "execution_count": 50,
   "metadata": {},
   "outputs": [
    {
     "data": {
      "image/png": "[encoded data removed]",
      "text/plain": [
       "<Figure size 432x288 with 1 Axes>"
      ]
     },
     "metadata": {
      "needs_background": "light"
     },
     "output_type": "display_data"
    }
   ],
   "source": [
    "total_counts, bin_edges, _ = plt.hist(site_types, bins=3)\n",
    "single_author_counts, bin_edges, _ = plt.hist(site_types_single_author, bins=bin_edges)\n",
    "multi_author_counts, bin_edges, _ = plt.hist(site_types_multi_author, bins=bin_edges)\n",
    "\n",
    "plt.show()"
   ]
  },
  {
   "cell_type": "code",
   "execution_count": 51,
   "metadata": {},
   "outputs": [
    {
     "data": {
      "text/plain": [
       "(array([0.74820265, 0.07517571, 0.17662164]),\n",
       " array([0.70047822, 0.13679755, 0.16272422]))"
      ]
     },
     "execution_count": 51,
     "metadata": {},
     "output_type": "execute_result"
    }
   ],
   "source": [
    "# multi-author sites are much more likely to be mixed\n",
    "single_author_counts / len(site_types_single_author), multi_author_counts / len(site_types_multi_author)"
   ]
  },
  {
   "cell_type": "code",
   "execution_count": 74,
   "metadata": {},
   "outputs": [],
   "source": [
    "site_df['site_author_type'] = site_types"
   ]
  },
  {
   "cell_type": "code",
   "execution_count": 75,
   "metadata": {},
   "outputs": [
    {
     "name": "stdout",
     "output_type": "stream",
     "text": [
      "    P   Mixed     CG\n",
      "0 340414\n",
      "17.44%  8.51% 74.06%\n",
      "2 333324\n",
      "17.42%  8.69% 73.89%\n",
      "5 299124\n",
      "17.13%  8.87% 74.01%\n",
      "10 252099\n",
      "17.52%  9.34% 73.14%\n",
      "20 179111\n",
      "18.37% 10.01% 71.62%\n",
      "50 80117\n",
      "18.79% 10.63% 70.57%\n"
     ]
    }
   ],
   "source": [
    "# sites with more updates are more likely to be of mixed author type\n",
    "print(\"    P   Mixed     CG\")\n",
    "for min_journal_count in [0, 2, 5, 10, 20, 50]:\n",
    "    author_types = site_df[site_df.site_total >= min_journal_count].site_author_type\n",
    "    c = Counter(author_types)\n",
    "    t = len(author_types)\n",
    "    print(f\"{min_journal_count} {len(author_types)}\\n{c['p']/t*100:>5.2f}% {c['mixed']/t*100:>5.2f}% {c['cg']/t*100:>5.2f}%\")"
   ]
  },
  {
   "cell_type": "code",
   "execution_count": 76,
   "metadata": {},
   "outputs": [
    {
     "name": "stdout",
     "output_type": "stream",
     "text": [
      "           P   Mixed     CG\n",
      "0\n",
      "Single:17.66%  7.52% 74.82%\n",
      " Multi:16.27% 13.68% 70.05%\n",
      "2\n",
      "Single:17.65%  7.71% 74.64%\n",
      " Multi:16.27% 13.68% 70.05%\n",
      "5\n",
      "Single:17.29%  7.79% 74.92%\n",
      " Multi:16.39% 13.81% 69.80%\n",
      "10\n",
      "Single:17.65%  8.18% 74.17%\n",
      " Multi:16.98% 14.12% 68.90%\n",
      "20\n",
      "Single:18.34%  8.83% 72.83%\n",
      " Multi:18.49% 14.31% 67.20%\n",
      "50\n",
      "Single:18.23%  9.53% 72.24%\n",
      " Multi:20.45% 13.87% 65.68%\n"
     ]
    }
   ],
   "source": [
    "# there doesn't seem to be a strong interaction between length of site and multi-authorship\n",
    "print(\"           P   Mixed     CG\")\n",
    "for min_journal_count in [0, 2, 5, 10, 20, 50]:\n",
    "    print(f\"{min_journal_count}\")\n",
    "    author_types = site_df[(site_df.site_total >= min_journal_count)&(site_df.num_authors == 1)].site_author_type\n",
    "    c = Counter(author_types)\n",
    "    t = len(author_types)\n",
    "    print(f\"Single:{c['p']/t*100:>5.2f}% {c['mixed']/t*100:>5.2f}% {c['cg']/t*100:>5.2f}%\")\n",
    "          \n",
    "    author_types = site_df[(site_df.site_total >= min_journal_count)&(site_df.num_authors > 1)].site_author_type\n",
    "    c = Counter(author_types)\n",
    "    t = len(author_types)\n",
    "    print(f\" Multi:{c['p']/t*100:>5.2f}% {c['mixed']/t*100:>5.2f}% {c['cg']/t*100:>5.2f}%\")"
   ]
  },
  {
   "cell_type": "code",
   "execution_count": null,
   "metadata": {},
   "outputs": [],
   "source": [
    "# randomly sample some of the mixed sites\n",
    "site_subset = site_df[(site_df.site_total >= 20)&(site_df.site_author_type == 'mixed')&(site_df.first_update_created_at >= subset_start_timestamp)&(site_df.first_update_created_at <= end_timestamp)]\n",
    "print(len(site_subset), len(site_df))\n",
    "site_sample = site_subset.sample(n=10).copy()\n",
    "site_sample['link'] = site_sample.site_id.apply(lambda site_id: f\"https://127.0.0.1:5000/siteId/{site_id}\")\n",
    "site_sample[['site_id', 'site_total', 'patient_proportion', 'num_authors', 'link']]\n",
    "# Annotations of the sample:\n",
    "# 998001 caregiver-authored\n",
    "# 1120684 patient-authored\n",
    "# 1091588 mixed-authorship\n",
    "# 927859 mostly patient-authored, with long initial post from family caregiver\n",
    "# 1095759 mostly patient-authored, but then taken over by a caregiver who talks about her own stress in the wake of the death\n",
    "# 895557 mixed-authorship, variety of authors\n",
    "# 908309 patient authored but for the first update\n",
    "# 1090868 mixed-authorship, with daughter taking over during worst of treatment/hopitalization\n",
    "# 1033737 patient-authored, with a single guest-post from a caregiver\n",
    "# 1003822 caregiver-authored"
   ]
  },
  {
   "cell_type": "code",
   "execution_count": null,
   "metadata": {},
   "outputs": [],
   "source": [
    "# randomly sample some of the mixed sites\n",
    "site_subset = site_df[(site_df.site_total >= 10)&(site_df.site_total <= 20)&(site_df.site_author_type == 'mixed')&(site_df.first_update_created_at >= subset_start_timestamp)&(site_df.first_update_created_at <= end_timestamp)]\n",
    "print(len(site_subset), len(site_df))\n",
    "site_sample = site_subset.sample(n=5).copy()\n",
    "site_sample['link'] = site_sample.site_id.apply(lambda site_id: f\"http://127.0.0.1:5000/siteId/{site_id}\")\n",
    "site_sample[['site_id', 'site_total', 'patient_proportion', 'num_authors', 'link']]\n",
    "# 1099327 is mostly patient-authored, but most of its posts are after June 2016\n",
    "# 909499 is mostly patient-authored, but the patient-authored posts have long block quotes from other texts"
   ]
  },
  {
   "cell_type": "code",
   "execution_count": null,
   "metadata": {},
   "outputs": [],
   "source": []
  },
  {
   "cell_type": "code",
   "execution_count": 77,
   "metadata": {},
   "outputs": [
    {
     "data": {
      "text/plain": [
       "'3.85% of updates occur after the end of the study period.'"
      ]
     },
     "execution_count": 77,
     "metadata": {},
     "output_type": "execute_result"
    }
   ],
   "source": [
    "f\"{np.sum(journal_df.created_at >= end_timestamp) / len(journal_df) * 100:.2f}% of updates occur after the end of the study period.\""
   ]
  },
  {
   "cell_type": "code",
   "execution_count": 78,
   "metadata": {},
   "outputs": [
    {
     "data": {
      "image/png": "[encoded data removed]",
      "text/plain": [
       "<Figure size 864x144 with 1 Axes>"
      ]
     },
     "metadata": {
      "needs_background": "light"
     },
     "output_type": "display_data"
    }
   ],
   "source": [
    "fig, ax = plt.subplots(1, 1, figsize=(12,2))\n",
    "\n",
    "site_labels = site_df.patient_proportion >= 0.5\n",
    "\n",
    "hist, bin_edges = np.histogram(site_df.first_update_created_at, bins=bins)\n",
    "plt.plot(bin_edges[:-1], hist, linestyle='-', linewidth=1, label='Site Creations')\n",
    "\n",
    "hist, bin_edges = np.histogram(site_df[site_df.patient_proportion >= 0.5].first_update_created_at, bins=bins)\n",
    "plt.plot(bin_edges[:-1], hist, linestyle='-', linewidth=1, label='Majority patient')\n",
    "\n",
    "plt.legend(ncol=2)\n",
    "plt.ylabel(\"Counts\")\n",
    "\n",
    "newline = '\\n'\n",
    "xticks = [datetime.fromisoformat(f\"{2005 + i // 2}-{'01' if i % 2 == 0 else '07'}-01\").timestamp() * 1000 for i in range((2016 - 2005) * 2 + 2)]\n",
    "plt.xticks(\n",
    "    xticks, \n",
    "    [f\"{newline if i%2 == 0 else ''}{datetime.utcfromtimestamp(be / 1000).strftime('%Y-%m')}\" for i, be in enumerate(xticks)])\n",
    "plt.show()"
   ]
  },
  {
   "cell_type": "code",
   "execution_count": 79,
   "metadata": {},
   "outputs": [
    {
     "data": {
      "image/png": "[encoded data removed]",
      "text/plain": [
       "<Figure size 864x144 with 1 Axes>"
      ]
     },
     "metadata": {
      "needs_background": "light"
     },
     "output_type": "display_data"
    }
   ],
   "source": [
    "fig, ax = plt.subplots(1, 1, figsize=(12,2))\n",
    "\n",
    "site_labels = site_df.patient_proportion >= 0.5\n",
    "\n",
    "all_counts, bin_edges = np.histogram(site_df.first_update_created_at, bins=bins)\n",
    "subset_counts, bin_edges = np.histogram(site_df[site_df.patient_proportion >= 0.5].first_update_created_at, bins=bins)\n",
    "proportions = subset_counts / all_counts\n",
    "plt.plot(bin_edges[:-1], proportions, linestyle='-', linewidth=1, label='Majority patient')\n",
    "\n",
    "subset_counts, bin_edges = np.histogram(site_df[site_df.patient_proportion >= 0.9].first_update_created_at, bins=bins)\n",
    "proportions = subset_counts / all_counts\n",
    "plt.plot(bin_edges[:-1], proportions, linestyle='-', linewidth=1, label='90% patient')\n",
    "\n",
    "subset_counts, bin_edges = np.histogram(site_df[site_df.patient_proportion <= 0.1].first_update_created_at, bins=bins)\n",
    "proportions = subset_counts / all_counts\n",
    "plt.plot(bin_edges[:-1], proportions, linestyle='-', linewidth=1, label='10% patient')\n",
    "\n",
    "plt.legend(ncol=3)\n",
    "plt.ylabel(\"Proportion\")\n",
    "\n",
    "newline = '\\n'\n",
    "xticks = [datetime.fromisoformat(f\"{2005 + i // 2}-{'01' if i % 2 == 0 else '07'}-01\").timestamp() * 1000 for i in range((2016 - 2005) * 2 + 2)]\n",
    "plt.xticks(\n",
    "    xticks, \n",
    "    [f\"{newline if i%2 == 0 else ''}{datetime.utcfromtimestamp(be / 1000).strftime('%Y-%m')}\" for i, be in enumerate(xticks)])\n",
    "plt.show()"
   ]
  },
  {
   "cell_type": "code",
   "execution_count": 80,
   "metadata": {},
   "outputs": [
    {
     "data": {
      "image/png": "[encoded data removed]",
      "text/plain": [
       "<Figure size 864x144 with 1 Axes>"
      ]
     },
     "metadata": {
      "needs_background": "light"
     },
     "output_type": "display_data"
    }
   ],
   "source": [
    "fig, ax = plt.subplots(1, 1, figsize=(12,2))\n",
    "\n",
    "all_counts, bin_edges = np.histogram(site_df.first_update_created_at, bins=bins)\n",
    "subset_counts, bin_edges = np.histogram(site_df[site_df.site_author_type == 'p'].first_update_created_at, bins=bins)\n",
    "proportions = subset_counts / all_counts\n",
    "plt.plot(bin_edges[:-1], proportions, linestyle='-', linewidth=1, label='Patient')\n",
    "\n",
    "subset_counts, bin_edges = np.histogram(site_df[site_df.site_author_type == 'mixed'].first_update_created_at, bins=bins)\n",
    "proportions = subset_counts / all_counts\n",
    "plt.plot(bin_edges[:-1], proportions, linestyle='-', linewidth=1, label='Mixed')\n",
    "\n",
    "subset_counts, bin_edges = np.histogram(site_df[site_df.site_author_type == 'cg'].first_update_created_at, bins=bins)\n",
    "proportions = subset_counts / all_counts\n",
    "plt.plot(bin_edges[:-1], proportions, linestyle='-', linewidth=1, label='Caregiver')\n",
    "\n",
    "plt.legend(ncol=3, frameon=False)\n",
    "plt.ylabel(\"Proportion\")\n",
    "\n",
    "newline = '\\n'\n",
    "xticks = [datetime.fromisoformat(f\"{2005 + i // 2}-{'01' if i % 2 == 0 else '07'}-01\").timestamp() * 1000 for i in range((2016 - 2005) * 2 + 2)]\n",
    "plt.xticks(\n",
    "    xticks, \n",
    "    [f\"{newline if i%2 == 0 else ''}{datetime.utcfromtimestamp(be / 1000).strftime('%Y-%m')}\" for i, be in enumerate(xticks)])\n",
    "plt.show()"
   ]
  },
  {
   "cell_type": "code",
   "execution_count": 81,
   "metadata": {},
   "outputs": [
    {
     "name": "stdout",
     "output_type": "stream",
     "text": [
      "   cg 57042  74.09%\n",
      "    p 13937  18.10%\n",
      "mixed  6006   7.80%\n"
     ]
    }
   ],
   "source": [
    "# these are the percentages for sites created in the 2014-2016 range \n",
    "site_subset = site_df[(site_df.first_update_created_at >= subset_start_timestamp)&(site_df.first_update_created_at <= end_timestamp)]\n",
    "for label, count in Counter(site_subset.site_author_type).most_common():\n",
    "    print(f\"{label:>5} {count:>5}  {count / len(site_subset) * 100:>5.2f}%\")"
   ]
  },
  {
   "cell_type": "code",
   "execution_count": 82,
   "metadata": {},
   "outputs": [
    {
     "name": "stdout",
     "output_type": "stream",
     "text": [
      "   cg 245961  74.09%\n",
      "    p 57843  17.42%\n",
      "mixed 28157   8.48%\n"
     ]
    }
   ],
   "source": [
    "# these are the percentages for sites created in the full range \n",
    "site_subset = site_df[(site_df.first_update_created_at >= start_timestamp)&(site_df.first_update_created_at <= end_timestamp)]\n",
    "for label, count in Counter(site_subset.site_author_type).most_common():\n",
    "    print(f\"{label:>5} {count:>5}  {count / len(site_subset) * 100:>5.2f}%\")"
   ]
  },
  {
   "cell_type": "code",
   "execution_count": null,
   "metadata": {},
   "outputs": [],
   "source": [
    "# save the site author type dataframe\n",
    "author_type_dir = \"/home/srivbane/shared/caringbridge/data/projects/sna-social-support/author_type\"\n",
    "site_patient_proportions_filepath = os.path.join(author_type_dir, 'site_patient_proportions.df')\n",
    "site_df.to_feather(site_patient_proportions_filepath)\n",
    "print(\"Finished.\")"
   ]
  },
  {
   "cell_type": "code",
   "execution_count": 16,
   "metadata": {},
   "outputs": [
    {
     "data": {
      "text/plain": [
       "340414"
      ]
     },
     "execution_count": 16,
     "metadata": {},
     "output_type": "execute_result"
    }
   ],
   "source": [
    "# read the site author type dataframe\n",
    "author_type_dir = \"/home/srivbane/shared/caringbridge/data/projects/sna-social-support/author_type\"\n",
    "site_patient_proportions_filepath = os.path.join(author_type_dir, 'site_patient_proportions.df')\n",
    "site_author_type_df = pd.read_feather(site_patient_proportions_filepath)\n",
    "len(site_author_type_df)"
   ]
  },
  {
   "cell_type": "code",
   "execution_count": 17,
   "metadata": {},
   "outputs": [],
   "source": [
    "site_df = site_author_type_df"
   ]
  },
  {
   "cell_type": "markdown",
   "metadata": {},
   "source": [
    "## User labeling"
   ]
  },
  {
   "cell_type": "code",
   "execution_count": 52,
   "metadata": {},
   "outputs": [
    {
     "data": {
      "text/html": [
       "<div>\n",
       "<style scoped>\n",
       "    .dataframe tbody tr th:only-of-type {\n",
       "        vertical-align: middle;\n",
       "    }\n",
       "\n",
       "    .dataframe tbody tr th {\n",
       "        vertical-align: top;\n",
       "    }\n",
       "\n",
       "    .dataframe thead th {\n",
       "        text-align: right;\n",
       "    }\n",
       "</style>\n",
       "<table border=\"1\" class=\"dataframe\">\n",
       "  <thead>\n",
       "    <tr style=\"text-align: right;\">\n",
       "      <th></th>\n",
       "      <th>user_id</th>\n",
       "      <th>site_id</th>\n",
       "      <th>patient_proportion</th>\n",
       "      <th>site_total</th>\n",
       "    </tr>\n",
       "  </thead>\n",
       "  <tbody>\n",
       "    <tr>\n",
       "      <td>0</td>\n",
       "      <td>0</td>\n",
       "      <td>44</td>\n",
       "      <td>0.000000</td>\n",
       "      <td>72</td>\n",
       "    </tr>\n",
       "    <tr>\n",
       "      <td>1</td>\n",
       "      <td>0</td>\n",
       "      <td>102</td>\n",
       "      <td>0.369565</td>\n",
       "      <td>46</td>\n",
       "    </tr>\n",
       "    <tr>\n",
       "      <td>2</td>\n",
       "      <td>0</td>\n",
       "      <td>308</td>\n",
       "      <td>0.166667</td>\n",
       "      <td>12</td>\n",
       "    </tr>\n",
       "    <tr>\n",
       "      <td>3</td>\n",
       "      <td>0</td>\n",
       "      <td>664</td>\n",
       "      <td>0.000000</td>\n",
       "      <td>5</td>\n",
       "    </tr>\n",
       "    <tr>\n",
       "      <td>4</td>\n",
       "      <td>0</td>\n",
       "      <td>670</td>\n",
       "      <td>0.028571</td>\n",
       "      <td>315</td>\n",
       "    </tr>\n",
       "  </tbody>\n",
       "</table>\n",
       "</div>"
      ],
      "text/plain": [
       "   user_id  site_id  patient_proportion  site_total\n",
       "0        0       44            0.000000          72\n",
       "1        0      102            0.369565          46\n",
       "2        0      308            0.166667          12\n",
       "3        0      664            0.000000           5\n",
       "4        0      670            0.028571         315"
      ]
     },
     "execution_count": 52,
     "metadata": {},
     "output_type": "execute_result"
    }
   ],
   "source": [
    "user_site_df.head()"
   ]
  },
  {
   "cell_type": "code",
   "execution_count": 15,
   "metadata": {},
   "outputs": [],
   "source": [
    "is_shared_series = user_site_df[(user_site_df.site_total >= 10)&(user_site_df.user_id.isin(valid_user_ids))].groupby('user_id').agg({\n",
    "    'patient_proportion': lambda prop: np.any((prop < p_thresh)&(prop > cg_thresh))\n",
    "})['patient_proportion']"
   ]
  },
  {
   "cell_type": "code",
   "execution_count": 16,
   "metadata": {},
   "outputs": [
    {
     "data": {
      "text/plain": [
       "0.07906396354417583"
      ]
     },
     "execution_count": 16,
     "metadata": {},
     "output_type": "execute_result"
    }
   ],
   "source": [
    "# the percentage of users with at least one site that has both 10+ updates and is shared \n",
    "np.sum(is_shared_series) / len(is_shared_series)"
   ]
  },
  {
   "cell_type": "code",
   "execution_count": 18,
   "metadata": {},
   "outputs": [
    {
     "data": {
      "text/plain": [
       "0.5342367081096745"
      ]
     },
     "execution_count": 18,
     "metadata": {},
     "output_type": "execute_result"
    }
   ],
   "source": [
    "# This is an upper bound on account sharing, although it likely captures mostly classifier noise\n",
    "ub_is_shared_series = user_site_df[user_site_df.user_id.isin(valid_user_ids)].groupby('user_id').agg({\n",
    "    'patient_proportion': lambda prop: np.any((prop < 1.0)&(prop > 0.0))\n",
    "})['patient_proportion']\n",
    "# the percentage of users with at least one site that is \"shared\"\n",
    "np.sum(ub_is_shared_series) / len(ub_is_shared_series)"
   ]
  },
  {
   "cell_type": "code",
   "execution_count": 53,
   "metadata": {},
   "outputs": [
    {
     "data": {
      "text/plain": [
       "0.07464157087858257"
      ]
     },
     "execution_count": 53,
     "metadata": {},
     "output_type": "execute_result"
    }
   ],
   "source": [
    "# This is the actual Shared measure that's used\n",
    "# Note: This takes quite a long time to run\n",
    "is_shared_series = user_site_df[user_site_df.user_id.isin(valid_user_ids)].groupby('user_id').agg({\n",
    "    'patient_proportion': lambda prop: np.any((prop < p_thresh)&(prop > cg_thresh))\n",
    "})['patient_proportion']\n",
    "# the percentage of users with at least one site that is shared \n",
    "np.sum(is_shared_series) / len(is_shared_series)"
   ]
  },
  {
   "cell_type": "code",
   "execution_count": 54,
   "metadata": {},
   "outputs": [],
   "source": [
    "# dictionary mapping user_id -> is 1+ of user's sites \"shared\"\n",
    "is_user_shared_dict = is_shared_series.to_dict()"
   ]
  },
  {
   "cell_type": "code",
   "execution_count": 24,
   "metadata": {},
   "outputs": [
    {
     "data": {
      "text/html": [
       "<div>\n",
       "<style scoped>\n",
       "    .dataframe tbody tr th:only-of-type {\n",
       "        vertical-align: middle;\n",
       "    }\n",
       "\n",
       "    .dataframe tbody tr th {\n",
       "        vertical-align: top;\n",
       "    }\n",
       "\n",
       "    .dataframe thead th {\n",
       "        text-align: right;\n",
       "    }\n",
       "</style>\n",
       "<table border=\"1\" class=\"dataframe\">\n",
       "  <thead>\n",
       "    <tr style=\"text-align: right;\">\n",
       "      <th></th>\n",
       "      <th>user_id</th>\n",
       "      <th>site_id</th>\n",
       "      <th>patient_proportion</th>\n",
       "      <th>site_total</th>\n",
       "    </tr>\n",
       "  </thead>\n",
       "  <tbody>\n",
       "    <tr>\n",
       "      <td>167678</td>\n",
       "      <td>7915192</td>\n",
       "      <td>167871</td>\n",
       "      <td>0.125000</td>\n",
       "      <td>16</td>\n",
       "    </tr>\n",
       "    <tr>\n",
       "      <td>160340</td>\n",
       "      <td>7402987</td>\n",
       "      <td>158104</td>\n",
       "      <td>0.048780</td>\n",
       "      <td>41</td>\n",
       "    </tr>\n",
       "    <tr>\n",
       "      <td>411169</td>\n",
       "      <td>33336667</td>\n",
       "      <td>1137399</td>\n",
       "      <td>0.000000</td>\n",
       "      <td>37</td>\n",
       "    </tr>\n",
       "    <tr>\n",
       "      <td>168524</td>\n",
       "      <td>7973579</td>\n",
       "      <td>168921</td>\n",
       "      <td>0.066667</td>\n",
       "      <td>15</td>\n",
       "    </tr>\n",
       "    <tr>\n",
       "      <td>236596</td>\n",
       "      <td>15084802</td>\n",
       "      <td>343792</td>\n",
       "      <td>0.916667</td>\n",
       "      <td>12</td>\n",
       "    </tr>\n",
       "    <tr>\n",
       "      <td>182512</td>\n",
       "      <td>8935893</td>\n",
       "      <td>256334</td>\n",
       "      <td>0.000000</td>\n",
       "      <td>6</td>\n",
       "    </tr>\n",
       "    <tr>\n",
       "      <td>370075</td>\n",
       "      <td>29899452</td>\n",
       "      <td>936783</td>\n",
       "      <td>0.473684</td>\n",
       "      <td>19</td>\n",
       "    </tr>\n",
       "    <tr>\n",
       "      <td>295359</td>\n",
       "      <td>22435533</td>\n",
       "      <td>880259</td>\n",
       "      <td>0.000000</td>\n",
       "      <td>15</td>\n",
       "    </tr>\n",
       "    <tr>\n",
       "      <td>354147</td>\n",
       "      <td>28670467</td>\n",
       "      <td>884055</td>\n",
       "      <td>0.230769</td>\n",
       "      <td>13</td>\n",
       "    </tr>\n",
       "    <tr>\n",
       "      <td>269176</td>\n",
       "      <td>19045006</td>\n",
       "      <td>895346</td>\n",
       "      <td>0.083333</td>\n",
       "      <td>24</td>\n",
       "    </tr>\n",
       "  </tbody>\n",
       "</table>\n",
       "</div>"
      ],
      "text/plain": [
       "         user_id  site_id  patient_proportion  site_total\n",
       "167678   7915192   167871            0.125000          16\n",
       "160340   7402987   158104            0.048780          41\n",
       "411169  33336667  1137399            0.000000          37\n",
       "168524   7973579   168921            0.066667          15\n",
       "236596  15084802   343792            0.916667          12\n",
       "182512   8935893   256334            0.000000           6\n",
       "370075  29899452   936783            0.473684          19\n",
       "295359  22435533   880259            0.000000          15\n",
       "354147  28670467   884055            0.230769          13\n",
       "269176  19045006   895346            0.083333          24"
      ]
     },
     "execution_count": 24,
     "metadata": {},
     "output_type": "execute_result"
    }
   ],
   "source": [
    "# TODO investigate shared sites\n",
    "user_site_df.sample(n=10)"
   ]
  },
  {
   "cell_type": "code",
   "execution_count": 55,
   "metadata": {},
   "outputs": [],
   "source": [
    "result = user_site_df[user_site_df.user_id.isin(valid_user_ids)].groupby('user_id').agg(\n",
    "    {\n",
    "        'site_id': lambda group: len(group),\n",
    "        'site_total': lambda group: list(group),\n",
    "        'patient_proportion': lambda group: list(group)\n",
    "    })\n",
    "multisite_authors = result[result.site_id > 1]"
   ]
  },
  {
   "cell_type": "code",
   "execution_count": 56,
   "metadata": {
    "scrolled": true
   },
   "outputs": [
    {
     "name": "stderr",
     "output_type": "stream",
     "text": [
      "100%|██████████| 18691/18691 [01:00<00:00, 308.22it/s]\n"
     ]
    }
   ],
   "source": [
    "user_stats = []\n",
    "for user_id, site_totals, patient_proportions in tqdm(zip(multisite_authors.index, multisite_authors.site_total, multisite_authors.patient_proportion), total=len(multisite_authors)):\n",
    "    total_sites = len(site_totals)\n",
    "    u_df = pd.DataFrame({'site_total': site_totals, 'patient_proportion': patient_proportions})\n",
    "    u_df = u_df[u_df.site_total >= 3]\n",
    "    has_p_site = np.any(u_df.patient_proportion >= p_thresh)\n",
    "    has_cg_site = np.any(u_df.patient_proportion <= cg_thresh)\n",
    "    has_mixed_site = np.any((u_df.patient_proportion > cg_thresh)&(u_df.patient_proportion < p_thresh))\n",
    "    d = {\n",
    "        'user_id': user_id,\n",
    "        'has_p_site': has_p_site,\n",
    "        'has_cg_site': has_cg_site,\n",
    "        'has_mixed_site': has_mixed_site,\n",
    "    }\n",
    "    user_stats.append(d)\n",
    "    "
   ]
  },
  {
   "cell_type": "code",
   "execution_count": 57,
   "metadata": {},
   "outputs": [
    {
     "data": {
      "text/plain": [
       "18691"
      ]
     },
     "execution_count": 57,
     "metadata": {},
     "output_type": "execute_result"
    }
   ],
   "source": [
    "multisite_df = pd.DataFrame(user_stats)\n",
    "len(multisite_df)"
   ]
  },
  {
   "cell_type": "code",
   "execution_count": 58,
   "metadata": {},
   "outputs": [
    {
     "data": {
      "text/html": [
       "<div>\n",
       "<style scoped>\n",
       "    .dataframe tbody tr th:only-of-type {\n",
       "        vertical-align: middle;\n",
       "    }\n",
       "\n",
       "    .dataframe tbody tr th {\n",
       "        vertical-align: top;\n",
       "    }\n",
       "\n",
       "    .dataframe thead th {\n",
       "        text-align: right;\n",
       "    }\n",
       "</style>\n",
       "<table border=\"1\" class=\"dataframe\">\n",
       "  <thead>\n",
       "    <tr style=\"text-align: right;\">\n",
       "      <th></th>\n",
       "      <th>user_id</th>\n",
       "      <th>has_p_site</th>\n",
       "      <th>has_cg_site</th>\n",
       "      <th>has_mixed_site</th>\n",
       "    </tr>\n",
       "  </thead>\n",
       "  <tbody>\n",
       "    <tr>\n",
       "      <td>9740</td>\n",
       "      <td>9458853</td>\n",
       "      <td>False</td>\n",
       "      <td>True</td>\n",
       "      <td>False</td>\n",
       "    </tr>\n",
       "    <tr>\n",
       "      <td>14866</td>\n",
       "      <td>25508457</td>\n",
       "      <td>False</td>\n",
       "      <td>True</td>\n",
       "      <td>False</td>\n",
       "    </tr>\n",
       "    <tr>\n",
       "      <td>4693</td>\n",
       "      <td>3505700</td>\n",
       "      <td>False</td>\n",
       "      <td>True</td>\n",
       "      <td>False</td>\n",
       "    </tr>\n",
       "    <tr>\n",
       "      <td>11175</td>\n",
       "      <td>13308626</td>\n",
       "      <td>False</td>\n",
       "      <td>True</td>\n",
       "      <td>False</td>\n",
       "    </tr>\n",
       "    <tr>\n",
       "      <td>10378</td>\n",
       "      <td>10744303</td>\n",
       "      <td>True</td>\n",
       "      <td>True</td>\n",
       "      <td>False</td>\n",
       "    </tr>\n",
       "    <tr>\n",
       "      <td>12109</td>\n",
       "      <td>16200805</td>\n",
       "      <td>False</td>\n",
       "      <td>True</td>\n",
       "      <td>False</td>\n",
       "    </tr>\n",
       "    <tr>\n",
       "      <td>18466</td>\n",
       "      <td>32928193</td>\n",
       "      <td>False</td>\n",
       "      <td>False</td>\n",
       "      <td>False</td>\n",
       "    </tr>\n",
       "    <tr>\n",
       "      <td>7363</td>\n",
       "      <td>6220885</td>\n",
       "      <td>False</td>\n",
       "      <td>True</td>\n",
       "      <td>True</td>\n",
       "    </tr>\n",
       "    <tr>\n",
       "      <td>10662</td>\n",
       "      <td>11605918</td>\n",
       "      <td>False</td>\n",
       "      <td>True</td>\n",
       "      <td>False</td>\n",
       "    </tr>\n",
       "    <tr>\n",
       "      <td>7860</td>\n",
       "      <td>6783758</td>\n",
       "      <td>False</td>\n",
       "      <td>True</td>\n",
       "      <td>False</td>\n",
       "    </tr>\n",
       "  </tbody>\n",
       "</table>\n",
       "</div>"
      ],
      "text/plain": [
       "        user_id  has_p_site  has_cg_site  has_mixed_site\n",
       "9740    9458853       False         True           False\n",
       "14866  25508457       False         True           False\n",
       "4693    3505700       False         True           False\n",
       "11175  13308626       False         True           False\n",
       "10378  10744303        True         True           False\n",
       "12109  16200805       False         True           False\n",
       "18466  32928193       False        False           False\n",
       "7363    6220885       False         True            True\n",
       "10662  11605918       False         True           False\n",
       "7860    6783758       False         True           False"
      ]
     },
     "execution_count": 58,
     "metadata": {},
     "output_type": "execute_result"
    }
   ],
   "source": [
    "multisite_df.sample(n=10)"
   ]
  },
  {
   "cell_type": "code",
   "execution_count": 59,
   "metadata": {},
   "outputs": [
    {
     "data": {
      "text/plain": [
       "0.1110694986892087"
      ]
     },
     "execution_count": 59,
     "metadata": {},
     "output_type": "execute_result"
    }
   ],
   "source": [
    "np.sum((multisite_df.has_p_site)&(multisite_df.has_cg_site)&(~has_mixed_site)) / len(multisite_df)"
   ]
  },
  {
   "cell_type": "code",
   "execution_count": 60,
   "metadata": {},
   "outputs": [
    {
     "data": {
      "text/plain": [
       "(2028, 0.10850141779466053)"
      ]
     },
     "execution_count": 60,
     "metadata": {},
     "output_type": "execute_result"
    }
   ],
   "source": [
    "subset = multisite_df[(multisite_df.has_p_site == True)&(multisite_df.has_cg_site == True)]\n",
    "assert len(subset) == np.sum(subset.has_p_site)\n",
    "assert len(subset) == np.sum(subset.has_cg_site)\n",
    "non_shared_mixed_authors = subset[~subset.has_mixed_site]\n",
    "len(non_shared_mixed_authors), len(non_shared_mixed_authors) / len(multisite_df)"
   ]
  },
  {
   "cell_type": "code",
   "execution_count": 61,
   "metadata": {},
   "outputs": [
    {
     "data": {
      "text/plain": [
       "(2028, 0)"
      ]
     },
     "execution_count": 61,
     "metadata": {},
     "output_type": "execute_result"
    }
   ],
   "source": [
    "non_shared_mixed_authors_df = user_df[user_df.user_id.isin(non_shared_mixed_authors.user_id)]\n",
    "len(non_shared_mixed_authors_df), np.sum(non_shared_mixed_authors_df.is_shared)"
   ]
  },
  {
   "cell_type": "code",
   "execution_count": 62,
   "metadata": {},
   "outputs": [
    {
     "data": {
      "text/html": [
       "<div>\n",
       "<style scoped>\n",
       "    .dataframe tbody tr th:only-of-type {\n",
       "        vertical-align: middle;\n",
       "    }\n",
       "\n",
       "    .dataframe tbody tr th {\n",
       "        vertical-align: top;\n",
       "    }\n",
       "\n",
       "    .dataframe thead th {\n",
       "        text-align: right;\n",
       "    }\n",
       "</style>\n",
       "<table border=\"1\" class=\"dataframe\">\n",
       "  <thead>\n",
       "    <tr style=\"text-align: right;\">\n",
       "      <th></th>\n",
       "      <th>user_id</th>\n",
       "      <th>patient_proportion</th>\n",
       "      <th>user_total</th>\n",
       "      <th>num_sites</th>\n",
       "      <th>user_author_type</th>\n",
       "      <th>is_shared</th>\n",
       "    </tr>\n",
       "  </thead>\n",
       "  <tbody>\n",
       "    <tr>\n",
       "      <td>38</td>\n",
       "      <td>107</td>\n",
       "      <td>0.500000</td>\n",
       "      <td>10</td>\n",
       "      <td>3</td>\n",
       "      <td>mixed</td>\n",
       "      <td>False</td>\n",
       "    </tr>\n",
       "    <tr>\n",
       "      <td>261</td>\n",
       "      <td>2331</td>\n",
       "      <td>0.701923</td>\n",
       "      <td>104</td>\n",
       "      <td>2</td>\n",
       "      <td>p</td>\n",
       "      <td>False</td>\n",
       "    </tr>\n",
       "    <tr>\n",
       "      <td>272</td>\n",
       "      <td>2495</td>\n",
       "      <td>0.272727</td>\n",
       "      <td>33</td>\n",
       "      <td>2</td>\n",
       "      <td>cg</td>\n",
       "      <td>False</td>\n",
       "    </tr>\n",
       "    <tr>\n",
       "      <td>403</td>\n",
       "      <td>4756</td>\n",
       "      <td>0.620690</td>\n",
       "      <td>174</td>\n",
       "      <td>2</td>\n",
       "      <td>mixed</td>\n",
       "      <td>False</td>\n",
       "    </tr>\n",
       "    <tr>\n",
       "      <td>704</td>\n",
       "      <td>12279</td>\n",
       "      <td>0.772727</td>\n",
       "      <td>88</td>\n",
       "      <td>2</td>\n",
       "      <td>p</td>\n",
       "      <td>False</td>\n",
       "    </tr>\n",
       "    <tr>\n",
       "      <td>...</td>\n",
       "      <td>...</td>\n",
       "      <td>...</td>\n",
       "      <td>...</td>\n",
       "      <td>...</td>\n",
       "      <td>...</td>\n",
       "      <td>...</td>\n",
       "    </tr>\n",
       "    <tr>\n",
       "      <td>356793</td>\n",
       "      <td>32941010</td>\n",
       "      <td>0.189189</td>\n",
       "      <td>37</td>\n",
       "      <td>2</td>\n",
       "      <td>cg</td>\n",
       "      <td>False</td>\n",
       "    </tr>\n",
       "    <tr>\n",
       "      <td>357044</td>\n",
       "      <td>32967465</td>\n",
       "      <td>0.285714</td>\n",
       "      <td>7</td>\n",
       "      <td>2</td>\n",
       "      <td>cg</td>\n",
       "      <td>False</td>\n",
       "    </tr>\n",
       "    <tr>\n",
       "      <td>357417</td>\n",
       "      <td>33012699</td>\n",
       "      <td>0.684211</td>\n",
       "      <td>57</td>\n",
       "      <td>2</td>\n",
       "      <td>p</td>\n",
       "      <td>False</td>\n",
       "    </tr>\n",
       "    <tr>\n",
       "      <td>359044</td>\n",
       "      <td>33220545</td>\n",
       "      <td>0.392857</td>\n",
       "      <td>28</td>\n",
       "      <td>3</td>\n",
       "      <td>mixed</td>\n",
       "      <td>False</td>\n",
       "    </tr>\n",
       "    <tr>\n",
       "      <td>359578</td>\n",
       "      <td>33253915</td>\n",
       "      <td>0.416667</td>\n",
       "      <td>12</td>\n",
       "      <td>2</td>\n",
       "      <td>mixed</td>\n",
       "      <td>False</td>\n",
       "    </tr>\n",
       "  </tbody>\n",
       "</table>\n",
       "<p>2028 rows × 6 columns</p>\n",
       "</div>"
      ],
      "text/plain": [
       "         user_id  patient_proportion  user_total  num_sites user_author_type  \\\n",
       "38           107            0.500000          10          3            mixed   \n",
       "261         2331            0.701923         104          2                p   \n",
       "272         2495            0.272727          33          2               cg   \n",
       "403         4756            0.620690         174          2            mixed   \n",
       "704        12279            0.772727          88          2                p   \n",
       "...          ...                 ...         ...        ...              ...   \n",
       "356793  32941010            0.189189          37          2               cg   \n",
       "357044  32967465            0.285714           7          2               cg   \n",
       "357417  33012699            0.684211          57          2                p   \n",
       "359044  33220545            0.392857          28          3            mixed   \n",
       "359578  33253915            0.416667          12          2            mixed   \n",
       "\n",
       "        is_shared  \n",
       "38          False  \n",
       "261         False  \n",
       "272         False  \n",
       "403         False  \n",
       "704         False  \n",
       "...           ...  \n",
       "356793      False  \n",
       "357044      False  \n",
       "357417      False  \n",
       "359044      False  \n",
       "359578      False  \n",
       "\n",
       "[2028 rows x 6 columns]"
      ]
     },
     "execution_count": 62,
     "metadata": {},
     "output_type": "execute_result"
    }
   ],
   "source": [
    "non_shared_mixed_authors_df"
   ]
  },
  {
   "cell_type": "code",
   "execution_count": 63,
   "metadata": {},
   "outputs": [
    {
     "data": {
      "text/plain": [
       "(0.07464157087858257, 0.07490927155059404)"
      ]
     },
     "execution_count": 63,
     "metadata": {},
     "output_type": "execute_result"
    }
   ],
   "source": [
    "np.sum(user_df.is_shared) / len(user_df), np.sum(user_df.user_author_type == 'mixed') / len(user_df)"
   ]
  },
  {
   "cell_type": "code",
   "execution_count": 64,
   "metadata": {},
   "outputs": [
    {
     "data": {
      "text/plain": [
       "0.9624713451157287"
      ]
     },
     "execution_count": 64,
     "metadata": {},
     "output_type": "execute_result"
    }
   ],
   "source": [
    "np.sum((user_df.is_shared)&(user_df.user_author_type == 'mixed')) / np.sum(user_df.is_shared)"
   ]
  },
  {
   "cell_type": "code",
   "execution_count": 65,
   "metadata": {},
   "outputs": [
    {
     "data": {
      "text/plain": [
       "0.9590317945695023"
      ]
     },
     "execution_count": 65,
     "metadata": {},
     "output_type": "execute_result"
    }
   ],
   "source": [
    "np.sum((user_df.is_shared)&(user_df.user_author_type == 'mixed')) / np.sum(user_df.user_author_type == 'mixed')"
   ]
  },
  {
   "cell_type": "code",
   "execution_count": 66,
   "metadata": {},
   "outputs": [
    {
     "data": {
      "text/plain": [
       "(0.9575780397377737, 0.0)"
      ]
     },
     "execution_count": 66,
     "metadata": {},
     "output_type": "execute_result"
    }
   ],
   "source": [
    "import scipy.stats\n",
    "x1 = user_df.user_author_type == 'mixed'\n",
    "x2 = user_df.is_shared\n",
    "scipy.stats.pearsonr(x1, x2)"
   ]
  },
  {
   "cell_type": "code",
   "execution_count": 67,
   "metadata": {},
   "outputs": [
    {
     "data": {
      "text/plain": [
       "362345"
      ]
     },
     "execution_count": 67,
     "metadata": {},
     "output_type": "execute_result"
    }
   ],
   "source": [
    "len(user_df)"
   ]
  },
  {
   "cell_type": "markdown",
   "metadata": {},
   "source": [
    "#### Now build the actual user author type dataframe"
   ]
  },
  {
   "cell_type": "code",
   "execution_count": 68,
   "metadata": {},
   "outputs": [],
   "source": [
    "user_proportions = journal_df.groupby('user_id').agg({\n",
    "    'predicted_label': lambda group: np.sum(group == 'p') / len(group),\n",
    "    'site_index': lambda group: len(group),\n",
    "    'site_id': lambda group: len(set(group))\n",
    "})\n",
    "# rename the resulting columns\n",
    "user_proportions = user_proportions.rename(columns={\n",
    "    'predicted_label': 'patient_proportion', \n",
    "    'site_index': 'user_total',\n",
    "    'site_id': 'num_sites'\n",
    "})"
   ]
  },
  {
   "cell_type": "code",
   "execution_count": 69,
   "metadata": {},
   "outputs": [
    {
     "data": {
      "text/plain": [
       "(362345, 0.9492876641987729)"
      ]
     },
     "execution_count": 69,
     "metadata": {},
     "output_type": "execute_result"
    }
   ],
   "source": [
    "user_df = user_proportions.reset_index(level=user_proportions.index.names)\n",
    "original_size = len(user_df)\n",
    "user_df = user_df[user_df.user_id.isin(valid_user_ids)]\n",
    "len(user_df), len(user_df) / original_size"
   ]
  },
  {
   "cell_type": "code",
   "execution_count": 113,
   "metadata": {},
   "outputs": [
    {
     "data": {
      "image/png": "[encoded data removed]",
      "text/plain": [
       "<Figure size 276.095x201.6 with 1 Axes>"
      ]
     },
     "metadata": {
      "needs_background": "light"
     },
     "output_type": "display_data"
    }
   ],
   "source": [
    "# TODO Show the distribution along with the thresholds\n",
    "fig, ax = plt.subplots(1, 1, figsize=(5.47807 * 0.7, 2.8))\n",
    "bins = np.linspace(0, 1, num=50)\n",
    "#ax.hist(user_df.patient_proportion, bins=bins, alpha=0.1, log=True, color='black')\n",
    "counts, edges, _ = ax.hist(user_df[user_df.user_total >= 1].patient_proportion, bins=bins, log=True, color='black', alpha=0.6)\n",
    "plt.axvline(0.35, color='black', linestyle=\"--\")\n",
    "plt.axvline(0.65, color='black', linestyle=\"--\")\n",
    "plt.text(0.5, np.max(counts) * 0.9, 'Mixed', verticalalignment='top', horizontalalignment='center')\n",
    "plt.text(1 / 3 / 2, np.max(counts) * 0.9, 'Caregiver', verticalalignment='top', horizontalalignment='center')\n",
    "plt.text(2 / 3 + (1 / 3 / 2), np.max(counts) * 0.9, 'Patient', verticalalignment='top', horizontalalignment='center')\n",
    "ax.set_xlabel(\"% patient-authored updates\")\n",
    "ax.set_ylabel(\"Valid author count\")\n",
    "\n",
    "plt.tight_layout(pad=0.5)\n",
    "plt.margins(0,0)\n",
    "fig.savefig(fname=os.path.join(figures_dir,\"pct_patient_authored_distribution.pdf\"), dpi=200, bbox_inches='tight', pad_inches = 0)     \n",
    "plt.show()"
   ]
  },
  {
   "cell_type": "code",
   "execution_count": 70,
   "metadata": {},
   "outputs": [],
   "source": [
    "user_types = []\n",
    "p_thresh = 0.66\n",
    "cg_thresh = 0.34\n",
    "\n",
    "user_subset = user_df\n",
    "for patient_proportion, user_total in zip(user_subset.patient_proportion, user_subset.user_total):\n",
    "    if patient_proportion >= p_thresh:\n",
    "        user_type = 'p'\n",
    "    elif patient_proportion > cg_thresh:\n",
    "        user_type = 'mixed'\n",
    "    else:\n",
    "        user_type = 'cg'\n",
    "    user_types.append(user_type)"
   ]
  },
  {
   "cell_type": "code",
   "execution_count": 71,
   "metadata": {},
   "outputs": [],
   "source": [
    "user_df['user_author_type'] = user_types"
   ]
  },
  {
   "cell_type": "code",
   "execution_count": 72,
   "metadata": {},
   "outputs": [
    {
     "name": "stdout",
     "output_type": "stream",
     "text": [
      "   cg 270922  74.77%\n",
      "    p 64280  17.74%\n",
      "mixed 27143   7.49%\n"
     ]
    }
   ],
   "source": [
    "# these are the percentages for all valid users\n",
    "for label, count in Counter(user_df.user_author_type).most_common():\n",
    "    print(f\"{label:>5} {count:>5}  {count / len(user_df) * 100:>5.2f}%\")"
   ]
  },
  {
   "cell_type": "code",
   "execution_count": 73,
   "metadata": {},
   "outputs": [
    {
     "name": "stdout",
     "output_type": "stream",
     "text": [
      "   cg 270922  74.77%  0.30%\n",
      "    p 64280  17.74%  0.30%\n",
      "mixed 27143   7.49% 95.90%\n"
     ]
    }
   ],
   "source": [
    "# what proportion of each user author type are shared?\n",
    "# fortunately, ALL user accounts that are shared are also classified as mixed overall\n",
    "# this implies that e.g. there aren't any users with e.g. two 10+ updates sites, one P, one CG, since that would be a mixed user but not a shared user\n",
    "# actually, this seems like it might be a bug of some kind\n",
    "# since I'm fairly sure such sites exist. Could be a classification bug, should check with users annotated earlier in the semester\n",
    "user_df['is_shared'] = user_df.user_id.map(lambda user_id: is_user_shared_dict[user_id])\n",
    "for label, count in Counter(user_df.user_author_type).most_common():\n",
    "    pct_shared = len(user_df[(user_df.user_author_type==label)&(user_df.is_shared)]) / count * 100\n",
    "    print(f\"{label:>5} {count:>5}  {count / len(user_df) * 100:>5.2f}% {pct_shared:>5.2f}%\")"
   ]
  },
  {
   "cell_type": "code",
   "execution_count": null,
   "metadata": {},
   "outputs": [],
   "source": [
    "# save the user author type dataframe\n",
    "author_type_dir = \"/home/srivbane/shared/caringbridge/data/projects/sna-social-support/author_type\"\n",
    "user_patient_proportions_filepath = os.path.join(author_type_dir, 'user_patient_proportions.df')\n",
    "user_df.reset_index(drop=True).to_feather(user_patient_proportions_filepath)\n",
    "print(\"Finished.\")"
   ]
  },
  {
   "cell_type": "code",
   "execution_count": 14,
   "metadata": {},
   "outputs": [
    {
     "data": {
      "text/plain": [
       "362345"
      ]
     },
     "execution_count": 14,
     "metadata": {},
     "output_type": "execute_result"
    }
   ],
   "source": [
    "# read the user author type dataframe\n",
    "author_type_dir = \"/home/srivbane/shared/caringbridge/data/projects/sna-social-support/author_type\"\n",
    "user_patient_proportions_filepath = os.path.join(author_type_dir, 'user_patient_proportions.df')\n",
    "user_df = pd.read_feather(user_patient_proportions_filepath)\n",
    "len(user_df)"
   ]
  },
  {
   "cell_type": "markdown",
   "metadata": {},
   "source": [
    "## Interactions and initiations between users and sites"
   ]
  },
  {
   "cell_type": "code",
   "execution_count": 18,
   "metadata": {},
   "outputs": [],
   "source": [
    "user_author_types_dict = {user_id: user_author_type for user_id, user_author_type in zip(user_df.user_id, user_df.user_author_type)}\n",
    "site_author_types_dict = {site_id: site_author_type for site_id, site_author_type in zip(site_df.site_id, site_df.site_author_type)}"
   ]
  },
  {
   "cell_type": "code",
   "execution_count": 19,
   "metadata": {},
   "outputs": [
    {
     "data": {
      "text/plain": [
       "28388948"
      ]
     },
     "execution_count": 19,
     "metadata": {},
     "output_type": "execute_result"
    }
   ],
   "source": [
    "metadata_dir = \"/home/srivbane/shared/caringbridge/data/projects/sna-social-support/user_metadata\"\n",
    "author_to_site = os.path.join(metadata_dir, \"interaction_metadata.h5\")\n",
    "ints_df = pd.read_hdf(author_to_site)\n",
    "len(ints_df)"
   ]
  },
  {
   "cell_type": "code",
   "execution_count": 20,
   "metadata": {},
   "outputs": [
    {
     "data": {
      "text/plain": [
       "8520563"
      ]
     },
     "execution_count": 20,
     "metadata": {},
     "output_type": "execute_result"
    }
   ],
   "source": [
    "ints = ints_df[(ints_df.site_id.isin(valid_site_ids))&(ints_df.user_id.isin(valid_user_ids))&(ints_df.int_type != \"journal\")&(~ints_df.is_self_interaction)]\n",
    "len(ints)"
   ]
  },
  {
   "cell_type": "code",
   "execution_count": 21,
   "metadata": {},
   "outputs": [
    {
     "name": "stderr",
     "output_type": "stream",
     "text": [
      "100%|██████████| 8520563/8520563 [00:18<00:00, 462315.05it/s]\n"
     ]
    },
    {
     "data": {
      "text/plain": [
       "array([[ 383438.,  158977.,  882661.],\n",
       "       [ 114305.,   76877.,  507960.],\n",
       "       [ 646366.,  490416., 5259563.]])"
      ]
     },
     "execution_count": 21,
     "metadata": {},
     "output_type": "execute_result"
    }
   ],
   "source": [
    "# interactions\n",
    "int_author_type_counts = np.zeros((3,3))\n",
    "author_type_label_order = ['p', 'mixed', 'cg']\n",
    "author_type_labels = ['P', 'Mixed', 'CG']\n",
    "for user_id, site_id in tqdm(zip(ints.user_id, ints.site_id), total=len(ints)):\n",
    "    user_author_type = user_author_types_dict[user_id]\n",
    "    site_author_type = site_author_types_dict[site_id]\n",
    "    user_ind = author_type_label_order.index(user_author_type)\n",
    "    site_ind = author_type_label_order.index(site_author_type)\n",
    "    int_author_type_counts[user_ind, site_ind] += 1\n",
    "int_author_type_counts"
   ]
  },
  {
   "cell_type": "code",
   "execution_count": 22,
   "metadata": {},
   "outputs": [
    {
     "data": {
      "text/plain": [
       "(830128, 0.09742642592983586)"
      ]
     },
     "execution_count": 22,
     "metadata": {},
     "output_type": "execute_result"
    }
   ],
   "source": [
    "inits = ints.sort_values(by='created_at', ascending=True).drop_duplicates(subset=['user_id', 'site_id'], keep='first')\n",
    "len(inits), len(inits) / len(ints)"
   ]
  },
  {
   "cell_type": "code",
   "execution_count": 23,
   "metadata": {},
   "outputs": [
    {
     "name": "stderr",
     "output_type": "stream",
     "text": [
      "100%|██████████| 830128/830128 [00:01<00:00, 436405.04it/s]\n"
     ]
    },
    {
     "data": {
      "text/plain": [
       "array([[ 32943.,  14609.,  80624.],\n",
       "       [ 10400.,   7313.,  46372.],\n",
       "       [ 66045.,  52554., 519268.]])"
      ]
     },
     "execution_count": 23,
     "metadata": {},
     "output_type": "execute_result"
    }
   ],
   "source": [
    "# initiations\n",
    "init_author_type_counts = np.zeros((3,3))\n",
    "for user_id, site_id in tqdm(zip(inits.user_id, inits.site_id), total=len(inits)):\n",
    "    user_author_type = user_author_types_dict[user_id]\n",
    "    site_author_type = site_author_types_dict[site_id]\n",
    "    user_ind = author_type_label_order.index(user_author_type)\n",
    "    site_ind = author_type_label_order.index(site_author_type)\n",
    "    init_author_type_counts[user_ind, site_ind] += 1\n",
    "init_author_type_counts"
   ]
  },
  {
   "cell_type": "code",
   "execution_count": 24,
   "metadata": {},
   "outputs": [],
   "source": [
    "# Construct colorplot for matrix plotting\n",
    "# This sets the colormap that will be used for the matrix plots below\n",
    "def truncate_colormap(cmap, minval=0.0, maxval=1.0, n=100):\n",
    "    new_cmap = matplotlib.colors.LinearSegmentedColormap.from_list(\n",
    "        'trunc({n},{a:.2f},{b:.2f})'.format(n=cmap.name, a=minval, b=maxval),\n",
    "        cmap(np.linspace(minval, maxval, n)))\n",
    "    return new_cmap\n",
    "new_cmap = truncate_colormap(plt.cm.Purples, 0, 0.6)"
   ]
  },
  {
   "cell_type": "code",
   "execution_count": 25,
   "metadata": {},
   "outputs": [
    {
     "data": {
      "image/png": "[encoded data removed]",
      "text/plain": [
       "<Figure size 288x288 with 1 Axes>"
      ]
     },
     "metadata": {
      "needs_background": "light"
     },
     "output_type": "display_data"
    }
   ],
   "source": [
    "int_author_type_pcts = int_author_type_counts / len(ints) * 100\n",
    "plt.matshow(int_author_type_pcts, cmap=new_cmap)\n",
    "plt.xlabel(\"Receiving Site Author Type\")\n",
    "plt.ylabel(\"Interacting User Author Type\")\n",
    "plt.xticks(ticks=[0, 1, 2], labels=author_type_labels)\n",
    "plt.yticks(ticks=[0, 1, 2], labels=author_type_labels)\n",
    "for i in range(3):  # user\n",
    "    for j in range(3):  # site\n",
    "        pct = f\"{int_author_type_pcts[i, j]:.2f}%\"\n",
    "        # sites are along the columns, users are along the rows\n",
    "        plt.text(j, i, pct, verticalalignment='center', horizontalalignment='center')\n",
    "\n",
    "plt.show()"
   ]
  },
  {
   "cell_type": "code",
   "execution_count": 26,
   "metadata": {},
   "outputs": [
    {
     "ename": "NameError",
     "evalue": "name 'fig' is not defined",
     "output_type": "error",
     "traceback": [
      "\u001b[0;31m---------------------------------------------------------------------------\u001b[0m",
      "\u001b[0;31mNameError\u001b[0m                                 Traceback (most recent call last)",
      "\u001b[0;32m<ipython-input-26-49d073d44586>\u001b[0m in \u001b[0;36m<module>\u001b[0;34m\u001b[0m\n\u001b[1;32m     18\u001b[0m \u001b[0mplt\u001b[0m\u001b[0;34m.\u001b[0m\u001b[0maxhline\u001b[0m\u001b[0;34m(\u001b[0m\u001b[0;36m1.5\u001b[0m\u001b[0;34m,\u001b[0m \u001b[0mcolor\u001b[0m\u001b[0;34m=\u001b[0m\u001b[0;34m'black'\u001b[0m\u001b[0;34m,\u001b[0m \u001b[0mlinewidth\u001b[0m\u001b[0;34m=\u001b[0m\u001b[0;36m1\u001b[0m\u001b[0;34m)\u001b[0m\u001b[0;34m\u001b[0m\u001b[0;34m\u001b[0m\u001b[0m\n\u001b[1;32m     19\u001b[0m \u001b[0;34m\u001b[0m\u001b[0m\n\u001b[0;32m---> 20\u001b[0;31m \u001b[0mfig\u001b[0m\u001b[0;34m.\u001b[0m\u001b[0msavefig\u001b[0m\u001b[0;34m(\u001b[0m\u001b[0mfname\u001b[0m\u001b[0;34m=\u001b[0m\u001b[0mos\u001b[0m\u001b[0;34m.\u001b[0m\u001b[0mpath\u001b[0m\u001b[0;34m.\u001b[0m\u001b[0mjoin\u001b[0m\u001b[0;34m(\u001b[0m\u001b[0mfigures_dir\u001b[0m\u001b[0;34m,\u001b[0m\u001b[0;34m\"interactions_by_type.pdf\"\u001b[0m\u001b[0;34m)\u001b[0m\u001b[0;34m,\u001b[0m \u001b[0mdpi\u001b[0m\u001b[0;34m=\u001b[0m\u001b[0;36m300\u001b[0m\u001b[0;34m,\u001b[0m \u001b[0mbbox_inches\u001b[0m\u001b[0;34m=\u001b[0m\u001b[0;34m'tight'\u001b[0m\u001b[0;34m,\u001b[0m \u001b[0mpad_inches\u001b[0m \u001b[0;34m=\u001b[0m \u001b[0;36m0\u001b[0m\u001b[0;34m)\u001b[0m\u001b[0;34m\u001b[0m\u001b[0;34m\u001b[0m\u001b[0m\n\u001b[0m\u001b[1;32m     21\u001b[0m \u001b[0mplt\u001b[0m\u001b[0;34m.\u001b[0m\u001b[0mshow\u001b[0m\u001b[0;34m(\u001b[0m\u001b[0;34m)\u001b[0m\u001b[0;34m\u001b[0m\u001b[0;34m\u001b[0m\u001b[0m\n",
      "\u001b[0;31mNameError\u001b[0m: name 'fig' is not defined"
     ]
    },
    {
     "data": {
      "image/png": "[encoded data removed]",
      "text/plain": [
       "<Figure size 288x288 with 1 Axes>"
      ]
     },
     "metadata": {
      "needs_background": "light"
     },
     "output_type": "display_data"
    }
   ],
   "source": [
    "int_author_type_pcts = int_author_type_counts.copy()\n",
    "for i in range(3):\n",
    "    user_type_int_total = int_author_type_counts[i,:].sum()\n",
    "    int_author_type_pcts[i,:] = int_author_type_counts[i,:] / user_type_int_total * 100\n",
    "plt.matshow(int_author_type_pcts, cmap=new_cmap)\n",
    "plt.xlabel(\"Receiving Site Author Type\")\n",
    "plt.ylabel(\"Interacting User Author Type\")\n",
    "plt.xticks(ticks=[0, 1, 2], labels=author_type_labels)\n",
    "plt.yticks(ticks=[0, 1, 2], labels=author_type_labels)\n",
    "for i in range(3):  # user\n",
    "    for j in range(3):  # site\n",
    "        pct = f\"{int_author_type_pcts[i, j]:.2f}%\"\n",
    "        # sites are along the columns, users are along the rows\n",
    "        plt.text(j, i, pct, verticalalignment='bottom', horizontalalignment='center')\n",
    "        count = f\"{int(int_author_type_counts[i, j] / 1000):,}K\"\n",
    "        plt.text(j, i, count, verticalalignment='top', horizontalalignment='center')\n",
    "plt.axhline(0.5, color='black', linewidth=1)\n",
    "plt.axhline(1.5, color='black', linewidth=1)\n",
    "\n",
    "fig.savefig(fname=os.path.join(figures_dir,\"interactions_by_type.pdf\"), dpi=300, bbox_inches='tight', pad_inches = 0)     \n",
    "plt.show()"
   ]
  },
  {
   "cell_type": "code",
   "execution_count": 36,
   "metadata": {},
   "outputs": [
    {
     "data": {
      "image/png": "[encoded data removed]",
      "text/plain": [
       "<Figure size 394.421x201.6 with 1 Axes>"
      ]
     },
     "metadata": {
      "needs_background": "light"
     },
     "output_type": "display_data"
    }
   ],
   "source": [
    "# this shows the percentage of initiations from users to each type of site, broken down by initiating user type \n",
    "fig, ax = plt.subplots(1, 1, figsize=(5.47807, 2.8))\n",
    "\n",
    "init_author_type_pcts = init_author_type_counts.copy()\n",
    "for i in range(3):\n",
    "    user_type_init_total = init_author_type_pcts[i,:].sum()\n",
    "    init_author_type_pcts[i,:] = init_author_type_pcts[i,:] / user_type_init_total * 100\n",
    "ax.matshow(init_author_type_pcts, cmap=new_cmap)\n",
    "plt.xlabel(\"Receiving Site Author Type\")\n",
    "plt.ylabel(\"Initiating User Author Type\")\n",
    "site_labels = [f\"{display_label}\\n{int(np.sum(site_df.site_author_type == label)/1000):,}K\\n({np.sum(site_df.site_author_type == label) / len(site_df) * 100:.1f}%)\"\n",
    "               for display_label, label\n",
    "               in zip(author_type_labels, author_type_label_order)\n",
    "              ]\n",
    "user_labels = [f\"{display_label}\\n{int(np.sum(user_df.user_author_type == label)/1000):,}K\\n({np.sum(user_df.user_author_type == label) / len(user_df) * 100:.1f}%)\"\n",
    "               for display_label, label\n",
    "               in zip(author_type_labels, author_type_label_order)\n",
    "              ]\n",
    "plt.xticks(ticks=[0, 1, 2], labels=site_labels)\n",
    "plt.yticks(ticks=[0, 1, 2], labels=user_labels)\n",
    "for i in range(3):  # user\n",
    "    for j in range(3):  # site\n",
    "        pct = f\"{init_author_type_pcts[i, j]:.2f}%\"\n",
    "        plt.text(j, i, pct, verticalalignment='bottom', horizontalalignment='center')\n",
    "        count = f\"{int(init_author_type_counts[i, j] / 1000):,}K\"\n",
    "        plt.text(j, i, count, verticalalignment='top', horizontalalignment='center')\n",
    "plt.axhline(0.5, color='black', linewidth=1)\n",
    "plt.axhline(1.5, color='black', linewidth=1)\n",
    "\n",
    "plt.tight_layout(pad=0)\n",
    "plt.margins(0,0)\n",
    "fig.savefig(fname=os.path.join(figures_dir,\"initiations_author_role_matrix.pdf\"), dpi=200, bbox_inches='tight', pad_inches = 0)     \n",
    "plt.show()"
   ]
  },
  {
   "cell_type": "code",
   "execution_count": null,
   "metadata": {},
   "outputs": [],
   "source": []
  },
  {
   "cell_type": "code",
   "execution_count": 93,
   "metadata": {},
   "outputs": [
    {
     "data": {
      "text/plain": [
       "0.17439353258091617"
      ]
     },
     "execution_count": 93,
     "metadata": {},
     "output_type": "execute_result"
    }
   ],
   "source": [
    "total_patient_sites = np.sum(site_df.site_author_type == 'p')\n",
    "pct_patient_sites = total_patient_sites / len(site_df)\n",
    "pct_patient_sites"
   ]
  },
  {
   "cell_type": "code",
   "execution_count": 94,
   "metadata": {},
   "outputs": [
    {
     "data": {
      "text/plain": [
       "0.7405512111722785"
      ]
     },
     "execution_count": 94,
     "metadata": {},
     "output_type": "execute_result"
    }
   ],
   "source": [
    "total_cg_sites = np.sum(site_df.site_author_type == 'cg')\n",
    "pct_cg_sites = total_cg_sites / len(site_df)\n",
    "pct_cg_sites"
   ]
  },
  {
   "cell_type": "code",
   "execution_count": 95,
   "metadata": {},
   "outputs": [
    {
     "data": {
      "text/plain": [
       "32943.0"
      ]
     },
     "execution_count": 95,
     "metadata": {},
     "output_type": "execute_result"
    }
   ],
   "source": [
    "# Patients are X% more likely to connect with patient sites than caregiver sites, \n",
    "# relative to the frequency of those sites.\n",
    "p_site_inits = init_author_type_counts[0,0]\n",
    "cg_site_inits = init_author_type_counts[0,2]\n",
    "p_site_inits"
   ]
  },
  {
   "cell_type": "code",
   "execution_count": 96,
   "metadata": {},
   "outputs": [
    {
     "data": {
      "text/plain": [
       "8.262026095297475"
      ]
     },
     "execution_count": 96,
     "metadata": {},
     "output_type": "execute_result"
    }
   ],
   "source": [
    "init_author_type_pcts[0,0] - (pct_patient_sites * 100)"
   ]
  },
  {
   "cell_type": "code",
   "execution_count": 97,
   "metadata": {},
   "outputs": [
    {
     "data": {
      "text/plain": [
       "-11.154110007503732"
      ]
     },
     "execution_count": 97,
     "metadata": {},
     "output_type": "execute_result"
    }
   ],
   "source": [
    "init_author_type_pcts[0,2] - (pct_cg_sites * 100)"
   ]
  },
  {
   "cell_type": "code",
   "execution_count": 98,
   "metadata": {},
   "outputs": [
    {
     "data": {
      "text/plain": [
       "19.416136102801207"
      ]
     },
     "execution_count": 98,
     "metadata": {},
     "output_type": "execute_result"
    }
   ],
   "source": [
    "# Patient authors are 19.4% more likely to connect with patient sites than caregiver sites\n",
    "(init_author_type_pcts[0,0] - (pct_patient_sites * 100)) - (init_author_type_pcts[0,2] - (pct_cg_sites * 100))"
   ]
  },
  {
   "cell_type": "code",
   "execution_count": 99,
   "metadata": {},
   "outputs": [
    {
     "data": {
      "text/plain": [
       "14.437131883286561"
      ]
     },
     "execution_count": 99,
     "metadata": {},
     "output_type": "execute_result"
    }
   ],
   "source": [
    "# Caregiver authors are 14.4% more likely to connect with caregiver sites than patient sites\n",
    "(init_author_type_pcts[2,2] - (pct_cg_sites * 100)) - (init_author_type_pcts[2,0] - (pct_patient_sites * 100))"
   ]
  },
  {
   "cell_type": "code",
   "execution_count": 100,
   "metadata": {},
   "outputs": [
    {
     "data": {
      "text/plain": [
       "2.118107135685825"
      ]
     },
     "execution_count": 100,
     "metadata": {},
     "output_type": "execute_result"
    }
   ],
   "source": [
    "(init_author_type_counts[0,0] / total_patient_sites)  / (init_author_type_counts[2,0] / total_cg_sites)"
   ]
  },
  {
   "cell_type": "code",
   "execution_count": null,
   "metadata": {},
   "outputs": [],
   "source": []
  },
  {
   "cell_type": "markdown",
   "metadata": {},
   "source": [
    "## Old approach to user labeling"
   ]
  },
  {
   "cell_type": "code",
   "execution_count": null,
   "metadata": {},
   "outputs": [],
   "source": [
    "def compute_author_type(group):\n",
    "    if len(group) == 1:\n",
    "        site = group.iloc[0]\n",
    "        patient_proportion = site.patient_proportion\n",
    "        if patient_proportion >= 0.8:\n",
    "            return 'p'\n",
    "        elif patient_proportion >= 0.2:\n",
    "            return 'shared'\n",
    "        else:\n",
    "            return 'cg'\n",
    "    else:  # multiple sites on which this user has authored!\n",
    "        is_shared = np.any((group.patient_proportion < 0.8)&(group.patient_proportion > 0.2))\n",
    "        if is_shared:\n",
    "            return 'shared'\n",
    "        if np.sum(group.patient_proportion >= 0.8) / len(group) >= 0.5:\n",
    "            return 'p'\n",
    "        else:\n",
    "            return 'cg'"
   ]
  },
  {
   "cell_type": "code",
   "execution_count": null,
   "metadata": {},
   "outputs": [],
   "source": [
    "author_type_series = user_df.groupby('user_id').apply(compute_author_type)"
   ]
  },
  {
   "cell_type": "code",
   "execution_count": null,
   "metadata": {},
   "outputs": [],
   "source": [
    "for key, value in Counter(author_type_series).most_common():\n",
    "    print(key, value / len(author_type_series))"
   ]
  },
  {
   "cell_type": "code",
   "execution_count": null,
   "metadata": {},
   "outputs": [],
   "source": [
    "author_type_df = author_type_series.rename(\"author_type\").reset_index()\n",
    "author_type_df.head()"
   ]
  },
  {
   "cell_type": "code",
   "execution_count": null,
   "metadata": {},
   "outputs": [],
   "source": []
  },
  {
   "cell_type": "code",
   "execution_count": null,
   "metadata": {},
   "outputs": [],
   "source": []
  },
  {
   "cell_type": "code",
   "execution_count": null,
   "metadata": {},
   "outputs": [],
   "source": [
    "# save the author type data\n",
    "author_type_dir = \"/home/srivbane/shared/caringbridge/data/projects/sna-social-support/author_type\"\n",
    "author_type_dataframe_filepath = os.path.join(author_type_dir, 'author_types.df')\n",
    "author_type_df.to_feather(author_type_dataframe_filepath)\n",
    "print(\"Finished.\")"
   ]
  },
  {
   "cell_type": "code",
   "execution_count": null,
   "metadata": {},
   "outputs": [],
   "source": [
    "# read the author type data\n",
    "author_type_dir = \"/home/srivbane/shared/caringbridge/data/projects/sna-social-support/author_type\"\n",
    "author_type_dataframe_filepath = os.path.join(author_type_dir, 'author_types.df')\n",
    "author_type_df = pd.read_feather(author_type_dataframe_filepath)\n",
    "len(author_type_df)"
   ]
  },
  {
   "cell_type": "code",
   "execution_count": null,
   "metadata": {},
   "outputs": [],
   "source": []
  },
  {
   "cell_type": "code",
   "execution_count": null,
   "metadata": {},
   "outputs": [],
   "source": []
  }
 ],
 "metadata": {
  "kernelspec": {
   "display_name": "Python (shared-conda)",
   "language": "python",
   "name": "shared-conda"
  },
  "language_info": {
   "codemirror_mode": {
    "name": "ipython",
    "version": 3
   },
   "file_extension": ".py",
   "mimetype": "text/x-python",
   "name": "python",
   "nbconvert_exporter": "python",
   "pygments_lexer": "ipython3",
   "version": "3.7.3"
  }
 },
 "nbformat": 4,
 "nbformat_minor": 2
}
