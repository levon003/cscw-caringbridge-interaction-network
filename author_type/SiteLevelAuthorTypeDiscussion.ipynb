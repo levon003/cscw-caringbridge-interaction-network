{
 "cells": [
  {
   "cell_type": "markdown",
   "metadata": {},
   "source": [
    "Site Level Author Type Discussion\n",
    "===\n",
    "\n",
    "Notebook for discussing disagreements in initial training set.\n",
    "\n",
    "This stuff didn't make the paper."
   ]
  },
  {
   "cell_type": "code",
   "execution_count": 2,
   "metadata": {},
   "outputs": [],
   "source": [
    "%reload_ext autoreload\n",
    "%autoreload 2\n",
    "%matplotlib inline"
   ]
  },
  {
   "cell_type": "code",
   "execution_count": 3,
   "metadata": {},
   "outputs": [],
   "source": [
    "import os\n",
    "import re\n",
    "import pandas as pd\n",
    "import numpy as np\n",
    "\n",
    "import sklearn\n",
    "from sklearn.model_selection import train_test_split\n",
    "\n",
    "from collections import Counter\n",
    "import sqlite3\n",
    "from nltk import word_tokenize\n",
    "from html.parser import HTMLParser\n",
    "from tqdm import tqdm\n",
    "import random\n",
    "import pickle\n",
    "import json\n",
    "\n",
    "from datetime import datetime\n",
    "from pprint import pprint\n",
    "\n",
    "import matplotlib.pyplot as plt\n",
    "import matplotlib.dates as md\n",
    "import matplotlib\n",
    "import pylab as pl\n",
    "from IPython.core.display import display, HTML"
   ]
  },
  {
   "cell_type": "code",
   "execution_count": 4,
   "metadata": {},
   "outputs": [],
   "source": [
    "import sys\n",
    "sys.path.append(\"/home/srivbane/levon003/repos/qual-health-journeys/annotation_data\")\n",
    "import journal as journal_utils\n",
    "import db as db_utils"
   ]
  },
  {
   "cell_type": "code",
   "execution_count": 5,
   "metadata": {},
   "outputs": [],
   "source": [
    "working_dir = \"/home/srivbane/shared/caringbridge/data/projects/sna-social-support/data_selection\"\n",
    "os.makedirs(working_dir, exist_ok=True)"
   ]
  },
  {
   "cell_type": "code",
   "execution_count": 77,
   "metadata": {},
   "outputs": [
    {
     "data": {
      "text/html": [
       "<div>\n",
       "<style scoped>\n",
       "    .dataframe tbody tr th:only-of-type {\n",
       "        vertical-align: middle;\n",
       "    }\n",
       "\n",
       "    .dataframe tbody tr th {\n",
       "        vertical-align: top;\n",
       "    }\n",
       "\n",
       "    .dataframe thead th {\n",
       "        text-align: right;\n",
       "    }\n",
       "</style>\n",
       "<table border=\"1\" class=\"dataframe\">\n",
       "  <thead>\n",
       "    <tr style=\"text-align: right;\">\n",
       "      <th></th>\n",
       "      <th>data</th>\n",
       "      <th>id</th>\n",
       "      <th>journal_oid</th>\n",
       "      <th>site_id</th>\n",
       "      <th>username</th>\n",
       "    </tr>\n",
       "  </thead>\n",
       "  <tbody>\n",
       "    <tr>\n",
       "      <th>7352</th>\n",
       "      <td>cg</td>\n",
       "      <td>29706</td>\n",
       "      <td>51bdf3e56ca0048f4e00ceca</td>\n",
       "      <td>1</td>\n",
       "      <td>levon003</td>\n",
       "    </tr>\n",
       "    <tr>\n",
       "      <th>7351</th>\n",
       "      <td>cg</td>\n",
       "      <td>29705</td>\n",
       "      <td>51bdf3e56ca0048f4e00ced4</td>\n",
       "      <td>1</td>\n",
       "      <td>levon003</td>\n",
       "    </tr>\n",
       "    <tr>\n",
       "      <th>7353</th>\n",
       "      <td>cg</td>\n",
       "      <td>29707</td>\n",
       "      <td>51bdf3e56ca0048f4e00d2c8</td>\n",
       "      <td>1</td>\n",
       "      <td>levon003</td>\n",
       "    </tr>\n",
       "    <tr>\n",
       "      <th>7442</th>\n",
       "      <td>unk</td>\n",
       "      <td>29844</td>\n",
       "      <td>51bdf72d6ca004d458006a20</td>\n",
       "      <td>13741</td>\n",
       "      <td>levon003</td>\n",
       "    </tr>\n",
       "    <tr>\n",
       "      <th>7410</th>\n",
       "      <td>p</td>\n",
       "      <td>29812</td>\n",
       "      <td>51bdf72d6ca004d458006a7c</td>\n",
       "      <td>13741</td>\n",
       "      <td>levon003</td>\n",
       "    </tr>\n",
       "  </tbody>\n",
       "</table>\n",
       "</div>"
      ],
      "text/plain": [
       "     data     id               journal_oid  site_id  username\n",
       "7352   cg  29706  51bdf3e56ca0048f4e00ceca        1  levon003\n",
       "7351   cg  29705  51bdf3e56ca0048f4e00ced4        1  levon003\n",
       "7353   cg  29707  51bdf3e56ca0048f4e00d2c8        1  levon003\n",
       "7442  unk  29844  51bdf72d6ca004d458006a20    13741  levon003\n",
       "7410    p  29812  51bdf72d6ca004d458006a7c    13741  levon003"
      ]
     },
     "execution_count": 77,
     "metadata": {},
     "output_type": "execute_result"
    }
   ],
   "source": [
    "annotation_web_client_database = \"/home/srivbane/shared/caringbridge/data/projects/qual-health-journeys/instance/cbAnnotator.sqlite\"\n",
    "\n",
    "\n",
    "def get_annotation_db():\n",
    "    db = sqlite3.connect(\n",
    "            annotation_web_client_database,\n",
    "            detect_types=sqlite3.PARSE_DECLTYPES\n",
    "        )\n",
    "    db.row_factory = sqlite3.Row\n",
    "    return db\n",
    "\n",
    "\n",
    "def get_author_annotations():\n",
    "    try:\n",
    "        db = get_annotation_db()\n",
    "        cursor = db.execute(\n",
    "            \"\"\"SELECT id, site_id, journal_oid, username, data \n",
    "                FROM journalAnnotation\n",
    "                WHERE annotation_type = \"journal_author_type\"\n",
    "                GROUP BY site_id, journal_oid, username, id\"\"\")\n",
    "        journal_author_annotations = cursor.fetchall()\n",
    "        annotation_strings = [{'id': a['id'],\n",
    "                               'site_id': a['site_id'], \n",
    "                               'journal_oid': a['journal_oid'], \n",
    "                               'username': a['username'],\n",
    "                               'data': a['data']}\n",
    "                              for a in journal_author_annotations]\n",
    "        df = pd.DataFrame(annotation_strings)\n",
    "        # here, we drop duplicates, taking the highest-id value for each site/journal/username group\n",
    "        filtered_df = df.sort_values(by=['site_id', 'journal_oid', 'username', 'id']).groupby(by=['site_id', 'journal_oid', 'username']).tail(1)\n",
    "        return filtered_df\n",
    "    finally:\n",
    "        db.close()\n",
    "\n",
    "\n",
    "# Test extraction of annotations\n",
    "get_author_annotations().head()"
   ]
  },
  {
   "cell_type": "code",
   "execution_count": 78,
   "metadata": {},
   "outputs": [
    {
     "data": {
      "text/plain": [
       "8019"
      ]
     },
     "execution_count": 78,
     "metadata": {},
     "output_type": "execute_result"
    }
   ],
   "source": [
    "df = get_author_annotations()\n",
    "len(df)"
   ]
  },
  {
   "cell_type": "code",
   "execution_count": 79,
   "metadata": {},
   "outputs": [],
   "source": [
    "# verify lack of duplicate entries\n",
    "for key, group in df.groupby(by=['site_id', 'journal_oid', 'username']):\n",
    "    if len(group) > 1:\n",
    "        print(key)\n",
    "        print(group)\n",
    "        assert False"
   ]
  },
  {
   "cell_type": "code",
   "execution_count": 65,
   "metadata": {},
   "outputs": [
    {
     "data": {
      "text/plain": [
       "[('p', 6467),\n",
       " ('cg', 1434),\n",
       " ('unk', 86),\n",
       " ('pcg', 20),\n",
       " ('all_cg', 10),\n",
       " ('all_p', 2)]"
      ]
     },
     "execution_count": 65,
     "metadata": {},
     "output_type": "execute_result"
    }
   ],
   "source": [
    "Counter(df.data).most_common()"
   ]
  },
  {
   "cell_type": "code",
   "execution_count": 66,
   "metadata": {},
   "outputs": [
    {
     "data": {
      "text/html": [
       "<div>\n",
       "<style scoped>\n",
       "    .dataframe tbody tr th:only-of-type {\n",
       "        vertical-align: middle;\n",
       "    }\n",
       "\n",
       "    .dataframe tbody tr th {\n",
       "        vertical-align: top;\n",
       "    }\n",
       "\n",
       "    .dataframe thead th {\n",
       "        text-align: right;\n",
       "    }\n",
       "</style>\n",
       "<table border=\"1\" class=\"dataframe\">\n",
       "  <thead>\n",
       "    <tr style=\"text-align: right;\">\n",
       "      <th></th>\n",
       "      <th>data</th>\n",
       "      <th>id</th>\n",
       "      <th>journal_oid</th>\n",
       "      <th>site_id</th>\n",
       "      <th>username</th>\n",
       "    </tr>\n",
       "  </thead>\n",
       "  <tbody>\n",
       "    <tr>\n",
       "      <th>7352</th>\n",
       "      <td>cg</td>\n",
       "      <td>29706</td>\n",
       "      <td>51bdf3e56ca0048f4e00ceca</td>\n",
       "      <td>1</td>\n",
       "      <td>levon003</td>\n",
       "    </tr>\n",
       "    <tr>\n",
       "      <th>7351</th>\n",
       "      <td>cg</td>\n",
       "      <td>29705</td>\n",
       "      <td>51bdf3e56ca0048f4e00ced4</td>\n",
       "      <td>1</td>\n",
       "      <td>levon003</td>\n",
       "    </tr>\n",
       "    <tr>\n",
       "      <th>7353</th>\n",
       "      <td>cg</td>\n",
       "      <td>29707</td>\n",
       "      <td>51bdf3e56ca0048f4e00d2c8</td>\n",
       "      <td>1</td>\n",
       "      <td>levon003</td>\n",
       "    </tr>\n",
       "    <tr>\n",
       "      <th>7442</th>\n",
       "      <td>unk</td>\n",
       "      <td>29844</td>\n",
       "      <td>51bdf72d6ca004d458006a20</td>\n",
       "      <td>13741</td>\n",
       "      <td>levon003</td>\n",
       "    </tr>\n",
       "    <tr>\n",
       "      <th>7410</th>\n",
       "      <td>p</td>\n",
       "      <td>29812</td>\n",
       "      <td>51bdf72d6ca004d458006a7c</td>\n",
       "      <td>13741</td>\n",
       "      <td>levon003</td>\n",
       "    </tr>\n",
       "  </tbody>\n",
       "</table>\n",
       "</div>"
      ],
      "text/plain": [
       "     data     id               journal_oid  site_id  username\n",
       "7352   cg  29706  51bdf3e56ca0048f4e00ceca        1  levon003\n",
       "7351   cg  29705  51bdf3e56ca0048f4e00ced4        1  levon003\n",
       "7353   cg  29707  51bdf3e56ca0048f4e00d2c8        1  levon003\n",
       "7442  unk  29844  51bdf72d6ca004d458006a20    13741  levon003\n",
       "7410    p  29812  51bdf72d6ca004d458006a7c    13741  levon003"
      ]
     },
     "execution_count": 66,
     "metadata": {},
     "output_type": "execute_result"
    }
   ],
   "source": [
    "df.head()"
   ]
  },
  {
   "cell_type": "code",
   "execution_count": 74,
   "metadata": {},
   "outputs": [],
   "source": [
    "def get_webclient_url(site_id, journal_oid=None):\n",
    "    url = f\"127.0.0.1:5000/siteId/{site_id}\"\n",
    "    if journal_oid is not None:\n",
    "        url += f\"#{journal_oid}\"\n",
    "    return url"
   ]
  },
  {
   "cell_type": "markdown",
   "metadata": {},
   "source": [
    "### Load sites in the training set"
   ]
  },
  {
   "cell_type": "code",
   "execution_count": 69,
   "metadata": {},
   "outputs": [
    {
     "data": {
      "text/plain": [
       "10"
      ]
     },
     "execution_count": 69,
     "metadata": {},
     "output_type": "execute_result"
    }
   ],
   "source": [
    "annotation_assignment_dir = \"/home/srivbane/shared/caringbridge/data/projects/qual-health-journeys/instance/annotation_data/assignments/levon003\"\n",
    "fname = \"sna_author_type_train_n10.txt\"\n",
    "train_site_ids = []\n",
    "with open(os.path.join(annotation_assignment_dir, fname), 'r') as infile:\n",
    "    infile.readline()  # strip the header line\n",
    "    for line in infile:\n",
    "        line = line.strip()\n",
    "        if line.startswith('#') or line == \"\":\n",
    "            continue\n",
    "        site_id = int(line)\n",
    "        train_site_ids.append(site_id)\n",
    "len(train_site_ids)"
   ]
  },
  {
   "cell_type": "code",
   "execution_count": 70,
   "metadata": {},
   "outputs": [
    {
     "data": {
      "text/plain": [
       "24"
      ]
     },
     "execution_count": 70,
     "metadata": {},
     "output_type": "execute_result"
    }
   ],
   "source": [
    "len(df[df.journal_oid == 'site'])"
   ]
  },
  {
   "cell_type": "code",
   "execution_count": 71,
   "metadata": {},
   "outputs": [
    {
     "data": {
      "text/plain": [
       "880"
      ]
     },
     "execution_count": 71,
     "metadata": {},
     "output_type": "execute_result"
    }
   ],
   "source": [
    "train_df = df[df.site_id.isin(train_site_ids)]\n",
    "len(train_df)"
   ]
  },
  {
   "cell_type": "code",
   "execution_count": 75,
   "metadata": {},
   "outputs": [
    {
     "name": "stdout",
     "output_type": "stream",
     "text": [
      "  Site Id     Hannah       Zach          Agree?\n",
      "================================================================================\n",
      "    64076     all_cg         cg    DISAGREEMENT    127.0.0.1:5000/siteId/64076\n",
      "   378016     all_cg         cg    DISAGREEMENT    127.0.0.1:5000/siteId/378016\n",
      "  1041742         cg     all_cg    DISAGREEMENT    127.0.0.1:5000/siteId/1041742\n",
      "   594127     all_cg     all_cg               -    127.0.0.1:5000/siteId/594127\n",
      "    93134         cg     all_cg    DISAGREEMENT    127.0.0.1:5000/siteId/93134\n",
      "   848164         cg     all_cg    DISAGREEMENT    127.0.0.1:5000/siteId/848164\n",
      "  1115733        unk        unk               -    127.0.0.1:5000/siteId/1115733\n",
      "   170125         cg     all_cg    DISAGREEMENT    127.0.0.1:5000/siteId/170125\n",
      "   705855         cg     all_cg    DISAGREEMENT    127.0.0.1:5000/siteId/705855\n",
      "   609641          p      all_p    DISAGREEMENT    127.0.0.1:5000/siteId/609641\n"
     ]
    }
   ],
   "source": [
    "print(f\"{'Site Id':>9} {'Hannah':>10} {'Zach':>10} {'Agree?':>15}\")\n",
    "print(\"=\"*80)\n",
    "for site_id in train_site_ids:\n",
    "    site_df = train_df[train_df.site_id == site_id]\n",
    "    mill_df = site_df[site_df.username == 'mill6273']\n",
    "    levon003_df = site_df[site_df.username == 'levon003']\n",
    "    mill_site_annotation = mill_df[mill_df.journal_oid == 'site'].iloc[0]['data']\n",
    "    levon003_site_annotation = levon003_df[levon003_df.journal_oid == 'site'].iloc[0]['data']\n",
    "    is_agreement = mill_site_annotation == levon003_site_annotation\n",
    "    agreement_str = \"-\" if is_agreement else \"DISAGREEMENT\"\n",
    "    print(f\"{site_id:>9} {mill_site_annotation:>10} {levon003_site_annotation:>10} {agreement_str:>15}    {get_webclient_url(site_id)}\")"
   ]
  },
  {
   "cell_type": "code",
   "execution_count": 76,
   "metadata": {
    "scrolled": false
   },
   "outputs": [
    {
     "name": "stdout",
     "output_type": "stream",
     "text": [
      "Agrement for site 64076: 97.368%\n",
      "51be07406ca004300d008cbc         cg        unk  127.0.0.1:5000/siteId/64076#51be07406ca004300d008cbc\n",
      "\n",
      "\n",
      "Agrement for site 378016: 100.000%\n",
      "\n",
      "\n",
      "Agrement for site 1041742: 99.091%\n",
      "55ce152acb16b4f1728ab1e5        unk         cg  127.0.0.1:5000/siteId/1041742#55ce152acb16b4f1728ab1e5\n",
      "\n",
      "\n",
      "Agrement for site 594127: 100.000%\n",
      "\n",
      "\n",
      "Agrement for site 93134: 94.949%\n",
      "51be10256ca004c52800cee1        pcg         cg  127.0.0.1:5000/siteId/93134#51be10256ca004c52800cee1\n",
      "51be10256ca004c52800d166        pcg         cg  127.0.0.1:5000/siteId/93134#51be10256ca004c52800d166\n",
      "51be10256ca004c52800d441         cg        unk  127.0.0.1:5000/siteId/93134#51be10256ca004c52800d441\n",
      "51be10256ca004c52800d44f         cg        unk  127.0.0.1:5000/siteId/93134#51be10256ca004c52800d44f\n",
      "51be10266ca004c52800d573        pcg         cg  127.0.0.1:5000/siteId/93134#51be10266ca004c52800d573\n",
      "\n",
      "\n",
      "Agrement for site 848164: 100.000%\n",
      "\n",
      "\n",
      "Agrement for site 1115733: 100.000%\n",
      "\n",
      "\n",
      "Agrement for site 170125: 100.000%\n",
      "\n",
      "\n",
      "Agrement for site 705855: 100.000%\n",
      "\n",
      "\n",
      "Agrement for site 609641: 100.000%\n",
      "\n",
      "\n"
     ]
    }
   ],
   "source": [
    "for site_id in train_site_ids:\n",
    "    site_df = train_df[(train_df.site_id == site_id)&(train_df.journal_oid != 'site')]\n",
    "    mill_df = site_df[site_df.username == 'mill6273']\n",
    "    levon_df = site_df[site_df.username == 'levon003']\n",
    "    m = pd.merge(levon_df, mill_df, on='journal_oid', suffixes=(\"_levon\", \"_mill\"))\n",
    "    is_agreement_list = m.data_levon == m.data_mill\n",
    "    print(f\"Agrement for site {site_id}: {np.sum(is_agreement_list) / len(m) * 100:.3f}%\")\n",
    "    for journal_oid, mill_annotation, levon_annotation in zip(m.journal_oid, m.data_mill, m.data_levon):\n",
    "        is_agreement = mill_annotation == levon_annotation\n",
    "        if is_agreement:\n",
    "            continue\n",
    "        #agreement_str = \"-\" if is_agreement else \"DIS\"\n",
    "        print(f\"{journal_oid:>20} {mill_annotation:>10} {levon_annotation:>10}  {get_webclient_url(site_id, journal_oid)}\")    \n",
    "    print()\n",
    "    print()"
   ]
  },
  {
   "cell_type": "markdown",
   "metadata": {},
   "source": [
    "#### Notes from discussion:\n",
    "\n",
    "General guidance: No mindreading. Even if you suspect that the patient couldn't have written the post, unless the caregiver spells out clearly that they are the true author, tag posts as being authored by the person themselves.\n",
    "\n",
    "CG/P vs \"Unknown\": Probably more than a sentence, and that sentence should communicate something generally informative (and not just say \"Patient X asked me to pass these words on:\").  \n",
    "\n",
    "Nearly all 3rd-party text should be marked Unknown, unless the post is authored by a 3rd-party caregiver.  The \"one sentence rule\" above applies here; if there is substantive content in additional to the 3rd-party content (e.g. an informational quote, song lyrics, a bible verse), then tag it according to the author type of the substantive content.\n",
    "\n",
    "P/CG: \"Guest\" text from patients or caregivers that is being shared in a single update needs to be written with the INTENTION of being shared as a health-related (or not necessarily health-related) update.  e.g. it's not enough to quote a person's words unless that person was passing on those words to be shared.\n",
    "\n",
    "\n",
    "#### Raw notes:\n",
    "\n",
    "Who chose the words?\n",
    "\n",
    "No mindreading\n",
    "See: http://127.0.0.1:5000/siteId/64076#51be07406ca004300d0089b4\n",
    "and explicate this further\n",
    "\n",
    "how much caregiver presence is enough to indicate authorship?  Probably more than a sentence, and it should indicate something more informative than just that they are passing on the patients words.\n",
    "\n",
    "Nearly all 3rd-party text should be marked Unknown, unless the post is authored by a 3rd-party caregiver.\n",
    "\t\n",
    "\n",
    "P/CG: \"Guest\" text from patients or caregivers that is being shared in an update needs to be written with the INTENTION of being shared as a health-related (or not necessarily health-related) update.\n",
    "\n",
    "Does it matter if the patient is physically able to author posts?\n",
    "I argue no.\n",
    "\n",
    "Observation: Sites about very young kids seem different?\n",
    "Birth and early childhood illness issues seem different from other things, because the \"caregiver\" is essentially the person who needs support!\n",
    "\n",
    "\n",
    "Is \"guest post\" a type?\n",
    "\n",
    "\n",
    "Characterize: how sites START, how sites END, and what's in between.\n"
   ]
  },
  {
   "cell_type": "code",
   "execution_count": null,
   "metadata": {},
   "outputs": [],
   "source": []
  }
 ],
 "metadata": {
  "kernelspec": {
   "display_name": "Python (shared-conda)",
   "language": "python",
   "name": "shared-conda"
  },
  "language_info": {
   "codemirror_mode": {
    "name": "ipython",
    "version": 3
   },
   "file_extension": ".py",
   "mimetype": "text/x-python",
   "name": "python",
   "nbconvert_exporter": "python",
   "pygments_lexer": "ipython3",
   "version": "3.7.3"
  }
 },
 "nbformat": 4,
 "nbformat_minor": 2
}
