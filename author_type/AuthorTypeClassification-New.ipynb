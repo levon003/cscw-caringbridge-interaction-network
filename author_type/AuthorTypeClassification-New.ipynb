{
 "cells": [
  {
   "cell_type": "markdown",
   "metadata": {},
   "source": [
    "Author Type Classification\n",
    "===\n",
    "\n",
    "Notebook to build models for the author type classification.\n",
    "\n",
    "The problem can be thought of in multiple ways, but here it is modeled as a binary problem of separating patient-authored posts from posts authored by anyone else.\n",
    "\n",
    "(A general three-class model could include Patient, Caregiver, and Other/Unknown.  A fourth plausible class is \"P/CG\".)\n",
    "\n",
    "Current classification approach uses Vowpal Wabbit. Future approaches could try using sklearn or more sophisticated approaches if necessary.  (One could for example use PyStruct i.e. a structured prediction model that uses context to assign author labels.)"
   ]
  },
  {
   "cell_type": "code",
   "execution_count": 1,
   "metadata": {},
   "outputs": [],
   "source": [
    "%reload_ext autoreload\n",
    "%autoreload 2\n",
    "%matplotlib inline"
   ]
  },
  {
   "cell_type": "code",
   "execution_count": 2,
   "metadata": {},
   "outputs": [],
   "source": [
    "import os\n",
    "import re\n",
    "import pandas as pd\n",
    "import numpy as np\n",
    "\n",
    "import sklearn\n",
    "from sklearn.model_selection import train_test_split\n",
    "\n",
    "from collections import Counter\n",
    "import sqlite3\n",
    "from nltk import word_tokenize\n",
    "from html.parser import HTMLParser\n",
    "from tqdm import tqdm\n",
    "import random\n",
    "import pickle\n",
    "from datetime import datetime\n",
    "\n",
    "import matplotlib.pyplot as plt\n",
    "import matplotlib.dates as md\n",
    "import matplotlib\n",
    "import pylab as pl\n",
    "from IPython.core.display import display, HTML"
   ]
  },
  {
   "cell_type": "code",
   "execution_count": 3,
   "metadata": {},
   "outputs": [],
   "source": [
    "import sys\n",
    "sys.path.append(\"/home/srivbane/levon003/repos/qual-health-journeys/annotation_data\")\n",
    "import journal as journal_utils"
   ]
  },
  {
   "cell_type": "code",
   "execution_count": 4,
   "metadata": {},
   "outputs": [],
   "source": [
    "general_working_dir = \"/home/srivbane/shared/caringbridge/data/projects/sna-social-support/author_type\"\n",
    "vw_working_dir = os.path.join(general_working_dir, \"vw\")\n",
    "os.makedirs(vw_working_dir, exist_ok=True)"
   ]
  },
  {
   "cell_type": "code",
   "execution_count": 5,
   "metadata": {},
   "outputs": [],
   "source": [
    "use_cached_results = False  # set to true to load cached intermediate results from pickle rather than redoing the computations\n",
    "\n",
    "# Caching option specifically for instrumental support, since that's more intensive computationally\n",
    "use_cached_instrumental_support_results = True"
   ]
  },
  {
   "cell_type": "code",
   "execution_count": 6,
   "metadata": {},
   "outputs": [],
   "source": [
    "def get_db():\n",
    "    journal_wd=\"/home/srivbane/shared/caringbridge/data/projects/caringbridge_core\"\n",
    "    db_filename = os.path.join(journal_wd, \"journal_cleaned.sqlite\")\n",
    "    db = sqlite3.connect(\n",
    "            db_filename,\n",
    "            detect_types=sqlite3.PARSE_DECLTYPES\n",
    "        )\n",
    "    db.row_factory = sqlite3.Row\n",
    "    return db\n",
    "\n",
    "\n",
    "def get_journal_text(site_id, journal_oid):\n",
    "    site_id = int(site_id)\n",
    "    \n",
    "    # add journal text as new section\n",
    "    try:\n",
    "        db = get_db()\n",
    "        cursor = db.execute(\"\"\"SELECT body\n",
    "                                FROM journalTextCleaned \n",
    "                                WHERE site_id = ? AND journal_oid = ?\"\"\", \n",
    "                            (site_id, journal_oid))\n",
    "        body = cursor.fetchone()\n",
    "        assert body is not None\n",
    "        body_text = process_body_text(body['body'])\n",
    "        return body_text\n",
    "    finally:\n",
    "        db.close()\n",
    "        \n",
    "def get_journal_texts(site_id):\n",
    "    site_id = int(site_id)\n",
    "    \n",
    "    texts = []\n",
    "    try:\n",
    "        db = get_db()\n",
    "        cursor = db.execute(\"\"\"SELECT journal_oid, body\n",
    "                                FROM journalTextCleaned \n",
    "                                WHERE site_id = ?\"\"\", \n",
    "                            (site_id,))\n",
    "        results = cursor.fetchall()\n",
    "        assert results is not None\n",
    "        for result in results:\n",
    "            body_text = process_body_text(result['body'])\n",
    "            journal_oid = result['journal_oid']\n",
    "            texts.append({\n",
    "                'journal_oid': journal_oid,\n",
    "                'body': body_text\n",
    "            })\n",
    "        return texts\n",
    "    finally:\n",
    "        db.close()\n",
    "        \n",
    "\n",
    "DUMMY_JOURNAL1 = \"This CaringBridge site was created just recently.\"\n",
    "        \n",
    "def process_body_text(body_text):  # excludes invalid body texts, converting them to the empty string\n",
    "    if body_text is None:\n",
    "        body_text = \"\"\n",
    "    elif body_text.startswith(DUMMY_JOURNAL1):\n",
    "        body_text = \"\"\n",
    "    return body_text"
   ]
  },
  {
   "cell_type": "code",
   "execution_count": 7,
   "metadata": {},
   "outputs": [],
   "source": [
    "def get_cleaned_text_from_token_list(token_list):\n",
    "    cleaned_text = \" \".join(token_list).replace(':', 'COLON').replace('|', 'PIPE').replace(\"\\n\", \"NEWLINE \")\n",
    "    return cleaned_text\n",
    "\n",
    "def get_cleaned_text(text, lowercase=True):\n",
    "    tokens = text.split()\n",
    "    if lowercase:\n",
    "        tokens = [token.lower() for token in tokens]\n",
    "    cleaned_text = get_cleaned_text_from_token_list(tokens)\n",
    "    return cleaned_text"
   ]
  },
  {
   "cell_type": "markdown",
   "metadata": {},
   "source": [
    "### Load annotation client author types"
   ]
  },
  {
   "cell_type": "code",
   "execution_count": 23,
   "metadata": {},
   "outputs": [
    {
     "data": {
      "text/plain": [
       "[{'site_id': 382634,\n",
       "  'journal_oid': '51be46bf6ca004dd590026c5',\n",
       "  'username': 'levon003',\n",
       "  'data': 'p'},\n",
       " {'site_id': 260918,\n",
       "  'journal_oid': '51be39326ca004972c004e43',\n",
       "  'username': 'levon003',\n",
       "  'data': 'unk'},\n",
       " {'site_id': 902822,\n",
       "  'journal_oid': '54198aa2af3d79da10de22ce',\n",
       "  'username': 'levon003',\n",
       "  'data': 'p'},\n",
       " {'site_id': 902822,\n",
       "  'journal_oid': '54198a60ac7ee94e4120da68',\n",
       "  'username': 'levon003',\n",
       "  'data': 'unk'},\n",
       " {'site_id': 902822,\n",
       "  'journal_oid': '54f0e0fbf0206519299f25ec',\n",
       "  'username': 'levon003',\n",
       "  'data': 'p'}]"
      ]
     },
     "execution_count": 23,
     "metadata": {},
     "output_type": "execute_result"
    }
   ],
   "source": [
    "annotation_web_client_database = \"/home/srivbane/shared/caringbridge/data/projects/qual-health-journeys/instance/cbAnnotator.sqlite\"\n",
    "\n",
    "\n",
    "def get_annotation_db():\n",
    "    db = sqlite3.connect(\n",
    "            annotation_web_client_database,\n",
    "            detect_types=sqlite3.PARSE_DECLTYPES\n",
    "        )\n",
    "    db.row_factory = sqlite3.Row\n",
    "    return db\n",
    "\n",
    "\n",
    "def get_author_annotations():\n",
    "    try:\n",
    "        db = get_annotation_db()\n",
    "        cursor = db.execute(\n",
    "            \"\"\"SELECT site_id, journal_oid, username, data \n",
    "                FROM journalAnnotation\n",
    "                WHERE annotation_type = \"journal_author_type\"\n",
    "                GROUP BY site_id, journal_oid, username\n",
    "                ORDER BY id DESC\"\"\")\n",
    "        journal_author_annotations = cursor.fetchall()\n",
    "        annotation_strings = [{'site_id': a['site_id'], \n",
    "                               'journal_oid': a['journal_oid'], \n",
    "                               'username': a['username'],\n",
    "                               'data': a['data']}\n",
    "                              for a in journal_author_annotations if a['journal_oid'] != 'site']\n",
    "        return annotation_strings\n",
    "    finally:\n",
    "        db.close()\n",
    "\n",
    "\n",
    "# Test extraction of annotations\n",
    "get_author_annotations()[:5]"
   ]
  },
  {
   "cell_type": "code",
   "execution_count": 24,
   "metadata": {},
   "outputs": [
    {
     "data": {
      "text/plain": [
       "[('p', 6482), ('cg', 1418), ('unk', 85), ('pcg', 18)]"
      ]
     },
     "execution_count": 24,
     "metadata": {},
     "output_type": "execute_result"
    }
   ],
   "source": [
    "web_client_annotations_raw = get_author_annotations()\n",
    "Counter([a['data'] for a in web_client_annotations_raw]).most_common()"
   ]
  },
  {
   "cell_type": "code",
   "execution_count": 25,
   "metadata": {},
   "outputs": [
    {
     "name": "stdout",
     "output_type": "stream",
     "text": [
      "Made 0 arbitrary selections in situations of conflict.\n",
      "Preferred levon003's annotations in 26 situations of conflict.\n",
      "Skipped 11 obviously confused situations.\n"
     ]
    },
    {
     "data": {
      "text/plain": [
       "7013"
      ]
     },
     "execution_count": 25,
     "metadata": {},
     "output_type": "execute_result"
    }
   ],
   "source": [
    "df = pd.DataFrame(web_client_annotations_raw)\n",
    "\n",
    "skip_count = 0\n",
    "arbitrary_selection_count = 0\n",
    "levon003_preferred_selection_count = 0\n",
    "\n",
    "conflict_resolved_author_type_annotations = []\n",
    "for key, group in df.groupby(by=['site_id', 'journal_oid'], sort=False):\n",
    "    if len(group) == 1:\n",
    "        row = group.iloc[0]\n",
    "        entry = {'site_id': row['site_id'], \n",
    "           'journal_oid': row['journal_oid'], \n",
    "           'data': row['data']}\n",
    "        conflict_resolved_author_type_annotations.append(entry)\n",
    "    else:\n",
    "        assert len(group) > 1\n",
    "        group_data = set(group.data)\n",
    "        if len(group_data) == 1:\n",
    "            # multiple annotators, but they all agree\n",
    "            row = group.iloc[0]\n",
    "            entry = {'site_id': row['site_id'], \n",
    "               'journal_oid': row['journal_oid'], \n",
    "               'data': row['data']}\n",
    "            conflict_resolved_author_type_annotations.append(entry)\n",
    "        else:\n",
    "            # multiple annotators, and there is some disagreement\n",
    "            data, count = Counter(group_data).most_common()[0]\n",
    "            data = str(data)\n",
    "            assert \"memory\" not in data\n",
    "            if count == 1:\n",
    "                if \"p\" in group_data and \"cg\" in group_data:\n",
    "                    # we ignore obviously confused situations\n",
    "                    skip_count += 1\n",
    "                    continue\n",
    "                if \"levon003\" in set(group.username):\n",
    "                    # prefer levon003's annotations...\n",
    "                    levon003_preferred_selection_count += 1\n",
    "                    data = str(group[group.username == 'levon003'].iloc[0]['data'])\n",
    "                else:  # make an arbitrary choice\n",
    "                    arbitrary_selection_count += 1\n",
    "                    site_id = group.iloc[0].site_id\n",
    "                    journal_oid = group.iloc[0].journal_oid\n",
    "                    print(f\"127.0.0.1:5000/siteId/{site_id}#{journal_oid}\")\n",
    "            row = group.iloc[0]\n",
    "            entry = {'site_id': row['site_id'], \n",
    "               'journal_oid': row['journal_oid'], \n",
    "               'data': data}\n",
    "            conflict_resolved_author_type_annotations.append(entry)\n",
    "print(f\"Made {arbitrary_selection_count} arbitrary selections in situations of conflict.\")\n",
    "print(f\"Preferred levon003's annotations in {levon003_preferred_selection_count} situations of conflict.\")\n",
    "print(f\"Skipped {skip_count} obviously confused situations.\")\n",
    "len(conflict_resolved_author_type_annotations)"
   ]
  },
  {
   "cell_type": "code",
   "execution_count": 26,
   "metadata": {},
   "outputs": [
    {
     "data": {
      "text/plain": [
       "[('p', 5979), ('cg', 959), ('unk', 69), ('pcg', 6)]"
      ]
     },
     "execution_count": 26,
     "metadata": {},
     "output_type": "execute_result"
    }
   ],
   "source": [
    "Counter([t['data'] for t in conflict_resolved_author_type_annotations]).most_common()"
   ]
  },
  {
   "cell_type": "code",
   "execution_count": 27,
   "metadata": {},
   "outputs": [
    {
     "data": {
      "text/plain": [
       "defaultdict(int,\n",
       "            {'levon003': 573,\n",
       "             'naray114': 193,\n",
       "             'luoxx498': 235,\n",
       "             'vachh007': 113,\n",
       "             'rubya001': 177,\n",
       "             'eriks074': 3,\n",
       "             'mill6273': 429})"
      ]
     },
     "execution_count": 27,
     "metadata": {},
     "output_type": "execute_result"
    }
   ],
   "source": [
    "# agreement analysis\n",
    "from collections import defaultdict\n",
    "\n",
    "df = pd.DataFrame(web_client_annotations_raw)\n",
    "\n",
    "levon003 = []\n",
    "luoxx498 = []  # NOTE: the actual username is set by luoxx498_un\n",
    "luoxx498_un = \"mill6273\"  # Hannah Miller Hillberg\n",
    "\n",
    "num_annotators = []\n",
    "annotation_list = []\n",
    "annotator_counts = defaultdict(int)\n",
    "for key, group in df.groupby(by=['site_id', 'journal_oid'], sort=False):\n",
    "    if len(group) == 1:\n",
    "        continue\n",
    "    else:  # this journal has multiple annotators\n",
    "        annotations = [1 if data == 'p' else 0 for data in group.data]\n",
    "        total_p = sum(annotations)\n",
    "        total_not_p = len(annotations) - total_p\n",
    "        annotation_list.append((total_p, total_not_p))\n",
    "        assert len(set(group.username)) == len(group)\n",
    "        num_annotators.append(len(group))\n",
    "        for username, annotation in zip(group.username, annotations):\n",
    "            annotator_counts[username] += 1\n",
    "            \n",
    "        usernames = set(group.username)\n",
    "        \n",
    "        if \"levon003\" in usernames and luoxx498_un in usernames:\n",
    "            assert len(group[group.username == \"levon003\"]) == 1\n",
    "            assert len(group[group.username == luoxx498_un]) == 1\n",
    "            levon003.append(1 if group[group.username == \"levon003\"].iloc[0]['data'] == 'p' else 0)\n",
    "            luoxx498.append(1 if group[group.username == luoxx498_un].iloc[0]['data'] == 'p' else 0)\n",
    "annotator_counts"
   ]
  },
  {
   "cell_type": "code",
   "execution_count": 28,
   "metadata": {},
   "outputs": [
    {
     "name": "stdout",
     "output_type": "stream",
     "text": [
      "429 429\n",
      "0.9906759906759907\n"
     ]
    },
    {
     "data": {
      "text/plain": [
       "0.8285714285714285"
      ]
     },
     "execution_count": 28,
     "metadata": {},
     "output_type": "execute_result"
    }
   ],
   "source": [
    "from sklearn.metrics import cohen_kappa_score\n",
    "print(len(levon003), len(luoxx498))\n",
    "levon003, luoxx498 = np.array(levon003), np.array(luoxx498)\n",
    "print(np.sum(levon003 == luoxx498) / len(levon003))\n",
    "cohen_kappa_score(levon003, luoxx498)"
   ]
  },
  {
   "cell_type": "code",
   "execution_count": 29,
   "metadata": {},
   "outputs": [
    {
     "data": {
      "image/png": "[encoded data removed]",
      "text/plain": [
       "<Figure size 432x288 with 1 Axes>"
      ]
     },
     "metadata": {
      "needs_background": "light"
     },
     "output_type": "display_data"
    }
   ],
   "source": [
    "plt.hist(num_annotators, bins=range(1, 9), align='left')\n",
    "plt.title(\"Distribution of multiply-annotated updates for author type\")\n",
    "plt.xlabel(\"Number of annotators\")\n",
    "plt.ylabel(\"Update count\")\n",
    "plt.show()"
   ]
  },
  {
   "cell_type": "code",
   "execution_count": 30,
   "metadata": {
    "scrolled": true
   },
   "outputs": [
    {
     "name": "stderr",
     "output_type": "stream",
     "text": [
      "100%|██████████| 7013/7013 [01:45<00:00, 66.23it/s] \n"
     ]
    },
    {
     "data": {
      "text/plain": [
       "6932"
      ]
     },
     "execution_count": 30,
     "metadata": {},
     "output_type": "execute_result"
    }
   ],
   "source": [
    "web_client_annotation_list = []\n",
    "\n",
    "for annotation in tqdm(conflict_resolved_author_type_annotations):\n",
    "    site_id = annotation['site_id']\n",
    "    journal_oid = annotation['journal_oid']\n",
    "    body = get_journal_text(site_id, journal_oid)\n",
    "    if body is None or len(body) < 50:\n",
    "        continue\n",
    "        \n",
    "    label = annotation['data']\n",
    "    # One consideration: do we want to include unknown journals in the training data?\n",
    "    #if label == \"unk\":\n",
    "    #    continue\n",
    "        \n",
    "    cleaned_body = get_cleaned_text(body)\n",
    "    \n",
    "    annotation_dict = {\n",
    "        \"site_id\": annotation['site_id'],\n",
    "        \"journal_oid\": annotation['journal_oid'], \n",
    "        \"cleaned_body\": cleaned_body,\n",
    "        \"label\": label\n",
    "    }\n",
    "    web_client_annotation_list.append(annotation_dict)\n",
    "\n",
    "len(web_client_annotation_list)"
   ]
  },
  {
   "cell_type": "code",
   "execution_count": 31,
   "metadata": {
    "scrolled": false
   },
   "outputs": [
    {
     "name": "stdout",
     "output_type": "stream",
     "text": [
      "Saving to pickled file.\n",
      "Finished.\n"
     ]
    }
   ],
   "source": [
    "web_client_annotation_list_pickle_filepath = os.path.join(vw_working_dir, \"web_client_annotations.pkl\")\n",
    "\n",
    "if use_cached_results and os.path.exists(web_client_annotation_list_pickle_filepath):\n",
    "    print(\"Loading from pickled file.\")\n",
    "    with open(web_client_annotation_list_pickle_filepath, 'rb') as f:\n",
    "        web_client_annotation_list = pickle.load(f)\n",
    "else:  # should save the processed list\n",
    "    print(\"Saving to pickled file.\")\n",
    "    #df = pd.DataFrame(web_client_annotation_list)\n",
    "    #df.to_pickle(web_client_annotation_list_pickle_filepath)\n",
    "    with open(web_client_annotation_list_pickle_filepath, 'wb') as f:\n",
    "        pickle.dump(web_client_annotation_list, f)\n",
    "print(\"Finished.\")"
   ]
  },
  {
   "cell_type": "code",
   "execution_count": null,
   "metadata": {
    "scrolled": true
   },
   "outputs": [],
   "source": [
    "get_journal_text(28484, \"51bdfaee6ca004ae6400f06c\")"
   ]
  },
  {
   "cell_type": "code",
   "execution_count": null,
   "metadata": {},
   "outputs": [],
   "source": [
    "web_client_annotation_list[0]"
   ]
  },
  {
   "cell_type": "code",
   "execution_count": 34,
   "metadata": {},
   "outputs": [
    {
     "data": {
      "text/plain": [
       "6932"
      ]
     },
     "execution_count": 34,
     "metadata": {},
     "output_type": "execute_result"
    }
   ],
   "source": [
    "web_client_annotation_df = pd.DataFrame(web_client_annotation_list)\n",
    "len(web_client_annotation_df)"
   ]
  },
  {
   "cell_type": "code",
   "execution_count": 35,
   "metadata": {},
   "outputs": [
    {
     "data": {
      "text/plain": [
       "[('p', 5938), ('cg', 950), ('unk', 38), ('pcg', 6)]"
      ]
     },
     "execution_count": 35,
     "metadata": {},
     "output_type": "execute_result"
    }
   ],
   "source": [
    "Counter(web_client_annotation_df['label']).most_common()"
   ]
  },
  {
   "cell_type": "markdown",
   "metadata": {},
   "source": [
    "### Load instrumental support coding author types"
   ]
  },
  {
   "cell_type": "code",
   "execution_count": 36,
   "metadata": {},
   "outputs": [
    {
     "data": {
      "text/plain": [
       "732"
      ]
     },
     "execution_count": 36,
     "metadata": {},
     "output_type": "execute_result"
    }
   ],
   "source": [
    "appreciation_coding_filepath = \"/home/srivbane/levon003/repos/instrumental_support/appreciation_coding/collect_coding_results/certain_data/all_certain_data.csv\"\n",
    "df = pd.read_csv(appreciation_coding_filepath)\n",
    "len(df)"
   ]
  },
  {
   "cell_type": "code",
   "execution_count": 37,
   "metadata": {},
   "outputs": [
    {
     "data": {
      "text/plain": [
       "[('C', 427), ('P', 292), ('PC', 13)]"
      ]
     },
     "execution_count": 37,
     "metadata": {},
     "output_type": "execute_result"
    }
   ],
   "source": [
    "Counter(df['author_type']).most_common()"
   ]
  },
  {
   "cell_type": "code",
   "execution_count": 38,
   "metadata": {
    "scrolled": true
   },
   "outputs": [
    {
     "data": {
      "text/plain": [
       "(0, 0)"
      ]
     },
     "execution_count": 38,
     "metadata": {},
     "output_type": "execute_result"
    }
   ],
   "source": [
    "instrumental_support_annotation_list = []\n",
    "skipped = 0\n",
    "if not use_cached_instrumental_support_results:\n",
    "    try:\n",
    "        db = get_db()\n",
    "        for i in tqdm(range(len(df))):\n",
    "            row = df.iloc[i]\n",
    "            site_id = int(row['site_id'])\n",
    "\n",
    "            if len(row['body_text']) < 50:\n",
    "                continue\n",
    "            comparison_body = row['body_text'][:500].lower()\n",
    "\n",
    "            cursor = db.execute(\"\"\"SELECT site_id, journal_oid, title, body\n",
    "                                    FROM journal\n",
    "                                    WHERE site_id = ?\n",
    "                                    GROUP BY site_id, journal_oid\n",
    "                                    ORDER BY createdAt\"\"\",\n",
    "                                (site_id,))\n",
    "            current_match = None\n",
    "            for res in cursor.fetchall():\n",
    "                if res['body'] is None or len(res['body']) < 50:\n",
    "                    continue\n",
    "                title = get_cleaned_text(res['title']) if res['title'] is not None else \"\"\n",
    "                body = get_cleaned_text(res['body'][:500-len(title)-1]).lower()\n",
    "\n",
    "                title_and_body = title + \" \" + body\n",
    "                distance = Levenshtein.distance(title_and_body, comparison_body)\n",
    "\n",
    "                if current_match is None or current_match['distance'] >= distance:\n",
    "                    #if current_match is not None and current_match['distance'] == distance:\n",
    "                    #    print(\"Warning: Equivalent match found in site %d.\" % site_id)\n",
    "                    #    print(\"  Old match text:\", current_match['title_body'][:200])\n",
    "                    #    print(\"  New match text:\", title_and_body[:200])\n",
    "                    current_match = {\n",
    "                        \"journal_oid\": res['journal_oid'],\n",
    "                        \"title_body\": title_and_body[:300],\n",
    "                        \"body\": get_cleaned_text(res['body']),\n",
    "                        \"distance\": distance\n",
    "                    }\n",
    "                    if distance <= 4:  # just assume that this is an exact match; no need to look at the other journals\n",
    "                        break\n",
    "            # print out particularly large differences for manual inspection\n",
    "            if current_match['distance'] > 220:\n",
    "                print(site_id, current_match['journal_oid'], current_match['distance'])\n",
    "                print(\"Matched Journal:\", current_match['title_body'][:200])\n",
    "                print(\"Dataframe Input:\", comparison_body[:200])\n",
    "                skipped += 1\n",
    "                continue  # discard this record, not including it in the list of annotations.\n",
    "\n",
    "            match_dict = {\n",
    "                \"site_id\": site_id,\n",
    "                \"journal_oid\": current_match['journal_oid'], \n",
    "                \"cleaned_body\": current_match['body'],\n",
    "                \"label\": row['author_type']\n",
    "            }\n",
    "            instrumental_support_annotation_list.append(match_dict)\n",
    "    finally:\n",
    "        db.close()\n",
    "    \n",
    "len(instrumental_support_annotation_list), skipped  # Note: 10 or so records are skipped during computation due to bad matches"
   ]
  },
  {
   "cell_type": "code",
   "execution_count": 39,
   "metadata": {
    "scrolled": true
   },
   "outputs": [
    {
     "name": "stdout",
     "output_type": "stream",
     "text": [
      "Loaded from file.\n",
      "Finished.\n"
     ]
    }
   ],
   "source": [
    "instrumental_support_annotation_list_pickle_filepath = os.path.join(vw_working_dir, \"instrumental_support_annotations.pkl\")\n",
    "\n",
    "if (use_cached_results or use_cached_instrumental_support_results) and os.path.exists(instrumental_support_annotation_list_pickle_filepath):\n",
    "    print(\"Loaded from file.\")\n",
    "    with open(instrumental_support_annotation_list_pickle_filepath, 'rb') as f:\n",
    "        instrumental_support_annotation_list = pickle.load(f)\n",
    "else:  # should save the processed list\n",
    "    with open(instrumental_support_annotation_list_pickle_filepath, 'wb') as f:\n",
    "        pickle.dump(instrumental_support_annotation_list, f)\n",
    "print(\"Finished.\")"
   ]
  },
  {
   "cell_type": "markdown",
   "metadata": {},
   "source": [
    "### Merge the annotation sources into a common format"
   ]
  },
  {
   "cell_type": "code",
   "execution_count": 40,
   "metadata": {},
   "outputs": [
    {
     "data": {
      "text/plain": [
       "6932"
      ]
     },
     "execution_count": 40,
     "metadata": {},
     "output_type": "execute_result"
    }
   ],
   "source": [
    "annotations = web_client_annotation_list[:]\n",
    "should_merge = False  # this flag determines if the instrumental support annotations are incorporated\n",
    "if should_merge:\n",
    "    for instr_annotation in instrumental_support_annotation_list:\n",
    "        annotation_already_present = False\n",
    "        for web_annotation in web_client_annotation_list:\n",
    "            if instr_annotation['site_id'] == web_annotation['site_id'] \\\n",
    "                and instr_annotation['journal_oid'] == web_annotation['journal_oid']:\n",
    "                    annotation_already_present = True  # we prefer the web client annotations\n",
    "                    print(\"Duplicate:\", instr_annotation['label'], web_annotation['label'])\n",
    "        if not annotation_already_present:\n",
    "            annotations.append(instr_annotation)\n",
    "len(annotations)"
   ]
  },
  {
   "cell_type": "code",
   "execution_count": 41,
   "metadata": {},
   "outputs": [
    {
     "data": {
      "text/plain": [
       "6932"
      ]
     },
     "execution_count": 41,
     "metadata": {},
     "output_type": "execute_result"
    }
   ],
   "source": [
    "annotation_df = pd.DataFrame(annotations)\n",
    "annotation_df.drop_duplicates(subset=[\"site_id\", \"journal_oid\"], keep='first', inplace=True)\n",
    "len(annotation_df)"
   ]
  },
  {
   "cell_type": "code",
   "execution_count": 42,
   "metadata": {},
   "outputs": [],
   "source": [
    "for key, group in annotation_df.groupby(by=[\"site_id\", \"journal_oid\"]):\n",
    "    if len(group) > 1:\n",
    "        print(group)\n",
    "        print()\n",
    "        assert False, \"Unexpected duplicate.\""
   ]
  },
  {
   "cell_type": "markdown",
   "metadata": {},
   "source": [
    "## Load all journal info and subset for sna-social-support project"
   ]
  },
  {
   "cell_type": "code",
   "execution_count": 6,
   "metadata": {},
   "outputs": [
    {
     "name": "stdout",
     "output_type": "stream",
     "text": [
      "0:00:11.089519\n"
     ]
    },
    {
     "data": {
      "text/plain": [
       "17893390"
      ]
     },
     "execution_count": 6,
     "metadata": {},
     "output_type": "execute_result"
    }
   ],
   "source": [
    "s = datetime.now()\n",
    "journal_metadata_dir = \"/home/srivbane/shared/caringbridge/data/derived/journal_metadata\"\n",
    "journal_metadata_filepath = os.path.join(journal_metadata_dir, \"journal_metadata.df\")\n",
    "journal_df = pd.read_feather(journal_metadata_filepath)\n",
    "print(datetime.now() - s)\n",
    "len(journal_df)"
   ]
  },
  {
   "cell_type": "code",
   "execution_count": 17,
   "metadata": {},
   "outputs": [
    {
     "data": {
      "text/plain": [
       "362345"
      ]
     },
     "execution_count": 17,
     "metadata": {},
     "output_type": "execute_result"
    }
   ],
   "source": [
    "# load the list of valid users\n",
    "data_selection_working_dir = \"/home/srivbane/shared/caringbridge/data/projects/sna-social-support/data_selection\"\n",
    "valid_user_ids = set()\n",
    "with open(os.path.join(data_selection_working_dir, \"valid_user_ids.txt\"), 'r') as infile:\n",
    "    for line in infile:\n",
    "        user_id = line.strip()\n",
    "        if user_id == \"\":\n",
    "            continue\n",
    "        else:\n",
    "            valid_user_ids.add(int(user_id))\n",
    "len(valid_user_ids)"
   ]
  },
  {
   "cell_type": "code",
   "execution_count": 18,
   "metadata": {},
   "outputs": [
    {
     "data": {
      "text/plain": [
       "340414"
      ]
     },
     "execution_count": 18,
     "metadata": {},
     "output_type": "execute_result"
    }
   ],
   "source": [
    "# load the list of valid users\n",
    "data_selection_working_dir = \"/home/srivbane/shared/caringbridge/data/projects/sna-social-support/data_selection\"\n",
    "valid_site_ids = set()\n",
    "with open(os.path.join(data_selection_working_dir, \"valid_site_ids.txt\"), 'r') as infile:\n",
    "    for line in infile:\n",
    "        site_id = line.strip()\n",
    "        if site_id == \"\":\n",
    "            continue\n",
    "        else:\n",
    "            valid_site_ids.add(int(site_id))\n",
    "len(valid_site_ids)"
   ]
  },
  {
   "cell_type": "code",
   "execution_count": 9,
   "metadata": {},
   "outputs": [
    {
     "data": {
      "text/plain": [
       "0.8207193270811176"
      ]
     },
     "execution_count": 9,
     "metadata": {},
     "output_type": "execute_result"
    }
   ],
   "source": [
    "# most journals are already authored by valid users\n",
    "np.sum(journal_df.user_id.isin(valid_user_ids)) / len(journal_df)"
   ]
  },
  {
   "cell_type": "code",
   "execution_count": 10,
   "metadata": {},
   "outputs": [
    {
     "data": {
      "text/plain": [
       "0.8858048698429979"
      ]
     },
     "execution_count": 10,
     "metadata": {},
     "output_type": "execute_result"
    }
   ],
   "source": [
    "np.sum((journal_df.user_id.isin(valid_user_ids))|(journal_df.site_id.isin(valid_site_ids))) / len(journal_df)"
   ]
  },
  {
   "cell_type": "code",
   "execution_count": 11,
   "metadata": {},
   "outputs": [
    {
     "data": {
      "text/plain": [
       "(15850052, 17893390, '88.58%')"
      ]
     },
     "execution_count": 11,
     "metadata": {},
     "output_type": "execute_result"
    }
   ],
   "source": [
    "# but we will restrict to only the valid users and journals they've authored\n",
    "# as well as to valid sites on which the valid users have authored\n",
    "original_length = len(journal_df)\n",
    "journal_df = journal_df[(journal_df.user_id.isin(valid_user_ids))|(journal_df.site_id.isin(valid_site_ids))]\n",
    "len(journal_df), original_length, f\"{len(journal_df) / original_length * 100 :.2f}%\""
   ]
  },
  {
   "cell_type": "code",
   "execution_count": 12,
   "metadata": {},
   "outputs": [
    {
     "data": {
      "text/html": [
       "<div>\n",
       "<style scoped>\n",
       "    .dataframe tbody tr th:only-of-type {\n",
       "        vertical-align: middle;\n",
       "    }\n",
       "\n",
       "    .dataframe tbody tr th {\n",
       "        vertical-align: top;\n",
       "    }\n",
       "\n",
       "    .dataframe thead th {\n",
       "        text-align: right;\n",
       "    }\n",
       "</style>\n",
       "<table border=\"1\" class=\"dataframe\">\n",
       "  <thead>\n",
       "    <tr style=\"text-align: right;\">\n",
       "      <th></th>\n",
       "      <th>created_at</th>\n",
       "      <th>journal_oid</th>\n",
       "      <th>published_at</th>\n",
       "      <th>site_id</th>\n",
       "      <th>updated_at</th>\n",
       "      <th>user_id</th>\n",
       "      <th>site_index</th>\n",
       "      <th>is_nontrivial</th>\n",
       "    </tr>\n",
       "  </thead>\n",
       "  <tbody>\n",
       "    <tr>\n",
       "      <td>11340121</td>\n",
       "      <td>1345987620000</td>\n",
       "      <td>51be5ca86ca00427250025cb</td>\n",
       "      <td>0</td>\n",
       "      <td>583491</td>\n",
       "      <td>1345988173000</td>\n",
       "      <td>9418871</td>\n",
       "      <td>5</td>\n",
       "      <td>True</td>\n",
       "    </tr>\n",
       "    <tr>\n",
       "      <td>5738103</td>\n",
       "      <td>1326667680000</td>\n",
       "      <td>51be1e076ca004545400fb42</td>\n",
       "      <td>0</td>\n",
       "      <td>142948</td>\n",
       "      <td>1326668432000</td>\n",
       "      <td>6514809</td>\n",
       "      <td>330</td>\n",
       "      <td>True</td>\n",
       "    </tr>\n",
       "    <tr>\n",
       "      <td>486678</td>\n",
       "      <td>1367078640000</td>\n",
       "      <td>51bfd52e6ca0040850048cad</td>\n",
       "      <td>0</td>\n",
       "      <td>9661</td>\n",
       "      <td>1367079462000</td>\n",
       "      <td>0</td>\n",
       "      <td>2853</td>\n",
       "      <td>True</td>\n",
       "    </tr>\n",
       "    <tr>\n",
       "      <td>11687054</td>\n",
       "      <td>1353219780000</td>\n",
       "      <td>51be86396ca0041425001bf4</td>\n",
       "      <td>0</td>\n",
       "      <td>612671</td>\n",
       "      <td>1353226158000</td>\n",
       "      <td>23282719</td>\n",
       "      <td>22</td>\n",
       "      <td>True</td>\n",
       "    </tr>\n",
       "    <tr>\n",
       "      <td>5683037</td>\n",
       "      <td>1285619220000</td>\n",
       "      <td>51c060c96ca00467161a977d</td>\n",
       "      <td>0</td>\n",
       "      <td>141309</td>\n",
       "      <td>0</td>\n",
       "      <td>6429959</td>\n",
       "      <td>69</td>\n",
       "      <td>True</td>\n",
       "    </tr>\n",
       "    <tr>\n",
       "      <td>14504275</td>\n",
       "      <td>1411801224000</td>\n",
       "      <td>5426587bab28b9a12aa9e619</td>\n",
       "      <td>1411801224000</td>\n",
       "      <td>911820</td>\n",
       "      <td>1411801224000</td>\n",
       "      <td>29532562</td>\n",
       "      <td>3</td>\n",
       "      <td>True</td>\n",
       "    </tr>\n",
       "    <tr>\n",
       "      <td>8564768</td>\n",
       "      <td>1300471860000</td>\n",
       "      <td>51be3b8b6ca0045434002ce7</td>\n",
       "      <td>0</td>\n",
       "      <td>279626</td>\n",
       "      <td>0</td>\n",
       "      <td>6103439</td>\n",
       "      <td>6</td>\n",
       "      <td>True</td>\n",
       "    </tr>\n",
       "    <tr>\n",
       "      <td>6310089</td>\n",
       "      <td>1263364080000</td>\n",
       "      <td>51be23316ca004a464010dda</td>\n",
       "      <td>0</td>\n",
       "      <td>162380</td>\n",
       "      <td>0</td>\n",
       "      <td>7567754</td>\n",
       "      <td>15</td>\n",
       "      <td>True</td>\n",
       "    </tr>\n",
       "    <tr>\n",
       "      <td>8222893</td>\n",
       "      <td>1294529160000</td>\n",
       "      <td>51be35c26ca004c82100513b</td>\n",
       "      <td>0</td>\n",
       "      <td>247264</td>\n",
       "      <td>0</td>\n",
       "      <td>12110420</td>\n",
       "      <td>21</td>\n",
       "      <td>True</td>\n",
       "    </tr>\n",
       "    <tr>\n",
       "      <td>5672325</td>\n",
       "      <td>1251170220000</td>\n",
       "      <td>51be1d606ca004585200b3fa</td>\n",
       "      <td>0</td>\n",
       "      <td>140848</td>\n",
       "      <td>0</td>\n",
       "      <td>6408248</td>\n",
       "      <td>5</td>\n",
       "      <td>True</td>\n",
       "    </tr>\n",
       "  </tbody>\n",
       "</table>\n",
       "</div>"
      ],
      "text/plain": [
       "             created_at               journal_oid   published_at  site_id  \\\n",
       "11340121  1345987620000  51be5ca86ca00427250025cb              0   583491   \n",
       "5738103   1326667680000  51be1e076ca004545400fb42              0   142948   \n",
       "486678    1367078640000  51bfd52e6ca0040850048cad              0     9661   \n",
       "11687054  1353219780000  51be86396ca0041425001bf4              0   612671   \n",
       "5683037   1285619220000  51c060c96ca00467161a977d              0   141309   \n",
       "14504275  1411801224000  5426587bab28b9a12aa9e619  1411801224000   911820   \n",
       "8564768   1300471860000  51be3b8b6ca0045434002ce7              0   279626   \n",
       "6310089   1263364080000  51be23316ca004a464010dda              0   162380   \n",
       "8222893   1294529160000  51be35c26ca004c82100513b              0   247264   \n",
       "5672325   1251170220000  51be1d606ca004585200b3fa              0   140848   \n",
       "\n",
       "             updated_at   user_id  site_index  is_nontrivial  \n",
       "11340121  1345988173000   9418871           5           True  \n",
       "5738103   1326668432000   6514809         330           True  \n",
       "486678    1367079462000         0        2853           True  \n",
       "11687054  1353226158000  23282719          22           True  \n",
       "5683037               0   6429959          69           True  \n",
       "14504275  1411801224000  29532562           3           True  \n",
       "8564768               0   6103439           6           True  \n",
       "6310089               0   7567754          15           True  \n",
       "8222893               0  12110420          21           True  \n",
       "5672325               0   6408248           5           True  "
      ]
     },
     "execution_count": 12,
     "metadata": {},
     "output_type": "execute_result"
    }
   ],
   "source": [
    "journal_df.sample(n=10)"
   ]
  },
  {
   "cell_type": "code",
   "execution_count": 13,
   "metadata": {},
   "outputs": [
    {
     "data": {
      "text/plain": [
       "(15598250, 15850052, '98.41%')"
      ]
     },
     "execution_count": 13,
     "metadata": {},
     "output_type": "execute_result"
    }
   ],
   "source": [
    "unlabeled_journal_df = journal_df[journal_df.is_nontrivial]\n",
    "len(unlabeled_journal_df), len(journal_df), f\"{len(unlabeled_journal_df) / len(journal_df) * 100 :.2f}%\""
   ]
  },
  {
   "cell_type": "code",
   "execution_count": 14,
   "metadata": {},
   "outputs": [],
   "source": [
    "# this function creates a copy of the given journal_df with an added column with the journal update's text\n",
    "# journal_df should be a dataframe with a site_id and journal_oid column\n",
    "# a 'cleaned_body' column is added\n",
    "def add_body_text(journal_df):\n",
    "    journal_df = journal_df.copy()\n",
    "    bodies = []\n",
    "    for site_id, journal_oid in zip(journal_df.site_id, journal_df.journal_oid):\n",
    "        body = get_journal_text(site_id, journal_oid)\n",
    "        if body is None or len(body) < 50:\n",
    "            cleaned_body = \"\"\n",
    "        else:\n",
    "            cleaned_body = get_cleaned_text(body)\n",
    "        bodies.append(cleaned_body)\n",
    "    journal_df['cleaned_body'] = bodies\n",
    "    return journal_df"
   ]
  },
  {
   "cell_type": "code",
   "execution_count": null,
   "metadata": {},
   "outputs": [],
   "source": [
    "add_body_text(journal_df.sample(n=3))"
   ]
  },
  {
   "cell_type": "code",
   "execution_count": null,
   "metadata": {},
   "outputs": [],
   "source": []
  },
  {
   "cell_type": "markdown",
   "metadata": {},
   "source": [
    "## Use sklearn to train and evaluate a few non-VW models"
   ]
  },
  {
   "cell_type": "code",
   "execution_count": 43,
   "metadata": {},
   "outputs": [],
   "source": [
    "import sklearn\n",
    "from sklearn.feature_extraction.text import CountVectorizer, TfidfTransformer\n",
    "from sklearn.pipeline import Pipeline"
   ]
  },
  {
   "cell_type": "code",
   "execution_count": 44,
   "metadata": {},
   "outputs": [],
   "source": [
    "text_clf = Pipeline([\n",
    "     ('vect', CountVectorizer(ngram_range=(1,2), min_df=3)),\n",
    "     ('tfidf', TfidfTransformer()),\n",
    "     ('clf', sklearn.linear_model.SGDClassifier(loss='log', alpha=0.001, tol=1e-3, max_iter=1000) ),\n",
    "])"
   ]
  },
  {
   "cell_type": "code",
   "execution_count": 45,
   "metadata": {},
   "outputs": [
    {
     "data": {
      "text/plain": [
       "305"
      ]
     },
     "execution_count": 45,
     "metadata": {},
     "output_type": "execute_result"
    }
   ],
   "source": [
    "site_ids = set(annotation_df.site_id)\n",
    "len(site_ids)"
   ]
  },
  {
   "cell_type": "code",
   "execution_count": 94,
   "metadata": {},
   "outputs": [],
   "source": [
    "unlabeled_journal_df_subset = unlabeled_journal_df.sample(n=5000)\n",
    "unlabeled_journal_df_subset = add_body_text(unlabeled_journal_df_subset)"
   ]
  },
  {
   "cell_type": "code",
   "execution_count": null,
   "metadata": {
    "scrolled": true
   },
   "outputs": [],
   "source": [
    "annotation_df['human_label'] = annotation_df['label'].map(lambda label: 'p' if label == 'p' else 'cg')\n",
    "annotation_df['pre_bbse_predicted_label'] = \"\"\n",
    "annotation_df['bbse_proportion_p'] = np.nan\n",
    "annotation_df['predicted_label'] = \"\"\n",
    "for site_id in tqdm(site_ids):\n",
    "    test = annotation_df[annotation_df.site_id == site_id]\n",
    "    \n",
    "    # eligible training data is all sites other than the held-out site\n",
    "    train = annotation_df[annotation_df.site_id != site_id]\n",
    "    \n",
    "    cg_idx = train[train.human_label == 'cg'].index\n",
    "    cg_total = len(cg_idx)\n",
    "    \n",
    "    p_idx = train[train.human_label == 'p'].sample(n=cg_total).index\n",
    "    p_total = len(p_idx)\n",
    "    \n",
    "    train_idx = cg_idx.union(p_idx)\n",
    "    assert len(train_idx) == cg_total + p_total\n",
    "    \n",
    "    # retrieve the subset of the eligible training data that will be used for estimation\n",
    "    train_subset = train.loc[train_idx]\n",
    "    \n",
    "    # within the labeled data eligible for training, create a train/validation split\n",
    "    train_subset = train_subset.sample(frac=1)\n",
    "    labeled_train_pct = 0.8\n",
    "    labeled_train_index = int(len(train_subset) * 0.8)\n",
    "    labeled_train = train_subset.iloc[:labeled_train_index]\n",
    "    labeled_valid = train_subset.iloc[labeled_train_index:]\n",
    "    \n",
    "    # train the model and predict on the validation data\n",
    "    md = text_clf.fit(labeled_train.cleaned_body, labeled_train.human_label)\n",
    "    labeled_valid_preds = md.predict(labeled_valid.cleaned_body)\n",
    "    \n",
    "    # predict on the test data pre-BBSC so we have a point of comparison\n",
    "    predicted = md.predict(test.cleaned_body)\n",
    "    annotation_df.loc[test.index, 'pre_bbse_predicted_label'] = predicted\n",
    "    \n",
    "    # computation the proportion of the two classes in the training dataset\n",
    "    # by design, this should be 50/50\n",
    "    labeled_p = np.sum(train_subset.human_label == 'p') / len(train_subset)\n",
    "    labeled_cg = 1 - labeled_p\n",
    "    v_est = np.array([labeled_p, labeled_cg])\n",
    "    \n",
    "    # C_est is the normalized confusion matrix on the validation data\n",
    "    C_est = np.zeros((2,2))\n",
    "    C_est[0,0] = np.sum((labeled_valid.human_label == 'p') & (labeled_valid_preds == 'p'))\n",
    "    C_est[0,1] = np.sum((labeled_valid.human_label != 'p') & (labeled_valid_preds == 'p'))\n",
    "    C_est[1,0] = np.sum((labeled_valid.human_label == 'p') & (labeled_valid_preds != 'p'))\n",
    "    C_est[1,1] = np.sum((labeled_valid.human_label != 'p') & (labeled_valid_preds != 'p'))\n",
    "    C_est = C_est / len(labeled_valid)  # normalize by dividing by the sample size of labeled validation data\n",
    "    \n",
    "    # Retrieve a sample of unlabeled data\n",
    "    journal_df_subset = unlabeled_journal_df_subset  # use the same unlabeled set for all iterations\n",
    "    #journal_df_subset = unlabeled_journal_df.sample(n=500)\n",
    "    #journal_df_subset = add_body_text(journal_df_subset)\n",
    "    \n",
    "    # Predict on the unlabeled data\n",
    "    unlabeled_preds = md.predict(journal_df_subset.cleaned_body)\n",
    "    \n",
    "    # compute estimator for true percentages in shifted distribution\n",
    "    target_predicted_p = np.sum(unlabeled_preds == 'p') / len(unlabeled_preds)\n",
    "    target_predicted_cg = 1 - target_predicted_p\n",
    "    mu_pred_est = np.array([target_predicted_p, target_predicted_cg])\n",
    "    w_est = np.matmul(np.linalg.inv(C_est), mu_pred_est)\n",
    "    mu_est = np.matmul(np.diag(v_est), w_est)\n",
    "    estimated_proportion_p = mu_est[0]  # the estimated proportion of patient updates in the target distribution\n",
    "    annotation_df.loc[test.index, 'bbse_proportion_p'] = estimated_proportion_p\n",
    "    \n",
    "    \n",
    "    # Black Box Shift Correction\n",
    "    # use w_est to produce a corrected classifier\n",
    "    # we train a new logistic regression classifier to solve the importance-weighted ERM problem\n",
    "    w_est_nn = w_est.clip(0)  # w_est_nn is the non-negative version of w_est, clipping class weights to 0\n",
    "    class_weights = {'p': w_est_nn[0], 'cg': w_est_nn[1]}\n",
    "    bbsc_clf = Pipeline([\n",
    "         ('vect', CountVectorizer(ngram_range=(1,2), min_df=3)),\n",
    "         ('tfidf', TfidfTransformer()),\n",
    "         ('bbsc_clf', sklearn.linear_model.LogisticRegression(solver='lbfgs', penalty='l2', class_weight=class_weights) ),\n",
    "    ])\n",
    "    bbsc_clf.fit(labeled_train.cleaned_body, labeled_train.human_label)\n",
    "    bbsc_prediction = bbsc_clf.predict(test.cleaned_body)\n",
    "    annotation_df.loc[test.index, 'predicted_label'] = bbsc_prediction\n",
    "        \n",
    "    # train the model and make predictions on the held-out test data\n",
    "    #md = text_clf.fit(train_subset.cleaned_body, train_subset.human_label)\n",
    "    #predicted = md.predict(test.cleaned_body)\n",
    "    #annotation_df.loc[test.index, 'predicted_label'] = predicted\n",
    "    "
   ]
  },
  {
   "cell_type": "code",
   "execution_count": 176,
   "metadata": {},
   "outputs": [
    {
     "name": "stdout",
     "output_type": "stream",
     "text": [
      "22.06%+-0.11% of journal updates are predicted patient-authored (BBSE used)\n"
     ]
    }
   ],
   "source": [
    "patient_proportions = annotation_df.drop_duplicates(subset=['site_id',]).bbse_proportion_p\n",
    "#print(np.mean(patient_proportions), np.std(patient_proportions))\n",
    "print(f\"{np.mean(patient_proportions) * 100:.2f}%+-{np.std(patient_proportions)/np.sqrt(len(patient_proportions))*100:.2f}% of journal updates are predicted patient-authored (BBSE used)\")"
   ]
  },
  {
   "cell_type": "code",
   "execution_count": null,
   "metadata": {},
   "outputs": [],
   "source": [
    "# plot the distribution of the estimate of the patient proportions from the unlabeled data\n",
    "# this estimate is based on a sample of 5000 journal updates from the unlabeled data\n",
    "# it should be (and is) lower than the BBSE estimate\n",
    "patient_proportions = annotation_df.drop_duplicates(subset=['site_id',]).bbse_proportion_p\n",
    "plt.hist(patient_proportions, bins=np.linspace(0, 1, num=100))\n",
    "plt.axvline(np.mean(patient_proportions), color='black', linestyle='--')\n",
    "print(np.mean(patient_proportions))\n",
    "plt.show()"
   ]
  },
  {
   "cell_type": "code",
   "execution_count": 106,
   "metadata": {},
   "outputs": [],
   "source": [
    "annotation_df['post_bbse_predicted_label'] = annotation_df.predicted_label"
   ]
  },
  {
   "cell_type": "code",
   "execution_count": 114,
   "metadata": {},
   "outputs": [],
   "source": [
    "annotation_df.predicted_label = annotation_df.post_bbse_predicted_label"
   ]
  },
  {
   "cell_type": "code",
   "execution_count": 125,
   "metadata": {},
   "outputs": [],
   "source": [
    "text_clf = Pipeline([\n",
    "     ('vect', CountVectorizer(ngram_range=(1,2), min_df=3)),\n",
    "     ('tfidf', TfidfTransformer()),\n",
    "     ('clf', sklearn.linear_model.SGDClassifier(loss='hinge', alpha=0.001, tol=1e-3, max_iter=1000) ),\n",
    "])"
   ]
  },
  {
   "cell_type": "code",
   "execution_count": null,
   "metadata": {
    "scrolled": true
   },
   "outputs": [],
   "source": [
    "annotation_df['human_label'] = annotation_df['label'].map(lambda label: 'p' if label == 'p' else 'cg')\n",
    "annotation_df['unlabeled_predicted_p'] = \"\"\n",
    "annotation_df['predicted_label'] = \"\"\n",
    "for site_id in tqdm(site_ids):\n",
    "    test = annotation_df[annotation_df.site_id == site_id]\n",
    "    \n",
    "    # eligible training data is all sites other than the held-out site\n",
    "    train = annotation_df[annotation_df.site_id != site_id]\n",
    "    \n",
    "    cg_idx = train[train.human_label == 'cg'].index\n",
    "    cg_total = len(cg_idx)\n",
    "    \n",
    "    p_idx = train[train.human_label == 'p'].sample(n=cg_total).index\n",
    "    p_total = len(p_idx)\n",
    "    \n",
    "    train_idx = cg_idx.union(p_idx)\n",
    "    assert len(train_idx) == cg_total + p_total\n",
    "    \n",
    "    # retrieve the subset of the eligible training data that will be used for estimation\n",
    "    train_subset = train.loc[train_idx]\n",
    "        \n",
    "    # train the model and make predictions on the held-out test data\n",
    "    md = text_clf.fit(train_subset.cleaned_body, train_subset.human_label)\n",
    "    predicted = md.predict(test.cleaned_body)\n",
    "    annotation_df.loc[test.index, 'predicted_label'] = predicted\n",
    "    \n",
    "    # estimate the empirical proportion of P/CG posts on an unlabeled data sample\n",
    "    unlabeled_preds = md.predict(unlabeled_journal_df_subset.cleaned_body)\n",
    "    target_predicted_p = np.sum(unlabeled_preds == 'p') / len(unlabeled_preds)\n",
    "    annotation_df.loc[test.index, 'unlabeled_predicted_p'] = target_predicted_p"
   ]
  },
  {
   "cell_type": "code",
   "execution_count": 177,
   "metadata": {},
   "outputs": [
    {
     "name": "stdout",
     "output_type": "stream",
     "text": [
      "24.84%+-0.03% of journal updates are predicted patient-authored (BBSE not used)\n"
     ]
    }
   ],
   "source": [
    "# plot the distribution of the estimate of the patient proportions from the unlabeled data\n",
    "patient_proportions = annotation_df.drop_duplicates(subset=['site_id',]).unlabeled_predicted_p\n",
    "print(f\"{np.mean(patient_proportions) * 100:.2f}%+-{np.std(patient_proportions)/np.sqrt(len(patient_proportions))*100:.2f}% of journal updates are predicted patient-authored (BBSE not used)\")"
   ]
  },
  {
   "cell_type": "code",
   "execution_count": null,
   "metadata": {},
   "outputs": [],
   "source": [
    "plt.hist(patient_proportions, bins=np.linspace(0, 1, num=100))\n",
    "plt.axvline(np.mean(patient_proportions), color='black', linestyle='--')\n",
    "plt.show()"
   ]
  },
  {
   "cell_type": "code",
   "execution_count": 138,
   "metadata": {},
   "outputs": [
    {
     "data": {
      "text/plain": [
       "[('p', 5743), ('cg', 1189)]"
      ]
     },
     "execution_count": 138,
     "metadata": {},
     "output_type": "execute_result"
    }
   ],
   "source": [
    "assert not np.any(annotation_df.predicted_label == \"\")\n",
    "Counter(annotation_df.predicted_label).most_common()"
   ]
  },
  {
   "cell_type": "code",
   "execution_count": 139,
   "metadata": {},
   "outputs": [
    {
     "name": "stdout",
     "output_type": "stream",
     "text": [
      "Accuracy: 95.08%\n",
      "\n",
      "              precision    recall  f1-score   support\n",
      "\n",
      "          cg       0.77      0.93      0.84       994\n",
      "           p       0.99      0.95      0.97      5938\n",
      "\n",
      "   micro avg       0.95      0.95      0.95      6932\n",
      "   macro avg       0.88      0.94      0.91      6932\n",
      "weighted avg       0.96      0.95      0.95      6932\n",
      "\n"
     ]
    }
   ],
   "source": [
    "acc = np.sum(annotation_df.human_label == annotation_df.predicted_label) / len(annotation_df)\n",
    "print(f\"Accuracy: {acc * 100:.2f}%\")\n",
    "print()\n",
    "print(sklearn.metrics.classification_report(annotation_df.human_label, annotation_df.predicted_label))"
   ]
  },
  {
   "cell_type": "code",
   "execution_count": 140,
   "metadata": {},
   "outputs": [
    {
     "name": "stderr",
     "output_type": "stream",
     "text": [
      "\n",
      "\n",
      "\n",
      "\n",
      "\n",
      "  0%|          | 0/305 [00:00<?, ?it/s]\u001b[A\u001b[A\u001b[A\u001b[A\u001b[A\n",
      "\n",
      "\n",
      "\n",
      "\n",
      " 41%|████▏     | 126/305 [00:00<00:00, 1252.06it/s]\u001b[A\u001b[A\u001b[A\u001b[A\u001b[A\n",
      "\n",
      "\n",
      "\n",
      "\n",
      "100%|██████████| 305/305 [00:00<00:00, 1286.98it/s]\u001b[A\u001b[A\u001b[A\u001b[A\u001b[A\n"
     ]
    },
    {
     "data": {
      "text/plain": [
       "305"
      ]
     },
     "execution_count": 140,
     "metadata": {},
     "output_type": "execute_result"
    }
   ],
   "source": [
    "# compute site-level accuracy\n",
    "sites = []\n",
    "for site_id, group in tqdm(annotation_df.groupby('site_id')):\n",
    "    num_correct = np.sum(group.label == group.predicted_label)\n",
    "    site = {\n",
    "        'site_id': site_id,\n",
    "        'total_count': len(group),\n",
    "        'correct_count': num_correct,\n",
    "        'accuracy': num_correct / len(group)\n",
    "    }\n",
    "    sites.append(site)\n",
    "site_df = pd.DataFrame(sites)\n",
    "len(site_df)"
   ]
  },
  {
   "cell_type": "code",
   "execution_count": 141,
   "metadata": {},
   "outputs": [
    {
     "data": {
      "image/png": "[encoded data removed]",
      "text/plain": [
       "<Figure size 432x288 with 1 Axes>"
      ]
     },
     "metadata": {
      "needs_background": "light"
     },
     "output_type": "display_data"
    }
   ],
   "source": [
    "bins = np.linspace(0, 1, num=20)\n",
    "plt.hist(site_df.accuracy, bins=bins, label='All sites with 1+ annotations')\n",
    "plt.hist(site_df[site_df.total_count >= 5].accuracy, bins=bins, label='Sites with 5+ annotated updates')\n",
    "plt.legend()\n",
    "plt.title(\"Site-level accuracy distribution\")\n",
    "plt.xlabel(\"Site-level accuracy\")\n",
    "plt.ylabel(\"Annotated site count\")\n",
    "plt.show()"
   ]
  },
  {
   "cell_type": "code",
   "execution_count": 142,
   "metadata": {},
   "outputs": [
    {
     "data": {
      "text/plain": [
       "0.45901639344262296"
      ]
     },
     "execution_count": 142,
     "metadata": {},
     "output_type": "execute_result"
    }
   ],
   "source": [
    "# 56.4% of sites are classified entirely correctly\n",
    "np.sum(site_df.accuracy == 1) / len(site_df)"
   ]
  },
  {
   "cell_type": "code",
   "execution_count": 143,
   "metadata": {},
   "outputs": [
    {
     "data": {
      "text/plain": [
       "(0.7311475409836066, 0.26885245901639343)"
      ]
     },
     "execution_count": 143,
     "metadata": {},
     "output_type": "execute_result"
    }
   ],
   "source": [
    "# the percentage of sites that are classified at least 90% correctly,\n",
    "# which suggests that our multiauthor heuristic will misclassify at the site-level at most (1 - this %) of the time\n",
    "proportion_nearly_correct = len(site_df[site_df.accuracy >= 0.9]) / len(site_df)\n",
    "proportion_nearly_correct, 1 - proportion_nearly_correct"
   ]
  },
  {
   "cell_type": "markdown",
   "metadata": {},
   "source": [
    "## Train the final sklearn model and apply it to all the unlabeled data"
   ]
  },
  {
   "cell_type": "code",
   "execution_count": 46,
   "metadata": {},
   "outputs": [
    {
     "name": "stdout",
     "output_type": "stream",
     "text": [
      "Train accuracy: 98.49%\n"
     ]
    }
   ],
   "source": [
    "text_clf = Pipeline([\n",
    "     ('vect', CountVectorizer(ngram_range=(1,2), min_df=3)),\n",
    "     ('tfidf', TfidfTransformer()),\n",
    "     ('clf', sklearn.linear_model.SGDClassifier(loss='hinge', alpha=0.001, tol=1e-4, max_iter=1000) ),\n",
    "])\n",
    "\n",
    "annotation_df['human_label'] = annotation_df['label'].map(lambda label: 'p' if label == 'p' else 'cg')\n",
    "\n",
    "# eligible training data is all labeled data for the final model\n",
    "train = annotation_df\n",
    "\n",
    "cg_idx = train[train.human_label == 'cg'].index\n",
    "cg_total = len(cg_idx)\n",
    "\n",
    "p_idx = train[train.human_label == 'p'].sample(n=cg_total).index\n",
    "p_total = len(p_idx)\n",
    "\n",
    "train_idx = cg_idx.union(p_idx)\n",
    "assert len(train_idx) == cg_total + p_total\n",
    "\n",
    "# retrieve the subset of the eligible training data that will be used for estimation\n",
    "train_subset = train.loc[train_idx]\n",
    "\n",
    "# train the model and make predictions on the held-out test data\n",
    "clf = text_clf.fit(train_subset.cleaned_body, train_subset.human_label)\n",
    "\n",
    "train_preds = text_clf.predict(train_subset.cleaned_body)\n",
    "acc = np.sum(train_preds == train_subset.human_label) / len(train_subset)\n",
    "print(f\"Train accuracy: {acc*100:.2f}%\")"
   ]
  },
  {
   "cell_type": "markdown",
   "metadata": {},
   "source": [
    "#### Apply the trained model to the unlabled data"
   ]
  },
  {
   "cell_type": "code",
   "execution_count": 47,
   "metadata": {},
   "outputs": [],
   "source": [
    "# if this flag is true,\n",
    "# then predictions will only be made on not-yet-predicted rows in the journal_df\n",
    "# this might be a good idea if the underlying sample changes, or if a specific subset of the predictions\n",
    "# need to be thrown out and regenerated\n",
    "# We load in the existing label dataframe, merge with the journal_df, and then leave all unlabeled rows blank\n",
    "merge_existing_labels = True"
   ]
  },
  {
   "cell_type": "code",
   "execution_count": 48,
   "metadata": {},
   "outputs": [
    {
     "name": "stdout",
     "output_type": "stream",
     "text": [
      "0:00:06.541071\n"
     ]
    }
   ],
   "source": [
    "# one time process\n",
    "if merge_existing_labels:\n",
    "    # read the journal metadata with author type info added\n",
    "    s = datetime.now()\n",
    "    author_type_dir = \"/home/srivbane/shared/caringbridge/data/projects/sna-social-support/author_type\"\n",
    "    journal_metadata_filepath = os.path.join(author_type_dir, \"journal_metadata_with_author_type.df\")\n",
    "    journal_df_with_labels = pd.read_feather(journal_metadata_filepath)\n",
    "    print(datetime.now() - s)\n",
    "    len(journal_df_with_labels)"
   ]
  },
  {
   "cell_type": "code",
   "execution_count": 49,
   "metadata": {},
   "outputs": [],
   "source": [
    "journal_df['predicted_label'] = \"\""
   ]
  },
  {
   "cell_type": "code",
   "execution_count": 50,
   "metadata": {},
   "outputs": [],
   "source": [
    "if merge_existing_labels:\n",
    "    original_length = len(journal_df)\n",
    "    merged = pd.merge(journal_df, journal_df_with_labels[['site_id', 'journal_oid', 'predicted_label']], on=['site_id', 'journal_oid'], how='left')\n",
    "    merged.loc[merged.predicted_label_y.isna(), 'predicted_label_y'] = \"\"\n",
    "    merged['predicted_label'] = merged.predicted_label_y\n",
    "    merged = merged.drop(columns=['predicted_label_x', 'predicted_label_y'])\n",
    "    journal_df = merged\n",
    "    assert original_length == len(journal_df)"
   ]
  },
  {
   "cell_type": "code",
   "execution_count": 51,
   "metadata": {},
   "outputs": [
    {
     "data": {
      "text/plain": [
       "[('cg', 11114668), ('p', 3570783), ('', 1164601)]"
      ]
     },
     "execution_count": 51,
     "metadata": {},
     "output_type": "execute_result"
    }
   ],
   "source": [
    "Counter(journal_df.predicted_label).most_common()"
   ]
  },
  {
   "cell_type": "code",
   "execution_count": 52,
   "metadata": {},
   "outputs": [
    {
     "data": {
      "text/plain": [
       "(10000, 1586)"
      ]
     },
     "execution_count": 52,
     "metadata": {},
     "output_type": "execute_result"
    }
   ],
   "source": [
    "batch_size = 10000\n",
    "num_batches = len(journal_df) // batch_size + 1\n",
    "batch_size, num_batches"
   ]
  },
  {
   "cell_type": "code",
   "execution_count": 53,
   "metadata": {
    "scrolled": true
   },
   "outputs": [
    {
     "name": "stderr",
     "output_type": "stream",
     "text": [
      "100%|██████████| 1586/1586 [1:18:35<00:00,  2.97s/it]  \n"
     ]
    }
   ],
   "source": [
    "# note that this only runs the classifier on rows of journal_df with predicted_label == \"\"\n",
    "for batch_num in tqdm(range(num_batches)):\n",
    "    journal_df_subset = journal_df.iloc[batch_num * batch_size:batch_num * batch_size + batch_size]\n",
    "    journal_df_subset = journal_df_subset[journal_df_subset.predicted_label == \"\"]\n",
    "    if len(journal_df_subset) == 0:\n",
    "        continue\n",
    "    journal_df_subset = add_body_text(journal_df_subset)\n",
    "    preds = clf.predict(journal_df_subset.cleaned_body)\n",
    "    journal_df.loc[journal_df_subset.index, 'predicted_label'] = preds\n",
    "    if batch_num % 50 == 0:\n",
    "        # keep writing a checkpoint file at regular intervals\n",
    "        journal_metadata_filepath = os.path.join(general_working_dir, \"journal_metadata_with_author_type.df.checkpoint\")\n",
    "        journal_df.reset_index(drop=True).to_feather(journal_metadata_filepath)"
   ]
  },
  {
   "cell_type": "code",
   "execution_count": 54,
   "metadata": {},
   "outputs": [
    {
     "name": "stdout",
     "output_type": "stream",
     "text": [
      "0:00:07.188297\n",
      "Finished.\n"
     ]
    }
   ],
   "source": [
    "s = datetime.now()\n",
    "journal_metadata_filepath = os.path.join(general_working_dir, \"journal_metadata_with_author_type.df\")\n",
    "journal_df.reset_index(drop=True).to_feather(journal_metadata_filepath)\n",
    "print(datetime.now() - s)\n",
    "print(\"Finished.\")"
   ]
  },
  {
   "cell_type": "markdown",
   "metadata": {},
   "source": [
    "## End of labeling all unlabeled data\n",
    "\n",
    "### Now, some analysis on the result"
   ]
  },
  {
   "cell_type": "code",
   "execution_count": 8,
   "metadata": {},
   "outputs": [
    {
     "name": "stdout",
     "output_type": "stream",
     "text": [
      "0:00:14.865886\n"
     ]
    },
    {
     "data": {
      "text/plain": [
       "15850052"
      ]
     },
     "execution_count": 8,
     "metadata": {},
     "output_type": "execute_result"
    }
   ],
   "source": [
    "# read the journal metadata with author type info added\n",
    "s = datetime.now()\n",
    "author_type_dir = \"/home/srivbane/shared/caringbridge/data/projects/sna-social-support/author_type\"\n",
    "journal_metadata_filepath = os.path.join(author_type_dir, \"journal_metadata_with_author_type.df\")\n",
    "journal_df = pd.read_feather(journal_metadata_filepath)\n",
    "print(datetime.now() - s)\n",
    "len(journal_df)"
   ]
  },
  {
   "cell_type": "code",
   "execution_count": 9,
   "metadata": {},
   "outputs": [],
   "source": [
    "journal_df = journal_df[journal_df.is_nontrivial]"
   ]
  },
  {
   "cell_type": "code",
   "execution_count": 10,
   "metadata": {},
   "outputs": [
    {
     "data": {
      "text/html": [
       "<div>\n",
       "<style scoped>\n",
       "    .dataframe tbody tr th:only-of-type {\n",
       "        vertical-align: middle;\n",
       "    }\n",
       "\n",
       "    .dataframe tbody tr th {\n",
       "        vertical-align: top;\n",
       "    }\n",
       "\n",
       "    .dataframe thead th {\n",
       "        text-align: right;\n",
       "    }\n",
       "</style>\n",
       "<table border=\"1\" class=\"dataframe\">\n",
       "  <thead>\n",
       "    <tr style=\"text-align: right;\">\n",
       "      <th></th>\n",
       "      <th>created_at</th>\n",
       "      <th>journal_oid</th>\n",
       "      <th>published_at</th>\n",
       "      <th>site_id</th>\n",
       "      <th>updated_at</th>\n",
       "      <th>user_id</th>\n",
       "      <th>site_index</th>\n",
       "      <th>is_nontrivial</th>\n",
       "      <th>predicted_label</th>\n",
       "    </tr>\n",
       "  </thead>\n",
       "  <tbody>\n",
       "    <tr>\n",
       "      <td>0</td>\n",
       "      <td>1103856900000</td>\n",
       "      <td>51bdf3e56ca0048f4e00ced4</td>\n",
       "      <td>0</td>\n",
       "      <td>1</td>\n",
       "      <td>1103856900000</td>\n",
       "      <td>1</td>\n",
       "      <td>0</td>\n",
       "      <td>True</td>\n",
       "      <td>cg</td>\n",
       "    </tr>\n",
       "    <tr>\n",
       "      <td>1</td>\n",
       "      <td>1103943240000</td>\n",
       "      <td>51bdf3e56ca0048f4e00ced2</td>\n",
       "      <td>0</td>\n",
       "      <td>1</td>\n",
       "      <td>1103943240000</td>\n",
       "      <td>1</td>\n",
       "      <td>1</td>\n",
       "      <td>True</td>\n",
       "      <td>cg</td>\n",
       "    </tr>\n",
       "    <tr>\n",
       "      <td>2</td>\n",
       "      <td>1104288840000</td>\n",
       "      <td>51bdf3e56ca0048f4e00ced0</td>\n",
       "      <td>0</td>\n",
       "      <td>1</td>\n",
       "      <td>1104288840000</td>\n",
       "      <td>1</td>\n",
       "      <td>2</td>\n",
       "      <td>True</td>\n",
       "      <td>cg</td>\n",
       "    </tr>\n",
       "  </tbody>\n",
       "</table>\n",
       "</div>"
      ],
      "text/plain": [
       "      created_at               journal_oid  published_at  site_id  \\\n",
       "0  1103856900000  51bdf3e56ca0048f4e00ced4             0        1   \n",
       "1  1103943240000  51bdf3e56ca0048f4e00ced2             0        1   \n",
       "2  1104288840000  51bdf3e56ca0048f4e00ced0             0        1   \n",
       "\n",
       "      updated_at  user_id  site_index  is_nontrivial predicted_label  \n",
       "0  1103856900000        1           0           True              cg  \n",
       "1  1103943240000        1           1           True              cg  \n",
       "2  1104288840000        1           2           True              cg  "
      ]
     },
     "execution_count": 10,
     "metadata": {},
     "output_type": "execute_result"
    }
   ],
   "source": [
    "journal_df.head(n=3)"
   ]
  },
  {
   "cell_type": "code",
   "execution_count": 11,
   "metadata": {},
   "outputs": [
    {
     "data": {
      "text/plain": [
       "[('cg', 11707863), ('p', 3890387)]"
      ]
     },
     "execution_count": 11,
     "metadata": {},
     "output_type": "execute_result"
    }
   ],
   "source": [
    "Counter(journal_df.predicted_label).most_common()"
   ]
  },
  {
   "cell_type": "code",
   "execution_count": 12,
   "metadata": {},
   "outputs": [
    {
     "data": {
      "text/plain": [
       "0.24941176093472023"
      ]
     },
     "execution_count": 12,
     "metadata": {},
     "output_type": "execute_result"
    }
   ],
   "source": [
    "# what's the overall percentage that are patient-authored\n",
    "np.sum(journal_df.predicted_label == 'p') / len(journal_df)"
   ]
  },
  {
   "cell_type": "code",
   "execution_count": 13,
   "metadata": {},
   "outputs": [],
   "source": [
    "user_proportions = journal_df.groupby(['user_id', 'site_id']).agg({'predicted_label': lambda group: np.sum(group == 'p') / len(group),\n",
    "                                                                  'site_index': lambda group: len(group)})"
   ]
  },
  {
   "cell_type": "code",
   "execution_count": 14,
   "metadata": {},
   "outputs": [
    {
     "data": {
      "text/html": [
       "<div>\n",
       "<style scoped>\n",
       "    .dataframe tbody tr th:only-of-type {\n",
       "        vertical-align: middle;\n",
       "    }\n",
       "\n",
       "    .dataframe tbody tr th {\n",
       "        vertical-align: top;\n",
       "    }\n",
       "\n",
       "    .dataframe thead th {\n",
       "        text-align: right;\n",
       "    }\n",
       "</style>\n",
       "<table border=\"1\" class=\"dataframe\">\n",
       "  <thead>\n",
       "    <tr style=\"text-align: right;\">\n",
       "      <th></th>\n",
       "      <th></th>\n",
       "      <th>patient_proportion</th>\n",
       "      <th>site_total</th>\n",
       "    </tr>\n",
       "    <tr>\n",
       "      <th>user_id</th>\n",
       "      <th>site_id</th>\n",
       "      <th></th>\n",
       "      <th></th>\n",
       "    </tr>\n",
       "  </thead>\n",
       "  <tbody>\n",
       "    <tr>\n",
       "      <td rowspan=\"5\" valign=\"top\">0</td>\n",
       "      <td>44</td>\n",
       "      <td>0.000000</td>\n",
       "      <td>72</td>\n",
       "    </tr>\n",
       "    <tr>\n",
       "      <td>102</td>\n",
       "      <td>0.369565</td>\n",
       "      <td>46</td>\n",
       "    </tr>\n",
       "    <tr>\n",
       "      <td>308</td>\n",
       "      <td>0.166667</td>\n",
       "      <td>12</td>\n",
       "    </tr>\n",
       "    <tr>\n",
       "      <td>664</td>\n",
       "      <td>0.000000</td>\n",
       "      <td>5</td>\n",
       "    </tr>\n",
       "    <tr>\n",
       "      <td>670</td>\n",
       "      <td>0.028571</td>\n",
       "      <td>315</td>\n",
       "    </tr>\n",
       "    <tr>\n",
       "      <td>...</td>\n",
       "      <td>...</td>\n",
       "      <td>...</td>\n",
       "      <td>...</td>\n",
       "    </tr>\n",
       "    <tr>\n",
       "      <td>40905335</td>\n",
       "      <td>1327430</td>\n",
       "      <td>0.000000</td>\n",
       "      <td>4</td>\n",
       "    </tr>\n",
       "    <tr>\n",
       "      <td>40906769</td>\n",
       "      <td>1327430</td>\n",
       "      <td>0.000000</td>\n",
       "      <td>1</td>\n",
       "    </tr>\n",
       "    <tr>\n",
       "      <td>40914864</td>\n",
       "      <td>1328992</td>\n",
       "      <td>0.000000</td>\n",
       "      <td>5</td>\n",
       "    </tr>\n",
       "    <tr>\n",
       "      <td>40933432</td>\n",
       "      <td>1330148</td>\n",
       "      <td>1.000000</td>\n",
       "      <td>4</td>\n",
       "    </tr>\n",
       "    <tr>\n",
       "      <td>40972477</td>\n",
       "      <td>1333192</td>\n",
       "      <td>1.000000</td>\n",
       "      <td>1</td>\n",
       "    </tr>\n",
       "  </tbody>\n",
       "</table>\n",
       "<p>414566 rows × 2 columns</p>\n",
       "</div>"
      ],
      "text/plain": [
       "                  patient_proportion  site_total\n",
       "user_id  site_id                                \n",
       "0        44                 0.000000          72\n",
       "         102                0.369565          46\n",
       "         308                0.166667          12\n",
       "         664                0.000000           5\n",
       "         670                0.028571         315\n",
       "...                              ...         ...\n",
       "40905335 1327430            0.000000           4\n",
       "40906769 1327430            0.000000           1\n",
       "40914864 1328992            0.000000           5\n",
       "40933432 1330148            1.000000           4\n",
       "40972477 1333192            1.000000           1\n",
       "\n",
       "[414566 rows x 2 columns]"
      ]
     },
     "execution_count": 14,
     "metadata": {},
     "output_type": "execute_result"
    }
   ],
   "source": [
    "user_proportions = user_proportions.rename(columns={'predicted_label': 'patient_proportion', 'site_index': 'site_total'})\n",
    "user_proportions"
   ]
  },
  {
   "cell_type": "code",
   "execution_count": 15,
   "metadata": {},
   "outputs": [
    {
     "data": {
      "text/html": [
       "<div>\n",
       "<style scoped>\n",
       "    .dataframe tbody tr th:only-of-type {\n",
       "        vertical-align: middle;\n",
       "    }\n",
       "\n",
       "    .dataframe tbody tr th {\n",
       "        vertical-align: top;\n",
       "    }\n",
       "\n",
       "    .dataframe thead th {\n",
       "        text-align: right;\n",
       "    }\n",
       "</style>\n",
       "<table border=\"1\" class=\"dataframe\">\n",
       "  <thead>\n",
       "    <tr style=\"text-align: right;\">\n",
       "      <th></th>\n",
       "      <th>user_id</th>\n",
       "      <th>site_id</th>\n",
       "      <th>patient_proportion</th>\n",
       "      <th>site_total</th>\n",
       "    </tr>\n",
       "  </thead>\n",
       "  <tbody>\n",
       "    <tr>\n",
       "      <td>0</td>\n",
       "      <td>0</td>\n",
       "      <td>44</td>\n",
       "      <td>0.000000</td>\n",
       "      <td>72</td>\n",
       "    </tr>\n",
       "    <tr>\n",
       "      <td>1</td>\n",
       "      <td>0</td>\n",
       "      <td>102</td>\n",
       "      <td>0.369565</td>\n",
       "      <td>46</td>\n",
       "    </tr>\n",
       "    <tr>\n",
       "      <td>2</td>\n",
       "      <td>0</td>\n",
       "      <td>308</td>\n",
       "      <td>0.166667</td>\n",
       "      <td>12</td>\n",
       "    </tr>\n",
       "    <tr>\n",
       "      <td>3</td>\n",
       "      <td>0</td>\n",
       "      <td>664</td>\n",
       "      <td>0.000000</td>\n",
       "      <td>5</td>\n",
       "    </tr>\n",
       "    <tr>\n",
       "      <td>4</td>\n",
       "      <td>0</td>\n",
       "      <td>670</td>\n",
       "      <td>0.028571</td>\n",
       "      <td>315</td>\n",
       "    </tr>\n",
       "  </tbody>\n",
       "</table>\n",
       "</div>"
      ],
      "text/plain": [
       "   user_id  site_id  patient_proportion  site_total\n",
       "0        0       44            0.000000          72\n",
       "1        0      102            0.369565          46\n",
       "2        0      308            0.166667          12\n",
       "3        0      664            0.000000           5\n",
       "4        0      670            0.028571         315"
      ]
     },
     "execution_count": 15,
     "metadata": {},
     "output_type": "execute_result"
    }
   ],
   "source": [
    "user_df = user_proportions.reset_index(level=user_proportions.index.names)\n",
    "user_df.head()"
   ]
  },
  {
   "cell_type": "code",
   "execution_count": 19,
   "metadata": {},
   "outputs": [
    {
     "data": {
      "text/plain": [
       "385374"
      ]
     },
     "execution_count": 19,
     "metadata": {},
     "output_type": "execute_result"
    }
   ],
   "source": [
    "user_df = user_df[user_df.user_id.isin(valid_user_ids)]\n",
    "len(user_df)"
   ]
  },
  {
   "cell_type": "code",
   "execution_count": 24,
   "metadata": {},
   "outputs": [],
   "source": [
    "# TODO probably split this into TWO designations: shared account/site, mixed site types\n",
    "\n",
    "def compute_author_type(group):\n",
    "    if len(group) == 1:\n",
    "        site = group.iloc[0]\n",
    "        patient_proportion = site.patient_proportion\n",
    "        if patient_proportion >= 0.8:\n",
    "            return 'p'\n",
    "        elif patient_proportion >= 0.2:\n",
    "            return 'shared'\n",
    "        else:\n",
    "            return 'cg'\n",
    "    else:  # multiple sites on which this user has authored!\n",
    "        is_shared = np.any((group.patient_proportion < 0.8)&(group.patient_proportion > 0.2))\n",
    "        if is_shared:\n",
    "            return 'shared'\n",
    "        if np.sum(group.patient_proportion >= 0.8) / len(group) >= 0.5:\n",
    "            return 'p'\n",
    "        else:\n",
    "            return 'cg'"
   ]
  },
  {
   "cell_type": "code",
   "execution_count": 21,
   "metadata": {},
   "outputs": [],
   "source": [
    "author_type_series = user_df.groupby('user_id').apply(compute_author_type)"
   ]
  },
  {
   "cell_type": "code",
   "execution_count": 22,
   "metadata": {},
   "outputs": [
    {
     "name": "stdout",
     "output_type": "stream",
     "text": [
      "cg 0.6850708578840607\n",
      "shared 0.18082766424264168\n",
      "p 0.13410147787329754\n"
     ]
    }
   ],
   "source": [
    "for key, value in Counter(author_type_series).most_common():\n",
    "    print(key, value / len(author_type_series))"
   ]
  },
  {
   "cell_type": "code",
   "execution_count": 27,
   "metadata": {},
   "outputs": [
    {
     "data": {
      "text/html": [
       "<div>\n",
       "<style scoped>\n",
       "    .dataframe tbody tr th:only-of-type {\n",
       "        vertical-align: middle;\n",
       "    }\n",
       "\n",
       "    .dataframe tbody tr th {\n",
       "        vertical-align: top;\n",
       "    }\n",
       "\n",
       "    .dataframe thead th {\n",
       "        text-align: right;\n",
       "    }\n",
       "</style>\n",
       "<table border=\"1\" class=\"dataframe\">\n",
       "  <thead>\n",
       "    <tr style=\"text-align: right;\">\n",
       "      <th></th>\n",
       "      <th>user_id</th>\n",
       "      <th>author_type</th>\n",
       "    </tr>\n",
       "  </thead>\n",
       "  <tbody>\n",
       "    <tr>\n",
       "      <td>0</td>\n",
       "      <td>1</td>\n",
       "      <td>cg</td>\n",
       "    </tr>\n",
       "    <tr>\n",
       "      <td>1</td>\n",
       "      <td>2</td>\n",
       "      <td>cg</td>\n",
       "    </tr>\n",
       "    <tr>\n",
       "      <td>2</td>\n",
       "      <td>6</td>\n",
       "      <td>cg</td>\n",
       "    </tr>\n",
       "    <tr>\n",
       "      <td>3</td>\n",
       "      <td>12</td>\n",
       "      <td>cg</td>\n",
       "    </tr>\n",
       "    <tr>\n",
       "      <td>4</td>\n",
       "      <td>15</td>\n",
       "      <td>shared</td>\n",
       "    </tr>\n",
       "  </tbody>\n",
       "</table>\n",
       "</div>"
      ],
      "text/plain": [
       "   user_id author_type\n",
       "0        1          cg\n",
       "1        2          cg\n",
       "2        6          cg\n",
       "3       12          cg\n",
       "4       15      shared"
      ]
     },
     "execution_count": 27,
     "metadata": {},
     "output_type": "execute_result"
    }
   ],
   "source": [
    "author_type_df = author_type_series.rename(\"author_type\").reset_index()\n",
    "author_type_df.head()"
   ]
  },
  {
   "cell_type": "code",
   "execution_count": 28,
   "metadata": {},
   "outputs": [
    {
     "name": "stdout",
     "output_type": "stream",
     "text": [
      "Finished.\n"
     ]
    }
   ],
   "source": [
    "# save the author type data\n",
    "author_type_dir = \"/home/srivbane/shared/caringbridge/data/projects/sna-social-support/author_type\"\n",
    "author_type_dataframe_filepath = os.path.join(author_type_dir, 'author_types.df')\n",
    "author_type_df.to_feather(author_type_dataframe_filepath)\n",
    "print(\"Finished.\")"
   ]
  },
  {
   "cell_type": "code",
   "execution_count": 29,
   "metadata": {},
   "outputs": [
    {
     "data": {
      "text/plain": [
       "362345"
      ]
     },
     "execution_count": 29,
     "metadata": {},
     "output_type": "execute_result"
    }
   ],
   "source": [
    "# read the author type data\n",
    "author_type_dir = \"/home/srivbane/shared/caringbridge/data/projects/sna-social-support/author_type\"\n",
    "author_type_dataframe_filepath = os.path.join(author_type_dir, 'author_types.df')\n",
    "author_type_df = pd.read_feather(author_type_dataframe_filepath)\n",
    "len(author_type_df)"
   ]
  },
  {
   "cell_type": "code",
   "execution_count": 20,
   "metadata": {},
   "outputs": [],
   "source": []
  },
  {
   "cell_type": "code",
   "execution_count": 17,
   "metadata": {},
   "outputs": [
    {
     "data": {
      "image/png": "[encoded data removed]",
      "text/plain": [
       "<Figure size 432x288 with 1 Axes>"
      ]
     },
     "metadata": {
      "needs_background": "light"
     },
     "output_type": "display_data"
    }
   ],
   "source": [
    "bins = np.linspace(0,1,num=100)\n",
    "plt.hist(user_proportions.predicted_label, bins=bins, log=True)\n",
    "plt.show()"
   ]
  },
  {
   "cell_type": "code",
   "execution_count": 24,
   "metadata": {},
   "outputs": [
    {
     "data": {
      "text/plain": [
       "array([0.6883909 , 0.18148726, 0.13012185])"
      ]
     },
     "execution_count": 24,
     "metadata": {},
     "output_type": "execute_result"
    }
   ],
   "source": [
    "threshold = 0.20\n",
    "bin_vals, _ = np.histogram(user_proportions.predicted_label, bins=[0, threshold, 1 - threshold, 1])\n",
    "bin_vals / len(user_proportions)"
   ]
  },
  {
   "cell_type": "code",
   "execution_count": null,
   "metadata": {},
   "outputs": [],
   "source": []
  },
  {
   "cell_type": "markdown",
   "metadata": {},
   "source": [
    "# Vowpal Wabbit\n",
    "\n",
    "### Convert the data to VW format"
   ]
  },
  {
   "cell_type": "code",
   "execution_count": null,
   "metadata": {},
   "outputs": [],
   "source": [
    "pos_lines = []\n",
    "neg_lines = []\n",
    "for i, annotation in annotation_df.iterrows():\n",
    "    label_section = \"-1\"\n",
    "    if annotation['label'] in [\"p\", \"P\"]:\n",
    "        label_section = \"+1\"\n",
    "    \n",
    "    identifier = \"sid%djoid%s\" % (annotation['site_id'], annotation['journal_oid'])\n",
    "    \n",
    "    formatted_journal = label_section + \" \" + identifier + \"|J \" + annotation['cleaned_body']\n",
    "    if label_section == \"+1\":\n",
    "        pos_lines.append(formatted_journal)\n",
    "    else:\n",
    "        neg_lines.append(formatted_journal)\n",
    "\n",
    "pos_lines[0], neg_lines[0]"
   ]
  },
  {
   "cell_type": "code",
   "execution_count": 28,
   "metadata": {},
   "outputs": [
    {
     "data": {
      "text/plain": [
       "(5939, 994)"
      ]
     },
     "execution_count": 28,
     "metadata": {},
     "output_type": "execute_result"
    }
   ],
   "source": [
    "# degree of class imbalance\n",
    "pos_lines = np.array(pos_lines)\n",
    "neg_lines = np.array(neg_lines)\n",
    "len(pos_lines), len(neg_lines)"
   ]
  },
  {
   "cell_type": "markdown",
   "metadata": {},
   "source": [
    "### Identify a balanced train/validation split"
   ]
  },
  {
   "cell_type": "code",
   "execution_count": 29,
   "metadata": {},
   "outputs": [
    {
     "name": "stderr",
     "output_type": "stream",
     "text": [
      "/home/srivbane/shared/anaconda3/lib/python3.7/site-packages/sklearn/model_selection/_split.py:2179: FutureWarning: From version 0.21, test_size will always complement train_size unless both are specified.\n",
      "  FutureWarning)\n"
     ]
    },
    {
     "name": "stdout",
     "output_type": "stream",
     "text": [
      "Pos included / left out: 1988 3951\n",
      "True validation: 597\n"
     ]
    },
    {
     "data": {
      "text/plain": [
       "(2386, 2385, 597)"
      ]
     },
     "execution_count": 29,
     "metadata": {},
     "output_type": "execute_result"
    }
   ],
   "source": [
    "# undersample to create the training dataset\n",
    "max_majority_class_pct = 2  # maximum number of majority class to include, as a percentage of the minority class\n",
    "target_train_pos_lines = int(len(neg_lines) * max_majority_class_pct)\n",
    "pos_included, pos_extra = train_test_split(pos_lines, train_size=target_train_pos_lines)\n",
    "print(\"Pos included / left out:\", len(pos_included), len(pos_extra))\n",
    "\n",
    "holdout_percent = 0.2\n",
    "\n",
    "train_lines, true_val_lines = train_test_split(np.concatenate((pos_included, neg_lines)), test_size=holdout_percent)\n",
    "print(\"True validation:\", len(true_val_lines))\n",
    "\n",
    "#valid_lines = np.concatenate((true_val_lines, pos_extra))\n",
    "valid_lines = true_val_lines\n",
    "\n",
    "holdout_start_index = len(train_lines) + 1\n",
    "holdout_start_index, len(train_lines), len(valid_lines)"
   ]
  },
  {
   "cell_type": "code",
   "execution_count": null,
   "metadata": {},
   "outputs": [],
   "source": [
    "train_lines[0]"
   ]
  },
  {
   "cell_type": "code",
   "execution_count": null,
   "metadata": {
    "scrolled": true
   },
   "outputs": [],
   "source": [
    "annotations[0]"
   ]
  },
  {
   "cell_type": "code",
   "execution_count": 32,
   "metadata": {},
   "outputs": [],
   "source": [
    "\n",
    "#train_lines = []\n",
    "#valid_lines = []\n",
    "\n",
    "#holdout_percent = 0.2\n",
    "#holdout_start_index = len(lines) - int(len(lines) * holdout_percent)\n",
    "\n",
    "#train_lines = lines[:holdout_start_index]\n",
    "#valid_lines = lines[holdout_start_index:]\n",
    "\n",
    "#for i, annotation in enumerate(annotations):\n",
    "#    annotation['in_training_data'] = i < holdout_start_index\n",
    "\n",
    "#len(train_lines), len(valid_lines)"
   ]
  },
  {
   "cell_type": "markdown",
   "metadata": {},
   "source": [
    "#### Write the train/test splits to a file"
   ]
  },
  {
   "cell_type": "code",
   "execution_count": 33,
   "metadata": {},
   "outputs": [
    {
     "name": "stdout",
     "output_type": "stream",
     "text": [
      "Finished writing VW-formatted file.\n"
     ]
    }
   ],
   "source": [
    "# write the formatted lines to a file (after another shuffle)\n",
    "random.shuffle(train_lines)\n",
    "random.shuffle(valid_lines)\n",
    "\n",
    "vw_filename = \"author_journal_text_only.txt\"\n",
    "vw_filepath = os.path.join(vw_working_dir, vw_filename)\n",
    "with open(vw_filepath, 'w', encoding=\"utf-8\") as outfile:\n",
    "    for line in train_lines:\n",
    "        outfile.write(line + \"\\n\")\n",
    "    for line in valid_lines:\n",
    "        outfile.write(line + \"\\n\")\n",
    "holdout_after = len(train_lines)\n",
    "print(\"Finished writing VW-formatted file.\")"
   ]
  },
  {
   "cell_type": "code",
   "execution_count": null,
   "metadata": {},
   "outputs": [],
   "source": [
    "!head -n 1 {vw_filepath}"
   ]
  },
  {
   "cell_type": "code",
   "execution_count": 35,
   "metadata": {},
   "outputs": [],
   "source": [
    "#vw_filename = \"author_journal_text_only.txt\"\n",
    "#vw_filepath = os.path.join(vw_working_dir, vw_filename)\n",
    "#holdout_after = 1917"
   ]
  },
  {
   "cell_type": "markdown",
   "metadata": {},
   "source": [
    "### Train the VW model on the training data"
   ]
  },
  {
   "cell_type": "code",
   "execution_count": 36,
   "metadata": {},
   "outputs": [
    {
     "name": "stdout",
     "output_type": "stream",
     "text": [
      "Training on training set (holdout after 2385 lines).\n",
      "Making predictions.\n",
      "Finished.\n"
     ]
    },
    {
     "name": "stderr",
     "output_type": "stream",
     "text": [
      "Generating 3-grams for all namespaces.\n",
      "using l2 regularization = 1e-06\n",
      "final_regressor = /home/srivbane/shared/caringbridge/data/projects/sna-social-support/author_type/vw/patient_authored.model\n",
      "Num weight bits = 22\n",
      "learning rate = 0.5\n",
      "initial_t = 0\n",
      "power_t = 0.5\n",
      "decay_learning_rate = 1\n",
      "creating cache_file = /home/srivbane/shared/caringbridge/data/projects/sna-social-support/author_type/vw/author_journal_text_only.txt.cache\n",
      "Reading datafile = /home/srivbane/shared/caringbridge/data/projects/sna-social-support/author_type/vw/author_journal_text_only.txt\n",
      "num sources = 1\n",
      "average  since         example        example  current  current  current\n",
      "loss     last          counter         weight    label  predict features\n",
      "1.000000 1.000000            1            1.0   1.0000  -1.0000      199\n",
      "0.500000 0.000000            2            2.0   1.0000   1.0000     1684\n",
      "0.500000 0.500000            4            4.0  -1.0000   1.0000       97\n",
      "0.625000 0.750000            8            8.0   1.0000  -1.0000      436\n",
      "0.437500 0.250000           16           16.0   1.0000   1.0000      373\n",
      "0.312500 0.187500           32           32.0   1.0000   1.0000      559\n",
      "0.250000 0.187500           64           64.0  -1.0000   1.0000      124\n",
      "0.179688 0.109375          128          128.0   1.0000   1.0000     1231\n",
      "0.128906 0.078125          256          256.0  -1.0000   1.0000      733\n",
      "0.089844 0.050781          512          512.0  -1.0000  -1.0000      199\n",
      "0.059570 0.029297         1024         1024.0  -1.0000  -1.0000      199\n",
      "0.049805 0.040039         2048         2048.0   1.0000   1.0000     2596\n",
      "0.048495 0.048495         4096         4096.0   1.0000   1.0000     1183 h\n",
      "0.050167 0.051003         8192         8192.0  -1.0000  -1.0000      223 h\n",
      "\n",
      "finished run\n",
      "number of examples per pass = 2384\n",
      "passes used = 4\n",
      "weighted example sum = 9536.000000\n",
      "weighted label sum = 3168.000000\n",
      "average loss = 0.048495 h\n",
      "best constant = 0.690631\n",
      "best constant's loss = 0.636901\n",
      "total feature number = 9660624\n",
      "\n",
      "\n",
      "Generating 3-grams for all namespaces.\n",
      "only testing\n",
      "predictions = /home/srivbane/shared/caringbridge/data/projects/sna-social-support/author_type/vw/author_journal_text_only.pred\n",
      "raw predictions = /home/srivbane/shared/caringbridge/data/projects/sna-social-support/author_type/vw/author_journal_text_only.pred.raw\n",
      "Num weight bits = 22\n",
      "learning rate = 0.5\n",
      "initial_t = 0\n",
      "power_t = 0.5\n",
      "using no cache\n",
      "Reading datafile = /home/srivbane/shared/caringbridge/data/projects/sna-social-support/author_type/vw/author_journal_text_only.txt\n",
      "num sources = 1\n",
      "average  since         example        example  current  current  current\n",
      "loss     last          counter         weight    label  predict features\n",
      "0.000000 0.000000            1            1.0   1.0000   1.0000      199\n",
      "0.000000 0.000000            2            2.0   1.0000   1.0000     1684\n",
      "0.000000 0.000000            4            4.0  -1.0000  -1.0000       97\n",
      "0.125000 0.250000            8            8.0   1.0000   1.0000      436\n",
      "0.062500 0.000000           16           16.0   1.0000   1.0000      373\n",
      "0.062500 0.062500           32           32.0   1.0000   1.0000      559\n",
      "0.031250 0.000000           64           64.0  -1.0000  -1.0000      124\n",
      "0.031250 0.031250          128          128.0   1.0000   1.0000     1231\n",
      "0.019531 0.007812          256          256.0  -1.0000  -1.0000      733\n",
      "0.011719 0.003906          512          512.0  -1.0000  -1.0000      199\n",
      "0.005859 0.000000         1024         1024.0  -1.0000  -1.0000      199\n",
      "0.005371 0.004883         2048         2048.0   1.0000   1.0000     2596\n",
      "\n",
      "finished run\n",
      "number of examples per pass = 2982\n",
      "passes used = 1\n",
      "weighted example sum = 2982.000000\n",
      "weighted label sum = 994.000000\n",
      "average loss = 0.013414\n",
      "best constant = 0.333333\n",
      "best constant's loss = 0.888889\n",
      "total feature number = 3011474\n"
     ]
    }
   ],
   "source": [
    "%%bash -s {vw_working_dir} {vw_filepath} {holdout_after}\n",
    "holdout_after=\"${3}\"\n",
    "echo \"Training on training set (holdout after ${holdout_after} lines).\"\n",
    "train_file=${2}\n",
    "working_dir=${1}\n",
    "model_file=${working_dir}\n",
    "vw --binary -k -c -b 22 -d ${train_file} \\\n",
    "    -f ${working_dir}/patient_authored.model \\\n",
    "    --passes 20 \\\n",
    "    --holdout_after ${holdout_after} \\\n",
    "    --ngram 3 \\\n",
    "    --l2 0.000001 \\\n",
    "    --loss_function logistic\n",
    "\n",
    "# Other options:\n",
    "#    --skips 1 \\\n",
    ">&2 echo\n",
    ">&2 echo\n",
    "\n",
    "echo \"Making predictions.\"\n",
    "vw --binary \\\n",
    "   -t -i ${working_dir}/patient_authored.model \\\n",
    "   -p ${working_dir}/author_journal_text_only.pred \\\n",
    "   -d ${train_file} \\\n",
    "   -r ${working_dir}/author_journal_text_only.pred.raw\n",
    "\n",
    "#echo \"Predicting on test set.\"\n",
    "#vw -t -i data/site_features_multiclass.model -d wd/site_features_multiclass_test.txt -p data/site_features_multiclass_test.pred\n",
    "#echo\n",
    " \n",
    "echo \"Finished.\""
   ]
  },
  {
   "cell_type": "code",
   "execution_count": 37,
   "metadata": {
    "scrolled": true
   },
   "outputs": [
    {
     "name": "stdout",
     "output_type": "stream",
     "text": [
      "1 sid912454joid5470dee0ca16b4c27bb0e9a5\r\n",
      "1 sid999165joid54faf55eaf3d799c34ab808e\r\n",
      "-1 sid837521joid54009962a589b4154824af37\r\n",
      "1 sid1031202joid562b9247cb16b4f264752816\r\n",
      "-1 sid867022joid55b61016ac7ee9534a13386c\r\n"
     ]
    }
   ],
   "source": [
    "!head -n 5 /home/srivbane/shared/caringbridge/data/projects/qual-health-journeys/author_classification/vw/author_journal_text_only.pred"
   ]
  },
  {
   "cell_type": "code",
   "execution_count": 38,
   "metadata": {
    "scrolled": true
   },
   "outputs": [
    {
     "name": "stdout",
     "output_type": "stream",
     "text": [
      "7.854739 sid912454joid5470dee0ca16b4c27bb0e9a5\r\n",
      "10.844439 sid999165joid54faf55eaf3d799c34ab808e\r\n",
      "-8.962088 sid837521joid54009962a589b4154824af37\r\n",
      "4.933350 sid1031202joid562b9247cb16b4f264752816\r\n",
      "-3.771698 sid867022joid55b61016ac7ee9534a13386c\r\n"
     ]
    }
   ],
   "source": [
    "!head -n 5 /home/srivbane/shared/caringbridge/data/projects/qual-health-journeys/author_classification/vw/author_journal_text_only.pred.raw"
   ]
  },
  {
   "cell_type": "markdown",
   "metadata": {},
   "source": [
    "### Load the predictions made by VW on the training/validation data as a Pandas dataframe"
   ]
  },
  {
   "cell_type": "code",
   "execution_count": 39,
   "metadata": {},
   "outputs": [],
   "source": [
    "def get_phase_predictions_with_weights(pred_filepath, raw_pred_filepath):\n",
    "    \n",
    "    with open(pred_filepath, 'r') as infile:\n",
    "        pred_lines = infile.readlines()\n",
    "    with open(raw_pred_filepath, 'r') as infile:\n",
    "        raw_pred_lines = infile.readlines()\n",
    "        \n",
    "    if len(pred_lines) != len(raw_pred_lines):\n",
    "        raise ValueError(\"Expected predicted and raw files to be the same length.\")\n",
    "    \n",
    "    dtype_dict = {\"site_id\": int, \n",
    "                     \"journal_oid\": str,\n",
    "                     \"raw_prob\": float,\n",
    "                     \"prob\": float,\n",
    "                     \"is_patient\": bool,\n",
    "                     \"is_patient_predicted\": bool,\n",
    "                     \"in_training_data\": bool}\n",
    "    columns = list(dtype_dict.keys())\n",
    "    dtype = [dtype_dict[col] for col in columns]\n",
    "    pred_df = pd.DataFrame(index=range(len(pred_lines)), columns=columns)\n",
    "    \n",
    "    is_train_map = {}\n",
    "    for train_line in train_lines:\n",
    "        tokens = train_line[:70].strip().split(\" \")\n",
    "        label, journal_id = tokens[:2]\n",
    "        journal_id = journal_id.split(\"|\")[0]\n",
    "        is_train_map[journal_id] = True\n",
    "    \n",
    "    is_pos_map = {}\n",
    "    for pos_line in pos_lines:\n",
    "        tokens = pos_line[:70].strip().split(\" \")\n",
    "        label, journal_id = tokens[:2]\n",
    "        journal_id = journal_id.split(\"|\")[0]\n",
    "        is_pos_map[journal_id] = True\n",
    "    \n",
    "    index = 0\n",
    "    for pred_line, raw_pred_line in zip(pred_lines, raw_pred_lines):\n",
    "        prediction, journal_id = pred_line.strip().split(\" \")\n",
    "        site_id, journal_oid = journal_id.split(\"joid\")\n",
    "        site_id = int(site_id[3:])\n",
    "        \n",
    "        pred_df.iloc[index][\"site_id\"] = site_id\n",
    "        pred_df.iloc[index][\"journal_oid\"] = journal_oid\n",
    "        pred_df.iloc[index][\"is_patient_predicted\"] = prediction == \"1\"\n",
    "        \n",
    "        pred_df.iloc[index][\"is_patient\"] = journal_id in is_pos_map\n",
    "        pred_df.iloc[index][\"in_training_data\"] = journal_id in is_train_map\n",
    "        \n",
    "        raw_prob, raw_journal_id = raw_pred_line.strip().split(\" \")\n",
    "        assert journal_id == raw_journal_id\n",
    "        pred_df.iloc[index][\"raw_prob\"] = float(raw_prob)\n",
    "        # if using a logistic loss function, we can recover the \"probability\" by applying the logistic function\n",
    "        pred_df.iloc[index][\"prob\"] = 1 / (1 + np.exp(-1 * float(raw_prob) ))\n",
    "        \n",
    "        index += 1\n",
    "    return pred_df"
   ]
  },
  {
   "cell_type": "code",
   "execution_count": 40,
   "metadata": {
    "scrolled": true
   },
   "outputs": [
    {
     "name": "stdout",
     "output_type": "stream",
     "text": [
      "site_id                 object\n",
      "journal_oid             object\n",
      "raw_prob                object\n",
      "prob                    object\n",
      "is_patient              object\n",
      "is_patient_predicted    object\n",
      "in_training_data        object\n",
      "dtype: object\n"
     ]
    },
    {
     "data": {
      "text/html": [
       "<div>\n",
       "<style scoped>\n",
       "    .dataframe tbody tr th:only-of-type {\n",
       "        vertical-align: middle;\n",
       "    }\n",
       "\n",
       "    .dataframe tbody tr th {\n",
       "        vertical-align: top;\n",
       "    }\n",
       "\n",
       "    .dataframe thead th {\n",
       "        text-align: right;\n",
       "    }\n",
       "</style>\n",
       "<table border=\"1\" class=\"dataframe\">\n",
       "  <thead>\n",
       "    <tr style=\"text-align: right;\">\n",
       "      <th></th>\n",
       "      <th>site_id</th>\n",
       "      <th>journal_oid</th>\n",
       "      <th>raw_prob</th>\n",
       "      <th>prob</th>\n",
       "      <th>is_patient</th>\n",
       "      <th>is_patient_predicted</th>\n",
       "      <th>in_training_data</th>\n",
       "    </tr>\n",
       "  </thead>\n",
       "  <tbody>\n",
       "    <tr>\n",
       "      <td>0</td>\n",
       "      <td>152591</td>\n",
       "      <td>51be20b86ca004df5c008be2</td>\n",
       "      <td>2.7519</td>\n",
       "      <td>0.940021</td>\n",
       "      <td>True</td>\n",
       "      <td>True</td>\n",
       "      <td>True</td>\n",
       "    </tr>\n",
       "    <tr>\n",
       "      <td>1</td>\n",
       "      <td>222767</td>\n",
       "      <td>51be30816ca0042711006307</td>\n",
       "      <td>15.2178</td>\n",
       "      <td>1</td>\n",
       "      <td>True</td>\n",
       "      <td>True</td>\n",
       "      <td>True</td>\n",
       "    </tr>\n",
       "    <tr>\n",
       "      <td>2</td>\n",
       "      <td>557731</td>\n",
       "      <td>51be59d06ca004c71b001abc</td>\n",
       "      <td>3.17108</td>\n",
       "      <td>0.959731</td>\n",
       "      <td>True</td>\n",
       "      <td>True</td>\n",
       "      <td>True</td>\n",
       "    </tr>\n",
       "    <tr>\n",
       "      <td>3</td>\n",
       "      <td>64076</td>\n",
       "      <td>51be07406ca004300d008b0e</td>\n",
       "      <td>-1.61925</td>\n",
       "      <td>0.165308</td>\n",
       "      <td>False</td>\n",
       "      <td>False</td>\n",
       "      <td>True</td>\n",
       "    </tr>\n",
       "    <tr>\n",
       "      <td>4</td>\n",
       "      <td>857627</td>\n",
       "      <td>52fad117a589b490782b58e4</td>\n",
       "      <td>-11.0897</td>\n",
       "      <td>1.52688e-05</td>\n",
       "      <td>False</td>\n",
       "      <td>False</td>\n",
       "      <td>True</td>\n",
       "    </tr>\n",
       "  </tbody>\n",
       "</table>\n",
       "</div>"
      ],
      "text/plain": [
       "  site_id               journal_oid raw_prob         prob is_patient  \\\n",
       "0  152591  51be20b86ca004df5c008be2   2.7519     0.940021       True   \n",
       "1  222767  51be30816ca0042711006307  15.2178            1       True   \n",
       "2  557731  51be59d06ca004c71b001abc  3.17108     0.959731       True   \n",
       "3   64076  51be07406ca004300d008b0e -1.61925     0.165308      False   \n",
       "4  857627  52fad117a589b490782b58e4 -11.0897  1.52688e-05      False   \n",
       "\n",
       "  is_patient_predicted in_training_data  \n",
       "0                 True             True  \n",
       "1                 True             True  \n",
       "2                 True             True  \n",
       "3                False             True  \n",
       "4                False             True  "
      ]
     },
     "execution_count": 40,
     "metadata": {},
     "output_type": "execute_result"
    }
   ],
   "source": [
    "pred_df = get_phase_predictions_with_weights(os.path.join(vw_working_dir, \"author_journal_text_only.pred\"),\n",
    "                                  os.path.join(vw_working_dir, \"author_journal_text_only.pred.raw\"))\n",
    "\n",
    "print(pred_df.dtypes)  # datatypes just stay object for now...\n",
    "pred_df.head()"
   ]
  },
  {
   "cell_type": "code",
   "execution_count": 41,
   "metadata": {},
   "outputs": [
    {
     "data": {
      "text/plain": [
       "(True, True)"
      ]
     },
     "execution_count": 41,
     "metadata": {},
     "output_type": "execute_result"
    }
   ],
   "source": [
    "# verify the contents of the merged data\n",
    "np.sum(pred_df.is_patient) == len(pos_included), np.sum(pred_df.in_training_data) == len(train_lines)"
   ]
  },
  {
   "cell_type": "code",
   "execution_count": 42,
   "metadata": {},
   "outputs": [
    {
     "data": {
      "text/plain": [
       "(False, 5939, 1988)"
      ]
     },
     "execution_count": 42,
     "metadata": {},
     "output_type": "execute_result"
    }
   ],
   "source": [
    "np.sum(pred_df.is_patient) == len(pos_lines), len(pos_lines), np.sum(pred_df.is_patient)"
   ]
  },
  {
   "cell_type": "code",
   "execution_count": 43,
   "metadata": {
    "scrolled": false
   },
   "outputs": [
    {
     "data": {
      "text/html": [
       "<div>\n",
       "<style scoped>\n",
       "    .dataframe tbody tr th:only-of-type {\n",
       "        vertical-align: middle;\n",
       "    }\n",
       "\n",
       "    .dataframe tbody tr th {\n",
       "        vertical-align: top;\n",
       "    }\n",
       "\n",
       "    .dataframe thead th {\n",
       "        text-align: right;\n",
       "    }\n",
       "</style>\n",
       "<table border=\"1\" class=\"dataframe\">\n",
       "  <thead>\n",
       "    <tr style=\"text-align: right;\">\n",
       "      <th></th>\n",
       "      <th>site_id</th>\n",
       "      <th>journal_oid</th>\n",
       "      <th>raw_prob</th>\n",
       "      <th>prob</th>\n",
       "      <th>is_patient</th>\n",
       "      <th>is_patient_predicted</th>\n",
       "      <th>in_training_data</th>\n",
       "      <th>annotation_url</th>\n",
       "    </tr>\n",
       "  </thead>\n",
       "  <tbody>\n",
       "    <tr>\n",
       "      <td>0</td>\n",
       "      <td>152591</td>\n",
       "      <td>51be20b86ca004df5c008be2</td>\n",
       "      <td>2.7519</td>\n",
       "      <td>0.940021</td>\n",
       "      <td>True</td>\n",
       "      <td>True</td>\n",
       "      <td>True</td>\n",
       "      <td>&lt;a href=\"http://127.0.0.1:5000/siteId/152591#51be20b86ca004df5c008be2\"&gt;http://127.0.0.1:5000/siteId/152591#51be20b86ca004df5c008be2&lt;/a&gt;</td>\n",
       "    </tr>\n",
       "  </tbody>\n",
       "</table>\n",
       "</div>"
      ],
      "text/plain": [
       "  site_id               journal_oid raw_prob      prob is_patient  \\\n",
       "0  152591  51be20b86ca004df5c008be2  2.7519   0.940021  True        \n",
       "\n",
       "  is_patient_predicted in_training_data  \\\n",
       "0  True                 True              \n",
       "\n",
       "                                                                                                                            annotation_url  \n",
       "0  <a href=\"http://127.0.0.1:5000/siteId/152591#51be20b86ca004df5c008be2\">http://127.0.0.1:5000/siteId/152591#51be20b86ca004df5c008be2</a>  "
      ]
     },
     "execution_count": 43,
     "metadata": {},
     "output_type": "execute_result"
    }
   ],
   "source": [
    "def get_url(site_id, journal_oid, port=5000):\n",
    "    url = \"http://127.0.0.1:%d/siteId/%d#%s\" % (port, site_id, journal_oid)\n",
    "    return '<a href=\"{}\">{}</a>'.format(url, url)\n",
    "\n",
    "pd.set_option('display.max_colwidth', -1)  # allow the entirety of the url to show by removing column width limits\n",
    "\n",
    "pred_df['annotation_url'] = [get_url(pred_df.iloc[i]['site_id'], pred_df.iloc[i]['journal_oid']) for i in range(len(pred_df))]\n",
    "pred_df.head(n=1)"
   ]
  },
  {
   "cell_type": "markdown",
   "metadata": {},
   "source": [
    "### Pull out the training and validation data and analyze accuracy"
   ]
  },
  {
   "cell_type": "code",
   "execution_count": 44,
   "metadata": {},
   "outputs": [],
   "source": [
    "train_df = pred_df[pred_df[\"in_training_data\"] == True]\n",
    "#print(len(train_df), len(train_lines))\n",
    "assert len(train_df) == len(train_lines)"
   ]
  },
  {
   "cell_type": "code",
   "execution_count": 45,
   "metadata": {},
   "outputs": [],
   "source": [
    "valid_df = pred_df[pred_df[\"in_training_data\"] == False]\n",
    "assert len(valid_df) == len(valid_lines)"
   ]
  },
  {
   "cell_type": "code",
   "execution_count": 46,
   "metadata": {},
   "outputs": [
    {
     "data": {
      "text/plain": [
       "0.9953878406708595"
      ]
     },
     "execution_count": 46,
     "metadata": {},
     "output_type": "execute_result"
    }
   ],
   "source": [
    "# Train accuracy\n",
    "np.sum(train_df[\"is_patient_predicted\"] == train_df[\"is_patient\"]) / len(train_df)"
   ]
  },
  {
   "cell_type": "code",
   "execution_count": 47,
   "metadata": {},
   "outputs": [
    {
     "data": {
      "text/plain": [
       "0.9514237855946399"
      ]
     },
     "execution_count": 47,
     "metadata": {},
     "output_type": "execute_result"
    }
   ],
   "source": [
    "# Validation accuracy\n",
    "np.sum(valid_df[\"is_patient_predicted\"] == valid_df[\"is_patient\"]) / len(valid_df)"
   ]
  },
  {
   "cell_type": "code",
   "execution_count": 48,
   "metadata": {},
   "outputs": [
    {
     "data": {
      "text/plain": [
       "[(True, 412), (False, 185)]"
      ]
     },
     "execution_count": 48,
     "metadata": {},
     "output_type": "execute_result"
    }
   ],
   "source": [
    "Counter(valid_df[\"is_patient_predicted\"]).most_common()"
   ]
  },
  {
   "cell_type": "code",
   "execution_count": 49,
   "metadata": {
    "scrolled": true
   },
   "outputs": [
    {
     "data": {
      "text/plain": [
       "[(True, 399), (False, 198)]"
      ]
     },
     "execution_count": 49,
     "metadata": {},
     "output_type": "execute_result"
    }
   ],
   "source": [
    "Counter(valid_df[\"is_patient\"]).most_common()"
   ]
  },
  {
   "cell_type": "code",
   "execution_count": 50,
   "metadata": {},
   "outputs": [],
   "source": [
    "y_true = [1 if b else 0 for b in valid_df[\"is_patient\"]]\n",
    "y_pred = [1 if b else 0 for b in valid_df[\"is_patient_predicted\"]]"
   ]
  },
  {
   "cell_type": "code",
   "execution_count": 51,
   "metadata": {},
   "outputs": [
    {
     "name": "stdout",
     "output_type": "stream",
     "text": [
      "Classification report:\n",
      "              precision    recall  f1-score   support\n",
      "\n",
      " Non-Patient       0.96      0.89      0.92       198\n",
      "     Patient       0.95      0.98      0.96       399\n",
      "\n",
      "   micro avg       0.95      0.95      0.95       597\n",
      "   macro avg       0.95      0.94      0.94       597\n",
      "weighted avg       0.95      0.95      0.95       597\n",
      "\n"
     ]
    }
   ],
   "source": [
    "from sklearn.metrics import classification_report\n",
    "classes=[\"Non-Patient\", \"Patient\"]\n",
    "\n",
    "print(\"Classification report:\")\n",
    "print(classification_report(y_true, y_pred, target_names=classes))"
   ]
  },
  {
   "cell_type": "code",
   "execution_count": 57,
   "metadata": {},
   "outputs": [
    {
     "data": {
      "image/png": "[encoded data removed]",
      "text/plain": [
       "<Figure size 648x648 with 2 Axes>"
      ]
     },
     "metadata": {
      "needs_background": "light"
     },
     "output_type": "display_data"
    },
    {
     "data": {
      "image/png": "[encoded data removed]",
      "text/plain": [
       "<Figure size 648x648 with 2 Axes>"
      ]
     },
     "metadata": {
      "needs_background": "light"
     },
     "output_type": "display_data"
    }
   ],
   "source": [
    "%matplotlib inline\n",
    "import itertools\n",
    "import numpy as np\n",
    "import matplotlib.pyplot as plt\n",
    "\n",
    "from sklearn import svm, datasets\n",
    "from sklearn.model_selection import train_test_split\n",
    "from sklearn.metrics import confusion_matrix\n",
    "\n",
    "# vis code borrowed from: http://scikit-learn.org/stable/auto_examples/model_selection/plot_confusion_matrix.html\n",
    "def plot_confusion_matrix(cm, classes,\n",
    "                          normalize=False,\n",
    "                          title='Confusion matrix',\n",
    "                          cmap=plt.cm.Blues, print_cm=False):\n",
    "    \"\"\"\n",
    "    This function prints and plots the confusion matrix.\n",
    "    Normalization can be applied by setting `normalize=True`.\n",
    "    \"\"\"\n",
    "    if normalize:\n",
    "        cm = cm.astype('float') / cm.sum(axis=1)[:, np.newaxis]\n",
    "    if print_cm:\n",
    "        if normalize:\n",
    "            print(\"Normalized confusion matrix\")\n",
    "        else:\n",
    "            print('Confusion matrix, without normalization')\n",
    "        print(cm)\n",
    "\n",
    "    plt.imshow(cm, interpolation='nearest', cmap=cmap)\n",
    "    plt.title(title)\n",
    "    plt.colorbar()\n",
    "    tick_marks = np.arange(len(classes))\n",
    "    plt.xticks(tick_marks, classes, rotation=90)\n",
    "    plt.yticks(tick_marks, classes)\n",
    "\n",
    "    fmt = '.2f' if normalize else 'd'\n",
    "    thresh = cm.max() / 2.\n",
    "    for i, j in itertools.product(range(cm.shape[0]), range(cm.shape[1])):\n",
    "        plt.text(j, i, format(cm[i, j], fmt),\n",
    "                 horizontalalignment=\"center\",\n",
    "                 color=\"white\" if cm[i, j] > thresh else \"black\")\n",
    "\n",
    "    #plt.tight_layout()\n",
    "    plt.ylabel('True label')\n",
    "    plt.xlabel('Predicted label')\n",
    "\n",
    "fig_size = (9,9)\n",
    "\n",
    "# Compute confusion matrix\n",
    "cnf_matrix = confusion_matrix(y_true, y_pred)\n",
    "np.set_printoptions(precision=2)\n",
    "\n",
    "# Plot non-normalized confusion matrix\n",
    "plt.figure(figsize=fig_size)\n",
    "plot_confusion_matrix(cnf_matrix, classes=classes,\n",
    "                      title='Confusion matrix')\n",
    "\n",
    "# Plot normalized confusion matrix\n",
    "plt.figure(figsize=fig_size)\n",
    "plot_confusion_matrix(cnf_matrix, classes=classes, normalize=True,\n",
    "                      title='Normalized confusion matrix')\n",
    "\n",
    "\n",
    "plt.show()"
   ]
  },
  {
   "cell_type": "code",
   "execution_count": 58,
   "metadata": {},
   "outputs": [
    {
     "data": {
      "image/png": "[encoded data removed]",
      "text/plain": [
       "<Figure size 576x576 with 1 Axes>"
      ]
     },
     "metadata": {
      "needs_background": "light"
     },
     "output_type": "display_data"
    }
   ],
   "source": [
    "# Plot the distribution of the predicted probabilities\n",
    "title = \"Distribution of the VW model's predicted probabilities\"\n",
    "fig, ax = pl.subplots(num=title, figsize=(8,8))\n",
    "x = np.array(valid_df['prob'], dtype=float)\n",
    "patches = plt.hist(x, bins=50, range=(0,1), label=\"All validation journals\")\n",
    "\n",
    "# Plot the distribution of specifically the wrongly-classified journal entries\n",
    "x2 = np.array(valid_df[valid_df[\"is_patient\"] != valid_df[\"is_patient_predicted\"]]['prob'], dtype=float)\n",
    "plt.hist(x2, bins=50, range=(0,1), label=\"Wrongly classified journals\")\n",
    "ax.set_title(title)\n",
    "ax.set_xlabel(\"Probability of being patient-authored\")\n",
    "ax.set_ylabel(\"Number of journals\")\n",
    "\n",
    "ax.legend()\n",
    "\n",
    "ax.grid(axis=\"y\", alpha=0.5)\n",
    "plt.show()"
   ]
  },
  {
   "cell_type": "code",
   "execution_count": 59,
   "metadata": {
    "scrolled": false
   },
   "outputs": [
    {
     "data": {
      "text/html": [
       "<table border=\"1\" class=\"dataframe\">\n",
       "  <thead>\n",
       "    <tr style=\"text-align: right;\">\n",
       "      <th></th>\n",
       "      <th>site_id</th>\n",
       "      <th>journal_oid</th>\n",
       "      <th>raw_prob</th>\n",
       "      <th>prob</th>\n",
       "      <th>is_patient</th>\n",
       "      <th>is_patient_predicted</th>\n",
       "      <th>in_training_data</th>\n",
       "      <th>annotation_url</th>\n",
       "    </tr>\n",
       "  </thead>\n",
       "  <tbody>\n",
       "    <tr>\n",
       "      <th>3503</th>\n",
       "      <td>845819</td>\n",
       "      <td>52a5e463ca16b44a10ffcabc</td>\n",
       "      <td>0.080036</td>\n",
       "      <td>0.519998</td>\n",
       "      <td>False</td>\n",
       "      <td>True</td>\n",
       "      <td>False</td>\n",
       "      <td><a href=\"http://127.0.0.1:5000/siteId/845819#52a5e463ca16b44a10ffcabc\">http://127.0.0.1:5000/siteId/845819#52a5e463ca16b44a10ffcabc</a></td>\n",
       "    </tr>\n",
       "    <tr>\n",
       "      <th>3811</th>\n",
       "      <td>146470</td>\n",
       "      <td>51be1f0d6ca0047d5700d7b0</td>\n",
       "      <td>-0.098129</td>\n",
       "      <td>0.475487</td>\n",
       "      <td>True</td>\n",
       "      <td>False</td>\n",
       "      <td>False</td>\n",
       "      <td><a href=\"http://127.0.0.1:5000/siteId/146470#51be1f0d6ca0047d5700d7b0\">http://127.0.0.1:5000/siteId/146470#51be1f0d6ca0047d5700d7b0</a></td>\n",
       "    </tr>\n",
       "    <tr>\n",
       "      <th>4067</th>\n",
       "      <td>829111</td>\n",
       "      <td>5245f47bac7ee969526702ec</td>\n",
       "      <td>-0.103169</td>\n",
       "      <td>0.474231</td>\n",
       "      <td>True</td>\n",
       "      <td>False</td>\n",
       "      <td>False</td>\n",
       "      <td><a href=\"http://127.0.0.1:5000/siteId/829111#5245f47bac7ee969526702ec\">http://127.0.0.1:5000/siteId/829111#5245f47bac7ee969526702ec</a></td>\n",
       "    </tr>\n",
       "    <tr>\n",
       "      <th>3518</th>\n",
       "      <td>1065713</td>\n",
       "      <td>56452582af3d799d4ff925d2</td>\n",
       "      <td>0.10584</td>\n",
       "      <td>0.526435</td>\n",
       "      <td>False</td>\n",
       "      <td>True</td>\n",
       "      <td>False</td>\n",
       "      <td><a href=\"http://127.0.0.1:5000/siteId/1065713#56452582af3d799d4ff925d2\">http://127.0.0.1:5000/siteId/1065713#56452582af3d799d4ff925d2</a></td>\n",
       "    </tr>\n",
       "    <tr>\n",
       "      <th>3818</th>\n",
       "      <td>594495</td>\n",
       "      <td>51be5dce6ca0040029002861</td>\n",
       "      <td>0.129424</td>\n",
       "      <td>0.532311</td>\n",
       "      <td>False</td>\n",
       "      <td>True</td>\n",
       "      <td>False</td>\n",
       "      <td><a href=\"http://127.0.0.1:5000/siteId/594495#51be5dce6ca0040029002861\">http://127.0.0.1:5000/siteId/594495#51be5dce6ca0040029002861</a></td>\n",
       "    </tr>\n",
       "    <tr>\n",
       "      <th>3648</th>\n",
       "      <td>661255</td>\n",
       "      <td>51be8a386ca004dd320019f2</td>\n",
       "      <td>0.133348</td>\n",
       "      <td>0.533288</td>\n",
       "      <td>False</td>\n",
       "      <td>True</td>\n",
       "      <td>False</td>\n",
       "      <td><a href=\"http://127.0.0.1:5000/siteId/661255#51be8a386ca004dd320019f2\">http://127.0.0.1:5000/siteId/661255#51be8a386ca004dd320019f2</a></td>\n",
       "    </tr>\n",
       "    <tr>\n",
       "      <th>3994</th>\n",
       "      <td>864283</td>\n",
       "      <td>53176be84db9210b790480ee</td>\n",
       "      <td>-0.14482</td>\n",
       "      <td>0.463858</td>\n",
       "      <td>True</td>\n",
       "      <td>False</td>\n",
       "      <td>False</td>\n",
       "      <td><a href=\"http://127.0.0.1:5000/siteId/864283#53176be84db9210b790480ee\">http://127.0.0.1:5000/siteId/864283#53176be84db9210b790480ee</a></td>\n",
       "    </tr>\n",
       "    <tr>\n",
       "      <th>3762</th>\n",
       "      <td>898453</td>\n",
       "      <td>54595c4df02065f405bed2de</td>\n",
       "      <td>0.153013</td>\n",
       "      <td>0.538179</td>\n",
       "      <td>False</td>\n",
       "      <td>True</td>\n",
       "      <td>False</td>\n",
       "      <td><a href=\"http://127.0.0.1:5000/siteId/898453#54595c4df02065f405bed2de\">http://127.0.0.1:5000/siteId/898453#54595c4df02065f405bed2de</a></td>\n",
       "    </tr>\n",
       "    <tr>\n",
       "      <th>3595</th>\n",
       "      <td>840297</td>\n",
       "      <td>53588534ac7ee9aa0f6adb2d</td>\n",
       "      <td>0.16442</td>\n",
       "      <td>0.541013</td>\n",
       "      <td>False</td>\n",
       "      <td>True</td>\n",
       "      <td>False</td>\n",
       "      <td><a href=\"http://127.0.0.1:5000/siteId/840297#53588534ac7ee9aa0f6adb2d\">http://127.0.0.1:5000/siteId/840297#53588534ac7ee9aa0f6adb2d</a></td>\n",
       "    </tr>\n",
       "    <tr>\n",
       "      <th>3477</th>\n",
       "      <td>388128</td>\n",
       "      <td>51be475a6ca004d65b003c41</td>\n",
       "      <td>0.19572</td>\n",
       "      <td>0.548774</td>\n",
       "      <td>False</td>\n",
       "      <td>True</td>\n",
       "      <td>False</td>\n",
       "      <td><a href=\"http://127.0.0.1:5000/siteId/388128#51be475a6ca004d65b003c41\">http://127.0.0.1:5000/siteId/388128#51be475a6ca004d65b003c41</a></td>\n",
       "    </tr>\n",
       "  </tbody>\n",
       "</table>"
      ],
      "text/plain": [
       "<IPython.core.display.HTML object>"
      ]
     },
     "execution_count": 59,
     "metadata": {},
     "output_type": "execute_result"
    }
   ],
   "source": [
    "# Within the errors, show the least-confident journal posts\n",
    "errors = valid_df[valid_df[\"is_patient\"] != valid_df[\"is_patient_predicted\"]]\n",
    "inds = np.argsort(np.abs(errors['prob'] - 0.5))\n",
    "\n",
    "# Show the n least-confident results that were wrongly classified\n",
    "n = 10\n",
    "toughest_n = errors.iloc[inds[:n]]\n",
    "\n",
    "HTML(toughest_n.to_html(escape=False))"
   ]
  },
  {
   "cell_type": "markdown",
   "metadata": {},
   "source": [
    "### Save the predictions of the model on the training/validation data"
   ]
  },
  {
   "cell_type": "code",
   "execution_count": 60,
   "metadata": {},
   "outputs": [],
   "source": [
    "# insert predictions into annotation web client's database\n",
    "def insert_author_predictions(predictions, commit=True):\n",
    "    prediction_type = 'journal_author_type'\n",
    "    try:\n",
    "        db = get_annotation_db()\n",
    "        \n",
    "        for prediction in predictions:\n",
    "            site_id = prediction['site_id']\n",
    "            journal_oid = prediction['journal_oid']\n",
    "            data = prediction['data']\n",
    "            probability = prediction['probability']\n",
    "        \n",
    "            db.execute(\n",
    "                \"\"\"INSERT INTO journalPrediction \n",
    "                (site_id, journal_oid, prediction_type, data, probability) \n",
    "                VALUES (?, ?, ?, ?, ?)\"\"\",\n",
    "                (site_id, journal_oid, prediction_type, data, probability)\n",
    "            )\n",
    "        \n",
    "        \n",
    "        if commit:\n",
    "            db.commit()\n",
    "    finally:\n",
    "        db.close()"
   ]
  },
  {
   "cell_type": "code",
   "execution_count": 62,
   "metadata": {},
   "outputs": [
    {
     "name": "stdout",
     "output_type": "stream",
     "text": [
      "{'site_id': 660931, 'journal_oid': '51be8a326ca004c83200173b', 'data': 'Patient', 'probability': 0.9764946909309304}\n"
     ]
    }
   ],
   "source": [
    "skip_prediction_insertion = False\n",
    "if not skip_prediction_insertion:\n",
    "    predictions = [{'site_id': pred_df.iloc[i]['site_id'],\n",
    "                    'journal_oid': pred_df.iloc[i]['journal_oid'],\n",
    "                    'data': \"Patient\" if pred_df.iloc[i]['is_patient_predicted'] else \"Non-patient\",\n",
    "                    'probability': pred_df.iloc[i]['prob']}\n",
    "                   for i in range(len(pred_df))]\n",
    "    print(predictions[0])"
   ]
  },
  {
   "cell_type": "code",
   "execution_count": 63,
   "metadata": {},
   "outputs": [],
   "source": [
    "if not skip_prediction_insertion:\n",
    "    insert_author_predictions(predictions)"
   ]
  },
  {
   "cell_type": "markdown",
   "metadata": {
    "collapsed": true
   },
   "source": [
    "### Apply the model to unlabeled data\n",
    "\n",
    "First, we'll create a file in VW format from a set of unlabeled sites.\n",
    "\n",
    "Then, we'll apply the model to the file to get predictions.\n",
    "\n",
    "Finally, we'll load in the predictions and analyze the highest and lowest confidence journals to see if there are clear error patterns or if there is a clear bias in the model."
   ]
  },
  {
   "cell_type": "code",
   "execution_count": 64,
   "metadata": {},
   "outputs": [],
   "source": [
    "candidate_site_working_dir = \"/home/srivbane/shared/caringbridge/data/projects/qual-health-journeys/identify_candidate_sites\"\n",
    "valid_sites_filename = os.path.join(candidate_site_working_dir, \"valid_classification_sites.txt\")"
   ]
  },
  {
   "cell_type": "code",
   "execution_count": 65,
   "metadata": {},
   "outputs": [
    {
     "data": {
      "text/plain": [
       "58363"
      ]
     },
     "execution_count": 65,
     "metadata": {},
     "output_type": "execute_result"
    }
   ],
   "source": [
    "with open(valid_sites_filename, 'r') as infile:\n",
    "    candidate_site_ids = [int(line.strip()) for line in infile]\n",
    "len(candidate_site_ids)"
   ]
  },
  {
   "cell_type": "code",
   "execution_count": 66,
   "metadata": {},
   "outputs": [
    {
     "data": {
      "text/plain": [
       "[382262, 158520, 1060990, 129632, 291508]"
      ]
     },
     "execution_count": 66,
     "metadata": {},
     "output_type": "execute_result"
    }
   ],
   "source": [
    "# randomly select a subset of n sites to predict the labels for\n",
    "random.shuffle(candidate_site_ids)\n",
    "\n",
    "n = 1000\n",
    "candidate_subset = candidate_site_ids[:n]\n",
    "\n",
    "candidate_subset[:5]"
   ]
  },
  {
   "cell_type": "markdown",
   "metadata": {},
   "source": [
    "#### Format the selected sites in VW format"
   ]
  },
  {
   "cell_type": "code",
   "execution_count": 127,
   "metadata": {},
   "outputs": [
    {
     "name": "stderr",
     "output_type": "stream",
     "text": [
      "100%|██████████| 1000/1000 [05:44<00:00,  4.43it/s]\n"
     ]
    },
    {
     "data": {
      "text/plain": [
       "54809"
      ]
     },
     "execution_count": 127,
     "metadata": {},
     "output_type": "execute_result"
    }
   ],
   "source": [
    "unlabeled_vw_test_filepath = os.path.join(vw_working_dir, \"unlabeled_candidate_sites.txt\")\n",
    "\n",
    "# only create the file if it doesn't exist\n",
    "overwrite_unlabeled_file = True\n",
    "\n",
    "lines_written = 0\n",
    "if not os.path.exists(unlabeled_vw_test_filepath) or overwrite_unlabeled_file:\n",
    "    with open(unlabeled_vw_test_filepath, 'w', encoding=\"utf-8\") as outfile:\n",
    "        for site_id in tqdm(candidate_subset):\n",
    "            body_list = get_journal_texts(site_id)\n",
    "            for body in body_list:\n",
    "                journal_oid = body['journal_oid']\n",
    "                body_text = body['body']\n",
    "                if len(body_text) < 50:\n",
    "                    continue\n",
    "                cleaned_body = get_cleaned_text(body_text)\n",
    "\n",
    "                identifier = \"sid%djoid%s\" % (site_id, journal_oid)\n",
    "                formatted_journal = identifier + \"|J \" + cleaned_body\n",
    "\n",
    "                outfile.write(formatted_journal + \"\\n\")\n",
    "                lines_written += 1\n",
    "\n",
    "lines_written"
   ]
  },
  {
   "cell_type": "code",
   "execution_count": null,
   "metadata": {},
   "outputs": [],
   "source": [
    "!head -n 1 {unlabeled_vw_test_filepath}"
   ]
  },
  {
   "cell_type": "markdown",
   "metadata": {},
   "source": [
    "#### Apply the VW model to the file"
   ]
  },
  {
   "cell_type": "code",
   "execution_count": 129,
   "metadata": {},
   "outputs": [
    {
     "name": "stdout",
     "output_type": "stream",
     "text": [
      "Making predictions on test file.\n",
      "Finished.\n"
     ]
    },
    {
     "name": "stderr",
     "output_type": "stream",
     "text": [
      "Generating 3-grams for all namespaces.\n",
      "only testing\n",
      "predictions = /home/srivbane/shared/caringbridge/data/projects/sna-social-support/author_type/vw/unlabeled_text_only.pred\n",
      "raw predictions = /home/srivbane/shared/caringbridge/data/projects/sna-social-support/author_type/vw/unlabeled_text_only.pred.raw\n",
      "Num weight bits = 22\n",
      "learning rate = 0.5\n",
      "initial_t = 0\n",
      "power_t = 0.5\n",
      "using no cache\n",
      "Reading datafile = /home/srivbane/shared/caringbridge/data/projects/sna-social-support/author_type/vw/unlabeled_candidate_sites.txt\n",
      "num sources = 1\n",
      "average  since         example        example  current  current  current\n",
      "loss     last          counter         weight    label  predict features\n",
      "    n.a.     n.a.            1            1.0  unknown   1.0000     1510\n",
      "    n.a.     n.a.            2            2.0  unknown   1.0000      403\n",
      "    n.a.     n.a.            4            4.0  unknown   1.0000      409\n",
      "    n.a.     n.a.            8            8.0  unknown   1.0000     1651\n",
      "    n.a.     n.a.           16           16.0  unknown   1.0000      421\n",
      "    n.a.     n.a.           32           32.0  unknown  -1.0000      511\n",
      "    n.a.     n.a.           64           64.0  unknown  -1.0000      586\n",
      "    n.a.     n.a.          128          128.0  unknown  -1.0000      349\n",
      "    n.a.     n.a.          256          256.0  unknown   1.0000     1186\n",
      "    n.a.     n.a.          512          512.0  unknown   1.0000     1147\n",
      "    n.a.     n.a.         1024         1024.0  unknown  -1.0000      934\n",
      "    n.a.     n.a.         2048         2048.0  unknown   1.0000      676\n",
      "    n.a.     n.a.         4096         4096.0  unknown  -1.0000      907\n",
      "    n.a.     n.a.         8192         8192.0  unknown   1.0000     2062\n",
      "    n.a.     n.a.        16384        16384.0  unknown  -1.0000      631\n",
      "    n.a.     n.a.        32768        32768.0  unknown  -1.0000     1198\n",
      "\n",
      "finished run\n",
      "number of examples per pass = 54809\n",
      "passes used = 1\n",
      "weighted example sum = 54809.000000\n",
      "weighted label sum = 0.000000\n",
      "average loss = n.a.\n",
      "total feature number = 44924862\n"
     ]
    }
   ],
   "source": [
    "%%bash -s {vw_working_dir} {unlabeled_vw_test_filepath}\n",
    "working_dir=${1}\n",
    "unlabeled_vw_test_filepath=${2}\n",
    "\n",
    "echo \"Making predictions on test file.\"\n",
    "vw --binary \\\n",
    "   -t -i ${working_dir}/patient_authored.model \\\n",
    "   -p ${working_dir}/unlabeled_text_only.pred \\\n",
    "   -r ${working_dir}/unlabeled_text_only.pred.raw \\\n",
    "   -d ${unlabeled_vw_test_filepath}\n",
    " \n",
    "echo \"Finished.\""
   ]
  },
  {
   "cell_type": "code",
   "execution_count": 130,
   "metadata": {},
   "outputs": [],
   "source": [
    "raw_predictions_filepath = os.path.join(vw_working_dir, \"unlabeled_text_only.pred.raw\")\n",
    "assert os.path.exists(raw_predictions_filepath)"
   ]
  },
  {
   "cell_type": "code",
   "execution_count": 131,
   "metadata": {},
   "outputs": [
    {
     "name": "stdout",
     "output_type": "stream",
     "text": [
      "4.509168 sid881145joid535c85e9e9cb6a301bdc936b\r\n",
      "0.897970 sid881145joid53606313ac7ee9a842611f95\r\n",
      "5.440414 sid881145joid5361d6c7a689b4d574f3fc68\r\n",
      "1.093930 sid881145joid53718837ca16b4b04da2e426\r\n",
      "7.313563 sid881145joid537ec931ab28b946603fa56d\r\n",
      "1.226371 sid881145joid538558b48b5cd3bc0db647d9\r\n",
      "1.407135 sid881145joid5397c759cb16b4e94bd7571a\r\n",
      "4.706953 sid881145joid53ba1f28ca16b4ef36c97952\r\n",
      "5.305619 sid881145joid53dfcf14ac7ee99504155c91\r\n",
      "0.465066 sid881145joid53ebcbb4ac7ee96024b88963\r\n"
     ]
    }
   ],
   "source": [
    "!head {raw_predictions_filepath}"
   ]
  },
  {
   "cell_type": "markdown",
   "metadata": {},
   "source": [
    "#### Load the predictions into Python"
   ]
  },
  {
   "cell_type": "code",
   "execution_count": 132,
   "metadata": {},
   "outputs": [],
   "source": [
    "def get_author_predictions(raw_predictions_filepath):\n",
    "    \n",
    "    with open(raw_predictions_filepath, 'r') as infile:\n",
    "        pred_lines = infile.readlines()\n",
    "    \n",
    "    dtype_dict = {\"site_id\": int, \n",
    "                     \"journal_oid\": str,\n",
    "                     \"prob\": float,\n",
    "                     \"is_patient\": bool}\n",
    "    columns = list(dtype_dict.keys())\n",
    "    dtype = [dtype_dict[col] for col in columns]\n",
    "    pred_df = pd.DataFrame(index=range(len(pred_lines)), columns=columns)\n",
    "    \n",
    "    site_id_list = []\n",
    "    journal_oid_list = []\n",
    "    prob_list = []\n",
    "    is_patient_list = []\n",
    "    url_list = []\n",
    "    index = 0\n",
    "    for pred_line in tqdm(pred_lines):\n",
    "        raw_prob, journal_id = pred_line.strip().split(\" \")\n",
    "        site_id, journal_oid = journal_id.split(\"joid\")\n",
    "        site_id = int(site_id[3:])\n",
    "        \n",
    "        # probability is computed assuming a logistic loss function\n",
    "        # if we change the model to use a different loss, this won't work anymore!\n",
    "        prob = 1 / (1 + np.exp(-1 * float(raw_prob) ))\n",
    "        assert prob >= 0 and prob <= 1\n",
    "        is_patient = prob >= 0.5\n",
    "        \n",
    "        url = get_url(site_id, journal_oid)\n",
    "        \n",
    "        site_id_list.append(site_id)\n",
    "        journal_oid_list.append(journal_oid)\n",
    "        prob_list.append(prob)\n",
    "        is_patient_list.append(is_patient)\n",
    "        url_list.append(url)\n",
    "        \n",
    "        #pred_df.iloc[index][\"site_id\"] = site_id\n",
    "        #pred_df.iloc[index][\"journal_oid\"] = journal_oid\n",
    "        #pred_df.iloc[index][\"is_patient\"] = is_patient\n",
    "        #pred_df.iloc[index][\"raw_prob\"] = float(raw_prob)\n",
    "        #pred_df.iloc[index][\"prob\"] = prob\n",
    "        \n",
    "        index += 1\n",
    "    \n",
    "    pred_df['site_id'] = site_id_list\n",
    "    pred_df['journal_oid'] = journal_oid_list\n",
    "    pred_df['prob'] = prob_list\n",
    "    pred_df['is_patient'] = is_patient_list\n",
    "    pred_df['annotation_url'] = url_list\n",
    "    return pred_df"
   ]
  },
  {
   "cell_type": "code",
   "execution_count": 135,
   "metadata": {},
   "outputs": [
    {
     "name": "stderr",
     "output_type": "stream",
     "text": [
      "100%|██████████| 54809/54809 [00:00<00:00, 152323.43it/s]\n"
     ]
    },
    {
     "data": {
      "text/plain": [
       "54809"
      ]
     },
     "execution_count": 135,
     "metadata": {},
     "output_type": "execute_result"
    }
   ],
   "source": [
    "unlabeled_df = get_author_predictions(raw_predictions_filepath)\n",
    "len(unlabeled_df)"
   ]
  },
  {
   "cell_type": "code",
   "execution_count": 136,
   "metadata": {
    "scrolled": false
   },
   "outputs": [
    {
     "data": {
      "text/html": [
       "<div>\n",
       "<style scoped>\n",
       "    .dataframe tbody tr th:only-of-type {\n",
       "        vertical-align: middle;\n",
       "    }\n",
       "\n",
       "    .dataframe tbody tr th {\n",
       "        vertical-align: top;\n",
       "    }\n",
       "\n",
       "    .dataframe thead th {\n",
       "        text-align: right;\n",
       "    }\n",
       "</style>\n",
       "<table border=\"1\" class=\"dataframe\">\n",
       "  <thead>\n",
       "    <tr style=\"text-align: right;\">\n",
       "      <th></th>\n",
       "      <th>site_id</th>\n",
       "      <th>journal_oid</th>\n",
       "      <th>prob</th>\n",
       "      <th>is_patient</th>\n",
       "      <th>annotation_url</th>\n",
       "    </tr>\n",
       "  </thead>\n",
       "  <tbody>\n",
       "    <tr>\n",
       "      <th>0</th>\n",
       "      <td>881145</td>\n",
       "      <td>535c85e9e9cb6a301bdc936b</td>\n",
       "      <td>0.989112</td>\n",
       "      <td>True</td>\n",
       "      <td>&lt;a href=\"http://127.0.0.1:5000/siteId/881145#535c85e9e9cb6a301bdc936b\"&gt;http://127.0.0.1:5000/siteId/881145#535c85e9e9cb6a301bdc936b&lt;/a&gt;</td>\n",
       "    </tr>\n",
       "    <tr>\n",
       "      <th>1</th>\n",
       "      <td>881145</td>\n",
       "      <td>53606313ac7ee9a842611f95</td>\n",
       "      <td>0.710532</td>\n",
       "      <td>True</td>\n",
       "      <td>&lt;a href=\"http://127.0.0.1:5000/siteId/881145#53606313ac7ee9a842611f95\"&gt;http://127.0.0.1:5000/siteId/881145#53606313ac7ee9a842611f95&lt;/a&gt;</td>\n",
       "    </tr>\n",
       "    <tr>\n",
       "      <th>2</th>\n",
       "      <td>881145</td>\n",
       "      <td>5361d6c7a689b4d574f3fc68</td>\n",
       "      <td>0.995681</td>\n",
       "      <td>True</td>\n",
       "      <td>&lt;a href=\"http://127.0.0.1:5000/siteId/881145#5361d6c7a689b4d574f3fc68\"&gt;http://127.0.0.1:5000/siteId/881145#5361d6c7a689b4d574f3fc68&lt;/a&gt;</td>\n",
       "    </tr>\n",
       "    <tr>\n",
       "      <th>3</th>\n",
       "      <td>881145</td>\n",
       "      <td>53718837ca16b4b04da2e426</td>\n",
       "      <td>0.749121</td>\n",
       "      <td>True</td>\n",
       "      <td>&lt;a href=\"http://127.0.0.1:5000/siteId/881145#53718837ca16b4b04da2e426\"&gt;http://127.0.0.1:5000/siteId/881145#53718837ca16b4b04da2e426&lt;/a&gt;</td>\n",
       "    </tr>\n",
       "    <tr>\n",
       "      <th>4</th>\n",
       "      <td>881145</td>\n",
       "      <td>537ec931ab28b946603fa56d</td>\n",
       "      <td>0.999334</td>\n",
       "      <td>True</td>\n",
       "      <td>&lt;a href=\"http://127.0.0.1:5000/siteId/881145#537ec931ab28b946603fa56d\"&gt;http://127.0.0.1:5000/siteId/881145#537ec931ab28b946603fa56d&lt;/a&gt;</td>\n",
       "    </tr>\n",
       "  </tbody>\n",
       "</table>\n",
       "</div>"
      ],
      "text/plain": [
       "   site_id               journal_oid      prob  is_patient  \\\n",
       "0  881145   535c85e9e9cb6a301bdc936b  0.989112  True         \n",
       "1  881145   53606313ac7ee9a842611f95  0.710532  True         \n",
       "2  881145   5361d6c7a689b4d574f3fc68  0.995681  True         \n",
       "3  881145   53718837ca16b4b04da2e426  0.749121  True         \n",
       "4  881145   537ec931ab28b946603fa56d  0.999334  True         \n",
       "\n",
       "                                                                                                                            annotation_url  \n",
       "0  <a href=\"http://127.0.0.1:5000/siteId/881145#535c85e9e9cb6a301bdc936b\">http://127.0.0.1:5000/siteId/881145#535c85e9e9cb6a301bdc936b</a>  \n",
       "1  <a href=\"http://127.0.0.1:5000/siteId/881145#53606313ac7ee9a842611f95\">http://127.0.0.1:5000/siteId/881145#53606313ac7ee9a842611f95</a>  \n",
       "2  <a href=\"http://127.0.0.1:5000/siteId/881145#5361d6c7a689b4d574f3fc68\">http://127.0.0.1:5000/siteId/881145#5361d6c7a689b4d574f3fc68</a>  \n",
       "3  <a href=\"http://127.0.0.1:5000/siteId/881145#53718837ca16b4b04da2e426\">http://127.0.0.1:5000/siteId/881145#53718837ca16b4b04da2e426</a>  \n",
       "4  <a href=\"http://127.0.0.1:5000/siteId/881145#537ec931ab28b946603fa56d\">http://127.0.0.1:5000/siteId/881145#537ec931ab28b946603fa56d</a>  "
      ]
     },
     "execution_count": 136,
     "metadata": {},
     "output_type": "execute_result"
    }
   ],
   "source": [
    "unlabeled_df.head()"
   ]
  },
  {
   "cell_type": "markdown",
   "metadata": {},
   "source": [
    "#### Write the assigned predictions to the annotation database"
   ]
  },
  {
   "cell_type": "code",
   "execution_count": 140,
   "metadata": {},
   "outputs": [
    {
     "name": "stderr",
     "output_type": "stream",
     "text": [
      "54809it [00:00, 1208143.83it/s]"
     ]
    },
    {
     "name": "stdout",
     "output_type": "stream",
     "text": [
      "{'site_id': 881145, 'journal_oid': '535c85e9e9cb6a301bdc936b', 'data': 'Patient', 'probability': 0.9891122336346914} 54809\n"
     ]
    },
    {
     "name": "stderr",
     "output_type": "stream",
     "text": [
      "\n"
     ]
    }
   ],
   "source": [
    "# we have to do some tedious nonsense here to avoid dealing with how slow pandas indexing is\n",
    "if not skip_prediction_insertion:\n",
    "    site_id_list = unlabeled_df['site_id'].tolist()\n",
    "    journal_oid_list = unlabeled_df['journal_oid'].tolist()\n",
    "    prob_list = unlabeled_df['prob'].tolist()\n",
    "    is_patient_list = unlabeled_df['is_patient'].tolist()\n",
    "    predictions = [{'site_id': site_id, \n",
    "                    'journal_oid': journal_oid,\n",
    "                    'data': \"Patient\" if is_patient else \"Non-patient\",\n",
    "                    'probability': prob} \n",
    "                   for site_id, journal_oid, is_patient, prob\n",
    "                   in tqdm(zip(site_id_list, journal_oid_list, is_patient_list, prob_list))]\n",
    "    del site_id_list, journal_oid_list, is_patient_list, prob_list\n",
    "    print(predictions[0], len(predictions))"
   ]
  },
  {
   "cell_type": "code",
   "execution_count": 141,
   "metadata": {},
   "outputs": [
    {
     "data": {
      "text/plain": [
       "54809"
      ]
     },
     "execution_count": 141,
     "metadata": {},
     "output_type": "execute_result"
    }
   ],
   "source": [
    "len(predictions)"
   ]
  },
  {
   "cell_type": "code",
   "execution_count": 142,
   "metadata": {
    "scrolled": true
   },
   "outputs": [
    {
     "name": "stdout",
     "output_type": "stream",
     "text": [
      "CPU times: user 721 ms, sys: 468 ms, total: 1.19 s\n",
      "Wall time: 11.1 s\n"
     ]
    }
   ],
   "source": [
    "%%time\n",
    "if not skip_prediction_insertion:\n",
    "    insert_author_predictions(predictions)"
   ]
  },
  {
   "cell_type": "code",
   "execution_count": 143,
   "metadata": {},
   "outputs": [],
   "source": [
    "# these are redundant with the df, and may take up quite a lot of memory, so delete them\n",
    "if not skip_prediction_insertion:\n",
    "    del predictions"
   ]
  },
  {
   "cell_type": "markdown",
   "metadata": {},
   "source": [
    "#### Analyze the predictions produced by the model on the unlabeled sites\n",
    "\n",
    "We look at the general distribution of the probabilities and look at the journals about which the classifier is least certain.\n",
    "\n",
    "We then look at the distribution of patient posts within a site."
   ]
  },
  {
   "cell_type": "code",
   "execution_count": 144,
   "metadata": {},
   "outputs": [
    {
     "data": {
      "text/plain": [
       "[(False, 29214), (True, 25595)]"
      ]
     },
     "execution_count": 144,
     "metadata": {},
     "output_type": "execute_result"
    }
   ],
   "source": [
    "Counter(unlabeled_df['is_patient']).most_common()"
   ]
  },
  {
   "cell_type": "code",
   "execution_count": 145,
   "metadata": {},
   "outputs": [
    {
     "data": {
      "image/png": "[encoded data removed]",
      "text/plain": [
       "<Figure size 576x576 with 1 Axes>"
      ]
     },
     "metadata": {
      "needs_background": "light"
     },
     "output_type": "display_data"
    }
   ],
   "source": [
    "# Plot the distribution of unlabeled journal predicted probabilities\n",
    "title = \"Distribution of predicted probabilities on unlabeled sites\"\n",
    "fig, ax = pl.subplots(num=title, figsize=(8,8))\n",
    "x = np.array(unlabeled_df['prob'], dtype=float)\n",
    "patches = plt.hist(x, bins=50, range=(0,1), label=\"Unlabeled candidate sites\")\n",
    "\n",
    "ax.set_title(title)\n",
    "ax.set_xlabel(\"Probability of being patient-authored\")\n",
    "ax.set_ylabel(\"Number of journals\")\n",
    "\n",
    "ax.legend()\n",
    "\n",
    "ax.grid(axis=\"y\", alpha=0.5)\n",
    "plt.show()"
   ]
  },
  {
   "cell_type": "code",
   "execution_count": 55,
   "metadata": {},
   "outputs": [],
   "source": [
    "# Within the errors, compute the least-confident journal posts (those with probability closest to 0.5)\n",
    "inds = np.argsort(np.abs(unlabeled_df['prob'] - 0.5))"
   ]
  },
  {
   "cell_type": "code",
   "execution_count": 56,
   "metadata": {},
   "outputs": [
    {
     "data": {
      "text/html": [
       "<table border=\"1\" class=\"dataframe\">\n",
       "  <thead>\n",
       "    <tr style=\"text-align: right;\">\n",
       "      <th></th>\n",
       "      <th>site_id</th>\n",
       "      <th>journal_oid</th>\n",
       "      <th>prob</th>\n",
       "      <th>is_patient</th>\n",
       "      <th>annotation_url</th>\n",
       "    </tr>\n",
       "  </thead>\n",
       "  <tbody>\n",
       "    <tr>\n",
       "      <th>1100408</th>\n",
       "      <td>190877</td>\n",
       "      <td>51be29e96ca004487a007bd0</td>\n",
       "      <td>0.500000</td>\n",
       "      <td>True</td>\n",
       "      <td><a href=\"http://127.0.0.1:5000/siteId/190877#51be29e96ca004487a007bd0\">http://127.0.0.1:5000/siteId/190877#51be29e96ca004487a007bd0</a></td>\n",
       "    </tr>\n",
       "    <tr>\n",
       "      <th>896765</th>\n",
       "      <td>180789</td>\n",
       "      <td>51bf38686ca004e77811587c</td>\n",
       "      <td>0.500000</td>\n",
       "      <td>True</td>\n",
       "      <td><a href=\"http://127.0.0.1:5000/siteId/180789#51bf38686ca004e77811587c\">http://127.0.0.1:5000/siteId/180789#51bf38686ca004e77811587c</a></td>\n",
       "    </tr>\n",
       "    <tr>\n",
       "      <th>1514884</th>\n",
       "      <td>211597</td>\n",
       "      <td>51be2f106ca004200c01278c</td>\n",
       "      <td>0.500000</td>\n",
       "      <td>True</td>\n",
       "      <td><a href=\"http://127.0.0.1:5000/siteId/211597#51be2f106ca004200c01278c\">http://127.0.0.1:5000/siteId/211597#51be2f106ca004200c01278c</a></td>\n",
       "    </tr>\n",
       "    <tr>\n",
       "      <th>2809056</th>\n",
       "      <td>907882</td>\n",
       "      <td>544446e14db921cd51426502</td>\n",
       "      <td>0.500000</td>\n",
       "      <td>False</td>\n",
       "      <td><a href=\"http://127.0.0.1:5000/siteId/907882#544446e14db921cd51426502\">http://127.0.0.1:5000/siteId/907882#544446e14db921cd51426502</a></td>\n",
       "    </tr>\n",
       "    <tr>\n",
       "      <th>1286027</th>\n",
       "      <td>200024</td>\n",
       "      <td>51be2c296ca004a90200a919</td>\n",
       "      <td>0.500001</td>\n",
       "      <td>True</td>\n",
       "      <td><a href=\"http://127.0.0.1:5000/siteId/200024#51be2c296ca004a90200a919\">http://127.0.0.1:5000/siteId/200024#51be2c296ca004a90200a919</a></td>\n",
       "    </tr>\n",
       "    <tr>\n",
       "      <th>2303548</th>\n",
       "      <td>573549</td>\n",
       "      <td>51be5b866ca0045e21003353</td>\n",
       "      <td>0.499999</td>\n",
       "      <td>False</td>\n",
       "      <td><a href=\"http://127.0.0.1:5000/siteId/573549#51be5b866ca0045e21003353\">http://127.0.0.1:5000/siteId/573549#51be5b866ca0045e21003353</a></td>\n",
       "    </tr>\n",
       "    <tr>\n",
       "      <th>2513351</th>\n",
       "      <td>623145</td>\n",
       "      <td>51be87136ca0040e28001748</td>\n",
       "      <td>0.500001</td>\n",
       "      <td>True</td>\n",
       "      <td><a href=\"http://127.0.0.1:5000/siteId/623145#51be87136ca0040e28001748\">http://127.0.0.1:5000/siteId/623145#51be87136ca0040e28001748</a></td>\n",
       "    </tr>\n",
       "    <tr>\n",
       "      <th>843965</th>\n",
       "      <td>176398</td>\n",
       "      <td>51be26bf6ca004007000e751</td>\n",
       "      <td>0.499998</td>\n",
       "      <td>False</td>\n",
       "      <td><a href=\"http://127.0.0.1:5000/siteId/176398#51be26bf6ca004007000e751\">http://127.0.0.1:5000/siteId/176398#51be26bf6ca004007000e751</a></td>\n",
       "    </tr>\n",
       "    <tr>\n",
       "      <th>848549</th>\n",
       "      <td>176398</td>\n",
       "      <td>51bf38736ca004e77811eb48</td>\n",
       "      <td>0.499998</td>\n",
       "      <td>False</td>\n",
       "      <td><a href=\"http://127.0.0.1:5000/siteId/176398#51bf38736ca004e77811eb48\">http://127.0.0.1:5000/siteId/176398#51bf38736ca004e77811eb48</a></td>\n",
       "    </tr>\n",
       "    <tr>\n",
       "      <th>2842933</th>\n",
       "      <td>910321</td>\n",
       "      <td>54cae85bab28b9e44fb994e3</td>\n",
       "      <td>0.499998</td>\n",
       "      <td>False</td>\n",
       "      <td><a href=\"http://127.0.0.1:5000/siteId/910321#54cae85bab28b9e44fb994e3\">http://127.0.0.1:5000/siteId/910321#54cae85bab28b9e44fb994e3</a></td>\n",
       "    </tr>\n",
       "    <tr>\n",
       "      <th>1324305</th>\n",
       "      <td>321096</td>\n",
       "      <td>51be402f6ca004bb430054fa</td>\n",
       "      <td>0.500002</td>\n",
       "      <td>True</td>\n",
       "      <td><a href=\"http://127.0.0.1:5000/siteId/321096#51be402f6ca004bb430054fa\">http://127.0.0.1:5000/siteId/321096#51be402f6ca004bb430054fa</a></td>\n",
       "    </tr>\n",
       "    <tr>\n",
       "      <th>1793444</th>\n",
       "      <td>434008</td>\n",
       "      <td>523c77abab28b960721e810d</td>\n",
       "      <td>0.500002</td>\n",
       "      <td>True</td>\n",
       "      <td><a href=\"http://127.0.0.1:5000/siteId/434008#523c77abab28b960721e810d\">http://127.0.0.1:5000/siteId/434008#523c77abab28b960721e810d</a></td>\n",
       "    </tr>\n",
       "    <tr>\n",
       "      <th>369387</th>\n",
       "      <td>144465</td>\n",
       "      <td>51be1e716ca0047f55013325</td>\n",
       "      <td>0.500002</td>\n",
       "      <td>True</td>\n",
       "      <td><a href=\"http://127.0.0.1:5000/siteId/144465#51be1e716ca0047f55013325\">http://127.0.0.1:5000/siteId/144465#51be1e716ca0047f55013325</a></td>\n",
       "    </tr>\n",
       "    <tr>\n",
       "      <th>447217</th>\n",
       "      <td>151409</td>\n",
       "      <td>51be206c6ca004d65b00cbdb</td>\n",
       "      <td>0.500002</td>\n",
       "      <td>True</td>\n",
       "      <td><a href=\"http://127.0.0.1:5000/siteId/151409#51be206c6ca004d65b00cbdb\">http://127.0.0.1:5000/siteId/151409#51be206c6ca004d65b00cbdb</a></td>\n",
       "    </tr>\n",
       "    <tr>\n",
       "      <th>217625</th>\n",
       "      <td>131404</td>\n",
       "      <td>51be1a8a6ca004644900de02</td>\n",
       "      <td>0.499998</td>\n",
       "      <td>False</td>\n",
       "      <td><a href=\"http://127.0.0.1:5000/siteId/131404#51be1a8a6ca004644900de02\">http://127.0.0.1:5000/siteId/131404#51be1a8a6ca004644900de02</a></td>\n",
       "    </tr>\n",
       "    <tr>\n",
       "      <th>67366</th>\n",
       "      <td>115064</td>\n",
       "      <td>51be164c6ca004163c00b99b</td>\n",
       "      <td>0.499997</td>\n",
       "      <td>False</td>\n",
       "      <td><a href=\"http://127.0.0.1:5000/siteId/115064#51be164c6ca004163c00b99b\">http://127.0.0.1:5000/siteId/115064#51be164c6ca004163c00b99b</a></td>\n",
       "    </tr>\n",
       "  </tbody>\n",
       "</table>"
      ],
      "text/plain": [
       "<IPython.core.display.HTML object>"
      ]
     },
     "execution_count": 56,
     "metadata": {},
     "output_type": "execute_result"
    }
   ],
   "source": [
    "# Show the n least-confident results in a dataframe\n",
    "n = 16\n",
    "toughest_n = unlabeled_df.iloc[inds[:n]]\n",
    "\n",
    "HTML(toughest_n.to_html(escape=False))"
   ]
  },
  {
   "cell_type": "code",
   "execution_count": 57,
   "metadata": {},
   "outputs": [
    {
     "name": "stdout",
     "output_type": "stream",
     "text": [
      "Identified 1260096 total journals as patient-authored.\n"
     ]
    },
    {
     "data": {
      "text/plain": [
       "58462"
      ]
     },
     "execution_count": 57,
     "metadata": {},
     "output_type": "execute_result"
    }
   ],
   "source": [
    "patient_proportions_dict = {}\n",
    "total_patient_journals = 0\n",
    "for site_id, group in unlabeled_df.groupby(by=\"site_id\"):\n",
    "    patient_journals = np.count_nonzero(group['is_patient'])\n",
    "    total_patient_journals += patient_journals\n",
    "    \n",
    "    num_journals = len(group)\n",
    "    \n",
    "    patient_proportion = patient_journals / num_journals\n",
    "    patient_proportions_dict[site_id] = patient_proportion\n",
    "print(\"Identified %d total journals as patient-authored.\" % total_patient_journals)\n",
    "len(patient_proportions_dict)"
   ]
  },
  {
   "cell_type": "code",
   "execution_count": 69,
   "metadata": {},
   "outputs": [
    {
     "name": "stdout",
     "output_type": "stream",
     "text": [
      "Finished.\n"
     ]
    }
   ],
   "source": [
    "# Write out the site proportions data to a CSV file\n",
    "site_proportions_filepath = os.path.join(general_working_dir, \"site_proportions.csv\")\n",
    "with open(site_proportions_filepath, 'w') as outfile:\n",
    "    outfile.write(\"site_id,proportion_patient_authored\\n\")\n",
    "    for site_id in patient_proportions_dict:\n",
    "        proportion_patient_authored = patient_proportions_dict[site_id]\n",
    "        outfile.write(\"{},{}\\n\".format(site_id, proportion_patient_authored))\n",
    "print(\"Finished.\")"
   ]
  },
  {
   "cell_type": "code",
   "execution_count": 58,
   "metadata": {},
   "outputs": [
    {
     "data": {
      "text/plain": [
       "[('Mostly non-patient', 34873), ('Mostly patient', 23589)]"
      ]
     },
     "execution_count": 58,
     "metadata": {},
     "output_type": "execute_result"
    }
   ],
   "source": [
    "Counter([\"Mostly patient\" if p > 0.5 else \"Mostly non-patient\" for p in patient_proportions_dict.values()]).most_common()"
   ]
  },
  {
   "cell_type": "code",
   "execution_count": 59,
   "metadata": {},
   "outputs": [
    {
     "data": {
      "text/plain": [
       "0.40349286716157506"
      ]
     },
     "execution_count": 59,
     "metadata": {},
     "output_type": "execute_result"
    }
   ],
   "source": [
    "# percent that are mostly patient-authored\n",
    "np.sum([1 if p > 0.5 else 0 for p in patient_proportions_dict.values()]) / len(patient_proportions_dict)"
   ]
  },
  {
   "cell_type": "code",
   "execution_count": 60,
   "metadata": {
    "scrolled": false
   },
   "outputs": [
    {
     "data": {
      "image/png": "[encoded data removed]",
      "text/plain": [
       "<Figure size 576x576 with 1 Axes>"
      ]
     },
     "metadata": {},
     "output_type": "display_data"
    }
   ],
   "source": [
    "# Plot the distribution of unlabeled journal predicted probabilities\n",
    "title = \"Proportion of patient-authored journals\"\n",
    "fig, ax = pl.subplots(num=title, figsize=(8,8))\n",
    "x = patient_proportions_dict.values()\n",
    "patches = plt.hist(x, bins=50, range=(0,1), label=\"Unlabeled candidate sites\")\n",
    "\n",
    "ax.set_title(title)\n",
    "ax.set_xlabel(\"% of journals predicted to be patient-authored\")\n",
    "ax.set_ylabel(\"Number of sites\")\n",
    "\n",
    "ax.legend()\n",
    "\n",
    "ax.grid(axis=\"y\", alpha=0.5)\n",
    "plt.show()"
   ]
  },
  {
   "cell_type": "code",
   "execution_count": 61,
   "metadata": {},
   "outputs": [
    {
     "name": "stdout",
     "output_type": "stream",
     "text": [
      "20 buckets will each capture 5.00% of a site's journals.\n"
     ]
    },
    {
     "name": "stderr",
     "output_type": "stream",
     "text": [
      "100%|██████████| 58462/58462 [02:33<00:00, 381.46it/s]\n"
     ]
    },
    {
     "data": {
      "text/plain": [
       "(141703.45, 58771.75)"
      ]
     },
     "execution_count": 61,
     "metadata": {},
     "output_type": "execute_result"
    }
   ],
   "source": [
    "# look at the distribution over time (by bucketing by percentile journals complete on the site?)\n",
    "\n",
    "def get_journal_metadata_db():\n",
    "    db_filepath=\"/home/srivbane/shared/caringbridge/data/projects/qual-health-journeys/extract_site_features/journal_metadata.db\"\n",
    "    db = sqlite3.connect(\n",
    "            db_filepath,\n",
    "            detect_types=sqlite3.PARSE_DECLTYPES\n",
    "        )\n",
    "    db.row_factory = sqlite3.Row\n",
    "    return db\n",
    "\n",
    "def get_journal_times(site_id):\n",
    "    try:\n",
    "        db = get_journal_metadata_db()\n",
    "        cursor = db.execute(\"\"\"SELECT journal_oid, site_index, created_at\n",
    "                                    FROM journalMetadata\n",
    "                                    WHERE site_id = ? \n",
    "                                    GROUP BY journal_oid\n",
    "                                    ORDER BY id DESC\"\"\",\n",
    "                                (site_id,))\n",
    "        \n",
    "        times = []\n",
    "        results = cursor.fetchall()\n",
    "        if results is None:\n",
    "            return []\n",
    "        for result in results:\n",
    "            d = {key: result[key] for key in result.keys()}\n",
    "            times.append(d)\n",
    "        times.sort(key=lambda d: d['created_at'])\n",
    "        \n",
    "        journal_oid_dict = {}\n",
    "        for time_dict in times:\n",
    "            journal_oid_dict[time_dict['journal_oid']] = time_dict\n",
    "        return journal_oid_dict\n",
    "    finally:\n",
    "        db.close()\n",
    "\n",
    "buckets = 20\n",
    "percentile_gap = 1 / buckets\n",
    "print(\"%d buckets will each capture %.2f%% of a site's journals.\" % (buckets, percentile_gap * 100))\n",
    "\n",
    "total_bucket_counts = [0 for i in range(buckets)]\n",
    "is_patient_bucket_counts = [0 for i in range(buckets)]\n",
    "\n",
    "for site_id, group in tqdm(unlabeled_df.groupby(by=\"site_id\")):\n",
    "    if len(group) < 20:\n",
    "        continue  # only compute percentiles for sites with at least X journals\n",
    "    \n",
    "    journal_times = get_journal_times(site_id)\n",
    "    num_journals = len(journal_times)\n",
    "    assert num_journals >= len(group)\n",
    "    \n",
    "    journal_oid_list = group['journal_oid']\n",
    "    is_patient_list = group['is_patient'].tolist()\n",
    "    \n",
    "    for i, journal_oid in enumerate(journal_oid_list):\n",
    "        site_index = journal_times[journal_oid]['site_index']\n",
    "        created_at = journal_times[journal_oid]['created_at']\n",
    "        \n",
    "        percent_through_site = site_index / num_journals\n",
    "        assert percent_through_site < 1\n",
    "        \n",
    "        bucket_right_boundary = percentile_gap\n",
    "        bucket = 0\n",
    "        while percent_through_site > bucket_right_boundary:\n",
    "            bucket += 1\n",
    "            bucket_right_boundary += percentile_gap\n",
    "        \n",
    "        #print(site_index, percent_through_site, bucket)\n",
    "        if bucket_right_boundary >= 1:  # should be in the last bucket\n",
    "            bucket = buckets - 1\n",
    "            \n",
    "        total_bucket_counts[bucket] += 1\n",
    "        if is_patient_list[i]:\n",
    "            is_patient_bucket_counts[bucket] += 1\n",
    "np.mean(total_bucket_counts), np.mean(is_patient_bucket_counts)"
   ]
  },
  {
   "cell_type": "code",
   "execution_count": 62,
   "metadata": {},
   "outputs": [
    {
     "data": {
      "text/plain": [
       "[64512,\n",
       " 56772,\n",
       " 56908,\n",
       " 59264,\n",
       " 59222,\n",
       " 57709,\n",
       " 59203,\n",
       " 57269,\n",
       " 61142,\n",
       " 56583,\n",
       " 63835,\n",
       " 62331,\n",
       " 58639,\n",
       " 60554,\n",
       " 60884,\n",
       " 58707,\n",
       " 57769,\n",
       " 58519,\n",
       " 56602,\n",
       " 49011]"
      ]
     },
     "execution_count": 62,
     "metadata": {},
     "output_type": "execute_result"
    }
   ],
   "source": [
    "is_patient_bucket_counts"
   ]
  },
  {
   "cell_type": "code",
   "execution_count": 63,
   "metadata": {},
   "outputs": [
    {
     "data": {
      "text/plain": [
       "[0.39526747584415267,\n",
       " 0.40064925899788284,\n",
       " 0.4048950551405194,\n",
       " 0.4097515107097916,\n",
       " 0.4148186543014443,\n",
       " 0.41601966593856554,\n",
       " 0.4187745805392864,\n",
       " 0.4208078299398206,\n",
       " 0.4225665551654549,\n",
       " 0.424762219336241,\n",
       " 0.4229668305482302,\n",
       " 0.4236860708556513,\n",
       " 0.42322127112894614,\n",
       " 0.4226063774103722,\n",
       " 0.4204492876725573,\n",
       " 0.4175462304409673,\n",
       " 0.41688496316021156,\n",
       " 0.41121081590061065,\n",
       " 0.40604017216642757,\n",
       " 0.4032001974414874]"
      ]
     },
     "execution_count": 63,
     "metadata": {},
     "output_type": "execute_result"
    }
   ],
   "source": [
    "bucket_proportions = [patient / total for patient, total in zip(is_patient_bucket_counts, total_bucket_counts)]\n",
    "bucket_proportions"
   ]
  },
  {
   "cell_type": "code",
   "execution_count": 64,
   "metadata": {},
   "outputs": [
    {
     "data": {
      "image/png": "[encoded data removed]",
      "text/plain": [
       "<Figure size 576x576 with 1 Axes>"
      ]
     },
     "metadata": {},
     "output_type": "display_data"
    }
   ],
   "source": [
    "title = \"Proportion of patient-authored journals by strata\"\n",
    "fig, ax = pl.subplots(num=title, figsize=(8,8))\n",
    "\n",
    "x = np.arange(0, 1, percentile_gap)\n",
    "y = bucket_proportions\n",
    "plt.bar(x, y, percentile_gap, align='edge')\n",
    "\n",
    "ax.set_title(title)\n",
    "ax.set_xlabel(\"%% of site (in %d buckets)\" % buckets)\n",
    "ax.set_ylabel(\"Proportion of patient-authored journals\")\n",
    "\n",
    "#ax.set_xticks([i for i in range(0, 108, 4)])\n",
    "#ax.set_xticklabels([str(i) if i != 104 else \"+\" for i in range(0, 108, 4)])\n",
    "\n",
    "#ax.set_yticks([i for i in range(0, 430, 10)])\n",
    "\n",
    "ax.set_ylim((0, 1))\n",
    "\n",
    "ax.grid(axis=\"y\", alpha=0.5)\n",
    "plt.show()"
   ]
  },
  {
   "cell_type": "markdown",
   "metadata": {},
   "source": [
    "## Apply model to all journals via streaming\n",
    "\n",
    "Everything below here was moved to a separate script: `predict_author_type.py`"
   ]
  },
  {
   "cell_type": "code",
   "execution_count": 16,
   "metadata": {
    "collapsed": true
   },
   "outputs": [],
   "source": [
    "from subprocess import Popen, PIPE"
   ]
  },
  {
   "cell_type": "code",
   "execution_count": 24,
   "metadata": {
    "collapsed": true
   },
   "outputs": [],
   "source": [
    "import sys\n",
    "sys.path.append(\"/home/srivbane/levon003/repos/qual-health-journeys/annotation_data\")\n",
    "import journal as journal_utils"
   ]
  },
  {
   "cell_type": "code",
   "execution_count": 58,
   "metadata": {
    "collapsed": true
   },
   "outputs": [],
   "source": [
    "from importlib import reload\n",
    "journal_utils = reload(journal_utils)"
   ]
  },
  {
   "cell_type": "code",
   "execution_count": 59,
   "metadata": {},
   "outputs": [
    {
     "data": {
      "text/plain": [
       "'vw --quiet -i /home/srivbane/shared/caringbridge/data/projects/sna-social-support/author_type/vw/patient_authored.model -t -p /dev/stdout'"
      ]
     },
     "execution_count": 59,
     "metadata": {},
     "output_type": "execute_result"
    }
   ],
   "source": [
    "vw_streaming_command = f\"vw --quiet -i {vw_working_dir}/patient_authored.model -t -p /dev/stdout\"\n",
    "vw_streaming_command"
   ]
  },
  {
   "cell_type": "code",
   "execution_count": null,
   "metadata": {},
   "outputs": [],
   "source": [
    "res = list(journal_utils.iter_journal_texts(limit=10))\n",
    "len(res), res[0]"
   ]
  },
  {
   "cell_type": "code",
   "execution_count": 74,
   "metadata": {},
   "outputs": [],
   "source": [
    "def get_preds(results):\n",
    "    # expects results of the form \"0.564 sid912454joid5470dee0ca16b4c27bb0e9a5\\n\"\n",
    "    preds = []\n",
    "    try:\n",
    "        for result in results:\n",
    "            if result.strip() == '':\n",
    "                continue\n",
    "            pred, key = result.strip().split(\" \")\n",
    "            pred = float(pred)\n",
    "            siteId, journalOid = key.split(\"joid\")\n",
    "            siteId = int(siteId[3:])\n",
    "            pred_dict = {'author_type_raw_prediction': pred,\n",
    "                         'site_id': siteId,\n",
    "                         'journal_oid': journalOid}\n",
    "            preds.append(pred_dict)\n",
    "    except Exception as ex:\n",
    "        print(ex)\n",
    "        print(\"Potentially erroneous result:\", result)\n",
    "    return preds\n",
    "\n",
    "\n",
    "def get_vw_format(journal):\n",
    "    text = journal_utils.get_journal_text_representation(journal)\n",
    "    if text is None:\n",
    "        return None\n",
    "    cleaned_text = get_cleaned_text(text, strip_tags=False)\n",
    "    identifier = \"sid%djoid%s\" % (journal['site_id'], journal['journal_oid'])\n",
    "    return \" \" + identifier + \"|J \" + cleaned_text + \"\\n\"\n",
    "\n",
    "\n",
    "def process_batch(batch_lines, vw_proc):\n",
    "    for line in batch_lines:\n",
    "        #print(line)\n",
    "        vw_proc.stdin.write(line)\n",
    "        vw_proc.stdin.flush()\n",
    "    results = []\n",
    "    for i in range(len(batch_lines)):\n",
    "        result = vw_proc.stdout.readline()\n",
    "        #print(result)\n",
    "        if result == '':\n",
    "            raise ValueError(\"Reached end of stdout, which is a surprise given that # inputs should == # outputs.\")\n",
    "        results.append(result)\n",
    "    preds = get_preds(results)\n",
    "    return preds\n",
    "\n",
    "\n",
    "def write_preds(fd, preds):\n",
    "    for p in preds:\n",
    "        line = \"{},{},{}\\n\".format(p['site_id'], p['journal_oid'], p['author_type_raw_prediction'])\n",
    "        fd.write(line)\n",
    "\n",
    "def stream_journals(preds_filepath):\n",
    "    vw_proc = Popen(vw_streaming_command, \n",
    "                    shell=True, encoding='utf-8',\n",
    "                    stdout=PIPE, stdin=PIPE, stderr=None)\n",
    "    try:\n",
    "        \n",
    "        batch_size = 100\n",
    "        batch_lines = []\n",
    "        journal_iter = journal_utils.iter_journal_texts(limit=10000)\n",
    "        estimated_length = 15327592  # total number of journals\n",
    "        report_frequency = 1000\n",
    "        with open(preds_filepath, 'w') as outfile:\n",
    "            for i, journal in enumerate(journal_iter):\n",
    "                if i % report_frequency == 0:\n",
    "                    print(i, \"%.2f\" % (i / estimated_length * 100))\n",
    "                line = get_vw_format(journal)\n",
    "                if line is None:\n",
    "                    continue\n",
    "                batch_lines.append(line)\n",
    "                if len(batch_lines) == batch_size:\n",
    "                    batch_preds = process_batch(batch_lines, vw_proc)\n",
    "                    write_preds(outfile, batch_preds)\n",
    "                    batch_lines = []\n",
    "            if len(batch_lines) > 0:\n",
    "                batch_preds = process_batch(batch_lines, vw_proc)\n",
    "                write_preds(outfile, batch_preds)\n",
    "    finally:\n",
    "        vw_proc.stdin.close()\n",
    "        vw_proc.stdout.close()\n"
   ]
  },
  {
   "cell_type": "code",
   "execution_count": 75,
   "metadata": {
    "scrolled": true
   },
   "outputs": [
    {
     "name": "stdout",
     "output_type": "stream",
     "text": [
      "0 0.00\n",
      "1000 0.01\n",
      "2000 0.01\n",
      "3000 0.02\n",
      "4000 0.03\n",
      "5000 0.03\n",
      "6000 0.04\n",
      "7000 0.05\n",
      "8000 0.05\n",
      "9000 0.06\n"
     ]
    }
   ],
   "source": [
    "preds_filepath = os.path.join(vw_working_dir, \"all_journal_preds.csv\")\n",
    "stream_journals(preds_filepath)"
   ]
  },
  {
   "cell_type": "code",
   "execution_count": null,
   "metadata": {
    "collapsed": true
   },
   "outputs": [],
   "source": [
    "# initial time estimate\n",
    "# 100000 journals processed in 314 seconds\n",
    "# Suggesting a full run will take 13.36 hours"
   ]
  },
  {
   "cell_type": "code",
   "execution_count": 70,
   "metadata": {},
   "outputs": [
    {
     "name": "stdout",
     "output_type": "stream",
     "text": [
      "10651,51bdf6696ca004715600bf1d,-2.984672\r\n",
      "76,51bdf3e56ca0048f4e00d59e,-0.636211\r\n",
      "10672,51bdf6696ca004715600bf1f,-2.474923\r\n",
      "50,51bdf3e56ca0048f4e00d5a0,-4.265691\r\n",
      "10651,51bdf6696ca004715600bf21,-3.272066\r\n",
      "1,51bdf3e56ca0048f4e00d5a2,-1.020766\r\n",
      "10664,51bdf6696ca004715600bf23,7.697199\r\n",
      "50,51bdf3e56ca0048f4e00d5a4,-3.765584\r\n",
      "10672,51bdf6696ca004715600bf25,-0.552072\r\n",
      "18,51bdf3e56ca0048f4e00d5a6,-1.356195\r\n"
     ]
    }
   ],
   "source": [
    "!tail {preds_filepath}"
   ]
  },
  {
   "cell_type": "code",
   "execution_count": 71,
   "metadata": {},
   "outputs": [
    {
     "name": "stdout",
     "output_type": "stream",
     "text": [
      "9621 /home/srivbane/shared/caringbridge/data/projects/sna-social-support/author_type/vw/all_journal_preds.csv\r\n"
     ]
    }
   ],
   "source": [
    "!wc -l {preds_filepath}"
   ]
  },
  {
   "cell_type": "code",
   "execution_count": null,
   "metadata": {
    "collapsed": true
   },
   "outputs": [],
   "source": []
  }
 ],
 "metadata": {
  "kernelspec": {
   "display_name": "Python (shared-conda)",
   "language": "python",
   "name": "shared-conda"
  },
  "language_info": {
   "codemirror_mode": {
    "name": "ipython",
    "version": 3
   },
   "file_extension": ".py",
   "mimetype": "text/x-python",
   "name": "python",
   "nbconvert_exporter": "python",
   "pygments_lexer": "ipython3",
   "version": "3.7.3"
  }
 },
 "nbformat": 4,
 "nbformat_minor": 1
}
