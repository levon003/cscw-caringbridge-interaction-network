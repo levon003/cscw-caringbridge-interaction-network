{
 "cells": [
  {
   "cell_type": "markdown",
   "metadata": {},
   "source": [
    "# Site and user analysis\n",
    "\n",
    "Considering only sites with at least 5 updates that started since Jan 2013....\n",
    " - What percent of sites have posts from multiple userIds?\n",
    " - What percent of sites have posts from patients and caregivers?\n",
    " - What percent of users have posts on multiple sites?\n",
    " - What percent of users have posts from patients and caregivers?\n",
    " \n",
    " \n",
    "#### Summary of results\n",
    " \n",
    "Considering only the 99,021 CaringBridge sites created since January 2013 with more than 5 journal updates, 37% of sites contain updates from both patients and caregivers.  However, only 25% of sites contain updates authored by multiple registered CaringBridge _accounts_.\n",
    "\n",
    "Of users who have authored updates for these selected sites, only a tiny minority author updates on more than one site: 1.32% author updates on multiple sites.  However, 30% of users have authored both patient and caregiver updates, which indicates potential multi-use of the account. \n",
    "\n",
    "#### Raw results\n",
    "```\n",
    "Sites with multiple authoring users: 51672 / 486704 = 10.62%\n",
    "Sites with posts from patients AND caregivers: 129336 / 486704 = 26.57%\n",
    "Users with authorship on multiple sites: 16437 / 524123 = 3.14%\n",
    "Users with posts from patients AND caregivers: 133180 / 524123 = 25.41%\n",
    "\n",
    "Selected 99021 / 486704 sites = 20.35%\n",
    "\n",
    "Selected sites with multiple authoring users: 24350 / 99021 = 24.59%\n",
    "Selected sites with posts from patients AND caregivers: 36775 / 99021 = 37.14%\n",
    "Users (only on selected sites) with authorship on multiple sites: 1725 / 130399 = 1.32%\n",
    "Users (only on selected sites) with posts from patients AND caregivers: 39427 / 130399 = 30.24%\n",
    "```"
   ]
  },
  {
   "cell_type": "code",
   "execution_count": 1,
   "metadata": {},
   "outputs": [],
   "source": [
    "%reload_ext autoreload\n",
    "%autoreload 2\n",
    "%matplotlib inline"
   ]
  },
  {
   "cell_type": "code",
   "execution_count": 2,
   "metadata": {},
   "outputs": [],
   "source": [
    "import os\n",
    "import re\n",
    "import pandas as pd\n",
    "import numpy as np\n",
    "\n",
    "import sklearn\n",
    "from sklearn.model_selection import train_test_split\n",
    "\n",
    "from collections import Counter\n",
    "import sqlite3\n",
    "from nltk import word_tokenize\n",
    "from html.parser import HTMLParser\n",
    "from tqdm import tqdm\n",
    "import random\n",
    "import pickle\n",
    "\n",
    "from datetime import datetime\n",
    "\n",
    "import matplotlib.pyplot as plt\n",
    "import matplotlib.dates as md\n",
    "import matplotlib\n",
    "import pylab as pl\n",
    "from IPython.core.display import display, HTML"
   ]
  },
  {
   "cell_type": "code",
   "execution_count": 3,
   "metadata": {},
   "outputs": [],
   "source": [
    "general_working_dir = \"/home/srivbane/shared/caringbridge/data/projects/sna-social-support/author_type\"\n",
    "vw_working_dir = os.path.join(general_working_dir, \"vw\")\n",
    "os.makedirs(vw_working_dir, exist_ok=True)"
   ]
  },
  {
   "cell_type": "code",
   "execution_count": 4,
   "metadata": {},
   "outputs": [
    {
     "name": "stdout",
     "output_type": "stream",
     "text": [
      "14970549\n"
     ]
    }
   ],
   "source": [
    "#%%time\n",
    "# read the dataframe\n",
    "journal_df_filepath = os.path.join(vw_working_dir, \"journal_author_metadata.csv\")\n",
    "journal_df = pd.read_csv(journal_df_filepath)\n",
    "print(len(journal_df))"
   ]
  },
  {
   "cell_type": "code",
   "execution_count": 5,
   "metadata": {},
   "outputs": [
    {
     "data": {
      "text/html": [
       "<div>\n",
       "<style scoped>\n",
       "    .dataframe tbody tr th:only-of-type {\n",
       "        vertical-align: middle;\n",
       "    }\n",
       "\n",
       "    .dataframe tbody tr th {\n",
       "        vertical-align: top;\n",
       "    }\n",
       "\n",
       "    .dataframe thead th {\n",
       "        text-align: right;\n",
       "    }\n",
       "</style>\n",
       "<table border=\"1\" class=\"dataframe\">\n",
       "  <thead>\n",
       "    <tr style=\"text-align: right;\">\n",
       "      <th></th>\n",
       "      <th>Unnamed: 0</th>\n",
       "      <th>site_id</th>\n",
       "      <th>journal_oid</th>\n",
       "      <th>author_type_raw_prediction</th>\n",
       "      <th>author_type_prediction_prob</th>\n",
       "      <th>is_predicted_patient</th>\n",
       "      <th>created_at</th>\n",
       "      <th>site_index</th>\n",
       "      <th>user_id</th>\n",
       "    </tr>\n",
       "  </thead>\n",
       "  <tbody>\n",
       "    <tr>\n",
       "      <th>0</th>\n",
       "      <td>7874</td>\n",
       "      <td>1</td>\n",
       "      <td>51bdf3e56ca0048f4e00ce76</td>\n",
       "      <td>-5.555666</td>\n",
       "      <td>0.003851</td>\n",
       "      <td>False</td>\n",
       "      <td>1117944720000</td>\n",
       "      <td>47</td>\n",
       "      <td>1</td>\n",
       "    </tr>\n",
       "    <tr>\n",
       "      <th>1</th>\n",
       "      <td>7876</td>\n",
       "      <td>1</td>\n",
       "      <td>51bdf3e56ca0048f4e00ce78</td>\n",
       "      <td>-4.185403</td>\n",
       "      <td>0.014988</td>\n",
       "      <td>False</td>\n",
       "      <td>1117764480000</td>\n",
       "      <td>46</td>\n",
       "      <td>1</td>\n",
       "    </tr>\n",
       "    <tr>\n",
       "      <th>2</th>\n",
       "      <td>7878</td>\n",
       "      <td>1</td>\n",
       "      <td>51bdf3e56ca0048f4e00ce7a</td>\n",
       "      <td>-2.417768</td>\n",
       "      <td>0.081828</td>\n",
       "      <td>False</td>\n",
       "      <td>1117675380000</td>\n",
       "      <td>45</td>\n",
       "      <td>1</td>\n",
       "    </tr>\n",
       "    <tr>\n",
       "      <th>3</th>\n",
       "      <td>7880</td>\n",
       "      <td>1</td>\n",
       "      <td>51bdf3e56ca0048f4e00ce7c</td>\n",
       "      <td>-3.126491</td>\n",
       "      <td>0.042028</td>\n",
       "      <td>False</td>\n",
       "      <td>1117572600000</td>\n",
       "      <td>44</td>\n",
       "      <td>1</td>\n",
       "    </tr>\n",
       "    <tr>\n",
       "      <th>4</th>\n",
       "      <td>7882</td>\n",
       "      <td>1</td>\n",
       "      <td>51bdf3e56ca0048f4e00ce7e</td>\n",
       "      <td>-2.294478</td>\n",
       "      <td>0.091581</td>\n",
       "      <td>False</td>\n",
       "      <td>1117485180000</td>\n",
       "      <td>43</td>\n",
       "      <td>1</td>\n",
       "    </tr>\n",
       "  </tbody>\n",
       "</table>\n",
       "</div>"
      ],
      "text/plain": [
       "   Unnamed: 0  site_id               journal_oid  author_type_raw_prediction  \\\n",
       "0        7874        1  51bdf3e56ca0048f4e00ce76                   -5.555666   \n",
       "1        7876        1  51bdf3e56ca0048f4e00ce78                   -4.185403   \n",
       "2        7878        1  51bdf3e56ca0048f4e00ce7a                   -2.417768   \n",
       "3        7880        1  51bdf3e56ca0048f4e00ce7c                   -3.126491   \n",
       "4        7882        1  51bdf3e56ca0048f4e00ce7e                   -2.294478   \n",
       "\n",
       "   author_type_prediction_prob  is_predicted_patient     created_at  \\\n",
       "0                     0.003851                 False  1117944720000   \n",
       "1                     0.014988                 False  1117764480000   \n",
       "2                     0.081828                 False  1117675380000   \n",
       "3                     0.042028                 False  1117572600000   \n",
       "4                     0.091581                 False  1117485180000   \n",
       "\n",
       "   site_index  user_id  \n",
       "0          47        1  \n",
       "1          46        1  \n",
       "2          45        1  \n",
       "3          44        1  \n",
       "4          43        1  "
      ]
     },
     "execution_count": 5,
     "metadata": {},
     "output_type": "execute_result"
    }
   ],
   "source": [
    "journal_df.head()"
   ]
  },
  {
   "cell_type": "code",
   "execution_count": 6,
   "metadata": {},
   "outputs": [],
   "source": [
    "j_df = journal_df"
   ]
  },
  {
   "cell_type": "markdown",
   "metadata": {},
   "source": [
    "## User analysis\n",
    "\n",
    "Includes all users and sites."
   ]
  },
  {
   "cell_type": "code",
   "execution_count": 21,
   "metadata": {},
   "outputs": [
    {
     "name": "stderr",
     "output_type": "stream",
     "text": [
      "100%|██████████| 524123/524123 [05:32<00:00, 1578.41it/s]\n"
     ]
    },
    {
     "data": {
      "text/plain": [
       "524123"
      ]
     },
     "execution_count": 21,
     "metadata": {},
     "output_type": "execute_result"
    }
   ],
   "source": [
    "multiple_sites = 0\n",
    "multiple_authors = 0\n",
    "total_users = 0\n",
    "for user, group in tqdm(j_df.groupby(by='user_id', sort=False)):\n",
    "    total_users += 1\n",
    "    site_ids = set(group.site_id)\n",
    "    if len(site_ids) > 1:\n",
    "        multiple_sites += 1\n",
    "    proportion_patient = np.sum(group.is_predicted_patient) / len(group)\n",
    "    if proportion_patient >= 0.1 and proportion_patient <= 0.9:\n",
    "        multiple_authors += 1\n",
    "total_users"
   ]
  },
  {
   "cell_type": "code",
   "execution_count": 22,
   "metadata": {},
   "outputs": [
    {
     "name": "stdout",
     "output_type": "stream",
     "text": [
      "Users with authorship on multiple sites: 16437 / 524123 = 3.14%\n",
      "Users with posts from patients AND caregivers: 133180 / 524123 = 25.41%\n"
     ]
    }
   ],
   "source": [
    "print(f\"Users with authorship on multiple sites: {multiple_sites} / {total_users} = {multiple_sites / total_users * 100:.2f}%\")\n",
    "print(f\"Users with posts from patients AND caregivers: {multiple_authors} / {total_users} = {multiple_authors / total_users * 100:.2f}%\")"
   ]
  },
  {
   "cell_type": "markdown",
   "metadata": {},
   "source": [
    "## Site analysis\n",
    "\n",
    "Analyzes all sites and users authoring for those sites."
   ]
  },
  {
   "cell_type": "code",
   "execution_count": 27,
   "metadata": {},
   "outputs": [],
   "source": [
    "jan_2013 = 1356998400000"
   ]
  },
  {
   "cell_type": "code",
   "execution_count": 37,
   "metadata": {},
   "outputs": [
    {
     "name": "stderr",
     "output_type": "stream",
     "text": [
      "100%|██████████| 486704/486704 [05:54<00:00, 1373.39it/s]\n"
     ]
    },
    {
     "data": {
      "text/plain": [
       "486704"
      ]
     },
     "execution_count": 37,
     "metadata": {},
     "output_type": "execute_result"
    }
   ],
   "source": [
    "multiple_users = 0\n",
    "multiple_author_types = 0\n",
    "total_sites = 0\n",
    "selected_site_ids = set()\n",
    "for site_id, group in tqdm(j_df.groupby(by='site_id', sort=False)):\n",
    "    if len(group) >= 5 and np.min(group.created_at) >= jan_2013:\n",
    "        selected_site_ids.add(site_id)\n",
    "    total_sites += 1\n",
    "    user_ids = set(group.user_id)\n",
    "    if len(user_ids) > 1:\n",
    "        multiple_users += 1\n",
    "    proportion_patient = np.sum(group.is_predicted_patient) / len(group)\n",
    "    if proportion_patient >= 0.1 and proportion_patient <= 0.9:\n",
    "        multiple_author_types += 1\n",
    "total_sites"
   ]
  },
  {
   "cell_type": "code",
   "execution_count": 38,
   "metadata": {},
   "outputs": [
    {
     "name": "stdout",
     "output_type": "stream",
     "text": [
      "Sites with multiple authoring users: 51672 / 486704 = 10.62%\n",
      "Sites with posts from patients AND caregivers: 129336 / 486704 = 26.57%\n"
     ]
    }
   ],
   "source": [
    "print(f\"Sites with multiple authoring users: {multiple_users} / {total_sites} = {multiple_users / total_sites * 100:.2f}%\")\n",
    "print(f\"Sites with posts from patients AND caregivers: {multiple_author_types} / {total_sites} = {multiple_author_types / total_sites * 100:.2f}%\")"
   ]
  },
  {
   "cell_type": "code",
   "execution_count": 39,
   "metadata": {},
   "outputs": [
    {
     "name": "stdout",
     "output_type": "stream",
     "text": [
      "Selected 99021 / 486704 sites = 20.35%\n"
     ]
    }
   ],
   "source": [
    "print(f\"Selected {len(selected_site_ids)} / {total_sites} sites = {len(selected_site_ids) / total_sites * 100:.2f}%\")"
   ]
  },
  {
   "cell_type": "code",
   "execution_count": 40,
   "metadata": {},
   "outputs": [],
   "source": [
    "assert len(selected_site_ids) > 0"
   ]
  },
  {
   "cell_type": "code",
   "execution_count": 49,
   "metadata": {},
   "outputs": [
    {
     "data": {
      "text/plain": [
       "(False, False)"
      ]
     },
     "execution_count": 49,
     "metadata": {},
     "output_type": "execute_result"
    }
   ],
   "source": [
    "0 in selected_site_ids, 1 in selected_site_ids"
   ]
  },
  {
   "cell_type": "markdown",
   "metadata": {},
   "source": [
    "## Site analysis (using only active and recent sites)"
   ]
  },
  {
   "cell_type": "code",
   "execution_count": 83,
   "metadata": {},
   "outputs": [
    {
     "name": "stdout",
     "output_type": "stream",
     "text": [
      "Using only rows from userId!=0: 13898071 / 14970549\n"
     ]
    },
    {
     "name": "stderr",
     "output_type": "stream",
     "text": [
      "100%|██████████| 486704/486704 [02:39<00:00, 3049.52it/s]\n"
     ]
    },
    {
     "data": {
      "text/plain": [
       "99021"
      ]
     },
     "execution_count": 83,
     "metadata": {},
     "output_type": "execute_result"
    }
   ],
   "source": [
    "multiple_users = 0\n",
    "multiple_author_types = 0\n",
    "total_sites = 0\n",
    "nonzero_users = j_df[j_df.user_id != 0]\n",
    "print(f\"Using only rows from userId!=0: {len(nonzero_users)} / {len(j_df)}\")\n",
    "for site_id, group in tqdm(nonzero_users.groupby(by='site_id', sort=False)):\n",
    "    if site_id not in selected_site_ids or site_id == 0:\n",
    "        continue\n",
    "    total_sites += 1\n",
    "    user_ids = set(group.user_id)\n",
    "    assert 0 not in user_ids\n",
    "    if len(user_ids) > 1:\n",
    "        multiple_users += 1\n",
    "    proportion_patient = np.sum(group.is_predicted_patient) / len(group)\n",
    "    if proportion_patient >= 0.1 and proportion_patient <= 0.9:\n",
    "        multiple_author_types += 1\n",
    "total_sites"
   ]
  },
  {
   "cell_type": "code",
   "execution_count": 84,
   "metadata": {},
   "outputs": [
    {
     "name": "stdout",
     "output_type": "stream",
     "text": [
      "Selected sites with multiple authoring users: 24350 / 99021 = 24.59%\n",
      "Selected sites with posts from patients AND caregivers: 36775 / 99021 = 37.14%\n"
     ]
    }
   ],
   "source": [
    "print(f\"Selected sites with multiple authoring users: {multiple_users} / {total_sites} = {multiple_users / total_sites * 100:.2f}%\")\n",
    "print(f\"Selected sites with posts from patients AND caregivers: {multiple_author_types} / {total_sites} = {multiple_author_types / total_sites * 100:.2f}%\")"
   ]
  },
  {
   "cell_type": "markdown",
   "metadata": {},
   "source": [
    "## User analysis (using only active and recent sites)"
   ]
  },
  {
   "cell_type": "code",
   "execution_count": 78,
   "metadata": {},
   "outputs": [
    {
     "data": {
      "text/plain": [
       "0.22461460832197938"
      ]
     },
     "execution_count": 78,
     "metadata": {},
     "output_type": "execute_result"
    }
   ],
   "source": [
    "subset_df = j_df[j_df.site_id.isin(selected_site_ids)]\n",
    "len(subset_df) / len(j_df)"
   ]
  },
  {
   "cell_type": "code",
   "execution_count": 79,
   "metadata": {},
   "outputs": [
    {
     "name": "stderr",
     "output_type": "stream",
     "text": [
      "100%|██████████| 130400/130400 [01:17<00:00, 1683.79it/s]\n"
     ]
    },
    {
     "data": {
      "text/plain": [
       "130399"
      ]
     },
     "execution_count": 79,
     "metadata": {},
     "output_type": "execute_result"
    }
   ],
   "source": [
    "multiple_sites = 0\n",
    "multiple_authors = 0\n",
    "total_users = 0\n",
    "for user, group in tqdm(subset_df.groupby(by='user_id', sort=False)):\n",
    "    if user == 0:\n",
    "        continue\n",
    "    total_users += 1\n",
    "    site_ids = set(group.site_id)\n",
    "    if len(site_ids) > 1:\n",
    "        multiple_sites += 1\n",
    "    proportion_patient = np.sum(group.is_predicted_patient) / len(group)\n",
    "    if proportion_patient >= 0.1 and proportion_patient <= 0.9:\n",
    "        multiple_authors += 1\n",
    "total_users"
   ]
  },
  {
   "cell_type": "code",
   "execution_count": 80,
   "metadata": {},
   "outputs": [
    {
     "name": "stdout",
     "output_type": "stream",
     "text": [
      "Users (only on selected sites) with authorship on multiple sites: 1725 / 130399 = 1.32%\n",
      "Users (only on selected sites) with posts from patients AND caregivers: 39427 / 130399 = 30.24%\n"
     ]
    }
   ],
   "source": [
    "print(f\"Users (only on selected sites) with authorship on multiple sites: {multiple_sites} / {total_users} = {multiple_sites / total_users * 100:.2f}%\")\n",
    "print(f\"Users (only on selected sites) with posts from patients AND caregivers: {multiple_authors} / {total_users} = {multiple_authors / total_users * 100:.2f}%\")"
   ]
  },
  {
   "cell_type": "markdown",
   "metadata": {},
   "source": [
    "### Number of sites per user analysis"
   ]
  },
  {
   "cell_type": "code",
   "execution_count": 58,
   "metadata": {},
   "outputs": [
    {
     "name": "stderr",
     "output_type": "stream",
     "text": [
      "100%|██████████| 130400/130400 [00:47<00:00, 2754.86it/s]\n"
     ]
    },
    {
     "data": {
      "text/plain": [
       "(130400, 1)"
      ]
     },
     "execution_count": 58,
     "metadata": {},
     "output_type": "execute_result"
    }
   ],
   "source": [
    "authored_site_ids = []\n",
    "extreme_user_ids = []\n",
    "for user_id, group in tqdm(subset_df.groupby(by='user_id', sort=False)):\n",
    "    total_users += 1\n",
    "    site_ids = set(group.site_id)\n",
    "    authored_site_ids.append(len(site_ids))\n",
    "    if len(site_ids) > 1000:\n",
    "        extreme_user_ids.append((user_id, len(site_ids)))\n",
    "len(authored_site_ids), len(extreme_user_ids)"
   ]
  },
  {
   "cell_type": "code",
   "execution_count": 59,
   "metadata": {},
   "outputs": [
    {
     "data": {
      "text/plain": [
       "[(0, 5042)]"
      ]
     },
     "execution_count": 59,
     "metadata": {},
     "output_type": "execute_result"
    }
   ],
   "source": [
    "extreme_user_ids"
   ]
  },
  {
   "cell_type": "code",
   "execution_count": 60,
   "metadata": {},
   "outputs": [],
   "source": [
    "authored_site_ids = np.array(authored_site_ids)"
   ]
  },
  {
   "cell_type": "code",
   "execution_count": 73,
   "metadata": {},
   "outputs": [
    {
     "data": {
      "image/png": "[encoded data removed]",
      "text/plain": [
       "<Figure size 504x504 with 1 Axes>"
      ]
     },
     "metadata": {
      "needs_background": "light"
     },
     "output_type": "display_data"
    }
   ],
   "source": [
    "fig, ax = plt.subplots(1,1,figsize=(7,7))\n",
    "ax.hist(authored_site_ids, log=True, bins=range(0, 22))\n",
    "ax.set_xlabel(\"Number of sites user has authored posts on\")\n",
    "ax.set_ylabel(\"User count\")\n",
    "ax.set_title(\"Number of sites on which users author\")\n",
    "plt.show()"
   ]
  },
  {
   "cell_type": "code",
   "execution_count": null,
   "metadata": {},
   "outputs": [],
   "source": []
  }
 ],
 "metadata": {
  "kernelspec": {
   "display_name": "Python (shared-conda)",
   "language": "python",
   "name": "shared-conda"
  },
  "language_info": {
   "codemirror_mode": {
    "name": "ipython",
    "version": 3
   },
   "file_extension": ".py",
   "mimetype": "text/x-python",
   "name": "python",
   "nbconvert_exporter": "python",
   "pygments_lexer": "ipython3",
   "version": "3.7.3"
  }
 },
 "nbformat": 4,
 "nbformat_minor": 2
}
