{
 "cells": [
  {
   "cell_type": "markdown",
   "metadata": {},
   "source": [
    "# Network Data Cleaning\n",
    "The goal of this notebook is to clean up the invalid data we have from weird timestamps"
   ]
  },
  {
   "cell_type": "code",
   "execution_count": 1,
   "metadata": {},
   "outputs": [],
   "source": [
    "import json\n",
    "import numpy as np\n",
    "import pandas as pd\n",
    "from datetime import datetime\n",
    "from IPython.display import display, clear_output\n",
    "import csv as csv\n",
    "import os\n",
    "import subprocess\n",
    "from tqdm import tqdm\n",
    "import matplotlib.pyplot as mpl\n",
    "import matplotlib.cm as cm\n",
    "import matplotlib\n",
    "import pylab as pl"
   ]
  },
  {
   "cell_type": "code",
   "execution_count": 2,
   "metadata": {},
   "outputs": [],
   "source": [
    "pwd = \"/home/srivbane/shared/caringbridge/data/projects/sna-social-support/csv_data/\"\n",
    "with open(os.path.join(pwd, \"dynamic_ints.csv\"), 'r', encoding=\"utf-8\") as ints:\n",
    "    with open (os.path.join(pwd, \"dynamic_auth.csv\"), 'r', encoding=\"utf-8\") as auths:\n",
    "        a = pd.read_csv(auths, index_col = 0, header=None, names=(\"total\", \"first\", \"last\"))\n",
    "        i = pd.read_csv(ints, index_col = 0, header=None, names=(\"total\", \"first\", \"last\"))"
   ]
  },
  {
   "cell_type": "markdown",
   "metadata": {},
   "source": [
    "### Time Traveling?\n",
    "Looks like bad data!"
   ]
  },
  {
   "cell_type": "code",
   "execution_count": 3,
   "metadata": {},
   "outputs": [],
   "source": [
    "tt = []\n",
    "count = 0\n",
    "num_years = 10\n",
    "epoch_yr = 31557600000 # accounting for milliseconds\n",
    "for index, auth in a.iterrows():\n",
    "    try:\n",
    "        user = (i.loc[index, :])\n",
    "        if np.abs(auth[\"first\"] - user[\"first\"]) > (num_years * epoch_yr) or \\\n",
    "        np.abs(auth[\"last\"] - user[\"last\"]) > (num_years * epoch_yr):\n",
    "            problem = [index, auth[\"first\"], auth[\"last\"], user[\"first\"], user[\"last\"]]\n",
    "            tt.append(problem)\n",
    "    except KeyError:\n",
    "        pass"
   ]
  },
  {
   "cell_type": "code",
   "execution_count": 50,
   "metadata": {},
   "outputs": [],
   "source": [
    "tu = []\n",
    "count = 0\n",
    "num_years = 10\n",
    "epoch_yr = 31557600000 # accounting for milliseconds\n",
    "for index, auth in i.iterrows():\n",
    "    try:\n",
    "        user = (a.loc[index, :])\n",
    "        if np.abs(auth[\"first\"] - user[\"first\"]) > (num_years * epoch_yr) or \\\n",
    "        np.abs(auth[\"last\"] - user[\"last\"]) > (num_years * epoch_yr):\n",
    "            problem = [index, auth[\"first\"], auth[\"last\"], user[\"first\"], user[\"last\"]]\n",
    "            tt.append(problem)\n",
    "    except KeyError:\n",
    "        pass"
   ]
  },
  {
   "cell_type": "code",
   "execution_count": 6,
   "metadata": {},
   "outputs": [],
   "source": [
    "df_a = pd.DataFrame(tt, columns = (\"Uid\", \"First Auth\", \"Last Auth\", \"First Int\", \"Last Int\"))\n",
    "#df_b = pd.DataFrame(tu, columns = (\"Uid\", \"First Auth\", \"Last Auth\", \"First Int\", \"Last Int\"))"
   ]
  },
  {
   "cell_type": "markdown",
   "metadata": {},
   "source": [
    "### Filtering the bad data out\n",
    "Ran this in a script on 3/8 on mesabi, all done"
   ]
  },
  {
   "cell_type": "code",
   "execution_count": null,
   "metadata": {},
   "outputs": [
    {
     "data": {
      "text/plain": [
       "'Preparing to purge 221 users from the dynamic data.'"
      ]
     },
     "metadata": {},
     "output_type": "display_data"
    }
   ],
   "source": [
    "filter_me = []\n",
    "count = 0\n",
    "for index, i_ in df_a.iterrows():\n",
    "    for val in i_:\n",
    "        if val == i_[0]:\n",
    "            continue;\n",
    "        try:\n",
    "            # get rid of > 2019, < 1997, or peculiar singles \n",
    "            if (val / epoch_yr) > 49 or (val / epoch_yr) < 27 or (i_[1] == i_[2]):\n",
    "                if not i_[0] in filter_me:\n",
    "                    filter_me.append(i_[0])\n",
    "                    count += 1\n",
    "        except:\n",
    "            continue;\n",
    "for index, i_ in df_b.iterrows():\n",
    "    for val in i_:\n",
    "        if val == i_[0]:\n",
    "            continue;\n",
    "        try:\n",
    "            if (val / epoch_yr) > 49 or (val / epoch_yr) < 27 or (i_[1] == i_[2]):\n",
    "                if not i_[0] in filter_me:\n",
    "                    filter_me.append(i_[0])\n",
    "                    count += 1\n",
    "        except:\n",
    "            continue;\n",
    "display(\"Preparing to purge \" + str(count) + \" users from the dynamic data.\");"
   ]
  },
  {
   "cell_type": "code",
   "execution_count": null,
   "metadata": {
    "collapsed": true
   },
   "outputs": [],
   "source": [
    "timer = 0\n",
    "with open (os.path.join(pwd, \"dynamic_ints.csv\"), 'r', encoding=\"utf-8\") as ints, \\\n",
    "open (os.path.join(pwd, \"dynamic_auth.csv\"), 'r', encoding=\"utf-8\") as auths, \\\n",
    "open (os.path.join(pwd, \"f_dynamic_ints.csv\"), 'w', encoding=\"utf-8\") as f_ints, \\\n",
    "open (os.path.join(pwd, \"f_dynamic_auth.csv\"), 'w', encoding=\"utf-8\") as f_auths:\n",
    "    ints_r = csv.reader(ints); auths_r = csv.reader(auths); \n",
    "    ints_w = csv.writer(f_ints); auths_w = csv.writer(f_auths);\n",
    "    for row in ints_r:\n",
    "        if(int(row[0]) not in filter_me):\n",
    "            ints_w.writerow(row);\n",
    "            timer += 1;\n",
    "            if timer % 100000 == 1:\n",
    "                display(timer)\n",
    "    display(\"Almost there.\");\n",
    "    for row in auths_r:\n",
    "        if(int(row[0]) not in filter_me):\n",
    "            auths_w.writerow(row);\n",
    "            timer += 1;\n",
    "            if timer % 100000 == 1:\n",
    "                display(timer)\n",
    "display(\"Finished.\")"
   ]
  }
 ],
 "metadata": {
  "kernelspec": {
   "display_name": "Python (shared-conda)",
   "language": "python",
   "name": "shared-conda"
  },
  "language_info": {
   "codemirror_mode": {
    "name": "ipython",
    "version": 3
   },
   "file_extension": ".py",
   "mimetype": "text/x-python",
   "name": "python",
   "nbconvert_exporter": "python",
   "pygments_lexer": "ipython3",
   "version": "3.7.3"
  }
 },
 "nbformat": 4,
 "nbformat_minor": 1
}
