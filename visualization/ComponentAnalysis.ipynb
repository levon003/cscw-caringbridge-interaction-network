{
 "cells": [
  {
   "cell_type": "markdown",
   "metadata": {},
   "source": [
    "# Component Analysis\n",
    "Data calculation and visualization work for SCC/WCC/Monads/All Components."
   ]
  },
  {
   "cell_type": "code",
   "execution_count": 20,
   "metadata": {},
   "outputs": [],
   "source": [
    "import json\n",
    "import statistics as stat\n",
    "import numpy as np\n",
    "import pandas as pd\n",
    "import csv as csv\n",
    "import matplotlib.pyplot as mpl\n",
    "import os\n",
    "from tqdm import tqdm\n",
    "import networkx as nx\n",
    "from collections import defaultdict, Counter\n",
    "import pickle\n",
    "\n",
    "pwd = \"/home/srivbane/shared/caringbridge/data/projects/sna-social-support/csv_data/\"\n",
    "dyad_dir = \"/home/srivbane/shared/caringbridge/data/projects/sna-social-support/dyad_growth/\"\n",
    "metadata_dir = \"/home/srivbane/shared/caringbridge/data/projects/sna-social-support/user_metadata\"\n",
    "\n",
    "epoch_day = 86400000             # accounting for milliseconds\n",
    "epoch_yr = epoch_day * 365\n",
    "srt = 1104537600000              # jan 1, 2005\n",
    "rng = 12 * epoch_yr              # until jan 1, 2017 (cant multiply by floats)\n",
    "six_months = 6 * 30 * epoch_day  # lets say a month is 30 days"
   ]
  },
  {
   "cell_type": "code",
   "execution_count": 3,
   "metadata": {},
   "outputs": [],
   "source": [
    "ints = pd.read_hdf(os.path.join(dyad_dir, \"h5/revised_u2u.h5\"))"
   ]
  },
  {
   "cell_type": "code",
   "execution_count": null,
   "metadata": {},
   "outputs": [],
   "source": [
    "author_to_site = os.path.join(metadata_dir, \"interaction_metadata.h5\")\n",
    "df = pd.read_hdf(author_to_site)"
   ]
  },
  {
   "cell_type": "code",
   "execution_count": 4,
   "metadata": {},
   "outputs": [
    {
     "data": {
      "text/plain": [
       "14812407"
      ]
     },
     "execution_count": 4,
     "metadata": {},
     "output_type": "execute_result"
    }
   ],
   "source": [
    "# read the user->user interactions dataframe\n",
    "metadata_dir = \"/home/srivbane/shared/caringbridge/data/projects/sna-social-support/user_metadata\"\n",
    "u2u_df = pd.read_feather(os.path.join(metadata_dir,\"u2u_df.feather\"))\n",
    "len(u2u_df)"
   ]
  },
  {
   "cell_type": "code",
   "execution_count": 5,
   "metadata": {},
   "outputs": [],
   "source": [
    "new_ints = u2u_df"
   ]
  },
  {
   "cell_type": "code",
   "execution_count": 6,
   "metadata": {},
   "outputs": [
    {
     "data": {
      "text/plain": [
       "1144492"
      ]
     },
     "execution_count": 6,
     "metadata": {},
     "output_type": "execute_result"
    }
   ],
   "source": [
    "sorted_df = df.sort_values(by=[\"user_id\", \"site_id\", \"created_at\"])\n",
    "journals = sorted_df[sorted_df.int_type == \"journal\"]"
   ]
  },
  {
   "cell_type": "code",
   "execution_count": 7,
   "metadata": {},
   "outputs": [
    {
     "data": {
      "text/plain": [
       "1144492"
      ]
     },
     "execution_count": 7,
     "metadata": {},
     "output_type": "execute_result"
    }
   ],
   "source": [
    "firsts = journals.drop_duplicates(subset=[\"user_id\", \"site_id\"], keep=\"first\")\n",
    "lasts = journals.drop_duplicates(subset=[\"user_id\", \"site_id\"], keep=\"last\")\n",
    "len(firsts), len(lasts)"
   ]
  },
  {
   "cell_type": "code",
   "execution_count": 8,
   "metadata": {},
   "outputs": [],
   "source": [
    "assert len(firsts) == len(lasts)"
   ]
  },
  {
   "cell_type": "code",
   "execution_count": 9,
   "metadata": {},
   "outputs": [],
   "source": [
    "first_time = {a : b for a,b in zip(firsts.user_id, firsts.created_at)}\n",
    "last_time = {a : b for a,b in zip(lasts.user_id, lasts.created_at)}\n",
    "author_ind = {a : b for a,b in zip(firsts.index, firsts.user_id)}\n",
    "\n",
    "created_at_ind = {a : b for a,b in zip(ints.index, ints.created_at)}\n",
    "from_user_id_ind = {a : b for a,b in zip(ints.index, ints.from_user_id)}\n",
    "to_user_id_ind = {a : b for a,b in zip(ints.index, ints.to_user_id)}"
   ]
  },
  {
   "cell_type": "code",
   "execution_count": null,
   "metadata": {},
   "outputs": [],
   "source": [
    "active_users = defaultdict(list)\n",
    "for d in tqdm(range(srt, srt + rng, offset), position=0, leave=False):\n",
    "    for ind in firsts.index:\n",
    "        user_id = author_ind[ind]\n",
    "        f = first_time[user_id]\n",
    "        l = last_time[user_id]\n",
    "        if f < d and l + six_months > d:\n",
    "            active_users[d].append(ind)"
   ]
  },
  {
   "cell_type": "code",
   "execution_count": null,
   "metadata": {},
   "outputs": [],
   "source": [
    "active_dyads = defaultdict(list)\n",
    "percentage_missed = defaultdict(float)\n",
    "for d in tqdm(range(srt, srt + rng, offset), position=0, leave=False):\n",
    "    sufficient = 0\n",
    "    missed = 0\n",
    "    user_list = active_users[d]\n",
    "    for ind in ints.index:\n",
    "        from_user_id = from_user_id_ind[ind]\n",
    "        to_user_id = to_user_id_ind[ind]\n",
    "        t = created_at_ind[ind]\n",
    "        if t < d:\n",
    "            sufficient += 1\n",
    "            if from_user_id in user_list and to_user_id in user_list:\n",
    "                active_dyads[d].append((from_user_id, to_user_id))\n",
    "            else:\n",
    "                missed += 1\n",
    "    percentage_missed[d] = missed/sufficient"
   ]
  },
  {
   "cell_type": "code",
   "execution_count": null,
   "metadata": {},
   "outputs": [],
   "source": [
    "should_save = True\n",
    "if should_save:\n",
    "    with open(os.path.join(dyad_dir, \"active_dyads.pickle\"), 'wb') as f: \n",
    "        dct = dict(active_dyads)\n",
    "        pickle.dump(dct, f)\n",
    "        print(\"Finished.\")"
   ]
  },
  {
   "cell_type": "code",
   "execution_count": null,
   "metadata": {},
   "outputs": [],
   "source": [
    "with open(os.path.join(dyad_dir, \"active_dyads.pickle\"), 'rb') as f: \n",
    "    dyads = pickle.load(f)\n",
    "len(dyads)"
   ]
  },
  {
   "cell_type": "markdown",
   "metadata": {},
   "source": [
    "### Fall 2019 Network Component Gen over Time"
   ]
  },
  {
   "cell_type": "markdown",
   "metadata": {},
   "source": [
    "I would edit your core loop to construct a single graph object that is updated at each iteration of the loop: (1) old nodes that are no longer considered active are removed, (2) new nodes that are now considered active are added, and (3) any new edges between active nodes are added."
   ]
  },
  {
   "cell_type": "code",
   "execution_count": null,
   "metadata": {},
   "outputs": [],
   "source": [
    "index_error = 0\n",
    "key_error = 0\n",
    "with open(os.path.join(pwd, \"revised_1219_scc.csv\"), 'w', encoding=\"utf-8\") as strong, \\\n",
    "    open(os.path.join(pwd, \"revised_1219_wcc.csv\"), 'w', encoding=\"utf=8\") as weak:\n",
    "    strong_w = csv.writer(strong); weak_w = csv.writer(weak);\n",
    "    for d in tqdm(range(srt, srt + rng, offset), position=0, leave=False):\n",
    "        \n",
    "        G = nx.DiGraph()\n",
    "        node_list = active_users[d]\n",
    "        edge_list = active_dyads[d]\n",
    "        \n",
    "        # a node appears when in this time slice, an author becomes active\n",
    "        new_nodes = list(set(node_list))\n",
    "        # an edge appears when in this time slice, an initiation has occured and both authors are active\n",
    "        new_edges = list(set(edge_list)) # check this\n",
    "        # a node disappears when in this time slice, an author becomes inactive\n",
    "        # old_nodes = list(set(d_slice.to_user_id))\n",
    "        # an edge disappears when in this time slice, one of the ends of an edge becomes inactive\n",
    "        # old_edges = [tuple(row) for row in d_slice[[\"from_user_id\", \"to_user_id\"]].values]\n",
    "        \n",
    "        G.add_nodes_from(new_nodes)\n",
    "        G.add_edges_from(new_edges)\n",
    "\n",
    "        scc_sizes = []; wcc_sizes = []; scc_size = 0; wcc_size = 0;\n",
    "        for i_, connected_nodes in enumerate(sorted(nx.strongly_connected_components(G), key=len)):\n",
    "            if i_ == 1:\n",
    "                di_s = nx.diameter(nx.DiGraph(nx.path_graph(connected_nodes)))\n",
    "            scc_size = len(connected_nodes)\n",
    "            scc_sizes.append(scc_size)\n",
    "        for i_, connected_nodes in enumerate(sorted(nx.weakly_connected_components(G), key=len)):\n",
    "            if i_ == 1:\n",
    "                di_w = nx.diameter(nx.DiGraph(nx.path_graph(connected_nodes)))\n",
    "            wcc_size = len(connected_nodes)\n",
    "            wcc_sizes.append(wcc_size)\n",
    "        sorted(scc_sizes); sorted(wcc_sizes);\n",
    "\n",
    "        try:\n",
    "            strong_row = (d, scc_sizes[0], scc_sizes[1], float(stat.mean(scc_sizes)), di_s, len(scc_sizes) - scc_sizes.count(1), scc_sizes.count(1))\n",
    "            weak_row = (d, wcc_sizes[0], wcc_sizes[1], float(stat.mean(wcc_sizes)), di_w, len(scc_sizes) - wcc_sizes.count(1), wcc_sizes.count(1))\n",
    "            strong_w.writerow(strong_row); weak_w.writerow(weak_row);\n",
    "        except IndexError:\n",
    "            index_error += 1\n",
    "            continue"
   ]
  },
  {
   "cell_type": "markdown",
   "metadata": {},
   "source": [
    "## Old Visualizations\n",
    "Granularity is every four weeks."
   ]
  },
  {
   "cell_type": "code",
   "execution_count": null,
   "metadata": {},
   "outputs": [],
   "source": [
    "mpl.rcParams['figure.figsize'] = [12, 8]\n",
    "mpl.rcParams['figure.dpi'] = 300\n",
    "mpl.rcParams['font.family'] = \"serif\"\n",
    "mpl.rcParams['font.size'] = 8\n",
    "em = 12"
   ]
  },
  {
   "cell_type": "code",
   "execution_count": null,
   "metadata": {},
   "outputs": [],
   "source": [
    "with open(os.path.join(pwd, \"cleaned_scc.csv\"), 'r', encoding='utf-8') as s, \\\n",
    "open(os.path.join(pwd, \"cleaned_wcc.csv\"), 'r', encoding='utf-8') as w:\n",
    "    sg_life = pd.read_csv(s, index_col = 0, header=None, names=(\"d\", \"Largest\", \"Second\", \"Mean\", \"Diameter\", \"Avg Ecc.\", \"# Components\", \"0th-Deg\"))\n",
    "    wk_life = pd.read_csv(w, index_col = 0, header=None, names=(\"d\", \"Largest\", \"Second\", \"Mean\", \"Diameter\", \"Avg Ecc.\", \"# Components\", \"0th-Deg\"))\n",
    "\n",
    "epoch_yr = epoch_day * 365\n",
    "em = 12\n",
    "srt = 1104537600000\n",
    "\n",
    "mpl.rcParams['figure.figsize'] = [12, 8]\n",
    "mpl.rcParams['figure.dpi'] = 300\n",
    "mpl.rcParams['font.family'] = \"serif\"\n",
    "mpl.rcParams['font.size'] = 8"
   ]
  },
  {
   "cell_type": "code",
   "execution_count": null,
   "metadata": {},
   "outputs": [],
   "source": [
    "p1, = mpl.plot(\"Largest\", color='g', data = sg_life)\n",
    "p2, = mpl.plot(\"Largest\", color='b', data = wk_life)\n",
    "p3, = mpl.plot(\"0th-Deg\", color='r', data = wk_life)\n",
    "p4, = mpl.plot(\"# Components\", color='y', data=sg_life)\n",
    "p5, = mpl.plot(\"# Components\", color='c', data=wk_life)\n",
    "labels = ('2005', '2006', '2007', '2008', '2009', '2010', '2011', '2012', '2013', '2014', '2015', '2016')\n",
    "x_pos = np.arange(srt, srt + epoch_yr * len(labels), epoch_yr)\n",
    "mpl.xticks(x_pos, labels = labels)\n",
    "mpl.xlabel(\"Years\", fontsize = em)\n",
    "mpl.ylabel(\"Size (n)\", fontsize = em)\n",
    "#mpl.yscale(\"log\")\n",
    "mpl.title(\"SCC/WCC/Monads/Comps on CaringBridge over time\", fontsize = em)\n",
    "mpl.legend([p1,p2,p3,p4, p5], [\"Size LSCC\", \"Size LWCC\", \"# Mon\", \"# SCC\", \"# WCC\"])\n",
    "mpl.show()"
   ]
  },
  {
   "cell_type": "code",
   "execution_count": null,
   "metadata": {},
   "outputs": [],
   "source": [
    "fig, ax = mpl.subplots()\n",
    "\n",
    "p1, = ax.plot(\"Largest\", color = 'b', data = wk_life)\n",
    "p2, = ax.plot(\"0th-Deg\", color = 'r', data = wk_life)\n",
    "p4, = ax.plot(\"# Components\", color = 'y', data = wk_life)\n",
    "labels = ('2005', '2006', '2007', '2008', '2009', '2010', '2011', '2012', '2013', '2014', '2015', '2016')\n",
    "x_pos = np.arange(srt, srt + epoch_yr * len(labels), epoch_yr)\n",
    " \n",
    "ax.set_xticks(x_pos)\n",
    "ax.set_xlabel(labels)\n",
    "ax.tick_params(axis='y')\n",
    "\n",
    "mpl.xlabel(\"Years\", fontsize = em)\n",
    "mpl.ylabel(\"WCC/Monads\",fontsize = em)\n",
    "mpl.title(\"SCC/WCC/Monads/Comps over time\", fontsize = em)\n",
    "\n",
    "ax2 = ax.twinx()\n",
    "p3, = ax2.plot(\"Largest\", color = 'g', data=sg_life)\n",
    "p5, = ax2.plot(\"# Components\", color = 'c', data=sg_life)\n",
    "ax2.set_ylabel('SCC', color = 'g', fontsize = em)\n",
    "ax2.tick_params(axis='y', labelcolor='g')\n",
    "\n",
    "mpl.setp(ax, xticks=x_pos, xticklabels=labels)\n",
    "\n",
    "fig.legend([p1,p2,p3,p4,p5], [\"Size LWCC\", \"# Monads\", \"Size LSCC\", \"# WCC Comps\", \"# SCC Comps\"])\n",
    "mpl.show()"
   ]
  },
  {
   "cell_type": "code",
   "execution_count": null,
   "metadata": {},
   "outputs": [],
   "source": [
    "fig, ax = mpl.subplots()\n",
    "\n",
    "p1, = ax.plot(\"Diameter\", color = 'b', data = wk_life)\n",
    "labels = ('2005', '2006', '2007', '2008', '2009', '2010', '2011', '2012', '2013', '2014', '2015', '2016')\n",
    "x_pos = np.arange(srt, srt + epoch_yr * len(labels), epoch_yr)\n",
    " \n",
    "ax.set_xticks(x_pos)\n",
    "ax.set_xlabel(labels)\n",
    "ax.tick_params(axis='y')\n",
    "\n",
    "mpl.xlabel(\"Years\", fontsize = em)\n",
    "mpl.ylabel(\"WCC\",fontsize = em)\n",
    "mpl.title(\"SCC/WCC Diameters over Time\", fontsize = em)\n",
    "\n",
    "ax2 = ax.twinx()\n",
    "p2, = ax2.plot(\"Diameter\", color = 'g', data=sg_life)\n",
    "ax2.set_ylabel('SCC', color = 'g', fontsize = em)\n",
    "ax2.tick_params(axis='y', labelcolor='g')\n",
    "\n",
    "mpl.setp(ax, xticks=x_pos, xticklabels=labels)\n",
    "\n",
    "fig.legend([p1,p2], [\"WCC\", \"SCC\"])\n",
    "mpl.show()"
   ]
  },
  {
   "cell_type": "code",
   "execution_count": null,
   "metadata": {},
   "outputs": [],
   "source": [
    "fig, ax = mpl.subplots()\n",
    "\n",
    "p1, = ax.plot(\"Avg Ecc.\", color = 'c', data = wk_life)\n",
    "labels = ('2005', '2006', '2007', '2008', '2009', '2010', '2011', '2012', '2013', '2014', '2015', '2016')\n",
    "x_pos = np.arange(srt, srt + epoch_yr * len(labels), epoch_yr)\n",
    " \n",
    "ax.set_xticks(x_pos)\n",
    "ax.set_xlabel(labels)\n",
    "ax.tick_params(axis='y')\n",
    "\n",
    "mpl.xlabel(\"Years\", fontsize = em)\n",
    "mpl.ylabel(\"WCC\",fontsize = em)\n",
    "mpl.title(\"SCC/WCC Eccentricities over Time\", fontsize = em)\n",
    "\n",
    "ax2 = ax.twinx()\n",
    "p2, = ax2.plot(\"Avg Ecc.\", color = 'y', data=sg_life)\n",
    "ax2.set_ylabel('SCC', color = 'y', fontsize = em)\n",
    "ax2.tick_params(axis='y', labelcolor='y')\n",
    "\n",
    "mpl.setp(ax, xticks=x_pos, xticklabels=labels)\n",
    "\n",
    "fig.legend([p1,p2], [\"WCC\", \"SCC\"])\n",
    "mpl.show()"
   ]
  },
  {
   "cell_type": "markdown",
   "metadata": {},
   "source": [
    "## Proportions"
   ]
  },
  {
   "cell_type": "code",
   "execution_count": null,
   "metadata": {},
   "outputs": [],
   "source": [
    "srt = 1262304000000\n",
    "rng = 5 * 365 * epoch_day\n",
    "with open(os.path.join(pwd, \"nw_size.csv\"), 'r', encoding='utf-8') as n:\n",
    "    sg_cut = sg_life.loc[(sg_life.index >= srt) & (sg_life.index <= srt + rng)]\n",
    "    wk_cut = wk_life.loc[(wk_life.index >= srt) & (wk_life.index <= srt + rng)]\n",
    "    nw = pd.read_csv(n, index_col = 0, header=None, names=(\"d\", \"Auth\", \"Int\", \"Life\"))\n",
    "    sg_prop = pd.DataFrame(sg_cut[\"Largest\"] / nw[\"Life\"], columns=(\"Proportion\",))\n",
    "    wk_prop = pd.DataFrame(wk_cut[\"Largest\"] / nw[\"Life\"], columns=(\"Proportion\",))\n",
    "    mo_prop = pd.DataFrame(wk_cut[\"0th-Deg\"] / nw[\"Life\"], columns=(\"Proportion\",))\n",
    "    nsg_prop = pd.DataFrame(sg_cut[\"# Components\"] / nw[\"Life\"], columns=(\"Proportion\",))\n",
    "    nwk_prop = pd.DataFrame(wk_cut[\"# Components\"] / nw[\"Life\"], columns=(\"Proportion\",))\n",
    "    sg_prop = sg_prop.dropna(); wk_prop = wk_prop.dropna(); mo_prop = mo_prop.dropna(); \n",
    "    nsg_prop = nsg_prop.dropna(); nwk_prop = nwk_prop.dropna();"
   ]
  },
  {
   "cell_type": "code",
   "execution_count": null,
   "metadata": {},
   "outputs": [],
   "source": [
    "p1, = mpl.plot(\"Proportion\", color='g', data = sg_prop)\n",
    "p2, = mpl.plot(\"Proportion\", color='b', data = wk_prop)\n",
    "p3, = mpl.plot(\"Proportion\", color='r', data = mo_prop)\n",
    "p4, = mpl.plot(\"Proportion\", color = 'y', data = nsg_prop)\n",
    "p5, = mpl.plot(\"Proportion\", color = 'c', data = nwk_prop)\n",
    "labels = ('2010', '2011', '2012', '2013', '2014', '2015')\n",
    "x_pos = np.arange(srt, srt + epoch_yr * len(labels), epoch_yr)\n",
    "mpl.xticks(x_pos, labels = labels)\n",
    "mpl.xlabel(\"Years\", fontsize = em)\n",
    "mpl.ylabel(\"Proportion of Users in Component\", fontsize = em)\n",
    "#mpl.yscale(\"log\")\n",
    "mpl.title(\"SCC/WCC/Monad/Comp Proportions on CaringBridge over time\", fontsize = em)\n",
    "mpl.legend([p1,p2,p3,p4,p5], [\"LSCC\", \"LWCC\", \"Monads\", \"SCC's\", \"WCC's\"])\n",
    "mpl.show()"
   ]
  },
  {
   "cell_type": "code",
   "execution_count": null,
   "metadata": {},
   "outputs": [],
   "source": [
    "fig, ax = mpl.subplots()\n",
    "\n",
    "p1, = ax.plot(\"Proportion\", color = 'b', data = wk_prop)\n",
    "p2, = ax.plot(\"Proportion\", color = 'r', data = mo_prop)\n",
    "p4, = ax.plot(\"Proportion\", color = 'y', data = nwk_prop) #lazy solution to scaling\n",
    "labels = ('2010', '2011', '2012', '2013', '2014', '2015')\n",
    "x_pos = np.arange(srt, srt + epoch_yr * len(labels), epoch_yr)\n",
    " \n",
    "ax.set_xticks(x_pos)\n",
    "ax.set_xlabel(labels)\n",
    "ax.tick_params(axis='y')\n",
    "\n",
    "mpl.xlabel(\"Years\", fontsize = em)\n",
    "mpl.ylabel(\"WCC/Monad Props\",fontsize = em)\n",
    "mpl.title(\"SCC/WCC/Monad Proportions over time\", fontsize = em)\n",
    "\n",
    "ax2 = ax.twinx()\n",
    "p3, = ax2.plot(\"Proportion\", color = 'g', data=sg_prop)\n",
    "p5, = ax2.plot(\"Proportion\", color = 'c', data=nsg_prop)\n",
    "ax2.set_ylabel('SCC Props', color = 'g', fontsize = em)\n",
    "ax2.tick_params(axis='y', labelcolor='g')\n",
    "\n",
    "mpl.setp(ax, xticks=x_pos, xticklabels=labels)\n",
    "\n",
    "fig.legend([p1,p2,p3,p4,p5], [\"LWCC\", \"Monads\", \"LSCC\", \"WCC's\", \"SCC's\"])\n",
    "mpl.show()"
   ]
  },
  {
   "cell_type": "markdown",
   "metadata": {},
   "source": [
    "---\n",
    "---\n",
    "# December 2019 Revisions for CSCW"
   ]
  },
  {
   "cell_type": "code",
   "execution_count": null,
   "metadata": {},
   "outputs": [],
   "source": [
    "with open(os.path.join(pwd, \"revised_1219_scc.csv\"), 'r', encoding='utf-8') as s, \\\n",
    "open(os.path.join(pwd, \"revised_1219_scc.csv\"), 'r', encoding='utf-8') as w:\n",
    "    sg_life = pd.read_csv(s, index_col = 0, header=None, names=(\"d\", \"Largest\", \"Second\", \"Mean\", \"Diameter\", \"Avg Ecc.\", \"# Components\", \"0th-Deg\"))\n",
    "    wk_life = pd.read_csv(w, index_col = 0, header=None, names=(\"d\", \"Largest\", \"Second\", \"Mean\", \"Diameter\", \"Avg Ecc.\", \"# Components\", \"0th-Deg\"))\n",
    "\n",
    "epoch_yr = epoch_day * 365\n",
    "em = 10\n",
    "\n",
    "mpl.rcParams['figure.figsize'] = [10, 3]\n",
    "mpl.rcParams['figure.dpi'] = 300\n",
    "mpl.rcParams['font.family'] = \"sans\"\n",
    "mpl.rcParams['font.size'] = 8"
   ]
  },
  {
   "cell_type": "markdown",
   "metadata": {},
   "source": [
    "### Numeric"
   ]
  },
  {
   "cell_type": "code",
   "execution_count": null,
   "metadata": {},
   "outputs": [],
   "source": [
    "p1, = mpl.plot(\"Largest\", color='b', data = wk_life)\n",
    "p2, = mpl.plot(\"0th-Deg\", color='r', data = wk_life)\n",
    "p3, = mpl.plot(\"# Components\", color='y', data=sg_life)\n",
    "p4, = mpl.plot(\"# Components\", color='c', data=wk_life)\n",
    "labels = ('2005', '2006', '2007', '2008', '2009', '2010', '2011', '2012', '2013', '2014', '2015', '2016')\n",
    "x_pos = np.arange(srt, srt + epoch_yr * len(labels), epoch_yr)\n",
    "mpl.xticks(x_pos, labels = labels)\n",
    "mpl.xlabel(\"Years\", fontsize = em)\n",
    "mpl.ylabel(\"Size (Users)\", fontsize = em)\n",
    "#mpl.yscale(\"log\")\n",
    "mpl.title(\"Component Size over Time\", fontsize = em)\n",
    "mpl.legend([p1,p2,p3,p4], [\"Largest WCC\", \"Monads\", \"Reciprocal Dyads (SCC >2)\", \"WCC\"])\n",
    "mpl.show()"
   ]
  },
  {
   "cell_type": "code",
   "execution_count": null,
   "metadata": {},
   "outputs": [],
   "source": [
    "wk_life"
   ]
  },
  {
   "cell_type": "code",
   "execution_count": null,
   "metadata": {},
   "outputs": [],
   "source": [
    "fig, ax = mpl.subplots()\n",
    "\n",
    "p1, = ax.plot(\"Largest\", color = 'b', data = wk_life)\n",
    "p2, = ax.plot(\"0th-Deg\", color = 'r', data = wk_life)\n",
    "p4, = ax.plot(\"# Components\", color = 'y', data = wk_life)\n",
    "labels = ('2005', '2006', '2007', '2008', '2009', '2010', '2011', '2012', '2013', '2014', '2015', '2016')\n",
    "x_pos = np.arange(srt, srt + epoch_yr * len(labels), epoch_yr)\n",
    " \n",
    "ax.set_xticks(x_pos)\n",
    "ax.set_xlabel(labels)\n",
    "ax.tick_params(axis='y')\n",
    "\n",
    "mpl.xlabel(\"Years\", fontsize = em)\n",
    "mpl.ylabel(\"WCC/Monads\",fontsize = em)\n",
    "mpl.title(\"Component Size over Time\", fontsize = em)\n",
    "\n",
    "ax2 = ax.twinx()\n",
    "p3, = ax2.plot(\"# Components\", color = 'g', data=sg_life)\n",
    "ax2.set_ylabel('Dyads', color = 'g', fontsize = em)\n",
    "ax2.tick_params(axis='y', labelcolor='g')\n",
    "\n",
    "mpl.setp(ax, xticks=x_pos, xticklabels=labels)\n",
    "\n",
    "fig.legend([p1,p2,p3,p4], [\"Largest WCC\", \"Monads\", \"Reciprocal Dyads (SCC >2)\", \"WCC\"], loc='upper left')\n",
    "mpl.show()"
   ]
  },
  {
   "cell_type": "markdown",
   "metadata": {},
   "source": [
    "### Proportional"
   ]
  },
  {
   "cell_type": "code",
   "execution_count": null,
   "metadata": {},
   "outputs": [],
   "source": [
    "rng = 11.5 * 365 * epoch_day\n",
    "with open(os.path.join(pwd, \"nw_size.csv\"), 'r', encoding='utf-8') as n:\n",
    "    nw = pd.read_csv(n, index_col = 0, header=None, names=(\"d\", \"Auth\", \"Int\", \"Life\"))\n",
    "    sg_prop = pd.DataFrame(sg_life[\"Largest\"] / nw[\"Life\"], columns=(\"Proportion\",))\n",
    "    wk_prop = pd.DataFrame(wk_life[\"Largest\"] / nw[\"Life\"], columns=(\"Proportion\",))\n",
    "    mo_prop = pd.DataFrame(wk_life[\"0th-Deg\"] / nw[\"Life\"], columns=(\"Proportion\",))\n",
    "    nsg_prop = pd.DataFrame(sg_life[\"# Components\"] / nw[\"Life\"], columns=(\"Proportion\",))\n",
    "    nwk_prop = pd.DataFrame(wk_life[\"# Components\"] / nw[\"Life\"], columns=(\"Proportion\",))\n",
    "    sg_prop = sg_prop.dropna(); wk_prop = wk_prop.dropna(); mo_prop = mo_prop.dropna(); \n",
    "    nsg_prop = nsg_prop.dropna(); nwk_prop = nwk_prop.dropna();"
   ]
  },
  {
   "cell_type": "code",
   "execution_count": null,
   "metadata": {},
   "outputs": [],
   "source": [
    "p1, = mpl.plot(\"Proportion\", color='b', data = wk_prop)\n",
    "p2, = mpl.plot(\"Proportion\", color='r', data = mo_prop)\n",
    "p3, = mpl.plot(\"Proportion\", color = 'g', data = nsg_prop)\n",
    "p4, = mpl.plot(\"Proportion\", color = 'c', data = nwk_prop)\n",
    "labels = ('2005', '2006', '2007', '2008', '2009', '2010', '2011', '2012', '2013', '2014', '2015', '2016')\n",
    "x_pos = np.arange(srt, srt + epoch_yr * len(labels), epoch_yr)\n",
    "mpl.xticks(x_pos, labels = labels)\n",
    "mpl.xlabel(\"Years\", fontsize = em)\n",
    "mpl.ylabel(\"Proportion of Users\", fontsize = em)\n",
    "mpl.ylim(bottom = 0, top = 1)\n",
    "mpl.xlim(right= srt + 11.5 * 365 * epoch_day)\n",
    "#mpl.yscale(\"log\")\n",
    "mpl.title(\"Component Proportions on CaringBridge over Time\", fontsize = em)\n",
    "mpl.legend([p1,p2,p3,p4], [\"Largest WCC\", \"Monads\", \"Reciprocal Dyads (>2)\", \"WCC\"])\n",
    "mpl.show()"
   ]
  },
  {
   "cell_type": "code",
   "execution_count": null,
   "metadata": {},
   "outputs": [],
   "source": [
    "fig, ax = mpl.subplots()\n",
    "\n",
    "p1, = ax.plot(\"Proportion\", color = 'b', data = wk_prop)\n",
    "p2, = ax.plot(\"Proportion\", color = 'r', data = mo_prop)\n",
    "p4, = ax.plot(\"Proportion\", color = 'c', data = nwk_prop) #lazy solution to scaling\n",
    "labels = ('2005', '2006', '2007', '2008', '2009', '2010', '2011', '2012', '2013', '2014', '2015', '2016')\n",
    "x_pos = np.arange(srt, srt + epoch_yr * len(labels), epoch_yr)\n",
    " \n",
    "ax.set_xticks(x_pos)\n",
    "ax.set_xlabel(labels)\n",
    "ax.tick_params(axis='y')\n",
    "\n",
    "mpl.xlabel(\"Years\", fontsize = em)\n",
    "mpl.ylabel(\"Non-Dyadic Proportions\",fontsize = em)\n",
    "mpl.title(\"Component Proportions on CaringBridge over Time\", fontsize = em)\n",
    "\n",
    "ax2 = ax.twinx()\n",
    "p4, = ax2.plot(\"Proportion\", color = 'g', data=nsg_prop)\n",
    "ax2.set_ylabel('Dyad Proportion', color = 'g', fontsize = em)\n",
    "ax2.tick_params(axis='y', labelcolor='g')\n",
    "\n",
    "mpl.setp(ax, xticks=x_pos, xticklabels=labels)\n",
    "ax.set_ylim(bottom = 0, top = 1)\n",
    "ax2.set_ylim(bottom = 0, top = .01)\n",
    "ax.set_xlim(right= srt + 11.5 * 365 * epoch_day)\n",
    "mpl.legend([p1,p2,p3,p4], [\"Largest WCC\", \"Monads\", \"Reciprocal Dyads (>2)\", \"WCC\"])\n",
    "mpl.show()"
   ]
  },
  {
   "cell_type": "code",
   "execution_count": null,
   "metadata": {},
   "outputs": [],
   "source": []
  }
 ],
 "metadata": {
  "kernelspec": {
   "display_name": "Python (shared-conda)",
   "language": "python",
   "name": "shared-conda"
  },
  "language_info": {
   "codemirror_mode": {
    "name": "ipython",
    "version": 3
   },
   "file_extension": ".py",
   "mimetype": "text/x-python",
   "name": "python",
   "nbconvert_exporter": "python",
   "pygments_lexer": "ipython3",
   "version": "3.7.3"
  }
 },
 "nbformat": 4,
 "nbformat_minor": 1
}
