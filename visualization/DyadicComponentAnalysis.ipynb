{
 "cells": [
  {
   "cell_type": "markdown",
   "metadata": {},
   "source": [
    "# Component Analysis\n",
    "Data calculation and visualization work for SCC/WCC/Monads/All Components."
   ]
  },
  {
   "cell_type": "code",
   "execution_count": 2,
   "metadata": {},
   "outputs": [],
   "source": [
    "import json\n",
    "import statistics as stat\n",
    "import numpy as np\n",
    "import pandas as pd\n",
    "import csv as csv\n",
    "import matplotlib.pyplot as mpl\n",
    "import os\n",
    "from tqdm import tqdm\n",
    "import networkx as nx\n",
    "from collections import defaultdict, Counter\n",
    "import pickle\n",
    "\n",
    "pwd = \"/home/srivbane/shared/caringbridge/data/projects/sna-social-support/csv_data/\"\n",
    "dyad_dir = \"/home/srivbane/shared/caringbridge/data/projects/sna-social-support/dyad_growth/\"\n",
    "metadata_dir = \"/home/srivbane/shared/caringbridge/data/projects/sna-social-support/user_metadata\"\n",
    "\n",
    "epoch_day = 86400000             # accounting for milliseconds\n",
    "epoch_yr = epoch_day * 365\n",
    "srt = 1104537600000              # jan 1, 2005\n",
    "rng = 12 * epoch_yr              # until jan 1, 2017 (cant multiply by floats)\n",
    "six_months = 6 * 30 * epoch_day  # lets say a month is 30 days"
   ]
  },
  {
   "cell_type": "code",
   "execution_count": 3,
   "metadata": {},
   "outputs": [
    {
     "data": {
      "text/plain": [
       "14812407"
      ]
     },
     "execution_count": 3,
     "metadata": {},
     "output_type": "execute_result"
    }
   ],
   "source": [
    "# read the user->user interactions dataframe\n",
    "u2u_df = pd.read_feather(os.path.join(metadata_dir,\"u2u_df.feather\"))\n",
    "len(u2u_df)"
   ]
  },
  {
   "cell_type": "code",
   "execution_count": 4,
   "metadata": {},
   "outputs": [
    {
     "data": {
      "text/plain": [
       "362345"
      ]
     },
     "execution_count": 4,
     "metadata": {},
     "output_type": "execute_result"
    }
   ],
   "source": [
    "# load the list of valid users\n",
    "data_selection_working_dir = \"/home/srivbane/shared/caringbridge/data/projects/sna-social-support/data_selection\"\n",
    "valid_user_ids = set()\n",
    "with open(os.path.join(data_selection_working_dir, \"valid_user_ids.txt\"), 'r') as infile:\n",
    "    for line in infile:\n",
    "        user_id = line.strip()\n",
    "        if user_id == \"\":\n",
    "            continue\n",
    "        else:\n",
    "            valid_user_ids.add(int(user_id))\n",
    "len(valid_user_ids)"
   ]
  },
  {
   "cell_type": "code",
   "execution_count": 5,
   "metadata": {},
   "outputs": [
    {
     "data": {
      "text/plain": [
       "340414"
      ]
     },
     "execution_count": 5,
     "metadata": {},
     "output_type": "execute_result"
    }
   ],
   "source": [
    "# load the list of valid sites\n",
    "data_selection_working_dir = \"/home/srivbane/shared/caringbridge/data/projects/sna-social-support/data_selection\"\n",
    "valid_site_ids = set()\n",
    "with open(os.path.join(data_selection_working_dir, \"valid_site_ids.txt\"), 'r') as infile:\n",
    "    for line in infile:\n",
    "        site_id = line.strip()\n",
    "        if site_id == \"\":\n",
    "            continue\n",
    "        else:\n",
    "            valid_site_ids.add(int(site_id))\n",
    "len(valid_site_ids)"
   ]
  },
  {
   "cell_type": "code",
   "execution_count": 33,
   "metadata": {},
   "outputs": [
    {
     "data": {
      "text/plain": [
       "(758857, 758857)"
      ]
     },
     "execution_count": 33,
     "metadata": {},
     "output_type": "execute_result"
    }
   ],
   "source": [
    "author_to_site = os.path.join(metadata_dir, \"interaction_metadata.h5\")\n",
    "df = pd.read_hdf(author_to_site)\n",
    "sorted_df = df.sort_values(by=[\"user_id\", \"site_id\", \"created_at\"])\n",
    "journals = sorted_df[sorted_df.int_type == \"journal\"]\n",
    "firsts = journals.drop_duplicates(subset=[\"user_id\", \"site_id\"], keep=\"first\")\n",
    "lasts = journals.drop_duplicates(subset=[\"user_id\", \"site_id\"], keep=\"last\")\n",
    "len(firsts), len(lasts)"
   ]
  },
  {
   "cell_type": "code",
   "execution_count": 35,
   "metadata": {},
   "outputs": [],
   "source": [
    "first_time = {a : b for a,b in zip(firsts.user_id, firsts.created_at)}\n",
    "last_time = {a : b for a,b in zip(lasts.user_id, lasts.created_at)}\n",
    "author_ind = {a : b for a,b in zip(firsts.index, firsts.user_id)}"
   ]
  },
  {
   "cell_type": "code",
   "execution_count": 36,
   "metadata": {},
   "outputs": [
    {
     "name": "stderr",
     "output_type": "stream",
     "text": [
      "                                                 \r"
     ]
    }
   ],
   "source": [
    "active_users = defaultdict(list)\n",
    "for d in tqdm(range(srt, srt + rng, epoch_day*7*4), position=0, leave=False):\n",
    "    for ind in firsts.index:\n",
    "        user_id = author_ind[ind]\n",
    "        f = first_time[user_id]\n",
    "        l = last_time[user_id]\n",
    "        if f < d and l + six_months > d:\n",
    "            active_users[d].append(user_id)"
   ]
  },
  {
   "cell_type": "code",
   "execution_count": 7,
   "metadata": {},
   "outputs": [],
   "source": [
    "valid_u2u_df = u2u_df[(u2u_df.from_user_id.isin(valid_user_ids))&(u2u_df.to_user_id.isin(valid_user_ids))]\n",
    "inits_df = valid_u2u_df.sort_values(by='created_at', ascending=True).drop_duplicates(subset=['from_user_id', 'to_user_id'], keep='first')"
   ]
  },
  {
   "cell_type": "markdown",
   "metadata": {},
   "source": [
    "### Fall 2019 Network Component Gen over Time"
   ]
  },
  {
   "cell_type": "markdown",
   "metadata": {},
   "source": [
    "I would edit your core loop to construct a single graph object that is updated at each iteration of the loop: (1) old nodes that are no longer considered active are removed, (2) new nodes that are now considered active are added, and (3) any new edges between active nodes are added."
   ]
  },
  {
   "cell_type": "code",
   "execution_count": 9,
   "metadata": {},
   "outputs": [
    {
     "name": "stderr",
     "output_type": "stream",
     "text": [
      "  1%|▏         | 2/157 [00:13<17:10,  6.65s/it]"
     ]
    },
    {
     "ename": "KeyboardInterrupt",
     "evalue": "",
     "output_type": "error",
     "traceback": [
      "\u001b[0;31m---------------------------------------------------------------------------\u001b[0m",
      "\u001b[0;31mKeyboardInterrupt\u001b[0m                         Traceback (most recent call last)",
      "\u001b[0;32m<ipython-input-9-d873b1083ad9>\u001b[0m in \u001b[0;36m<module>\u001b[0;34m\u001b[0m\n\u001b[1;32m     18\u001b[0m             \u001b[0mscc_size\u001b[0m \u001b[0;34m=\u001b[0m \u001b[0mlen\u001b[0m\u001b[0;34m(\u001b[0m\u001b[0mconnected_nodes\u001b[0m\u001b[0;34m)\u001b[0m\u001b[0;34m\u001b[0m\u001b[0;34m\u001b[0m\u001b[0m\n\u001b[1;32m     19\u001b[0m             \u001b[0mscc_sizes\u001b[0m\u001b[0;34m.\u001b[0m\u001b[0mappend\u001b[0m\u001b[0;34m(\u001b[0m\u001b[0mscc_size\u001b[0m\u001b[0;34m)\u001b[0m\u001b[0;34m\u001b[0m\u001b[0;34m\u001b[0m\u001b[0m\n\u001b[0;32m---> 20\u001b[0;31m         \u001b[0;32mfor\u001b[0m \u001b[0mi_\u001b[0m\u001b[0;34m,\u001b[0m \u001b[0mconnected_nodes\u001b[0m \u001b[0;32min\u001b[0m \u001b[0menumerate\u001b[0m\u001b[0;34m(\u001b[0m\u001b[0msorted\u001b[0m\u001b[0;34m(\u001b[0m\u001b[0mnx\u001b[0m\u001b[0;34m.\u001b[0m\u001b[0mweakly_connected_components\u001b[0m\u001b[0;34m(\u001b[0m\u001b[0mG\u001b[0m\u001b[0;34m)\u001b[0m\u001b[0;34m,\u001b[0m \u001b[0mkey\u001b[0m\u001b[0;34m=\u001b[0m\u001b[0mlen\u001b[0m\u001b[0;34m)\u001b[0m\u001b[0;34m)\u001b[0m\u001b[0;34m:\u001b[0m\u001b[0;34m\u001b[0m\u001b[0;34m\u001b[0m\u001b[0m\n\u001b[0m\u001b[1;32m     21\u001b[0m             \u001b[0mwcc_size\u001b[0m \u001b[0;34m=\u001b[0m \u001b[0mlen\u001b[0m\u001b[0;34m(\u001b[0m\u001b[0mconnected_nodes\u001b[0m\u001b[0;34m)\u001b[0m\u001b[0;34m\u001b[0m\u001b[0;34m\u001b[0m\u001b[0m\n\u001b[1;32m     22\u001b[0m             \u001b[0mwcc_sizes\u001b[0m\u001b[0;34m.\u001b[0m\u001b[0mappend\u001b[0m\u001b[0;34m(\u001b[0m\u001b[0mwcc_size\u001b[0m\u001b[0;34m)\u001b[0m\u001b[0;34m\u001b[0m\u001b[0;34m\u001b[0m\u001b[0m\n",
      "\u001b[0;32m/home/srivbane/shared/anaconda3/lib/python3.7/site-packages/networkx/algorithms/components/weakly_connected.py\u001b[0m in \u001b[0;36mweakly_connected_components\u001b[0;34m(G)\u001b[0m\n\u001b[1;32m     70\u001b[0m     \u001b[0;32mfor\u001b[0m \u001b[0mv\u001b[0m \u001b[0;32min\u001b[0m \u001b[0mG\u001b[0m\u001b[0;34m:\u001b[0m\u001b[0;34m\u001b[0m\u001b[0;34m\u001b[0m\u001b[0m\n\u001b[1;32m     71\u001b[0m         \u001b[0;32mif\u001b[0m \u001b[0mv\u001b[0m \u001b[0;32mnot\u001b[0m \u001b[0;32min\u001b[0m \u001b[0mseen\u001b[0m\u001b[0;34m:\u001b[0m\u001b[0;34m\u001b[0m\u001b[0;34m\u001b[0m\u001b[0m\n\u001b[0;32m---> 72\u001b[0;31m             \u001b[0mc\u001b[0m \u001b[0;34m=\u001b[0m \u001b[0mset\u001b[0m\u001b[0;34m(\u001b[0m\u001b[0m_plain_bfs\u001b[0m\u001b[0;34m(\u001b[0m\u001b[0mG\u001b[0m\u001b[0;34m,\u001b[0m \u001b[0mv\u001b[0m\u001b[0;34m)\u001b[0m\u001b[0;34m)\u001b[0m\u001b[0;34m\u001b[0m\u001b[0;34m\u001b[0m\u001b[0m\n\u001b[0m\u001b[1;32m     73\u001b[0m             \u001b[0;32myield\u001b[0m \u001b[0mc\u001b[0m\u001b[0;34m\u001b[0m\u001b[0;34m\u001b[0m\u001b[0m\n\u001b[1;32m     74\u001b[0m             \u001b[0mseen\u001b[0m\u001b[0;34m.\u001b[0m\u001b[0mupdate\u001b[0m\u001b[0;34m(\u001b[0m\u001b[0mc\u001b[0m\u001b[0;34m)\u001b[0m\u001b[0;34m\u001b[0m\u001b[0;34m\u001b[0m\u001b[0m\n",
      "\u001b[0;32m/home/srivbane/shared/anaconda3/lib/python3.7/site-packages/networkx/algorithms/components/weakly_connected.py\u001b[0m in \u001b[0;36m_plain_bfs\u001b[0;34m(G, source)\u001b[0m\n\u001b[1;32m    191\u001b[0m                 \u001b[0mseen\u001b[0m\u001b[0;34m.\u001b[0m\u001b[0madd\u001b[0m\u001b[0;34m(\u001b[0m\u001b[0mv\u001b[0m\u001b[0;34m)\u001b[0m\u001b[0;34m\u001b[0m\u001b[0;34m\u001b[0m\u001b[0m\n\u001b[1;32m    192\u001b[0m                 \u001b[0mnextlevel\u001b[0m\u001b[0;34m.\u001b[0m\u001b[0mupdate\u001b[0m\u001b[0;34m(\u001b[0m\u001b[0mGsucc\u001b[0m\u001b[0;34m[\u001b[0m\u001b[0mv\u001b[0m\u001b[0;34m]\u001b[0m\u001b[0;34m)\u001b[0m\u001b[0;34m\u001b[0m\u001b[0;34m\u001b[0m\u001b[0m\n\u001b[0;32m--> 193\u001b[0;31m                 \u001b[0mnextlevel\u001b[0m\u001b[0;34m.\u001b[0m\u001b[0mupdate\u001b[0m\u001b[0;34m(\u001b[0m\u001b[0mGpred\u001b[0m\u001b[0;34m[\u001b[0m\u001b[0mv\u001b[0m\u001b[0;34m]\u001b[0m\u001b[0;34m)\u001b[0m\u001b[0;34m\u001b[0m\u001b[0;34m\u001b[0m\u001b[0m\n\u001b[0m",
      "\u001b[0;32m/home/srivbane/shared/anaconda3/lib/python3.7/site-packages/networkx/classes/coreviews.py\u001b[0m in \u001b[0;36m__getitem__\u001b[0;34m(self, name)\u001b[0m\n\u001b[1;32m     78\u001b[0m     \u001b[0m__slots__\u001b[0m \u001b[0;34m=\u001b[0m \u001b[0;34m(\u001b[0m\u001b[0;34m)\u001b[0m   \u001b[0;31m# Still uses AtlasView slots names _atlas\u001b[0m\u001b[0;34m\u001b[0m\u001b[0;34m\u001b[0m\u001b[0m\n\u001b[1;32m     79\u001b[0m \u001b[0;34m\u001b[0m\u001b[0m\n\u001b[0;32m---> 80\u001b[0;31m     \u001b[0;32mdef\u001b[0m \u001b[0m__getitem__\u001b[0m\u001b[0;34m(\u001b[0m\u001b[0mself\u001b[0m\u001b[0;34m,\u001b[0m \u001b[0mname\u001b[0m\u001b[0;34m)\u001b[0m\u001b[0;34m:\u001b[0m\u001b[0;34m\u001b[0m\u001b[0;34m\u001b[0m\u001b[0m\n\u001b[0m\u001b[1;32m     81\u001b[0m         \u001b[0;32mreturn\u001b[0m \u001b[0mAtlasView\u001b[0m\u001b[0;34m(\u001b[0m\u001b[0mself\u001b[0m\u001b[0;34m.\u001b[0m\u001b[0m_atlas\u001b[0m\u001b[0;34m[\u001b[0m\u001b[0mname\u001b[0m\u001b[0;34m]\u001b[0m\u001b[0;34m)\u001b[0m\u001b[0;34m\u001b[0m\u001b[0;34m\u001b[0m\u001b[0m\n\u001b[1;32m     82\u001b[0m \u001b[0;34m\u001b[0m\u001b[0m\n",
      "\u001b[0;31mKeyboardInterrupt\u001b[0m: "
     ]
    }
   ],
   "source": [
    "index_error = 0\n",
    "key_error = 0\n",
    "with open(os.path.join(pwd, \"revised_1219_scc.csv\"), 'w', encoding=\"utf-8\") as strong, \\\n",
    "    open(os.path.join(pwd, \"revised_1219_wcc.csv\"), 'w', encoding=\"utf=8\") as weak:\n",
    "    strong_w = csv.writer(strong); weak_w = csv.writer(weak);\n",
    "    for d in tqdm(range(srt, srt + rng, epoch_day*7*4), position=0, leave=False):\n",
    "        \n",
    "        G = nx.DiGraph()\n",
    "        #nodes = set(active_users[d])\n",
    "        nodes = valid_user_ids\n",
    "        inits_subset = inits_df[(inits_df.created_at <= d) & (inits_df.from_user_id.isin(nodes)) & (inits_df.to_user_id.isin(nodes))]\n",
    "        edges = [tuple(row) for row in inits_subset[[\"from_user_id\", \"to_user_id\"]].values]\n",
    "        G.add_nodes_from(nodes)\n",
    "        G.add_edges_from(edges)\n",
    "\n",
    "        scc_sizes = []; wcc_sizes = []; scc_size = 0; wcc_size = 0;\n",
    "        for i_, connected_nodes in enumerate(sorted(nx.strongly_connected_components(G), key=len)):\n",
    "            scc_size = len(connected_nodes)\n",
    "            scc_sizes.append(scc_size)\n",
    "        for i_, connected_nodes in enumerate(sorted(nx.weakly_connected_components(G), key=len)):\n",
    "            wcc_size = len(connected_nodes)\n",
    "            wcc_sizes.append(wcc_size)\n",
    "        sorted(scc_sizes); sorted(wcc_sizes);\n",
    "        \n",
    "        try:\n",
    "            strong_row = (d, scc_sizes[0], scc_sizes[1], len(scc_sizes) - scc_sizes.count(1), scc_sizes.count(1))\n",
    "            weak_row = (d, wcc_sizes[0], wcc_sizes[1], len(scc_sizes) - wcc_sizes.count(1), wcc_sizes.count(1))\n",
    "            strong_w.writerow(strong_row); weak_w.writerow(weak_row);\n",
    "        except IndexError:\n",
    "            index_error += 1\n",
    "            continue"
   ]
  },
  {
   "cell_type": "code",
   "execution_count": 26,
   "metadata": {},
   "outputs": [
    {
     "data": {
      "text/plain": [
       "(11063, 946080, 6356)"
      ]
     },
     "execution_count": 26,
     "metadata": {},
     "output_type": "execute_result"
    }
   ],
   "source": [
    "len(pre_subset), len(post_subset), missed"
   ]
  },
  {
   "cell_type": "markdown",
   "metadata": {},
   "source": [
    "---\n",
    "---\n",
    "# December 2019 Revisions for CSCW"
   ]
  },
  {
   "cell_type": "code",
   "execution_count": 10,
   "metadata": {},
   "outputs": [],
   "source": [
    "with open(os.path.join(pwd, \"revised_1219_scc.csv\"), 'r', encoding='utf-8') as s, \\\n",
    "open(os.path.join(pwd, \"revised_1219_scc.csv\"), 'r', encoding='utf-8') as w:\n",
    "    sg_life = pd.read_csv(s, index_col = 0, header=None, names=(\"d\", \"Largest\", \"Second\", \"# Components\", \"0th-Deg\", \"Missed\"))\n",
    "    wk_life = pd.read_csv(w, index_col = 0, header=None, names=(\"d\", \"Largest\", \"Second\", \"# Components\", \"0th-Deg\", \"Missed\"))\n",
    "\n",
    "epoch_yr = epoch_day * 365\n",
    "em = 10\n",
    "\n",
    "mpl.rcParams['figure.figsize'] = [10, 3]\n",
    "mpl.rcParams['figure.dpi'] = 300\n",
    "mpl.rcParams['font.family'] = \"sans\"\n",
    "mpl.rcParams['font.size'] = 8"
   ]
  },
  {
   "cell_type": "code",
   "execution_count": 11,
   "metadata": {},
   "outputs": [
    {
     "data": {
      "text/html": [
       "<div>\n",
       "<style scoped>\n",
       "    .dataframe tbody tr th:only-of-type {\n",
       "        vertical-align: middle;\n",
       "    }\n",
       "\n",
       "    .dataframe tbody tr th {\n",
       "        vertical-align: top;\n",
       "    }\n",
       "\n",
       "    .dataframe thead th {\n",
       "        text-align: right;\n",
       "    }\n",
       "</style>\n",
       "<table border=\"1\" class=\"dataframe\">\n",
       "  <thead>\n",
       "    <tr style=\"text-align: right;\">\n",
       "      <th></th>\n",
       "      <th>Largest</th>\n",
       "      <th>Second</th>\n",
       "      <th># Components</th>\n",
       "      <th>0th-Deg</th>\n",
       "      <th>Missed</th>\n",
       "    </tr>\n",
       "    <tr>\n",
       "      <th>d</th>\n",
       "      <th></th>\n",
       "      <th></th>\n",
       "      <th></th>\n",
       "      <th></th>\n",
       "      <th></th>\n",
       "    </tr>\n",
       "  </thead>\n",
       "  <tbody>\n",
       "    <tr>\n",
       "      <td>1104537600000</td>\n",
       "      <td>1</td>\n",
       "      <td>1</td>\n",
       "      <td>0</td>\n",
       "      <td>362345</td>\n",
       "      <td>NaN</td>\n",
       "    </tr>\n",
       "    <tr>\n",
       "      <td>1106956800000</td>\n",
       "      <td>1</td>\n",
       "      <td>1</td>\n",
       "      <td>0</td>\n",
       "      <td>362345</td>\n",
       "      <td>NaN</td>\n",
       "    </tr>\n",
       "  </tbody>\n",
       "</table>\n",
       "</div>"
      ],
      "text/plain": [
       "               Largest  Second  # Components  0th-Deg  Missed\n",
       "d                                                            \n",
       "1104537600000        1       1             0   362345     NaN\n",
       "1106956800000        1       1             0   362345     NaN"
      ]
     },
     "execution_count": 11,
     "metadata": {},
     "output_type": "execute_result"
    }
   ],
   "source": [
    "sg_life"
   ]
  },
  {
   "cell_type": "markdown",
   "metadata": {},
   "source": [
    "### Numeric"
   ]
  },
  {
   "cell_type": "code",
   "execution_count": null,
   "metadata": {},
   "outputs": [],
   "source": [
    "p1, = mpl.plot(\"Largest\", color='b', data = wk_life)\n",
    "p2, = mpl.plot(\"0th-Deg\", color='r', data = wk_life)\n",
    "p3, = mpl.plot(\"# Components\", color='y', data=sg_life)\n",
    "p4, = mpl.plot(\"# Components\", color='c', data=wk_life)\n",
    "labels = ('2005', '2006', '2007', '2008', '2009', '2010', '2011', '2012', '2013', '2014', '2015', '2016')\n",
    "x_pos = np.arange(srt, srt + epoch_yr * len(labels), epoch_yr)\n",
    "mpl.xticks(x_pos, labels = labels)\n",
    "mpl.xlabel(\"Years\", fontsize = em)\n",
    "mpl.ylabel(\"Size (Users)\", fontsize = em)\n",
    "#mpl.yscale(\"log\")\n",
    "mpl.title(\"Component Size over Time\", fontsize = em)\n",
    "mpl.legend([p1,p2,p3,p4], [\"Largest WCC\", \"Monads\", \"Reciprocal Dyads (SCC >2)\", \"WCC\"])\n",
    "mpl.show()"
   ]
  },
  {
   "cell_type": "code",
   "execution_count": null,
   "metadata": {},
   "outputs": [],
   "source": [
    "fig, ax = mpl.subplots()\n",
    "\n",
    "p1, = ax.plot(\"Largest\", color = 'b', data = wk_life)\n",
    "p2, = ax.plot(\"0th-Deg\", color = 'r', data = wk_life)\n",
    "p4, = ax.plot(\"# Components\", color = 'y', data = wk_life)\n",
    "labels = ('2005', '2006', '2007', '2008', '2009', '2010', '2011', '2012', '2013', '2014', '2015', '2016')\n",
    "x_pos = np.arange(srt, srt + epoch_yr * len(labels), epoch_yr)\n",
    " \n",
    "ax.set_xticks(x_pos)\n",
    "ax.set_xlabel(labels)\n",
    "ax.tick_params(axis='y')\n",
    "\n",
    "mpl.xlabel(\"Years\", fontsize = em)\n",
    "mpl.ylabel(\"WCC/Monads\",fontsize = em)\n",
    "mpl.title(\"Component Size over Time\", fontsize = em)\n",
    "\n",
    "ax2 = ax.twinx()\n",
    "p3, = ax2.plot(\"# Components\", color = 'g', data=sg_life)\n",
    "ax2.set_ylabel('Dyads', color = 'g', fontsize = em)\n",
    "ax2.tick_params(axis='y', labelcolor='g')\n",
    "\n",
    "mpl.setp(ax, xticks=x_pos, xticklabels=labels)\n",
    "\n",
    "fig.legend([p1,p2,p3,p4], [\"Largest WCC\", \"Monads\", \"Reciprocal Dyads (SCC >2)\", \"WCC\"], loc='upper left')\n",
    "mpl.show()"
   ]
  },
  {
   "cell_type": "markdown",
   "metadata": {},
   "source": [
    "### Proportional"
   ]
  },
  {
   "cell_type": "code",
   "execution_count": null,
   "metadata": {},
   "outputs": [],
   "source": [
    "rng = 11.5 * 365 * epoch_day\n",
    "with open(os.path.join(pwd, \"nw_size.csv\"), 'r', encoding='utf-8') as n:\n",
    "    nw = pd.read_csv(n, index_col = 0, header=None, names=(\"d\", \"Auth\", \"Int\", \"Life\"))\n",
    "    sg_prop = pd.DataFrame(sg_life[\"Largest\"] / nw[\"Life\"], columns=(\"Proportion\",))\n",
    "    wk_prop = pd.DataFrame(wk_life[\"Largest\"] / nw[\"Life\"], columns=(\"Proportion\",))\n",
    "    mo_prop = pd.DataFrame(wk_life[\"0th-Deg\"] / nw[\"Life\"], columns=(\"Proportion\",))\n",
    "    nsg_prop = pd.DataFrame(sg_life[\"# Components\"] / nw[\"Life\"], columns=(\"Proportion\",))\n",
    "    nwk_prop = pd.DataFrame(wk_life[\"# Components\"] / nw[\"Life\"], columns=(\"Proportion\",))\n",
    "    sg_prop = sg_prop.dropna(); wk_prop = wk_prop.dropna(); mo_prop = mo_prop.dropna(); \n",
    "    nsg_prop = nsg_prop.dropna(); nwk_prop = nwk_prop.dropna();"
   ]
  },
  {
   "cell_type": "code",
   "execution_count": null,
   "metadata": {},
   "outputs": [],
   "source": [
    "p1, = mpl.plot(\"Proportion\", color='b', data = wk_prop)\n",
    "p2, = mpl.plot(\"Proportion\", color='r', data = mo_prop)\n",
    "p3, = mpl.plot(\"Proportion\", color = 'g', data = nsg_prop)\n",
    "p4, = mpl.plot(\"Proportion\", color = 'c', data = nwk_prop)\n",
    "labels = ('2005', '2006', '2007', '2008', '2009', '2010', '2011', '2012', '2013', '2014', '2015', '2016')\n",
    "x_pos = np.arange(srt, srt + epoch_yr * len(labels), epoch_yr)\n",
    "mpl.xticks(x_pos, labels = labels)\n",
    "mpl.xlabel(\"Years\", fontsize = em)\n",
    "mpl.ylabel(\"Proportion of Users\", fontsize = em)\n",
    "mpl.ylim(bottom = 0, top = 1)\n",
    "mpl.xlim(right= srt + 11.5 * 365 * epoch_day)\n",
    "#mpl.yscale(\"log\")\n",
    "mpl.title(\"Component Proportions on CaringBridge over Time\", fontsize = em)\n",
    "mpl.legend([p1,p2,p3,p4], [\"Largest WCC\", \"Monads\", \"Reciprocal Dyads (>2)\", \"WCC\"])\n",
    "mpl.show()"
   ]
  },
  {
   "cell_type": "code",
   "execution_count": null,
   "metadata": {},
   "outputs": [],
   "source": [
    "fig, ax = mpl.subplots()\n",
    "\n",
    "p1, = ax.plot(\"Proportion\", color = 'b', data = wk_prop)\n",
    "p2, = ax.plot(\"Proportion\", color = 'r', data = mo_prop)\n",
    "p4, = ax.plot(\"Proportion\", color = 'c', data = nwk_prop) #lazy solution to scaling\n",
    "labels = ('2005', '2006', '2007', '2008', '2009', '2010', '2011', '2012', '2013', '2014', '2015', '2016')\n",
    "x_pos = np.arange(srt, srt + epoch_yr * len(labels), epoch_yr)\n",
    " \n",
    "ax.set_xticks(x_pos)\n",
    "ax.set_xlabel(labels)\n",
    "ax.tick_params(axis='y')\n",
    "\n",
    "mpl.xlabel(\"Years\", fontsize = em)\n",
    "mpl.ylabel(\"Non-Dyadic Proportions\",fontsize = em)\n",
    "mpl.title(\"Component Proportions on CaringBridge over Time\", fontsize = em)\n",
    "\n",
    "ax2 = ax.twinx()\n",
    "p4, = ax2.plot(\"Proportion\", color = 'g', data=nsg_prop)\n",
    "ax2.set_ylabel('Dyad Proportion', color = 'g', fontsize = em)\n",
    "ax2.tick_params(axis='y', labelcolor='g')\n",
    "\n",
    "mpl.setp(ax, xticks=x_pos, xticklabels=labels)\n",
    "ax.set_ylim(bottom = 0, top = 1)\n",
    "ax2.set_ylim(bottom = 0, top = .01)\n",
    "ax.set_xlim(right= srt + 11.5 * 365 * epoch_day)\n",
    "mpl.legend([p1,p2,p3,p4], [\"Largest WCC\", \"Monads\", \"Reciprocal Dyads (>2)\", \"WCC\"])\n",
    "mpl.show()"
   ]
  },
  {
   "cell_type": "code",
   "execution_count": null,
   "metadata": {},
   "outputs": [],
   "source": []
  }
 ],
 "metadata": {
  "kernelspec": {
   "display_name": "Python (shared-conda)",
   "language": "python",
   "name": "shared-conda"
  },
  "language_info": {
   "codemirror_mode": {
    "name": "ipython",
    "version": 3
   },
   "file_extension": ".py",
   "mimetype": "text/x-python",
   "name": "python",
   "nbconvert_exporter": "python",
   "pygments_lexer": "ipython3",
   "version": "3.7.3"
  }
 },
 "nbformat": 4,
 "nbformat_minor": 1
}
