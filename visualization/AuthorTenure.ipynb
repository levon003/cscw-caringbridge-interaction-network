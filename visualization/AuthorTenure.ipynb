{
 "cells": [
  {
   "cell_type": "markdown",
   "metadata": {},
   "source": [
    "Author Tenure\n",
    "===\n",
    "\n",
    "Notebook for analysis of author tenure."
   ]
  },
  {
   "cell_type": "code",
   "execution_count": 36,
   "metadata": {},
   "outputs": [],
   "source": [
    "%matplotlib inline\n",
    "\n",
    "from pathlib import Path\n",
    "import os\n",
    "import subprocess\n",
    "\n",
    "import pandas as pd\n",
    "import numpy as np\n",
    "\n",
    "from collections import Counter\n",
    "from tqdm import tqdm\n",
    "\n",
    "import matplotlib.pyplot as plt\n",
    "import matplotlib.dates as md\n",
    "import matplotlib\n",
    "import pylab as pl\n",
    "from IPython.core.display import display, HTML\n",
    "\n",
    "from datetime import datetime"
   ]
  },
  {
   "cell_type": "code",
   "execution_count": 3,
   "metadata": {},
   "outputs": [],
   "source": [
    "from pomegranate import *"
   ]
  },
  {
   "cell_type": "code",
   "execution_count": 28,
   "metadata": {},
   "outputs": [
    {
     "data": {
      "text/plain": [
       "'/panfs/roc/groups/3/srivbane/levon003/repos/sna-social-support/figures'"
      ]
     },
     "execution_count": 28,
     "metadata": {},
     "output_type": "execute_result"
    }
   ],
   "source": [
    "git_root_dir = !git rev-parse --show-toplevel\n",
    "git_root_dir = git_root_dir[0]\n",
    "figures_dir = os.path.join(git_root_dir, 'figures')\n",
    "figures_dir"
   ]
  },
  {
   "cell_type": "code",
   "execution_count": 6,
   "metadata": {},
   "outputs": [
    {
     "data": {
      "text/plain": [
       "28388948"
      ]
     },
     "execution_count": 6,
     "metadata": {},
     "output_type": "execute_result"
    }
   ],
   "source": [
    "# read in the interactions dataframe\n",
    "metadata_dir = \"/home/srivbane/shared/caringbridge/data/projects/sna-social-support/user_metadata\"\n",
    "author_to_site = os.path.join(metadata_dir, \"interaction_metadata.h5\")\n",
    "ints_df = pd.read_hdf(author_to_site)\n",
    "len(ints_df)"
   ]
  },
  {
   "cell_type": "code",
   "execution_count": 7,
   "metadata": {},
   "outputs": [
    {
     "name": "stdout",
     "output_type": "stream",
     "text": [
      "44\n",
      "0\n"
     ]
    }
   ],
   "source": [
    "# as a quick fix for invalid dates in journals, when created_at is 0 we use the updated_at instead\n",
    "invalid_created_at = ints_df.created_at <= 0\n",
    "print(np.sum(invalid_created_at))\n",
    "ints_df.loc[invalid_created_at, 'created_at'] = ints_df.loc[invalid_created_at, 'updated_at']\n",
    "print(np.sum(ints_df.created_at <= 0))"
   ]
  },
  {
   "cell_type": "code",
   "execution_count": 39,
   "metadata": {},
   "outputs": [],
   "source": [
    "author_end_date = datetime.fromisoformat('2016-06-01')\n",
    "author_end_timestamp = int(interaction_end_date.timestamp() * 1000)"
   ]
  },
  {
   "cell_type": "code",
   "execution_count": 40,
   "metadata": {},
   "outputs": [],
   "source": [
    "auths = ints_df[(ints_df.int_type == 'journal')&(ints_df.created_at <= author_end_timestamp)].groupby('user_id').agg({\n",
    "    'created_at': lambda created_at: (np.min(created_at), np.max(created_at)),\n",
    "    'site_id': len\n",
    "})"
   ]
  },
  {
   "cell_type": "code",
   "execution_count": 41,
   "metadata": {},
   "outputs": [],
   "source": [
    "first_and_last = np.array(auths.created_at.tolist())\n",
    "auths['first_update'] = first_and_last[:,0]\n",
    "auths['last_update'] = first_and_last[:,1]"
   ]
  },
  {
   "cell_type": "code",
   "execution_count": 42,
   "metadata": {},
   "outputs": [],
   "source": [
    "auths = auths.drop(columns='created_at').rename(columns={'site_id': 'num_journals'})"
   ]
  },
  {
   "cell_type": "code",
   "execution_count": null,
   "metadata": {},
   "outputs": [],
   "source": [
    "# deprecated, I don't remember what this file contained\n",
    "auths = pd.read_csv(\"/home/levon003/repos/sna-social-support/network_data/dynamic_auth.csv\", \n",
    "                    header=None, names=['userId', 'num_journals', 'first_update', 'last_update'])\n",
    "len(auths)"
   ]
  },
  {
   "cell_type": "code",
   "execution_count": 43,
   "metadata": {},
   "outputs": [
    {
     "data": {
      "text/html": [
       "<div>\n",
       "<style scoped>\n",
       "    .dataframe tbody tr th:only-of-type {\n",
       "        vertical-align: middle;\n",
       "    }\n",
       "\n",
       "    .dataframe tbody tr th {\n",
       "        vertical-align: top;\n",
       "    }\n",
       "\n",
       "    .dataframe thead th {\n",
       "        text-align: right;\n",
       "    }\n",
       "</style>\n",
       "<table border=\"1\" class=\"dataframe\">\n",
       "  <thead>\n",
       "    <tr style=\"text-align: right;\">\n",
       "      <th></th>\n",
       "      <th>num_journals</th>\n",
       "      <th>first_update</th>\n",
       "      <th>last_update</th>\n",
       "    </tr>\n",
       "    <tr>\n",
       "      <th>user_id</th>\n",
       "      <th></th>\n",
       "      <th></th>\n",
       "      <th></th>\n",
       "    </tr>\n",
       "  </thead>\n",
       "  <tbody>\n",
       "    <tr>\n",
       "      <td>0</td>\n",
       "      <td>1101455</td>\n",
       "      <td>1073968020000</td>\n",
       "      <td>1372634100000</td>\n",
       "    </tr>\n",
       "    <tr>\n",
       "      <td>1</td>\n",
       "      <td>187</td>\n",
       "      <td>1103856900000</td>\n",
       "      <td>1261008420000</td>\n",
       "    </tr>\n",
       "    <tr>\n",
       "      <td>2</td>\n",
       "      <td>29</td>\n",
       "      <td>1117053060000</td>\n",
       "      <td>1180149600000</td>\n",
       "    </tr>\n",
       "    <tr>\n",
       "      <td>3</td>\n",
       "      <td>1</td>\n",
       "      <td>1117605718000</td>\n",
       "      <td>1117605718000</td>\n",
       "    </tr>\n",
       "    <tr>\n",
       "      <td>4</td>\n",
       "      <td>2</td>\n",
       "      <td>1117605820000</td>\n",
       "      <td>1147748940000</td>\n",
       "    </tr>\n",
       "  </tbody>\n",
       "</table>\n",
       "</div>"
      ],
      "text/plain": [
       "         num_journals   first_update    last_update\n",
       "user_id                                            \n",
       "0             1101455  1073968020000  1372634100000\n",
       "1                 187  1103856900000  1261008420000\n",
       "2                  29  1117053060000  1180149600000\n",
       "3                   1  1117605718000  1117605718000\n",
       "4                   2  1117605820000  1147748940000"
      ]
     },
     "execution_count": 43,
     "metadata": {},
     "output_type": "execute_result"
    }
   ],
   "source": [
    "auths.head()"
   ]
  },
  {
   "cell_type": "code",
   "execution_count": 57,
   "metadata": {},
   "outputs": [
    {
     "data": {
      "text/plain": [
       "572309"
      ]
     },
     "execution_count": 57,
     "metadata": {},
     "output_type": "execute_result"
    }
   ],
   "source": [
    "len(set(auths.index))"
   ]
  },
  {
   "cell_type": "code",
   "execution_count": 44,
   "metadata": {},
   "outputs": [],
   "source": [
    "auths['tenure'] = auths.last_update - auths.first_update"
   ]
  },
  {
   "cell_type": "code",
   "execution_count": 69,
   "metadata": {},
   "outputs": [
    {
     "data": {
      "text/plain": [
       "(161799, 0.28271266046838334)"
      ]
     },
     "execution_count": 69,
     "metadata": {},
     "output_type": "execute_result"
    }
   ],
   "source": [
    "# 28.3% of authors have only a single journal update\n",
    "len(auths[auths.tenure == 0].tenure), len(auths[auths.tenure == 0].tenure) / len(auths)"
   ]
  },
  {
   "cell_type": "code",
   "execution_count": 46,
   "metadata": {},
   "outputs": [
    {
     "data": {
      "image/png": "[encoded data removed]",
      "text/plain": [
       "<Figure size 432x288 with 1 Axes>"
      ]
     },
     "metadata": {
      "needs_background": "light"
     },
     "output_type": "display_data"
    }
   ],
   "source": [
    "x = auths.tenure + 1\n",
    "num_bins=50\n",
    "base = 2\n",
    "logbins = np.logspace(np.log2(min(x)), np.log2(max(x)), num=num_bins, base=base, endpoint=True)\n",
    "plt.hist(x, bins=logbins, color='black', log=True)\n",
    "plt.xscale('log', nonposx='clip', basex=base)\n",
    "plt.show()"
   ]
  },
  {
   "cell_type": "code",
   "execution_count": 47,
   "metadata": {},
   "outputs": [
    {
     "data": {
      "image/png": "[encoded data removed]",
      "text/plain": [
       "<Figure size 432x288 with 1 Axes>"
      ]
     },
     "metadata": {
      "needs_background": "light"
     },
     "output_type": "display_data"
    }
   ],
   "source": [
    "x = auths[auths.tenure > 0].tenure\n",
    "num_bins=50\n",
    "base = 2\n",
    "logbins = np.logspace(np.log2(min(x)), np.log2(max(x)), num=num_bins, base=base, endpoint=True)\n",
    "plt.hist(x, bins=logbins, color='black')\n",
    "plt.xscale('log', nonposx='clip', basex=base)\n",
    "plt.show()"
   ]
  },
  {
   "cell_type": "code",
   "execution_count": 48,
   "metadata": {},
   "outputs": [
    {
     "data": {
      "text/plain": [
       "{\n",
       "    \"class\" : \"GeneralMixtureModel\",\n",
       "    \"distributions\" : [\n",
       "        {\n",
       "            \"class\" : \"Distribution\",\n",
       "            \"name\" : \"LogNormalDistribution\",\n",
       "            \"parameters\" : [\n",
       "                15.397910484279024,\n",
       "                3.010386606438301\n",
       "            ],\n",
       "            \"frozen\" : false\n",
       "        },\n",
       "        {\n",
       "            \"class\" : \"Distribution\",\n",
       "            \"name\" : \"LogNormalDistribution\",\n",
       "            \"parameters\" : [\n",
       "                22.84676852272968,\n",
       "                1.8509278150215311\n",
       "            ],\n",
       "            \"frozen\" : false\n",
       "        }\n",
       "    ],\n",
       "    \"weights\" : [\n",
       "        0.10965487411956669,\n",
       "        0.8903451258804334\n",
       "    ]\n",
       "}"
      ]
     },
     "execution_count": 48,
     "metadata": {},
     "output_type": "execute_result"
    }
   ],
   "source": [
    "x_train = x.values.reshape(-1, 1)\n",
    "model = GeneralMixtureModel.from_samples([LogNormalDistribution, LogNormalDistribution], \n",
    "                                         n_components=2, X=x_train,\n",
    "                                         stop_threshold=0.01)\n",
    "model"
   ]
  },
  {
   "cell_type": "code",
   "execution_count": 49,
   "metadata": {},
   "outputs": [
    {
     "data": {
      "image/png": "[encoded data removed]",
      "text/plain": [
       "<Figure size 432x288 with 2 Axes>"
      ]
     },
     "metadata": {
      "needs_background": "light"
     },
     "output_type": "display_data"
    }
   ],
   "source": [
    "num_bins=50\n",
    "base = 2\n",
    "logbins = np.logspace(np.log2(min(x)), np.log2(max(x)), num=num_bins, base=base, endpoint=True)\n",
    "plt.hist(x, bins=logbins, color='black')\n",
    "plt.xscale('log', nonposx='clip', basex=base)\n",
    "ax2 = plt.gca().twinx()\n",
    "plt.hist(model.distributions[0].sample(1000000), color='blue', bins=logbins, alpha=0.7, density=True)\n",
    "#plt.hist(model.distributions[1].sample(10000), color='red', bins=logbins, alpha=0.7, density=True)\n",
    "# plot the probability density of learned lognormal distributions\n",
    "ax2.plot(logbins, [np.exp(model.distributions[0].log_probability(bin_edge)) for bin_edge in logbins], color='red')\n",
    "#ax2.plot(logbins, [np.exp(model.distributions[1].log_probability(bin_edge)) for bin_edge in logbins], color='blue')\n",
    "plt.show()"
   ]
  },
  {
   "cell_type": "code",
   "execution_count": 70,
   "metadata": {},
   "outputs": [
    {
     "data": {
      "image/png": "[encoded data removed]",
      "text/plain": [
       "<Figure size 394.421x144 with 2 Axes>"
      ]
     },
     "metadata": {
      "needs_background": "light"
     },
     "output_type": "display_data"
    }
   ],
   "source": [
    "fig, ax = plt.subplots(1, 1, figsize=(5.47807, 2))\n",
    "\n",
    "num_bins=50\n",
    "base = 2\n",
    "logbins = np.logspace(np.log2(min(x)), np.log2(max(x)), num=num_bins, base=base, endpoint=True)\n",
    "plt.hist(x, bins=logbins, color='gray')\n",
    "plt.xscale('log', nonposx='clip', basex=base)\n",
    "ax = plt.gca()\n",
    "\n",
    "plt.xlabel(\"Author Tenure (ms)\")\n",
    "plt.ylabel(\"Author Count\")\n",
    "#plt.title(\"Distribution of CaringBridge author tenure\")\n",
    "\n",
    "# add semantically interpretable time moments\n",
    "ax.axvline(1000 * 60, color='black', alpha=0.1)\n",
    "ax.axvline(1000 * 60 * 60, color='black', alpha=0.1)\n",
    "ax.axvline(1000 * 60 * 60 * 24, color='black', alpha=0.1)\n",
    "ax.axvline(1000 * 60 * 60 * 24 * 365, color='black', alpha=0.1)\n",
    "ax.axvline(1000 * 60 * 60 * 24 * 365 * 10, color='black', alpha=0.1)\n",
    "text_y = ax.transData.inverted().transform((0, ax.transAxes.transform((0, 0.90))[1]))[1]  # https://matplotlib.org/users/transforms_tutorial.html\n",
    "ax.text(1000 * 60 * 1.2, text_y, 'Minute', color='darkgray')\n",
    "ax.text(1000 * 60 * 60 * 1.2, text_y, 'Hour', color='darkgray')\n",
    "ax.text(1000 * 60 * 60 * 24 * 1.2, text_y, 'Day', color='darkgray')\n",
    "ax.text(1000 * 60 * 60 * 24 * 365 * 1.5, text_y, 'Year', color='darkgray')\n",
    "ax.text(1000 * 60 * 60 * 24 * 365 * 10, text_y, 'Decade', color='darkgray', rotation=270)\n",
    "\n",
    "ax2 = ax.twinx()\n",
    "#plt.hist(model.distributions[0].sample(int(1000000 * np.exp(model.weights[0]))), color='blue', bins=logbins, alpha=0.7)\n",
    "vals = model.distributions[0].sample(int(1000000 * np.exp(model.weights[0])))\n",
    "hist, _ = np.histogram(vals, bins=logbins, density=False)\n",
    "ax2.plot(logbins[1:], hist, color='blue')\n",
    "\n",
    "#plt.hist(model.distributions[1].sample(int(1000000 * np.exp(model.weights[1]))), color='red', bins=logbins, alpha=0.7)\n",
    "vals = model.distributions[1].sample(int(1000000 * np.exp(model.weights[1])))\n",
    "hist, _ = np.histogram(vals, bins=logbins, density=False)\n",
    "ax2.plot(logbins[1:], hist, color='red')\n",
    "ax2.hist([0], bins=logbins) # this is a cheaty way to force the right yaxis to align 0 along the baseline\n",
    "\n",
    "# turn off yticks\n",
    "ax2.tick_params(axis='y', right=False, labelright=False)\n",
    "\n",
    "plt.tight_layout(pad=0)\n",
    "plt.margins(0,0)\n",
    "plt.savefig(os.path.join(figures_dir, 'author_tenure_distribution.pdf'), dpi=180, pad_inches=0)\n",
    "\n",
    "plt.show()"
   ]
  },
  {
   "cell_type": "code",
   "execution_count": 67,
   "metadata": {},
   "outputs": [
    {
     "data": {
      "text/plain": [
       "310.7210081699694"
      ]
     },
     "execution_count": 67,
     "metadata": {},
     "output_type": "execute_result"
    }
   ],
   "source": [
    "# the mean author tenure is about 1 year\n",
    "np.mean(x) / 1000 / 60 / 60 / 24 # days"
   ]
  },
  {
   "cell_type": "code",
   "execution_count": 52,
   "metadata": {},
   "outputs": [
    {
     "data": {
      "text/plain": [
       "82.95635995370371"
      ]
     },
     "execution_count": 52,
     "metadata": {},
     "output_type": "execute_result"
    }
   ],
   "source": [
    "# the median author tenure is 82 days\n",
    "np.quantile(x, 0.5) / 1000 / 60 / 60 / 24 # days"
   ]
  },
  {
   "cell_type": "code",
   "execution_count": 53,
   "metadata": {},
   "outputs": [
    {
     "data": {
      "text/plain": [
       "7.119288317795512"
      ]
     },
     "execution_count": 53,
     "metadata": {},
     "output_type": "execute_result"
    }
   ],
   "source": [
    "# 99% of author tenures are less than 7 years\n",
    "np.quantile(x, 0.99) / 1000 / 60 / 60 / 24 / 365 # years"
   ]
  },
  {
   "cell_type": "code",
   "execution_count": 54,
   "metadata": {},
   "outputs": [
    {
     "data": {
      "text/plain": [
       "1.8333333333333333"
      ]
     },
     "execution_count": 54,
     "metadata": {},
     "output_type": "execute_result"
    }
   ],
   "source": [
    "# 1% of author tenures are less than 2 minutes\n",
    "np.quantile(x, 0.01) / 1000 / 60 # minutes"
   ]
  },
  {
   "cell_type": "code",
   "execution_count": 55,
   "metadata": {},
   "outputs": [
    {
     "data": {
      "text/plain": [
       "0.05632663588022507"
      ]
     },
     "execution_count": 55,
     "metadata": {},
     "output_type": "execute_result"
    }
   ],
   "source": [
    "# The mean of the estimated lognormal distribution is 95 days\n",
    "np.exp(model.distributions[0].parameters[0]) / 1000 / 60 / 60 / 24 # days"
   ]
  },
  {
   "cell_type": "code",
   "execution_count": 404,
   "metadata": {},
   "outputs": [
    {
     "data": {
      "text/plain": [
       "(0.8910564950736571, 0.1089435049263429)"
      ]
     },
     "execution_count": 404,
     "metadata": {},
     "output_type": "execute_result"
    }
   ],
   "source": [
    "m1, s1 = model.distributions[0].parameters\n",
    "m1, s1 = np.exp(m1), np.exp(s1)\n",
    "m2, s2 = model.distributions[1].parameters\n",
    "m2, s2 = np.exp(m2), np.exp(s2)\n",
    "w1, w2 = model.weights\n",
    "w1, w2 = np.exp(w1), np.exp(w2)\n",
    "w1, w2"
   ]
  },
  {
   "cell_type": "code",
   "execution_count": 377,
   "metadata": {
    "collapsed": true
   },
   "outputs": [],
   "source": [
    "assert np.isclose(m1, lognorm.ppf(0.5,s1,0,m1))\n",
    "assert np.isclose(m2, lognorm.ppf(0.5,s2,0,m2))"
   ]
  },
  {
   "cell_type": "code",
   "execution_count": 356,
   "metadata": {},
   "outputs": [
    {
     "data": {
      "text/plain": [
       "(0.23725577582661211, 0.5582972430344108)"
      ]
     },
     "execution_count": 356,
     "metadata": {},
     "output_type": "execute_result"
    }
   ],
   "source": [
    "lognorm.cdf(1000 * 60 * 60 * 24,s1,0,m1), lognorm.cdf(1000 * 60 * 60 * 24,s2,0,m2)"
   ]
  },
  {
   "cell_type": "code",
   "execution_count": 409,
   "metadata": {},
   "outputs": [
    {
     "data": {
      "text/plain": [
       "((231016.01030180894, 293554672307130.25),\n",
       " (2.7056130078741803e-08, 7.987181425580831e+20))"
      ]
     },
     "execution_count": 409,
     "metadata": {},
     "output_type": "execute_result"
    }
   ],
   "source": [
    "lognorm.interval(0.9,s1,0,m1), lognorm.interval(0.9,s2,0,m2)"
   ]
  },
  {
   "cell_type": "code",
   "execution_count": 414,
   "metadata": {},
   "outputs": [
    {
     "data": {
      "text/plain": [
       "(3.8502666666666667, 930.8557594721273)"
      ]
     },
     "execution_count": 414,
     "metadata": {},
     "output_type": "execute_result"
    }
   ],
   "source": [
    "231016 / 1000 / 60, 293554672307130 / 1000 / 60 / 60 / 24 / 365 / 10"
   ]
  },
  {
   "cell_type": "code",
   "execution_count": 388,
   "metadata": {},
   "outputs": [
    {
     "data": {
      "image/png": "[encoded data removed]",
      "text/plain": [
       "<Figure size 432x288 with 1 Axes>"
      ]
     },
     "metadata": {
      "needs_background": "light"
     },
     "output_type": "display_data"
    }
   ],
   "source": [
    "start = 1000 * 60 * 60 * 24 # day\n",
    "end = 1000 * 60 * 60 * 24 * 365 # 20 days\n",
    "times = np.logspace(np.log2(start), np.log2(end), num=10000)\n",
    "matching_time = 0\n",
    "t1s = []\n",
    "t2s = []\n",
    "for i, time in enumerate(times):\n",
    "    t1 = lognorm.pdf(time,s1,0,m1)\n",
    "    t2 = lognorm.pdf(time,s2,0,m2)\n",
    "    t1s.append(t1)\n",
    "    t2s.append(t2)\n",
    "    #if t1 >= t2:\n",
    "    #    print(i, time, t1 - t2)\n",
    "    #    matching_time = time\n",
    "    #    break\n",
    "plt.plot(times[:len(t1s)],t1s)\n",
    "plt.plot(times[:len(t1s)],t2s)\n",
    "ax = plt.gca()\n",
    "ax.axvline(m1)\n",
    "ax.axvline(m2)\n",
    "ax.set_xscale(\"log\", nonposx='clip', basex=2)\n",
    "ax.set_yscale(\"log\", nonposy='clip')\n",
    "plt.show()"
   ]
  },
  {
   "cell_type": "code",
   "execution_count": 417,
   "metadata": {},
   "outputs": [
    {
     "data": {
      "image/png": "[encoded data removed]",
      "text/plain": [
       "<Figure size 432x288 with 1 Axes>"
      ]
     },
     "metadata": {
      "needs_background": "light"
     },
     "output_type": "display_data"
    }
   ],
   "source": [
    "quantiles = np.linspace(0, 1, num=1000)\n",
    "t1s = []\n",
    "t2s = []\n",
    "for i, q in enumerate(quantiles):\n",
    "    t1 = lognorm.ppf(q,s1,0,m1)\n",
    "    t2 = lognorm.ppf(q,s2,0,m2)\n",
    "    t1s.append(t1)\n",
    "    t2s.append(t2)\n",
    "plt.plot(quantiles,t1s)\n",
    "plt.plot(quantiles,t2s)\n",
    "ax = plt.gca()\n",
    "ax.axhline(m1, color='gray', alpha=0.4)\n",
    "ax.axhline(m2, color='gray', alpha=0.1)\n",
    "ax.set_yscale(\"log\", nonposy='clip', basey=2)\n",
    "plt.show()"
   ]
  },
  {
   "cell_type": "code",
   "execution_count": 406,
   "metadata": {},
   "outputs": [
    {
     "data": {
      "image/png": "[encoded data removed]",
      "text/plain": [
       "<Figure size 432x288 with 1 Axes>"
      ]
     },
     "metadata": {
      "needs_background": "light"
     },
     "output_type": "display_data"
    }
   ],
   "source": [
    "assert m2 < m1\n",
    "times = np.linspace(m2, m1, num=10000)\n",
    "t1s = []\n",
    "t2s = []\n",
    "for i, t in enumerate(times):\n",
    "    t1 = lognorm.cdf(t,s1,0,m1)\n",
    "    t2 = lognorm.cdf(t,s2,0,m2)\n",
    "    t1 = t1 * w1\n",
    "    t2 = t2 * w2\n",
    "    t1s.append(t1)\n",
    "    t2s.append(t2)\n",
    "plt.plot(times,t1s)\n",
    "plt.plot(times,t2s)\n",
    "ax = plt.gca()\n",
    "#ax.axvline(m1)\n",
    "#ax.axvline(m2)\n",
    "ax.set_xscale(\"log\", nonposx='clip', basex=2)\n",
    "#ax.set_yscale(\"log\", nonposy='clip', basey=2)\n",
    "plt.show()"
   ]
  },
  {
   "cell_type": "markdown",
   "metadata": {},
   "source": [
    "### Num Journals"
   ]
  },
  {
   "cell_type": "code",
   "execution_count": 213,
   "metadata": {},
   "outputs": [
    {
     "data": {
      "image/png": "[encoded data removed]",
      "text/plain": [
       "<Figure size 432x288 with 1 Axes>"
      ]
     },
     "metadata": {
      "needs_background": "light"
     },
     "output_type": "display_data"
    }
   ],
   "source": [
    "x = auths.num_journals\n",
    "num_bins=50\n",
    "base = 2\n",
    "logbins = np.logspace(np.log2(min(x)), np.log2(np.quantile(x, 0.9999)), num=num_bins, base=base, endpoint=True)\n",
    "plt.hist(x, log=True, bins=logbins)\n",
    "plt.xscale('log', nonposx='clip', basex=base)\n",
    "plt.show()"
   ]
  },
  {
   "cell_type": "code",
   "execution_count": 281,
   "metadata": {},
   "outputs": [
    {
     "data": {
      "image/png": "[encoded data removed]",
      "text/plain": [
       "<Figure size 432x288 with 1 Axes>"
      ]
     },
     "metadata": {
      "needs_background": "light"
     },
     "output_type": "display_data"
    }
   ],
   "source": [
    "x = auths.num_journals\n",
    "num_bins=50\n",
    "base = 2\n",
    "logbins = np.logspace(np.log2(min(x)), np.log2(np.quantile(x, 0.9999)), num=num_bins, base=base, endpoint=True)\n",
    "plt.hist(x, log=False, bins=logbins)\n",
    "plt.xscale('log', nonposx='clip', basex=base)\n",
    "plt.show()"
   ]
  },
  {
   "cell_type": "code",
   "execution_count": 286,
   "metadata": {},
   "outputs": [
    {
     "data": {
      "image/png": "[encoded data removed]",
      "text/plain": [
       "<Figure size 432x288 with 1 Axes>"
      ]
     },
     "metadata": {
      "needs_background": "light"
     },
     "output_type": "display_data"
    }
   ],
   "source": [
    "# stairstep pattern above is illusory\n",
    "x = auths.num_journals\n",
    "plt.hist(x, log=False, bins=range(5, 50))\n",
    "plt.show()"
   ]
  },
  {
   "cell_type": "code",
   "execution_count": 280,
   "metadata": {},
   "outputs": [
    {
     "data": {
      "image/png": "[encoded data removed]",
      "text/plain": [
       "<Figure size 432x288 with 2 Axes>"
      ]
     },
     "metadata": {
      "needs_background": "light"
     },
     "output_type": "display_data"
    }
   ],
   "source": [
    "subset = auths[(auths.num_journals > 1)&(auths.tenure > 0)]\n",
    "x = subset.tenure.values.tolist()\n",
    "y = subset.num_journals.values.tolist()\n",
    "num_bins=50\n",
    "base = 2\n",
    "x_logbins = np.logspace(np.log2(min(x)), np.log2(np.quantile(x, 0.999)), num=num_bins, base=base, endpoint=True)\n",
    "y_logbins = np.logspace(np.log2(min(y)), np.log2(np.quantile(y, 0.999)), num=num_bins, base=base, endpoint=True)\n",
    "logbins = [x_logbins, y_logbins]\n",
    "\n",
    "bin_values, _, __ = np.histogram2d(x, y, bins=logbins)\n",
    "\n",
    "X, Y = np.meshgrid(x_logbins,y_logbins)\n",
    "fig, ax = plt.subplots(ncols=1)\n",
    "mesh = ax.pcolormesh(X, Y, np.log(bin_values.T + 1))\n",
    "\n",
    "highest_count_log = np.log(np.max(bin_values + 1))\n",
    "cbar = plt.colorbar(mesh, ticks=[val for val in range(0, int(highest_count_log) + 1)])\n",
    "cbar.ax.set_yticklabels([f\"{int(np.exp(val))}\" for val in range(0, int(highest_count_log) + 1)])\n",
    "cbar.ax.set_ylabel(\"Number of authors (log scale)\")\n",
    "\n",
    "plt.xscale('log', nonposx='clip', basex=base)\n",
    "plt.yscale('log', nonposy='clip', basey=base)\n",
    "plt.xlabel(\"Author Tenure\")\n",
    "plt.ylabel(\"Number of journals authored\")\n",
    "plt.title(\"Relationship of author tenure to number of journals authored\")\n",
    "plt.show()"
   ]
  },
  {
   "cell_type": "code",
   "execution_count": 278,
   "metadata": {},
   "outputs": [
    {
     "data": {
      "image/png": "[encoded data removed]",
      "text/plain": [
       "<Figure size 432x288 with 1 Axes>"
      ]
     },
     "metadata": {
      "needs_background": "light"
     },
     "output_type": "display_data"
    }
   ],
   "source": [
    "plt.scatter(x, y, alpha=0.01)\n",
    "plt.xscale('log', nonposx='clip', basex=base)\n",
    "plt.yscale('log', nonposy='clip', basey=base)\n",
    "plt.xlabel(\"Author Tenure\")\n",
    "plt.ylabel(\"Number of journals authored\")\n",
    "plt.show()"
   ]
  },
  {
   "cell_type": "code",
   "execution_count": null,
   "metadata": {
    "collapsed": true
   },
   "outputs": [],
   "source": []
  },
  {
   "cell_type": "code",
   "execution_count": null,
   "metadata": {
    "collapsed": true
   },
   "outputs": [],
   "source": []
  }
 ],
 "metadata": {
  "kernelspec": {
   "display_name": "Python (shared-conda)",
   "language": "python",
   "name": "shared-conda"
  },
  "language_info": {
   "codemirror_mode": {
    "name": "ipython",
    "version": 3
   },
   "file_extension": ".py",
   "mimetype": "text/x-python",
   "name": "python",
   "nbconvert_exporter": "python",
   "pygments_lexer": "ipython3",
   "version": "3.7.3"
  }
 },
 "nbformat": 4,
 "nbformat_minor": 2
}
