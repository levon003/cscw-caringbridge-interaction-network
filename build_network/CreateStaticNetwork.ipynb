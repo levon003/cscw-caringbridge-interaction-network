{
 "cells": [
  {
   "cell_type": "markdown",
   "metadata": {},
   "source": [
    "Create Network\n",
    "==="
   ]
  },
  {
   "cell_type": "code",
   "execution_count": 52,
   "metadata": {},
   "outputs": [],
   "source": [
    "%matplotlib inline\n",
    "\n",
    "import os\n",
    "import re\n",
    "import pandas as pd\n",
    "import numpy as np\n",
    "\n",
    "import sklearn\n",
    "from sklearn.model_selection import train_test_split\n",
    "\n",
    "from collections import Counter\n",
    "import sqlite3\n",
    "from nltk import word_tokenize\n",
    "from html.parser import HTMLParser\n",
    "from tqdm import tqdm\n",
    "import random\n",
    "import pickle\n",
    "import itertools\n",
    "\n",
    "import matplotlib.pyplot as plt\n",
    "import matplotlib.dates as md\n",
    "import matplotlib\n",
    "import pylab as pl\n",
    "from IPython.core.display import display, HTML"
   ]
  },
  {
   "cell_type": "code",
   "execution_count": 2,
   "metadata": {},
   "outputs": [],
   "source": [
    "data_dir = \"/home/levon003/repos/sna-social-support/network_data\"\n",
    "assert os.path.exists(data_dir)"
   ]
  },
  {
   "cell_type": "code",
   "execution_count": 3,
   "metadata": {},
   "outputs": [
    {
     "name": "stdout",
     "output_type": "stream",
     "text": [
      "amps.csv  gb.csv  jr.csv  pcts.csv\r\n"
     ]
    }
   ],
   "source": [
    "!ls {data_dir}"
   ]
  },
  {
   "cell_type": "code",
   "execution_count": 7,
   "metadata": {},
   "outputs": [],
   "source": [
    "import redis"
   ]
  },
  {
   "cell_type": "code",
   "execution_count": 8,
   "metadata": {},
   "outputs": [
    {
     "data": {
      "text/plain": [
       "Redis<ConnectionPool<Connection<host=localhost,port=6379,db=0>>>"
      ]
     },
     "execution_count": 8,
     "metadata": {},
     "output_type": "execute_result"
    }
   ],
   "source": [
    "# can store key-value pairs in a running Redis server\n",
    "r = redis.Redis(host='localhost', port=6379, db=0)\n",
    "r"
   ]
  },
  {
   "cell_type": "markdown",
   "metadata": {},
   "source": [
    "## User analysis"
   ]
  },
  {
   "cell_type": "code",
   "execution_count": 3,
   "metadata": {},
   "outputs": [
    {
     "data": {
      "text/plain": [
       "601189"
      ]
     },
     "execution_count": 3,
     "metadata": {},
     "output_type": "execute_result"
    }
   ],
   "source": [
    "users = pd.read_csv(os.path.join(data_dir, \"pcts.csv\"))\n",
    "len(users)"
   ]
  },
  {
   "cell_type": "code",
   "execution_count": 4,
   "metadata": {},
   "outputs": [
    {
     "data": {
      "text/html": [
       "<div>\n",
       "<style scoped>\n",
       "    .dataframe tbody tr th:only-of-type {\n",
       "        vertical-align: middle;\n",
       "    }\n",
       "\n",
       "    .dataframe tbody tr th {\n",
       "        vertical-align: top;\n",
       "    }\n",
       "\n",
       "    .dataframe thead th {\n",
       "        text-align: right;\n",
       "    }\n",
       "</style>\n",
       "<table border=\"1\" class=\"dataframe\">\n",
       "  <thead>\n",
       "    <tr style=\"text-align: right;\">\n",
       "      <th></th>\n",
       "      <th>userId</th>\n",
       "      <th>siteId</th>\n",
       "      <th>numJournals</th>\n",
       "      <th>pctJournals</th>\n",
       "    </tr>\n",
       "  </thead>\n",
       "  <tbody>\n",
       "    <tr>\n",
       "      <th>0</th>\n",
       "      <td>0</td>\n",
       "      <td>0</td>\n",
       "      <td>0</td>\n",
       "      <td>0.000000</td>\n",
       "    </tr>\n",
       "    <tr>\n",
       "      <th>1</th>\n",
       "      <td>0</td>\n",
       "      <td>100020</td>\n",
       "      <td>47</td>\n",
       "      <td>0.000043</td>\n",
       "    </tr>\n",
       "    <tr>\n",
       "      <th>2</th>\n",
       "      <td>0</td>\n",
       "      <td>100459</td>\n",
       "      <td>54</td>\n",
       "      <td>0.000050</td>\n",
       "    </tr>\n",
       "    <tr>\n",
       "      <th>3</th>\n",
       "      <td>0</td>\n",
       "      <td>100508</td>\n",
       "      <td>130</td>\n",
       "      <td>0.000120</td>\n",
       "    </tr>\n",
       "    <tr>\n",
       "      <th>4</th>\n",
       "      <td>0</td>\n",
       "      <td>100854</td>\n",
       "      <td>2</td>\n",
       "      <td>0.000002</td>\n",
       "    </tr>\n",
       "  </tbody>\n",
       "</table>\n",
       "</div>"
      ],
      "text/plain": [
       "   userId  siteId  numJournals  pctJournals\n",
       "0       0       0            0     0.000000\n",
       "1       0  100020           47     0.000043\n",
       "2       0  100459           54     0.000050\n",
       "3       0  100508          130     0.000120\n",
       "4       0  100854            2     0.000002"
      ]
     },
     "execution_count": 4,
     "metadata": {},
     "output_type": "execute_result"
    }
   ],
   "source": [
    "users.head()"
   ]
  },
  {
   "cell_type": "code",
   "execution_count": 5,
   "metadata": {},
   "outputs": [
    {
     "data": {
      "text/plain": [
       "591394"
      ]
     },
     "execution_count": 5,
     "metadata": {},
     "output_type": "execute_result"
    }
   ],
   "source": [
    "users.drop(users[users.userId == 0].index, inplace=True)\n",
    "len(users)"
   ]
  },
  {
   "cell_type": "code",
   "execution_count": 6,
   "metadata": {},
   "outputs": [
    {
     "name": "stdout",
     "output_type": "stream",
     "text": [
      "Num users: 566078\n",
      "Num sites: 530841\n"
     ]
    }
   ],
   "source": [
    "print(f\"Num users: {len(set(users.userId))}\")\n",
    "print(f\"Num sites: {len(set(users.siteId))}\")"
   ]
  },
  {
   "cell_type": "code",
   "execution_count": 9,
   "metadata": {},
   "outputs": [
    {
     "name": "stderr",
     "output_type": "stream",
     "text": [
      "100%|██████████| 530841/530841 [02:53<00:00, 3056.46it/s]\n"
     ]
    },
    {
     "name": "stdout",
     "output_type": "stream",
     "text": [
      "82423 sites have some journals with unknown author (15.52687151143186%).\n",
      "45374 sites have multiple contributing authors (8.547568857718224%).\n"
     ]
    }
   ],
   "source": [
    "missing_author_info_count = 0\n",
    "multiple_users_count = 0\n",
    "for siteId, group in tqdm(users.groupby(by='siteId', sort=False)):\n",
    "    site_pct_total = np.sum(group.pctJournals)\n",
    "    if not np.isclose(site_pct_total, 1):\n",
    "        missing_author_info_count += 1\n",
    "    if len(group) > 1:\n",
    "        multiple_users_count += 1\n",
    "print(f\"{missing_author_info_count} sites have some journals with unknown author ({missing_author_info_count / len(set(users.siteId)) * 100}%).\")\n",
    "print(f\"{multiple_users_count} sites have multiple contributing authors ({multiple_users_count / len(set(users.siteId)) * 100}%).\")"
   ]
  },
  {
   "cell_type": "code",
   "execution_count": 10,
   "metadata": {},
   "outputs": [
    {
     "name": "stderr",
     "output_type": "stream",
     "text": [
      "100%|██████████| 566078/566078 [01:05<00:00, 8630.53it/s]"
     ]
    },
    {
     "name": "stdout",
     "output_type": "stream",
     "text": [
      "18616 users contributed to multiple sites (3.2885927381032296%).\n"
     ]
    },
    {
     "name": "stderr",
     "output_type": "stream",
     "text": [
      "\n"
     ]
    }
   ],
   "source": [
    "multiple_sites_count = 0\n",
    "for userId, group in tqdm(users.groupby(by='userId', sort=False)):\n",
    "    if len(group) > 1:\n",
    "        multiple_sites_count += 1\n",
    "print(f\"{multiple_sites_count} users contributed to multiple sites ({multiple_sites_count / len(set(users.userId)) * 100}%).\")"
   ]
  },
  {
   "cell_type": "markdown",
   "metadata": {},
   "source": [
    "### Site to user dictionary"
   ]
  },
  {
   "cell_type": "code",
   "execution_count": 14,
   "metadata": {},
   "outputs": [
    {
     "name": "stderr",
     "output_type": "stream",
     "text": [
      "100%|██████████| 530841/530841 [02:17<00:00, 3858.66it/s]\n"
     ]
    }
   ],
   "source": [
    "for siteId, group in tqdm(users.groupby(by='siteId', sort=False)):\n",
    "    #userIds = tuple(group.userId.tolist())\n",
    "    # insert to redis\n",
    "    r.set(str(siteId), \",\".join([str(userId) for userId in group.userId.values]))\n",
    "r.save()"
   ]
  },
  {
   "cell_type": "code",
   "execution_count": null,
   "metadata": {
    "scrolled": true
   },
   "outputs": [],
   "source": [
    "site_user_map = {}\n",
    "for siteId, group in tqdm(users.groupby(by='siteId', sort=False)):\n",
    "    userIds = tuple(group.userId.tolist())\n",
    "    site_user_map[siteId] = userIds"
   ]
  },
  {
   "cell_type": "code",
   "execution_count": null,
   "metadata": {},
   "outputs": [],
   "source": []
  },
  {
   "cell_type": "markdown",
   "metadata": {},
   "source": [
    "## Journal Replies Model"
   ]
  },
  {
   "cell_type": "code",
   "execution_count": 41,
   "metadata": {},
   "outputs": [
    {
     "data": {
      "text/plain": [
       "16032646"
      ]
     },
     "execution_count": 41,
     "metadata": {},
     "output_type": "execute_result"
    }
   ],
   "source": [
    "jr = pd.read_csv(os.path.join(data_dir, \"jr.csv\"))\n",
    "len(jr)"
   ]
  },
  {
   "cell_type": "code",
   "execution_count": 42,
   "metadata": {},
   "outputs": [
    {
     "data": {
      "text/html": [
       "<div>\n",
       "<style scoped>\n",
       "    .dataframe tbody tr th:only-of-type {\n",
       "        vertical-align: middle;\n",
       "    }\n",
       "\n",
       "    .dataframe tbody tr th {\n",
       "        vertical-align: top;\n",
       "    }\n",
       "\n",
       "    .dataframe thead th {\n",
       "        text-align: right;\n",
       "    }\n",
       "</style>\n",
       "<table border=\"1\" class=\"dataframe\">\n",
       "  <thead>\n",
       "    <tr style=\"text-align: right;\">\n",
       "      <th></th>\n",
       "      <th>from_userId</th>\n",
       "      <th>siteId</th>\n",
       "      <th>to_userID</th>\n",
       "      <th>connectionType</th>\n",
       "      <th>createdAt</th>\n",
       "    </tr>\n",
       "  </thead>\n",
       "  <tbody>\n",
       "    <tr>\n",
       "      <th>0</th>\n",
       "      <td>27249122</td>\n",
       "      <td>10560</td>\n",
       "      <td>387430</td>\n",
       "      <td>reply</td>\n",
       "      <td>1.432177e+12</td>\n",
       "    </tr>\n",
       "    <tr>\n",
       "      <th>1</th>\n",
       "      <td>30066560</td>\n",
       "      <td>23</td>\n",
       "      <td>25</td>\n",
       "      <td>reply</td>\n",
       "      <td>1.422675e+12</td>\n",
       "    </tr>\n",
       "    <tr>\n",
       "      <th>2</th>\n",
       "      <td>32513369</td>\n",
       "      <td>38</td>\n",
       "      <td>40</td>\n",
       "      <td>reply</td>\n",
       "      <td>1.457715e+12</td>\n",
       "    </tr>\n",
       "    <tr>\n",
       "      <th>3</th>\n",
       "      <td>4403066</td>\n",
       "      <td>50</td>\n",
       "      <td>54</td>\n",
       "      <td>reply</td>\n",
       "      <td>1.423975e+12</td>\n",
       "    </tr>\n",
       "    <tr>\n",
       "      <th>4</th>\n",
       "      <td>60403</td>\n",
       "      <td>93</td>\n",
       "      <td>685473</td>\n",
       "      <td>reply</td>\n",
       "      <td>1.422856e+12</td>\n",
       "    </tr>\n",
       "  </tbody>\n",
       "</table>\n",
       "</div>"
      ],
      "text/plain": [
       "   from_userId  siteId  to_userID connectionType     createdAt\n",
       "0     27249122   10560     387430          reply  1.432177e+12\n",
       "1     30066560      23         25          reply  1.422675e+12\n",
       "2     32513369      38         40          reply  1.457715e+12\n",
       "3      4403066      50         54          reply  1.423975e+12\n",
       "4        60403      93     685473          reply  1.422856e+12"
      ]
     },
     "execution_count": 42,
     "metadata": {},
     "output_type": "execute_result"
    }
   ],
   "source": [
    "jr.head()"
   ]
  },
  {
   "cell_type": "code",
   "execution_count": 43,
   "metadata": {},
   "outputs": [
    {
     "data": {
      "text/plain": [
       "727196"
      ]
     },
     "execution_count": 43,
     "metadata": {},
     "output_type": "execute_result"
    }
   ],
   "source": [
    "# Trim to only authors\n",
    "jr.drop(jr[~jr.from_userId.isin(set(users.userId))].index, inplace=True)\n",
    "len(jr)"
   ]
  },
  {
   "cell_type": "code",
   "execution_count": 44,
   "metadata": {},
   "outputs": [
    {
     "data": {
      "text/plain": [
       "0.1935139680397401"
      ]
     },
     "execution_count": 44,
     "metadata": {},
     "output_type": "execute_result"
    }
   ],
   "source": [
    "len(set(jr.from_userId)) / len(set(users.userId))"
   ]
  },
  {
   "cell_type": "code",
   "execution_count": 45,
   "metadata": {},
   "outputs": [],
   "source": [
    "import networkx as nx"
   ]
  },
  {
   "cell_type": "code",
   "execution_count": 59,
   "metadata": {},
   "outputs": [
    {
     "data": {
      "text/plain": [
       "109544"
      ]
     },
     "execution_count": 59,
     "metadata": {},
     "output_type": "execute_result"
    }
   ],
   "source": [
    "G = nx.DiGraph()\n",
    "nodes = list(set(jr.from_userId))\n",
    "G.add_nodes_from(nodes)\n",
    "len(G)"
   ]
  },
  {
   "cell_type": "code",
   "execution_count": 55,
   "metadata": {
    "scrolled": true
   },
   "outputs": [
    {
     "name": "stderr",
     "output_type": "stream",
     "text": [
      "\n",
      "  0%|          | 0/727196 [00:00<?, ?it/s]\u001b[A\n",
      "  7%|▋         | 49731/727196 [00:00<00:01, 497302.17it/s]\u001b[A\n",
      " 13%|█▎        | 94541/727196 [00:00<00:01, 481441.11it/s]\u001b[A\n",
      " 20%|█▉        | 142053/727196 [00:00<00:01, 479524.90it/s]\u001b[A\n",
      " 26%|██▌       | 189735/727196 [00:00<00:01, 478710.01it/s]\u001b[A\n",
      " 33%|███▎      | 237496/727196 [00:00<00:01, 478378.58it/s]\u001b[A\n",
      " 39%|███▉      | 285817/727196 [00:00<00:00, 479815.92it/s]\u001b[A\n",
      " 46%|████▌     | 332905/727196 [00:00<00:00, 477091.58it/s]\u001b[A\n",
      " 53%|█████▎    | 382464/727196 [00:00<00:00, 482493.93it/s]\u001b[A\n",
      " 59%|█████▉    | 428100/727196 [00:00<00:00, 474342.45it/s]\u001b[A\n",
      " 66%|██████▌   | 481236/727196 [00:01<00:00, 490118.65it/s]\u001b[A\n",
      " 73%|███████▎  | 533280/727196 [00:01<00:00, 498836.59it/s]\u001b[A\n",
      " 80%|████████  | 582337/727196 [00:01<00:00, 468848.17it/s]\u001b[A\n",
      " 86%|████████▋ | 629012/727196 [00:01<00:00, 460761.88it/s]\u001b[A\n",
      " 93%|█████████▎| 674973/727196 [00:01<00:00, 450752.31it/s]\u001b[A\n",
      " 99%|█████████▉| 720016/727196 [00:01<00:00, 441877.60it/s]\u001b[A\n",
      "100%|██████████| 727196/727196 [00:01<00:00, 466644.32it/s]\u001b[A"
     ]
    },
    {
     "data": {
      "text/plain": [
       "280019"
      ]
     },
     "execution_count": 55,
     "metadata": {},
     "output_type": "execute_result"
    }
   ],
   "source": [
    "edges = []\n",
    "for fromUser, siteId in tqdm(jr[['from_userId', 'siteId']].values):\n",
    "    toUsers = site_user_map[siteId]\n",
    "    for toUser in toUsers:\n",
    "        edges.append((fromUser, toUser))\n",
    "\n",
    "edges.sort()\n",
    "unique_edges = []\n",
    "for key, group in itertools.groupby(edges):\n",
    "    edge_weight = sum(1 for item in group)\n",
    "    weighted_edge = (key[0], key[1], {'weight': edge_weight})\n",
    "    unique_edges.append(weighted_edge)\n",
    "\n",
    "assert len(unique_edges) < len(edges)\n",
    "len(unique_edges)"
   ]
  },
  {
   "cell_type": "code",
   "execution_count": 60,
   "metadata": {},
   "outputs": [
    {
     "data": {
      "text/plain": [
       "142039"
      ]
     },
     "execution_count": 60,
     "metadata": {},
     "output_type": "execute_result"
    }
   ],
   "source": [
    "G.add_edges_from(unique_edges)\n",
    "len(G)"
   ]
  },
  {
   "cell_type": "code",
   "execution_count": 78,
   "metadata": {},
   "outputs": [],
   "source": [
    "scc_sizes = []\n",
    "for i, connected_nodes in enumerate(sorted(nx.strongly_connected_components(G), key=len, reverse=True)):\n",
    "    scc_size = len(connected_nodes)\n",
    "    scc_sizes.append(scc_size)\n",
    "    update_dict = {}\n",
    "    for node in connected_nodes:\n",
    "        update_dict[node] = {\"scc\": i, \"scc_size\": scc_size}\n",
    "    nx.set_node_attributes(G, update_dict)"
   ]
  },
  {
   "cell_type": "code",
   "execution_count": 86,
   "metadata": {},
   "outputs": [
    {
     "data": {
      "image/png": "[encoded data removed]",
      "text/plain": [
       "<Figure size 432x288 with 1 Axes>"
      ]
     },
     "metadata": {
      "needs_background": "light"
     },
     "output_type": "display_data"
    }
   ],
   "source": [
    "plt.hist(scc_sizes, log=True, bins=20, range=(0,20))\n",
    "plt.xlabel(\"Strongly connected component size\")\n",
    "plt.ylabel(\"Count\")\n",
    "plt.show()"
   ]
  },
  {
   "cell_type": "code",
   "execution_count": 79,
   "metadata": {},
   "outputs": [
    {
     "data": {
      "text/plain": [
       "({'scc': 16483, 'scc_size': 1}, {'weight': 25})"
      ]
     },
     "execution_count": 79,
     "metadata": {},
     "output_type": "execute_result"
    }
   ],
   "source": [
    "G.nodes[3145728], G.edges[(28098972, 28022476)]"
   ]
  },
  {
   "cell_type": "code",
   "execution_count": 80,
   "metadata": {},
   "outputs": [],
   "source": [
    "static_gexf_filename = \"static_journal_replies.gexf\"\n",
    "nx.write_gexf(G, os.path.join(data_dir, static_gexf_filename))"
   ]
  },
  {
   "cell_type": "code",
   "execution_count": 92,
   "metadata": {},
   "outputs": [],
   "source": [
    "largestScc_G = G.subgraph(sorted(nx.strongly_connected_components(G), key=len, reverse=True)[0])\n",
    "len(largestScc_G), len(G)\n",
    "static_gexf_filename = \"static_journal_replies_largestscc.gexf\"\n",
    "nx.write_gexf(largestScc_G, os.path.join(data_dir, static_gexf_filename))"
   ]
  },
  {
   "cell_type": "code",
   "execution_count": 74,
   "metadata": {},
   "outputs": [
    {
     "name": "stdout",
     "output_type": "stream",
     "text": [
      "<gexf version=\"1.2\" xmlns=\"http://www.gexf.net/1.2draft\" xmlns:xsi=\"http://www.w3.org/2001/XMLSchema-instance\" xsi:schemaLocation=\"http://www.w3.org/2001/XMLSchema-instance\">\n",
      "  <graph defaultedgetype=\"directed\" mode=\"static\" name=\"\">\n",
      "    <attributes class=\"node\" mode=\"static\">\n",
      "      <attribute id=\"0\" title=\"scc\" type=\"long\" />\n",
      "      <attribute id=\"1\" title=\"scc_size\" type=\"long\" />\n",
      "    </attributes>\n",
      "    <meta>\n",
      "      <creator>NetworkX 2.2</creator>\n",
      "      <lastmodified>15/02/2019</lastmodified>\n",
      "    </meta>\n",
      "    <nodes>\n",
      "      <node id=\"3145728\" label=\"3145728\">\n",
      "        <attvalues>\n",
      "          <attvalue for=\"0\" value=\"8861\" />\n",
      "          <attvalue for=\"1\" value=\"1\" />\n",
      "        </attvalues>\n",
      "      </node>\n",
      "      <node id=\"1048579\" label=\"1048579\">\n",
      "        <attvalues>\n",
      "          <attvalue for=\"0\" value=\"8864\" />\n",
      "          <attvalue for=\"1\" value=\"1\" />\n"
     ]
    }
   ],
   "source": [
    "# preview the gexf...\n",
    "for i, line in enumerate(nx.generate_gexf(G)):\n",
    "    if i > 20:\n",
    "        break\n",
    "    print(line)"
   ]
  },
  {
   "cell_type": "code",
   "execution_count": 94,
   "metadata": {},
   "outputs": [],
   "source": [
    "indegrees = [in_degree for node, in_degree in largestScc_G.in_degree()]\n",
    "outdegrees = [out_degree for node, out_degree in largestScc_G.out_degree()]\n",
    "assert len(indegrees) == len(outdegrees)"
   ]
  },
  {
   "cell_type": "code",
   "execution_count": 98,
   "metadata": {},
   "outputs": [
    {
     "data": {
      "image/png": "[encoded data removed]",
      "text/plain": [
       "<Figure size 432x288 with 1 Axes>"
      ]
     },
     "metadata": {
      "needs_background": "light"
     },
     "output_type": "display_data"
    }
   ],
   "source": [
    "plt.hist([indegrees, outdegrees], log=True, label=[\"In-degree\", \"Out-degree\"], bins=20, range=(1,40))\n",
    "plt.ylabel(\"Node Count\")\n",
    "plt.xlabel(\"Node Degree\")\n",
    "plt.legend()\n",
    "plt.show()"
   ]
  },
  {
   "cell_type": "code",
   "execution_count": 144,
   "metadata": {},
   "outputs": [
    {
     "data": {
      "image/png": "[encoded data removed]",
      "text/plain": [
       "<Figure size 432x288 with 1 Axes>"
      ]
     },
     "metadata": {
      "needs_background": "light"
     },
     "output_type": "display_data"
    }
   ],
   "source": [
    "def rand_jitter(arr):\n",
    "    stdev = 0.1\n",
    "    return arr + np.random.randn(len(arr)) * stdev\n",
    "\n",
    "plt.scatter(rand_jitter(outdegrees), rand_jitter(indegrees), alpha=0.1)\n",
    "plt.plot((0,100), (0, 100), \"--\", color='black', alpha=0.5)\n",
    "plt.xlabel(\"Out-degree\")\n",
    "plt.ylabel(\"In-degree\")\n",
    "ax = plt.gca()\n",
    "ax.set_yscale('log')\n",
    "ax.set_xscale('log')\n",
    "#plt.xlim(0, 40)\n",
    "#plt.ylim(0, 40)\n",
    "plt.show()"
   ]
  },
  {
   "cell_type": "code",
   "execution_count": 131,
   "metadata": {},
   "outputs": [
    {
     "data": {
      "text/plain": [
       "8.94793610670867"
      ]
     },
     "execution_count": 131,
     "metadata": {},
     "output_type": "execute_result"
    }
   ],
   "source": [
    "# log of the size of the network approximately predicts the average path length\n",
    "# true average path length is longer, about 10\n",
    "np.log(len(largestScc_G))"
   ]
  },
  {
   "cell_type": "code",
   "execution_count": null,
   "metadata": {},
   "outputs": [],
   "source": []
  }
 ],
 "metadata": {
  "kernelspec": {
   "display_name": "Python 3",
   "language": "python",
   "name": "python3"
  },
  "language_info": {
   "codemirror_mode": {
    "name": "ipython",
    "version": 3
   },
   "file_extension": ".py",
   "mimetype": "text/x-python",
   "name": "python",
   "nbconvert_exporter": "python",
   "pygments_lexer": "ipython3",
   "version": "3.7.3"
  }
 },
 "nbformat": 4,
 "nbformat_minor": 2
}
