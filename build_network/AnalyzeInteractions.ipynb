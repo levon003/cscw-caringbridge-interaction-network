{
 "cells": [
  {
   "cell_type": "markdown",
   "metadata": {},
   "source": [
    "# Analyze Interactions\n",
    "\n",
    "Quick analysis of dynamic interactions and author counts"
   ]
  },
  {
   "cell_type": "code",
   "execution_count": 1,
   "metadata": {},
   "outputs": [],
   "source": [
    "%matplotlib inline\n",
    "\n",
    "import os\n",
    "import re\n",
    "import pandas as pd\n",
    "import numpy as np\n",
    "\n",
    "import sklearn\n",
    "from sklearn.model_selection import train_test_split\n",
    "\n",
    "from collections import Counter\n",
    "import sqlite3\n",
    "from nltk import word_tokenize\n",
    "from html.parser import HTMLParser\n",
    "from tqdm import tqdm\n",
    "import random\n",
    "import pickle\n",
    "import itertools\n",
    "\n",
    "import matplotlib.pyplot as plt\n",
    "import matplotlib.dates as md\n",
    "import matplotlib\n",
    "import pylab as pl\n",
    "from IPython.core.display import display, HTML"
   ]
  },
  {
   "cell_type": "code",
   "execution_count": 2,
   "metadata": {},
   "outputs": [],
   "source": [
    "data_dir = \"/home/levon003/repos/sna-social-support/network_data\"\n",
    "assert os.path.exists(data_dir)"
   ]
  },
  {
   "cell_type": "code",
   "execution_count": 37,
   "metadata": {},
   "outputs": [
    {
     "data": {
      "text/plain": [
       "566079"
      ]
     },
     "execution_count": 37,
     "metadata": {},
     "output_type": "execute_result"
    }
   ],
   "source": [
    "dynamic_auth = pd.read_csv(os.path.join(data_dir, \"dynamic_auth.csv\"), \n",
    "                           header=None, names=['userId', 'authCount', 'firstAuth', 'lastAuth'])\n",
    "len(dynamic_auth)"
   ]
  },
  {
   "cell_type": "code",
   "execution_count": 38,
   "metadata": {},
   "outputs": [
    {
     "data": {
      "text/plain": [
       "566079"
      ]
     },
     "execution_count": 38,
     "metadata": {},
     "output_type": "execute_result"
    }
   ],
   "source": [
    "author_set = set(dynamic_auth.userId)\n",
    "len(author_set)"
   ]
  },
  {
   "cell_type": "code",
   "execution_count": 5,
   "metadata": {},
   "outputs": [
    {
     "data": {
      "text/plain": [
       "11039858"
      ]
     },
     "execution_count": 5,
     "metadata": {},
     "output_type": "execute_result"
    }
   ],
   "source": [
    "dynamic_ints = pd.read_csv(os.path.join(data_dir, \"dynamic_ints.csv\"), \n",
    "                           header=None, names=['userId', 'intCount', 'firstInt', 'lastInt'])\n",
    "len(dynamic_ints)"
   ]
  },
  {
   "cell_type": "code",
   "execution_count": 6,
   "metadata": {},
   "outputs": [
    {
     "data": {
      "text/plain": [
       "Index(['userId', 'intCount', 'firstInt', 'lastInt'], dtype='object')"
      ]
     },
     "execution_count": 6,
     "metadata": {},
     "output_type": "execute_result"
    }
   ],
   "source": [
    "dynamic_ints.columns"
   ]
  },
  {
   "cell_type": "code",
   "execution_count": 43,
   "metadata": {},
   "outputs": [
    {
     "data": {
      "text/plain": [
       "11039858"
      ]
     },
     "execution_count": 43,
     "metadata": {},
     "output_type": "execute_result"
    }
   ],
   "source": [
    "interacting_set = set(dynamic_ints.userId)\n",
    "len(interacting_set)"
   ]
  },
  {
   "cell_type": "code",
   "execution_count": 44,
   "metadata": {},
   "outputs": [
    {
     "data": {
      "text/plain": [
       "228582"
      ]
     },
     "execution_count": 44,
     "metadata": {},
     "output_type": "execute_result"
    }
   ],
   "source": [
    "# How many users are both authors and interacters?\n",
    "len(interacting_set & author_set)"
   ]
  },
  {
   "cell_type": "code",
   "execution_count": 46,
   "metadata": {},
   "outputs": [
    {
     "data": {
      "text/plain": [
       "40.37987630701722"
      ]
     },
     "execution_count": 46,
     "metadata": {},
     "output_type": "execute_result"
    }
   ],
   "source": [
    "# What percent of authors do any kind of interaction?\n",
    "len(interacting_set & author_set) / len(author_set) * 100"
   ]
  },
  {
   "cell_type": "code",
   "execution_count": 47,
   "metadata": {},
   "outputs": [
    {
     "data": {
      "text/plain": [
       "97.92948423793132"
      ]
     },
     "execution_count": 47,
     "metadata": {},
     "output_type": "execute_result"
    }
   ],
   "source": [
    "# What percent of users that interact with others are visitors?\n",
    "len(interacting_set - author_set) / len(interacting_set) * 100"
   ]
  },
  {
   "cell_type": "code",
   "execution_count": 79,
   "metadata": {},
   "outputs": [
    {
     "data": {
      "text/plain": [
       "91.38856241104295"
      ]
     },
     "execution_count": 79,
     "metadata": {},
     "output_type": "execute_result"
    }
   ],
   "source": [
    "# What percent of interactions are from visitors?\n",
    "np.sum(dynamic_ints[dynamic_ints.userId.isin(interacting_set - author_set)].intCount) / np.sum(dynamic_ints.intCount) * 100"
   ]
  },
  {
   "cell_type": "code",
   "execution_count": 80,
   "metadata": {},
   "outputs": [
    {
     "data": {
      "text/plain": [
       "8.611437588957035"
      ]
     },
     "execution_count": 80,
     "metadata": {},
     "output_type": "execute_result"
    }
   ],
   "source": [
    "# What percent of interactions are from authors?\n",
    "np.sum(dynamic_ints[dynamic_ints.userId.isin(author_set)].intCount) / np.sum(dynamic_ints.intCount) * 100"
   ]
  },
  {
   "cell_type": "code",
   "execution_count": 41,
   "metadata": {
    "scrolled": true
   },
   "outputs": [
    {
     "data": {
      "image/png": "[encoded data removed]",
      "text/plain": [
       "<Figure size 432x288 with 1 Axes>"
      ]
     },
     "metadata": {
      "needs_background": "light"
     },
     "output_type": "display_data"
    }
   ],
   "source": [
    "min_ints = 1\n",
    "max_ints = 100000\n",
    "n_bins = 50\n",
    "plt.hist(dynamic_ints.intCount, \n",
    "         log=True, bins=np.logspace(np.log10(min_ints),np.log10(max_ints), n_bins),\n",
    "         label=\"All Users\")\n",
    "plt.hist(dynamic_ints[dynamic_ints.userId.isin(author_set)].intCount, alpha=0.8,\n",
    "         log=True, bins=np.logspace(np.log10(min_ints),np.log10(max_ints), n_bins),\n",
    "         label=\"Authors\")\n",
    "plt.gca().set_xscale(\"log\")\n",
    "plt.xlabel(\"Total user interactions\")\n",
    "plt.ylabel(\"User count\")\n",
    "plt.legend()\n",
    "plt.show()"
   ]
  },
  {
   "cell_type": "code",
   "execution_count": 15,
   "metadata": {},
   "outputs": [],
   "source": [
    "dynamic_ints['int_survival_time'] = dynamic_ints.lastInt - dynamic_ints.firstInt"
   ]
  },
  {
   "cell_type": "code",
   "execution_count": 58,
   "metadata": {},
   "outputs": [],
   "source": [
    "dynamic_ints['int_survival_time_days'] = dynamic_ints.int_survival_time / 1000 / 60 / 60 / 24"
   ]
  },
  {
   "cell_type": "code",
   "execution_count": 81,
   "metadata": {},
   "outputs": [],
   "source": [
    "dynamic_auth['auth_survival_time'] = dynamic_auth.lastAuth - dynamic_auth.firstAuth\n",
    "dynamic_auth['auth_survival_time_days'] = dynamic_auth.auth_survival_time / 1000 / 60 / 60 / 24"
   ]
  },
  {
   "cell_type": "code",
   "execution_count": 104,
   "metadata": {},
   "outputs": [
    {
     "data": {
      "image/png": "[encoded data removed]",
      "text/plain": [
       "<Figure size 432x288 with 1 Axes>"
      ]
     },
     "metadata": {
      "needs_background": "light"
     },
     "output_type": "display_data"
    }
   ],
   "source": [
    "# validating that author survival times are strictly positive\n",
    "plt.hist(dynamic_auth.auth_survival_time, bins=np.linspace(-10000, 10000), log=True)\n",
    "plt.show()"
   ]
  },
  {
   "cell_type": "code",
   "execution_count": 76,
   "metadata": {},
   "outputs": [
    {
     "data": {
      "image/png": "[encoded data removed]",
      "text/plain": [
       "<Figure size 432x288 with 1 Axes>"
      ]
     },
     "metadata": {
      "needs_background": "light"
     },
     "output_type": "display_data"
    }
   ],
   "source": [
    "min_ints = 1 / 24 / 60 / 60\n",
    "max_ints = 1e4\n",
    "n_bins = 100\n",
    "plt.hist(dynamic_ints[dynamic_ints.intCount > 2].int_survival_time_days,\n",
    "         log=True, bins=np.logspace(np.log10(min_ints),np.log10(max_ints), n_bins),\n",
    "        label=\">2 total interactions\")\n",
    "plt.hist(dynamic_ints[dynamic_ints.intCount > 100].int_survival_time_days, alpha=0.8,\n",
    "         log=True, bins=np.logspace(np.log10(min_ints),np.log10(max_ints), n_bins),\n",
    "        label=\">100 total interactions\")\n",
    "plt.axvline(365, color='black')\n",
    "plt.text(365, 1, \" year\")\n",
    "plt.axvline(1, color='black')\n",
    "plt.text(1, 1, \" day\")\n",
    "plt.axvline(1 / 24, color='black')\n",
    "plt.text(1 / 24, 1, \" hour\")\n",
    "plt.axvline(1 / 24 / 60, color='black')\n",
    "plt.text(1 / 24 / 60, 1, \" minute\")\n",
    "plt.gca().set_xscale(\"log\")\n",
    "plt.xlabel(\"Time elapsed between first and last interactions (days)\")\n",
    "plt.ylabel(\"User count\")\n",
    "plt.legend()\n",
    "plt.show()"
   ]
  },
  {
   "cell_type": "code",
   "execution_count": 75,
   "metadata": {},
   "outputs": [
    {
     "data": {
      "image/png": "[encoded data removed]",
      "text/plain": [
       "<Figure size 432x288 with 1 Axes>"
      ]
     },
     "metadata": {
      "needs_background": "light"
     },
     "output_type": "display_data"
    }
   ],
   "source": [
    "min_ints = 1 / 24 / 60 / 60\n",
    "max_ints = 1e4\n",
    "n_bins = 100\n",
    "plt.hist(dynamic_ints[dynamic_ints.intCount > 2].int_survival_time_days,\n",
    "         log=True, bins=np.logspace(np.log10(min_ints),np.log10(max_ints), n_bins),\n",
    "        label=\"All Users\")\n",
    "plt.hist(dynamic_ints[(dynamic_ints.intCount > 2)&(dynamic_ints.userId.isin(author_set))].int_survival_time_days, alpha=0.8,\n",
    "         log=True, bins=np.logspace(np.log10(min_ints),np.log10(max_ints), n_bins),\n",
    "        label=\"Authors\")\n",
    "plt.axvline(365, color='black')\n",
    "plt.text(365, 1, \" year\")\n",
    "plt.axvline(1, color='black')\n",
    "plt.text(1, 1, \" day\")\n",
    "plt.axvline(1 / 24, color='black')\n",
    "plt.text(1 / 24, 1, \" hour\")\n",
    "plt.axvline(1 / 24 / 60, color='black')\n",
    "plt.text(1 / 24 / 60, 1, \" minute\")\n",
    "plt.axvline(1 / 24 / 60 / 60, color='black')\n",
    "plt.text(1 / 24 / 60 / 60, 1, \" second\")\n",
    "plt.gca().set_xscale(\"log\")\n",
    "plt.xlabel(\"Time elapsed between first and last interactions (days)\")\n",
    "plt.ylabel(\"User count\")\n",
    "plt.legend()\n",
    "plt.show()"
   ]
  },
  {
   "cell_type": "code",
   "execution_count": 63,
   "metadata": {},
   "outputs": [
    {
     "data": {
      "image/png": "[encoded data removed]",
      "text/plain": [
       "<Figure size 432x288 with 1 Axes>"
      ]
     },
     "metadata": {
      "needs_background": "light"
     },
     "output_type": "display_data"
    }
   ],
   "source": [
    "min_ints = 1\n",
    "max_ints = 1e13\n",
    "n_bins = 100\n",
    "plt.hist(dynamic_ints[dynamic_ints.intCount > 2].int_survival_time,\n",
    "         log=True, bins=np.logspace(np.log10(min_ints),np.log10(max_ints), n_bins),\n",
    "        label=\"All Users\")\n",
    "plt.hist(dynamic_ints[(dynamic_ints.intCount > 2)&(dynamic_ints.userId.isin(author_set))].int_survival_time, alpha=0.8,\n",
    "         log=True, bins=np.logspace(np.log10(min_ints),np.log10(max_ints), n_bins),\n",
    "        label=\"Authors\")\n",
    "plt.gca().set_xscale(\"log\")\n",
    "plt.xlabel(\"Time elapsed between first and last interactions (ms)\")\n",
    "plt.ylabel(\"User count\")\n",
    "plt.legend()\n",
    "plt.show()"
   ]
  },
  {
   "cell_type": "code",
   "execution_count": 82,
   "metadata": {},
   "outputs": [],
   "source": [
    "merged = pd.merge(dynamic_auth, dynamic_ints, on='userId', how='left', validate='one_to_one')"
   ]
  },
  {
   "cell_type": "code",
   "execution_count": 83,
   "metadata": {},
   "outputs": [],
   "source": [
    "merged['additional_ints_time_days'] = merged.int_survival_time_days - merged.auth_survival_time_days"
   ]
  },
  {
   "cell_type": "code",
   "execution_count": 87,
   "metadata": {},
   "outputs": [
    {
     "data": {
      "text/plain": [
       "(-736055.8168402779, 4003.146643518519)"
      ]
     },
     "execution_count": 87,
     "metadata": {},
     "output_type": "execute_result"
    }
   ],
   "source": [
    "np.min(merged.additional_ints_time_days), np.max(merged.additional_ints_time_days)"
   ]
  },
  {
   "cell_type": "code",
   "execution_count": 103,
   "metadata": {},
   "outputs": [
    {
     "data": {
      "image/png": "[encoded data removed]",
      "text/plain": [
       "<Figure size 432x288 with 1 Axes>"
      ]
     },
     "metadata": {
      "needs_background": "light"
     },
     "output_type": "display_data"
    }
   ],
   "source": [
    "plt.hist(merged.additional_ints_time_days,\n",
    "         log=True, bins=np.linspace(-20000, 5000, 100))\n",
    "plt.xlabel(\"Additional time on site interacting (days)\")\n",
    "plt.ylabel(\"Author count\")\n",
    "#plt.axvline(365, color='black')\n",
    "#plt.text(365, 1, \" year\")\n",
    "plt.axvline(365 * 10, color='black')\n",
    "plt.text(365 * 10, 1, \"  10 years\")\n",
    "plt.axvline(365 * 10 * -1, color='black')\n",
    "plt.text(365 * 10 * -1, 1, \" -10 years\")\n",
    "plt.axvline(365 * (2016 - 1970) * -1, color='black')\n",
    "plt.text(365 * (2016 - 1970) * -1, 1, \" since 1970\")\n",
    "plt.show()"
   ]
  },
  {
   "cell_type": "code",
   "execution_count": null,
   "metadata": {},
   "outputs": [],
   "source": []
  }
 ],
 "metadata": {
  "kernelspec": {
   "display_name": "Python (shared-conda)",
   "language": "python",
   "name": "shared-conda"
  },
  "language_info": {
   "codemirror_mode": {
    "name": "ipython",
    "version": 3
   },
   "file_extension": ".py",
   "mimetype": "text/x-python",
   "name": "python",
   "nbconvert_exporter": "python",
   "pygments_lexer": "ipython3",
   "version": "3.7.3"
  }
 },
 "nbformat": 4,
 "nbformat_minor": 2
}
