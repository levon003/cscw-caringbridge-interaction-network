{
 "cells": [
  {
   "cell_type": "code",
   "execution_count": 1,
   "metadata": {
    "collapsed": true
   },
   "outputs": [],
   "source": [
    "import os\n",
    "import pandas as pd"
   ]
  },
  {
   "cell_type": "code",
   "execution_count": 4,
   "metadata": {},
   "outputs": [
    {
     "name": "stdout",
     "output_type": "stream",
     "text": [
      "601189\n",
      "566079 users mapped to sites. (18617 users to multiple sites.)\n"
     ]
    }
   ],
   "source": [
    "users = pd.read_csv(\"/home/srivbane/shared/caringbridge/data/projects/sna-social-support/csv_data/pcts.csv\")\n",
    "print(len(users))\n",
    "multi_site_count = 0\n",
    "user_site_map = {}\n",
    "for userId, group in users.groupby(by='userId', sort=False):\n",
    "    siteIds = tuple(group.siteId.tolist())\n",
    "    if len(siteIds) > 1:\n",
    "        multi_site_count += 1\n",
    "    user_site_map[userId] = siteIds\n",
    "print(f\"{len(user_site_map.keys())} users mapped to sites. ({multi_site_count} users to multiple sites.)\")"
   ]
  },
  {
   "cell_type": "code",
   "execution_count": null,
   "metadata": {
    "collapsed": true
   },
   "outputs": [],
   "source": []
  }
 ],
 "metadata": {
  "kernelspec": {
   "display_name": "Python (shared-conda)",
   "language": "python",
   "name": "shared-conda"
  },
  "language_info": {
   "codemirror_mode": {
    "name": "ipython",
    "version": 3
   },
   "file_extension": ".py",
   "mimetype": "text/x-python",
   "name": "python",
   "nbconvert_exporter": "python",
   "pygments_lexer": "ipython3",
   "version": "3.7.3"
  }
 },
 "nbformat": 4,
 "nbformat_minor": 1
}
