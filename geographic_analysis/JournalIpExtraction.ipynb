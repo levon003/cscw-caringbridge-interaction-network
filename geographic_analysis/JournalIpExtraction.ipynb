{
 "cells": [
  {
   "cell_type": "markdown",
   "metadata": {},
   "source": [
    "New Journal IP Extraction\n",
    "===\n",
    "\n",
    "This script processes the json journals in the new (2019) dataset to a CSV file containing the IP metadata.\n"
   ]
  },
  {
   "cell_type": "code",
   "execution_count": 1,
   "metadata": {},
   "outputs": [],
   "source": [
    "%reload_ext autoreload\n",
    "%autoreload 2\n",
    "%matplotlib inline"
   ]
  },
  {
   "cell_type": "code",
   "execution_count": 2,
   "metadata": {},
   "outputs": [],
   "source": [
    "import os\n",
    "import re\n",
    "import pandas as pd\n",
    "import numpy as np\n",
    "\n",
    "from collections import Counter\n",
    "import sqlite3\n",
    "from nltk import word_tokenize\n",
    "from html.parser import HTMLParser\n",
    "from tqdm import tqdm\n",
    "import random\n",
    "import pickle\n",
    "import json\n",
    "\n",
    "from datetime import datetime\n",
    "from pprint import pprint\n",
    "\n",
    "import matplotlib.pyplot as plt\n",
    "import matplotlib.dates as md\n",
    "import matplotlib\n",
    "import pylab as pl\n",
    "from IPython.core.display import display, HTML"
   ]
  },
  {
   "cell_type": "code",
   "execution_count": 9,
   "metadata": {},
   "outputs": [
    {
     "data": {
      "text/plain": [
       "PosixPath('/panfs/roc/groups/3/srivbane/levon003/repos/sna-social-support')"
      ]
     },
     "execution_count": 9,
     "metadata": {},
     "output_type": "execute_result"
    }
   ],
   "source": [
    "from pathlib import Path\n",
    "git_root_dir = !git rev-parse --show-toplevel\n",
    "git_root_dir = Path(git_root_dir[0].strip())\n",
    "git_root_dir"
   ]
  },
  {
   "cell_type": "code",
   "execution_count": 10,
   "metadata": {},
   "outputs": [],
   "source": [
    "import sys\n",
    "caringbridge_core_path = \"/home/srivbane/levon003/repos/caringbridge_core\"\n",
    "sys.path.append(caringbridge_core_path)"
   ]
  },
  {
   "cell_type": "code",
   "execution_count": 11,
   "metadata": {},
   "outputs": [],
   "source": [
    "import cbcore.data.paths as paths\n",
    "import cbcore.data.dates as dates"
   ]
  },
  {
   "cell_type": "code",
   "execution_count": 12,
   "metadata": {},
   "outputs": [],
   "source": [
    "raw_data_dir = paths.raw_data_2019_filepath"
   ]
  },
  {
   "cell_type": "code",
   "execution_count": 13,
   "metadata": {},
   "outputs": [],
   "source": [
    "journal_filepath = os.path.join(raw_data_dir, \"journal.json\")"
   ]
  },
  {
   "cell_type": "code",
   "execution_count": 14,
   "metadata": {},
   "outputs": [],
   "source": [
    "working_dir = \"/home/srivbane/shared/caringbridge/data/projects/sna-social-support/geo_data\"\n",
    "os.makedirs(working_dir, exist_ok=True)\n",
    "assert os.path.exists(working_dir)"
   ]
  },
  {
   "cell_type": "markdown",
   "metadata": {},
   "source": [
    "### Load and convert journal file"
   ]
  },
  {
   "cell_type": "code",
   "execution_count": 15,
   "metadata": {},
   "outputs": [],
   "source": [
    "output_filepath = os.path.join(working_dir, \"journal_ip_raw.csv\")"
   ]
  },
  {
   "cell_type": "code",
   "execution_count": 16,
   "metadata": {},
   "outputs": [],
   "source": [
    "def extract_long(json_value):\n",
    "    if type(json_value) == int:\n",
    "        return json_value\n",
    "    elif type(json_value) == str:\n",
    "        return int(json_value)\n",
    "    elif type(json_value) == dict:\n",
    "        return int(json_value['$numberLong'])\n",
    "    elif json_value == 0.0:  # special case for userId, which I assume is essentially \"missing/unknown\" or user deleted?\n",
    "        return None\n",
    "    elif type(json_value) == float:\n",
    "        return int(json_value)\n",
    "    else:\n",
    "        raise ValueError(f\"Type '{type(json_value)}' not implemented: {str(json_value)}\")"
   ]
  },
  {
   "cell_type": "code",
   "execution_count": 18,
   "metadata": {
    "scrolled": true
   },
   "outputs": [
    {
     "name": "stderr",
     "output_type": "stream",
     "text": [
      "100%|██████████| 19137078/19137078 [28:25<00:00, 11221.57it/s]\n"
     ]
    }
   ],
   "source": [
    "bad_ips = []\n",
    "with open(output_filepath, 'w') as outfile:\n",
    "    with open(journal_filepath, encoding='utf-8') as infile:\n",
    "        for line in tqdm(infile, total=19137078):\n",
    "            journal = json.loads(line)\n",
    "            \n",
    "            if \"ip\" not in journal:\n",
    "                continue\n",
    "            ip = journal['ip']\n",
    "            if not re.match(r\"[0-9]+\\.[0-9]+\\.[0-9]+\\.[0-9]+$\", ip):\n",
    "                bad_ips.append(ip)\n",
    "                continue\n",
    "                            \n",
    "            journal_oid = journal['_id']['$oid']\n",
    "            site_id = extract_long(journal['siteId'])\n",
    "            user_id = extract_long(journal['userId'])\n",
    "            \n",
    "            created_at = dates.get_date_from_json_value(journal['createdAt'])\n",
    "            updated_at = dates.get_date_from_json_value(journal['updatedAt'])\n",
    "\n",
    "            outfile.write(f\"{user_id},{ip},{site_id},{journal_oid},{created_at},{updated_at}\\n\")"
   ]
  },
  {
   "cell_type": "code",
   "execution_count": 19,
   "metadata": {},
   "outputs": [
    {
     "data": {
      "text/plain": [
       "170220"
      ]
     },
     "execution_count": 19,
     "metadata": {},
     "output_type": "execute_result"
    }
   ],
   "source": [
    "len(bad_ips)"
   ]
  },
  {
   "cell_type": "code",
   "execution_count": 20,
   "metadata": {},
   "outputs": [
    {
     "data": {
      "text/plain": [
       "[('', 159585),\n",
       " ('unknown', 2789),\n",
       " ('70.41.106.10, 1', 205),\n",
       " ('10.0.0.109, unk', 204),\n",
       " ('10.0.0.75, unkn', 149),\n",
       " ('10.0.0.108, unk', 100),\n",
       " ('127.0.0.1, 127.', 73),\n",
       " ('10.56.26.39, 10', 71),\n",
       " ('unknown, 204.18', 57),\n",
       " ('192.168.3.22, 1', 54)]"
      ]
     },
     "execution_count": 20,
     "metadata": {},
     "output_type": "execute_result"
    }
   ],
   "source": [
    "Counter(bad_ips).most_common()[:10]"
   ]
  },
  {
   "cell_type": "code",
   "execution_count": 21,
   "metadata": {},
   "outputs": [
    {
     "name": "stdout",
     "output_type": "stream",
     "text": [
      "13255023 /home/srivbane/shared/caringbridge/data/projects/sna-social-support/geo_data/journal_ip_raw.csv\r\n"
     ]
    }
   ],
   "source": [
    "!wc -l {output_filepath}"
   ]
  },
  {
   "cell_type": "code",
   "execution_count": null,
   "metadata": {},
   "outputs": [],
   "source": []
  },
  {
   "cell_type": "code",
   "execution_count": null,
   "metadata": {},
   "outputs": [],
   "source": []
  },
  {
   "cell_type": "code",
   "execution_count": null,
   "metadata": {
    "scrolled": false
   },
   "outputs": [],
   "source": []
  },
  {
   "cell_type": "code",
   "execution_count": null,
   "metadata": {},
   "outputs": [],
   "source": []
  },
  {
   "cell_type": "code",
   "execution_count": null,
   "metadata": {},
   "outputs": [],
   "source": []
  }
 ],
 "metadata": {
  "kernelspec": {
   "display_name": "Python (shared-conda)",
   "language": "python",
   "name": "shared-conda"
  },
  "language_info": {
   "codemirror_mode": {
    "name": "ipython",
    "version": 3
   },
   "file_extension": ".py",
   "mimetype": "text/x-python",
   "name": "python",
   "nbconvert_exporter": "python",
   "pygments_lexer": "ipython3",
   "version": "3.7.3"
  }
 },
 "nbformat": 4,
 "nbformat_minor": 2
}
