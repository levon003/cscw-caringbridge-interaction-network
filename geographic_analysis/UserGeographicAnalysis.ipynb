{
 "cells": [
  {
   "cell_type": "markdown",
   "metadata": {},
   "source": [
    "User-centric Geographic Analysis\n",
    "===\n",
    "\n",
    "Try to assign locations to users.\n",
    "\n"
   ]
  },
  {
   "cell_type": "code",
   "execution_count": 1,
   "metadata": {},
   "outputs": [],
   "source": [
    "%reload_ext autoreload\n",
    "%autoreload 2\n",
    "%matplotlib inline"
   ]
  },
  {
   "cell_type": "code",
   "execution_count": 2,
   "metadata": {},
   "outputs": [],
   "source": [
    "import os\n",
    "import re\n",
    "import pandas as pd\n",
    "import numpy as np\n",
    "\n",
    "from collections import Counter, defaultdict\n",
    "import sqlite3\n",
    "from nltk import word_tokenize\n",
    "from html.parser import HTMLParser\n",
    "from tqdm import tqdm\n",
    "import random\n",
    "import pickle\n",
    "import json\n",
    "\n",
    "from datetime import datetime\n",
    "from pprint import pprint\n",
    "\n",
    "import matplotlib.pyplot as plt\n",
    "import matplotlib.dates as md\n",
    "import matplotlib\n",
    "import pylab as pl\n",
    "from IPython.core.display import display, HTML"
   ]
  },
  {
   "cell_type": "code",
   "execution_count": 3,
   "metadata": {},
   "outputs": [],
   "source": [
    "working_dir = \"/home/srivbane/shared/caringbridge/data/projects/sna-social-support/geo_data\"\n",
    "os.makedirs(working_dir, exist_ok=True)\n",
    "assert os.path.exists(working_dir)"
   ]
  },
  {
   "cell_type": "code",
   "execution_count": 4,
   "metadata": {},
   "outputs": [],
   "source": [
    "journal_geo_filepath = os.path.join(working_dir, \"journal_geo_data.csv\")\n",
    "gb_geo_filepath = os.path.join(working_dir, \"gb_geo_data.csv\")"
   ]
  },
  {
   "cell_type": "code",
   "execution_count": 5,
   "metadata": {},
   "outputs": [
    {
     "name": "stdout",
     "output_type": "stream",
     "text": [
      "13255023 /home/srivbane/shared/caringbridge/data/projects/sna-social-support/geo_data/journal_geo_data.csv\r\n"
     ]
    }
   ],
   "source": [
    "!wc -l {journal_geo_filepath}"
   ]
  },
  {
   "cell_type": "code",
   "execution_count": 6,
   "metadata": {
    "scrolled": true
   },
   "outputs": [
    {
     "name": "stdout",
     "output_type": "stream",
     "text": [
      "76810342 /home/srivbane/shared/caringbridge/data/projects/sna-social-support/geo_data/gb_geo_data.csv\r\n"
     ]
    }
   ],
   "source": [
    "!wc -l {gb_geo_filepath}"
   ]
  },
  {
   "cell_type": "markdown",
   "metadata": {},
   "source": [
    "### Filter the geographic data to include only valid users"
   ]
  },
  {
   "cell_type": "code",
   "execution_count": 7,
   "metadata": {},
   "outputs": [
    {
     "data": {
      "text/plain": [
       "362345"
      ]
     },
     "execution_count": 7,
     "metadata": {},
     "output_type": "execute_result"
    }
   ],
   "source": [
    "# load the list of valid users\n",
    "data_selection_working_dir = \"/home/srivbane/shared/caringbridge/data/projects/sna-social-support/data_selection\"\n",
    "valid_user_ids = set()\n",
    "with open(os.path.join(data_selection_working_dir, \"valid_user_ids.txt\"), 'r') as infile:\n",
    "    for line in infile:\n",
    "        user_id = line.strip()\n",
    "        if user_id == \"\":\n",
    "            continue\n",
    "        else:\n",
    "            valid_user_ids.add(int(user_id))\n",
    "len(valid_user_ids)"
   ]
  },
  {
   "cell_type": "code",
   "execution_count": 8,
   "metadata": {},
   "outputs": [],
   "source": [
    "journal_geo_filepath = os.path.join(working_dir, \"journal_geo_data.csv\")\n",
    "gb_geo_filepath = os.path.join(working_dir, \"gb_geo_data.csv\")"
   ]
  },
  {
   "cell_type": "code",
   "execution_count": 9,
   "metadata": {},
   "outputs": [],
   "source": [
    "journal_geo_filtered_filepath = os.path.join(working_dir, \"journal_geo_filtered.csv\")\n",
    "gb_geo_filtered_filepath = os.path.join(working_dir, \"gb_geo_filtered.csv\")"
   ]
  },
  {
   "cell_type": "code",
   "execution_count": 133,
   "metadata": {},
   "outputs": [
    {
     "name": "stderr",
     "output_type": "stream",
     "text": [
      "journal_geo_data.csv: 13255023it [00:28, 465086.92it/s]\n",
      "gb_geo_data.csv: 26736773it [02:34, 173288.84it/s]\n"
     ]
    },
    {
     "name": "stdout",
     "output_type": "stream",
     "text": [
      "Finished filtering files.\n"
     ]
    }
   ],
   "source": [
    "for input_filepath, output_filepath in [(journal_geo_filepath, journal_geo_filtered_filepath), \n",
    "                                        (gb_geo_filepath, gb_geo_filtered_filepath)]:\n",
    "    with open(input_filepath, 'r') as infile:\n",
    "        with open(output_filepath, 'w') as outfile:\n",
    "            for line in tqdm(infile, desc=os.path.basename(input_filepath)):\n",
    "                if line.strip() == \"\":\n",
    "                    continue\n",
    "                user_id = line.split(\",\")[0]\n",
    "                if user_id == 'None':\n",
    "                    continue\n",
    "                user_id = int(user_id)\n",
    "                if user_id in valid_user_ids:\n",
    "                    outfile.write(line)\n",
    "                \n",
    "print(\"Finished filtering files.\")"
   ]
  },
  {
   "cell_type": "code",
   "execution_count": 10,
   "metadata": {},
   "outputs": [
    {
     "name": "stdout",
     "output_type": "stream",
     "text": [
      "12090538 /home/srivbane/shared/caringbridge/data/projects/sna-social-support/geo_data/journal_geo_filtered.csv\r\n"
     ]
    }
   ],
   "source": [
    "!wc -l {journal_geo_filtered_filepath}"
   ]
  },
  {
   "cell_type": "code",
   "execution_count": 11,
   "metadata": {},
   "outputs": [
    {
     "name": "stdout",
     "output_type": "stream",
     "text": [
      "2213981 /home/srivbane/shared/caringbridge/data/projects/sna-social-support/geo_data/gb_geo_filtered.csv\r\n"
     ]
    }
   ],
   "source": [
    "!wc -l {gb_geo_filtered_filepath}"
   ]
  },
  {
   "cell_type": "markdown",
   "metadata": {},
   "source": [
    "### Load geographic info into dataframes\n",
    "\n",
    "We load only the filtered data."
   ]
  },
  {
   "cell_type": "code",
   "execution_count": 12,
   "metadata": {},
   "outputs": [],
   "source": [
    "cols = ['user_id', 'site_id', 'created_at', 'country', 'subdiv_count', 'state', 'city', 'lat', 'long', 'acc_radius']"
   ]
  },
  {
   "cell_type": "code",
   "execution_count": 13,
   "metadata": {},
   "outputs": [
    {
     "name": "stderr",
     "output_type": "stream",
     "text": [
      "/home/srivbane/shared/anaconda3/lib/python3.7/site-packages/IPython/core/interactiveshell.py:3058: DtypeWarning: Columns (7,8,9) have mixed types. Specify dtype option on import or set low_memory=False.\n",
      "  interactivity=interactivity, compiler=compiler, result=result)\n"
     ]
    },
    {
     "data": {
      "text/plain": [
       "2213981"
      ]
     },
     "execution_count": 13,
     "metadata": {},
     "output_type": "execute_result"
    }
   ],
   "source": [
    "gb_df = pd.read_csv(gb_geo_filtered_filepath, header=None, names=cols)\n",
    "len(gb_df)"
   ]
  },
  {
   "cell_type": "code",
   "execution_count": 14,
   "metadata": {},
   "outputs": [
    {
     "name": "stderr",
     "output_type": "stream",
     "text": [
      "/home/srivbane/shared/anaconda3/lib/python3.7/site-packages/IPython/core/interactiveshell.py:3058: DtypeWarning: Columns (2,7,8,9) have mixed types. Specify dtype option on import or set low_memory=False.\n",
      "  interactivity=interactivity, compiler=compiler, result=result)\n"
     ]
    },
    {
     "data": {
      "text/plain": [
       "12090538"
      ]
     },
     "execution_count": 14,
     "metadata": {},
     "output_type": "execute_result"
    }
   ],
   "source": [
    "j_df = pd.read_csv(journal_geo_filtered_filepath, header=None, names=cols)\n",
    "len(j_df)"
   ]
  },
  {
   "cell_type": "code",
   "execution_count": 15,
   "metadata": {},
   "outputs": [],
   "source": [
    "gb_df['type'] = 'guestbook'\n",
    "j_df['type'] = 'journal'"
   ]
  },
  {
   "cell_type": "code",
   "execution_count": 16,
   "metadata": {},
   "outputs": [
    {
     "data": {
      "text/plain": [
       "14304519"
      ]
     },
     "execution_count": 16,
     "metadata": {},
     "output_type": "execute_result"
    }
   ],
   "source": [
    "df = pd.concat([gb_df, j_df])\n",
    "len(df)"
   ]
  },
  {
   "cell_type": "code",
   "execution_count": 17,
   "metadata": {},
   "outputs": [
    {
     "data": {
      "text/html": [
       "<div>\n",
       "<style scoped>\n",
       "    .dataframe tbody tr th:only-of-type {\n",
       "        vertical-align: middle;\n",
       "    }\n",
       "\n",
       "    .dataframe tbody tr th {\n",
       "        vertical-align: top;\n",
       "    }\n",
       "\n",
       "    .dataframe thead th {\n",
       "        text-align: right;\n",
       "    }\n",
       "</style>\n",
       "<table border=\"1\" class=\"dataframe\">\n",
       "  <thead>\n",
       "    <tr style=\"text-align: right;\">\n",
       "      <th></th>\n",
       "      <th>user_id</th>\n",
       "      <th>site_id</th>\n",
       "      <th>created_at</th>\n",
       "      <th>country</th>\n",
       "      <th>subdiv_count</th>\n",
       "      <th>state</th>\n",
       "      <th>city</th>\n",
       "      <th>lat</th>\n",
       "      <th>long</th>\n",
       "      <th>acc_radius</th>\n",
       "      <th>type</th>\n",
       "    </tr>\n",
       "  </thead>\n",
       "  <tbody>\n",
       "    <tr>\n",
       "      <td>0</td>\n",
       "      <td>322059</td>\n",
       "      <td>20005</td>\n",
       "      <td>1371420989000</td>\n",
       "      <td>NOT_FOUND</td>\n",
       "      <td>NaN</td>\n",
       "      <td>NaN</td>\n",
       "      <td>NaN</td>\n",
       "      <td>NaN</td>\n",
       "      <td>NaN</td>\n",
       "      <td>NaN</td>\n",
       "      <td>guestbook</td>\n",
       "    </tr>\n",
       "    <tr>\n",
       "      <td>1</td>\n",
       "      <td>5968472</td>\n",
       "      <td>68593</td>\n",
       "      <td>1371432498000</td>\n",
       "      <td>US</td>\n",
       "      <td>1.0</td>\n",
       "      <td>NY</td>\n",
       "      <td>Northville</td>\n",
       "      <td>43.2662</td>\n",
       "      <td>-74.2288</td>\n",
       "      <td>20</td>\n",
       "      <td>guestbook</td>\n",
       "    </tr>\n",
       "    <tr>\n",
       "      <td>2</td>\n",
       "      <td>21573557</td>\n",
       "      <td>557835</td>\n",
       "      <td>1371429583000</td>\n",
       "      <td>NOT_FOUND</td>\n",
       "      <td>NaN</td>\n",
       "      <td>NaN</td>\n",
       "      <td>NaN</td>\n",
       "      <td>NaN</td>\n",
       "      <td>NaN</td>\n",
       "      <td>NaN</td>\n",
       "      <td>guestbook</td>\n",
       "    </tr>\n",
       "    <tr>\n",
       "      <td>3</td>\n",
       "      <td>20049997</td>\n",
       "      <td>77628</td>\n",
       "      <td>1371440716000</td>\n",
       "      <td>US</td>\n",
       "      <td>1.0</td>\n",
       "      <td>GA</td>\n",
       "      <td>Woodstock</td>\n",
       "      <td>34.1078</td>\n",
       "      <td>-84.5026</td>\n",
       "      <td>10</td>\n",
       "      <td>guestbook</td>\n",
       "    </tr>\n",
       "    <tr>\n",
       "      <td>4</td>\n",
       "      <td>24353953</td>\n",
       "      <td>604503</td>\n",
       "      <td>1371442462000</td>\n",
       "      <td>US</td>\n",
       "      <td>1.0</td>\n",
       "      <td>IL</td>\n",
       "      <td>Northbrook</td>\n",
       "      <td>42.1212</td>\n",
       "      <td>-87.8405</td>\n",
       "      <td>20</td>\n",
       "      <td>guestbook</td>\n",
       "    </tr>\n",
       "  </tbody>\n",
       "</table>\n",
       "</div>"
      ],
      "text/plain": [
       "    user_id  site_id     created_at    country  subdiv_count state  \\\n",
       "0    322059    20005  1371420989000  NOT_FOUND           NaN   NaN   \n",
       "1   5968472    68593  1371432498000         US           1.0    NY   \n",
       "2  21573557   557835  1371429583000  NOT_FOUND           NaN   NaN   \n",
       "3  20049997    77628  1371440716000         US           1.0    GA   \n",
       "4  24353953   604503  1371442462000         US           1.0    IL   \n",
       "\n",
       "         city      lat      long acc_radius       type  \n",
       "0         NaN      NaN       NaN        NaN  guestbook  \n",
       "1  Northville  43.2662  -74.2288         20  guestbook  \n",
       "2         NaN      NaN       NaN        NaN  guestbook  \n",
       "3   Woodstock  34.1078  -84.5026         10  guestbook  \n",
       "4  Northbrook  42.1212  -87.8405         20  guestbook  "
      ]
     },
     "execution_count": 17,
     "metadata": {},
     "output_type": "execute_result"
    }
   ],
   "source": [
    "df.head()"
   ]
  },
  {
   "cell_type": "markdown",
   "metadata": {},
   "source": [
    "### High-level descriptive statistics at the aggregate\n",
    "\n",
    "In other words, we don't yet group by specific users for analysis."
   ]
  },
  {
   "cell_type": "code",
   "execution_count": 18,
   "metadata": {},
   "outputs": [
    {
     "name": "stdout",
     "output_type": "stream",
     "text": [
      "         US 13500933 (94.38%)\n",
      "  NOT_FOUND   338604 ( 2.37%)\n",
      "         CA   224200 ( 1.57%)\n",
      "         CN    50903 ( 0.36%)\n",
      "         GB    49540 ( 0.35%)\n",
      "         AU    36581 ( 0.26%)\n",
      "         NZ    12034 ( 0.08%)\n",
      "         CO     7722 ( 0.05%)\n",
      "         DE     7205 ( 0.05%)\n",
      "         MX     5411 ( 0.04%)\n",
      "         JP     4272 ( 0.03%)\n",
      "         IN     4111 ( 0.03%)\n",
      "         NL     3710 ( 0.03%)\n",
      "         IE     3659 ( 0.03%)\n",
      "         CH     3249 ( 0.02%)\n",
      "         NO     3174 ( 0.02%)\n",
      "         HK     2736 ( 0.02%)\n",
      "         ZA     2604 ( 0.02%)\n",
      "         SG     2496 ( 0.02%)\n",
      "         PK     2366 ( 0.02%)\n"
     ]
    }
   ],
   "source": [
    "for country, count in Counter(df.country).most_common()[:20]:\n",
    "    print(f\"{country:>11} {count:8} ({count/len(df)*100:5.2f}%)\")"
   ]
  },
  {
   "cell_type": "code",
   "execution_count": 19,
   "metadata": {},
   "outputs": [
    {
     "name": "stdout",
     "output_type": "stream",
     "text": [
      "       None  3668203 (25.64%)\n",
      "         MN  1170520 ( 8.18%)\n",
      "         TX   617064 ( 4.31%)\n",
      "         CA   580954 ( 4.06%)\n",
      "         NY   538879 ( 3.77%)\n",
      "         WI   434251 ( 3.04%)\n",
      "         NC   411429 ( 2.88%)\n",
      "         OH   372449 ( 2.60%)\n",
      "         WA   368578 ( 2.58%)\n",
      "        nan   338638 ( 2.37%)\n",
      "         IL   337195 ( 2.36%)\n",
      "         FL   331497 ( 2.32%)\n",
      "         GA   330715 ( 2.31%)\n",
      "         TN   297072 ( 2.08%)\n",
      "         MO   279225 ( 1.95%)\n",
      "         PA   263965 ( 1.85%)\n",
      "         IN   224639 ( 1.57%)\n",
      "         VA   215106 ( 1.50%)\n",
      "         MI   195253 ( 1.36%)\n",
      "         CO   192013 ( 1.34%)\n"
     ]
    }
   ],
   "source": [
    "for state, count in Counter(df.state).most_common()[:20]:\n",
    "    print(f\"{state:>11} {count:8} ({count/len(df)*100:5.2f}%)\")"
   ]
  },
  {
   "cell_type": "code",
   "execution_count": 20,
   "metadata": {},
   "outputs": [
    {
     "data": {
      "text/plain": [
       "[(1000, 4178572),\n",
       " (5, 2658906),\n",
       " (10, 2273023),\n",
       " (20, 2095568),\n",
       " (50, 980198),\n",
       " (100, 782476),\n",
       " (1, 471788),\n",
       " (200, 341178),\n",
       " (500, 183813)]"
      ]
     },
     "execution_count": 20,
     "metadata": {},
     "output_type": "execute_result"
    }
   ],
   "source": [
    "Counter(df[(df.acc_radius == df.acc_radius)&(df.acc_radius != 'None')].acc_radius.astype(int)).most_common()"
   ]
  },
  {
   "cell_type": "code",
   "execution_count": 21,
   "metadata": {},
   "outputs": [
    {
     "name": "stdout",
     "output_type": "stream",
     "text": [
      "Considering only 675047 (4.72%) posts.\n"
     ]
    },
    {
     "data": {
      "image/png": "[encoded data removed]",
      "text/plain": [
       "<Figure size 864x864 with 1 Axes>"
      ]
     },
     "metadata": {
      "needs_background": "light"
     },
     "output_type": "display_data"
    }
   ],
   "source": [
    "import geopandas as gpd\n",
    "import geopandas.datasets\n",
    "import shapely\n",
    "\n",
    "us_df = df[(df.country == 'US')&(df.acc_radius == df.acc_radius)]\n",
    "us_df = us_df.sample(frac=0.05)\n",
    "print(f\"Considering only {len(us_df)} ({len(us_df) / len(df) * 100:.2f}%) posts.\")\n",
    "\n",
    "world = gpd.read_file(geopandas.datasets.get_path('naturalearth_lowres'))\n",
    "\n",
    "fig, ax = plt.subplots(1,1, figsize=(12,12))\n",
    "\n",
    "ax = world.plot(ax=ax, color=\"seagreen\")\n",
    "\n",
    "marker_size_map = {1000: 10,\n",
    "                   500: 10,\n",
    "                   200: 5, \n",
    "                   100: 4, \n",
    "                   50: 4, \n",
    "                   20: 4,\n",
    "                   10: 2, \n",
    "                   5: 2,\n",
    "                   1: 2\n",
    "                  }\n",
    "\n",
    "marker_color_map = {1000: plt.cm.Greys(0.9, alpha=0.01),\n",
    "                   500: plt.cm.Greys(0.9, alpha=0.01),\n",
    "                   200: plt.cm.Greys(0.9, alpha=0.02), \n",
    "                   100: plt.cm.Greys(0.9, alpha=0.04), \n",
    "                   50: plt.cm.Greys(0.9, alpha=0.04), \n",
    "                   20: plt.cm.Greys(0.9, alpha=0.08),\n",
    "                   10: plt.cm.Greys(0.9, alpha=0.08), \n",
    "                   5: plt.cm.Greys(0.9, alpha=0.1),\n",
    "                   1: plt.cm.Greys(0.9, alpha=0.1)\n",
    "                  }\n",
    "\n",
    "geometry = [shapely.geometry.Point(xy) for xy in zip(us_df.long.astype(\"float\"), us_df.lat.astype(\"float\"))]\n",
    "crs = {'init': 'epsg:4326'}\n",
    "gdf = gpd.GeoDataFrame(us_df[['user_id']], crs=crs, geometry=geometry)\n",
    "gdf = gdf.to_crs(world.crs)  # just to ensure the coordinate system is the same\n",
    "acc_radius_ints = us_df.acc_radius.astype(int)\n",
    "markersizes = [marker_size_map[ar] for ar in acc_radius_ints]\n",
    "colors = [marker_color_map[ar] for ar in acc_radius_ints]\n",
    "ax = gdf.plot(ax=ax, color=colors, markersize=markersizes)\n",
    "\n",
    "# some hacky estimates of North America coords\n",
    "ax.set_xlim((-141,-62))\n",
    "ax.set_ylim((14,72))\n",
    "\n",
    "_ = ax.set_title(\"US Journal & Guestbook Locations (From IP)\")"
   ]
  },
  {
   "cell_type": "markdown",
   "metadata": {},
   "source": [
    "### Journal location analysis"
   ]
  },
  {
   "cell_type": "code",
   "execution_count": 107,
   "metadata": {},
   "outputs": [
    {
     "name": "stderr",
     "output_type": "stream",
     "text": [
      "/home/srivbane/shared/anaconda3/lib/python3.7/site-packages/IPython/core/interactiveshell.py:3049: DtypeWarning: Columns (0,2,7,8,9) have mixed types. Specify dtype option on import or set low_memory=False.\n",
      "  interactivity=interactivity, compiler=compiler, result=result)\n"
     ]
    },
    {
     "data": {
      "text/plain": [
       "13255023"
      ]
     },
     "execution_count": 107,
     "metadata": {},
     "output_type": "execute_result"
    }
   ],
   "source": [
    "j_df = pd.read_csv(journal_geo_filtered_filepath, header=None, names=cols)\n",
    "len(j_df)"
   ]
  },
  {
   "cell_type": "code",
   "execution_count": 108,
   "metadata": {},
   "outputs": [
    {
     "data": {
      "text/plain": [
       "289231"
      ]
     },
     "execution_count": 108,
     "metadata": {},
     "output_type": "execute_result"
    }
   ],
   "source": [
    "len(set(j_df.user_id))"
   ]
  },
  {
   "cell_type": "code",
   "execution_count": 26,
   "metadata": {},
   "outputs": [
    {
     "name": "stderr",
     "output_type": "stream",
     "text": [
      "100%|██████████| 263330/263330 [04:06<00:00, 1067.47it/s]\n"
     ]
    },
    {
     "data": {
      "text/plain": [
       "263330"
      ]
     },
     "execution_count": 26,
     "metadata": {},
     "output_type": "execute_result"
    }
   ],
   "source": [
    "users = []\n",
    "for user_id, group in tqdm(df.groupby('user_id', sort=False)):\n",
    "    if type(user_id) != int and user_id == 'None':\n",
    "        continue\n",
    "    u = {\n",
    "        'user_id': user_id,\n",
    "        'total_updates': len(group),\n",
    "        'total_geolinked_updates': np.sum(group.country != 'NOT_FOUND'),\n",
    "        'country_set': set(group.country),\n",
    "        'state_set': {s for s in set(group.state) if s==s},  # bit of magic to remove nans\n",
    "        'country_counts': Counter(group.country),\n",
    "        'state_counts': Counter(group.state)\n",
    "    }\n",
    "    \n",
    "    if 'NOT_FOUND' in u['country_set']:\n",
    "        u['country_set'].remove('NOT_FOUND')\n",
    "    if 'None' in u['state_set']:\n",
    "        u['state_set'].remove('None')\n",
    "    \n",
    "    users.append(u)\n",
    "user_df = pd.DataFrame(users)\n",
    "len(user_df)"
   ]
  },
  {
   "cell_type": "code",
   "execution_count": 27,
   "metadata": {},
   "outputs": [
    {
     "data": {
      "image/png": "[encoded data removed]",
      "text/plain": [
       "<Figure size 432x288 with 1 Axes>"
      ]
     },
     "metadata": {
      "needs_background": "light"
     },
     "output_type": "display_data"
    }
   ],
   "source": [
    "bins = range(0, 100, 2)\n",
    "plt.hist(user_df.total_updates, label='Total Updates', log=True, bins=bins, alpha=0.8)\n",
    "plt.hist(user_df.total_geolinked_updates, label='Total Geolinked Updates', log=True, bins=bins, alpha=0.5)\n",
    "\n",
    "plt.title(\"Distribution of update counts with and without identifiable geo information\")\n",
    "plt.ylabel(\"User count\")\n",
    "plt.xlabel(\"Number of updates authored by user\")\n",
    "\n",
    "plt.legend()\n",
    "\n",
    "plt.show()"
   ]
  },
  {
   "cell_type": "code",
   "execution_count": 28,
   "metadata": {},
   "outputs": [
    {
     "data": {
      "image/png": "[encoded data removed]",
      "text/plain": [
       "<Figure size 432x288 with 1 Axes>"
      ]
     },
     "metadata": {
      "needs_background": "light"
     },
     "output_type": "display_data"
    }
   ],
   "source": [
    "plt.hist(user_df.total_geolinked_updates / user_df.total_updates, log=True, bins=20)\n",
    "plt.xlabel(\"Ratio of updates that are geolinked\")\n",
    "plt.title(\"Distribution of users by % identifiable lookups\")\n",
    "# 1.0 is 100% lookup succeeded, 0.0 is 0% lookup succeeded\n",
    "plt.show()"
   ]
  },
  {
   "cell_type": "code",
   "execution_count": 29,
   "metadata": {},
   "outputs": [
    {
     "data": {
      "text/plain": [
       "(530, 0.0020126837048570234)"
      ]
     },
     "execution_count": 29,
     "metadata": {},
     "output_type": "execute_result"
    }
   ],
   "source": [
    "# 0.6% of users authoring journal updates have ZERO successful IP lookups\n",
    "len(user_df[(user_df.total_geolinked_updates / user_df.total_updates) == 0]), len(user_df[(user_df.total_geolinked_updates / user_df.total_updates) == 0]) / len(user_df)"
   ]
  },
  {
   "cell_type": "code",
   "execution_count": 30,
   "metadata": {},
   "outputs": [
    {
     "data": {
      "text/plain": [
       "0.04801959518474917"
      ]
     },
     "execution_count": 30,
     "metadata": {},
     "output_type": "execute_result"
    }
   ],
   "source": [
    "# 3.6% of users are registered as having IPs in different countries at different times\n",
    "len(user_df[user_df.country_set.map(lambda country_set: len(country_set) > 1)]) / len(user_df)"
   ]
  },
  {
   "cell_type": "code",
   "execution_count": 31,
   "metadata": {},
   "outputs": [
    {
     "data": {
      "text/plain": [
       "[(\"{'CA', 'US'}\", 5051),\n",
       " (\"{'MX', 'US'}\", 561),\n",
       " (\"{'PK', 'US'}\", 518),\n",
       " (\"{'CN', 'US'}\", 515),\n",
       " (\"{'GB', 'US'}\", 351),\n",
       " (\"{'DE', 'US'}\", 327),\n",
       " (\"{'CO', 'US'}\", 269),\n",
       " (\"{'US', 'CN'}\", 230),\n",
       " (\"{'IE', 'US'}\", 228),\n",
       " (\"{'AU', 'US'}\", 194)]"
      ]
     },
     "execution_count": 31,
     "metadata": {},
     "output_type": "execute_result"
    }
   ],
   "source": [
    "# Print the most common country co-occurrences\n",
    "Counter([str(s) for s in user_df[user_df.country_set.map(lambda country_set: len(country_set) > 1)].country_set]).most_common()[:10]"
   ]
  },
  {
   "cell_type": "code",
   "execution_count": 32,
   "metadata": {},
   "outputs": [
    {
     "data": {
      "text/plain": [
       "0.5008164660312155"
      ]
     },
     "execution_count": 32,
     "metadata": {},
     "output_type": "execute_result"
    }
   ],
   "source": [
    "# 42.6% of users are registered as having IPs in at least two different states\n",
    "len(user_df[user_df.state_set.map(lambda state_set: len(state_set) > 1)]) / len(user_df)"
   ]
  },
  {
   "cell_type": "code",
   "execution_count": 33,
   "metadata": {},
   "outputs": [
    {
     "data": {
      "text/plain": [
       "[(\"{'MN', 'WI'}\", 2427),\n",
       " (\"{'SC', 'NC'}\", 1183),\n",
       " (\"{'IL', 'IN'}\", 890),\n",
       " (\"{'OR', 'WA'}\", 870),\n",
       " (\"{'MN', 'SD'}\", 836),\n",
       " (\"{'TX', 'CA'}\", 759),\n",
       " (\"{'IA', 'MN'}\", 655),\n",
       " (\"{'FL', 'MN'}\", 650),\n",
       " (\"{'IL', 'MO'}\", 616),\n",
       " (\"{'MN', 'ND'}\", 609)]"
      ]
     },
     "execution_count": 33,
     "metadata": {},
     "output_type": "execute_result"
    }
   ],
   "source": [
    "Counter([str(s) for s in user_df[user_df.state_set.map(lambda state_set: len(state_set) > 1)].state_set]).most_common()[:10]"
   ]
  },
  {
   "cell_type": "code",
   "execution_count": 34,
   "metadata": {},
   "outputs": [
    {
     "data": {
      "image/png": "[encoded data removed]",
      "text/plain": [
       "<Figure size 432x288 with 1 Axes>"
      ]
     },
     "metadata": {
      "needs_background": "light"
     },
     "output_type": "display_data"
    }
   ],
   "source": [
    "# examine specifically people split between MN and WI....\n",
    "subset = user_df[user_df.state_set.map(lambda state_set: len(state_set) == 2 and 'WI' in state_set and 'MN' in state_set)]\n",
    "x = []\n",
    "for state_counts in subset.state_counts:\n",
    "    mn_count = state_counts['MN']\n",
    "    wi_count = state_counts['WI']\n",
    "    mn_proportion = mn_count / (mn_count + wi_count)\n",
    "    x.append(mn_proportion)\n",
    "    \n",
    "plt.hist(x, bins=20)\n",
    "plt.title(\"Distribution of authors' updates in MN and WI\")\n",
    "plt.ylabel(\"User count\")\n",
    "plt.xlabel(\"Proportion of updates posted in MN\")\n",
    "plt.show()"
   ]
  },
  {
   "cell_type": "markdown",
   "metadata": {},
   "source": [
    "The plot above shows that there is a relatively diverse set of proportions as far as the MN/WI split goes, so it's not the case that it would be easy to assign a single state label to these users."
   ]
  },
  {
   "cell_type": "markdown",
   "metadata": {},
   "source": [
    "#### Investigating MN vs WI  using logistic regression"
   ]
  },
  {
   "cell_type": "code",
   "execution_count": 117,
   "metadata": {},
   "outputs": [],
   "source": [
    "import statsmodels.api as sm"
   ]
  },
  {
   "cell_type": "code",
   "execution_count": 118,
   "metadata": {
    "scrolled": true
   },
   "outputs": [
    {
     "name": "stderr",
     "output_type": "stream",
     "text": [
      "100%|██████████| 2040/2040 [04:29<00:00,  7.80it/s]\n"
     ]
    }
   ],
   "source": [
    "# for the MN/WI users, is there an association between time since site start and WI vs MN?\n",
    "# we only include users with at least 10 geolinked updates\n",
    "subset = user_df[(user_df.state_set.map(lambda state_set: len(state_set) == 2 and 'WI' in state_set and 'MN' in state_set))&(user_df.total_geolinked_updates >= 10)]\n",
    "\n",
    "subset_j_df = j_df[(j_df.state == 'MN')|(j_df.state == 'WI')]\n",
    "x = []\n",
    "y = []\n",
    "\n",
    "for user_id in tqdm(subset.user_id):\n",
    "    user_subset = subset_j_df[subset_j_df.user_id == user_id]\n",
    "    created_at = user_subset.created_at.astype(int)\n",
    "    is_mn_authored = user_subset.state == 'MN'\n",
    "    created_at = (created_at - np.min(created_at)) / (1000 * 60 * 60 * 24) # convert to days since first update\n",
    "    x.extend(created_at)\n",
    "    y.extend(is_mn_authored)\n",
    "    #logit = sm.Logit(is_mn_authored, created_at)\n",
    "    #result = logit.fit(disp=False)\n",
    "    #print(result.summary())\n",
    "    #print(f\"coef={result.params.values[0]:.3f} p={result.pvalues.values[0]:.3f}\")\n",
    "    "
   ]
  },
  {
   "cell_type": "code",
   "execution_count": 119,
   "metadata": {},
   "outputs": [
    {
     "name": "stdout",
     "output_type": "stream",
     "text": [
      "Optimization terminated successfully.\n",
      "         Current function value: 0.683858\n",
      "         Iterations 4\n"
     ]
    },
    {
     "data": {
      "text/html": [
       "<table class=\"simpletable\">\n",
       "<caption>Logit Regression Results</caption>\n",
       "<tr>\n",
       "  <th>Dep. Variable:</th>  <td>is_mn_authored</td>  <th>  No. Observations:  </th>  <td> 85804</td>  \n",
       "</tr>\n",
       "<tr>\n",
       "  <th>Model:</th>               <td>Logit</td>      <th>  Df Residuals:      </th>  <td> 85803</td>  \n",
       "</tr>\n",
       "<tr>\n",
       "  <th>Method:</th>               <td>MLE</td>       <th>  Df Model:          </th>  <td>     0</td>  \n",
       "</tr>\n",
       "<tr>\n",
       "  <th>Date:</th>          <td>Fri, 16 Aug 2019</td> <th>  Pseudo R-squ.:     </th> <td>-0.008499</td>\n",
       "</tr>\n",
       "<tr>\n",
       "  <th>Time:</th>              <td>16:09:29</td>     <th>  Log-Likelihood:    </th> <td> -58678.</td> \n",
       "</tr>\n",
       "<tr>\n",
       "  <th>converged:</th>           <td>True</td>       <th>  LL-Null:           </th> <td> -58183.</td> \n",
       "</tr>\n",
       "<tr>\n",
       "  <th> </th>                      <td> </td>        <th>  LLR p-value:       </th>  <td>   nan</td>  \n",
       "</tr>\n",
       "</table>\n",
       "<table class=\"simpletable\">\n",
       "<tr>\n",
       "             <td></td>                <th>coef</th>     <th>std err</th>      <th>z</th>      <th>P>|z|</th>  <th>[0.025</th>    <th>0.975]</th>  \n",
       "</tr>\n",
       "<tr>\n",
       "  <th>days_since_first_update</th> <td>    0.0619</td> <td>    0.002</td> <td>   39.638</td> <td> 0.000</td> <td>    0.059</td> <td>    0.065</td>\n",
       "</tr>\n",
       "</table>"
      ],
      "text/plain": [
       "<class 'statsmodels.iolib.summary.Summary'>\n",
       "\"\"\"\n",
       "                           Logit Regression Results                           \n",
       "==============================================================================\n",
       "Dep. Variable:         is_mn_authored   No. Observations:                85804\n",
       "Model:                          Logit   Df Residuals:                    85803\n",
       "Method:                           MLE   Df Model:                            0\n",
       "Date:                Fri, 16 Aug 2019   Pseudo R-squ.:               -0.008499\n",
       "Time:                        16:09:29   Log-Likelihood:                -58678.\n",
       "converged:                       True   LL-Null:                       -58183.\n",
       "                                        LLR p-value:                       nan\n",
       "===========================================================================================\n",
       "                              coef    std err          z      P>|z|      [0.025      0.975]\n",
       "-------------------------------------------------------------------------------------------\n",
       "days_since_first_update     0.0619      0.002     39.638      0.000       0.059       0.065\n",
       "===========================================================================================\n",
       "\"\"\""
      ]
     },
     "execution_count": 119,
     "metadata": {},
     "output_type": "execute_result"
    }
   ],
   "source": [
    "logit = sm.Logit(y, np.log(np.array(x) + 1))\n",
    "result = logit.fit(disp=1)\n",
    "result.summary(yname='is_mn_authored', xname=['days_since_first_update'])"
   ]
  },
  {
   "cell_type": "code",
   "execution_count": 120,
   "metadata": {},
   "outputs": [
    {
     "data": {
      "text/plain": [
       "1.0638404112213262"
      ]
     },
     "execution_count": 120,
     "metadata": {},
     "output_type": "execute_result"
    }
   ],
   "source": [
    "np.exp(result.params[0])\n",
    "# 6.4% increase in probability of update being MN-authored if it was authored 1-logday later"
   ]
  },
  {
   "cell_type": "code",
   "execution_count": 126,
   "metadata": {},
   "outputs": [
    {
     "data": {
      "text/plain": [
       "0.6931471805599453"
      ]
     },
     "execution_count": 126,
     "metadata": {},
     "output_type": "execute_result"
    }
   ],
   "source": [
    "np.log(2) - np.log(1)"
   ]
  },
  {
   "cell_type": "code",
   "execution_count": 127,
   "metadata": {},
   "outputs": [
    {
     "name": "stdout",
     "output_type": "stream",
     "text": [
      "Pearson's correlation coefficient=0.006 p=0.065 n=85804\n"
     ]
    }
   ],
   "source": [
    "from scipy.stats.stats import pearsonr\n",
    "coef, p = pearsonr(y, x)\n",
    "print(f\"Pearson's correlation coefficient={coef:.3f} p={p:.3f} n={len(x)}\")\n",
    "# not a very strong correlation,  but it is positive, in keeping with the coefficient"
   ]
  },
  {
   "cell_type": "markdown",
   "metadata": {},
   "source": [
    "### More consistency analysis"
   ]
  },
  {
   "cell_type": "code",
   "execution_count": 14,
   "metadata": {},
   "outputs": [
    {
     "name": "stderr",
     "output_type": "stream",
     "text": [
      "100%|██████████| 263330/263330 [04:25<00:00, 989.97it/s] \n"
     ]
    },
    {
     "data": {
      "text/plain": [
       "263330"
      ]
     },
     "execution_count": 14,
     "metadata": {},
     "output_type": "execute_result"
    }
   ],
   "source": [
    "users = []\n",
    "for user_id, group in tqdm(df.groupby('user_id', sort=False)):\n",
    "    if type(user_id) != int and user_id == 'None':\n",
    "        continue\n",
    "    u = {\n",
    "        'user_id': user_id,\n",
    "        'total_updates': len(group),\n",
    "        'total_geolinked_updates': np.sum(group.country != 'NOT_FOUND'),\n",
    "        'country_set': set(group.country),\n",
    "        'state_set': {s for s in set(group.state) if s==s},  # bit of magic to remove nans\n",
    "        'country_counts': Counter(group.country),\n",
    "        'state_counts': Counter(group.state)\n",
    "    }\n",
    "    \n",
    "    if 'NOT_FOUND' in u['country_set']:\n",
    "        u['country_set'].remove('NOT_FOUND')\n",
    "    if 'None' in u['state_set']:\n",
    "        u['state_set'].remove('None')\n",
    "    \n",
    "    users.append(u)\n",
    "user_df = pd.DataFrame(users)\n",
    "len(user_df)"
   ]
  },
  {
   "cell_type": "code",
   "execution_count": 38,
   "metadata": {},
   "outputs": [
    {
     "data": {
      "text/plain": [
       "0.9331067481866859"
      ]
     },
     "execution_count": 38,
     "metadata": {},
     "output_type": "execute_result"
    }
   ],
   "source": [
    "us_user_df = user_df[user_df.country_set.map(lambda country_set: 'US' in country_set and len(country_set) == 1)]\n",
    "len(us_user_df) / len(user_df)"
   ]
  },
  {
   "cell_type": "code",
   "execution_count": 39,
   "metadata": {},
   "outputs": [
    {
     "data": {
      "text/plain": [
       "0.4880328836253383"
      ]
     },
     "execution_count": 39,
     "metadata": {},
     "output_type": "execute_result"
    }
   ],
   "source": [
    "multistate_user_df = us_user_df[us_user_df.state_set.map(lambda state_set: len(state_set) > 1)]\n",
    "len(multistate_user_df) / len(us_user_df)"
   ]
  },
  {
   "cell_type": "code",
   "execution_count": 50,
   "metadata": {},
   "outputs": [
    {
     "data": {
      "image/png": "[encoded data removed]",
      "text/plain": [
       "<Figure size 432x288 with 1 Axes>"
      ]
     },
     "metadata": {
      "needs_background": "light"
     },
     "output_type": "display_data"
    }
   ],
   "source": [
    "# Proportion of most common state among multistate users\n",
    "props = []\n",
    "for total_geolinked_updates, state_counts in zip(multistate_user_df.total_geolinked_updates, multistate_user_df.state_counts):\n",
    "    most_common_state, most_common_state_count = \"\", 0\n",
    "    for state, count in state_counts.most_common():\n",
    "        if type(state) == str and len(state) == 2:\n",
    "            most_common_state = state\n",
    "            most_common_state_count = count\n",
    "            break\n",
    "    prop = most_common_state_count / total_geolinked_updates\n",
    "    props.append(prop)\n",
    "\n",
    "plt.hist(props)\n",
    "plt.xlabel(\"Proportion of most-common state among updates\")\n",
    "plt.ylabel(\"Multi-state user count\")\n",
    "plt.show()"
   ]
  },
  {
   "cell_type": "code",
   "execution_count": 55,
   "metadata": {},
   "outputs": [
    {
     "data": {
      "image/png": "[encoded data removed]",
      "text/plain": [
       "<Figure size 432x288 with 1 Axes>"
      ]
     },
     "metadata": {
      "needs_background": "light"
     },
     "output_type": "display_data"
    }
   ],
   "source": [
    "# Relationship between state proportion and total updates authored\n",
    "props = []\n",
    "for total_geolinked_updates, state_counts in zip(multistate_user_df.total_geolinked_updates, multistate_user_df.state_counts):\n",
    "    most_common_state, most_common_state_count = \"\", 0\n",
    "    for state, count in state_counts.most_common():\n",
    "        if type(state) == str and len(state) == 2:\n",
    "            most_common_state = state\n",
    "            most_common_state_count = count\n",
    "            break\n",
    "    prop = most_common_state_count / total_geolinked_updates\n",
    "    props.append((prop, total_geolinked_updates))\n",
    "\n",
    "props = np.array(props)\n",
    "plt.scatter(props[:,0], props[:,1], alpha=0.01)\n",
    "plt.yscale('log')\n",
    "plt.title(\"Relationship between proportion of most-common state among updates and total geolinked updates\")\n",
    "plt.ylabel(\"Number of geolinked updates\")\n",
    "plt.xlabel(\"Proportion of most-common state among updates\")\n",
    "plt.show()"
   ]
  },
  {
   "cell_type": "markdown",
   "metadata": {},
   "source": [
    "If there is any [weak] relationship between number of geolinked updates and the proportion of the most common state, it is that a single high-proportion state is MORE common as the number of updates increases."
   ]
  },
  {
   "cell_type": "code",
   "execution_count": 41,
   "metadata": {},
   "outputs": [
    {
     "name": "stderr",
     "output_type": "stream",
     "text": [
      "100%|██████████| 40/40 [00:13<00:00,  2.94it/s]\n"
     ]
    }
   ],
   "source": [
    "clear_state_assignment_counts = []\n",
    "thresholds = np.linspace(0.5, 1, num=40)\n",
    "for threshold in tqdm(thresholds):\n",
    "    single_state_above_threshold_count = 0\n",
    "    for total_geolinked_updates, state_counts in zip(multistate_user_df.total_geolinked_updates, multistate_user_df.state_counts):\n",
    "        most_common_state, most_common_state_count = \"\", 0\n",
    "        for state, count in state_counts.most_common():\n",
    "            if type(state) == str and len(state) == 2:\n",
    "                most_common_state = state\n",
    "                most_common_state_count = count\n",
    "                break\n",
    "        if most_common_state_count / total_geolinked_updates >= threshold:\n",
    "            single_state_above_threshold_count += 1\n",
    "    clear_state_assignment_counts.append(single_state_above_threshold_count)"
   ]
  },
  {
   "cell_type": "code",
   "execution_count": 42,
   "metadata": {},
   "outputs": [
    {
     "data": {
      "image/png": "[encoded data removed]",
      "text/plain": [
       "<Figure size 432x288 with 1 Axes>"
      ]
     },
     "metadata": {
      "needs_background": "light"
     },
     "output_type": "display_data"
    }
   ],
   "source": [
    "plt.plot(thresholds, np.array(clear_state_assignment_counts) / len(multistate_user_df))\n",
    "\n",
    "plt.title(\"Percent\")\n",
    "plt.show()"
   ]
  },
  {
   "cell_type": "code",
   "execution_count": 43,
   "metadata": {},
   "outputs": [
    {
     "data": {
      "text/plain": [
       "(0.7751419327269398, 190464)"
      ]
     },
     "execution_count": 43,
     "metadata": {},
     "output_type": "execute_result"
    }
   ],
   "source": [
    "# After assigning the most common >50% state as the single state assignment, \n",
    "# we are able to assign a single state only to 77.5% of users\n",
    "clear_state_assignment = clear_state_assignment_counts[0] + np.sum(us_user_df.state_set.map(lambda state_set: len(state_set) == 1))\n",
    "clear_state_assignment / len(us_user_df), clear_state_assignment"
   ]
  },
  {
   "cell_type": "markdown",
   "metadata": {},
   "source": [
    "## State assignments to users\n",
    "\n",
    "Each user is either not included in the analysis or assigned a single state."
   ]
  },
  {
   "cell_type": "code",
   "execution_count": 35,
   "metadata": {},
   "outputs": [
    {
     "data": {
      "text/html": [
       "<div>\n",
       "<style scoped>\n",
       "    .dataframe tbody tr th:only-of-type {\n",
       "        vertical-align: middle;\n",
       "    }\n",
       "\n",
       "    .dataframe tbody tr th {\n",
       "        vertical-align: top;\n",
       "    }\n",
       "\n",
       "    .dataframe thead th {\n",
       "        text-align: right;\n",
       "    }\n",
       "</style>\n",
       "<table border=\"1\" class=\"dataframe\">\n",
       "  <thead>\n",
       "    <tr style=\"text-align: right;\">\n",
       "      <th></th>\n",
       "      <th>user_id</th>\n",
       "      <th>total_updates</th>\n",
       "      <th>total_geolinked_updates</th>\n",
       "      <th>country_set</th>\n",
       "      <th>state_set</th>\n",
       "      <th>country_counts</th>\n",
       "      <th>state_counts</th>\n",
       "    </tr>\n",
       "  </thead>\n",
       "  <tbody>\n",
       "    <tr>\n",
       "      <td>0</td>\n",
       "      <td>322059</td>\n",
       "      <td>87</td>\n",
       "      <td>81</td>\n",
       "      <td>{US}</td>\n",
       "      <td>{MN, ND, CO, TX, MS, MO, ID, AZ}</td>\n",
       "      <td>{'NOT_FOUND': 6, 'US': 81}</td>\n",
       "      <td>{nan: 6, 'MO': 1, 'ID': 40, 'ND': 4, 'TX': 16,...</td>\n",
       "    </tr>\n",
       "    <tr>\n",
       "      <td>1</td>\n",
       "      <td>5968472</td>\n",
       "      <td>77</td>\n",
       "      <td>74</td>\n",
       "      <td>{US}</td>\n",
       "      <td>{FL, NY, CA}</td>\n",
       "      <td>{'US': 74, 'NOT_FOUND': 3}</td>\n",
       "      <td>{'NY': 64, nan: 3, 'None': 4, 'FL': 4, 'CA': 2}</td>\n",
       "    </tr>\n",
       "    <tr>\n",
       "      <td>2</td>\n",
       "      <td>21573557</td>\n",
       "      <td>15</td>\n",
       "      <td>14</td>\n",
       "      <td>{US}</td>\n",
       "      <td>{GA}</td>\n",
       "      <td>{'NOT_FOUND': 1, 'US': 14}</td>\n",
       "      <td>{nan: 1, 'None': 3, 'GA': 11}</td>\n",
       "    </tr>\n",
       "    <tr>\n",
       "      <td>3</td>\n",
       "      <td>20049997</td>\n",
       "      <td>41</td>\n",
       "      <td>41</td>\n",
       "      <td>{US}</td>\n",
       "      <td>{GA}</td>\n",
       "      <td>{'US': 41}</td>\n",
       "      <td>{'GA': 25, 'None': 16}</td>\n",
       "    </tr>\n",
       "    <tr>\n",
       "      <td>4</td>\n",
       "      <td>24353953</td>\n",
       "      <td>17</td>\n",
       "      <td>8</td>\n",
       "      <td>{US}</td>\n",
       "      <td>{IL}</td>\n",
       "      <td>{'US': 8, 'NOT_FOUND': 9}</td>\n",
       "      <td>{'IL': 8, nan: 9}</td>\n",
       "    </tr>\n",
       "  </tbody>\n",
       "</table>\n",
       "</div>"
      ],
      "text/plain": [
       "    user_id  total_updates  total_geolinked_updates country_set  \\\n",
       "0    322059             87                       81        {US}   \n",
       "1   5968472             77                       74        {US}   \n",
       "2  21573557             15                       14        {US}   \n",
       "3  20049997             41                       41        {US}   \n",
       "4  24353953             17                        8        {US}   \n",
       "\n",
       "                          state_set              country_counts  \\\n",
       "0  {MN, ND, CO, TX, MS, MO, ID, AZ}  {'NOT_FOUND': 6, 'US': 81}   \n",
       "1                      {FL, NY, CA}  {'US': 74, 'NOT_FOUND': 3}   \n",
       "2                              {GA}  {'NOT_FOUND': 1, 'US': 14}   \n",
       "3                              {GA}                  {'US': 41}   \n",
       "4                              {IL}   {'US': 8, 'NOT_FOUND': 9}   \n",
       "\n",
       "                                        state_counts  \n",
       "0  {nan: 6, 'MO': 1, 'ID': 40, 'ND': 4, 'TX': 16,...  \n",
       "1    {'NY': 64, nan: 3, 'None': 4, 'FL': 4, 'CA': 2}  \n",
       "2                      {nan: 1, 'None': 3, 'GA': 11}  \n",
       "3                             {'GA': 25, 'None': 16}  \n",
       "4                                  {'IL': 8, nan: 9}  "
      ]
     },
     "execution_count": 35,
     "metadata": {},
     "output_type": "execute_result"
    }
   ],
   "source": [
    "user_df.head()"
   ]
  },
  {
   "cell_type": "code",
   "execution_count": 53,
   "metadata": {},
   "outputs": [
    {
     "name": "stderr",
     "output_type": "stream",
     "text": [
      "100%|██████████| 263330/263330 [00:01<00:00, 134555.03it/s]\n"
     ]
    }
   ],
   "source": [
    "plurality_threshold = 0.2  # need at least 40% more in majority state than the next-closest state\n",
    "simple_majority_achieved_count = 0\n",
    "state_assignments = []\n",
    "for row in tqdm(user_df.itertuples(), total=len(user_df)):\n",
    "    state_assignment = \"None\"\n",
    "    if row.total_geolinked_updates < 10:\n",
    "        state_assignments.append(state_assignment)\n",
    "        continue\n",
    "    state_counts = row.state_counts\n",
    "    if len(state_counts) ==  1:\n",
    "        top_state, _ = state_counts.most_common(1)[0]\n",
    "        if type(top_state) == str:\n",
    "            state_assignment = top_state\n",
    "    else:  # at least two states\n",
    "        (top_state, top_count), (second_state, second_count) = state_counts.most_common(2)\n",
    "        required_separation = plurality_threshold * row.total_geolinked_updates\n",
    "        if top_count - required_separation > second_count:\n",
    "            state_assignment = top_state\n",
    "            if top_count / row.total_geolinked_updates >= 0.5:\n",
    "                simple_majority_achieved_count += 1\n",
    "    state_assignments.append(state_assignment)"
   ]
  },
  {
   "cell_type": "code",
   "execution_count": 65,
   "metadata": {},
   "outputs": [
    {
     "name": "stdout",
     "output_type": "stream",
     "text": [
      " None   144796  54.99\n",
      "   MN    16450  6.25\n",
      "   CA     7470  2.84\n",
      "   TX     7427  2.82\n",
      "   WI     5259  2.00\n",
      "   NY     5172  1.96\n",
      "   NC     4650  1.77\n",
      "   OH     4326  1.64\n",
      "   WA     4247  1.61\n",
      "   GA     3933  1.49\n"
     ]
    }
   ],
   "source": [
    "for state, count in Counter(state_assignments).most_common(10):\n",
    "    print(f\"{state:>5} {count:>8}  {count / len(state_assignments) * 100:6>.2f}\")"
   ]
  },
  {
   "cell_type": "code",
   "execution_count": 49,
   "metadata": {},
   "outputs": [],
   "source": [
    "user_df['state_assignment'] = state_assignments"
   ]
  },
  {
   "cell_type": "code",
   "execution_count": 57,
   "metadata": {},
   "outputs": [
    {
     "data": {
      "text/plain": [
       "0.4857403258269092"
      ]
     },
     "execution_count": 57,
     "metadata": {},
     "output_type": "execute_result"
    }
   ],
   "source": [
    "# % of users with an assignment that was the simple state majority\n",
    "simple_majority_achieved_count / len(user_df)"
   ]
  },
  {
   "cell_type": "code",
   "execution_count": 51,
   "metadata": {},
   "outputs": [
    {
     "data": {
      "text/plain": [
       "0.5498651881669389"
      ]
     },
     "execution_count": 51,
     "metadata": {},
     "output_type": "execute_result"
    }
   ],
   "source": [
    "# % of users not assigned states\n",
    "np.sum(user_df.state_assignment == 'None') / len(user_df)"
   ]
  },
  {
   "cell_type": "code",
   "execution_count": 62,
   "metadata": {},
   "outputs": [
    {
     "data": {
      "text/plain": [
       "0.45013481183306114"
      ]
     },
     "execution_count": 62,
     "metadata": {},
     "output_type": "execute_result"
    }
   ],
   "source": [
    "1 - (np.sum(user_df.state_assignment == 'None') / len(user_df))"
   ]
  },
  {
   "cell_type": "code",
   "execution_count": 52,
   "metadata": {},
   "outputs": [
    {
     "data": {
      "text/plain": [
       "0.39231096551264505"
      ]
     },
     "execution_count": 52,
     "metadata": {},
     "output_type": "execute_result"
    }
   ],
   "source": [
    "# % of users with greater than 10 geolinked updates not assigned states \n",
    "np.sum((user_df.state_assignment == 'None')&(user_df.total_geolinked_updates >= 10)) / np.sum(user_df.total_geolinked_updates >= 10)"
   ]
  },
  {
   "cell_type": "code",
   "execution_count": 67,
   "metadata": {},
   "outputs": [
    {
     "data": {
      "text/plain": [
       "0.6076890344873549"
      ]
     },
     "execution_count": 67,
     "metadata": {},
     "output_type": "execute_result"
    }
   ],
   "source": [
    "1 - (np.sum((user_df.state_assignment == 'None')&(user_df.total_geolinked_updates >= 10)) / np.sum(user_df.total_geolinked_updates >= 10))"
   ]
  },
  {
   "cell_type": "code",
   "execution_count": 66,
   "metadata": {},
   "outputs": [
    {
     "data": {
      "text/plain": [
       "0.740732161166597"
      ]
     },
     "execution_count": 66,
     "metadata": {},
     "output_type": "execute_result"
    }
   ],
   "source": [
    "np.sum(user_df.total_geolinked_updates >= 10) / len(user_df)"
   ]
  },
  {
   "cell_type": "code",
   "execution_count": 58,
   "metadata": {},
   "outputs": [
    {
     "data": {
      "text/html": [
       "<div>\n",
       "<style scoped>\n",
       "    .dataframe tbody tr th:only-of-type {\n",
       "        vertical-align: middle;\n",
       "    }\n",
       "\n",
       "    .dataframe tbody tr th {\n",
       "        vertical-align: top;\n",
       "    }\n",
       "\n",
       "    .dataframe thead th {\n",
       "        text-align: right;\n",
       "    }\n",
       "</style>\n",
       "<table border=\"1\" class=\"dataframe\">\n",
       "  <thead>\n",
       "    <tr style=\"text-align: right;\">\n",
       "      <th></th>\n",
       "      <th>user_id</th>\n",
       "      <th>total_updates</th>\n",
       "      <th>total_geolinked_updates</th>\n",
       "      <th>country_set</th>\n",
       "      <th>state_set</th>\n",
       "      <th>country_counts</th>\n",
       "      <th>state_counts</th>\n",
       "      <th>state_assignment</th>\n",
       "    </tr>\n",
       "  </thead>\n",
       "  <tbody>\n",
       "    <tr>\n",
       "      <td>0</td>\n",
       "      <td>322059</td>\n",
       "      <td>87</td>\n",
       "      <td>81</td>\n",
       "      <td>{US}</td>\n",
       "      <td>{MN, ND, CO, TX, MS, MO, ID, AZ}</td>\n",
       "      <td>{'NOT_FOUND': 6, 'US': 81}</td>\n",
       "      <td>{nan: 6, 'MO': 1, 'ID': 40, 'ND': 4, 'TX': 16,...</td>\n",
       "      <td>ID</td>\n",
       "    </tr>\n",
       "    <tr>\n",
       "      <td>1</td>\n",
       "      <td>5968472</td>\n",
       "      <td>77</td>\n",
       "      <td>74</td>\n",
       "      <td>{US}</td>\n",
       "      <td>{FL, NY, CA}</td>\n",
       "      <td>{'US': 74, 'NOT_FOUND': 3}</td>\n",
       "      <td>{'NY': 64, nan: 3, 'None': 4, 'FL': 4, 'CA': 2}</td>\n",
       "      <td>NY</td>\n",
       "    </tr>\n",
       "    <tr>\n",
       "      <td>2</td>\n",
       "      <td>21573557</td>\n",
       "      <td>15</td>\n",
       "      <td>14</td>\n",
       "      <td>{US}</td>\n",
       "      <td>{GA}</td>\n",
       "      <td>{'NOT_FOUND': 1, 'US': 14}</td>\n",
       "      <td>{nan: 1, 'None': 3, 'GA': 11}</td>\n",
       "      <td>GA</td>\n",
       "    </tr>\n",
       "    <tr>\n",
       "      <td>3</td>\n",
       "      <td>20049997</td>\n",
       "      <td>41</td>\n",
       "      <td>41</td>\n",
       "      <td>{US}</td>\n",
       "      <td>{GA}</td>\n",
       "      <td>{'US': 41}</td>\n",
       "      <td>{'GA': 25, 'None': 16}</td>\n",
       "      <td>GA</td>\n",
       "    </tr>\n",
       "    <tr>\n",
       "      <td>4</td>\n",
       "      <td>24353953</td>\n",
       "      <td>17</td>\n",
       "      <td>8</td>\n",
       "      <td>{US}</td>\n",
       "      <td>{IL}</td>\n",
       "      <td>{'US': 8, 'NOT_FOUND': 9}</td>\n",
       "      <td>{'IL': 8, nan: 9}</td>\n",
       "      <td>None</td>\n",
       "    </tr>\n",
       "  </tbody>\n",
       "</table>\n",
       "</div>"
      ],
      "text/plain": [
       "    user_id  total_updates  total_geolinked_updates country_set  \\\n",
       "0    322059             87                       81        {US}   \n",
       "1   5968472             77                       74        {US}   \n",
       "2  21573557             15                       14        {US}   \n",
       "3  20049997             41                       41        {US}   \n",
       "4  24353953             17                        8        {US}   \n",
       "\n",
       "                          state_set              country_counts  \\\n",
       "0  {MN, ND, CO, TX, MS, MO, ID, AZ}  {'NOT_FOUND': 6, 'US': 81}   \n",
       "1                      {FL, NY, CA}  {'US': 74, 'NOT_FOUND': 3}   \n",
       "2                              {GA}  {'NOT_FOUND': 1, 'US': 14}   \n",
       "3                              {GA}                  {'US': 41}   \n",
       "4                              {IL}   {'US': 8, 'NOT_FOUND': 9}   \n",
       "\n",
       "                                        state_counts state_assignment  \n",
       "0  {nan: 6, 'MO': 1, 'ID': 40, 'ND': 4, 'TX': 16,...               ID  \n",
       "1    {'NY': 64, nan: 3, 'None': 4, 'FL': 4, 'CA': 2}               NY  \n",
       "2                      {nan: 1, 'None': 3, 'GA': 11}               GA  \n",
       "3                             {'GA': 25, 'None': 16}               GA  \n",
       "4                                  {'IL': 8, nan: 9}             None  "
      ]
     },
     "execution_count": 58,
     "metadata": {},
     "output_type": "execute_result"
    }
   ],
   "source": [
    "user_df.head()"
   ]
  },
  {
   "cell_type": "code",
   "execution_count": 59,
   "metadata": {},
   "outputs": [],
   "source": [
    "# save the geo user dataframe\n",
    "geo_user_df_filename = \"geo_user_df.feather\"\n",
    "geo_user_df_filepath = os.path.join(working_dir, geo_user_df_filename)\n",
    "user_df[['user_id', 'total_updates', 'total_geolinked_updates', 'state_assignment']].to_feather(geo_user_df_filepath)"
   ]
  },
  {
   "cell_type": "code",
   "execution_count": 61,
   "metadata": {},
   "outputs": [
    {
     "data": {
      "text/plain": [
       "263330"
      ]
     },
     "execution_count": 61,
     "metadata": {},
     "output_type": "execute_result"
    }
   ],
   "source": [
    "# read in the geographic user assignments\n",
    "geo_user_df_filepath = \"/home/srivbane/shared/caringbridge/data/projects/sna-social-support/geo_data/geo_user_df.feather\"\n",
    "geo_user_df = pd.read_feather(geo_user_df_filepath)\n",
    "len(geo_user_df)"
   ]
  },
  {
   "cell_type": "markdown",
   "metadata": {},
   "source": [
    "#### % of US-based users"
   ]
  },
  {
   "cell_type": "code",
   "execution_count": 70,
   "metadata": {},
   "outputs": [
    {
     "data": {
      "text/plain": [
       "0.9331067481866859"
      ]
     },
     "execution_count": 70,
     "metadata": {},
     "output_type": "execute_result"
    }
   ],
   "source": [
    "np.sum(user_df.country_set == set(['US'])) / len(user_df)"
   ]
  },
  {
   "cell_type": "code",
   "execution_count": 72,
   "metadata": {},
   "outputs": [
    {
     "data": {
      "text/plain": [
       "0.9331067481866859"
      ]
     },
     "execution_count": 72,
     "metadata": {},
     "output_type": "execute_result"
    }
   ],
   "source": [
    "country_set_count = 0\n",
    "for country_set in user_df.country_set:\n",
    "    country_set -= set(['NOT_FOUND'])\n",
    "    if country_set == set(['US']):\n",
    "        country_set_count += 1\n",
    "country_set_count / len(user_df)"
   ]
  },
  {
   "cell_type": "code",
   "execution_count": null,
   "metadata": {},
   "outputs": [],
   "source": []
  }
 ],
 "metadata": {
  "kernelspec": {
   "display_name": "Python (shared-conda)",
   "language": "python",
   "name": "shared-conda"
  },
  "language_info": {
   "codemirror_mode": {
    "name": "ipython",
    "version": 3
   },
   "file_extension": ".py",
   "mimetype": "text/x-python",
   "name": "python",
   "nbconvert_exporter": "python",
   "pygments_lexer": "ipython3",
   "version": "3.7.3"
  }
 },
 "nbformat": 4,
 "nbformat_minor": 2
}
