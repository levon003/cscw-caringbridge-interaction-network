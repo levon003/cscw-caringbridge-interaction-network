{
 "cells": [
  {
   "cell_type": "markdown",
   "metadata": {},
   "source": [
    "# User-To-User Dyad Computation Demonstration"
   ]
  },
  {
   "cell_type": "markdown",
   "metadata": {},
   "source": [
    "This notebook demonstrates fast computation of **reciprocal relationships** with Pandas."
   ]
  },
  {
   "cell_type": "code",
   "execution_count": 1,
   "metadata": {},
   "outputs": [],
   "source": [
    "import os\n",
    "import pandas as pd\n",
    "import numpy as np\n",
    "\n",
    "from datetime import datetime\n",
    "import dateutil\n",
    "from collections import defaultdict, Counter\n",
    "\n",
    "\n",
    "import matplotlib.pyplot as plt\n",
    "import matplotlib\n",
    "import matplotlib.patches as patches\n",
    "import pylab as pl\n",
    "from tqdm import tqdm\n",
    "\n",
    "import networkx as nx\n",
    "\n",
    "metadata_dir = \"/home/lana/shared/caringbridge/data/projects/sna-social-support/user_metadata\"\n",
    "csv_dir = \"/home/lana/shared/caringbridge/data/projects/sna-social-support/csv_data\"\n",
    "h5_dir = \"/home/lana/shared/caringbridge/data/projects/sna-social-support/dyad_growth/h5\"\n",
    "working_dir = \"/home/lana/shared/caringbridge/data/projects/sna-social-support/dyad_growth\""
   ]
  },
  {
   "cell_type": "code",
   "execution_count": 2,
   "metadata": {},
   "outputs": [
    {
     "data": {
      "text/plain": [
       "'/panfs/roc/groups/3/srivbane/levon003/repos/sna-social-support/figures'"
      ]
     },
     "execution_count": 2,
     "metadata": {},
     "output_type": "execute_result"
    }
   ],
   "source": [
    "git_root_dir = !git rev-parse --show-toplevel\n",
    "git_root_dir = git_root_dir[0]\n",
    "figures_dir = os.path.join(git_root_dir, 'figures')\n",
    "figures_dir"
   ]
  },
  {
   "cell_type": "code",
   "execution_count": 3,
   "metadata": {},
   "outputs": [
    {
     "data": {
      "text/plain": [
       "362345"
      ]
     },
     "execution_count": 3,
     "metadata": {},
     "output_type": "execute_result"
    }
   ],
   "source": [
    "# load the list of valid users\n",
    "data_selection_working_dir = \"/home/lana/shared/caringbridge/data/projects/sna-social-support/data_selection\"\n",
    "valid_user_ids = set()\n",
    "with open(os.path.join(data_selection_working_dir, \"valid_user_ids.txt\"), 'r') as infile:\n",
    "    for line in infile:\n",
    "        user_id = line.strip()\n",
    "        if user_id == \"\":\n",
    "            continue\n",
    "        else:\n",
    "            valid_user_ids.add(int(user_id))\n",
    "len(valid_user_ids)"
   ]
  },
  {
   "cell_type": "code",
   "execution_count": 4,
   "metadata": {},
   "outputs": [
    {
     "data": {
      "text/html": [
       "<div>\n",
       "<style scoped>\n",
       "    .dataframe tbody tr th:only-of-type {\n",
       "        vertical-align: middle;\n",
       "    }\n",
       "\n",
       "    .dataframe tbody tr th {\n",
       "        vertical-align: top;\n",
       "    }\n",
       "\n",
       "    .dataframe thead th {\n",
       "        text-align: right;\n",
       "    }\n",
       "</style>\n",
       "<table border=\"1\" class=\"dataframe\">\n",
       "  <thead>\n",
       "    <tr style=\"text-align: right;\">\n",
       "      <th></th>\n",
       "      <th>user_id</th>\n",
       "      <th>site_id</th>\n",
       "      <th>int_type</th>\n",
       "      <th>created_at</th>\n",
       "      <th>updated_at</th>\n",
       "      <th>journal_oid</th>\n",
       "      <th>site_index</th>\n",
       "      <th>is_nontrivial</th>\n",
       "      <th>is_self_interaction</th>\n",
       "    </tr>\n",
       "  </thead>\n",
       "  <tbody>\n",
       "    <tr>\n",
       "      <th>10496956</th>\n",
       "      <td>0</td>\n",
       "      <td>44</td>\n",
       "      <td>journal</td>\n",
       "      <td>1275396300000</td>\n",
       "      <td>0</td>\n",
       "      <td>51bdf3e66ca0048f4e00df25</td>\n",
       "      <td>269.0</td>\n",
       "      <td>True</td>\n",
       "      <td>True</td>\n",
       "    </tr>\n",
       "    <tr>\n",
       "      <th>10496958</th>\n",
       "      <td>0</td>\n",
       "      <td>44</td>\n",
       "      <td>journal</td>\n",
       "      <td>1275587400000</td>\n",
       "      <td>0</td>\n",
       "      <td>51bdf3e66ca0048f4e00df29</td>\n",
       "      <td>271.0</td>\n",
       "      <td>True</td>\n",
       "      <td>True</td>\n",
       "    </tr>\n",
       "    <tr>\n",
       "      <th>10496960</th>\n",
       "      <td>0</td>\n",
       "      <td>44</td>\n",
       "      <td>journal</td>\n",
       "      <td>1276305480000</td>\n",
       "      <td>0</td>\n",
       "      <td>51bdf3e66ca0048f4e00df2b</td>\n",
       "      <td>273.0</td>\n",
       "      <td>True</td>\n",
       "      <td>True</td>\n",
       "    </tr>\n",
       "    <tr>\n",
       "      <th>10496962</th>\n",
       "      <td>0</td>\n",
       "      <td>44</td>\n",
       "      <td>journal</td>\n",
       "      <td>1277090160000</td>\n",
       "      <td>0</td>\n",
       "      <td>51bdf3e66ca0048f4e00df31</td>\n",
       "      <td>275.0</td>\n",
       "      <td>True</td>\n",
       "      <td>True</td>\n",
       "    </tr>\n",
       "    <tr>\n",
       "      <th>10496964</th>\n",
       "      <td>0</td>\n",
       "      <td>44</td>\n",
       "      <td>journal</td>\n",
       "      <td>1277522280000</td>\n",
       "      <td>0</td>\n",
       "      <td>51bdf3e66ca0048f4e00df35</td>\n",
       "      <td>277.0</td>\n",
       "      <td>True</td>\n",
       "      <td>True</td>\n",
       "    </tr>\n",
       "  </tbody>\n",
       "</table>\n",
       "</div>"
      ],
      "text/plain": [
       "          user_id  site_id int_type     created_at  updated_at  \\\n",
       "10496956        0       44  journal  1275396300000           0   \n",
       "10496958        0       44  journal  1275587400000           0   \n",
       "10496960        0       44  journal  1276305480000           0   \n",
       "10496962        0       44  journal  1277090160000           0   \n",
       "10496964        0       44  journal  1277522280000           0   \n",
       "\n",
       "                       journal_oid  site_index  is_nontrivial  \\\n",
       "10496956  51bdf3e66ca0048f4e00df25       269.0           True   \n",
       "10496958  51bdf3e66ca0048f4e00df29       271.0           True   \n",
       "10496960  51bdf3e66ca0048f4e00df2b       273.0           True   \n",
       "10496962  51bdf3e66ca0048f4e00df31       275.0           True   \n",
       "10496964  51bdf3e66ca0048f4e00df35       277.0           True   \n",
       "\n",
       "          is_self_interaction  \n",
       "10496956                 True  \n",
       "10496958                 True  \n",
       "10496960                 True  \n",
       "10496962                 True  \n",
       "10496964                 True  "
      ]
     },
     "execution_count": 4,
     "metadata": {},
     "output_type": "execute_result"
    }
   ],
   "source": [
    "author_to_site = os.path.join(metadata_dir, \"interaction_metadata.h5\")\n",
    "df = pd.read_hdf(author_to_site)\n",
    "sorted_df = df.sort_values(by=[\"user_id\", \"site_id\"])\n",
    "sorted_df.head()"
   ]
  },
  {
   "cell_type": "code",
   "execution_count": 5,
   "metadata": {},
   "outputs": [],
   "source": [
    "start_time = datetime.now()  # processing time is recorded for this whole notebook"
   ]
  },
  {
   "cell_type": "code",
   "execution_count": 6,
   "metadata": {},
   "outputs": [
    {
     "data": {
      "text/plain": [
       "16357805"
      ]
     },
     "execution_count": 6,
     "metadata": {},
     "output_type": "execute_result"
    }
   ],
   "source": [
    "journals = sorted_df[(sorted_df.user_id > 0)&(sorted_df.int_type == \"journal\")&(sorted_df.is_nontrivial)]\n",
    "len(journals)"
   ]
  },
  {
   "cell_type": "code",
   "execution_count": 7,
   "metadata": {},
   "outputs": [
    {
     "data": {
      "text/plain": [
       "9132345"
      ]
     },
     "execution_count": 7,
     "metadata": {},
     "output_type": "execute_result"
    }
   ],
   "source": [
    "ints = sorted_df[(sorted_df.user_id > 0) & (sorted_df.int_type != \"journal\") & (~sorted_df.is_self_interaction)]\n",
    "len(ints)"
   ]
  },
  {
   "cell_type": "code",
   "execution_count": 8,
   "metadata": {},
   "outputs": [
    {
     "name": "stderr",
     "output_type": "stream",
     "text": [
      "100%|██████████| 698157/698157 [00:01<00:00, 349826.23it/s]\n"
     ]
    }
   ],
   "source": [
    "first_author_df = journals.groupby(by=['site_id','user_id']).agg({'created_at': np.min})\n",
    "\n",
    "site_authors_dict = defaultdict(dict)\n",
    "for i, tup in tqdm(enumerate(zip(first_author_df.index, first_author_df.created_at)), total=len(first_author_df)):\n",
    "    ind, created_at = tup\n",
    "    site_id, user_id = ind\n",
    "    #created_at = x[i]['created_at']\n",
    "    authors_dict = site_authors_dict[site_id]\n",
    "    authors_dict[created_at] = user_id"
   ]
  },
  {
   "cell_type": "code",
   "execution_count": 9,
   "metadata": {},
   "outputs": [],
   "source": [
    "# the trick here is that we can do rapid lookups in the interactions using the guaranteed-unique index value\n",
    "# no real need for three different dictionaries here; we could just as easily create a single dictionary\n",
    "created_at_dict = {ind: created_at for ind, created_at in zip(ints.index, ints.created_at)}\n",
    "user_id_dict = {ind: user_id for ind, user_id in zip(ints.index, ints.user_id)}\n",
    "site_id_dict = {ind: site_id for ind, site_id in zip(ints.index, ints.site_id)}\n",
    "int_type_dict = {ind: int_type for ind, int_type in zip(ints.index, ints.int_type)}"
   ]
  },
  {
   "cell_type": "code",
   "execution_count": 10,
   "metadata": {},
   "outputs": [
    {
     "name": "stderr",
     "output_type": "stream",
     "text": [
      "100%|██████████| 9132345/9132345 [00:45<00:00, 200411.01it/s]\n"
     ]
    }
   ],
   "source": [
    "u2u = []\n",
    "for ind in tqdm(ints.index):  # looping through the index is much faster than e.g. iterrows()\n",
    "    site_id = site_id_dict[ind]\n",
    "    created_at = created_at_dict[ind]\n",
    "    user_id = user_id_dict[ind]\n",
    "    authors_dict = site_authors_dict[site_id]\n",
    "    int_type = int_type_dict[ind]\n",
    "    for created_at_key in authors_dict.keys():\n",
    "        if created_at_key <= created_at:\n",
    "            # this is a match!\n",
    "            tup = (user_id, authors_dict[created_at_key], created_at)\n",
    "            u2u.append(tup)"
   ]
  },
  {
   "cell_type": "code",
   "execution_count": 11,
   "metadata": {},
   "outputs": [
    {
     "data": {
      "text/plain": [
       "11424980"
      ]
     },
     "execution_count": 11,
     "metadata": {},
     "output_type": "execute_result"
    }
   ],
   "source": [
    "len(u2u)"
   ]
  },
  {
   "cell_type": "code",
   "execution_count": 12,
   "metadata": {},
   "outputs": [
    {
     "name": "stderr",
     "output_type": "stream",
     "text": [
      "100%|██████████| 9132345/9132345 [00:44<00:00, 206561.67it/s]\n"
     ]
    },
    {
     "data": {
      "text/plain": [
       "12367179"
      ]
     },
     "execution_count": 12,
     "metadata": {},
     "output_type": "execute_result"
    }
   ],
   "source": [
    "u2u_all = []\n",
    "for ind in tqdm(ints.index):  # looping through the index is much faster than e.g. iterrows()\n",
    "    site_id = site_id_dict[ind]\n",
    "    created_at = created_at_dict[ind]\n",
    "    user_id = user_id_dict[ind]\n",
    "    authors_dict = site_authors_dict[site_id]\n",
    "    int_type = int_type_dict[ind]\n",
    "    for created_at_key in authors_dict.keys():\n",
    "        # regardless of time, every author is considered a match!\n",
    "        tup = (user_id, authors_dict[created_at_key], created_at)\n",
    "        u2u_all.append(tup)\n",
    "len(u2u_all)"
   ]
  },
  {
   "cell_type": "code",
   "execution_count": 13,
   "metadata": {},
   "outputs": [
    {
     "data": {
      "text/plain": [
       "(942199, 4.512015132650129)"
      ]
     },
     "execution_count": 13,
     "metadata": {},
     "output_type": "execute_result"
    }
   ],
   "source": [
    "# compared to allowing all authors regardless of the time of posting, there are merely 1 million additional interactions created\n",
    "# this difference is, on average, 4.5 additional interactions per user, which is substantial\n",
    "# below, we investigate this in a more fine-grained way\n",
    "total_additional_links = len(u2u_all) - len(u2u)\n",
    "total_additional_links, total_additional_links / len(set(ints.user_id))"
   ]
  },
  {
   "cell_type": "code",
   "execution_count": 14,
   "metadata": {},
   "outputs": [],
   "source": [
    "del u2u_all"
   ]
  },
  {
   "cell_type": "code",
   "execution_count": 15,
   "metadata": {},
   "outputs": [
    {
     "name": "stderr",
     "output_type": "stream",
     "text": [
      "100%|██████████| 9132345/9132345 [03:25<00:00, 44422.38it/s]\n"
     ]
    }
   ],
   "source": [
    "tolerances = [\n",
    "    0,\n",
    "    1000 * 60,  # 1 minute\n",
    "    1000 * 60 * 60,  # 1 hour\n",
    "    1000 * 60 * 60 * 24,  # 1 day\n",
    "    1000 * 60 * 60 * 24 * 7,  # 1 week\n",
    "    1000 * 60 * 60 * 24 * 30,  # 1 month\n",
    "    1000 * 60 * 60 * 24 * 365,  # 1 year\n",
    "    1000 * 60 * 60 * 24 * 265 * 10,  # 1 decade (should be unlimited on this dataset)\n",
    "]\n",
    "tolerance_counts = np.zeros((len(tolerances),))\n",
    "for ind in tqdm(ints.index):\n",
    "    site_id = site_id_dict[ind]\n",
    "    created_at = created_at_dict[ind]\n",
    "    user_id = user_id_dict[ind]\n",
    "    authors_dict = site_authors_dict[site_id]\n",
    "    for created_at_key in authors_dict.keys():\n",
    "        for i, tolerance in enumerate(tolerances):\n",
    "            if created_at_key <= created_at + tolerance:\n",
    "                tolerance_counts[i] += 1"
   ]
  },
  {
   "cell_type": "code",
   "execution_count": 16,
   "metadata": {},
   "outputs": [
    {
     "name": "stderr",
     "output_type": "stream",
     "text": [
      "100%|██████████| 914602/914602 [00:22<00:00, 40185.71it/s]\n"
     ]
    }
   ],
   "source": [
    "subset_tolerance_counts = np.zeros((len(tolerances),))\n",
    "ints_subset = ints.sort_values(by='created_at', ascending=True).drop_duplicates(subset=['user_id', 'site_id'], keep='first')\n",
    "for ind in tqdm(ints_subset.index):\n",
    "    site_id = site_id_dict[ind]\n",
    "    created_at = created_at_dict[ind]\n",
    "    user_id = user_id_dict[ind]\n",
    "    authors_dict = site_authors_dict[site_id]\n",
    "    for created_at_key in authors_dict.keys():\n",
    "        for i, tolerance in enumerate(tolerances):\n",
    "            if created_at_key <= created_at + tolerance:\n",
    "                subset_tolerance_counts[i] += 1"
   ]
  },
  {
   "cell_type": "code",
   "execution_count": 17,
   "metadata": {},
   "outputs": [
    {
     "data": {
      "image/png": "[encoded data removed]",
      "text/plain": [
       "<Figure size 432x288 with 1 Axes>"
      ]
     },
     "metadata": {
      "needs_background": "light"
     },
     "output_type": "display_data"
    }
   ],
   "source": [
    "plt.bar(range(len(tolerances)), tolerance_counts - np.min(tolerance_counts))\n",
    "plt.xticks(range(len(tolerances)), [\"None\", \"1 min\", \"1 hour\", \"1 day\", \"1 week\", \"1 mo\", \"1 yr\", \"10 yrs\"])\n",
    "plt.title(f\"Number of user->user interactions in the network as connection tolerance grows\\nrelative to {int(tolerance_counts[0]):,} interactions in the no-tolerance network\")\n",
    "plt.xlabel(\"Temporal Tolerance\")\n",
    "plt.ylabel(\"Additional user-to-user interactions\\nat each tolerance level\")\n",
    "for x, y in zip(range(len(tolerances)), tolerance_counts - np.min(tolerance_counts)):\n",
    "    pct = y / tolerance_counts[0] * 100\n",
    "    plt.text(x, y, f'+{pct:.1f}%', horizontalalignment='center', verticalalignment='bottom')\n",
    "plt.show()"
   ]
  },
  {
   "cell_type": "code",
   "execution_count": 18,
   "metadata": {},
   "outputs": [
    {
     "data": {
      "image/png": "[encoded data removed]",
      "text/plain": [
       "<Figure size 432x288 with 1 Axes>"
      ]
     },
     "metadata": {
      "needs_background": "light"
     },
     "output_type": "display_data"
    }
   ],
   "source": [
    "plt.bar(range(len(tolerances)), subset_tolerance_counts - np.min(subset_tolerance_counts))\n",
    "plt.xticks(range(len(tolerances)), [\"None\", \"1 min\", \"1 hour\", \"1 day\", \"1 week\", \"1 mo\", \"1 yr\", \"10 yrs\"])\n",
    "plt.title(f\"Number of initiations in the network as connection tolerance grows\\nrelative to {int(subset_tolerance_counts[0]):,} edges in the no-tolerance network\")\n",
    "plt.xlabel(\"Temporal Tolerance\\n(time allowed between last interaction with a site\\nand the first update by an author)\")\n",
    "plt.ylabel(\"Additional user-to-user edges\\nat each tolerance level\")\n",
    "for x, y in zip(range(len(tolerances)), subset_tolerance_counts - np.min(subset_tolerance_counts)):\n",
    "    pct = y / subset_tolerance_counts[0] * 100\n",
    "    plt.text(x, y, f'+{pct:.1f}%', horizontalalignment='center', verticalalignment='bottom')\n",
    "plt.show()"
   ]
  },
  {
   "cell_type": "markdown",
   "metadata": {},
   "source": [
    "### Incorporating both types of threshold\n",
    "\n",
    " - Amount of time between interaction and the first update by that author (i.e. the tolerance explored above)\n",
    " - Number (or percentage) of updates on a site authored by that author\n",
    " \n",
    "See also: AuthorshipThresholdAnalysis"
   ]
  },
  {
   "cell_type": "code",
   "execution_count": 19,
   "metadata": {},
   "outputs": [
    {
     "data": {
      "text/plain": [
       "698157"
      ]
     },
     "execution_count": 19,
     "metadata": {},
     "output_type": "execute_result"
    }
   ],
   "source": [
    "journal_author_counts = journals.groupby(by=['site_id','user_id']).size()\n",
    "len(journal_author_counts)"
   ]
  },
  {
   "cell_type": "code",
   "execution_count": 20,
   "metadata": {
    "scrolled": true
   },
   "outputs": [
    {
     "data": {
      "text/plain": [
       "site_id  user_id\n",
       "1        1          187\n",
       "2        2           29\n",
       "4        4            1\n",
       "6        6           17\n",
       "10       12          15\n",
       "dtype: int64"
      ]
     },
     "execution_count": 20,
     "metadata": {},
     "output_type": "execute_result"
    }
   ],
   "source": [
    "# journal_author_counts is a series with a multi-index\n",
    "journal_author_counts.head()"
   ]
  },
  {
   "cell_type": "code",
   "execution_count": 21,
   "metadata": {},
   "outputs": [
    {
     "data": {
      "text/plain": [
       "site_id\n",
       "1     187\n",
       "2      29\n",
       "4       1\n",
       "6      17\n",
       "10     15\n",
       "dtype: int64"
      ]
     },
     "execution_count": 21,
     "metadata": {},
     "output_type": "execute_result"
    }
   ],
   "source": [
    "# this is the total number of journal updates on each site\n",
    "site_journal_counts = journals.groupby(by=['site_id']).size()\n",
    "site_journal_counts.head()"
   ]
  },
  {
   "cell_type": "code",
   "execution_count": 22,
   "metadata": {},
   "outputs": [],
   "source": [
    "# ... as a dictionary. key: site_id ->  total number of journal updates on that site\n",
    "site_journal_counts_dict = site_journal_counts.to_dict()"
   ]
  },
  {
   "cell_type": "code",
   "execution_count": 23,
   "metadata": {},
   "outputs": [
    {
     "name": "stderr",
     "output_type": "stream",
     "text": [
      "100%|██████████| 698157/698157 [00:02<00:00, 277349.95it/s]\n"
     ]
    }
   ],
   "source": [
    "site_author_counts_dict = defaultdict(dict)\n",
    "user_site_authorship_percentages = []\n",
    "for i, tup in tqdm(enumerate(zip(journal_author_counts.index, journal_author_counts)), total=len(journal_author_counts)):\n",
    "    ind, num_journals = tup\n",
    "    site_id, user_id = ind\n",
    "    author_counts_dict = site_author_counts_dict[site_id]\n",
    "    total_journals = site_journal_counts_dict[site_id]\n",
    "    percentile = num_journals / total_journals\n",
    "    user_site_authorship_percentages.append(percentile)\n",
    "    author_counts_dict[percentile] = user_id"
   ]
  },
  {
   "cell_type": "code",
   "execution_count": 23,
   "metadata": {},
   "outputs": [
    {
     "data": {
      "image/png": "[encoded data removed]",
      "text/plain": [
       "<Figure size 432x288 with 1 Axes>"
      ]
     },
     "metadata": {
      "needs_background": "light"
     },
     "output_type": "display_data"
    }
   ],
   "source": [
    "# this plot is a sanity check, showing that the vast majority of users author 100% of the journal updates on a site\n",
    "plt.hist(user_site_authorship_percentages, bins=50, log=True)\n",
    "plt.title(\"Distribution of user's 'percentage of journals authored on a site'\")\n",
    "plt.show()"
   ]
  },
  {
   "cell_type": "code",
   "execution_count": 24,
   "metadata": {},
   "outputs": [
    {
     "name": "stderr",
     "output_type": "stream",
     "text": [
      "100%|██████████| 9132345/9132345 [01:20<00:00, 113958.83it/s]\n"
     ]
    }
   ],
   "source": [
    "thresholds = [  # percentile thresholds \n",
    "    0,\n",
    "    0.1,\n",
    "    0.25,\n",
    "    0.5,\n",
    "    0.75,\n",
    "    0.9,\n",
    "    1.0\n",
    "]\n",
    "threshold_counts = np.zeros((len(thresholds),))\n",
    "\n",
    "for ind in tqdm(ints.index):\n",
    "    site_id = site_id_dict[ind]\n",
    "    created_at = created_at_dict[ind]\n",
    "    user_id = user_id_dict[ind]\n",
    "    author_counts_dict = site_author_counts_dict[site_id]\n",
    "    for percentile_key in author_counts_dict.keys():\n",
    "        for i, threshold in enumerate(thresholds):\n",
    "            if percentile_key >= threshold:\n",
    "                threshold_counts[i] += 1"
   ]
  },
  {
   "cell_type": "code",
   "execution_count": 25,
   "metadata": {},
   "outputs": [
    {
     "name": "stderr",
     "output_type": "stream",
     "text": [
      "100%|██████████| 914602/914602 [00:09<00:00, 92448.95it/s]\n"
     ]
    }
   ],
   "source": [
    "subset_threshold_counts = np.zeros((len(thresholds),))\n",
    "ints_subset = ints.sort_values(by='created_at', ascending=True).drop_duplicates(subset=['user_id', 'site_id'], keep='first')\n",
    "for ind in tqdm(ints_subset.index):\n",
    "    site_id = site_id_dict[ind]\n",
    "    created_at = created_at_dict[ind]\n",
    "    user_id = user_id_dict[ind]\n",
    "    author_counts_dict = site_author_counts_dict[site_id]\n",
    "    for percentile_key in author_counts_dict.keys():\n",
    "        for i, threshold in enumerate(thresholds):\n",
    "            if percentile_key >= threshold:\n",
    "                subset_threshold_counts[i] += 1"
   ]
  },
  {
   "cell_type": "code",
   "execution_count": 26,
   "metadata": {},
   "outputs": [
    {
     "data": {
      "image/png": "[encoded data removed]",
      "text/plain": [
       "<Figure size 432x288 with 1 Axes>"
      ]
     },
     "metadata": {
      "needs_background": "light"
     },
     "output_type": "display_data"
    }
   ],
   "source": [
    "plt.bar(range(len(thresholds)), threshold_counts - np.min(threshold_counts))\n",
    "plt.xticks(range(len(thresholds)), [\"Any\", \"10%+\", \"25%+\", \"50%+\", \"75%+\", \"90%+\", \"100%\"])\n",
    "plt.title(f\"Number of user->user interactions in the network as threshold requirement grows\\nrelative to {int(threshold_counts[0]):,} interactions in the 'any # of updates' network\")\n",
    "plt.xlabel(\"Authorship Threshold (Percentage of Site Updates)\")\n",
    "plt.ylabel(\"Additional user-to-user interactions\\nat each threshold\")\n",
    "for x, y in zip(range(len(thresholds)), threshold_counts - np.min(threshold_counts)):\n",
    "    pct = y / threshold_counts[0] * 100\n",
    "    plt.text(x, y, f'+{pct:.1f}%', horizontalalignment='center', verticalalignment='bottom')\n",
    "plt.show()"
   ]
  },
  {
   "cell_type": "code",
   "execution_count": 27,
   "metadata": {},
   "outputs": [
    {
     "data": {
      "image/png": "[encoded data removed]",
      "text/plain": [
       "<Figure size 432x288 with 1 Axes>"
      ]
     },
     "metadata": {
      "needs_background": "light"
     },
     "output_type": "display_data"
    }
   ],
   "source": [
    "plt.bar(range(len(thresholds)), subset_threshold_counts - np.min(subset_threshold_counts))\n",
    "plt.xticks(range(len(thresholds)), [\"Any\", \"10%+\", \"25%+\", \"50%+\", \"75%+\", \"90%+\", \"100%\"])\n",
    "plt.title(f\"Number of initiations in the network as threshold requirement grows\\nrelative to {int(subset_threshold_counts[0]):,} edges in the 'any # of updates' network\")\n",
    "plt.xlabel(\"Threshold\\n(% of site updates necessary to establish a link)\")\n",
    "plt.ylabel(\"Additional user-to-user edges\\nat each threshold\")\n",
    "for x, y in zip(range(len(thresholds)), subset_threshold_counts - np.min(subset_threshold_counts)):\n",
    "    pct = y / subset_threshold_counts[-1] * 100\n",
    "    plt.text(x, y, f'+{pct:.1f}%', horizontalalignment='center', verticalalignment='bottom')\n",
    "plt.show()"
   ]
  },
  {
   "cell_type": "markdown",
   "metadata": {},
   "source": [
    "#### Actually combining both types of threshold"
   ]
  },
  {
   "cell_type": "code",
   "execution_count": 28,
   "metadata": {},
   "outputs": [
    {
     "name": "stderr",
     "output_type": "stream",
     "text": [
      "100%|██████████| 698157/698157 [00:07<00:00, 95385.03it/s] \n"
     ]
    }
   ],
   "source": [
    "author_info_df = pd.merge(first_author_df, journal_author_counts.rename('num_journals'), left_index=True, right_index=True, validate='one_to_one')\n",
    "\n",
    "site_author_info_dict = defaultdict(dict)\n",
    "for i, tup in tqdm(enumerate(zip(author_info_df.index, author_info_df.created_at, author_info_df.num_journals)), total=len(author_info_df)):\n",
    "    ind, created_at, num_journals = tup\n",
    "    site_id, user_id = ind\n",
    "    author_info_dict = site_author_info_dict[site_id]\n",
    "    total_journals = site_journal_counts_dict[site_id]\n",
    "    percentile = num_journals / total_journals\n",
    "    tup_key = (created_at, percentile)\n",
    "    author_info_dict[tup_key] = user_id"
   ]
  },
  {
   "cell_type": "code",
   "execution_count": 29,
   "metadata": {},
   "outputs": [
    {
     "name": "stderr",
     "output_type": "stream",
     "text": [
      "100%|██████████| 914602/914602 [01:06<00:00, 13785.59it/s]\n"
     ]
    }
   ],
   "source": [
    "subset_counts = np.zeros((len(thresholds),len(tolerances)))\n",
    "ints_subset = ints.sort_values(by='created_at', ascending=True).drop_duplicates(subset=['user_id', 'site_id'], keep='first')\n",
    "for ind in tqdm(ints_subset.index):\n",
    "    site_id = site_id_dict[ind]\n",
    "    created_at = created_at_dict[ind]\n",
    "    user_id = user_id_dict[ind]\n",
    "    \n",
    "    author_info_dict = site_author_info_dict[site_id]\n",
    "    for created_at_key, percentile_key in author_info_dict.keys():\n",
    "        for i, threshold in enumerate(thresholds):\n",
    "            for j, tolerance in enumerate(tolerances):\n",
    "                if created_at_key <= created_at + tolerance and percentile_key >= threshold:\n",
    "                    subset_counts[i, j] += 1"
   ]
  },
  {
   "cell_type": "code",
   "execution_count": 30,
   "metadata": {},
   "outputs": [
    {
     "data": {
      "text/plain": [
       "array([[ 989687.,  989761.,  993154., 1026279., 1067173., 1097426.,\n",
       "        1129637., 1150570.],\n",
       "       [ 933688.,  933757.,  936959.,  967021.,  998633., 1017075.,\n",
       "        1030354., 1036223.],\n",
       "       [ 894708.,  894773.,  897780.,  924961.,  949396.,  961000.,\n",
       "         967802.,  970318.],\n",
       "       [ 849161.,  849221.,  851989.,  875879.,  893837.,  900517.,\n",
       "         903063.,  903595.],\n",
       "       [ 803212.,  803270.,  805789.,  826692.,  839625.,  843266.,\n",
       "         844367.,  844546.],\n",
       "       [ 763184.,  763236.,  765595.,  784188.,  794516.,  797036.,\n",
       "         797803.,  797938.],\n",
       "       [ 707415.,  707460.,  709574.,  726086.,  734808.,  736967.,\n",
       "         737674.,  737803.]])"
      ]
     },
     "execution_count": 30,
     "metadata": {},
     "output_type": "execute_result"
    }
   ],
   "source": [
    "subset_counts"
   ]
  },
  {
   "cell_type": "code",
   "execution_count": 31,
   "metadata": {},
   "outputs": [
    {
     "data": {
      "image/png": "[encoded data removed]",
      "text/plain": [
       "<Figure size 720x720 with 1 Axes>"
      ]
     },
     "metadata": {
      "needs_background": "light"
     },
     "output_type": "display_data"
    }
   ],
   "source": [
    "fig, ax = plt.subplots(1, 1, figsize=(10,10))\n",
    "ax.matshow(subset_counts - np.min(subset_counts), alpha=0.5)\n",
    "plt.xticks(range(len(tolerances)), [\"None\", \"1 min\", \"1 hour\", \"1 day\", \"1 week\", \"1 mo\", \"1 yr\", \"10 yrs\"])\n",
    "plt.yticks(range(len(thresholds)), [\"Any\", \"10%+\", \"25%+\", \"50%+\", \"75%+\", \"90%+\", \"100%\"])\n",
    "plt.xlabel(\"Temporal Tolerance\")\n",
    "plt.ylabel(\"Authorship Threshold\")\n",
    "for i in range(len(thresholds)):\n",
    "    for j in range(len(tolerances)):\n",
    "        count = subset_counts[i,j]\n",
    "        pct = (count - np.min(subset_counts)) / np.min(subset_counts) * 100\n",
    "        ax.text(j, i, f'+{pct:.1f}%', horizontalalignment='center', verticalalignment='bottom')\n",
    "        ax.text(j, i, f'{int(count / 1000):,}K', horizontalalignment='center', verticalalignment='top')\n",
    "rect = patches.Rectangle((6 - 0.5, 0 - 0.5), 1, 1, facecolor='none', edgecolor='black', linewidth=3)\n",
    "ax.add_patch(rect)\n",
    "plt.show()"
   ]
  },
  {
   "cell_type": "markdown",
   "metadata": {},
   "source": [
    "#### Compute patient authors for automatic inclusion"
   ]
  },
  {
   "cell_type": "code",
   "execution_count": 24,
   "metadata": {},
   "outputs": [
    {
     "name": "stdout",
     "output_type": "stream",
     "text": [
      "0:00:23.912896\n"
     ]
    },
    {
     "data": {
      "text/plain": [
       "15850052"
      ]
     },
     "execution_count": 24,
     "metadata": {},
     "output_type": "execute_result"
    }
   ],
   "source": [
    "# read the journal metadata with author type info added\n",
    "s = datetime.now()\n",
    "author_type_dir = \"/home/lana/shared/caringbridge/data/projects/sna-social-support/author_type\"\n",
    "journal_metadata_filepath = os.path.join(author_type_dir, \"journal_metadata_with_author_type.df\")\n",
    "journal_author_type_df = pd.read_feather(journal_metadata_filepath)\n",
    "print(datetime.now() - s)\n",
    "len(journal_author_type_df)"
   ]
  },
  {
   "cell_type": "code",
   "execution_count": 25,
   "metadata": {},
   "outputs": [],
   "source": [
    "# build dictionary of site_id -> set(patient user_ids on this site)\n",
    "site_patient_author_dict = \\\n",
    "journal_author_type_df[journal_author_type_df.predicted_label == 'p'].groupby('site_id').agg({\n",
    "    'user_id': lambda user_ids: set(user_ids)\n",
    "}).user_id.to_dict()\n",
    "# TODO consider a user_id to be a patient only if they have authored at least TWO patient-authored updates\n",
    "# right now we consider even a single update to be the interactor\n",
    "# this is very low priority, since most likely it won't matter very much"
   ]
  },
  {
   "cell_type": "code",
   "execution_count": null,
   "metadata": {},
   "outputs": [],
   "source": []
  },
  {
   "cell_type": "markdown",
   "metadata": {},
   "source": [
    "## Build the final set of u2u links based on the chosen hyperparameters"
   ]
  },
  {
   "cell_type": "code",
   "execution_count": 26,
   "metadata": {},
   "outputs": [
    {
     "name": "stderr",
     "output_type": "stream",
     "text": [
      "100%|██████████| 9132345/9132345 [01:07<00:00, 135477.38it/s]\n"
     ]
    }
   ],
   "source": [
    "u2u = []\n",
    "#tolerance = 1000 * 60 * 60 * 24 * 365  # 1 year\n",
    "tolerance = 0  # NO tolerance\n",
    "for ind in tqdm(ints.index):  # looping through the index is much faster than e.g. iterrows()\n",
    "    site_id = site_id_dict[ind]\n",
    "    created_at = created_at_dict[ind]\n",
    "    user_id = user_id_dict[ind]\n",
    "    int_type = int_type_dict[ind]\n",
    "    authors_dict = site_authors_dict[site_id]\n",
    "    matched_user_set = set()\n",
    "    for created_at_key in authors_dict.keys():\n",
    "        if created_at_key <= created_at + tolerance:\n",
    "            # this is a match!\n",
    "            target_user_id = authors_dict[created_at_key]\n",
    "            matched_user_set.add(target_user_id)\n",
    "            tup = (user_id, target_user_id, created_at, int_type)\n",
    "            u2u.append(tup)\n",
    "    if site_id in site_patient_author_dict:\n",
    "        patient_user_set = site_patient_author_dict[site_id]\n",
    "        for target_user_id in patient_user_set - matched_user_set:\n",
    "            # we consider any patient author to be a match\n",
    "            tup = (user_id, target_user_id, created_at, int_type)\n",
    "            u2u.append(tup)"
   ]
  },
  {
   "cell_type": "code",
   "execution_count": 27,
   "metadata": {},
   "outputs": [
    {
     "data": {
      "text/plain": [
       "14812407"
      ]
     },
     "execution_count": 27,
     "metadata": {},
     "output_type": "execute_result"
    }
   ],
   "source": [
    "len(u2u)"
   ]
  },
  {
   "cell_type": "code",
   "execution_count": 28,
   "metadata": {},
   "outputs": [
    {
     "name": "stderr",
     "output_type": "stream",
     "text": [
      "100%|██████████| 9132345/9132345 [00:50<00:00, 182106.76it/s]\n"
     ]
    }
   ],
   "source": [
    "# For comparison, what if we omit the special \"patient author\" edges?\n",
    "u2u_count = 0\n",
    "u2u_subset = []\n",
    "for ind in tqdm(ints.index):\n",
    "    site_id = site_id_dict[ind]\n",
    "    created_at = created_at_dict[ind]\n",
    "    user_id = user_id_dict[ind]\n",
    "    int_type = int_type_dict[ind]\n",
    "    authors_dict = site_authors_dict[site_id]\n",
    "    for created_at_key in authors_dict.keys():\n",
    "        if created_at_key <= created_at:\n",
    "            # this is a match!\n",
    "            target_user_id = authors_dict[created_at_key]\n",
    "            u2u_count += 1\n",
    "            u2u_subset.append((user_id, target_user_id, created_at, int_type))\n",
    "assert len(u2u_subset) == u2u_count"
   ]
  },
  {
   "cell_type": "code",
   "execution_count": 29,
   "metadata": {},
   "outputs": [
    {
     "data": {
      "text/plain": [
       "(11424980, 3387427, 0.22868849066866714)"
      ]
     },
     "execution_count": 29,
     "metadata": {},
     "output_type": "execute_result"
    }
   ],
   "source": [
    "# number of non-patient edges, number of special patient-author edges, percent of all edges that are special\n",
    "u2u_count, len(u2u) - u2u_count, (len(u2u) - u2u_count) / len(u2u)"
   ]
  },
  {
   "cell_type": "code",
   "execution_count": 30,
   "metadata": {},
   "outputs": [],
   "source": [
    "u2u_df = pd.DataFrame(u2u, columns=['from_user_id', 'to_user_id', 'created_at', 'int_type'])\n",
    "unique = u2u_df.drop_duplicates(subset=['from_user_id', 'to_user_id'], keep='first')"
   ]
  },
  {
   "cell_type": "code",
   "execution_count": 31,
   "metadata": {},
   "outputs": [],
   "source": [
    "u2u_df_nopatient = pd.DataFrame(u2u_subset, columns=['from_user_id', 'to_user_id', 'created_at', 'int_type'])\n",
    "unique_nopatient = u2u_df_nopatient.drop_duplicates(subset=['from_user_id', 'to_user_id'], keep='first')"
   ]
  },
  {
   "cell_type": "code",
   "execution_count": 32,
   "metadata": {},
   "outputs": [
    {
     "data": {
      "text/plain": [
       "(1144492, 1088392, 56100)"
      ]
     },
     "execution_count": 32,
     "metadata": {},
     "output_type": "execute_result"
    }
   ],
   "source": [
    "len(unique), len(unique_nopatient), len(unique) - len(unique_nopatient)"
   ]
  },
  {
   "cell_type": "code",
   "execution_count": 33,
   "metadata": {},
   "outputs": [
    {
     "data": {
      "text/plain": [
       "0.04901738063699877"
      ]
     },
     "execution_count": 33,
     "metadata": {},
     "output_type": "execute_result"
    }
   ],
   "source": [
    "(len(unique) - len(unique_nopatient)) / len(unique)"
   ]
  },
  {
   "cell_type": "code",
   "execution_count": 34,
   "metadata": {},
   "outputs": [],
   "source": [
    "# for the revisions, we lock in the initiations dataframe WITHOUT special patient-author edges\n",
    "# for comparison. This line should be deleted to restore normal functionality.\n",
    "\n",
    "#u2u = u2u_subset"
   ]
  },
  {
   "cell_type": "code",
   "execution_count": 35,
   "metadata": {},
   "outputs": [
    {
     "data": {
      "text/plain": [
       "14812407"
      ]
     },
     "execution_count": 35,
     "metadata": {},
     "output_type": "execute_result"
    }
   ],
   "source": [
    "len(u2u)"
   ]
  },
  {
   "cell_type": "markdown",
   "metadata": {},
   "source": [
    "## Reciprocal analysis"
   ]
  },
  {
   "cell_type": "code",
   "execution_count": 36,
   "metadata": {},
   "outputs": [
    {
     "data": {
      "text/plain": [
       "14812407"
      ]
     },
     "execution_count": 36,
     "metadata": {},
     "output_type": "execute_result"
    }
   ],
   "source": [
    "u2u_df = pd.DataFrame(u2u, columns=['from_user_id', 'to_user_id', 'created_at', 'int_type'])\n",
    "len(u2u_df)"
   ]
  },
  {
   "cell_type": "code",
   "execution_count": 37,
   "metadata": {},
   "outputs": [
    {
     "data": {
      "text/plain": [
       "1144492"
      ]
     },
     "execution_count": 37,
     "metadata": {},
     "output_type": "execute_result"
    }
   ],
   "source": [
    "# how many unique edges exist in the graph (at the futuremost possible time times)?\n",
    "u2u_df.groupby(by=['from_user_id', 'to_user_id']).ngroups"
   ]
  },
  {
   "cell_type": "code",
   "execution_count": 38,
   "metadata": {},
   "outputs": [
    {
     "data": {
      "text/plain": [
       "914602"
      ]
     },
     "execution_count": 38,
     "metadata": {},
     "output_type": "execute_result"
    }
   ],
   "source": [
    "# in comparison, how many unique edges exist in the graph linking only users to sites i.e. the ints?\n",
    "ints.groupby(by=['user_id', 'site_id']).ngroups"
   ]
  },
  {
   "cell_type": "code",
   "execution_count": 39,
   "metadata": {},
   "outputs": [],
   "source": [
    "# as expected, there are fewer user -> site links than there are user -> user links, since multiauthor sites exist"
   ]
  },
  {
   "cell_type": "code",
   "execution_count": 40,
   "metadata": {},
   "outputs": [
    {
     "data": {
      "text/html": [
       "<div>\n",
       "<style scoped>\n",
       "    .dataframe tbody tr th:only-of-type {\n",
       "        vertical-align: middle;\n",
       "    }\n",
       "\n",
       "    .dataframe tbody tr th {\n",
       "        vertical-align: top;\n",
       "    }\n",
       "\n",
       "    .dataframe thead th {\n",
       "        text-align: right;\n",
       "    }\n",
       "</style>\n",
       "<table border=\"1\" class=\"dataframe\">\n",
       "  <thead>\n",
       "    <tr style=\"text-align: right;\">\n",
       "      <th></th>\n",
       "      <th>from_user_id</th>\n",
       "      <th>to_user_id</th>\n",
       "      <th>created_at</th>\n",
       "      <th>int_type</th>\n",
       "    </tr>\n",
       "  </thead>\n",
       "  <tbody>\n",
       "    <tr>\n",
       "      <th>0</th>\n",
       "      <td>1</td>\n",
       "      <td>196238</td>\n",
       "      <td>1141566915000</td>\n",
       "      <td>guestbook</td>\n",
       "    </tr>\n",
       "    <tr>\n",
       "      <th>1</th>\n",
       "      <td>2</td>\n",
       "      <td>269744</td>\n",
       "      <td>1146502838000</td>\n",
       "      <td>guestbook</td>\n",
       "    </tr>\n",
       "    <tr>\n",
       "      <th>2</th>\n",
       "      <td>2</td>\n",
       "      <td>76800</td>\n",
       "      <td>1141824958000</td>\n",
       "      <td>guestbook</td>\n",
       "    </tr>\n",
       "    <tr>\n",
       "      <th>3</th>\n",
       "      <td>2</td>\n",
       "      <td>76800</td>\n",
       "      <td>1141826075000</td>\n",
       "      <td>guestbook</td>\n",
       "    </tr>\n",
       "    <tr>\n",
       "      <th>4</th>\n",
       "      <td>2</td>\n",
       "      <td>76800</td>\n",
       "      <td>1144118979000</td>\n",
       "      <td>guestbook</td>\n",
       "    </tr>\n",
       "    <tr>\n",
       "      <th>...</th>\n",
       "      <td>...</td>\n",
       "      <td>...</td>\n",
       "      <td>...</td>\n",
       "      <td>...</td>\n",
       "    </tr>\n",
       "    <tr>\n",
       "      <th>14812402</th>\n",
       "      <td>33537993</td>\n",
       "      <td>32380464</td>\n",
       "      <td>1502797198000</td>\n",
       "      <td>comment</td>\n",
       "    </tr>\n",
       "    <tr>\n",
       "      <th>14812403</th>\n",
       "      <td>33537993</td>\n",
       "      <td>33600838</td>\n",
       "      <td>1502797198000</td>\n",
       "      <td>comment</td>\n",
       "    </tr>\n",
       "    <tr>\n",
       "      <th>14812404</th>\n",
       "      <td>33537993</td>\n",
       "      <td>33601773</td>\n",
       "      <td>1502797198000</td>\n",
       "      <td>comment</td>\n",
       "    </tr>\n",
       "    <tr>\n",
       "      <th>14812405</th>\n",
       "      <td>33537993</td>\n",
       "      <td>33603282</td>\n",
       "      <td>1502797198000</td>\n",
       "      <td>comment</td>\n",
       "    </tr>\n",
       "    <tr>\n",
       "      <th>14812406</th>\n",
       "      <td>33537993</td>\n",
       "      <td>36562920</td>\n",
       "      <td>1507158785000</td>\n",
       "      <td>comment</td>\n",
       "    </tr>\n",
       "  </tbody>\n",
       "</table>\n",
       "<p>14812407 rows × 4 columns</p>\n",
       "</div>"
      ],
      "text/plain": [
       "          from_user_id  to_user_id     created_at   int_type\n",
       "0                    1      196238  1141566915000  guestbook\n",
       "1                    2      269744  1146502838000  guestbook\n",
       "2                    2       76800  1141824958000  guestbook\n",
       "3                    2       76800  1141826075000  guestbook\n",
       "4                    2       76800  1144118979000  guestbook\n",
       "...                ...         ...            ...        ...\n",
       "14812402      33537993    32380464  1502797198000    comment\n",
       "14812403      33537993    33600838  1502797198000    comment\n",
       "14812404      33537993    33601773  1502797198000    comment\n",
       "14812405      33537993    33603282  1502797198000    comment\n",
       "14812406      33537993    36562920  1507158785000    comment\n",
       "\n",
       "[14812407 rows x 4 columns]"
      ]
     },
     "execution_count": 40,
     "metadata": {},
     "output_type": "execute_result"
    }
   ],
   "source": [
    "u2u_df"
   ]
  },
  {
   "cell_type": "code",
   "execution_count": 41,
   "metadata": {},
   "outputs": [
    {
     "name": "stderr",
     "output_type": "stream",
     "text": [
      "100%|██████████| 1144492/1144492 [00:02<00:00, 409278.12it/s]\n"
     ]
    }
   ],
   "source": [
    "#how many of these user->user links are reciprocal?\n",
    "# notice this 'unique' dataframe is another way of determining the number of edges in the graph i.e. it does the same thing as groupby\n",
    "unique = u2u_df.drop_duplicates(subset=['from_user_id', 'to_user_id'], keep='first')\n",
    "\n",
    "unique_dict = {(from_user_id, to_user_id): (created_at, int_type) for from_user_id, to_user_id, created_at, int_type in zip(unique.from_user_id, unique.to_user_id, unique.created_at, unique.int_type)}\n",
    "\n",
    "reciprocal_count = 0\n",
    "nonreciprocal_count = 0\n",
    "for key in tqdm(unique_dict.keys()):\n",
    "    from_user_id, to_user_id = key\n",
    "    inverse_key = (to_user_id, from_user_id)\n",
    "    if inverse_key in unique_dict:\n",
    "        # to avoid double counting, we instead give a \"half\" count, \n",
    "        # so that with the inverse this will be considered a single relationship\n",
    "        reciprocal_count += 0.5\n",
    "    else:\n",
    "        nonreciprocal_count += 1"
   ]
  },
  {
   "cell_type": "code",
   "execution_count": 42,
   "metadata": {},
   "outputs": [
    {
     "name": "stderr",
     "output_type": "stream",
     "text": [
      "100%|██████████| 10136771/10136771 [00:35<00:00, 283707.62it/s]\n"
     ]
    }
   ],
   "source": [
    "unique = u2u_df.copy()\n",
    "\n",
    "unique_dict = {(from_user_id, to_user_id, created_at): int_type for from_user_id, to_user_id, created_at, int_type in zip(unique.from_user_id, unique.to_user_id, unique.created_at, unique.int_type)}\n",
    "user_dict = {(from_user_id, to_user_id): (created_at, int_type) for from_user_id, to_user_id, created_at, int_type in zip(unique.from_user_id, unique.to_user_id, unique.created_at, unique.int_type)}\n",
    "\n",
    "recips = []\n",
    "nonrecips = []\n",
    "for key in tqdm(unique_dict.keys()):\n",
    "    from_user_id, to_user_id, created_at = key\n",
    "    inverse_key = (to_user_id, from_user_id)\n",
    "    if inverse_key in user_dict:\n",
    "        recips.append((key[0], key[1], key[2], unique_dict[key]))\n",
    "        # to avoid double counting, we instead give a \"half\" count, \n",
    "        # so that with the inverse this will be considered a single relationship\n",
    "    else:\n",
    "        nonrecips.append((key[0], key[1], key[2], unique_dict[key]))"
   ]
  },
  {
   "cell_type": "code",
   "execution_count": 43,
   "metadata": {},
   "outputs": [
    {
     "data": {
      "text/plain": [
       "(125692.0, 893108)"
      ]
     },
     "execution_count": 43,
     "metadata": {},
     "output_type": "execute_result"
    }
   ],
   "source": [
    "reciprocal_count, nonreciprocal_count"
   ]
  },
  {
   "cell_type": "code",
   "execution_count": 44,
   "metadata": {},
   "outputs": [],
   "source": [
    "rec = pd.DataFrame(recips, columns=[\"from_user_id\", \"to_user_id\", \"created_at\", \"int_type\"])\n",
    "nonrec = pd.DataFrame(nonrecips, columns=[\"from_user_id\", \"to_user_id\", \"created_at\", \"int_type\"])"
   ]
  },
  {
   "cell_type": "code",
   "execution_count": 45,
   "metadata": {},
   "outputs": [],
   "source": [
    "rec.to_hdf(os.path.join(h5_dir, \"recips_nonreduced_inttype.h5\"), key=\"rec\")\n",
    "nonrec.to_hdf(os.path.join(h5_dir, \"nonrecips_nonreduced_inttype.h5\"), key=\"nonrec\")"
   ]
  },
  {
   "cell_type": "code",
   "execution_count": 46,
   "metadata": {},
   "outputs": [
    {
     "name": "stdout",
     "output_type": "stream",
     "text": [
      "12.34% of dyadic relationships (with at least one edge) are reciprocal.\n"
     ]
    }
   ],
   "source": [
    "int_type = int_type_dict[ind]\n",
    "print(f\"{reciprocal_count / (reciprocal_count + nonreciprocal_count) * 100:.2f}% of dyadic relationships (with at least one edge) are reciprocal.\")"
   ]
  },
  {
   "cell_type": "code",
   "execution_count": 47,
   "metadata": {},
   "outputs": [
    {
     "name": "stdout",
     "output_type": "stream",
     "text": [
      "0.0679% of all possible dyadic relationships exist. (In other words, the interaction network is very sparse.)\n"
     ]
    }
   ],
   "source": [
    "from scipy.special import comb\n",
    "print(f\"{len(unique) / comb(len(set(ints.user_id)), 2) * 100:.4f}% of all possible dyadic relationships exist. (In other words, the interaction network is very sparse.)\")"
   ]
  },
  {
   "cell_type": "code",
   "execution_count": 48,
   "metadata": {},
   "outputs": [],
   "source": [
    "u2u_df.to_hdf(os.path.join(h5_dir,\"revised_u2u.h5\"), key=\"u2u_df\")"
   ]
  },
  {
   "cell_type": "code",
   "execution_count": 49,
   "metadata": {},
   "outputs": [
    {
     "name": "stderr",
     "output_type": "stream",
     "text": [
      "/home/srivbane/shared/anaconda3/lib/python3.7/site-packages/pyarrow/feather.py:83: FutureWarning: The SparseDataFrame class is removed from pandas. Accessing it from the top-level namespace will also be removed in the next version\n",
      "  if isinstance(df, _pandas_api.pd.SparseDataFrame):\n"
     ]
    }
   ],
   "source": [
    "metadata_dir = \"/home/lana/shared/caringbridge/data/projects/sna-social-support/user_metadata\"\n",
    "u2u_df.to_feather(os.path.join(metadata_dir,\"u2u_df.feather\"))"
   ]
  },
  {
   "cell_type": "code",
   "execution_count": 50,
   "metadata": {},
   "outputs": [
    {
     "data": {
      "text/plain": [
       "14812407"
      ]
     },
     "execution_count": 50,
     "metadata": {},
     "output_type": "execute_result"
    }
   ],
   "source": [
    "# read the user->user interactions dataframe\n",
    "metadata_dir = \"/home/lana/shared/caringbridge/data/projects/sna-social-support/user_metadata\"\n",
    "u2u_df = pd.read_feather(os.path.join(metadata_dir,\"u2u_df.feather\"))\n",
    "len(u2u_df)"
   ]
  },
  {
   "cell_type": "code",
   "execution_count": 51,
   "metadata": {},
   "outputs": [
    {
     "data": {
      "text/plain": [
       "1144492"
      ]
     },
     "execution_count": 51,
     "metadata": {},
     "output_type": "execute_result"
    }
   ],
   "source": [
    "unique = u2u_df.sort_values(by='created_at', ascending=True).drop_duplicates(subset=['from_user_id', 'to_user_id'], keep='first')\n",
    "len(unique)"
   ]
  },
  {
   "cell_type": "markdown",
   "metadata": {},
   "source": [
    "## Network construction\n",
    "\n",
    "We aim to compute the proportion of initiations over time that are one of the following types of initiation (from Gallagher et al. 2019):\n",
    "\n",
    "1. Joining Component - An initiation connecting a single author to any weakly-connected subnetwork with more two individuals already connected.\n",
    "2. Bridging Components - An initiation connecting two components (weakly-connected subnetworks with 2+ authors)\n",
    "3. Joining Isolates - An initiation that connects two unconnected authors.\n",
    "4. Intra Component - An initation connecting two individuals who were already both a part of the same network component.\n"
   ]
  },
  {
   "cell_type": "code",
   "execution_count": 52,
   "metadata": {},
   "outputs": [
    {
     "data": {
      "text/plain": [
       "(207544, 262880)"
      ]
     },
     "execution_count": 52,
     "metadata": {},
     "output_type": "execute_result"
    }
   ],
   "source": [
    "len(set(unique.from_user_id)), len(set(unique.to_user_id))"
   ]
  },
  {
   "cell_type": "code",
   "execution_count": 53,
   "metadata": {},
   "outputs": [
    {
     "data": {
      "text/plain": [
       "1144492"
      ]
     },
     "execution_count": 53,
     "metadata": {},
     "output_type": "execute_result"
    }
   ],
   "source": [
    "initiations_df = unique.sort_values(by='created_at', ascending=True)\n",
    "len(initiations_df)"
   ]
  },
  {
   "cell_type": "code",
   "execution_count": 54,
   "metadata": {},
   "outputs": [
    {
     "data": {
      "text/plain": [
       "322223"
      ]
     },
     "execution_count": 54,
     "metadata": {},
     "output_type": "execute_result"
    }
   ],
   "source": [
    "user_set = set(unique.from_user_id) | set(unique.to_user_id)\n",
    "len(user_set)"
   ]
  },
  {
   "cell_type": "code",
   "execution_count": 55,
   "metadata": {},
   "outputs": [
    {
     "data": {
      "text/plain": [
       "(datetime.datetime(2004, 11, 23, 6, 37), 1101191820000)"
      ]
     },
     "execution_count": 55,
     "metadata": {},
     "output_type": "execute_result"
    }
   ],
   "source": [
    "earliest_timestamp = np.min(initiations_df.created_at)\n",
    "earliest_date = datetime.utcfromtimestamp(earliest_timestamp / 1000)\n",
    "earliest_date, earliest_timestamp"
   ]
  },
  {
   "cell_type": "code",
   "execution_count": 56,
   "metadata": {},
   "outputs": [
    {
     "data": {
      "text/plain": [
       "(datetime.datetime(2005, 1, 1, 0, 0), 1104559200000)"
      ]
     },
     "execution_count": 56,
     "metadata": {},
     "output_type": "execute_result"
    }
   ],
   "source": [
    "start_date = datetime.fromisoformat('2005-01-01')\n",
    "start_timestamp = int(start_date.timestamp() * 1000)\n",
    "start_date, start_timestamp"
   ]
  },
  {
   "cell_type": "code",
   "execution_count": 57,
   "metadata": {},
   "outputs": [
    {
     "data": {
      "text/plain": [
       "(datetime.datetime(2016, 6, 1, 0, 0), 1464757200000)"
      ]
     },
     "execution_count": 57,
     "metadata": {},
     "output_type": "execute_result"
    }
   ],
   "source": [
    "end_date = datetime.fromisoformat('2016-06-01')\n",
    "end_timestamp = int(end_date.timestamp() * 1000)\n",
    "end_date, end_timestamp"
   ]
  },
  {
   "cell_type": "code",
   "execution_count": 58,
   "metadata": {},
   "outputs": [],
   "source": [
    "subset_start_timestamp = datetime.fromisoformat('2014-01-01').timestamp() * 1000\n",
    "subset_end_timestamp = datetime.fromisoformat('2016-01-01').timestamp() * 1000"
   ]
  },
  {
   "cell_type": "code",
   "execution_count": 59,
   "metadata": {},
   "outputs": [
    {
     "data": {
      "image/png": "[encoded data removed]",
      "text/plain": [
       "<Figure size 864x144 with 1 Axes>"
      ]
     },
     "metadata": {
      "needs_background": "light"
     },
     "output_type": "display_data"
    }
   ],
   "source": [
    "fig, ax = plt.subplots(1, 1, figsize=(12,2))\n",
    "\n",
    "bins = []\n",
    "bins.append(start_date.timestamp() * 1000)\n",
    "year = 2005\n",
    "month = 1\n",
    "while year != 2016 or month != 6:\n",
    "    if month == 12:\n",
    "        year += 1\n",
    "        month = 1\n",
    "    else:\n",
    "        month += 1\n",
    "    bins.append(datetime.fromisoformat(f\"{year}-{month:02}-01\").timestamp() * 1000)\n",
    "\n",
    "hist, bin_edges = np.histogram(initiations_df.created_at, bins=bins)\n",
    "plt.plot(bin_edges[:-1], hist, linestyle='-', linewidth=1, label='Initiations')\n",
    "#plt.scatter(bin_edges[:-1], hist, color='black', marker='.', s=2)\n",
    "\n",
    "hist, bin_edges = np.histogram(u2u_df.created_at, bins=bins)\n",
    "plt.plot(bin_edges[:-1], hist, linestyle='-', linewidth=1, label='Interactions')\n",
    "#plt.scatter(bin_edges[:-1], hist, color='black', marker='.', s=2)\n",
    "\n",
    "hist, bin_edges = np.histogram(journals.created_at, bins=bins)\n",
    "plt.plot(bin_edges[:-1], hist, linestyle='-', linewidth=1, label='Journal Updates')\n",
    "#plt.scatter(bin_edges[:-1], hist, color='black', marker='.', s=2)\n",
    "\n",
    "plt.legend(ncol=4, frameon=False, loc=8)\n",
    "plt.yscale('log')\n",
    "plt.ylabel(\"Counts\")\n",
    "\n",
    "newline = '\\n'\n",
    "xticks = [datetime.fromisoformat(f\"{2005 + i // 2}-{'01' if i % 2 == 0 else '07'}-01\").timestamp() * 1000 for i in range((2016 - 2005) * 2 + 2)]\n",
    "plt.xticks(\n",
    "    xticks, \n",
    "    [f\"{newline if i%2 == 0 else ''}{datetime.utcfromtimestamp(be / 1000).strftime('%Y-%m')}\" for i, be in enumerate(xticks)])\n",
    "plt.show()"
   ]
  },
  {
   "cell_type": "code",
   "execution_count": 98,
   "metadata": {},
   "outputs": [
    {
     "data": {
      "image/png": "[encoded data removed]",
      "text/plain": [
       "<Figure size 576x144 with 1 Axes>"
      ]
     },
     "metadata": {
      "needs_background": "light"
     },
     "output_type": "display_data"
    }
   ],
   "source": [
    "fig, ax = plt.subplots(1, 1, figsize=(8,2)) #5.47807\n",
    "\n",
    "bins = []\n",
    "bins.append(start_date.timestamp() * 1000)\n",
    "year = 2005\n",
    "month = 1\n",
    "while year != 2016 or month != 6:\n",
    "    if month == 12:\n",
    "        year += 1\n",
    "        month = 1\n",
    "    else:\n",
    "        month += 1\n",
    "    bins.append(datetime.fromisoformat(f\"{year}-{month:02}-01\").timestamp() * 1000)\n",
    "\n",
    "#hist, bin_edges = np.histogram(u2u_df.created_at, bins=bins)\n",
    "#plt.plot(bin_edges[:-1], hist, linestyle='-', linewidth=1, label='User->User Interactions')\n",
    "\n",
    "#hist, bin_edges = np.histogram(ints.created_at, bins=bins)\n",
    "#plt.plot(bin_edges[:-1], hist, linestyle='-', linewidth=2, label='All Interactions')\n",
    "#plt.scatter(bin_edges[:-1], hist, color='black', marker='.', s=2)\n",
    "\n",
    "hist, bin_edges = np.histogram(ints[ints.int_type == 'guestbook'].created_at, bins=bins)\n",
    "plt.plot(bin_edges[:-1], hist, linestyle='-', linewidth=1, label='Guestbooks')\n",
    "\n",
    "hist, bin_edges = np.histogram(ints[ints.int_type == 'amps'].created_at, bins=bins)\n",
    "plt.plot(bin_edges[:-1], hist, linestyle='-', linewidth=1, label='Amps')\n",
    "\n",
    "hist, bin_edges = np.histogram(ints[ints.int_type == 'comment'].created_at, bins=bins)\n",
    "hist[-34] = 0  # slightly cheating here, but there are 5 test comments before the feature launch that we exclude\n",
    "plt.plot(bin_edges[:-1], hist, linestyle='-', linewidth=1, label='Comments')\n",
    "\n",
    "plt.axvline(subset_start_timestamp, color='black', alpha=0.8, linestyle='--', linewidth=1)\n",
    "\n",
    "plt.legend(ncol=4, frameon=False, loc=8)\n",
    "plt.yscale('log')\n",
    "\n",
    "#plt.title(\"Number of author interactions over time\")\n",
    "#plt.xlabel(\"Date\")\n",
    "plt.ylabel(\"Interaction count\")\n",
    "\n",
    "newline = '\\n'\n",
    "xticks = [datetime.fromisoformat(f\"{2005 + i}-01-01\").timestamp() * 1000 for i in range((2016 - 2005) + 2)]\n",
    "#xticks = [datetime.fromisoformat(f\"{2005 + i // 2}-{'01' if i % 2 == 0 else '07'}-01\").timestamp() * 1000 for i in range((2016 - 2005) * 2 + 2)]\n",
    "plt.xticks(\n",
    "    xticks, \n",
    "    [f\"{datetime.utcfromtimestamp(be / 1000).strftime('%Y')}\" for i, be in enumerate(xticks)])\n",
    "\n",
    "#xticks = [datetime.fromisoformat(f\"{2005 + i // 2}-{'01' if i % 2 == 0 else '07'}-01\").timestamp() * 1000 for i in range((2016 - 2005) * 2 + 2)]\n",
    "#plt.xticks(\n",
    "#    xticks, \n",
    "#    [f\"{newline if i%2 == 0 else ''}{datetime.utcfromtimestamp(be / 1000).strftime('%Y-%m')}\" for i, be in enumerate(xticks)])\n",
    "\n",
    "plt.tight_layout(pad=0)\n",
    "plt.margins(0,0)\n",
    "plt.savefig(os.path.join(figures_dir, 'interaction_counts_over_time.pdf'), dpi=180, pad_inches=0)\n",
    "\n",
    "plt.show()"
   ]
  },
  {
   "cell_type": "code",
   "execution_count": 61,
   "metadata": {},
   "outputs": [],
   "source": [
    "# one possible conclusion from the above plots:\n",
    "# we should probably only be analyzing 2014/01-2016/06! 2.5 years of relative normalacy"
   ]
  },
  {
   "cell_type": "markdown",
   "metadata": {},
   "source": [
    "#### Amps analysis"
   ]
  },
  {
   "cell_type": "code",
   "execution_count": 62,
   "metadata": {},
   "outputs": [
    {
     "data": {
      "text/plain": [
       "array([     0,      0,      0,      0,      0,      4,      2,     18,\n",
       "            4,      2,      0,      1,      1,      0,     10,      0,\n",
       "            6,     43,      4,      0,      0,      3,      4,      2,\n",
       "            1,      6,      5,      5,      7,      9,      5,      7,\n",
       "           36,     48,     24,     28,     31,     31,     44,     45,\n",
       "           46,     55,     29,     70,     88,     37,     53,     72,\n",
       "           63,     46,     56,     52,     39,     31,     64,     71,\n",
       "           86,     63,     57,     94,     73,     60,    101,     93,\n",
       "          108,     91,     99,    124,    111,     90,     93,     90,\n",
       "          101,    115,    163,    136,    122,    124,    157,    143,\n",
       "          157,    171,    163,    223,    335,    266,    303,    494,\n",
       "         3694,  46014,  61604,  79361,  70534,  83062,  81557,  90376,\n",
       "       114181, 118839, 138376, 147834, 172165, 104104,  37352,  40176,\n",
       "        40549,  36913,  37039,  38208,  43150,  39794,  43788,  40506,\n",
       "        33609,  30875,  30829,  30871,  31316,  29549,  27420,  27024,\n",
       "        29751,  27999,  28554,  27287,  25413,  24534,  22806,  24026,\n",
       "        22644,  22554,  20982,  19808,  22827,  22570,  24252,  23590,\n",
       "        22089])"
      ]
     },
     "execution_count": 62,
     "metadata": {},
     "output_type": "execute_result"
    }
   ],
   "source": [
    "# amps analysis\n",
    "hist, bin_edges = np.histogram(ints[ints.int_type == 'amps'].created_at, bins=bins)\n",
    "hist"
   ]
  },
  {
   "cell_type": "code",
   "execution_count": 63,
   "metadata": {},
   "outputs": [],
   "source": [
    "amps_start = datetime.fromisoformat('2012-05-01').timestamp() * 1000\n",
    "amps_end = datetime.fromisoformat('2012-06-15').timestamp() * 1000\n",
    "bins = np.linspace(amps_start, amps_end, num=50)\n",
    "hist, bin_edges = np.histogram(ints[ints.int_type == 'amps'].created_at, bins=bins)"
   ]
  },
  {
   "cell_type": "code",
   "execution_count": 64,
   "metadata": {},
   "outputs": [
    {
     "data": {
      "text/plain": [
       "array([  28,   15,   22,   22,   20,   14,   19,   24,   40,   29,   41,\n",
       "         44,   15,   32,   32,   36,   44,   45,   48,   30,   29,   27,\n",
       "         48,   57,   62,   74,   97,   41,   55,   51,   90,  239,  430,\n",
       "       1853, 1406, 1100, 1134, 1167, 1203, 1354, 1133, 1171,  916,  829,\n",
       "       1143, 1426, 1568, 1347, 1922])"
      ]
     },
     "execution_count": 64,
     "metadata": {},
     "output_type": "execute_result"
    }
   ],
   "source": [
    "hist"
   ]
  },
  {
   "cell_type": "code",
   "execution_count": 65,
   "metadata": {},
   "outputs": [
    {
     "data": {
      "text/plain": [
       "(1853,\n",
       " datetime.datetime(2012, 5, 31, 12, 20, 48, 979000),\n",
       " datetime.datetime(2012, 6, 1, 10, 23, 15, 918000))"
      ]
     },
     "execution_count": 65,
     "metadata": {},
     "output_type": "execute_result"
    }
   ],
   "source": [
    "hist[33], datetime.utcfromtimestamp(int(bin_edges[33]) / 1000), datetime.utcfromtimestamp(int(bin_edges[34]) / 1000)"
   ]
  },
  {
   "cell_type": "code",
   "execution_count": 66,
   "metadata": {},
   "outputs": [
    {
     "data": {
      "text/plain": [
       "9612"
      ]
     },
     "execution_count": 66,
     "metadata": {},
     "output_type": "execute_result"
    }
   ],
   "source": [
    "hypothesized_amps_launch = datetime.fromisoformat('2012-06-01').timestamp() * 1000\n",
    "total_prelaunch_amps = np.sum(ints[ints.int_type == 'amps'].created_at < hypothesized_amps_launch)\n",
    "total_prelaunch_amps"
   ]
  },
  {
   "cell_type": "code",
   "execution_count": 67,
   "metadata": {
    "scrolled": true
   },
   "outputs": [
    {
     "name": "stdout",
     "output_type": "stream",
     "text": [
      "Approximately 0.32% of amps occur before the launch of the amps feature.\n"
     ]
    }
   ],
   "source": [
    "print(f\"Approximately {total_prelaunch_amps / len(ints[ints.int_type == 'amps'])*100:.2f}% of amps occur before the launch of the amps feature.\")"
   ]
  },
  {
   "cell_type": "code",
   "execution_count": 68,
   "metadata": {},
   "outputs": [],
   "source": [
    "amps = ints[ints.int_type == 'amps']"
   ]
  },
  {
   "cell_type": "code",
   "execution_count": 69,
   "metadata": {},
   "outputs": [
    {
     "data": {
      "text/plain": [
       "(6823, 2789, 9269)"
      ]
     },
     "execution_count": 69,
     "metadata": {},
     "output_type": "execute_result"
    }
   ],
   "source": [
    "week1 = 1000 * 60 * 60 * 24 * 7\n",
    "week_before_amps_launch = hypothesized_amps_launch - week1\n",
    "week_after_amps_launch = hypothesized_amps_launch + week1\n",
    "all_before = np.sum(amps.created_at < week_before_amps_launch)\n",
    "week_before_amp_count = np.sum((amps.created_at < hypothesized_amps_launch)&(amps.created_at > week_before_amps_launch))\n",
    "week_after_amp_count = np.sum((amps.created_at > hypothesized_amps_launch)&(amps.created_at < week_after_amps_launch))\n",
    "all_before, week_before_amp_count, week_after_amp_count\n",
    "# more amps occurred on updates published in the first week after the feature launch\n",
    "# than every pre-launch update\n",
    "# this provides evidence that "
   ]
  },
  {
   "cell_type": "code",
   "execution_count": 70,
   "metadata": {},
   "outputs": [
    {
     "data": {
      "text/plain": [
       "0.23129872283960856"
      ]
     },
     "execution_count": 70,
     "metadata": {},
     "output_type": "execute_result"
    }
   ],
   "source": [
    "# in the two weeks around the launch, 23% of the amps occurred before the launch\n",
    "week_before_amp_count / (week_before_amp_count + week_after_amp_count)"
   ]
  },
  {
   "cell_type": "markdown",
   "metadata": {},
   "source": [
    "### Build and classify network initiations\n",
    "\n"
   ]
  },
  {
   "cell_type": "code",
   "execution_count": 71,
   "metadata": {},
   "outputs": [],
   "source": [
    "# This graph implementation tracks only weakly-connected components, and doesn't specifically keep track\n",
    "# of edges.\n",
    "\n",
    "class Graph:\n",
    "    def __init__(self, node_uids):\n",
    "        self.node_uids = node_uids\n",
    "        self.node_dict = {}  # maps node_uid to component_uid\n",
    "        self.component_dict = {}  # maps component_uid to a set of node_uids\n",
    "        for component_uid, node_uid in enumerate(self.node_uids):\n",
    "            self.node_dict[node_uid] = component_uid\n",
    "            self.component_dict[component_uid] = set((node_uid,))\n",
    "        self.edge_count = 0\n",
    "        \n",
    "        self.largest_wcc_size = 0\n",
    "        \n",
    "    def add_edge(self, from_node_uid, to_node_uid):\n",
    "        self.edge_count += 1\n",
    "        from_component_uid = self.node_dict[from_node_uid]\n",
    "        to_component_uid = self.node_dict[to_node_uid]\n",
    "        if from_component_uid == to_component_uid:\n",
    "            # these nodes are already weakly connected\n",
    "            is_intra_component_edge = True\n",
    "            new_component_size = len(self.component_dict[from_component_uid])\n",
    "            from_component_size, to_component_size = new_component_size, new_component_size\n",
    "        else:  # two different components are being merged with this edge\n",
    "            is_intra_component_edge = False\n",
    "            from_component_nodes = self.component_dict[from_component_uid]\n",
    "            to_component_nodes = self.component_dict[to_component_uid]\n",
    "            from_component_size = len(from_component_nodes)\n",
    "            to_component_size = len(to_component_nodes)\n",
    "            \n",
    "            if from_component_size >= to_component_size:\n",
    "                # merge To component into From component, deleting the To component\n",
    "                from_component_nodes.update(to_component_nodes)\n",
    "                del self.component_dict[to_component_uid]\n",
    "                for node_uid in to_component_nodes:\n",
    "                    # update the merged in component ids\n",
    "                    self.node_dict[node_uid] = from_component_uid\n",
    "                new_component_size = len(from_component_nodes)\n",
    "            else:\n",
    "                # merge From component into To component, deleting the From component\n",
    "                to_component_nodes.update(from_component_nodes)\n",
    "                del self.component_dict[from_component_uid]\n",
    "                for node_uid in from_component_nodes:\n",
    "                    # update the merged in component ids\n",
    "                    self.node_dict[node_uid] = to_component_uid\n",
    "                new_component_size = len(to_component_nodes)\n",
    "            if new_component_size > self.largest_wcc_size:\n",
    "                self.largest_wcc_size = new_component_size\n",
    "        # new_component_size gives the size of the resulting component\n",
    "        return is_intra_component_edge, from_component_size, to_component_size, new_component_size\n",
    "    \n",
    "    def get_component_info(self):\n",
    "        num_wccs = len(self.component_dict)\n",
    "        #largest_wcc_size = max(self.component_dict.values())\n",
    "        return num_wccs, self.largest_wcc_size"
   ]
  },
  {
   "cell_type": "code",
   "execution_count": 72,
   "metadata": {
    "scrolled": true
   },
   "outputs": [
    {
     "name": "stderr",
     "output_type": "stream",
     "text": [
      "100%|██████████| 1144492/1144492 [00:09<00:00, 126780.48it/s]\n"
     ]
    }
   ],
   "source": [
    "initiation_type_labels = []\n",
    "joining_component_directionality = []\n",
    "wcc_info = []\n",
    "involves_largest_wcc_list = []\n",
    "g = Graph(user_set)\n",
    "for from_user_id, to_user_id in tqdm(zip(initiations_df.from_user_id, initiations_df.to_user_id), total=len(initiations_df)):\n",
    "    is_intra_component_edge, from_component_size, to_component_size, new_component_size = g.add_edge(from_user_id, to_user_id)\n",
    "    num_wccs, largest_wcc_size = g.get_component_info()\n",
    "    wcc_info.append((num_wccs, largest_wcc_size))\n",
    "    # if the new component has the same size as the LWCC, it 'involves' the LWCC\n",
    "    involves_largest_wcc_list.append(largest_wcc_size == new_component_size)\n",
    "    label = 0\n",
    "    if is_intra_component_edge:\n",
    "        label = 4  # intra component\n",
    "    else:  # these two users were not previously connected\n",
    "        if from_component_size <= 1:\n",
    "            if to_component_size <= 1:\n",
    "                label = 3  # joining isolates\n",
    "            else:\n",
    "                label = 1  # joining component\n",
    "                is_isolate_initiating_join = True\n",
    "                joining_component_directionality.append(is_isolate_initiating_join)\n",
    "        else:  # from_user is already in a component\n",
    "            if to_component_size <= 1:\n",
    "                label = 1  # joining component\n",
    "                is_isolate_initiating_join = False\n",
    "                joining_component_directionality.append(is_isolate_initiating_join)\n",
    "            else:\n",
    "                label = 2  # bridging components\n",
    "    initiation_type_labels.append(label)"
   ]
  },
  {
   "cell_type": "code",
   "execution_count": 73,
   "metadata": {},
   "outputs": [
    {
     "name": "stdout",
     "output_type": "stream",
     "text": [
      "After processing all initiations, there were 6366 WCCs, with the largest containing 306065 users.\n"
     ]
    }
   ],
   "source": [
    "num_wccs, largest_wcc_size = wcc_info[-1]\n",
    "print(f\"After processing all initiations, there were {num_wccs} WCCs, with the largest containing {largest_wcc_size} users.\")"
   ]
  },
  {
   "cell_type": "code",
   "execution_count": 74,
   "metadata": {},
   "outputs": [
    {
     "data": {
      "image/png": "[encoded data removed]",
      "text/plain": [
       "<Figure size 432x288 with 1 Axes>"
      ]
     },
     "metadata": {
      "needs_background": "light"
     },
     "output_type": "display_data"
    }
   ],
   "source": [
    "# sizes of all WCCs, EXCEPT the largest\n",
    "wcc_sizes = np.array(sorted([len(s) for s in g.component_dict.values()])[:-1])\n",
    "plt.hist(wcc_sizes, bins=20, log=True)\n",
    "plt.xticks(range(0,22,2))\n",
    "plt.xlabel(\"Size of WCC\")\n",
    "plt.ylabel(\"Number of WCCs\")\n",
    "plt.title(\"Distribution of WCC sizes after all interactions\")\n",
    "plt.show()"
   ]
  },
  {
   "cell_type": "code",
   "execution_count": 75,
   "metadata": {},
   "outputs": [
    {
     "name": "stdout",
     "output_type": "stream",
     "text": [
      "41.30% of Joining Component initiations are initiated by the isolate (and not someone in the component).\n"
     ]
    }
   ],
   "source": [
    "pct = np.sum(joining_component_directionality) / len(joining_component_directionality)\n",
    "print(f\"{pct*100:.2f}% of Joining Component initiations are initiated by the isolate (and not someone in the component).\")"
   ]
  },
  {
   "cell_type": "code",
   "execution_count": 76,
   "metadata": {},
   "outputs": [],
   "source": [
    "# This compared my implementation to the NetworkX implementation\n",
    "#np.sum(np.array(initiation_type_labels[:len(initiation_labels)]) == np.array(initiation_labels)) / len(initiation_labels)"
   ]
  },
  {
   "cell_type": "code",
   "execution_count": 77,
   "metadata": {
    "scrolled": true
   },
   "outputs": [],
   "source": [
    "# This approach uses NetworkX\n",
    "# It is too slow to be tractable; computing the first 20% took 13 hours, with an estimate of 100 hours remaining\n",
    "should_run = False\n",
    "if should_run:\n",
    "    G = nx.Graph()\n",
    "    nodes = sorted(list(user_set))\n",
    "    G.add_nodes_from(nodes)\n",
    "    len(G)\n",
    "\n",
    "    initiation_labels = []\n",
    "    for from_user_id, to_user_id in tqdm(zip(initiations_df.from_user_id, initiations_df.to_user_id), total=len(initiations_df)):\n",
    "        from_component = nx.node_connected_component(G, from_user_id)\n",
    "        to_component = nx.node_connected_component(G, to_user_id)\n",
    "        label = 0\n",
    "        if from_user_id in to_component or to_user_id in from_component:\n",
    "            label = 4  # intra component\n",
    "        else:  # these two users were not previously connected\n",
    "            if len(from_component) <= 1:\n",
    "                if len(to_component) <= 1:\n",
    "                    label = 3  # joining isolates\n",
    "                else:\n",
    "                    label = 1  # joining component\n",
    "            else:  # from_user is already in a component\n",
    "                if len(to_component) <= 1:\n",
    "                    label = 1  # joining component\n",
    "                else:\n",
    "                    label = 2  # bridging components\n",
    "        initiation_labels.append(label)\n",
    "        G.add_edge(from_user_id, to_user_id)"
   ]
  },
  {
   "cell_type": "code",
   "execution_count": 78,
   "metadata": {},
   "outputs": [
    {
     "data": {
      "text/plain": [
       "[(4, 828635), (1, 244425), (3, 38899), (2, 32533)]"
      ]
     },
     "execution_count": 78,
     "metadata": {},
     "output_type": "execute_result"
    }
   ],
   "source": [
    "Counter(initiation_type_labels).most_common()"
   ]
  },
  {
   "cell_type": "code",
   "execution_count": 79,
   "metadata": {},
   "outputs": [
    {
     "data": {
      "text/html": [
       "<div>\n",
       "<style scoped>\n",
       "    .dataframe tbody tr th:only-of-type {\n",
       "        vertical-align: middle;\n",
       "    }\n",
       "\n",
       "    .dataframe tbody tr th {\n",
       "        vertical-align: top;\n",
       "    }\n",
       "\n",
       "    .dataframe thead th {\n",
       "        text-align: right;\n",
       "    }\n",
       "</style>\n",
       "<table border=\"1\" class=\"dataframe\">\n",
       "  <thead>\n",
       "    <tr style=\"text-align: right;\">\n",
       "      <th></th>\n",
       "      <th>from_user_id</th>\n",
       "      <th>to_user_id</th>\n",
       "      <th>created_at</th>\n",
       "      <th>int_type</th>\n",
       "    </tr>\n",
       "  </thead>\n",
       "  <tbody>\n",
       "    <tr>\n",
       "      <th>13689525</th>\n",
       "      <td>23616609</td>\n",
       "      <td>20085865</td>\n",
       "      <td>1101191820000</td>\n",
       "      <td>amps</td>\n",
       "    </tr>\n",
       "    <tr>\n",
       "      <th>10935800</th>\n",
       "      <td>10499159</td>\n",
       "      <td>20085865</td>\n",
       "      <td>1101191820000</td>\n",
       "      <td>amps</td>\n",
       "    </tr>\n",
       "    <tr>\n",
       "      <th>2789662</th>\n",
       "      <td>1217109</td>\n",
       "      <td>1</td>\n",
       "      <td>1103856900000</td>\n",
       "      <td>amps</td>\n",
       "    </tr>\n",
       "    <tr>\n",
       "      <th>8914</th>\n",
       "      <td>122</td>\n",
       "      <td>48</td>\n",
       "      <td>1117645589000</td>\n",
       "      <td>guestbook</td>\n",
       "    </tr>\n",
       "    <tr>\n",
       "      <th>9348</th>\n",
       "      <td>193</td>\n",
       "      <td>48</td>\n",
       "      <td>1117656613000</td>\n",
       "      <td>guestbook</td>\n",
       "    </tr>\n",
       "  </tbody>\n",
       "</table>\n",
       "</div>"
      ],
      "text/plain": [
       "          from_user_id  to_user_id     created_at   int_type\n",
       "13689525      23616609    20085865  1101191820000       amps\n",
       "10935800      10499159    20085865  1101191820000       amps\n",
       "2789662        1217109           1  1103856900000       amps\n",
       "8914               122          48  1117645589000  guestbook\n",
       "9348               193          48  1117656613000  guestbook"
      ]
     },
     "execution_count": 79,
     "metadata": {},
     "output_type": "execute_result"
    }
   ],
   "source": [
    "initiations_df.head()"
   ]
  },
  {
   "cell_type": "code",
   "execution_count": 80,
   "metadata": {},
   "outputs": [],
   "source": [
    "initiations_df['initiation_type'] = initiation_type_labels"
   ]
  },
  {
   "cell_type": "code",
   "execution_count": 81,
   "metadata": {},
   "outputs": [],
   "source": [
    "initiations_df['is_isolate_initiating_join'] = np.nan\n",
    "initiations_df.loc[initiations_df.initiation_type == 1, 'is_isolate_initiating_join'] = joining_component_directionality"
   ]
  },
  {
   "cell_type": "code",
   "execution_count": 82,
   "metadata": {},
   "outputs": [
    {
     "name": "stderr",
     "output_type": "stream",
     "text": [
      "100%|██████████| 1144492/1144492 [00:03<00:00, 290254.82it/s]\n"
     ]
    }
   ],
   "source": [
    "is_reciprocal_list = []\n",
    "initiations_set = set()\n",
    "for from_user_id, to_user_id in tqdm(zip(initiations_df.from_user_id, initiations_df.to_user_id), total=len(initiations_df)):\n",
    "    key = (from_user_id, to_user_id)\n",
    "    assert key not in initiations_set\n",
    "    inverse_key = (to_user_id, from_user_id)\n",
    "    if inverse_key in initiations_set:\n",
    "        is_reciprocal = True\n",
    "    else:\n",
    "        is_reciprocal = False\n",
    "    initiations_set.add(key)\n",
    "    is_reciprocal_list.append(is_reciprocal)\n",
    "    \n",
    "initiations_df['is_reciprocal'] = is_reciprocal_list"
   ]
  },
  {
   "cell_type": "code",
   "execution_count": 83,
   "metadata": {},
   "outputs": [],
   "source": [
    "# confirm that all reciprocal initiations are considered intra-component initiations\n",
    "assert np.all(initiations_df[initiations_df.is_reciprocal].initiation_type == 4)"
   ]
  },
  {
   "cell_type": "code",
   "execution_count": 84,
   "metadata": {},
   "outputs": [],
   "source": [
    "initiations_df['involves_lwcc'] = involves_largest_wcc_list"
   ]
  },
  {
   "cell_type": "code",
   "execution_count": 85,
   "metadata": {},
   "outputs": [
    {
     "name": "stdout",
     "output_type": "stream",
     "text": [
      "3.62% of initiations from 2014/01 to 2016/06 bridge two components or join two isolated components.\n"
     ]
    }
   ],
   "source": [
    "subset_start_timestamp = datetime.fromisoformat('2014-01-01').timestamp() * 1000\n",
    "subset_df = initiations_df[(initiations_df.created_at < end_timestamp)&(initiations_df.created_at > subset_start_timestamp)]\n",
    "pct = len(subset_df[(subset_df.initiation_type == 2)|(subset_df.initiation_type == 3)]) / len(subset_df)\n",
    "print(f\"{pct*100:.2f}% of initiations from 2014/01 to 2016/06 bridge two components or join two isolated components.\")"
   ]
  },
  {
   "cell_type": "code",
   "execution_count": 86,
   "metadata": {},
   "outputs": [
    {
     "name": "stdout",
     "output_type": "stream",
     "text": [
      "     Intra Component   155996     77.54%\n",
      "   Joining Component    37905     18.84%\n",
      " Bridging Components     3761      1.87%\n",
      "    Joining Isolates     3526      1.75%\n"
     ]
    }
   ],
   "source": [
    "# these are the analysis period counts for each of the initiation types\n",
    "init_type_dict = {\n",
    "    1: 'Joining Component',\n",
    "    2: 'Bridging Components',\n",
    "    3: 'Joining Isolates', \n",
    "    4: 'Intra Component'\n",
    "}\n",
    "for init_type, count in Counter(subset_df.initiation_type).most_common():\n",
    "    print(f\"{init_type_dict[init_type]:>20} {count:>8}  {count / len(subset_df) * 100:>8.2f}%\")"
   ]
  },
  {
   "cell_type": "code",
   "execution_count": 87,
   "metadata": {},
   "outputs": [
    {
     "data": {
      "image/png": "[encoded data removed]",
      "text/plain": [
       "<Figure size 864x144 with 1 Axes>"
      ]
     },
     "metadata": {
      "needs_background": "light"
     },
     "output_type": "display_data"
    }
   ],
   "source": [
    "fig, ax = plt.subplots(1, 1, figsize=(12,2))\n",
    "\n",
    "bins = []\n",
    "bins.append(start_date.timestamp() * 1000)\n",
    "year = 2005\n",
    "month = 1\n",
    "while year != 2016 or month != 6:\n",
    "    if month == 12:\n",
    "        year += 1\n",
    "        month = 1\n",
    "    else:\n",
    "        month += 1\n",
    "    bins.append(datetime.fromisoformat(f\"{year}-{month:02}-01\").timestamp() * 1000)\n",
    "\n",
    "#hist, bin_edges = np.histogram(ints.created_at, bins=bins)\n",
    "#plt.plot(bin_edges[:-1], hist, linestyle='-', linewidth=1, label='User->Site Interactions')\n",
    "#plt.scatter(bin_edges[:-1], hist, color='black', marker='.', s=2)\n",
    "\n",
    "hist, bin_edges = np.histogram(initiations_df.created_at, bins=bins)\n",
    "plt.plot(bin_edges[:-1], hist, linestyle='-', linewidth=1, label='All Initiations')\n",
    "\n",
    "hist, bin_edges = np.histogram(initiations_df[initiations_df.initiation_type == 1].created_at, bins=bins)\n",
    "plt.plot(bin_edges[:-1], hist, linestyle='-', linewidth=1, label='Joining Component')\n",
    "\n",
    "hist, bin_edges = np.histogram(initiations_df[initiations_df.initiation_type == 2].created_at, bins=bins)\n",
    "plt.plot(bin_edges[:-1], hist, linestyle='-', linewidth=1, label='Bridging Components')\n",
    "\n",
    "hist, bin_edges = np.histogram(initiations_df[initiations_df.initiation_type == 3].created_at, bins=bins)\n",
    "plt.plot(bin_edges[:-1], hist, linestyle='-', linewidth=1, label='Joining Isolates')\n",
    "\n",
    "hist, bin_edges = np.histogram(initiations_df[initiations_df.initiation_type == 4].created_at, bins=bins)\n",
    "plt.plot(bin_edges[:-1], hist, linestyle='-', linewidth=2, label='Intra Component')\n",
    "\n",
    "\n",
    "plt.legend(ncol=5, frameon=False, loc=8)\n",
    "plt.yscale('log')\n",
    "\n",
    "#plt.xlabel(\"Date\")\n",
    "plt.ylabel(\"Number of initiations\")\n",
    "\n",
    "newline = '\\n'\n",
    "xticks = [datetime.fromisoformat(f\"{2005 + i // 2}-{'01' if i % 2 == 0 else '07'}-01\").timestamp() * 1000 for i in range((2016 - 2005) * 2 + 2)]\n",
    "plt.xticks(\n",
    "    xticks, \n",
    "    [f\"{newline if i%2 == 0 else ''}{datetime.utcfromtimestamp(be / 1000).strftime('%Y-%m')}\" for i, be in enumerate(xticks)])\n",
    "plt.show()"
   ]
  },
  {
   "cell_type": "code",
   "execution_count": 88,
   "metadata": {},
   "outputs": [
    {
     "name": "stderr",
     "output_type": "stream",
     "text": [
      "/home/srivbane/shared/anaconda3/lib/python3.7/site-packages/ipykernel_launcher.py:18: RuntimeWarning: invalid value encountered in true_divide\n",
      "/home/srivbane/shared/anaconda3/lib/python3.7/site-packages/ipykernel_launcher.py:21: RuntimeWarning: invalid value encountered in true_divide\n",
      "/home/srivbane/shared/anaconda3/lib/python3.7/site-packages/ipykernel_launcher.py:24: RuntimeWarning: invalid value encountered in true_divide\n",
      "/home/srivbane/shared/anaconda3/lib/python3.7/site-packages/ipykernel_launcher.py:27: RuntimeWarning: invalid value encountered in true_divide\n"
     ]
    },
    {
     "data": {
      "image/png": "[encoded data removed]",
      "text/plain": [
       "<Figure size 576x144 with 1 Axes>"
      ]
     },
     "metadata": {
      "needs_background": "light"
     },
     "output_type": "display_data"
    }
   ],
   "source": [
    "fig, ax = plt.subplots(1, 1, figsize=(8,2))\n",
    "\n",
    "bins = []\n",
    "bins.append(start_date.timestamp() * 1000)\n",
    "year = 2005\n",
    "month = 1\n",
    "while year != 2016 or month != 6:\n",
    "    if month == 12:\n",
    "        year += 1\n",
    "        month = 1\n",
    "    else:\n",
    "        month += 1\n",
    "    bins.append(datetime.fromisoformat(f\"{year}-{month:02}-01\").timestamp() * 1000)\n",
    "\n",
    "total_initiation_counts, bin_edges = np.histogram(initiations_df.created_at, bins=bins)\n",
    "\n",
    "hist, bin_edges = np.histogram(initiations_df[initiations_df.initiation_type == 1].created_at, bins=bins)\n",
    "plt.plot(bin_edges[:-1], hist / total_initiation_counts, linestyle='dashed', linewidth=2, label='Joining Component')\n",
    "\n",
    "hist, bin_edges = np.histogram(initiations_df[initiations_df.initiation_type == 2].created_at, bins=bins)\n",
    "plt.plot(bin_edges[:-1], hist / total_initiation_counts, linestyle='dotted', linewidth=2, label='Bridging Components')\n",
    "\n",
    "hist, bin_edges = np.histogram(initiations_df[initiations_df.initiation_type == 3].created_at, bins=bins)\n",
    "plt.plot(bin_edges[:-1], hist / total_initiation_counts, linestyle='dashdot', linewidth=2, label='Joining Isolates')\n",
    "\n",
    "hist, bin_edges = np.histogram(initiations_df[initiations_df.initiation_type == 4].created_at, bins=bins)\n",
    "plt.plot(bin_edges[:-1], hist / total_initiation_counts, linestyle='-', linewidth=2, label='Intra Component')\n",
    "\n",
    "#hist, bin_edges = np.histogram(initiations_df[(initiations_df.initiation_type == 4)&(~initiations_df.is_reciprocal)].created_at, bins=bins)\n",
    "#plt.plot(bin_edges[:-1], hist / total_initiation_counts, linestyle='-', linewidth=2, label='Intra Component (Other)')\n",
    "\n",
    "#hist, bin_edges = np.histogram(initiations_df[(initiations_df.initiation_type == 4)&(initiations_df.is_reciprocal)].created_at, bins=bins)\n",
    "#plt.plot(bin_edges[:-1], hist / total_initiation_counts, linestyle='-', linewidth=2, label='Intra Component (Direct Reciprocation)')\n",
    "\n",
    "plt.axvline(subset_start_timestamp, color='black', alpha=0.8, linestyle='--', linewidth=1)\n",
    "\n",
    "plt.legend(ncol=2, frameon=False, loc=10)\n",
    "#plt.legend(ncol=3, frameon=False, loc=9)\n",
    "plt.ylim((0,0.9))\n",
    "#plt.yscale('log')\n",
    "\n",
    "#plt.title(\"Initiation Type\")\n",
    "#plt.xlabel(\"Date\")\n",
    "plt.ylabel(\"Proportion of initiations\")\n",
    "\n",
    "newline = '\\n'\n",
    "xticks = [datetime.fromisoformat(f\"{2005 + i}-01-01\").timestamp() * 1000 for i in range((2016 - 2005) + 2)]\n",
    "#xticks = [datetime.fromisoformat(f\"{2005 + i // 2}-{'01' if i % 2 == 0 else '07'}-01\").timestamp() * 1000 for i in range((2016 - 2005) * 2 + 2)]\n",
    "plt.xticks(\n",
    "    xticks, \n",
    "    [f\"{datetime.utcfromtimestamp(be / 1000).strftime('%Y')}\" for i, be in enumerate(xticks)])\n",
    "#    [f\"{newline if i%2 == 0 else ''}{datetime.utcfromtimestamp(be / 1000).strftime('%m %Y')}\" for i, be in enumerate(xticks)])\n",
    "\n",
    "     \n",
    "plt.tight_layout(pad=0)\n",
    "plt.margins(0,0)\n",
    "plt.savefig(os.path.join(figures_dir, 'initiation_types_timeline.pdf'), dpi=200, pad_inches=0)\n",
    "     \n",
    "plt.show()"
   ]
  },
  {
   "cell_type": "code",
   "execution_count": 89,
   "metadata": {},
   "outputs": [
    {
     "name": "stdout",
     "output_type": "stream",
     "text": [
      "10.79% of initiations from 2014/01 to 2016/06 are reciprocal, which is 13.91% of the Intra Component initiations.\n"
     ]
    }
   ],
   "source": [
    "subset_start_timestamp = datetime.fromisoformat('2014-01-01').timestamp() * 1000\n",
    "subset_df = initiations_df[(initiations_df.created_at < end_timestamp)&(initiations_df.created_at > subset_start_timestamp)]\n",
    "total_pct = len(subset_df[(subset_df.initiation_type == 4)&(subset_df.is_reciprocal)]) / len(subset_df)\n",
    "intra_component_pct = len(subset_df[(subset_df.initiation_type == 4)&(subset_df.is_reciprocal)]) / len(subset_df[subset_df.initiation_type == 4])\n",
    "print(f\"{total_pct*100:.2f}% of initiations from 2014/01 to 2016/06 are reciprocal, which is {intra_component_pct*100:.2f}% of the Intra Component initiations.\")"
   ]
  },
  {
   "cell_type": "markdown",
   "metadata": {},
   "source": [
    "#### Largest WCC analysis\n",
    "\n",
    "Vast majority of interactions involved the largest WCC"
   ]
  },
  {
   "cell_type": "code",
   "execution_count": 90,
   "metadata": {},
   "outputs": [
    {
     "data": {
      "text/plain": [
       "201188"
      ]
     },
     "execution_count": 90,
     "metadata": {},
     "output_type": "execute_result"
    }
   ],
   "source": [
    "subset_df = initiations_df[(initiations_df.created_at < end_timestamp)&(initiations_df.created_at > subset_start_timestamp)]\n",
    "len(subset_df)"
   ]
  },
  {
   "cell_type": "code",
   "execution_count": 91,
   "metadata": {},
   "outputs": [
    {
     "data": {
      "text/plain": [
       "0.9645953038948645"
      ]
     },
     "execution_count": 91,
     "metadata": {},
     "output_type": "execute_result"
    }
   ],
   "source": [
    "np.sum(subset_df.involves_lwcc) / len(subset_df)"
   ]
  },
  {
   "cell_type": "code",
   "execution_count": 92,
   "metadata": {},
   "outputs": [
    {
     "name": "stdout",
     "output_type": "stream",
     "text": [
      "   Joining Component 93.37%\n",
      " Bridging Components 96.14%\n",
      "    Joining Isolates 0.00%\n",
      "     Intra Component 99.40%\n"
     ]
    }
   ],
   "source": [
    "for i in [1, 2, 3, 4]:\n",
    "    pct_of_type = np.sum(subset_df[subset_df.initiation_type == i].involves_lwcc) / len(subset_df[subset_df.initiation_type == i])\n",
    "    print(f\"{init_type_dict[i]:>20} {pct_of_type * 100:.2f}%\")"
   ]
  },
  {
   "cell_type": "markdown",
   "metadata": {},
   "source": [
    "#### Joining Isolates"
   ]
  },
  {
   "cell_type": "code",
   "execution_count": 93,
   "metadata": {},
   "outputs": [
    {
     "name": "stdout",
     "output_type": "stream",
     "text": [
      "24.08% of Joining Component initiations from 2014/01 to 2016/06 are initiated by the isolate, meaning 75.92% are initiated by an author already in a component.\n"
     ]
    }
   ],
   "source": [
    "subset_start_timestamp = datetime.fromisoformat('2014-01-01').timestamp() * 1000\n",
    "subset_df = initiations_df[(initiations_df.created_at < end_timestamp)&(initiations_df.created_at > subset_start_timestamp)]\n",
    "pct = len(subset_df[(subset_df.initiation_type == 1)&(subset_df.is_isolate_initiating_join)]) / len(subset_df[subset_df.initiation_type == 1])\n",
    "#intra_component_pct = len(subset_df[(subset_df.initiation_type == 4)&(subset_df.is_reciprocal)]) / len(subset_df[subset_df.initiation_type == 4])\n",
    "print(f\"{pct*100:.2f}% of Joining Component initiations from 2014/01 to 2016/06 are initiated by the isolate, meaning {(1 - pct)*100:.2f}% are initiated by an author already in a component.\")"
   ]
  },
  {
   "cell_type": "code",
   "execution_count": 94,
   "metadata": {},
   "outputs": [
    {
     "data": {
      "text/plain": [
       "8687"
      ]
     },
     "execution_count": 94,
     "metadata": {},
     "output_type": "execute_result"
    }
   ],
   "source": [
    "joining_isolates = subset_df[\n",
    "    (subset_df.initiation_type == 1)\n",
    "    &(subset_df.is_isolate_initiating_join)\n",
    "    &(subset_df.from_user_id.isin(valid_user_ids))\n",
    "    &(subset_df.to_user_id.isin(valid_user_ids))\n",
    "]\n",
    "len(joining_isolates)"
   ]
  },
  {
   "cell_type": "code",
   "execution_count": 95,
   "metadata": {},
   "outputs": [
    {
     "data": {
      "text/html": [
       "<div>\n",
       "<style scoped>\n",
       "    .dataframe tbody tr th:only-of-type {\n",
       "        vertical-align: middle;\n",
       "    }\n",
       "\n",
       "    .dataframe tbody tr th {\n",
       "        vertical-align: top;\n",
       "    }\n",
       "\n",
       "    .dataframe thead th {\n",
       "        text-align: right;\n",
       "    }\n",
       "</style>\n",
       "<table border=\"1\" class=\"dataframe\">\n",
       "  <thead>\n",
       "    <tr style=\"text-align: right;\">\n",
       "      <th></th>\n",
       "      <th>from_user_id</th>\n",
       "      <th>to_user_id</th>\n",
       "      <th>created_at</th>\n",
       "      <th>int_type</th>\n",
       "      <th>initiation_type</th>\n",
       "      <th>is_isolate_initiating_join</th>\n",
       "      <th>is_reciprocal</th>\n",
       "      <th>involves_lwcc</th>\n",
       "    </tr>\n",
       "  </thead>\n",
       "  <tbody>\n",
       "    <tr>\n",
       "      <th>14477782</th>\n",
       "      <td>28732788</td>\n",
       "      <td>28728957</td>\n",
       "      <td>1401112007000</td>\n",
       "      <td>guestbook</td>\n",
       "      <td>1</td>\n",
       "      <td>True</td>\n",
       "      <td>False</td>\n",
       "      <td>True</td>\n",
       "    </tr>\n",
       "    <tr>\n",
       "      <th>13329951</th>\n",
       "      <td>21895557</td>\n",
       "      <td>13608152</td>\n",
       "      <td>1435227860000</td>\n",
       "      <td>guestbook</td>\n",
       "      <td>1</td>\n",
       "      <td>True</td>\n",
       "      <td>False</td>\n",
       "      <td>True</td>\n",
       "    </tr>\n",
       "    <tr>\n",
       "      <th>14554915</th>\n",
       "      <td>29528635</td>\n",
       "      <td>17279784</td>\n",
       "      <td>1458046376000</td>\n",
       "      <td>guestbook</td>\n",
       "      <td>1</td>\n",
       "      <td>True</td>\n",
       "      <td>False</td>\n",
       "      <td>True</td>\n",
       "    </tr>\n",
       "    <tr>\n",
       "      <th>14469591</th>\n",
       "      <td>28658592</td>\n",
       "      <td>13174926</td>\n",
       "      <td>1399665610000</td>\n",
       "      <td>guestbook</td>\n",
       "      <td>1</td>\n",
       "      <td>True</td>\n",
       "      <td>False</td>\n",
       "      <td>True</td>\n",
       "    </tr>\n",
       "    <tr>\n",
       "      <th>11461933</th>\n",
       "      <td>13079902</td>\n",
       "      <td>2022616</td>\n",
       "      <td>1411074709000</td>\n",
       "      <td>guestbook</td>\n",
       "      <td>1</td>\n",
       "      <td>True</td>\n",
       "      <td>False</td>\n",
       "      <td>True</td>\n",
       "    </tr>\n",
       "  </tbody>\n",
       "</table>\n",
       "</div>"
      ],
      "text/plain": [
       "          from_user_id  to_user_id     created_at   int_type  initiation_type  \\\n",
       "14477782      28732788    28728957  1401112007000  guestbook                1   \n",
       "13329951      21895557    13608152  1435227860000  guestbook                1   \n",
       "14554915      29528635    17279784  1458046376000  guestbook                1   \n",
       "14469591      28658592    13174926  1399665610000  guestbook                1   \n",
       "11461933      13079902     2022616  1411074709000  guestbook                1   \n",
       "\n",
       "         is_isolate_initiating_join  is_reciprocal  involves_lwcc  \n",
       "14477782                       True          False           True  \n",
       "13329951                       True          False           True  \n",
       "14554915                       True          False           True  \n",
       "14469591                       True          False           True  \n",
       "11461933                       True          False           True  "
      ]
     },
     "execution_count": 95,
     "metadata": {},
     "output_type": "execute_result"
    }
   ],
   "source": [
    "sample = joining_isolates[joining_isolates.int_type == 'guestbook'].sample(n=100)\n",
    "sample.head()"
   ]
  },
  {
   "cell_type": "code",
   "execution_count": 96,
   "metadata": {},
   "outputs": [],
   "source": [
    "should_run = False  # already generated this sample\n",
    "if should_run:\n",
    "    sample_filepath = os.path.join(working_dir, 'isolate_joining_component_100.csv')\n",
    "    sample[['from_user_id', 'to_user_id', 'created_at', 'involves_lwcc']].to_csv(sample_filepath, index=False)\n",
    "    sample_filepath"
   ]
  },
  {
   "cell_type": "markdown",
   "metadata": {},
   "source": [
    "### Save initiations_df"
   ]
  },
  {
   "cell_type": "code",
   "execution_count": 48,
   "metadata": {},
   "outputs": [
    {
     "name": "stdout",
     "output_type": "stream",
     "text": [
      "Finished.\n"
     ]
    }
   ],
   "source": [
    "initiations_df_filepath = os.path.join(working_dir, \"init_df.feather\")\n",
    "initiations_df.reset_index(drop=True).to_feather(initiations_df_filepath)\n",
    "print(\"Finished.\")"
   ]
  },
  {
   "cell_type": "code",
   "execution_count": null,
   "metadata": {},
   "outputs": [],
   "source": []
  },
  {
   "cell_type": "markdown",
   "metadata": {},
   "source": [
    "### Reciprocation\n"
   ]
  },
  {
   "cell_type": "code",
   "execution_count": 190,
   "metadata": {
    "scrolled": true
   },
   "outputs": [
    {
     "data": {
      "text/html": [
       "<div>\n",
       "<style scoped>\n",
       "    .dataframe tbody tr th:only-of-type {\n",
       "        vertical-align: middle;\n",
       "    }\n",
       "\n",
       "    .dataframe tbody tr th {\n",
       "        vertical-align: top;\n",
       "    }\n",
       "\n",
       "    .dataframe thead th {\n",
       "        text-align: right;\n",
       "    }\n",
       "</style>\n",
       "<table border=\"1\" class=\"dataframe\">\n",
       "  <thead>\n",
       "    <tr style=\"text-align: right;\">\n",
       "      <th></th>\n",
       "      <th>from_user_id</th>\n",
       "      <th>to_user_id</th>\n",
       "      <th>created_at</th>\n",
       "      <th>int_type</th>\n",
       "      <th>initiation_type</th>\n",
       "      <th>is_isolate_initiating_join</th>\n",
       "      <th>is_reciprocal</th>\n",
       "      <th>involves_lwcc</th>\n",
       "    </tr>\n",
       "  </thead>\n",
       "  <tbody>\n",
       "    <tr>\n",
       "      <th>10216334</th>\n",
       "      <td>22239537</td>\n",
       "      <td>5758186</td>\n",
       "      <td>1388556151000</td>\n",
       "      <td>amps</td>\n",
       "      <td>4</td>\n",
       "      <td>NaN</td>\n",
       "      <td>False</td>\n",
       "      <td>True</td>\n",
       "    </tr>\n",
       "    <tr>\n",
       "      <th>6003872</th>\n",
       "      <td>5135645</td>\n",
       "      <td>5758186</td>\n",
       "      <td>1388556151000</td>\n",
       "      <td>amps</td>\n",
       "      <td>4</td>\n",
       "      <td>NaN</td>\n",
       "      <td>False</td>\n",
       "      <td>True</td>\n",
       "    </tr>\n",
       "    <tr>\n",
       "      <th>9221217</th>\n",
       "      <td>15878504</td>\n",
       "      <td>5758186</td>\n",
       "      <td>1388556151000</td>\n",
       "      <td>amps</td>\n",
       "      <td>4</td>\n",
       "      <td>NaN</td>\n",
       "      <td>False</td>\n",
       "      <td>True</td>\n",
       "    </tr>\n",
       "    <tr>\n",
       "      <th>8748699</th>\n",
       "      <td>13274610</td>\n",
       "      <td>3761912</td>\n",
       "      <td>1388556206000</td>\n",
       "      <td>amps</td>\n",
       "      <td>4</td>\n",
       "      <td>NaN</td>\n",
       "      <td>False</td>\n",
       "      <td>True</td>\n",
       "    </tr>\n",
       "    <tr>\n",
       "      <th>9902161</th>\n",
       "      <td>20146227</td>\n",
       "      <td>3761912</td>\n",
       "      <td>1388556206000</td>\n",
       "      <td>amps</td>\n",
       "      <td>4</td>\n",
       "      <td>NaN</td>\n",
       "      <td>False</td>\n",
       "      <td>True</td>\n",
       "    </tr>\n",
       "  </tbody>\n",
       "</table>\n",
       "</div>"
      ],
      "text/plain": [
       "          from_user_id  to_user_id     created_at int_type  initiation_type  \\\n",
       "10216334      22239537     5758186  1388556151000     amps                4   \n",
       "6003872        5135645     5758186  1388556151000     amps                4   \n",
       "9221217       15878504     5758186  1388556151000     amps                4   \n",
       "8748699       13274610     3761912  1388556206000     amps                4   \n",
       "9902161       20146227     3761912  1388556206000     amps                4   \n",
       "\n",
       "         is_isolate_initiating_join  is_reciprocal  involves_lwcc  \n",
       "10216334                        NaN          False           True  \n",
       "6003872                         NaN          False           True  \n",
       "9221217                         NaN          False           True  \n",
       "8748699                         NaN          False           True  \n",
       "9902161                         NaN          False           True  "
      ]
     },
     "execution_count": 190,
     "metadata": {},
     "output_type": "execute_result"
    }
   ],
   "source": [
    "subset_df = initiations_df[(initiations_df.created_at < end_timestamp)&(initiations_df.created_at > subset_start_timestamp)]\n",
    "subset_df.head()"
   ]
  },
  {
   "cell_type": "code",
   "execution_count": 191,
   "metadata": {},
   "outputs": [
    {
     "data": {
      "text/plain": [
       "194829"
      ]
     },
     "execution_count": 191,
     "metadata": {},
     "output_type": "execute_result"
    }
   ],
   "source": [
    "len(subset_df)  # 200K initations in the analysis period"
   ]
  },
  {
   "cell_type": "code",
   "execution_count": 192,
   "metadata": {},
   "outputs": [
    {
     "data": {
      "text/plain": [
       "(0.10985530901457176, 21403, 194829)"
      ]
     },
     "execution_count": 192,
     "metadata": {},
     "output_type": "execute_result"
    }
   ],
   "source": [
    "np.sum(subset_df.is_reciprocal) / len(subset_df), np.sum(subset_df.is_reciprocal), len(subset_df)"
   ]
  },
  {
   "cell_type": "code",
   "execution_count": 193,
   "metadata": {},
   "outputs": [
    {
     "name": "stderr",
     "output_type": "stream",
     "text": [
      "100%|██████████| 1088392/1088392 [00:03<00:00, 311741.46it/s]\n"
     ]
    },
    {
     "data": {
      "text/plain": [
       "0.12810583791806765"
      ]
     },
     "execution_count": 193,
     "metadata": {},
     "output_type": "execute_result"
    }
   ],
   "source": [
    "# Of ALL dyads, 12.3\\% are reciprocated\n",
    "total_dyads = 0\n",
    "reciprocated_dyads = 0\n",
    "seen_pairs = set()\n",
    "for row in tqdm(initiations_df.itertuples(), total=len(initiations_df)):\n",
    "    tup = (row.from_user_id, row.to_user_id)\n",
    "    r_tup = (row.to_user_id, row.from_user_id)\n",
    "    if r_tup not in seen_pairs:\n",
    "        total_dyads += 1\n",
    "        seen_pairs.add(tup)\n",
    "    if row.is_reciprocal:\n",
    "        reciprocated_dyads += 1\n",
    "reciprocated_dyads / total_dyads"
   ]
  },
  {
   "cell_type": "code",
   "execution_count": 194,
   "metadata": {},
   "outputs": [
    {
     "data": {
      "text/plain": [
       "(123596, 964796)"
      ]
     },
     "execution_count": 194,
     "metadata": {},
     "output_type": "execute_result"
    }
   ],
   "source": [
    "reciprocated_dyads, total_dyads"
   ]
  },
  {
   "cell_type": "code",
   "execution_count": 195,
   "metadata": {},
   "outputs": [
    {
     "name": "stderr",
     "output_type": "stream",
     "text": [
      "100%|██████████| 902145/902145 [00:03<00:00, 255294.67it/s]\n"
     ]
    },
    {
     "data": {
      "text/plain": [
       "0.15317211970610342"
      ]
     },
     "execution_count": 195,
     "metadata": {},
     "output_type": "execute_result"
    }
   ],
   "source": [
    "# Of dyads that begin in the analysis period, 6.5\\% are reciprocated\n",
    "# TODO Should really update this to only be marked reciprocal if the reciprocation happened within some time window\n",
    "subset_df = initiations_df[\n",
    "        (initiations_df.created_at < end_timestamp)\n",
    "        &(initiations_df.created_at > start_timestamp)\n",
    "        &(initiations_df.from_user_id.isin(valid_user_ids))\n",
    "        &(initiations_df.to_user_id.isin(valid_user_ids))\n",
    "    ].sort_values(by=['created_at', 'is_reciprocal'], ascending=True)\n",
    "total_dyads = 0\n",
    "reciprocated_dyads = 0\n",
    "unreciprocated_dyads_set = set()\n",
    "reciprocated_dyads_list = []\n",
    "reciprocation_interval_list = []\n",
    "seen_pairs = {}\n",
    "for row in tqdm(subset_df.itertuples(), total=len(subset_df)):\n",
    "    tup = (row.from_user_id, row.to_user_id)\n",
    "    r_tup = (row.to_user_id, row.from_user_id)\n",
    "    if not row.is_reciprocal:\n",
    "        assert r_tup not in seen_pairs\n",
    "        total_dyads += 1\n",
    "        seen_pairs[tup] = row.created_at\n",
    "        unreciprocated_dyads_set.add(tup)\n",
    "    elif r_tup in seen_pairs and row.is_reciprocal:\n",
    "        reciprocated_dyads += 1\n",
    "        unreciprocated_dyads_set.remove(r_tup)\n",
    "        reciprocated_dyads_list.append(r_tup)\n",
    "        initiation_created_at = seen_pairs[r_tup]\n",
    "        reciprocation_interval = row.created_at - initiation_created_at\n",
    "        assert reciprocation_interval > 0\n",
    "        reciprocation_interval_list.append(reciprocation_interval)\n",
    "reciprocated_dyads / total_dyads"
   ]
  },
  {
   "cell_type": "code",
   "execution_count": 196,
   "metadata": {},
   "outputs": [
    {
     "data": {
      "text/plain": [
       "(119829, 782316)"
      ]
     },
     "execution_count": 196,
     "metadata": {},
     "output_type": "execute_result"
    }
   ],
   "source": [
    "reciprocated_dyads, total_dyads"
   ]
  },
  {
   "cell_type": "code",
   "execution_count": 197,
   "metadata": {},
   "outputs": [
    {
     "data": {
      "text/plain": [
       "(119829, 662487)"
      ]
     },
     "execution_count": 197,
     "metadata": {},
     "output_type": "execute_result"
    }
   ],
   "source": [
    "len(reciprocated_dyads_list), len(unreciprocated_dyads_set)"
   ]
  },
  {
   "cell_type": "code",
   "execution_count": 198,
   "metadata": {},
   "outputs": [
    {
     "data": {
      "image/png": "[encoded data removed]",
      "text/plain": [
       "<Figure size 432x288 with 1 Axes>"
      ]
     },
     "metadata": {
      "needs_background": "light"
     },
     "output_type": "display_data"
    },
    {
     "data": {
      "text/plain": [
       "74.20141979938272"
      ]
     },
     "execution_count": 198,
     "metadata": {},
     "output_type": "execute_result"
    }
   ],
   "source": [
    "recip_interval_months = np.array(reciprocation_interval_list) / 1000 / 60 / 60 / 24 / 30\n",
    "plt.hist(recip_interval_months, bins=50)\n",
    "plt.show()\n",
    "np.quantile(recip_interval_months, 0.99)"
   ]
  },
  {
   "cell_type": "code",
   "execution_count": 199,
   "metadata": {},
   "outputs": [
    {
     "data": {
      "image/png": "[encoded data removed]",
      "text/plain": [
       "<Figure size 432x288 with 1 Axes>"
      ]
     },
     "metadata": {
      "needs_background": "light"
     },
     "output_type": "display_data"
    },
    {
     "data": {
      "text/plain": [
       "0.7474234116949987"
      ]
     },
     "execution_count": 199,
     "metadata": {},
     "output_type": "execute_result"
    }
   ],
   "source": [
    "# percentage of reciprocations that occur within X months\n",
    "xs = range(1, 12 * 5)\n",
    "ys = []\n",
    "for i in xs:\n",
    "    pct_reciprocated_by_month = np.sum(recip_interval_months <= i) / len(recip_interval_months)\n",
    "    ys.append(pct_reciprocated_by_month)\n",
    "plt.plot(xs, ys)\n",
    "plt.show()\n",
    "np.sum(recip_interval_months <= 12) / len(recip_interval_months)"
   ]
  },
  {
   "cell_type": "code",
   "execution_count": 200,
   "metadata": {},
   "outputs": [
    {
     "data": {
      "text/plain": [
       "0.7498852531524088"
      ]
     },
     "execution_count": 200,
     "metadata": {},
     "output_type": "execute_result"
    }
   ],
   "source": [
    "recip_interval_days = np.array(reciprocation_interval_list) / 1000 / 60 / 60 / 24\n",
    "np.sum(recip_interval_days <= 365) / len(recip_interval_days)"
   ]
  },
  {
   "cell_type": "code",
   "execution_count": 201,
   "metadata": {},
   "outputs": [
    {
     "name": "stderr",
     "output_type": "stream",
     "text": [
      "100%|██████████| 902145/902145 [00:03<00:00, 243263.99it/s]\n"
     ]
    },
    {
     "data": {
      "text/plain": [
       "0.12043935553097528"
      ]
     },
     "execution_count": 201,
     "metadata": {},
     "output_type": "execute_result"
    }
   ],
   "source": [
    "threshold = 1000 * 60 * 60 * 24 * 365 # 365 days\n",
    "subset_df = initiations_df[\n",
    "        (initiations_df.created_at < end_timestamp)\n",
    "        &(initiations_df.created_at > start_timestamp)\n",
    "        &(initiations_df.from_user_id.isin(valid_user_ids))\n",
    "        &(initiations_df.to_user_id.isin(valid_user_ids))\n",
    "    ].sort_values(by=['created_at', 'is_reciprocal'], ascending=True)\n",
    "total_dyads = 0\n",
    "reciprocated_dyads = 0\n",
    "unreciprocated_dyads_set = set()\n",
    "reciprocated_dyads_list = []\n",
    "reciprocation_interval_list = []\n",
    "seen_pairs = {}\n",
    "for row in tqdm(subset_df.itertuples(), total=len(subset_df)):\n",
    "    tup = (row.from_user_id, row.to_user_id)\n",
    "    r_tup = (row.to_user_id, row.from_user_id)\n",
    "    if not row.is_reciprocal:\n",
    "        assert r_tup not in seen_pairs\n",
    "        if row.created_at > end_timestamp - threshold:\n",
    "            continue  # ignore all initiations that could have right-censored initiations\n",
    "        total_dyads += 1\n",
    "        seen_pairs[tup] = row.created_at\n",
    "        unreciprocated_dyads_set.add(tup)\n",
    "    elif r_tup in seen_pairs and row.is_reciprocal:\n",
    "        initiation_created_at = seen_pairs[r_tup]\n",
    "        reciprocation_interval = row.created_at - initiation_created_at\n",
    "        assert reciprocation_interval > 0\n",
    "        if reciprocation_interval <= threshold:\n",
    "            # this was a reciprocation that occurred within 1 year!\n",
    "            reciprocated_dyads += 1\n",
    "            unreciprocated_dyads_set.remove(r_tup)\n",
    "            reciprocated_dyads_list.append(r_tup)\n",
    "            reciprocation_interval_list.append(reciprocation_interval)\n",
    "        # else we pretend as though the dyad was just not reciprocated (which it wasn't, within the threshold)\n",
    "reciprocated_dyads / total_dyads"
   ]
  },
  {
   "cell_type": "code",
   "execution_count": 202,
   "metadata": {},
   "outputs": [
    {
     "data": {
      "text/plain": [
       "87326"
      ]
     },
     "execution_count": 202,
     "metadata": {},
     "output_type": "execute_result"
    }
   ],
   "source": [
    "reciprocated_dyads"
   ]
  },
  {
   "cell_type": "code",
   "execution_count": 203,
   "metadata": {},
   "outputs": [
    {
     "data": {
      "text/plain": [
       "362345"
      ]
     },
     "execution_count": 203,
     "metadata": {},
     "output_type": "execute_result"
    }
   ],
   "source": [
    "# read the user author type dataframe\n",
    "author_type_dir = \"/home/lana/shared/caringbridge/data/projects/sna-social-support/author_type\"\n",
    "user_patient_proportions_filepath = os.path.join(author_type_dir, 'user_patient_proportions.df')\n",
    "user_df = pd.read_feather(user_patient_proportions_filepath)\n",
    "len(user_df)"
   ]
  },
  {
   "cell_type": "code",
   "execution_count": 204,
   "metadata": {},
   "outputs": [],
   "source": [
    "author_type_dict = {row.user_id: row.user_author_type for row in user_df.itertuples()}"
   ]
  },
  {
   "cell_type": "code",
   "execution_count": 205,
   "metadata": {},
   "outputs": [
    {
     "data": {
      "text/plain": [
       "725062"
      ]
     },
     "execution_count": 205,
     "metadata": {},
     "output_type": "execute_result"
    }
   ],
   "source": [
    "d = []\n",
    "for dyad in reciprocated_dyads_list:\n",
    "    from_user_id, to_user_id = dyad\n",
    "    from_author_type = author_type_dict[from_user_id]\n",
    "    to_author_type = author_type_dict[to_user_id]\n",
    "    d.append({\n",
    "        'from_user_id': from_user_id,\n",
    "        'to_user_id': to_user_id,\n",
    "        'is_reciprocated': 1,\n",
    "        'is_author_type_shared': int(from_author_type == to_author_type),\n",
    "        'from_author_type': from_author_type,\n",
    "        'to_author_type': to_author_type,\n",
    "        'original_initiation_time': seen_pairs[dyad]\n",
    "    })\n",
    "for dyad in unreciprocated_dyads_set:\n",
    "    from_user_id, to_user_id = dyad\n",
    "    from_author_type = author_type_dict[from_user_id]\n",
    "    to_author_type = author_type_dict[to_user_id]\n",
    "    d.append({\n",
    "        'from_user_id': from_user_id,\n",
    "        'to_user_id': to_user_id,\n",
    "        'is_reciprocated': 0,\n",
    "        'is_author_type_shared': int(from_author_type == to_author_type),\n",
    "        'from_author_type': from_author_type,\n",
    "        'to_author_type': to_author_type,\n",
    "        'original_initiation_time': seen_pairs[dyad]\n",
    "    })\n",
    "dyad_df = pd.DataFrame(d)\n",
    "len(dyad_df)"
   ]
  },
  {
   "cell_type": "markdown",
   "metadata": {},
   "source": [
    "#### Merge in author activity features"
   ]
  },
  {
   "cell_type": "code",
   "execution_count": 206,
   "metadata": {},
   "outputs": [
    {
     "data": {
      "text/plain": [
       "(11906341, 0.7278691120232819)"
      ]
     },
     "execution_count": 206,
     "metadata": {},
     "output_type": "execute_result"
    }
   ],
   "source": [
    "recip_user_ids = set(dyad_df.from_user_id) | set(dyad_df.to_user_id)\n",
    "journals_subset = journals[journals.user_id.isin(recip_user_ids)]\n",
    "len(journals_subset), len(journals_subset) / len(journals)"
   ]
  },
  {
   "cell_type": "code",
   "execution_count": 207,
   "metadata": {},
   "outputs": [
    {
     "name": "stdout",
     "output_type": "stream",
     "text": [
      "725062\n"
     ]
    },
    {
     "data": {
      "text/html": [
       "<div>\n",
       "<style scoped>\n",
       "    .dataframe tbody tr th:only-of-type {\n",
       "        vertical-align: middle;\n",
       "    }\n",
       "\n",
       "    .dataframe tbody tr th {\n",
       "        vertical-align: top;\n",
       "    }\n",
       "\n",
       "    .dataframe thead th {\n",
       "        text-align: right;\n",
       "    }\n",
       "</style>\n",
       "<table border=\"1\" class=\"dataframe\">\n",
       "  <thead>\n",
       "    <tr style=\"text-align: right;\">\n",
       "      <th></th>\n",
       "      <th>from_user_id</th>\n",
       "      <th>to_user_id</th>\n",
       "      <th>is_reciprocated</th>\n",
       "      <th>is_author_type_shared</th>\n",
       "      <th>from_author_type</th>\n",
       "      <th>to_author_type</th>\n",
       "      <th>original_initiation_time</th>\n",
       "    </tr>\n",
       "  </thead>\n",
       "  <tbody>\n",
       "    <tr>\n",
       "      <th>0</th>\n",
       "      <td>248</td>\n",
       "      <td>33</td>\n",
       "      <td>1</td>\n",
       "      <td>1</td>\n",
       "      <td>cg</td>\n",
       "      <td>cg</td>\n",
       "      <td>1117754812000</td>\n",
       "    </tr>\n",
       "    <tr>\n",
       "      <th>1</th>\n",
       "      <td>28</td>\n",
       "      <td>8339</td>\n",
       "      <td>1</td>\n",
       "      <td>1</td>\n",
       "      <td>cg</td>\n",
       "      <td>cg</td>\n",
       "      <td>1119235827000</td>\n",
       "    </tr>\n",
       "    <tr>\n",
       "      <th>2</th>\n",
       "      <td>5103</td>\n",
       "      <td>8468</td>\n",
       "      <td>1</td>\n",
       "      <td>1</td>\n",
       "      <td>cg</td>\n",
       "      <td>cg</td>\n",
       "      <td>1119010597000</td>\n",
       "    </tr>\n",
       "    <tr>\n",
       "      <th>3</th>\n",
       "      <td>3079</td>\n",
       "      <td>4622</td>\n",
       "      <td>1</td>\n",
       "      <td>1</td>\n",
       "      <td>cg</td>\n",
       "      <td>cg</td>\n",
       "      <td>1119066341000</td>\n",
       "    </tr>\n",
       "    <tr>\n",
       "      <th>4</th>\n",
       "      <td>8175</td>\n",
       "      <td>28</td>\n",
       "      <td>1</td>\n",
       "      <td>0</td>\n",
       "      <td>p</td>\n",
       "      <td>cg</td>\n",
       "      <td>1119238748000</td>\n",
       "    </tr>\n",
       "  </tbody>\n",
       "</table>\n",
       "</div>"
      ],
      "text/plain": [
       "   from_user_id  to_user_id  is_reciprocated  is_author_type_shared  \\\n",
       "0           248          33                1                      1   \n",
       "1            28        8339                1                      1   \n",
       "2          5103        8468                1                      1   \n",
       "3          3079        4622                1                      1   \n",
       "4          8175          28                1                      0   \n",
       "\n",
       "  from_author_type to_author_type  original_initiation_time  \n",
       "0               cg             cg             1117754812000  \n",
       "1               cg             cg             1119235827000  \n",
       "2               cg             cg             1119010597000  \n",
       "3               cg             cg             1119066341000  \n",
       "4                p             cg             1119238748000  "
      ]
     },
     "execution_count": 207,
     "metadata": {},
     "output_type": "execute_result"
    }
   ],
   "source": [
    "print(len(dyad_df))\n",
    "dyad_df.head()"
   ]
  },
  {
   "cell_type": "code",
   "execution_count": 208,
   "metadata": {},
   "outputs": [],
   "source": [
    "first_updates = journals_subset.sort_values(by='created_at', ascending=True).drop_duplicates(subset='user_id')\n",
    "first_updates_dict = {row.user_id: row.created_at for row in first_updates.itertuples()}"
   ]
  },
  {
   "cell_type": "code",
   "execution_count": 209,
   "metadata": {},
   "outputs": [
    {
     "data": {
      "text/plain": [
       "0.6886128358678293"
      ]
     },
     "execution_count": 209,
     "metadata": {},
     "output_type": "execute_result"
    }
   ],
   "source": [
    "dyad_df['was_initiator_author'] = [int(row.original_initiation_time >= first_updates_dict[row.from_user_id]) for row in dyad_df.itertuples()]\n",
    "np.sum(dyad_df.was_initiator_author) / len(dyad_df)"
   ]
  },
  {
   "cell_type": "code",
   "execution_count": 210,
   "metadata": {},
   "outputs": [
    {
     "data": {
      "image/png": "[encoded data removed]",
      "text/plain": [
       "<Figure size 432x288 with 1 Axes>"
      ]
     },
     "metadata": {
      "needs_background": "light"
     },
     "output_type": "display_data"
    }
   ],
   "source": [
    "dyad_df['months_after_initiator_authorship'] = [np.clip(row.original_initiation_time - first_updates_dict[row.from_user_id], 0, None) / (1000 * 60 * 60 * 24 * 30)\n",
    "                                                for row in dyad_df.itertuples()]\n",
    "plt.hist(dyad_df[dyad_df.was_initiator_author == 1].months_after_initiator_authorship, bins=50)\n",
    "plt.show()"
   ]
  },
  {
   "cell_type": "code",
   "execution_count": 211,
   "metadata": {},
   "outputs": [
    {
     "data": {
      "image/png": "[encoded data removed]",
      "text/plain": [
       "<Figure size 432x288 with 1 Axes>"
      ]
     },
     "metadata": {
      "needs_background": "light"
     },
     "output_type": "display_data"
    }
   ],
   "source": [
    "dyad_df['months_after_receiver_authorship'] = [np.clip(row.original_initiation_time - first_updates_dict[row.to_user_id], 0, None) / (1000 * 60 * 60 * 24 * 30)\n",
    "                                                for row in dyad_df.itertuples()]\n",
    "#assert np.all(dyad_df.months_after_receiver_authorship >= 0)\n",
    "# the assertion fails because of patient authors who were treated as connection targets but had not yet published any updates!\n",
    "plt.hist(dyad_df.months_after_receiver_authorship, bins=50)\n",
    "plt.show()"
   ]
  },
  {
   "cell_type": "code",
   "execution_count": 212,
   "metadata": {},
   "outputs": [],
   "source": [
    "def censored_log(value):\n",
    "    if value == 0:\n",
    "        return 0\n",
    "    else:\n",
    "        assert value > 0, value\n",
    "        return np.log(value)"
   ]
  },
  {
   "cell_type": "code",
   "execution_count": 213,
   "metadata": {},
   "outputs": [],
   "source": [
    "dyad_df['log_months_after_initiator_authorship'] = dyad_df.months_after_initiator_authorship.map(censored_log)\n",
    "dyad_df['log_months_after_receiver_authorship'] = dyad_df.months_after_receiver_authorship.map(censored_log)"
   ]
  },
  {
   "cell_type": "code",
   "execution_count": 214,
   "metadata": {},
   "outputs": [
    {
     "data": {
      "text/plain": [
       "725062"
      ]
     },
     "execution_count": 214,
     "metadata": {},
     "output_type": "execute_result"
    }
   ],
   "source": [
    "# TODO given the length of dyad_df, why is 725062 above and 737747 below\n",
    "# and why is neither of those counts \n",
    "len(dyad_df)"
   ]
  },
  {
   "cell_type": "code",
   "execution_count": 215,
   "metadata": {},
   "outputs": [
    {
     "data": {
      "text/plain": [
       "(87326, 0.12043935553097528)"
      ]
     },
     "execution_count": 215,
     "metadata": {},
     "output_type": "execute_result"
    }
   ],
   "source": [
    "np.sum(dyad_df.is_reciprocated), np.sum(dyad_df.is_reciprocated) / len(dyad_df)"
   ]
  },
  {
   "cell_type": "markdown",
   "metadata": {},
   "source": [
    "### Fit logistic regression models to predict reciprocation"
   ]
  },
  {
   "cell_type": "code",
   "execution_count": 216,
   "metadata": {},
   "outputs": [],
   "source": [
    "import statsmodels\n",
    "import statsmodels.api as sm\n",
    "import statsmodels.formula.api as smf"
   ]
  },
  {
   "cell_type": "code",
   "execution_count": 217,
   "metadata": {},
   "outputs": [],
   "source": [
    "def print_feature_summary(res):\n",
    "    for feature, coef in zip(res.params.index, res.params):\n",
    "        prob = np.exp(coef)/(1+np.exp(coef))\n",
    "        feature_name = feature\n",
    "        if \"health_condition\" in feature_name:\n",
    "            feature_name = \"health_condition \" + feature_name.split(\"[\")[1][2:-1]\n",
    "        print(f\"{feature_name:<50} {min((np.exp(coef)-1)*100, 999):>8.3f}% increase   {prob*100:>8.2f}%   ({np.exp(coef):.3f})\")"
   ]
  },
  {
   "cell_type": "code",
   "execution_count": 218,
   "metadata": {},
   "outputs": [
    {
     "name": "stdout",
     "output_type": "stream",
     "text": [
      "Optimization terminated successfully.\n",
      "         Current function value: 0.351113\n",
      "         Iterations 6\n",
      "Intercept                                           -91.607% increase       7.74%   (0.084)\n",
      "is_author_type_shared                                21.941% increase      54.94%   (1.219)\n",
      "was_initiator_author                                215.771% increase      75.95%   (3.158)\n",
      "was_initiator_author:log_months_after_initiator_authorship  -27.152% increase      42.15%   (0.728)\n",
      "log_months_after_receiver_authorship                  3.425% increase      50.84%   (1.034)\n"
     ]
    },
    {
     "data": {
      "text/html": [
       "<table class=\"simpletable\">\n",
       "<caption>Logit Regression Results</caption>\n",
       "<tr>\n",
       "  <th>Dep. Variable:</th>    <td>is_reciprocated</td> <th>  No. Observations:  </th>   <td>725062</td>   \n",
       "</tr>\n",
       "<tr>\n",
       "  <th>Model:</th>                 <td>Logit</td>      <th>  Df Residuals:      </th>   <td>725057</td>   \n",
       "</tr>\n",
       "<tr>\n",
       "  <th>Method:</th>                 <td>MLE</td>       <th>  Df Model:          </th>   <td>     4</td>   \n",
       "</tr>\n",
       "<tr>\n",
       "  <th>Date:</th>            <td>Mon, 01 Jun 2020</td> <th>  Pseudo R-squ.:     </th>   <td>0.04537</td>  \n",
       "</tr>\n",
       "<tr>\n",
       "  <th>Time:</th>                <td>10:53:25</td>     <th>  Log-Likelihood:    </th> <td>-2.5458e+05</td>\n",
       "</tr>\n",
       "<tr>\n",
       "  <th>converged:</th>             <td>True</td>       <th>  LL-Null:           </th> <td>-2.6668e+05</td>\n",
       "</tr>\n",
       "<tr>\n",
       "  <th>Covariance Type:</th>     <td>nonrobust</td>    <th>  LLR p-value:       </th>   <td> 0.000</td>   \n",
       "</tr>\n",
       "</table>\n",
       "<table class=\"simpletable\">\n",
       "<tr>\n",
       "                               <td></td>                                 <th>coef</th>     <th>std err</th>      <th>z</th>      <th>P>|z|</th>  <th>[0.025</th>    <th>0.975]</th>  \n",
       "</tr>\n",
       "<tr>\n",
       "  <th>Intercept</th>                                                  <td>   -2.4778</td> <td>    0.009</td> <td> -264.107</td> <td> 0.000</td> <td>   -2.496</td> <td>   -2.459</td>\n",
       "</tr>\n",
       "<tr>\n",
       "  <th>is_author_type_shared</th>                                      <td>    0.1984</td> <td>    0.008</td> <td>   24.501</td> <td> 0.000</td> <td>    0.182</td> <td>    0.214</td>\n",
       "</tr>\n",
       "<tr>\n",
       "  <th>was_initiator_author</th>                                       <td>    1.1498</td> <td>    0.010</td> <td>  116.704</td> <td> 0.000</td> <td>    1.131</td> <td>    1.169</td>\n",
       "</tr>\n",
       "<tr>\n",
       "  <th>was_initiator_author:log_months_after_initiator_authorship</th> <td>   -0.3168</td> <td>    0.002</td> <td> -137.500</td> <td> 0.000</td> <td>   -0.321</td> <td>   -0.312</td>\n",
       "</tr>\n",
       "<tr>\n",
       "  <th>log_months_after_receiver_authorship</th>                       <td>    0.0337</td> <td>    0.001</td> <td>   22.857</td> <td> 0.000</td> <td>    0.031</td> <td>    0.037</td>\n",
       "</tr>\n",
       "</table>"
      ],
      "text/plain": [
       "<class 'statsmodels.iolib.summary.Summary'>\n",
       "\"\"\"\n",
       "                           Logit Regression Results                           \n",
       "==============================================================================\n",
       "Dep. Variable:        is_reciprocated   No. Observations:               725062\n",
       "Model:                          Logit   Df Residuals:                   725057\n",
       "Method:                           MLE   Df Model:                            4\n",
       "Date:                Mon, 01 Jun 2020   Pseudo R-squ.:                 0.04537\n",
       "Time:                        10:53:25   Log-Likelihood:            -2.5458e+05\n",
       "converged:                       True   LL-Null:                   -2.6668e+05\n",
       "Covariance Type:            nonrobust   LLR p-value:                     0.000\n",
       "==============================================================================================================================\n",
       "                                                                 coef    std err          z      P>|z|      [0.025      0.975]\n",
       "------------------------------------------------------------------------------------------------------------------------------\n",
       "Intercept                                                     -2.4778      0.009   -264.107      0.000      -2.496      -2.459\n",
       "is_author_type_shared                                          0.1984      0.008     24.501      0.000       0.182       0.214\n",
       "was_initiator_author                                           1.1498      0.010    116.704      0.000       1.131       1.169\n",
       "was_initiator_author:log_months_after_initiator_authorship    -0.3168      0.002   -137.500      0.000      -0.321      -0.312\n",
       "log_months_after_receiver_authorship                           0.0337      0.001     22.857      0.000       0.031       0.037\n",
       "==============================================================================================================================\n",
       "\"\"\""
      ]
     },
     "execution_count": 218,
     "metadata": {},
     "output_type": "execute_result"
    }
   ],
   "source": [
    "formula = \"\"\"\n",
    "is_reciprocated ~ \n",
    "    + is_author_type_shared\n",
    "    + was_initiator_author\n",
    "    + was_initiator_author : log_months_after_initiator_authorship\n",
    "    + log_months_after_receiver_authorship\n",
    "    + 1\n",
    "\"\"\"\n",
    "# + num_sites OR is_multisite_author\n",
    "# + health_condition\n",
    "model = smf.logit(formula=formula, \n",
    "                  data=dyad_df)\n",
    "res = model.fit(maxiter=100)\n",
    "print_feature_summary(res)\n",
    "res.summary()"
   ]
  },
  {
   "cell_type": "code",
   "execution_count": 219,
   "metadata": {},
   "outputs": [
    {
     "name": "stdout",
     "output_type": "stream",
     "text": [
      "Optimization terminated successfully.\n",
      "         Current function value: 0.349177\n",
      "         Iterations 6\n",
      "Intercept                                           -90.342% increase       8.81%   (0.097)\n",
      "from_author_type[T.mixed]                            -8.673% increase      47.73%   (0.913)\n",
      "from_author_type[T.p]                               -28.443% increase      41.71%   (0.716)\n",
      "to_author_type[T.mixed]                             -14.843% increase      45.99%   (0.852)\n",
      "to_author_type[T.p]                                  -9.135% increase      47.61%   (0.909)\n",
      "from_author_type[T.mixed]:to_author_type[T.mixed]    82.845% increase      64.64%   (1.828)\n",
      "from_author_type[T.p]:to_author_type[T.mixed]        95.597% increase      66.17%   (1.956)\n",
      "from_author_type[T.mixed]:to_author_type[T.p]        88.628% increase      65.35%   (1.886)\n",
      "from_author_type[T.p]:to_author_type[T.p]           231.083% increase      76.80%   (3.311)\n",
      "was_initiator_author                                214.766% increase      75.89%   (3.148)\n",
      "was_initiator_author:log_months_after_initiator_authorship  -26.945% increase      42.21%   (0.731)\n",
      "log_months_after_receiver_authorship                  3.548% increase      50.87%   (1.035)\n"
     ]
    },
    {
     "data": {
      "text/html": [
       "<table class=\"simpletable\">\n",
       "<caption>Logit Regression Results</caption>\n",
       "<tr>\n",
       "  <th>Dep. Variable:</th>    <td>is_reciprocated</td> <th>  No. Observations:  </th>   <td>725062</td>   \n",
       "</tr>\n",
       "<tr>\n",
       "  <th>Model:</th>                 <td>Logit</td>      <th>  Df Residuals:      </th>   <td>725050</td>   \n",
       "</tr>\n",
       "<tr>\n",
       "  <th>Method:</th>                 <td>MLE</td>       <th>  Df Model:          </th>   <td>    11</td>   \n",
       "</tr>\n",
       "<tr>\n",
       "  <th>Date:</th>            <td>Mon, 01 Jun 2020</td> <th>  Pseudo R-squ.:     </th>   <td>0.05063</td>  \n",
       "</tr>\n",
       "<tr>\n",
       "  <th>Time:</th>                <td>10:53:36</td>     <th>  Log-Likelihood:    </th> <td>-2.5318e+05</td>\n",
       "</tr>\n",
       "<tr>\n",
       "  <th>converged:</th>             <td>True</td>       <th>  LL-Null:           </th> <td>-2.6668e+05</td>\n",
       "</tr>\n",
       "<tr>\n",
       "  <th>Covariance Type:</th>     <td>nonrobust</td>    <th>  LLR p-value:       </th>   <td> 0.000</td>   \n",
       "</tr>\n",
       "</table>\n",
       "<table class=\"simpletable\">\n",
       "<tr>\n",
       "                               <td></td>                                 <th>coef</th>     <th>std err</th>      <th>z</th>      <th>P>|z|</th>  <th>[0.025</th>    <th>0.975]</th>  \n",
       "</tr>\n",
       "<tr>\n",
       "  <th>Intercept</th>                                                  <td>   -2.3374</td> <td>    0.008</td> <td> -289.153</td> <td> 0.000</td> <td>   -2.353</td> <td>   -2.322</td>\n",
       "</tr>\n",
       "<tr>\n",
       "  <th>from_author_type[T.mixed]</th>                                  <td>   -0.0907</td> <td>    0.016</td> <td>   -5.566</td> <td> 0.000</td> <td>   -0.123</td> <td>   -0.059</td>\n",
       "</tr>\n",
       "<tr>\n",
       "  <th>from_author_type[T.p]</th>                                      <td>   -0.3347</td> <td>    0.013</td> <td>  -24.919</td> <td> 0.000</td> <td>   -0.361</td> <td>   -0.308</td>\n",
       "</tr>\n",
       "<tr>\n",
       "  <th>to_author_type[T.mixed]</th>                                    <td>   -0.1607</td> <td>    0.017</td> <td>   -9.363</td> <td> 0.000</td> <td>   -0.194</td> <td>   -0.127</td>\n",
       "</tr>\n",
       "<tr>\n",
       "  <th>to_author_type[T.p]</th>                                        <td>   -0.0958</td> <td>    0.015</td> <td>   -6.478</td> <td> 0.000</td> <td>   -0.125</td> <td>   -0.067</td>\n",
       "</tr>\n",
       "<tr>\n",
       "  <th>from_author_type[T.mixed]:to_author_type[T.mixed]</th>          <td>    0.6035</td> <td>    0.044</td> <td>   13.775</td> <td> 0.000</td> <td>    0.518</td> <td>    0.689</td>\n",
       "</tr>\n",
       "<tr>\n",
       "  <th>from_author_type[T.p]:to_author_type[T.mixed]</th>              <td>    0.6709</td> <td>    0.035</td> <td>   19.236</td> <td> 0.000</td> <td>    0.603</td> <td>    0.739</td>\n",
       "</tr>\n",
       "<tr>\n",
       "  <th>from_author_type[T.mixed]:to_author_type[T.p]</th>              <td>    0.6346</td> <td>    0.037</td> <td>   17.306</td> <td> 0.000</td> <td>    0.563</td> <td>    0.706</td>\n",
       "</tr>\n",
       "<tr>\n",
       "  <th>from_author_type[T.p]:to_author_type[T.p]</th>                  <td>    1.1972</td> <td>    0.025</td> <td>   48.187</td> <td> 0.000</td> <td>    1.149</td> <td>    1.246</td>\n",
       "</tr>\n",
       "<tr>\n",
       "  <th>was_initiator_author</th>                                       <td>    1.1467</td> <td>    0.010</td> <td>  115.967</td> <td> 0.000</td> <td>    1.127</td> <td>    1.166</td>\n",
       "</tr>\n",
       "<tr>\n",
       "  <th>was_initiator_author:log_months_after_initiator_authorship</th> <td>   -0.3140</td> <td>    0.002</td> <td> -135.618</td> <td> 0.000</td> <td>   -0.319</td> <td>   -0.309</td>\n",
       "</tr>\n",
       "<tr>\n",
       "  <th>log_months_after_receiver_authorship</th>                       <td>    0.0349</td> <td>    0.001</td> <td>   23.533</td> <td> 0.000</td> <td>    0.032</td> <td>    0.038</td>\n",
       "</tr>\n",
       "</table>"
      ],
      "text/plain": [
       "<class 'statsmodels.iolib.summary.Summary'>\n",
       "\"\"\"\n",
       "                           Logit Regression Results                           \n",
       "==============================================================================\n",
       "Dep. Variable:        is_reciprocated   No. Observations:               725062\n",
       "Model:                          Logit   Df Residuals:                   725050\n",
       "Method:                           MLE   Df Model:                           11\n",
       "Date:                Mon, 01 Jun 2020   Pseudo R-squ.:                 0.05063\n",
       "Time:                        10:53:36   Log-Likelihood:            -2.5318e+05\n",
       "converged:                       True   LL-Null:                   -2.6668e+05\n",
       "Covariance Type:            nonrobust   LLR p-value:                     0.000\n",
       "==============================================================================================================================\n",
       "                                                                 coef    std err          z      P>|z|      [0.025      0.975]\n",
       "------------------------------------------------------------------------------------------------------------------------------\n",
       "Intercept                                                     -2.3374      0.008   -289.153      0.000      -2.353      -2.322\n",
       "from_author_type[T.mixed]                                     -0.0907      0.016     -5.566      0.000      -0.123      -0.059\n",
       "from_author_type[T.p]                                         -0.3347      0.013    -24.919      0.000      -0.361      -0.308\n",
       "to_author_type[T.mixed]                                       -0.1607      0.017     -9.363      0.000      -0.194      -0.127\n",
       "to_author_type[T.p]                                           -0.0958      0.015     -6.478      0.000      -0.125      -0.067\n",
       "from_author_type[T.mixed]:to_author_type[T.mixed]              0.6035      0.044     13.775      0.000       0.518       0.689\n",
       "from_author_type[T.p]:to_author_type[T.mixed]                  0.6709      0.035     19.236      0.000       0.603       0.739\n",
       "from_author_type[T.mixed]:to_author_type[T.p]                  0.6346      0.037     17.306      0.000       0.563       0.706\n",
       "from_author_type[T.p]:to_author_type[T.p]                      1.1972      0.025     48.187      0.000       1.149       1.246\n",
       "was_initiator_author                                           1.1467      0.010    115.967      0.000       1.127       1.166\n",
       "was_initiator_author:log_months_after_initiator_authorship    -0.3140      0.002   -135.618      0.000      -0.319      -0.309\n",
       "log_months_after_receiver_authorship                           0.0349      0.001     23.533      0.000       0.032       0.038\n",
       "==============================================================================================================================\n",
       "\"\"\""
      ]
     },
     "execution_count": 219,
     "metadata": {},
     "output_type": "execute_result"
    }
   ],
   "source": [
    "formula = \"\"\"\n",
    "is_reciprocated ~ \n",
    "    + from_author_type\n",
    "    + to_author_type\n",
    "    + from_author_type : to_author_type\n",
    "    + was_initiator_author\n",
    "    + was_initiator_author : log_months_after_initiator_authorship\n",
    "    + log_months_after_receiver_authorship\n",
    "    + 1\n",
    "\"\"\"\n",
    "# + num_sites OR is_multisite_author\n",
    "# + health_condition\n",
    "model = smf.logit(formula=formula, \n",
    "                  data=dyad_df)\n",
    "res = model.fit(maxiter=100)\n",
    "print_feature_summary(res)\n",
    "res.summary()"
   ]
  },
  {
   "cell_type": "code",
   "execution_count": 220,
   "metadata": {},
   "outputs": [
    {
     "data": {
      "text/plain": [
       "300.43233271097785"
      ]
     },
     "execution_count": 220,
     "metadata": {},
     "output_type": "execute_result"
    }
   ],
   "source": [
    "# for a patient/patient dyad relative to a caregiver/caregiver dyad,\n",
    "# given the original author initiated 6 months after authorship and the receiver received 6 months after authorship\n",
    "# reciprocation is 300% more likely. Seems high!\n",
    "(np.exp(-0.3319 - 0.1101 + 1.2045 + 0.0365 * np.log(6) +  1.1151 - 0.3101 * np.log(6)) - 1) * 100"
   ]
  },
  {
   "cell_type": "code",
   "execution_count": 221,
   "metadata": {},
   "outputs": [
    {
     "name": "stdout",
     "output_type": "stream",
     "text": [
      "0 0 0.2331\n",
      "0 1 0.2164\n",
      "1 0 0.1787\n",
      "1 1 0.3956\n"
     ]
    }
   ],
   "source": [
    "# https://stats.idre.ucla.edu/stata/seminars/deciphering-interactions-in-logistic-regression/\n",
    "b = res.params\n",
    "# when from_p is 0, means the initiator is a CG; when 1, means initiator is a P\n",
    "# These are the probabilities of reciprocation when the the categorical variables are the given values\n",
    "# e.g. 7.2% prob of reciprocation when the initiator is a CG and the receiver is a P.\n",
    "recip_probs = np.zeros((2, 2))\n",
    "for from_p, to_p in [(0, 0), (0, 1), (1, 0), (1, 1)]:\n",
    "    Xb = b[0] + from_p * b[2] + to_p * b[4] + from_p * to_p * b[8] + b[9] + b[10] * np.log(1) + b[11] * np.log(1)\n",
    "    prob = np.exp(Xb) / (1 + np.exp(Xb))\n",
    "    recip_probs[from_p, to_p] = prob\n",
    "    print(f\"{from_p} {to_p} {prob :.4f}\")"
   ]
  },
  {
   "cell_type": "code",
   "execution_count": 222,
   "metadata": {},
   "outputs": [
    {
     "data": {
      "image/png": "[encoded data removed]",
      "text/plain": [
       "<Figure size 144x144 with 1 Axes>"
      ]
     },
     "metadata": {
      "needs_background": "light"
     },
     "output_type": "display_data"
    }
   ],
   "source": [
    "fig, ax = plt.subplots(1, 1, figsize=(2, 2))\n",
    "ax.matshow(recip_probs, cmap=plt.cm.gray_r, vmax=0.8)\n",
    "for from_p, to_p in [(0, 0), (0, 1), (1, 0), (1, 1)]:\n",
    "    s = f\"{recip_probs[from_p, to_p]*100:4>.1f}%\"\n",
    "    ax.text(from_p, to_p, s, verticalalignment='center', horizontalalignment='center')\n",
    "\n",
    "plt.xticks([0, 1], ['CG', 'P'])\n",
    "plt.yticks([0, 1], ['CG', 'P'])\n",
    "plt.xlabel(\"Initiator\")\n",
    "plt.ylabel(\"Receiver\")\n",
    "\n",
    "plt.tight_layout(pad=0.1)\n",
    "plt.margins(0,0)\n",
    "plt.savefig(os.path.join(figures_dir, 'recip_role_probs.pdf'), dpi=180, pad_inches=0)\n",
    "\n",
    "plt.show()"
   ]
  },
  {
   "cell_type": "code",
   "execution_count": 223,
   "metadata": {},
   "outputs": [
    {
     "name": "stdout",
     "output_type": "stream",
     "text": [
      "\\begin{table}\n",
      "\\caption{Results: Logit}\n",
      "\\begin{center}\n",
      "\\begin{tabular}{llll}\n",
      "\\hline\n",
      "Model:               &  Logit             &  Pseudo R-squared: \n",
      "Dependent Variable:  &  is\\_reciprocated  &  AIC:              \n",
      "Date:                &  2020-06-01 10:53  &  BIC:              \n",
      "No. Observations:    & 725062.000 &  Log-Likelihood:   \n",
      "Df Model:            & 11.000 &  LL-Null:          \n",
      "Df Residuals:        & 725050.000 &  LLR p-value:      \n",
      "Converged:           & 1.000 &  Scale:            \n",
      "No. Iterations:      & 6.000 &                    \n",
      "\\hline\n",
      "\\end{tabular}\n",
      "\\end{center}\n",
      "\\hline\n",
      "\\begin{center}\n",
      "\\begin{tabular}{lcccccc}\n",
      "\\hline\n",
      "                                                                  &   Coef.   &  Std.Err. \n",
      "\\hline\n",
      "\\hline\n",
      "\\end{tabular}\n",
      "\\begin{tabular}{lrrrrrr}\n",
      "Intercept                                                         & -2.337 & 0.008\n",
      "from\\_author\\_type[T.mixed]                                       & -0.091 & 0.016\n",
      "from\\_author\\_type[T.p]                                           & -0.335 & 0.013\n",
      "to\\_author\\_type[T.mixed]                                         & -0.161 & 0.017\n",
      "to\\_author\\_type[T.p]                                             & -0.096 & 0.015\n",
      "from\\_author\\_type[T.mixed]:to\\_author\\_type[T.mixed]             & 0.604 & 0.044\n",
      "from\\_author\\_type[T.p]:to\\_author\\_type[T.mixed]                 & 0.671 & 0.035\n",
      "from\\_author\\_type[T.mixed]:to\\_author\\_type[T.p]                 & 0.635 & 0.037\n",
      "from\\_author\\_type[T.p]:to\\_author\\_type[T.p]                     & 1.197 & 0.025\n",
      "was\\_initiator\\_author                                            & 1.147 & 0.010\n",
      "was\\_initiator\\_author:log\\_months\\_after\\_initiator\\_authorship  & -0.314 & 0.002\n",
      "log\\_months\\_after\\_receiver\\_authorship                          & 0.035 & 0.002\n",
      "\\hline\n",
      "\\end{tabular}\n",
      "\\end{center}\n",
      "\\end{table}\n"
     ]
    }
   ],
   "source": [
    "import re\n",
    "for line in res.summary2().as_latex().split(\"\\n\"):\n",
    "    toks = line.split(\"&\")\n",
    "    if len(toks) < 4:\n",
    "        print(line)\n",
    "    else:\n",
    "        new_toks = [f\"{float(tok):.3f}\" if re.match(r'^-?\\d+(?:\\.\\d+)?$', tok.strip()) else tok for tok in toks[:3]]\n",
    "        print(\" & \".join(new_toks))"
   ]
  },
  {
   "cell_type": "markdown",
   "metadata": {},
   "source": [
    "### Reciprocal timeline analysis\n",
    "\n",
    "Explored by the type of interaction."
   ]
  },
  {
   "cell_type": "code",
   "execution_count": 91,
   "metadata": {},
   "outputs": [
    {
     "name": "stderr",
     "output_type": "stream",
     "text": [
      "100%|██████████| 1144492/1144492 [00:02<00:00, 483627.31it/s]\n"
     ]
    }
   ],
   "source": [
    "reciprocation_times = []\n",
    "original_int_types = []\n",
    "reciprocating_int_types = []\n",
    "\n",
    "initiations_dict = {}\n",
    "initiations_type_dict = {}\n",
    "for from_user_id, to_user_id, created_at, int_type in tqdm(zip(initiations_df.from_user_id, initiations_df.to_user_id, initiations_df.created_at, initiations_df.int_type), total=len(initiations_df)):\n",
    "    key = (from_user_id, to_user_id)\n",
    "    assert key not in initiations_dict\n",
    "    inverse_key = (to_user_id, from_user_id)\n",
    "    if inverse_key in initiations_dict:\n",
    "        original_created_at = initiations_dict[inverse_key]\n",
    "        if original_created_at < subset_start_timestamp:\n",
    "            continue\n",
    "        time_between_initiations = created_at - original_created_at\n",
    "        reciprocation_times.append(time_between_initiations)\n",
    "        assert time_between_initiations >= 0\n",
    "        original_int_type = initiations_type_dict[inverse_key]\n",
    "        \n",
    "        original_int_types.append(original_int_type)\n",
    "        reciprocating_int_types.append(int_type)\n",
    "        \n",
    "    initiations_dict[key] = created_at\n",
    "    initiations_type_dict[key] = int_type\n"
   ]
  },
  {
   "cell_type": "code",
   "execution_count": 96,
   "metadata": {},
   "outputs": [
    {
     "name": "stdout",
     "output_type": "stream",
     "text": [
      "6.91 months is the mean reciprocation time.\n",
      "2.86 months is the mean guestbook reciprocation time. (10.47% of reciprocations)\n",
      "7.09 months is the mean comments reciprocation time. (50.57% of reciprocations)\n",
      "7.75 months is the mean amps reciprocation time. (38.95% of reciprocations)\n",
      "3.07 months is the median reciprocation time.\n",
      "0.74 months is the median guestbook reciprocation time. (10.47% of reciprocations)\n",
      "3.55 months is the median comments reciprocation time. (50.57% of reciprocations)\n",
      "3.50 months is the median amps reciprocation time. (38.95% of reciprocations)\n"
     ]
    },
    {
     "data": {
      "image/png": "[encoded data removed]",
      "text/plain": [
       "<Figure size 432x288 with 1 Axes>"
      ]
     },
     "metadata": {
      "needs_background": "light"
     },
     "output_type": "display_data"
    }
   ],
   "source": [
    "# amount of time between the original and the reciprocating interaction, broken down by the reciprocating interaction type\n",
    "num_bins=50\n",
    "base = 2\n",
    "x = np.array(reciprocation_times) / 1000\n",
    "original_int_types = np.array(original_int_types)\n",
    "reciprocating_int_types = np.array(reciprocating_int_types)\n",
    "\n",
    "logbins = np.logspace(np.log2(min(x)), np.log2(max(x)), num=num_bins, base=base, endpoint=True)\n",
    "plt.hist(x, bins=logbins, color='gray')\n",
    "plt.xscale('log', nonposx='clip', basex=base)\n",
    "ax = plt.gca()\n",
    "\n",
    "cmap = matplotlib.cm.Set2\n",
    "ax.hist(x[reciprocating_int_types == 'comment'], bins=logbins, color=cmap(0.8), alpha=0.8, label='Comments')\n",
    "ax.hist(x[reciprocating_int_types == 'guestbook'], bins=logbins, color=cmap(0), alpha=0.8, label='Guestbooks')\n",
    "ax.hist(x[reciprocating_int_types == 'amps'], bins=logbins, color=cmap(0.5), alpha=0.8, label='Amps')\n",
    "\n",
    "print(f\"{np.mean(x / (60 * 60 * 24 * 30)):.2f} months is the mean reciprocation time.\")\n",
    "print(f\"{np.mean(x[reciprocating_int_types == 'guestbook'] / (60 * 60 * 24 * 30)):.2f} months is the mean guestbook reciprocation time. ({len(x[reciprocating_int_types == 'guestbook']) / len(x) * 100:.2f}% of reciprocations)\")\n",
    "print(f\"{np.mean(x[reciprocating_int_types == 'comment'] / (60 * 60 * 24 * 30)):.2f} months is the mean comments reciprocation time. ({len(x[reciprocating_int_types == 'comment']) / len(x) * 100:.2f}% of reciprocations)\")\n",
    "print(f\"{np.mean(x[reciprocating_int_types == 'amps'] / (60 * 60 * 24 * 30)):.2f} months is the mean amps reciprocation time. ({len(x[reciprocating_int_types == 'amps']) / len(x) * 100:.2f}% of reciprocations)\")\n",
    "print(f\"{np.median(x / (60 * 60 * 24 * 30)):.2f} months is the median reciprocation time.\")\n",
    "print(f\"{np.median(x[reciprocating_int_types == 'guestbook'] / (60 * 60 * 24 * 30)):.2f} months is the median guestbook reciprocation time. ({len(x[reciprocating_int_types == 'guestbook']) / len(x) * 100:.2f}% of reciprocations)\")\n",
    "print(f\"{np.median(x[reciprocating_int_types == 'comment'] / (60 * 60 * 24 * 30)):.2f} months is the median comments reciprocation time. ({len(x[reciprocating_int_types == 'comment']) / len(x) * 100:.2f}% of reciprocations)\")\n",
    "print(f\"{np.median(x[reciprocating_int_types == 'amps'] / (60 * 60 * 24 * 30)):.2f} months is the median amps reciprocation time. ({len(x[reciprocating_int_types == 'amps']) / len(x) * 100:.2f}% of reciprocations)\")\n",
    "\n",
    "      \n",
    "plt.legend()\n",
    "\n",
    "# add semantically interpretable time moments\n",
    "#ax.axvline(60, color='black', alpha=0.1)\n",
    "ax.axvline(60 * 60, color='black', alpha=0.1)\n",
    "ax.axvline(60 * 60 * 24, color='black', alpha=0.1)\n",
    "ax.axvline(60 * 60 * 24 * 30, color='black', alpha=0.1)\n",
    "ax.axvline(60 * 60 * 24 * 365, color='black', alpha=0.1)\n",
    "ax.axvline(60 * 60 * 24 * 365 * 10, color='black', alpha=0.1)\n",
    "text_y = ax.transData.inverted().transform((0, ax.transAxes.transform((0, 0.95))[1]))[1]  # https://matplotlib.org/users/transforms_tutorial.html\n",
    "#ax.text(60, text_y, 'Minute', color='darkgray')\n",
    "ax.text(60 * 60, text_y, 'Hour', color='darkgray')\n",
    "ax.text(60 * 60 * 24, text_y, 'Day', color='darkgray')\n",
    "ax.text(60 * 60 * 24 * 30, text_y, 'Month', color='darkgray')\n",
    "ax.text(60 * 60 * 24 * 365, text_y, 'Year', color='darkgray')\n",
    "ax.text(60 * 60 * 24 * 365 * 10, text_y, 'Decade', color='darkgray')\n",
    "\n",
    "plt.show()"
   ]
  },
  {
   "cell_type": "code",
   "execution_count": 97,
   "metadata": {},
   "outputs": [
    {
     "name": "stdout",
     "output_type": "stream",
     "text": [
      "6.91 months is the mean reciprocation time.\n",
      "7.72 months is the mean reciprocation time to guestbooks.\n",
      "6.70 months is the mean reciprocation time to comments.\n",
      "6.76 months is the mean reciprocation time to amps.\n",
      "3.07 months is the median reciprocation time.\n",
      "3.47 months is the median reciprocation time to guestbooks.\n",
      "3.07 months is the median reciprocation time to comments.\n",
      "2.93 months is the median reciprocation time to amps.\n"
     ]
    },
    {
     "data": {
      "image/png": "[encoded data removed]",
      "text/plain": [
       "<Figure size 432x288 with 1 Axes>"
      ]
     },
     "metadata": {
      "needs_background": "light"
     },
     "output_type": "display_data"
    }
   ],
   "source": [
    "# the same plot as above, but broken down by the ORIGINATING interaction type\n",
    "num_bins=50\n",
    "base = 2\n",
    "x = np.array(reciprocation_times) / 1000\n",
    "original_int_types = np.array(original_int_types)\n",
    "reciprocating_int_types = np.array(reciprocating_int_types)\n",
    "\n",
    "logbins = np.logspace(np.log2(min(x)), np.log2(max(x)), num=num_bins, base=base, endpoint=True)\n",
    "plt.hist(x, bins=logbins, color='gray')\n",
    "plt.xscale('log', nonposx='clip', basex=base)\n",
    "ax = plt.gca()\n",
    "\n",
    "cmap = matplotlib.cm.Set2\n",
    "ax.hist(x[original_int_types == 'comment'], bins=logbins, color=cmap(0.8), alpha=0.8, label='Comments')\n",
    "ax.hist(x[original_int_types == 'guestbook'], bins=logbins, color=cmap(0), alpha=0.8, label='Guestbooks')\n",
    "ax.hist(x[original_int_types == 'amps'], bins=logbins, color=cmap(0.5), alpha=0.8, label='Amps')\n",
    "\n",
    "print(f\"{np.mean(x / (60 * 60 * 24 * 30)):.2f} months is the mean reciprocation time.\")\n",
    "print(f\"{np.mean(x[original_int_types == 'guestbook'] / (60 * 60 * 24 * 30)):.2f} months is the mean reciprocation time to guestbooks.\")\n",
    "print(f\"{np.mean(x[original_int_types == 'comment'] / (60 * 60 * 24 * 30)):.2f} months is the mean reciprocation time to comments.\")\n",
    "print(f\"{np.mean(x[original_int_types == 'amps'] / (60 * 60 * 24 * 30)):.2f} months is the mean reciprocation time to amps.\")\n",
    "print(f\"{np.median(x / (60 * 60 * 24 * 30)):.2f} months is the median reciprocation time.\")\n",
    "print(f\"{np.median(x[original_int_types == 'guestbook'] / (60 * 60 * 24 * 30)):.2f} months is the median reciprocation time to guestbooks.\")\n",
    "print(f\"{np.median(x[original_int_types == 'comment'] / (60 * 60 * 24 * 30)):.2f} months is the median reciprocation time to comments.\")\n",
    "print(f\"{np.median(x[original_int_types == 'amps'] / (60 * 60 * 24 * 30)):.2f} months is the median reciprocation time to amps.\")\n",
    "\n",
    "plt.legend()\n",
    "\n",
    "# add semantically interpretable time moments\n",
    "#ax.axvline(60, color='black', alpha=0.1)\n",
    "ax.axvline(60 * 60, color='black', alpha=0.1)\n",
    "ax.axvline(60 * 60 * 24, color='black', alpha=0.1)\n",
    "ax.axvline(60 * 60 * 24 * 30, color='black', alpha=0.1)\n",
    "ax.axvline(60 * 60 * 24 * 365, color='black', alpha=0.1)\n",
    "ax.axvline(60 * 60 * 24 * 365 * 10, color='black', alpha=0.1)\n",
    "text_y = ax.transData.inverted().transform((0, ax.transAxes.transform((0, 0.95))[1]))[1]  # https://matplotlib.org/users/transforms_tutorial.html\n",
    "#ax.text(60, text_y, 'Minute', color='darkgray')\n",
    "ax.text(60 * 60, text_y, 'Hour', color='darkgray')\n",
    "ax.text(60 * 60 * 24, text_y, 'Day', color='darkgray')\n",
    "ax.text(60 * 60 * 24 * 30, text_y, 'Month', color='darkgray')\n",
    "ax.text(60 * 60 * 24 * 365, text_y, 'Year', color='darkgray')\n",
    "ax.text(60 * 60 * 24 * 365 * 10, text_y, 'Decade', color='darkgray')\n",
    "\n",
    "plt.show()"
   ]
  },
  {
   "cell_type": "code",
   "execution_count": 94,
   "metadata": {},
   "outputs": [
    {
     "data": {
      "text/plain": [
       "[(('comment', 'comment'), 3220),\n",
       " (('amps', 'amps'), 2287),\n",
       " (('amps', 'comment'), 2194),\n",
       " (('comment', 'amps'), 1885),\n",
       " (('guestbook', 'comment'), 1037),\n",
       " (('guestbook', 'amps'), 797),\n",
       " (('guestbook', 'guestbook'), 466),\n",
       " (('amps', 'guestbook'), 448),\n",
       " (('comment', 'guestbook'), 422)]"
      ]
     },
     "execution_count": 94,
     "metadata": {},
     "output_type": "execute_result"
    }
   ],
   "source": [
    "# it seems like comments and guestbooks are more likely to be reciprocated or to be the reciprocating interaction type\n",
    "# amps are common, but not likely to start reciprocated relationships\n",
    "# this could be quantified more specifically if needed or desired\n",
    "Counter(zip(original_int_types, reciprocating_int_types)).most_common()"
   ]
  },
  {
   "cell_type": "markdown",
   "metadata": {},
   "source": [
    "#### Print final notebook processing time"
   ]
  },
  {
   "cell_type": "code",
   "execution_count": 98,
   "metadata": {},
   "outputs": [
    {
     "name": "stdout",
     "output_type": "stream",
     "text": [
      "Total processing time: 6:03:45.766699\n"
     ]
    }
   ],
   "source": [
    "total_processing_time = datetime.now() - start_time\n",
    "print(f\"Total processing time: {str(total_processing_time)}\")"
   ]
  },
  {
   "cell_type": "code",
   "execution_count": null,
   "metadata": {},
   "outputs": [],
   "source": []
  }
 ],
 "metadata": {
  "kernelspec": {
   "display_name": "Python (shared-conda)",
   "language": "python",
   "name": "shared-conda"
  },
  "language_info": {
   "codemirror_mode": {
    "name": "ipython",
    "version": 3
   },
   "file_extension": ".py",
   "mimetype": "text/x-python",
   "name": "python",
   "nbconvert_exporter": "python",
   "pygments_lexer": "ipython3",
   "version": "3.7.3"
  }
 },
 "nbformat": 4,
 "nbformat_minor": 2
}
