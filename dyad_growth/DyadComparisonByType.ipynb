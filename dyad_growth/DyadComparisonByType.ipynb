{
 "cells": [
  {
   "cell_type": "markdown",
   "metadata": {},
   "source": [
    "Dyad Comparison (by author role)\n",
    "===\n",
    "\n",
    "Goal:\n",
    " - Do certain author role pairs reciprocate more? (Logistic regression)\n",
    " - Do certain author role pairs last longer than others? (Survival analysis)\n",
    " - Do certain author roles have more interactions? (Linear regression)\n",
    " \n",
    "A next step: does the network structure have implications for the length of time that a relationship lasts?"
   ]
  },
  {
   "cell_type": "code",
   "execution_count": 6,
   "metadata": {},
   "outputs": [],
   "source": [
    "%reload_ext autoreload\n",
    "%autoreload 2\n",
    "%matplotlib inline"
   ]
  },
  {
   "cell_type": "code",
   "execution_count": 7,
   "metadata": {},
   "outputs": [],
   "source": [
    "import os\n",
    "import re\n",
    "import pandas as pd\n",
    "import numpy as np\n",
    "\n",
    "from collections import Counter, defaultdict\n",
    "import sqlite3\n",
    "from tqdm import tqdm\n",
    "import random\n",
    "import pickle\n",
    "from datetime import datetime\n",
    "import bisect\n",
    "\n",
    "import matplotlib.pyplot as plt\n",
    "import matplotlib.dates as md\n",
    "import matplotlib\n",
    "import pylab as pl\n",
    "from IPython.core.display import display, HTML\n",
    "\n",
    "import networkx as nx\n",
    "import scipy.stats"
   ]
  },
  {
   "cell_type": "code",
   "execution_count": 8,
   "metadata": {},
   "outputs": [],
   "source": [
    "import statsmodels.api as sm\n",
    "import statsmodels.formula.api as smf"
   ]
  },
  {
   "cell_type": "code",
   "execution_count": 9,
   "metadata": {},
   "outputs": [],
   "source": [
    "working_dir = \"/home/srivbane/shared/caringbridge/data/projects/sna-social-support/dyad_growth\"\n",
    "assert os.path.exists(working_dir)"
   ]
  },
  {
   "cell_type": "code",
   "execution_count": 10,
   "metadata": {},
   "outputs": [
    {
     "data": {
      "text/plain": [
       "'/panfs/roc/groups/3/srivbane/levon003/repos/sna-social-support/figures'"
      ]
     },
     "execution_count": 10,
     "metadata": {},
     "output_type": "execute_result"
    }
   ],
   "source": [
    "git_root_dir = !git rev-parse --show-toplevel\n",
    "git_root_dir = git_root_dir[0]\n",
    "figures_dir = os.path.join(git_root_dir, 'figures')\n",
    "figures_dir"
   ]
  },
  {
   "cell_type": "code",
   "execution_count": 11,
   "metadata": {},
   "outputs": [],
   "source": [
    "start_date = datetime.fromisoformat('2005-01-01')\n",
    "start_timestamp = int(start_date.timestamp() * 1000)\n",
    "end_date = datetime.fromisoformat('2016-06-01')\n",
    "end_timestamp = int(end_date.timestamp() * 1000)\n",
    "subset_start_date = datetime.fromisoformat('2014-01-01')\n",
    "subset_start_timestamp = int(subset_start_date.timestamp() * 1000)"
   ]
  },
  {
   "cell_type": "markdown",
   "metadata": {},
   "source": [
    "### Read in the data"
   ]
  },
  {
   "cell_type": "code",
   "execution_count": 12,
   "metadata": {},
   "outputs": [
    {
     "data": {
      "text/plain": [
       "362345"
      ]
     },
     "execution_count": 12,
     "metadata": {},
     "output_type": "execute_result"
    }
   ],
   "source": [
    "# load the list of valid users\n",
    "data_selection_working_dir = \"/home/srivbane/shared/caringbridge/data/projects/sna-social-support/data_selection\"\n",
    "valid_user_ids = set()\n",
    "with open(os.path.join(data_selection_working_dir, \"valid_user_ids.txt\"), 'r') as infile:\n",
    "    for line in infile:\n",
    "        user_id = line.strip()\n",
    "        if user_id == \"\":\n",
    "            continue\n",
    "        else:\n",
    "            valid_user_ids.add(int(user_id))\n",
    "len(valid_user_ids)"
   ]
  },
  {
   "cell_type": "code",
   "execution_count": 13,
   "metadata": {},
   "outputs": [
    {
     "data": {
      "text/plain": [
       "411269"
      ]
     },
     "execution_count": 13,
     "metadata": {},
     "output_type": "execute_result"
    }
   ],
   "source": [
    "# load the list of valid sites\n",
    "data_selection_working_dir = \"/home/srivbane/shared/caringbridge/data/projects/sna-social-support/data_selection\"\n",
    "valid_site_ids = set()\n",
    "with open(os.path.join(data_selection_working_dir, \"valid_site_ids.txt\"), 'r') as infile:\n",
    "    for line in infile:\n",
    "        site_id = line.strip()\n",
    "        if site_id == \"\":\n",
    "            continue\n",
    "        else:\n",
    "            valid_site_ids.add(int(site_id))\n",
    "len(valid_site_ids)"
   ]
  },
  {
   "cell_type": "code",
   "execution_count": 14,
   "metadata": {},
   "outputs": [
    {
     "name": "stdout",
     "output_type": "stream",
     "text": [
      "0:00:29.119918\n"
     ]
    },
    {
     "data": {
      "text/plain": [
       "15850052"
      ]
     },
     "execution_count": 14,
     "metadata": {},
     "output_type": "execute_result"
    }
   ],
   "source": [
    "# read the journal metadata with author type info added\n",
    "s = datetime.now()\n",
    "author_type_dir = \"/home/srivbane/shared/caringbridge/data/projects/sna-social-support/author_type\"\n",
    "journal_metadata_filepath = os.path.join(author_type_dir, \"journal_metadata_with_author_type.df\")\n",
    "journal_df = pd.read_feather(journal_metadata_filepath)\n",
    "print(datetime.now() - s)\n",
    "len(journal_df)"
   ]
  },
  {
   "cell_type": "code",
   "execution_count": 15,
   "metadata": {},
   "outputs": [],
   "source": [
    "# as a quick fix for invalid dates in journals, when created_at is 0 we use the updated_at instead\n",
    "# note that only 41 updates have this issue\n",
    "invalid_created_at = journal_df.created_at <= 0\n",
    "journal_df.loc[invalid_created_at, 'created_at'] = journal_df.loc[invalid_created_at, 'updated_at']"
   ]
  },
  {
   "cell_type": "code",
   "execution_count": 16,
   "metadata": {},
   "outputs": [
    {
     "data": {
      "text/plain": [
       "714874"
      ]
     },
     "execution_count": 16,
     "metadata": {},
     "output_type": "execute_result"
    }
   ],
   "source": [
    "health_cond_filepath = os.path.join(\"/home/srivbane/shared/caringbridge/data/projects/sna-social-support/user_metadata\", \"assigned_health_conditions.feather\")\n",
    "user_health_conds_df = pd.read_feather(health_cond_filepath)\n",
    "len(user_health_conds_df)"
   ]
  },
  {
   "cell_type": "code",
   "execution_count": 17,
   "metadata": {},
   "outputs": [
    {
     "data": {
      "text/plain": [
       "0.5782527701499952"
      ]
     },
     "execution_count": 17,
     "metadata": {},
     "output_type": "execute_result"
    }
   ],
   "source": [
    "np.sum(user_health_conds_df[user_health_conds_df.user_id.isin(valid_user_ids)].assigned_health_cond != 'None') / len(user_health_conds_df[user_health_conds_df.user_id.isin(valid_user_ids)])"
   ]
  },
  {
   "cell_type": "code",
   "execution_count": 18,
   "metadata": {},
   "outputs": [
    {
     "name": "stdout",
     "output_type": "stream",
     "text": [
      "None & 152,818 & 42.17\\% \\\\\n",
      "Cancer & 109,339 & 30.18\\% \\\\\n",
      "Other & 37,556 & 10.36\\% \\\\\n",
      "Surgery/Transplantation & 15,415 & 4.25\\% \\\\\n",
      "Injury & 12,910 & 3.56\\% \\\\\n",
      "Cardiovascular/Stroke & 12,685 & 3.50\\% \\\\\n",
      "Neurological Condition & 9,376 & 2.59\\% \\\\\n",
      "Infant/Childbirth & 7,952 & 2.19\\% \\\\\n",
      "Condition Unknown & 2,252 & 0.62\\% \\\\\n",
      "Congenital/Immune Disorder & 2,042 & 0.56\\% \\\\\n"
     ]
    }
   ],
   "source": [
    "for cond, count in Counter(user_health_conds_df[user_health_conds_df.user_id.isin(valid_user_ids)].assigned_health_cond).most_common():\n",
    "    print(f\"{cond} & {count:,} & {count/len(valid_user_ids)*100:.2f}\\\\% \\\\\\\\\")"
   ]
  },
  {
   "cell_type": "code",
   "execution_count": 19,
   "metadata": {},
   "outputs": [
    {
     "data": {
      "text/plain": [
       "362345"
      ]
     },
     "execution_count": 19,
     "metadata": {},
     "output_type": "execute_result"
    }
   ],
   "source": [
    "# read the user author type dataframe\n",
    "author_type_dir = \"/home/srivbane/shared/caringbridge/data/projects/sna-social-support/author_type\"\n",
    "user_patient_proportions_filepath = os.path.join(author_type_dir, 'user_patient_proportions.df')\n",
    "user_df = pd.read_feather(user_patient_proportions_filepath)\n",
    "len(user_df)"
   ]
  },
  {
   "cell_type": "code",
   "execution_count": 20,
   "metadata": {},
   "outputs": [
    {
     "data": {
      "text/plain": [
       "14812407"
      ]
     },
     "execution_count": 20,
     "metadata": {},
     "output_type": "execute_result"
    }
   ],
   "source": [
    "# read the user->user interactions dataframe\n",
    "metadata_dir = \"/home/srivbane/shared/caringbridge/data/projects/sna-social-support/user_metadata\"\n",
    "u2u_df = pd.read_feather(os.path.join(metadata_dir,\"u2u_df.feather\"))\n",
    "len(u2u_df)"
   ]
  },
  {
   "cell_type": "code",
   "execution_count": 21,
   "metadata": {},
   "outputs": [
    {
     "data": {
      "text/plain": [
       "840943"
      ]
     },
     "execution_count": 21,
     "metadata": {},
     "output_type": "execute_result"
    }
   ],
   "source": [
    "# read the site-level metadata\n",
    "site_metadata_working_dir = \"/home/srivbane/shared/caringbridge/data/derived/site_metadata\"\n",
    "site_metadata_filepath = os.path.join(site_metadata_working_dir, \"site_metadata.feather\")\n",
    "site_metadata_df = pd.read_feather(site_metadata_filepath)\n",
    "len(site_metadata_df)"
   ]
  },
  {
   "cell_type": "code",
   "execution_count": 22,
   "metadata": {},
   "outputs": [
    {
     "data": {
      "text/plain": [
       "0.5335096980321882"
      ]
     },
     "execution_count": 22,
     "metadata": {},
     "output_type": "execute_result"
    }
   ],
   "source": [
    "# percent of valid sites that self-report a health condition\n",
    "site_subset = site_metadata_df[site_metadata_df.site_id.isin(valid_site_ids)]\n",
    "np.sum(site_subset.healthCondition_category.notnull()) / len(site_subset)"
   ]
  },
  {
   "cell_type": "code",
   "execution_count": 23,
   "metadata": {},
   "outputs": [],
   "source": [
    "# currently not necessary, since we use the processed user->user interactions...\n",
    "# read in the interactions dataframe\n",
    "#metadata_dir = \"/home/srivbane/shared/caringbridge/data/projects/sna-social-support/user_metadata\"\n",
    "#author_to_site = os.path.join(metadata_dir, \"interaction_metadata.h5\")\n",
    "#ints_df = pd.read_hdf(author_to_site)\n",
    "#len(ints_df)"
   ]
  },
  {
   "cell_type": "markdown",
   "metadata": {},
   "source": [
    "## Filter to only valid users and sort data\n",
    "\n",
    "Also create initiations dataframe"
   ]
  },
  {
   "cell_type": "code",
   "execution_count": 24,
   "metadata": {},
   "outputs": [
    {
     "data": {
      "text/plain": [
       "362345"
      ]
     },
     "execution_count": 24,
     "metadata": {},
     "output_type": "execute_result"
    }
   ],
   "source": [
    "user_df = user_df[user_df.user_id.isin(valid_user_ids)]\n",
    "len(user_df)"
   ]
  },
  {
   "cell_type": "code",
   "execution_count": 25,
   "metadata": {},
   "outputs": [
    {
     "data": {
      "text/plain": [
       "10441676"
      ]
     },
     "execution_count": 25,
     "metadata": {},
     "output_type": "execute_result"
    }
   ],
   "source": [
    "u2u_df = u2u_df[(u2u_df.from_user_id.isin(valid_user_ids))&(u2u_df.to_user_id.isin(valid_user_ids))]\n",
    "len(u2u_df)"
   ]
  },
  {
   "cell_type": "code",
   "execution_count": 26,
   "metadata": {},
   "outputs": [],
   "source": [
    "u2u_df = u2u_df.sort_values(by='created_at', ascending=True)\n",
    "init_df = u2u_df.drop_duplicates(subset=['from_user_id', 'to_user_id'], keep='first')"
   ]
  },
  {
   "cell_type": "code",
   "execution_count": 27,
   "metadata": {},
   "outputs": [
    {
     "data": {
      "text/html": [
       "<div>\n",
       "<style scoped>\n",
       "    .dataframe tbody tr th:only-of-type {\n",
       "        vertical-align: middle;\n",
       "    }\n",
       "\n",
       "    .dataframe tbody tr th {\n",
       "        vertical-align: top;\n",
       "    }\n",
       "\n",
       "    .dataframe thead th {\n",
       "        text-align: right;\n",
       "    }\n",
       "</style>\n",
       "<table border=\"1\" class=\"dataframe\">\n",
       "  <thead>\n",
       "    <tr style=\"text-align: right;\">\n",
       "      <th></th>\n",
       "      <th>from_user_id</th>\n",
       "      <th>to_user_id</th>\n",
       "      <th>created_at</th>\n",
       "      <th>int_type</th>\n",
       "    </tr>\n",
       "  </thead>\n",
       "  <tbody>\n",
       "    <tr>\n",
       "      <th>13689525</th>\n",
       "      <td>23616609</td>\n",
       "      <td>20085865</td>\n",
       "      <td>1101191820000</td>\n",
       "      <td>amps</td>\n",
       "    </tr>\n",
       "    <tr>\n",
       "      <th>10935800</th>\n",
       "      <td>10499159</td>\n",
       "      <td>20085865</td>\n",
       "      <td>1101191820000</td>\n",
       "      <td>amps</td>\n",
       "    </tr>\n",
       "    <tr>\n",
       "      <th>10935801</th>\n",
       "      <td>10499159</td>\n",
       "      <td>20085865</td>\n",
       "      <td>1102603140000</td>\n",
       "      <td>amps</td>\n",
       "    </tr>\n",
       "    <tr>\n",
       "      <th>2789662</th>\n",
       "      <td>1217109</td>\n",
       "      <td>1</td>\n",
       "      <td>1103856900000</td>\n",
       "      <td>amps</td>\n",
       "    </tr>\n",
       "    <tr>\n",
       "      <th>8914</th>\n",
       "      <td>122</td>\n",
       "      <td>48</td>\n",
       "      <td>1117645589000</td>\n",
       "      <td>guestbook</td>\n",
       "    </tr>\n",
       "  </tbody>\n",
       "</table>\n",
       "</div>"
      ],
      "text/plain": [
       "          from_user_id  to_user_id     created_at   int_type\n",
       "13689525      23616609    20085865  1101191820000       amps\n",
       "10935800      10499159    20085865  1101191820000       amps\n",
       "10935801      10499159    20085865  1102603140000       amps\n",
       "2789662        1217109           1  1103856900000       amps\n",
       "8914               122          48  1117645589000  guestbook"
      ]
     },
     "execution_count": 27,
     "metadata": {},
     "output_type": "execute_result"
    }
   ],
   "source": [
    "u2u_df.head()"
   ]
  },
  {
   "cell_type": "markdown",
   "metadata": {},
   "source": [
    "## Forming relationships and labeling them"
   ]
  },
  {
   "cell_type": "code",
   "execution_count": 28,
   "metadata": {},
   "outputs": [
    {
     "name": "stderr",
     "output_type": "stream",
     "text": [
      "100%|██████████| 947270/947270 [00:02<00:00, 348067.96it/s]\n"
     ]
    }
   ],
   "source": [
    "dyad_ids_dict = {}\n",
    "dyad_ids_list = []\n",
    "global_dyad_counter = 0\n",
    "for row in tqdm(init_df.itertuples(), total=len(init_df)):\n",
    "    tup = (row.from_user_id, row.to_user_id)\n",
    "    r_tup = (row.to_user_id, row.from_user_id)\n",
    "    if r_tup in dyad_ids_dict:\n",
    "        dyad_id = dyad_ids_dict[r_tup]\n",
    "        dyad_ids_dict[tup] = dyad_id\n",
    "    else:\n",
    "        dyad_id = global_dyad_counter\n",
    "        global_dyad_counter += 1\n",
    "        dyad_ids_dict[tup] = dyad_id\n",
    "    dyad_ids_list.append(dyad_id)"
   ]
  },
  {
   "cell_type": "code",
   "execution_count": 29,
   "metadata": {},
   "outputs": [
    {
     "name": "stderr",
     "output_type": "stream",
     "text": [
      "100%|██████████| 10441676/10441676 [00:23<00:00, 441555.18it/s]\n"
     ]
    }
   ],
   "source": [
    "all_ints_dyad_ids_list = []\n",
    "for row in tqdm(u2u_df.itertuples(), total=len(u2u_df)):\n",
    "    tup = (row.from_user_id, row.to_user_id)\n",
    "    dyad_id = dyad_ids_dict[tup]\n",
    "    all_ints_dyad_ids_list.append(dyad_id)"
   ]
  },
  {
   "cell_type": "code",
   "execution_count": 30,
   "metadata": {},
   "outputs": [],
   "source": [
    "u2u_df['dyad_id'] = all_ints_dyad_ids_list"
   ]
  },
  {
   "cell_type": "code",
   "execution_count": 31,
   "metadata": {},
   "outputs": [],
   "source": [
    "#def create_dyad_row(group):\n",
    "dyad_groups = u2u_df.groupby(by='dyad_id', sort=False)\n",
    "#.apply()"
   ]
  },
  {
   "cell_type": "code",
   "execution_count": 32,
   "metadata": {},
   "outputs": [
    {
     "name": "stderr",
     "output_type": "stream",
     "text": [
      "100%|██████████| 821641/821641 [05:15<00:00, 2601.51it/s]\n"
     ]
    }
   ],
   "source": [
    "group_data = []\n",
    "for dyad_id, group in tqdm(dyad_groups):\n",
    "    data = group.values\n",
    "    from_user_id = data[:,0]\n",
    "    #to_user_id \tcreated_at \tint_type\n",
    "    initiator_user_id = from_user_id[0]\n",
    "    reciprocator_user_id = None\n",
    "    is_reciprocated = False\n",
    "    int_count = len(from_user_id)\n",
    "    created_at = data[:,2]\n",
    "    first_int = created_at[0]\n",
    "    last_int = created_at[-1]\n",
    "    \n",
    "    user_set = set(from_user_id)\n",
    "    if int_count > 1 and len(user_set) > 1:\n",
    "        is_reciprocated = True\n",
    "        user_set.remove(initiator_user_id)\n",
    "        reciprocator_user_id = user_set.pop()\n",
    "        \n",
    "        int_type_list = data[:,3].tolist()\n",
    "        created_at_list = created_at.tolist()\n",
    "        initiator_ints_list = from_user_id == initiator_user_id\n",
    "        initiator_int_count = np.sum(initiator_ints_list)\n",
    "        reciprocator_int_count = int_count - initiator_int_count\n",
    "    else:\n",
    "        int_type_list = []\n",
    "        created_at_list = []\n",
    "        initiator_ints_list = [True for i in range(int_count)]\n",
    "        initiator_int_count = int_count\n",
    "        reciprocator_int_count = 0\n",
    "    \n",
    "    d = {\n",
    "        'initiator_user_id': initiator_user_id,\n",
    "        'reciprocator_user_id': reciprocator_user_id,\n",
    "        'is_reciprocated': is_reciprocated,\n",
    "        'int_count': int_count,\n",
    "        'first_int': first_int,\n",
    "        'last_int': last_int,\n",
    "        'initiator_int_count': initiator_int_count,\n",
    "        'reciprocator_int_count': reciprocator_int_count,\n",
    "        'int_type_list': int_type_list,\n",
    "        'created_at_list': created_at_list,\n",
    "        'initiator_ints_list': initiator_ints_list\n",
    "    }\n",
    "    group_data.append(d)"
   ]
  },
  {
   "cell_type": "code",
   "execution_count": 33,
   "metadata": {},
   "outputs": [
    {
     "data": {
      "text/plain": [
       "821641"
      ]
     },
     "execution_count": 33,
     "metadata": {},
     "output_type": "execute_result"
    }
   ],
   "source": [
    "dyad_df = pd.DataFrame(group_data)\n",
    "len(dyad_df)"
   ]
  },
  {
   "cell_type": "code",
   "execution_count": 34,
   "metadata": {},
   "outputs": [
    {
     "data": {
      "text/plain": [
       "696012"
      ]
     },
     "execution_count": 34,
     "metadata": {},
     "output_type": "execute_result"
    }
   ],
   "source": [
    "# not sure why this n is larger than the reciprocal analysis regression...\n",
    "len(dyad_df[(dyad_df.initiator_user_id.isin(valid_user_ids))&(~dyad_df.is_reciprocated)])"
   ]
  },
  {
   "cell_type": "code",
   "execution_count": 35,
   "metadata": {},
   "outputs": [
    {
     "data": {
      "text/plain": [
       "(125629, 0.1529001108756744)"
      ]
     },
     "execution_count": 35,
     "metadata": {},
     "output_type": "execute_result"
    }
   ],
   "source": [
    "# of all initiations, this is the percent that are reciprocated\n",
    "np.sum(dyad_df.is_reciprocated), np.sum(dyad_df.is_reciprocated) / len(dyad_df)"
   ]
  },
  {
   "cell_type": "code",
   "execution_count": 36,
   "metadata": {},
   "outputs": [
    {
     "name": "stderr",
     "output_type": "stream",
     "text": [
      "100%|██████████| 821641/821641 [00:02<00:00, 299483.59it/s]\n"
     ]
    }
   ],
   "source": [
    "first_reciprocator_int_times = []\n",
    "for row in tqdm(dyad_df.itertuples(), total=len(dyad_df)):\n",
    "    if row.is_reciprocated:\n",
    "        ind = row.initiator_ints_list.tolist().index(False)\n",
    "        first_reciprocator_int = row.created_at_list[ind]\n",
    "    else:\n",
    "        first_reciprocator_int = -1\n",
    "    first_reciprocator_int_times.append(first_reciprocator_int)"
   ]
  },
  {
   "cell_type": "code",
   "execution_count": 37,
   "metadata": {},
   "outputs": [],
   "source": [
    "first_reciprocator_int_times = np.array(first_reciprocator_int_times)"
   ]
  },
  {
   "cell_type": "code",
   "execution_count": 38,
   "metadata": {},
   "outputs": [
    {
     "data": {
      "text/plain": [
       "(0.07563640879175462, 161060)"
      ]
     },
     "execution_count": 38,
     "metadata": {},
     "output_type": "execute_result"
    }
   ],
   "source": [
    "# of initiations that occurred in the analysis period, 7.5\\% are initiated\n",
    "dyad_subset = dyad_df[(dyad_df.first_int >= subset_start_timestamp)&(dyad_df.first_int <= end_timestamp)]\n",
    "np.sum(dyad_subset.is_reciprocated) / len(dyad_subset), len(dyad_subset)"
   ]
  },
  {
   "cell_type": "code",
   "execution_count": 39,
   "metadata": {},
   "outputs": [
    {
     "data": {
      "text/plain": [
       "12182"
      ]
     },
     "execution_count": 39,
     "metadata": {},
     "output_type": "execute_result"
    }
   ],
   "source": [
    "np.sum(dyad_subset.is_reciprocated)"
   ]
  },
  {
   "cell_type": "code",
   "execution_count": 40,
   "metadata": {},
   "outputs": [
    {
     "data": {
      "text/plain": [
       "(0.13587713595839523, 172288)"
      ]
     },
     "execution_count": 40,
     "metadata": {},
     "output_type": "execute_result"
    }
   ],
   "source": [
    "# of initiations that occurred in the analysis period, 7.5\\% are initiated\n",
    "dyad_subset = dyad_df[((dyad_df.first_int >= subset_start_timestamp)&(dyad_df.first_int <= end_timestamp))\n",
    "    |((first_reciprocator_int_times >= subset_start_timestamp)&(first_reciprocator_int_times <= end_timestamp))]\n",
    "np.sum(dyad_subset.is_reciprocated) / len(dyad_subset), len(dyad_subset)"
   ]
  },
  {
   "cell_type": "code",
   "execution_count": 41,
   "metadata": {},
   "outputs": [
    {
     "data": {
      "text/plain": [
       "125629"
      ]
     },
     "execution_count": 41,
     "metadata": {},
     "output_type": "execute_result"
    }
   ],
   "source": [
    "rel_df = dyad_df[dyad_df.is_reciprocated].copy()\n",
    "len(rel_df)"
   ]
  },
  {
   "cell_type": "code",
   "execution_count": 42,
   "metadata": {},
   "outputs": [],
   "source": [
    "rel_df['duration_months'] = (rel_df.last_int - rel_df.first_int) / (1000 * 60 * 60 * 24 * 30)"
   ]
  },
  {
   "cell_type": "code",
   "execution_count": 43,
   "metadata": {},
   "outputs": [],
   "source": [
    "author_type_dict = {row.user_id: row.user_author_type for row in user_df.itertuples()}\n",
    "rel_df['initiator_author_type'] = rel_df.initiator_user_id.map(lambda user_id: author_type_dict[user_id])\n",
    "rel_df['reciprocator_author_type'] = rel_df.reciprocator_user_id.map(lambda user_id: author_type_dict[user_id])"
   ]
  },
  {
   "cell_type": "code",
   "execution_count": 44,
   "metadata": {},
   "outputs": [],
   "source": [
    "rel_df['pct_initiator_ints'] = rel_df.initiator_int_count / rel_df.int_count"
   ]
  },
  {
   "cell_type": "code",
   "execution_count": 45,
   "metadata": {
    "scrolled": true
   },
   "outputs": [
    {
     "data": {
      "text/html": [
       "<div>\n",
       "<style scoped>\n",
       "    .dataframe tbody tr th:only-of-type {\n",
       "        vertical-align: middle;\n",
       "    }\n",
       "\n",
       "    .dataframe tbody tr th {\n",
       "        vertical-align: top;\n",
       "    }\n",
       "\n",
       "    .dataframe thead th {\n",
       "        text-align: right;\n",
       "    }\n",
       "</style>\n",
       "<table border=\"1\" class=\"dataframe\">\n",
       "  <thead>\n",
       "    <tr style=\"text-align: right;\">\n",
       "      <th></th>\n",
       "      <th>initiator_user_id</th>\n",
       "      <th>reciprocator_user_id</th>\n",
       "      <th>is_reciprocated</th>\n",
       "      <th>int_count</th>\n",
       "      <th>first_int</th>\n",
       "      <th>last_int</th>\n",
       "      <th>initiator_int_count</th>\n",
       "      <th>reciprocator_int_count</th>\n",
       "      <th>int_type_list</th>\n",
       "      <th>created_at_list</th>\n",
       "      <th>initiator_ints_list</th>\n",
       "      <th>duration_months</th>\n",
       "      <th>initiator_author_type</th>\n",
       "      <th>reciprocator_author_type</th>\n",
       "      <th>pct_initiator_ints</th>\n",
       "    </tr>\n",
       "  </thead>\n",
       "  <tbody>\n",
       "    <tr>\n",
       "      <th>9</th>\n",
       "      <td>386</td>\n",
       "      <td>28.0</td>\n",
       "      <td>True</td>\n",
       "      <td>168</td>\n",
       "      <td>1117710956000</td>\n",
       "      <td>1238549181000</td>\n",
       "      <td>34</td>\n",
       "      <td>134</td>\n",
       "      <td>[guestbook, guestbook, guestbook, guestbook, g...</td>\n",
       "      <td>[1117710956000, 1118835728000, 1119181337000, ...</td>\n",
       "      <td>[True, True, True, True, True, True, True, Tru...</td>\n",
       "      <td>46.619686</td>\n",
       "      <td>mixed</td>\n",
       "      <td>cg</td>\n",
       "      <td>0.202381</td>\n",
       "    </tr>\n",
       "    <tr>\n",
       "      <th>14</th>\n",
       "      <td>597</td>\n",
       "      <td>486.0</td>\n",
       "      <td>True</td>\n",
       "      <td>9</td>\n",
       "      <td>1117747707000</td>\n",
       "      <td>1194404419000</td>\n",
       "      <td>7</td>\n",
       "      <td>2</td>\n",
       "      <td>[guestbook, guestbook, guestbook, guestbook, g...</td>\n",
       "      <td>[1117747707000, 1120831206000, 1121130818000, ...</td>\n",
       "      <td>[True, True, True, True, True, True, True, Fal...</td>\n",
       "      <td>29.574349</td>\n",
       "      <td>cg</td>\n",
       "      <td>p</td>\n",
       "      <td>0.777778</td>\n",
       "    </tr>\n",
       "  </tbody>\n",
       "</table>\n",
       "</div>"
      ],
      "text/plain": [
       "    initiator_user_id  reciprocator_user_id  is_reciprocated  int_count  \\\n",
       "9                 386                  28.0             True        168   \n",
       "14                597                 486.0             True          9   \n",
       "\n",
       "        first_int       last_int  initiator_int_count  reciprocator_int_count  \\\n",
       "9   1117710956000  1238549181000                   34                     134   \n",
       "14  1117747707000  1194404419000                    7                       2   \n",
       "\n",
       "                                        int_type_list  \\\n",
       "9   [guestbook, guestbook, guestbook, guestbook, g...   \n",
       "14  [guestbook, guestbook, guestbook, guestbook, g...   \n",
       "\n",
       "                                      created_at_list  \\\n",
       "9   [1117710956000, 1118835728000, 1119181337000, ...   \n",
       "14  [1117747707000, 1120831206000, 1121130818000, ...   \n",
       "\n",
       "                                  initiator_ints_list  duration_months  \\\n",
       "9   [True, True, True, True, True, True, True, Tru...        46.619686   \n",
       "14  [True, True, True, True, True, True, True, Fal...        29.574349   \n",
       "\n",
       "   initiator_author_type reciprocator_author_type  pct_initiator_ints  \n",
       "9                  mixed                       cg            0.202381  \n",
       "14                    cg                        p            0.777778  "
      ]
     },
     "execution_count": 45,
     "metadata": {},
     "output_type": "execute_result"
    }
   ],
   "source": [
    "rel_df.head(n=2)"
   ]
  },
  {
   "cell_type": "markdown",
   "metadata": {},
   "source": [
    "#### Quantiles\n",
    "\n",
    "Descriptive analysis during revisions."
   ]
  },
  {
   "cell_type": "code",
   "execution_count": 46,
   "metadata": {},
   "outputs": [
    {
     "data": {
      "text/plain": [
       "13.0"
      ]
     },
     "execution_count": 46,
     "metadata": {},
     "output_type": "execute_result"
    }
   ],
   "source": [
    "np.median(rel_df.int_count)"
   ]
  },
  {
   "cell_type": "code",
   "execution_count": 47,
   "metadata": {},
   "outputs": [
    {
     "data": {
      "text/plain": [
       "(7051, 0.05612557610105947)"
      ]
     },
     "execution_count": 47,
     "metadata": {},
     "output_type": "execute_result"
    }
   ],
   "source": [
    "np.sum(rel_df.int_count == 2), np.sum(rel_df.int_count == 2) / len(rel_df)"
   ]
  },
  {
   "cell_type": "code",
   "execution_count": 48,
   "metadata": {},
   "outputs": [
    {
     "data": {
      "text/plain": [
       "(117548, 0.935675679978349)"
      ]
     },
     "execution_count": 48,
     "metadata": {},
     "output_type": "execute_result"
    }
   ],
   "source": [
    "np.sum(rel_df.int_count <= 100), np.sum(rel_df.int_count <= 100) / len(rel_df)"
   ]
  },
  {
   "cell_type": "code",
   "execution_count": 49,
   "metadata": {},
   "outputs": [
    {
     "data": {
      "text/plain": [
       "(3.0, 72.0)"
      ]
     },
     "execution_count": 49,
     "metadata": {},
     "output_type": "execute_result"
    }
   ],
   "source": [
    "np.quantile(rel_df.int_count, 0.1), np.quantile(rel_df.int_count, 0.9)"
   ]
  },
  {
   "cell_type": "markdown",
   "metadata": {},
   "source": [
    "Finished creating columns for \"relationships\" i.e. reciprocated dyads\n",
    "\n",
    "#### Descriptive analysis"
   ]
  },
  {
   "cell_type": "code",
   "execution_count": null,
   "metadata": {},
   "outputs": [],
   "source": []
  },
  {
   "cell_type": "code",
   "execution_count": 50,
   "metadata": {},
   "outputs": [
    {
     "data": {
      "image/png": "[encoded data removed]",
      "text/plain": [
       "<Figure size 432x288 with 1 Axes>"
      ]
     },
     "metadata": {
      "needs_background": "light"
     },
     "output_type": "display_data"
    }
   ],
   "source": [
    "# distribution of number of interactions\n",
    "plt.hist(rel_df.int_count, log=True, bins=50, range=(0, 5000))\n",
    "plt.hist(rel_df.initiator_int_count, log=True, bins=50, range=(0, 5000), alpha=0.4)\n",
    "plt.hist(rel_df.reciprocator_int_count, log=True, bins=50, range=(0, 5000), alpha=0.4)\n",
    "plt.show()"
   ]
  },
  {
   "cell_type": "code",
   "execution_count": 51,
   "metadata": {},
   "outputs": [
    {
     "data": {
      "text/plain": [
       "(34.06109625668449,\n",
       " 34.760406791347066,\n",
       " 0.6993105346625725,\n",
       " Ttest_indResult(statistic=-0.59889851320648, pvalue=0.5492458285396986))"
      ]
     },
     "execution_count": 51,
     "metadata": {},
     "output_type": "execute_result"
    }
   ],
   "source": [
    "# no real difference in average number of interactions by initiator\n",
    "sample1 = rel_df[rel_df.initiator_author_type == 'p'].int_count\n",
    "sample2 = rel_df[rel_df.initiator_author_type == 'cg'].int_count\n",
    "\n",
    "np.mean(sample1), \\\n",
    "np.mean(sample2), \\\n",
    "np.mean(sample2) - np.mean(sample1), \\\n",
    "scipy.stats.ttest_ind(sample1, sample2, equal_var=False)"
   ]
  },
  {
   "cell_type": "code",
   "execution_count": 52,
   "metadata": {},
   "outputs": [
    {
     "data": {
      "text/plain": [
       "(26.740505215623408,\n",
       " 27.80766341585772,\n",
       " 1.0671582002343136,\n",
       " Ttest_indResult(statistic=-5.6401478402747305, pvalue=1.712191183660106e-08))"
      ]
     },
     "execution_count": 52,
     "metadata": {},
     "output_type": "execute_result"
    }
   ],
   "source": [
    "# relationships initiated by caregivers are longer on average\n",
    "# but this is hard to tease apart without a survival analysis\n",
    "sample1 = rel_df[rel_df.initiator_author_type == 'p'].duration_months\n",
    "sample2 = rel_df[rel_df.initiator_author_type == 'cg'].duration_months\n",
    "\n",
    "np.mean(sample1), \\\n",
    "np.mean(sample2), \\\n",
    "np.mean(sample2) - np.mean(sample1), \\\n",
    "scipy.stats.ttest_ind(sample1, sample2, equal_var=False)"
   ]
  },
  {
   "cell_type": "code",
   "execution_count": 53,
   "metadata": {},
   "outputs": [
    {
     "data": {
      "text/html": [
       "<div>\n",
       "<style scoped>\n",
       "    .dataframe tbody tr th:only-of-type {\n",
       "        vertical-align: middle;\n",
       "    }\n",
       "\n",
       "    .dataframe tbody tr th {\n",
       "        vertical-align: top;\n",
       "    }\n",
       "\n",
       "    .dataframe thead th {\n",
       "        text-align: right;\n",
       "    }\n",
       "</style>\n",
       "<table border=\"1\" class=\"dataframe\">\n",
       "  <thead>\n",
       "    <tr style=\"text-align: right;\">\n",
       "      <th></th>\n",
       "      <th>initiator_user_id</th>\n",
       "      <th>reciprocator_user_id</th>\n",
       "      <th>is_reciprocated</th>\n",
       "      <th>int_count</th>\n",
       "      <th>first_int</th>\n",
       "      <th>last_int</th>\n",
       "      <th>initiator_int_count</th>\n",
       "      <th>reciprocator_int_count</th>\n",
       "      <th>int_type_list</th>\n",
       "      <th>created_at_list</th>\n",
       "      <th>initiator_ints_list</th>\n",
       "      <th>duration_months</th>\n",
       "      <th>initiator_author_type</th>\n",
       "      <th>reciprocator_author_type</th>\n",
       "      <th>pct_initiator_ints</th>\n",
       "    </tr>\n",
       "  </thead>\n",
       "  <tbody>\n",
       "    <tr>\n",
       "      <th>169206</th>\n",
       "      <td>5611265</td>\n",
       "      <td>3295808.0</td>\n",
       "      <td>True</td>\n",
       "      <td>5079</td>\n",
       "      <td>1229915767000</td>\n",
       "      <td>1492377712000</td>\n",
       "      <td>5078</td>\n",
       "      <td>1</td>\n",
       "      <td>[amps, guestbook, guestbook, guestbook, guestb...</td>\n",
       "      <td>[1229915767000, 1256495633000, 1256495633000, ...</td>\n",
       "      <td>[True, True, True, True, True, True, True, Tru...</td>\n",
       "      <td>101.258466</td>\n",
       "      <td>p</td>\n",
       "      <td>cg</td>\n",
       "      <td>0.999803</td>\n",
       "    </tr>\n",
       "    <tr>\n",
       "      <th>215561</th>\n",
       "      <td>1939017</td>\n",
       "      <td>3666823.0</td>\n",
       "      <td>True</td>\n",
       "      <td>9676</td>\n",
       "      <td>1244782225000</td>\n",
       "      <td>1544013214000</td>\n",
       "      <td>2875</td>\n",
       "      <td>6801</td>\n",
       "      <td>[guestbook, guestbook, guestbook, guestbook, g...</td>\n",
       "      <td>[1244782225000, 1244782225000, 1246063413000, ...</td>\n",
       "      <td>[True, True, False, False, False, False, False...</td>\n",
       "      <td>115.444054</td>\n",
       "      <td>p</td>\n",
       "      <td>cg</td>\n",
       "      <td>0.297127</td>\n",
       "    </tr>\n",
       "    <tr>\n",
       "      <th>229684</th>\n",
       "      <td>3295808</td>\n",
       "      <td>3241154.0</td>\n",
       "      <td>True</td>\n",
       "      <td>8331</td>\n",
       "      <td>1250131903000</td>\n",
       "      <td>1386103411000</td>\n",
       "      <td>832</td>\n",
       "      <td>7499</td>\n",
       "      <td>[guestbook, guestbook, guestbook, guestbook, g...</td>\n",
       "      <td>[1250131903000, 1250131903000, 1250131903000, ...</td>\n",
       "      <td>[True, True, True, False, False, False, False,...</td>\n",
       "      <td>52.458144</td>\n",
       "      <td>cg</td>\n",
       "      <td>cg</td>\n",
       "      <td>0.099868</td>\n",
       "    </tr>\n",
       "    <tr>\n",
       "      <th>232947</th>\n",
       "      <td>1939017</td>\n",
       "      <td>3295808.0</td>\n",
       "      <td>True</td>\n",
       "      <td>18340</td>\n",
       "      <td>1251259893000</td>\n",
       "      <td>1549782830000</td>\n",
       "      <td>16116</td>\n",
       "      <td>2224</td>\n",
       "      <td>[guestbook, guestbook, guestbook, guestbook, g...</td>\n",
       "      <td>[1251259893000, 1251259893000, 1251259893000, ...</td>\n",
       "      <td>[True, True, True, True, True, True, False, Fa...</td>\n",
       "      <td>115.170886</td>\n",
       "      <td>p</td>\n",
       "      <td>cg</td>\n",
       "      <td>0.878735</td>\n",
       "    </tr>\n",
       "    <tr>\n",
       "      <th>233990</th>\n",
       "      <td>3295808</td>\n",
       "      <td>5485367.0</td>\n",
       "      <td>True</td>\n",
       "      <td>6424</td>\n",
       "      <td>1251587853000</td>\n",
       "      <td>1546217831000</td>\n",
       "      <td>1703</td>\n",
       "      <td>4721</td>\n",
       "      <td>[guestbook, guestbook, guestbook, guestbook, g...</td>\n",
       "      <td>[1251587853000, 1251600004000, 1251600004000, ...</td>\n",
       "      <td>[True, False, False, False, False, False, Fals...</td>\n",
       "      <td>113.668973</td>\n",
       "      <td>cg</td>\n",
       "      <td>mixed</td>\n",
       "      <td>0.265100</td>\n",
       "    </tr>\n",
       "  </tbody>\n",
       "</table>\n",
       "</div>"
      ],
      "text/plain": [
       "        initiator_user_id  reciprocator_user_id  is_reciprocated  int_count  \\\n",
       "169206            5611265             3295808.0             True       5079   \n",
       "215561            1939017             3666823.0             True       9676   \n",
       "229684            3295808             3241154.0             True       8331   \n",
       "232947            1939017             3295808.0             True      18340   \n",
       "233990            3295808             5485367.0             True       6424   \n",
       "\n",
       "            first_int       last_int  initiator_int_count  \\\n",
       "169206  1229915767000  1492377712000                 5078   \n",
       "215561  1244782225000  1544013214000                 2875   \n",
       "229684  1250131903000  1386103411000                  832   \n",
       "232947  1251259893000  1549782830000                16116   \n",
       "233990  1251587853000  1546217831000                 1703   \n",
       "\n",
       "        reciprocator_int_count  \\\n",
       "169206                       1   \n",
       "215561                    6801   \n",
       "229684                    7499   \n",
       "232947                    2224   \n",
       "233990                    4721   \n",
       "\n",
       "                                            int_type_list  \\\n",
       "169206  [amps, guestbook, guestbook, guestbook, guestb...   \n",
       "215561  [guestbook, guestbook, guestbook, guestbook, g...   \n",
       "229684  [guestbook, guestbook, guestbook, guestbook, g...   \n",
       "232947  [guestbook, guestbook, guestbook, guestbook, g...   \n",
       "233990  [guestbook, guestbook, guestbook, guestbook, g...   \n",
       "\n",
       "                                          created_at_list  \\\n",
       "169206  [1229915767000, 1256495633000, 1256495633000, ...   \n",
       "215561  [1244782225000, 1244782225000, 1246063413000, ...   \n",
       "229684  [1250131903000, 1250131903000, 1250131903000, ...   \n",
       "232947  [1251259893000, 1251259893000, 1251259893000, ...   \n",
       "233990  [1251587853000, 1251600004000, 1251600004000, ...   \n",
       "\n",
       "                                      initiator_ints_list  duration_months  \\\n",
       "169206  [True, True, True, True, True, True, True, Tru...       101.258466   \n",
       "215561  [True, True, False, False, False, False, False...       115.444054   \n",
       "229684  [True, True, True, False, False, False, False,...        52.458144   \n",
       "232947  [True, True, True, True, True, True, False, Fa...       115.170886   \n",
       "233990  [True, False, False, False, False, False, Fals...       113.668973   \n",
       "\n",
       "       initiator_author_type reciprocator_author_type  pct_initiator_ints  \n",
       "169206                     p                       cg            0.999803  \n",
       "215561                     p                       cg            0.297127  \n",
       "229684                    cg                       cg            0.099868  \n",
       "232947                     p                       cg            0.878735  \n",
       "233990                    cg                    mixed            0.265100  "
      ]
     },
     "execution_count": 53,
     "metadata": {},
     "output_type": "execute_result"
    }
   ],
   "source": [
    "# should probably investigate these relationships with huge numbers of interactions\n",
    "rel_df[rel_df.int_count > 5000]"
   ]
  },
  {
   "cell_type": "code",
   "execution_count": 54,
   "metadata": {},
   "outputs": [
    {
     "data": {
      "image/png": "[encoded data removed]",
      "text/plain": [
       "<Figure size 432x288 with 1 Axes>"
      ]
     },
     "metadata": {
      "needs_background": "light"
     },
     "output_type": "display_data"
    }
   ],
   "source": [
    "# distribution of relationship distribution\n",
    "plt.hist(rel_df.duration_months, log=True, bins=50)\n",
    "plt.show()"
   ]
  },
  {
   "cell_type": "code",
   "execution_count": 55,
   "metadata": {},
   "outputs": [
    {
     "data": {
      "image/png": "[encoded data removed]",
      "text/plain": [
       "<Figure size 432x288 with 1 Axes>"
      ]
     },
     "metadata": {
      "needs_background": "light"
     },
     "output_type": "display_data"
    }
   ],
   "source": [
    "# distribution of relationship \"balance\"\n",
    "plt.hist(rel_df[rel_df.int_count >= 20].pct_initiator_ints, log=True, bins=50)\n",
    "plt.show()"
   ]
  },
  {
   "cell_type": "code",
   "execution_count": 56,
   "metadata": {},
   "outputs": [
    {
     "data": {
      "image/png": "[encoded data removed]",
      "text/plain": [
       "<Figure size 394.421x108 with 1 Axes>"
      ]
     },
     "metadata": {
      "needs_background": "light"
     },
     "output_type": "display_data"
    }
   ],
   "source": [
    "# generate the distribution of the relationship balance as a figure for the paper\n",
    "fig, ax = plt.subplots(1, 1, figsize=(5.47807, 1.5))\n",
    "bins = np.linspace(0, 1, num=50)\n",
    "counts, edges, _ = ax.hist(rel_df.pct_initiator_ints, bins=bins, log=False, color='black', alpha=0.6)\n",
    "plt.axvline(0.245, color='black', linestyle=\"--\")\n",
    "plt.axvline(0.751, color='black', linestyle=\"--\")\n",
    "plt.text(0.4, np.max(counts) * 0.93, 'Balanced', verticalalignment='top', horizontalalignment='center')\n",
    "plt.text(0.125, np.max(counts) * 0.93, 'Receiver\\nDominated', verticalalignment='top', horizontalalignment='center')\n",
    "plt.text(0.75 + 0.125, np.max(counts) * 0.93, 'Initiator\\nDominated', verticalalignment='top', horizontalalignment='center')\n",
    "ax.set_xlabel(\"% of relationship interactions from initiator\")\n",
    "ax.set_ylabel(\"# relationships\")\n",
    "\n",
    "plt.tight_layout(pad=0.2)\n",
    "plt.margins(0,0)\n",
    "fig.savefig(fname=os.path.join(figures_dir,\"pct_balance_distribution.pdf\"), dpi=200, bbox_inches='tight', pad_inches = 0)     \n",
    "plt.show()"
   ]
  },
  {
   "cell_type": "code",
   "execution_count": 57,
   "metadata": {},
   "outputs": [
    {
     "data": {
      "text/plain": [
       "1.0"
      ]
     },
     "execution_count": 57,
     "metadata": {},
     "output_type": "execute_result"
    }
   ],
   "source": [
    "np.sum(rel_df.is_reciprocated) / len(rel_df)"
   ]
  },
  {
   "cell_type": "markdown",
   "metadata": {},
   "source": [
    "## Active time features\n",
    "\n",
    "Computes the total time active on CB"
   ]
  },
  {
   "cell_type": "code",
   "execution_count": 58,
   "metadata": {},
   "outputs": [
    {
     "data": {
      "text/plain": [
       "28388948"
      ]
     },
     "execution_count": 58,
     "metadata": {},
     "output_type": "execute_result"
    }
   ],
   "source": [
    "# read in the interactions dataframe\n",
    "metadata_dir = \"/home/srivbane/shared/caringbridge/data/projects/sna-social-support/user_metadata\"\n",
    "author_to_site = os.path.join(metadata_dir, \"interaction_metadata.h5\")\n",
    "ints_df = pd.read_hdf(author_to_site)\n",
    "len(ints_df)"
   ]
  },
  {
   "cell_type": "code",
   "execution_count": 59,
   "metadata": {},
   "outputs": [
    {
     "name": "stdout",
     "output_type": "stream",
     "text": [
      "44\n",
      "0\n"
     ]
    }
   ],
   "source": [
    "# as a quick fix for invalid dates in journals, when created_at is 0 we use the updated_at instead\n",
    "invalid_created_at = ints_df.created_at <= 0\n",
    "print(np.sum(invalid_created_at))\n",
    "ints_df.loc[invalid_created_at, 'created_at'] = ints_df.loc[invalid_created_at, 'updated_at']\n",
    "print(np.sum(ints_df.created_at <= 0))"
   ]
  },
  {
   "cell_type": "code",
   "execution_count": 60,
   "metadata": {},
   "outputs": [
    {
     "name": "stdout",
     "output_type": "stream",
     "text": [
      "0:00:51.396329\n"
     ]
    },
    {
     "data": {
      "text/plain": [
       "362345"
      ]
     },
     "execution_count": 60,
     "metadata": {},
     "output_type": "execute_result"
    }
   ],
   "source": [
    "# compute total time on site\n",
    "# for each user, this is from the very first interaction to the last interaction\n",
    "s = datetime.now()\n",
    "total_time_on_site = ints_df[ints_df.user_id.isin(valid_user_ids)].groupby(by='user_id').agg({\n",
    "    'created_at': np.ptp\n",
    "}).created_at.rename('total_time_on_site')\n",
    "total_time_on_site_dict = total_time_on_site.to_dict()\n",
    "print(datetime.now() - s)\n",
    "len(total_time_on_site_dict)"
   ]
  },
  {
   "cell_type": "code",
   "execution_count": 61,
   "metadata": {},
   "outputs": [
    {
     "name": "stdout",
     "output_type": "stream",
     "text": [
      "0:00:31.252373\n"
     ]
    },
    {
     "data": {
      "text/plain": [
       "362345"
      ]
     },
     "execution_count": 61,
     "metadata": {},
     "output_type": "execute_result"
    }
   ],
   "source": [
    "# compute first and last recorded update for each user\n",
    "s = datetime.now()\n",
    "first_int_time = ints_df[ints_df.user_id.isin(valid_user_ids)].groupby(by='user_id').agg({\n",
    "    'created_at': np.min\n",
    "}).created_at\n",
    "first_int_time_dict = first_int_time.to_dict()\n",
    "last_int_time = ints_df[ints_df.user_id.isin(valid_user_ids)].groupby(by='user_id').agg({\n",
    "    'created_at': np.max\n",
    "}).created_at\n",
    "last_int_time_dict = last_int_time.to_dict()\n",
    "print(datetime.now() - s)\n",
    "len(first_int_time_dict)"
   ]
  },
  {
   "cell_type": "code",
   "execution_count": 62,
   "metadata": {},
   "outputs": [
    {
     "data": {
      "image/png": "[encoded data removed]",
      "text/plain": [
       "<Figure size 432x288 with 1 Axes>"
      ]
     },
     "metadata": {
      "needs_background": "light"
     },
     "output_type": "display_data"
    }
   ],
   "source": [
    "# randomly show some activity timelines, just for fun\n",
    "tdf = pd.DataFrame(first_int_time)\n",
    "tdf = tdf.rename(columns={'created_at': 'first_int_time'})\n",
    "tdf['last_int_time'] = last_int_time\n",
    "ys = []\n",
    "xmins = []\n",
    "xmaxs = []\n",
    "sample = tdf[tdf.first_int_time > start_timestamp].sample(n=2000)\n",
    "for i, row in enumerate(sample.sort_values(by='first_int_time', ascending=True).itertuples()):\n",
    "    xmins.append(row.first_int_time)\n",
    "    xmaxs.append(row.last_int_time)\n",
    "    ys.append(i)\n",
    "plt.hlines(ys, xmins, xmaxs, alpha=0.1, linewidth=1)\n",
    "plt.show()"
   ]
  },
  {
   "cell_type": "code",
   "execution_count": 63,
   "metadata": {},
   "outputs": [
    {
     "name": "stdout",
     "output_type": "stream",
     "text": [
      "2016-06-01 21:07:43\n",
      "2015-12-04 21:07:43\n"
     ]
    }
   ],
   "source": [
    "# key question: what should the threshold be for \"maybe censored?\"\n",
    "# the write for life paper uses 90 days\n",
    "# so the question becomes: what number of users active in the 90 days\n",
    "end_of_data_timestamp = np.max(ints_df[ints_df.int_type == 'guestbook'].created_at)\n",
    "print(datetime.utcfromtimestamp(end_of_data_timestamp / 1000))\n",
    "threshold_ms = 1000 * 60 * 60 * 24 * 30 * 6 # 6 months\n",
    "print(datetime.utcfromtimestamp((end_of_data_timestamp - threshold_ms)/ 1000))"
   ]
  },
  {
   "cell_type": "code",
   "execution_count": 64,
   "metadata": {},
   "outputs": [],
   "source": [
    "tdf = pd.DataFrame(first_int_time)\n",
    "tdf = tdf.rename(columns={'created_at': 'first_int_time'})\n",
    "tdf['last_int_time'] = last_int_time"
   ]
  },
  {
   "cell_type": "code",
   "execution_count": 65,
   "metadata": {},
   "outputs": [
    {
     "data": {
      "text/plain": [
       "96376"
      ]
     },
     "execution_count": 65,
     "metadata": {},
     "output_type": "execute_result"
    }
   ],
   "source": [
    "# number of valid users that joined CB before the cutoff but posted in the cutoff\n",
    "# in other words, these are the ACTUALLY censored users\n",
    "censored_count = np.sum(tdf[tdf.first_int_time <= end_of_data_timestamp - threshold_ms].last_int_time > end_of_data_timestamp - threshold_ms)\n",
    "censored_count"
   ]
  },
  {
   "cell_type": "code",
   "execution_count": 66,
   "metadata": {},
   "outputs": [
    {
     "name": "stderr",
     "output_type": "stream",
     "text": [
      "100%|██████████| 362345/362345 [05:02<00:00, 1198.65it/s]\n"
     ]
    }
   ],
   "source": [
    "with tqdm(total=len(last_int_time)) as prog:\n",
    "    def get_prethreshold_max(created_at):\n",
    "        prog.update(1)\n",
    "        prethreshold_idx = created_at <= end_of_data_timestamp - threshold_ms\n",
    "        if np.sum(prethreshold_idx) == 0:\n",
    "            return -1\n",
    "        else:\n",
    "            return np.max(created_at[prethreshold_idx])\n",
    "    \n",
    "    last_int_time_prethreshold = ints_df[\n",
    "        ints_df.user_id.isin(valid_user_ids)\n",
    "                                    ].groupby(by='user_id').agg({\n",
    "        'created_at': get_prethreshold_max\n",
    "    }).created_at.rename('last_int_time_prethreshold')"
   ]
  },
  {
   "cell_type": "code",
   "execution_count": 67,
   "metadata": {},
   "outputs": [],
   "source": [
    "assert len(tdf) == len(last_int_time_prethreshold)\n",
    "tdf['last_int_time_prethreshold'] = last_int_time_prethreshold"
   ]
  },
  {
   "cell_type": "code",
   "execution_count": 68,
   "metadata": {},
   "outputs": [],
   "source": [
    "no_int_prethreshold = tdf.last_int_time_prethreshold == -1\n",
    "first_int_postthreshold = tdf.first_int_time >= end_of_data_timestamp - threshold_ms\n",
    "assert np.all(no_int_prethreshold == first_int_postthreshold)"
   ]
  },
  {
   "cell_type": "code",
   "execution_count": 69,
   "metadata": {},
   "outputs": [
    {
     "data": {
      "text/plain": [
       "(96376, 67474)"
      ]
     },
     "execution_count": 69,
     "metadata": {},
     "output_type": "execute_result"
    }
   ],
   "source": [
    "prethreshold_users = tdf[tdf.first_int_time <= end_of_data_timestamp - threshold_ms]\n",
    "censored_users = prethreshold_users.last_int_time > end_of_data_timestamp - threshold_ms\n",
    "considered_censored_users = (prethreshold_users.first_int_time >= end_of_data_timestamp - threshold_ms - threshold_ms)\\\n",
    "|(prethreshold_users.last_int_time_prethreshold >= end_of_data_timestamp - threshold_ms - threshold_ms)\n",
    "np.sum(censored_users), np.sum(considered_censored_users)"
   ]
  },
  {
   "cell_type": "code",
   "execution_count": 70,
   "metadata": {},
   "outputs": [
    {
     "data": {
      "text/plain": [
       "(347914, 0.9601733154866219)"
      ]
     },
     "execution_count": 70,
     "metadata": {},
     "output_type": "execute_result"
    }
   ],
   "source": [
    "len(prethreshold_users), len(prethreshold_users) / len(tdf)"
   ]
  },
  {
   "cell_type": "code",
   "execution_count": 71,
   "metadata": {},
   "outputs": [
    {
     "data": {
      "text/plain": [
       "0.49538266788412055"
      ]
     },
     "execution_count": 71,
     "metadata": {},
     "output_type": "execute_result"
    }
   ],
   "source": [
    "# recall: what pct of the ACTUALLY censored users are considered to be censored?\n",
    "# With a 6-month threshold, we miss more than HALF of the users who are censored, concluding that they\n",
    "# are not in fact censored. (After all, their last update was more than 6 months before the end of data collection)\n",
    "np.sum(considered_censored_users[censored_users]) / np.sum(censored_users)"
   ]
  },
  {
   "cell_type": "code",
   "execution_count": 72,
   "metadata": {},
   "outputs": [
    {
     "data": {
      "text/plain": [
       "0.7075762515932063"
      ]
     },
     "execution_count": 72,
     "metadata": {},
     "output_type": "execute_result"
    }
   ],
   "source": [
    "# precision: what pct of the considered censored users are actually censored?\n",
    "np.sum(considered_censored_users[censored_users]) / np.sum(considered_censored_users)"
   ]
  },
  {
   "cell_type": "markdown",
   "metadata": {},
   "source": [
    "This analysis is immensely depressing, since it suggests we essentially can't tell if a user will post again. (Lots of users who haven't posted for six months will post again!)\n",
    "\n",
    "What we would like to do is make a claim about the difference between patient-initiated and caregiver-initiated relationships: that they are longer or shorter.\n"
   ]
  },
  {
   "cell_type": "markdown",
   "metadata": {},
   "source": [
    "## Regression modeling of interaction count (Poisson)\n",
    "\n",
    "Note: this requires only the rel_df to be computed."
   ]
  },
  {
   "cell_type": "code",
   "execution_count": 73,
   "metadata": {},
   "outputs": [],
   "source": [
    "import statsmodels.api as sm\n",
    "import statsmodels.formula.api as smf"
   ]
  },
  {
   "cell_type": "code",
   "execution_count": 74,
   "metadata": {},
   "outputs": [
    {
     "data": {
      "text/html": [
       "<div>\n",
       "<style scoped>\n",
       "    .dataframe tbody tr th:only-of-type {\n",
       "        vertical-align: middle;\n",
       "    }\n",
       "\n",
       "    .dataframe tbody tr th {\n",
       "        vertical-align: top;\n",
       "    }\n",
       "\n",
       "    .dataframe thead th {\n",
       "        text-align: right;\n",
       "    }\n",
       "</style>\n",
       "<table border=\"1\" class=\"dataframe\">\n",
       "  <thead>\n",
       "    <tr style=\"text-align: right;\">\n",
       "      <th></th>\n",
       "      <th>initiator_user_id</th>\n",
       "      <th>reciprocator_user_id</th>\n",
       "      <th>is_reciprocated</th>\n",
       "      <th>int_count</th>\n",
       "      <th>first_int</th>\n",
       "      <th>last_int</th>\n",
       "      <th>initiator_int_count</th>\n",
       "      <th>reciprocator_int_count</th>\n",
       "      <th>int_type_list</th>\n",
       "      <th>created_at_list</th>\n",
       "      <th>initiator_ints_list</th>\n",
       "      <th>duration_months</th>\n",
       "      <th>initiator_author_type</th>\n",
       "      <th>reciprocator_author_type</th>\n",
       "      <th>pct_initiator_ints</th>\n",
       "    </tr>\n",
       "  </thead>\n",
       "  <tbody>\n",
       "    <tr>\n",
       "      <th>9</th>\n",
       "      <td>386</td>\n",
       "      <td>28.0</td>\n",
       "      <td>True</td>\n",
       "      <td>168</td>\n",
       "      <td>1117710956000</td>\n",
       "      <td>1238549181000</td>\n",
       "      <td>34</td>\n",
       "      <td>134</td>\n",
       "      <td>[guestbook, guestbook, guestbook, guestbook, g...</td>\n",
       "      <td>[1117710956000, 1118835728000, 1119181337000, ...</td>\n",
       "      <td>[True, True, True, True, True, True, True, Tru...</td>\n",
       "      <td>46.619686</td>\n",
       "      <td>mixed</td>\n",
       "      <td>cg</td>\n",
       "      <td>0.202381</td>\n",
       "    </tr>\n",
       "  </tbody>\n",
       "</table>\n",
       "</div>"
      ],
      "text/plain": [
       "   initiator_user_id  reciprocator_user_id  is_reciprocated  int_count  \\\n",
       "9                386                  28.0             True        168   \n",
       "\n",
       "       first_int       last_int  initiator_int_count  reciprocator_int_count  \\\n",
       "9  1117710956000  1238549181000                   34                     134   \n",
       "\n",
       "                                       int_type_list  \\\n",
       "9  [guestbook, guestbook, guestbook, guestbook, g...   \n",
       "\n",
       "                                     created_at_list  \\\n",
       "9  [1117710956000, 1118835728000, 1119181337000, ...   \n",
       "\n",
       "                                 initiator_ints_list  duration_months  \\\n",
       "9  [True, True, True, True, True, True, True, Tru...        46.619686   \n",
       "\n",
       "  initiator_author_type reciprocator_author_type  pct_initiator_ints  \n",
       "9                 mixed                       cg            0.202381  "
      ]
     },
     "execution_count": 74,
     "metadata": {},
     "output_type": "execute_result"
    }
   ],
   "source": [
    "rel_df.head(n=1)"
   ]
  },
  {
   "cell_type": "code",
   "execution_count": 75,
   "metadata": {},
   "outputs": [],
   "source": [
    "rel_df['balance'] = 'balanced'\n",
    "rel_df.loc[rel_df.pct_initiator_ints >= 0.75, 'balance'] = 'initiator'\n",
    "rel_df.loc[rel_df.pct_initiator_ints <= 0.25, 'balance'] = 'reciprocator'"
   ]
  },
  {
   "cell_type": "code",
   "execution_count": 97,
   "metadata": {},
   "outputs": [],
   "source": [
    "rel_df['is_balanced'] = (rel_df.balance == 'balanced').astype(int)\n",
    "rel_df['is_author_type_shared'] = (rel_df.initiator_author_type == rel_df.reciprocator_author_type).astype(int)"
   ]
  },
  {
   "cell_type": "code",
   "execution_count": 98,
   "metadata": {},
   "outputs": [
    {
     "data": {
      "text/plain": [
       "0.5247196109178613"
      ]
     },
     "execution_count": 98,
     "metadata": {},
     "output_type": "execute_result"
    }
   ],
   "source": [
    "# 52.47\\% of relationships are balanced using the indicated thresholds.\n",
    "np.sum(rel_df.balance == 'balanced') / len(rel_df)"
   ]
  },
  {
   "cell_type": "code",
   "execution_count": 99,
   "metadata": {},
   "outputs": [],
   "source": [
    "rel_df['pct_initiator_ints_scaled'] = rel_df.pct_initiator_ints * 100"
   ]
  },
  {
   "cell_type": "code",
   "execution_count": 100,
   "metadata": {},
   "outputs": [
    {
     "data": {
      "text/plain": [
       "344.0"
      ]
     },
     "execution_count": 100,
     "metadata": {},
     "output_type": "execute_result"
    }
   ],
   "source": [
    "np.quantile(rel_df.int_count, 0.99)"
   ]
  },
  {
   "cell_type": "code",
   "execution_count": 101,
   "metadata": {},
   "outputs": [
    {
     "data": {
      "text/plain": [
       "(124377, 0.9900341481664265)"
      ]
     },
     "execution_count": 101,
     "metadata": {},
     "output_type": "execute_result"
    }
   ],
   "source": [
    "rel_df_subset = rel_df[rel_df.int_count <= 344]\n",
    "len(rel_df_subset), len(rel_df_subset) / len(rel_df)"
   ]
  },
  {
   "cell_type": "code",
   "execution_count": 102,
   "metadata": {},
   "outputs": [
    {
     "data": {
      "image/png": "[encoded data removed]",
      "text/plain": [
       "<Figure size 432x288 with 1 Axes>"
      ]
     },
     "metadata": {
      "needs_background": "light"
     },
     "output_type": "display_data"
    }
   ],
   "source": [
    "# counts follow a power law, as expected...\n",
    "# but that makes transformation to normality problematic\n",
    "plt.hist(rel_df_subset.int_count, bins=50, log=True)\n",
    "plt.title(\"Distribution of outcome (i.e. total relationship interactions)\")\n",
    "plt.show()"
   ]
  },
  {
   "cell_type": "code",
   "execution_count": 103,
   "metadata": {},
   "outputs": [
    {
     "data": {
      "text/html": [
       "<table class=\"simpletable\">\n",
       "<caption>OLS Regression Results</caption>\n",
       "<tr>\n",
       "  <th>Dep. Variable:</th>        <td>int_count</td>    <th>  R-squared:         </th>  <td>   0.112</td>  \n",
       "</tr>\n",
       "<tr>\n",
       "  <th>Model:</th>                   <td>OLS</td>       <th>  Adj. R-squared:    </th>  <td>   0.112</td>  \n",
       "</tr>\n",
       "<tr>\n",
       "  <th>Method:</th>             <td>Least Squares</td>  <th>  F-statistic:       </th>  <td>   2615.</td>  \n",
       "</tr>\n",
       "<tr>\n",
       "  <th>Date:</th>             <td>Mon, 01 Jun 2020</td> <th>  Prob (F-statistic):</th>   <td>  0.00</td>   \n",
       "</tr>\n",
       "<tr>\n",
       "  <th>Time:</th>                 <td>15:38:09</td>     <th>  Log-Likelihood:    </th> <td>-6.3223e+05</td>\n",
       "</tr>\n",
       "<tr>\n",
       "  <th>No. Observations:</th>      <td>124377</td>      <th>  AIC:               </th>  <td>1.264e+06</td> \n",
       "</tr>\n",
       "<tr>\n",
       "  <th>Df Residuals:</th>          <td>124370</td>      <th>  BIC:               </th>  <td>1.265e+06</td> \n",
       "</tr>\n",
       "<tr>\n",
       "  <th>Df Model:</th>              <td>     6</td>      <th>                     </th>      <td> </td>     \n",
       "</tr>\n",
       "<tr>\n",
       "  <th>Covariance Type:</th>      <td>nonrobust</td>    <th>                     </th>      <td> </td>     \n",
       "</tr>\n",
       "</table>\n",
       "<table class=\"simpletable\">\n",
       "<tr>\n",
       "                    <td></td>                      <th>coef</th>     <th>std err</th>      <th>t</th>      <th>P>|t|</th>  <th>[0.025</th>    <th>0.975]</th>  \n",
       "</tr>\n",
       "<tr>\n",
       "  <th>Intercept</th>                            <td>    6.3095</td> <td>    0.313</td> <td>   20.178</td> <td> 0.000</td> <td>    5.697</td> <td>    6.922</td>\n",
       "</tr>\n",
       "<tr>\n",
       "  <th>C(initiator_author_type)[T.mixed]</th>    <td>   -0.7199</td> <td>    0.409</td> <td>   -1.761</td> <td> 0.078</td> <td>   -1.521</td> <td>    0.081</td>\n",
       "</tr>\n",
       "<tr>\n",
       "  <th>C(initiator_author_type)[T.p]</th>        <td>   -0.8956</td> <td>    0.305</td> <td>   -2.936</td> <td> 0.003</td> <td>   -1.494</td> <td>   -0.298</td>\n",
       "</tr>\n",
       "<tr>\n",
       "  <th>C(reciprocator_author_type)[T.mixed]</th> <td>   -1.0798</td> <td>    0.409</td> <td>   -2.640</td> <td> 0.008</td> <td>   -1.881</td> <td>   -0.278</td>\n",
       "</tr>\n",
       "<tr>\n",
       "  <th>C(reciprocator_author_type)[T.p]</th>     <td>   -0.5148</td> <td>    0.318</td> <td>   -1.618</td> <td> 0.106</td> <td>   -1.138</td> <td>    0.109</td>\n",
       "</tr>\n",
       "<tr>\n",
       "  <th>pct_initiator_ints_scaled</th>            <td>    0.1337</td> <td>    0.004</td> <td>   30.826</td> <td> 0.000</td> <td>    0.125</td> <td>    0.142</td>\n",
       "</tr>\n",
       "<tr>\n",
       "  <th>duration_months</th>                      <td>    0.5294</td> <td>    0.004</td> <td>  122.052</td> <td> 0.000</td> <td>    0.521</td> <td>    0.538</td>\n",
       "</tr>\n",
       "</table>\n",
       "<table class=\"simpletable\">\n",
       "<tr>\n",
       "  <th>Omnibus:</th>       <td>89708.105</td> <th>  Durbin-Watson:     </th>  <td>   1.859</td>  \n",
       "</tr>\n",
       "<tr>\n",
       "  <th>Prob(Omnibus):</th>  <td> 0.000</td>   <th>  Jarque-Bera (JB):  </th> <td>1525069.398</td>\n",
       "</tr>\n",
       "<tr>\n",
       "  <th>Skew:</th>           <td> 3.373</td>   <th>  Prob(JB):          </th>  <td>    0.00</td>  \n",
       "</tr>\n",
       "<tr>\n",
       "  <th>Kurtosis:</th>       <td>18.772</td>   <th>  Cond. No.          </th>  <td>    272.</td>  \n",
       "</tr>\n",
       "</table><br/><br/>Warnings:<br/>[1] Standard Errors assume that the covariance matrix of the errors is correctly specified."
      ],
      "text/plain": [
       "<class 'statsmodels.iolib.summary.Summary'>\n",
       "\"\"\"\n",
       "                            OLS Regression Results                            \n",
       "==============================================================================\n",
       "Dep. Variable:              int_count   R-squared:                       0.112\n",
       "Model:                            OLS   Adj. R-squared:                  0.112\n",
       "Method:                 Least Squares   F-statistic:                     2615.\n",
       "Date:                Mon, 01 Jun 2020   Prob (F-statistic):               0.00\n",
       "Time:                        15:38:09   Log-Likelihood:            -6.3223e+05\n",
       "No. Observations:              124377   AIC:                         1.264e+06\n",
       "Df Residuals:                  124370   BIC:                         1.265e+06\n",
       "Df Model:                           6                                         \n",
       "Covariance Type:            nonrobust                                         \n",
       "========================================================================================================\n",
       "                                           coef    std err          t      P>|t|      [0.025      0.975]\n",
       "--------------------------------------------------------------------------------------------------------\n",
       "Intercept                                6.3095      0.313     20.178      0.000       5.697       6.922\n",
       "C(initiator_author_type)[T.mixed]       -0.7199      0.409     -1.761      0.078      -1.521       0.081\n",
       "C(initiator_author_type)[T.p]           -0.8956      0.305     -2.936      0.003      -1.494      -0.298\n",
       "C(reciprocator_author_type)[T.mixed]    -1.0798      0.409     -2.640      0.008      -1.881      -0.278\n",
       "C(reciprocator_author_type)[T.p]        -0.5148      0.318     -1.618      0.106      -1.138       0.109\n",
       "pct_initiator_ints_scaled                0.1337      0.004     30.826      0.000       0.125       0.142\n",
       "duration_months                          0.5294      0.004    122.052      0.000       0.521       0.538\n",
       "==============================================================================\n",
       "Omnibus:                    89708.105   Durbin-Watson:                   1.859\n",
       "Prob(Omnibus):                  0.000   Jarque-Bera (JB):          1525069.398\n",
       "Skew:                           3.373   Prob(JB):                         0.00\n",
       "Kurtosis:                      18.772   Cond. No.                         272.\n",
       "==============================================================================\n",
       "\n",
       "Warnings:\n",
       "[1] Standard Errors assume that the covariance matrix of the errors is correctly specified.\n",
       "\"\"\""
      ]
     },
     "execution_count": 103,
     "metadata": {},
     "output_type": "execute_result"
    }
   ],
   "source": [
    "f = f'int_count ~ C(initiator_author_type) + C(reciprocator_author_type) + pct_initiator_ints_scaled + duration_months'\n",
    "\n",
    "model = smf.ols(formula=f, data = rel_df_subset)\n",
    "res = model.fit()\n",
    "res.summary()"
   ]
  },
  {
   "cell_type": "code",
   "execution_count": 104,
   "metadata": {},
   "outputs": [
    {
     "name": "stdout",
     "output_type": "stream",
     "text": [
      "   df_resid           ssr  df_diff       ss_diff             F        Pr(>F)\n",
      "0  124372.0  2.132198e+08      0.0           NaN           NaN           NaN\n",
      "1  124371.0  1.908747e+08      1.0  2.234506e+07  14569.673705  0.000000e+00\n",
      "2  124367.0  1.907379e+08      4.0  1.368236e+05     22.303309  1.964537e-18\n"
     ]
    },
    {
     "name": "stderr",
     "output_type": "stream",
     "text": [
      "/home/srivbane/shared/anaconda3/lib/python3.7/site-packages/scipy/stats/_distn_infrastructure.py:903: RuntimeWarning: invalid value encountered in greater\n",
      "  return (a < x) & (x < b)\n",
      "/home/srivbane/shared/anaconda3/lib/python3.7/site-packages/scipy/stats/_distn_infrastructure.py:903: RuntimeWarning: invalid value encountered in less\n",
      "  return (a < x) & (x < b)\n",
      "/home/srivbane/shared/anaconda3/lib/python3.7/site-packages/scipy/stats/_distn_infrastructure.py:1912: RuntimeWarning: invalid value encountered in less_equal\n",
      "  cond2 = cond0 & (x <= _a)\n"
     ]
    }
   ],
   "source": [
    "# ANOVA for an interaction\n",
    "# this is significant\n",
    "import statsmodels.stats\n",
    "md0 = smf.ols('int_count ~ C(initiator_author_type) + C(reciprocator_author_type)', data=rel_df_subset).fit()\n",
    "md1 = smf.ols('int_count ~ C(initiator_author_type) + C(reciprocator_author_type) + duration_months', data=rel_df_subset).fit()\n",
    "md2 = smf.ols('int_count ~ C(initiator_author_type) * C(reciprocator_author_type) + duration_months', data=rel_df_subset).fit()\n",
    "\n",
    "anovaResults = statsmodels.stats.anova.anova_lm(md0, md1, md2, typ=1)\n",
    "print(anovaResults)"
   ]
  },
  {
   "cell_type": "code",
   "execution_count": 105,
   "metadata": {},
   "outputs": [
    {
     "data": {
      "text/html": [
       "<table class=\"simpletable\">\n",
       "<caption>OLS Regression Results</caption>\n",
       "<tr>\n",
       "  <th>Dep. Variable:</th>    <td>np.log(int_count)</td> <th>  R-squared:         </th>  <td>   0.178</td>  \n",
       "</tr>\n",
       "<tr>\n",
       "  <th>Model:</th>                   <td>OLS</td>        <th>  Adj. R-squared:    </th>  <td>   0.178</td>  \n",
       "</tr>\n",
       "<tr>\n",
       "  <th>Method:</th>             <td>Least Squares</td>   <th>  F-statistic:       </th>  <td>   2686.</td>  \n",
       "</tr>\n",
       "<tr>\n",
       "  <th>Date:</th>             <td>Mon, 01 Jun 2020</td>  <th>  Prob (F-statistic):</th>   <td>  0.00</td>   \n",
       "</tr>\n",
       "<tr>\n",
       "  <th>Time:</th>                 <td>15:38:14</td>      <th>  Log-Likelihood:    </th> <td>-1.8073e+05</td>\n",
       "</tr>\n",
       "<tr>\n",
       "  <th>No. Observations:</th>      <td>124377</td>       <th>  AIC:               </th>  <td>3.615e+05</td> \n",
       "</tr>\n",
       "<tr>\n",
       "  <th>Df Residuals:</th>          <td>124366</td>       <th>  BIC:               </th>  <td>3.616e+05</td> \n",
       "</tr>\n",
       "<tr>\n",
       "  <th>Df Model:</th>              <td>    10</td>       <th>                     </th>      <td> </td>     \n",
       "</tr>\n",
       "<tr>\n",
       "  <th>Covariance Type:</th>      <td>nonrobust</td>     <th>                     </th>      <td> </td>     \n",
       "</tr>\n",
       "</table>\n",
       "<table class=\"simpletable\">\n",
       "<tr>\n",
       "                                     <td></td>                                       <th>coef</th>     <th>std err</th>      <th>t</th>      <th>P>|t|</th>  <th>[0.025</th>    <th>0.975]</th>  \n",
       "</tr>\n",
       "<tr>\n",
       "  <th>Intercept</th>                                                              <td>    1.8398</td> <td>    0.008</td> <td>  220.691</td> <td> 0.000</td> <td>    1.823</td> <td>    1.856</td>\n",
       "</tr>\n",
       "<tr>\n",
       "  <th>C(initiator_author_type)[T.mixed]</th>                                      <td>   -0.0119</td> <td>    0.013</td> <td>   -0.910</td> <td> 0.363</td> <td>   -0.037</td> <td>    0.014</td>\n",
       "</tr>\n",
       "<tr>\n",
       "  <th>C(initiator_author_type)[T.p]</th>                                          <td>   -0.0720</td> <td>    0.010</td> <td>   -6.942</td> <td> 0.000</td> <td>   -0.092</td> <td>   -0.052</td>\n",
       "</tr>\n",
       "<tr>\n",
       "  <th>C(reciprocator_author_type)[T.mixed]</th>                                   <td>   -0.0305</td> <td>    0.013</td> <td>   -2.274</td> <td> 0.023</td> <td>   -0.057</td> <td>   -0.004</td>\n",
       "</tr>\n",
       "<tr>\n",
       "  <th>C(reciprocator_author_type)[T.p]</th>                                       <td>   -0.0181</td> <td>    0.011</td> <td>   -1.611</td> <td> 0.107</td> <td>   -0.040</td> <td>    0.004</td>\n",
       "</tr>\n",
       "<tr>\n",
       "  <th>C(initiator_author_type)[T.mixed]:C(reciprocator_author_type)[T.mixed]</th> <td>    0.0663</td> <td>    0.034</td> <td>    1.933</td> <td> 0.053</td> <td>   -0.001</td> <td>    0.133</td>\n",
       "</tr>\n",
       "<tr>\n",
       "  <th>C(initiator_author_type)[T.p]:C(reciprocator_author_type)[T.mixed]</th>     <td>    0.1845</td> <td>    0.027</td> <td>    6.952</td> <td> 0.000</td> <td>    0.132</td> <td>    0.236</td>\n",
       "</tr>\n",
       "<tr>\n",
       "  <th>C(initiator_author_type)[T.mixed]:C(reciprocator_author_type)[T.p]</th>     <td>    0.1150</td> <td>    0.028</td> <td>    4.100</td> <td> 0.000</td> <td>    0.060</td> <td>    0.170</td>\n",
       "</tr>\n",
       "<tr>\n",
       "  <th>C(initiator_author_type)[T.p]:C(reciprocator_author_type)[T.p]</th>         <td>    0.2617</td> <td>    0.019</td> <td>   14.008</td> <td> 0.000</td> <td>    0.225</td> <td>    0.298</td>\n",
       "</tr>\n",
       "<tr>\n",
       "  <th>pct_initiator_ints_scaled</th>                                              <td>    0.0055</td> <td>    0.000</td> <td>   47.410</td> <td> 0.000</td> <td>    0.005</td> <td>    0.006</td>\n",
       "</tr>\n",
       "<tr>\n",
       "  <th>duration_months</th>                                                        <td>    0.0182</td> <td>    0.000</td> <td>  157.787</td> <td> 0.000</td> <td>    0.018</td> <td>    0.018</td>\n",
       "</tr>\n",
       "</table>\n",
       "<table class=\"simpletable\">\n",
       "<tr>\n",
       "  <th>Omnibus:</th>       <td>1442.471</td> <th>  Durbin-Watson:     </th> <td>   1.874</td> \n",
       "</tr>\n",
       "<tr>\n",
       "  <th>Prob(Omnibus):</th>  <td> 0.000</td>  <th>  Jarque-Bera (JB):  </th> <td>1427.817</td> \n",
       "</tr>\n",
       "<tr>\n",
       "  <th>Skew:</th>           <td> 0.243</td>  <th>  Prob(JB):          </th> <td>8.99e-311</td>\n",
       "</tr>\n",
       "<tr>\n",
       "  <th>Kurtosis:</th>       <td> 2.801</td>  <th>  Cond. No.          </th> <td>    870.</td> \n",
       "</tr>\n",
       "</table><br/><br/>Warnings:<br/>[1] Standard Errors assume that the covariance matrix of the errors is correctly specified."
      ],
      "text/plain": [
       "<class 'statsmodels.iolib.summary.Summary'>\n",
       "\"\"\"\n",
       "                            OLS Regression Results                            \n",
       "==============================================================================\n",
       "Dep. Variable:      np.log(int_count)   R-squared:                       0.178\n",
       "Model:                            OLS   Adj. R-squared:                  0.178\n",
       "Method:                 Least Squares   F-statistic:                     2686.\n",
       "Date:                Mon, 01 Jun 2020   Prob (F-statistic):               0.00\n",
       "Time:                        15:38:14   Log-Likelihood:            -1.8073e+05\n",
       "No. Observations:              124377   AIC:                         3.615e+05\n",
       "Df Residuals:                  124366   BIC:                         3.616e+05\n",
       "Df Model:                          10                                         \n",
       "Covariance Type:            nonrobust                                         \n",
       "==========================================================================================================================================\n",
       "                                                                             coef    std err          t      P>|t|      [0.025      0.975]\n",
       "------------------------------------------------------------------------------------------------------------------------------------------\n",
       "Intercept                                                                  1.8398      0.008    220.691      0.000       1.823       1.856\n",
       "C(initiator_author_type)[T.mixed]                                         -0.0119      0.013     -0.910      0.363      -0.037       0.014\n",
       "C(initiator_author_type)[T.p]                                             -0.0720      0.010     -6.942      0.000      -0.092      -0.052\n",
       "C(reciprocator_author_type)[T.mixed]                                      -0.0305      0.013     -2.274      0.023      -0.057      -0.004\n",
       "C(reciprocator_author_type)[T.p]                                          -0.0181      0.011     -1.611      0.107      -0.040       0.004\n",
       "C(initiator_author_type)[T.mixed]:C(reciprocator_author_type)[T.mixed]     0.0663      0.034      1.933      0.053      -0.001       0.133\n",
       "C(initiator_author_type)[T.p]:C(reciprocator_author_type)[T.mixed]         0.1845      0.027      6.952      0.000       0.132       0.236\n",
       "C(initiator_author_type)[T.mixed]:C(reciprocator_author_type)[T.p]         0.1150      0.028      4.100      0.000       0.060       0.170\n",
       "C(initiator_author_type)[T.p]:C(reciprocator_author_type)[T.p]             0.2617      0.019     14.008      0.000       0.225       0.298\n",
       "pct_initiator_ints_scaled                                                  0.0055      0.000     47.410      0.000       0.005       0.006\n",
       "duration_months                                                            0.0182      0.000    157.787      0.000       0.018       0.018\n",
       "==============================================================================\n",
       "Omnibus:                     1442.471   Durbin-Watson:                   1.874\n",
       "Prob(Omnibus):                  0.000   Jarque-Bera (JB):             1427.817\n",
       "Skew:                           0.243   Prob(JB):                    8.99e-311\n",
       "Kurtosis:                       2.801   Cond. No.                         870.\n",
       "==============================================================================\n",
       "\n",
       "Warnings:\n",
       "[1] Standard Errors assume that the covariance matrix of the errors is correctly specified.\n",
       "\"\"\""
      ]
     },
     "execution_count": 105,
     "metadata": {},
     "output_type": "execute_result"
    }
   ],
   "source": [
    "f = f'np.log(int_count) ~ C(initiator_author_type) * C(reciprocator_author_type) + pct_initiator_ints_scaled + duration_months'\n",
    "\n",
    "model = smf.ols(formula=f, data = rel_df_subset)\n",
    "res = model.fit()\n",
    "\n",
    "log_linear_preds = res.predict(rel_df_subset)\n",
    "\n",
    "res.summary()"
   ]
  },
  {
   "cell_type": "code",
   "execution_count": 106,
   "metadata": {},
   "outputs": [
    {
     "data": {
      "text/plain": [
       "Intercept                                                                 6.295523\n",
       "C(initiator_author_type)[T.mixed]                                         0.988192\n",
       "C(initiator_author_type)[T.p]                                             0.930570\n",
       "C(reciprocator_author_type)[T.mixed]                                      0.969966\n",
       "C(reciprocator_author_type)[T.p]                                          0.982047\n",
       "C(initiator_author_type)[T.mixed]:C(reciprocator_author_type)[T.mixed]    1.068526\n",
       "C(initiator_author_type)[T.p]:C(reciprocator_author_type)[T.mixed]        1.202597\n",
       "C(initiator_author_type)[T.mixed]:C(reciprocator_author_type)[T.p]        1.121924\n",
       "C(initiator_author_type)[T.p]:C(reciprocator_author_type)[T.p]            1.299080\n",
       "pct_initiator_ints_scaled                                                 1.005468\n",
       "duration_months                                                           1.018318\n",
       "dtype: float64"
      ]
     },
     "execution_count": 106,
     "metadata": {},
     "output_type": "execute_result"
    }
   ],
   "source": [
    "np.exp(res.params)"
   ]
  },
  {
   "cell_type": "code",
   "execution_count": 107,
   "metadata": {},
   "outputs": [
    {
     "data": {
      "image/png": "[encoded data removed]",
      "text/plain": [
       "<Figure size 432x288 with 1 Axes>"
      ]
     },
     "metadata": {
      "needs_background": "light"
     },
     "output_type": "display_data"
    }
   ],
   "source": [
    "resid = rel_df_subset.int_count - log_linear_preds\n",
    "plt.scatter(log_linear_preds, resid, alpha=0.1)\n",
    "plt.show()"
   ]
  },
  {
   "cell_type": "code",
   "execution_count": 108,
   "metadata": {},
   "outputs": [
    {
     "data": {
      "image/png": "[encoded data removed]",
      "text/plain": [
       "<Figure size 432x288 with 1 Axes>"
      ]
     },
     "metadata": {
      "needs_background": "light"
     },
     "output_type": "display_data"
    }
   ],
   "source": [
    "resid = rel_df_subset.int_count - log_linear_preds\n",
    "plt.hist2d(log_linear_preds, resid)\n",
    "plt.show()"
   ]
  },
  {
   "cell_type": "code",
   "execution_count": 109,
   "metadata": {},
   "outputs": [
    {
     "data": {
      "text/html": [
       "<table class=\"simpletable\">\n",
       "<caption>OLS Regression Results</caption>\n",
       "<tr>\n",
       "  <th>Dep. Variable:</th>        <td>int_count</td>    <th>  R-squared:         </th>  <td>   0.113</td>  \n",
       "</tr>\n",
       "<tr>\n",
       "  <th>Model:</th>                   <td>OLS</td>       <th>  Adj. R-squared:    </th>  <td>   0.113</td>  \n",
       "</tr>\n",
       "<tr>\n",
       "  <th>Method:</th>             <td>Least Squares</td>  <th>  F-statistic:       </th>  <td>   1579.</td>  \n",
       "</tr>\n",
       "<tr>\n",
       "  <th>Date:</th>             <td>Mon, 01 Jun 2020</td> <th>  Prob (F-statistic):</th>   <td>  0.00</td>   \n",
       "</tr>\n",
       "<tr>\n",
       "  <th>Time:</th>                 <td>15:38:17</td>     <th>  Log-Likelihood:    </th> <td>-6.3218e+05</td>\n",
       "</tr>\n",
       "<tr>\n",
       "  <th>No. Observations:</th>      <td>124377</td>      <th>  AIC:               </th>  <td>1.264e+06</td> \n",
       "</tr>\n",
       "<tr>\n",
       "  <th>Df Residuals:</th>          <td>124366</td>      <th>  BIC:               </th>  <td>1.264e+06</td> \n",
       "</tr>\n",
       "<tr>\n",
       "  <th>Df Model:</th>              <td>    10</td>      <th>                     </th>      <td> </td>     \n",
       "</tr>\n",
       "<tr>\n",
       "  <th>Covariance Type:</th>      <td>nonrobust</td>    <th>                     </th>      <td> </td>     \n",
       "</tr>\n",
       "</table>\n",
       "<table class=\"simpletable\">\n",
       "<tr>\n",
       "                                     <td></td>                                       <th>coef</th>     <th>std err</th>      <th>t</th>      <th>P>|t|</th>  <th>[0.025</th>    <th>0.975]</th>  \n",
       "</tr>\n",
       "<tr>\n",
       "  <th>Intercept</th>                                                              <td>    6.5929</td> <td>    0.314</td> <td>   20.977</td> <td> 0.000</td> <td>    5.977</td> <td>    7.209</td>\n",
       "</tr>\n",
       "<tr>\n",
       "  <th>C(initiator_author_type)[T.mixed]</th>                                      <td>   -1.2218</td> <td>    0.492</td> <td>   -2.482</td> <td> 0.013</td> <td>   -2.187</td> <td>   -0.257</td>\n",
       "</tr>\n",
       "<tr>\n",
       "  <th>C(initiator_author_type)[T.p]</th>                                          <td>   -3.1749</td> <td>    0.391</td> <td>   -8.124</td> <td> 0.000</td> <td>   -3.941</td> <td>   -2.409</td>\n",
       "</tr>\n",
       "<tr>\n",
       "  <th>C(reciprocator_author_type)[T.mixed]</th>                                   <td>   -2.2357</td> <td>    0.506</td> <td>   -4.422</td> <td> 0.000</td> <td>   -3.227</td> <td>   -1.245</td>\n",
       "</tr>\n",
       "<tr>\n",
       "  <th>C(reciprocator_author_type)[T.p]</th>                                       <td>   -2.7577</td> <td>    0.424</td> <td>   -6.506</td> <td> 0.000</td> <td>   -3.589</td> <td>   -1.927</td>\n",
       "</tr>\n",
       "<tr>\n",
       "  <th>C(initiator_author_type)[T.mixed]:C(reciprocator_author_type)[T.mixed]</th> <td>    2.0303</td> <td>    1.293</td> <td>    1.570</td> <td> 0.116</td> <td>   -0.504</td> <td>    4.564</td>\n",
       "</tr>\n",
       "<tr>\n",
       "  <th>C(initiator_author_type)[T.p]:C(reciprocator_author_type)[T.mixed]</th>     <td>    4.9590</td> <td>    1.000</td> <td>    4.957</td> <td> 0.000</td> <td>    2.998</td> <td>    6.920</td>\n",
       "</tr>\n",
       "<tr>\n",
       "  <th>C(initiator_author_type)[T.mixed]:C(reciprocator_author_type)[T.p]</th>     <td>    2.6315</td> <td>    1.058</td> <td>    2.487</td> <td> 0.013</td> <td>    0.558</td> <td>    4.705</td>\n",
       "</tr>\n",
       "<tr>\n",
       "  <th>C(initiator_author_type)[T.p]:C(reciprocator_author_type)[T.p]</th>         <td>    6.3767</td> <td>    0.704</td> <td>    9.055</td> <td> 0.000</td> <td>    4.996</td> <td>    7.757</td>\n",
       "</tr>\n",
       "<tr>\n",
       "  <th>pct_initiator_ints_scaled</th>                                              <td>    0.1339</td> <td>    0.004</td> <td>   30.872</td> <td> 0.000</td> <td>    0.125</td> <td>    0.142</td>\n",
       "</tr>\n",
       "<tr>\n",
       "  <th>duration_months</th>                                                        <td>    0.5302</td> <td>    0.004</td> <td>  122.252</td> <td> 0.000</td> <td>    0.522</td> <td>    0.539</td>\n",
       "</tr>\n",
       "</table>\n",
       "<table class=\"simpletable\">\n",
       "<tr>\n",
       "  <th>Omnibus:</th>       <td>89741.507</td> <th>  Durbin-Watson:     </th>  <td>   1.859</td>  \n",
       "</tr>\n",
       "<tr>\n",
       "  <th>Prob(Omnibus):</th>  <td> 0.000</td>   <th>  Jarque-Bera (JB):  </th> <td>1527738.078</td>\n",
       "</tr>\n",
       "<tr>\n",
       "  <th>Skew:</th>           <td> 3.375</td>   <th>  Prob(JB):          </th>  <td>    0.00</td>  \n",
       "</tr>\n",
       "<tr>\n",
       "  <th>Kurtosis:</th>       <td>18.787</td>   <th>  Cond. No.          </th>  <td>    870.</td>  \n",
       "</tr>\n",
       "</table><br/><br/>Warnings:<br/>[1] Standard Errors assume that the covariance matrix of the errors is correctly specified."
      ],
      "text/plain": [
       "<class 'statsmodels.iolib.summary.Summary'>\n",
       "\"\"\"\n",
       "                            OLS Regression Results                            \n",
       "==============================================================================\n",
       "Dep. Variable:              int_count   R-squared:                       0.113\n",
       "Model:                            OLS   Adj. R-squared:                  0.113\n",
       "Method:                 Least Squares   F-statistic:                     1579.\n",
       "Date:                Mon, 01 Jun 2020   Prob (F-statistic):               0.00\n",
       "Time:                        15:38:17   Log-Likelihood:            -6.3218e+05\n",
       "No. Observations:              124377   AIC:                         1.264e+06\n",
       "Df Residuals:                  124366   BIC:                         1.264e+06\n",
       "Df Model:                          10                                         \n",
       "Covariance Type:            nonrobust                                         \n",
       "==========================================================================================================================================\n",
       "                                                                             coef    std err          t      P>|t|      [0.025      0.975]\n",
       "------------------------------------------------------------------------------------------------------------------------------------------\n",
       "Intercept                                                                  6.5929      0.314     20.977      0.000       5.977       7.209\n",
       "C(initiator_author_type)[T.mixed]                                         -1.2218      0.492     -2.482      0.013      -2.187      -0.257\n",
       "C(initiator_author_type)[T.p]                                             -3.1749      0.391     -8.124      0.000      -3.941      -2.409\n",
       "C(reciprocator_author_type)[T.mixed]                                      -2.2357      0.506     -4.422      0.000      -3.227      -1.245\n",
       "C(reciprocator_author_type)[T.p]                                          -2.7577      0.424     -6.506      0.000      -3.589      -1.927\n",
       "C(initiator_author_type)[T.mixed]:C(reciprocator_author_type)[T.mixed]     2.0303      1.293      1.570      0.116      -0.504       4.564\n",
       "C(initiator_author_type)[T.p]:C(reciprocator_author_type)[T.mixed]         4.9590      1.000      4.957      0.000       2.998       6.920\n",
       "C(initiator_author_type)[T.mixed]:C(reciprocator_author_type)[T.p]         2.6315      1.058      2.487      0.013       0.558       4.705\n",
       "C(initiator_author_type)[T.p]:C(reciprocator_author_type)[T.p]             6.3767      0.704      9.055      0.000       4.996       7.757\n",
       "pct_initiator_ints_scaled                                                  0.1339      0.004     30.872      0.000       0.125       0.142\n",
       "duration_months                                                            0.5302      0.004    122.252      0.000       0.522       0.539\n",
       "==============================================================================\n",
       "Omnibus:                    89741.507   Durbin-Watson:                   1.859\n",
       "Prob(Omnibus):                  0.000   Jarque-Bera (JB):          1527738.078\n",
       "Skew:                           3.375   Prob(JB):                         0.00\n",
       "Kurtosis:                      18.787   Cond. No.                         870.\n",
       "==============================================================================\n",
       "\n",
       "Warnings:\n",
       "[1] Standard Errors assume that the covariance matrix of the errors is correctly specified.\n",
       "\"\"\""
      ]
     },
     "execution_count": 109,
     "metadata": {},
     "output_type": "execute_result"
    }
   ],
   "source": [
    "f = f'int_count ~ C(initiator_author_type) * C(reciprocator_author_type) + pct_initiator_ints_scaled + duration_months'\n",
    "\n",
    "model = smf.ols(formula=f, data = rel_df_subset)\n",
    "res = model.fit()\n",
    "res.summary()"
   ]
  },
  {
   "cell_type": "code",
   "execution_count": 110,
   "metadata": {},
   "outputs": [
    {
     "data": {
      "image/png": "[encoded data removed]",
      "text/plain": [
       "<Figure size 432x288 with 1 Axes>"
      ]
     },
     "metadata": {
      "needs_background": "light"
     },
     "output_type": "display_data"
    },
    {
     "data": {
      "text/plain": [
       "array([    5,   371,  3093,  9903, 12662, 14884, 14048, 12097, 10098,\n",
       "        8377,  7174,  5863,  4831,  4020,  3433,  2776,  2336,  1831,\n",
       "        1482,  1169,   958,   710,   582,   457,   362,   255,   212,\n",
       "         140,    88,    76,    38,    24,     6,     9,     7,     0,\n",
       "           0,     0,     0,     0,     0,     0,     0,     0,     0,\n",
       "           0,     0,     0,     0,     0])"
      ]
     },
     "execution_count": 110,
     "metadata": {},
     "output_type": "execute_result"
    }
   ],
   "source": [
    "# linear model fit to the data, consistently overestimates\n",
    "linear_preds = res.predict(rel_df_subset)\n",
    "_, bins, _ = plt.hist(rel_df_subset.int_count, bins=50, log=False, range=(2, 150))\n",
    "plt.title(\"Distribution of outcome (i.e. total relationship interactions)\")\n",
    "pred_density, _ = np.histogram(linear_preds, bins=bins)\n",
    "#bins = np.linspace(2, 300, num=300)\n",
    "#pred_density, _ = np.histogram(preds, bins=bins)\n",
    "plt.plot(bins, pred_density.tolist() + [0,])\n",
    "plt.show()\n",
    "pred_density"
   ]
  },
  {
   "cell_type": "code",
   "execution_count": 111,
   "metadata": {},
   "outputs": [
    {
     "data": {
      "image/png": "[encoded data removed]",
      "text/plain": [
       "<Figure size 432x288 with 1 Axes>"
      ]
     },
     "metadata": {
      "needs_background": "light"
     },
     "output_type": "display_data"
    }
   ],
   "source": [
    "plt.scatter(rel_df_subset.int_count, linear_preds, alpha=0.4)\n",
    "plt.show()"
   ]
  },
  {
   "cell_type": "code",
   "execution_count": 112,
   "metadata": {},
   "outputs": [
    {
     "data": {
      "image/png": "[encoded data removed]",
      "text/plain": [
       "<Figure size 432x288 with 1 Axes>"
      ]
     },
     "metadata": {
      "needs_background": "light"
     },
     "output_type": "display_data"
    }
   ],
   "source": [
    "resid = rel_df_subset.int_count - linear_preds\n",
    "plt.scatter(linear_preds, resid, alpha=0.1)\n",
    "plt.show()"
   ]
  },
  {
   "cell_type": "code",
   "execution_count": 113,
   "metadata": {},
   "outputs": [],
   "source": [
    "#for line in res.summary2().as_latex().split(\"\\n\"):\n",
    "#    line = line.replace(\"\\_\", \"-\").replace(\"_\", \"-\")\n",
    "#    print(line)"
   ]
  },
  {
   "cell_type": "code",
   "execution_count": 114,
   "metadata": {},
   "outputs": [
    {
     "data": {
      "text/html": [
       "<table class=\"simpletable\">\n",
       "<caption>OLS Regression Results</caption>\n",
       "<tr>\n",
       "  <th>Dep. Variable:</th>        <td>int_count</td>    <th>  R-squared:         </th>  <td>   0.113</td>  \n",
       "</tr>\n",
       "<tr>\n",
       "  <th>Model:</th>                   <td>OLS</td>       <th>  Adj. R-squared:    </th>  <td>   0.113</td>  \n",
       "</tr>\n",
       "<tr>\n",
       "  <th>Method:</th>             <td>Least Squares</td>  <th>  F-statistic:       </th>  <td>   5257.</td>  \n",
       "</tr>\n",
       "<tr>\n",
       "  <th>Date:</th>             <td>Mon, 01 Jun 2020</td> <th>  Prob (F-statistic):</th>   <td>  0.00</td>   \n",
       "</tr>\n",
       "<tr>\n",
       "  <th>Time:</th>                 <td>15:38:22</td>     <th>  Log-Likelihood:    </th> <td>-6.3219e+05</td>\n",
       "</tr>\n",
       "<tr>\n",
       "  <th>No. Observations:</th>      <td>124377</td>      <th>  AIC:               </th>  <td>1.264e+06</td> \n",
       "</tr>\n",
       "<tr>\n",
       "  <th>Df Residuals:</th>          <td>124373</td>      <th>  BIC:               </th>  <td>1.264e+06</td> \n",
       "</tr>\n",
       "<tr>\n",
       "  <th>Df Model:</th>              <td>     3</td>      <th>                     </th>      <td> </td>     \n",
       "</tr>\n",
       "<tr>\n",
       "  <th>Covariance Type:</th>      <td>nonrobust</td>    <th>                     </th>      <td> </td>     \n",
       "</tr>\n",
       "</table>\n",
       "<table class=\"simpletable\">\n",
       "<tr>\n",
       "              <td></td>                 <th>coef</th>     <th>std err</th>      <th>t</th>      <th>P>|t|</th>  <th>[0.025</th>    <th>0.975]</th>  \n",
       "</tr>\n",
       "<tr>\n",
       "  <th>Intercept</th>                 <td>    4.3068</td> <td>    0.343</td> <td>   12.567</td> <td> 0.000</td> <td>    3.635</td> <td>    4.979</td>\n",
       "</tr>\n",
       "<tr>\n",
       "  <th>is_author_type_shared</th>     <td>    2.3216</td> <td>    0.239</td> <td>    9.731</td> <td> 0.000</td> <td>    1.854</td> <td>    2.789</td>\n",
       "</tr>\n",
       "<tr>\n",
       "  <th>pct_initiator_ints_scaled</th> <td>    0.1338</td> <td>    0.004</td> <td>   30.862</td> <td> 0.000</td> <td>    0.125</td> <td>    0.142</td>\n",
       "</tr>\n",
       "<tr>\n",
       "  <th>duration_months</th>           <td>    0.5298</td> <td>    0.004</td> <td>  122.244</td> <td> 0.000</td> <td>    0.521</td> <td>    0.538</td>\n",
       "</tr>\n",
       "</table>\n",
       "<table class=\"simpletable\">\n",
       "<tr>\n",
       "  <th>Omnibus:</th>       <td>89725.537</td> <th>  Durbin-Watson:     </th>  <td>   1.859</td>  \n",
       "</tr>\n",
       "<tr>\n",
       "  <th>Prob(Omnibus):</th>  <td> 0.000</td>   <th>  Jarque-Bera (JB):  </th> <td>1526634.746</td>\n",
       "</tr>\n",
       "<tr>\n",
       "  <th>Skew:</th>           <td> 3.374</td>   <th>  Prob(JB):          </th>  <td>    0.00</td>  \n",
       "</tr>\n",
       "<tr>\n",
       "  <th>Kurtosis:</th>       <td>18.781</td>   <th>  Cond. No.          </th>  <td>    229.</td>  \n",
       "</tr>\n",
       "</table><br/><br/>Warnings:<br/>[1] Standard Errors assume that the covariance matrix of the errors is correctly specified."
      ],
      "text/plain": [
       "<class 'statsmodels.iolib.summary.Summary'>\n",
       "\"\"\"\n",
       "                            OLS Regression Results                            \n",
       "==============================================================================\n",
       "Dep. Variable:              int_count   R-squared:                       0.113\n",
       "Model:                            OLS   Adj. R-squared:                  0.113\n",
       "Method:                 Least Squares   F-statistic:                     5257.\n",
       "Date:                Mon, 01 Jun 2020   Prob (F-statistic):               0.00\n",
       "Time:                        15:38:22   Log-Likelihood:            -6.3219e+05\n",
       "No. Observations:              124377   AIC:                         1.264e+06\n",
       "Df Residuals:                  124373   BIC:                         1.264e+06\n",
       "Df Model:                           3                                         \n",
       "Covariance Type:            nonrobust                                         \n",
       "=============================================================================================\n",
       "                                coef    std err          t      P>|t|      [0.025      0.975]\n",
       "---------------------------------------------------------------------------------------------\n",
       "Intercept                     4.3068      0.343     12.567      0.000       3.635       4.979\n",
       "is_author_type_shared         2.3216      0.239      9.731      0.000       1.854       2.789\n",
       "pct_initiator_ints_scaled     0.1338      0.004     30.862      0.000       0.125       0.142\n",
       "duration_months               0.5298      0.004    122.244      0.000       0.521       0.538\n",
       "==============================================================================\n",
       "Omnibus:                    89725.537   Durbin-Watson:                   1.859\n",
       "Prob(Omnibus):                  0.000   Jarque-Bera (JB):          1526634.746\n",
       "Skew:                           3.374   Prob(JB):                         0.00\n",
       "Kurtosis:                      18.781   Cond. No.                         229.\n",
       "==============================================================================\n",
       "\n",
       "Warnings:\n",
       "[1] Standard Errors assume that the covariance matrix of the errors is correctly specified.\n",
       "\"\"\""
      ]
     },
     "execution_count": 114,
     "metadata": {},
     "output_type": "execute_result"
    }
   ],
   "source": [
    "f = f'int_count ~ is_author_type_shared + pct_initiator_ints_scaled + duration_months'\n",
    "#rel_df_subset.loc[:, 'is_author_type_shared'] = (rel_df_subset.initiator_author_type == rel_df_subset.reciprocator_author_type).astype(int)\n",
    "model = smf.ols(formula=f, data = rel_df_subset)\n",
    "res = model.fit()\n",
    "res.summary()"
   ]
  },
  {
   "cell_type": "code",
   "execution_count": null,
   "metadata": {},
   "outputs": [],
   "source": []
  },
  {
   "cell_type": "markdown",
   "metadata": {},
   "source": [
    "#### Actually doing Poisson regression"
   ]
  },
  {
   "cell_type": "code",
   "execution_count": 115,
   "metadata": {},
   "outputs": [
    {
     "name": "stdout",
     "output_type": "stream",
     "text": [
      "Optimization terminated successfully.\n",
      "         Current function value: 17.920771\n",
      "         Iterations 6\n"
     ]
    },
    {
     "data": {
      "text/html": [
       "<table class=\"simpletable\">\n",
       "<caption>Poisson Regression Results</caption>\n",
       "<tr>\n",
       "  <th>Dep. Variable:</th>       <td>int_count</td>    <th>  No. Observations:  </th>   <td>124377</td>   \n",
       "</tr>\n",
       "<tr>\n",
       "  <th>Model:</th>                <td>Poisson</td>     <th>  Df Residuals:      </th>   <td>124366</td>   \n",
       "</tr>\n",
       "<tr>\n",
       "  <th>Method:</th>                 <td>MLE</td>       <th>  Df Model:          </th>   <td>    10</td>   \n",
       "</tr>\n",
       "<tr>\n",
       "  <th>Date:</th>            <td>Mon, 01 Jun 2020</td> <th>  Pseudo R-squ.:     </th>   <td>0.1394</td>   \n",
       "</tr>\n",
       "<tr>\n",
       "  <th>Time:</th>                <td>15:38:29</td>     <th>  Log-Likelihood:    </th> <td>-2.2289e+06</td>\n",
       "</tr>\n",
       "<tr>\n",
       "  <th>converged:</th>             <td>True</td>       <th>  LL-Null:           </th> <td>-2.5899e+06</td>\n",
       "</tr>\n",
       "<tr>\n",
       "  <th>Covariance Type:</th>     <td>nonrobust</td>    <th>  LLR p-value:       </th>   <td> 0.000</td>   \n",
       "</tr>\n",
       "</table>\n",
       "<table class=\"simpletable\">\n",
       "<tr>\n",
       "                                     <td></td>                                       <th>coef</th>     <th>std err</th>      <th>z</th>      <th>P>|z|</th>  <th>[0.025</th>    <th>0.975]</th>  \n",
       "</tr>\n",
       "<tr>\n",
       "  <th>Intercept</th>                                                              <td>    2.6087</td> <td>    0.002</td> <td> 1650.479</td> <td> 0.000</td> <td>    2.606</td> <td>    2.612</td>\n",
       "</tr>\n",
       "<tr>\n",
       "  <th>C(initiator_author_type)[T.mixed]</th>                                      <td>   -0.0481</td> <td>    0.002</td> <td>  -19.765</td> <td> 0.000</td> <td>   -0.053</td> <td>   -0.043</td>\n",
       "</tr>\n",
       "<tr>\n",
       "  <th>C(initiator_author_type)[T.p]</th>                                          <td>   -0.1103</td> <td>    0.002</td> <td>  -56.589</td> <td> 0.000</td> <td>   -0.114</td> <td>   -0.106</td>\n",
       "</tr>\n",
       "<tr>\n",
       "  <th>C(reciprocator_author_type)[T.mixed]</th>                                   <td>   -0.0777</td> <td>    0.002</td> <td>  -31.142</td> <td> 0.000</td> <td>   -0.083</td> <td>   -0.073</td>\n",
       "</tr>\n",
       "<tr>\n",
       "  <th>C(reciprocator_author_type)[T.p]</th>                                       <td>   -0.0956</td> <td>    0.002</td> <td>  -44.911</td> <td> 0.000</td> <td>   -0.100</td> <td>   -0.091</td>\n",
       "</tr>\n",
       "<tr>\n",
       "  <th>C(initiator_author_type)[T.mixed]:C(reciprocator_author_type)[T.mixed]</th> <td>    0.0657</td> <td>    0.006</td> <td>   10.177</td> <td> 0.000</td> <td>    0.053</td> <td>    0.078</td>\n",
       "</tr>\n",
       "<tr>\n",
       "  <th>C(initiator_author_type)[T.p]:C(reciprocator_author_type)[T.mixed]</th>     <td>    0.1748</td> <td>    0.005</td> <td>   35.753</td> <td> 0.000</td> <td>    0.165</td> <td>    0.184</td>\n",
       "</tr>\n",
       "<tr>\n",
       "  <th>C(initiator_author_type)[T.mixed]:C(reciprocator_author_type)[T.p]</th>     <td>    0.1051</td> <td>    0.005</td> <td>   19.857</td> <td> 0.000</td> <td>    0.095</td> <td>    0.115</td>\n",
       "</tr>\n",
       "<tr>\n",
       "  <th>C(initiator_author_type)[T.p]:C(reciprocator_author_type)[T.p]</th>         <td>    0.2266</td> <td>    0.003</td> <td>   64.744</td> <td> 0.000</td> <td>    0.220</td> <td>    0.233</td>\n",
       "</tr>\n",
       "<tr>\n",
       "  <th>pct_initiator_ints_scaled</th>                                              <td>    0.0046</td> <td> 2.07e-05</td> <td>  221.167</td> <td> 0.000</td> <td>    0.005</td> <td>    0.005</td>\n",
       "</tr>\n",
       "<tr>\n",
       "  <th>duration_months</th>                                                        <td>    0.0146</td> <td> 1.64e-05</td> <td>  887.987</td> <td> 0.000</td> <td>    0.015</td> <td>    0.015</td>\n",
       "</tr>\n",
       "</table>"
      ],
      "text/plain": [
       "<class 'statsmodels.iolib.summary.Summary'>\n",
       "\"\"\"\n",
       "                          Poisson Regression Results                          \n",
       "==============================================================================\n",
       "Dep. Variable:              int_count   No. Observations:               124377\n",
       "Model:                        Poisson   Df Residuals:                   124366\n",
       "Method:                           MLE   Df Model:                           10\n",
       "Date:                Mon, 01 Jun 2020   Pseudo R-squ.:                  0.1394\n",
       "Time:                        15:38:29   Log-Likelihood:            -2.2289e+06\n",
       "converged:                       True   LL-Null:                   -2.5899e+06\n",
       "Covariance Type:            nonrobust   LLR p-value:                     0.000\n",
       "==========================================================================================================================================\n",
       "                                                                             coef    std err          z      P>|z|      [0.025      0.975]\n",
       "------------------------------------------------------------------------------------------------------------------------------------------\n",
       "Intercept                                                                  2.6087      0.002   1650.479      0.000       2.606       2.612\n",
       "C(initiator_author_type)[T.mixed]                                         -0.0481      0.002    -19.765      0.000      -0.053      -0.043\n",
       "C(initiator_author_type)[T.p]                                             -0.1103      0.002    -56.589      0.000      -0.114      -0.106\n",
       "C(reciprocator_author_type)[T.mixed]                                      -0.0777      0.002    -31.142      0.000      -0.083      -0.073\n",
       "C(reciprocator_author_type)[T.p]                                          -0.0956      0.002    -44.911      0.000      -0.100      -0.091\n",
       "C(initiator_author_type)[T.mixed]:C(reciprocator_author_type)[T.mixed]     0.0657      0.006     10.177      0.000       0.053       0.078\n",
       "C(initiator_author_type)[T.p]:C(reciprocator_author_type)[T.mixed]         0.1748      0.005     35.753      0.000       0.165       0.184\n",
       "C(initiator_author_type)[T.mixed]:C(reciprocator_author_type)[T.p]         0.1051      0.005     19.857      0.000       0.095       0.115\n",
       "C(initiator_author_type)[T.p]:C(reciprocator_author_type)[T.p]             0.2266      0.003     64.744      0.000       0.220       0.233\n",
       "pct_initiator_ints_scaled                                                  0.0046   2.07e-05    221.167      0.000       0.005       0.005\n",
       "duration_months                                                            0.0146   1.64e-05    887.987      0.000       0.015       0.015\n",
       "==========================================================================================================================================\n",
       "\"\"\""
      ]
     },
     "execution_count": 115,
     "metadata": {},
     "output_type": "execute_result"
    }
   ],
   "source": [
    "f = f'int_count ~ C(initiator_author_type) * C(reciprocator_author_type) + pct_initiator_ints_scaled + duration_months'\n",
    "\n",
    "model = smf.poisson(formula=f, data = rel_df_subset)\n",
    "res = model.fit()\n",
    "res.summary()"
   ]
  },
  {
   "cell_type": "code",
   "execution_count": 116,
   "metadata": {},
   "outputs": [
    {
     "data": {
      "text/plain": [
       "Intercept                                                                 13.581607\n",
       "C(initiator_author_type)[T.mixed]                                          0.953046\n",
       "C(initiator_author_type)[T.p]                                              0.895556\n",
       "C(reciprocator_author_type)[T.mixed]                                       0.925256\n",
       "C(reciprocator_author_type)[T.p]                                           0.908806\n",
       "C(initiator_author_type)[T.mixed]:C(reciprocator_author_type)[T.mixed]     1.067919\n",
       "C(initiator_author_type)[T.p]:C(reciprocator_author_type)[T.mixed]         1.190989\n",
       "C(initiator_author_type)[T.mixed]:C(reciprocator_author_type)[T.p]         1.110815\n",
       "C(initiator_author_type)[T.p]:C(reciprocator_author_type)[T.p]             1.254331\n",
       "pct_initiator_ints_scaled                                                  1.004583\n",
       "duration_months                                                            1.014670\n",
       "dtype: float64"
      ]
     },
     "execution_count": 116,
     "metadata": {},
     "output_type": "execute_result"
    }
   ],
   "source": [
    "np.exp(res.params)"
   ]
  },
  {
   "cell_type": "code",
   "execution_count": 117,
   "metadata": {},
   "outputs": [
    {
     "data": {
      "text/plain": [
       "1.0"
      ]
     },
     "execution_count": 117,
     "metadata": {},
     "output_type": "execute_result"
    }
   ],
   "source": [
    "# dispersion is assumed to be 1 by poisson regression\n",
    "res.scale"
   ]
  },
  {
   "cell_type": "code",
   "execution_count": 118,
   "metadata": {},
   "outputs": [
    {
     "data": {
      "image/png": "[encoded data removed]",
      "text/plain": [
       "<Figure size 432x288 with 1 Axes>"
      ]
     },
     "metadata": {
      "needs_background": "light"
     },
     "output_type": "display_data"
    },
    {
     "data": {
      "text/plain": [
       "array([    0,     0,     0,   219,  9458, 25013, 23353, 16650, 11520,\n",
       "        8375,  6034,  4496,  3570,  2807,  2227,  1764,  1449,  1135,\n",
       "         959,   763,   653,   587,   422,   419,   322,   269,   227,\n",
       "         214,   160,   193,   125,   136,   109,    86,    84,    75,\n",
       "          69,    67,    41,    26,    49,    39,    17,    24,    25,\n",
       "          20,    20,    14,    12,    11])"
      ]
     },
     "execution_count": 118,
     "metadata": {},
     "output_type": "execute_result"
    }
   ],
   "source": [
    "# the poisson model consistently overestimates the counts\n",
    "_, bins, _ = plt.hist(rel_df_subset.int_count, bins=50, log=False, range=(2, 150))\n",
    "plt.title(\"Distribution of outcome (i.e. total relationship interactions)\")\n",
    "poisson_preds = res.predict(rel_df_subset)\n",
    "pred_density, _ = np.histogram(poisson_preds, bins=bins)\n",
    "#bins = np.linspace(2, 300, num=300)\n",
    "#pred_density, _ = np.histogram(preds, bins=bins)\n",
    "plt.plot(bins, pred_density.tolist() + [0,], label='Poisson')\n",
    "\n",
    "#\n",
    "linear_pred_density, _ = np.histogram(linear_preds, bins=bins)\n",
    "plt.plot(bins, linear_pred_density.tolist() + [0,], label='Linear')\n",
    "\n",
    "log_linear_pred_density, _ = np.histogram(np.exp(log_linear_preds), bins=bins)\n",
    "plt.plot(bins, log_linear_pred_density.tolist() + [0,], label='Log Linear')\n",
    "\n",
    "\n",
    "plt.legend()\n",
    "\n",
    "plt.show()\n",
    "pred_density"
   ]
  },
  {
   "cell_type": "code",
   "execution_count": 121,
   "metadata": {},
   "outputs": [
    {
     "data": {
      "image/png": "[encoded data removed]",
      "text/plain": [
       "<Figure size 432x288 with 1 Axes>"
      ]
     },
     "metadata": {
      "needs_background": "light"
     },
     "output_type": "display_data"
    }
   ],
   "source": [
    "resid = rel_df_subset.int_count - poisson_preds\n",
    "plt.scatter(poisson_preds, resid, alpha=0.01)\n",
    "plt.show()"
   ]
  },
  {
   "cell_type": "code",
   "execution_count": 122,
   "metadata": {},
   "outputs": [
    {
     "name": "stderr",
     "output_type": "stream",
     "text": [
      "/home/srivbane/shared/anaconda3/lib/python3.7/site-packages/ipykernel_launcher.py:2: SettingWithCopyWarning: \n",
      "A value is trying to be set on a copy of a slice from a DataFrame.\n",
      "Try using .loc[row_indexer,col_indexer] = value instead\n",
      "\n",
      "See the caveats in the documentation: https://pandas.pydata.org/pandas-docs/stable/user_guide/indexing.html#returning-a-view-versus-a-copy\n",
      "  \n"
     ]
    },
    {
     "name": "stdout",
     "output_type": "stream",
     "text": [
      "Optimization terminated successfully.\n",
      "         Current function value: 19.164120\n",
      "         Iterations 6\n"
     ]
    },
    {
     "data": {
      "text/html": [
       "<table class=\"simpletable\">\n",
       "<caption>Poisson Regression Results</caption>\n",
       "<tr>\n",
       "  <th>Dep. Variable:</th>   <td>int_count_beyond_initial</td> <th>  No. Observations:  </th>   <td>124377</td>   \n",
       "</tr>\n",
       "<tr>\n",
       "  <th>Model:</th>                    <td>Poisson</td>         <th>  Df Residuals:      </th>   <td>124366</td>   \n",
       "</tr>\n",
       "<tr>\n",
       "  <th>Method:</th>                     <td>MLE</td>           <th>  Df Model:          </th>   <td>    10</td>   \n",
       "</tr>\n",
       "<tr>\n",
       "  <th>Date:</th>                <td>Mon, 01 Jun 2020</td>     <th>  Pseudo R-squ.:     </th>   <td>0.1389</td>   \n",
       "</tr>\n",
       "<tr>\n",
       "  <th>Time:</th>                    <td>15:38:59</td>         <th>  Log-Likelihood:    </th> <td>-2.3836e+06</td>\n",
       "</tr>\n",
       "<tr>\n",
       "  <th>converged:</th>                 <td>True</td>           <th>  LL-Null:           </th> <td>-2.7681e+06</td>\n",
       "</tr>\n",
       "<tr>\n",
       "  <th>Covariance Type:</th>         <td>nonrobust</td>        <th>  LLR p-value:       </th>   <td> 0.000</td>   \n",
       "</tr>\n",
       "</table>\n",
       "<table class=\"simpletable\">\n",
       "<tr>\n",
       "                                     <td></td>                                       <th>coef</th>     <th>std err</th>      <th>z</th>      <th>P>|z|</th>  <th>[0.025</th>    <th>0.975]</th>  \n",
       "</tr>\n",
       "<tr>\n",
       "  <th>Intercept</th>                                                              <td>    2.4810</td> <td>    0.002</td> <td> 1507.440</td> <td> 0.000</td> <td>    2.478</td> <td>    2.484</td>\n",
       "</tr>\n",
       "<tr>\n",
       "  <th>C(initiator_author_type)[T.mixed]</th>                                      <td>   -0.0521</td> <td>    0.003</td> <td>  -20.604</td> <td> 0.000</td> <td>   -0.057</td> <td>   -0.047</td>\n",
       "</tr>\n",
       "<tr>\n",
       "  <th>C(initiator_author_type)[T.p]</th>                                          <td>   -0.1185</td> <td>    0.002</td> <td>  -58.457</td> <td> 0.000</td> <td>   -0.123</td> <td>   -0.115</td>\n",
       "</tr>\n",
       "<tr>\n",
       "  <th>C(reciprocator_author_type)[T.mixed]</th>                                   <td>   -0.0835</td> <td>    0.003</td> <td>  -32.199</td> <td> 0.000</td> <td>   -0.089</td> <td>   -0.078</td>\n",
       "</tr>\n",
       "<tr>\n",
       "  <th>C(reciprocator_author_type)[T.p]</th>                                       <td>   -0.1028</td> <td>    0.002</td> <td>  -46.381</td> <td> 0.000</td> <td>   -0.107</td> <td>   -0.098</td>\n",
       "</tr>\n",
       "<tr>\n",
       "  <th>C(initiator_author_type)[T.mixed]:C(reciprocator_author_type)[T.mixed]</th> <td>    0.0702</td> <td>    0.007</td> <td>   10.448</td> <td> 0.000</td> <td>    0.057</td> <td>    0.083</td>\n",
       "</tr>\n",
       "<tr>\n",
       "  <th>C(initiator_author_type)[T.p]:C(reciprocator_author_type)[T.mixed]</th>     <td>    0.1881</td> <td>    0.005</td> <td>   37.045</td> <td> 0.000</td> <td>    0.178</td> <td>    0.198</td>\n",
       "</tr>\n",
       "<tr>\n",
       "  <th>C(initiator_author_type)[T.mixed]:C(reciprocator_author_type)[T.p]</th>     <td>    0.1140</td> <td>    0.006</td> <td>   20.712</td> <td> 0.000</td> <td>    0.103</td> <td>    0.125</td>\n",
       "</tr>\n",
       "<tr>\n",
       "  <th>C(initiator_author_type)[T.p]:C(reciprocator_author_type)[T.p]</th>         <td>    0.2439</td> <td>    0.004</td> <td>   67.023</td> <td> 0.000</td> <td>    0.237</td> <td>    0.251</td>\n",
       "</tr>\n",
       "<tr>\n",
       "  <th>pct_initiator_ints_scaled</th>                                              <td>    0.0049</td> <td> 2.14e-05</td> <td>  228.980</td> <td> 0.000</td> <td>    0.005</td> <td>    0.005</td>\n",
       "</tr>\n",
       "<tr>\n",
       "  <th>duration_months</th>                                                        <td>    0.0154</td> <td> 1.68e-05</td> <td>  919.511</td> <td> 0.000</td> <td>    0.015</td> <td>    0.015</td>\n",
       "</tr>\n",
       "</table>"
      ],
      "text/plain": [
       "<class 'statsmodels.iolib.summary.Summary'>\n",
       "\"\"\"\n",
       "                             Poisson Regression Results                             \n",
       "====================================================================================\n",
       "Dep. Variable:     int_count_beyond_initial   No. Observations:               124377\n",
       "Model:                              Poisson   Df Residuals:                   124366\n",
       "Method:                                 MLE   Df Model:                           10\n",
       "Date:                      Mon, 01 Jun 2020   Pseudo R-squ.:                  0.1389\n",
       "Time:                              15:38:59   Log-Likelihood:            -2.3836e+06\n",
       "converged:                             True   LL-Null:                   -2.7681e+06\n",
       "Covariance Type:                  nonrobust   LLR p-value:                     0.000\n",
       "==========================================================================================================================================\n",
       "                                                                             coef    std err          z      P>|z|      [0.025      0.975]\n",
       "------------------------------------------------------------------------------------------------------------------------------------------\n",
       "Intercept                                                                  2.4810      0.002   1507.440      0.000       2.478       2.484\n",
       "C(initiator_author_type)[T.mixed]                                         -0.0521      0.003    -20.604      0.000      -0.057      -0.047\n",
       "C(initiator_author_type)[T.p]                                             -0.1185      0.002    -58.457      0.000      -0.123      -0.115\n",
       "C(reciprocator_author_type)[T.mixed]                                      -0.0835      0.003    -32.199      0.000      -0.089      -0.078\n",
       "C(reciprocator_author_type)[T.p]                                          -0.1028      0.002    -46.381      0.000      -0.107      -0.098\n",
       "C(initiator_author_type)[T.mixed]:C(reciprocator_author_type)[T.mixed]     0.0702      0.007     10.448      0.000       0.057       0.083\n",
       "C(initiator_author_type)[T.p]:C(reciprocator_author_type)[T.mixed]         0.1881      0.005     37.045      0.000       0.178       0.198\n",
       "C(initiator_author_type)[T.mixed]:C(reciprocator_author_type)[T.p]         0.1140      0.006     20.712      0.000       0.103       0.125\n",
       "C(initiator_author_type)[T.p]:C(reciprocator_author_type)[T.p]             0.2439      0.004     67.023      0.000       0.237       0.251\n",
       "pct_initiator_ints_scaled                                                  0.0049   2.14e-05    228.980      0.000       0.005       0.005\n",
       "duration_months                                                            0.0154   1.68e-05    919.511      0.000       0.015       0.015\n",
       "==========================================================================================================================================\n",
       "\"\"\""
      ]
     },
     "execution_count": 122,
     "metadata": {},
     "output_type": "execute_result"
    }
   ],
   "source": [
    "f = f'int_count_beyond_initial ~ C(initiator_author_type) * C(reciprocator_author_type) + pct_initiator_ints_scaled + duration_months'\n",
    "rel_df_subset['int_count_beyond_initial'] = rel_df_subset.int_count - 2\n",
    "model = smf.poisson(formula=f, data = rel_df_subset)\n",
    "res = model.fit()\n",
    "res.summary()"
   ]
  },
  {
   "cell_type": "code",
   "execution_count": 123,
   "metadata": {
    "scrolled": false
   },
   "outputs": [
    {
     "data": {
      "image/png": "[encoded data removed]",
      "text/plain": [
       "<Figure size 432x288 with 1 Axes>"
      ]
     },
     "metadata": {
      "needs_background": "light"
     },
     "output_type": "display_data"
    },
    {
     "data": {
      "text/plain": [
       "array([    0,     0,     0,   124,  9556, 26444, 23959, 16652, 11307,\n",
       "        7999,  5828,  4295,  3375,  2641,  2106,  1662,  1335,  1097,\n",
       "         876,   720,   615,   549,   398,   394,   307,   255,   219,\n",
       "         209,   152,   189,   121,   130,   103,    78,    90,    69,\n",
       "          70,    56,    57,    27,    42,    41,    30,    14,    23,\n",
       "          22,    19,    17,    13,    11])"
      ]
     },
     "execution_count": 123,
     "metadata": {},
     "output_type": "execute_result"
    }
   ],
   "source": [
    "# the poisson model consistently overestimates the counts\n",
    "preds = res.predict(rel_df_subset)\n",
    "_, bins, _ = plt.hist(rel_df_subset.int_count_beyond_initial, bins=50, log=False, range=(0, 150))\n",
    "plt.title(\"Distribution of outcome (i.e. total relationship interactions - 2)\")\n",
    "pred_density, _ = np.histogram(preds, bins=bins)\n",
    "#bins = np.linspace(2, 300, num=300)\n",
    "#pred_density, _ = np.histogram(preds, bins=bins)\n",
    "plt.plot(bins, pred_density.tolist() + [0,])\n",
    "plt.show()\n",
    "pred_density"
   ]
  },
  {
   "cell_type": "code",
   "execution_count": 124,
   "metadata": {},
   "outputs": [
    {
     "name": "stdout",
     "output_type": "stream",
     "text": [
      "Optimization terminated successfully.\n",
      "         Current function value: 4.225144\n",
      "         Iterations: 48\n",
      "         Function evaluations: 55\n",
      "         Gradient evaluations: 55\n"
     ]
    },
    {
     "data": {
      "text/html": [
       "<table class=\"simpletable\">\n",
       "<caption>NegativeBinomial Regression Results</caption>\n",
       "<tr>\n",
       "  <th>Dep. Variable:</th>       <td>int_count</td>    <th>  No. Observations:  </th>   <td>124377</td>   \n",
       "</tr>\n",
       "<tr>\n",
       "  <th>Model:</th>           <td>NegativeBinomial</td> <th>  Df Residuals:      </th>   <td>124366</td>   \n",
       "</tr>\n",
       "<tr>\n",
       "  <th>Method:</th>                 <td>MLE</td>       <th>  Df Model:          </th>   <td>    10</td>   \n",
       "</tr>\n",
       "<tr>\n",
       "  <th>Date:</th>            <td>Mon, 01 Jun 2020</td> <th>  Pseudo R-squ.:     </th>   <td>0.02746</td>  \n",
       "</tr>\n",
       "<tr>\n",
       "  <th>Time:</th>                <td>15:39:11</td>     <th>  Log-Likelihood:    </th> <td>-5.2551e+05</td>\n",
       "</tr>\n",
       "<tr>\n",
       "  <th>converged:</th>             <td>True</td>       <th>  LL-Null:           </th> <td>-5.4035e+05</td>\n",
       "</tr>\n",
       "<tr>\n",
       "  <th>Covariance Type:</th>     <td>nonrobust</td>    <th>  LLR p-value:       </th>   <td> 0.000</td>   \n",
       "</tr>\n",
       "</table>\n",
       "<table class=\"simpletable\">\n",
       "<tr>\n",
       "                                     <td></td>                                       <th>coef</th>     <th>std err</th>      <th>z</th>      <th>P>|z|</th>  <th>[0.025</th>    <th>0.975]</th>  \n",
       "</tr>\n",
       "<tr>\n",
       "  <th>Intercept</th>                                                              <td>    2.8610</td> <td>    0.006</td> <td>  471.768</td> <td> 0.000</td> <td>    2.849</td> <td>    2.873</td>\n",
       "</tr>\n",
       "<tr>\n",
       "  <th>C(initiator_author_type)[T.mixed]</th>                                      <td>   -0.0194</td> <td>    0.012</td> <td>   -1.553</td> <td> 0.120</td> <td>   -0.044</td> <td>    0.005</td>\n",
       "</tr>\n",
       "<tr>\n",
       "  <th>C(initiator_author_type)[T.p]</th>                                          <td>   -0.0748</td> <td>    0.010</td> <td>   -7.533</td> <td> 0.000</td> <td>   -0.094</td> <td>   -0.055</td>\n",
       "</tr>\n",
       "<tr>\n",
       "  <th>C(reciprocator_author_type)[T.mixed]</th>                                   <td>   -0.0338</td> <td>    0.013</td> <td>   -2.632</td> <td> 0.008</td> <td>   -0.059</td> <td>   -0.009</td>\n",
       "</tr>\n",
       "<tr>\n",
       "  <th>C(reciprocator_author_type)[T.p]</th>                                       <td>   -0.0553</td> <td>    0.011</td> <td>   -5.138</td> <td> 0.000</td> <td>   -0.076</td> <td>   -0.034</td>\n",
       "</tr>\n",
       "<tr>\n",
       "  <th>C(initiator_author_type)[T.mixed]:C(reciprocator_author_type)[T.mixed]</th> <td>    0.0430</td> <td>    0.033</td> <td>    1.311</td> <td> 0.190</td> <td>   -0.021</td> <td>    0.107</td>\n",
       "</tr>\n",
       "<tr>\n",
       "  <th>C(initiator_author_type)[T.p]:C(reciprocator_author_type)[T.mixed]</th>     <td>    0.1717</td> <td>    0.025</td> <td>    6.768</td> <td> 0.000</td> <td>    0.122</td> <td>    0.221</td>\n",
       "</tr>\n",
       "<tr>\n",
       "  <th>C(initiator_author_type)[T.mixed]:C(reciprocator_author_type)[T.p]</th>     <td>    0.0798</td> <td>    0.027</td> <td>    2.972</td> <td> 0.003</td> <td>    0.027</td> <td>    0.132</td>\n",
       "</tr>\n",
       "<tr>\n",
       "  <th>C(initiator_author_type)[T.p]:C(reciprocator_author_type)[T.p]</th>         <td>    0.2321</td> <td>    0.018</td> <td>   12.984</td> <td> 0.000</td> <td>    0.197</td> <td>    0.267</td>\n",
       "</tr>\n",
       "<tr>\n",
       "  <th>is_balanced</th>                                                            <td>   -0.3545</td> <td>    0.006</td> <td>  -63.027</td> <td> 0.000</td> <td>   -0.366</td> <td>   -0.343</td>\n",
       "</tr>\n",
       "<tr>\n",
       "  <th>duration_months</th>                                                        <td>    0.0198</td> <td>    0.000</td> <td>  150.527</td> <td> 0.000</td> <td>    0.020</td> <td>    0.020</td>\n",
       "</tr>\n",
       "<tr>\n",
       "  <th>alpha</th>                                                                  <td>    0.9337</td> <td>    0.004</td> <td>  265.084</td> <td> 0.000</td> <td>    0.927</td> <td>    0.941</td>\n",
       "</tr>\n",
       "</table>"
      ],
      "text/plain": [
       "<class 'statsmodels.iolib.summary.Summary'>\n",
       "\"\"\"\n",
       "                     NegativeBinomial Regression Results                      \n",
       "==============================================================================\n",
       "Dep. Variable:              int_count   No. Observations:               124377\n",
       "Model:               NegativeBinomial   Df Residuals:                   124366\n",
       "Method:                           MLE   Df Model:                           10\n",
       "Date:                Mon, 01 Jun 2020   Pseudo R-squ.:                 0.02746\n",
       "Time:                        15:39:11   Log-Likelihood:            -5.2551e+05\n",
       "converged:                       True   LL-Null:                   -5.4035e+05\n",
       "Covariance Type:            nonrobust   LLR p-value:                     0.000\n",
       "==========================================================================================================================================\n",
       "                                                                             coef    std err          z      P>|z|      [0.025      0.975]\n",
       "------------------------------------------------------------------------------------------------------------------------------------------\n",
       "Intercept                                                                  2.8610      0.006    471.768      0.000       2.849       2.873\n",
       "C(initiator_author_type)[T.mixed]                                         -0.0194      0.012     -1.553      0.120      -0.044       0.005\n",
       "C(initiator_author_type)[T.p]                                             -0.0748      0.010     -7.533      0.000      -0.094      -0.055\n",
       "C(reciprocator_author_type)[T.mixed]                                      -0.0338      0.013     -2.632      0.008      -0.059      -0.009\n",
       "C(reciprocator_author_type)[T.p]                                          -0.0553      0.011     -5.138      0.000      -0.076      -0.034\n",
       "C(initiator_author_type)[T.mixed]:C(reciprocator_author_type)[T.mixed]     0.0430      0.033      1.311      0.190      -0.021       0.107\n",
       "C(initiator_author_type)[T.p]:C(reciprocator_author_type)[T.mixed]         0.1717      0.025      6.768      0.000       0.122       0.221\n",
       "C(initiator_author_type)[T.mixed]:C(reciprocator_author_type)[T.p]         0.0798      0.027      2.972      0.003       0.027       0.132\n",
       "C(initiator_author_type)[T.p]:C(reciprocator_author_type)[T.p]             0.2321      0.018     12.984      0.000       0.197       0.267\n",
       "is_balanced                                                               -0.3545      0.006    -63.027      0.000      -0.366      -0.343\n",
       "duration_months                                                            0.0198      0.000    150.527      0.000       0.020       0.020\n",
       "alpha                                                                      0.9337      0.004    265.084      0.000       0.927       0.941\n",
       "==========================================================================================================================================\n",
       "\"\"\""
      ]
     },
     "execution_count": 124,
     "metadata": {},
     "output_type": "execute_result"
    }
   ],
   "source": [
    "# negative binomial model\n",
    "f = f'int_count ~ C(initiator_author_type) * C(reciprocator_author_type) + is_balanced + duration_months'\n",
    "\n",
    "model = smf.negativebinomial(formula=f, data = rel_df_subset)\n",
    "res = model.fit(maxiter=100)\n",
    "res.summary()"
   ]
  },
  {
   "cell_type": "code",
   "execution_count": 125,
   "metadata": {
    "scrolled": true
   },
   "outputs": [
    {
     "data": {
      "text/plain": [
       "Intercept                                                                 17.478837\n",
       "C(initiator_author_type)[T.mixed]                                          0.980780\n",
       "C(initiator_author_type)[T.p]                                              0.927963\n",
       "C(reciprocator_author_type)[T.mixed]                                       0.966797\n",
       "C(reciprocator_author_type)[T.p]                                           0.946164\n",
       "C(initiator_author_type)[T.mixed]:C(reciprocator_author_type)[T.mixed]     1.043970\n",
       "C(initiator_author_type)[T.p]:C(reciprocator_author_type)[T.mixed]         1.187271\n",
       "C(initiator_author_type)[T.mixed]:C(reciprocator_author_type)[T.p]         1.083074\n",
       "C(initiator_author_type)[T.p]:C(reciprocator_author_type)[T.p]             1.261271\n",
       "is_balanced                                                                0.701511\n",
       "duration_months                                                            1.019982\n",
       "alpha                                                                      2.543934\n",
       "dtype: float64"
      ]
     },
     "execution_count": 125,
     "metadata": {},
     "output_type": "execute_result"
    }
   ],
   "source": [
    "# these are the incidence rate ratios\n",
    "np.exp(res.params)"
   ]
  },
  {
   "cell_type": "code",
   "execution_count": 126,
   "metadata": {},
   "outputs": [
    {
     "data": {
      "text/plain": [
       "0.07203661240791681"
      ]
     },
     "execution_count": 126,
     "metadata": {},
     "output_type": "execute_result"
    }
   ],
   "source": [
    "# initiating patient\n",
    "1 - np.exp(-0.074763)"
   ]
  },
  {
   "cell_type": "code",
   "execution_count": 127,
   "metadata": {},
   "outputs": [
    {
     "data": {
      "text/plain": [
       "0.05383565613230756"
      ]
     },
     "execution_count": 127,
     "metadata": {},
     "output_type": "execute_result"
    }
   ],
   "source": [
    "# receiver patient\n",
    "1 - np.exp(-0.055339)"
   ]
  },
  {
   "cell_type": "code",
   "execution_count": 128,
   "metadata": {},
   "outputs": [
    {
     "data": {
      "text/plain": [
       "0.10740340480982158"
      ]
     },
     "execution_count": 128,
     "metadata": {},
     "output_type": "execute_result"
    }
   ],
   "source": [
    "# initiating and receiving patient\n",
    "np.exp(-0.074763 -0.055339 + 0.232120) - 1"
   ]
  },
  {
   "cell_type": "code",
   "execution_count": 129,
   "metadata": {},
   "outputs": [
    {
     "name": "stdout",
     "output_type": "stream",
     "text": [
      "\\begin{tabular}{lcccccc}\n",
      "\\hline\n",
      "& Coef. & Std.Err. & z & P$> |$z$|$ & [0.025 & 0.975] \\\\\n",
      "\\hline\n",
      "\\hline\n",
      "\\end{tabular}\n",
      "\\begin{tabular}{lrrrrrr}\n",
      "Intercept & 2.8610 & 0.0061 & 471.7680 & 0.0000 & 2.8491 & 2.8729 \\\\\n",
      "C(initiator-author-type)[T.mixed] & -0.0194 & 0.0125 & -1.5531 & 0.1204 & -0.0439 & 0.0051 \\\\\n",
      "C(initiator-author-type)[T.p] & -0.0748 & 0.0099 & -7.5329 & 0.0000 & -0.0942 & -0.0553 \\\\\n",
      "C(reciprocator-author-type)[T.mixed] & -0.0338 & 0.0128 & -2.6322 & 0.0085 & -0.0589 & -0.0086 \\\\\n",
      "C(reciprocator-author-type)[T.p] & -0.0553 & 0.0108 & -5.1382 & 0.0000 & -0.0764 & -0.0342 \\\\\n",
      "C(initiator-author-type)[T.mixed]:C(reciprocator-author-type)[T.mixed] & 0.0430 & 0.0328 & 1.3112 & 0.1898 & -0.0213 & 0.1074 \\\\\n",
      "C(initiator-author-type)[T.p]:C(reciprocator-author-type)[T.mixed] & 0.1717 & 0.0254 & 6.7680 & 0.0000 & 0.1219 & 0.2214 \\\\\n",
      "C(initiator-author-type)[T.mixed]:C(reciprocator-author-type)[T.p] & 0.0798 & 0.0268 & 2.9724 & 0.0030 & 0.0272 & 0.1324 \\\\\n",
      "C(initiator-author-type)[T.p]:C(reciprocator-author-type)[T.p] & 0.2321 & 0.0179 & 12.9835 & 0.0000 & 0.1971 & 0.2672 \\\\\n",
      "is-balanced & -0.3545 & 0.0056 & -63.0274 & 0.0000 & -0.3655 & -0.3435 \\\\\n",
      "duration-months & 0.0198 & 0.0001 & 150.5271 & 0.0000 & 0.0195 & 0.0200 \\\\\n",
      "alpha & 0.9337 & 0.0035 & 265.0840 & 0.0000 & 0.9268 & 0.9406 \\\\\n",
      "\\hline\n",
      "\\end{tabular}\n"
     ]
    }
   ],
   "source": [
    "for line in res.summary2().as_latex().split(\"\\n\")[17:13+25]:\n",
    "    line = line.replace(\"\\_\", \"-\").replace(\"_\", \"-\")\n",
    "    line = re.sub('\\s+', ' ', line).strip()\n",
    "    print(line)"
   ]
  },
  {
   "cell_type": "markdown",
   "metadata": {},
   "source": [
    "[Predicted counts](https://stats.stackexchange.com/questions/17006/interpretation-of-incidence-rate-ratios) for 6-month, perfectly balanced relationships.\n",
    "\n",
    "Computed with a slightly older version of the model that used a different balance control var, but the same approach works for computing predicted counts at a particular number of months.\n",
    "\n",
    "```\n",
    "# p init, p receiver\n",
    ">>> np.exp(2.4489 + 0.0038 * 50 + 0.0203 * 6 - 0.0688 * 1 - 0.0372 * 1 + 0.1894 * 1)\n",
    "17.18608423066515\n",
    "# p init, cg receiver\n",
    ">>> np.exp(2.4489 + 0.0038 * 50 + 0.0203 * 6 - 0.0688 * 1 - 0.0372 * 0 + 0.1894 * 0)\n",
    "14.75969271221521\n",
    "# cg init, p receiver\n",
    ">>> np.exp(2.4489 + 0.0038 * 50 + 0.0203 * 6 - 0.0688 * 0 - 0.0372 * 1 + 0.1894 * 0)\n",
    "15.23354646085602\n",
    "# cg init, cg receiver\n",
    ">>> np.exp(2.4489 + 0.0038 * 50 + 0.0203 * 6 - 0.0688 * 0 - 0.0372 * 0 + 0.1894 * 0)\n",
    "15.810906710189084\n",
    "```"
   ]
  },
  {
   "cell_type": "code",
   "execution_count": 130,
   "metadata": {},
   "outputs": [],
   "source": [
    "nb_preds = res.predict(rel_df_subset)"
   ]
  },
  {
   "cell_type": "code",
   "execution_count": 131,
   "metadata": {},
   "outputs": [
    {
     "data": {
      "image/png": "[encoded data removed]",
      "text/plain": [
       "<Figure size 432x288 with 1 Axes>"
      ]
     },
     "metadata": {
      "needs_background": "light"
     },
     "output_type": "display_data"
    },
    {
     "data": {
      "text/plain": [
       "array([    0,     0,     0,   124,  9556, 26444, 23959, 16652, 11307,\n",
       "        7999,  5828,  4295,  3375,  2641,  2106,  1662,  1335,  1097,\n",
       "         876,   720,   615,   549,   398,   394,   307,   255,   219,\n",
       "         209,   152,   189,   121,   130,   103,    78,    90,    69,\n",
       "          70,    56,    57,    27,    42,    41,    30,    14,    23,\n",
       "          22,    19,    17,    13,    11])"
      ]
     },
     "execution_count": 131,
     "metadata": {},
     "output_type": "execute_result"
    }
   ],
   "source": [
    "# of the four models tried, it looks like the negative binomial model is the best fit\n",
    "# although, \n",
    "_, bins, _ = plt.hist(rel_df_subset.int_count, bins=50, log=False, range=(2, 150))\n",
    "plt.title(\"Distribution of outcome (i.e. total relationship interactions)\")\n",
    "\n",
    "linear_pred_density, _ = np.histogram(linear_preds, bins=bins)\n",
    "plt.plot(bins, linear_pred_density.tolist() + [0,], label='Linear')\n",
    "\n",
    "log_linear_pred_density, _ = np.histogram(np.exp(log_linear_preds), bins=bins)\n",
    "plt.plot(bins, log_linear_pred_density.tolist() + [0,], label='Log Linear')\n",
    "\n",
    "poisson_pred_density, _ = np.histogram(poisson_preds, bins=bins)\n",
    "plt.plot(bins, poisson_pred_density.tolist() + [0,], label='Poisson')\n",
    "\n",
    "nb_pred_density, _ = np.histogram(nb_preds, bins=bins)\n",
    "plt.plot(bins, nb_pred_density.tolist() + [0,], label='Negative Binomial')\n",
    "\n",
    "plt.legend()\n",
    "\n",
    "plt.show()\n",
    "pred_density"
   ]
  },
  {
   "cell_type": "code",
   "execution_count": 132,
   "metadata": {},
   "outputs": [
    {
     "data": {
      "image/png": "[encoded data removed]",
      "text/plain": [
       "<Figure size 432x288 with 1 Axes>"
      ]
     },
     "metadata": {
      "needs_background": "light"
     },
     "output_type": "display_data"
    }
   ],
   "source": [
    "resid = rel_df_subset.int_count - nb_preds\n",
    "plt.scatter(nb_preds, resid, alpha=0.01)\n",
    "plt.show()"
   ]
  },
  {
   "cell_type": "code",
   "execution_count": 133,
   "metadata": {},
   "outputs": [
    {
     "name": "stdout",
     "output_type": "stream",
     "text": [
      "\\begin{table}\n",
      "\\caption{Results: NegativeBinomial}\n",
      "\\begin{center}\n",
      "\\begin{tabular}{llll}\n",
      "\\hline\n",
      "Model:              & NegativeBinomial & Pseudo R-squared: & 0.027         \\\\\n",
      "Dependent Variable: & int-count       & AIC:              & 1051045.3724  \\\\\n",
      "Date:               & 2020-06-01 15:39 & BIC:              & 1051162.1452  \\\\\n",
      "No. Observations:   & 124377           & Log-Likelihood:   & -5.2551e+05   \\\\\n",
      "Df Model:           & 10               & LL-Null:          & -5.4035e+05   \\\\\n",
      "Df Residuals:       & 124366           & LLR p-value:      & 0.0000        \\\\\n",
      "Converged:          & 1.0000           & Scale:            & 1.0000        \\\\\n",
      "\\hline\n",
      "\\end{tabular}\n",
      "\\end{center}\n",
      "\\hline\n",
      "\\begin{center}\n",
      "\\begin{tabular}{lcccccc}\n",
      "\\hline\n",
      "                                                                           &  Coef.  & Std.Err. &    z     & P$> |$z$|$ &  [0.025 &  0.975]  \\\\\n",
      "\\hline\n",
      "\\hline\n",
      "\\end{tabular}\n",
      "\\begin{tabular}{lrrrrrr}\n",
      "Intercept                                                                  &  2.8610 &   0.0061 & 471.7680 &      0.0000 &  2.8491 &  2.8729  \\\\\n",
      "C(initiator-author-type)[T.mixed]                                        & -0.0194 &   0.0125 &  -1.5531 &      0.1204 & -0.0439 &  0.0051  \\\\\n",
      "C(initiator-author-type)[T.p]                                            & -0.0748 &   0.0099 &  -7.5329 &      0.0000 & -0.0942 & -0.0553  \\\\\n",
      "C(reciprocator-author-type)[T.mixed]                                     & -0.0338 &   0.0128 &  -2.6322 &      0.0085 & -0.0589 & -0.0086  \\\\\n",
      "C(reciprocator-author-type)[T.p]                                         & -0.0553 &   0.0108 &  -5.1382 &      0.0000 & -0.0764 & -0.0342  \\\\\n",
      "C(initiator-author-type)[T.mixed]:C(reciprocator-author-type)[T.mixed] &  0.0430 &   0.0328 &   1.3112 &      0.1898 & -0.0213 &  0.1074  \\\\\n",
      "C(initiator-author-type)[T.p]:C(reciprocator-author-type)[T.mixed]     &  0.1717 &   0.0254 &   6.7680 &      0.0000 &  0.1219 &  0.2214  \\\\\n",
      "C(initiator-author-type)[T.mixed]:C(reciprocator-author-type)[T.p]     &  0.0798 &   0.0268 &   2.9724 &      0.0030 &  0.0272 &  0.1324  \\\\\n",
      "C(initiator-author-type)[T.p]:C(reciprocator-author-type)[T.p]         &  0.2321 &   0.0179 &  12.9835 &      0.0000 &  0.1971 &  0.2672  \\\\\n",
      "is-balanced                                                               & -0.3545 &   0.0056 & -63.0274 &      0.0000 & -0.3655 & -0.3435  \\\\\n",
      "duration-months                                                           &  0.0198 &   0.0001 & 150.5271 &      0.0000 &  0.0195 &  0.0200  \\\\\n",
      "alpha                                                                      &  0.9337 &   0.0035 & 265.0840 &      0.0000 &  0.9268 &  0.9406  \\\\\n",
      "\\hline\n",
      "\\end{tabular}\n",
      "\\end{center}\n",
      "\\end{table}\n"
     ]
    }
   ],
   "source": [
    "for line in res.summary2().as_latex().split(\"\\n\"):\n",
    "    line = line.replace(\"\\_\", \"-\").replace(\"_\", \"-\")\n",
    "    print(line)"
   ]
  },
  {
   "cell_type": "markdown",
   "metadata": {},
   "source": [
    "## Relationship \"balance\" analysis"
   ]
  },
  {
   "cell_type": "code",
   "execution_count": 134,
   "metadata": {},
   "outputs": [],
   "source": [
    "rel_df['balance'] = 'balanced'\n",
    "rel_df.loc[rel_df.pct_initiator_ints >= 0.75, 'balance'] = 'initiator'\n",
    "rel_df.loc[rel_df.pct_initiator_ints <= 0.25, 'balance'] = 'reciprocator'"
   ]
  },
  {
   "cell_type": "code",
   "execution_count": 135,
   "metadata": {},
   "outputs": [
    {
     "name": "stdout",
     "output_type": "stream",
     "text": [
      "            balanced 65920 52.47%\n",
      "           initiator 41231 32.82%\n",
      "        reciprocator 18478 14.71%\n"
     ]
    }
   ],
   "source": [
    "for rel_type, count in Counter(rel_df.balance).most_common():\n",
    "    print(f\"{rel_type:>20} {count} {count / len(rel_df) * 100:.2f}%\")"
   ]
  },
  {
   "cell_type": "code",
   "execution_count": 136,
   "metadata": {},
   "outputs": [
    {
     "data": {
      "text/plain": [
       "0.6311039174805223"
      ]
     },
     "execution_count": 136,
     "metadata": {},
     "output_type": "execute_result"
    }
   ],
   "source": [
    "np.sum(rel_df[rel_df.int_count > 10].pct_initiator_ints > 0.5) / len(rel_df[rel_df.int_count > 10])"
   ]
  },
  {
   "cell_type": "code",
   "execution_count": 137,
   "metadata": {},
   "outputs": [
    {
     "name": "stdout",
     "output_type": "stream",
     "text": [
      "p p\n",
      "            balanced 4661 55.88%\n",
      "           initiator 2507 30.06%\n",
      "        reciprocator 1173 14.06%\n",
      "p cg\n",
      "            balanced 5838 50.36%\n",
      "           initiator 3970 34.25%\n",
      "        reciprocator 1784 15.39%\n",
      "cg p\n",
      "            balanced 4863 50.65%\n",
      "           initiator 3204 33.37%\n",
      "        reciprocator 1535 15.99%\n",
      "cg cg\n",
      "            balanced 40714 53.08%\n",
      "           initiator 24923 32.49%\n",
      "        reciprocator 11073 14.43%\n"
     ]
    }
   ],
   "source": [
    "for initiator in ['p', 'cg']:\n",
    "    for reciprocator in ['p', 'cg']:\n",
    "        rel_df_subset = rel_df[(rel_df.initiator_author_type == initiator)&(rel_df.reciprocator_author_type == reciprocator)]\n",
    "        print(initiator, reciprocator)\n",
    "        for rel_type, count in Counter(rel_df_subset.balance).most_common():\n",
    "            print(f\"{rel_type:>20} {count} {count / len(rel_df_subset) * 100:.2f}%\")"
   ]
  },
  {
   "cell_type": "code",
   "execution_count": 138,
   "metadata": {},
   "outputs": [
    {
     "data": {
      "text/plain": [
       "(0.5334622868791697,\n",
       " 0.5055098872572723,\n",
       " 0.02795239962189744,\n",
       " Ttest_indResult(statistic=9.193389591327932, pvalue=3.8992763978937396e-20))"
      ]
     },
     "execution_count": 138,
     "metadata": {},
     "output_type": "execute_result"
    }
   ],
   "source": [
    "# when initiator and receiver share an author type, relationship is more likely to be balanced\n",
    "sample1 = (rel_df[rel_df.initiator_author_type == rel_df.reciprocator_author_type].balance == 'balanced').astype(int)\n",
    "sample2 = (rel_df[rel_df.initiator_author_type != rel_df.reciprocator_author_type].balance == 'balanced').astype(int)\n",
    "\n",
    "np.mean(sample1), \\\n",
    "np.mean(sample2), \\\n",
    "np.mean(sample1) - np.mean(sample2), \\\n",
    "scipy.stats.ttest_ind(sample1, sample2, equal_var=False)"
   ]
  },
  {
   "cell_type": "code",
   "execution_count": 139,
   "metadata": {},
   "outputs": [],
   "source": [
    "rel_df['is_balanced'] = (rel_df.balance == 'balanced').astype(int)"
   ]
  },
  {
   "cell_type": "code",
   "execution_count": 140,
   "metadata": {},
   "outputs": [],
   "source": [
    "def print_feature_summary(res):\n",
    "    for feature, coef in zip(res.params.index, res.params):\n",
    "        prob = np.exp(coef)/(1+np.exp(coef))\n",
    "        feature_name = feature.replace(\"_author_type\", \"_AR\")\n",
    "        if \"health_condition\" in feature_name:\n",
    "            feature_name = \"health_condition \" + feature_name.split(\"[\")[1][2:-1]\n",
    "        print(f\"{feature_name:<50} {min((np.exp(coef)-1)*100, 999):>8.3f}% increase   {prob*100:>8.2f}%   ({np.exp(coef):.3f})\")"
   ]
  },
  {
   "cell_type": "code",
   "execution_count": 141,
   "metadata": {},
   "outputs": [
    {
     "name": "stdout",
     "output_type": "stream",
     "text": [
      "Optimization terminated successfully.\n",
      "         Current function value: 0.682556\n",
      "         Iterations 6\n",
      "Intercept                                            47.217% increase      59.55%   (1.472)\n",
      "C(initiator_AR)[T.mixed]                             -8.968% increase      47.65%   (0.910)\n",
      "C(initiator_AR)[T.p]                                -10.843% increase      47.13%   (0.892)\n",
      "C(reciprocator_AR)[T.mixed]                         -12.620% increase      46.63%   (0.874)\n",
      "C(reciprocator_AR)[T.p]                             -11.041% increase      47.08%   (0.890)\n",
      "C(initiator_AR)[T.mixed]:C(reciprocator_AR)[T.mixed]   22.383% increase      55.03%   (1.224)\n",
      "C(initiator_AR)[T.p]:C(reciprocator_AR)[T.mixed]     12.588% increase      52.96%   (1.126)\n",
      "C(initiator_AR)[T.mixed]:C(reciprocator_AR)[T.p]     13.950% increase      53.26%   (1.140)\n",
      "C(initiator_AR)[T.p]:C(reciprocator_AR)[T.p]         37.102% increase      57.82%   (1.371)\n",
      "int_count                                            -0.285% increase      49.93%   (0.997)\n",
      "duration_months                                      -0.600% increase      49.85%   (0.994)\n"
     ]
    },
    {
     "data": {
      "text/html": [
       "<table class=\"simpletable\">\n",
       "<caption>Logit Regression Results</caption>\n",
       "<tr>\n",
       "  <th>Dep. Variable:</th>      <td>is_balanced</td>   <th>  No. Observations:  </th>  <td>125629</td> \n",
       "</tr>\n",
       "<tr>\n",
       "  <th>Model:</th>                 <td>Logit</td>      <th>  Df Residuals:      </th>  <td>125618</td> \n",
       "</tr>\n",
       "<tr>\n",
       "  <th>Method:</th>                 <td>MLE</td>       <th>  Df Model:          </th>  <td>    10</td> \n",
       "</tr>\n",
       "<tr>\n",
       "  <th>Date:</th>            <td>Mon, 01 Jun 2020</td> <th>  Pseudo R-squ.:     </th>  <td>0.01354</td>\n",
       "</tr>\n",
       "<tr>\n",
       "  <th>Time:</th>                <td>15:39:57</td>     <th>  Log-Likelihood:    </th> <td> -85749.</td>\n",
       "</tr>\n",
       "<tr>\n",
       "  <th>converged:</th>             <td>True</td>       <th>  LL-Null:           </th> <td> -86926.</td>\n",
       "</tr>\n",
       "<tr>\n",
       "  <th>Covariance Type:</th>     <td>nonrobust</td>    <th>  LLR p-value:       </th>  <td> 0.000</td> \n",
       "</tr>\n",
       "</table>\n",
       "<table class=\"simpletable\">\n",
       "<tr>\n",
       "                                     <td></td>                                       <th>coef</th>     <th>std err</th>      <th>z</th>      <th>P>|z|</th>  <th>[0.025</th>    <th>0.975]</th>  \n",
       "</tr>\n",
       "<tr>\n",
       "  <th>Intercept</th>                                                              <td>    0.3867</td> <td>    0.010</td> <td>   39.788</td> <td> 0.000</td> <td>    0.368</td> <td>    0.406</td>\n",
       "</tr>\n",
       "<tr>\n",
       "  <th>C(initiator_author_type)[T.mixed]</th>                                      <td>   -0.0940</td> <td>    0.025</td> <td>   -3.713</td> <td> 0.000</td> <td>   -0.144</td> <td>   -0.044</td>\n",
       "</tr>\n",
       "<tr>\n",
       "  <th>C(initiator_author_type)[T.p]</th>                                          <td>   -0.1148</td> <td>    0.020</td> <td>   -5.707</td> <td> 0.000</td> <td>   -0.154</td> <td>   -0.075</td>\n",
       "</tr>\n",
       "<tr>\n",
       "  <th>C(reciprocator_author_type)[T.mixed]</th>                                   <td>   -0.1349</td> <td>    0.026</td> <td>   -5.184</td> <td> 0.000</td> <td>   -0.186</td> <td>   -0.084</td>\n",
       "</tr>\n",
       "<tr>\n",
       "  <th>C(reciprocator_author_type)[T.p]</th>                                       <td>   -0.1170</td> <td>    0.022</td> <td>   -5.363</td> <td> 0.000</td> <td>   -0.160</td> <td>   -0.074</td>\n",
       "</tr>\n",
       "<tr>\n",
       "  <th>C(initiator_author_type)[T.mixed]:C(reciprocator_author_type)[T.mixed]</th> <td>    0.2020</td> <td>    0.067</td> <td>    3.032</td> <td> 0.002</td> <td>    0.071</td> <td>    0.333</td>\n",
       "</tr>\n",
       "<tr>\n",
       "  <th>C(initiator_author_type)[T.p]:C(reciprocator_author_type)[T.mixed]</th>     <td>    0.1186</td> <td>    0.051</td> <td>    2.304</td> <td> 0.021</td> <td>    0.018</td> <td>    0.219</td>\n",
       "</tr>\n",
       "<tr>\n",
       "  <th>C(initiator_author_type)[T.mixed]:C(reciprocator_author_type)[T.p]</th>     <td>    0.1306</td> <td>    0.054</td> <td>    2.400</td> <td> 0.016</td> <td>    0.024</td> <td>    0.237</td>\n",
       "</tr>\n",
       "<tr>\n",
       "  <th>C(initiator_author_type)[T.p]:C(reciprocator_author_type)[T.p]</th>         <td>    0.3156</td> <td>    0.036</td> <td>    8.685</td> <td> 0.000</td> <td>    0.244</td> <td>    0.387</td>\n",
       "</tr>\n",
       "<tr>\n",
       "  <th>int_count</th>                                                              <td>   -0.0029</td> <td>    0.000</td> <td>  -26.001</td> <td> 0.000</td> <td>   -0.003</td> <td>   -0.003</td>\n",
       "</tr>\n",
       "<tr>\n",
       "  <th>duration_months</th>                                                        <td>   -0.0060</td> <td>    0.000</td> <td>  -25.699</td> <td> 0.000</td> <td>   -0.006</td> <td>   -0.006</td>\n",
       "</tr>\n",
       "</table>"
      ],
      "text/plain": [
       "<class 'statsmodels.iolib.summary.Summary'>\n",
       "\"\"\"\n",
       "                           Logit Regression Results                           \n",
       "==============================================================================\n",
       "Dep. Variable:            is_balanced   No. Observations:               125629\n",
       "Model:                          Logit   Df Residuals:                   125618\n",
       "Method:                           MLE   Df Model:                           10\n",
       "Date:                Mon, 01 Jun 2020   Pseudo R-squ.:                 0.01354\n",
       "Time:                        15:39:57   Log-Likelihood:                -85749.\n",
       "converged:                       True   LL-Null:                       -86926.\n",
       "Covariance Type:            nonrobust   LLR p-value:                     0.000\n",
       "==========================================================================================================================================\n",
       "                                                                             coef    std err          z      P>|z|      [0.025      0.975]\n",
       "------------------------------------------------------------------------------------------------------------------------------------------\n",
       "Intercept                                                                  0.3867      0.010     39.788      0.000       0.368       0.406\n",
       "C(initiator_author_type)[T.mixed]                                         -0.0940      0.025     -3.713      0.000      -0.144      -0.044\n",
       "C(initiator_author_type)[T.p]                                             -0.1148      0.020     -5.707      0.000      -0.154      -0.075\n",
       "C(reciprocator_author_type)[T.mixed]                                      -0.1349      0.026     -5.184      0.000      -0.186      -0.084\n",
       "C(reciprocator_author_type)[T.p]                                          -0.1170      0.022     -5.363      0.000      -0.160      -0.074\n",
       "C(initiator_author_type)[T.mixed]:C(reciprocator_author_type)[T.mixed]     0.2020      0.067      3.032      0.002       0.071       0.333\n",
       "C(initiator_author_type)[T.p]:C(reciprocator_author_type)[T.mixed]         0.1186      0.051      2.304      0.021       0.018       0.219\n",
       "C(initiator_author_type)[T.mixed]:C(reciprocator_author_type)[T.p]         0.1306      0.054      2.400      0.016       0.024       0.237\n",
       "C(initiator_author_type)[T.p]:C(reciprocator_author_type)[T.p]             0.3156      0.036      8.685      0.000       0.244       0.387\n",
       "int_count                                                                 -0.0029      0.000    -26.001      0.000      -0.003      -0.003\n",
       "duration_months                                                           -0.0060      0.000    -25.699      0.000      -0.006      -0.006\n",
       "==========================================================================================================================================\n",
       "\"\"\""
      ]
     },
     "execution_count": 141,
     "metadata": {},
     "output_type": "execute_result"
    }
   ],
   "source": [
    "formula = \"\"\"\n",
    "is_balanced ~  \n",
    "    C(initiator_author_type) * C(reciprocator_author_type)\n",
    "    + int_count\n",
    "    + duration_months\n",
    "    + 1\n",
    "\"\"\"\n",
    "model = smf.logit(formula=formula, \n",
    "                  data=rel_df)\n",
    "res = model.fit(maxiter=100)\n",
    "print_feature_summary(res)\n",
    "res.summary()"
   ]
  },
  {
   "cell_type": "code",
   "execution_count": 142,
   "metadata": {},
   "outputs": [
    {
     "name": "stdout",
     "output_type": "stream",
     "text": [
      "\\begin{table}\n",
      "\\caption{Results: Logit}\n",
      "\\begin{center}\n",
      "\\begin{tabular}{llll}\n",
      "\\hline\n",
      "Model:              & Logit            & Pseudo R-squared: & 0.014        \\\\\n",
      "Dependent Variable: & is-balanced     & AIC:              & 171519.6943  \\\\\n",
      "Date:               & 2020-06-01 15:39 & BIC:              & 171626.8463  \\\\\n",
      "No. Observations:   & 125629           & Log-Likelihood:   & -85749.      \\\\\n",
      "Df Model:           & 10               & LL-Null:          & -86926.      \\\\\n",
      "Df Residuals:       & 125618           & LLR p-value:      & 0.0000       \\\\\n",
      "Converged:          & 1.0000           & Scale:            & 1.0000       \\\\\n",
      "No. Iterations:     & 6.0000           &                   &              \\\\\n",
      "\\hline\n",
      "\\end{tabular}\n",
      "\\end{center}\n",
      "\\hline\n",
      "\\begin{center}\n",
      "\\begin{tabular}{lcccccc}\n",
      "\\hline\n",
      "                                                                           &  Coef.  & Std.Err. &    z     & P$> |$z$|$ &  [0.025 &  0.975]  \\\\\n",
      "\\hline\n",
      "\\hline\n",
      "\\end{tabular}\n",
      "\\begin{tabular}{lrrrrrr}\n",
      "Intercept                                                                  &  0.3867 &   0.0097 &  39.7880 &      0.0000 &  0.3677 &  0.4058  \\\\\n",
      "C(initiator-author-type)[T.mixed]                                        & -0.0940 &   0.0253 &  -3.7129 &      0.0002 & -0.1436 & -0.0444  \\\\\n",
      "C(initiator-author-type)[T.p]                                            & -0.1148 &   0.0201 &  -5.7070 &      0.0000 & -0.1542 & -0.0754  \\\\\n",
      "C(reciprocator-author-type)[T.mixed]                                     & -0.1349 &   0.0260 &  -5.1841 &      0.0000 & -0.1859 & -0.0839  \\\\\n",
      "C(reciprocator-author-type)[T.p]                                         & -0.1170 &   0.0218 &  -5.3628 &      0.0000 & -0.1597 & -0.0742  \\\\\n",
      "C(initiator-author-type)[T.mixed]:C(reciprocator-author-type)[T.mixed] &  0.2020 &   0.0666 &   3.0319 &      0.0024 &  0.0714 &  0.3326  \\\\\n",
      "C(initiator-author-type)[T.p]:C(reciprocator-author-type)[T.mixed]     &  0.1186 &   0.0515 &   2.3035 &      0.0212 &  0.0177 &  0.2194  \\\\\n",
      "C(initiator-author-type)[T.mixed]:C(reciprocator-author-type)[T.p]     &  0.1306 &   0.0544 &   2.4004 &      0.0164 &  0.0240 &  0.2372  \\\\\n",
      "C(initiator-author-type)[T.p]:C(reciprocator-author-type)[T.p]         &  0.3156 &   0.0363 &   8.6853 &      0.0000 &  0.2443 &  0.3868  \\\\\n",
      "int-count                                                                 & -0.0029 &   0.0001 & -26.0014 &      0.0000 & -0.0031 & -0.0026  \\\\\n",
      "duration-months                                                           & -0.0060 &   0.0002 & -25.6988 &      0.0000 & -0.0065 & -0.0056  \\\\\n",
      "\\hline\n",
      "\\end{tabular}\n",
      "\\end{center}\n",
      "\\end{table}\n"
     ]
    }
   ],
   "source": [
    "for line in res.summary2().as_latex().split(\"\\n\"):\n",
    "    line = line.replace(\"\\_\", \"-\").replace(\"_\", \"-\")\n",
    "    print(line)"
   ]
  },
  {
   "cell_type": "code",
   "execution_count": 143,
   "metadata": {},
   "outputs": [
    {
     "name": "stdout",
     "output_type": "stream",
     "text": [
      "Optimization terminated successfully.\n",
      "         Current function value: 0.682618\n",
      "         Iterations 6\n",
      "Intercept                                            31.431% increase      56.79%   (1.314)\n",
      "is_AR_shared                                         12.959% increase      53.04%   (1.130)\n",
      "int_count                                            -0.285% increase      49.93%   (0.997)\n",
      "duration_months                                      -0.603% increase      49.85%   (0.994)\n"
     ]
    },
    {
     "data": {
      "text/html": [
       "<table class=\"simpletable\">\n",
       "<caption>Logit Regression Results</caption>\n",
       "<tr>\n",
       "  <th>Dep. Variable:</th>      <td>is_balanced</td>   <th>  No. Observations:  </th>  <td>125629</td> \n",
       "</tr>\n",
       "<tr>\n",
       "  <th>Model:</th>                 <td>Logit</td>      <th>  Df Residuals:      </th>  <td>125625</td> \n",
       "</tr>\n",
       "<tr>\n",
       "  <th>Method:</th>                 <td>MLE</td>       <th>  Df Model:          </th>  <td>     3</td> \n",
       "</tr>\n",
       "<tr>\n",
       "  <th>Date:</th>            <td>Mon, 01 Jun 2020</td> <th>  Pseudo R-squ.:     </th>  <td>0.01345</td>\n",
       "</tr>\n",
       "<tr>\n",
       "  <th>Time:</th>                <td>15:39:57</td>     <th>  Log-Likelihood:    </th> <td> -85757.</td>\n",
       "</tr>\n",
       "<tr>\n",
       "  <th>converged:</th>             <td>True</td>       <th>  LL-Null:           </th> <td> -86926.</td>\n",
       "</tr>\n",
       "<tr>\n",
       "  <th>Covariance Type:</th>     <td>nonrobust</td>    <th>  LLR p-value:       </th>  <td> 0.000</td> \n",
       "</tr>\n",
       "</table>\n",
       "<table class=\"simpletable\">\n",
       "<tr>\n",
       "            <td></td>               <th>coef</th>     <th>std err</th>      <th>z</th>      <th>P>|z|</th>  <th>[0.025</th>    <th>0.975]</th>  \n",
       "</tr>\n",
       "<tr>\n",
       "  <th>Intercept</th>             <td>    0.2733</td> <td>    0.012</td> <td>   22.967</td> <td> 0.000</td> <td>    0.250</td> <td>    0.297</td>\n",
       "</tr>\n",
       "<tr>\n",
       "  <th>is_author_type_shared</th> <td>    0.1219</td> <td>    0.012</td> <td>    9.919</td> <td> 0.000</td> <td>    0.098</td> <td>    0.146</td>\n",
       "</tr>\n",
       "<tr>\n",
       "  <th>int_count</th>             <td>   -0.0028</td> <td>    0.000</td> <td>  -26.007</td> <td> 0.000</td> <td>   -0.003</td> <td>   -0.003</td>\n",
       "</tr>\n",
       "<tr>\n",
       "  <th>duration_months</th>       <td>   -0.0060</td> <td>    0.000</td> <td>  -25.833</td> <td> 0.000</td> <td>   -0.007</td> <td>   -0.006</td>\n",
       "</tr>\n",
       "</table>"
      ],
      "text/plain": [
       "<class 'statsmodels.iolib.summary.Summary'>\n",
       "\"\"\"\n",
       "                           Logit Regression Results                           \n",
       "==============================================================================\n",
       "Dep. Variable:            is_balanced   No. Observations:               125629\n",
       "Model:                          Logit   Df Residuals:                   125625\n",
       "Method:                           MLE   Df Model:                            3\n",
       "Date:                Mon, 01 Jun 2020   Pseudo R-squ.:                 0.01345\n",
       "Time:                        15:39:57   Log-Likelihood:                -85757.\n",
       "converged:                       True   LL-Null:                       -86926.\n",
       "Covariance Type:            nonrobust   LLR p-value:                     0.000\n",
       "=========================================================================================\n",
       "                            coef    std err          z      P>|z|      [0.025      0.975]\n",
       "-----------------------------------------------------------------------------------------\n",
       "Intercept                 0.2733      0.012     22.967      0.000       0.250       0.297\n",
       "is_author_type_shared     0.1219      0.012      9.919      0.000       0.098       0.146\n",
       "int_count                -0.0028      0.000    -26.007      0.000      -0.003      -0.003\n",
       "duration_months          -0.0060      0.000    -25.833      0.000      -0.007      -0.006\n",
       "=========================================================================================\n",
       "\"\"\""
      ]
     },
     "execution_count": 143,
     "metadata": {},
     "output_type": "execute_result"
    }
   ],
   "source": [
    "formula = \"\"\"\n",
    "is_balanced ~  \n",
    "    is_author_type_shared\n",
    "    + int_count\n",
    "    + duration_months\n",
    "    + 1\n",
    "\"\"\"\n",
    "model = smf.logit(formula=formula, \n",
    "                  data=rel_df)\n",
    "res = model.fit(maxiter=100)\n",
    "print_feature_summary(res)\n",
    "res.summary()"
   ]
  },
  {
   "cell_type": "code",
   "execution_count": 144,
   "metadata": {},
   "outputs": [
    {
     "data": {
      "text/plain": [
       "0.687229859347762"
      ]
     },
     "execution_count": 144,
     "metadata": {},
     "output_type": "execute_result"
    }
   ],
   "source": [
    "# 68\\% of relationships are between authors with a shared role\n",
    "len(rel_df[rel_df.initiator_author_type == rel_df.reciprocator_author_type]) / len(rel_df)"
   ]
  },
  {
   "cell_type": "markdown",
   "metadata": {},
   "source": [
    "## Survival analysis\n"
   ]
  },
  {
   "cell_type": "code",
   "execution_count": 71,
   "metadata": {},
   "outputs": [],
   "source": [
    "import lifelines"
   ]
  },
  {
   "cell_type": "code",
   "execution_count": 93,
   "metadata": {},
   "outputs": [
    {
     "name": "stdout",
     "output_type": "stream",
     "text": [
      "(76918, 7)\n"
     ]
    },
    {
     "data": {
      "text/html": [
       "<div>\n",
       "<style scoped>\n",
       "    .dataframe tbody tr th:only-of-type {\n",
       "        vertical-align: middle;\n",
       "    }\n",
       "\n",
       "    .dataframe tbody tr th {\n",
       "        vertical-align: top;\n",
       "    }\n",
       "\n",
       "    .dataframe thead th {\n",
       "        text-align: right;\n",
       "    }\n",
       "</style>\n",
       "<table border=\"1\" class=\"dataframe\">\n",
       "  <thead>\n",
       "    <tr style=\"text-align: right;\">\n",
       "      <th></th>\n",
       "      <th>duration_months</th>\n",
       "      <th>initiator_author_type_p</th>\n",
       "      <th>initiator_author_type_mixed</th>\n",
       "      <th>reciprocator_author_type_p</th>\n",
       "      <th>reciprocator_author_type_mixed</th>\n",
       "      <th>int_count</th>\n",
       "      <th>pct_initiator_ints</th>\n",
       "    </tr>\n",
       "  </thead>\n",
       "  <tbody>\n",
       "    <tr>\n",
       "      <td>9</td>\n",
       "      <td>46.619686</td>\n",
       "      <td>0</td>\n",
       "      <td>1</td>\n",
       "      <td>0</td>\n",
       "      <td>0</td>\n",
       "      <td>168</td>\n",
       "      <td>0.202381</td>\n",
       "    </tr>\n",
       "    <tr>\n",
       "      <td>15</td>\n",
       "      <td>83.597437</td>\n",
       "      <td>0</td>\n",
       "      <td>0</td>\n",
       "      <td>0</td>\n",
       "      <td>0</td>\n",
       "      <td>63</td>\n",
       "      <td>0.269841</td>\n",
       "    </tr>\n",
       "    <tr>\n",
       "      <td>16</td>\n",
       "      <td>3.664537</td>\n",
       "      <td>0</td>\n",
       "      <td>0</td>\n",
       "      <td>0</td>\n",
       "      <td>0</td>\n",
       "      <td>24</td>\n",
       "      <td>0.375000</td>\n",
       "    </tr>\n",
       "    <tr>\n",
       "      <td>18</td>\n",
       "      <td>63.155752</td>\n",
       "      <td>0</td>\n",
       "      <td>0</td>\n",
       "      <td>0</td>\n",
       "      <td>0</td>\n",
       "      <td>13</td>\n",
       "      <td>0.769231</td>\n",
       "    </tr>\n",
       "    <tr>\n",
       "      <td>23</td>\n",
       "      <td>43.833507</td>\n",
       "      <td>0</td>\n",
       "      <td>0</td>\n",
       "      <td>0</td>\n",
       "      <td>0</td>\n",
       "      <td>21</td>\n",
       "      <td>0.190476</td>\n",
       "    </tr>\n",
       "  </tbody>\n",
       "</table>\n",
       "</div>"
      ],
      "text/plain": [
       "    duration_months  initiator_author_type_p  initiator_author_type_mixed  \\\n",
       "9         46.619686                        0                            1   \n",
       "15        83.597437                        0                            0   \n",
       "16         3.664537                        0                            0   \n",
       "18        63.155752                        0                            0   \n",
       "23        43.833507                        0                            0   \n",
       "\n",
       "    reciprocator_author_type_p  reciprocator_author_type_mixed  int_count  \\\n",
       "9                            0                               0        168   \n",
       "15                           0                               0         63   \n",
       "16                           0                               0         24   \n",
       "18                           0                               0         13   \n",
       "23                           0                               0         21   \n",
       "\n",
       "    pct_initiator_ints  \n",
       "9             0.202381  \n",
       "15            0.269841  \n",
       "16            0.375000  \n",
       "18            0.769231  \n",
       "23            0.190476  "
      ]
     },
     "execution_count": 93,
     "metadata": {},
     "output_type": "execute_result"
    }
   ],
   "source": [
    "subset_df = rel_df[rel_df.int_count >= 10]\n",
    "subset_df = pd.get_dummies(subset_df, columns=['initiator_author_type', 'reciprocator_author_type'])\n",
    "subset_df = subset_df[['duration_months', \n",
    "                       'initiator_author_type_p', 'initiator_author_type_mixed',\n",
    "                       'reciprocator_author_type_p', 'reciprocator_author_type_mixed',\n",
    "                       'int_count', 'pct_initiator_ints'\n",
    "                      ]]\n",
    "print(subset_df.shape)\n",
    "subset_df.head()"
   ]
  },
  {
   "cell_type": "code",
   "execution_count": 94,
   "metadata": {},
   "outputs": [
    {
     "data": {
      "text/plain": [
       "<lifelines.CoxPHFitter: fitted with 76918 total observations, 0 right-censored observations>"
      ]
     },
     "execution_count": 94,
     "metadata": {},
     "output_type": "execute_result"
    }
   ],
   "source": [
    "cph = lifelines.CoxPHFitter()\n",
    "cph.fit(subset_df, duration_col='duration_months')"
   ]
  },
  {
   "cell_type": "code",
   "execution_count": 95,
   "metadata": {},
   "outputs": [
    {
     "data": {
      "text/html": [
       "<div>\n",
       "<style scoped>\n",
       "    .dataframe tbody tr th:only-of-type {\n",
       "        vertical-align: middle;\n",
       "    }\n",
       "\n",
       "    .dataframe tbody tr th {\n",
       "        vertical-align: top;\n",
       "    }\n",
       "\n",
       "    .dataframe thead th {\n",
       "        text-align: right;\n",
       "    }\n",
       "</style>\n",
       "<table border=\"1\" class=\"dataframe\">\n",
       "  <tbody>\n",
       "    <tr>\n",
       "      <th>model</th>\n",
       "      <td>lifelines.CoxPHFitter</td>\n",
       "    </tr>\n",
       "    <tr>\n",
       "      <th>duration col</th>\n",
       "      <td>'duration_months'</td>\n",
       "    </tr>\n",
       "    <tr>\n",
       "      <th>number of observations</th>\n",
       "      <td>76918</td>\n",
       "    </tr>\n",
       "    <tr>\n",
       "      <th>number of events observed</th>\n",
       "      <td>76918</td>\n",
       "    </tr>\n",
       "    <tr>\n",
       "      <th>partial log-likelihood</th>\n",
       "      <td>-786761.60</td>\n",
       "    </tr>\n",
       "    <tr>\n",
       "      <th>time fit was run</th>\n",
       "      <td>2020-01-06 21:45:00 UTC</td>\n",
       "    </tr>\n",
       "  </tbody>\n",
       "</table>\n",
       "</div><table border=\"1\" class=\"dataframe\">\n",
       "  <thead>\n",
       "    <tr style=\"text-align: right;\">\n",
       "      <th></th>\n",
       "      <th>coef</th>\n",
       "      <th>exp(coef)</th>\n",
       "      <th>se(coef)</th>\n",
       "      <th>coef lower 95%</th>\n",
       "      <th>coef upper 95%</th>\n",
       "      <th>exp(coef) lower 95%</th>\n",
       "      <th>exp(coef) upper 95%</th>\n",
       "      <th>z</th>\n",
       "      <th>p</th>\n",
       "      <th>-log2(p)</th>\n",
       "    </tr>\n",
       "  </thead>\n",
       "  <tbody>\n",
       "    <tr>\n",
       "      <th>initiator_author_type_p</th>\n",
       "      <td>0.05</td>\n",
       "      <td>1.05</td>\n",
       "      <td>0.01</td>\n",
       "      <td>0.03</td>\n",
       "      <td>0.07</td>\n",
       "      <td>1.03</td>\n",
       "      <td>1.07</td>\n",
       "      <td>5.22</td>\n",
       "      <td>&lt;0.005</td>\n",
       "      <td>22.41</td>\n",
       "    </tr>\n",
       "    <tr>\n",
       "      <th>initiator_author_type_mixed</th>\n",
       "      <td>0.06</td>\n",
       "      <td>1.06</td>\n",
       "      <td>0.01</td>\n",
       "      <td>0.04</td>\n",
       "      <td>0.09</td>\n",
       "      <td>1.04</td>\n",
       "      <td>1.09</td>\n",
       "      <td>4.70</td>\n",
       "      <td>&lt;0.005</td>\n",
       "      <td>18.52</td>\n",
       "    </tr>\n",
       "    <tr>\n",
       "      <th>reciprocator_author_type_p</th>\n",
       "      <td>0.12</td>\n",
       "      <td>1.12</td>\n",
       "      <td>0.01</td>\n",
       "      <td>0.10</td>\n",
       "      <td>0.14</td>\n",
       "      <td>1.10</td>\n",
       "      <td>1.15</td>\n",
       "      <td>11.39</td>\n",
       "      <td>&lt;0.005</td>\n",
       "      <td>97.41</td>\n",
       "    </tr>\n",
       "    <tr>\n",
       "      <th>reciprocator_author_type_mixed</th>\n",
       "      <td>0.04</td>\n",
       "      <td>1.04</td>\n",
       "      <td>0.01</td>\n",
       "      <td>0.01</td>\n",
       "      <td>0.07</td>\n",
       "      <td>1.01</td>\n",
       "      <td>1.07</td>\n",
       "      <td>2.93</td>\n",
       "      <td>&lt;0.005</td>\n",
       "      <td>8.20</td>\n",
       "    </tr>\n",
       "    <tr>\n",
       "      <th>int_count</th>\n",
       "      <td>-0.00</td>\n",
       "      <td>1.00</td>\n",
       "      <td>0.00</td>\n",
       "      <td>-0.00</td>\n",
       "      <td>-0.00</td>\n",
       "      <td>1.00</td>\n",
       "      <td>1.00</td>\n",
       "      <td>-42.97</td>\n",
       "      <td>&lt;0.005</td>\n",
       "      <td>inf</td>\n",
       "    </tr>\n",
       "    <tr>\n",
       "      <th>pct_initiator_ints</th>\n",
       "      <td>0.25</td>\n",
       "      <td>1.28</td>\n",
       "      <td>0.01</td>\n",
       "      <td>0.22</td>\n",
       "      <td>0.27</td>\n",
       "      <td>1.25</td>\n",
       "      <td>1.31</td>\n",
       "      <td>19.67</td>\n",
       "      <td>&lt;0.005</td>\n",
       "      <td>283.67</td>\n",
       "    </tr>\n",
       "  </tbody>\n",
       "</table><div>\n",
       "<style scoped>\n",
       "    .dataframe tbody tr th:only-of-type {\n",
       "        vertical-align: middle;\n",
       "    }\n",
       "\n",
       "    .dataframe tbody tr th {\n",
       "        vertical-align: top;\n",
       "    }\n",
       "\n",
       "    .dataframe thead th {\n",
       "        text-align: right;\n",
       "    }\n",
       "</style>\n",
       "<table border=\"1\" class=\"dataframe\">\n",
       "  <tbody>\n",
       "    <tr>\n",
       "      <th>Concordance</th>\n",
       "      <td>0.59</td>\n",
       "    </tr>\n",
       "    <tr>\n",
       "      <th>Log-likelihood ratio test</th>\n",
       "      <td>3385.07 on 6 df, -log2(p)=inf</td>\n",
       "    </tr>\n",
       "  </tbody>\n",
       "</table>\n",
       "</div>"
      ],
      "text/plain": [
       "<IPython.core.display.HTML object>"
      ]
     },
     "metadata": {},
     "output_type": "display_data"
    }
   ],
   "source": [
    "cph.print_summary()"
   ]
  },
  {
   "cell_type": "code",
   "execution_count": 96,
   "metadata": {},
   "outputs": [
    {
     "data": {
      "text/plain": [
       "<matplotlib.axes._subplots.AxesSubplot at 0x2ba72c889e80>"
      ]
     },
     "execution_count": 96,
     "metadata": {},
     "output_type": "execute_result"
    },
    {
     "data": {
      "image/png": "[encoded data removed]",
      "text/plain": [
       "<Figure size 432x288 with 1 Axes>"
      ]
     },
     "metadata": {
      "needs_background": "light"
     },
     "output_type": "display_data"
    }
   ],
   "source": [
    "cph.plot_covariate_groups(\n",
    "    ['initiator_author_type_p', 'reciprocator_author_type_p'],\n",
    "    [[1, 0], [0, 1], [1, 1]],\n",
    "    cmap='coolwarm'\n",
    ")"
   ]
  },
  {
   "cell_type": "code",
   "execution_count": 97,
   "metadata": {},
   "outputs": [
    {
     "name": "stdout",
     "output_type": "stream",
     "text": [
      "The ``p_value_threshold`` is set at 0.01. Even under the null hypothesis of no violations, some\n",
      "covariates will be below the threshold by chance. This is compounded when there are many covariates.\n",
      "Similarly, when there are lots of observations, even minor deviances from the proportional hazard\n",
      "assumption will be flagged.\n",
      "\n",
      "With that in mind, it's best to use a combination of statistical tests and visual tests to determine\n",
      "the most serious violations. Produce visual plots using ``check_assumptions(..., show_plots=True)``\n",
      "and looking for non-constant lines. See link [A] below for a full example.\n",
      "\n"
     ]
    },
    {
     "data": {
      "text/html": [
       "<div>\n",
       "<style scoped>\n",
       "    .dataframe tbody tr th:only-of-type {\n",
       "        vertical-align: middle;\n",
       "    }\n",
       "\n",
       "    .dataframe tbody tr th {\n",
       "        vertical-align: top;\n",
       "    }\n",
       "\n",
       "    .dataframe thead th {\n",
       "        text-align: right;\n",
       "    }\n",
       "</style>\n",
       "<table border=\"1\" class=\"dataframe\">\n",
       "  <tbody>\n",
       "    <tr>\n",
       "      <th>null_distribution</th>\n",
       "      <td>chi squared</td>\n",
       "    </tr>\n",
       "    <tr>\n",
       "      <th>degrees_of_freedom</th>\n",
       "      <td>1</td>\n",
       "    </tr>\n",
       "    <tr>\n",
       "      <th>test_name</th>\n",
       "      <td>proportional_hazard_test</td>\n",
       "    </tr>\n",
       "  </tbody>\n",
       "</table>\n",
       "</div><table border=\"1\" class=\"dataframe\">\n",
       "  <thead>\n",
       "    <tr style=\"text-align: right;\">\n",
       "      <th></th>\n",
       "      <th></th>\n",
       "      <th>test_statistic</th>\n",
       "      <th>p</th>\n",
       "    </tr>\n",
       "  </thead>\n",
       "  <tbody>\n",
       "    <tr>\n",
       "      <th rowspan=\"2\" valign=\"top\">initiator_author_type_mixed</th>\n",
       "      <th>km</th>\n",
       "      <td>21.64</td>\n",
       "      <td>&lt;0.005</td>\n",
       "    </tr>\n",
       "    <tr>\n",
       "      <th>rank</th>\n",
       "      <td>21.64</td>\n",
       "      <td>&lt;0.005</td>\n",
       "    </tr>\n",
       "    <tr>\n",
       "      <th rowspan=\"2\" valign=\"top\">initiator_author_type_p</th>\n",
       "      <th>km</th>\n",
       "      <td>35.82</td>\n",
       "      <td>&lt;0.005</td>\n",
       "    </tr>\n",
       "    <tr>\n",
       "      <th>rank</th>\n",
       "      <td>35.82</td>\n",
       "      <td>&lt;0.005</td>\n",
       "    </tr>\n",
       "    <tr>\n",
       "      <th rowspan=\"2\" valign=\"top\">int_count</th>\n",
       "      <th>km</th>\n",
       "      <td>3437.11</td>\n",
       "      <td>&lt;0.005</td>\n",
       "    </tr>\n",
       "    <tr>\n",
       "      <th>rank</th>\n",
       "      <td>3437.11</td>\n",
       "      <td>&lt;0.005</td>\n",
       "    </tr>\n",
       "    <tr>\n",
       "      <th rowspan=\"2\" valign=\"top\">pct_initiator_ints</th>\n",
       "      <th>km</th>\n",
       "      <td>99.73</td>\n",
       "      <td>&lt;0.005</td>\n",
       "    </tr>\n",
       "    <tr>\n",
       "      <th>rank</th>\n",
       "      <td>99.73</td>\n",
       "      <td>&lt;0.005</td>\n",
       "    </tr>\n",
       "    <tr>\n",
       "      <th rowspan=\"2\" valign=\"top\">reciprocator_author_type_mixed</th>\n",
       "      <th>km</th>\n",
       "      <td>2.81</td>\n",
       "      <td>0.09</td>\n",
       "    </tr>\n",
       "    <tr>\n",
       "      <th>rank</th>\n",
       "      <td>2.81</td>\n",
       "      <td>0.09</td>\n",
       "    </tr>\n",
       "    <tr>\n",
       "      <th rowspan=\"2\" valign=\"top\">reciprocator_author_type_p</th>\n",
       "      <th>km</th>\n",
       "      <td>0.13</td>\n",
       "      <td>0.72</td>\n",
       "    </tr>\n",
       "    <tr>\n",
       "      <th>rank</th>\n",
       "      <td>0.13</td>\n",
       "      <td>0.72</td>\n",
       "    </tr>\n",
       "  </tbody>\n",
       "</table>"
      ],
      "text/plain": [
       "<IPython.core.display.HTML object>"
      ]
     },
     "metadata": {},
     "output_type": "display_data"
    },
    {
     "name": "stdout",
     "output_type": "stream",
     "text": [
      "\n",
      "\n",
      "1. Variable 'initiator_author_type_p' failed the non-proportional test: p-value is <5e-05.\n",
      "\n",
      "   Advice: with so few unique values (only 2), you can include `strata=['initiator_author_type_p',\n",
      "...]` in the call in `.fit`. See documentation in link [E] below.\n",
      "\n",
      "2. Variable 'initiator_author_type_mixed' failed the non-proportional test: p-value is <5e-05.\n",
      "\n",
      "   Advice: with so few unique values (only 2), you can include\n",
      "`strata=['initiator_author_type_mixed', ...]` in the call in `.fit`. See documentation in link [E]\n",
      "below.\n",
      "\n",
      "3. Variable 'int_count' failed the non-proportional test: p-value is <5e-05.\n",
      "\n",
      "   Advice 1: the functional form of the variable 'int_count' might be incorrect. That is, there may\n",
      "be non-linear terms missing. The proportional hazard test used is very sensitive to incorrect\n",
      "functional forms. See documentation in link [D] below on how to specify a functional form.\n",
      "\n",
      "   Advice 2: try binning the variable 'int_count' using pd.cut, and then specify it in\n",
      "`strata=['int_count', ...]` in the call in `.fit`. See documentation in link [B] below.\n",
      "\n",
      "   Advice 3: try adding an interaction term with your time variable. See documentation in link [C]\n",
      "below.\n",
      "\n",
      "\n",
      "4. Variable 'pct_initiator_ints' failed the non-proportional test: p-value is <5e-05.\n",
      "\n",
      "   Advice 1: the functional form of the variable 'pct_initiator_ints' might be incorrect. That is,\n",
      "there may be non-linear terms missing. The proportional hazard test used is very sensitive to\n",
      "incorrect functional forms. See documentation in link [D] below on how to specify a functional form.\n",
      "\n",
      "   Advice 2: try binning the variable 'pct_initiator_ints' using pd.cut, and then specify it in\n",
      "`strata=['pct_initiator_ints', ...]` in the call in `.fit`. See documentation in link [B] below.\n",
      "\n",
      "   Advice 3: try adding an interaction term with your time variable. See documentation in link [C]\n",
      "below.\n",
      "\n",
      "\n",
      "---\n",
      "[A]  https://lifelines.readthedocs.io/en/latest/jupyter_notebooks/Proportional%20hazard%20assumption.html\n",
      "[B]  https://lifelines.readthedocs.io/en/latest/jupyter_notebooks/Proportional%20hazard%20assumption.html#Bin-variable-and-stratify-on-it\n",
      "[C]  https://lifelines.readthedocs.io/en/latest/jupyter_notebooks/Proportional%20hazard%20assumption.html#Introduce-time-varying-covariates\n",
      "[D]  https://lifelines.readthedocs.io/en/latest/jupyter_notebooks/Proportional%20hazard%20assumption.html#Modify-the-functional-form\n",
      "[E]  https://lifelines.readthedocs.io/en/latest/jupyter_notebooks/Proportional%20hazard%20assumption.html#Stratification\n",
      "\n"
     ]
    }
   ],
   "source": [
    "cph.check_assumptions(subset_df)"
   ]
  },
  {
   "cell_type": "code",
   "execution_count": null,
   "metadata": {},
   "outputs": [],
   "source": []
  },
  {
   "cell_type": "code",
   "execution_count": null,
   "metadata": {},
   "outputs": [],
   "source": []
  },
  {
   "cell_type": "markdown",
   "metadata": {},
   "source": [
    "## Reciprocations by type\n",
    "\n",
    "Response: Does a reciprocation happen within 1 year?\n",
    "\n",
    "Feature: Time between target's first update and the dyad initiation\n",
    "Feature: Time between initiator's first update and the dyad initiation\n",
    "Feature: Target author role\n",
    "Feature: Initiator author role\n",
    "Feature: Shared author role\n",
    "Feature: Shared health condition\n",
    "\n",
    "Thought: This actually seems like it's almost the same as the mlogit stuff"
   ]
  },
  {
   "cell_type": "code",
   "execution_count": 17,
   "metadata": {},
   "outputs": [
    {
     "data": {
      "text/html": [
       "<div>\n",
       "<style scoped>\n",
       "    .dataframe tbody tr th:only-of-type {\n",
       "        vertical-align: middle;\n",
       "    }\n",
       "\n",
       "    .dataframe tbody tr th {\n",
       "        vertical-align: top;\n",
       "    }\n",
       "\n",
       "    .dataframe thead th {\n",
       "        text-align: right;\n",
       "    }\n",
       "</style>\n",
       "<table border=\"1\" class=\"dataframe\">\n",
       "  <thead>\n",
       "    <tr style=\"text-align: right;\">\n",
       "      <th></th>\n",
       "      <th>from_user_id</th>\n",
       "      <th>to_user_id</th>\n",
       "      <th>created_at</th>\n",
       "      <th>int_type</th>\n",
       "    </tr>\n",
       "  </thead>\n",
       "  <tbody>\n",
       "    <tr>\n",
       "      <td>0</td>\n",
       "      <td>1</td>\n",
       "      <td>196238</td>\n",
       "      <td>1141566915000</td>\n",
       "      <td>guestbook</td>\n",
       "    </tr>\n",
       "    <tr>\n",
       "      <td>1</td>\n",
       "      <td>2</td>\n",
       "      <td>269744</td>\n",
       "      <td>1146502838000</td>\n",
       "      <td>guestbook</td>\n",
       "    </tr>\n",
       "    <tr>\n",
       "      <td>2</td>\n",
       "      <td>2</td>\n",
       "      <td>76800</td>\n",
       "      <td>1141824958000</td>\n",
       "      <td>guestbook</td>\n",
       "    </tr>\n",
       "    <tr>\n",
       "      <td>3</td>\n",
       "      <td>2</td>\n",
       "      <td>76800</td>\n",
       "      <td>1141826075000</td>\n",
       "      <td>guestbook</td>\n",
       "    </tr>\n",
       "    <tr>\n",
       "      <td>4</td>\n",
       "      <td>2</td>\n",
       "      <td>76800</td>\n",
       "      <td>1144118979000</td>\n",
       "      <td>guestbook</td>\n",
       "    </tr>\n",
       "  </tbody>\n",
       "</table>\n",
       "</div>"
      ],
      "text/plain": [
       "   from_user_id  to_user_id     created_at   int_type\n",
       "0             1      196238  1141566915000  guestbook\n",
       "1             2      269744  1146502838000  guestbook\n",
       "2             2       76800  1141824958000  guestbook\n",
       "3             2       76800  1141826075000  guestbook\n",
       "4             2       76800  1144118979000  guestbook"
      ]
     },
     "execution_count": 17,
     "metadata": {},
     "output_type": "execute_result"
    }
   ],
   "source": [
    "u2u_df.head()"
   ]
  },
  {
   "cell_type": "code",
   "execution_count": null,
   "metadata": {},
   "outputs": [],
   "source": [
    "def get_features(group):\n",
    "    \n",
    "\n",
    "dyad_recips = u2u_df.sort_values(by='created_at', ascending=True).groupby(by=['from_user_id', 'to_user_id']).apply(get_features)"
   ]
  },
  {
   "cell_type": "code",
   "execution_count": null,
   "metadata": {},
   "outputs": [],
   "source": []
  },
  {
   "cell_type": "markdown",
   "metadata": {},
   "source": [
    "## Other Features"
   ]
  },
  {
   "cell_type": "code",
   "execution_count": 16,
   "metadata": {},
   "outputs": [
    {
     "data": {
      "text/plain": [
       "0.05158343567594419"
      ]
     },
     "execution_count": 16,
     "metadata": {},
     "output_type": "execute_result"
    }
   ],
   "source": [
    "user_df['is_multisite_author'] = user_df.num_sites > 1\n",
    "np.sum(user_df.is_multisite_author) / len(user_df)"
   ]
  },
  {
   "cell_type": "code",
   "execution_count": 17,
   "metadata": {},
   "outputs": [
    {
     "data": {
      "text/plain": [
       "(79115, 0.2183416357339)"
      ]
     },
     "execution_count": 17,
     "metadata": {},
     "output_type": "execute_result"
    }
   ],
   "source": [
    "is_mixedsite_author_dict = {}\n",
    "site_author_sets = journal_df[journal_df.user_id.isin(valid_user_ids)].groupby('site_id').agg({'user_id': lambda user_ids: set(user_ids)})\n",
    "for site_id, user_ids in zip(site_author_sets.index, site_author_sets.user_id):\n",
    "    if len(user_ids) > 1:\n",
    "        for user_id in user_ids:\n",
    "            is_mixedsite_author_dict[user_id] = True\n",
    "is_mixedsite_author = [user_id in is_mixedsite_author_dict for user_id in user_df.user_id]\n",
    "user_df['is_mixedsite_author'] = is_mixedsite_author\n",
    "# 21.8% of authors have written updates on a site on which another valid author has written an update \n",
    "np.sum(is_mixedsite_author), np.sum(is_mixedsite_author) / len(is_mixedsite_author)"
   ]
  },
  {
   "cell_type": "code",
   "execution_count": 18,
   "metadata": {},
   "outputs": [],
   "source": [
    "# merge in the health condition data\n",
    "user_health_cond_dict = {user_id: assigned_health_cond for user_id, assigned_health_cond in zip(user_health_conds_df.user_id, user_health_conds_df.assigned_health_cond)}\n",
    "health_condition = [user_health_cond_dict[user_id] for user_id in user_df.user_id]\n",
    "user_df['health_condition'] = health_condition"
   ]
  },
  {
   "cell_type": "code",
   "execution_count": 19,
   "metadata": {},
   "outputs": [],
   "source": [
    "# number of journal updates, first update, last update\n",
    "user_updates_df = journal_df[journal_df.user_id.isin(valid_user_ids)].groupby('user_id').agg({\n",
    "    'journal_oid': lambda group: len(group),\n",
    "    'created_at': lambda created_ats: (np.min(created_ats), np.max(created_ats))\n",
    "}).reset_index()  # note that columns are not renamed appropriately, but are reused immediately\n",
    "user_update_count_dict = {\n",
    "    user_id: count for user_id, count \n",
    "    in zip(user_updates_df.user_id, user_updates_df.journal_oid)}\n",
    "user_first_update_dict = {\n",
    "    user_id: created_at[0] for user_id, created_at \n",
    "    in zip(user_updates_df.user_id, user_updates_df.created_at)}\n",
    "user_last_update_dict = {\n",
    "    user_id: created_at[1] for user_id, created_at \n",
    "    in zip(user_updates_df.user_id, user_updates_df.created_at)}\n",
    "update_count = [user_update_count_dict[user_id] for user_id in user_df.user_id]\n",
    "first_update = [user_first_update_dict[user_id] for user_id in user_df.user_id]\n",
    "last_update = [user_last_update_dict[user_id] for user_id in user_df.user_id]\n",
    "user_df['update_count'] = update_count\n",
    "user_df['first_update'] = first_update\n",
    "user_df['last_update'] = last_update\n",
    "user_df['author_tenure'] = user_df.last_update - user_df.first_update\n",
    "assert np.all(user_df.author_tenure > 0)"
   ]
  },
  {
   "cell_type": "code",
   "execution_count": 20,
   "metadata": {},
   "outputs": [],
   "source": [
    "# posting frequency (updates per month, across all sites)\n",
    "tenure_in_months = user_df.author_tenure / (1000 * 60 * 60 * 24 * 30)\n",
    "user_df['update_frequency'] = user_df.update_count / tenure_in_months"
   ]
  },
  {
   "cell_type": "code",
   "execution_count": 21,
   "metadata": {},
   "outputs": [],
   "source": [
    "# is_interacted_with\n",
    "# computed from the user->user interaction data\n",
    "interacted_with_user_ids = set(u2u_df.to_user_id)\n",
    "is_interacted_with = [user_id in interacted_with_user_ids for user_id in user_df.user_id]\n",
    "user_df['is_interacted_with'] = is_interacted_with"
   ]
  },
  {
   "cell_type": "code",
   "execution_count": 22,
   "metadata": {},
   "outputs": [
    {
     "data": {
      "text/plain": [
       "(209141, 0.577187487063434)"
      ]
     },
     "execution_count": 22,
     "metadata": {},
     "output_type": "execute_result"
    }
   ],
   "source": [
    "np.sum(is_interacted_with), np.sum(is_interacted_with) / len(is_interacted_with)"
   ]
  },
  {
   "cell_type": "code",
   "execution_count": 23,
   "metadata": {},
   "outputs": [],
   "source": [
    "# is this user an initiator at any point\n",
    "initiating_user_ids = set(u2u_df.from_user_id)\n",
    "is_initiator = [user_id in initiating_user_ids for user_id in user_df.user_id]\n",
    "user_df['is_initiator'] = is_initiator"
   ]
  },
  {
   "cell_type": "code",
   "execution_count": 24,
   "metadata": {},
   "outputs": [
    {
     "data": {
      "text/plain": [
       "(207534, 0.572752487270419)"
      ]
     },
     "execution_count": 24,
     "metadata": {},
     "output_type": "execute_result"
    }
   ],
   "source": [
    "np.sum(is_initiator), np.sum(is_initiator) / len(is_initiator)"
   ]
  },
  {
   "cell_type": "markdown",
   "metadata": {},
   "source": [
    "#### Compute the dictionary for user->(created_at)"
   ]
  },
  {
   "cell_type": "code",
   "execution_count": 60,
   "metadata": {},
   "outputs": [],
   "source": [
    "user_updates_dict = journal_df.sort_values(by='created_at', ascending=True).groupby('user_id').agg({\n",
    "    'created_at': lambda created_at: created_at.tolist()\n",
    "}).created_at.to_dict()"
   ]
  },
  {
   "cell_type": "markdown",
   "metadata": {},
   "source": [
    "#### Compute the visits of the most-visited site authored by a user"
   ]
  },
  {
   "cell_type": "code",
   "execution_count": 70,
   "metadata": {},
   "outputs": [
    {
     "name": "stderr",
     "output_type": "stream",
     "text": [
      "100%|██████████| 15850052/15850052 [00:38<00:00, 413103.51it/s]\n"
     ]
    }
   ],
   "source": [
    "# construct user->site dictionary\n",
    "# contains all sites that authors have updated at least one journal update on\n",
    "user_site_dict = defaultdict(set)\n",
    "for row in tqdm(journal_df.itertuples(), total=len(journal_df)):\n",
    "    user_site_dict[row.user_id].add(row.site_id)"
   ]
  },
  {
   "cell_type": "code",
   "execution_count": 72,
   "metadata": {},
   "outputs": [],
   "source": [
    "# construct site->visits dictionary\n",
    "site_visits_dict = {site_id: visits for site_id, visits in zip(site_metadata_df.site_id, site_metadata_df.visits)}"
   ]
  },
  {
   "cell_type": "code",
   "execution_count": 74,
   "metadata": {},
   "outputs": [],
   "source": [
    "# construct user->visits dictionary\n",
    "# pools across multiple sites by taking the site with the maximum number of visits\n",
    "user_visits_dict = {user_id: max(site_visits_dict[site_id] for site_id in user_site_dict[user_id] if site_id in site_visits_dict) \n",
    " for user_id in user_df.user_id}"
   ]
  },
  {
   "cell_type": "markdown",
   "metadata": {},
   "source": [
    "### Filter the u2u links"
   ]
  },
  {
   "cell_type": "code",
   "execution_count": 25,
   "metadata": {},
   "outputs": [
    {
     "data": {
      "text/plain": [
       "(10441676, 0.704927700136784)"
      ]
     },
     "execution_count": 25,
     "metadata": {},
     "output_type": "execute_result"
    }
   ],
   "source": [
    "valid_u2u_df = u2u_df[(u2u_df.from_user_id.isin(valid_user_ids))&(u2u_df.to_user_id.isin(valid_user_ids))]\n",
    "len(valid_u2u_df), len(valid_u2u_df) / len(u2u_df)"
   ]
  },
  {
   "cell_type": "code",
   "execution_count": 26,
   "metadata": {},
   "outputs": [
    {
     "data": {
      "text/plain": [
       "(947270, 0.06395111881546328)"
      ]
     },
     "execution_count": 26,
     "metadata": {},
     "output_type": "execute_result"
    }
   ],
   "source": [
    "inits_df = valid_u2u_df.sort_values(by='created_at', ascending=True).drop_duplicates(subset=['from_user_id', 'to_user_id'], keep='first')\n",
    "len(inits_df), len(inits_df) / len(u2u_df)"
   ]
  },
  {
   "cell_type": "code",
   "execution_count": null,
   "metadata": {},
   "outputs": [],
   "source": [
    "model_start_date = datetime.fromisoformat('2014-01-01')\n",
    "model_start_timestamp = int(model_start_date.timestamp() * 1000)\n",
    "model_end_date = datetime.fromisoformat('2016-01-01')\n",
    "model_end_timestamp = int(model_end_date.timestamp() * 1000)"
   ]
  },
  {
   "cell_type": "markdown",
   "metadata": {},
   "source": [
    "### Implementation of high-level graph code"
   ]
  },
  {
   "cell_type": "code",
   "execution_count": 91,
   "metadata": {},
   "outputs": [],
   "source": [
    "class WccGraph:\n",
    "    def __init__(self, node_uids):\n",
    "        self.node_uids = node_uids\n",
    "        self.node_dict = {}  # maps node_uid to component_uid\n",
    "        self.component_dict = {}  # maps component_uid to a set of node_uids\n",
    "        for component_uid, node_uid in enumerate(self.node_uids):\n",
    "            self.node_dict[node_uid] = component_uid\n",
    "            self.component_dict[component_uid] = set((node_uid,))\n",
    "        self.edge_count = 0\n",
    "        \n",
    "    def add_edge(self, from_node_uid, to_node_uid):\n",
    "        self.edge_count += 1\n",
    "        from_component_uid = self.node_dict[from_node_uid]\n",
    "        to_component_uid = self.node_dict[to_node_uid]\n",
    "        if from_component_uid == to_component_uid:\n",
    "            # these nodes are already weakly connected\n",
    "            is_intra_component_edge = True\n",
    "            from_component_size, to_component_size = 0, 0\n",
    "        else:  # two different components are being merged with this edge\n",
    "            is_intra_component_edge = False\n",
    "            from_component_nodes = self.component_dict[from_component_uid]\n",
    "            to_component_nodes = self.component_dict[to_component_uid]\n",
    "            from_component_size = len(from_component_nodes)\n",
    "            to_component_size = len(to_component_nodes)\n",
    "            \n",
    "            if from_component_size >= to_component_size:\n",
    "                # merge To component into From component, deleting the To component\n",
    "                from_component_nodes.update(to_component_nodes)\n",
    "                del self.component_dict[to_component_uid]\n",
    "                for node_uid in to_component_nodes:\n",
    "                    # update the merged in component ids\n",
    "                    self.node_dict[node_uid] = from_component_uid\n",
    "            else:\n",
    "                # merge From component into To component, deleting the From component\n",
    "                to_component_nodes.update(from_component_nodes)\n",
    "                del self.component_dict[from_component_uid]\n",
    "                for node_uid in from_component_nodes:\n",
    "                    # update the merged in component ids\n",
    "                    self.node_dict[node_uid] = to_component_uid\n",
    "        return is_intra_component_edge, from_component_size, to_component_size\n",
    "    \n",
    "    def are_weakly_connected(self, user_id1, user_id2):\n",
    "        # two nodes are weakly connected if they exist in the same WCC\n",
    "        return self.node_dict[user_id1] == self.node_dict[user_id2]"
   ]
  },
  {
   "cell_type": "code",
   "execution_count": 121,
   "metadata": {},
   "outputs": [],
   "source": [
    "def are_connected(G, source, target):\n",
    "    nodes = []\n",
    "    visited = set()\n",
    "    visited.add(source)\n",
    "    nodes.extend(G[source])\n",
    "    are_connected = False\n",
    "    while len(nodes) != 0:\n",
    "        node = nodes.pop(0)\n",
    "        if node in visited:\n",
    "            continue\n",
    "        visited.add(node)\n",
    "        if node == target:\n",
    "            are_connected = True\n",
    "            break\n",
    "        nodes.extend(G[node])\n",
    "    return are_connected\n",
    "\n",
    "def are_strongly_connected(G, user_id1, user_id2):\n",
    "    # we assume that user_id1 and user_id2 are known to be weakly connected\n",
    "    # thus, the two are strongly connected if we can find a path from one to the other and back\n",
    "    if len(G[user_id1]) == 0 or len(G[user_id2]) == 0:\n",
    "        # if there are zero outbound edges from one of the nodes, they can't be strongly connected\n",
    "        return False\n",
    "    return are_connected(G, user_id1, user_id2) and are_connected(G, user_id2, user_id1)"
   ]
  },
  {
   "cell_type": "code",
   "execution_count": 139,
   "metadata": {},
   "outputs": [],
   "source": [
    "def compute_is_friend_of_friend(G, user_id1, user_id2):\n",
    "    if len(G[user_id1]) == 0 or len(G[user_id2]) == 0:\n",
    "        # if there are zero outbound edges from one of the nodes, they can't be strongly connected\n",
    "        return False\n",
    "    return are_fof_connected(G, user_id1, user_id2) and are_fof_connected(G, user_id2, user_id1)\n",
    "\n",
    "def are_fof_connected(G, source, target):\n",
    "    # must be a direct connection from either source -> target, or from source -> neighbor -> target\n",
    "    if target in G[source]:\n",
    "        return True\n",
    "    for neighbor in G[source]:\n",
    "        if target in G[neighbor]:\n",
    "            return True\n",
    "    return False"
   ]
  },
  {
   "cell_type": "markdown",
   "metadata": {},
   "source": [
    "### Build the initial graph subset"
   ]
  },
  {
   "cell_type": "code",
   "execution_count": 140,
   "metadata": {},
   "outputs": [
    {
     "data": {
      "text/plain": [
       "734543"
      ]
     },
     "execution_count": 140,
     "metadata": {},
     "output_type": "execute_result"
    }
   ],
   "source": [
    "inits_subset = inits_df[inits_df.created_at < model_start_timestamp]\n",
    "len(inits_subset)"
   ]
  },
  {
   "cell_type": "code",
   "execution_count": 141,
   "metadata": {},
   "outputs": [
    {
     "name": "stdout",
     "output_type": "stream",
     "text": [
      "0:00:05.370597\n"
     ]
    }
   ],
   "source": [
    "s = datetime.now()\n",
    "base_graph = nx.DiGraph()\n",
    "nodes = set(inits_subset.from_user_id) | set(inits_subset.to_user_id)\n",
    "edges = [tuple(row) for row in inits_subset[[\"from_user_id\", \"to_user_id\"]].values]\n",
    "base_graph.add_nodes_from(nodes)\n",
    "base_graph.add_edges_from(edges)\n",
    "print(f\"{datetime.now() - s}\")"
   ]
  },
  {
   "cell_type": "code",
   "execution_count": 142,
   "metadata": {},
   "outputs": [
    {
     "name": "stdout",
     "output_type": "stream",
     "text": [
      "0:00:13.140171\n"
     ]
    }
   ],
   "source": [
    "# this second graph tracks only weakly connected component info\n",
    "s = datetime.now()\n",
    "user_set = set(inits_df.from_user_id) | set(inits_df.to_user_id)\n",
    "wcc_graph = WccGraph(user_set)\n",
    "for from_user_id, to_user_id in inits_subset[[\"from_user_id\", \"to_user_id\"]].values:\n",
    "    wcc_graph.add_edge(from_user_id, to_user_id)\n",
    "print(f\"{datetime.now() - s}\")"
   ]
  },
  {
   "cell_type": "code",
   "execution_count": 143,
   "metadata": {},
   "outputs": [],
   "source": [
    "G = base_graph.copy()  # okay to edit this one"
   ]
  },
  {
   "cell_type": "code",
   "execution_count": 144,
   "metadata": {},
   "outputs": [
    {
     "data": {
      "text/html": [
       "<div>\n",
       "<style scoped>\n",
       "    .dataframe tbody tr th:only-of-type {\n",
       "        vertical-align: middle;\n",
       "    }\n",
       "\n",
       "    .dataframe tbody tr th {\n",
       "        vertical-align: top;\n",
       "    }\n",
       "\n",
       "    .dataframe thead th {\n",
       "        text-align: right;\n",
       "    }\n",
       "</style>\n",
       "<table border=\"1\" class=\"dataframe\">\n",
       "  <thead>\n",
       "    <tr style=\"text-align: right;\">\n",
       "      <th></th>\n",
       "      <th>from_user_id</th>\n",
       "      <th>to_user_id</th>\n",
       "      <th>created_at</th>\n",
       "      <th>int_type</th>\n",
       "    </tr>\n",
       "  </thead>\n",
       "  <tbody>\n",
       "    <tr>\n",
       "      <td>13397423</td>\n",
       "      <td>22239537</td>\n",
       "      <td>5758186</td>\n",
       "      <td>1388556151000</td>\n",
       "      <td>amps</td>\n",
       "    </tr>\n",
       "    <tr>\n",
       "      <td>10668176</td>\n",
       "      <td>9825200</td>\n",
       "      <td>5749759</td>\n",
       "      <td>1388558061000</td>\n",
       "      <td>amps</td>\n",
       "    </tr>\n",
       "    <tr>\n",
       "      <td>14351032</td>\n",
       "      <td>27800665</td>\n",
       "      <td>8646149</td>\n",
       "      <td>1388558607000</td>\n",
       "      <td>amps</td>\n",
       "    </tr>\n",
       "    <tr>\n",
       "      <td>13827032</td>\n",
       "      <td>24273883</td>\n",
       "      <td>26728970</td>\n",
       "      <td>1388558755000</td>\n",
       "      <td>amps</td>\n",
       "    </tr>\n",
       "    <tr>\n",
       "      <td>11586580</td>\n",
       "      <td>13703620</td>\n",
       "      <td>22391773</td>\n",
       "      <td>1388564226000</td>\n",
       "      <td>amps</td>\n",
       "    </tr>\n",
       "  </tbody>\n",
       "</table>\n",
       "</div>"
      ],
      "text/plain": [
       "          from_user_id  to_user_id     created_at int_type\n",
       "13397423      22239537     5758186  1388556151000     amps\n",
       "10668176       9825200     5749759  1388558061000     amps\n",
       "14351032      27800665     8646149  1388558607000     amps\n",
       "13827032      24273883    26728970  1388558755000     amps\n",
       "11586580      13703620    22391773  1388564226000     amps"
      ]
     },
     "execution_count": 144,
     "metadata": {},
     "output_type": "execute_result"
    }
   ],
   "source": [
    "n = 20000\n",
    "s = 24\n",
    "# sample n initiations\n",
    "# using s negative samples\n",
    "# valid candidate users are ALL valid authors who have posted their first update at this time\n",
    "inits_subset = inits_df[(inits_df.created_at >= model_start_timestamp)&(inits_df.created_at <= model_end_timestamp)]\n",
    "inits_subset = inits_subset.sample(n=n).sort_values(by='created_at', ascending=True)\n",
    "inits_subset.head()"
   ]
  },
  {
   "cell_type": "code",
   "execution_count": 145,
   "metadata": {},
   "outputs": [
    {
     "data": {
      "text/plain": [
       "0.7502187142088341"
      ]
     },
     "execution_count": 145,
     "metadata": {},
     "output_type": "execute_result"
    }
   ],
   "source": [
    "user_df['time_to_first_update'] = user_df.first_update - model_start_timestamp\n",
    "# if first update is positive, it is still in the future\n",
    "# if first update is <= 0, then it should already be an eligible node\n",
    "# however, it might not be in the network, since the base network only contains connected nodes\n",
    "active_user_ids = user_df.loc[user_df.time_to_first_update <= 0, 'user_id']\n",
    "len(active_user_ids) / len(user_df)"
   ]
  },
  {
   "cell_type": "code",
   "execution_count": 146,
   "metadata": {},
   "outputs": [
    {
     "data": {
      "text/plain": [
       "155141"
      ]
     },
     "execution_count": 146,
     "metadata": {},
     "output_type": "execute_result"
    }
   ],
   "source": [
    "# create data structures storing all of the edges that do not yet but will exist in the model\n",
    "# these will be added incrementally as computation continues\n",
    "model_subset = inits_df[(inits_df.created_at >= model_start_timestamp)&(inits_df.created_at <= model_end_timestamp)]\n",
    "all_edges = [(created_at, tuple(row))\n",
    "             for created_at, row \n",
    "             in zip(model_subset.created_at, model_subset[[\"from_user_id\", \"to_user_id\"]].values)]\n",
    "edge_df = pd.DataFrame(all_edges, columns=['created_at', 'edge'])\n",
    "edge_df['time_to_existence'] = edge_df.created_at - model_start_timestamp\n",
    "# if time_to_existence <= 0, it should exist in the network\n",
    "assert np.all(edge_df.time_to_existence > 0)\n",
    "len(edge_df)"
   ]
  },
  {
   "cell_type": "code",
   "execution_count": null,
   "metadata": {
    "scrolled": false
   },
   "outputs": [],
   "source": [
    "prev_timestep = model_start_timestamp\n",
    "active_user_ids = user_df.loc[user_df.time_to_first_update <= 0, 'user_id']\n",
    "sampled_initiations = []\n",
    "for from_user_id, to_user_id, created_at in tqdm(zip(inits_subset.from_user_id, inits_subset.to_user_id, inits_subset.created_at), total=len(inits_subset)):\n",
    "    curr_timestep = created_at\n",
    "    elapsed_time = curr_timestep - prev_timestep\n",
    "    if elapsed_time > 0:  # if 2+ sampled initiations occur at the same time, elapsed_time == 0\n",
    "        # update the active users set\n",
    "        user_df.time_to_first_update -= elapsed_time\n",
    "        active_user_ids = user_df.loc[user_df.time_to_first_update <= 0, 'user_id']\n",
    "        # update the graph with all initiations between previous timestep and now\n",
    "        edge_df.time_to_existence -= elapsed_time\n",
    "        new_edge_mask = edge_df.time_to_existence < 0  # edges that exist AT zero happen at the current timestep, including the edge from_user_id, to_user_id\n",
    "        new_edges = edge_df[new_edge_mask]\n",
    "        edge_df = edge_df[~new_edge_mask] # TODO Use loc for assignment?\n",
    "        #assert np.all(edge_df[edge_df.time_to_existence==0].created_at == created_at)\n",
    "        G.add_edges_from(new_edges.edge)\n",
    "        # also add edges to the WCC graph\n",
    "        for from_user_id, to_user_id in new_edges.edge:\n",
    "            wcc_graph.add_edge(from_user_id, to_user_id)\n",
    "    \n",
    "    # candidate users are all active users...\n",
    "    candidate_user_ids = set(active_user_ids)\n",
    "    # ... minus the true initiation target...\n",
    "    candidate_user_ids.discard(to_user_id)\n",
    "    # ... minus users already initiated to by this user\n",
    "    if from_user_id in G:\n",
    "        candidate_user_ids -= set(G[from_user_id].keys())\n",
    "    \n",
    "    # we only sample s of the candidate users\n",
    "    negative_sampled_users = list(random.sample(candidate_user_ids, s))\n",
    "    \n",
    "    # now, extract ids for the target user and all of the negative sampled users\n",
    "    indegree_list = []\n",
    "    outdegree_list = []\n",
    "    is_reciprocal_list = []\n",
    "    is_weakly_connected_list = []\n",
    "    is_friend_of_friend_list = []\n",
    "    #is_strongly_connected_list = []\n",
    "    for user_id in [to_user_id] + negative_sampled_users:\n",
    "        is_friend_of_friend = False\n",
    "        if user_id in G:\n",
    "            indegree = G.in_degree(user_id)\n",
    "            outdegree = G.out_degree(user_id)\n",
    "            is_reciprocal = from_user_id in G[user_id]\n",
    "            is_weakly_connected = wcc_graph.are_weakly_connected(from_user_id, user_id)\n",
    "            if is_weakly_connected:\n",
    "                is_friend_of_friend = compute_is_friend_of_friend(G, from_user_id, user_id)\n",
    "                #is_strongly_connected = are_strongly_connected(G, from_user_id, user_id)\n",
    "        else:\n",
    "            indegree = 0\n",
    "            outdegree = 0\n",
    "            is_reciprocal = False\n",
    "            is_weakly_connected = False\n",
    "        \n",
    "        indegree_list.append(indegree)\n",
    "        outdegree_list.append(outdegree)\n",
    "        is_reciprocal_list.append(is_reciprocal)\n",
    "        is_weakly_connected_list.append(is_weakly_connected)\n",
    "        is_strongly_connected_list.append(is_strongly_connected)\n",
    "        is_friend_of_friend_list.append(is_friend_of_friend)\n",
    "    \n",
    "    d = {\n",
    "        'initiator_user_id': from_user_id,\n",
    "        'target_user_id': to_user_id,\n",
    "        'negative_user_ids': negative_sampled_users,\n",
    "        'created_at': created_at,\n",
    "        'indegree_list': indegree_list,\n",
    "        'outdegree_list': outdegree_list,\n",
    "        'is_reciprocal_list': is_reciprocal_list,\n",
    "        'is_weakly_connected_list': is_weakly_connected_list,\n",
    "        'is_friend_of_friend_list': is_friend_of_friend_list\n",
    "    }\n",
    "    sampled_initiations.append(d)\n",
    "    \n",
    "    prev_timestep = curr_timestep\n"
   ]
  },
  {
   "cell_type": "code",
   "execution_count": 148,
   "metadata": {},
   "outputs": [
    {
     "data": {
      "text/plain": [
       "20000"
      ]
     },
     "execution_count": 148,
     "metadata": {},
     "output_type": "execute_result"
    }
   ],
   "source": [
    "sampled_inits_df = pd.DataFrame(sampled_initiations)\n",
    "len(sampled_inits_df)"
   ]
  },
  {
   "cell_type": "code",
   "execution_count": 149,
   "metadata": {},
   "outputs": [
    {
     "name": "stdout",
     "output_type": "stream",
     "text": [
      "Finished.\n"
     ]
    }
   ],
   "source": [
    "# save the sampled initiations dataframe with graph features\n",
    "# so that the expensive graph feature computation can be saved\n",
    "sampled_inits_df_filename = \"sampled_inits_df.pickle\"\n",
    "sampled_inits_df_filepath = os.path.join(working_dir, sampled_inits_df_filename)\n",
    "sampled_inits_df.to_pickle(sampled_inits_df_filepath)\n",
    "print(\"Finished.\")"
   ]
  },
  {
   "cell_type": "code",
   "execution_count": 39,
   "metadata": {},
   "outputs": [
    {
     "data": {
      "text/plain": [
       "20000"
      ]
     },
     "execution_count": 39,
     "metadata": {},
     "output_type": "execute_result"
    }
   ],
   "source": [
    "# read the sampled initiations dataframe with graph features\n",
    "sampled_inits_df_filename = \"sampled_inits_df.pickle\"\n",
    "sampled_inits_df_filepath = os.path.join(working_dir, sampled_inits_df_filename)\n",
    "sampled_inits_df = pd.read_pickle(sampled_inits_df_filepath)\n",
    "len(sampled_inits_df)"
   ]
  },
  {
   "cell_type": "code",
   "execution_count": 150,
   "metadata": {},
   "outputs": [
    {
     "data": {
      "text/html": [
       "<div>\n",
       "<style scoped>\n",
       "    .dataframe tbody tr th:only-of-type {\n",
       "        vertical-align: middle;\n",
       "    }\n",
       "\n",
       "    .dataframe tbody tr th {\n",
       "        vertical-align: top;\n",
       "    }\n",
       "\n",
       "    .dataframe thead th {\n",
       "        text-align: right;\n",
       "    }\n",
       "</style>\n",
       "<table border=\"1\" class=\"dataframe\">\n",
       "  <thead>\n",
       "    <tr style=\"text-align: right;\">\n",
       "      <th></th>\n",
       "      <th>initiator_user_id</th>\n",
       "      <th>target_user_id</th>\n",
       "      <th>negative_user_ids</th>\n",
       "      <th>created_at</th>\n",
       "      <th>indegree_list</th>\n",
       "      <th>outdegree_list</th>\n",
       "      <th>is_reciprocal_list</th>\n",
       "      <th>is_weakly_connected_list</th>\n",
       "      <th>is_friend_of_friend_list</th>\n",
       "    </tr>\n",
       "  </thead>\n",
       "  <tbody>\n",
       "    <tr>\n",
       "      <td>0</td>\n",
       "      <td>22239537</td>\n",
       "      <td>5758186</td>\n",
       "      <td>[370350, 6940380, 5863211, 21034677, 10553453,...</td>\n",
       "      <td>1388556151000</td>\n",
       "      <td>[41, 1, 6, 9, 1, 0, 0, 0, 0, 0, 5, 5, 0, 0, 1,...</td>\n",
       "      <td>[10, 3, 1, 2, 1, 1, 0, 0, 0, 0, 6, 2, 0, 0, 0,...</td>\n",
       "      <td>[False, False, False, False, False, False, Fal...</td>\n",
       "      <td>[True, True, True, True, True, False, False, F...</td>\n",
       "      <td>[False, False, False, False, False, False, Fal...</td>\n",
       "    </tr>\n",
       "    <tr>\n",
       "      <td>1</td>\n",
       "      <td>8888130</td>\n",
       "      <td>1402976</td>\n",
       "      <td>[2516543, 3937319, 8826219, 5807457, 2415107, ...</td>\n",
       "      <td>1388558061000</td>\n",
       "      <td>[503, 9, 2, 0, 1, 0, 1, 0, 0, 0, 0, 0, 0, 0, 0...</td>\n",
       "      <td>[371, 4, 1, 0, 5, 7, 1, 0, 0, 0, 0, 0, 3, 0, 1...</td>\n",
       "      <td>[False, False, False, False, False, False, Fal...</td>\n",
       "      <td>[True, True, True, False, True, True, True, Fa...</td>\n",
       "      <td>[True, False, False, False, False, False, Fals...</td>\n",
       "    </tr>\n",
       "    <tr>\n",
       "      <td>2</td>\n",
       "      <td>4804553</td>\n",
       "      <td>5043364</td>\n",
       "      <td>[1266249, 16971126, 6547604, 17128374, 111663,...</td>\n",
       "      <td>1388558607000</td>\n",
       "      <td>[4, 7, 0, 1, 2, 3, 0, 0, 0, 0, 8, 2, 1, 1, 3, ...</td>\n",
       "      <td>[7, 3, 0, 6, 1, 3, 1, 1, 1, 1, 15, 3, 1, 0, 0,...</td>\n",
       "      <td>[False, False, False, False, False, False, Fal...</td>\n",
       "      <td>[True, True, False, True, True, True, True, Tr...</td>\n",
       "      <td>[False, False, False, False, False, False, Fal...</td>\n",
       "    </tr>\n",
       "    <tr>\n",
       "      <td>3</td>\n",
       "      <td>27800665</td>\n",
       "      <td>27795336</td>\n",
       "      <td>[5214754, 18345673, 53400, 5393460, 4404141, 2...</td>\n",
       "      <td>1388558755000</td>\n",
       "      <td>[1, 8, 6, 16, 4, 2, 0, 0, 1, 4, 3, 2, 0, 0, 0,...</td>\n",
       "      <td>[0, 10, 3, 4, 5, 1, 0, 0, 1, 1, 2, 2, 1, 0, 0,...</td>\n",
       "      <td>[False, False, False, False, False, False, Fal...</td>\n",
       "      <td>[True, False, False, False, False, False, Fals...</td>\n",
       "      <td>[False, False, False, False, False, False, Fal...</td>\n",
       "    </tr>\n",
       "    <tr>\n",
       "      <td>4</td>\n",
       "      <td>2574230</td>\n",
       "      <td>27751497</td>\n",
       "      <td>[1461304, 14029150, 7396569, 2826403, 22936889...</td>\n",
       "      <td>1388564226000</td>\n",
       "      <td>[4, 2, 0, 1, 0, 2, 2, 1, 2, 0, 1, 1, 49, 0, 2,...</td>\n",
       "      <td>[0, 0, 1, 1, 0, 0, 5, 0, 0, 1, 3, 0, 16, 4, 0,...</td>\n",
       "      <td>[False, False, False, False, False, False, Fal...</td>\n",
       "      <td>[True, True, True, False, False, True, True, T...</td>\n",
       "      <td>[False, False, False, False, False, False, Fal...</td>\n",
       "    </tr>\n",
       "  </tbody>\n",
       "</table>\n",
       "</div>"
      ],
      "text/plain": [
       "   initiator_user_id  target_user_id  \\\n",
       "0           22239537         5758186   \n",
       "1            8888130         1402976   \n",
       "2            4804553         5043364   \n",
       "3           27800665        27795336   \n",
       "4            2574230        27751497   \n",
       "\n",
       "                                   negative_user_ids     created_at  \\\n",
       "0  [370350, 6940380, 5863211, 21034677, 10553453,...  1388556151000   \n",
       "1  [2516543, 3937319, 8826219, 5807457, 2415107, ...  1388558061000   \n",
       "2  [1266249, 16971126, 6547604, 17128374, 111663,...  1388558607000   \n",
       "3  [5214754, 18345673, 53400, 5393460, 4404141, 2...  1388558755000   \n",
       "4  [1461304, 14029150, 7396569, 2826403, 22936889...  1388564226000   \n",
       "\n",
       "                                       indegree_list  \\\n",
       "0  [41, 1, 6, 9, 1, 0, 0, 0, 0, 0, 5, 5, 0, 0, 1,...   \n",
       "1  [503, 9, 2, 0, 1, 0, 1, 0, 0, 0, 0, 0, 0, 0, 0...   \n",
       "2  [4, 7, 0, 1, 2, 3, 0, 0, 0, 0, 8, 2, 1, 1, 3, ...   \n",
       "3  [1, 8, 6, 16, 4, 2, 0, 0, 1, 4, 3, 2, 0, 0, 0,...   \n",
       "4  [4, 2, 0, 1, 0, 2, 2, 1, 2, 0, 1, 1, 49, 0, 2,...   \n",
       "\n",
       "                                      outdegree_list  \\\n",
       "0  [10, 3, 1, 2, 1, 1, 0, 0, 0, 0, 6, 2, 0, 0, 0,...   \n",
       "1  [371, 4, 1, 0, 5, 7, 1, 0, 0, 0, 0, 0, 3, 0, 1...   \n",
       "2  [7, 3, 0, 6, 1, 3, 1, 1, 1, 1, 15, 3, 1, 0, 0,...   \n",
       "3  [0, 10, 3, 4, 5, 1, 0, 0, 1, 1, 2, 2, 1, 0, 0,...   \n",
       "4  [0, 0, 1, 1, 0, 0, 5, 0, 0, 1, 3, 0, 16, 4, 0,...   \n",
       "\n",
       "                                  is_reciprocal_list  \\\n",
       "0  [False, False, False, False, False, False, Fal...   \n",
       "1  [False, False, False, False, False, False, Fal...   \n",
       "2  [False, False, False, False, False, False, Fal...   \n",
       "3  [False, False, False, False, False, False, Fal...   \n",
       "4  [False, False, False, False, False, False, Fal...   \n",
       "\n",
       "                            is_weakly_connected_list  \\\n",
       "0  [True, True, True, True, True, False, False, F...   \n",
       "1  [True, True, True, False, True, True, True, Fa...   \n",
       "2  [True, True, False, True, True, True, True, Tr...   \n",
       "3  [True, False, False, False, False, False, Fals...   \n",
       "4  [True, True, True, False, False, True, True, T...   \n",
       "\n",
       "                            is_friend_of_friend_list  \n",
       "0  [False, False, False, False, False, False, Fal...  \n",
       "1  [True, False, False, False, False, False, Fals...  \n",
       "2  [False, False, False, False, False, False, Fal...  \n",
       "3  [False, False, False, False, False, False, Fal...  \n",
       "4  [False, False, False, False, False, False, Fal...  "
      ]
     },
     "execution_count": 150,
     "metadata": {},
     "output_type": "execute_result"
    }
   ],
   "source": [
    "sampled_inits_df.head()"
   ]
  },
  {
   "cell_type": "code",
   "execution_count": 151,
   "metadata": {},
   "outputs": [],
   "source": [
    "# dictionaries for computing user-level features\n",
    "author_type_dict = {row.user_id: row.user_author_type for row in user_df.itertuples()}\n",
    "health_condition_dict = {row.user_id: row.health_condition for row in user_df.itertuples()}\n",
    "is_multisite_author_dict = {row.user_id: row.is_multisite_author for row in user_df.itertuples()}\n",
    "is_mixedsite_author_dict = {row.user_id: row.is_mixedsite_author for row in user_df.itertuples()}\n",
    "update_count_dict = {row.user_id: row.update_count for row in user_df.itertuples()}\n",
    "update_frequency_dict = {row.user_id: row.update_frequency for row in user_df.itertuples()}"
   ]
  },
  {
   "cell_type": "code",
   "execution_count": 152,
   "metadata": {},
   "outputs": [],
   "source": [
    "# compute days_since_most_recent_update\n",
    "# given a target user_id and a created_at timestamp\n",
    "def get_most_recent_update(user_id, created_at):\n",
    "    update_times = user_updates_dict[user_id]\n",
    "    # update_times is a sorted list of created_at times for all updates by the given user_id\n",
    "    ind = bisect.bisect_right(update_times, created_at)\n",
    "    most_recent_update = update_times[ind-1]\n",
    "    return most_recent_update\n",
    "\n",
    "def compute_days_since_most_recent_update(user_id, created_at):\n",
    "    most_recent_update = get_most_recent_update(user_id, created_at)\n",
    "    ms_since_most_recent_update = created_at - most_recent_update\n",
    "    days_since_most_recent_update = ms_since_most_recent_update / (1000 * 60 * 60 * 24)\n",
    "    return days_since_most_recent_update\n",
    "\n",
    "def compute_days_since_first_update(user_id, created_at):\n",
    "    update_times = user_updates_dict[user_id]\n",
    "    ind = bisect.bisect_right(update_times, created_at)\n",
    "    most_recent_update = update_times[ind-1]\n",
    "    first_update = update_times[0]\n",
    "    ms_since_first_update = most_recent_update - first_update\n",
    "    days_since_first_update = ms_since_first_update / (1000 * 60 * 60 * 24)\n",
    "    return days_since_first_update"
   ]
  },
  {
   "cell_type": "code",
   "execution_count": null,
   "metadata": {
    "scrolled": true
   },
   "outputs": [],
   "source": [
    "sampled_initiations_filename = \"author_initiation_choices_train_20000.csv\"\n",
    "sampled_initiations_filepath = os.path.join(working_dir, sampled_initiations_filename)\n",
    "with open(sampled_initiations_filepath, 'w') as outfile:\n",
    "    header = \"\"\"\n",
    "            choice_id,\n",
    "            initiator_user_id,\n",
    "            candidate_user_id,\n",
    "            is_target,\n",
    "            target_outdegree,\n",
    "            target_indegree,\n",
    "            target_has_indegree,\n",
    "            is_reciprocal,\n",
    "            is_weakly_connected,\n",
    "            is_friend_of_friend,\n",
    "            is_author_type_shared,\n",
    "            target_author_type,\n",
    "            initiator_author_type,\n",
    "            target_health_condition,\n",
    "            is_health_condition_shared,\n",
    "            target_is_multisite_author,\n",
    "            target_is_mixedsite_author,\n",
    "            target_update_count,\n",
    "            target_update_frequency,\n",
    "            target_days_since_most_recent_update,\n",
    "            target_days_since_first_update,\n",
    "            target_site_visits\n",
    "    \"\"\"\n",
    "    header = re.sub(r'\\s+', '', header).strip() + \"\\n\"\n",
    "    format_str = \"iiiiiiiiiiiccciiiidddi\"\n",
    "    outfile.write(header)\n",
    "    for i, row in tqdm(enumerate(sampled_inits_df.itertuples()), total=len(sampled_inits_df)):\n",
    "        choice_id = i\n",
    "        initiator_user_id = row.initiator_user_id\n",
    "        initiator_author_type = author_type_dict[initiator_user_id]\n",
    "        initiator_health_condition = health_condition_dict[initiator_user_id]\n",
    "        for i, user_id in enumerate([row.target_user_id] + row.negative_user_ids):\n",
    "            is_target = int(i == 0)\n",
    "            candidate_user_id = user_id\n",
    "            target_outdegree = row.outdegree_list[i]\n",
    "            target_indegree = row.indegree_list[i]\n",
    "            target_has_indegree = int(target_indegree > 0)\n",
    "            is_reciprocal = int(row.is_reciprocal_list[i])\n",
    "            is_weakly_connected = int(row.is_weakly_connected_list[i])\n",
    "            is_friend_of_friend = int(row.is_friend_of_friend_list[i])\n",
    "            \n",
    "            # Include the user-level features for the candidates\n",
    "            target_author_type = author_type_dict[candidate_user_id]\n",
    "            is_author_type_shared = int(initiator_author_type == target_author_type)\n",
    "            \n",
    "            target_health_condition = health_condition_dict[candidate_user_id]\n",
    "            is_health_condition_shared = int(initiator_health_condition == target_health_condition)\n",
    "            \n",
    "            target_is_multisite_author = int(is_multisite_author_dict[candidate_user_id])\n",
    "            target_is_mixedsite_author = int(is_mixedsite_author_dict[candidate_user_id])\n",
    "            target_update_count = update_count_dict[candidate_user_id]\n",
    "            target_update_frequency = update_frequency_dict[candidate_user_id]\n",
    "            \n",
    "            target_days_since_most_recent_update = compute_days_since_most_recent_update(candidate_user_id, row.created_at)\n",
    "            target_days_since_first_update = compute_days_since_first_update(candidate_user_id, row.created_at)\n",
    "            \n",
    "            target_site_visits = user_visits_dict[candidate_user_id]\n",
    "            \n",
    "            line_vars = [\n",
    "                choice_id,\n",
    "                initiator_user_id,\n",
    "                candidate_user_id,\n",
    "                is_target,\n",
    "                target_outdegree,\n",
    "                target_indegree,\n",
    "                target_has_indegree,\n",
    "                is_reciprocal,\n",
    "                is_weakly_connected,\n",
    "                is_friend_of_friend,\n",
    "                is_author_type_shared,\n",
    "                target_author_type,\n",
    "                initiator_author_type,\n",
    "                target_health_condition,\n",
    "                is_health_condition_shared,\n",
    "                target_is_multisite_author,\n",
    "                target_is_mixedsite_author,\n",
    "                target_update_count,\n",
    "                target_update_frequency,\n",
    "                target_days_since_most_recent_update,\n",
    "                target_days_since_first_update,\n",
    "                target_site_visits\n",
    "            ]\n",
    "            line = \",\".join([str(v) for v in line_vars]) + \"\\n\"\n",
    "            #line = f\"{choice_id},{initiator_user_id},{candidate_user_id},{is_target},{target_outdegree},{target_indegree},{target_has_indegree},{is_reciprocal},{is_author_type_shared},{target_author_type},{initiator_author_type}\\n\"\n",
    "            outfile.write(line)\n",
    "print(f\"R column types format string: {format_str}\")\n",
    "sampled_initiations_filepath"
   ]
  },
  {
   "cell_type": "code",
   "execution_count": 43,
   "metadata": {},
   "outputs": [],
   "source": [
    "# TODO create test set as well"
   ]
  },
  {
   "cell_type": "code",
   "execution_count": null,
   "metadata": {},
   "outputs": [],
   "source": []
  }
 ],
 "metadata": {
  "kernelspec": {
   "display_name": "Python (shared-conda)",
   "language": "python",
   "name": "shared-conda"
  },
  "language_info": {
   "codemirror_mode": {
    "name": "ipython",
    "version": 3
   },
   "file_extension": ".py",
   "mimetype": "text/x-python",
   "name": "python",
   "nbconvert_exporter": "python",
   "pygments_lexer": "ipython3",
   "version": "3.7.3"
  }
 },
 "nbformat": 4,
 "nbformat_minor": 2
}
