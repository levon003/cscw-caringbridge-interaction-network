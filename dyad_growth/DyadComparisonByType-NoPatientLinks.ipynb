{
 "cells": [
  {
   "cell_type": "markdown",
   "metadata": {},
   "source": [
    "Dyad Comparison (by author role)\n",
    "===\n",
    "\n",
    "Goal:\n",
    " - Do certain author role pairs reciprocate more? (Logistic regression)\n",
    " - Do certain author role pairs last longer than others? (Survival analysis)\n",
    " - Do certain author roles have more interactions? (Linear regression)\n",
    " \n",
    "A next step: does the network structure have implications for the length of time that a relationship lasts?\n",
    "\n",
    "---\n",
    "\n",
    "Later edit: NoPatientLinks means no links in the interaction network between the initiator and the receiver if the receiver was a patient and hadn't yet authored on the receiving site."
   ]
  },
  {
   "cell_type": "code",
   "execution_count": 1,
   "metadata": {},
   "outputs": [],
   "source": [
    "%reload_ext autoreload\n",
    "%autoreload 2\n",
    "%matplotlib inline"
   ]
  },
  {
   "cell_type": "code",
   "execution_count": 2,
   "metadata": {},
   "outputs": [],
   "source": [
    "import os\n",
    "import re\n",
    "import pandas as pd\n",
    "import numpy as np\n",
    "\n",
    "from collections import Counter, defaultdict\n",
    "import sqlite3\n",
    "from tqdm import tqdm\n",
    "import random\n",
    "import pickle\n",
    "from datetime import datetime\n",
    "import bisect\n",
    "\n",
    "import matplotlib.pyplot as plt\n",
    "import matplotlib.dates as md\n",
    "import matplotlib\n",
    "import pylab as pl\n",
    "from IPython.core.display import display, HTML\n",
    "\n",
    "import networkx as nx\n",
    "import scipy.stats"
   ]
  },
  {
   "cell_type": "code",
   "execution_count": 3,
   "metadata": {},
   "outputs": [],
   "source": [
    "import statsmodels.api as sm\n",
    "import statsmodels.formula.api as smf"
   ]
  },
  {
   "cell_type": "code",
   "execution_count": 4,
   "metadata": {},
   "outputs": [],
   "source": [
    "working_dir = \"/home/srivbane/shared/caringbridge/data/projects/sna-social-support/dyad_growth\"\n",
    "assert os.path.exists(working_dir)"
   ]
  },
  {
   "cell_type": "code",
   "execution_count": 5,
   "metadata": {},
   "outputs": [
    {
     "data": {
      "text/plain": [
       "'/panfs/roc/groups/3/srivbane/levon003/repos/sna-social-support/figures'"
      ]
     },
     "execution_count": 5,
     "metadata": {},
     "output_type": "execute_result"
    }
   ],
   "source": [
    "git_root_dir = !git rev-parse --show-toplevel\n",
    "git_root_dir = git_root_dir[0]\n",
    "figures_dir = os.path.join(git_root_dir, 'figures')\n",
    "figures_dir"
   ]
  },
  {
   "cell_type": "code",
   "execution_count": 6,
   "metadata": {},
   "outputs": [],
   "source": [
    "start_date = datetime.fromisoformat('2005-01-01')\n",
    "start_timestamp = int(start_date.timestamp() * 1000)\n",
    "end_date = datetime.fromisoformat('2016-06-01')\n",
    "end_timestamp = int(end_date.timestamp() * 1000)\n",
    "subset_start_date = datetime.fromisoformat('2014-01-01')\n",
    "subset_start_timestamp = int(subset_start_date.timestamp() * 1000)"
   ]
  },
  {
   "cell_type": "markdown",
   "metadata": {},
   "source": [
    "### Read in the data"
   ]
  },
  {
   "cell_type": "code",
   "execution_count": 7,
   "metadata": {},
   "outputs": [
    {
     "data": {
      "text/plain": [
       "362345"
      ]
     },
     "execution_count": 7,
     "metadata": {},
     "output_type": "execute_result"
    }
   ],
   "source": [
    "# load the list of valid users\n",
    "data_selection_working_dir = \"/home/lana/shared/caringbridge/data/projects/sna-social-support/data_selection\"\n",
    "valid_user_ids = set()\n",
    "with open(os.path.join(data_selection_working_dir, \"valid_user_ids.txt\"), 'r') as infile:\n",
    "    for line in infile:\n",
    "        user_id = line.strip()\n",
    "        if user_id == \"\":\n",
    "            continue\n",
    "        else:\n",
    "            valid_user_ids.add(int(user_id))\n",
    "len(valid_user_ids)"
   ]
  },
  {
   "cell_type": "code",
   "execution_count": 8,
   "metadata": {},
   "outputs": [
    {
     "data": {
      "text/plain": [
       "411269"
      ]
     },
     "execution_count": 8,
     "metadata": {},
     "output_type": "execute_result"
    }
   ],
   "source": [
    "# load the list of valid sites\n",
    "data_selection_working_dir = \"/home/lana/shared/caringbridge/data/projects/sna-social-support/data_selection\"\n",
    "valid_site_ids = set()\n",
    "with open(os.path.join(data_selection_working_dir, \"valid_site_ids.txt\"), 'r') as infile:\n",
    "    for line in infile:\n",
    "        site_id = line.strip()\n",
    "        if site_id == \"\":\n",
    "            continue\n",
    "        else:\n",
    "            valid_site_ids.add(int(site_id))\n",
    "len(valid_site_ids)"
   ]
  },
  {
   "cell_type": "code",
   "execution_count": 9,
   "metadata": {},
   "outputs": [
    {
     "name": "stdout",
     "output_type": "stream",
     "text": [
      "0:00:18.528654\n"
     ]
    },
    {
     "data": {
      "text/plain": [
       "15850052"
      ]
     },
     "execution_count": 9,
     "metadata": {},
     "output_type": "execute_result"
    }
   ],
   "source": [
    "# read the journal metadata with author type info added\n",
    "s = datetime.now()\n",
    "author_type_dir = \"/home/lana/shared/caringbridge/data/projects/sna-social-support/author_type\"\n",
    "journal_metadata_filepath = os.path.join(author_type_dir, \"journal_metadata_with_author_type.df\")\n",
    "journal_df = pd.read_feather(journal_metadata_filepath)\n",
    "print(datetime.now() - s)\n",
    "len(journal_df)"
   ]
  },
  {
   "cell_type": "code",
   "execution_count": 10,
   "metadata": {},
   "outputs": [],
   "source": [
    "# as a quick fix for invalid dates in journals, when created_at is 0 we use the updated_at instead\n",
    "# note that only 41 updates have this issue\n",
    "invalid_created_at = journal_df.created_at <= 0\n",
    "journal_df.loc[invalid_created_at, 'created_at'] = journal_df.loc[invalid_created_at, 'updated_at']"
   ]
  },
  {
   "cell_type": "code",
   "execution_count": 11,
   "metadata": {},
   "outputs": [
    {
     "data": {
      "text/plain": [
       "714874"
      ]
     },
     "execution_count": 11,
     "metadata": {},
     "output_type": "execute_result"
    }
   ],
   "source": [
    "health_cond_filepath = os.path.join(\"/home/lana/shared/caringbridge/data/projects/sna-social-support/user_metadata\", \"assigned_health_conditions.feather\")\n",
    "user_health_conds_df = pd.read_feather(health_cond_filepath)\n",
    "len(user_health_conds_df)"
   ]
  },
  {
   "cell_type": "code",
   "execution_count": 12,
   "metadata": {},
   "outputs": [
    {
     "data": {
      "text/plain": [
       "0.5782527701499952"
      ]
     },
     "execution_count": 12,
     "metadata": {},
     "output_type": "execute_result"
    }
   ],
   "source": [
    "np.sum(user_health_conds_df[user_health_conds_df.user_id.isin(valid_user_ids)].assigned_health_cond != 'None') / len(user_health_conds_df[user_health_conds_df.user_id.isin(valid_user_ids)])"
   ]
  },
  {
   "cell_type": "code",
   "execution_count": 13,
   "metadata": {},
   "outputs": [
    {
     "name": "stdout",
     "output_type": "stream",
     "text": [
      "None & 152,818 & 42.17\\% \\\\\n",
      "Cancer & 109,339 & 30.18\\% \\\\\n",
      "Other & 37,556 & 10.36\\% \\\\\n",
      "Surgery/Transplantation & 15,415 & 4.25\\% \\\\\n",
      "Injury & 12,910 & 3.56\\% \\\\\n",
      "Cardiovascular/Stroke & 12,685 & 3.50\\% \\\\\n",
      "Neurological Condition & 9,376 & 2.59\\% \\\\\n",
      "Infant/Childbirth & 7,952 & 2.19\\% \\\\\n",
      "Condition Unknown & 2,252 & 0.62\\% \\\\\n",
      "Congenital/Immune Disorder & 2,042 & 0.56\\% \\\\\n"
     ]
    }
   ],
   "source": [
    "for cond, count in Counter(user_health_conds_df[user_health_conds_df.user_id.isin(valid_user_ids)].assigned_health_cond).most_common():\n",
    "    print(f\"{cond} & {count:,} & {count/len(valid_user_ids)*100:.2f}\\\\% \\\\\\\\\")"
   ]
  },
  {
   "cell_type": "code",
   "execution_count": 14,
   "metadata": {},
   "outputs": [
    {
     "data": {
      "text/plain": [
       "362345"
      ]
     },
     "execution_count": 14,
     "metadata": {},
     "output_type": "execute_result"
    }
   ],
   "source": [
    "# read the user author type dataframe\n",
    "author_type_dir = \"/home/lana/shared/caringbridge/data/projects/sna-social-support/author_type\"\n",
    "user_patient_proportions_filepath = os.path.join(author_type_dir, 'user_patient_proportions.df')\n",
    "user_df = pd.read_feather(user_patient_proportions_filepath)\n",
    "len(user_df)"
   ]
  },
  {
   "cell_type": "code",
   "execution_count": 15,
   "metadata": {},
   "outputs": [
    {
     "data": {
      "text/plain": [
       "11424980"
      ]
     },
     "execution_count": 15,
     "metadata": {},
     "output_type": "execute_result"
    }
   ],
   "source": [
    "# read the user->user interactions dataframe\n",
    "metadata_dir = \"/home/lana/shared/caringbridge/data/projects/sna-social-support/user_metadata\"\n",
    "u2u_df = pd.read_feather(os.path.join(metadata_dir,\"u2u_df.feather\"))\n",
    "len(u2u_df)"
   ]
  },
  {
   "cell_type": "code",
   "execution_count": 16,
   "metadata": {},
   "outputs": [
    {
     "data": {
      "text/plain": [
       "840943"
      ]
     },
     "execution_count": 16,
     "metadata": {},
     "output_type": "execute_result"
    }
   ],
   "source": [
    "# read the site-level metadata\n",
    "site_metadata_working_dir = \"/home/lana/shared/caringbridge/data/derived/site_metadata\"\n",
    "site_metadata_filepath = os.path.join(site_metadata_working_dir, \"site_metadata.feather\")\n",
    "site_metadata_df = pd.read_feather(site_metadata_filepath)\n",
    "len(site_metadata_df)"
   ]
  },
  {
   "cell_type": "code",
   "execution_count": 17,
   "metadata": {},
   "outputs": [
    {
     "data": {
      "text/plain": [
       "0.5335096980321882"
      ]
     },
     "execution_count": 17,
     "metadata": {},
     "output_type": "execute_result"
    }
   ],
   "source": [
    "# percent of valid sites that self-report a health condition\n",
    "site_subset = site_metadata_df[site_metadata_df.site_id.isin(valid_site_ids)]\n",
    "np.sum(site_subset.healthCondition_category.notnull()) / len(site_subset)"
   ]
  },
  {
   "cell_type": "code",
   "execution_count": 18,
   "metadata": {},
   "outputs": [],
   "source": [
    "# currently not necessary, since we use the processed user->user interactions...\n",
    "# read in the interactions dataframe\n",
    "#metadata_dir = \"/home/lana/shared/caringbridge/data/projects/sna-social-support/user_metadata\"\n",
    "#author_to_site = os.path.join(metadata_dir, \"interaction_metadata.h5\")\n",
    "#ints_df = pd.read_hdf(author_to_site)\n",
    "#len(ints_df)"
   ]
  },
  {
   "cell_type": "markdown",
   "metadata": {},
   "source": [
    "## Filter to only valid users and sort data\n",
    "\n",
    "Also create initiations dataframe"
   ]
  },
  {
   "cell_type": "code",
   "execution_count": 19,
   "metadata": {},
   "outputs": [
    {
     "data": {
      "text/plain": [
       "362345"
      ]
     },
     "execution_count": 19,
     "metadata": {},
     "output_type": "execute_result"
    }
   ],
   "source": [
    "user_df = user_df[user_df.user_id.isin(valid_user_ids)]\n",
    "len(user_df)"
   ]
  },
  {
   "cell_type": "code",
   "execution_count": 20,
   "metadata": {},
   "outputs": [
    {
     "data": {
      "text/plain": [
       "10102765"
      ]
     },
     "execution_count": 20,
     "metadata": {},
     "output_type": "execute_result"
    }
   ],
   "source": [
    "u2u_df = u2u_df[(u2u_df.from_user_id.isin(valid_user_ids))&(u2u_df.to_user_id.isin(valid_user_ids))]\n",
    "len(u2u_df)"
   ]
  },
  {
   "cell_type": "code",
   "execution_count": 21,
   "metadata": {},
   "outputs": [],
   "source": [
    "u2u_df = u2u_df.sort_values(by='created_at', ascending=True)\n",
    "init_df = u2u_df.drop_duplicates(subset=['from_user_id', 'to_user_id'], keep='first')"
   ]
  },
  {
   "cell_type": "code",
   "execution_count": 22,
   "metadata": {},
   "outputs": [
    {
     "data": {
      "text/html": [
       "<div>\n",
       "<style scoped>\n",
       "    .dataframe tbody tr th:only-of-type {\n",
       "        vertical-align: middle;\n",
       "    }\n",
       "\n",
       "    .dataframe tbody tr th {\n",
       "        vertical-align: top;\n",
       "    }\n",
       "\n",
       "    .dataframe thead th {\n",
       "        text-align: right;\n",
       "    }\n",
       "</style>\n",
       "<table border=\"1\" class=\"dataframe\">\n",
       "  <thead>\n",
       "    <tr style=\"text-align: right;\">\n",
       "      <th></th>\n",
       "      <th>from_user_id</th>\n",
       "      <th>to_user_id</th>\n",
       "      <th>created_at</th>\n",
       "      <th>int_type</th>\n",
       "    </tr>\n",
       "  </thead>\n",
       "  <tbody>\n",
       "    <tr>\n",
       "      <th>10441828</th>\n",
       "      <td>23616609</td>\n",
       "      <td>20085865</td>\n",
       "      <td>1101191820000</td>\n",
       "      <td>amps</td>\n",
       "    </tr>\n",
       "    <tr>\n",
       "      <th>8318309</th>\n",
       "      <td>10499159</td>\n",
       "      <td>20085865</td>\n",
       "      <td>1101191820000</td>\n",
       "      <td>amps</td>\n",
       "    </tr>\n",
       "    <tr>\n",
       "      <th>8318310</th>\n",
       "      <td>10499159</td>\n",
       "      <td>20085865</td>\n",
       "      <td>1102603140000</td>\n",
       "      <td>amps</td>\n",
       "    </tr>\n",
       "    <tr>\n",
       "      <th>2155775</th>\n",
       "      <td>1217109</td>\n",
       "      <td>1</td>\n",
       "      <td>1103856900000</td>\n",
       "      <td>amps</td>\n",
       "    </tr>\n",
       "    <tr>\n",
       "      <th>7519</th>\n",
       "      <td>122</td>\n",
       "      <td>48</td>\n",
       "      <td>1117645589000</td>\n",
       "      <td>guestbook</td>\n",
       "    </tr>\n",
       "  </tbody>\n",
       "</table>\n",
       "</div>"
      ],
      "text/plain": [
       "          from_user_id  to_user_id     created_at   int_type\n",
       "10441828      23616609    20085865  1101191820000       amps\n",
       "8318309       10499159    20085865  1101191820000       amps\n",
       "8318310       10499159    20085865  1102603140000       amps\n",
       "2155775        1217109           1  1103856900000       amps\n",
       "7519               122          48  1117645589000  guestbook"
      ]
     },
     "execution_count": 22,
     "metadata": {},
     "output_type": "execute_result"
    }
   ],
   "source": [
    "u2u_df.head()"
   ]
  },
  {
   "cell_type": "markdown",
   "metadata": {},
   "source": [
    "## Forming relationships and labeling them"
   ]
  },
  {
   "cell_type": "code",
   "execution_count": 23,
   "metadata": {},
   "outputs": [
    {
     "name": "stderr",
     "output_type": "stream",
     "text": [
      "100%|██████████| 932616/932616 [00:02<00:00, 355374.63it/s]\n"
     ]
    }
   ],
   "source": [
    "dyad_ids_dict = {}\n",
    "dyad_ids_list = []\n",
    "global_dyad_counter = 0\n",
    "for row in tqdm(init_df.itertuples(), total=len(init_df)):\n",
    "    tup = (row.from_user_id, row.to_user_id)\n",
    "    r_tup = (row.to_user_id, row.from_user_id)\n",
    "    if r_tup in dyad_ids_dict:\n",
    "        dyad_id = dyad_ids_dict[r_tup]\n",
    "        dyad_ids_dict[tup] = dyad_id\n",
    "    else:\n",
    "        dyad_id = global_dyad_counter\n",
    "        global_dyad_counter += 1\n",
    "        dyad_ids_dict[tup] = dyad_id\n",
    "    dyad_ids_list.append(dyad_id)"
   ]
  },
  {
   "cell_type": "code",
   "execution_count": 24,
   "metadata": {},
   "outputs": [
    {
     "name": "stderr",
     "output_type": "stream",
     "text": [
      "100%|██████████| 10102765/10102765 [00:25<00:00, 392761.31it/s]\n"
     ]
    }
   ],
   "source": [
    "all_ints_dyad_ids_list = []\n",
    "for row in tqdm(u2u_df.itertuples(), total=len(u2u_df)):\n",
    "    tup = (row.from_user_id, row.to_user_id)\n",
    "    dyad_id = dyad_ids_dict[tup]\n",
    "    all_ints_dyad_ids_list.append(dyad_id)"
   ]
  },
  {
   "cell_type": "code",
   "execution_count": 25,
   "metadata": {},
   "outputs": [],
   "source": [
    "u2u_df['dyad_id'] = all_ints_dyad_ids_list"
   ]
  },
  {
   "cell_type": "code",
   "execution_count": 26,
   "metadata": {},
   "outputs": [],
   "source": [
    "#def create_dyad_row(group):\n",
    "dyad_groups = u2u_df.groupby(by='dyad_id', sort=False)\n",
    "#.apply()"
   ]
  },
  {
   "cell_type": "code",
   "execution_count": 27,
   "metadata": {},
   "outputs": [
    {
     "name": "stderr",
     "output_type": "stream",
     "text": [
      "100%|██████████| 809076/809076 [04:57<00:00, 2719.61it/s]\n"
     ]
    }
   ],
   "source": [
    "group_data = []\n",
    "for dyad_id, group in tqdm(dyad_groups):\n",
    "    data = group.values\n",
    "    from_user_id = data[:,0]\n",
    "    #to_user_id \tcreated_at \tint_type\n",
    "    initiator_user_id = from_user_id[0]\n",
    "    reciprocator_user_id = None\n",
    "    is_reciprocated = False\n",
    "    int_count = len(from_user_id)\n",
    "    created_at = data[:,2]\n",
    "    first_int = created_at[0]\n",
    "    last_int = created_at[-1]\n",
    "    \n",
    "    user_set = set(from_user_id)\n",
    "    if int_count > 1 and len(user_set) > 1:\n",
    "        is_reciprocated = True\n",
    "        user_set.remove(initiator_user_id)\n",
    "        reciprocator_user_id = user_set.pop()\n",
    "        \n",
    "        int_type_list = data[:,3].tolist()\n",
    "        created_at_list = created_at.tolist()\n",
    "        initiator_ints_list = from_user_id == initiator_user_id\n",
    "        initiator_int_count = np.sum(initiator_ints_list)\n",
    "        reciprocator_int_count = int_count - initiator_int_count\n",
    "    else:\n",
    "        int_type_list = []\n",
    "        created_at_list = []\n",
    "        initiator_ints_list = [True for i in range(int_count)]\n",
    "        initiator_int_count = int_count\n",
    "        reciprocator_int_count = 0\n",
    "    \n",
    "    d = {\n",
    "        'initiator_user_id': initiator_user_id,\n",
    "        'reciprocator_user_id': reciprocator_user_id,\n",
    "        'is_reciprocated': is_reciprocated,\n",
    "        'int_count': int_count,\n",
    "        'first_int': first_int,\n",
    "        'last_int': last_int,\n",
    "        'initiator_int_count': initiator_int_count,\n",
    "        'reciprocator_int_count': reciprocator_int_count,\n",
    "        'int_type_list': int_type_list,\n",
    "        'created_at_list': created_at_list,\n",
    "        'initiator_ints_list': initiator_ints_list\n",
    "    }\n",
    "    group_data.append(d)"
   ]
  },
  {
   "cell_type": "code",
   "execution_count": 28,
   "metadata": {},
   "outputs": [
    {
     "data": {
      "text/plain": [
       "809076"
      ]
     },
     "execution_count": 28,
     "metadata": {},
     "output_type": "execute_result"
    }
   ],
   "source": [
    "dyad_df = pd.DataFrame(group_data)\n",
    "len(dyad_df)"
   ]
  },
  {
   "cell_type": "code",
   "execution_count": 29,
   "metadata": {},
   "outputs": [
    {
     "data": {
      "text/plain": [
       "685536"
      ]
     },
     "execution_count": 29,
     "metadata": {},
     "output_type": "execute_result"
    }
   ],
   "source": [
    "# not sure why this n is larger than the reciprocal analysis regression...\n",
    "len(dyad_df[(dyad_df.initiator_user_id.isin(valid_user_ids))&(~dyad_df.is_reciprocated)])"
   ]
  },
  {
   "cell_type": "code",
   "execution_count": 30,
   "metadata": {},
   "outputs": [
    {
     "data": {
      "text/plain": [
       "(123540, 0.1526927013037094)"
      ]
     },
     "execution_count": 30,
     "metadata": {},
     "output_type": "execute_result"
    }
   ],
   "source": [
    "# of all initiations, this is the percent that are reciprocated\n",
    "np.sum(dyad_df.is_reciprocated), np.sum(dyad_df.is_reciprocated) / len(dyad_df)"
   ]
  },
  {
   "cell_type": "code",
   "execution_count": 31,
   "metadata": {},
   "outputs": [
    {
     "name": "stderr",
     "output_type": "stream",
     "text": [
      "100%|██████████| 809076/809076 [00:02<00:00, 369207.15it/s]\n"
     ]
    }
   ],
   "source": [
    "first_reciprocator_int_times = []\n",
    "for row in tqdm(dyad_df.itertuples(), total=len(dyad_df)):\n",
    "    if row.is_reciprocated:\n",
    "        ind = row.initiator_ints_list.tolist().index(False)\n",
    "        first_reciprocator_int = row.created_at_list[ind]\n",
    "    else:\n",
    "        first_reciprocator_int = -1\n",
    "    first_reciprocator_int_times.append(first_reciprocator_int)"
   ]
  },
  {
   "cell_type": "code",
   "execution_count": 32,
   "metadata": {},
   "outputs": [],
   "source": [
    "first_reciprocator_int_times = np.array(first_reciprocator_int_times)"
   ]
  },
  {
   "cell_type": "code",
   "execution_count": 33,
   "metadata": {},
   "outputs": [
    {
     "data": {
      "text/plain": [
       "(0.07596781862315757, 159844)"
      ]
     },
     "execution_count": 33,
     "metadata": {},
     "output_type": "execute_result"
    }
   ],
   "source": [
    "# of initiations that occurred in the analysis period, 7.5\\% are initiated\n",
    "dyad_subset = dyad_df[(dyad_df.first_int >= subset_start_timestamp)&(dyad_df.first_int <= end_timestamp)]\n",
    "np.sum(dyad_subset.is_reciprocated) / len(dyad_subset), len(dyad_subset)"
   ]
  },
  {
   "cell_type": "code",
   "execution_count": 34,
   "metadata": {},
   "outputs": [
    {
     "data": {
      "text/plain": [
       "12143"
      ]
     },
     "execution_count": 34,
     "metadata": {},
     "output_type": "execute_result"
    }
   ],
   "source": [
    "np.sum(dyad_subset.is_reciprocated)"
   ]
  },
  {
   "cell_type": "code",
   "execution_count": 35,
   "metadata": {},
   "outputs": [
    {
     "data": {
      "text/plain": [
       "(0.13536154170374187, 170824)"
      ]
     },
     "execution_count": 35,
     "metadata": {},
     "output_type": "execute_result"
    }
   ],
   "source": [
    "# of initiations that occurred in the analysis period, 7.5\\% are initiated\n",
    "dyad_subset = dyad_df[((dyad_df.first_int >= subset_start_timestamp)&(dyad_df.first_int <= end_timestamp))\n",
    "    |((first_reciprocator_int_times >= subset_start_timestamp)&(first_reciprocator_int_times <= end_timestamp))]\n",
    "np.sum(dyad_subset.is_reciprocated) / len(dyad_subset), len(dyad_subset)"
   ]
  },
  {
   "cell_type": "code",
   "execution_count": 36,
   "metadata": {},
   "outputs": [
    {
     "data": {
      "text/plain": [
       "123540"
      ]
     },
     "execution_count": 36,
     "metadata": {},
     "output_type": "execute_result"
    }
   ],
   "source": [
    "rel_df = dyad_df[dyad_df.is_reciprocated].copy()\n",
    "len(rel_df)"
   ]
  },
  {
   "cell_type": "code",
   "execution_count": 37,
   "metadata": {},
   "outputs": [],
   "source": [
    "rel_df['duration_months'] = (rel_df.last_int - rel_df.first_int) / (1000 * 60 * 60 * 24 * 30)"
   ]
  },
  {
   "cell_type": "code",
   "execution_count": 38,
   "metadata": {},
   "outputs": [],
   "source": [
    "author_type_dict = {row.user_id: row.user_author_type for row in user_df.itertuples()}\n",
    "rel_df['initiator_author_type'] = rel_df.initiator_user_id.map(lambda user_id: author_type_dict[user_id])\n",
    "rel_df['reciprocator_author_type'] = rel_df.reciprocator_user_id.map(lambda user_id: author_type_dict[user_id])"
   ]
  },
  {
   "cell_type": "code",
   "execution_count": 39,
   "metadata": {},
   "outputs": [],
   "source": [
    "rel_df['pct_initiator_ints'] = rel_df.initiator_int_count / rel_df.int_count"
   ]
  },
  {
   "cell_type": "code",
   "execution_count": 40,
   "metadata": {
    "scrolled": true
   },
   "outputs": [
    {
     "data": {
      "text/html": [
       "<div>\n",
       "<style scoped>\n",
       "    .dataframe tbody tr th:only-of-type {\n",
       "        vertical-align: middle;\n",
       "    }\n",
       "\n",
       "    .dataframe tbody tr th {\n",
       "        vertical-align: top;\n",
       "    }\n",
       "\n",
       "    .dataframe thead th {\n",
       "        text-align: right;\n",
       "    }\n",
       "</style>\n",
       "<table border=\"1\" class=\"dataframe\">\n",
       "  <thead>\n",
       "    <tr style=\"text-align: right;\">\n",
       "      <th></th>\n",
       "      <th>initiator_user_id</th>\n",
       "      <th>reciprocator_user_id</th>\n",
       "      <th>is_reciprocated</th>\n",
       "      <th>int_count</th>\n",
       "      <th>first_int</th>\n",
       "      <th>last_int</th>\n",
       "      <th>initiator_int_count</th>\n",
       "      <th>reciprocator_int_count</th>\n",
       "      <th>int_type_list</th>\n",
       "      <th>created_at_list</th>\n",
       "      <th>initiator_ints_list</th>\n",
       "      <th>duration_months</th>\n",
       "      <th>initiator_author_type</th>\n",
       "      <th>reciprocator_author_type</th>\n",
       "      <th>pct_initiator_ints</th>\n",
       "    </tr>\n",
       "  </thead>\n",
       "  <tbody>\n",
       "    <tr>\n",
       "      <th>8</th>\n",
       "      <td>386</td>\n",
       "      <td>28.0</td>\n",
       "      <td>True</td>\n",
       "      <td>168</td>\n",
       "      <td>1117710956000</td>\n",
       "      <td>1238549181000</td>\n",
       "      <td>34</td>\n",
       "      <td>134</td>\n",
       "      <td>[guestbook, guestbook, guestbook, guestbook, g...</td>\n",
       "      <td>[1117710956000, 1118835728000, 1119181337000, ...</td>\n",
       "      <td>[True, True, True, True, True, True, True, Tru...</td>\n",
       "      <td>46.619686</td>\n",
       "      <td>mixed</td>\n",
       "      <td>cg</td>\n",
       "      <td>0.202381</td>\n",
       "    </tr>\n",
       "    <tr>\n",
       "      <th>13</th>\n",
       "      <td>597</td>\n",
       "      <td>486.0</td>\n",
       "      <td>True</td>\n",
       "      <td>9</td>\n",
       "      <td>1117747707000</td>\n",
       "      <td>1194404419000</td>\n",
       "      <td>7</td>\n",
       "      <td>2</td>\n",
       "      <td>[guestbook, guestbook, guestbook, guestbook, g...</td>\n",
       "      <td>[1117747707000, 1120831206000, 1121130818000, ...</td>\n",
       "      <td>[True, True, True, True, True, True, True, Fal...</td>\n",
       "      <td>29.574349</td>\n",
       "      <td>cg</td>\n",
       "      <td>p</td>\n",
       "      <td>0.777778</td>\n",
       "    </tr>\n",
       "  </tbody>\n",
       "</table>\n",
       "</div>"
      ],
      "text/plain": [
       "    initiator_user_id  reciprocator_user_id  is_reciprocated  int_count  \\\n",
       "8                 386                  28.0             True        168   \n",
       "13                597                 486.0             True          9   \n",
       "\n",
       "        first_int       last_int  initiator_int_count  reciprocator_int_count  \\\n",
       "8   1117710956000  1238549181000                   34                     134   \n",
       "13  1117747707000  1194404419000                    7                       2   \n",
       "\n",
       "                                        int_type_list  \\\n",
       "8   [guestbook, guestbook, guestbook, guestbook, g...   \n",
       "13  [guestbook, guestbook, guestbook, guestbook, g...   \n",
       "\n",
       "                                      created_at_list  \\\n",
       "8   [1117710956000, 1118835728000, 1119181337000, ...   \n",
       "13  [1117747707000, 1120831206000, 1121130818000, ...   \n",
       "\n",
       "                                  initiator_ints_list  duration_months  \\\n",
       "8   [True, True, True, True, True, True, True, Tru...        46.619686   \n",
       "13  [True, True, True, True, True, True, True, Fal...        29.574349   \n",
       "\n",
       "   initiator_author_type reciprocator_author_type  pct_initiator_ints  \n",
       "8                  mixed                       cg            0.202381  \n",
       "13                    cg                        p            0.777778  "
      ]
     },
     "execution_count": 40,
     "metadata": {},
     "output_type": "execute_result"
    }
   ],
   "source": [
    "rel_df.head(n=2)"
   ]
  },
  {
   "cell_type": "markdown",
   "metadata": {},
   "source": [
    "#### Quantiles\n",
    "\n",
    "Descriptive analysis during revisions."
   ]
  },
  {
   "cell_type": "code",
   "execution_count": 41,
   "metadata": {},
   "outputs": [
    {
     "data": {
      "text/plain": [
       "13.0"
      ]
     },
     "execution_count": 41,
     "metadata": {},
     "output_type": "execute_result"
    }
   ],
   "source": [
    "np.median(rel_df.int_count)"
   ]
  },
  {
   "cell_type": "code",
   "execution_count": 42,
   "metadata": {},
   "outputs": [
    {
     "data": {
      "text/plain": [
       "(7048, 0.05705034806540392)"
      ]
     },
     "execution_count": 42,
     "metadata": {},
     "output_type": "execute_result"
    }
   ],
   "source": [
    "np.sum(rel_df.int_count == 2), np.sum(rel_df.int_count == 2) / len(rel_df)"
   ]
  },
  {
   "cell_type": "code",
   "execution_count": 43,
   "metadata": {},
   "outputs": [
    {
     "data": {
      "text/plain": [
       "(115676, 0.9363445038044358)"
      ]
     },
     "execution_count": 43,
     "metadata": {},
     "output_type": "execute_result"
    }
   ],
   "source": [
    "np.sum(rel_df.int_count <= 100), np.sum(rel_df.int_count <= 100) / len(rel_df)"
   ]
  },
  {
   "cell_type": "code",
   "execution_count": 44,
   "metadata": {},
   "outputs": [
    {
     "data": {
      "text/plain": [
       "(3.0, 71.0)"
      ]
     },
     "execution_count": 44,
     "metadata": {},
     "output_type": "execute_result"
    }
   ],
   "source": [
    "np.quantile(rel_df.int_count, 0.1), np.quantile(rel_df.int_count, 0.9)"
   ]
  },
  {
   "cell_type": "markdown",
   "metadata": {},
   "source": [
    "Finished creating columns for \"relationships\" i.e. reciprocated dyads\n",
    "\n",
    "#### Descriptive analysis"
   ]
  },
  {
   "cell_type": "code",
   "execution_count": null,
   "metadata": {},
   "outputs": [],
   "source": []
  },
  {
   "cell_type": "code",
   "execution_count": 45,
   "metadata": {},
   "outputs": [
    {
     "data": {
      "image/png": "[encoded data removed]",
      "text/plain": [
       "<Figure size 432x288 with 1 Axes>"
      ]
     },
     "metadata": {
      "needs_background": "light"
     },
     "output_type": "display_data"
    }
   ],
   "source": [
    "# distribution of number of interactions\n",
    "plt.hist(rel_df.int_count, log=True, bins=50, range=(0, 5000))\n",
    "plt.hist(rel_df.initiator_int_count, log=True, bins=50, range=(0, 5000), alpha=0.4)\n",
    "plt.hist(rel_df.reciprocator_int_count, log=True, bins=50, range=(0, 5000), alpha=0.4)\n",
    "plt.show()"
   ]
  },
  {
   "cell_type": "code",
   "execution_count": 46,
   "metadata": {},
   "outputs": [
    {
     "data": {
      "text/plain": [
       "(33.658281874318924,\n",
       " 34.55403925348287,\n",
       " 0.8957573791639462,\n",
       " Ttest_indResult(statistic=-0.7569860550940949, pvalue=0.4490652850444252))"
      ]
     },
     "execution_count": 46,
     "metadata": {},
     "output_type": "execute_result"
    }
   ],
   "source": [
    "# no real difference in average number of interactions by initiator\n",
    "sample1 = rel_df[rel_df.initiator_author_type == 'p'].int_count\n",
    "sample2 = rel_df[rel_df.initiator_author_type == 'cg'].int_count\n",
    "\n",
    "np.mean(sample1), \\\n",
    "np.mean(sample2), \\\n",
    "np.mean(sample2) - np.mean(sample1), \\\n",
    "scipy.stats.ttest_ind(sample1, sample2, equal_var=False)"
   ]
  },
  {
   "cell_type": "code",
   "execution_count": 47,
   "metadata": {},
   "outputs": [
    {
     "data": {
      "text/plain": [
       "(26.505515510892234,\n",
       " 27.688912993066875,\n",
       " 1.183397482174641,\n",
       " Ttest_indResult(statistic=-6.229963455150991, pvalue=4.71968693530892e-10))"
      ]
     },
     "execution_count": 47,
     "metadata": {},
     "output_type": "execute_result"
    }
   ],
   "source": [
    "# relationships initiated by caregivers are longer on average\n",
    "# but this is hard to tease apart without a survival analysis\n",
    "sample1 = rel_df[rel_df.initiator_author_type == 'p'].duration_months\n",
    "sample2 = rel_df[rel_df.initiator_author_type == 'cg'].duration_months\n",
    "\n",
    "np.mean(sample1), \\\n",
    "np.mean(sample2), \\\n",
    "np.mean(sample2) - np.mean(sample1), \\\n",
    "scipy.stats.ttest_ind(sample1, sample2, equal_var=False)"
   ]
  },
  {
   "cell_type": "code",
   "execution_count": 48,
   "metadata": {},
   "outputs": [
    {
     "data": {
      "text/html": [
       "<div>\n",
       "<style scoped>\n",
       "    .dataframe tbody tr th:only-of-type {\n",
       "        vertical-align: middle;\n",
       "    }\n",
       "\n",
       "    .dataframe tbody tr th {\n",
       "        vertical-align: top;\n",
       "    }\n",
       "\n",
       "    .dataframe thead th {\n",
       "        text-align: right;\n",
       "    }\n",
       "</style>\n",
       "<table border=\"1\" class=\"dataframe\">\n",
       "  <thead>\n",
       "    <tr style=\"text-align: right;\">\n",
       "      <th></th>\n",
       "      <th>initiator_user_id</th>\n",
       "      <th>reciprocator_user_id</th>\n",
       "      <th>is_reciprocated</th>\n",
       "      <th>int_count</th>\n",
       "      <th>first_int</th>\n",
       "      <th>last_int</th>\n",
       "      <th>initiator_int_count</th>\n",
       "      <th>reciprocator_int_count</th>\n",
       "      <th>int_type_list</th>\n",
       "      <th>created_at_list</th>\n",
       "      <th>initiator_ints_list</th>\n",
       "      <th>duration_months</th>\n",
       "      <th>initiator_author_type</th>\n",
       "      <th>reciprocator_author_type</th>\n",
       "      <th>pct_initiator_ints</th>\n",
       "    </tr>\n",
       "  </thead>\n",
       "  <tbody>\n",
       "    <tr>\n",
       "      <th>212651</th>\n",
       "      <td>1939017</td>\n",
       "      <td>3666823.0</td>\n",
       "      <td>True</td>\n",
       "      <td>9676</td>\n",
       "      <td>1244782225000</td>\n",
       "      <td>1544013214000</td>\n",
       "      <td>2875</td>\n",
       "      <td>6801</td>\n",
       "      <td>[guestbook, guestbook, guestbook, guestbook, g...</td>\n",
       "      <td>[1244782225000, 1244782225000, 1246063413000, ...</td>\n",
       "      <td>[True, True, False, False, False, False, False...</td>\n",
       "      <td>115.444054</td>\n",
       "      <td>p</td>\n",
       "      <td>cg</td>\n",
       "      <td>0.297127</td>\n",
       "    </tr>\n",
       "    <tr>\n",
       "      <th>226519</th>\n",
       "      <td>3295808</td>\n",
       "      <td>3241154.0</td>\n",
       "      <td>True</td>\n",
       "      <td>8331</td>\n",
       "      <td>1250131903000</td>\n",
       "      <td>1386103411000</td>\n",
       "      <td>832</td>\n",
       "      <td>7499</td>\n",
       "      <td>[guestbook, guestbook, guestbook, guestbook, g...</td>\n",
       "      <td>[1250131903000, 1250131903000, 1250131903000, ...</td>\n",
       "      <td>[True, True, True, False, False, False, False,...</td>\n",
       "      <td>52.458144</td>\n",
       "      <td>cg</td>\n",
       "      <td>cg</td>\n",
       "      <td>0.099868</td>\n",
       "    </tr>\n",
       "    <tr>\n",
       "      <th>229704</th>\n",
       "      <td>1939017</td>\n",
       "      <td>3295808.0</td>\n",
       "      <td>True</td>\n",
       "      <td>18340</td>\n",
       "      <td>1251259893000</td>\n",
       "      <td>1549782830000</td>\n",
       "      <td>16116</td>\n",
       "      <td>2224</td>\n",
       "      <td>[guestbook, guestbook, guestbook, guestbook, g...</td>\n",
       "      <td>[1251259893000, 1251259893000, 1251259893000, ...</td>\n",
       "      <td>[True, True, True, True, True, True, False, Fa...</td>\n",
       "      <td>115.170886</td>\n",
       "      <td>p</td>\n",
       "      <td>cg</td>\n",
       "      <td>0.878735</td>\n",
       "    </tr>\n",
       "    <tr>\n",
       "      <th>230731</th>\n",
       "      <td>3295808</td>\n",
       "      <td>5485367.0</td>\n",
       "      <td>True</td>\n",
       "      <td>6424</td>\n",
       "      <td>1251587853000</td>\n",
       "      <td>1546217831000</td>\n",
       "      <td>1703</td>\n",
       "      <td>4721</td>\n",
       "      <td>[guestbook, guestbook, guestbook, guestbook, g...</td>\n",
       "      <td>[1251587853000, 1251600004000, 1251600004000, ...</td>\n",
       "      <td>[True, False, False, False, False, False, Fals...</td>\n",
       "      <td>113.668973</td>\n",
       "      <td>cg</td>\n",
       "      <td>mixed</td>\n",
       "      <td>0.265100</td>\n",
       "    </tr>\n",
       "    <tr>\n",
       "      <th>245682</th>\n",
       "      <td>5611265</td>\n",
       "      <td>3295808.0</td>\n",
       "      <td>True</td>\n",
       "      <td>5078</td>\n",
       "      <td>1256495633000</td>\n",
       "      <td>1492377712000</td>\n",
       "      <td>5077</td>\n",
       "      <td>1</td>\n",
       "      <td>[guestbook, guestbook, guestbook, guestbook, g...</td>\n",
       "      <td>[1256495633000, 1256495633000, 1256495633000, ...</td>\n",
       "      <td>[True, True, True, True, True, True, True, Tru...</td>\n",
       "      <td>91.003889</td>\n",
       "      <td>p</td>\n",
       "      <td>cg</td>\n",
       "      <td>0.999803</td>\n",
       "    </tr>\n",
       "  </tbody>\n",
       "</table>\n",
       "</div>"
      ],
      "text/plain": [
       "        initiator_user_id  reciprocator_user_id  is_reciprocated  int_count  \\\n",
       "212651            1939017             3666823.0             True       9676   \n",
       "226519            3295808             3241154.0             True       8331   \n",
       "229704            1939017             3295808.0             True      18340   \n",
       "230731            3295808             5485367.0             True       6424   \n",
       "245682            5611265             3295808.0             True       5078   \n",
       "\n",
       "            first_int       last_int  initiator_int_count  \\\n",
       "212651  1244782225000  1544013214000                 2875   \n",
       "226519  1250131903000  1386103411000                  832   \n",
       "229704  1251259893000  1549782830000                16116   \n",
       "230731  1251587853000  1546217831000                 1703   \n",
       "245682  1256495633000  1492377712000                 5077   \n",
       "\n",
       "        reciprocator_int_count  \\\n",
       "212651                    6801   \n",
       "226519                    7499   \n",
       "229704                    2224   \n",
       "230731                    4721   \n",
       "245682                       1   \n",
       "\n",
       "                                            int_type_list  \\\n",
       "212651  [guestbook, guestbook, guestbook, guestbook, g...   \n",
       "226519  [guestbook, guestbook, guestbook, guestbook, g...   \n",
       "229704  [guestbook, guestbook, guestbook, guestbook, g...   \n",
       "230731  [guestbook, guestbook, guestbook, guestbook, g...   \n",
       "245682  [guestbook, guestbook, guestbook, guestbook, g...   \n",
       "\n",
       "                                          created_at_list  \\\n",
       "212651  [1244782225000, 1244782225000, 1246063413000, ...   \n",
       "226519  [1250131903000, 1250131903000, 1250131903000, ...   \n",
       "229704  [1251259893000, 1251259893000, 1251259893000, ...   \n",
       "230731  [1251587853000, 1251600004000, 1251600004000, ...   \n",
       "245682  [1256495633000, 1256495633000, 1256495633000, ...   \n",
       "\n",
       "                                      initiator_ints_list  duration_months  \\\n",
       "212651  [True, True, False, False, False, False, False...       115.444054   \n",
       "226519  [True, True, True, False, False, False, False,...        52.458144   \n",
       "229704  [True, True, True, True, True, True, False, Fa...       115.170886   \n",
       "230731  [True, False, False, False, False, False, Fals...       113.668973   \n",
       "245682  [True, True, True, True, True, True, True, Tru...        91.003889   \n",
       "\n",
       "       initiator_author_type reciprocator_author_type  pct_initiator_ints  \n",
       "212651                     p                       cg            0.297127  \n",
       "226519                    cg                       cg            0.099868  \n",
       "229704                     p                       cg            0.878735  \n",
       "230731                    cg                    mixed            0.265100  \n",
       "245682                     p                       cg            0.999803  "
      ]
     },
     "execution_count": 48,
     "metadata": {},
     "output_type": "execute_result"
    }
   ],
   "source": [
    "# should probably investigate these relationships with huge numbers of interactions\n",
    "rel_df[rel_df.int_count > 5000]"
   ]
  },
  {
   "cell_type": "code",
   "execution_count": 49,
   "metadata": {},
   "outputs": [
    {
     "data": {
      "image/png": "[encoded data removed]",
      "text/plain": [
       "<Figure size 432x288 with 1 Axes>"
      ]
     },
     "metadata": {
      "needs_background": "light"
     },
     "output_type": "display_data"
    }
   ],
   "source": [
    "# distribution of relationship distribution\n",
    "plt.hist(rel_df.duration_months, log=True, bins=50)\n",
    "plt.show()"
   ]
  },
  {
   "cell_type": "code",
   "execution_count": 50,
   "metadata": {},
   "outputs": [
    {
     "data": {
      "image/png": "[encoded data removed]",
      "text/plain": [
       "<Figure size 432x288 with 1 Axes>"
      ]
     },
     "metadata": {
      "needs_background": "light"
     },
     "output_type": "display_data"
    }
   ],
   "source": [
    "# distribution of relationship \"balance\"\n",
    "plt.hist(rel_df[rel_df.int_count >= 20].pct_initiator_ints, log=True, bins=50)\n",
    "plt.show()"
   ]
  },
  {
   "cell_type": "code",
   "execution_count": 51,
   "metadata": {},
   "outputs": [
    {
     "data": {
      "image/png": "[encoded data removed]",
      "text/plain": [
       "<Figure size 394.421x108 with 1 Axes>"
      ]
     },
     "metadata": {
      "needs_background": "light"
     },
     "output_type": "display_data"
    }
   ],
   "source": [
    "# generate the distribution of the relationship balance as a figure for the paper\n",
    "fig, ax = plt.subplots(1, 1, figsize=(5.47807, 1.5))\n",
    "bins = np.linspace(0, 1, num=50)\n",
    "counts, edges, _ = ax.hist(rel_df.pct_initiator_ints, bins=bins, log=False, color='black', alpha=0.6)\n",
    "plt.axvline(0.245, color='black', linestyle=\"--\")\n",
    "plt.axvline(0.751, color='black', linestyle=\"--\")\n",
    "plt.text(0.4, np.max(counts) * 0.93, 'Balanced', verticalalignment='top', horizontalalignment='center')\n",
    "plt.text(0.125, np.max(counts) * 0.93, 'Receiver\\nDominated', verticalalignment='top', horizontalalignment='center')\n",
    "plt.text(0.75 + 0.125, np.max(counts) * 0.93, 'Initiator\\nDominated', verticalalignment='top', horizontalalignment='center')\n",
    "ax.set_xlabel(\"% of relationship interactions from initiator\")\n",
    "ax.set_ylabel(\"# relationships\")\n",
    "\n",
    "plt.tight_layout(pad=0.2)\n",
    "plt.margins(0,0)\n",
    "fig.savefig(fname=os.path.join(figures_dir,\"pct_balance_distribution.pdf\"), dpi=200, bbox_inches='tight', pad_inches = 0)     \n",
    "plt.show()"
   ]
  },
  {
   "cell_type": "code",
   "execution_count": 52,
   "metadata": {},
   "outputs": [
    {
     "data": {
      "text/plain": [
       "1.0"
      ]
     },
     "execution_count": 52,
     "metadata": {},
     "output_type": "execute_result"
    }
   ],
   "source": [
    "np.sum(rel_df.is_reciprocated) / len(rel_df)"
   ]
  },
  {
   "cell_type": "markdown",
   "metadata": {},
   "source": [
    "## Active time features\n",
    "\n",
    "Computes the total time active on CB"
   ]
  },
  {
   "cell_type": "code",
   "execution_count": 53,
   "metadata": {},
   "outputs": [
    {
     "data": {
      "text/plain": [
       "28388948"
      ]
     },
     "execution_count": 53,
     "metadata": {},
     "output_type": "execute_result"
    }
   ],
   "source": [
    "# read in the interactions dataframe\n",
    "metadata_dir = \"/home/lana/shared/caringbridge/data/projects/sna-social-support/user_metadata\"\n",
    "author_to_site = os.path.join(metadata_dir, \"interaction_metadata.h5\")\n",
    "ints_df = pd.read_hdf(author_to_site)\n",
    "len(ints_df)"
   ]
  },
  {
   "cell_type": "code",
   "execution_count": 54,
   "metadata": {},
   "outputs": [
    {
     "name": "stdout",
     "output_type": "stream",
     "text": [
      "44\n",
      "0\n"
     ]
    }
   ],
   "source": [
    "# as a quick fix for invalid dates in journals, when created_at is 0 we use the updated_at instead\n",
    "invalid_created_at = ints_df.created_at <= 0\n",
    "print(np.sum(invalid_created_at))\n",
    "ints_df.loc[invalid_created_at, 'created_at'] = ints_df.loc[invalid_created_at, 'updated_at']\n",
    "print(np.sum(ints_df.created_at <= 0))"
   ]
  },
  {
   "cell_type": "code",
   "execution_count": 55,
   "metadata": {},
   "outputs": [
    {
     "name": "stdout",
     "output_type": "stream",
     "text": [
      "0:00:44.516837\n"
     ]
    },
    {
     "data": {
      "text/plain": [
       "362345"
      ]
     },
     "execution_count": 55,
     "metadata": {},
     "output_type": "execute_result"
    }
   ],
   "source": [
    "# compute total time on site\n",
    "# for each user, this is from the very first interaction to the last interaction\n",
    "s = datetime.now()\n",
    "total_time_on_site = ints_df[ints_df.user_id.isin(valid_user_ids)].groupby(by='user_id').agg({\n",
    "    'created_at': np.ptp\n",
    "}).created_at.rename('total_time_on_site')\n",
    "total_time_on_site_dict = total_time_on_site.to_dict()\n",
    "print(datetime.now() - s)\n",
    "len(total_time_on_site_dict)"
   ]
  },
  {
   "cell_type": "code",
   "execution_count": 56,
   "metadata": {},
   "outputs": [
    {
     "name": "stdout",
     "output_type": "stream",
     "text": [
      "0:00:22.900708\n"
     ]
    },
    {
     "data": {
      "text/plain": [
       "362345"
      ]
     },
     "execution_count": 56,
     "metadata": {},
     "output_type": "execute_result"
    }
   ],
   "source": [
    "# compute first and last recorded update for each user\n",
    "s = datetime.now()\n",
    "first_int_time = ints_df[ints_df.user_id.isin(valid_user_ids)].groupby(by='user_id').agg({\n",
    "    'created_at': np.min\n",
    "}).created_at\n",
    "first_int_time_dict = first_int_time.to_dict()\n",
    "last_int_time = ints_df[ints_df.user_id.isin(valid_user_ids)].groupby(by='user_id').agg({\n",
    "    'created_at': np.max\n",
    "}).created_at\n",
    "last_int_time_dict = last_int_time.to_dict()\n",
    "print(datetime.now() - s)\n",
    "len(first_int_time_dict)"
   ]
  },
  {
   "cell_type": "code",
   "execution_count": 57,
   "metadata": {},
   "outputs": [
    {
     "data": {
      "image/png": "[encoded data removed]",
      "text/plain": [
       "<Figure size 432x288 with 1 Axes>"
      ]
     },
     "metadata": {
      "needs_background": "light"
     },
     "output_type": "display_data"
    }
   ],
   "source": [
    "# randomly show some activity timelines, just for fun\n",
    "tdf = pd.DataFrame(first_int_time)\n",
    "tdf = tdf.rename(columns={'created_at': 'first_int_time'})\n",
    "tdf['last_int_time'] = last_int_time\n",
    "ys = []\n",
    "xmins = []\n",
    "xmaxs = []\n",
    "sample = tdf[tdf.first_int_time > start_timestamp].sample(n=2000)\n",
    "for i, row in enumerate(sample.sort_values(by='first_int_time', ascending=True).itertuples()):\n",
    "    xmins.append(row.first_int_time)\n",
    "    xmaxs.append(row.last_int_time)\n",
    "    ys.append(i)\n",
    "plt.hlines(ys, xmins, xmaxs, alpha=0.1, linewidth=1)\n",
    "plt.show()"
   ]
  },
  {
   "cell_type": "code",
   "execution_count": 58,
   "metadata": {},
   "outputs": [
    {
     "name": "stdout",
     "output_type": "stream",
     "text": [
      "2016-06-01 21:07:43\n",
      "2015-12-04 21:07:43\n"
     ]
    }
   ],
   "source": [
    "# key question: what should the threshold be for \"maybe censored?\"\n",
    "# the write for life paper uses 90 days\n",
    "# so the question becomes: what number of users active in the 90 days\n",
    "end_of_data_timestamp = np.max(ints_df[ints_df.int_type == 'guestbook'].created_at)\n",
    "print(datetime.utcfromtimestamp(end_of_data_timestamp / 1000))\n",
    "threshold_ms = 1000 * 60 * 60 * 24 * 30 * 6 # 6 months\n",
    "print(datetime.utcfromtimestamp((end_of_data_timestamp - threshold_ms)/ 1000))"
   ]
  },
  {
   "cell_type": "code",
   "execution_count": 59,
   "metadata": {},
   "outputs": [],
   "source": [
    "tdf = pd.DataFrame(first_int_time)\n",
    "tdf = tdf.rename(columns={'created_at': 'first_int_time'})\n",
    "tdf['last_int_time'] = last_int_time"
   ]
  },
  {
   "cell_type": "code",
   "execution_count": 60,
   "metadata": {},
   "outputs": [
    {
     "data": {
      "text/plain": [
       "96376"
      ]
     },
     "execution_count": 60,
     "metadata": {},
     "output_type": "execute_result"
    }
   ],
   "source": [
    "# number of valid users that joined CB before the cutoff but posted in the cutoff\n",
    "# in other words, these are the ACTUALLY censored users\n",
    "censored_count = np.sum(tdf[tdf.first_int_time <= end_of_data_timestamp - threshold_ms].last_int_time > end_of_data_timestamp - threshold_ms)\n",
    "censored_count"
   ]
  },
  {
   "cell_type": "code",
   "execution_count": 61,
   "metadata": {},
   "outputs": [
    {
     "name": "stderr",
     "output_type": "stream",
     "text": [
      "100%|██████████| 362345/362345 [04:51<00:00, 1243.17it/s]\n"
     ]
    }
   ],
   "source": [
    "with tqdm(total=len(last_int_time)) as prog:\n",
    "    def get_prethreshold_max(created_at):\n",
    "        prog.update(1)\n",
    "        prethreshold_idx = created_at <= end_of_data_timestamp - threshold_ms\n",
    "        if np.sum(prethreshold_idx) == 0:\n",
    "            return -1\n",
    "        else:\n",
    "            return np.max(created_at[prethreshold_idx])\n",
    "    \n",
    "    last_int_time_prethreshold = ints_df[\n",
    "        ints_df.user_id.isin(valid_user_ids)\n",
    "                                    ].groupby(by='user_id').agg({\n",
    "        'created_at': get_prethreshold_max\n",
    "    }).created_at.rename('last_int_time_prethreshold')"
   ]
  },
  {
   "cell_type": "code",
   "execution_count": 62,
   "metadata": {},
   "outputs": [],
   "source": [
    "assert len(tdf) == len(last_int_time_prethreshold)\n",
    "tdf['last_int_time_prethreshold'] = last_int_time_prethreshold"
   ]
  },
  {
   "cell_type": "code",
   "execution_count": 63,
   "metadata": {},
   "outputs": [],
   "source": [
    "no_int_prethreshold = tdf.last_int_time_prethreshold == -1\n",
    "first_int_postthreshold = tdf.first_int_time >= end_of_data_timestamp - threshold_ms\n",
    "assert np.all(no_int_prethreshold == first_int_postthreshold)"
   ]
  },
  {
   "cell_type": "code",
   "execution_count": 64,
   "metadata": {},
   "outputs": [
    {
     "data": {
      "text/plain": [
       "(96376, 67474)"
      ]
     },
     "execution_count": 64,
     "metadata": {},
     "output_type": "execute_result"
    }
   ],
   "source": [
    "prethreshold_users = tdf[tdf.first_int_time <= end_of_data_timestamp - threshold_ms]\n",
    "censored_users = prethreshold_users.last_int_time > end_of_data_timestamp - threshold_ms\n",
    "considered_censored_users = (prethreshold_users.first_int_time >= end_of_data_timestamp - threshold_ms - threshold_ms)\\\n",
    "|(prethreshold_users.last_int_time_prethreshold >= end_of_data_timestamp - threshold_ms - threshold_ms)\n",
    "np.sum(censored_users), np.sum(considered_censored_users)"
   ]
  },
  {
   "cell_type": "code",
   "execution_count": 65,
   "metadata": {},
   "outputs": [
    {
     "data": {
      "text/plain": [
       "(347914, 0.9601733154866219)"
      ]
     },
     "execution_count": 65,
     "metadata": {},
     "output_type": "execute_result"
    }
   ],
   "source": [
    "len(prethreshold_users), len(prethreshold_users) / len(tdf)"
   ]
  },
  {
   "cell_type": "code",
   "execution_count": 66,
   "metadata": {},
   "outputs": [
    {
     "data": {
      "text/plain": [
       "0.49538266788412055"
      ]
     },
     "execution_count": 66,
     "metadata": {},
     "output_type": "execute_result"
    }
   ],
   "source": [
    "# recall: what pct of the ACTUALLY censored users are considered to be censored?\n",
    "# With a 6-month threshold, we miss more than HALF of the users who are censored, concluding that they\n",
    "# are not in fact censored. (After all, their last update was more than 6 months before the end of data collection)\n",
    "np.sum(considered_censored_users[censored_users]) / np.sum(censored_users)"
   ]
  },
  {
   "cell_type": "code",
   "execution_count": 67,
   "metadata": {},
   "outputs": [
    {
     "data": {
      "text/plain": [
       "0.7075762515932063"
      ]
     },
     "execution_count": 67,
     "metadata": {},
     "output_type": "execute_result"
    }
   ],
   "source": [
    "# precision: what pct of the considered censored users are actually censored?\n",
    "np.sum(considered_censored_users[censored_users]) / np.sum(considered_censored_users)"
   ]
  },
  {
   "cell_type": "markdown",
   "metadata": {},
   "source": [
    "This analysis is immensely depressing, since it suggests we essentially can't tell if a user will post again. (Lots of users who haven't posted for six months will post again!)\n",
    "\n",
    "What we would like to do is make a claim about the difference between patient-initiated and caregiver-initiated relationships: that they are longer or shorter.\n"
   ]
  },
  {
   "cell_type": "markdown",
   "metadata": {},
   "source": [
    "## Regression modeling of interaction count (Poisson)\n",
    "\n",
    "Note: this requires only the rel_df to be computed."
   ]
  },
  {
   "cell_type": "code",
   "execution_count": 68,
   "metadata": {},
   "outputs": [],
   "source": [
    "import statsmodels.api as sm\n",
    "import statsmodels.formula.api as smf"
   ]
  },
  {
   "cell_type": "code",
   "execution_count": 69,
   "metadata": {},
   "outputs": [
    {
     "data": {
      "text/html": [
       "<div>\n",
       "<style scoped>\n",
       "    .dataframe tbody tr th:only-of-type {\n",
       "        vertical-align: middle;\n",
       "    }\n",
       "\n",
       "    .dataframe tbody tr th {\n",
       "        vertical-align: top;\n",
       "    }\n",
       "\n",
       "    .dataframe thead th {\n",
       "        text-align: right;\n",
       "    }\n",
       "</style>\n",
       "<table border=\"1\" class=\"dataframe\">\n",
       "  <thead>\n",
       "    <tr style=\"text-align: right;\">\n",
       "      <th></th>\n",
       "      <th>initiator_user_id</th>\n",
       "      <th>reciprocator_user_id</th>\n",
       "      <th>is_reciprocated</th>\n",
       "      <th>int_count</th>\n",
       "      <th>first_int</th>\n",
       "      <th>last_int</th>\n",
       "      <th>initiator_int_count</th>\n",
       "      <th>reciprocator_int_count</th>\n",
       "      <th>int_type_list</th>\n",
       "      <th>created_at_list</th>\n",
       "      <th>initiator_ints_list</th>\n",
       "      <th>duration_months</th>\n",
       "      <th>initiator_author_type</th>\n",
       "      <th>reciprocator_author_type</th>\n",
       "      <th>pct_initiator_ints</th>\n",
       "    </tr>\n",
       "  </thead>\n",
       "  <tbody>\n",
       "    <tr>\n",
       "      <th>8</th>\n",
       "      <td>386</td>\n",
       "      <td>28.0</td>\n",
       "      <td>True</td>\n",
       "      <td>168</td>\n",
       "      <td>1117710956000</td>\n",
       "      <td>1238549181000</td>\n",
       "      <td>34</td>\n",
       "      <td>134</td>\n",
       "      <td>[guestbook, guestbook, guestbook, guestbook, g...</td>\n",
       "      <td>[1117710956000, 1118835728000, 1119181337000, ...</td>\n",
       "      <td>[True, True, True, True, True, True, True, Tru...</td>\n",
       "      <td>46.619686</td>\n",
       "      <td>mixed</td>\n",
       "      <td>cg</td>\n",
       "      <td>0.202381</td>\n",
       "    </tr>\n",
       "  </tbody>\n",
       "</table>\n",
       "</div>"
      ],
      "text/plain": [
       "   initiator_user_id  reciprocator_user_id  is_reciprocated  int_count  \\\n",
       "8                386                  28.0             True        168   \n",
       "\n",
       "       first_int       last_int  initiator_int_count  reciprocator_int_count  \\\n",
       "8  1117710956000  1238549181000                   34                     134   \n",
       "\n",
       "                                       int_type_list  \\\n",
       "8  [guestbook, guestbook, guestbook, guestbook, g...   \n",
       "\n",
       "                                     created_at_list  \\\n",
       "8  [1117710956000, 1118835728000, 1119181337000, ...   \n",
       "\n",
       "                                 initiator_ints_list  duration_months  \\\n",
       "8  [True, True, True, True, True, True, True, Tru...        46.619686   \n",
       "\n",
       "  initiator_author_type reciprocator_author_type  pct_initiator_ints  \n",
       "8                 mixed                       cg            0.202381  "
      ]
     },
     "execution_count": 69,
     "metadata": {},
     "output_type": "execute_result"
    }
   ],
   "source": [
    "rel_df.head(n=1)"
   ]
  },
  {
   "cell_type": "code",
   "execution_count": 70,
   "metadata": {},
   "outputs": [],
   "source": [
    "rel_df['balance'] = 'balanced'\n",
    "rel_df.loc[rel_df.pct_initiator_ints >= 0.75, 'balance'] = 'initiator'\n",
    "rel_df.loc[rel_df.pct_initiator_ints <= 0.25, 'balance'] = 'reciprocator'"
   ]
  },
  {
   "cell_type": "code",
   "execution_count": 71,
   "metadata": {},
   "outputs": [],
   "source": [
    "rel_df['is_balanced'] = (rel_df.balance == 'balanced').astype(int)\n",
    "rel_df['is_author_type_shared'] = (rel_df.initiator_author_type == rel_df.reciprocator_author_type).astype(int)"
   ]
  },
  {
   "cell_type": "code",
   "execution_count": 72,
   "metadata": {},
   "outputs": [
    {
     "data": {
      "text/plain": [
       "0.5253521126760563"
      ]
     },
     "execution_count": 72,
     "metadata": {},
     "output_type": "execute_result"
    }
   ],
   "source": [
    "# 52.47\\% of relationships are balanced using the indicated thresholds.\n",
    "np.sum(rel_df.balance == 'balanced') / len(rel_df)"
   ]
  },
  {
   "cell_type": "code",
   "execution_count": 73,
   "metadata": {},
   "outputs": [],
   "source": [
    "rel_df['pct_initiator_ints_scaled'] = rel_df.pct_initiator_ints * 100"
   ]
  },
  {
   "cell_type": "code",
   "execution_count": 74,
   "metadata": {},
   "outputs": [
    {
     "data": {
      "text/plain": [
       "339.0"
      ]
     },
     "execution_count": 74,
     "metadata": {},
     "output_type": "execute_result"
    }
   ],
   "source": [
    "np.quantile(rel_df.int_count, 0.99)"
   ]
  },
  {
   "cell_type": "code",
   "execution_count": 75,
   "metadata": {},
   "outputs": [
    {
     "data": {
      "text/plain": [
       "(122330, 0.9902056014246398)"
      ]
     },
     "execution_count": 75,
     "metadata": {},
     "output_type": "execute_result"
    }
   ],
   "source": [
    "rel_df_subset = rel_df[rel_df.int_count <= 344]\n",
    "len(rel_df_subset), len(rel_df_subset) / len(rel_df)"
   ]
  },
  {
   "cell_type": "code",
   "execution_count": 76,
   "metadata": {},
   "outputs": [
    {
     "data": {
      "image/png": "[encoded data removed]",
      "text/plain": [
       "<Figure size 432x288 with 1 Axes>"
      ]
     },
     "metadata": {
      "needs_background": "light"
     },
     "output_type": "display_data"
    }
   ],
   "source": [
    "# counts follow a power law, as expected...\n",
    "# but that makes transformation to normality problematic\n",
    "plt.hist(rel_df_subset.int_count, bins=50, log=True)\n",
    "plt.title(\"Distribution of outcome (i.e. total relationship interactions)\")\n",
    "plt.show()"
   ]
  },
  {
   "cell_type": "code",
   "execution_count": 77,
   "metadata": {},
   "outputs": [
    {
     "data": {
      "text/html": [
       "<table class=\"simpletable\">\n",
       "<caption>OLS Regression Results</caption>\n",
       "<tr>\n",
       "  <th>Dep. Variable:</th>        <td>int_count</td>    <th>  R-squared:         </th>  <td>   0.111</td>  \n",
       "</tr>\n",
       "<tr>\n",
       "  <th>Model:</th>                   <td>OLS</td>       <th>  Adj. R-squared:    </th>  <td>   0.111</td>  \n",
       "</tr>\n",
       "<tr>\n",
       "  <th>Method:</th>             <td>Least Squares</td>  <th>  F-statistic:       </th>  <td>   2558.</td>  \n",
       "</tr>\n",
       "<tr>\n",
       "  <th>Date:</th>             <td>Mon, 01 Jun 2020</td> <th>  Prob (F-statistic):</th>   <td>  0.00</td>   \n",
       "</tr>\n",
       "<tr>\n",
       "  <th>Time:</th>                 <td>16:03:59</td>     <th>  Log-Likelihood:    </th> <td>-6.2151e+05</td>\n",
       "</tr>\n",
       "<tr>\n",
       "  <th>No. Observations:</th>      <td>122330</td>      <th>  AIC:               </th>  <td>1.243e+06</td> \n",
       "</tr>\n",
       "<tr>\n",
       "  <th>Df Residuals:</th>          <td>122323</td>      <th>  BIC:               </th>  <td>1.243e+06</td> \n",
       "</tr>\n",
       "<tr>\n",
       "  <th>Df Model:</th>              <td>     6</td>      <th>                     </th>      <td> </td>     \n",
       "</tr>\n",
       "<tr>\n",
       "  <th>Covariance Type:</th>      <td>nonrobust</td>    <th>                     </th>      <td> </td>     \n",
       "</tr>\n",
       "</table>\n",
       "<table class=\"simpletable\">\n",
       "<tr>\n",
       "                    <td></td>                      <th>coef</th>     <th>std err</th>      <th>t</th>      <th>P>|t|</th>  <th>[0.025</th>    <th>0.975]</th>  \n",
       "</tr>\n",
       "<tr>\n",
       "  <th>Intercept</th>                            <td>    6.4343</td> <td>    0.315</td> <td>   20.452</td> <td> 0.000</td> <td>    5.818</td> <td>    7.051</td>\n",
       "</tr>\n",
       "<tr>\n",
       "  <th>C(initiator_author_type)[T.mixed]</th>    <td>   -0.7173</td> <td>    0.411</td> <td>   -1.746</td> <td> 0.081</td> <td>   -1.523</td> <td>    0.088</td>\n",
       "</tr>\n",
       "<tr>\n",
       "  <th>C(initiator_author_type)[T.p]</th>        <td>   -0.9487</td> <td>    0.307</td> <td>   -3.087</td> <td> 0.002</td> <td>   -1.551</td> <td>   -0.346</td>\n",
       "</tr>\n",
       "<tr>\n",
       "  <th>C(reciprocator_author_type)[T.mixed]</th> <td>   -1.3945</td> <td>    0.414</td> <td>   -3.370</td> <td> 0.001</td> <td>   -2.205</td> <td>   -0.583</td>\n",
       "</tr>\n",
       "<tr>\n",
       "  <th>C(reciprocator_author_type)[T.p]</th>     <td>   -0.5863</td> <td>    0.322</td> <td>   -1.822</td> <td> 0.069</td> <td>   -1.217</td> <td>    0.045</td>\n",
       "</tr>\n",
       "<tr>\n",
       "  <th>pct_initiator_ints_scaled</th>            <td>    0.1310</td> <td>    0.004</td> <td>   29.990</td> <td> 0.000</td> <td>    0.122</td> <td>    0.140</td>\n",
       "</tr>\n",
       "<tr>\n",
       "  <th>duration_months</th>                      <td>    0.5288</td> <td>    0.004</td> <td>  120.744</td> <td> 0.000</td> <td>    0.520</td> <td>    0.537</td>\n",
       "</tr>\n",
       "</table>\n",
       "<table class=\"simpletable\">\n",
       "<tr>\n",
       "  <th>Omnibus:</th>       <td>88588.911</td> <th>  Durbin-Watson:     </th>  <td>   1.894</td>  \n",
       "</tr>\n",
       "<tr>\n",
       "  <th>Prob(Omnibus):</th>  <td> 0.000</td>   <th>  Jarque-Bera (JB):  </th> <td>1525162.765</td>\n",
       "</tr>\n",
       "<tr>\n",
       "  <th>Skew:</th>           <td> 3.388</td>   <th>  Prob(JB):          </th>  <td>    0.00</td>  \n",
       "</tr>\n",
       "<tr>\n",
       "  <th>Kurtosis:</th>       <td>18.916</td>   <th>  Cond. No.          </th>  <td>    273.</td>  \n",
       "</tr>\n",
       "</table><br/><br/>Warnings:<br/>[1] Standard Errors assume that the covariance matrix of the errors is correctly specified."
      ],
      "text/plain": [
       "<class 'statsmodels.iolib.summary.Summary'>\n",
       "\"\"\"\n",
       "                            OLS Regression Results                            \n",
       "==============================================================================\n",
       "Dep. Variable:              int_count   R-squared:                       0.111\n",
       "Model:                            OLS   Adj. R-squared:                  0.111\n",
       "Method:                 Least Squares   F-statistic:                     2558.\n",
       "Date:                Mon, 01 Jun 2020   Prob (F-statistic):               0.00\n",
       "Time:                        16:03:59   Log-Likelihood:            -6.2151e+05\n",
       "No. Observations:              122330   AIC:                         1.243e+06\n",
       "Df Residuals:                  122323   BIC:                         1.243e+06\n",
       "Df Model:                           6                                         \n",
       "Covariance Type:            nonrobust                                         \n",
       "========================================================================================================\n",
       "                                           coef    std err          t      P>|t|      [0.025      0.975]\n",
       "--------------------------------------------------------------------------------------------------------\n",
       "Intercept                                6.4343      0.315     20.452      0.000       5.818       7.051\n",
       "C(initiator_author_type)[T.mixed]       -0.7173      0.411     -1.746      0.081      -1.523       0.088\n",
       "C(initiator_author_type)[T.p]           -0.9487      0.307     -3.087      0.002      -1.551      -0.346\n",
       "C(reciprocator_author_type)[T.mixed]    -1.3945      0.414     -3.370      0.001      -2.205      -0.583\n",
       "C(reciprocator_author_type)[T.p]        -0.5863      0.322     -1.822      0.069      -1.217       0.045\n",
       "pct_initiator_ints_scaled                0.1310      0.004     29.990      0.000       0.122       0.140\n",
       "duration_months                          0.5288      0.004    120.744      0.000       0.520       0.537\n",
       "==============================================================================\n",
       "Omnibus:                    88588.911   Durbin-Watson:                   1.894\n",
       "Prob(Omnibus):                  0.000   Jarque-Bera (JB):          1525162.765\n",
       "Skew:                           3.388   Prob(JB):                         0.00\n",
       "Kurtosis:                      18.916   Cond. No.                         273.\n",
       "==============================================================================\n",
       "\n",
       "Warnings:\n",
       "[1] Standard Errors assume that the covariance matrix of the errors is correctly specified.\n",
       "\"\"\""
      ]
     },
     "execution_count": 77,
     "metadata": {},
     "output_type": "execute_result"
    }
   ],
   "source": [
    "f = f'int_count ~ C(initiator_author_type) + C(reciprocator_author_type) + pct_initiator_ints_scaled + duration_months'\n",
    "\n",
    "model = smf.ols(formula=f, data = rel_df_subset)\n",
    "res = model.fit()\n",
    "res.summary()"
   ]
  },
  {
   "cell_type": "code",
   "execution_count": 78,
   "metadata": {},
   "outputs": [
    {
     "name": "stdout",
     "output_type": "stream",
     "text": [
      "   df_resid           ssr  df_diff       ss_diff             F        Pr(>F)\n",
      "0  122325.0  2.084892e+08      0.0           NaN           NaN           NaN\n",
      "1  122324.0  1.867227e+08      1.0  2.176647e+07  14270.177865  0.000000e+00\n",
      "2  122320.0  1.865762e+08      4.0  1.465293e+05     24.016288  6.887403e-20\n"
     ]
    },
    {
     "name": "stderr",
     "output_type": "stream",
     "text": [
      "/home/srivbane/shared/anaconda3/lib/python3.7/site-packages/scipy/stats/_distn_infrastructure.py:903: RuntimeWarning: invalid value encountered in greater\n",
      "  return (a < x) & (x < b)\n",
      "/home/srivbane/shared/anaconda3/lib/python3.7/site-packages/scipy/stats/_distn_infrastructure.py:903: RuntimeWarning: invalid value encountered in less\n",
      "  return (a < x) & (x < b)\n",
      "/home/srivbane/shared/anaconda3/lib/python3.7/site-packages/scipy/stats/_distn_infrastructure.py:1912: RuntimeWarning: invalid value encountered in less_equal\n",
      "  cond2 = cond0 & (x <= _a)\n"
     ]
    }
   ],
   "source": [
    "# ANOVA for an interaction\n",
    "# this is significant\n",
    "import statsmodels.stats\n",
    "md0 = smf.ols('int_count ~ C(initiator_author_type) + C(reciprocator_author_type)', data=rel_df_subset).fit()\n",
    "md1 = smf.ols('int_count ~ C(initiator_author_type) + C(reciprocator_author_type) + duration_months', data=rel_df_subset).fit()\n",
    "md2 = smf.ols('int_count ~ C(initiator_author_type) * C(reciprocator_author_type) + duration_months', data=rel_df_subset).fit()\n",
    "\n",
    "anovaResults = statsmodels.stats.anova.anova_lm(md0, md1, md2, typ=1)\n",
    "print(anovaResults)"
   ]
  },
  {
   "cell_type": "code",
   "execution_count": 79,
   "metadata": {},
   "outputs": [
    {
     "data": {
      "text/html": [
       "<table class=\"simpletable\">\n",
       "<caption>OLS Regression Results</caption>\n",
       "<tr>\n",
       "  <th>Dep. Variable:</th>    <td>np.log(int_count)</td> <th>  R-squared:         </th>  <td>   0.177</td>  \n",
       "</tr>\n",
       "<tr>\n",
       "  <th>Model:</th>                   <td>OLS</td>        <th>  Adj. R-squared:    </th>  <td>   0.177</td>  \n",
       "</tr>\n",
       "<tr>\n",
       "  <th>Method:</th>             <td>Least Squares</td>   <th>  F-statistic:       </th>  <td>   2623.</td>  \n",
       "</tr>\n",
       "<tr>\n",
       "  <th>Date:</th>             <td>Mon, 01 Jun 2020</td>  <th>  Prob (F-statistic):</th>   <td>  0.00</td>   \n",
       "</tr>\n",
       "<tr>\n",
       "  <th>Time:</th>                 <td>16:04:04</td>      <th>  Log-Likelihood:    </th> <td>-1.7786e+05</td>\n",
       "</tr>\n",
       "<tr>\n",
       "  <th>No. Observations:</th>      <td>122330</td>       <th>  AIC:               </th>  <td>3.557e+05</td> \n",
       "</tr>\n",
       "<tr>\n",
       "  <th>Df Residuals:</th>          <td>122319</td>       <th>  BIC:               </th>  <td>3.558e+05</td> \n",
       "</tr>\n",
       "<tr>\n",
       "  <th>Df Model:</th>              <td>    10</td>       <th>                     </th>      <td> </td>     \n",
       "</tr>\n",
       "<tr>\n",
       "  <th>Covariance Type:</th>      <td>nonrobust</td>     <th>                     </th>      <td> </td>     \n",
       "</tr>\n",
       "</table>\n",
       "<table class=\"simpletable\">\n",
       "<tr>\n",
       "                                     <td></td>                                       <th>coef</th>     <th>std err</th>      <th>t</th>      <th>P>|t|</th>  <th>[0.025</th>    <th>0.975]</th>  \n",
       "</tr>\n",
       "<tr>\n",
       "  <th>Intercept</th>                                                              <td>    1.8381</td> <td>    0.008</td> <td>  218.377</td> <td> 0.000</td> <td>    1.822</td> <td>    1.855</td>\n",
       "</tr>\n",
       "<tr>\n",
       "  <th>C(initiator_author_type)[T.mixed]</th>                                      <td>   -0.0161</td> <td>    0.013</td> <td>   -1.228</td> <td> 0.219</td> <td>   -0.042</td> <td>    0.010</td>\n",
       "</tr>\n",
       "<tr>\n",
       "  <th>C(initiator_author_type)[T.p]</th>                                          <td>   -0.0790</td> <td>    0.010</td> <td>   -7.560</td> <td> 0.000</td> <td>   -0.099</td> <td>   -0.059</td>\n",
       "</tr>\n",
       "<tr>\n",
       "  <th>C(reciprocator_author_type)[T.mixed]</th>                                   <td>   -0.0383</td> <td>    0.014</td> <td>   -2.810</td> <td> 0.005</td> <td>   -0.065</td> <td>   -0.012</td>\n",
       "</tr>\n",
       "<tr>\n",
       "  <th>C(reciprocator_author_type)[T.p]</th>                                       <td>   -0.0231</td> <td>    0.011</td> <td>   -2.017</td> <td> 0.044</td> <td>   -0.046</td> <td>   -0.001</td>\n",
       "</tr>\n",
       "<tr>\n",
       "  <th>C(initiator_author_type)[T.mixed]:C(reciprocator_author_type)[T.mixed]</th> <td>    0.0646</td> <td>    0.035</td> <td>    1.862</td> <td> 0.063</td> <td>   -0.003</td> <td>    0.133</td>\n",
       "</tr>\n",
       "<tr>\n",
       "  <th>C(initiator_author_type)[T.p]:C(reciprocator_author_type)[T.mixed]</th>     <td>    0.1838</td> <td>    0.027</td> <td>    6.829</td> <td> 0.000</td> <td>    0.131</td> <td>    0.237</td>\n",
       "</tr>\n",
       "<tr>\n",
       "  <th>C(initiator_author_type)[T.mixed]:C(reciprocator_author_type)[T.p]</th>     <td>    0.1110</td> <td>    0.028</td> <td>    3.916</td> <td> 0.000</td> <td>    0.055</td> <td>    0.167</td>\n",
       "</tr>\n",
       "<tr>\n",
       "  <th>C(initiator_author_type)[T.p]:C(reciprocator_author_type)[T.p]</th>         <td>    0.2688</td> <td>    0.019</td> <td>   14.199</td> <td> 0.000</td> <td>    0.232</td> <td>    0.306</td>\n",
       "</tr>\n",
       "<tr>\n",
       "  <th>pct_initiator_ints_scaled</th>                                              <td>    0.0054</td> <td>    0.000</td> <td>   46.825</td> <td> 0.000</td> <td>    0.005</td> <td>    0.006</td>\n",
       "</tr>\n",
       "<tr>\n",
       "  <th>duration_months</th>                                                        <td>    0.0182</td> <td>    0.000</td> <td>  155.894</td> <td> 0.000</td> <td>    0.018</td> <td>    0.018</td>\n",
       "</tr>\n",
       "</table>\n",
       "<table class=\"simpletable\">\n",
       "<tr>\n",
       "  <th>Omnibus:</th>       <td>1442.664</td> <th>  Durbin-Watson:     </th> <td>   1.889</td> \n",
       "</tr>\n",
       "<tr>\n",
       "  <th>Prob(Omnibus):</th>  <td> 0.000</td>  <th>  Jarque-Bera (JB):  </th> <td>1427.846</td> \n",
       "</tr>\n",
       "<tr>\n",
       "  <th>Skew:</th>           <td> 0.245</td>  <th>  Prob(JB):          </th> <td>8.86e-311</td>\n",
       "</tr>\n",
       "<tr>\n",
       "  <th>Kurtosis:</th>       <td> 2.799</td>  <th>  Cond. No.          </th> <td>    872.</td> \n",
       "</tr>\n",
       "</table><br/><br/>Warnings:<br/>[1] Standard Errors assume that the covariance matrix of the errors is correctly specified."
      ],
      "text/plain": [
       "<class 'statsmodels.iolib.summary.Summary'>\n",
       "\"\"\"\n",
       "                            OLS Regression Results                            \n",
       "==============================================================================\n",
       "Dep. Variable:      np.log(int_count)   R-squared:                       0.177\n",
       "Model:                            OLS   Adj. R-squared:                  0.177\n",
       "Method:                 Least Squares   F-statistic:                     2623.\n",
       "Date:                Mon, 01 Jun 2020   Prob (F-statistic):               0.00\n",
       "Time:                        16:04:04   Log-Likelihood:            -1.7786e+05\n",
       "No. Observations:              122330   AIC:                         3.557e+05\n",
       "Df Residuals:                  122319   BIC:                         3.558e+05\n",
       "Df Model:                          10                                         \n",
       "Covariance Type:            nonrobust                                         \n",
       "==========================================================================================================================================\n",
       "                                                                             coef    std err          t      P>|t|      [0.025      0.975]\n",
       "------------------------------------------------------------------------------------------------------------------------------------------\n",
       "Intercept                                                                  1.8381      0.008    218.377      0.000       1.822       1.855\n",
       "C(initiator_author_type)[T.mixed]                                         -0.0161      0.013     -1.228      0.219      -0.042       0.010\n",
       "C(initiator_author_type)[T.p]                                             -0.0790      0.010     -7.560      0.000      -0.099      -0.059\n",
       "C(reciprocator_author_type)[T.mixed]                                      -0.0383      0.014     -2.810      0.005      -0.065      -0.012\n",
       "C(reciprocator_author_type)[T.p]                                          -0.0231      0.011     -2.017      0.044      -0.046      -0.001\n",
       "C(initiator_author_type)[T.mixed]:C(reciprocator_author_type)[T.mixed]     0.0646      0.035      1.862      0.063      -0.003       0.133\n",
       "C(initiator_author_type)[T.p]:C(reciprocator_author_type)[T.mixed]         0.1838      0.027      6.829      0.000       0.131       0.237\n",
       "C(initiator_author_type)[T.mixed]:C(reciprocator_author_type)[T.p]         0.1110      0.028      3.916      0.000       0.055       0.167\n",
       "C(initiator_author_type)[T.p]:C(reciprocator_author_type)[T.p]             0.2688      0.019     14.199      0.000       0.232       0.306\n",
       "pct_initiator_ints_scaled                                                  0.0054      0.000     46.825      0.000       0.005       0.006\n",
       "duration_months                                                            0.0182      0.000    155.894      0.000       0.018       0.018\n",
       "==============================================================================\n",
       "Omnibus:                     1442.664   Durbin-Watson:                   1.889\n",
       "Prob(Omnibus):                  0.000   Jarque-Bera (JB):             1427.846\n",
       "Skew:                           0.245   Prob(JB):                    8.86e-311\n",
       "Kurtosis:                       2.799   Cond. No.                         872.\n",
       "==============================================================================\n",
       "\n",
       "Warnings:\n",
       "[1] Standard Errors assume that the covariance matrix of the errors is correctly specified.\n",
       "\"\"\""
      ]
     },
     "execution_count": 79,
     "metadata": {},
     "output_type": "execute_result"
    }
   ],
   "source": [
    "f = f'np.log(int_count) ~ C(initiator_author_type) * C(reciprocator_author_type) + pct_initiator_ints_scaled + duration_months'\n",
    "\n",
    "model = smf.ols(formula=f, data = rel_df_subset)\n",
    "res = model.fit()\n",
    "\n",
    "log_linear_preds = res.predict(rel_df_subset)\n",
    "\n",
    "res.summary()"
   ]
  },
  {
   "cell_type": "code",
   "execution_count": 80,
   "metadata": {},
   "outputs": [
    {
     "data": {
      "text/plain": [
       "Intercept                                                                 6.284649\n",
       "C(initiator_author_type)[T.mixed]                                         0.983980\n",
       "C(initiator_author_type)[T.p]                                             0.924028\n",
       "C(reciprocator_author_type)[T.mixed]                                      0.962423\n",
       "C(reciprocator_author_type)[T.p]                                          0.977146\n",
       "C(initiator_author_type)[T.mixed]:C(reciprocator_author_type)[T.mixed]    1.066755\n",
       "C(initiator_author_type)[T.p]:C(reciprocator_author_type)[T.mixed]        1.201806\n",
       "C(initiator_author_type)[T.mixed]:C(reciprocator_author_type)[T.p]        1.117440\n",
       "C(initiator_author_type)[T.p]:C(reciprocator_author_type)[T.p]            1.308349\n",
       "pct_initiator_ints_scaled                                                 1.005457\n",
       "duration_months                                                           1.018333\n",
       "dtype: float64"
      ]
     },
     "execution_count": 80,
     "metadata": {},
     "output_type": "execute_result"
    }
   ],
   "source": [
    "np.exp(res.params)"
   ]
  },
  {
   "cell_type": "code",
   "execution_count": 81,
   "metadata": {},
   "outputs": [
    {
     "data": {
      "image/png": "[encoded data removed]",
      "text/plain": [
       "<Figure size 432x288 with 1 Axes>"
      ]
     },
     "metadata": {
      "needs_background": "light"
     },
     "output_type": "display_data"
    }
   ],
   "source": [
    "resid = rel_df_subset.int_count - log_linear_preds\n",
    "plt.scatter(log_linear_preds, resid, alpha=0.1)\n",
    "plt.show()"
   ]
  },
  {
   "cell_type": "code",
   "execution_count": 82,
   "metadata": {},
   "outputs": [
    {
     "data": {
      "image/png": "[encoded data removed]",
      "text/plain": [
       "<Figure size 432x288 with 1 Axes>"
      ]
     },
     "metadata": {
      "needs_background": "light"
     },
     "output_type": "display_data"
    }
   ],
   "source": [
    "resid = rel_df_subset.int_count - log_linear_preds\n",
    "plt.hist2d(log_linear_preds, resid)\n",
    "plt.show()"
   ]
  },
  {
   "cell_type": "code",
   "execution_count": 83,
   "metadata": {},
   "outputs": [
    {
     "data": {
      "text/html": [
       "<table class=\"simpletable\">\n",
       "<caption>OLS Regression Results</caption>\n",
       "<tr>\n",
       "  <th>Dep. Variable:</th>        <td>int_count</td>    <th>  R-squared:         </th>  <td>   0.112</td>  \n",
       "</tr>\n",
       "<tr>\n",
       "  <th>Model:</th>                   <td>OLS</td>       <th>  Adj. R-squared:    </th>  <td>   0.112</td>  \n",
       "</tr>\n",
       "<tr>\n",
       "  <th>Method:</th>             <td>Least Squares</td>  <th>  F-statistic:       </th>  <td>   1546.</td>  \n",
       "</tr>\n",
       "<tr>\n",
       "  <th>Date:</th>             <td>Mon, 01 Jun 2020</td> <th>  Prob (F-statistic):</th>   <td>  0.00</td>   \n",
       "</tr>\n",
       "<tr>\n",
       "  <th>Time:</th>                 <td>16:04:07</td>     <th>  Log-Likelihood:    </th> <td>-6.2146e+05</td>\n",
       "</tr>\n",
       "<tr>\n",
       "  <th>No. Observations:</th>      <td>122330</td>      <th>  AIC:               </th>  <td>1.243e+06</td> \n",
       "</tr>\n",
       "<tr>\n",
       "  <th>Df Residuals:</th>          <td>122319</td>      <th>  BIC:               </th>  <td>1.243e+06</td> \n",
       "</tr>\n",
       "<tr>\n",
       "  <th>Df Model:</th>              <td>    10</td>      <th>                     </th>      <td> </td>     \n",
       "</tr>\n",
       "<tr>\n",
       "  <th>Covariance Type:</th>      <td>nonrobust</td>    <th>                     </th>      <td> </td>     \n",
       "</tr>\n",
       "</table>\n",
       "<table class=\"simpletable\">\n",
       "<tr>\n",
       "                                     <td></td>                                       <th>coef</th>     <th>std err</th>      <th>t</th>      <th>P>|t|</th>  <th>[0.025</th>    <th>0.975]</th>  \n",
       "</tr>\n",
       "<tr>\n",
       "  <th>Intercept</th>                                                              <td>    6.7311</td> <td>    0.316</td> <td>   21.284</td> <td> 0.000</td> <td>    6.111</td> <td>    7.351</td>\n",
       "</tr>\n",
       "<tr>\n",
       "  <th>C(initiator_author_type)[T.mixed]</th>                                      <td>   -1.2250</td> <td>    0.494</td> <td>   -2.479</td> <td> 0.013</td> <td>   -2.193</td> <td>   -0.257</td>\n",
       "</tr>\n",
       "<tr>\n",
       "  <th>C(initiator_author_type)[T.p]</th>                                          <td>   -3.3060</td> <td>    0.393</td> <td>   -8.418</td> <td> 0.000</td> <td>   -4.076</td> <td>   -2.536</td>\n",
       "</tr>\n",
       "<tr>\n",
       "  <th>C(reciprocator_author_type)[T.mixed]</th>                                   <td>   -2.6215</td> <td>    0.512</td> <td>   -5.119</td> <td> 0.000</td> <td>   -3.625</td> <td>   -1.618</td>\n",
       "</tr>\n",
       "<tr>\n",
       "  <th>C(reciprocator_author_type)[T.p]</th>                                       <td>   -2.9369</td> <td>    0.431</td> <td>   -6.818</td> <td> 0.000</td> <td>   -3.781</td> <td>   -2.093</td>\n",
       "</tr>\n",
       "<tr>\n",
       "  <th>C(initiator_author_type)[T.mixed]:C(reciprocator_author_type)[T.mixed]</th> <td>    2.1442</td> <td>    1.304</td> <td>    1.644</td> <td> 0.100</td> <td>   -0.412</td> <td>    4.700</td>\n",
       "</tr>\n",
       "<tr>\n",
       "  <th>C(initiator_author_type)[T.p]:C(reciprocator_author_type)[T.mixed]</th>     <td>    5.2252</td> <td>    1.011</td> <td>    5.166</td> <td> 0.000</td> <td>    3.243</td> <td>    7.208</td>\n",
       "</tr>\n",
       "<tr>\n",
       "  <th>C(initiator_author_type)[T.mixed]:C(reciprocator_author_type)[T.p]</th>     <td>    2.7026</td> <td>    1.065</td> <td>    2.537</td> <td> 0.011</td> <td>    0.614</td> <td>    4.791</td>\n",
       "</tr>\n",
       "<tr>\n",
       "  <th>C(initiator_author_type)[T.p]:C(reciprocator_author_type)[T.p]</th>         <td>    6.6280</td> <td>    0.711</td> <td>    9.320</td> <td> 0.000</td> <td>    5.234</td> <td>    8.022</td>\n",
       "</tr>\n",
       "<tr>\n",
       "  <th>pct_initiator_ints_scaled</th>                                              <td>    0.1311</td> <td>    0.004</td> <td>   30.023</td> <td> 0.000</td> <td>    0.123</td> <td>    0.140</td>\n",
       "</tr>\n",
       "<tr>\n",
       "  <th>duration_months</th>                                                        <td>    0.5295</td> <td>    0.004</td> <td>  120.941</td> <td> 0.000</td> <td>    0.521</td> <td>    0.538</td>\n",
       "</tr>\n",
       "</table>\n",
       "<table class=\"simpletable\">\n",
       "<tr>\n",
       "  <th>Omnibus:</th>       <td>88617.263</td> <th>  Durbin-Watson:     </th>  <td>   1.893</td>  \n",
       "</tr>\n",
       "<tr>\n",
       "  <th>Prob(Omnibus):</th>  <td> 0.000</td>   <th>  Jarque-Bera (JB):  </th> <td>1527583.459</td>\n",
       "</tr>\n",
       "<tr>\n",
       "  <th>Skew:</th>           <td> 3.389</td>   <th>  Prob(JB):          </th>  <td>    0.00</td>  \n",
       "</tr>\n",
       "<tr>\n",
       "  <th>Kurtosis:</th>       <td>18.930</td>   <th>  Cond. No.          </th>  <td>    872.</td>  \n",
       "</tr>\n",
       "</table><br/><br/>Warnings:<br/>[1] Standard Errors assume that the covariance matrix of the errors is correctly specified."
      ],
      "text/plain": [
       "<class 'statsmodels.iolib.summary.Summary'>\n",
       "\"\"\"\n",
       "                            OLS Regression Results                            \n",
       "==============================================================================\n",
       "Dep. Variable:              int_count   R-squared:                       0.112\n",
       "Model:                            OLS   Adj. R-squared:                  0.112\n",
       "Method:                 Least Squares   F-statistic:                     1546.\n",
       "Date:                Mon, 01 Jun 2020   Prob (F-statistic):               0.00\n",
       "Time:                        16:04:07   Log-Likelihood:            -6.2146e+05\n",
       "No. Observations:              122330   AIC:                         1.243e+06\n",
       "Df Residuals:                  122319   BIC:                         1.243e+06\n",
       "Df Model:                          10                                         \n",
       "Covariance Type:            nonrobust                                         \n",
       "==========================================================================================================================================\n",
       "                                                                             coef    std err          t      P>|t|      [0.025      0.975]\n",
       "------------------------------------------------------------------------------------------------------------------------------------------\n",
       "Intercept                                                                  6.7311      0.316     21.284      0.000       6.111       7.351\n",
       "C(initiator_author_type)[T.mixed]                                         -1.2250      0.494     -2.479      0.013      -2.193      -0.257\n",
       "C(initiator_author_type)[T.p]                                             -3.3060      0.393     -8.418      0.000      -4.076      -2.536\n",
       "C(reciprocator_author_type)[T.mixed]                                      -2.6215      0.512     -5.119      0.000      -3.625      -1.618\n",
       "C(reciprocator_author_type)[T.p]                                          -2.9369      0.431     -6.818      0.000      -3.781      -2.093\n",
       "C(initiator_author_type)[T.mixed]:C(reciprocator_author_type)[T.mixed]     2.1442      1.304      1.644      0.100      -0.412       4.700\n",
       "C(initiator_author_type)[T.p]:C(reciprocator_author_type)[T.mixed]         5.2252      1.011      5.166      0.000       3.243       7.208\n",
       "C(initiator_author_type)[T.mixed]:C(reciprocator_author_type)[T.p]         2.7026      1.065      2.537      0.011       0.614       4.791\n",
       "C(initiator_author_type)[T.p]:C(reciprocator_author_type)[T.p]             6.6280      0.711      9.320      0.000       5.234       8.022\n",
       "pct_initiator_ints_scaled                                                  0.1311      0.004     30.023      0.000       0.123       0.140\n",
       "duration_months                                                            0.5295      0.004    120.941      0.000       0.521       0.538\n",
       "==============================================================================\n",
       "Omnibus:                    88617.263   Durbin-Watson:                   1.893\n",
       "Prob(Omnibus):                  0.000   Jarque-Bera (JB):          1527583.459\n",
       "Skew:                           3.389   Prob(JB):                         0.00\n",
       "Kurtosis:                      18.930   Cond. No.                         872.\n",
       "==============================================================================\n",
       "\n",
       "Warnings:\n",
       "[1] Standard Errors assume that the covariance matrix of the errors is correctly specified.\n",
       "\"\"\""
      ]
     },
     "execution_count": 83,
     "metadata": {},
     "output_type": "execute_result"
    }
   ],
   "source": [
    "f = f'int_count ~ C(initiator_author_type) * C(reciprocator_author_type) + pct_initiator_ints_scaled + duration_months'\n",
    "\n",
    "model = smf.ols(formula=f, data = rel_df_subset)\n",
    "res = model.fit()\n",
    "res.summary()"
   ]
  },
  {
   "cell_type": "code",
   "execution_count": 84,
   "metadata": {},
   "outputs": [
    {
     "data": {
      "image/png": "[encoded data removed]",
      "text/plain": [
       "<Figure size 432x288 with 1 Axes>"
      ]
     },
     "metadata": {
      "needs_background": "light"
     },
     "output_type": "display_data"
    },
    {
     "data": {
      "text/plain": [
       "array([    5,   395,  3223,  9767, 12720, 14804, 13845, 11843,  9804,\n",
       "        8165,  7021,  5698,  4751,  3905,  3371,  2718,  2239,  1767,\n",
       "        1437,  1109,   929,   667,   568,   418,   345,   253,   194,\n",
       "         133,    85,    71,    39,    22,     6,     8,     5,     0,\n",
       "           0,     0,     0,     0,     0,     0,     0,     0,     0,\n",
       "           0,     0,     0,     0,     0])"
      ]
     },
     "execution_count": 84,
     "metadata": {},
     "output_type": "execute_result"
    }
   ],
   "source": [
    "# linear model fit to the data, consistently overestimates\n",
    "linear_preds = res.predict(rel_df_subset)\n",
    "_, bins, _ = plt.hist(rel_df_subset.int_count, bins=50, log=False, range=(2, 150))\n",
    "plt.title(\"Distribution of outcome (i.e. total relationship interactions)\")\n",
    "pred_density, _ = np.histogram(linear_preds, bins=bins)\n",
    "#bins = np.linspace(2, 300, num=300)\n",
    "#pred_density, _ = np.histogram(preds, bins=bins)\n",
    "plt.plot(bins, pred_density.tolist() + [0,])\n",
    "plt.show()\n",
    "pred_density"
   ]
  },
  {
   "cell_type": "code",
   "execution_count": 85,
   "metadata": {},
   "outputs": [
    {
     "data": {
      "image/png": "[encoded data removed]",
      "text/plain": [
       "<Figure size 432x288 with 1 Axes>"
      ]
     },
     "metadata": {
      "needs_background": "light"
     },
     "output_type": "display_data"
    }
   ],
   "source": [
    "plt.scatter(rel_df_subset.int_count, linear_preds, alpha=0.4)\n",
    "plt.show()"
   ]
  },
  {
   "cell_type": "code",
   "execution_count": 86,
   "metadata": {},
   "outputs": [
    {
     "data": {
      "image/png": "[encoded data removed]",
      "text/plain": [
       "<Figure size 432x288 with 1 Axes>"
      ]
     },
     "metadata": {
      "needs_background": "light"
     },
     "output_type": "display_data"
    }
   ],
   "source": [
    "resid = rel_df_subset.int_count - linear_preds\n",
    "plt.scatter(linear_preds, resid, alpha=0.1)\n",
    "plt.show()"
   ]
  },
  {
   "cell_type": "code",
   "execution_count": 87,
   "metadata": {},
   "outputs": [],
   "source": [
    "#for line in res.summary2().as_latex().split(\"\\n\"):\n",
    "#    line = line.replace(\"\\_\", \"-\").replace(\"_\", \"-\")\n",
    "#    print(line)"
   ]
  },
  {
   "cell_type": "code",
   "execution_count": 88,
   "metadata": {},
   "outputs": [
    {
     "data": {
      "text/html": [
       "<table class=\"simpletable\">\n",
       "<caption>OLS Regression Results</caption>\n",
       "<tr>\n",
       "  <th>Dep. Variable:</th>        <td>int_count</td>    <th>  R-squared:         </th>  <td>   0.112</td>  \n",
       "</tr>\n",
       "<tr>\n",
       "  <th>Model:</th>                   <td>OLS</td>       <th>  Adj. R-squared:    </th>  <td>   0.112</td>  \n",
       "</tr>\n",
       "<tr>\n",
       "  <th>Method:</th>             <td>Least Squares</td>  <th>  F-statistic:       </th>  <td>   5144.</td>  \n",
       "</tr>\n",
       "<tr>\n",
       "  <th>Date:</th>             <td>Mon, 01 Jun 2020</td> <th>  Prob (F-statistic):</th>   <td>  0.00</td>   \n",
       "</tr>\n",
       "<tr>\n",
       "  <th>Time:</th>                 <td>16:04:11</td>     <th>  Log-Likelihood:    </th> <td>-6.2147e+05</td>\n",
       "</tr>\n",
       "<tr>\n",
       "  <th>No. Observations:</th>      <td>122330</td>      <th>  AIC:               </th>  <td>1.243e+06</td> \n",
       "</tr>\n",
       "<tr>\n",
       "  <th>Df Residuals:</th>          <td>122326</td>      <th>  BIC:               </th>  <td>1.243e+06</td> \n",
       "</tr>\n",
       "<tr>\n",
       "  <th>Df Model:</th>              <td>     3</td>      <th>                     </th>      <td> </td>     \n",
       "</tr>\n",
       "<tr>\n",
       "  <th>Covariance Type:</th>      <td>nonrobust</td>    <th>                     </th>      <td> </td>     \n",
       "</tr>\n",
       "</table>\n",
       "<table class=\"simpletable\">\n",
       "<tr>\n",
       "              <td></td>                 <th>coef</th>     <th>std err</th>      <th>t</th>      <th>P>|t|</th>  <th>[0.025</th>    <th>0.975]</th>  \n",
       "</tr>\n",
       "<tr>\n",
       "  <th>Intercept</th>                 <td>    4.2785</td> <td>    0.345</td> <td>   12.400</td> <td> 0.000</td> <td>    3.602</td> <td>    4.955</td>\n",
       "</tr>\n",
       "<tr>\n",
       "  <th>is_author_type_shared</th>     <td>    2.4786</td> <td>    0.240</td> <td>   10.307</td> <td> 0.000</td> <td>    2.007</td> <td>    2.950</td>\n",
       "</tr>\n",
       "<tr>\n",
       "  <th>pct_initiator_ints_scaled</th> <td>    0.1310</td> <td>    0.004</td> <td>   30.009</td> <td> 0.000</td> <td>    0.122</td> <td>    0.140</td>\n",
       "</tr>\n",
       "<tr>\n",
       "  <th>duration_months</th>           <td>    0.5292</td> <td>    0.004</td> <td>  120.944</td> <td> 0.000</td> <td>    0.521</td> <td>    0.538</td>\n",
       "</tr>\n",
       "</table>\n",
       "<table class=\"simpletable\">\n",
       "<tr>\n",
       "  <th>Omnibus:</th>       <td>88606.058</td> <th>  Durbin-Watson:     </th>  <td>   1.894</td>  \n",
       "</tr>\n",
       "<tr>\n",
       "  <th>Prob(Omnibus):</th>  <td> 0.000</td>   <th>  Jarque-Bera (JB):  </th> <td>1526758.061</td>\n",
       "</tr>\n",
       "<tr>\n",
       "  <th>Skew:</th>           <td> 3.389</td>   <th>  Prob(JB):          </th>  <td>    0.00</td>  \n",
       "</tr>\n",
       "<tr>\n",
       "  <th>Kurtosis:</th>       <td>18.925</td>   <th>  Cond. No.          </th>  <td>    229.</td>  \n",
       "</tr>\n",
       "</table><br/><br/>Warnings:<br/>[1] Standard Errors assume that the covariance matrix of the errors is correctly specified."
      ],
      "text/plain": [
       "<class 'statsmodels.iolib.summary.Summary'>\n",
       "\"\"\"\n",
       "                            OLS Regression Results                            \n",
       "==============================================================================\n",
       "Dep. Variable:              int_count   R-squared:                       0.112\n",
       "Model:                            OLS   Adj. R-squared:                  0.112\n",
       "Method:                 Least Squares   F-statistic:                     5144.\n",
       "Date:                Mon, 01 Jun 2020   Prob (F-statistic):               0.00\n",
       "Time:                        16:04:11   Log-Likelihood:            -6.2147e+05\n",
       "No. Observations:              122330   AIC:                         1.243e+06\n",
       "Df Residuals:                  122326   BIC:                         1.243e+06\n",
       "Df Model:                           3                                         \n",
       "Covariance Type:            nonrobust                                         \n",
       "=============================================================================================\n",
       "                                coef    std err          t      P>|t|      [0.025      0.975]\n",
       "---------------------------------------------------------------------------------------------\n",
       "Intercept                     4.2785      0.345     12.400      0.000       3.602       4.955\n",
       "is_author_type_shared         2.4786      0.240     10.307      0.000       2.007       2.950\n",
       "pct_initiator_ints_scaled     0.1310      0.004     30.009      0.000       0.122       0.140\n",
       "duration_months               0.5292      0.004    120.944      0.000       0.521       0.538\n",
       "==============================================================================\n",
       "Omnibus:                    88606.058   Durbin-Watson:                   1.894\n",
       "Prob(Omnibus):                  0.000   Jarque-Bera (JB):          1526758.061\n",
       "Skew:                           3.389   Prob(JB):                         0.00\n",
       "Kurtosis:                      18.925   Cond. No.                         229.\n",
       "==============================================================================\n",
       "\n",
       "Warnings:\n",
       "[1] Standard Errors assume that the covariance matrix of the errors is correctly specified.\n",
       "\"\"\""
      ]
     },
     "execution_count": 88,
     "metadata": {},
     "output_type": "execute_result"
    }
   ],
   "source": [
    "f = f'int_count ~ is_author_type_shared + pct_initiator_ints_scaled + duration_months'\n",
    "#rel_df_subset.loc[:, 'is_author_type_shared'] = (rel_df_subset.initiator_author_type == rel_df_subset.reciprocator_author_type).astype(int)\n",
    "model = smf.ols(formula=f, data = rel_df_subset)\n",
    "res = model.fit()\n",
    "res.summary()"
   ]
  },
  {
   "cell_type": "code",
   "execution_count": null,
   "metadata": {},
   "outputs": [],
   "source": []
  },
  {
   "cell_type": "markdown",
   "metadata": {},
   "source": [
    "#### Actually doing Poisson regression"
   ]
  },
  {
   "cell_type": "code",
   "execution_count": 89,
   "metadata": {},
   "outputs": [
    {
     "name": "stdout",
     "output_type": "stream",
     "text": [
      "Optimization terminated successfully.\n",
      "         Current function value: 17.877967\n",
      "         Iterations 6\n"
     ]
    },
    {
     "data": {
      "text/html": [
       "<table class=\"simpletable\">\n",
       "<caption>Poisson Regression Results</caption>\n",
       "<tr>\n",
       "  <th>Dep. Variable:</th>       <td>int_count</td>    <th>  No. Observations:  </th>   <td>122330</td>   \n",
       "</tr>\n",
       "<tr>\n",
       "  <th>Model:</th>                <td>Poisson</td>     <th>  Df Residuals:      </th>   <td>122319</td>   \n",
       "</tr>\n",
       "<tr>\n",
       "  <th>Method:</th>                 <td>MLE</td>       <th>  Df Model:          </th>   <td>    10</td>   \n",
       "</tr>\n",
       "<tr>\n",
       "  <th>Date:</th>            <td>Mon, 01 Jun 2020</td> <th>  Pseudo R-squ.:     </th>   <td>0.1391</td>   \n",
       "</tr>\n",
       "<tr>\n",
       "  <th>Time:</th>                <td>16:04:13</td>     <th>  Log-Likelihood:    </th> <td>-2.1870e+06</td>\n",
       "</tr>\n",
       "<tr>\n",
       "  <th>converged:</th>             <td>True</td>       <th>  LL-Null:           </th> <td>-2.5403e+06</td>\n",
       "</tr>\n",
       "<tr>\n",
       "  <th>Covariance Type:</th>     <td>nonrobust</td>    <th>  LLR p-value:       </th>   <td> 0.000</td>   \n",
       "</tr>\n",
       "</table>\n",
       "<table class=\"simpletable\">\n",
       "<tr>\n",
       "                                     <td></td>                                       <th>coef</th>     <th>std err</th>      <th>z</th>      <th>P>|z|</th>  <th>[0.025</th>    <th>0.975]</th>  \n",
       "</tr>\n",
       "<tr>\n",
       "  <th>Intercept</th>                                                              <td>    2.6095</td> <td>    0.002</td> <td> 1633.235</td> <td> 0.000</td> <td>    2.606</td> <td>    2.613</td>\n",
       "</tr>\n",
       "<tr>\n",
       "  <th>C(initiator_author_type)[T.mixed]</th>                                      <td>   -0.0488</td> <td>    0.002</td> <td>  -19.888</td> <td> 0.000</td> <td>   -0.054</td> <td>   -0.044</td>\n",
       "</tr>\n",
       "<tr>\n",
       "  <th>C(initiator_author_type)[T.p]</th>                                          <td>   -0.1165</td> <td>    0.002</td> <td>  -59.060</td> <td> 0.000</td> <td>   -0.120</td> <td>   -0.113</td>\n",
       "</tr>\n",
       "<tr>\n",
       "  <th>C(reciprocator_author_type)[T.mixed]</th>                                   <td>   -0.0932</td> <td>    0.003</td> <td>  -36.363</td> <td> 0.000</td> <td>   -0.098</td> <td>   -0.088</td>\n",
       "</tr>\n",
       "<tr>\n",
       "  <th>C(reciprocator_author_type)[T.p]</th>                                       <td>   -0.1042</td> <td>    0.002</td> <td>  -47.686</td> <td> 0.000</td> <td>   -0.108</td> <td>   -0.100</td>\n",
       "</tr>\n",
       "<tr>\n",
       "  <th>C(initiator_author_type)[T.mixed]:C(reciprocator_author_type)[T.mixed]</th> <td>    0.0718</td> <td>    0.007</td> <td>   10.903</td> <td> 0.000</td> <td>    0.059</td> <td>    0.085</td>\n",
       "</tr>\n",
       "<tr>\n",
       "  <th>C(initiator_author_type)[T.p]:C(reciprocator_author_type)[T.mixed]</th>     <td>    0.1871</td> <td>    0.005</td> <td>   37.488</td> <td> 0.000</td> <td>    0.177</td> <td>    0.197</td>\n",
       "</tr>\n",
       "<tr>\n",
       "  <th>C(initiator_author_type)[T.mixed]:C(reciprocator_author_type)[T.p]</th>     <td>    0.1081</td> <td>    0.005</td> <td>   20.125</td> <td> 0.000</td> <td>    0.098</td> <td>    0.119</td>\n",
       "</tr>\n",
       "<tr>\n",
       "  <th>C(initiator_author_type)[T.p]:C(reciprocator_author_type)[T.p]</th>         <td>    0.2393</td> <td>    0.004</td> <td>   67.145</td> <td> 0.000</td> <td>    0.232</td> <td>    0.246</td>\n",
       "</tr>\n",
       "<tr>\n",
       "  <th>pct_initiator_ints_scaled</th>                                              <td>    0.0045</td> <td> 2.09e-05</td> <td>  215.369</td> <td> 0.000</td> <td>    0.004</td> <td>    0.005</td>\n",
       "</tr>\n",
       "<tr>\n",
       "  <th>duration_months</th>                                                        <td>    0.0146</td> <td> 1.66e-05</td> <td>  878.807</td> <td> 0.000</td> <td>    0.015</td> <td>    0.015</td>\n",
       "</tr>\n",
       "</table>"
      ],
      "text/plain": [
       "<class 'statsmodels.iolib.summary.Summary'>\n",
       "\"\"\"\n",
       "                          Poisson Regression Results                          \n",
       "==============================================================================\n",
       "Dep. Variable:              int_count   No. Observations:               122330\n",
       "Model:                        Poisson   Df Residuals:                   122319\n",
       "Method:                           MLE   Df Model:                           10\n",
       "Date:                Mon, 01 Jun 2020   Pseudo R-squ.:                  0.1391\n",
       "Time:                        16:04:13   Log-Likelihood:            -2.1870e+06\n",
       "converged:                       True   LL-Null:                   -2.5403e+06\n",
       "Covariance Type:            nonrobust   LLR p-value:                     0.000\n",
       "==========================================================================================================================================\n",
       "                                                                             coef    std err          z      P>|z|      [0.025      0.975]\n",
       "------------------------------------------------------------------------------------------------------------------------------------------\n",
       "Intercept                                                                  2.6095      0.002   1633.235      0.000       2.606       2.613\n",
       "C(initiator_author_type)[T.mixed]                                         -0.0488      0.002    -19.888      0.000      -0.054      -0.044\n",
       "C(initiator_author_type)[T.p]                                             -0.1165      0.002    -59.060      0.000      -0.120      -0.113\n",
       "C(reciprocator_author_type)[T.mixed]                                      -0.0932      0.003    -36.363      0.000      -0.098      -0.088\n",
       "C(reciprocator_author_type)[T.p]                                          -0.1042      0.002    -47.686      0.000      -0.108      -0.100\n",
       "C(initiator_author_type)[T.mixed]:C(reciprocator_author_type)[T.mixed]     0.0718      0.007     10.903      0.000       0.059       0.085\n",
       "C(initiator_author_type)[T.p]:C(reciprocator_author_type)[T.mixed]         0.1871      0.005     37.488      0.000       0.177       0.197\n",
       "C(initiator_author_type)[T.mixed]:C(reciprocator_author_type)[T.p]         0.1081      0.005     20.125      0.000       0.098       0.119\n",
       "C(initiator_author_type)[T.p]:C(reciprocator_author_type)[T.p]             0.2393      0.004     67.145      0.000       0.232       0.246\n",
       "pct_initiator_ints_scaled                                                  0.0045   2.09e-05    215.369      0.000       0.004       0.005\n",
       "duration_months                                                            0.0146   1.66e-05    878.807      0.000       0.015       0.015\n",
       "==========================================================================================================================================\n",
       "\"\"\""
      ]
     },
     "execution_count": 89,
     "metadata": {},
     "output_type": "execute_result"
    }
   ],
   "source": [
    "f = f'int_count ~ C(initiator_author_type) * C(reciprocator_author_type) + pct_initiator_ints_scaled + duration_months'\n",
    "\n",
    "model = smf.poisson(formula=f, data = rel_df_subset)\n",
    "res = model.fit()\n",
    "res.summary()"
   ]
  },
  {
   "cell_type": "code",
   "execution_count": 90,
   "metadata": {},
   "outputs": [
    {
     "data": {
      "text/plain": [
       "Intercept                                                                 13.591770\n",
       "C(initiator_author_type)[T.mixed]                                          0.952372\n",
       "C(initiator_author_type)[T.p]                                              0.889994\n",
       "C(reciprocator_author_type)[T.mixed]                                       0.911019\n",
       "C(reciprocator_author_type)[T.p]                                           0.901079\n",
       "C(initiator_author_type)[T.mixed]:C(reciprocator_author_type)[T.mixed]     1.074420\n",
       "C(initiator_author_type)[T.p]:C(reciprocator_author_type)[T.mixed]         1.205692\n",
       "C(initiator_author_type)[T.mixed]:C(reciprocator_author_type)[T.p]         1.114106\n",
       "C(initiator_author_type)[T.p]:C(reciprocator_author_type)[T.p]             1.270329\n",
       "pct_initiator_ints_scaled                                                  1.004518\n",
       "duration_months                                                            1.014723\n",
       "dtype: float64"
      ]
     },
     "execution_count": 90,
     "metadata": {},
     "output_type": "execute_result"
    }
   ],
   "source": [
    "np.exp(res.params)"
   ]
  },
  {
   "cell_type": "code",
   "execution_count": 91,
   "metadata": {},
   "outputs": [
    {
     "data": {
      "text/plain": [
       "1.0"
      ]
     },
     "execution_count": 91,
     "metadata": {},
     "output_type": "execute_result"
    }
   ],
   "source": [
    "# dispersion is assumed to be 1 by poisson regression\n",
    "res.scale"
   ]
  },
  {
   "cell_type": "code",
   "execution_count": 92,
   "metadata": {},
   "outputs": [
    {
     "data": {
      "image/png": "[encoded data removed]",
      "text/plain": [
       "<Figure size 432x288 with 1 Axes>"
      ]
     },
     "metadata": {
      "needs_background": "light"
     },
     "output_type": "display_data"
    },
    {
     "data": {
      "text/plain": [
       "array([    0,     0,     0,   282,  9783, 25101, 22867, 16146, 11150,\n",
       "        8120,  5836,  4415,  3447,  2733,  2187,  1697,  1387,  1117,\n",
       "         914,   739,   632,   562,   392,   432,   282,   266,   228,\n",
       "         207,   147,   175,   131,   121,   108,    78,    85,    72,\n",
       "          67,    57,    49,    29,    42,    33,    23,    20,    24,\n",
       "          16,    22,    16,    14,    10])"
      ]
     },
     "execution_count": 92,
     "metadata": {},
     "output_type": "execute_result"
    }
   ],
   "source": [
    "# the poisson model consistently overestimates the counts\n",
    "_, bins, _ = plt.hist(rel_df_subset.int_count, bins=50, log=False, range=(2, 150))\n",
    "plt.title(\"Distribution of outcome (i.e. total relationship interactions)\")\n",
    "poisson_preds = res.predict(rel_df_subset)\n",
    "pred_density, _ = np.histogram(poisson_preds, bins=bins)\n",
    "#bins = np.linspace(2, 300, num=300)\n",
    "#pred_density, _ = np.histogram(preds, bins=bins)\n",
    "plt.plot(bins, pred_density.tolist() + [0,], label='Poisson')\n",
    "\n",
    "#\n",
    "linear_pred_density, _ = np.histogram(linear_preds, bins=bins)\n",
    "plt.plot(bins, linear_pred_density.tolist() + [0,], label='Linear')\n",
    "\n",
    "log_linear_pred_density, _ = np.histogram(np.exp(log_linear_preds), bins=bins)\n",
    "plt.plot(bins, log_linear_pred_density.tolist() + [0,], label='Log Linear')\n",
    "\n",
    "\n",
    "plt.legend()\n",
    "\n",
    "plt.show()\n",
    "pred_density"
   ]
  },
  {
   "cell_type": "code",
   "execution_count": 93,
   "metadata": {},
   "outputs": [
    {
     "data": {
      "image/png": "[encoded data removed]",
      "text/plain": [
       "<Figure size 432x288 with 1 Axes>"
      ]
     },
     "metadata": {
      "needs_background": "light"
     },
     "output_type": "display_data"
    }
   ],
   "source": [
    "resid = rel_df_subset.int_count - poisson_preds\n",
    "plt.scatter(poisson_preds, resid, alpha=0.01)\n",
    "plt.show()"
   ]
  },
  {
   "cell_type": "code",
   "execution_count": 94,
   "metadata": {},
   "outputs": [
    {
     "name": "stderr",
     "output_type": "stream",
     "text": [
      "/home/srivbane/shared/anaconda3/lib/python3.7/site-packages/ipykernel_launcher.py:2: SettingWithCopyWarning: \n",
      "A value is trying to be set on a copy of a slice from a DataFrame.\n",
      "Try using .loc[row_indexer,col_indexer] = value instead\n",
      "\n",
      "See the caveats in the documentation: https://pandas.pydata.org/pandas-docs/stable/user_guide/indexing.html#returning-a-view-versus-a-copy\n",
      "  \n"
     ]
    },
    {
     "name": "stdout",
     "output_type": "stream",
     "text": [
      "Optimization terminated successfully.\n",
      "         Current function value: 19.124200\n",
      "         Iterations 6\n"
     ]
    },
    {
     "data": {
      "text/html": [
       "<table class=\"simpletable\">\n",
       "<caption>Poisson Regression Results</caption>\n",
       "<tr>\n",
       "  <th>Dep. Variable:</th>   <td>int_count_beyond_initial</td> <th>  No. Observations:  </th>   <td>122330</td>   \n",
       "</tr>\n",
       "<tr>\n",
       "  <th>Model:</th>                    <td>Poisson</td>         <th>  Df Residuals:      </th>   <td>122319</td>   \n",
       "</tr>\n",
       "<tr>\n",
       "  <th>Method:</th>                     <td>MLE</td>           <th>  Df Model:          </th>   <td>    10</td>   \n",
       "</tr>\n",
       "<tr>\n",
       "  <th>Date:</th>                <td>Mon, 01 Jun 2020</td>     <th>  Pseudo R-squ.:     </th>   <td>0.1386</td>   \n",
       "</tr>\n",
       "<tr>\n",
       "  <th>Time:</th>                    <td>16:04:18</td>         <th>  Log-Likelihood:    </th> <td>-2.3395e+06</td>\n",
       "</tr>\n",
       "<tr>\n",
       "  <th>converged:</th>                 <td>True</td>           <th>  LL-Null:           </th> <td>-2.7160e+06</td>\n",
       "</tr>\n",
       "<tr>\n",
       "  <th>Covariance Type:</th>         <td>nonrobust</td>        <th>  LLR p-value:       </th>   <td> 0.000</td>   \n",
       "</tr>\n",
       "</table>\n",
       "<table class=\"simpletable\">\n",
       "<tr>\n",
       "                                     <td></td>                                       <th>coef</th>     <th>std err</th>      <th>z</th>      <th>P>|z|</th>  <th>[0.025</th>    <th>0.975]</th>  \n",
       "</tr>\n",
       "<tr>\n",
       "  <th>Intercept</th>                                                              <td>    2.4815</td> <td>    0.002</td> <td> 1491.318</td> <td> 0.000</td> <td>    2.478</td> <td>    2.485</td>\n",
       "</tr>\n",
       "<tr>\n",
       "  <th>C(initiator_author_type)[T.mixed]</th>                                      <td>   -0.0529</td> <td>    0.003</td> <td>  -20.743</td> <td> 0.000</td> <td>   -0.058</td> <td>   -0.048</td>\n",
       "</tr>\n",
       "<tr>\n",
       "  <th>C(initiator_author_type)[T.p]</th>                                          <td>   -0.1254</td> <td>    0.002</td> <td>  -61.050</td> <td> 0.000</td> <td>   -0.129</td> <td>   -0.121</td>\n",
       "</tr>\n",
       "<tr>\n",
       "  <th>C(reciprocator_author_type)[T.mixed]</th>                                   <td>   -0.1003</td> <td>    0.003</td> <td>  -37.630</td> <td> 0.000</td> <td>   -0.106</td> <td>   -0.095</td>\n",
       "</tr>\n",
       "<tr>\n",
       "  <th>C(reciprocator_author_type)[T.p]</th>                                       <td>   -0.1122</td> <td>    0.002</td> <td>  -49.304</td> <td> 0.000</td> <td>   -0.117</td> <td>   -0.108</td>\n",
       "</tr>\n",
       "<tr>\n",
       "  <th>C(initiator_author_type)[T.mixed]:C(reciprocator_author_type)[T.mixed]</th> <td>    0.0769</td> <td>    0.007</td> <td>   11.215</td> <td> 0.000</td> <td>    0.063</td> <td>    0.090</td>\n",
       "</tr>\n",
       "<tr>\n",
       "  <th>C(initiator_author_type)[T.p]:C(reciprocator_author_type)[T.mixed]</th>     <td>    0.2015</td> <td>    0.005</td> <td>   38.869</td> <td> 0.000</td> <td>    0.191</td> <td>    0.212</td>\n",
       "</tr>\n",
       "<tr>\n",
       "  <th>C(initiator_author_type)[T.mixed]:C(reciprocator_author_type)[T.p]</th>     <td>    0.1173</td> <td>    0.006</td> <td>   20.989</td> <td> 0.000</td> <td>    0.106</td> <td>    0.128</td>\n",
       "</tr>\n",
       "<tr>\n",
       "  <th>C(initiator_author_type)[T.p]:C(reciprocator_author_type)[T.p]</th>         <td>    0.2579</td> <td>    0.004</td> <td>   69.563</td> <td> 0.000</td> <td>    0.251</td> <td>    0.265</td>\n",
       "</tr>\n",
       "<tr>\n",
       "  <th>pct_initiator_ints_scaled</th>                                              <td>    0.0048</td> <td> 2.17e-05</td> <td>  223.032</td> <td> 0.000</td> <td>    0.005</td> <td>    0.005</td>\n",
       "</tr>\n",
       "<tr>\n",
       "  <th>duration_months</th>                                                        <td>    0.0155</td> <td>  1.7e-05</td> <td>  910.204</td> <td> 0.000</td> <td>    0.015</td> <td>    0.016</td>\n",
       "</tr>\n",
       "</table>"
      ],
      "text/plain": [
       "<class 'statsmodels.iolib.summary.Summary'>\n",
       "\"\"\"\n",
       "                             Poisson Regression Results                             \n",
       "====================================================================================\n",
       "Dep. Variable:     int_count_beyond_initial   No. Observations:               122330\n",
       "Model:                              Poisson   Df Residuals:                   122319\n",
       "Method:                                 MLE   Df Model:                           10\n",
       "Date:                      Mon, 01 Jun 2020   Pseudo R-squ.:                  0.1386\n",
       "Time:                              16:04:18   Log-Likelihood:            -2.3395e+06\n",
       "converged:                             True   LL-Null:                   -2.7160e+06\n",
       "Covariance Type:                  nonrobust   LLR p-value:                     0.000\n",
       "==========================================================================================================================================\n",
       "                                                                             coef    std err          z      P>|z|      [0.025      0.975]\n",
       "------------------------------------------------------------------------------------------------------------------------------------------\n",
       "Intercept                                                                  2.4815      0.002   1491.318      0.000       2.478       2.485\n",
       "C(initiator_author_type)[T.mixed]                                         -0.0529      0.003    -20.743      0.000      -0.058      -0.048\n",
       "C(initiator_author_type)[T.p]                                             -0.1254      0.002    -61.050      0.000      -0.129      -0.121\n",
       "C(reciprocator_author_type)[T.mixed]                                      -0.1003      0.003    -37.630      0.000      -0.106      -0.095\n",
       "C(reciprocator_author_type)[T.p]                                          -0.1122      0.002    -49.304      0.000      -0.117      -0.108\n",
       "C(initiator_author_type)[T.mixed]:C(reciprocator_author_type)[T.mixed]     0.0769      0.007     11.215      0.000       0.063       0.090\n",
       "C(initiator_author_type)[T.p]:C(reciprocator_author_type)[T.mixed]         0.2015      0.005     38.869      0.000       0.191       0.212\n",
       "C(initiator_author_type)[T.mixed]:C(reciprocator_author_type)[T.p]         0.1173      0.006     20.989      0.000       0.106       0.128\n",
       "C(initiator_author_type)[T.p]:C(reciprocator_author_type)[T.p]             0.2579      0.004     69.563      0.000       0.251       0.265\n",
       "pct_initiator_ints_scaled                                                  0.0048   2.17e-05    223.032      0.000       0.005       0.005\n",
       "duration_months                                                            0.0155    1.7e-05    910.204      0.000       0.015       0.016\n",
       "==========================================================================================================================================\n",
       "\"\"\""
      ]
     },
     "execution_count": 94,
     "metadata": {},
     "output_type": "execute_result"
    }
   ],
   "source": [
    "f = f'int_count_beyond_initial ~ C(initiator_author_type) * C(reciprocator_author_type) + pct_initiator_ints_scaled + duration_months'\n",
    "rel_df_subset['int_count_beyond_initial'] = rel_df_subset.int_count - 2\n",
    "model = smf.poisson(formula=f, data = rel_df_subset)\n",
    "res = model.fit()\n",
    "res.summary()"
   ]
  },
  {
   "cell_type": "code",
   "execution_count": 95,
   "metadata": {
    "scrolled": false
   },
   "outputs": [
    {
     "data": {
      "image/png": "[encoded data removed]",
      "text/plain": [
       "<Figure size 432x288 with 1 Axes>"
      ]
     },
     "metadata": {
      "needs_background": "light"
     },
     "output_type": "display_data"
    },
    {
     "data": {
      "text/plain": [
       "array([    0,     0,     0,   179,  9892, 26472, 23487, 16148, 10909,\n",
       "        7775,  5657,  4147,  3293,  2603,  2037,  1608,  1277,  1072,\n",
       "         847,   686,   592,   537,   379,   390,   283,   257,   214,\n",
       "         193,   141,   170,   126,   120,   101,    75,    86,    74,\n",
       "          61,    52,    56,    34,    32,    35,    32,    15,    21,\n",
       "          20,    22,    16,    14,    14])"
      ]
     },
     "execution_count": 95,
     "metadata": {},
     "output_type": "execute_result"
    }
   ],
   "source": [
    "# the poisson model consistently overestimates the counts\n",
    "preds = res.predict(rel_df_subset)\n",
    "_, bins, _ = plt.hist(rel_df_subset.int_count_beyond_initial, bins=50, log=False, range=(0, 150))\n",
    "plt.title(\"Distribution of outcome (i.e. total relationship interactions - 2)\")\n",
    "pred_density, _ = np.histogram(preds, bins=bins)\n",
    "#bins = np.linspace(2, 300, num=300)\n",
    "#pred_density, _ = np.histogram(preds, bins=bins)\n",
    "plt.plot(bins, pred_density.tolist() + [0,])\n",
    "plt.show()\n",
    "pred_density"
   ]
  },
  {
   "cell_type": "code",
   "execution_count": 96,
   "metadata": {},
   "outputs": [
    {
     "name": "stdout",
     "output_type": "stream",
     "text": [
      "Optimization terminated successfully.\n",
      "         Current function value: 4.219275\n",
      "         Iterations: 47\n",
      "         Function evaluations: 54\n",
      "         Gradient evaluations: 54\n"
     ]
    },
    {
     "data": {
      "text/html": [
       "<table class=\"simpletable\">\n",
       "<caption>NegativeBinomial Regression Results</caption>\n",
       "<tr>\n",
       "  <th>Dep. Variable:</th>       <td>int_count</td>    <th>  No. Observations:  </th>   <td>122330</td>   \n",
       "</tr>\n",
       "<tr>\n",
       "  <th>Model:</th>           <td>NegativeBinomial</td> <th>  Df Residuals:      </th>   <td>122319</td>   \n",
       "</tr>\n",
       "<tr>\n",
       "  <th>Method:</th>                 <td>MLE</td>       <th>  Df Model:          </th>   <td>    10</td>   \n",
       "</tr>\n",
       "<tr>\n",
       "  <th>Date:</th>            <td>Mon, 01 Jun 2020</td> <th>  Pseudo R-squ.:     </th>   <td>0.02748</td>  \n",
       "</tr>\n",
       "<tr>\n",
       "  <th>Time:</th>                <td>16:04:28</td>     <th>  Log-Likelihood:    </th> <td>-5.1614e+05</td>\n",
       "</tr>\n",
       "<tr>\n",
       "  <th>converged:</th>             <td>True</td>       <th>  LL-Null:           </th> <td>-5.3073e+05</td>\n",
       "</tr>\n",
       "<tr>\n",
       "  <th>Covariance Type:</th>     <td>nonrobust</td>    <th>  LLR p-value:       </th>   <td> 0.000</td>   \n",
       "</tr>\n",
       "</table>\n",
       "<table class=\"simpletable\">\n",
       "<tr>\n",
       "                                     <td></td>                                       <th>coef</th>     <th>std err</th>      <th>z</th>      <th>P>|z|</th>  <th>[0.025</th>    <th>0.975]</th>  \n",
       "</tr>\n",
       "<tr>\n",
       "  <th>Intercept</th>                                                              <td>    2.8557</td> <td>    0.006</td> <td>  466.822</td> <td> 0.000</td> <td>    2.844</td> <td>    2.868</td>\n",
       "</tr>\n",
       "<tr>\n",
       "  <th>C(initiator_author_type)[T.mixed]</th>                                      <td>   -0.0174</td> <td>    0.013</td> <td>   -1.386</td> <td> 0.166</td> <td>   -0.042</td> <td>    0.007</td>\n",
       "</tr>\n",
       "<tr>\n",
       "  <th>C(initiator_author_type)[T.p]</th>                                          <td>   -0.0802</td> <td>    0.010</td> <td>   -8.008</td> <td> 0.000</td> <td>   -0.100</td> <td>   -0.061</td>\n",
       "</tr>\n",
       "<tr>\n",
       "  <th>C(reciprocator_author_type)[T.mixed]</th>                                   <td>   -0.0463</td> <td>    0.013</td> <td>   -3.547</td> <td> 0.000</td> <td>   -0.072</td> <td>   -0.021</td>\n",
       "</tr>\n",
       "<tr>\n",
       "  <th>C(reciprocator_author_type)[T.p]</th>                                       <td>   -0.0627</td> <td>    0.011</td> <td>   -5.710</td> <td> 0.000</td> <td>   -0.084</td> <td>   -0.041</td>\n",
       "</tr>\n",
       "<tr>\n",
       "  <th>C(initiator_author_type)[T.mixed]:C(reciprocator_author_type)[T.mixed]</th> <td>    0.0481</td> <td>    0.033</td> <td>    1.448</td> <td> 0.148</td> <td>   -0.017</td> <td>    0.113</td>\n",
       "</tr>\n",
       "<tr>\n",
       "  <th>C(initiator_author_type)[T.p]:C(reciprocator_author_type)[T.mixed]</th>     <td>    0.1850</td> <td>    0.026</td> <td>    7.190</td> <td> 0.000</td> <td>    0.135</td> <td>    0.235</td>\n",
       "</tr>\n",
       "<tr>\n",
       "  <th>C(initiator_author_type)[T.mixed]:C(reciprocator_author_type)[T.p]</th>     <td>    0.0752</td> <td>    0.027</td> <td>    2.771</td> <td> 0.006</td> <td>    0.022</td> <td>    0.128</td>\n",
       "</tr>\n",
       "<tr>\n",
       "  <th>C(initiator_author_type)[T.p]:C(reciprocator_author_type)[T.p]</th>         <td>    0.2422</td> <td>    0.018</td> <td>   13.367</td> <td> 0.000</td> <td>    0.207</td> <td>    0.278</td>\n",
       "</tr>\n",
       "<tr>\n",
       "  <th>is_balanced</th>                                                            <td>   -0.3523</td> <td>    0.006</td> <td>  -62.068</td> <td> 0.000</td> <td>   -0.363</td> <td>   -0.341</td>\n",
       "</tr>\n",
       "<tr>\n",
       "  <th>duration_months</th>                                                        <td>    0.0199</td> <td>    0.000</td> <td>  149.301</td> <td> 0.000</td> <td>    0.020</td> <td>    0.020</td>\n",
       "</tr>\n",
       "<tr>\n",
       "  <th>alpha</th>                                                                  <td>    0.9353</td> <td>    0.004</td> <td>  262.883</td> <td> 0.000</td> <td>    0.928</td> <td>    0.942</td>\n",
       "</tr>\n",
       "</table>"
      ],
      "text/plain": [
       "<class 'statsmodels.iolib.summary.Summary'>\n",
       "\"\"\"\n",
       "                     NegativeBinomial Regression Results                      \n",
       "==============================================================================\n",
       "Dep. Variable:              int_count   No. Observations:               122330\n",
       "Model:               NegativeBinomial   Df Residuals:                   122319\n",
       "Method:                           MLE   Df Model:                           10\n",
       "Date:                Mon, 01 Jun 2020   Pseudo R-squ.:                 0.02748\n",
       "Time:                        16:04:28   Log-Likelihood:            -5.1614e+05\n",
       "converged:                       True   LL-Null:                   -5.3073e+05\n",
       "Covariance Type:            nonrobust   LLR p-value:                     0.000\n",
       "==========================================================================================================================================\n",
       "                                                                             coef    std err          z      P>|z|      [0.025      0.975]\n",
       "------------------------------------------------------------------------------------------------------------------------------------------\n",
       "Intercept                                                                  2.8557      0.006    466.822      0.000       2.844       2.868\n",
       "C(initiator_author_type)[T.mixed]                                         -0.0174      0.013     -1.386      0.166      -0.042       0.007\n",
       "C(initiator_author_type)[T.p]                                             -0.0802      0.010     -8.008      0.000      -0.100      -0.061\n",
       "C(reciprocator_author_type)[T.mixed]                                      -0.0463      0.013     -3.547      0.000      -0.072      -0.021\n",
       "C(reciprocator_author_type)[T.p]                                          -0.0627      0.011     -5.710      0.000      -0.084      -0.041\n",
       "C(initiator_author_type)[T.mixed]:C(reciprocator_author_type)[T.mixed]     0.0481      0.033      1.448      0.148      -0.017       0.113\n",
       "C(initiator_author_type)[T.p]:C(reciprocator_author_type)[T.mixed]         0.1850      0.026      7.190      0.000       0.135       0.235\n",
       "C(initiator_author_type)[T.mixed]:C(reciprocator_author_type)[T.p]         0.0752      0.027      2.771      0.006       0.022       0.128\n",
       "C(initiator_author_type)[T.p]:C(reciprocator_author_type)[T.p]             0.2422      0.018     13.367      0.000       0.207       0.278\n",
       "is_balanced                                                               -0.3523      0.006    -62.068      0.000      -0.363      -0.341\n",
       "duration_months                                                            0.0199      0.000    149.301      0.000       0.020       0.020\n",
       "alpha                                                                      0.9353      0.004    262.883      0.000       0.928       0.942\n",
       "==========================================================================================================================================\n",
       "\"\"\""
      ]
     },
     "execution_count": 96,
     "metadata": {},
     "output_type": "execute_result"
    }
   ],
   "source": [
    "# negative binomial model\n",
    "f = f'int_count ~ C(initiator_author_type) * C(reciprocator_author_type) + is_balanced + duration_months'\n",
    "\n",
    "model = smf.negativebinomial(formula=f, data = rel_df_subset)\n",
    "res = model.fit(maxiter=100)\n",
    "res.summary()"
   ]
  },
  {
   "cell_type": "code",
   "execution_count": 97,
   "metadata": {
    "scrolled": true
   },
   "outputs": [
    {
     "data": {
      "text/plain": [
       "Intercept                                                                 17.386507\n",
       "C(initiator_author_type)[T.mixed]                                          0.982704\n",
       "C(initiator_author_type)[T.p]                                              0.922970\n",
       "C(reciprocator_author_type)[T.mixed]                                       0.954790\n",
       "C(reciprocator_author_type)[T.p]                                           0.939208\n",
       "C(initiator_author_type)[T.mixed]:C(reciprocator_author_type)[T.mixed]     1.049283\n",
       "C(initiator_author_type)[T.p]:C(reciprocator_author_type)[T.mixed]         1.203272\n",
       "C(initiator_author_type)[T.mixed]:C(reciprocator_author_type)[T.p]         1.078115\n",
       "C(initiator_author_type)[T.p]:C(reciprocator_author_type)[T.p]             1.274067\n",
       "is_balanced                                                                0.703047\n",
       "duration_months                                                            1.020095\n",
       "alpha                                                                      2.548020\n",
       "dtype: float64"
      ]
     },
     "execution_count": 97,
     "metadata": {},
     "output_type": "execute_result"
    }
   ],
   "source": [
    "# these are the incidence rate ratios\n",
    "np.exp(res.params)"
   ]
  },
  {
   "cell_type": "code",
   "execution_count": 98,
   "metadata": {},
   "outputs": [
    {
     "data": {
      "text/plain": [
       "0.07203661240791681"
      ]
     },
     "execution_count": 98,
     "metadata": {},
     "output_type": "execute_result"
    }
   ],
   "source": [
    "# initiating patient\n",
    "1 - np.exp(-0.074763)"
   ]
  },
  {
   "cell_type": "code",
   "execution_count": 99,
   "metadata": {},
   "outputs": [
    {
     "data": {
      "text/plain": [
       "0.05383565613230756"
      ]
     },
     "execution_count": 99,
     "metadata": {},
     "output_type": "execute_result"
    }
   ],
   "source": [
    "# receiver patient\n",
    "1 - np.exp(-0.055339)"
   ]
  },
  {
   "cell_type": "code",
   "execution_count": 100,
   "metadata": {},
   "outputs": [
    {
     "data": {
      "text/plain": [
       "0.10740340480982158"
      ]
     },
     "execution_count": 100,
     "metadata": {},
     "output_type": "execute_result"
    }
   ],
   "source": [
    "# initiating and receiving patient\n",
    "np.exp(-0.074763 -0.055339 + 0.232120) - 1"
   ]
  },
  {
   "cell_type": "code",
   "execution_count": 101,
   "metadata": {},
   "outputs": [
    {
     "name": "stdout",
     "output_type": "stream",
     "text": [
      "\\begin{tabular}{lcccccc}\n",
      "\\hline\n",
      "& Coef. & Std.Err. & z & P$> |$z$|$ & [0.025 & 0.975] \\\\\n",
      "\\hline\n",
      "\\hline\n",
      "\\end{tabular}\n",
      "\\begin{tabular}{lrrrrrr}\n",
      "Intercept & 2.8557 & 0.0061 & 466.8221 & 0.0000 & 2.8437 & 2.8677 \\\\\n",
      "C(initiator-author-type)[T.mixed] & -0.0174 & 0.0126 & -1.3863 & 0.1657 & -0.0421 & 0.0072 \\\\\n",
      "C(initiator-author-type)[T.p] & -0.0802 & 0.0100 & -8.0075 & 0.0000 & -0.0998 & -0.0605 \\\\\n",
      "C(reciprocator-author-type)[T.mixed] & -0.0463 & 0.0130 & -3.5470 & 0.0004 & -0.0718 & -0.0207 \\\\\n",
      "C(reciprocator-author-type)[T.p] & -0.0627 & 0.0110 & -5.7097 & 0.0000 & -0.0842 & -0.0412 \\\\\n",
      "C(initiator-author-type)[T.mixed]:C(reciprocator-author-type)[T.mixed] & 0.0481 & 0.0332 & 1.4482 & 0.1476 & -0.0170 & 0.1132 \\\\\n",
      "C(initiator-author-type)[T.p]:C(reciprocator-author-type)[T.mixed] & 0.1850 & 0.0257 & 7.1898 & 0.0000 & 0.1346 & 0.2355 \\\\\n",
      "C(initiator-author-type)[T.mixed]:C(reciprocator-author-type)[T.p] & 0.0752 & 0.0271 & 2.7714 & 0.0056 & 0.0220 & 0.1284 \\\\\n",
      "C(initiator-author-type)[T.p]:C(reciprocator-author-type)[T.p] & 0.2422 & 0.0181 & 13.3668 & 0.0000 & 0.2067 & 0.2777 \\\\\n",
      "is-balanced & -0.3523 & 0.0057 & -62.0676 & 0.0000 & -0.3635 & -0.3412 \\\\\n",
      "duration-months & 0.0199 & 0.0001 & 149.3009 & 0.0000 & 0.0196 & 0.0202 \\\\\n",
      "alpha & 0.9353 & 0.0036 & 262.8831 & 0.0000 & 0.9283 & 0.9423 \\\\\n",
      "\\hline\n",
      "\\end{tabular}\n"
     ]
    }
   ],
   "source": [
    "for line in res.summary2().as_latex().split(\"\\n\")[17:13+25]:\n",
    "    line = line.replace(\"\\_\", \"-\").replace(\"_\", \"-\")\n",
    "    line = re.sub('\\s+', ' ', line).strip()\n",
    "    print(line)"
   ]
  },
  {
   "cell_type": "markdown",
   "metadata": {},
   "source": [
    "[Predicted counts](https://stats.stackexchange.com/questions/17006/interpretation-of-incidence-rate-ratios) for 6-month, perfectly balanced relationships.\n",
    "\n",
    "Computed with a slightly older version of the model that used a different balance control var, but the same approach works for computing predicted counts at a particular number of months.\n",
    "\n",
    "```\n",
    "# p init, p receiver\n",
    ">>> np.exp(2.4489 + 0.0038 * 50 + 0.0203 * 6 - 0.0688 * 1 - 0.0372 * 1 + 0.1894 * 1)\n",
    "17.18608423066515\n",
    "# p init, cg receiver\n",
    ">>> np.exp(2.4489 + 0.0038 * 50 + 0.0203 * 6 - 0.0688 * 1 - 0.0372 * 0 + 0.1894 * 0)\n",
    "14.75969271221521\n",
    "# cg init, p receiver\n",
    ">>> np.exp(2.4489 + 0.0038 * 50 + 0.0203 * 6 - 0.0688 * 0 - 0.0372 * 1 + 0.1894 * 0)\n",
    "15.23354646085602\n",
    "# cg init, cg receiver\n",
    ">>> np.exp(2.4489 + 0.0038 * 50 + 0.0203 * 6 - 0.0688 * 0 - 0.0372 * 0 + 0.1894 * 0)\n",
    "15.810906710189084\n",
    "```"
   ]
  },
  {
   "cell_type": "code",
   "execution_count": 102,
   "metadata": {},
   "outputs": [],
   "source": [
    "nb_preds = res.predict(rel_df_subset)"
   ]
  },
  {
   "cell_type": "code",
   "execution_count": 103,
   "metadata": {},
   "outputs": [
    {
     "data": {
      "image/png": "[encoded data removed]",
      "text/plain": [
       "<Figure size 432x288 with 1 Axes>"
      ]
     },
     "metadata": {
      "needs_background": "light"
     },
     "output_type": "display_data"
    },
    {
     "data": {
      "text/plain": [
       "array([    0,     0,     0,   179,  9892, 26472, 23487, 16148, 10909,\n",
       "        7775,  5657,  4147,  3293,  2603,  2037,  1608,  1277,  1072,\n",
       "         847,   686,   592,   537,   379,   390,   283,   257,   214,\n",
       "         193,   141,   170,   126,   120,   101,    75,    86,    74,\n",
       "          61,    52,    56,    34,    32,    35,    32,    15,    21,\n",
       "          20,    22,    16,    14,    14])"
      ]
     },
     "execution_count": 103,
     "metadata": {},
     "output_type": "execute_result"
    }
   ],
   "source": [
    "# of the four models tried, it looks like the negative binomial model is the best fit\n",
    "# although, \n",
    "_, bins, _ = plt.hist(rel_df_subset.int_count, bins=50, log=False, range=(2, 150))\n",
    "plt.title(\"Distribution of outcome (i.e. total relationship interactions)\")\n",
    "\n",
    "linear_pred_density, _ = np.histogram(linear_preds, bins=bins)\n",
    "plt.plot(bins, linear_pred_density.tolist() + [0,], label='Linear')\n",
    "\n",
    "log_linear_pred_density, _ = np.histogram(np.exp(log_linear_preds), bins=bins)\n",
    "plt.plot(bins, log_linear_pred_density.tolist() + [0,], label='Log Linear')\n",
    "\n",
    "poisson_pred_density, _ = np.histogram(poisson_preds, bins=bins)\n",
    "plt.plot(bins, poisson_pred_density.tolist() + [0,], label='Poisson')\n",
    "\n",
    "nb_pred_density, _ = np.histogram(nb_preds, bins=bins)\n",
    "plt.plot(bins, nb_pred_density.tolist() + [0,], label='Negative Binomial')\n",
    "\n",
    "plt.legend()\n",
    "\n",
    "plt.show()\n",
    "pred_density"
   ]
  },
  {
   "cell_type": "code",
   "execution_count": 104,
   "metadata": {},
   "outputs": [
    {
     "data": {
      "image/png": "[encoded data removed]",
      "text/plain": [
       "<Figure size 432x288 with 1 Axes>"
      ]
     },
     "metadata": {
      "needs_background": "light"
     },
     "output_type": "display_data"
    }
   ],
   "source": [
    "resid = rel_df_subset.int_count - nb_preds\n",
    "plt.scatter(nb_preds, resid, alpha=0.01)\n",
    "plt.show()"
   ]
  },
  {
   "cell_type": "code",
   "execution_count": 105,
   "metadata": {},
   "outputs": [
    {
     "name": "stdout",
     "output_type": "stream",
     "text": [
      "\\begin{table}\n",
      "\\caption{Results: NegativeBinomial}\n",
      "\\begin{center}\n",
      "\\begin{tabular}{llll}\n",
      "\\hline\n",
      "Model:              & NegativeBinomial & Pseudo R-squared: & 0.027         \\\\\n",
      "Dependent Variable: & int-count       & AIC:              & 1032311.9041  \\\\\n",
      "Date:               & 2020-06-01 16:04 & BIC:              & 1032428.4778  \\\\\n",
      "No. Observations:   & 122330           & Log-Likelihood:   & -5.1614e+05   \\\\\n",
      "Df Model:           & 10               & LL-Null:          & -5.3073e+05   \\\\\n",
      "Df Residuals:       & 122319           & LLR p-value:      & 0.0000        \\\\\n",
      "Converged:          & 1.0000           & Scale:            & 1.0000        \\\\\n",
      "\\hline\n",
      "\\end{tabular}\n",
      "\\end{center}\n",
      "\\hline\n",
      "\\begin{center}\n",
      "\\begin{tabular}{lcccccc}\n",
      "\\hline\n",
      "                                                                           &  Coef.  & Std.Err. &    z     & P$> |$z$|$ &  [0.025 &  0.975]  \\\\\n",
      "\\hline\n",
      "\\hline\n",
      "\\end{tabular}\n",
      "\\begin{tabular}{lrrrrrr}\n",
      "Intercept                                                                  &  2.8557 &   0.0061 & 466.8221 &      0.0000 &  2.8437 &  2.8677  \\\\\n",
      "C(initiator-author-type)[T.mixed]                                        & -0.0174 &   0.0126 &  -1.3863 &      0.1657 & -0.0421 &  0.0072  \\\\\n",
      "C(initiator-author-type)[T.p]                                            & -0.0802 &   0.0100 &  -8.0075 &      0.0000 & -0.0998 & -0.0605  \\\\\n",
      "C(reciprocator-author-type)[T.mixed]                                     & -0.0463 &   0.0130 &  -3.5470 &      0.0004 & -0.0718 & -0.0207  \\\\\n",
      "C(reciprocator-author-type)[T.p]                                         & -0.0627 &   0.0110 &  -5.7097 &      0.0000 & -0.0842 & -0.0412  \\\\\n",
      "C(initiator-author-type)[T.mixed]:C(reciprocator-author-type)[T.mixed] &  0.0481 &   0.0332 &   1.4482 &      0.1476 & -0.0170 &  0.1132  \\\\\n",
      "C(initiator-author-type)[T.p]:C(reciprocator-author-type)[T.mixed]     &  0.1850 &   0.0257 &   7.1898 &      0.0000 &  0.1346 &  0.2355  \\\\\n",
      "C(initiator-author-type)[T.mixed]:C(reciprocator-author-type)[T.p]     &  0.0752 &   0.0271 &   2.7714 &      0.0056 &  0.0220 &  0.1284  \\\\\n",
      "C(initiator-author-type)[T.p]:C(reciprocator-author-type)[T.p]         &  0.2422 &   0.0181 &  13.3668 &      0.0000 &  0.2067 &  0.2777  \\\\\n",
      "is-balanced                                                               & -0.3523 &   0.0057 & -62.0676 &      0.0000 & -0.3635 & -0.3412  \\\\\n",
      "duration-months                                                           &  0.0199 &   0.0001 & 149.3009 &      0.0000 &  0.0196 &  0.0202  \\\\\n",
      "alpha                                                                      &  0.9353 &   0.0036 & 262.8831 &      0.0000 &  0.9283 &  0.9423  \\\\\n",
      "\\hline\n",
      "\\end{tabular}\n",
      "\\end{center}\n",
      "\\end{table}\n"
     ]
    }
   ],
   "source": [
    "for line in res.summary2().as_latex().split(\"\\n\"):\n",
    "    line = line.replace(\"\\_\", \"-\").replace(\"_\", \"-\")\n",
    "    print(line)"
   ]
  },
  {
   "cell_type": "markdown",
   "metadata": {},
   "source": [
    "## Relationship \"balance\" analysis"
   ]
  },
  {
   "cell_type": "code",
   "execution_count": 106,
   "metadata": {},
   "outputs": [],
   "source": [
    "rel_df['balance'] = 'balanced'\n",
    "rel_df.loc[rel_df.pct_initiator_ints >= 0.75, 'balance'] = 'initiator'\n",
    "rel_df.loc[rel_df.pct_initiator_ints <= 0.25, 'balance'] = 'reciprocator'"
   ]
  },
  {
   "cell_type": "code",
   "execution_count": 107,
   "metadata": {},
   "outputs": [
    {
     "name": "stdout",
     "output_type": "stream",
     "text": [
      "            balanced 64902 52.54%\n",
      "           initiator 40521 32.80%\n",
      "        reciprocator 18117 14.66%\n"
     ]
    }
   ],
   "source": [
    "for rel_type, count in Counter(rel_df.balance).most_common():\n",
    "    print(f\"{rel_type:>20} {count} {count / len(rel_df) * 100:.2f}%\")"
   ]
  },
  {
   "cell_type": "code",
   "execution_count": 108,
   "metadata": {},
   "outputs": [
    {
     "data": {
      "text/plain": [
       "0.6308438056010871"
      ]
     },
     "execution_count": 108,
     "metadata": {},
     "output_type": "execute_result"
    }
   ],
   "source": [
    "np.sum(rel_df[rel_df.int_count > 10].pct_initiator_ints > 0.5) / len(rel_df[rel_df.int_count > 10])"
   ]
  },
  {
   "cell_type": "code",
   "execution_count": 109,
   "metadata": {},
   "outputs": [
    {
     "name": "stdout",
     "output_type": "stream",
     "text": [
      "p p\n",
      "            balanced 4549 55.62%\n",
      "           initiator 2484 30.37%\n",
      "        reciprocator 1145 14.00%\n",
      "p cg\n",
      "            balanced 5760 50.47%\n",
      "           initiator 3920 34.35%\n",
      "        reciprocator 1732 15.18%\n",
      "cg p\n",
      "            balanced 4681 50.74%\n",
      "           initiator 3058 33.15%\n",
      "        reciprocator 1486 16.11%\n",
      "cg cg\n",
      "            balanced 40246 53.11%\n",
      "           initiator 24609 32.48%\n",
      "        reciprocator 10919 14.41%\n"
     ]
    }
   ],
   "source": [
    "for initiator in ['p', 'cg']:\n",
    "    for reciprocator in ['p', 'cg']:\n",
    "        rel_df_subset = rel_df[(rel_df.initiator_author_type == initiator)&(rel_df.reciprocator_author_type == reciprocator)]\n",
    "        print(initiator, reciprocator)\n",
    "        for rel_type, count in Counter(rel_df_subset.balance).most_common():\n",
    "            print(f\"{rel_type:>20} {count} {count / len(rel_df_subset) * 100:.2f}%\")"
   ]
  },
  {
   "cell_type": "code",
   "execution_count": 110,
   "metadata": {},
   "outputs": [
    {
     "data": {
      "text/plain": [
       "(0.5335297155196695,\n",
       " 0.5071741625795679,\n",
       " 0.026355552940101612,\n",
       " Ttest_indResult(statistic=8.577261178979912, pvalue=9.900679172694287e-18))"
      ]
     },
     "execution_count": 110,
     "metadata": {},
     "output_type": "execute_result"
    }
   ],
   "source": [
    "# when initiator and receiver share an author type, relationship is more likely to be balanced\n",
    "sample1 = (rel_df[rel_df.initiator_author_type == rel_df.reciprocator_author_type].balance == 'balanced').astype(int)\n",
    "sample2 = (rel_df[rel_df.initiator_author_type != rel_df.reciprocator_author_type].balance == 'balanced').astype(int)\n",
    "\n",
    "np.mean(sample1), \\\n",
    "np.mean(sample2), \\\n",
    "np.mean(sample1) - np.mean(sample2), \\\n",
    "scipy.stats.ttest_ind(sample1, sample2, equal_var=False)"
   ]
  },
  {
   "cell_type": "code",
   "execution_count": 111,
   "metadata": {},
   "outputs": [],
   "source": [
    "rel_df['is_balanced'] = (rel_df.balance == 'balanced').astype(int)"
   ]
  },
  {
   "cell_type": "code",
   "execution_count": 112,
   "metadata": {},
   "outputs": [],
   "source": [
    "def print_feature_summary(res):\n",
    "    for feature, coef in zip(res.params.index, res.params):\n",
    "        prob = np.exp(coef)/(1+np.exp(coef))\n",
    "        feature_name = feature.replace(\"_author_type\", \"_AR\")\n",
    "        if \"health_condition\" in feature_name:\n",
    "            feature_name = \"health_condition \" + feature_name.split(\"[\")[1][2:-1]\n",
    "        print(f\"{feature_name:<50} {min((np.exp(coef)-1)*100, 999):>8.3f}% increase   {prob*100:>8.2f}%   ({np.exp(coef):.3f})\")"
   ]
  },
  {
   "cell_type": "code",
   "execution_count": 113,
   "metadata": {},
   "outputs": [
    {
     "name": "stdout",
     "output_type": "stream",
     "text": [
      "Optimization terminated successfully.\n",
      "         Current function value: 0.682803\n",
      "         Iterations 6\n",
      "Intercept                                            46.959% increase      59.51%   (1.470)\n",
      "C(initiator_AR)[T.mixed]                             -9.635% increase      47.47%   (0.904)\n",
      "C(initiator_AR)[T.p]                                -10.694% increase      47.18%   (0.893)\n",
      "C(reciprocator_AR)[T.mixed]                         -10.602% increase      47.20%   (0.894)\n",
      "C(reciprocator_AR)[T.p]                             -10.955% increase      47.10%   (0.890)\n",
      "C(initiator_AR)[T.mixed]:C(reciprocator_AR)[T.mixed]   19.753% increase      54.49%   (1.198)\n",
      "C(initiator_AR)[T.p]:C(reciprocator_AR)[T.mixed]     10.053% increase      52.39%   (1.101)\n",
      "C(initiator_AR)[T.mixed]:C(reciprocator_AR)[T.p]     15.443% increase      53.58%   (1.154)\n",
      "C(initiator_AR)[T.p]:C(reciprocator_AR)[T.p]         34.960% increase      57.44%   (1.350)\n",
      "int_count                                            -0.279% increase      49.93%   (0.997)\n",
      "duration_months                                      -0.598% increase      49.85%   (0.994)\n"
     ]
    },
    {
     "data": {
      "text/html": [
       "<table class=\"simpletable\">\n",
       "<caption>Logit Regression Results</caption>\n",
       "<tr>\n",
       "  <th>Dep. Variable:</th>      <td>is_balanced</td>   <th>  No. Observations:  </th>  <td>123540</td> \n",
       "</tr>\n",
       "<tr>\n",
       "  <th>Model:</th>                 <td>Logit</td>      <th>  Df Residuals:      </th>  <td>123529</td> \n",
       "</tr>\n",
       "<tr>\n",
       "  <th>Method:</th>                 <td>MLE</td>       <th>  Df Model:          </th>  <td>    10</td> \n",
       "</tr>\n",
       "<tr>\n",
       "  <th>Date:</th>            <td>Mon, 01 Jun 2020</td> <th>  Pseudo R-squ.:     </th>  <td>0.01309</td>\n",
       "</tr>\n",
       "<tr>\n",
       "  <th>Time:</th>                <td>16:04:33</td>     <th>  Log-Likelihood:    </th> <td> -84354.</td>\n",
       "</tr>\n",
       "<tr>\n",
       "  <th>converged:</th>             <td>True</td>       <th>  LL-Null:           </th> <td> -85473.</td>\n",
       "</tr>\n",
       "<tr>\n",
       "  <th>Covariance Type:</th>     <td>nonrobust</td>    <th>  LLR p-value:       </th>  <td> 0.000</td> \n",
       "</tr>\n",
       "</table>\n",
       "<table class=\"simpletable\">\n",
       "<tr>\n",
       "                                     <td></td>                                       <th>coef</th>     <th>std err</th>      <th>z</th>      <th>P>|z|</th>  <th>[0.025</th>    <th>0.975]</th>  \n",
       "</tr>\n",
       "<tr>\n",
       "  <th>Intercept</th>                                                              <td>    0.3850</td> <td>    0.010</td> <td>   39.324</td> <td> 0.000</td> <td>    0.366</td> <td>    0.404</td>\n",
       "</tr>\n",
       "<tr>\n",
       "  <th>C(initiator_author_type)[T.mixed]</th>                                      <td>   -0.1013</td> <td>    0.025</td> <td>   -3.979</td> <td> 0.000</td> <td>   -0.151</td> <td>   -0.051</td>\n",
       "</tr>\n",
       "<tr>\n",
       "  <th>C(initiator_author_type)[T.p]</th>                                          <td>   -0.1131</td> <td>    0.020</td> <td>   -5.582</td> <td> 0.000</td> <td>   -0.153</td> <td>   -0.073</td>\n",
       "</tr>\n",
       "<tr>\n",
       "  <th>C(reciprocator_author_type)[T.mixed]</th>                                   <td>   -0.1121</td> <td>    0.026</td> <td>   -4.242</td> <td> 0.000</td> <td>   -0.164</td> <td>   -0.060</td>\n",
       "</tr>\n",
       "<tr>\n",
       "  <th>C(reciprocator_author_type)[T.p]</th>                                       <td>   -0.1160</td> <td>    0.022</td> <td>   -5.222</td> <td> 0.000</td> <td>   -0.160</td> <td>   -0.072</td>\n",
       "</tr>\n",
       "<tr>\n",
       "  <th>C(initiator_author_type)[T.mixed]:C(reciprocator_author_type)[T.mixed]</th> <td>    0.1803</td> <td>    0.067</td> <td>    2.677</td> <td> 0.007</td> <td>    0.048</td> <td>    0.312</td>\n",
       "</tr>\n",
       "<tr>\n",
       "  <th>C(initiator_author_type)[T.p]:C(reciprocator_author_type)[T.mixed]</th>     <td>    0.0958</td> <td>    0.052</td> <td>    1.836</td> <td> 0.066</td> <td>   -0.006</td> <td>    0.198</td>\n",
       "</tr>\n",
       "<tr>\n",
       "  <th>C(initiator_author_type)[T.mixed]:C(reciprocator_author_type)[T.p]</th>     <td>    0.1436</td> <td>    0.055</td> <td>    2.614</td> <td> 0.009</td> <td>    0.036</td> <td>    0.251</td>\n",
       "</tr>\n",
       "<tr>\n",
       "  <th>C(initiator_author_type)[T.p]:C(reciprocator_author_type)[T.p]</th>         <td>    0.2998</td> <td>    0.037</td> <td>    8.153</td> <td> 0.000</td> <td>    0.228</td> <td>    0.372</td>\n",
       "</tr>\n",
       "<tr>\n",
       "  <th>int_count</th>                                                              <td>   -0.0028</td> <td>    0.000</td> <td>  -25.374</td> <td> 0.000</td> <td>   -0.003</td> <td>   -0.003</td>\n",
       "</tr>\n",
       "<tr>\n",
       "  <th>duration_months</th>                                                        <td>   -0.0060</td> <td>    0.000</td> <td>  -25.297</td> <td> 0.000</td> <td>   -0.006</td> <td>   -0.006</td>\n",
       "</tr>\n",
       "</table>"
      ],
      "text/plain": [
       "<class 'statsmodels.iolib.summary.Summary'>\n",
       "\"\"\"\n",
       "                           Logit Regression Results                           \n",
       "==============================================================================\n",
       "Dep. Variable:            is_balanced   No. Observations:               123540\n",
       "Model:                          Logit   Df Residuals:                   123529\n",
       "Method:                           MLE   Df Model:                           10\n",
       "Date:                Mon, 01 Jun 2020   Pseudo R-squ.:                 0.01309\n",
       "Time:                        16:04:33   Log-Likelihood:                -84354.\n",
       "converged:                       True   LL-Null:                       -85473.\n",
       "Covariance Type:            nonrobust   LLR p-value:                     0.000\n",
       "==========================================================================================================================================\n",
       "                                                                             coef    std err          z      P>|z|      [0.025      0.975]\n",
       "------------------------------------------------------------------------------------------------------------------------------------------\n",
       "Intercept                                                                  0.3850      0.010     39.324      0.000       0.366       0.404\n",
       "C(initiator_author_type)[T.mixed]                                         -0.1013      0.025     -3.979      0.000      -0.151      -0.051\n",
       "C(initiator_author_type)[T.p]                                             -0.1131      0.020     -5.582      0.000      -0.153      -0.073\n",
       "C(reciprocator_author_type)[T.mixed]                                      -0.1121      0.026     -4.242      0.000      -0.164      -0.060\n",
       "C(reciprocator_author_type)[T.p]                                          -0.1160      0.022     -5.222      0.000      -0.160      -0.072\n",
       "C(initiator_author_type)[T.mixed]:C(reciprocator_author_type)[T.mixed]     0.1803      0.067      2.677      0.007       0.048       0.312\n",
       "C(initiator_author_type)[T.p]:C(reciprocator_author_type)[T.mixed]         0.0958      0.052      1.836      0.066      -0.006       0.198\n",
       "C(initiator_author_type)[T.mixed]:C(reciprocator_author_type)[T.p]         0.1436      0.055      2.614      0.009       0.036       0.251\n",
       "C(initiator_author_type)[T.p]:C(reciprocator_author_type)[T.p]             0.2998      0.037      8.153      0.000       0.228       0.372\n",
       "int_count                                                                 -0.0028      0.000    -25.374      0.000      -0.003      -0.003\n",
       "duration_months                                                           -0.0060      0.000    -25.297      0.000      -0.006      -0.006\n",
       "==========================================================================================================================================\n",
       "\"\"\""
      ]
     },
     "execution_count": 113,
     "metadata": {},
     "output_type": "execute_result"
    }
   ],
   "source": [
    "formula = \"\"\"\n",
    "is_balanced ~  \n",
    "    C(initiator_author_type) * C(reciprocator_author_type)\n",
    "    + int_count\n",
    "    + duration_months\n",
    "    + 1\n",
    "\"\"\"\n",
    "model = smf.logit(formula=formula, \n",
    "                  data=rel_df)\n",
    "res = model.fit(maxiter=100)\n",
    "print_feature_summary(res)\n",
    "res.summary()"
   ]
  },
  {
   "cell_type": "code",
   "execution_count": 114,
   "metadata": {},
   "outputs": [
    {
     "name": "stdout",
     "output_type": "stream",
     "text": [
      "\\begin{table}\n",
      "\\caption{Results: Logit}\n",
      "\\begin{center}\n",
      "\\begin{tabular}{llll}\n",
      "\\hline\n",
      "Model:              & Logit            & Pseudo R-squared: & 0.013        \\\\\n",
      "Dependent Variable: & is-balanced     & AIC:              & 168729.0074  \\\\\n",
      "Date:               & 2020-06-01 16:04 & BIC:              & 168835.9749  \\\\\n",
      "No. Observations:   & 123540           & Log-Likelihood:   & -84354.      \\\\\n",
      "Df Model:           & 10               & LL-Null:          & -85473.      \\\\\n",
      "Df Residuals:       & 123529           & LLR p-value:      & 0.0000       \\\\\n",
      "Converged:          & 1.0000           & Scale:            & 1.0000       \\\\\n",
      "No. Iterations:     & 6.0000           &                   &              \\\\\n",
      "\\hline\n",
      "\\end{tabular}\n",
      "\\end{center}\n",
      "\\hline\n",
      "\\begin{center}\n",
      "\\begin{tabular}{lcccccc}\n",
      "\\hline\n",
      "                                                                           &  Coef.  & Std.Err. &    z     & P$> |$z$|$ &  [0.025 &  0.975]  \\\\\n",
      "\\hline\n",
      "\\hline\n",
      "\\end{tabular}\n",
      "\\begin{tabular}{lrrrrrr}\n",
      "Intercept                                                                  &  0.3850 &   0.0098 &  39.3243 &      0.0000 &  0.3658 &  0.4042  \\\\\n",
      "C(initiator-author-type)[T.mixed]                                        & -0.1013 &   0.0255 &  -3.9789 &      0.0001 & -0.1512 & -0.0514  \\\\\n",
      "C(initiator-author-type)[T.p]                                            & -0.1131 &   0.0203 &  -5.5823 &      0.0000 & -0.1528 & -0.0734  \\\\\n",
      "C(reciprocator-author-type)[T.mixed]                                     & -0.1121 &   0.0264 &  -4.2416 &      0.0000 & -0.1639 & -0.0603  \\\\\n",
      "C(reciprocator-author-type)[T.p]                                         & -0.1160 &   0.0222 &  -5.2222 &      0.0000 & -0.1596 & -0.0725  \\\\\n",
      "C(initiator-author-type)[T.mixed]:C(reciprocator-author-type)[T.mixed] &  0.1803 &   0.0674 &   2.6765 &      0.0074 &  0.0483 &  0.3123  \\\\\n",
      "C(initiator-author-type)[T.p]:C(reciprocator-author-type)[T.mixed]     &  0.0958 &   0.0522 &   1.8361 &      0.0663 & -0.0065 &  0.1980  \\\\\n",
      "C(initiator-author-type)[T.mixed]:C(reciprocator-author-type)[T.p]     &  0.1436 &   0.0549 &   2.6143 &      0.0089 &  0.0359 &  0.2513  \\\\\n",
      "C(initiator-author-type)[T.p]:C(reciprocator-author-type)[T.p]         &  0.2998 &   0.0368 &   8.1529 &      0.0000 &  0.2277 &  0.3719  \\\\\n",
      "int-count                                                                 & -0.0028 &   0.0001 & -25.3743 &      0.0000 & -0.0030 & -0.0026  \\\\\n",
      "duration-months                                                           & -0.0060 &   0.0002 & -25.2968 &      0.0000 & -0.0065 & -0.0055  \\\\\n",
      "\\hline\n",
      "\\end{tabular}\n",
      "\\end{center}\n",
      "\\end{table}\n"
     ]
    }
   ],
   "source": [
    "for line in res.summary2().as_latex().split(\"\\n\"):\n",
    "    line = line.replace(\"\\_\", \"-\").replace(\"_\", \"-\")\n",
    "    print(line)"
   ]
  },
  {
   "cell_type": "code",
   "execution_count": 115,
   "metadata": {},
   "outputs": [
    {
     "name": "stdout",
     "output_type": "stream",
     "text": [
      "Optimization terminated successfully.\n",
      "         Current function value: 0.682846\n",
      "         Iterations 6\n",
      "Intercept                                            31.678% increase      56.84%   (1.317)\n",
      "is_AR_shared                                         12.380% increase      52.91%   (1.124)\n",
      "int_count                                            -0.279% increase      49.93%   (0.997)\n",
      "duration_months                                      -0.600% increase      49.85%   (0.994)\n"
     ]
    },
    {
     "data": {
      "text/html": [
       "<table class=\"simpletable\">\n",
       "<caption>Logit Regression Results</caption>\n",
       "<tr>\n",
       "  <th>Dep. Variable:</th>      <td>is_balanced</td>   <th>  No. Observations:  </th>  <td>123540</td> \n",
       "</tr>\n",
       "<tr>\n",
       "  <th>Model:</th>                 <td>Logit</td>      <th>  Df Residuals:      </th>  <td>123536</td> \n",
       "</tr>\n",
       "<tr>\n",
       "  <th>Method:</th>                 <td>MLE</td>       <th>  Df Model:          </th>  <td>     3</td> \n",
       "</tr>\n",
       "<tr>\n",
       "  <th>Date:</th>            <td>Mon, 01 Jun 2020</td> <th>  Pseudo R-squ.:     </th>  <td>0.01303</td>\n",
       "</tr>\n",
       "<tr>\n",
       "  <th>Time:</th>                <td>16:04:34</td>     <th>  Log-Likelihood:    </th> <td> -84359.</td>\n",
       "</tr>\n",
       "<tr>\n",
       "  <th>converged:</th>             <td>True</td>       <th>  LL-Null:           </th> <td> -85473.</td>\n",
       "</tr>\n",
       "<tr>\n",
       "  <th>Covariance Type:</th>     <td>nonrobust</td>    <th>  LLR p-value:       </th>  <td> 0.000</td> \n",
       "</tr>\n",
       "</table>\n",
       "<table class=\"simpletable\">\n",
       "<tr>\n",
       "            <td></td>               <th>coef</th>     <th>std err</th>      <th>z</th>      <th>P>|z|</th>  <th>[0.025</th>    <th>0.975]</th>  \n",
       "</tr>\n",
       "<tr>\n",
       "  <th>Intercept</th>             <td>    0.2752</td> <td>    0.012</td> <td>   22.901</td> <td> 0.000</td> <td>    0.252</td> <td>    0.299</td>\n",
       "</tr>\n",
       "<tr>\n",
       "  <th>is_author_type_shared</th> <td>    0.1167</td> <td>    0.012</td> <td>    9.402</td> <td> 0.000</td> <td>    0.092</td> <td>    0.141</td>\n",
       "</tr>\n",
       "<tr>\n",
       "  <th>int_count</th>             <td>   -0.0028</td> <td>    0.000</td> <td>  -25.380</td> <td> 0.000</td> <td>   -0.003</td> <td>   -0.003</td>\n",
       "</tr>\n",
       "<tr>\n",
       "  <th>duration_months</th>       <td>   -0.0060</td> <td>    0.000</td> <td>  -25.413</td> <td> 0.000</td> <td>   -0.006</td> <td>   -0.006</td>\n",
       "</tr>\n",
       "</table>"
      ],
      "text/plain": [
       "<class 'statsmodels.iolib.summary.Summary'>\n",
       "\"\"\"\n",
       "                           Logit Regression Results                           \n",
       "==============================================================================\n",
       "Dep. Variable:            is_balanced   No. Observations:               123540\n",
       "Model:                          Logit   Df Residuals:                   123536\n",
       "Method:                           MLE   Df Model:                            3\n",
       "Date:                Mon, 01 Jun 2020   Pseudo R-squ.:                 0.01303\n",
       "Time:                        16:04:34   Log-Likelihood:                -84359.\n",
       "converged:                       True   LL-Null:                       -85473.\n",
       "Covariance Type:            nonrobust   LLR p-value:                     0.000\n",
       "=========================================================================================\n",
       "                            coef    std err          z      P>|z|      [0.025      0.975]\n",
       "-----------------------------------------------------------------------------------------\n",
       "Intercept                 0.2752      0.012     22.901      0.000       0.252       0.299\n",
       "is_author_type_shared     0.1167      0.012      9.402      0.000       0.092       0.141\n",
       "int_count                -0.0028      0.000    -25.380      0.000      -0.003      -0.003\n",
       "duration_months          -0.0060      0.000    -25.413      0.000      -0.006      -0.006\n",
       "=========================================================================================\n",
       "\"\"\""
      ]
     },
     "execution_count": 115,
     "metadata": {},
     "output_type": "execute_result"
    }
   ],
   "source": [
    "formula = \"\"\"\n",
    "is_balanced ~  \n",
    "    is_author_type_shared\n",
    "    + int_count\n",
    "    + duration_months\n",
    "    + 1\n",
    "\"\"\"\n",
    "model = smf.logit(formula=formula, \n",
    "                  data=rel_df)\n",
    "res = model.fit(maxiter=100)\n",
    "print_feature_summary(res)\n",
    "res.summary()"
   ]
  },
  {
   "cell_type": "code",
   "execution_count": 116,
   "metadata": {},
   "outputs": [
    {
     "data": {
      "text/plain": [
       "0.6897199287680104"
      ]
     },
     "execution_count": 116,
     "metadata": {},
     "output_type": "execute_result"
    }
   ],
   "source": [
    "# 68\\% of relationships are between authors with a shared role\n",
    "len(rel_df[rel_df.initiator_author_type == rel_df.reciprocator_author_type]) / len(rel_df)"
   ]
  },
  {
   "cell_type": "code",
   "execution_count": null,
   "metadata": {},
   "outputs": [],
   "source": []
  }
 ],
 "metadata": {
  "kernelspec": {
   "display_name": "Python (shared-conda)",
   "language": "python",
   "name": "shared-conda"
  },
  "language_info": {
   "codemirror_mode": {
    "name": "ipython",
    "version": 3
   },
   "file_extension": ".py",
   "mimetype": "text/x-python",
   "name": "python",
   "nbconvert_exporter": "python",
   "pygments_lexer": "ipython3",
   "version": "3.7.3"
  }
 },
 "nbformat": 4,
 "nbformat_minor": 2
}
