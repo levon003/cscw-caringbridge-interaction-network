{
 "cells": [
  {
   "cell_type": "markdown",
   "metadata": {},
   "source": [
    "Filter and Merge Extracted Interactions\n",
    "===\n",
    "\n",
    "For Ruyuan Wan's survival analysis, which requires different conditions.\n",
    "\n",
    "Builds on the three `Extraction` jupyter notebooks in this directory."
   ]
  },
  {
   "cell_type": "code",
   "execution_count": 1,
   "metadata": {},
   "outputs": [],
   "source": [
    "%reload_ext autoreload\n",
    "%autoreload 2\n",
    "%matplotlib inline"
   ]
  },
  {
   "cell_type": "code",
   "execution_count": 2,
   "metadata": {},
   "outputs": [],
   "source": [
    "import os\n",
    "import re\n",
    "import pandas as pd\n",
    "import numpy as np\n",
    "\n",
    "from collections import Counter, defaultdict\n",
    "import sqlite3\n",
    "from nltk import word_tokenize\n",
    "from html.parser import HTMLParser\n",
    "from tqdm import tqdm\n",
    "import random\n",
    "import pickle\n",
    "import json\n",
    "\n",
    "from datetime import datetime\n",
    "from datetime import timezone\n",
    "from pprint import pprint\n",
    "\n",
    "import matplotlib.pyplot as plt\n",
    "import matplotlib.dates as md\n",
    "import matplotlib\n",
    "import pylab as pl\n",
    "from IPython.core.display import display, HTML"
   ]
  },
  {
   "cell_type": "code",
   "execution_count": 3,
   "metadata": {},
   "outputs": [
    {
     "data": {
      "text/plain": [
       "PosixPath('/panfs/roc/groups/3/srivbane/levon003/repos/sna-social-support')"
      ]
     },
     "execution_count": 3,
     "metadata": {},
     "output_type": "execute_result"
    }
   ],
   "source": [
    "from pathlib import Path\n",
    "git_root_dir = !git rev-parse --show-toplevel\n",
    "git_root_dir = Path(git_root_dir[0].strip())\n",
    "git_root_dir"
   ]
  },
  {
   "cell_type": "code",
   "execution_count": 4,
   "metadata": {},
   "outputs": [],
   "source": [
    "import sys\n",
    "caringbridge_core_path = \"/home/srivbane/levon003/repos/caringbridge_core\"\n",
    "sys.path.append(caringbridge_core_path)"
   ]
  },
  {
   "cell_type": "code",
   "execution_count": 5,
   "metadata": {},
   "outputs": [],
   "source": [
    "import cbcore.data.paths as paths\n",
    "import cbcore.data.dates as dates"
   ]
  },
  {
   "cell_type": "code",
   "execution_count": 6,
   "metadata": {},
   "outputs": [],
   "source": [
    "working_dir = \"/home/lana/shared/caringbridge/data/projects/sna-social-support/survival_analysis_interactions\"\n",
    "assert os.path.exists(working_dir)"
   ]
  },
  {
   "cell_type": "markdown",
   "metadata": {},
   "source": [
    "### Load the site metadata"
   ]
  },
  {
   "cell_type": "code",
   "execution_count": 30,
   "metadata": {},
   "outputs": [
    {
     "data": {
      "text/plain": [
       "840943"
      ]
     },
     "execution_count": 30,
     "metadata": {},
     "output_type": "execute_result"
    }
   ],
   "source": [
    "site_metadata_filepath = \"/home/lana/shared/caringbridge/data/derived/site_metadata/site_metadata.feather\"\n",
    "site_df = pd.read_feather(site_metadata_filepath)\n",
    "len(site_df)"
   ]
  },
  {
   "cell_type": "markdown",
   "metadata": {},
   "source": [
    "Filter by three conditions."
   ]
  },
  {
   "cell_type": "code",
   "execution_count": 31,
   "metadata": {},
   "outputs": [
    {
     "data": {
      "text/plain": [
       "654980"
      ]
     },
     "execution_count": 31,
     "metadata": {},
     "output_type": "execute_result"
    }
   ],
   "source": [
    "len(site_df[site_df.visits > 2])"
   ]
  },
  {
   "cell_type": "code",
   "execution_count": 32,
   "metadata": {},
   "outputs": [
    {
     "data": {
      "text/plain": [
       "748405"
      ]
     },
     "execution_count": 32,
     "metadata": {},
     "output_type": "execute_result"
    }
   ],
   "source": [
    "len(site_df[site_df.isSpam.isna()])"
   ]
  },
  {
   "cell_type": "code",
   "execution_count": 33,
   "metadata": {},
   "outputs": [
    {
     "data": {
      "text/plain": [
       "675234"
      ]
     },
     "execution_count": 33,
     "metadata": {},
     "output_type": "execute_result"
    }
   ],
   "source": [
    "len(site_df[(site_df.isDeleted.isna())|(site_df.isDeleted == '0')])"
   ]
  },
  {
   "cell_type": "code",
   "execution_count": 34,
   "metadata": {},
   "outputs": [
    {
     "data": {
      "text/plain": [
       "535984"
      ]
     },
     "execution_count": 34,
     "metadata": {},
     "output_type": "execute_result"
    }
   ],
   "source": [
    "subset_site_df = site_df[(site_df.visits > 2)&(site_df.isSpam.isna())&((site_df.isDeleted.isna())|(site_df.isDeleted == '0'))]\n",
    "len(subset_site_df)"
   ]
  },
  {
   "cell_type": "code",
   "execution_count": 35,
   "metadata": {},
   "outputs": [
    {
     "data": {
      "text/plain": [
       "535984"
      ]
     },
     "execution_count": 35,
     "metadata": {},
     "output_type": "execute_result"
    }
   ],
   "source": [
    "valid_site_ids = set(subset_site_df.site_id)\n",
    "len(valid_site_ids)"
   ]
  },
  {
   "cell_type": "markdown",
   "metadata": {},
   "source": [
    "### Define valid time range"
   ]
  },
  {
   "cell_type": "code",
   "execution_count": 18,
   "metadata": {},
   "outputs": [
    {
     "data": {
      "text/plain": [
       "(1388534400000, 1550534400000)"
      ]
     },
     "execution_count": 18,
     "metadata": {},
     "output_type": "execute_result"
    }
   ],
   "source": [
    "start_date = datetime.fromisoformat('2014-01-01').replace(tzinfo=timezone.utc)\n",
    "start_timestamp = int(start_date.timestamp()) * 1000\n",
    "end_date = datetime.fromisoformat('2019-02-19').replace(tzinfo=timezone.utc)\n",
    "end_timestamp = int(end_date.timestamp()) * 1000\n",
    "start_timestamp, end_timestamp"
   ]
  },
  {
   "cell_type": "markdown",
   "metadata": {},
   "source": [
    "### Filter raw interactions files\n",
    "\n",
    "Filters each interactions file to include only selected users.\n",
    "\n",
    "We filter first to greatly reduce the size of the data when we subsequently merge."
   ]
  },
  {
   "cell_type": "code",
   "execution_count": 14,
   "metadata": {},
   "outputs": [],
   "source": [
    "source_dir = \"/home/lana/shared/caringbridge/data/projects/sna-social-support/csv_data\"\n",
    "gb_filepath = os.path.join(source_dir, \"old_gb_metadata_raw.csv\")\n",
    "comments_filepath = os.path.join(source_dir, \"new_comments_metadata_raw.csv\")\n",
    "amps_filepath = os.path.join(source_dir, \"new_amps_metadata_raw.csv\")\n",
    "\n",
    "gb_filtered_filepath = os.path.join(working_dir, \"old_gb_metadata_filtered.csv\")\n",
    "comments_filtered_filepath = os.path.join(working_dir, \"new_comments_metadata_filtered.csv\")\n",
    "amps_filtered_filepath = os.path.join(working_dir, \"new_amps_metadata_filtered.csv\")"
   ]
  },
  {
   "cell_type": "code",
   "execution_count": 15,
   "metadata": {},
   "outputs": [
    {
     "name": "stderr",
     "output_type": "stream",
     "text": [
      "new_comments_metadata_raw.csv: 31052715it [01:38, 314980.16it/s]\n",
      "new_amps_metadata_raw.csv: 43469it [00:00, 434686.27it/s]"
     ]
    },
    {
     "name": "stdout",
     "output_type": "stream",
     "text": [
      "/home/lana/shared/caringbridge/data/projects/sna-social-support/survival_analysis_interactions/new_comments_metadata_filtered.csv\n",
      "Invalid site: 668717\n",
      "Invalid time: 413761\n"
     ]
    },
    {
     "name": "stderr",
     "output_type": "stream",
     "text": [
      "new_amps_metadata_raw.csv: 63314738it [02:52, 367275.98it/s]"
     ]
    },
    {
     "name": "stdout",
     "output_type": "stream",
     "text": [
      "/home/lana/shared/caringbridge/data/projects/sna-social-support/survival_analysis_interactions/new_amps_metadata_filtered.csv\n",
      "Invalid site: 1120826\n",
      "Invalid time: 25234692\n",
      "Finished filtering files.\n"
     ]
    },
    {
     "name": "stderr",
     "output_type": "stream",
     "text": [
      "\n"
     ]
    }
   ],
   "source": [
    "for input_filepath, output_filepath in [(comments_filepath, comments_filtered_filepath), \n",
    "                                        (amps_filepath, amps_filtered_filepath)]:\n",
    "    skipped_for_invalid_site_count = 0\n",
    "    skipped_for_invalid_time_count = 0\n",
    "    with open(input_filepath, 'r') as infile:\n",
    "        with open(output_filepath, 'w') as outfile:\n",
    "            for line in tqdm(infile, desc=os.path.basename(input_filepath)):\n",
    "                if line.strip() == \"\":\n",
    "                    continue\n",
    "                site_id = int(line.split(\",\")[1])\n",
    "                try:\n",
    "                    created_at = int(line.split(\",\")[-2])\n",
    "                except:\n",
    "                    continue\n",
    "                if site_id in valid_site_ids:\n",
    "                    if created_at >= start_timestamp and created_at <= end_timestamp:\n",
    "                        outfile.write(line)\n",
    "                    else:\n",
    "                        skipped_for_invalid_time_count += 1\n",
    "                else:\n",
    "                    skipped_for_invalid_site_count += 1\n",
    "            print(output_filepath)\n",
    "            print(f\"Invalid site: {skipped_for_invalid_site_count}\")\n",
    "            print(f\"Invalid time: {skipped_for_invalid_time_count}\")\n",
    "\n",
    "print(\"Finished filtering files.\")"
   ]
  },
  {
   "cell_type": "markdown",
   "metadata": {},
   "source": [
    "Pre- and post-filtering word counts:\n",
    "```\n",
    "   63314738 new_amps_metadata_raw.csv\n",
    "   31052715 new_comments_metadata_raw.csv\n",
    "   \n",
    "   36959218 new_amps_metadata_filtered.csv\n",
    "   29970237 new_comments_metadata_filtered.csv\n",
    "\n",
    "```"
   ]
  },
  {
   "cell_type": "code",
   "execution_count": 16,
   "metadata": {},
   "outputs": [
    {
     "data": {
      "text/plain": [
       "(0.5837379916189498, 0.9651406326306734)"
      ]
     },
     "execution_count": 16,
     "metadata": {},
     "output_type": "execute_result"
    }
   ],
   "source": [
    "# proportion of remaining lines for amps and comments respectively\n",
    "36959218 / 63314738, 29970237 / 31052715"
   ]
  },
  {
   "cell_type": "markdown",
   "metadata": {},
   "source": [
    "### Read interactions data"
   ]
  },
  {
   "cell_type": "code",
   "execution_count": 17,
   "metadata": {},
   "outputs": [],
   "source": [
    "comments_cols = ['user_id','site_id','int_type','journal_oid','created_at','updated_at']\n",
    "amps_cols = ['user_id','site_id','journal_oid','journal_user_id','created_at','updated_at']"
   ]
  },
  {
   "cell_type": "code",
   "execution_count": 18,
   "metadata": {},
   "outputs": [
    {
     "name": "stdout",
     "output_type": "stream",
     "text": [
      "0:00:28.921994\n"
     ]
    },
    {
     "data": {
      "text/plain": [
       "29970237"
      ]
     },
     "execution_count": 18,
     "metadata": {},
     "output_type": "execute_result"
    }
   ],
   "source": [
    "s = datetime.now()\n",
    "comments_df = pd.read_csv(comments_filtered_filepath, header=None, names=comments_cols)\n",
    "print(datetime.now() - s)\n",
    "len(comments_df)"
   ]
  },
  {
   "cell_type": "code",
   "execution_count": 19,
   "metadata": {
    "scrolled": true
   },
   "outputs": [
    {
     "name": "stdout",
     "output_type": "stream",
     "text": [
      "0:00:32.089755\n"
     ]
    },
    {
     "data": {
      "text/plain": [
       "36959218"
      ]
     },
     "execution_count": 19,
     "metadata": {},
     "output_type": "execute_result"
    }
   ],
   "source": [
    "s = datetime.now()\n",
    "amps_df = pd.read_csv(amps_filtered_filepath, header=None, names=amps_cols)\n",
    "print(datetime.now() - s)\n",
    "len(amps_df)"
   ]
  },
  {
   "cell_type": "markdown",
   "metadata": {},
   "source": [
    "## Merge with journal data"
   ]
  },
  {
   "cell_type": "code",
   "execution_count": 20,
   "metadata": {},
   "outputs": [],
   "source": [
    "amps_df['int_type'] = 'amps'"
   ]
  },
  {
   "cell_type": "code",
   "execution_count": 21,
   "metadata": {},
   "outputs": [
    {
     "data": {
      "text/plain": [
       "66929455"
      ]
     },
     "execution_count": 21,
     "metadata": {},
     "output_type": "execute_result"
    }
   ],
   "source": [
    "ints_df = pd.concat([comments_df, amps_df.drop(columns='journal_user_id')], sort=False)\n",
    "ints_df.reset_index(drop=True, inplace=True)\n",
    "len(ints_df)"
   ]
  },
  {
   "cell_type": "code",
   "execution_count": 22,
   "metadata": {},
   "outputs": [],
   "source": [
    "assert len(ints_df) == len(amps_df) + len(comments_df)"
   ]
  },
  {
   "cell_type": "code",
   "execution_count": 23,
   "metadata": {},
   "outputs": [
    {
     "data": {
      "text/plain": [
       "Index(['user_id', 'site_id', 'int_type', 'journal_oid', 'created_at',\n",
       "       'updated_at'],\n",
       "      dtype='object')"
      ]
     },
     "execution_count": 23,
     "metadata": {},
     "output_type": "execute_result"
    }
   ],
   "source": [
    "ints_df.columns"
   ]
  },
  {
   "cell_type": "code",
   "execution_count": 24,
   "metadata": {},
   "outputs": [
    {
     "data": {
      "text/html": [
       "<div>\n",
       "<style scoped>\n",
       "    .dataframe tbody tr th:only-of-type {\n",
       "        vertical-align: middle;\n",
       "    }\n",
       "\n",
       "    .dataframe tbody tr th {\n",
       "        vertical-align: top;\n",
       "    }\n",
       "\n",
       "    .dataframe thead th {\n",
       "        text-align: right;\n",
       "    }\n",
       "</style>\n",
       "<table border=\"1\" class=\"dataframe\">\n",
       "  <thead>\n",
       "    <tr style=\"text-align: right;\">\n",
       "      <th></th>\n",
       "      <th>user_id</th>\n",
       "      <th>site_id</th>\n",
       "      <th>int_type</th>\n",
       "      <th>journal_oid</th>\n",
       "      <th>created_at</th>\n",
       "      <th>updated_at</th>\n",
       "    </tr>\n",
       "  </thead>\n",
       "  <tbody>\n",
       "    <tr>\n",
       "      <th>0</th>\n",
       "      <td>30129333</td>\n",
       "      <td>960159</td>\n",
       "      <td>comment</td>\n",
       "      <td>54a98e294db9219c2c5b688f</td>\n",
       "      <td>1420377990000</td>\n",
       "      <td>1420377990000</td>\n",
       "    </tr>\n",
       "    <tr>\n",
       "      <th>1</th>\n",
       "      <td>30129355</td>\n",
       "      <td>960155</td>\n",
       "      <td>comment</td>\n",
       "      <td>54a9920fac7ee9c67c1cda44</td>\n",
       "      <td>1420378155000</td>\n",
       "      <td>1420378155000</td>\n",
       "    </tr>\n",
       "    <tr>\n",
       "      <th>2</th>\n",
       "      <td>30129373</td>\n",
       "      <td>960159</td>\n",
       "      <td>comment</td>\n",
       "      <td>54a98e294db9219c2c5b688f</td>\n",
       "      <td>1420378420000</td>\n",
       "      <td>1420378420000</td>\n",
       "    </tr>\n",
       "    <tr>\n",
       "      <th>3</th>\n",
       "      <td>23112149</td>\n",
       "      <td>960155</td>\n",
       "      <td>comment</td>\n",
       "      <td>54a9920fac7ee9c67c1cda44</td>\n",
       "      <td>1420380812000</td>\n",
       "      <td>1420380812000</td>\n",
       "    </tr>\n",
       "    <tr>\n",
       "      <th>4</th>\n",
       "      <td>19857345</td>\n",
       "      <td>960159</td>\n",
       "      <td>comment</td>\n",
       "      <td>54a98e294db9219c2c5b688f</td>\n",
       "      <td>1420381422000</td>\n",
       "      <td>1420381422000</td>\n",
       "    </tr>\n",
       "  </tbody>\n",
       "</table>\n",
       "</div>"
      ],
      "text/plain": [
       "    user_id  site_id int_type               journal_oid     created_at  \\\n",
       "0  30129333   960159  comment  54a98e294db9219c2c5b688f  1420377990000   \n",
       "1  30129355   960155  comment  54a9920fac7ee9c67c1cda44  1420378155000   \n",
       "2  30129373   960159  comment  54a98e294db9219c2c5b688f  1420378420000   \n",
       "3  23112149   960155  comment  54a9920fac7ee9c67c1cda44  1420380812000   \n",
       "4  19857345   960159  comment  54a98e294db9219c2c5b688f  1420381422000   \n",
       "\n",
       "      updated_at  \n",
       "0  1420377990000  \n",
       "1  1420378155000  \n",
       "2  1420378420000  \n",
       "3  1420380812000  \n",
       "4  1420381422000  "
      ]
     },
     "execution_count": 24,
     "metadata": {},
     "output_type": "execute_result"
    }
   ],
   "source": [
    "ints_df.head()"
   ]
  },
  {
   "cell_type": "code",
   "execution_count": 25,
   "metadata": {},
   "outputs": [
    {
     "name": "stdout",
     "output_type": "stream",
     "text": [
      "0:00:31.959428\n"
     ]
    },
    {
     "data": {
      "text/plain": [
       "17893390"
      ]
     },
     "execution_count": 25,
     "metadata": {},
     "output_type": "execute_result"
    }
   ],
   "source": [
    "# load the journal metadata\n",
    "# load the dataframe with the index\n",
    "s = datetime.now()\n",
    "journal_metadata_dir = \"/home/srivbane/shared/caringbridge/data/derived/journal_metadata\"\n",
    "journal_metadata_filepath = os.path.join(journal_metadata_dir, \"journal_metadata.df\")\n",
    "journal_df = pd.read_feather(journal_metadata_filepath)\n",
    "print(datetime.now() - s)\n",
    "len(journal_df)"
   ]
  },
  {
   "cell_type": "code",
   "execution_count": 26,
   "metadata": {},
   "outputs": [
    {
     "data": {
      "text/html": [
       "<div>\n",
       "<style scoped>\n",
       "    .dataframe tbody tr th:only-of-type {\n",
       "        vertical-align: middle;\n",
       "    }\n",
       "\n",
       "    .dataframe tbody tr th {\n",
       "        vertical-align: top;\n",
       "    }\n",
       "\n",
       "    .dataframe thead th {\n",
       "        text-align: right;\n",
       "    }\n",
       "</style>\n",
       "<table border=\"1\" class=\"dataframe\">\n",
       "  <thead>\n",
       "    <tr style=\"text-align: right;\">\n",
       "      <th></th>\n",
       "      <th>created_at</th>\n",
       "      <th>journal_oid</th>\n",
       "      <th>published_at</th>\n",
       "      <th>site_id</th>\n",
       "      <th>updated_at</th>\n",
       "      <th>user_id</th>\n",
       "      <th>site_index</th>\n",
       "      <th>is_nontrivial</th>\n",
       "    </tr>\n",
       "  </thead>\n",
       "  <tbody>\n",
       "    <tr>\n",
       "      <th>0</th>\n",
       "      <td>1103856900000</td>\n",
       "      <td>51bdf3e56ca0048f4e00ced4</td>\n",
       "      <td>0</td>\n",
       "      <td>1</td>\n",
       "      <td>1103856900000</td>\n",
       "      <td>1</td>\n",
       "      <td>0</td>\n",
       "      <td>True</td>\n",
       "    </tr>\n",
       "    <tr>\n",
       "      <th>1</th>\n",
       "      <td>1103943240000</td>\n",
       "      <td>51bdf3e56ca0048f4e00ced2</td>\n",
       "      <td>0</td>\n",
       "      <td>1</td>\n",
       "      <td>1103943240000</td>\n",
       "      <td>1</td>\n",
       "      <td>1</td>\n",
       "      <td>True</td>\n",
       "    </tr>\n",
       "    <tr>\n",
       "      <th>2</th>\n",
       "      <td>1104288840000</td>\n",
       "      <td>51bdf3e56ca0048f4e00ced0</td>\n",
       "      <td>0</td>\n",
       "      <td>1</td>\n",
       "      <td>1104288840000</td>\n",
       "      <td>1</td>\n",
       "      <td>2</td>\n",
       "      <td>True</td>\n",
       "    </tr>\n",
       "    <tr>\n",
       "      <th>3</th>\n",
       "      <td>1104461640000</td>\n",
       "      <td>51bdf3e56ca0048f4e00cece</td>\n",
       "      <td>0</td>\n",
       "      <td>1</td>\n",
       "      <td>1104461640000</td>\n",
       "      <td>1</td>\n",
       "      <td>3</td>\n",
       "      <td>True</td>\n",
       "    </tr>\n",
       "    <tr>\n",
       "      <th>4</th>\n",
       "      <td>1104807180000</td>\n",
       "      <td>51bdf3e56ca0048f4e00cecc</td>\n",
       "      <td>0</td>\n",
       "      <td>1</td>\n",
       "      <td>1104807180000</td>\n",
       "      <td>1</td>\n",
       "      <td>4</td>\n",
       "      <td>True</td>\n",
       "    </tr>\n",
       "  </tbody>\n",
       "</table>\n",
       "</div>"
      ],
      "text/plain": [
       "      created_at               journal_oid  published_at  site_id  \\\n",
       "0  1103856900000  51bdf3e56ca0048f4e00ced4             0        1   \n",
       "1  1103943240000  51bdf3e56ca0048f4e00ced2             0        1   \n",
       "2  1104288840000  51bdf3e56ca0048f4e00ced0             0        1   \n",
       "3  1104461640000  51bdf3e56ca0048f4e00cece             0        1   \n",
       "4  1104807180000  51bdf3e56ca0048f4e00cecc             0        1   \n",
       "\n",
       "      updated_at  user_id  site_index  is_nontrivial  \n",
       "0  1103856900000        1           0           True  \n",
       "1  1103943240000        1           1           True  \n",
       "2  1104288840000        1           2           True  \n",
       "3  1104461640000        1           3           True  \n",
       "4  1104807180000        1           4           True  "
      ]
     },
     "execution_count": 26,
     "metadata": {},
     "output_type": "execute_result"
    }
   ],
   "source": [
    "journal_df.head()"
   ]
  },
  {
   "cell_type": "code",
   "execution_count": 27,
   "metadata": {},
   "outputs": [],
   "source": [
    "journal_df['int_type'] = 'journal'"
   ]
  },
  {
   "cell_type": "code",
   "execution_count": 28,
   "metadata": {},
   "outputs": [
    {
     "data": {
      "text/plain": [
       "84822845"
      ]
     },
     "execution_count": 28,
     "metadata": {},
     "output_type": "execute_result"
    }
   ],
   "source": [
    "journal_cols = ['user_id', 'site_id', 'int_type', 'created_at', 'updated_at', 'journal_oid', 'site_index', 'is_nontrivial']\n",
    "merged_df = pd.concat([ints_df, journal_df[journal_cols]], sort=False)\n",
    "assert len(merged_df) == len(ints_df) + len(journal_df)\n",
    "len(merged_df)"
   ]
  },
  {
   "cell_type": "code",
   "execution_count": 29,
   "metadata": {},
   "outputs": [
    {
     "data": {
      "text/html": [
       "<div>\n",
       "<style scoped>\n",
       "    .dataframe tbody tr th:only-of-type {\n",
       "        vertical-align: middle;\n",
       "    }\n",
       "\n",
       "    .dataframe tbody tr th {\n",
       "        vertical-align: top;\n",
       "    }\n",
       "\n",
       "    .dataframe thead th {\n",
       "        text-align: right;\n",
       "    }\n",
       "</style>\n",
       "<table border=\"1\" class=\"dataframe\">\n",
       "  <thead>\n",
       "    <tr style=\"text-align: right;\">\n",
       "      <th></th>\n",
       "      <th>user_id</th>\n",
       "      <th>site_id</th>\n",
       "      <th>int_type</th>\n",
       "      <th>journal_oid</th>\n",
       "      <th>created_at</th>\n",
       "      <th>updated_at</th>\n",
       "      <th>site_index</th>\n",
       "      <th>is_nontrivial</th>\n",
       "    </tr>\n",
       "  </thead>\n",
       "  <tbody>\n",
       "    <tr>\n",
       "      <th>0</th>\n",
       "      <td>30129333</td>\n",
       "      <td>960159</td>\n",
       "      <td>comment</td>\n",
       "      <td>54a98e294db9219c2c5b688f</td>\n",
       "      <td>1420377990000</td>\n",
       "      <td>1420377990000</td>\n",
       "      <td>NaN</td>\n",
       "      <td>NaN</td>\n",
       "    </tr>\n",
       "    <tr>\n",
       "      <th>1</th>\n",
       "      <td>30129355</td>\n",
       "      <td>960155</td>\n",
       "      <td>comment</td>\n",
       "      <td>54a9920fac7ee9c67c1cda44</td>\n",
       "      <td>1420378155000</td>\n",
       "      <td>1420378155000</td>\n",
       "      <td>NaN</td>\n",
       "      <td>NaN</td>\n",
       "    </tr>\n",
       "    <tr>\n",
       "      <th>2</th>\n",
       "      <td>30129373</td>\n",
       "      <td>960159</td>\n",
       "      <td>comment</td>\n",
       "      <td>54a98e294db9219c2c5b688f</td>\n",
       "      <td>1420378420000</td>\n",
       "      <td>1420378420000</td>\n",
       "      <td>NaN</td>\n",
       "      <td>NaN</td>\n",
       "    </tr>\n",
       "    <tr>\n",
       "      <th>3</th>\n",
       "      <td>23112149</td>\n",
       "      <td>960155</td>\n",
       "      <td>comment</td>\n",
       "      <td>54a9920fac7ee9c67c1cda44</td>\n",
       "      <td>1420380812000</td>\n",
       "      <td>1420380812000</td>\n",
       "      <td>NaN</td>\n",
       "      <td>NaN</td>\n",
       "    </tr>\n",
       "    <tr>\n",
       "      <th>4</th>\n",
       "      <td>19857345</td>\n",
       "      <td>960159</td>\n",
       "      <td>comment</td>\n",
       "      <td>54a98e294db9219c2c5b688f</td>\n",
       "      <td>1420381422000</td>\n",
       "      <td>1420381422000</td>\n",
       "      <td>NaN</td>\n",
       "      <td>NaN</td>\n",
       "    </tr>\n",
       "  </tbody>\n",
       "</table>\n",
       "</div>"
      ],
      "text/plain": [
       "    user_id  site_id int_type               journal_oid     created_at  \\\n",
       "0  30129333   960159  comment  54a98e294db9219c2c5b688f  1420377990000   \n",
       "1  30129355   960155  comment  54a9920fac7ee9c67c1cda44  1420378155000   \n",
       "2  30129373   960159  comment  54a98e294db9219c2c5b688f  1420378420000   \n",
       "3  23112149   960155  comment  54a9920fac7ee9c67c1cda44  1420380812000   \n",
       "4  19857345   960159  comment  54a98e294db9219c2c5b688f  1420381422000   \n",
       "\n",
       "      updated_at  site_index is_nontrivial  \n",
       "0  1420377990000         NaN           NaN  \n",
       "1  1420378155000         NaN           NaN  \n",
       "2  1420378420000         NaN           NaN  \n",
       "3  1420380812000         NaN           NaN  \n",
       "4  1420381422000         NaN           NaN  "
      ]
     },
     "execution_count": 29,
     "metadata": {},
     "output_type": "execute_result"
    }
   ],
   "source": [
    "merged_df.head()"
   ]
  },
  {
   "cell_type": "code",
   "execution_count": 30,
   "metadata": {},
   "outputs": [
    {
     "name": "stderr",
     "output_type": "stream",
     "text": [
      "100%|██████████| 17893390/17893390 [00:16<00:00, 1096137.23it/s]\n"
     ]
    }
   ],
   "source": [
    "# construct a map of (user_id) -> set(site_id)\n",
    "# captures all sites on which a user_id has authored at least a single journal update\n",
    "author_site_map = defaultdict(set)\n",
    "for user_id, site_id in tqdm(zip(journal_df.user_id, journal_df.site_id), total=len(journal_df)):\n",
    "    author_site_map[user_id].add(site_id)"
   ]
  },
  {
   "cell_type": "code",
   "execution_count": 31,
   "metadata": {},
   "outputs": [
    {
     "name": "stdout",
     "output_type": "stream",
     "text": [
      "0:58:24.567392\n"
     ]
    }
   ],
   "source": [
    "s = datetime.now()\n",
    "merged_df = merged_df.assign(is_self_interaction=merged_df.apply(lambda row: row.site_id in author_site_map[row.user_id], axis=1))\n",
    "print(datetime.now() - s)"
   ]
  },
  {
   "cell_type": "code",
   "execution_count": 32,
   "metadata": {},
   "outputs": [],
   "source": [
    "# quickly verify that journal OIDs are unique\n",
    "assert len(journal_df) == len(set(journal_df.journal_oid))"
   ]
  },
  {
   "cell_type": "code",
   "execution_count": 33,
   "metadata": {},
   "outputs": [],
   "source": [
    "journal_oid_index_map = {journal_oid: site_index\n",
    "    for journal_oid, site_index in zip(journal_df.journal_oid, journal_df.site_index)\n",
    "}"
   ]
  },
  {
   "cell_type": "code",
   "execution_count": 34,
   "metadata": {},
   "outputs": [
    {
     "data": {
      "text/html": [
       "<div>\n",
       "<style scoped>\n",
       "    .dataframe tbody tr th:only-of-type {\n",
       "        vertical-align: middle;\n",
       "    }\n",
       "\n",
       "    .dataframe tbody tr th {\n",
       "        vertical-align: top;\n",
       "    }\n",
       "\n",
       "    .dataframe thead th {\n",
       "        text-align: right;\n",
       "    }\n",
       "</style>\n",
       "<table border=\"1\" class=\"dataframe\">\n",
       "  <thead>\n",
       "    <tr style=\"text-align: right;\">\n",
       "      <th></th>\n",
       "      <th>user_id</th>\n",
       "      <th>site_id</th>\n",
       "      <th>int_type</th>\n",
       "      <th>journal_oid</th>\n",
       "      <th>created_at</th>\n",
       "      <th>updated_at</th>\n",
       "      <th>site_index</th>\n",
       "      <th>is_nontrivial</th>\n",
       "      <th>is_self_interaction</th>\n",
       "    </tr>\n",
       "  </thead>\n",
       "  <tbody>\n",
       "    <tr>\n",
       "      <th>0</th>\n",
       "      <td>30129333</td>\n",
       "      <td>960159</td>\n",
       "      <td>comment</td>\n",
       "      <td>54a98e294db9219c2c5b688f</td>\n",
       "      <td>1420377990000</td>\n",
       "      <td>1420377990000</td>\n",
       "      <td>NaN</td>\n",
       "      <td>NaN</td>\n",
       "      <td>False</td>\n",
       "    </tr>\n",
       "    <tr>\n",
       "      <th>1</th>\n",
       "      <td>30129355</td>\n",
       "      <td>960155</td>\n",
       "      <td>comment</td>\n",
       "      <td>54a9920fac7ee9c67c1cda44</td>\n",
       "      <td>1420378155000</td>\n",
       "      <td>1420378155000</td>\n",
       "      <td>NaN</td>\n",
       "      <td>NaN</td>\n",
       "      <td>False</td>\n",
       "    </tr>\n",
       "    <tr>\n",
       "      <th>2</th>\n",
       "      <td>30129373</td>\n",
       "      <td>960159</td>\n",
       "      <td>comment</td>\n",
       "      <td>54a98e294db9219c2c5b688f</td>\n",
       "      <td>1420378420000</td>\n",
       "      <td>1420378420000</td>\n",
       "      <td>NaN</td>\n",
       "      <td>NaN</td>\n",
       "      <td>False</td>\n",
       "    </tr>\n",
       "    <tr>\n",
       "      <th>3</th>\n",
       "      <td>23112149</td>\n",
       "      <td>960155</td>\n",
       "      <td>comment</td>\n",
       "      <td>54a9920fac7ee9c67c1cda44</td>\n",
       "      <td>1420380812000</td>\n",
       "      <td>1420380812000</td>\n",
       "      <td>NaN</td>\n",
       "      <td>NaN</td>\n",
       "      <td>False</td>\n",
       "    </tr>\n",
       "    <tr>\n",
       "      <th>4</th>\n",
       "      <td>19857345</td>\n",
       "      <td>960159</td>\n",
       "      <td>comment</td>\n",
       "      <td>54a98e294db9219c2c5b688f</td>\n",
       "      <td>1420381422000</td>\n",
       "      <td>1420381422000</td>\n",
       "      <td>NaN</td>\n",
       "      <td>NaN</td>\n",
       "      <td>False</td>\n",
       "    </tr>\n",
       "  </tbody>\n",
       "</table>\n",
       "</div>"
      ],
      "text/plain": [
       "    user_id  site_id int_type               journal_oid     created_at  \\\n",
       "0  30129333   960159  comment  54a98e294db9219c2c5b688f  1420377990000   \n",
       "1  30129355   960155  comment  54a9920fac7ee9c67c1cda44  1420378155000   \n",
       "2  30129373   960159  comment  54a98e294db9219c2c5b688f  1420378420000   \n",
       "3  23112149   960155  comment  54a9920fac7ee9c67c1cda44  1420380812000   \n",
       "4  19857345   960159  comment  54a98e294db9219c2c5b688f  1420381422000   \n",
       "\n",
       "      updated_at  site_index is_nontrivial  is_self_interaction  \n",
       "0  1420377990000         NaN           NaN                False  \n",
       "1  1420378155000         NaN           NaN                False  \n",
       "2  1420378420000         NaN           NaN                False  \n",
       "3  1420380812000         NaN           NaN                False  \n",
       "4  1420381422000         NaN           NaN                False  "
      ]
     },
     "execution_count": 34,
     "metadata": {},
     "output_type": "execute_result"
    }
   ],
   "source": [
    "merged_df.head()"
   ]
  },
  {
   "cell_type": "code",
   "execution_count": 35,
   "metadata": {},
   "outputs": [
    {
     "name": "stdout",
     "output_type": "stream",
     "text": [
      "0:01:21.382510\n"
     ]
    }
   ],
   "source": [
    "# add site_index info to all interactions with a journal_oid\n",
    "s = datetime.now()\n",
    "merged_df.loc[~pd.isnull(merged_df.journal_oid), 'site_index'] = merged_df.loc[~pd.isnull(merged_df.journal_oid), 'journal_oid'].map(lambda journal_oid: journal_oid_index_map[journal_oid] if journal_oid in journal_oid_index_map else -1)\n",
    "print(datetime.now() - s)"
   ]
  },
  {
   "cell_type": "code",
   "execution_count": 36,
   "metadata": {},
   "outputs": [
    {
     "data": {
      "text/plain": [
       "1428"
      ]
     },
     "execution_count": 36,
     "metadata": {},
     "output_type": "execute_result"
    }
   ],
   "source": [
    "# only 229 journals are reference by a journal oid that we don't have in the journal data\n",
    "ints_journal_oid_set = set(ints_df.journal_oid)\n",
    "journals_journal_oid_set = set(journal_df.journal_oid)\n",
    "len(ints_journal_oid_set - journals_journal_oid_set)"
   ]
  },
  {
   "cell_type": "code",
   "execution_count": 37,
   "metadata": {},
   "outputs": [
    {
     "data": {
      "text/plain": [
       "3000"
      ]
     },
     "execution_count": 37,
     "metadata": {},
     "output_type": "execute_result"
    }
   ],
   "source": [
    "len(merged_df[merged_df.site_index == -1])"
   ]
  },
  {
   "cell_type": "code",
   "execution_count": 38,
   "metadata": {},
   "outputs": [],
   "source": [
    "merged_df.reset_index(drop=True, inplace=True)"
   ]
  },
  {
   "cell_type": "code",
   "execution_count": 39,
   "metadata": {},
   "outputs": [
    {
     "data": {
      "text/html": [
       "<div>\n",
       "<style scoped>\n",
       "    .dataframe tbody tr th:only-of-type {\n",
       "        vertical-align: middle;\n",
       "    }\n",
       "\n",
       "    .dataframe tbody tr th {\n",
       "        vertical-align: top;\n",
       "    }\n",
       "\n",
       "    .dataframe thead th {\n",
       "        text-align: right;\n",
       "    }\n",
       "</style>\n",
       "<table border=\"1\" class=\"dataframe\">\n",
       "  <thead>\n",
       "    <tr style=\"text-align: right;\">\n",
       "      <th></th>\n",
       "      <th>user_id</th>\n",
       "      <th>site_id</th>\n",
       "      <th>int_type</th>\n",
       "      <th>journal_oid</th>\n",
       "      <th>created_at</th>\n",
       "      <th>updated_at</th>\n",
       "      <th>site_index</th>\n",
       "      <th>is_nontrivial</th>\n",
       "      <th>is_self_interaction</th>\n",
       "    </tr>\n",
       "  </thead>\n",
       "  <tbody>\n",
       "    <tr>\n",
       "      <th>0</th>\n",
       "      <td>30129333</td>\n",
       "      <td>960159</td>\n",
       "      <td>comment</td>\n",
       "      <td>54a98e294db9219c2c5b688f</td>\n",
       "      <td>1420377990000</td>\n",
       "      <td>1420377990000</td>\n",
       "      <td>1</td>\n",
       "      <td>NaN</td>\n",
       "      <td>False</td>\n",
       "    </tr>\n",
       "    <tr>\n",
       "      <th>1</th>\n",
       "      <td>30129355</td>\n",
       "      <td>960155</td>\n",
       "      <td>comment</td>\n",
       "      <td>54a9920fac7ee9c67c1cda44</td>\n",
       "      <td>1420378155000</td>\n",
       "      <td>1420378155000</td>\n",
       "      <td>0</td>\n",
       "      <td>NaN</td>\n",
       "      <td>False</td>\n",
       "    </tr>\n",
       "    <tr>\n",
       "      <th>2</th>\n",
       "      <td>30129373</td>\n",
       "      <td>960159</td>\n",
       "      <td>comment</td>\n",
       "      <td>54a98e294db9219c2c5b688f</td>\n",
       "      <td>1420378420000</td>\n",
       "      <td>1420378420000</td>\n",
       "      <td>1</td>\n",
       "      <td>NaN</td>\n",
       "      <td>False</td>\n",
       "    </tr>\n",
       "    <tr>\n",
       "      <th>3</th>\n",
       "      <td>23112149</td>\n",
       "      <td>960155</td>\n",
       "      <td>comment</td>\n",
       "      <td>54a9920fac7ee9c67c1cda44</td>\n",
       "      <td>1420380812000</td>\n",
       "      <td>1420380812000</td>\n",
       "      <td>0</td>\n",
       "      <td>NaN</td>\n",
       "      <td>False</td>\n",
       "    </tr>\n",
       "    <tr>\n",
       "      <th>4</th>\n",
       "      <td>19857345</td>\n",
       "      <td>960159</td>\n",
       "      <td>comment</td>\n",
       "      <td>54a98e294db9219c2c5b688f</td>\n",
       "      <td>1420381422000</td>\n",
       "      <td>1420381422000</td>\n",
       "      <td>1</td>\n",
       "      <td>NaN</td>\n",
       "      <td>False</td>\n",
       "    </tr>\n",
       "  </tbody>\n",
       "</table>\n",
       "</div>"
      ],
      "text/plain": [
       "    user_id  site_id int_type               journal_oid     created_at  \\\n",
       "0  30129333   960159  comment  54a98e294db9219c2c5b688f  1420377990000   \n",
       "1  30129355   960155  comment  54a9920fac7ee9c67c1cda44  1420378155000   \n",
       "2  30129373   960159  comment  54a98e294db9219c2c5b688f  1420378420000   \n",
       "3  23112149   960155  comment  54a9920fac7ee9c67c1cda44  1420380812000   \n",
       "4  19857345   960159  comment  54a98e294db9219c2c5b688f  1420381422000   \n",
       "\n",
       "      updated_at  site_index is_nontrivial  is_self_interaction  \n",
       "0  1420377990000           1           NaN                False  \n",
       "1  1420378155000           0           NaN                False  \n",
       "2  1420378420000           1           NaN                False  \n",
       "3  1420380812000           0           NaN                False  \n",
       "4  1420381422000           1           NaN                False  "
      ]
     },
     "execution_count": 39,
     "metadata": {},
     "output_type": "execute_result"
    }
   ],
   "source": [
    "merged_df.head()"
   ]
  },
  {
   "cell_type": "code",
   "execution_count": 40,
   "metadata": {},
   "outputs": [
    {
     "name": "stderr",
     "output_type": "stream",
     "text": [
      "/home/srivbane/shared/anaconda3/lib/python3.7/site-packages/pyarrow/feather.py:83: FutureWarning: The SparseDataFrame class is removed from pandas. Accessing it from the top-level namespace will also be removed in the next version\n",
      "  if isinstance(df, _pandas_api.pd.SparseDataFrame):\n"
     ]
    },
    {
     "name": "stdout",
     "output_type": "stream",
     "text": [
      "Finished.\n"
     ]
    }
   ],
   "source": [
    "user_metadata_dir = \"/home/lana/shared/caringbridge/data/projects/sna-social-support/survival_analysis_interactions\"\n",
    "interaction_metadata_filepath = os.path.join(user_metadata_dir, \"interaction_metadata.feather\")\n",
    "merged_df.to_feather(interaction_metadata_filepath)\n",
    "print(\"Finished.\")"
   ]
  },
  {
   "cell_type": "code",
   "execution_count": 41,
   "metadata": {},
   "outputs": [
    {
     "name": "stdout",
     "output_type": "stream",
     "text": [
      "0:05:52.632017\n",
      "Finished.\n"
     ]
    }
   ],
   "source": [
    "s = datetime.now()\n",
    "user_metadata_dir = \"/home/lana/shared/caringbridge/data/projects/sna-social-support/survival_analysis_interactions\"\n",
    "interaction_metadata_filepath = os.path.join(user_metadata_dir, \"interaction_metadata.csv\")\n",
    "merged_df.to_csv(interaction_metadata_filepath, index=False)\n",
    "print(f\"{datetime.now() - s}\")\n",
    "print(\"Finished.\")"
   ]
  },
  {
   "cell_type": "code",
   "execution_count": null,
   "metadata": {},
   "outputs": [],
   "source": []
  },
  {
   "cell_type": "code",
   "execution_count": 7,
   "metadata": {},
   "outputs": [
    {
     "data": {
      "text/plain": [
       "84822845"
      ]
     },
     "execution_count": 7,
     "metadata": {},
     "output_type": "execute_result"
    }
   ],
   "source": [
    "user_metadata_dir = \"/home/lana/shared/caringbridge/data/projects/sna-social-support/survival_analysis_interactions\"\n",
    "interaction_metadata_filepath = os.path.join(user_metadata_dir, \"interaction_metadata.feather\")\n",
    "merged_df =  pd.read_feather(interaction_metadata_filepath)\n",
    "len(merged_df)"
   ]
  },
  {
   "cell_type": "markdown",
   "metadata": {},
   "source": [
    "### Compute metrics and validate"
   ]
  },
  {
   "cell_type": "code",
   "execution_count": 8,
   "metadata": {},
   "outputs": [
    {
     "data": {
      "text/html": [
       "<div>\n",
       "<style scoped>\n",
       "    .dataframe tbody tr th:only-of-type {\n",
       "        vertical-align: middle;\n",
       "    }\n",
       "\n",
       "    .dataframe tbody tr th {\n",
       "        vertical-align: top;\n",
       "    }\n",
       "\n",
       "    .dataframe thead th {\n",
       "        text-align: right;\n",
       "    }\n",
       "</style>\n",
       "<table border=\"1\" class=\"dataframe\">\n",
       "  <thead>\n",
       "    <tr style=\"text-align: right;\">\n",
       "      <th></th>\n",
       "      <th>user_id</th>\n",
       "      <th>site_id</th>\n",
       "      <th>int_type</th>\n",
       "      <th>journal_oid</th>\n",
       "      <th>created_at</th>\n",
       "      <th>updated_at</th>\n",
       "      <th>site_index</th>\n",
       "      <th>is_nontrivial</th>\n",
       "      <th>is_self_interaction</th>\n",
       "    </tr>\n",
       "  </thead>\n",
       "  <tbody>\n",
       "    <tr>\n",
       "      <th>2455068</th>\n",
       "      <td>28109834</td>\n",
       "      <td>1031356</td>\n",
       "      <td>comment</td>\n",
       "      <td>556e79fb4db92143759c188d</td>\n",
       "      <td>1433364616000</td>\n",
       "      <td>1433364616000</td>\n",
       "      <td>0</td>\n",
       "      <td>None</td>\n",
       "      <td>False</td>\n",
       "    </tr>\n",
       "    <tr>\n",
       "      <th>37535627</th>\n",
       "      <td>30906241</td>\n",
       "      <td>1031356</td>\n",
       "      <td>amps</td>\n",
       "      <td>556e79fb4db92143759c188d</td>\n",
       "      <td>1433303547000</td>\n",
       "      <td>1433303547000</td>\n",
       "      <td>0</td>\n",
       "      <td>None</td>\n",
       "      <td>False</td>\n",
       "    </tr>\n",
       "    <tr>\n",
       "      <th>37535628</th>\n",
       "      <td>16828218</td>\n",
       "      <td>1031356</td>\n",
       "      <td>amps</td>\n",
       "      <td>556e79fb4db92143759c188d</td>\n",
       "      <td>1433303547000</td>\n",
       "      <td>1433303547000</td>\n",
       "      <td>0</td>\n",
       "      <td>None</td>\n",
       "      <td>False</td>\n",
       "    </tr>\n",
       "    <tr>\n",
       "      <th>37535629</th>\n",
       "      <td>16045296</td>\n",
       "      <td>1031356</td>\n",
       "      <td>amps</td>\n",
       "      <td>556e79fb4db92143759c188d</td>\n",
       "      <td>1433303547000</td>\n",
       "      <td>1433303547000</td>\n",
       "      <td>0</td>\n",
       "      <td>None</td>\n",
       "      <td>False</td>\n",
       "    </tr>\n",
       "    <tr>\n",
       "      <th>37535630</th>\n",
       "      <td>13834678</td>\n",
       "      <td>1031356</td>\n",
       "      <td>amps</td>\n",
       "      <td>556e79fb4db92143759c188d</td>\n",
       "      <td>1433303547000</td>\n",
       "      <td>1433303547000</td>\n",
       "      <td>0</td>\n",
       "      <td>None</td>\n",
       "      <td>False</td>\n",
       "    </tr>\n",
       "    <tr>\n",
       "      <th>82268213</th>\n",
       "      <td>30906954</td>\n",
       "      <td>1031356</td>\n",
       "      <td>journal</td>\n",
       "      <td>556e79fb4db92143759c188d</td>\n",
       "      <td>1433303547000</td>\n",
       "      <td>1433303547000</td>\n",
       "      <td>0</td>\n",
       "      <td>True</td>\n",
       "      <td>True</td>\n",
       "    </tr>\n",
       "  </tbody>\n",
       "</table>\n",
       "</div>"
      ],
      "text/plain": [
       "           user_id  site_id int_type               journal_oid     created_at  \\\n",
       "2455068   28109834  1031356  comment  556e79fb4db92143759c188d  1433364616000   \n",
       "37535627  30906241  1031356     amps  556e79fb4db92143759c188d  1433303547000   \n",
       "37535628  16828218  1031356     amps  556e79fb4db92143759c188d  1433303547000   \n",
       "37535629  16045296  1031356     amps  556e79fb4db92143759c188d  1433303547000   \n",
       "37535630  13834678  1031356     amps  556e79fb4db92143759c188d  1433303547000   \n",
       "82268213  30906954  1031356  journal  556e79fb4db92143759c188d  1433303547000   \n",
       "\n",
       "             updated_at  site_index is_nontrivial  is_self_interaction  \n",
       "2455068   1433364616000           0          None                False  \n",
       "37535627  1433303547000           0          None                False  \n",
       "37535628  1433303547000           0          None                False  \n",
       "37535629  1433303547000           0          None                False  \n",
       "37535630  1433303547000           0          None                False  \n",
       "82268213  1433303547000           0          True                 True  "
      ]
     },
     "execution_count": 8,
     "metadata": {},
     "output_type": "execute_result"
    }
   ],
   "source": [
    "# test site, that previously had omitted interactions\n",
    "merged_df[merged_df.site_id == 1031356]"
   ]
  },
  {
   "cell_type": "code",
   "execution_count": null,
   "metadata": {},
   "outputs": [],
   "source": []
  },
  {
   "cell_type": "code",
   "execution_count": 9,
   "metadata": {},
   "outputs": [],
   "source": [
    "#compute number of amps, comments, and journals in the first 30 days on each site\n",
    "days30_ms = 1000 * 60 * 60 * 24 * 30"
   ]
  },
  {
   "cell_type": "code",
   "execution_count": 10,
   "metadata": {},
   "outputs": [
    {
     "data": {
      "text/plain": [
       "user_id                 int64\n",
       "site_id                 int64\n",
       "int_type               object\n",
       "journal_oid            object\n",
       "created_at              int64\n",
       "updated_at              int64\n",
       "site_index              int64\n",
       "is_nontrivial          object\n",
       "is_self_interaction      bool\n",
       "dtype: object"
      ]
     },
     "execution_count": 10,
     "metadata": {},
     "output_type": "execute_result"
    }
   ],
   "source": [
    "df = merged_df\n",
    "df.dtypes"
   ]
  },
  {
   "cell_type": "code",
   "execution_count": 11,
   "metadata": {},
   "outputs": [
    {
     "name": "stdout",
     "output_type": "stream",
     "text": [
      "0:01:56.073189\n"
     ]
    }
   ],
   "source": [
    "s = datetime.now()\n",
    "df.sort_values(by=['site_id', 'created_at'], inplace=True)\n",
    "print(f\"{datetime.now() - s}\")"
   ]
  },
  {
   "cell_type": "code",
   "execution_count": 12,
   "metadata": {},
   "outputs": [
    {
     "name": "stdout",
     "output_type": "stream",
     "text": [
      "44\n",
      "0\n"
     ]
    }
   ],
   "source": [
    "invalid_created_at = df.created_at <= 0\n",
    "print(np.sum(invalid_created_at))\n",
    "df.loc[invalid_created_at, 'created_at'] = df.loc[invalid_created_at, 'updated_at']\n",
    "print(np.sum(df.created_at <= 0))"
   ]
  },
  {
   "cell_type": "code",
   "execution_count": 13,
   "metadata": {},
   "outputs": [
    {
     "data": {
      "text/html": [
       "<div>\n",
       "<style scoped>\n",
       "    .dataframe tbody tr th:only-of-type {\n",
       "        vertical-align: middle;\n",
       "    }\n",
       "\n",
       "    .dataframe tbody tr th {\n",
       "        vertical-align: top;\n",
       "    }\n",
       "\n",
       "    .dataframe thead th {\n",
       "        text-align: right;\n",
       "    }\n",
       "</style>\n",
       "<table border=\"1\" class=\"dataframe\">\n",
       "  <thead>\n",
       "    <tr style=\"text-align: right;\">\n",
       "      <th></th>\n",
       "      <th>user_id</th>\n",
       "      <th>site_id</th>\n",
       "      <th>int_type</th>\n",
       "      <th>journal_oid</th>\n",
       "      <th>created_at</th>\n",
       "      <th>updated_at</th>\n",
       "      <th>site_index</th>\n",
       "      <th>is_nontrivial</th>\n",
       "      <th>is_self_interaction</th>\n",
       "    </tr>\n",
       "  </thead>\n",
       "  <tbody>\n",
       "    <tr>\n",
       "      <th>66929455</th>\n",
       "      <td>1</td>\n",
       "      <td>1</td>\n",
       "      <td>journal</td>\n",
       "      <td>51bdf3e56ca0048f4e00ced4</td>\n",
       "      <td>1103856900000</td>\n",
       "      <td>1103856900000</td>\n",
       "      <td>0</td>\n",
       "      <td>True</td>\n",
       "      <td>True</td>\n",
       "    </tr>\n",
       "    <tr>\n",
       "      <th>66929456</th>\n",
       "      <td>1</td>\n",
       "      <td>1</td>\n",
       "      <td>journal</td>\n",
       "      <td>51bdf3e56ca0048f4e00ced2</td>\n",
       "      <td>1103943240000</td>\n",
       "      <td>1103943240000</td>\n",
       "      <td>1</td>\n",
       "      <td>True</td>\n",
       "      <td>True</td>\n",
       "    </tr>\n",
       "    <tr>\n",
       "      <th>66929457</th>\n",
       "      <td>1</td>\n",
       "      <td>1</td>\n",
       "      <td>journal</td>\n",
       "      <td>51bdf3e56ca0048f4e00ced0</td>\n",
       "      <td>1104288840000</td>\n",
       "      <td>1104288840000</td>\n",
       "      <td>2</td>\n",
       "      <td>True</td>\n",
       "      <td>True</td>\n",
       "    </tr>\n",
       "    <tr>\n",
       "      <th>66929458</th>\n",
       "      <td>1</td>\n",
       "      <td>1</td>\n",
       "      <td>journal</td>\n",
       "      <td>51bdf3e56ca0048f4e00cece</td>\n",
       "      <td>1104461640000</td>\n",
       "      <td>1104461640000</td>\n",
       "      <td>3</td>\n",
       "      <td>True</td>\n",
       "      <td>True</td>\n",
       "    </tr>\n",
       "    <tr>\n",
       "      <th>66929459</th>\n",
       "      <td>1</td>\n",
       "      <td>1</td>\n",
       "      <td>journal</td>\n",
       "      <td>51bdf3e56ca0048f4e00cecc</td>\n",
       "      <td>1104807180000</td>\n",
       "      <td>1104807180000</td>\n",
       "      <td>4</td>\n",
       "      <td>True</td>\n",
       "      <td>True</td>\n",
       "    </tr>\n",
       "  </tbody>\n",
       "</table>\n",
       "</div>"
      ],
      "text/plain": [
       "          user_id  site_id int_type               journal_oid     created_at  \\\n",
       "66929455        1        1  journal  51bdf3e56ca0048f4e00ced4  1103856900000   \n",
       "66929456        1        1  journal  51bdf3e56ca0048f4e00ced2  1103943240000   \n",
       "66929457        1        1  journal  51bdf3e56ca0048f4e00ced0  1104288840000   \n",
       "66929458        1        1  journal  51bdf3e56ca0048f4e00cece  1104461640000   \n",
       "66929459        1        1  journal  51bdf3e56ca0048f4e00cecc  1104807180000   \n",
       "\n",
       "             updated_at  site_index is_nontrivial  is_self_interaction  \n",
       "66929455  1103856900000           0          True                 True  \n",
       "66929456  1103943240000           1          True                 True  \n",
       "66929457  1104288840000           2          True                 True  \n",
       "66929458  1104461640000           3          True                 True  \n",
       "66929459  1104807180000           4          True                 True  "
      ]
     },
     "execution_count": 13,
     "metadata": {},
     "output_type": "execute_result"
    }
   ],
   "source": [
    "df.head()"
   ]
  },
  {
   "cell_type": "code",
   "execution_count": null,
   "metadata": {},
   "outputs": [],
   "source": []
  },
  {
   "cell_type": "code",
   "execution_count": 15,
   "metadata": {},
   "outputs": [],
   "source": [
    "first_journal_df = df[(df.int_type=='journal')&(df.is_nontrivial == True)]\n",
    "first_journal_df = first_journal_df.drop_duplicates(subset='site_id')\n",
    "assert len(first_journal_df) == len(set(first_journal_df.site_id))"
   ]
  },
  {
   "cell_type": "code",
   "execution_count": 16,
   "metadata": {},
   "outputs": [
    {
     "name": "stderr",
     "output_type": "stream",
     "text": [
      "100%|██████████| 605630/605630 [00:01<00:00, 406351.96it/s]\n"
     ]
    }
   ],
   "source": [
    "site_start_dict = {row.site_id: row.created_at \n",
    "                   for row in tqdm(first_journal_df.itertuples(), total=len(first_journal_df))}"
   ]
  },
  {
   "cell_type": "code",
   "execution_count": 20,
   "metadata": {},
   "outputs": [
    {
     "name": "stderr",
     "output_type": "stream",
     "text": [
      "100%|██████████| 84822845/84822845 [04:11<00:00, 337308.01it/s]\n"
     ]
    },
    {
     "data": {
      "text/plain": [
       "(320063, 335123)"
      ]
     },
     "execution_count": 20,
     "metadata": {},
     "output_type": "execute_result"
    }
   ],
   "source": [
    "site_counts_list = []\n",
    "curr_site_id = -1\n",
    "site_start_timestamp = -1\n",
    "skipped_site_count = 0\n",
    "for row in tqdm(df.itertuples(), total=len(df)):\n",
    "    site_id = row.site_id\n",
    "    if site_id != curr_site_id:\n",
    "        if curr_site_id != -1:\n",
    "            if skip_site:\n",
    "                skipped_site_count += 1\n",
    "            else:\n",
    "                assert max_observed_elapsed_time >= 0\n",
    "                site_counts_list.append({\n",
    "                    'site_id': curr_site_id,\n",
    "                    'journal_count': journal_count,\n",
    "                    'amps_count': amp_count,\n",
    "                    'comment_count': comment_count,\n",
    "                    'site_tenure': max_observed_elapsed_time\n",
    "                })\n",
    "        \n",
    "        journal_count = 0\n",
    "        amp_count = 0\n",
    "        comment_count = 0\n",
    "        max_observed_elapsed_time = -1\n",
    "        skip_site = False\n",
    "        \n",
    "        curr_site_id = site_id\n",
    "        if site_id not in site_start_dict:\n",
    "            skip_site = True\n",
    "            site_start_timestamp = 0\n",
    "        else:\n",
    "            site_start_timestamp = site_start_dict[site_id]\n",
    "    elapsed_time = row.created_at - site_start_timestamp\n",
    "    is_journal_int = row.int_type == 'journal'\n",
    "    if is_journal_int and (row.created_at < start_timestamp or row.created_at > end_timestamp):\n",
    "        # this site was created outside the analysis period! we only want to include sites created since 2014\n",
    "        skip_site = True\n",
    "    if skip_site:\n",
    "        continue\n",
    "    if is_journal_int and elapsed_time > max_observed_elapsed_time:\n",
    "        max_observed_elapsed_time = elapsed_time\n",
    "    if elapsed_time <= days30_ms:\n",
    "        if is_journal_int:\n",
    "            journal_count += 1\n",
    "        elif not row.is_self_interaction:\n",
    "            if row.int_type == 'amps':\n",
    "                amp_count += 1\n",
    "            elif row.int_type == 'comment':\n",
    "                comment_count += 1\n",
    "if not skip_site:\n",
    "    site_counts_list.append({\n",
    "        'site_id': curr_site_id,\n",
    "        'journal_count': journal_count,\n",
    "        'amps_count': amp_count,\n",
    "        'comment_count': comment_count,\n",
    "        'site_tenure': max_observed_elapsed_time\n",
    "    })\n",
    "len(site_counts_list), skipped_site_count"
   ]
  },
  {
   "cell_type": "code",
   "execution_count": 21,
   "metadata": {},
   "outputs": [
    {
     "data": {
      "text/html": [
       "<div>\n",
       "<style scoped>\n",
       "    .dataframe tbody tr th:only-of-type {\n",
       "        vertical-align: middle;\n",
       "    }\n",
       "\n",
       "    .dataframe tbody tr th {\n",
       "        vertical-align: top;\n",
       "    }\n",
       "\n",
       "    .dataframe thead th {\n",
       "        text-align: right;\n",
       "    }\n",
       "</style>\n",
       "<table border=\"1\" class=\"dataframe\">\n",
       "  <thead>\n",
       "    <tr style=\"text-align: right;\">\n",
       "      <th></th>\n",
       "      <th>site_id</th>\n",
       "      <th>journal_count</th>\n",
       "      <th>amps_count</th>\n",
       "      <th>comment_count</th>\n",
       "      <th>site_tenure</th>\n",
       "    </tr>\n",
       "  </thead>\n",
       "  <tbody>\n",
       "    <tr>\n",
       "      <th>0</th>\n",
       "      <td>136505</td>\n",
       "      <td>1</td>\n",
       "      <td>0</td>\n",
       "      <td>0</td>\n",
       "      <td>0</td>\n",
       "    </tr>\n",
       "    <tr>\n",
       "      <th>1</th>\n",
       "      <td>140029</td>\n",
       "      <td>2</td>\n",
       "      <td>1</td>\n",
       "      <td>1</td>\n",
       "      <td>63802328000</td>\n",
       "    </tr>\n",
       "    <tr>\n",
       "      <th>2</th>\n",
       "      <td>153666</td>\n",
       "      <td>1</td>\n",
       "      <td>0</td>\n",
       "      <td>0</td>\n",
       "      <td>0</td>\n",
       "    </tr>\n",
       "    <tr>\n",
       "      <th>3</th>\n",
       "      <td>167478</td>\n",
       "      <td>1</td>\n",
       "      <td>0</td>\n",
       "      <td>0</td>\n",
       "      <td>0</td>\n",
       "    </tr>\n",
       "    <tr>\n",
       "      <th>4</th>\n",
       "      <td>187527</td>\n",
       "      <td>11</td>\n",
       "      <td>0</td>\n",
       "      <td>0</td>\n",
       "      <td>6460732000</td>\n",
       "    </tr>\n",
       "  </tbody>\n",
       "</table>\n",
       "</div>"
      ],
      "text/plain": [
       "   site_id  journal_count  amps_count  comment_count  site_tenure\n",
       "0   136505              1           0              0            0\n",
       "1   140029              2           1              1  63802328000\n",
       "2   153666              1           0              0            0\n",
       "3   167478              1           0              0            0\n",
       "4   187527             11           0              0   6460732000"
      ]
     },
     "execution_count": 21,
     "metadata": {},
     "output_type": "execute_result"
    }
   ],
   "source": [
    "site_counts_df = pd.DataFrame(site_counts_list)\n",
    "site_counts_df.head()"
   ]
  },
  {
   "cell_type": "code",
   "execution_count": 22,
   "metadata": {},
   "outputs": [
    {
     "data": {
      "text/html": [
       "<div>\n",
       "<style scoped>\n",
       "    .dataframe tbody tr th:only-of-type {\n",
       "        vertical-align: middle;\n",
       "    }\n",
       "\n",
       "    .dataframe tbody tr th {\n",
       "        vertical-align: top;\n",
       "    }\n",
       "\n",
       "    .dataframe thead th {\n",
       "        text-align: right;\n",
       "    }\n",
       "</style>\n",
       "<table border=\"1\" class=\"dataframe\">\n",
       "  <thead>\n",
       "    <tr style=\"text-align: right;\">\n",
       "      <th></th>\n",
       "      <th>site_id</th>\n",
       "      <th>journal_count</th>\n",
       "      <th>amps_count</th>\n",
       "      <th>comment_count</th>\n",
       "      <th>site_tenure</th>\n",
       "    </tr>\n",
       "  </thead>\n",
       "  <tbody>\n",
       "    <tr>\n",
       "      <th>139199</th>\n",
       "      <td>1031356</td>\n",
       "      <td>1</td>\n",
       "      <td>4</td>\n",
       "      <td>1</td>\n",
       "      <td>0</td>\n",
       "    </tr>\n",
       "  </tbody>\n",
       "</table>\n",
       "</div>"
      ],
      "text/plain": [
       "        site_id  journal_count  amps_count  comment_count  site_tenure\n",
       "139199  1031356              1           4              1            0"
      ]
     },
     "execution_count": 22,
     "metadata": {},
     "output_type": "execute_result"
    }
   ],
   "source": [
    "site_counts_df[site_counts_df.site_id == 1031356]"
   ]
  },
  {
   "cell_type": "code",
   "execution_count": 59,
   "metadata": {},
   "outputs": [
    {
     "name": "stdout",
     "output_type": "stream",
     "text": [
      "0:00:01.116769\n"
     ]
    },
    {
     "data": {
      "text/plain": [
       "'/home/lana/shared/caringbridge/data/projects/sna-social-support/survival_analysis_interactions/site_counts.csv'"
      ]
     },
     "execution_count": 59,
     "metadata": {},
     "output_type": "execute_result"
    }
   ],
   "source": [
    "s = datetime.now()\n",
    "user_metadata_dir = \"/home/lana/shared/caringbridge/data/projects/sna-social-support/survival_analysis_interactions\"\n",
    "interaction_metadata_filepath = os.path.join(user_metadata_dir, \"site_counts.csv\")\n",
    "site_counts_df.to_csv(interaction_metadata_filepath, index=False)\n",
    "print(f\"{datetime.now() - s}\")\n",
    "interaction_metadata_filepath"
   ]
  },
  {
   "cell_type": "code",
   "execution_count": 23,
   "metadata": {},
   "outputs": [
    {
     "data": {
      "text/plain": [
       "(1.0, 2.0, 8.0, 1304)"
      ]
     },
     "execution_count": 23,
     "metadata": {},
     "output_type": "execute_result"
    }
   ],
   "source": [
    "np.quantile(site_counts_df.journal_count, 0.25), np.quantile(site_counts_df.journal_count, 0.5), np.quantile(site_counts_df.journal_count, 0.75), np.quantile(site_counts_df.journal_count, 1)"
   ]
  },
  {
   "cell_type": "code",
   "execution_count": 25,
   "metadata": {},
   "outputs": [
    {
     "data": {
      "text/plain": [
       "(0.0, 0.0, 12.0, 35032)"
      ]
     },
     "execution_count": 25,
     "metadata": {},
     "output_type": "execute_result"
    }
   ],
   "source": [
    "np.quantile(site_counts_df.amps_count, 0.25), np.quantile(site_counts_df.amps_count, 0.5), np.quantile(site_counts_df.amps_count, 0.75), np.quantile(site_counts_df.amps_count, 1)"
   ]
  },
  {
   "cell_type": "markdown",
   "metadata": {},
   "source": [
    "## Survival Analysis testing"
   ]
  },
  {
   "cell_type": "code",
   "execution_count": 26,
   "metadata": {},
   "outputs": [
    {
     "data": {
      "text/plain": [
       "1518998400000"
      ]
     },
     "execution_count": 26,
     "metadata": {},
     "output_type": "execute_result"
    }
   ],
   "source": [
    "# consider a site to be right-censored if there was a journal update within X days\n",
    "right_censor_threshold_days = 365\n",
    "right_censor_threshold_ms = 1000 * 60 * 60 * 24 * right_censor_threshold_days\n",
    "right_censor_timestamp = end_timestamp - right_censor_threshold_ms\n",
    "right_censor_timestamp"
   ]
  },
  {
   "cell_type": "code",
   "execution_count": 36,
   "metadata": {},
   "outputs": [
    {
     "data": {
      "text/plain": [
       "16759118"
      ]
     },
     "execution_count": 36,
     "metadata": {},
     "output_type": "execute_result"
    }
   ],
   "source": [
    "journal_df = df[(df.int_type == 'journal')&(df.site_id.isin(valid_site_ids))].copy()\n",
    "len(journal_df)"
   ]
  },
  {
   "cell_type": "code",
   "execution_count": 37,
   "metadata": {},
   "outputs": [],
   "source": [
    "journal_df['after_right_censor_threshold'] = journal_df.created_at >= right_censor_timestamp"
   ]
  },
  {
   "cell_type": "code",
   "execution_count": 38,
   "metadata": {},
   "outputs": [
    {
     "data": {
      "text/plain": [
       "0.16833248454210578"
      ]
     },
     "execution_count": 38,
     "metadata": {},
     "output_type": "execute_result"
    }
   ],
   "source": [
    "right_censored_site_ids = set(journal_df[journal_df.after_right_censor_threshold].site_id)\n",
    "len(right_censored_site_ids) / len(site_counts_df)"
   ]
  },
  {
   "cell_type": "code",
   "execution_count": 39,
   "metadata": {},
   "outputs": [
    {
     "data": {
      "text/plain": [
       "(49149, 0.15356039279766795)"
      ]
     },
     "execution_count": 39,
     "metadata": {},
     "output_type": "execute_result"
    }
   ],
   "source": [
    "site_counts_df['is_right_censored'] = site_counts_df.site_id.map(lambda site_id: site_id in right_censored_site_ids)\n",
    "site_counts_df['is_not_right_censored'] = ~site_counts_df.is_right_censored\n",
    "np.sum(site_counts_df.is_right_censored), np.sum(site_counts_df.is_right_censored) / len(site_counts_df)"
   ]
  },
  {
   "cell_type": "code",
   "execution_count": 264,
   "metadata": {},
   "outputs": [],
   "source": [
    "site_counts_df['interactions_count'] = site_counts_df.amps_count + site_counts_df.comment_count\n",
    "site_counts_df['interactions_count_log'] = -1\n",
    "site_counts_df.loc[site_counts_df.interactions_count > 0, 'interactions_count_log'] = np.log10(site_counts_df.loc[site_counts_df.interactions_count > 0, 'interactions_count'])\n",
    "site_counts_df['journal_count_log'] = 0\n",
    "site_counts_df.loc[site_counts_df.journal_count > 0, 'journal_count_log'] = np.log10(site_counts_df.loc[site_counts_df.journal_count > 0, 'journal_count'])\n",
    "\n",
    "site_counts_df['has_received_interactions'] = site_counts_df.interactions_count > 0\n",
    "site_counts_df['has_received_amps'] = site_counts_df.amps_count > 0\n",
    "site_counts_df['has_received_comments'] = site_counts_df.comment_count > 0\n",
    "\n",
    "site_counts_df['amps_count_log'] = 0  # these function as interactions ~ has_received_amps : amps_count_log\n",
    "site_counts_df.loc[site_counts_df.amps_count > 0, 'amps_count_log'] = np.log10(site_counts_df.loc[site_counts_df.amps_count > 0, 'amps_count'])\n",
    "site_counts_df['comment_count_log'] = 0\n",
    "site_counts_df.loc[site_counts_df.comment_count > 0, 'comment_count_log'] = np.log10(site_counts_df.loc[site_counts_df.comment_count > 0, 'comment_count'])\n",
    "\n",
    "site_counts_df['amps_frequency'] = site_counts_df.amps_count / site_counts_df.journal_count\n",
    "site_counts_df['comment_frequency'] = site_counts_df.comment_count / site_counts_df.journal_count\n",
    "\n",
    "site_counts_df['site_tenure_months'] = site_counts_df.site_tenure / (1000 * 60 * 60 * 24 * 30)"
   ]
  },
  {
   "cell_type": "code",
   "execution_count": 238,
   "metadata": {},
   "outputs": [
    {
     "data": {
      "text/plain": [
       "1.0"
      ]
     },
     "execution_count": 238,
     "metadata": {},
     "output_type": "execute_result"
    }
   ],
   "source": [
    "# Should Eliminate sites with apparent tenures that are greater than the dataset space\n",
    "# But this is not a problem after correcting the journal creation times as above\n",
    "len(site_counts_df[site_counts_df.site_tenure <= end_timestamp - start_timestamp]) / len(site_counts_df)"
   ]
  },
  {
   "cell_type": "code",
   "execution_count": 244,
   "metadata": {},
   "outputs": [
    {
     "data": {
      "text/plain": [
       "319801"
      ]
     },
     "execution_count": 244,
     "metadata": {},
     "output_type": "execute_result"
    }
   ],
   "source": [
    "mdf = site_counts_df[(site_counts_df.site_tenure <= end_timestamp - start_timestamp)&(site_counts_df.journal_count<=100)]\n",
    "len(mdf)"
   ]
  },
  {
   "cell_type": "code",
   "execution_count": 245,
   "metadata": {},
   "outputs": [
    {
     "name": "stderr",
     "output_type": "stream",
     "text": [
      "/home/srivbane/shared/anaconda3/lib/python3.7/site-packages/ipykernel_launcher.py:1: SettingWithCopyWarning: \n",
      "A value is trying to be set on a copy of a slice from a DataFrame.\n",
      "Try using .loc[row_indexer,col_indexer] = value instead\n",
      "\n",
      "See the caveats in the documentation: https://pandas.pydata.org/pandas-docs/stable/user_guide/indexing.html#returning-a-view-versus-a-copy\n",
      "  \"\"\"Entry point for launching an IPython kernel.\n",
      "/home/srivbane/shared/anaconda3/lib/python3.7/site-packages/ipykernel_launcher.py:2: SettingWithCopyWarning: \n",
      "A value is trying to be set on a copy of a slice from a DataFrame.\n",
      "Try using .loc[row_indexer,col_indexer] = value instead\n",
      "\n",
      "See the caveats in the documentation: https://pandas.pydata.org/pandas-docs/stable/user_guide/indexing.html#returning-a-view-versus-a-copy\n",
      "  \n"
     ]
    }
   ],
   "source": [
    "mdf['journal_comments_interaction'] = mdf.has_received_comments * mdf.journal_count\n",
    "mdf['journal_amps_interaction'] = mdf.has_received_amps * mdf.journal_count"
   ]
  },
  {
   "cell_type": "code",
   "execution_count": 246,
   "metadata": {},
   "outputs": [
    {
     "name": "stderr",
     "output_type": "stream",
     "text": [
      "/home/srivbane/shared/anaconda3/lib/python3.7/site-packages/ipykernel_launcher.py:1: SettingWithCopyWarning: \n",
      "A value is trying to be set on a copy of a slice from a DataFrame.\n",
      "Try using .loc[row_indexer,col_indexer] = value instead\n",
      "\n",
      "See the caveats in the documentation: https://pandas.pydata.org/pandas-docs/stable/user_guide/indexing.html#returning-a-view-versus-a-copy\n",
      "  \"\"\"Entry point for launching an IPython kernel.\n"
     ]
    }
   ],
   "source": [
    "mdf['journal_frequency'] = pd.cut(mdf.journal_count, bins=[0, 2, np.max(mdf.journal_count)])\n",
    "mdf = pd.concat([mdf, pd.get_dummies(mdf.journal_frequency, prefix='journal_frequency')], axis=1)"
   ]
  },
  {
   "cell_type": "code",
   "execution_count": 248,
   "metadata": {},
   "outputs": [
    {
     "data": {
      "text/plain": [
       "journal_frequency\n",
       "(0, 2]      0.525123\n",
       "(2, 100]    0.474877\n",
       "dtype: float64"
      ]
     },
     "execution_count": 248,
     "metadata": {},
     "output_type": "execute_result"
    }
   ],
   "source": [
    "mdf.groupby('journal_frequency').size() / len(mdf)"
   ]
  },
  {
   "cell_type": "code",
   "execution_count": 251,
   "metadata": {},
   "outputs": [],
   "source": [
    "mdf['journalfreq_comments_interaction'] = mdf.has_received_comments * mdf['journal_frequency_(2, 100]'] #* mdf['journal_frequency_(8, 100]']\n",
    "mdf['journalfreq_amps_interaction'] = mdf.has_received_amps * mdf['journal_frequency_(2, 100]'] #* mdf['journal_frequency_(8, 100]']"
   ]
  },
  {
   "cell_type": "code",
   "execution_count": 259,
   "metadata": {},
   "outputs": [],
   "source": [
    "mdf['journalfreq_commentcount_interaction'] = mdf.comment_count_log * mdf['journal_frequency_(2, 100]'] #* mdf['journal_frequency_(8, 100]']\n",
    "mdf['journalfreq_ampscount_interaction'] = mdf.amps_count_log * mdf['journal_frequency_(2, 100]'] #* mdf['journal_frequency_(8, 100]']"
   ]
  },
  {
   "cell_type": "code",
   "execution_count": 113,
   "metadata": {},
   "outputs": [],
   "source": [
    "#mdf = mdf[mdf.site_tenure > 0]\n",
    "#len(mdf)"
   ]
  },
  {
   "cell_type": "code",
   "execution_count": 114,
   "metadata": {},
   "outputs": [],
   "source": [
    "#mdf['site_tenure_months'] -= 1  # subtract 30 days, as we are predicting amount of time survived BEYOND the 30 day mark\n",
    "#mdf = mdf[mdf.site_tenure_months >= 0]\n",
    "#len(mdf)"
   ]
  },
  {
   "cell_type": "code",
   "execution_count": 132,
   "metadata": {},
   "outputs": [
    {
     "data": {
      "text/plain": [
       "(61.80136226851852, 319801)"
      ]
     },
     "execution_count": 132,
     "metadata": {},
     "output_type": "execute_result"
    }
   ],
   "source": [
    "np.max(mdf.site_tenure_months), len(mdf)"
   ]
  },
  {
   "cell_type": "code",
   "execution_count": 133,
   "metadata": {},
   "outputs": [
    {
     "data": {
      "image/png": "[encoded data removed]",
      "text/plain": [
       "<Figure size 432x288 with 1 Axes>"
      ]
     },
     "metadata": {
      "needs_background": "light"
     },
     "output_type": "display_data"
    }
   ],
   "source": [
    "plt.hist(site_counts_df.site_tenure_months, bins=62, log=True)\n",
    "plt.show()"
   ]
  },
  {
   "cell_type": "code",
   "execution_count": 134,
   "metadata": {},
   "outputs": [
    {
     "data": {
      "text/plain": [
       "(0.0320968059413303, 90.93800000002375)"
      ]
     },
     "execution_count": 134,
     "metadata": {},
     "output_type": "execute_result"
    }
   ],
   "source": [
    "np.sum(site_counts_df.journal_count >= 30) / len(site_counts_df), np.quantile(site_counts_df.journal_count, 0.999)"
   ]
  },
  {
   "cell_type": "code",
   "execution_count": 130,
   "metadata": {},
   "outputs": [
    {
     "data": {
      "text/html": [
       "<div>\n",
       "<style scoped>\n",
       "    .dataframe tbody tr th:only-of-type {\n",
       "        vertical-align: middle;\n",
       "    }\n",
       "\n",
       "    .dataframe tbody tr th {\n",
       "        vertical-align: top;\n",
       "    }\n",
       "\n",
       "    .dataframe thead th {\n",
       "        text-align: right;\n",
       "    }\n",
       "</style>\n",
       "<table border=\"1\" class=\"dataframe\">\n",
       "  <thead>\n",
       "    <tr style=\"text-align: right;\">\n",
       "      <th></th>\n",
       "      <th>site_id</th>\n",
       "      <th>journal_count</th>\n",
       "      <th>amps_count</th>\n",
       "      <th>comment_count</th>\n",
       "      <th>site_tenure</th>\n",
       "      <th>is_right_censored</th>\n",
       "      <th>is_not_right_censored</th>\n",
       "      <th>interactions_count</th>\n",
       "      <th>has_received_interactions</th>\n",
       "      <th>has_received_amps</th>\n",
       "      <th>has_received_comments</th>\n",
       "      <th>site_tenure_months</th>\n",
       "      <th>interactions_count_log</th>\n",
       "      <th>journal_count_log</th>\n",
       "    </tr>\n",
       "  </thead>\n",
       "  <tbody>\n",
       "    <tr>\n",
       "      <th>1974</th>\n",
       "      <td>857067</td>\n",
       "      <td>154</td>\n",
       "      <td>315</td>\n",
       "      <td>116</td>\n",
       "      <td>34883046000</td>\n",
       "      <td>False</td>\n",
       "      <td>True</td>\n",
       "      <td>431</td>\n",
       "      <td>True</td>\n",
       "      <td>True</td>\n",
       "      <td>True</td>\n",
       "      <td>13.457965</td>\n",
       "      <td>2.634477</td>\n",
       "      <td>2.187521</td>\n",
       "    </tr>\n",
       "    <tr>\n",
       "      <th>2444</th>\n",
       "      <td>857941</td>\n",
       "      <td>133</td>\n",
       "      <td>1728</td>\n",
       "      <td>481</td>\n",
       "      <td>5368644000</td>\n",
       "      <td>False</td>\n",
       "      <td>True</td>\n",
       "      <td>2209</td>\n",
       "      <td>True</td>\n",
       "      <td>True</td>\n",
       "      <td>True</td>\n",
       "      <td>2.071236</td>\n",
       "      <td>3.344196</td>\n",
       "      <td>2.123852</td>\n",
       "    </tr>\n",
       "    <tr>\n",
       "      <th>4434</th>\n",
       "      <td>861760</td>\n",
       "      <td>421</td>\n",
       "      <td>2</td>\n",
       "      <td>1</td>\n",
       "      <td>15268920000</td>\n",
       "      <td>False</td>\n",
       "      <td>True</td>\n",
       "      <td>3</td>\n",
       "      <td>True</td>\n",
       "      <td>True</td>\n",
       "      <td>True</td>\n",
       "      <td>5.890787</td>\n",
       "      <td>0.477121</td>\n",
       "      <td>2.624282</td>\n",
       "    </tr>\n",
       "    <tr>\n",
       "      <th>6700</th>\n",
       "      <td>866033</td>\n",
       "      <td>114</td>\n",
       "      <td>141</td>\n",
       "      <td>89</td>\n",
       "      <td>4315475000</td>\n",
       "      <td>False</td>\n",
       "      <td>True</td>\n",
       "      <td>230</td>\n",
       "      <td>True</td>\n",
       "      <td>True</td>\n",
       "      <td>True</td>\n",
       "      <td>1.664921</td>\n",
       "      <td>2.361728</td>\n",
       "      <td>2.056905</td>\n",
       "    </tr>\n",
       "    <tr>\n",
       "      <th>7817</th>\n",
       "      <td>868138</td>\n",
       "      <td>141</td>\n",
       "      <td>308</td>\n",
       "      <td>209</td>\n",
       "      <td>19010915000</td>\n",
       "      <td>False</td>\n",
       "      <td>True</td>\n",
       "      <td>517</td>\n",
       "      <td>True</td>\n",
       "      <td>True</td>\n",
       "      <td>True</td>\n",
       "      <td>7.334458</td>\n",
       "      <td>2.713491</td>\n",
       "      <td>2.149219</td>\n",
       "    </tr>\n",
       "    <tr>\n",
       "      <th>...</th>\n",
       "      <td>...</td>\n",
       "      <td>...</td>\n",
       "      <td>...</td>\n",
       "      <td>...</td>\n",
       "      <td>...</td>\n",
       "      <td>...</td>\n",
       "      <td>...</td>\n",
       "      <td>...</td>\n",
       "      <td>...</td>\n",
       "      <td>...</td>\n",
       "      <td>...</td>\n",
       "      <td>...</td>\n",
       "      <td>...</td>\n",
       "      <td>...</td>\n",
       "    </tr>\n",
       "    <tr>\n",
       "      <th>313235</th>\n",
       "      <td>1326359</td>\n",
       "      <td>201</td>\n",
       "      <td>0</td>\n",
       "      <td>0</td>\n",
       "      <td>961332000</td>\n",
       "      <td>True</td>\n",
       "      <td>False</td>\n",
       "      <td>0</td>\n",
       "      <td>False</td>\n",
       "      <td>False</td>\n",
       "      <td>False</td>\n",
       "      <td>0.370884</td>\n",
       "      <td>-1.000000</td>\n",
       "      <td>2.303196</td>\n",
       "    </tr>\n",
       "    <tr>\n",
       "      <th>313681</th>\n",
       "      <td>1326937</td>\n",
       "      <td>146</td>\n",
       "      <td>0</td>\n",
       "      <td>0</td>\n",
       "      <td>851921000</td>\n",
       "      <td>True</td>\n",
       "      <td>False</td>\n",
       "      <td>0</td>\n",
       "      <td>False</td>\n",
       "      <td>False</td>\n",
       "      <td>False</td>\n",
       "      <td>0.328673</td>\n",
       "      <td>-1.000000</td>\n",
       "      <td>2.164353</td>\n",
       "    </tr>\n",
       "    <tr>\n",
       "      <th>314634</th>\n",
       "      <td>1328120</td>\n",
       "      <td>113</td>\n",
       "      <td>0</td>\n",
       "      <td>0</td>\n",
       "      <td>695830000</td>\n",
       "      <td>True</td>\n",
       "      <td>False</td>\n",
       "      <td>0</td>\n",
       "      <td>False</td>\n",
       "      <td>False</td>\n",
       "      <td>False</td>\n",
       "      <td>0.268453</td>\n",
       "      <td>-1.000000</td>\n",
       "      <td>2.053078</td>\n",
       "    </tr>\n",
       "    <tr>\n",
       "      <th>314637</th>\n",
       "      <td>1328125</td>\n",
       "      <td>143</td>\n",
       "      <td>0</td>\n",
       "      <td>0</td>\n",
       "      <td>696193000</td>\n",
       "      <td>True</td>\n",
       "      <td>False</td>\n",
       "      <td>0</td>\n",
       "      <td>False</td>\n",
       "      <td>False</td>\n",
       "      <td>False</td>\n",
       "      <td>0.268593</td>\n",
       "      <td>-1.000000</td>\n",
       "      <td>2.155336</td>\n",
       "    </tr>\n",
       "    <tr>\n",
       "      <th>316568</th>\n",
       "      <td>1330516</td>\n",
       "      <td>165</td>\n",
       "      <td>0</td>\n",
       "      <td>0</td>\n",
       "      <td>192674000</td>\n",
       "      <td>True</td>\n",
       "      <td>False</td>\n",
       "      <td>0</td>\n",
       "      <td>False</td>\n",
       "      <td>False</td>\n",
       "      <td>False</td>\n",
       "      <td>0.074334</td>\n",
       "      <td>-1.000000</td>\n",
       "      <td>2.217484</td>\n",
       "    </tr>\n",
       "  </tbody>\n",
       "</table>\n",
       "<p>262 rows × 14 columns</p>\n",
       "</div>"
      ],
      "text/plain": [
       "        site_id  journal_count  amps_count  comment_count  site_tenure  \\\n",
       "1974     857067            154         315            116  34883046000   \n",
       "2444     857941            133        1728            481   5368644000   \n",
       "4434     861760            421           2              1  15268920000   \n",
       "6700     866033            114         141             89   4315475000   \n",
       "7817     868138            141         308            209  19010915000   \n",
       "...         ...            ...         ...            ...          ...   \n",
       "313235  1326359            201           0              0    961332000   \n",
       "313681  1326937            146           0              0    851921000   \n",
       "314634  1328120            113           0              0    695830000   \n",
       "314637  1328125            143           0              0    696193000   \n",
       "316568  1330516            165           0              0    192674000   \n",
       "\n",
       "        is_right_censored  is_not_right_censored  interactions_count  \\\n",
       "1974                False                   True                 431   \n",
       "2444                False                   True                2209   \n",
       "4434                False                   True                   3   \n",
       "6700                False                   True                 230   \n",
       "7817                False                   True                 517   \n",
       "...                   ...                    ...                 ...   \n",
       "313235               True                  False                   0   \n",
       "313681               True                  False                   0   \n",
       "314634               True                  False                   0   \n",
       "314637               True                  False                   0   \n",
       "316568               True                  False                   0   \n",
       "\n",
       "        has_received_interactions  has_received_amps  has_received_comments  \\\n",
       "1974                         True               True                   True   \n",
       "2444                         True               True                   True   \n",
       "4434                         True               True                   True   \n",
       "6700                         True               True                   True   \n",
       "7817                         True               True                   True   \n",
       "...                           ...                ...                    ...   \n",
       "313235                      False              False                  False   \n",
       "313681                      False              False                  False   \n",
       "314634                      False              False                  False   \n",
       "314637                      False              False                  False   \n",
       "316568                      False              False                  False   \n",
       "\n",
       "        site_tenure_months  interactions_count_log  journal_count_log  \n",
       "1974             13.457965                2.634477           2.187521  \n",
       "2444              2.071236                3.344196           2.123852  \n",
       "4434              5.890787                0.477121           2.624282  \n",
       "6700              1.664921                2.361728           2.056905  \n",
       "7817              7.334458                2.713491           2.149219  \n",
       "...                    ...                     ...                ...  \n",
       "313235            0.370884               -1.000000           2.303196  \n",
       "313681            0.328673               -1.000000           2.164353  \n",
       "314634            0.268453               -1.000000           2.053078  \n",
       "314637            0.268593               -1.000000           2.155336  \n",
       "316568            0.074334               -1.000000           2.217484  \n",
       "\n",
       "[262 rows x 14 columns]"
      ]
     },
     "execution_count": 130,
     "metadata": {},
     "output_type": "execute_result"
    }
   ],
   "source": [
    "site_counts_df[site_counts_df.journal_count > 100]"
   ]
  },
  {
   "cell_type": "code",
   "execution_count": 117,
   "metadata": {},
   "outputs": [
    {
     "data": {
      "text/html": [
       "<div>\n",
       "<style scoped>\n",
       "    .dataframe tbody tr th:only-of-type {\n",
       "        vertical-align: middle;\n",
       "    }\n",
       "\n",
       "    .dataframe tbody tr th {\n",
       "        vertical-align: top;\n",
       "    }\n",
       "\n",
       "    .dataframe thead th {\n",
       "        text-align: right;\n",
       "    }\n",
       "</style>\n",
       "<table border=\"1\" class=\"dataframe\">\n",
       "  <thead>\n",
       "    <tr style=\"text-align: right;\">\n",
       "      <th></th>\n",
       "      <th>site_id</th>\n",
       "      <th>journal_count</th>\n",
       "      <th>amps_count</th>\n",
       "      <th>comment_count</th>\n",
       "      <th>site_tenure</th>\n",
       "      <th>is_right_censored</th>\n",
       "      <th>is_not_right_censored</th>\n",
       "      <th>interactions_count</th>\n",
       "      <th>has_received_interactions</th>\n",
       "      <th>has_received_amps</th>\n",
       "      <th>has_received_comments</th>\n",
       "      <th>site_tenure_months</th>\n",
       "      <th>interactions_count_log</th>\n",
       "      <th>journal_count_log</th>\n",
       "    </tr>\n",
       "  </thead>\n",
       "  <tbody>\n",
       "    <tr>\n",
       "      <th>0</th>\n",
       "      <td>136505</td>\n",
       "      <td>1</td>\n",
       "      <td>0</td>\n",
       "      <td>0</td>\n",
       "      <td>0</td>\n",
       "      <td>False</td>\n",
       "      <td>True</td>\n",
       "      <td>0</td>\n",
       "      <td>False</td>\n",
       "      <td>False</td>\n",
       "      <td>False</td>\n",
       "      <td>0.000000</td>\n",
       "      <td>-1.00000</td>\n",
       "      <td>0.000000</td>\n",
       "    </tr>\n",
       "    <tr>\n",
       "      <th>1</th>\n",
       "      <td>140029</td>\n",
       "      <td>2</td>\n",
       "      <td>1</td>\n",
       "      <td>1</td>\n",
       "      <td>63802328000</td>\n",
       "      <td>False</td>\n",
       "      <td>True</td>\n",
       "      <td>2</td>\n",
       "      <td>True</td>\n",
       "      <td>True</td>\n",
       "      <td>True</td>\n",
       "      <td>24.615096</td>\n",
       "      <td>0.30103</td>\n",
       "      <td>0.301030</td>\n",
       "    </tr>\n",
       "    <tr>\n",
       "      <th>2</th>\n",
       "      <td>153666</td>\n",
       "      <td>1</td>\n",
       "      <td>0</td>\n",
       "      <td>0</td>\n",
       "      <td>0</td>\n",
       "      <td>False</td>\n",
       "      <td>True</td>\n",
       "      <td>0</td>\n",
       "      <td>False</td>\n",
       "      <td>False</td>\n",
       "      <td>False</td>\n",
       "      <td>0.000000</td>\n",
       "      <td>-1.00000</td>\n",
       "      <td>0.000000</td>\n",
       "    </tr>\n",
       "    <tr>\n",
       "      <th>3</th>\n",
       "      <td>167478</td>\n",
       "      <td>1</td>\n",
       "      <td>0</td>\n",
       "      <td>0</td>\n",
       "      <td>0</td>\n",
       "      <td>False</td>\n",
       "      <td>True</td>\n",
       "      <td>0</td>\n",
       "      <td>False</td>\n",
       "      <td>False</td>\n",
       "      <td>False</td>\n",
       "      <td>0.000000</td>\n",
       "      <td>-1.00000</td>\n",
       "      <td>0.000000</td>\n",
       "    </tr>\n",
       "    <tr>\n",
       "      <th>4</th>\n",
       "      <td>187527</td>\n",
       "      <td>11</td>\n",
       "      <td>0</td>\n",
       "      <td>0</td>\n",
       "      <td>6460732000</td>\n",
       "      <td>False</td>\n",
       "      <td>True</td>\n",
       "      <td>0</td>\n",
       "      <td>False</td>\n",
       "      <td>False</td>\n",
       "      <td>False</td>\n",
       "      <td>2.492566</td>\n",
       "      <td>-1.00000</td>\n",
       "      <td>1.041393</td>\n",
       "    </tr>\n",
       "  </tbody>\n",
       "</table>\n",
       "</div>"
      ],
      "text/plain": [
       "   site_id  journal_count  amps_count  comment_count  site_tenure  \\\n",
       "0   136505              1           0              0            0   \n",
       "1   140029              2           1              1  63802328000   \n",
       "2   153666              1           0              0            0   \n",
       "3   167478              1           0              0            0   \n",
       "4   187527             11           0              0   6460732000   \n",
       "\n",
       "   is_right_censored  is_not_right_censored  interactions_count  \\\n",
       "0              False                   True                   0   \n",
       "1              False                   True                   2   \n",
       "2              False                   True                   0   \n",
       "3              False                   True                   0   \n",
       "4              False                   True                   0   \n",
       "\n",
       "   has_received_interactions  has_received_amps  has_received_comments  \\\n",
       "0                      False              False                  False   \n",
       "1                       True               True                   True   \n",
       "2                      False              False                  False   \n",
       "3                      False              False                  False   \n",
       "4                      False              False                  False   \n",
       "\n",
       "   site_tenure_months  interactions_count_log  journal_count_log  \n",
       "0            0.000000                -1.00000           0.000000  \n",
       "1           24.615096                 0.30103           0.301030  \n",
       "2            0.000000                -1.00000           0.000000  \n",
       "3            0.000000                -1.00000           0.000000  \n",
       "4            2.492566                -1.00000           1.041393  "
      ]
     },
     "execution_count": 117,
     "metadata": {},
     "output_type": "execute_result"
    }
   ],
   "source": [
    "mdf.head()"
   ]
  },
  {
   "cell_type": "code",
   "execution_count": 46,
   "metadata": {},
   "outputs": [],
   "source": [
    "from lifelines import KaplanMeierFitter"
   ]
  },
  {
   "cell_type": "code",
   "execution_count": 47,
   "metadata": {},
   "outputs": [
    {
     "data": {
      "text/plain": [
       "<lifelines.KaplanMeierFitter:\"KM_estimate\", fitted with 320063 total observations, 49149 right-censored observations>"
      ]
     },
     "execution_count": 47,
     "metadata": {},
     "output_type": "execute_result"
    }
   ],
   "source": [
    "T = mdf[\"site_tenure_months\"]\n",
    "E = ~mdf[\"is_right_censored\"]\n",
    "\n",
    "kmf = KaplanMeierFitter()\n",
    "kmf.fit(T, event_observed=E)"
   ]
  },
  {
   "cell_type": "code",
   "execution_count": 48,
   "metadata": {},
   "outputs": [
    {
     "name": "stdout",
     "output_type": "stream",
     "text": [
      "0.03904706790123457\n"
     ]
    },
    {
     "data": {
      "image/png": "[encoded data removed]",
      "text/plain": [
       "<Figure size 432x288 with 1 Axes>"
      ]
     },
     "metadata": {
      "needs_background": "light"
     },
     "output_type": "display_data"
    }
   ],
   "source": [
    "kmf.plot()\n",
    "print(kmf.median_survival_time_)\n",
    "plt.show()"
   ]
  },
  {
   "cell_type": "code",
   "execution_count": 49,
   "metadata": {},
   "outputs": [
    {
     "data": {
      "image/png": "[encoded data removed]",
      "text/plain": [
       "<Figure size 432x288 with 1 Axes>"
      ]
     },
     "metadata": {
      "needs_background": "light"
     },
     "output_type": "display_data"
    }
   ],
   "source": [
    "from lifelines import NelsonAalenFitter\n",
    "naf = NelsonAalenFitter().fit(T, E)\n",
    "naf.plot()\n",
    "plt.show()"
   ]
  },
  {
   "cell_type": "code",
   "execution_count": null,
   "metadata": {},
   "outputs": [],
   "source": []
  },
  {
   "cell_type": "code",
   "execution_count": 50,
   "metadata": {},
   "outputs": [
    {
     "name": "stdout",
     "output_type": "stream",
     "text": [
      "Threshold (days): 0\n",
      "pct of sites considered right-censored: 0.0\n",
      "KM median survival time: 0.008611111111111111\n",
      "Threshold (days): 30\n",
      "pct of sites considered right-censored: 0.04336021345797546\n",
      "KM median survival time: 0.0184891975308642\n",
      "Threshold (days): 90\n",
      "pct of sites considered right-censored: 0.07902194255505947\n",
      "KM median survival time: 0.031073302469135804\n",
      "Threshold (days): 365\n",
      "pct of sites considered right-censored: 0.15356039279766795\n",
      "KM median survival time: 0.03904706790123457\n",
      "Threshold (days): 730\n",
      "pct of sites considered right-censored: 0.23805000890449693\n",
      "KM median survival time: 0.0670721450617284\n"
     ]
    }
   ],
   "source": [
    "for right_censor_threshold_days in [0, 30, 90, 365, 365*2]:\n",
    "    right_censor_threshold_ms = 1000 * 60 * 60 * 24 * right_censor_threshold_days\n",
    "    right_censor_timestamp = end_timestamp - right_censor_threshold_ms\n",
    "    print(\"Threshold (days):\", right_censor_threshold_days)\n",
    "\n",
    "    censored_journal_subset = journal_df[journal_df.created_at >= right_censor_timestamp]\n",
    "    if len(censored_journal_subset) > 0:\n",
    "        right_censored_site_ids = set(censored_journal_subset.site_id)\n",
    "    else:\n",
    "        right_censored_site_ids = set()\n",
    "\n",
    "    is_right_censored = site_counts_df.site_id.map(lambda site_id: site_id in right_censored_site_ids)\n",
    "    print(\"pct of sites considered right-censored:\", np.sum(is_right_censored) / len(site_counts_df))\n",
    "\n",
    "    kmf = KaplanMeierFitter()\n",
    "    kmf.fit(site_counts_df.site_tenure_months, event_observed=~is_right_censored)\n",
    "    median_survival_time = kmf.median_survival_time_\n",
    "    print(\"KM median survival time:\", median_survival_time)"
   ]
  },
  {
   "cell_type": "code",
   "execution_count": 51,
   "metadata": {},
   "outputs": [
    {
     "data": {
      "text/plain": [
       "0.008611111111111111"
      ]
     },
     "execution_count": 51,
     "metadata": {},
     "output_type": "execute_result"
    }
   ],
   "source": [
    "# empirical observed tenure is well under a month\n",
    "np.median(site_counts_df.site_tenure_months)"
   ]
  },
  {
   "cell_type": "code",
   "execution_count": 52,
   "metadata": {},
   "outputs": [
    {
     "data": {
      "text/plain": [
       "0.41029734770966964"
      ]
     },
     "execution_count": 52,
     "metadata": {},
     "output_type": "execute_result"
    }
   ],
   "source": [
    "# a full 41% of the data have only a single journal update (so tenure = 0)\n",
    "np.sum(site_counts_df.site_tenure_months == 0) / len(site_counts_df)"
   ]
  },
  {
   "cell_type": "code",
   "execution_count": 53,
   "metadata": {},
   "outputs": [
    {
     "data": {
      "text/plain": [
       "1.0"
      ]
     },
     "execution_count": 53,
     "metadata": {},
     "output_type": "execute_result"
    },
    {
     "data": {
      "image/png": "[encoded data removed]",
      "text/plain": [
       "<Figure size 432x288 with 1 Axes>"
      ]
     },
     "metadata": {
      "needs_background": "light"
     },
     "output_type": "display_data"
    }
   ],
   "source": [
    "kmf = KaplanMeierFitter()\n",
    "kmf.fit(site_counts_df.site_tenure_months, timeline=range(13), event_observed=np.ones(len(site_counts_df)))\n",
    "kmf.plot()\n",
    "kmf.median_survival_time_"
   ]
  },
  {
   "cell_type": "code",
   "execution_count": null,
   "metadata": {},
   "outputs": [],
   "source": []
  },
  {
   "cell_type": "code",
   "execution_count": 54,
   "metadata": {},
   "outputs": [],
   "source": [
    "from lifelines import CoxPHFitter"
   ]
  },
  {
   "cell_type": "code",
   "execution_count": 55,
   "metadata": {},
   "outputs": [
    {
     "name": "stdout",
     "output_type": "stream",
     "text": [
      "Iteration 1: norm_delta = 0.73609, step_size = 0.9500, ll = -3737150.26401, newton_decrement = 104970.81571, seconds_since_start = 11.2\n",
      "Iteration 2: norm_delta = 0.24438, step_size = 0.9500, ll = -3638232.04088, newton_decrement = 3480.09805, seconds_since_start = 22.7\n",
      "Iteration 3: norm_delta = 0.07549, step_size = 0.9500, ll = -3634374.65321, newton_decrement = 268.22449, seconds_since_start = 34.1\n",
      "Iteration 4: norm_delta = 0.00484, step_size = 1.0000, ll = -3634095.94914, newton_decrement = 1.01211, seconds_since_start = 45.3\n",
      "Iteration 5: norm_delta = 0.00002, step_size = 1.0000, ll = -3634094.93452, newton_decrement = 0.00001, seconds_since_start = 56.5\n",
      "Iteration 6: norm_delta = 0.00000, step_size = 1.0000, ll = -3634094.93451, newton_decrement = 0.00000, seconds_since_start = 67.8\n",
      "Convergence success after 6 iterations.\n"
     ]
    },
    {
     "data": {
      "text/html": [
       "<div>\n",
       "<style scoped>\n",
       "    .dataframe tbody tr th:only-of-type {\n",
       "        vertical-align: middle;\n",
       "    }\n",
       "\n",
       "    .dataframe tbody tr th {\n",
       "        vertical-align: top;\n",
       "    }\n",
       "\n",
       "    .dataframe thead th {\n",
       "        text-align: right;\n",
       "    }\n",
       "</style>\n",
       "<table border=\"1\" class=\"dataframe\">\n",
       "  <tbody>\n",
       "    <tr>\n",
       "      <th>model</th>\n",
       "      <td>lifelines.CoxPHFitter</td>\n",
       "    </tr>\n",
       "    <tr>\n",
       "      <th>duration col</th>\n",
       "      <td>'site_tenure_months'</td>\n",
       "    </tr>\n",
       "    <tr>\n",
       "      <th>number of observations</th>\n",
       "      <td>320063</td>\n",
       "    </tr>\n",
       "    <tr>\n",
       "      <th>number of events observed</th>\n",
       "      <td>320063</td>\n",
       "    </tr>\n",
       "    <tr>\n",
       "      <th>partial log-likelihood</th>\n",
       "      <td>-3634094.93</td>\n",
       "    </tr>\n",
       "    <tr>\n",
       "      <th>time fit was run</th>\n",
       "      <td>2020-06-19 19:32:33 UTC</td>\n",
       "    </tr>\n",
       "  </tbody>\n",
       "</table>\n",
       "</div><table border=\"1\" class=\"dataframe\">\n",
       "  <thead>\n",
       "    <tr style=\"text-align: right;\">\n",
       "      <th></th>\n",
       "      <th>coef</th>\n",
       "      <th>exp(coef)</th>\n",
       "      <th>se(coef)</th>\n",
       "      <th>coef lower 95%</th>\n",
       "      <th>coef upper 95%</th>\n",
       "      <th>exp(coef) lower 95%</th>\n",
       "      <th>exp(coef) upper 95%</th>\n",
       "      <th>z</th>\n",
       "      <th>p</th>\n",
       "      <th>-log2(p)</th>\n",
       "    </tr>\n",
       "  </thead>\n",
       "  <tbody>\n",
       "    <tr>\n",
       "      <th>has_received_amps</th>\n",
       "      <td>-0.55</td>\n",
       "      <td>0.57</td>\n",
       "      <td>0.01</td>\n",
       "      <td>-0.57</td>\n",
       "      <td>-0.54</td>\n",
       "      <td>0.57</td>\n",
       "      <td>0.58</td>\n",
       "      <td>-71.04</td>\n",
       "      <td>&lt;0.005</td>\n",
       "      <td>inf</td>\n",
       "    </tr>\n",
       "    <tr>\n",
       "      <th>has_received_comments</th>\n",
       "      <td>-1.05</td>\n",
       "      <td>0.35</td>\n",
       "      <td>0.01</td>\n",
       "      <td>-1.07</td>\n",
       "      <td>-1.04</td>\n",
       "      <td>0.34</td>\n",
       "      <td>0.35</td>\n",
       "      <td>-137.62</td>\n",
       "      <td>&lt;0.005</td>\n",
       "      <td>inf</td>\n",
       "    </tr>\n",
       "    <tr>\n",
       "      <th>journal_count</th>\n",
       "      <td>-0.03</td>\n",
       "      <td>0.97</td>\n",
       "      <td>0.00</td>\n",
       "      <td>-0.03</td>\n",
       "      <td>-0.03</td>\n",
       "      <td>0.97</td>\n",
       "      <td>0.97</td>\n",
       "      <td>-121.10</td>\n",
       "      <td>&lt;0.005</td>\n",
       "      <td>inf</td>\n",
       "    </tr>\n",
       "  </tbody>\n",
       "</table><div>\n",
       "<style scoped>\n",
       "    .dataframe tbody tr th:only-of-type {\n",
       "        vertical-align: middle;\n",
       "    }\n",
       "\n",
       "    .dataframe tbody tr th {\n",
       "        vertical-align: top;\n",
       "    }\n",
       "\n",
       "    .dataframe thead th {\n",
       "        text-align: right;\n",
       "    }\n",
       "</style>\n",
       "<table border=\"1\" class=\"dataframe\">\n",
       "  <tbody>\n",
       "    <tr>\n",
       "      <th>Concordance</th>\n",
       "      <td>0.87</td>\n",
       "    </tr>\n",
       "    <tr>\n",
       "      <th>Log-likelihood ratio test</th>\n",
       "      <td>206110.66 on 3 df, -log2(p)=inf</td>\n",
       "    </tr>\n",
       "  </tbody>\n",
       "</table>\n",
       "</div>"
      ],
      "text/plain": [
       "<IPython.core.display.HTML object>"
      ]
     },
     "metadata": {},
     "output_type": "display_data"
    }
   ],
   "source": [
    "# assume no censoring\n",
    "cph = CoxPHFitter()\n",
    "cph.fit(mdf[['site_tenure_months', 'has_received_amps', 'has_received_comments', 'journal_count']], \n",
    "        duration_col='site_tenure_months',\n",
    "        show_progress=True)\n",
    "cph.print_summary()"
   ]
  },
  {
   "cell_type": "code",
   "execution_count": 56,
   "metadata": {},
   "outputs": [
    {
     "data": {
      "image/png": "[encoded data removed]",
      "text/plain": [
       "<Figure size 432x288 with 1 Axes>"
      ]
     },
     "metadata": {
      "needs_background": "light"
     },
     "output_type": "display_data"
    }
   ],
   "source": [
    "cph.plot()\n",
    "plt.show()"
   ]
  },
  {
   "cell_type": "code",
   "execution_count": null,
   "metadata": {},
   "outputs": [],
   "source": []
  },
  {
   "cell_type": "code",
   "execution_count": null,
   "metadata": {},
   "outputs": [],
   "source": []
  },
  {
   "cell_type": "code",
   "execution_count": 242,
   "metadata": {},
   "outputs": [],
   "source": []
  },
  {
   "cell_type": "code",
   "execution_count": 263,
   "metadata": {},
   "outputs": [
    {
     "name": "stdout",
     "output_type": "stream",
     "text": [
      "Iteration 1: norm_delta = 1.51736, step_size = 0.9500, ll = -3204498.25650, newton_decrement = 144537.83375, seconds_since_start = 9.6\n",
      "Iteration 2: norm_delta = 0.58198, step_size = 0.9500, ll = -3081922.07272, newton_decrement = 6779.81698, seconds_since_start = 19.3\n",
      "Iteration 3: norm_delta = 0.05097, step_size = 0.9500, ll = -3075824.90292, newton_decrement = 93.15402, seconds_since_start = 28.8\n",
      "Iteration 4: norm_delta = 0.00138, step_size = 1.0000, ll = -3075730.25297, newton_decrement = 0.06144, seconds_since_start = 38.6\n",
      "Iteration 5: norm_delta = 0.00000, step_size = 1.0000, ll = -3075730.19150, newton_decrement = 0.00000, seconds_since_start = 48.2\n",
      "Convergence success after 5 iterations.\n"
     ]
    },
    {
     "data": {
      "text/plain": [
       "<lifelines.CoxPHFitter: fitted with 319801 total observations, 49081 right-censored observations>"
      ]
     },
     "execution_count": 263,
     "metadata": {},
     "output_type": "execute_result"
    }
   ],
   "source": [
    "cph = CoxPHFitter()\n",
    "cph.fit(mdf[['site_tenure_months', 'is_not_right_censored', 'has_received_amps', 'has_received_comments', 'journal_frequency_(2, 100]', 'amps_count_log', 'comment_count_log', 'journalfreq_comments_interaction', 'journalfreq_amps_interaction']], \n",
    "        duration_col='site_tenure_months', event_col='is_not_right_censored',\n",
    "        show_progress=True)  # default step_size=0.95, can change to 0.5 or lower if needed"
   ]
  },
  {
   "cell_type": "code",
   "execution_count": 265,
   "metadata": {},
   "outputs": [
    {
     "data": {
      "text/html": [
       "<div>\n",
       "<style scoped>\n",
       "    .dataframe tbody tr th:only-of-type {\n",
       "        vertical-align: middle;\n",
       "    }\n",
       "\n",
       "    .dataframe tbody tr th {\n",
       "        vertical-align: top;\n",
       "    }\n",
       "\n",
       "    .dataframe thead th {\n",
       "        text-align: right;\n",
       "    }\n",
       "</style>\n",
       "<table border=\"1\" class=\"dataframe\">\n",
       "  <tbody>\n",
       "    <tr>\n",
       "      <th>model</th>\n",
       "      <td>lifelines.CoxPHFitter</td>\n",
       "    </tr>\n",
       "    <tr>\n",
       "      <th>duration col</th>\n",
       "      <td>'site_tenure_months'</td>\n",
       "    </tr>\n",
       "    <tr>\n",
       "      <th>event col</th>\n",
       "      <td>'is_not_right_censored'</td>\n",
       "    </tr>\n",
       "    <tr>\n",
       "      <th>number of observations</th>\n",
       "      <td>319801</td>\n",
       "    </tr>\n",
       "    <tr>\n",
       "      <th>number of events observed</th>\n",
       "      <td>270720</td>\n",
       "    </tr>\n",
       "    <tr>\n",
       "      <th>partial log-likelihood</th>\n",
       "      <td>-3075730.19</td>\n",
       "    </tr>\n",
       "    <tr>\n",
       "      <th>time fit was run</th>\n",
       "      <td>2020-06-19 21:43:12 UTC</td>\n",
       "    </tr>\n",
       "  </tbody>\n",
       "</table>\n",
       "</div><table border=\"1\" class=\"dataframe\">\n",
       "  <thead>\n",
       "    <tr style=\"text-align: right;\">\n",
       "      <th></th>\n",
       "      <th>coef</th>\n",
       "      <th>exp(coef)</th>\n",
       "      <th>se(coef)</th>\n",
       "      <th>coef lower 95%</th>\n",
       "      <th>coef upper 95%</th>\n",
       "      <th>exp(coef) lower 95%</th>\n",
       "      <th>exp(coef) upper 95%</th>\n",
       "      <th>z</th>\n",
       "      <th>p</th>\n",
       "      <th>-log2(p)</th>\n",
       "    </tr>\n",
       "  </thead>\n",
       "  <tbody>\n",
       "    <tr>\n",
       "      <th>has_received_amps</th>\n",
       "      <td>-0.81</td>\n",
       "      <td>0.44</td>\n",
       "      <td>0.02</td>\n",
       "      <td>-0.84</td>\n",
       "      <td>-0.78</td>\n",
       "      <td>0.43</td>\n",
       "      <td>0.46</td>\n",
       "      <td>-52.81</td>\n",
       "      <td>&lt;0.005</td>\n",
       "      <td>inf</td>\n",
       "    </tr>\n",
       "    <tr>\n",
       "      <th>has_received_comments</th>\n",
       "      <td>-0.99</td>\n",
       "      <td>0.37</td>\n",
       "      <td>0.01</td>\n",
       "      <td>-1.01</td>\n",
       "      <td>-0.96</td>\n",
       "      <td>0.36</td>\n",
       "      <td>0.38</td>\n",
       "      <td>-74.81</td>\n",
       "      <td>&lt;0.005</td>\n",
       "      <td>inf</td>\n",
       "    </tr>\n",
       "    <tr>\n",
       "      <th>journal_frequency_(2, 100]</th>\n",
       "      <td>-1.32</td>\n",
       "      <td>0.27</td>\n",
       "      <td>0.01</td>\n",
       "      <td>-1.34</td>\n",
       "      <td>-1.31</td>\n",
       "      <td>0.26</td>\n",
       "      <td>0.27</td>\n",
       "      <td>-212.33</td>\n",
       "      <td>&lt;0.005</td>\n",
       "      <td>inf</td>\n",
       "    </tr>\n",
       "    <tr>\n",
       "      <th>amps_count_log</th>\n",
       "      <td>-0.31</td>\n",
       "      <td>0.74</td>\n",
       "      <td>0.01</td>\n",
       "      <td>-0.32</td>\n",
       "      <td>-0.29</td>\n",
       "      <td>0.73</td>\n",
       "      <td>0.75</td>\n",
       "      <td>-44.20</td>\n",
       "      <td>&lt;0.005</td>\n",
       "      <td>inf</td>\n",
       "    </tr>\n",
       "    <tr>\n",
       "      <th>comment_count_log</th>\n",
       "      <td>-0.10</td>\n",
       "      <td>0.90</td>\n",
       "      <td>0.01</td>\n",
       "      <td>-0.12</td>\n",
       "      <td>-0.09</td>\n",
       "      <td>0.89</td>\n",
       "      <td>0.92</td>\n",
       "      <td>-11.86</td>\n",
       "      <td>&lt;0.005</td>\n",
       "      <td>105.30</td>\n",
       "    </tr>\n",
       "    <tr>\n",
       "      <th>journalfreq_comments_interaction</th>\n",
       "      <td>0.42</td>\n",
       "      <td>1.52</td>\n",
       "      <td>0.02</td>\n",
       "      <td>0.38</td>\n",
       "      <td>0.45</td>\n",
       "      <td>1.47</td>\n",
       "      <td>1.57</td>\n",
       "      <td>23.93</td>\n",
       "      <td>&lt;0.005</td>\n",
       "      <td>418.04</td>\n",
       "    </tr>\n",
       "    <tr>\n",
       "      <th>journalfreq_amps_interaction</th>\n",
       "      <td>0.73</td>\n",
       "      <td>2.07</td>\n",
       "      <td>0.02</td>\n",
       "      <td>0.69</td>\n",
       "      <td>0.77</td>\n",
       "      <td>1.99</td>\n",
       "      <td>2.15</td>\n",
       "      <td>37.18</td>\n",
       "      <td>&lt;0.005</td>\n",
       "      <td>1002.58</td>\n",
       "    </tr>\n",
       "  </tbody>\n",
       "</table><div>\n",
       "<style scoped>\n",
       "    .dataframe tbody tr th:only-of-type {\n",
       "        vertical-align: middle;\n",
       "    }\n",
       "\n",
       "    .dataframe tbody tr th {\n",
       "        vertical-align: top;\n",
       "    }\n",
       "\n",
       "    .dataframe thead th {\n",
       "        text-align: right;\n",
       "    }\n",
       "</style>\n",
       "<table border=\"1\" class=\"dataframe\">\n",
       "  <tbody>\n",
       "    <tr>\n",
       "      <th>Concordance</th>\n",
       "      <td>0.85</td>\n",
       "    </tr>\n",
       "    <tr>\n",
       "      <th>Log-likelihood ratio test</th>\n",
       "      <td>257536.13 on 7 df, -log2(p)=inf</td>\n",
       "    </tr>\n",
       "  </tbody>\n",
       "</table>\n",
       "</div>"
      ],
      "text/plain": [
       "<IPython.core.display.HTML object>"
      ]
     },
     "metadata": {},
     "output_type": "display_data"
    }
   ],
   "source": [
    "cph.print_summary()"
   ]
  },
  {
   "cell_type": "code",
   "execution_count": 266,
   "metadata": {},
   "outputs": [
    {
     "data": {
      "image/png": "[encoded data removed]",
      "text/plain": [
       "<Figure size 432x288 with 1 Axes>"
      ]
     },
     "metadata": {
      "needs_background": "light"
     },
     "output_type": "display_data"
    }
   ],
   "source": [
    "cph.plot()\n",
    "plt.show()"
   ]
  },
  {
   "cell_type": "code",
   "execution_count": 140,
   "metadata": {},
   "outputs": [
    {
     "data": {
      "image/png": "[encoded data removed]",
      "text/plain": [
       "<Figure size 864x864 with 1 Axes>"
      ]
     },
     "metadata": {
      "needs_background": "light"
     },
     "output_type": "display_data"
    }
   ],
   "source": [
    "fig, ax = plt.subplots(1, 1, figsize=(12,12))\n",
    "cph.plot_covariate_groups('journal_count', [1, 2, 5, 10, 30], cmap='coolwarm', ax=ax)\n",
    "plt.show()"
   ]
  },
  {
   "cell_type": "code",
   "execution_count": 93,
   "metadata": {},
   "outputs": [
    {
     "data": {
      "image/png": "[encoded data removed]",
      "text/plain": [
       "<Figure size 864x864 with 1 Axes>"
      ]
     },
     "metadata": {
      "needs_background": "light"
     },
     "output_type": "display_data"
    }
   ],
   "source": [
    "fig, ax = plt.subplots(1, 1, figsize=(12,12))\n",
    "cph.plot_covariate_groups('has_received_comments', [0, 1], cmap='coolwarm', ax=ax)\n",
    "plt.show()"
   ]
  },
  {
   "cell_type": "code",
   "execution_count": 94,
   "metadata": {},
   "outputs": [
    {
     "data": {
      "image/png": "[encoded data removed]",
      "text/plain": [
       "<Figure size 864x864 with 1 Axes>"
      ]
     },
     "metadata": {
      "needs_background": "light"
     },
     "output_type": "display_data"
    }
   ],
   "source": [
    "fig, ax = plt.subplots(1, 1, figsize=(12,12))\n",
    "cph.plot_covariate_groups(['journal_count', 'has_received_comments'], [(1, 0), (10, 0), (30, 0), (1, 1), (10, 1), (30, 1)], cmap='coolwarm', ax=ax)\n",
    "plt.show()"
   ]
  },
  {
   "cell_type": "code",
   "execution_count": 95,
   "metadata": {},
   "outputs": [
    {
     "data": {
      "image/png": "[encoded data removed]",
      "text/plain": [
       "<Figure size 864x864 with 1 Axes>"
      ]
     },
     "metadata": {
      "needs_background": "light"
     },
     "output_type": "display_data"
    }
   ],
   "source": [
    "fig, ax = plt.subplots(1, 1, figsize=(12,12))\n",
    "cph.plot_covariate_groups(['journal_count', 'has_received_amps'], [(1, 0), (10, 0), (30, 0), (1, 1), (10, 1), (30, 1)], cmap='coolwarm', ax=ax)\n",
    "plt.show()"
   ]
  },
  {
   "cell_type": "code",
   "execution_count": 96,
   "metadata": {},
   "outputs": [
    {
     "data": {
      "image/png": "[encoded data removed]",
      "text/plain": [
       "<Figure size 864x864 with 1 Axes>"
      ]
     },
     "metadata": {
      "needs_background": "light"
     },
     "output_type": "display_data"
    }
   ],
   "source": [
    "fig, ax = plt.subplots(1, 1, figsize=(12,12))\n",
    "cph.plot_covariate_groups(['has_received_comments', 'has_received_amps'], [(0, 0), (1, 0), (0, 1), (1, 1)], cmap='coolwarm', ax=ax)\n",
    "plt.show()"
   ]
  },
  {
   "cell_type": "code",
   "execution_count": 91,
   "metadata": {},
   "outputs": [
    {
     "data": {
      "image/png": "[encoded data removed]",
      "text/plain": [
       "<Figure size 864x864 with 1 Axes>"
      ]
     },
     "metadata": {
      "needs_background": "light"
     },
     "output_type": "display_data"
    }
   ],
   "source": [
    "fig, ax = plt.subplots(1, 1, figsize=(12,12))\n",
    "cph.plot_covariate_groups('interactions_count_log', [0, 1, 5, 10], cmap='coolwarm', ax=ax)\n",
    "plt.show()"
   ]
  },
  {
   "cell_type": "code",
   "execution_count": null,
   "metadata": {},
   "outputs": [],
   "source": []
  },
  {
   "cell_type": "code",
   "execution_count": 67,
   "metadata": {},
   "outputs": [],
   "source": [
    "mdf['amp_ratio'] = 0\n",
    "mdf.loc[mdf.interactions_count > 0, 'amp_ratio'] = \\\n",
    "    (mdf.loc[mdf.interactions_count > 0, 'amps_count'] / mdf.loc[mdf.interactions_count > 0, 'interactions_count']) - 0.5"
   ]
  },
  {
   "cell_type": "code",
   "execution_count": 68,
   "metadata": {},
   "outputs": [
    {
     "data": {
      "image/png": "[encoded data removed]",
      "text/plain": [
       "<Figure size 432x288 with 1 Axes>"
      ]
     },
     "metadata": {
      "needs_background": "light"
     },
     "output_type": "display_data"
    }
   ],
   "source": [
    "plt.hist(mdf.amp_ratio, log=True)\n",
    "plt.show()"
   ]
  },
  {
   "cell_type": "code",
   "execution_count": 69,
   "metadata": {},
   "outputs": [
    {
     "name": "stdout",
     "output_type": "stream",
     "text": [
      "Iteration 1: norm_delta = 0.34761, step_size = 0.9500, ll = -3207025.78207, newton_decrement = 24291.47015, seconds_since_start = 9.5\n",
      "Iteration 2: norm_delta = 0.45507, step_size = 0.9500, ll = -3174924.79077, newton_decrement = 15953.67884, seconds_since_start = 19.1\n",
      "Iteration 3: norm_delta = 0.24959, step_size = 0.9500, ll = -3156195.44969, newton_decrement = 3076.51995, seconds_since_start = 28.8\n",
      "Iteration 4: norm_delta = 0.09605, step_size = 0.9310, ll = -3152830.17947, newton_decrement = 240.99492, seconds_since_start = 38.2\n",
      "Iteration 5: norm_delta = 0.01132, step_size = 1.0000, ll = -3152576.78739, newton_decrement = 1.82384, seconds_since_start = 47.9\n",
      "Iteration 6: norm_delta = 0.00011, step_size = 1.0000, ll = -3152574.95295, newton_decrement = 0.00014, seconds_since_start = 57.5\n",
      "Iteration 7: norm_delta = 0.00000, step_size = 1.0000, ll = -3152574.95281, newton_decrement = 0.00000, seconds_since_start = 67.2\n",
      "Convergence success after 7 iterations.\n"
     ]
    },
    {
     "data": {
      "text/plain": [
       "<lifelines.CoxPHFitter: fitted with 320063 total observations, 49149 right-censored observations>"
      ]
     },
     "execution_count": 69,
     "metadata": {},
     "output_type": "execute_result"
    }
   ],
   "source": [
    "cph = CoxPHFitter()\n",
    "cph.fit(mdf[['site_tenure_months', 'is_not_right_censored', 'journal_count', 'interactions_count', 'amp_ratio']], \n",
    "        duration_col='site_tenure_months', event_col='is_not_right_censored',\n",
    "        show_progress=True)  # default step_size=0.95, can change to 0.5 or lower if needed"
   ]
  },
  {
   "cell_type": "code",
   "execution_count": 70,
   "metadata": {},
   "outputs": [
    {
     "data": {
      "text/html": [
       "<div>\n",
       "<style scoped>\n",
       "    .dataframe tbody tr th:only-of-type {\n",
       "        vertical-align: middle;\n",
       "    }\n",
       "\n",
       "    .dataframe tbody tr th {\n",
       "        vertical-align: top;\n",
       "    }\n",
       "\n",
       "    .dataframe thead th {\n",
       "        text-align: right;\n",
       "    }\n",
       "</style>\n",
       "<table border=\"1\" class=\"dataframe\">\n",
       "  <tbody>\n",
       "    <tr>\n",
       "      <th>model</th>\n",
       "      <td>lifelines.CoxPHFitter</td>\n",
       "    </tr>\n",
       "    <tr>\n",
       "      <th>duration col</th>\n",
       "      <td>'site_tenure_months'</td>\n",
       "    </tr>\n",
       "    <tr>\n",
       "      <th>event col</th>\n",
       "      <td>'is_not_right_censored'</td>\n",
       "    </tr>\n",
       "    <tr>\n",
       "      <th>number of observations</th>\n",
       "      <td>320063</td>\n",
       "    </tr>\n",
       "    <tr>\n",
       "      <th>number of events observed</th>\n",
       "      <td>270914</td>\n",
       "    </tr>\n",
       "    <tr>\n",
       "      <th>partial log-likelihood</th>\n",
       "      <td>-3152574.95</td>\n",
       "    </tr>\n",
       "    <tr>\n",
       "      <th>time fit was run</th>\n",
       "      <td>2020-06-19 19:43:45 UTC</td>\n",
       "    </tr>\n",
       "  </tbody>\n",
       "</table>\n",
       "</div><table border=\"1\" class=\"dataframe\">\n",
       "  <thead>\n",
       "    <tr style=\"text-align: right;\">\n",
       "      <th></th>\n",
       "      <th>coef</th>\n",
       "      <th>exp(coef)</th>\n",
       "      <th>se(coef)</th>\n",
       "      <th>coef lower 95%</th>\n",
       "      <th>coef upper 95%</th>\n",
       "      <th>exp(coef) lower 95%</th>\n",
       "      <th>exp(coef) upper 95%</th>\n",
       "      <th>z</th>\n",
       "      <th>p</th>\n",
       "      <th>-log2(p)</th>\n",
       "    </tr>\n",
       "  </thead>\n",
       "  <tbody>\n",
       "    <tr>\n",
       "      <th>journal_count</th>\n",
       "      <td>-0.07</td>\n",
       "      <td>0.93</td>\n",
       "      <td>0.00</td>\n",
       "      <td>-0.07</td>\n",
       "      <td>-0.07</td>\n",
       "      <td>0.93</td>\n",
       "      <td>0.93</td>\n",
       "      <td>-163.28</td>\n",
       "      <td>&lt;0.005</td>\n",
       "      <td>inf</td>\n",
       "    </tr>\n",
       "    <tr>\n",
       "      <th>interactions_count</th>\n",
       "      <td>-0.00</td>\n",
       "      <td>1.00</td>\n",
       "      <td>0.00</td>\n",
       "      <td>-0.00</td>\n",
       "      <td>-0.00</td>\n",
       "      <td>1.00</td>\n",
       "      <td>1.00</td>\n",
       "      <td>-75.74</td>\n",
       "      <td>&lt;0.005</td>\n",
       "      <td>inf</td>\n",
       "    </tr>\n",
       "    <tr>\n",
       "      <th>amp_ratio</th>\n",
       "      <td>1.08</td>\n",
       "      <td>2.94</td>\n",
       "      <td>0.01</td>\n",
       "      <td>1.06</td>\n",
       "      <td>1.10</td>\n",
       "      <td>2.88</td>\n",
       "      <td>3.00</td>\n",
       "      <td>106.05</td>\n",
       "      <td>&lt;0.005</td>\n",
       "      <td>inf</td>\n",
       "    </tr>\n",
       "  </tbody>\n",
       "</table><div>\n",
       "<style scoped>\n",
       "    .dataframe tbody tr th:only-of-type {\n",
       "        vertical-align: middle;\n",
       "    }\n",
       "\n",
       "    .dataframe tbody tr th {\n",
       "        vertical-align: top;\n",
       "    }\n",
       "\n",
       "    .dataframe thead th {\n",
       "        text-align: right;\n",
       "    }\n",
       "</style>\n",
       "<table border=\"1\" class=\"dataframe\">\n",
       "  <tbody>\n",
       "    <tr>\n",
       "      <th>Concordance</th>\n",
       "      <td>0.86</td>\n",
       "    </tr>\n",
       "    <tr>\n",
       "      <th>Log-likelihood ratio test</th>\n",
       "      <td>108901.66 on 3 df, -log2(p)=inf</td>\n",
       "    </tr>\n",
       "  </tbody>\n",
       "</table>\n",
       "</div>"
      ],
      "text/plain": [
       "<IPython.core.display.HTML object>"
      ]
     },
     "metadata": {},
     "output_type": "display_data"
    },
    {
     "data": {
      "image/png": "[encoded data removed]",
      "text/plain": [
       "<Figure size 432x288 with 1 Axes>"
      ]
     },
     "metadata": {
      "needs_background": "light"
     },
     "output_type": "display_data"
    }
   ],
   "source": [
    "cph.print_summary()\n",
    "cph.plot()\n",
    "plt.show()"
   ]
  },
  {
   "cell_type": "code",
   "execution_count": 72,
   "metadata": {},
   "outputs": [
    {
     "data": {
      "image/png": "[encoded data removed]",
      "text/plain": [
       "<Figure size 864x864 with 1 Axes>"
      ]
     },
     "metadata": {
      "needs_background": "light"
     },
     "output_type": "display_data"
    }
   ],
   "source": [
    "fig, ax = plt.subplots(1, 1, figsize=(12,12))\n",
    "cph.plot_covariate_groups(['journal_count', 'amp_ratio'], [(1, -0.5), (10, -0.5), (30, -0.5), (1, 0.5), (10, 0.5), (30, 0.5)], cmap='coolwarm', ax=ax)\n",
    "plt.show()"
   ]
  },
  {
   "cell_type": "code",
   "execution_count": null,
   "metadata": {},
   "outputs": [],
   "source": []
  },
  {
   "cell_type": "code",
   "execution_count": 145,
   "metadata": {},
   "outputs": [
    {
     "data": {
      "text/plain": [
       "(1.0, 2.0, 8.0)"
      ]
     },
     "execution_count": 145,
     "metadata": {},
     "output_type": "execute_result"
    }
   ],
   "source": [
    "np.quantile(mdf.journal_count, 0.25), np.quantile(mdf.journal_count, 0.5), np.quantile(mdf.journal_count, 0.75)"
   ]
  },
  {
   "cell_type": "code",
   "execution_count": 222,
   "metadata": {},
   "outputs": [],
   "source": [
    "mdf['journal_frequency'] = pd.cut(mdf.journal_count, bins=[0, 2, 8, np.max(mdf.journal_count)])"
   ]
  },
  {
   "cell_type": "code",
   "execution_count": 165,
   "metadata": {},
   "outputs": [
    {
     "data": {
      "text/plain": [
       "0           (0, 2]\n",
       "1           (0, 2]\n",
       "2           (0, 2]\n",
       "3           (0, 2]\n",
       "4         (8, 100]\n",
       "            ...   \n",
       "320058      (0, 2]\n",
       "320059      (0, 2]\n",
       "320060      (0, 2]\n",
       "320061      (2, 8]\n",
       "320062      (2, 8]\n",
       "Name: journal_frequency, Length: 319801, dtype: category\n",
       "Categories (3, interval[int64]): [(0, 2] < (2, 8] < (8, 100]]"
      ]
     },
     "execution_count": 165,
     "metadata": {},
     "output_type": "execute_result"
    }
   ],
   "source": [
    "mdf.journal_frequency"
   ]
  },
  {
   "cell_type": "code",
   "execution_count": 152,
   "metadata": {},
   "outputs": [
    {
     "name": "stdout",
     "output_type": "stream",
     "text": [
      "Iteration 1: norm_delta = 0.79803, step_size = 0.9500, ll = -2927357.77534, newton_decrement = 32625.91406, seconds_since_start = 13.8\n",
      "Iteration 2: norm_delta = 0.09943, step_size = 0.9500, ll = -2896268.55461, newton_decrement = 55.51902, seconds_since_start = 27.7\n",
      "Iteration 3: norm_delta = 0.00476, step_size = 0.9500, ll = -2896213.26530, newton_decrement = 0.12444, seconds_since_start = 41.7\n",
      "Iteration 4: norm_delta = 0.00000, step_size = 1.0000, ll = -2896213.14087, newton_decrement = 0.00000, seconds_since_start = 55.6\n",
      "Convergence success after 4 iterations.\n"
     ]
    },
    {
     "data": {
      "text/plain": [
       "<lifelines.CoxPHFitter: fitted with 319801 total observations, 49081 right-censored observations>"
      ]
     },
     "execution_count": 152,
     "metadata": {},
     "output_type": "execute_result"
    }
   ],
   "source": [
    "# want to evaluate high vs low activity sites\n",
    "cph = CoxPHFitter()\n",
    "cph.fit(mdf[['site_tenure_months', 'is_not_right_censored', 'journal_frequency', 'interactions_count_log', 'has_received_comments', 'has_received_amps']], \n",
    "        duration_col='site_tenure_months', event_col='is_not_right_censored', strata='journal_frequency',\n",
    "        show_progress=True)  # default step_size=0.95, can change to 0.5 or lower if needed"
   ]
  },
  {
   "cell_type": "code",
   "execution_count": 153,
   "metadata": {},
   "outputs": [
    {
     "data": {
      "text/html": [
       "<div>\n",
       "<style scoped>\n",
       "    .dataframe tbody tr th:only-of-type {\n",
       "        vertical-align: middle;\n",
       "    }\n",
       "\n",
       "    .dataframe tbody tr th {\n",
       "        vertical-align: top;\n",
       "    }\n",
       "\n",
       "    .dataframe thead th {\n",
       "        text-align: right;\n",
       "    }\n",
       "</style>\n",
       "<table border=\"1\" class=\"dataframe\">\n",
       "  <tbody>\n",
       "    <tr>\n",
       "      <th>model</th>\n",
       "      <td>lifelines.CoxPHFitter</td>\n",
       "    </tr>\n",
       "    <tr>\n",
       "      <th>duration col</th>\n",
       "      <td>'site_tenure_months'</td>\n",
       "    </tr>\n",
       "    <tr>\n",
       "      <th>event col</th>\n",
       "      <td>'is_not_right_censored'</td>\n",
       "    </tr>\n",
       "    <tr>\n",
       "      <th>strata</th>\n",
       "      <td>journal_frequency</td>\n",
       "    </tr>\n",
       "    <tr>\n",
       "      <th>number of observations</th>\n",
       "      <td>319801</td>\n",
       "    </tr>\n",
       "    <tr>\n",
       "      <th>number of events observed</th>\n",
       "      <td>270720</td>\n",
       "    </tr>\n",
       "    <tr>\n",
       "      <th>partial log-likelihood</th>\n",
       "      <td>-2896213.14</td>\n",
       "    </tr>\n",
       "    <tr>\n",
       "      <th>time fit was run</th>\n",
       "      <td>2020-06-19 20:19:59 UTC</td>\n",
       "    </tr>\n",
       "  </tbody>\n",
       "</table>\n",
       "</div><table border=\"1\" class=\"dataframe\">\n",
       "  <thead>\n",
       "    <tr style=\"text-align: right;\">\n",
       "      <th></th>\n",
       "      <th>coef</th>\n",
       "      <th>exp(coef)</th>\n",
       "      <th>se(coef)</th>\n",
       "      <th>coef lower 95%</th>\n",
       "      <th>coef upper 95%</th>\n",
       "      <th>exp(coef) lower 95%</th>\n",
       "      <th>exp(coef) upper 95%</th>\n",
       "      <th>z</th>\n",
       "      <th>p</th>\n",
       "      <th>-log2(p)</th>\n",
       "    </tr>\n",
       "  </thead>\n",
       "  <tbody>\n",
       "    <tr>\n",
       "      <th>interactions_count_log</th>\n",
       "      <td>-0.47</td>\n",
       "      <td>0.63</td>\n",
       "      <td>0.01</td>\n",
       "      <td>-0.48</td>\n",
       "      <td>-0.46</td>\n",
       "      <td>0.62</td>\n",
       "      <td>0.63</td>\n",
       "      <td>-73.88</td>\n",
       "      <td>&lt;0.005</td>\n",
       "      <td>inf</td>\n",
       "    </tr>\n",
       "    <tr>\n",
       "      <th>has_received_comments</th>\n",
       "      <td>-0.13</td>\n",
       "      <td>0.88</td>\n",
       "      <td>0.01</td>\n",
       "      <td>-0.15</td>\n",
       "      <td>-0.10</td>\n",
       "      <td>0.86</td>\n",
       "      <td>0.90</td>\n",
       "      <td>-9.66</td>\n",
       "      <td>&lt;0.005</td>\n",
       "      <td>70.94</td>\n",
       "    </tr>\n",
       "    <tr>\n",
       "      <th>has_received_amps</th>\n",
       "      <td>-0.13</td>\n",
       "      <td>0.88</td>\n",
       "      <td>0.01</td>\n",
       "      <td>-0.15</td>\n",
       "      <td>-0.11</td>\n",
       "      <td>0.86</td>\n",
       "      <td>0.90</td>\n",
       "      <td>-11.10</td>\n",
       "      <td>&lt;0.005</td>\n",
       "      <td>92.72</td>\n",
       "    </tr>\n",
       "  </tbody>\n",
       "</table><div>\n",
       "<style scoped>\n",
       "    .dataframe tbody tr th:only-of-type {\n",
       "        vertical-align: middle;\n",
       "    }\n",
       "\n",
       "    .dataframe tbody tr th {\n",
       "        vertical-align: top;\n",
       "    }\n",
       "\n",
       "    .dataframe thead th {\n",
       "        text-align: right;\n",
       "    }\n",
       "</style>\n",
       "<table border=\"1\" class=\"dataframe\">\n",
       "  <tbody>\n",
       "    <tr>\n",
       "      <th>Concordance</th>\n",
       "      <td>0.64</td>\n",
       "    </tr>\n",
       "    <tr>\n",
       "      <th>Log-likelihood ratio test</th>\n",
       "      <td>62289.27 on 3 df, -log2(p)=inf</td>\n",
       "    </tr>\n",
       "  </tbody>\n",
       "</table>\n",
       "</div>"
      ],
      "text/plain": [
       "<IPython.core.display.HTML object>"
      ]
     },
     "metadata": {},
     "output_type": "display_data"
    },
    {
     "data": {
      "image/png": "[encoded data removed]",
      "text/plain": [
       "<Figure size 432x288 with 1 Axes>"
      ]
     },
     "metadata": {
      "needs_background": "light"
     },
     "output_type": "display_data"
    }
   ],
   "source": [
    "cph.print_summary()\n",
    "cph.plot()\n",
    "plt.show()"
   ]
  },
  {
   "cell_type": "code",
   "execution_count": 160,
   "metadata": {},
   "outputs": [
    {
     "data": {
      "image/png": "[encoded data removed]",
      "text/plain": [
       "<Figure size 432x288 with 1 Axes>"
      ]
     },
     "metadata": {
      "needs_background": "light"
     },
     "output_type": "display_data"
    },
    {
     "data": {
      "image/png": "[encoded data removed]",
      "text/plain": [
       "<Figure size 432x288 with 1 Axes>"
      ]
     },
     "metadata": {
      "needs_background": "light"
     },
     "output_type": "display_data"
    },
    {
     "data": {
      "image/png": "[encoded data removed]",
      "text/plain": [
       "<Figure size 432x288 with 1 Axes>"
      ]
     },
     "metadata": {
      "needs_background": "light"
     },
     "output_type": "display_data"
    }
   ],
   "source": [
    "#fig, axes = plt.subplots(1, 3, figsize=(12,12))\n",
    "cph.plot_covariate_groups('has_received_amps', [0, 1], cmap='coolwarm')\n",
    "plt.show()"
   ]
  },
  {
   "cell_type": "code",
   "execution_count": 189,
   "metadata": {},
   "outputs": [
    {
     "data": {
      "text/plain": [
       "(             0\n",
       " 0.0   0.457560\n",
       " 1.0   0.068964\n",
       " 12.0  0.007185,              0\n",
       " 0.0   0.719999\n",
       " 1.0   0.325109\n",
       " 12.0  0.125701)"
      ]
     },
     "execution_count": 189,
     "metadata": {},
     "output_type": "execute_result"
    }
   ],
   "source": [
    "cph.predict_survival_function(pd.Series({\n",
    "    'journal_frequency': mdf.groupby('journal_frequency').size().index[0],\n",
    "    'has_received_amps': 0,\n",
    "    'has_received_comments': 0,\n",
    "    'is_not_right_censored': 1,\n",
    "    'interactions_count_log': -1\n",
    "}), [0, 1, 12]), \\\n",
    "cph.predict_survival_function(pd.Series({\n",
    "    'journal_frequency': mdf.groupby('journal_frequency').size().index[0],\n",
    "    'has_received_amps': 1,\n",
    "    'has_received_comments': 1,\n",
    "    'is_not_right_censored': 1,\n",
    "    'interactions_count_log': np.log10(2)\n",
    "}), [0, 1, 12])"
   ]
  },
  {
   "cell_type": "code",
   "execution_count": 190,
   "metadata": {},
   "outputs": [
    {
     "data": {
      "text/plain": [
       "(0.25614499999999996, 0.11851600000000001)"
      ]
     },
     "execution_count": 190,
     "metadata": {},
     "output_type": "execute_result"
    }
   ],
   "source": [
    "0.325109 - 0.068964, 0.125701 - 0.007185"
   ]
  },
  {
   "cell_type": "code",
   "execution_count": 188,
   "metadata": {},
   "outputs": [
    {
     "data": {
      "text/plain": [
       "(             0\n",
       " 0.0   0.999953\n",
       " 1.0   0.351100\n",
       " 12.0  0.003731,              0\n",
       " 0.0   0.999980\n",
       " 1.0   0.644178\n",
       " 12.0  0.095447)"
      ]
     },
     "execution_count": 188,
     "metadata": {},
     "output_type": "execute_result"
    }
   ],
   "source": [
    "cph.predict_survival_function(pd.Series({\n",
    "    'journal_frequency': mdf.groupby('journal_frequency').size().index[2],\n",
    "    'has_received_amps': 0,\n",
    "    'has_received_comments': 0,\n",
    "    'is_not_right_censored': 1,\n",
    "    'interactions_count_log': -1\n",
    "}), [0, 1, 12]), \\\n",
    "cph.predict_survival_function(pd.Series({\n",
    "    'journal_frequency': mdf.groupby('journal_frequency').size().index[2],\n",
    "    'has_received_amps': 1,\n",
    "    'has_received_comments': 1,\n",
    "    'is_not_right_censored': 1,\n",
    "    'interactions_count_log': np.log10(2)\n",
    "}), [0, 1, 12])"
   ]
  },
  {
   "cell_type": "code",
   "execution_count": 191,
   "metadata": {},
   "outputs": [
    {
     "data": {
      "text/plain": [
       "(0.293078, 0.091716)"
      ]
     },
     "execution_count": 191,
     "metadata": {},
     "output_type": "execute_result"
    }
   ],
   "source": [
    "0.644178 - 0.351100, 0.095447 - 0.003731"
   ]
  },
  {
   "cell_type": "code",
   "execution_count": 181,
   "metadata": {
    "scrolled": true
   },
   "outputs": [
    {
     "data": {
      "text/plain": [
       "journal_frequency\n",
       "(0, 2]      167935\n",
       "(2, 8]       75164\n",
       "(8, 100]     76702\n",
       "dtype: int64"
      ]
     },
     "execution_count": 181,
     "metadata": {},
     "output_type": "execute_result"
    }
   ],
   "source": [
    "mdf.groupby('journal_frequency').size()"
   ]
  },
  {
   "cell_type": "code",
   "execution_count": 223,
   "metadata": {},
   "outputs": [],
   "source": [
    "mdf = pd.concat([mdf, pd.get_dummies(mdf.journal_frequency, prefix='journal_frequency')], axis=1)"
   ]
  },
  {
   "cell_type": "code",
   "execution_count": 214,
   "metadata": {},
   "outputs": [
    {
     "data": {
      "text/html": [
       "<div>\n",
       "<style scoped>\n",
       "    .dataframe tbody tr th:only-of-type {\n",
       "        vertical-align: middle;\n",
       "    }\n",
       "\n",
       "    .dataframe tbody tr th {\n",
       "        vertical-align: top;\n",
       "    }\n",
       "\n",
       "    .dataframe thead th {\n",
       "        text-align: right;\n",
       "    }\n",
       "</style>\n",
       "<table border=\"1\" class=\"dataframe\">\n",
       "  <thead>\n",
       "    <tr style=\"text-align: right;\">\n",
       "      <th></th>\n",
       "      <th>site_id</th>\n",
       "      <th>journal_count</th>\n",
       "      <th>amps_count</th>\n",
       "      <th>comment_count</th>\n",
       "      <th>site_tenure</th>\n",
       "      <th>is_right_censored</th>\n",
       "      <th>is_not_right_censored</th>\n",
       "      <th>interactions_count</th>\n",
       "      <th>has_received_interactions</th>\n",
       "      <th>has_received_amps</th>\n",
       "      <th>has_received_comments</th>\n",
       "      <th>site_tenure_months</th>\n",
       "      <th>interactions_count_log</th>\n",
       "      <th>journal_count_log</th>\n",
       "      <th>amps_count_log</th>\n",
       "      <th>comment_count_log</th>\n",
       "      <th>journal_frequency</th>\n",
       "      <th>journal_frequency_(0, 2]</th>\n",
       "      <th>journal_frequency_(2, 8]</th>\n",
       "      <th>journal_frequency_(8, 100]</th>\n",
       "    </tr>\n",
       "  </thead>\n",
       "  <tbody>\n",
       "    <tr>\n",
       "      <th>0</th>\n",
       "      <td>136505</td>\n",
       "      <td>1</td>\n",
       "      <td>0</td>\n",
       "      <td>0</td>\n",
       "      <td>0</td>\n",
       "      <td>False</td>\n",
       "      <td>True</td>\n",
       "      <td>0</td>\n",
       "      <td>False</td>\n",
       "      <td>False</td>\n",
       "      <td>False</td>\n",
       "      <td>0.0</td>\n",
       "      <td>-1.0</td>\n",
       "      <td>0.0</td>\n",
       "      <td>0.0</td>\n",
       "      <td>0.0</td>\n",
       "      <td>(0, 2]</td>\n",
       "      <td>1</td>\n",
       "      <td>0</td>\n",
       "      <td>0</td>\n",
       "    </tr>\n",
       "  </tbody>\n",
       "</table>\n",
       "</div>"
      ],
      "text/plain": [
       "   site_id  journal_count  amps_count  comment_count  site_tenure  \\\n",
       "0   136505              1           0              0            0   \n",
       "\n",
       "   is_right_censored  is_not_right_censored  interactions_count  \\\n",
       "0              False                   True                   0   \n",
       "\n",
       "   has_received_interactions  has_received_amps  has_received_comments  \\\n",
       "0                      False              False                  False   \n",
       "\n",
       "   site_tenure_months  interactions_count_log  journal_count_log  \\\n",
       "0                 0.0                    -1.0                0.0   \n",
       "\n",
       "   amps_count_log  comment_count_log journal_frequency  \\\n",
       "0             0.0                0.0            (0, 2]   \n",
       "\n",
       "   journal_frequency_(0, 2]  journal_frequency_(2, 8]  \\\n",
       "0                         1                         0   \n",
       "\n",
       "   journal_frequency_(8, 100]  \n",
       "0                           0  "
      ]
     },
     "execution_count": 214,
     "metadata": {},
     "output_type": "execute_result"
    }
   ],
   "source": [
    "mdf.head(1)"
   ]
  },
  {
   "cell_type": "code",
   "execution_count": 215,
   "metadata": {},
   "outputs": [
    {
     "name": "stdout",
     "output_type": "stream",
     "text": [
      "Iteration 1: norm_delta = 1.04786, step_size = 0.9500, ll = -3204498.25650, newton_decrement = 135033.12680, seconds_since_start = 9.4\n",
      "Iteration 2: norm_delta = 0.24514, step_size = 0.9500, ll = -3081202.46058, newton_decrement = 2639.15622, seconds_since_start = 18.9\n",
      "Iteration 3: norm_delta = 0.00666, step_size = 0.9500, ll = -3078680.03012, newton_decrement = 1.36625, seconds_since_start = 28.3\n",
      "Iteration 4: norm_delta = 0.00001, step_size = 1.0000, ll = -3078678.66276, newton_decrement = 0.00000, seconds_since_start = 37.6\n",
      "Iteration 5: norm_delta = 0.00000, step_size = 1.0000, ll = -3078678.66275, newton_decrement = 0.00000, seconds_since_start = 46.9\n",
      "Convergence success after 5 iterations.\n"
     ]
    },
    {
     "data": {
      "text/plain": [
       "<lifelines.CoxPHFitter: fitted with 319801 total observations, 49081 right-censored observations>"
      ]
     },
     "execution_count": 215,
     "metadata": {},
     "output_type": "execute_result"
    }
   ],
   "source": [
    "# want to evaluate high vs low activity sites\n",
    "cph = CoxPHFitter()\n",
    "cph.fit(mdf[['site_tenure_months', 'is_not_right_censored', 'journal_frequency_(2, 8]', 'journal_frequency_(8, 100]', 'comment_count_log', 'amps_count_log', 'has_received_comments', 'has_received_amps']], \n",
    "        duration_col='site_tenure_months', event_col='is_not_right_censored',\n",
    "        show_progress=True)  # default step_size=0.95, can change to 0.5 or lower if needed"
   ]
  },
  {
   "cell_type": "code",
   "execution_count": 216,
   "metadata": {},
   "outputs": [
    {
     "data": {
      "text/html": [
       "<div>\n",
       "<style scoped>\n",
       "    .dataframe tbody tr th:only-of-type {\n",
       "        vertical-align: middle;\n",
       "    }\n",
       "\n",
       "    .dataframe tbody tr th {\n",
       "        vertical-align: top;\n",
       "    }\n",
       "\n",
       "    .dataframe thead th {\n",
       "        text-align: right;\n",
       "    }\n",
       "</style>\n",
       "<table border=\"1\" class=\"dataframe\">\n",
       "  <tbody>\n",
       "    <tr>\n",
       "      <th>model</th>\n",
       "      <td>lifelines.CoxPHFitter</td>\n",
       "    </tr>\n",
       "    <tr>\n",
       "      <th>duration col</th>\n",
       "      <td>'site_tenure_months'</td>\n",
       "    </tr>\n",
       "    <tr>\n",
       "      <th>event col</th>\n",
       "      <td>'is_not_right_censored'</td>\n",
       "    </tr>\n",
       "    <tr>\n",
       "      <th>number of observations</th>\n",
       "      <td>319801</td>\n",
       "    </tr>\n",
       "    <tr>\n",
       "      <th>number of events observed</th>\n",
       "      <td>270720</td>\n",
       "    </tr>\n",
       "    <tr>\n",
       "      <th>partial log-likelihood</th>\n",
       "      <td>-3078678.66</td>\n",
       "    </tr>\n",
       "    <tr>\n",
       "      <th>time fit was run</th>\n",
       "      <td>2020-06-19 21:12:12 UTC</td>\n",
       "    </tr>\n",
       "  </tbody>\n",
       "</table>\n",
       "</div><table border=\"1\" class=\"dataframe\">\n",
       "  <thead>\n",
       "    <tr style=\"text-align: right;\">\n",
       "      <th></th>\n",
       "      <th>coef</th>\n",
       "      <th>exp(coef)</th>\n",
       "      <th>se(coef)</th>\n",
       "      <th>coef lower 95%</th>\n",
       "      <th>coef upper 95%</th>\n",
       "      <th>exp(coef) lower 95%</th>\n",
       "      <th>exp(coef) upper 95%</th>\n",
       "      <th>z</th>\n",
       "      <th>p</th>\n",
       "      <th>-log2(p)</th>\n",
       "    </tr>\n",
       "  </thead>\n",
       "  <tbody>\n",
       "    <tr>\n",
       "      <th>journal_frequency_(2, 8]</th>\n",
       "      <td>-1.07</td>\n",
       "      <td>0.34</td>\n",
       "      <td>0.01</td>\n",
       "      <td>-1.08</td>\n",
       "      <td>-1.06</td>\n",
       "      <td>0.34</td>\n",
       "      <td>0.35</td>\n",
       "      <td>-195.44</td>\n",
       "      <td>&lt;0.005</td>\n",
       "      <td>inf</td>\n",
       "    </tr>\n",
       "    <tr>\n",
       "      <th>journal_frequency_(8, 100]</th>\n",
       "      <td>-1.17</td>\n",
       "      <td>0.31</td>\n",
       "      <td>0.01</td>\n",
       "      <td>-1.18</td>\n",
       "      <td>-1.16</td>\n",
       "      <td>0.31</td>\n",
       "      <td>0.31</td>\n",
       "      <td>-169.95</td>\n",
       "      <td>&lt;0.005</td>\n",
       "      <td>inf</td>\n",
       "    </tr>\n",
       "    <tr>\n",
       "      <th>comment_count_log</th>\n",
       "      <td>0.06</td>\n",
       "      <td>1.06</td>\n",
       "      <td>0.01</td>\n",
       "      <td>0.04</td>\n",
       "      <td>0.07</td>\n",
       "      <td>1.04</td>\n",
       "      <td>1.08</td>\n",
       "      <td>6.38</td>\n",
       "      <td>&lt;0.005</td>\n",
       "      <td>32.42</td>\n",
       "    </tr>\n",
       "    <tr>\n",
       "      <th>amps_count_log</th>\n",
       "      <td>-0.23</td>\n",
       "      <td>0.79</td>\n",
       "      <td>0.01</td>\n",
       "      <td>-0.25</td>\n",
       "      <td>-0.22</td>\n",
       "      <td>0.78</td>\n",
       "      <td>0.80</td>\n",
       "      <td>-33.31</td>\n",
       "      <td>&lt;0.005</td>\n",
       "      <td>805.53</td>\n",
       "    </tr>\n",
       "    <tr>\n",
       "      <th>has_received_comments</th>\n",
       "      <td>-0.87</td>\n",
       "      <td>0.42</td>\n",
       "      <td>0.01</td>\n",
       "      <td>-0.89</td>\n",
       "      <td>-0.85</td>\n",
       "      <td>0.41</td>\n",
       "      <td>0.43</td>\n",
       "      <td>-83.30</td>\n",
       "      <td>&lt;0.005</td>\n",
       "      <td>inf</td>\n",
       "    </tr>\n",
       "    <tr>\n",
       "      <th>has_received_amps</th>\n",
       "      <td>-0.36</td>\n",
       "      <td>0.69</td>\n",
       "      <td>0.01</td>\n",
       "      <td>-0.38</td>\n",
       "      <td>-0.35</td>\n",
       "      <td>0.68</td>\n",
       "      <td>0.71</td>\n",
       "      <td>-37.33</td>\n",
       "      <td>&lt;0.005</td>\n",
       "      <td>1010.64</td>\n",
       "    </tr>\n",
       "  </tbody>\n",
       "</table><div>\n",
       "<style scoped>\n",
       "    .dataframe tbody tr th:only-of-type {\n",
       "        vertical-align: middle;\n",
       "    }\n",
       "\n",
       "    .dataframe tbody tr th {\n",
       "        vertical-align: top;\n",
       "    }\n",
       "\n",
       "    .dataframe thead th {\n",
       "        text-align: right;\n",
       "    }\n",
       "</style>\n",
       "<table border=\"1\" class=\"dataframe\">\n",
       "  <tbody>\n",
       "    <tr>\n",
       "      <th>Concordance</th>\n",
       "      <td>0.85</td>\n",
       "    </tr>\n",
       "    <tr>\n",
       "      <th>Log-likelihood ratio test</th>\n",
       "      <td>251639.19 on 6 df, -log2(p)=inf</td>\n",
       "    </tr>\n",
       "  </tbody>\n",
       "</table>\n",
       "</div>"
      ],
      "text/plain": [
       "<IPython.core.display.HTML object>"
      ]
     },
     "metadata": {},
     "output_type": "display_data"
    },
    {
     "data": {
      "image/png": "[encoded data removed]",
      "text/plain": [
       "<Figure size 432x288 with 1 Axes>"
      ]
     },
     "metadata": {
      "needs_background": "light"
     },
     "output_type": "display_data"
    }
   ],
   "source": [
    "cph.print_summary()\n",
    "cph.plot()\n",
    "plt.show()"
   ]
  },
  {
   "cell_type": "code",
   "execution_count": 201,
   "metadata": {},
   "outputs": [
    {
     "data": {
      "text/plain": [
       "(             0\n",
       " 0.0   0.501543\n",
       " 1.0   0.018166\n",
       " 12.0  0.000004,              0\n",
       " 0.0   0.779824\n",
       " 1.0   0.235869\n",
       " 12.0  0.011384)"
      ]
     },
     "execution_count": 201,
     "metadata": {},
     "output_type": "execute_result"
    }
   ],
   "source": [
    "cph.predict_survival_function(pd.Series({\n",
    "    'journal_frequency_(2, 8]': 0, \n",
    "    'journal_frequency_(8, 100]': 0,\n",
    "    'has_received_amps': 0,\n",
    "    'has_received_comments': 0,\n",
    "    'is_not_right_censored': 1,\n",
    "    'interactions_count_log': -1\n",
    "}), [0, 1, 6]), \\\n",
    "cph.predict_survival_function(pd.Series({\n",
    "    'journal_frequency_(2, 8]': 0, \n",
    "    'journal_frequency_(8, 100]': 0,\n",
    "    'has_received_amps': 1,\n",
    "    'has_received_comments': 1,\n",
    "    'is_not_right_censored': 1,\n",
    "    'interactions_count_log': np.log10(2)\n",
    "}), [0, 1, 6])"
   ]
  },
  {
   "cell_type": "code",
   "execution_count": 203,
   "metadata": {},
   "outputs": [
    {
     "data": {
      "text/plain": [
       "(0.21770299999999998, 0.01138)"
      ]
     },
     "execution_count": 203,
     "metadata": {},
     "output_type": "execute_result"
    }
   ],
   "source": [
    "0.235869 - 0.018166, 0.011384 - 0.000004"
   ]
  },
  {
   "cell_type": "code",
   "execution_count": 202,
   "metadata": {},
   "outputs": [
    {
     "data": {
      "text/plain": [
       "(            0\n",
       " 0.0  0.801889\n",
       " 1.0  0.277368\n",
       " 6.0  0.061963,             0\n",
       " 0.0  0.923516\n",
       " 1.0  0.629923\n",
       " 6.0  0.367033)"
      ]
     },
     "execution_count": 202,
     "metadata": {},
     "output_type": "execute_result"
    }
   ],
   "source": [
    "cph.predict_survival_function(pd.Series({\n",
    "    'journal_frequency_(2, 8]': 0, \n",
    "    'journal_frequency_(8, 100]': 1,\n",
    "    'has_received_amps': 0,\n",
    "    'has_received_comments': 0,\n",
    "    'is_not_right_censored': 1,\n",
    "    'interactions_count_log': -1\n",
    "}), [0, 1, 6]), \\\n",
    "cph.predict_survival_function(pd.Series({\n",
    "    'journal_frequency_(2, 8]': 0, \n",
    "    'journal_frequency_(8, 100]': 1,\n",
    "    'has_received_amps': 1,\n",
    "    'has_received_comments': 1,\n",
    "    'is_not_right_censored': 1,\n",
    "    'interactions_count_log': np.log10(2)\n",
    "}), [0, 1, 6])"
   ]
  },
  {
   "cell_type": "code",
   "execution_count": 204,
   "metadata": {},
   "outputs": [
    {
     "data": {
      "text/plain": [
       "(0.352555, 0.30507)"
      ]
     },
     "execution_count": 204,
     "metadata": {},
     "output_type": "execute_result"
    }
   ],
   "source": [
    "0.629923 - 0.277368, 0.367033 - 0.061963"
   ]
  },
  {
   "cell_type": "code",
   "execution_count": null,
   "metadata": {},
   "outputs": [],
   "source": []
  }
 ],
 "metadata": {
  "kernelspec": {
   "display_name": "Python (shared-conda)",
   "language": "python",
   "name": "shared-conda"
  },
  "language_info": {
   "codemirror_mode": {
    "name": "ipython",
    "version": 3
   },
   "file_extension": ".py",
   "mimetype": "text/x-python",
   "name": "python",
   "nbconvert_exporter": "python",
   "pygments_lexer": "ipython3",
   "version": "3.7.3"
  }
 },
 "nbformat": 4,
 "nbformat_minor": 2
}
