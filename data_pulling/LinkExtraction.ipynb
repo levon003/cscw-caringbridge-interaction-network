{
 "cells": [
  {
   "cell_type": "markdown",
   "metadata": {},
   "source": [
    "Link Extraction\n",
    "===\n",
    "\n",
    "Extracts links from journals, comments, and guestbook entries.\n",
    "\n",
    "Currently written up with pseudo-code to operate on the journals.\n",
    "\n",
    "This notebook is written with a workflow that made sense to Zach, but it can definitely be changed and updated: new functions can be written, old functions can be deleted or merged, etc."
   ]
  },
  {
   "cell_type": "code",
   "execution_count": 1,
   "metadata": {},
   "outputs": [],
   "source": [
    "%reload_ext autoreload\n",
    "%autoreload 2\n",
    "%matplotlib inline"
   ]
  },
  {
   "cell_type": "code",
   "execution_count": 2,
   "metadata": {},
   "outputs": [],
   "source": [
    "import os\n",
    "import re\n",
    "import pandas as pd\n",
    "import numpy as np\n",
    "\n",
    "from collections import Counter, defaultdict\n",
    "import sqlite3\n",
    "from html.parser import HTMLParser\n",
    "from tqdm import tqdm, tqdm_notebook\n",
    "from datetime import datetime\n",
    "\n",
    "import matplotlib.pyplot as plt"
   ]
  },
  {
   "cell_type": "markdown",
   "metadata": {},
   "source": [
    "#### Load the site data\n",
    "\n",
    "This provides the list of site URL 'names'."
   ]
  },
  {
   "cell_type": "code",
   "execution_count": 3,
   "metadata": {},
   "outputs": [
    {
     "data": {
      "text/plain": [
       "840943"
      ]
     },
     "execution_count": 3,
     "metadata": {},
     "output_type": "execute_result"
    }
   ],
   "source": [
    "site_metadata_working_dir = \"/home/srivbane/shared/caringbridge/data/derived/site_metadata\"\n",
    "site_metadata_filepath = os.path.join(site_metadata_working_dir, \"site_metadata_with_text.feather\")\n",
    "site_df = pd.read_feather(site_metadata_filepath)\n",
    "len(site_df)"
   ]
  },
  {
   "cell_type": "code",
   "execution_count": null,
   "metadata": {},
   "outputs": [],
   "source": [
    "site_df.head()"
   ]
  },
  {
   "cell_type": "code",
   "execution_count": 5,
   "metadata": {},
   "outputs": [
    {
     "data": {
      "text/plain": [
       "14"
      ]
     },
     "execution_count": 5,
     "metadata": {},
     "output_type": "execute_result"
    }
   ],
   "source": [
    "# note there are a very small number of duplicate sites\n",
    "duplicate_sites = site_df[site_df.duplicated(subset='name', keep=False)][['site_id', 'name', 'title', 'created_at', 'visits']]\n",
    "len(duplicate_sites)"
   ]
  },
  {
   "cell_type": "code",
   "execution_count": 6,
   "metadata": {},
   "outputs": [
    {
     "data": {
      "text/plain": [
       "340414"
      ]
     },
     "execution_count": 6,
     "metadata": {},
     "output_type": "execute_result"
    }
   ],
   "source": [
    "# read valid sites being included in this study\n",
    "valid_site_ids = set()\n",
    "data_selection_dir = \"/home/srivbane/shared/caringbridge/data/projects/sna-social-support/data_selection\"\n",
    "with open(os.path.join(data_selection_dir, \"valid_site_ids.txt\"), 'r') as infile:\n",
    "    for line in infile:\n",
    "        site_id = line.strip()\n",
    "        if site_id == \"\":\n",
    "            continue\n",
    "        else:\n",
    "            valid_site_ids.add(int(site_id))\n",
    "len(valid_site_ids)"
   ]
  },
  {
   "cell_type": "code",
   "execution_count": 7,
   "metadata": {},
   "outputs": [
    {
     "data": {
      "text/plain": [
       "5"
      ]
     },
     "execution_count": 7,
     "metadata": {},
     "output_type": "execute_result"
    }
   ],
   "source": [
    "# note that 5 of the 'duplicate name' site ids exist in the sample for this study\n",
    "len(set(site_df.site_id[site_df.duplicated(subset='name', keep=False)]) & set(valid_site_ids))"
   ]
  },
  {
   "cell_type": "code",
   "execution_count": 8,
   "metadata": {},
   "outputs": [
    {
     "data": {
      "text/html": [
       "<div>\n",
       "<style scoped>\n",
       "    .dataframe tbody tr th:only-of-type {\n",
       "        vertical-align: middle;\n",
       "    }\n",
       "\n",
       "    .dataframe tbody tr th {\n",
       "        vertical-align: top;\n",
       "    }\n",
       "\n",
       "    .dataframe thead th {\n",
       "        text-align: right;\n",
       "    }\n",
       "</style>\n",
       "<table border=\"1\" class=\"dataframe\">\n",
       "  <thead>\n",
       "    <tr style=\"text-align: right;\">\n",
       "      <th></th>\n",
       "      <th>site_id</th>\n",
       "      <th>name</th>\n",
       "      <th>title</th>\n",
       "      <th>created_at</th>\n",
       "      <th>visits</th>\n",
       "      <th>Human-readable creation date</th>\n",
       "      <th>In SNA sample?</th>\n",
       "    </tr>\n",
       "  </thead>\n",
       "  <tbody>\n",
       "    <tr>\n",
       "      <td>833940</td>\n",
       "      <td>1327860</td>\n",
       "      <td>abramsmcbride68</td>\n",
       "      <td>abramsmcbride68</td>\n",
       "      <td>1548780285000</td>\n",
       "      <td>2</td>\n",
       "      <td>2019-01-29 16:44:45</td>\n",
       "      <td>False</td>\n",
       "    </tr>\n",
       "    <tr>\n",
       "      <td>833941</td>\n",
       "      <td>1327861</td>\n",
       "      <td>abramsmcbride68</td>\n",
       "      <td>abramsmcbride68</td>\n",
       "      <td>1548780285000</td>\n",
       "      <td>6</td>\n",
       "      <td>2019-01-29 16:44:45</td>\n",
       "      <td>False</td>\n",
       "    </tr>\n",
       "    <tr>\n",
       "      <td>826885</td>\n",
       "      <td>1320805</td>\n",
       "      <td>holgersencantrell9</td>\n",
       "      <td>holgersencantrell9</td>\n",
       "      <td>1547397974000</td>\n",
       "      <td>1</td>\n",
       "      <td>2019-01-13 16:46:14</td>\n",
       "      <td>False</td>\n",
       "    </tr>\n",
       "    <tr>\n",
       "      <td>826886</td>\n",
       "      <td>1320806</td>\n",
       "      <td>holgersencantrell9</td>\n",
       "      <td>holgersencantrell9</td>\n",
       "      <td>1547397974000</td>\n",
       "      <td>15</td>\n",
       "      <td>2019-01-13 16:46:14</td>\n",
       "      <td>False</td>\n",
       "    </tr>\n",
       "    <tr>\n",
       "      <td>837110</td>\n",
       "      <td>1331030</td>\n",
       "      <td>jarvisjarvis51</td>\n",
       "      <td>jarvisjarvis51</td>\n",
       "      <td>1549352727000</td>\n",
       "      <td>0</td>\n",
       "      <td>2019-02-05 07:45:27</td>\n",
       "      <td>False</td>\n",
       "    </tr>\n",
       "    <tr>\n",
       "      <td>837111</td>\n",
       "      <td>1331031</td>\n",
       "      <td>jarvisjarvis51</td>\n",
       "      <td>jarvisjarvis51</td>\n",
       "      <td>1549352727000</td>\n",
       "      <td>5</td>\n",
       "      <td>2019-02-05 07:45:27</td>\n",
       "      <td>False</td>\n",
       "    </tr>\n",
       "    <tr>\n",
       "      <td>373939</td>\n",
       "      <td>378110</td>\n",
       "      <td>jdavis</td>\n",
       "      <td>Jacob Davis</td>\n",
       "      <td>1313268066000</td>\n",
       "      <td>2189</td>\n",
       "      <td>2011-08-13 20:41:06</td>\n",
       "      <td>True</td>\n",
       "    </tr>\n",
       "    <tr>\n",
       "      <td>434931</td>\n",
       "      <td>506751</td>\n",
       "      <td>jdavis</td>\n",
       "      <td>Jacob Davis</td>\n",
       "      <td>1332557581000</td>\n",
       "      <td>812</td>\n",
       "      <td>2012-03-24 02:53:01</td>\n",
       "      <td>True</td>\n",
       "    </tr>\n",
       "    <tr>\n",
       "      <td>453865</td>\n",
       "      <td>546843</td>\n",
       "      <td>judyfields</td>\n",
       "      <td>Judy Fields</td>\n",
       "      <td>1338930911000</td>\n",
       "      <td>97</td>\n",
       "      <td>2012-06-05 21:15:11</td>\n",
       "      <td>True</td>\n",
       "    </tr>\n",
       "    <tr>\n",
       "      <td>544177</td>\n",
       "      <td>728921</td>\n",
       "      <td>judyfields</td>\n",
       "      <td>Judy Goldsmith Fields</td>\n",
       "      <td>1369855841000</td>\n",
       "      <td>8</td>\n",
       "      <td>2013-05-29 19:30:41</td>\n",
       "      <td>False</td>\n",
       "    </tr>\n",
       "    <tr>\n",
       "      <td>427135</td>\n",
       "      <td>490464</td>\n",
       "      <td>mikestienessen</td>\n",
       "      <td>Mike Stienessen</td>\n",
       "      <td>1330128684000</td>\n",
       "      <td>5836</td>\n",
       "      <td>2012-02-25 00:11:24</td>\n",
       "      <td>True</td>\n",
       "    </tr>\n",
       "    <tr>\n",
       "      <td>427137</td>\n",
       "      <td>490466</td>\n",
       "      <td>mikestienessen</td>\n",
       "      <td>Mike Stienessen</td>\n",
       "      <td>1330129344000</td>\n",
       "      <td>1349</td>\n",
       "      <td>2012-02-25 00:22:24</td>\n",
       "      <td>True</td>\n",
       "    </tr>\n",
       "    <tr>\n",
       "      <td>837554</td>\n",
       "      <td>1331474</td>\n",
       "      <td>robertsonmcgowan88</td>\n",
       "      <td>robertsonmcgowan88</td>\n",
       "      <td>1549396783000</td>\n",
       "      <td>4</td>\n",
       "      <td>2019-02-05 19:59:43</td>\n",
       "      <td>False</td>\n",
       "    </tr>\n",
       "    <tr>\n",
       "      <td>837555</td>\n",
       "      <td>1331475</td>\n",
       "      <td>robertsonmcgowan88</td>\n",
       "      <td>robertsonmcgowan88</td>\n",
       "      <td>1549396783000</td>\n",
       "      <td>2</td>\n",
       "      <td>2019-02-05 19:59:43</td>\n",
       "      <td>False</td>\n",
       "    </tr>\n",
       "  </tbody>\n",
       "</table>\n",
       "</div>"
      ],
      "text/plain": [
       "        site_id                name                  title     created_at  \\\n",
       "833940  1327860     abramsmcbride68        abramsmcbride68  1548780285000   \n",
       "833941  1327861     abramsmcbride68        abramsmcbride68  1548780285000   \n",
       "826885  1320805  holgersencantrell9     holgersencantrell9  1547397974000   \n",
       "826886  1320806  holgersencantrell9     holgersencantrell9  1547397974000   \n",
       "837110  1331030      jarvisjarvis51         jarvisjarvis51  1549352727000   \n",
       "837111  1331031      jarvisjarvis51         jarvisjarvis51  1549352727000   \n",
       "373939   378110              jdavis            Jacob Davis  1313268066000   \n",
       "434931   506751              jdavis            Jacob Davis  1332557581000   \n",
       "453865   546843          judyfields            Judy Fields  1338930911000   \n",
       "544177   728921          judyfields  Judy Goldsmith Fields  1369855841000   \n",
       "427135   490464      mikestienessen        Mike Stienessen  1330128684000   \n",
       "427137   490466      mikestienessen        Mike Stienessen  1330129344000   \n",
       "837554  1331474  robertsonmcgowan88     robertsonmcgowan88  1549396783000   \n",
       "837555  1331475  robertsonmcgowan88     robertsonmcgowan88  1549396783000   \n",
       "\n",
       "        visits Human-readable creation date  In SNA sample?  \n",
       "833940       2          2019-01-29 16:44:45           False  \n",
       "833941       6          2019-01-29 16:44:45           False  \n",
       "826885       1          2019-01-13 16:46:14           False  \n",
       "826886      15          2019-01-13 16:46:14           False  \n",
       "837110       0          2019-02-05 07:45:27           False  \n",
       "837111       5          2019-02-05 07:45:27           False  \n",
       "373939    2189          2011-08-13 20:41:06            True  \n",
       "434931     812          2012-03-24 02:53:01            True  \n",
       "453865      97          2012-06-05 21:15:11            True  \n",
       "544177       8          2013-05-29 19:30:41           False  \n",
       "427135    5836          2012-02-25 00:11:24            True  \n",
       "427137    1349          2012-02-25 00:22:24            True  \n",
       "837554       4          2019-02-05 19:59:43           False  \n",
       "837555       2          2019-02-05 19:59:43           False  "
      ]
     },
     "execution_count": 8,
     "metadata": {},
     "output_type": "execute_result"
    }
   ],
   "source": [
    "# take a look at the duplicate sites, noting different creation dates and different titles\n",
    "# in one case, we include one site but not the other in the SNA sample\n",
    "# these sites need to be investigated more specifically\n",
    "duplicate_sites['Human-readable creation date'] = duplicate_sites.created_at.apply(lambda created_at: str(datetime.utcfromtimestamp(created_at / 1000)))\n",
    "duplicate_sites['In SNA sample?'] = duplicate_sites.site_id.apply(lambda site_id: site_id in valid_site_ids)\n",
    "duplicate_sites.sort_values(by='name')"
   ]
  },
  {
   "cell_type": "code",
   "execution_count": 9,
   "metadata": {},
   "outputs": [
    {
     "data": {
      "text/plain": [
       "['susanssite',\n",
       " 'heartplate66rosemary',\n",
       " 'allisonguthrie',\n",
       " 'ninomartino',\n",
       " 'chfintheicu',\n",
       " 'tiakrier',\n",
       " 'mindylovesjack',\n",
       " 'teamridgeway',\n",
       " 'haleymaydak',\n",
       " 'tinayee']"
      ]
     },
     "execution_count": 9,
     "metadata": {},
     "output_type": "execute_result"
    }
   ],
   "source": [
    "# random selection of CaringBridge site URLs\n",
    "# these are what we need to match textual links to in order to build a network!\n",
    "np.random.choice(site_df.name, 10, replace=False).tolist()"
   ]
  },
  {
   "cell_type": "code",
   "execution_count": 10,
   "metadata": {},
   "outputs": [
    {
     "data": {
      "text/plain": [
       "840936"
      ]
     },
     "execution_count": 10,
     "metadata": {},
     "output_type": "execute_result"
    }
   ],
   "source": [
    "# 'site_names' is a set containing all of the valid CaringBridge site names\n",
    "# notably including both sites in our sample and all other sites as well\n",
    "site_names = set(site_df.name)\n",
    "len(site_names)"
   ]
  },
  {
   "cell_type": "markdown",
   "metadata": {},
   "source": [
    "#### Iterature through the journal data looking for links"
   ]
  },
  {
   "cell_type": "code",
   "execution_count": 11,
   "metadata": {},
   "outputs": [],
   "source": [
    "# this returns the sqlite database connection that contains the journal update texts\n",
    "def get_journal_text_db():\n",
    "    journal_text_filepath = \"/home/srivbane/shared/caringbridge/data/projects/caringbridge_core/journal.sqlite\"\n",
    "    db = sqlite3.connect(\n",
    "            journal_text_filepath,\n",
    "            detect_types=sqlite3.PARSE_DECLTYPES\n",
    "    )\n",
    "    db.row_factory = sqlite3.Row\n",
    "    return db"
   ]
  },
  {
   "cell_type": "code",
   "execution_count": 21,
   "metadata": {},
   "outputs": [],
   "source": [
    "# this function connects to the database, makes a query, and passes the cursor to iterate_cursor\n",
    "def connect_and_iterate():\n",
    "    try:\n",
    "        db = get_journal_text_db()\n",
    "        cursor = db.cursor()\n",
    "\n",
    "        cursor.execute(\"SELECT * FROM journalText\")  # TODO Remove this limit to get all of the sites!\n",
    "        iterate_cursor(cursor)\n",
    "\n",
    "    finally:  # always do this with these databases!!\n",
    "        db.close()\n",
    "\n",
    "# given a database cursor, this function extracts the text and passes it to get_link_texts\n",
    "def iterate_cursor(cursor, total=19137078):\n",
    "    for row in tqdm(cursor, total=total):\n",
    "        body_text = str(row['body'])\n",
    "        site_id = row['site_id']\n",
    "        journal_oid = row['journal_oid']\n",
    "        link_texts = get_link_texts(body_text)\n",
    "        for txt in link_texts:\n",
    "            # TODO From each text link, should extract the URL slug and verify if it is in the set of site_names\n",
    "            if 'caringbridge' not in txt: #every valid link we care about must be a caringbridge link\n",
    "                spam.append(txt)\n",
    "                continue\n",
    "            words = txt.split('/')\n",
    "            #Check if one slug of the URL contains a valid site name \n",
    "            for item in words:\n",
    "                if 'caringbridge' in item or 'visit' in item:\n",
    "                    continue\n",
    "                if  'al' in item or 'www2' in item or 'europe' in item:\n",
    "                    spam.append(txt)\n",
    "                    break\n",
    "                if item in site_names:\n",
    "                        name = item\n",
    "                        link = {\n",
    "                            'site_id': site_id,\n",
    "                            'journal_oid': journal_oid,\n",
    "                            'link': txt,\n",
    "                            'site_name': name\n",
    "                        }\n",
    "                        links.append(link)\n",
    "                                               \n",
    "            "
   ]
  },
  {
   "cell_type": "code",
   "execution_count": 22,
   "metadata": {},
   "outputs": [],
   "source": [
    "# this returns a list of string objects that correspond to the links in the text\n",
    "# I'll note that what we really want is the site 'name' in the URL, but this implementation makes no attempt to extract that name\n",
    "def get_link_texts(text):\n",
    "    # TODO Implement me to find all links in the text, whether they are explicit links or just link mentions\n",
    "    # e.g. should match both an HTML hyperlink or a plain-text copy-pasted link.\n",
    "    # The existing implementation is a very simple one, and likely misses lots of links.\n",
    "    extracted_links = re.findall('http[s]?://(?:[a-zA-Z]|[0-9]|[$-_@.&+]|[!*\\(\\),]|(?:%[0-9a-fA-F][0-9a-fA-F]))+',text)\n",
    "    links = []\n",
    "    for item in extracted_links:\n",
    "        #strip href of formatting\n",
    "        if '>' in item:\n",
    "            item = item[:item.find('>')-1]\n",
    "        links.append(item)\n",
    "    return links"
   ]
  },
  {
   "cell_type": "code",
   "execution_count": 27,
   "metadata": {},
   "outputs": [
    {
     "name": "stderr",
     "output_type": "stream",
     "text": [
      "100%|██████████| 19137078/19137078 [03:54<00:00, 81440.92it/s] "
     ]
    },
    {
     "name": "stdout",
     "output_type": "stream",
     "text": [
      "Valid links:  101923\n",
      "Invalid links:  3735813\n",
      "Percentage of valid links:  0.02655810613340782\n"
     ]
    },
    {
     "name": "stderr",
     "output_type": "stream",
     "text": [
      "\n"
     ]
    }
   ],
   "source": [
    "links = []\n",
    "spam = []\n",
    "connect_and_iterate()\n",
    "print(\"Valid links: \",len(links))\n",
    "print(\"Invalid links: \",len(spam))\n",
    "print(\"Percentage of valid links: \",(len(links)/ (len(links) + len(spam))))"
   ]
  },
  {
   "cell_type": "code",
   "execution_count": 30,
   "metadata": {},
   "outputs": [
    {
     "data": {
      "text/plain": [
       "[{'site_id': 59067,\n",
       "  'journal_oid': '51be059d6ca004aa0700cc60',\n",
       "  'link': 'http://www.caringbridge.org/visit/zack',\n",
       "  'site_name': 'zack'},\n",
       " {'site_id': 59067,\n",
       "  'journal_oid': '51be059d6ca004aa0700cca8',\n",
       "  'link': 'http://www.caringbridge.org/visit/kennymoffit',\n",
       "  'site_name': 'kennymoffit'},\n",
       " {'site_id': 59067,\n",
       "  'journal_oid': '51be059d6ca004aa0700cdb2',\n",
       "  'link': 'http://www.caringbridge.org/visit/nariahlynn',\n",
       "  'site_name': 'nariahlynn'},\n",
       " {'site_id': 176,\n",
       "  'journal_oid': '51bdf3e26ca004924e00835f',\n",
       "  'link': 'http://www.caringbridge.org/visit/cristinas',\n",
       "  'site_name': 'cristinas'},\n",
       " {'site_id': 59067,\n",
       "  'journal_oid': '51be059d6ca004aa0700d8b8',\n",
       "  'link': 'http://www.caringbridge.org/visit/loganbaugher',\n",
       "  'site_name': 'loganbaugher'},\n",
       " {'site_id': 59067,\n",
       "  'journal_oid': '51be059d6ca004aa0700d8bc',\n",
       "  'link': 'http://www.caringbridge.org/visit/davidcharlton',\n",
       "  'site_name': 'davidcharlton'},\n",
       " {'site_id': 59067,\n",
       "  'journal_oid': '51be059d6ca004aa0700d8bc',\n",
       "  'link': 'http://www.caringbridge.org/noahchristopherturner',\n",
       "  'site_name': 'noahchristopherturner'},\n",
       " {'site_id': 59067,\n",
       "  'journal_oid': '51be059d6ca004aa0700d8bc',\n",
       "  'link': 'http://www.caringbridge.org/visit/maggierocks',\n",
       "  'site_name': 'maggierocks'},\n",
       " {'site_id': 59067,\n",
       "  'journal_oid': '51be059d6ca004aa0700d8c0',\n",
       "  'link': 'http://www.caringbridge.org/visit/davidcharlton',\n",
       "  'site_name': 'davidcharlton'},\n",
       " {'site_id': 59067,\n",
       "  'journal_oid': '51be059d6ca004aa0700d8c0',\n",
       "  'link': 'http://www.caringbridge.org/visit/loganbaugher',\n",
       "  'site_name': 'loganbaugher'}]"
      ]
     },
     "execution_count": 30,
     "metadata": {},
     "output_type": "execute_result"
    }
   ],
   "source": [
    "links[:10]"
   ]
  },
  {
   "cell_type": "code",
   "execution_count": 25,
   "metadata": {},
   "outputs": [
    {
     "data": {
      "text/html": [
       "<div>\n",
       "<style scoped>\n",
       "    .dataframe tbody tr th:only-of-type {\n",
       "        vertical-align: middle;\n",
       "    }\n",
       "\n",
       "    .dataframe tbody tr th {\n",
       "        vertical-align: top;\n",
       "    }\n",
       "\n",
       "    .dataframe thead th {\n",
       "        text-align: right;\n",
       "    }\n",
       "</style>\n",
       "<table border=\"1\" class=\"dataframe\">\n",
       "  <thead>\n",
       "    <tr style=\"text-align: right;\">\n",
       "      <th></th>\n",
       "      <th>site_id</th>\n",
       "      <th>journal_oid</th>\n",
       "      <th>link</th>\n",
       "      <th>site_name</th>\n",
       "    </tr>\n",
       "  </thead>\n",
       "  <tbody>\n",
       "    <tr>\n",
       "      <td>0</td>\n",
       "      <td>59067</td>\n",
       "      <td>51be059d6ca004aa0700cc60</td>\n",
       "      <td>http://www.caringbridge.org/visit/zack</td>\n",
       "      <td>zack</td>\n",
       "    </tr>\n",
       "    <tr>\n",
       "      <td>1</td>\n",
       "      <td>59067</td>\n",
       "      <td>51be059d6ca004aa0700cca8</td>\n",
       "      <td>http://www.caringbridge.org/visit/kennymoffit</td>\n",
       "      <td>kennymoffit</td>\n",
       "    </tr>\n",
       "    <tr>\n",
       "      <td>2</td>\n",
       "      <td>59067</td>\n",
       "      <td>51be059d6ca004aa0700cdb2</td>\n",
       "      <td>http://www.caringbridge.org/visit/nariahlynn</td>\n",
       "      <td>nariahlynn</td>\n",
       "    </tr>\n",
       "    <tr>\n",
       "      <td>3</td>\n",
       "      <td>176</td>\n",
       "      <td>51bdf3e26ca004924e00835f</td>\n",
       "      <td>http://www.caringbridge.org/visit/cristinas</td>\n",
       "      <td>cristinas</td>\n",
       "    </tr>\n",
       "    <tr>\n",
       "      <td>4</td>\n",
       "      <td>59067</td>\n",
       "      <td>51be059d6ca004aa0700d8b8</td>\n",
       "      <td>http://www.caringbridge.org/visit/loganbaugher</td>\n",
       "      <td>loganbaugher</td>\n",
       "    </tr>\n",
       "  </tbody>\n",
       "</table>\n",
       "</div>"
      ],
      "text/plain": [
       "   site_id               journal_oid  \\\n",
       "0    59067  51be059d6ca004aa0700cc60   \n",
       "1    59067  51be059d6ca004aa0700cca8   \n",
       "2    59067  51be059d6ca004aa0700cdb2   \n",
       "3      176  51bdf3e26ca004924e00835f   \n",
       "4    59067  51be059d6ca004aa0700d8b8   \n",
       "\n",
       "                                             link     site_name  \n",
       "0          http://www.caringbridge.org/visit/zack          zack  \n",
       "1   http://www.caringbridge.org/visit/kennymoffit   kennymoffit  \n",
       "2    http://www.caringbridge.org/visit/nariahlynn    nariahlynn  \n",
       "3     http://www.caringbridge.org/visit/cristinas     cristinas  \n",
       "4  http://www.caringbridge.org/visit/loganbaugher  loganbaugher  "
      ]
     },
     "execution_count": 25,
     "metadata": {},
     "output_type": "execute_result"
    }
   ],
   "source": [
    "links_df = pd.DataFrame(links)\n",
    "links_df.head()"
   ]
  },
  {
   "cell_type": "code",
   "execution_count": 26,
   "metadata": {},
   "outputs": [
    {
     "name": "stdout",
     "output_type": "stream",
     "text": [
      "Finished.\n"
     ]
    }
   ],
   "source": [
    "# Write the resulting links dataframe to a CSV file\n",
    "working_dir = \"/home/srivbane/shared/caringbridge/data/projects/sna-social-support/data_pulling\"\n",
    "links_df.to_csv(os.path.join(working_dir, 'journal_intersite_links.csv'))\n",
    "print(\"Finished.\")"
   ]
  },
  {
   "cell_type": "code",
   "execution_count": null,
   "metadata": {},
   "outputs": [],
   "source": []
  }
 ],
 "metadata": {
  "kernelspec": {
   "display_name": "Python (shared-conda)",
   "language": "python",
   "name": "shared-conda"
  },
  "language_info": {
   "codemirror_mode": {
    "name": "ipython",
    "version": 3
   },
   "file_extension": ".py",
   "mimetype": "text/x-python",
   "name": "python",
   "nbconvert_exporter": "python",
   "pygments_lexer": "ipython3",
   "version": "3.7.3"
  }
 },
 "nbformat": 4,
 "nbformat_minor": 2
}
