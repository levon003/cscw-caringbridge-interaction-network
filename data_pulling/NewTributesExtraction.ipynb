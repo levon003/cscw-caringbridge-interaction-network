{
 "cells": [
  {
   "cell_type": "markdown",
   "metadata": {},
   "source": [
    "New Tributes Extraction\n",
    "===\n",
    "\n",
    "This script processes the json tributes in the new (2019) dataset to a feather file.\n"
   ]
  },
  {
   "cell_type": "code",
   "execution_count": 1,
   "metadata": {},
   "outputs": [],
   "source": [
    "%reload_ext autoreload\n",
    "%autoreload 2\n",
    "%matplotlib inline"
   ]
  },
  {
   "cell_type": "code",
   "execution_count": 2,
   "metadata": {},
   "outputs": [],
   "source": [
    "import os\n",
    "import re\n",
    "import pandas as pd\n",
    "import numpy as np\n",
    "\n",
    "from collections import Counter, defaultdict\n",
    "import sqlite3\n",
    "from nltk import word_tokenize\n",
    "from html.parser import HTMLParser\n",
    "from tqdm import tqdm\n",
    "import random\n",
    "import pickle\n",
    "import json\n",
    "\n",
    "from datetime import datetime\n",
    "from pprint import pprint\n",
    "\n",
    "import matplotlib.pyplot as plt\n",
    "import matplotlib.dates as md\n",
    "import matplotlib\n",
    "import pylab as pl\n",
    "from IPython.core.display import display, HTML"
   ]
  },
  {
   "cell_type": "code",
   "execution_count": 3,
   "metadata": {},
   "outputs": [
    {
     "data": {
      "text/plain": [
       "PosixPath('/panfs/roc/groups/3/srivbane/levon003/repos/sna-social-support')"
      ]
     },
     "execution_count": 3,
     "metadata": {},
     "output_type": "execute_result"
    }
   ],
   "source": [
    "from pathlib import Path\n",
    "git_root_dir = !git rev-parse --show-toplevel\n",
    "git_root_dir = Path(git_root_dir[0].strip())\n",
    "git_root_dir"
   ]
  },
  {
   "cell_type": "code",
   "execution_count": 4,
   "metadata": {},
   "outputs": [],
   "source": [
    "import sys\n",
    "caringbridge_core_path = \"/home/srivbane/levon003/repos/caringbridge_core\"\n",
    "sys.path.append(caringbridge_core_path)"
   ]
  },
  {
   "cell_type": "code",
   "execution_count": 5,
   "metadata": {},
   "outputs": [],
   "source": [
    "import cbcore.data.paths as paths\n",
    "import cbcore.data.dates as dates"
   ]
  },
  {
   "cell_type": "code",
   "execution_count": 6,
   "metadata": {},
   "outputs": [],
   "source": [
    "raw_data_dir = paths.raw_data_2019_filepath"
   ]
  },
  {
   "cell_type": "code",
   "execution_count": 7,
   "metadata": {},
   "outputs": [],
   "source": [
    "working_dir = \"/home/srivbane/shared/caringbridge/data/projects/sna-social-support/csv_data\"\n",
    "assert os.path.exists(working_dir)"
   ]
  },
  {
   "cell_type": "code",
   "execution_count": 21,
   "metadata": {},
   "outputs": [],
   "source": [
    "def extract_long(json_value):\n",
    "    if type(json_value) == int:\n",
    "        return json_value\n",
    "    elif type(json_value) == str:\n",
    "        return int(json_value)\n",
    "    elif type(json_value) == dict:\n",
    "        return int(json_value['$numberLong'])\n",
    "    elif json_value == 0.0:  # special case for userId, which I assume is essentially \"missing/unknown\" or user deleted?\n",
    "        return \"\"\n",
    "    elif type(json_value) == float:\n",
    "        return int(json_value)\n",
    "    else:\n",
    "        raise ValueError(f\"Type '{type(json_value)}' not implemented: {str(json_value)}\")\n",
    "        \n",
    "        \n",
    "def get_amount(json_value):\n",
    "    return float(json_value)"
   ]
  },
  {
   "cell_type": "code",
   "execution_count": 22,
   "metadata": {
    "scrolled": true
   },
   "outputs": [
    {
     "name": "stderr",
     "output_type": "stream",
     "text": [
      "100%|██████████| 1023572/1023572 [01:05<00:00, 15622.50it/s]\n"
     ]
    },
    {
     "data": {
      "text/plain": [
       "1023572"
      ]
     },
     "execution_count": 22,
     "metadata": {},
     "output_type": "execute_result"
    }
   ],
   "source": [
    "tributes_filepath = os.path.join(raw_data_dir, 'tribute_scrubbed.json')\n",
    "tributes = []\n",
    "with open(tributes_filepath, encoding='utf-8') as infile:\n",
    "    for line in tqdm(infile, total=1023572):\n",
    "        tribute = json.loads(line)\n",
    "        site_id = extract_long(tribute['siteId'])\n",
    "        user_id = extract_long(tribute['userId']) if 'userId' in tribute else \"\"\n",
    "        created_at = dates.get_date_from_json_value(tribute['createdAt'])\n",
    "        updated_at = dates.get_date_from_json_value(tribute['updatedAt'])\n",
    "\n",
    "        amount = get_amount(tribute['amount']) if 'amount' in tribute else None\n",
    "\n",
    "        tribute_id = tribute['_id']['$oid']\n",
    "        body = tribute['body'] if 'body' in tribute else \"\"\n",
    "        signature = tribute['signature'] if 'signature' in tribute else \"\"\n",
    "        charityWebId = tribute['charityWebId'] if 'charityWebId' in tribute else \"\"\n",
    "        isAnonymous = tribute['isAnonymous'] if 'isAnonymous' in tribute else \"\"\n",
    "        isDisplayed = tribute['isDisplayed'] if 'isDisplayed' in tribute else \"\"\n",
    "        isDeleted = tribute['isDeleted'] if 'isDeleted' in tribute else \"\"\n",
    "        isRecurring = tribute['isRecurring'] if 'isRecurring' in tribute else \"\"\n",
    "        optIn = tribute['optIn'] if 'optIn' in tribute else \"\"\n",
    "        providerId = tribute['providerId'] if 'providerId' in tribute else \"\"\n",
    "        provider = tribute['provider'] if 'provider' in tribute else \"\"\n",
    "        \n",
    "        t = {\n",
    "            \"site_id\": site_id,\n",
    "            \"user_id\": user_id,\n",
    "            \"created_at\": created_at,\n",
    "            \"updated_at\": updated_at,\n",
    "            \"amount\": amount,\n",
    "            \"tribute_id\": tribute_id,\n",
    "            \"body\": body,\n",
    "            \"signature\": signature,\n",
    "            \"charityWebId\": charityWebId,\n",
    "            \"isAnonymous\": isAnonymous,\n",
    "            \"isDisplayed\": isDisplayed,\n",
    "            \"isDeleted\": isDeleted,\n",
    "            \"isRecurring\": isRecurring,\n",
    "            \"optIn\": optIn,\n",
    "            \"providerId\": providerId,\n",
    "            \"provider\": provider\n",
    "        }\n",
    "        tributes.append(t)\n",
    "len(tributes)"
   ]
  },
  {
   "cell_type": "code",
   "execution_count": 23,
   "metadata": {},
   "outputs": [
    {
     "data": {
      "text/plain": [
       "datetime.datetime(2013, 6, 28, 6, 32, 38, 471000)"
      ]
     },
     "execution_count": 23,
     "metadata": {},
     "output_type": "execute_result"
    }
   ],
   "source": [
    "# fixed a degenerate datetime situation\n",
    "datetime.strptime('2013-06-28T06:32:38.471Z', \"%Y-%m-%dT%H:%M:%S.%fZ\")"
   ]
  },
  {
   "cell_type": "code",
   "execution_count": null,
   "metadata": {},
   "outputs": [],
   "source": [
    "df = pd.DataFrame(tributes)\n",
    "df.head()"
   ]
  },
  {
   "cell_type": "markdown",
   "metadata": {},
   "source": [
    "### Tributes dataframe analysis"
   ]
  },
  {
   "cell_type": "code",
   "execution_count": 25,
   "metadata": {},
   "outputs": [
    {
     "data": {
      "text/plain": [
       "0.9265161610516895"
      ]
     },
     "execution_count": 25,
     "metadata": {},
     "output_type": "execute_result"
    }
   ],
   "source": [
    "# Vast majority don't provide an amount!\n",
    "len(df[df.amount.isnull()]) / len(df)"
   ]
  },
  {
   "cell_type": "code",
   "execution_count": 26,
   "metadata": {},
   "outputs": [
    {
     "name": "stdout",
     "output_type": "stream",
     "text": [
      "Number of months captured: 98.773 (using 99 bins)\n"
     ]
    },
    {
     "data": {
      "image/png": "[encoded data removed]",
      "text/plain": [
       "<Figure size 576x576 with 1 Axes>"
      ]
     },
     "metadata": {
      "needs_background": "light"
     },
     "output_type": "display_data"
    }
   ],
   "source": [
    "# Plot the distribution of tributes by date\n",
    "title = \"Distribution of tributes by creation date\"\n",
    "fig, ax = pl.subplots(num=title, figsize=(8,8))\n",
    "\n",
    "start = 1293840000000  # 2011\n",
    "#end = 1451606400000  # 2016\n",
    "#start = np.min(df.created_at)\n",
    "end = np.max(df.created_at)\n",
    "# we want the binsize to be equal to one month (30 days)\n",
    "# so, how many months are between the start and end date?\n",
    "num_months = (end - start) / 1000 / 60 / 60 / 24 / 30\n",
    "print(f\"Number of months captured: {num_months:.3f} (using {int(np.round(num_months))} bins)\")\n",
    "bins = np.linspace(start, end, num=int(np.round(num_months)))\n",
    "\n",
    "sub_df = df[(df.created_at >= start)&(df.created_at <= end)]\n",
    "\n",
    "\n",
    "total_bin_counts, bins, _ = plt.hist(sub_df.created_at, \n",
    "                                     bins=bins, range=(0,1), label=\"All tributes\")\n",
    "amount_bin_counts, bins, _ = plt.hist(sub_df[~sub_df.amount.isnull()].created_at, \n",
    "                                       bins=bins, range=(0,1), label=\"Tributes with amounts\")\n",
    "\n",
    "ax = plt.gca()\n",
    "ax.set_xticks(np.linspace(start, end, num=10))\n",
    "ax.set_xticklabels([datetime.utcfromtimestamp(x / 1000).strftime('%m/%Y') for x in  ax.get_xticks()])\n",
    "\n",
    "ax.set_title(title)\n",
    "ax.set_xlabel(\"Tribute creation date (year and month)\")\n",
    "ax.set_ylabel(\"Number of tributes\")\n",
    "\n",
    "ax.legend()\n",
    "\n",
    "ax.grid(axis=\"y\", alpha=0.5)\n",
    "plt.show()"
   ]
  },
  {
   "cell_type": "code",
   "execution_count": 27,
   "metadata": {},
   "outputs": [
    {
     "data": {
      "text/plain": [
       "'2018-07-26T05:00:00.000000Z'"
      ]
     },
     "execution_count": 27,
     "metadata": {},
     "output_type": "execute_result"
    }
   ],
   "source": [
    "last_nonamount_tribute = np.max(df[df.amount.isnull()].created_at)\n",
    "datetime.utcfromtimestamp(last_nonamount_tribute / 1000).strftime('%Y-%m-%dT%H:%M:%S.%fZ')"
   ]
  },
  {
   "cell_type": "code",
   "execution_count": 28,
   "metadata": {
    "scrolled": true
   },
   "outputs": [
    {
     "data": {
      "text/plain": [
       "'2019-02-11T04:53:57.000000Z'"
      ]
     },
     "execution_count": 28,
     "metadata": {},
     "output_type": "execute_result"
    }
   ],
   "source": [
    "# most recent tribute in the dataset?\n",
    "datetime.utcfromtimestamp(np.max(df.created_at) / 1000).strftime('%Y-%m-%dT%H:%M:%S.%fZ')"
   ]
  },
  {
   "cell_type": "code",
   "execution_count": 61,
   "metadata": {},
   "outputs": [
    {
     "data": {
      "text/plain": [
       "('199 days, 23:53:57', '4799.9 hours')"
      ]
     },
     "execution_count": 61,
     "metadata": {},
     "output_type": "execute_result"
    }
   ],
   "source": [
    "delta = datetime.utcfromtimestamp(np.max(df.created_at) / 1000) - datetime.utcfromtimestamp(last_nonamount_tribute / 1000)\n",
    "str(delta), f\"{delta.total_seconds() / 60 / 60:.1f} hours\""
   ]
  },
  {
   "cell_type": "code",
   "execution_count": 62,
   "metadata": {},
   "outputs": [
    {
     "name": "stdout",
     "output_type": "stream",
     "text": [
      "Number of days captured in range: 199.996 (using 200 bins)\n",
      "Showing 64799 daily tributes with amount info.\n",
      "17739 sites represented in sample.\n"
     ]
    },
    {
     "data": {
      "image/png": "[encoded data removed]",
      "text/plain": [
       "<Figure size 576x576 with 1 Axes>"
      ]
     },
     "metadata": {
      "needs_background": "light"
     },
     "output_type": "display_data"
    }
   ],
   "source": [
    "# Plot the distribution of tributes by date\n",
    "title = \"Distribution of tributes by creation date\"\n",
    "fig, ax = pl.subplots(num=title, figsize=(8,8))\n",
    "\n",
    "start = last_nonamount_tribute  # all days since the last amount wasn't present\n",
    "end = np.max(df.created_at)\n",
    "# we want the binsize to be equal to one day\n",
    "num_days = (end - start) / 1000 / 60 / 60 / 24\n",
    "print(f\"Number of days captured in range: {num_days:.3f} (using {int(np.round(num_days))} bins)\")\n",
    "bins = np.linspace(start, end, num=int(np.round(num_days)))\n",
    "\n",
    "sub_df = df[(df.created_at > start)&(df.created_at <= end)]\n",
    "print(f\"Showing {len(sub_df)} daily tributes with amount info.\")\n",
    "print(f\"{len(set(sub_df.site_id))} sites represented in sample.\")\n",
    "\n",
    "total_bin_counts, bins, _ = plt.hist(sub_df.created_at, \n",
    "                                     bins=bins, range=(0,1), label=\"All tributes\")\n",
    "#amount_bin_counts, bins, _ = plt.hist(sub_df[~sub_df.amount.isnull()].created_at, \n",
    "#                                       bins=bins, range=(0,1), label=\"Tributes with amounts\")\n",
    "\n",
    "ax = plt.gca()\n",
    "ax.set_xticks(np.linspace(start, end, num=7))\n",
    "ax.set_xticklabels([datetime.utcfromtimestamp(x / 1000).strftime('%Y/%m/%d') for x in  ax.get_xticks()])\n",
    "\n",
    "ax.set_title(title)\n",
    "ax.set_xlabel(\"Tribute creation date\")\n",
    "ax.set_ylabel(\"Number of tributes\")\n",
    "\n",
    "ax.grid(axis=\"y\", alpha=0.5)\n",
    "plt.show()"
   ]
  },
  {
   "cell_type": "code",
   "execution_count": 65,
   "metadata": {},
   "outputs": [
    {
     "data": {
      "image/png": "[encoded data removed]",
      "text/plain": [
       "<Figure size 432x288 with 1 Axes>"
      ]
     },
     "metadata": {
      "needs_background": "light"
     },
     "output_type": "display_data"
    }
   ],
   "source": [
    "plt.hist(df[~df.amount.isnull()].amount, log=False, bins=50, range=(0,250))\n",
    "plt.hist(sub_df[~sub_df.amount.isnull()].amount, log=False, bins=50, range=(0,250))\n",
    "plt.title(\"Distribution of donation amounts\")\n",
    "plt.show()"
   ]
  },
  {
   "cell_type": "code",
   "execution_count": null,
   "metadata": {},
   "outputs": [],
   "source": []
  }
 ],
 "metadata": {
  "kernelspec": {
   "display_name": "Python (shared-conda)",
   "language": "python",
   "name": "shared-conda"
  },
  "language_info": {
   "codemirror_mode": {
    "name": "ipython",
    "version": 3
   },
   "file_extension": ".py",
   "mimetype": "text/x-python",
   "name": "python",
   "nbconvert_exporter": "python",
   "pygments_lexer": "ipython3",
   "version": "3.7.3"
  }
 },
 "nbformat": 4,
 "nbformat_minor": 2
}
