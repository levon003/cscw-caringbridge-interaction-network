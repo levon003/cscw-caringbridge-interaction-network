{
 "cells": [
  {
   "cell_type": "code",
   "execution_count": 6,
   "metadata": {
    "collapsed": true
   },
   "outputs": [],
   "source": [
    "from pathlib import Path\n",
    "import os\n",
    "import subprocess\n",
    "import sys\n",
    "\n",
    "import pandas as pd\n",
    "import numpy as np\n",
    "\n",
    "from collections import Counter\n",
    "from tqdm import tqdm\n",
    "\n",
    "import matplotlib.pyplot as mpl\n",
    "import matplotlib.dates as md\n",
    "import matplotlib\n",
    "import pylab as pl\n",
    "from IPython.core.display import display, HTML\n",
    "import statistics as stat\n",
    "\n",
    "pwd = \"/home/srivbane/shared/caringbridge/data/projects/sna-social-support/csv_data/\"\n",
    "\n",
    "epoch_day = 86400000        # accounting for milliseconds"
   ]
  },
  {
   "cell_type": "code",
   "execution_count": 7,
   "metadata": {
    "collapsed": false
   },
   "outputs": [],
   "source": [
    "with open(os.path.join(pwd, \"cleaned_auths.csv\"), 'r', encoding='utf-8') as infile:\n",
    "    authors = pd.read_csv(infile, header=0, usecols=[0,1,2,3])\n",
    "with open(os.path.join(pwd, \"dynamic_pairs.csv\"), 'r', encoding='utf-8') as ints:\n",
    "    ints_df = pd.read_csv(ints, nrows=10000, usecols = [0,1,2,3], names = [\"from\", \"to\", \"first\", \"last\"])\n",
    "    ints_df = ints_df[(ints_df[\"from\"].isin(authors.userId.values)) & (ints_df[\"to\"].isin(authors.userId.values))]"
   ]
  },
  {
   "cell_type": "code",
   "execution_count": 8,
   "metadata": {
    "collapsed": true
   },
   "outputs": [],
   "source": [
    "def f(row):\n",
    "    if row['overall_time'] == row['from_time']:\n",
    "        val = row['from_peer']\n",
    "    else:\n",
    "        val = row['to_peer']\n",
    "    return val"
   ]
  },
  {
   "cell_type": "code",
   "execution_count": 41,
   "metadata": {
    "collapsed": false
   },
   "outputs": [],
   "source": [
    "ints_df = ints_df.sort_values(by=[\"from\"])\n",
    "inflection_pts = []\n",
    "which = -1; \n",
    "my_pts = []\n",
    "for index, row in ints_df.iterrows():\n",
    "    mini = sys.maxsize; rec = -1;\n",
    "    if row[\"from\"] != which:\n",
    "        if which != -1:\n",
    "            for tup in my_pts:\n",
    "                if tup[0] < mini:\n",
    "                    mini = tup[0]\n",
    "                    rec = tup[1]\n",
    "            inflection_pts.append((which, mini, rec))\n",
    "        which = row[\"from\"]\n",
    "        my_pts = []\n",
    "    my_pts.append((row[\"first\"], row[\"to\"],))\n",
    "inflections_from = pd.DataFrame(inflection_pts, columns = [\"uid\", \"from_time\", \"from_peer\"])"
   ]
  },
  {
   "cell_type": "code",
   "execution_count": 42,
   "metadata": {
    "collapsed": false
   },
   "outputs": [],
   "source": [
    "ints_df = ints_df.sort_values(by=[\"to\"])\n",
    "inflection_pts = []\n",
    "which = -1; \n",
    "my_pts = []\n",
    "for index, row in ints_df.iterrows():\n",
    "    mini = sys.maxsize; rec = -1;\n",
    "    if row[\"to\"] != which:\n",
    "        if which != -1:\n",
    "            for tup in my_pts:\n",
    "                if tup[0] < mini:\n",
    "                    mini = tup[0]\n",
    "                    rec = tup[1]\n",
    "            inflection_pts.append((which, mini, rec))\n",
    "        which = row[\"to\"]\n",
    "        my_pts = []\n",
    "    my_pts.append((row[\"first\"], row[\"from\"],))\n",
    "inflections_to = pd.DataFrame(inflection_pts, columns = [\"uid\", \"to_time\", \"to_peer\"])"
   ]
  },
  {
   "cell_type": "code",
   "execution_count": 43,
   "metadata": {
    "collapsed": false
   },
   "outputs": [],
   "source": [
    "inflections = pd.merge(inflections_from, inflections_to, on=\"uid\", how=\"outer\")"
   ]
  },
  {
   "cell_type": "code",
   "execution_count": 46,
   "metadata": {
    "collapsed": true
   },
   "outputs": [],
   "source": [
    "\n",
    "inflections[\"overall_time\"] = inflections[['from_time','to_time']].min(axis=1)\n",
    "inflections[\"overall_peer\"] = inflections.apply(f, axis=1)\n",
    "inflections = inflections.fillna(-1)\n",
    "inflections = inflections.replace(sys.maxsize, -1)"
   ]
  },
  {
   "cell_type": "code",
   "execution_count": null,
   "metadata": {
    "collapsed": true
   },
   "outputs": [],
   "source": []
  }
 ],
 "metadata": {
  "kernelspec": {
   "display_name": "Python (shared-conda)",
   "language": "python",
   "name": "shared-conda"
  },
  "language_info": {
   "codemirror_mode": {
    "name": "ipython",
    "version": 3
   },
   "file_extension": ".py",
   "mimetype": "text/x-python",
   "name": "python",
   "nbconvert_exporter": "python",
   "pygments_lexer": "ipython3",
   "version": "3.7.3"
  }
 },
 "nbformat": 4,
 "nbformat_minor": 0
}
