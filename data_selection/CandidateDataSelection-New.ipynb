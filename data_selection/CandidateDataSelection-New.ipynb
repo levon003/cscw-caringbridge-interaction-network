{
 "cells": [
  {
   "cell_type": "markdown",
   "metadata": {},
   "source": [
    "Candidate Data Selection\n",
    "===\n",
    "\n",
    "Requirement for users:\n",
    " - 2+ updates authored at least 24 hours apart\n",
    " - Never authored an update on a spam site\n",
    "\n",
    "Requirements for sites:\n",
    " - Non-spam\n",
    " - At least one update from a candidate user\n",
    " - Maybe: 2+ updates (are there sites that meet other criteria and only have 1 update? Answer: yes, many. We will NOT use this requirement.)\n",
    " \n",
    "This version uses the new sources of replies, journals, and site data.\n",
    " "
   ]
  },
  {
   "cell_type": "code",
   "execution_count": 1,
   "metadata": {},
   "outputs": [],
   "source": [
    "%reload_ext autoreload\n",
    "%autoreload 2\n",
    "%matplotlib inline"
   ]
  },
  {
   "cell_type": "code",
   "execution_count": 2,
   "metadata": {},
   "outputs": [],
   "source": [
    "import os\n",
    "import re\n",
    "import pandas as pd\n",
    "import numpy as np\n",
    "\n",
    "import sklearn\n",
    "from sklearn.model_selection import train_test_split\n",
    "\n",
    "from collections import Counter\n",
    "import sqlite3\n",
    "from nltk import word_tokenize\n",
    "from html.parser import HTMLParser\n",
    "from tqdm import tqdm\n",
    "import random\n",
    "import pickle\n",
    "import json\n",
    "\n",
    "from datetime import datetime\n",
    "from pprint import pprint\n",
    "\n",
    "import matplotlib.pyplot as plt\n",
    "import matplotlib.dates as md\n",
    "import matplotlib\n",
    "import pylab as pl\n",
    "from IPython.core.display import display, HTML"
   ]
  },
  {
   "cell_type": "code",
   "execution_count": 3,
   "metadata": {},
   "outputs": [],
   "source": [
    "# this imports a number of utility functions related to data annotation & the web client\n",
    "import sys\n",
    "sys.path.append(\"/home/srivbane/levon003/repos/qual-health-journeys/annotation_data\")\n",
    "import journal as journal_utils\n",
    "import db as db_utils"
   ]
  },
  {
   "cell_type": "code",
   "execution_count": 4,
   "metadata": {},
   "outputs": [],
   "source": [
    "# put all derived data in the data_selection folder\n",
    "working_dir = \"/home/srivbane/shared/caringbridge/data/projects/sna-social-support/data_selection\"\n",
    "os.makedirs(working_dir, exist_ok=True)"
   ]
  },
  {
   "cell_type": "code",
   "execution_count": 5,
   "metadata": {},
   "outputs": [
    {
     "name": "stdout",
     "output_type": "stream",
     "text": [
      "0:00:04.449114\n"
     ]
    },
    {
     "data": {
      "text/plain": [
       "840943"
      ]
     },
     "execution_count": 5,
     "metadata": {},
     "output_type": "execute_result"
    }
   ],
   "source": [
    "# load the site metadata dataframe\n",
    "# this is created in caringbridge_core from the new data\n",
    "site_metadata_working_dir = \"/home/srivbane/shared/caringbridge/data/derived/site_metadata\"\n",
    "s = datetime.now()\n",
    "site_metadata_filepath = os.path.join(site_metadata_working_dir, \"site_metadata.feather\")\n",
    "site_info_df = pd.read_feather(site_metadata_filepath)\n",
    "print(datetime.now() - s)\n",
    "len(site_info_df)"
   ]
  },
  {
   "cell_type": "code",
   "execution_count": null,
   "metadata": {},
   "outputs": [],
   "source": [
    "site_info_df.head()"
   ]
  },
  {
   "cell_type": "code",
   "execution_count": 7,
   "metadata": {},
   "outputs": [
    {
     "name": "stdout",
     "output_type": "stream",
     "text": [
      "0:00:25.513279\n"
     ]
    },
    {
     "data": {
      "text/plain": [
       "17893390"
      ]
     },
     "execution_count": 7,
     "metadata": {},
     "output_type": "execute_result"
    }
   ],
   "source": [
    "# load the journal dataframe with the index\n",
    "# this is all the new journal data\n",
    "s = datetime.now()\n",
    "journal_metadata_dir = \"/home/srivbane/shared/caringbridge/data/derived/journal_metadata\"\n",
    "journal_metadata_filepath = os.path.join(journal_metadata_dir, \"journal_metadata.df\")\n",
    "journal_df = pd.read_feather(journal_metadata_filepath)\n",
    "print(datetime.now() - s)\n",
    "len(journal_df)"
   ]
  },
  {
   "cell_type": "code",
   "execution_count": 8,
   "metadata": {},
   "outputs": [
    {
     "data": {
      "text/html": [
       "<div>\n",
       "<style scoped>\n",
       "    .dataframe tbody tr th:only-of-type {\n",
       "        vertical-align: middle;\n",
       "    }\n",
       "\n",
       "    .dataframe tbody tr th {\n",
       "        vertical-align: top;\n",
       "    }\n",
       "\n",
       "    .dataframe thead th {\n",
       "        text-align: right;\n",
       "    }\n",
       "</style>\n",
       "<table border=\"1\" class=\"dataframe\">\n",
       "  <thead>\n",
       "    <tr style=\"text-align: right;\">\n",
       "      <th></th>\n",
       "      <th>created_at</th>\n",
       "      <th>journal_oid</th>\n",
       "      <th>published_at</th>\n",
       "      <th>site_id</th>\n",
       "      <th>updated_at</th>\n",
       "      <th>user_id</th>\n",
       "      <th>site_index</th>\n",
       "      <th>is_nontrivial</th>\n",
       "    </tr>\n",
       "  </thead>\n",
       "  <tbody>\n",
       "    <tr>\n",
       "      <td>0</td>\n",
       "      <td>1103856900000</td>\n",
       "      <td>51bdf3e56ca0048f4e00ced4</td>\n",
       "      <td>0</td>\n",
       "      <td>1</td>\n",
       "      <td>1103856900000</td>\n",
       "      <td>1</td>\n",
       "      <td>0</td>\n",
       "      <td>True</td>\n",
       "    </tr>\n",
       "    <tr>\n",
       "      <td>1</td>\n",
       "      <td>1103943240000</td>\n",
       "      <td>51bdf3e56ca0048f4e00ced2</td>\n",
       "      <td>0</td>\n",
       "      <td>1</td>\n",
       "      <td>1103943240000</td>\n",
       "      <td>1</td>\n",
       "      <td>1</td>\n",
       "      <td>True</td>\n",
       "    </tr>\n",
       "    <tr>\n",
       "      <td>2</td>\n",
       "      <td>1104288840000</td>\n",
       "      <td>51bdf3e56ca0048f4e00ced0</td>\n",
       "      <td>0</td>\n",
       "      <td>1</td>\n",
       "      <td>1104288840000</td>\n",
       "      <td>1</td>\n",
       "      <td>2</td>\n",
       "      <td>True</td>\n",
       "    </tr>\n",
       "    <tr>\n",
       "      <td>3</td>\n",
       "      <td>1104461640000</td>\n",
       "      <td>51bdf3e56ca0048f4e00cece</td>\n",
       "      <td>0</td>\n",
       "      <td>1</td>\n",
       "      <td>1104461640000</td>\n",
       "      <td>1</td>\n",
       "      <td>3</td>\n",
       "      <td>True</td>\n",
       "    </tr>\n",
       "    <tr>\n",
       "      <td>4</td>\n",
       "      <td>1104807180000</td>\n",
       "      <td>51bdf3e56ca0048f4e00cecc</td>\n",
       "      <td>0</td>\n",
       "      <td>1</td>\n",
       "      <td>1104807180000</td>\n",
       "      <td>1</td>\n",
       "      <td>4</td>\n",
       "      <td>True</td>\n",
       "    </tr>\n",
       "  </tbody>\n",
       "</table>\n",
       "</div>"
      ],
      "text/plain": [
       "      created_at               journal_oid  published_at  site_id  \\\n",
       "0  1103856900000  51bdf3e56ca0048f4e00ced4             0        1   \n",
       "1  1103943240000  51bdf3e56ca0048f4e00ced2             0        1   \n",
       "2  1104288840000  51bdf3e56ca0048f4e00ced0             0        1   \n",
       "3  1104461640000  51bdf3e56ca0048f4e00cece             0        1   \n",
       "4  1104807180000  51bdf3e56ca0048f4e00cecc             0        1   \n",
       "\n",
       "      updated_at  user_id  site_index  is_nontrivial  \n",
       "0  1103856900000        1           0           True  \n",
       "1  1103943240000        1           1           True  \n",
       "2  1104288840000        1           2           True  \n",
       "3  1104461640000        1           3           True  \n",
       "4  1104807180000        1           4           True  "
      ]
     },
     "execution_count": 8,
     "metadata": {},
     "output_type": "execute_result"
    }
   ],
   "source": [
    "journal_df.head()"
   ]
  },
  {
   "cell_type": "code",
   "execution_count": 9,
   "metadata": {},
   "outputs": [
    {
     "data": {
      "text/plain": [
       "11"
      ]
     },
     "execution_count": 9,
     "metadata": {},
     "output_type": "execute_result"
    }
   ],
   "source": [
    "# the vast majority of sites with journals also have site-level metadata\n",
    "# these 11 missing sites might be related to e.g. incomplete deletions on the part of CaringBridge\n",
    "len(set(journal_df.site_id) - set(site_info_df.site_id))"
   ]
  },
  {
   "cell_type": "code",
   "execution_count": 10,
   "metadata": {},
   "outputs": [
    {
     "data": {
      "text/plain": [
       "17450827"
      ]
     },
     "execution_count": 10,
     "metadata": {},
     "output_type": "execute_result"
    }
   ],
   "source": [
    "# trim out journal updates that are trivial (short or machine-generated)\n",
    "journal_df = journal_df[journal_df.is_nontrivial]\n",
    "len(journal_df)"
   ]
  },
  {
   "cell_type": "code",
   "execution_count": 11,
   "metadata": {},
   "outputs": [
    {
     "name": "stderr",
     "output_type": "stream",
     "text": [
      "100%|██████████| 605630/605630 [03:27<00:00, 2919.28it/s]\n"
     ]
    },
    {
     "data": {
      "text/plain": [
       "605630"
      ]
     },
     "execution_count": 11,
     "metadata": {},
     "output_type": "execute_result"
    }
   ],
   "source": [
    "# build a dataframe where each site has a list of user_ids on that site and the total number of non-trivial journals\n",
    "site_proportions = []\n",
    "for site_id, group in tqdm(journal_df.groupby(by='site_id', sort=False)):\n",
    "    total_journals = len(group)\n",
    "    user_ids = set(group.user_id)\n",
    "    site_proportion = {\n",
    "        'site_id': site_id,\n",
    "        'user_ids': user_ids,\n",
    "        'total_journals': total_journals\n",
    "    }\n",
    "    site_proportions.append(site_proportion)\n",
    "len(site_proportions)"
   ]
  },
  {
   "cell_type": "code",
   "execution_count": 12,
   "metadata": {},
   "outputs": [
    {
     "data": {
      "text/plain": [
       "605630"
      ]
     },
     "execution_count": 12,
     "metadata": {},
     "output_type": "execute_result"
    }
   ],
   "source": [
    "site_proportions_df = pd.DataFrame(site_proportions)\n",
    "len(site_proportions_df)"
   ]
  },
  {
   "cell_type": "code",
   "execution_count": 13,
   "metadata": {},
   "outputs": [
    {
     "name": "stdout",
     "output_type": "stream",
     "text": [
      "0:00:02.358875\n"
     ]
    },
    {
     "data": {
      "text/plain": [
       "(605628, 0.7201772296100925, 0.9999966976536829)"
      ]
     },
     "execution_count": 13,
     "metadata": {},
     "output_type": "execute_result"
    }
   ],
   "source": [
    "# merge the dataframes so that we have more detailed site-level info\n",
    "s = datetime.now()\n",
    "site_df = pd.merge(site_info_df, site_proportions_df, on='site_id', validate='one_to_one')\n",
    "print(datetime.now() - s)\n",
    "len(site_df), len(site_df) / len(site_info_df), len(site_df) / len(site_proportions_df)"
   ]
  },
  {
   "cell_type": "code",
   "execution_count": null,
   "metadata": {},
   "outputs": [],
   "source": [
    "site_df.head()"
   ]
  },
  {
   "cell_type": "code",
   "execution_count": 15,
   "metadata": {},
   "outputs": [
    {
     "data": {
      "image/png": "[encoded data removed]",
      "text/plain": [
       "<Figure size 432x288 with 1 Axes>"
      ]
     },
     "metadata": {
      "needs_background": "light"
     },
     "output_type": "display_data"
    }
   ],
   "source": [
    "# note that in many cases there is a discrepency between the site-metadata counter of journals the observed non-trivial journal count\n",
    "plt.hist(site_df.total_journals - site_df.numJournals, log=True, bins=100, range=(-500,2000))\n",
    "plt.title(\"Discrepancy between site data and observed journal update counts\")\n",
    "plt.xlabel(\"Observed non-trivial updates - site data counter\")\n",
    "plt.ylabel(\"Site count\")\n",
    "plt.show()"
   ]
  },
  {
   "cell_type": "code",
   "execution_count": 16,
   "metadata": {},
   "outputs": [
    {
     "data": {
      "text/plain": [
       "age                         object\n",
       "created_at                   int64\n",
       "hasVisitorInvite            object\n",
       "healthCondition_category    object\n",
       "healthCondition_custom      object\n",
       "healthCondition_name        object\n",
       "ip                          object\n",
       "isDeleted                   object\n",
       "isForSelf                   object\n",
       "isGoogleable                object\n",
       "isSearchable                object\n",
       "isSpam                      object\n",
       "location_address            object\n",
       "location_city               object\n",
       "location_country            object\n",
       "location_state              object\n",
       "name                        object\n",
       "numAmps                      int64\n",
       "numAuthorInvites             int64\n",
       "numCoAuthors                 int64\n",
       "numGuestbooks                int64\n",
       "numJournalDrafts             int64\n",
       "numJournals                  int64\n",
       "numLinks                     int64\n",
       "numPhotos                    int64\n",
       "numTasks                     int64\n",
       "numTributes                  int64\n",
       "numVisitorInvites            int64\n",
       "privacy                     object\n",
       "publish_date                 int64\n",
       "site_id                      int64\n",
       "title                       object\n",
       "updated_at                   int64\n",
       "visits                       int64\n",
       "user_ids                    object\n",
       "total_journals               int64\n",
       "dtype: object"
      ]
     },
     "execution_count": 16,
     "metadata": {},
     "output_type": "execute_result"
    }
   ],
   "source": [
    "site_df.dtypes"
   ]
  },
  {
   "cell_type": "code",
   "execution_count": null,
   "metadata": {},
   "outputs": [],
   "source": [
    "site_df.head()"
   ]
  },
  {
   "cell_type": "code",
   "execution_count": 18,
   "metadata": {},
   "outputs": [
    {
     "data": {
      "text/html": [
       "<div>\n",
       "<style scoped>\n",
       "    .dataframe tbody tr th:only-of-type {\n",
       "        vertical-align: middle;\n",
       "    }\n",
       "\n",
       "    .dataframe tbody tr th {\n",
       "        vertical-align: top;\n",
       "    }\n",
       "\n",
       "    .dataframe thead th {\n",
       "        text-align: right;\n",
       "    }\n",
       "</style>\n",
       "<table border=\"1\" class=\"dataframe\">\n",
       "  <thead>\n",
       "    <tr style=\"text-align: right;\">\n",
       "      <th></th>\n",
       "      <th>created_at</th>\n",
       "      <th>journal_oid</th>\n",
       "      <th>published_at</th>\n",
       "      <th>site_id</th>\n",
       "      <th>updated_at</th>\n",
       "      <th>user_id</th>\n",
       "      <th>site_index</th>\n",
       "      <th>is_nontrivial</th>\n",
       "    </tr>\n",
       "  </thead>\n",
       "  <tbody>\n",
       "    <tr>\n",
       "      <td>0</td>\n",
       "      <td>1103856900000</td>\n",
       "      <td>51bdf3e56ca0048f4e00ced4</td>\n",
       "      <td>0</td>\n",
       "      <td>1</td>\n",
       "      <td>1103856900000</td>\n",
       "      <td>1</td>\n",
       "      <td>0</td>\n",
       "      <td>True</td>\n",
       "    </tr>\n",
       "    <tr>\n",
       "      <td>1</td>\n",
       "      <td>1103943240000</td>\n",
       "      <td>51bdf3e56ca0048f4e00ced2</td>\n",
       "      <td>0</td>\n",
       "      <td>1</td>\n",
       "      <td>1103943240000</td>\n",
       "      <td>1</td>\n",
       "      <td>1</td>\n",
       "      <td>True</td>\n",
       "    </tr>\n",
       "    <tr>\n",
       "      <td>2</td>\n",
       "      <td>1104288840000</td>\n",
       "      <td>51bdf3e56ca0048f4e00ced0</td>\n",
       "      <td>0</td>\n",
       "      <td>1</td>\n",
       "      <td>1104288840000</td>\n",
       "      <td>1</td>\n",
       "      <td>2</td>\n",
       "      <td>True</td>\n",
       "    </tr>\n",
       "    <tr>\n",
       "      <td>3</td>\n",
       "      <td>1104461640000</td>\n",
       "      <td>51bdf3e56ca0048f4e00cece</td>\n",
       "      <td>0</td>\n",
       "      <td>1</td>\n",
       "      <td>1104461640000</td>\n",
       "      <td>1</td>\n",
       "      <td>3</td>\n",
       "      <td>True</td>\n",
       "    </tr>\n",
       "    <tr>\n",
       "      <td>4</td>\n",
       "      <td>1104807180000</td>\n",
       "      <td>51bdf3e56ca0048f4e00cecc</td>\n",
       "      <td>0</td>\n",
       "      <td>1</td>\n",
       "      <td>1104807180000</td>\n",
       "      <td>1</td>\n",
       "      <td>4</td>\n",
       "      <td>True</td>\n",
       "    </tr>\n",
       "  </tbody>\n",
       "</table>\n",
       "</div>"
      ],
      "text/plain": [
       "      created_at               journal_oid  published_at  site_id  \\\n",
       "0  1103856900000  51bdf3e56ca0048f4e00ced4             0        1   \n",
       "1  1103943240000  51bdf3e56ca0048f4e00ced2             0        1   \n",
       "2  1104288840000  51bdf3e56ca0048f4e00ced0             0        1   \n",
       "3  1104461640000  51bdf3e56ca0048f4e00cece             0        1   \n",
       "4  1104807180000  51bdf3e56ca0048f4e00cecc             0        1   \n",
       "\n",
       "      updated_at  user_id  site_index  is_nontrivial  \n",
       "0  1103856900000        1           0           True  \n",
       "1  1103943240000        1           1           True  \n",
       "2  1104288840000        1           2           True  \n",
       "3  1104461640000        1           3           True  \n",
       "4  1104807180000        1           4           True  "
      ]
     },
     "execution_count": 18,
     "metadata": {},
     "output_type": "execute_result"
    }
   ],
   "source": [
    "journal_df.head()"
   ]
  },
  {
   "cell_type": "markdown",
   "metadata": {},
   "source": [
    "## User filtering"
   ]
  },
  {
   "cell_type": "code",
   "execution_count": 19,
   "metadata": {},
   "outputs": [
    {
     "name": "stderr",
     "output_type": "stream",
     "text": [
      "100%|██████████| 667575/667575 [05:30<00:00, 2017.83it/s]\n"
     ]
    },
    {
     "data": {
      "text/plain": [
       "(373147, 0.5589589184735797)"
      ]
     },
     "execution_count": 19,
     "metadata": {},
     "output_type": "execute_result"
    }
   ],
   "source": [
    "# now we apply the user filtering conditions\n",
    "jan_1995 = 788918400000\n",
    "july_2016 = 1467331200000\n",
    "hours_24 = 1000 * 60 * 60 * 24\n",
    "\n",
    "valid_users = set()\n",
    "\n",
    "invalid_early_date_count = 0\n",
    "invalid_future_date_count = 0\n",
    "not_active_enough_count = 0\n",
    "only_in_new_data_count = 0  # counts the number of user who made their first post after the end (June 2016) of the old dataset\n",
    "\n",
    "for user_id, updates in tqdm(journal_df.groupby(by='user_id', sort=False)):\n",
    "    first_update = np.min(updates.created_at)\n",
    "    last_update = np.max(updates.created_at)\n",
    "    if first_update < jan_1995:\n",
    "        invalid_early_date_count += 1\n",
    "    if last_update > july_2016:\n",
    "        invalid_future_date_count += 1\n",
    "        #raise ValueError(f\"Unexpected date in the future for user {user_id}: {last_update} ({str(datetime.fromtimestamp(last_update / 1000))})\")\n",
    "    if first_update > july_2016:\n",
    "        only_in_new_data_count += 1\n",
    "        continue\n",
    "    if last_update - first_update <= hours_24:\n",
    "        # note that this also trims out users with only 1 journal update\n",
    "        not_active_enough_count += 1\n",
    "        continue\n",
    "    valid_users.add(user_id)\n",
    "len(valid_users), len(valid_users) / len(set(journal_df.user_id))"
   ]
  },
  {
   "cell_type": "code",
   "execution_count": 20,
   "metadata": {},
   "outputs": [
    {
     "data": {
      "text/plain": [
       "(213, 165723, 162334, 132094)"
      ]
     },
     "execution_count": 20,
     "metadata": {},
     "output_type": "execute_result"
    }
   ],
   "source": [
    "invalid_early_date_count, invalid_future_date_count, not_active_enough_count, only_in_new_data_count"
   ]
  },
  {
   "cell_type": "code",
   "execution_count": 21,
   "metadata": {},
   "outputs": [
    {
     "data": {
      "text/plain": [
       "True"
      ]
     },
     "execution_count": 21,
     "metadata": {},
     "output_type": "execute_result"
    }
   ],
   "source": [
    "0 in valid_users"
   ]
  },
  {
   "cell_type": "code",
   "execution_count": 22,
   "metadata": {},
   "outputs": [],
   "source": [
    "valid_users.remove(0)"
   ]
  },
  {
   "cell_type": "code",
   "execution_count": 23,
   "metadata": {},
   "outputs": [
    {
     "name": "stderr",
     "output_type": "stream",
     "text": [
      "100%|██████████| 90444/90444 [00:00<00:00, 1150370.51it/s]\n"
     ]
    },
    {
     "data": {
      "text/plain": [
       "(10776, 362370)"
      ]
     },
     "execution_count": 23,
     "metadata": {},
     "output_type": "execute_result"
    }
   ],
   "source": [
    "removed_for_spam = 0\n",
    "for spam_users in tqdm(site_df[~site_df.isSpam.isna()].user_ids):\n",
    "    for spam_user in spam_users:\n",
    "        if spam_user in valid_users:\n",
    "            valid_users.remove(spam_user)\n",
    "            removed_for_spam += 1\n",
    "removed_for_spam, len(valid_users)"
   ]
  },
  {
   "cell_type": "code",
   "execution_count": 24,
   "metadata": {},
   "outputs": [],
   "source": [
    "# Manual removal of users who are invalid for other reasons\n",
    "invalid_users = [\n",
    "    15159562,  # Test user account run by CaringBridge Customer Experience team\n",
    "    46,  # Seems to be run at least in part by CaringBridge team for testing\n",
    "    13896060,  # Seems like another customer care rep\n",
    "    594,  # Seems like a customer care rep, but also seems like it may include some legitimate sites? (see e.g. site 559205)\n",
    "    7393709, #Junk and test posts\n",
    "    25036137, #Repeated test text\n",
    "    8192483, #Mostly test posts, but one genuine post about patient\n",
    "    17956362, #Test posts\n",
    "    16648084, #Test posts (and some good poetry)\n",
    "    31761432, # Doctor's ad\n",
    "    32764680, # Payday lending ad\n",
    "    30457719, # 3D visualization company ad\n",
    "    32538830, # Car supplies ad\n",
    "    32757690, # Fashion ad\n",
    "    32757739, # Clothing brand ad\n",
    "    1043681, # Leasing furniture ad\n",
    "    28132146, # Farm company ad\n",
    "    31477721, # Lenders ad\n",
    "    31879875, # Payday lender ad\n",
    "    31799168, # Credit company ad\n",
    "    32428328, # SEO ad\n",
    "    31684805, # Various ads\n",
    "    30165532, # Various ads about black magic\n",
    "    31833912, # Job hunting spam\n",
    "    32753111, # Arabic text (possibly spam)\n",
    "    32732132 # Turkish text (spam)\n",
    "]"
   ]
  },
  {
   "cell_type": "code",
   "execution_count": 25,
   "metadata": {},
   "outputs": [
    {
     "data": {
      "text/plain": [
       "(25, 362345)"
      ]
     },
     "execution_count": 25,
     "metadata": {},
     "output_type": "execute_result"
    }
   ],
   "source": [
    "removed_manually = 0\n",
    "for invalid_user in invalid_users:\n",
    "    if invalid_user in valid_users:\n",
    "        valid_users.remove(invalid_user)\n",
    "        removed_manually += 1\n",
    "removed_manually, len(valid_users)"
   ]
  },
  {
   "cell_type": "code",
   "execution_count": 26,
   "metadata": {},
   "outputs": [
    {
     "data": {
      "text/plain": [
       "0.5427779650226566"
      ]
     },
     "execution_count": 26,
     "metadata": {},
     "output_type": "execute_result"
    }
   ],
   "source": [
    "# what percent of users remain?\n",
    "len(valid_users) / len(set(journal_df.user_id))"
   ]
  },
  {
   "cell_type": "code",
   "execution_count": 27,
   "metadata": {},
   "outputs": [
    {
     "name": "stdout",
     "output_type": "stream",
     "text": [
      "Finished.\n"
     ]
    }
   ],
   "source": [
    "# write out valid users to text file\n",
    "with open(os.path.join(working_dir, \"valid_user_ids.txt\"), 'w') as outfile:\n",
    "    for user_id in valid_users:\n",
    "        outfile.write(str(user_id) + \"\\n\")\n",
    "print(\"Finished.\")"
   ]
  },
  {
   "cell_type": "code",
   "execution_count": 28,
   "metadata": {},
   "outputs": [
    {
     "data": {
      "text/plain": [
       "362345"
      ]
     },
     "execution_count": 28,
     "metadata": {},
     "output_type": "execute_result"
    }
   ],
   "source": [
    "# read valid users\n",
    "valid_users = set()\n",
    "with open(os.path.join(working_dir, \"valid_user_ids.txt\"), 'r') as infile:\n",
    "    for line in infile:\n",
    "        user_id = line.strip()\n",
    "        if user_id == \"\":\n",
    "            continue\n",
    "        else:\n",
    "            valid_users.add(int(user_id))\n",
    "len(valid_users)"
   ]
  },
  {
   "cell_type": "markdown",
   "metadata": {},
   "source": [
    "## Site analysis & filtering"
   ]
  },
  {
   "cell_type": "code",
   "execution_count": 29,
   "metadata": {},
   "outputs": [
    {
     "data": {
      "text/plain": [
       "{7168884}"
      ]
     },
     "execution_count": 29,
     "metadata": {},
     "output_type": "execute_result"
    }
   ],
   "source": [
    "site_df.user_ids.iloc[0]"
   ]
  },
  {
   "cell_type": "code",
   "execution_count": 30,
   "metadata": {},
   "outputs": [],
   "source": [
    "valid_site_ids = set()\n",
    "for site_id, author_user_ids in zip(site_df.site_id, site_df.user_ids):\n",
    "    if len(author_user_ids & valid_users) >= 1:\n",
    "        valid_site_ids.add(site_id)"
   ]
  },
  {
   "cell_type": "code",
   "execution_count": 31,
   "metadata": {},
   "outputs": [
    {
     "data": {
      "text/plain": [
       "(340414, 0.562084315784607)"
      ]
     },
     "execution_count": 31,
     "metadata": {},
     "output_type": "execute_result"
    }
   ],
   "source": [
    "len(valid_site_ids), len(valid_site_ids) / len(set(site_df.site_id))"
   ]
  },
  {
   "cell_type": "code",
   "execution_count": 32,
   "metadata": {},
   "outputs": [
    {
     "data": {
      "text/plain": [
       "0"
      ]
     },
     "execution_count": 32,
     "metadata": {},
     "output_type": "execute_result"
    }
   ],
   "source": [
    "# are there any spam sites still in the sample?\n",
    "# no, as expected\n",
    "len(site_df[(~site_df.isSpam.isna())&(site_df.site_id.isin(valid_site_ids))])"
   ]
  },
  {
   "cell_type": "code",
   "execution_count": 33,
   "metadata": {},
   "outputs": [
    {
     "data": {
      "text/plain": [
       "(7090, 0.0208275805342906)"
      ]
     },
     "execution_count": 33,
     "metadata": {},
     "output_type": "execute_result"
    }
   ],
   "source": [
    "# how many sites included in this sample have only a single (substantive) update?\n",
    "# note that these sites necessarily imply a multi-site-authorship situation\n",
    "total_single_update_sites = len(site_df[(site_df.site_id.isin(valid_site_ids))&(site_df.total_journals == 1)])\n",
    "total_single_update_sites, total_single_update_sites / len(valid_site_ids)"
   ]
  },
  {
   "cell_type": "code",
   "execution_count": 34,
   "metadata": {},
   "outputs": [
    {
     "data": {
      "text/plain": [
       "7090"
      ]
     },
     "execution_count": 34,
     "metadata": {},
     "output_type": "execute_result"
    }
   ],
   "source": [
    "single_update_site_ids = np.array(site_df[(site_df.site_id.isin(valid_site_ids))&(site_df.total_journals == 1)].site_id)\n",
    "len(single_update_site_ids)"
   ]
  },
  {
   "cell_type": "code",
   "execution_count": 35,
   "metadata": {},
   "outputs": [
    {
     "name": "stdout",
     "output_type": "stream",
     "text": [
      "Finished.\n"
     ]
    }
   ],
   "source": [
    "# write out valid sites to text file\n",
    "with open(os.path.join(working_dir, \"valid_site_ids.txt\"), 'w') as outfile:\n",
    "    for site_id in valid_site_ids:\n",
    "        outfile.write(str(site_id) + \"\\n\")\n",
    "print(\"Finished.\")"
   ]
  },
  {
   "cell_type": "code",
   "execution_count": 36,
   "metadata": {},
   "outputs": [
    {
     "data": {
      "text/plain": [
       "340414"
      ]
     },
     "execution_count": 36,
     "metadata": {},
     "output_type": "execute_result"
    }
   ],
   "source": [
    "# read valid sites\n",
    "valid_site_ids = set()\n",
    "with open(os.path.join(working_dir, \"valid_site_ids.txt\"), 'r') as infile:\n",
    "    for line in infile:\n",
    "        site_id = line.strip()\n",
    "        if site_id == \"\":\n",
    "            continue\n",
    "        else:\n",
    "            valid_site_ids.add(int(site_id))\n",
    "len(valid_site_ids)"
   ]
  },
  {
   "cell_type": "markdown",
   "metadata": {},
   "source": [
    "#### Analysis of single-update sites"
   ]
  },
  {
   "cell_type": "code",
   "execution_count": 26,
   "metadata": {},
   "outputs": [
    {
     "data": {
      "text/plain": [
       "array([ 967272, 1088480,  946630, 1114463, 1077345,  864816, 1154454,\n",
       "        250808,  206138, 1069245])"
      ]
     },
     "execution_count": 26,
     "metadata": {},
     "output_type": "execute_result"
    }
   ],
   "source": [
    "np.random.choice(single_update_site_ids, size=10)"
   ]
  },
  {
   "cell_type": "code",
   "execution_count": null,
   "metadata": {},
   "outputs": [],
   "source": [
    "# patient site\n",
    "# spam\n",
    "# strange caregiver site about high-risk pregnancy\n",
    "# spam\n",
    "# spam, but weird spam\n",
    "# patient site\n",
    "# 1154454 no visible journal update (update in new journal only)\n",
    "# caregiver site\n",
    "# caregiver site\n",
    "# spam"
   ]
  },
  {
   "cell_type": "markdown",
   "metadata": {},
   "source": [
    "#### The analysis below was conducted on the old dataset\n",
    "\n",
    "A similar analysis is repeated above."
   ]
  },
  {
   "cell_type": "code",
   "execution_count": 31,
   "metadata": {},
   "outputs": [
    {
     "data": {
      "text/plain": [
       "array([1109221,  316814,  334144, 1105577,   32272,  821062, 1048160,\n",
       "        910206, 1114694, 1111885])"
      ]
     },
     "execution_count": 31,
     "metadata": {},
     "output_type": "execute_result"
    }
   ],
   "source": [
    "np.random.choice(single_update_site_ids, size=10)"
   ]
  },
  {
   "cell_type": "code",
   "execution_count": 32,
   "metadata": {},
   "outputs": [],
   "source": [
    "# from the random sample above:\n",
    "# 1 was a redirect, pointing to a new CB site\n",
    "# 1 was a caregiver creating a funeral/notification post on behalf of another family\n",
    "# 1 (site 431930) was a strange caregiver site that was never visited\n",
    "# 1 (site 858957) was a bizarre personal post warning about friend betrayal. (6 visits)\n",
    "# 1 (site 901250) was a normal single-update site from a parent about their child starting school\n",
    "# the other 5 were spam sites (!!)"
   ]
  },
  {
   "cell_type": "code",
   "execution_count": 33,
   "metadata": {},
   "outputs": [
    {
     "data": {
      "text/plain": [
       "1312"
      ]
     },
     "execution_count": 33,
     "metadata": {},
     "output_type": "execute_result"
    }
   ],
   "source": [
    "active_single_update_site_ids = np.array(site_df[(site_df.site_id.isin(valid_site_ids))&(site_df.total_journals == 1)&(site_df.visits > 20)].site_id)\n",
    "len(active_single_update_site_ids)"
   ]
  },
  {
   "cell_type": "code",
   "execution_count": 34,
   "metadata": {},
   "outputs": [
    {
     "data": {
      "text/plain": [
       "array([ 709747, 1111535,  873413,  662019,  150530,  634905,   11169,\n",
       "        352727,  530533,  175638])"
      ]
     },
     "execution_count": 34,
     "metadata": {},
     "output_type": "execute_result"
    }
   ],
   "source": [
    "np.random.choice(active_single_update_site_ids, size=10)"
   ]
  },
  {
   "cell_type": "code",
   "execution_count": 35,
   "metadata": {},
   "outputs": [],
   "source": [
    "# 3 / 10 of the above active > 20 visit sites were spam"
   ]
  },
  {
   "cell_type": "code",
   "execution_count": 36,
   "metadata": {},
   "outputs": [
    {
     "data": {
      "text/plain": [
       "375"
      ]
     },
     "execution_count": 36,
     "metadata": {},
     "output_type": "execute_result"
    }
   ],
   "source": [
    "active_single_update_site_ids = np.array(site_df[(site_df.site_id.isin(valid_site_ids))&(site_df.total_journals == 1)&(site_df.visits > 100)].site_id)\n",
    "len(active_single_update_site_ids)"
   ]
  },
  {
   "cell_type": "code",
   "execution_count": 37,
   "metadata": {},
   "outputs": [
    {
     "data": {
      "text/plain": [
       "array([ 886514,  103904,  839793, 1023559,  403792,   12750,  597009,\n",
       "       1105530,  888444,  901060])"
      ]
     },
     "execution_count": 37,
     "metadata": {},
     "output_type": "execute_result"
    }
   ],
   "source": [
    "np.random.choice(active_single_update_site_ids, size=10)"
   ]
  },
  {
   "cell_type": "code",
   "execution_count": 38,
   "metadata": {},
   "outputs": [],
   "source": [
    "# 1 / 10 of the above active > 100 visit sites were spam"
   ]
  },
  {
   "cell_type": "markdown",
   "metadata": {},
   "source": [
    "### Additional site analysis based on number of visits"
   ]
  },
  {
   "cell_type": "code",
   "execution_count": 45,
   "metadata": {},
   "outputs": [
    {
     "data": {
      "text/plain": [
       "(6, 1811, 12916, 42567)"
      ]
     },
     "execution_count": 45,
     "metadata": {},
     "output_type": "execute_result"
    }
   ],
   "source": [
    "# how many sites included in this sample have 0, 1, or <10 visits?\n",
    "len(site_df[(site_df.visits == 0)&(site_df.site_id.isin(valid_site_ids))]), \\\n",
    "len(site_df[(site_df.visits == 1)&(site_df.site_id.isin(valid_site_ids))]), \\\n",
    "len(site_df[(site_df.visits <= 10)&(site_df.site_id.isin(valid_site_ids))]), \\\n",
    "len(site_df[(site_df.visits <= 100)&(site_df.site_id.isin(valid_site_ids))]) "
   ]
  },
  {
   "cell_type": "code",
   "execution_count": 46,
   "metadata": {},
   "outputs": [
    {
     "data": {
      "image/png": "[encoded data removed]",
      "text/plain": [
       "<Figure size 432x288 with 1 Axes>"
      ]
     },
     "metadata": {
      "needs_background": "light"
     },
     "output_type": "display_data"
    }
   ],
   "source": [
    "plt.hist(site_df[site_df.site_id.isin(valid_site_ids)].visits, log=True, bins=range(500))\n",
    "plt.title(\"Distribution of selected sites by number of visits\")\n",
    "plt.show()"
   ]
  },
  {
   "cell_type": "markdown",
   "metadata": {},
   "source": [
    "### Random selection of sites for author type annotation"
   ]
  },
  {
   "cell_type": "code",
   "execution_count": 34,
   "metadata": {},
   "outputs": [],
   "source": [
    "annotation_assignment_dir = \"/home/srivbane/shared/caringbridge/data/projects/qual-health-journeys/instance/annotation_data/assignments\"\n",
    "annotators = [\"levon003\", \"mill6273\"]"
   ]
  },
  {
   "cell_type": "code",
   "execution_count": 32,
   "metadata": {},
   "outputs": [],
   "source": [
    "valid_site_ids_arr = np.array(list(valid_site_ids))"
   ]
  },
  {
   "cell_type": "code",
   "execution_count": 33,
   "metadata": {},
   "outputs": [],
   "source": [
    "initial_training_set = np.random.choice(valid_site_ids_arr, size=10)\n",
    "validation_set = np.random.choice(valid_site_ids_arr, size=30)"
   ]
  },
  {
   "cell_type": "code",
   "execution_count": 36,
   "metadata": {},
   "outputs": [
    {
     "name": "stdout",
     "output_type": "stream",
     "text": [
      "Finished.\n"
     ]
    }
   ],
   "source": [
    "assert False, \"Don't rerun this cell without changing the filenames to generate NEW random samples from the valid sites!\"\n",
    "for annotator in annotators:\n",
    "    user_annotation_dir = os.path.join(annotation_assignment_dir, annotator)\n",
    "    fname = \"sna_author_type_train_n10.txt\"\n",
    "    with open(os.path.join(user_annotation_dir, fname), 'w') as outfile:\n",
    "        outfile.write(\"Site-level author type annotation (Train 1)\\n\")\n",
    "        for site_id in initial_training_set:\n",
    "            outfile.write(f\"{site_id}\\n\")\n",
    "    fname = \"sna_author_type_valid_n30.txt\"\n",
    "    with open(os.path.join(user_annotation_dir, fname), 'w') as outfile:\n",
    "        outfile.write(\"Site-level author type annotation (Validation 1)\\n\")\n",
    "        for site_id in validation_set:\n",
    "            outfile.write(f\"{site_id}\\n\")\n",
    "print(\"Finished.\")"
   ]
  },
  {
   "cell_type": "markdown",
   "metadata": {},
   "source": [
    "#### Random selection of a subset of sites for author type annotation\n",
    "\n",
    "We select sites with 10-20 updates and between 25-75% patient-authored."
   ]
  },
  {
   "cell_type": "code",
   "execution_count": 30,
   "metadata": {},
   "outputs": [],
   "source": [
    "annotation_assignment_dir = \"/home/srivbane/shared/caringbridge/data/projects/qual-health-journeys/instance/annotation_data/assignments\"\n",
    "annotators = [\"levon003\", \"mill6273\"]"
   ]
  },
  {
   "cell_type": "code",
   "execution_count": 33,
   "metadata": {},
   "outputs": [],
   "source": [
    "# TODO need to load the author type classifier predictions before I can generate this subset of sites to annotate"
   ]
  },
  {
   "cell_type": "code",
   "execution_count": null,
   "metadata": {},
   "outputs": [],
   "source": [
    "subset_site_ids = set()\n",
    "subset_site_ids_arr = np.array(list(subset_site_ids))\n",
    "initial_training_set = np.random.choice(subset_site_ids_arr, size=10)\n",
    "validation_set = np.random.choice(subset_site_ids_arr, size=30)"
   ]
  },
  {
   "cell_type": "code",
   "execution_count": 36,
   "metadata": {},
   "outputs": [
    {
     "name": "stdout",
     "output_type": "stream",
     "text": [
      "Finished.\n"
     ]
    }
   ],
   "source": [
    "assert False, \"Don't rerun this cell without changing the filenames to generate NEW random samples from the valid sites!\"\n",
    "for annotator in annotators:\n",
    "    user_annotation_dir = os.path.join(annotation_assignment_dir, annotator)\n",
    "    fname = \"sna_author_type_mixed_train_n10.txt\"\n",
    "    with open(os.path.join(user_annotation_dir, fname), 'w') as outfile:\n",
    "        outfile.write(\"Site-level author type annotation on maybe ambiguous sites (Train 2)\\n\")\n",
    "        for site_id in initial_training_set:\n",
    "            outfile.write(f\"{site_id}\\n\")\n",
    "    fname = \"sna_author_type_mixed_valid_n30.txt\"\n",
    "    with open(os.path.join(user_annotation_dir, fname), 'w') as outfile:\n",
    "        outfile.write(\"Site-level author type annotation on maybe ambiguous sites (Validation 2)\\n\")\n",
    "        for site_id in validation_set:\n",
    "            outfile.write(f\"{site_id}\\n\")\n",
    "print(\"Finished.\")"
   ]
  },
  {
   "cell_type": "markdown",
   "metadata": {},
   "source": [
    "### Multi-user site analysis"
   ]
  },
  {
   "cell_type": "code",
   "execution_count": 46,
   "metadata": {},
   "outputs": [
    {
     "data": {
      "image/png": "[encoded data removed]",
      "text/plain": [
       "<Figure size 432x288 with 1 Axes>"
      ]
     },
     "metadata": {
      "needs_background": "light"
     },
     "output_type": "display_data"
    }
   ],
   "source": [
    "author_counts = np.array([len(user_ids) for user_ids in site_df[site_df.site_id.isin(valid_site_ids)].user_ids])\n",
    "valid_author_counts = np.array([len(user_ids & valid_users) for user_ids in site_df[site_df.site_id.isin(valid_site_ids)].user_ids])\n",
    "plt.hist(author_counts, log=True, bins=range(1,17))\n",
    "plt.hist(valid_author_counts, log=True, bins=range(1,17), alpha=0.5)\n",
    "plt.title(\"Selected sites with multiple authors\")\n",
    "plt.show()"
   ]
  },
  {
   "cell_type": "code",
   "execution_count": 50,
   "metadata": {},
   "outputs": [
    {
     "data": {
      "text/plain": [
       "(0.160153636694405, 0.10537728430417484)"
      ]
     },
     "execution_count": 50,
     "metadata": {},
     "output_type": "execute_result"
    }
   ],
   "source": [
    "# of the valid sites, 16% have multiple authors but only 10% have multiple VALID authors\n",
    "np.sum(author_counts > 1) / len(author_counts), np.sum(valid_author_counts > 1) / len(valid_author_counts)"
   ]
  },
  {
   "cell_type": "code",
   "execution_count": 54,
   "metadata": {},
   "outputs": [
    {
     "data": {
      "text/plain": [
       "35913"
      ]
     },
     "execution_count": 54,
     "metadata": {},
     "output_type": "execute_result"
    }
   ],
   "source": [
    "np.sum(valid_author_counts > 1)"
   ]
  },
  {
   "cell_type": "code",
   "execution_count": 52,
   "metadata": {},
   "outputs": [],
   "source": [
    "site_df['valid_author_counts'] = [len(user_ids & valid_users) for user_ids in site_df.user_ids]"
   ]
  },
  {
   "cell_type": "code",
   "execution_count": 55,
   "metadata": {},
   "outputs": [
    {
     "data": {
      "text/plain": [
       "35913"
      ]
     },
     "execution_count": 55,
     "metadata": {},
     "output_type": "execute_result"
    }
   ],
   "source": [
    "sites_with_multiple_valid_authors = site_df[(site_df.site_id.isin(valid_site_ids))&(site_df.valid_author_counts >= 2)].site_id\n",
    "len(sites_with_multiple_valid_authors)"
   ]
  },
  {
   "cell_type": "code",
   "execution_count": 56,
   "metadata": {},
   "outputs": [
    {
     "data": {
      "text/plain": [
       "array([ 840336,  862570,  884170, 1051171, 1065938, 1035080,  683587,\n",
       "        450675,  508079,  386061])"
      ]
     },
     "execution_count": 56,
     "metadata": {},
     "output_type": "execute_result"
    }
   ],
   "source": [
    "np.random.choice(sites_with_multiple_valid_authors, size=10)"
   ]
  },
  {
   "cell_type": "markdown",
   "metadata": {},
   "source": [
    "#### Multi-site users analysis"
   ]
  },
  {
   "cell_type": "code",
   "execution_count": 59,
   "metadata": {},
   "outputs": [
    {
     "name": "stderr",
     "output_type": "stream",
     "text": [
      "  0%|          | 31/362370 [00:06<21:47:19,  4.62it/s]"
     ]
    },
    {
     "name": "stdout",
     "output_type": "stream",
     "text": [
      "[35, 146716]\n"
     ]
    },
    {
     "name": "stderr",
     "output_type": "stream",
     "text": [
      "\n"
     ]
    }
   ],
   "source": [
    "for user_id in tqdm(valid_users):\n",
    "    res = site_df[(site_df.site_id.isin(valid_site_ids))&(site_df.user_ids.map(lambda user_id_list: user_id in user_id_list))]\n",
    "    if len(res) > 1:\n",
    "        # this author has written posts on multiple valid sites\n",
    "        print(list(res.site_id))\n",
    "        break\n",
    "    #[user_id in user_ids for user_ids in site_df.user_ids]"
   ]
  },
  {
   "cell_type": "code",
   "execution_count": null,
   "metadata": {
    "scrolled": true
   },
   "outputs": [],
   "source": [
    "multisite_user_ids = set()\n",
    "for user_id, journals in tqdm(journal_df[(journal_df.site_id.isin(valid_site_ids))&(journal_df.user_id.isin(valid_users))].groupby(by='user_id', sort=False)):\n",
    "    user_site_ids = set(journals.site_id)\n",
    "    if len(user_site_ids) >= 2:\n",
    "        multisite_user_ids.add(user_id)\n",
    "len(multisite_user_ids)"
   ]
  },
  {
   "cell_type": "code",
   "execution_count": 66,
   "metadata": {},
   "outputs": [
    {
     "data": {
      "text/plain": [
       "0.05164886717995419"
      ]
     },
     "execution_count": 66,
     "metadata": {},
     "output_type": "execute_result"
    }
   ],
   "source": [
    "# 5% of valid users have authored updates on more than one site\n",
    "len(multisite_user_ids) / len(valid_users)"
   ]
  },
  {
   "cell_type": "code",
   "execution_count": 67,
   "metadata": {},
   "outputs": [
    {
     "data": {
      "text/plain": [
       "array([20594755,   276435, 29470066,  2909494, 30423617,  6041707,\n",
       "        4151269, 11222832,  5098450,  9739758])"
      ]
     },
     "execution_count": 67,
     "metadata": {},
     "output_type": "execute_result"
    }
   ],
   "source": [
    "np.random.choice(list(multisite_user_ids), size=10)"
   ]
  },
  {
   "cell_type": "markdown",
   "metadata": {},
   "source": [
    "### Create author-centric dataframe\n",
    "\n",
    "In order to support an author-centric view in the annotation web client."
   ]
  },
  {
   "cell_type": "code",
   "execution_count": 68,
   "metadata": {},
   "outputs": [],
   "source": [
    "site_update_counts = {sid: journal_count for sid, journal_count in zip(site_df.site_id, site_df.total_journals)}"
   ]
  },
  {
   "cell_type": "code",
   "execution_count": null,
   "metadata": {},
   "outputs": [],
   "source": [
    "users = []\n",
    "for user_id, journals in tqdm(journal_df[journal_df.site_id.isin(set(site_df.site_id))].groupby(by='user_id', sort=False)):\n",
    "    user_valid = user_id in valid_users\n",
    "    \n",
    "    site_ids = []\n",
    "    site_valid = []\n",
    "    site_update_count = []\n",
    "    site_first_update = []\n",
    "    site_last_update = []\n",
    "    site_first_index = []\n",
    "    site_last_index = []\n",
    "    site_total_counts = []\n",
    "    for site_id, site_updates in journals.groupby(by='site_id', sort=False):\n",
    "        site_ids.append(site_id)\n",
    "        site_valid.append(site_id in valid_site_ids)\n",
    "        site_update_count.append(len(site_updates))\n",
    "        site_first_update.append(np.min(site_updates.created_at))\n",
    "        site_last_update.append(np.max(site_updates.created_at))\n",
    "        site_first_index.append(np.min(site_updates.site_index))\n",
    "        site_last_index.append(np.max(site_updates.site_index))\n",
    "        \n",
    "        site_total_counts.append(site_update_counts[site_id])\n",
    "    \n",
    "    total_sites = len(site_ids)\n",
    "    total_updates = np.sum(site_update_count)\n",
    "    \n",
    "    u = {\n",
    "        'user_id': user_id,\n",
    "        'total_sites': total_sites,\n",
    "        'total_updates': total_updates,\n",
    "        'is_user_valid': user_valid,\n",
    "        'site_id_list': str(site_ids),\n",
    "        'site_update_count_list': str(site_update_count),\n",
    "        'is_site_valid_list': str(site_valid),\n",
    "        'site_first_created_update_list': str(site_first_update),\n",
    "        'site_last_created_update_list': str(site_last_update),\n",
    "        'site_first_index_update_list': str(site_first_index),\n",
    "        'site_last_index_update_list': str(site_last_index),\n",
    "        'site_total_update_count_list': str(site_total_counts)\n",
    "    }\n",
    "    users.append(u)\n",
    "len(users)"
   ]
  },
  {
   "cell_type": "code",
   "execution_count": 115,
   "metadata": {},
   "outputs": [
    {
     "data": {
      "text/plain": [
       "667573"
      ]
     },
     "execution_count": 115,
     "metadata": {},
     "output_type": "execute_result"
    }
   ],
   "source": [
    "user_info_df = pd.DataFrame(users)\n",
    "len(user_info_df)"
   ]
  },
  {
   "cell_type": "code",
   "execution_count": 116,
   "metadata": {},
   "outputs": [
    {
     "data": {
      "text/plain": [
       "is_site_valid_list                object\n",
       "is_user_valid                       bool\n",
       "site_first_created_update_list    object\n",
       "site_first_index_update_list      object\n",
       "site_id_list                      object\n",
       "site_last_created_update_list     object\n",
       "site_last_index_update_list       object\n",
       "site_total_update_count_list      object\n",
       "site_update_count_list            object\n",
       "total_sites                        int64\n",
       "total_updates                      int64\n",
       "user_id                            int64\n",
       "dtype: object"
      ]
     },
     "execution_count": 116,
     "metadata": {},
     "output_type": "execute_result"
    }
   ],
   "source": [
    "user_info_df.dtypes"
   ]
  },
  {
   "cell_type": "code",
   "execution_count": 117,
   "metadata": {},
   "outputs": [
    {
     "data": {
      "text/html": [
       "<div>\n",
       "<style scoped>\n",
       "    .dataframe tbody tr th:only-of-type {\n",
       "        vertical-align: middle;\n",
       "    }\n",
       "\n",
       "    .dataframe tbody tr th {\n",
       "        vertical-align: top;\n",
       "    }\n",
       "\n",
       "    .dataframe thead th {\n",
       "        text-align: right;\n",
       "    }\n",
       "</style>\n",
       "<table border=\"1\" class=\"dataframe\">\n",
       "  <thead>\n",
       "    <tr style=\"text-align: right;\">\n",
       "      <th></th>\n",
       "      <th>is_site_valid_list</th>\n",
       "      <th>is_user_valid</th>\n",
       "      <th>site_first_created_update_list</th>\n",
       "      <th>site_first_index_update_list</th>\n",
       "      <th>site_id_list</th>\n",
       "      <th>site_last_created_update_list</th>\n",
       "      <th>site_last_index_update_list</th>\n",
       "      <th>site_total_update_count_list</th>\n",
       "      <th>site_update_count_list</th>\n",
       "      <th>total_sites</th>\n",
       "      <th>total_updates</th>\n",
       "      <th>user_id</th>\n",
       "    </tr>\n",
       "  </thead>\n",
       "  <tbody>\n",
       "    <tr>\n",
       "      <th>0</th>\n",
       "      <td>[True]</td>\n",
       "      <td>True</td>\n",
       "      <td>[1103856900000]</td>\n",
       "      <td>[0]</td>\n",
       "      <td>[1]</td>\n",
       "      <td>[1261008420000]</td>\n",
       "      <td>[186]</td>\n",
       "      <td>[187]</td>\n",
       "      <td>[187]</td>\n",
       "      <td>1</td>\n",
       "      <td>187</td>\n",
       "      <td>1</td>\n",
       "    </tr>\n",
       "    <tr>\n",
       "      <th>1</th>\n",
       "      <td>[True]</td>\n",
       "      <td>True</td>\n",
       "      <td>[1117053060000]</td>\n",
       "      <td>[0]</td>\n",
       "      <td>[2]</td>\n",
       "      <td>[1180149600000]</td>\n",
       "      <td>[28]</td>\n",
       "      <td>[29]</td>\n",
       "      <td>[29]</td>\n",
       "      <td>1</td>\n",
       "      <td>29</td>\n",
       "      <td>2</td>\n",
       "    </tr>\n",
       "    <tr>\n",
       "      <th>2</th>\n",
       "      <td>[False]</td>\n",
       "      <td>False</td>\n",
       "      <td>[1147748940000]</td>\n",
       "      <td>[1]</td>\n",
       "      <td>[4]</td>\n",
       "      <td>[1147748940000]</td>\n",
       "      <td>[1]</td>\n",
       "      <td>[1]</td>\n",
       "      <td>[1]</td>\n",
       "      <td>1</td>\n",
       "      <td>1</td>\n",
       "      <td>4</td>\n",
       "    </tr>\n",
       "    <tr>\n",
       "      <th>3</th>\n",
       "      <td>[True]</td>\n",
       "      <td>True</td>\n",
       "      <td>[1112730300000]</td>\n",
       "      <td>[0]</td>\n",
       "      <td>[6]</td>\n",
       "      <td>[1372436275000]</td>\n",
       "      <td>[16]</td>\n",
       "      <td>[17]</td>\n",
       "      <td>[17]</td>\n",
       "      <td>1</td>\n",
       "      <td>17</td>\n",
       "      <td>6</td>\n",
       "    </tr>\n",
       "    <tr>\n",
       "      <th>4</th>\n",
       "      <td>[True]</td>\n",
       "      <td>True</td>\n",
       "      <td>[1116042900000]</td>\n",
       "      <td>[0]</td>\n",
       "      <td>[10]</td>\n",
       "      <td>[1117635660000]</td>\n",
       "      <td>[14]</td>\n",
       "      <td>[15]</td>\n",
       "      <td>[15]</td>\n",
       "      <td>1</td>\n",
       "      <td>15</td>\n",
       "      <td>12</td>\n",
       "    </tr>\n",
       "  </tbody>\n",
       "</table>\n",
       "</div>"
      ],
      "text/plain": [
       "  is_site_valid_list  is_user_valid site_first_created_update_list  \\\n",
       "0             [True]           True                [1103856900000]   \n",
       "1             [True]           True                [1117053060000]   \n",
       "2            [False]          False                [1147748940000]   \n",
       "3             [True]           True                [1112730300000]   \n",
       "4             [True]           True                [1116042900000]   \n",
       "\n",
       "  site_first_index_update_list site_id_list site_last_created_update_list  \\\n",
       "0                          [0]          [1]               [1261008420000]   \n",
       "1                          [0]          [2]               [1180149600000]   \n",
       "2                          [1]          [4]               [1147748940000]   \n",
       "3                          [0]          [6]               [1372436275000]   \n",
       "4                          [0]         [10]               [1117635660000]   \n",
       "\n",
       "  site_last_index_update_list site_total_update_count_list  \\\n",
       "0                       [186]                        [187]   \n",
       "1                        [28]                         [29]   \n",
       "2                         [1]                          [1]   \n",
       "3                        [16]                         [17]   \n",
       "4                        [14]                         [15]   \n",
       "\n",
       "  site_update_count_list  total_sites  total_updates  user_id  \n",
       "0                  [187]            1            187        1  \n",
       "1                   [29]            1             29        2  \n",
       "2                    [1]            1              1        4  \n",
       "3                   [17]            1             17        6  \n",
       "4                   [15]            1             15       12  "
      ]
     },
     "execution_count": 117,
     "metadata": {},
     "output_type": "execute_result"
    }
   ],
   "source": [
    "user_info_df.head()"
   ]
  },
  {
   "cell_type": "code",
   "execution_count": 118,
   "metadata": {},
   "outputs": [
    {
     "name": "stdout",
     "output_type": "stream",
     "text": [
      "Finished.\n"
     ]
    }
   ],
   "source": [
    "user_metadata_dir = \"/home/srivbane/shared/caringbridge/data/projects/sna-social-support/user_metadata\"\n",
    "user_info_filepath = os.path.join(user_metadata_dir, 'user_metadata.feather')\n",
    "user_info_df.to_feather(user_info_filepath)\n",
    "print(\"Finished.\")"
   ]
  },
  {
   "cell_type": "code",
   "execution_count": 119,
   "metadata": {},
   "outputs": [
    {
     "data": {
      "text/plain": [
       "667573"
      ]
     },
     "execution_count": 119,
     "metadata": {},
     "output_type": "execute_result"
    }
   ],
   "source": [
    "# read feathered user info dataframe\n",
    "user_metadata_dir = \"/home/srivbane/shared/caringbridge/data/projects/sna-social-support/user_metadata\"\n",
    "user_info_filepath = os.path.join(user_metadata_dir, 'user_metadata.feather')\n",
    "user_info_df = pd.read_feather(user_info_filepath)\n",
    "len(user_info_df)"
   ]
  },
  {
   "cell_type": "code",
   "execution_count": 120,
   "metadata": {},
   "outputs": [
    {
     "data": {
      "text/html": [
       "<div>\n",
       "<style scoped>\n",
       "    .dataframe tbody tr th:only-of-type {\n",
       "        vertical-align: middle;\n",
       "    }\n",
       "\n",
       "    .dataframe tbody tr th {\n",
       "        vertical-align: top;\n",
       "    }\n",
       "\n",
       "    .dataframe thead th {\n",
       "        text-align: right;\n",
       "    }\n",
       "</style>\n",
       "<table border=\"1\" class=\"dataframe\">\n",
       "  <thead>\n",
       "    <tr style=\"text-align: right;\">\n",
       "      <th></th>\n",
       "      <th>is_site_valid_list</th>\n",
       "      <th>is_user_valid</th>\n",
       "      <th>site_first_created_update_list</th>\n",
       "      <th>site_first_index_update_list</th>\n",
       "      <th>site_id_list</th>\n",
       "      <th>site_last_created_update_list</th>\n",
       "      <th>site_last_index_update_list</th>\n",
       "      <th>site_total_update_count_list</th>\n",
       "      <th>site_update_count_list</th>\n",
       "      <th>total_sites</th>\n",
       "      <th>total_updates</th>\n",
       "      <th>user_id</th>\n",
       "    </tr>\n",
       "  </thead>\n",
       "  <tbody>\n",
       "    <tr>\n",
       "      <th>0</th>\n",
       "      <td>[True]</td>\n",
       "      <td>True</td>\n",
       "      <td>[1103856900000]</td>\n",
       "      <td>[0]</td>\n",
       "      <td>[1]</td>\n",
       "      <td>[1261008420000]</td>\n",
       "      <td>[186]</td>\n",
       "      <td>[187]</td>\n",
       "      <td>[187]</td>\n",
       "      <td>1</td>\n",
       "      <td>187</td>\n",
       "      <td>1</td>\n",
       "    </tr>\n",
       "    <tr>\n",
       "      <th>1</th>\n",
       "      <td>[True]</td>\n",
       "      <td>True</td>\n",
       "      <td>[1117053060000]</td>\n",
       "      <td>[0]</td>\n",
       "      <td>[2]</td>\n",
       "      <td>[1180149600000]</td>\n",
       "      <td>[28]</td>\n",
       "      <td>[29]</td>\n",
       "      <td>[29]</td>\n",
       "      <td>1</td>\n",
       "      <td>29</td>\n",
       "      <td>2</td>\n",
       "    </tr>\n",
       "    <tr>\n",
       "      <th>2</th>\n",
       "      <td>[False]</td>\n",
       "      <td>False</td>\n",
       "      <td>[1147748940000]</td>\n",
       "      <td>[1]</td>\n",
       "      <td>[4]</td>\n",
       "      <td>[1147748940000]</td>\n",
       "      <td>[1]</td>\n",
       "      <td>[1]</td>\n",
       "      <td>[1]</td>\n",
       "      <td>1</td>\n",
       "      <td>1</td>\n",
       "      <td>4</td>\n",
       "    </tr>\n",
       "    <tr>\n",
       "      <th>3</th>\n",
       "      <td>[True]</td>\n",
       "      <td>True</td>\n",
       "      <td>[1112730300000]</td>\n",
       "      <td>[0]</td>\n",
       "      <td>[6]</td>\n",
       "      <td>[1372436275000]</td>\n",
       "      <td>[16]</td>\n",
       "      <td>[17]</td>\n",
       "      <td>[17]</td>\n",
       "      <td>1</td>\n",
       "      <td>17</td>\n",
       "      <td>6</td>\n",
       "    </tr>\n",
       "    <tr>\n",
       "      <th>4</th>\n",
       "      <td>[True]</td>\n",
       "      <td>True</td>\n",
       "      <td>[1116042900000]</td>\n",
       "      <td>[0]</td>\n",
       "      <td>[10]</td>\n",
       "      <td>[1117635660000]</td>\n",
       "      <td>[14]</td>\n",
       "      <td>[15]</td>\n",
       "      <td>[15]</td>\n",
       "      <td>1</td>\n",
       "      <td>15</td>\n",
       "      <td>12</td>\n",
       "    </tr>\n",
       "  </tbody>\n",
       "</table>\n",
       "</div>"
      ],
      "text/plain": [
       "  is_site_valid_list  is_user_valid site_first_created_update_list  \\\n",
       "0             [True]           True                [1103856900000]   \n",
       "1             [True]           True                [1117053060000]   \n",
       "2            [False]          False                [1147748940000]   \n",
       "3             [True]           True                [1112730300000]   \n",
       "4             [True]           True                [1116042900000]   \n",
       "\n",
       "  site_first_index_update_list site_id_list site_last_created_update_list  \\\n",
       "0                          [0]          [1]               [1261008420000]   \n",
       "1                          [0]          [2]               [1180149600000]   \n",
       "2                          [1]          [4]               [1147748940000]   \n",
       "3                          [0]          [6]               [1372436275000]   \n",
       "4                          [0]         [10]               [1117635660000]   \n",
       "\n",
       "  site_last_index_update_list site_total_update_count_list  \\\n",
       "0                       [186]                        [187]   \n",
       "1                        [28]                         [29]   \n",
       "2                         [1]                          [1]   \n",
       "3                        [16]                         [17]   \n",
       "4                        [14]                         [15]   \n",
       "\n",
       "  site_update_count_list  total_sites  total_updates  user_id  \n",
       "0                  [187]            1            187        1  \n",
       "1                   [29]            1             29        2  \n",
       "2                    [1]            1              1        4  \n",
       "3                   [17]            1             17        6  \n",
       "4                   [15]            1             15       12  "
      ]
     },
     "execution_count": 120,
     "metadata": {},
     "output_type": "execute_result"
    }
   ],
   "source": [
    "# convert list datatypes from strings into actual lists\n",
    "for col in user_info_df.columns:\n",
    "    if \"_list\" in col:\n",
    "        user_info_df[col] = [eval(list_string) for list_string in user_info_df[col]]\n",
    "user_info_df.head()"
   ]
  },
  {
   "cell_type": "code",
   "execution_count": 121,
   "metadata": {},
   "outputs": [
    {
     "data": {
      "text/html": [
       "<div>\n",
       "<style scoped>\n",
       "    .dataframe tbody tr th:only-of-type {\n",
       "        vertical-align: middle;\n",
       "    }\n",
       "\n",
       "    .dataframe tbody tr th {\n",
       "        vertical-align: top;\n",
       "    }\n",
       "\n",
       "    .dataframe thead th {\n",
       "        text-align: right;\n",
       "    }\n",
       "</style>\n",
       "<table border=\"1\" class=\"dataframe\">\n",
       "  <thead>\n",
       "    <tr style=\"text-align: right;\">\n",
       "      <th></th>\n",
       "      <th>is_site_valid_list</th>\n",
       "      <th>is_user_valid</th>\n",
       "      <th>site_first_created_update_list</th>\n",
       "      <th>site_first_index_update_list</th>\n",
       "      <th>site_id_list</th>\n",
       "      <th>site_last_created_update_list</th>\n",
       "      <th>site_last_index_update_list</th>\n",
       "      <th>site_total_update_count_list</th>\n",
       "      <th>site_update_count_list</th>\n",
       "      <th>total_sites</th>\n",
       "      <th>total_updates</th>\n",
       "      <th>user_id</th>\n",
       "    </tr>\n",
       "  </thead>\n",
       "  <tbody>\n",
       "    <tr>\n",
       "      <th>18</th>\n",
       "      <td>[True, True]</td>\n",
       "      <td>True</td>\n",
       "      <td>[1118181660000, 1253925600000]</td>\n",
       "      <td>[1, 0]</td>\n",
       "      <td>[35, 146716]</td>\n",
       "      <td>[1126114607000, 1367687640000]</td>\n",
       "      <td>[32, 85]</td>\n",
       "      <td>[31, 86]</td>\n",
       "      <td>[31, 86]</td>\n",
       "      <td>2</td>\n",
       "      <td>117</td>\n",
       "      <td>37</td>\n",
       "    </tr>\n",
       "    <tr>\n",
       "      <th>21</th>\n",
       "      <td>[True, True, True, True, True]</td>\n",
       "      <td>True</td>\n",
       "      <td>[1119107940000, 1140549180000, 1190039700000, ...</td>\n",
       "      <td>[1, 1, 1, 0, 0]</td>\n",
       "      <td>[40, 10770, 47144, 257096, 543461]</td>\n",
       "      <td>[1121358120000, 1141338480000, 1190400840000, ...</td>\n",
       "      <td>[4, 3, 3, 124, 79]</td>\n",
       "      <td>[4, 3, 2, 124, 80]</td>\n",
       "      <td>[4, 3, 2, 124, 80]</td>\n",
       "      <td>5</td>\n",
       "      <td>213</td>\n",
       "      <td>43</td>\n",
       "    </tr>\n",
       "    <tr>\n",
       "      <th>22</th>\n",
       "      <td>[True, True, True, True, True, True, True, Tru...</td>\n",
       "      <td>True</td>\n",
       "      <td>[1118040300000, 1141856820000, 1303496340000, ...</td>\n",
       "      <td>[2, 1, 2, 0, 0, 9, 1, 0, 0, 0, 0, 0, 3, 0]</td>\n",
       "      <td>[43, 11515, 49388, 346260, 348880, 408716, 412...</td>\n",
       "      <td>[1373581464000, 1141856820000, 1303496340000, ...</td>\n",
       "      <td>[94, 1, 2, 0, 0, 43, 1, 0, 0, 5, 0, 13, 3, 0]</td>\n",
       "      <td>[54, 1, 1, 4, 2, 51, 190, 15, 1, 5, 1, 12, 6, 1]</td>\n",
       "      <td>[54, 1, 1, 1, 1, 2, 1, 1, 1, 5, 1, 12, 1, 1]</td>\n",
       "      <td>14</td>\n",
       "      <td>83</td>\n",
       "      <td>46</td>\n",
       "    </tr>\n",
       "    <tr>\n",
       "      <th>23</th>\n",
       "      <td>[True, True]</td>\n",
       "      <td>True</td>\n",
       "      <td>[1117685820000, 1142563680000]</td>\n",
       "      <td>[0, 1]</td>\n",
       "      <td>[44, 11440]</td>\n",
       "      <td>[1516243703000, 1426001764000]</td>\n",
       "      <td>[417, 152]</td>\n",
       "      <td>[418, 152]</td>\n",
       "      <td>[346, 146]</td>\n",
       "      <td>2</td>\n",
       "      <td>492</td>\n",
       "      <td>47</td>\n",
       "    </tr>\n",
       "    <tr>\n",
       "      <th>24</th>\n",
       "      <td>[True, True, True, True, True, True, True, Tru...</td>\n",
       "      <td>False</td>\n",
       "      <td>[1275396300000, 1281316080000, 1289100900000, ...</td>\n",
       "      <td>[269, 321, 132, 21, 372, 225, 128, 169, 205, 8...</td>\n",
       "      <td>[44, 102, 308, 664, 670, 784, 816, 1160, 1412,...</td>\n",
       "      <td>[1371183600000, 1315972140000, 1352945100000, ...</td>\n",
       "      <td>[411, 456, 154, 51, 790, 737, 269, 1388, 427, ...</td>\n",
       "      <td>[418, 471, 160, 28, 871, 950, 276, 1759, 440, ...</td>\n",
       "      <td>[72, 46, 12, 5, 315, 257, 72, 786, 112, 2, 348...</td>\n",
       "      <td>9824</td>\n",
       "      <td>1093022</td>\n",
       "      <td>0</td>\n",
       "    </tr>\n",
       "  </tbody>\n",
       "</table>\n",
       "</div>"
      ],
      "text/plain": [
       "                                   is_site_valid_list  is_user_valid  \\\n",
       "18                                       [True, True]           True   \n",
       "21                     [True, True, True, True, True]           True   \n",
       "22  [True, True, True, True, True, True, True, Tru...           True   \n",
       "23                                       [True, True]           True   \n",
       "24  [True, True, True, True, True, True, True, Tru...          False   \n",
       "\n",
       "                       site_first_created_update_list  \\\n",
       "18                     [1118181660000, 1253925600000]   \n",
       "21  [1119107940000, 1140549180000, 1190039700000, ...   \n",
       "22  [1118040300000, 1141856820000, 1303496340000, ...   \n",
       "23                     [1117685820000, 1142563680000]   \n",
       "24  [1275396300000, 1281316080000, 1289100900000, ...   \n",
       "\n",
       "                         site_first_index_update_list  \\\n",
       "18                                             [1, 0]   \n",
       "21                                    [1, 1, 1, 0, 0]   \n",
       "22         [2, 1, 2, 0, 0, 9, 1, 0, 0, 0, 0, 0, 3, 0]   \n",
       "23                                             [0, 1]   \n",
       "24  [269, 321, 132, 21, 372, 225, 128, 169, 205, 8...   \n",
       "\n",
       "                                         site_id_list  \\\n",
       "18                                       [35, 146716]   \n",
       "21                 [40, 10770, 47144, 257096, 543461]   \n",
       "22  [43, 11515, 49388, 346260, 348880, 408716, 412...   \n",
       "23                                        [44, 11440]   \n",
       "24  [44, 102, 308, 664, 670, 784, 816, 1160, 1412,...   \n",
       "\n",
       "                        site_last_created_update_list  \\\n",
       "18                     [1126114607000, 1367687640000]   \n",
       "21  [1121358120000, 1141338480000, 1190400840000, ...   \n",
       "22  [1373581464000, 1141856820000, 1303496340000, ...   \n",
       "23                     [1516243703000, 1426001764000]   \n",
       "24  [1371183600000, 1315972140000, 1352945100000, ...   \n",
       "\n",
       "                          site_last_index_update_list  \\\n",
       "18                                           [32, 85]   \n",
       "21                                 [4, 3, 3, 124, 79]   \n",
       "22      [94, 1, 2, 0, 0, 43, 1, 0, 0, 5, 0, 13, 3, 0]   \n",
       "23                                         [417, 152]   \n",
       "24  [411, 456, 154, 51, 790, 737, 269, 1388, 427, ...   \n",
       "\n",
       "                         site_total_update_count_list  \\\n",
       "18                                           [31, 86]   \n",
       "21                                 [4, 3, 2, 124, 80]   \n",
       "22   [54, 1, 1, 4, 2, 51, 190, 15, 1, 5, 1, 12, 6, 1]   \n",
       "23                                         [418, 152]   \n",
       "24  [418, 471, 160, 28, 871, 950, 276, 1759, 440, ...   \n",
       "\n",
       "                               site_update_count_list  total_sites  \\\n",
       "18                                           [31, 86]            2   \n",
       "21                                 [4, 3, 2, 124, 80]            5   \n",
       "22       [54, 1, 1, 1, 1, 2, 1, 1, 1, 5, 1, 12, 1, 1]           14   \n",
       "23                                         [346, 146]            2   \n",
       "24  [72, 46, 12, 5, 315, 257, 72, 786, 112, 2, 348...         9824   \n",
       "\n",
       "    total_updates  user_id  \n",
       "18            117       37  \n",
       "21            213       43  \n",
       "22             83       46  \n",
       "23            492       47  \n",
       "24        1093022        0  "
      ]
     },
     "execution_count": 121,
     "metadata": {},
     "output_type": "execute_result"
    }
   ],
   "source": [
    "user_info_df[user_info_df.total_sites >= 2].head()"
   ]
  },
  {
   "cell_type": "code",
   "execution_count": 132,
   "metadata": {
    "scrolled": false
   },
   "outputs": [
    {
     "data": {
      "text/html": [
       "<div>\n",
       "<style scoped>\n",
       "    .dataframe tbody tr th:only-of-type {\n",
       "        vertical-align: middle;\n",
       "    }\n",
       "\n",
       "    .dataframe tbody tr th {\n",
       "        vertical-align: top;\n",
       "    }\n",
       "\n",
       "    .dataframe thead th {\n",
       "        text-align: right;\n",
       "    }\n",
       "</style>\n",
       "<table border=\"1\" class=\"dataframe\">\n",
       "  <thead>\n",
       "    <tr style=\"text-align: right;\">\n",
       "      <th></th>\n",
       "      <th>is_site_valid_list</th>\n",
       "      <th>is_user_valid</th>\n",
       "      <th>site_first_created_update_list</th>\n",
       "      <th>site_first_index_update_list</th>\n",
       "      <th>site_id_list</th>\n",
       "      <th>site_last_created_update_list</th>\n",
       "      <th>site_last_index_update_list</th>\n",
       "      <th>site_total_update_count_list</th>\n",
       "      <th>site_update_count_list</th>\n",
       "      <th>total_sites</th>\n",
       "      <th>total_updates</th>\n",
       "      <th>user_id</th>\n",
       "    </tr>\n",
       "  </thead>\n",
       "  <tbody>\n",
       "    <tr>\n",
       "      <th>24</th>\n",
       "      <td>[True, True, True, True, True, True, True, Tru...</td>\n",
       "      <td>False</td>\n",
       "      <td>[1275396300000, 1281316080000, 1289100900000, ...</td>\n",
       "      <td>[269, 321, 132, 21, 372, 225, 128, 169, 205, 8...</td>\n",
       "      <td>[44, 102, 308, 664, 670, 784, 816, 1160, 1412,...</td>\n",
       "      <td>[1371183600000, 1315972140000, 1352945100000, ...</td>\n",
       "      <td>[411, 456, 154, 51, 790, 737, 269, 1388, 427, ...</td>\n",
       "      <td>[418, 471, 160, 28, 871, 950, 276, 1759, 440, ...</td>\n",
       "      <td>[72, 46, 12, 5, 315, 257, 72, 786, 112, 2, 348...</td>\n",
       "      <td>9824</td>\n",
       "      <td>1093022</td>\n",
       "      <td>0</td>\n",
       "    </tr>\n",
       "    <tr>\n",
       "      <th>465305</th>\n",
       "      <td>[True, True, True, True, True, True, True, Tru...</td>\n",
       "      <td>True</td>\n",
       "      <td>[1435403223000, 1435582197000, 1435671132000, ...</td>\n",
       "      <td>[0, 0, 0, 0, 0, 0, 0, 0, 0, 0, 0, 0, 0, 0, 0, ...</td>\n",
       "      <td>[1035760, 1036080, 1036305, 1036445, 1036496, ...</td>\n",
       "      <td>[1435403223000, 1435582197000, 1435671132000, ...</td>\n",
       "      <td>[0, 0, 0, 0, 0, 0, 0, 0, 0, 0, 0, 0, 0, 0, 0, ...</td>\n",
       "      <td>[1, 1, 1, 1, 1, 1, 1, 1, 1, 1, 1, 1, 1, 1, 1, ...</td>\n",
       "      <td>[1, 1, 1, 1, 1, 1, 1, 1, 1, 1, 1, 1, 1, 1, 1, ...</td>\n",
       "      <td>138</td>\n",
       "      <td>138</td>\n",
       "      <td>30935592</td>\n",
       "    </tr>\n",
       "    <tr>\n",
       "      <th>475933</th>\n",
       "      <td>[False, False, False, False, False, False, Fal...</td>\n",
       "      <td>False</td>\n",
       "      <td>[1440784353000, 1440784371000, 1440785027000, ...</td>\n",
       "      <td>[0, 0, 0, 0, 0, 0, 0, 0, 0, 0, 0, 0, 0, 0, 0, ...</td>\n",
       "      <td>[1049615, 1049616, 1049617, 1049618, 1049620, ...</td>\n",
       "      <td>[1440784353000, 1440784371000, 1440785027000, ...</td>\n",
       "      <td>[0, 0, 0, 0, 0, 0, 0, 0, 0, 0, 0, 0, 0, 1, 0, ...</td>\n",
       "      <td>[1, 1, 1, 1, 1, 1, 1, 1, 1, 1, 1, 1, 1, 2, 1, ...</td>\n",
       "      <td>[1, 1, 1, 1, 1, 1, 1, 1, 1, 1, 1, 1, 1, 2, 1, ...</td>\n",
       "      <td>345</td>\n",
       "      <td>347</td>\n",
       "      <td>31242219</td>\n",
       "    </tr>\n",
       "    <tr>\n",
       "      <th>516030</th>\n",
       "      <td>[True, True, True, True, True, True, True, Tru...</td>\n",
       "      <td>True</td>\n",
       "      <td>[1457693872000, 1458216609000, 1458380911000, ...</td>\n",
       "      <td>[0, 0, 0, 0, 0, 0, 0, 0, 0, 0, 0, 0, 0, 0, 0, ...</td>\n",
       "      <td>[1105023, 1106759, 1107329, 1107330, 1107331, ...</td>\n",
       "      <td>[1457693872000, 1458216609000, 1458380911000, ...</td>\n",
       "      <td>[0, 0, 0, 0, 0, 0, 0, 0, 0, 0, 0, 0, 0, 0, 0, ...</td>\n",
       "      <td>[1, 1, 1, 1, 1, 1, 1, 1, 1, 1, 1, 1, 1, 1, 1, ...</td>\n",
       "      <td>[1, 1, 1, 1, 1, 1, 1, 1, 1, 1, 1, 1, 1, 1, 1, ...</td>\n",
       "      <td>109</td>\n",
       "      <td>109</td>\n",
       "      <td>32758031</td>\n",
       "    </tr>\n",
       "  </tbody>\n",
       "</table>\n",
       "</div>"
      ],
      "text/plain": [
       "                                       is_site_valid_list  is_user_valid  \\\n",
       "24      [True, True, True, True, True, True, True, Tru...          False   \n",
       "465305  [True, True, True, True, True, True, True, Tru...           True   \n",
       "475933  [False, False, False, False, False, False, Fal...          False   \n",
       "516030  [True, True, True, True, True, True, True, Tru...           True   \n",
       "\n",
       "                           site_first_created_update_list  \\\n",
       "24      [1275396300000, 1281316080000, 1289100900000, ...   \n",
       "465305  [1435403223000, 1435582197000, 1435671132000, ...   \n",
       "475933  [1440784353000, 1440784371000, 1440785027000, ...   \n",
       "516030  [1457693872000, 1458216609000, 1458380911000, ...   \n",
       "\n",
       "                             site_first_index_update_list  \\\n",
       "24      [269, 321, 132, 21, 372, 225, 128, 169, 205, 8...   \n",
       "465305  [0, 0, 0, 0, 0, 0, 0, 0, 0, 0, 0, 0, 0, 0, 0, ...   \n",
       "475933  [0, 0, 0, 0, 0, 0, 0, 0, 0, 0, 0, 0, 0, 0, 0, ...   \n",
       "516030  [0, 0, 0, 0, 0, 0, 0, 0, 0, 0, 0, 0, 0, 0, 0, ...   \n",
       "\n",
       "                                             site_id_list  \\\n",
       "24      [44, 102, 308, 664, 670, 784, 816, 1160, 1412,...   \n",
       "465305  [1035760, 1036080, 1036305, 1036445, 1036496, ...   \n",
       "475933  [1049615, 1049616, 1049617, 1049618, 1049620, ...   \n",
       "516030  [1105023, 1106759, 1107329, 1107330, 1107331, ...   \n",
       "\n",
       "                            site_last_created_update_list  \\\n",
       "24      [1371183600000, 1315972140000, 1352945100000, ...   \n",
       "465305  [1435403223000, 1435582197000, 1435671132000, ...   \n",
       "475933  [1440784353000, 1440784371000, 1440785027000, ...   \n",
       "516030  [1457693872000, 1458216609000, 1458380911000, ...   \n",
       "\n",
       "                              site_last_index_update_list  \\\n",
       "24      [411, 456, 154, 51, 790, 737, 269, 1388, 427, ...   \n",
       "465305  [0, 0, 0, 0, 0, 0, 0, 0, 0, 0, 0, 0, 0, 0, 0, ...   \n",
       "475933  [0, 0, 0, 0, 0, 0, 0, 0, 0, 0, 0, 0, 0, 1, 0, ...   \n",
       "516030  [0, 0, 0, 0, 0, 0, 0, 0, 0, 0, 0, 0, 0, 0, 0, ...   \n",
       "\n",
       "                             site_total_update_count_list  \\\n",
       "24      [418, 471, 160, 28, 871, 950, 276, 1759, 440, ...   \n",
       "465305  [1, 1, 1, 1, 1, 1, 1, 1, 1, 1, 1, 1, 1, 1, 1, ...   \n",
       "475933  [1, 1, 1, 1, 1, 1, 1, 1, 1, 1, 1, 1, 1, 2, 1, ...   \n",
       "516030  [1, 1, 1, 1, 1, 1, 1, 1, 1, 1, 1, 1, 1, 1, 1, ...   \n",
       "\n",
       "                                   site_update_count_list  total_sites  \\\n",
       "24      [72, 46, 12, 5, 315, 257, 72, 786, 112, 2, 348...         9824   \n",
       "465305  [1, 1, 1, 1, 1, 1, 1, 1, 1, 1, 1, 1, 1, 1, 1, ...          138   \n",
       "475933  [1, 1, 1, 1, 1, 1, 1, 1, 1, 1, 1, 1, 1, 2, 1, ...          345   \n",
       "516030  [1, 1, 1, 1, 1, 1, 1, 1, 1, 1, 1, 1, 1, 1, 1, ...          109   \n",
       "\n",
       "        total_updates   user_id  \n",
       "24            1093022         0  \n",
       "465305            138  30935592  \n",
       "475933            347  31242219  \n",
       "516030            109  32758031  "
      ]
     },
     "execution_count": 132,
     "metadata": {},
     "output_type": "execute_result"
    }
   ],
   "source": [
    "# these are all spam users....\n",
    "user_info_df[user_info_df.total_sites >= 100]"
   ]
  },
  {
   "cell_type": "code",
   "execution_count": 134,
   "metadata": {},
   "outputs": [
    {
     "data": {
      "text/html": [
       "<div>\n",
       "<style scoped>\n",
       "    .dataframe tbody tr th:only-of-type {\n",
       "        vertical-align: middle;\n",
       "    }\n",
       "\n",
       "    .dataframe tbody tr th {\n",
       "        vertical-align: top;\n",
       "    }\n",
       "\n",
       "    .dataframe thead th {\n",
       "        text-align: right;\n",
       "    }\n",
       "</style>\n",
       "<table border=\"1\" class=\"dataframe\">\n",
       "  <thead>\n",
       "    <tr style=\"text-align: right;\">\n",
       "      <th></th>\n",
       "      <th>is_site_valid_list</th>\n",
       "      <th>is_user_valid</th>\n",
       "      <th>site_first_created_update_list</th>\n",
       "      <th>site_first_index_update_list</th>\n",
       "      <th>site_id_list</th>\n",
       "      <th>site_last_created_update_list</th>\n",
       "      <th>site_last_index_update_list</th>\n",
       "      <th>site_total_update_count_list</th>\n",
       "      <th>site_update_count_list</th>\n",
       "      <th>total_sites</th>\n",
       "      <th>total_updates</th>\n",
       "      <th>user_id</th>\n",
       "    </tr>\n",
       "  </thead>\n",
       "  <tbody>\n",
       "    <tr>\n",
       "      <th>21</th>\n",
       "      <td>[True, True, True, True, True]</td>\n",
       "      <td>True</td>\n",
       "      <td>[1119107940000, 1140549180000, 1190039700000, ...</td>\n",
       "      <td>[1, 1, 1, 0, 0]</td>\n",
       "      <td>[40, 10770, 47144, 257096, 543461]</td>\n",
       "      <td>[1121358120000, 1141338480000, 1190400840000, ...</td>\n",
       "      <td>[4, 3, 3, 124, 79]</td>\n",
       "      <td>[4, 3, 2, 124, 80]</td>\n",
       "      <td>[4, 3, 2, 124, 80]</td>\n",
       "      <td>5</td>\n",
       "      <td>213</td>\n",
       "      <td>43</td>\n",
       "    </tr>\n",
       "    <tr>\n",
       "      <th>115</th>\n",
       "      <td>[True, True, True, True, True]</td>\n",
       "      <td>True</td>\n",
       "      <td>[1118789940000, 1238250930000, 1342192962000, ...</td>\n",
       "      <td>[2, 1, 5, 0, 38]</td>\n",
       "      <td>[220, 38977, 559205, 836884, 838575]</td>\n",
       "      <td>[1466546759000, 1282059960000, 1343259060000, ...</td>\n",
       "      <td>[136, 8, 23, 13, 38]</td>\n",
       "      <td>[56, 2, 58, 10, 28]</td>\n",
       "      <td>[56, 2, 9, 10, 1]</td>\n",
       "      <td>5</td>\n",
       "      <td>78</td>\n",
       "      <td>594</td>\n",
       "    </tr>\n",
       "    <tr>\n",
       "      <th>3843</th>\n",
       "      <td>[True, True, True, True, True]</td>\n",
       "      <td>True</td>\n",
       "      <td>[1129821796000, 1135140900000, 1182480720000, ...</td>\n",
       "      <td>[1, 1, 1, 20, 0]</td>\n",
       "      <td>[5664, 7704, 39490, 446544, 1033468]</td>\n",
       "      <td>[1137633120000, 1137048180000, 1183344240000, ...</td>\n",
       "      <td>[83, 6, 3, 192, 25]</td>\n",
       "      <td>[83, 6, 3, 194, 24]</td>\n",
       "      <td>[83, 6, 3, 54, 23]</td>\n",
       "      <td>5</td>\n",
       "      <td>169</td>\n",
       "      <td>173825</td>\n",
       "    </tr>\n",
       "    <tr>\n",
       "      <th>7751</th>\n",
       "      <td>[True, True, True, True, True]</td>\n",
       "      <td>True</td>\n",
       "      <td>[1128327180000, 1128324480000, 1246371300000, ...</td>\n",
       "      <td>[0, 0, 0, 0, 0]</td>\n",
       "      <td>[11274, 59957, 135808, 644241, 709459]</td>\n",
       "      <td>[1358934300000, 1203603240000, 1254312480000, ...</td>\n",
       "      <td>[453, 16, 17, 45, 8]</td>\n",
       "      <td>[453, 16, 18, 46, 9]</td>\n",
       "      <td>[453, 16, 18, 46, 9]</td>\n",
       "      <td>5</td>\n",
       "      <td>542</td>\n",
       "      <td>424462</td>\n",
       "    </tr>\n",
       "    <tr>\n",
       "      <th>9474</th>\n",
       "      <td>[True, True, True, True, True]</td>\n",
       "      <td>True</td>\n",
       "      <td>[1145923320000, 1145976420000, 1146794820000, ...</td>\n",
       "      <td>[0, 1, 0, 1, 0]</td>\n",
       "      <td>[13738, 13741, 14296, 16868, 16869]</td>\n",
       "      <td>[1146792000000, 1153412220000, 1153411860000, ...</td>\n",
       "      <td>[9, 21, 21, 3, 3]</td>\n",
       "      <td>[9, 21, 21, 3, 3]</td>\n",
       "      <td>[9, 21, 21, 3, 3]</td>\n",
       "      <td>5</td>\n",
       "      <td>57</td>\n",
       "      <td>540635</td>\n",
       "    </tr>\n",
       "  </tbody>\n",
       "</table>\n",
       "</div>"
      ],
      "text/plain": [
       "                  is_site_valid_list  is_user_valid  \\\n",
       "21    [True, True, True, True, True]           True   \n",
       "115   [True, True, True, True, True]           True   \n",
       "3843  [True, True, True, True, True]           True   \n",
       "7751  [True, True, True, True, True]           True   \n",
       "9474  [True, True, True, True, True]           True   \n",
       "\n",
       "                         site_first_created_update_list  \\\n",
       "21    [1119107940000, 1140549180000, 1190039700000, ...   \n",
       "115   [1118789940000, 1238250930000, 1342192962000, ...   \n",
       "3843  [1129821796000, 1135140900000, 1182480720000, ...   \n",
       "7751  [1128327180000, 1128324480000, 1246371300000, ...   \n",
       "9474  [1145923320000, 1145976420000, 1146794820000, ...   \n",
       "\n",
       "     site_first_index_update_list                            site_id_list  \\\n",
       "21                [1, 1, 1, 0, 0]      [40, 10770, 47144, 257096, 543461]   \n",
       "115              [2, 1, 5, 0, 38]    [220, 38977, 559205, 836884, 838575]   \n",
       "3843             [1, 1, 1, 20, 0]    [5664, 7704, 39490, 446544, 1033468]   \n",
       "7751              [0, 0, 0, 0, 0]  [11274, 59957, 135808, 644241, 709459]   \n",
       "9474              [0, 1, 0, 1, 0]     [13738, 13741, 14296, 16868, 16869]   \n",
       "\n",
       "                          site_last_created_update_list  \\\n",
       "21    [1121358120000, 1141338480000, 1190400840000, ...   \n",
       "115   [1466546759000, 1282059960000, 1343259060000, ...   \n",
       "3843  [1137633120000, 1137048180000, 1183344240000, ...   \n",
       "7751  [1358934300000, 1203603240000, 1254312480000, ...   \n",
       "9474  [1146792000000, 1153412220000, 1153411860000, ...   \n",
       "\n",
       "     site_last_index_update_list site_total_update_count_list  \\\n",
       "21            [4, 3, 3, 124, 79]           [4, 3, 2, 124, 80]   \n",
       "115         [136, 8, 23, 13, 38]          [56, 2, 58, 10, 28]   \n",
       "3843         [83, 6, 3, 192, 25]          [83, 6, 3, 194, 24]   \n",
       "7751        [453, 16, 17, 45, 8]         [453, 16, 18, 46, 9]   \n",
       "9474           [9, 21, 21, 3, 3]            [9, 21, 21, 3, 3]   \n",
       "\n",
       "     site_update_count_list  total_sites  total_updates  user_id  \n",
       "21       [4, 3, 2, 124, 80]            5            213       43  \n",
       "115       [56, 2, 9, 10, 1]            5             78      594  \n",
       "3843     [83, 6, 3, 54, 23]            5            169   173825  \n",
       "7751   [453, 16, 18, 46, 9]            5            542   424462  \n",
       "9474      [9, 21, 21, 3, 3]            5             57   540635  "
      ]
     },
     "execution_count": 134,
     "metadata": {},
     "output_type": "execute_result"
    }
   ],
   "source": [
    "user_info_df[user_info_df.total_sites == 5].head()"
   ]
  },
  {
   "cell_type": "markdown",
   "metadata": {},
   "source": [
    "### Journal site_id analysis\n",
    "\n",
    "How many journals are potentially excluded from analysis due to a lack of site-level metadata?"
   ]
  },
  {
   "cell_type": "code",
   "execution_count": null,
   "metadata": {},
   "outputs": [],
   "source": []
  },
  {
   "cell_type": "markdown",
   "metadata": {},
   "source": [
    "### Interactions\n",
    "\n",
    "Filter the interactions to include only these where both the from and to user are valid."
   ]
  },
  {
   "cell_type": "code",
   "execution_count": 41,
   "metadata": {},
   "outputs": [
    {
     "name": "stderr",
     "output_type": "stream",
     "text": [
      "100%|██████████| 179416668/179416668 [07:58<00:00, 374615.90it/s]\n"
     ]
    },
    {
     "data": {
      "text/plain": [
       "259952"
      ]
     },
     "execution_count": 41,
     "metadata": {},
     "output_type": "execute_result"
    }
   ],
   "source": [
    "ints_filepath = \"/home/srivbane/shared/caringbridge/data/projects/sna-social-support/csv_data/ints.csv\"\n",
    "new_ints_filepath = os.path.join(working_dir, \"ints_valid_users.csv\")\n",
    "\n",
    "lines_written = 0\n",
    "from_valid_only_count = 0\n",
    "to_valid_only_count = 0\n",
    "neither_valid = 0\n",
    "skipped_lines = 0\n",
    "\n",
    "with open(ints_filepath, 'r') as infile:\n",
    "    with open(new_ints_filepath, 'w') as outfile:\n",
    "        header = \"from_user_id,to_user_id,site_id,interaction_type,created_at\\n\"\n",
    "        outfile.write(header)\n",
    "        for line in tqdm(infile, total=179416668):\n",
    "            if line.strip() == \"\" or line.startswith(\"from_userId\"):\n",
    "                skipped_lines += 1\n",
    "                continue\n",
    "            from_user_id, to_user_id, site_id, interaction_type, created_at = line.strip().split(\",\")\n",
    "            from_user_id = int(from_user_id)\n",
    "            to_user_id = int(to_user_id)\n",
    "            from_valid = from_user_id in valid_users\n",
    "            to_valid = to_user_id in valid_users\n",
    "            if from_valid and to_valid:\n",
    "                outfile.write(line)\n",
    "                lines_written += 1\n",
    "            elif from_valid and not to_valid:\n",
    "                from_valid_only_count += 1\n",
    "            elif not from_valid and to_valid:\n",
    "                to_valid_only_count += 1\n",
    "            else:\n",
    "                neither_valid += 1\n",
    "lines_written"
   ]
  },
  {
   "cell_type": "code",
   "execution_count": 42,
   "metadata": {},
   "outputs": [
    {
     "data": {
      "text/plain": [
       "(259952, 11465161, 3409919, 164281634, 2)"
      ]
     },
     "execution_count": 42,
     "metadata": {},
     "output_type": "execute_result"
    }
   ],
   "source": [
    "lines_written, \\\n",
    "from_valid_only_count, \\\n",
    "to_valid_only_count, \\\n",
    "neither_valid, \\\n",
    "skipped_lines"
   ]
  },
  {
   "cell_type": "code",
   "execution_count": 43,
   "metadata": {},
   "outputs": [
    {
     "data": {
      "text/plain": [
       "259952"
      ]
     },
     "execution_count": 43,
     "metadata": {},
     "output_type": "execute_result"
    }
   ],
   "source": [
    "ints_df = pd.read_csv(new_ints_filepath)\n",
    "len(ints_df)"
   ]
  },
  {
   "cell_type": "code",
   "execution_count": 44,
   "metadata": {},
   "outputs": [
    {
     "data": {
      "text/html": [
       "<div>\n",
       "<style scoped>\n",
       "    .dataframe tbody tr th:only-of-type {\n",
       "        vertical-align: middle;\n",
       "    }\n",
       "\n",
       "    .dataframe tbody tr th {\n",
       "        vertical-align: top;\n",
       "    }\n",
       "\n",
       "    .dataframe thead th {\n",
       "        text-align: right;\n",
       "    }\n",
       "</style>\n",
       "<table border=\"1\" class=\"dataframe\">\n",
       "  <thead>\n",
       "    <tr style=\"text-align: right;\">\n",
       "      <th></th>\n",
       "      <th>from_user_id</th>\n",
       "      <th>to_user_id</th>\n",
       "      <th>site_id</th>\n",
       "      <th>interaction_type</th>\n",
       "      <th>created_at</th>\n",
       "    </tr>\n",
       "  </thead>\n",
       "  <tbody>\n",
       "    <tr>\n",
       "      <th>0</th>\n",
       "      <td>2</td>\n",
       "      <td>2</td>\n",
       "      <td>2</td>\n",
       "      <td>guestbook</td>\n",
       "      <td>1117608630000</td>\n",
       "    </tr>\n",
       "    <tr>\n",
       "      <th>1</th>\n",
       "      <td>2</td>\n",
       "      <td>2</td>\n",
       "      <td>2</td>\n",
       "      <td>guestbook</td>\n",
       "      <td>1117608738000</td>\n",
       "    </tr>\n",
       "    <tr>\n",
       "      <th>2</th>\n",
       "      <td>2</td>\n",
       "      <td>2</td>\n",
       "      <td>2</td>\n",
       "      <td>guestbook</td>\n",
       "      <td>1117608791000</td>\n",
       "    </tr>\n",
       "    <tr>\n",
       "      <th>3</th>\n",
       "      <td>2</td>\n",
       "      <td>2</td>\n",
       "      <td>2</td>\n",
       "      <td>guestbook</td>\n",
       "      <td>1117608849000</td>\n",
       "    </tr>\n",
       "    <tr>\n",
       "      <th>4</th>\n",
       "      <td>2</td>\n",
       "      <td>2</td>\n",
       "      <td>2</td>\n",
       "      <td>guestbook</td>\n",
       "      <td>1117608995000</td>\n",
       "    </tr>\n",
       "  </tbody>\n",
       "</table>\n",
       "</div>"
      ],
      "text/plain": [
       "   from_user_id  to_user_id  site_id interaction_type     created_at\n",
       "0             2           2        2        guestbook  1117608630000\n",
       "1             2           2        2        guestbook  1117608738000\n",
       "2             2           2        2        guestbook  1117608791000\n",
       "3             2           2        2        guestbook  1117608849000\n",
       "4             2           2        2        guestbook  1117608995000"
      ]
     },
     "execution_count": 44,
     "metadata": {},
     "output_type": "execute_result"
    }
   ],
   "source": [
    "ints_df.head()"
   ]
  },
  {
   "cell_type": "code",
   "execution_count": 45,
   "metadata": {},
   "outputs": [
    {
     "data": {
      "text/html": [
       "<div>\n",
       "<style scoped>\n",
       "    .dataframe tbody tr th:only-of-type {\n",
       "        vertical-align: middle;\n",
       "    }\n",
       "\n",
       "    .dataframe tbody tr th {\n",
       "        vertical-align: top;\n",
       "    }\n",
       "\n",
       "    .dataframe thead th {\n",
       "        text-align: right;\n",
       "    }\n",
       "</style>\n",
       "<table border=\"1\" class=\"dataframe\">\n",
       "  <thead>\n",
       "    <tr style=\"text-align: right;\">\n",
       "      <th></th>\n",
       "      <th>from_user_id</th>\n",
       "      <th>to_user_id</th>\n",
       "      <th>site_id</th>\n",
       "      <th>interaction_type</th>\n",
       "      <th>created_at</th>\n",
       "    </tr>\n",
       "  </thead>\n",
       "  <tbody>\n",
       "    <tr>\n",
       "      <th>551</th>\n",
       "      <td>594</td>\n",
       "      <td>838575</td>\n",
       "      <td>13896060</td>\n",
       "      <td>reply</td>\n",
       "      <td>1409079318000</td>\n",
       "    </tr>\n",
       "    <tr>\n",
       "      <th>552</th>\n",
       "      <td>594</td>\n",
       "      <td>838575</td>\n",
       "      <td>13896060</td>\n",
       "      <td>reply</td>\n",
       "      <td>1414524658000</td>\n",
       "    </tr>\n",
       "    <tr>\n",
       "      <th>553</th>\n",
       "      <td>594</td>\n",
       "      <td>838575</td>\n",
       "      <td>13896060</td>\n",
       "      <td>reply</td>\n",
       "      <td>1460650358000</td>\n",
       "    </tr>\n",
       "    <tr>\n",
       "      <th>649</th>\n",
       "      <td>1531</td>\n",
       "      <td>1024562</td>\n",
       "      <td>30853624</td>\n",
       "      <td>reply</td>\n",
       "      <td>1439085218000</td>\n",
       "    </tr>\n",
       "    <tr>\n",
       "      <th>650</th>\n",
       "      <td>1531</td>\n",
       "      <td>1024562</td>\n",
       "      <td>30853624</td>\n",
       "      <td>reply</td>\n",
       "      <td>1446831197000</td>\n",
       "    </tr>\n",
       "  </tbody>\n",
       "</table>\n",
       "</div>"
      ],
      "text/plain": [
       "     from_user_id  to_user_id   site_id interaction_type     created_at\n",
       "551           594      838575  13896060            reply  1409079318000\n",
       "552           594      838575  13896060            reply  1414524658000\n",
       "553           594      838575  13896060            reply  1460650358000\n",
       "649          1531     1024562  30853624            reply  1439085218000\n",
       "650          1531     1024562  30853624            reply  1446831197000"
      ]
     },
     "execution_count": 45,
     "metadata": {},
     "output_type": "execute_result"
    }
   ],
   "source": [
    "ints_df[ints_df.interaction_type == 'reply'].head()"
   ]
  },
  {
   "cell_type": "code",
   "execution_count": 46,
   "metadata": {},
   "outputs": [
    {
     "data": {
      "text/plain": [
       "[('guestbook', 194359), ('amps', 52597), ('reply', 12996)]"
      ]
     },
     "execution_count": 46,
     "metadata": {},
     "output_type": "execute_result"
    }
   ],
   "source": [
    "Counter(ints_df.interaction_type).most_common()"
   ]
  },
  {
   "cell_type": "code",
   "execution_count": 47,
   "metadata": {},
   "outputs": [
    {
     "data": {
      "text/plain": [
       "20495"
      ]
     },
     "execution_count": 47,
     "metadata": {},
     "output_type": "execute_result"
    }
   ],
   "source": [
    "interacting_users = set(ints_df.from_user_id) | set(ints_df.to_user_id)\n",
    "len(interacting_users)"
   ]
  },
  {
   "cell_type": "code",
   "execution_count": 48,
   "metadata": {},
   "outputs": [
    {
     "data": {
      "text/plain": [
       "'5.81% (20495) of 352811 CB authors experienced an interaction with another author.'"
      ]
     },
     "execution_count": 48,
     "metadata": {},
     "output_type": "execute_result"
    }
   ],
   "source": [
    "f\"{len(interacting_users) / len(valid_users)*100:.2f}% ({len(interacting_users)}) of {len(valid_users)} CB authors experienced an interaction with another author.\""
   ]
  },
  {
   "cell_type": "code",
   "execution_count": 49,
   "metadata": {},
   "outputs": [],
   "source": [
    "dyadic_ints = [str(tup) for tup in zip(ints_df.from_user_id, ints_df.to_user_id)]\n",
    "dyadic_int_counter = Counter(dyadic_ints)"
   ]
  },
  {
   "cell_type": "code",
   "execution_count": 50,
   "metadata": {},
   "outputs": [
    {
     "data": {
      "text/plain": [
       "20907"
      ]
     },
     "execution_count": 50,
     "metadata": {},
     "output_type": "execute_result"
    }
   ],
   "source": [
    "len(dyadic_int_counter)"
   ]
  },
  {
   "cell_type": "code",
   "execution_count": 51,
   "metadata": {},
   "outputs": [
    {
     "data": {
      "text/plain": [
       "[('(1229456, 27238)', 2334),\n",
       " ('(3462502, 624773)', 2086),\n",
       " ('(2567480, 27238)', 1995),\n",
       " ('(12517310, 624773)', 1946),\n",
       " ('(25721093, 719637)', 1912),\n",
       " ('(15515585, 27238)', 1584),\n",
       " ('(3321778, 72770)', 1413),\n",
       " ('(1158801, 27238)', 1224),\n",
       " ('(836523, 20317)', 1213),\n",
       " ('(1328705, 47390)', 1157)]"
      ]
     },
     "execution_count": 51,
     "metadata": {},
     "output_type": "execute_result"
    }
   ],
   "source": [
    "dyadic_int_counter.most_common(10)"
   ]
  },
  {
   "cell_type": "code",
   "execution_count": 52,
   "metadata": {},
   "outputs": [
    {
     "data": {
      "image/png": "[encoded data removed]",
      "text/plain": [
       "<Figure size 432x288 with 1 Axes>"
      ]
     },
     "metadata": {
      "needs_background": "light"
     },
     "output_type": "display_data"
    }
   ],
   "source": [
    "plt.hist(dyadic_int_counter.values(), log=True, bins=50)\n",
    "plt.title(\"Distribution of dyadic interaction length\")\n",
    "plt.xlabel(\"Dyadic interaction length\")\n",
    "plt.ylabel(\"Number of dyads\")\n",
    "plt.show()"
   ]
  },
  {
   "cell_type": "code",
   "execution_count": 53,
   "metadata": {},
   "outputs": [
    {
     "data": {
      "text/plain": [
       "0.22609652269574784"
      ]
     },
     "execution_count": 53,
     "metadata": {},
     "output_type": "execute_result"
    }
   ],
   "source": [
    "np.sum(np.array(list(dyadic_int_counter.values())) >= 10) / len(dyadic_int_counter)"
   ]
  },
  {
   "cell_type": "code",
   "execution_count": 54,
   "metadata": {},
   "outputs": [
    {
     "data": {
      "text/plain": [
       "0.6964652987037834"
      ]
     },
     "execution_count": 54,
     "metadata": {},
     "output_type": "execute_result"
    }
   ],
   "source": [
    "np.sum(np.array(list(dyadic_int_counter.values())) >= 2) / len(dyadic_int_counter)"
   ]
  },
  {
   "cell_type": "code",
   "execution_count": 55,
   "metadata": {},
   "outputs": [
    {
     "data": {
      "text/plain": [
       "(12.433730329554695, 3.0)"
      ]
     },
     "execution_count": 55,
     "metadata": {},
     "output_type": "execute_result"
    }
   ],
   "source": [
    "np.mean(np.array(list(dyadic_int_counter.values()))), np.median(np.array(list(dyadic_int_counter.values())))"
   ]
  },
  {
   "cell_type": "code",
   "execution_count": 56,
   "metadata": {},
   "outputs": [
    {
     "data": {
      "text/plain": [
       "False"
      ]
     },
     "execution_count": 56,
     "metadata": {},
     "output_type": "execute_result"
    }
   ],
   "source": [
    "13896060 in set(site_df.site_id)"
   ]
  },
  {
   "cell_type": "code",
   "execution_count": 57,
   "metadata": {},
   "outputs": [
    {
     "data": {
      "text/plain": [
       "12663744"
      ]
     },
     "execution_count": 57,
     "metadata": {},
     "output_type": "execute_result"
    }
   ],
   "source": [
    "journal_subset = journal_df[journal_df.site_id.isin(valid_site_ids)][['site_id', 'journal_oid', 'user_id', 'site_index', 'created_at']]\n",
    "len(journal_subset)"
   ]
  },
  {
   "cell_type": "code",
   "execution_count": 58,
   "metadata": {},
   "outputs": [
    {
     "data": {
      "text/plain": [
       "0.8461008121703079"
      ]
     },
     "execution_count": 58,
     "metadata": {},
     "output_type": "execute_result"
    }
   ],
   "source": [
    "len(journal_subset) / len(journal_df)"
   ]
  },
  {
   "cell_type": "code",
   "execution_count": 59,
   "metadata": {},
   "outputs": [
    {
     "name": "stdout",
     "output_type": "stream",
     "text": [
      "Finished.\n"
     ]
    }
   ],
   "source": [
    "journal_subset_filepath = os.path.join(working_dir, 'filtered_journal_updates.csv')\n",
    "journal_subset.to_csv(journal_subset_filepath, index=False)\n",
    "print(\"Finished.\")"
   ]
  },
  {
   "cell_type": "code",
   "execution_count": null,
   "metadata": {},
   "outputs": [],
   "source": []
  }
 ],
 "metadata": {
  "kernelspec": {
   "display_name": "Python (shared-conda)",
   "language": "python",
   "name": "shared-conda"
  },
  "language_info": {
   "codemirror_mode": {
    "name": "ipython",
    "version": 3
   },
   "file_extension": ".py",
   "mimetype": "text/x-python",
   "name": "python",
   "nbconvert_exporter": "python",
   "pygments_lexer": "ipython3",
   "version": "3.7.3"
  }
 },
 "nbformat": 4,
 "nbformat_minor": 2
}
