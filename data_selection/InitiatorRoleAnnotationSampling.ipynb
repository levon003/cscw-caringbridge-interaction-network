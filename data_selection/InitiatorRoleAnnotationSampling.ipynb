{
 "cells": [
  {
   "cell_type": "markdown",
   "metadata": {},
   "source": [
    "Initiator Role Annotation Sampling\n",
    "===\n",
    "\n",
    "Generates set of initiations to annotate."
   ]
  },
  {
   "cell_type": "code",
   "execution_count": 1,
   "metadata": {},
   "outputs": [],
   "source": [
    "%reload_ext autoreload\n",
    "%autoreload 2\n",
    "%matplotlib inline"
   ]
  },
  {
   "cell_type": "code",
   "execution_count": 2,
   "metadata": {},
   "outputs": [],
   "source": [
    "import os\n",
    "import re\n",
    "import pandas as pd\n",
    "import numpy as np\n",
    "\n",
    "from collections import Counter\n",
    "import sqlite3\n",
    "from tqdm import tqdm\n",
    "import random\n",
    "import pickle\n",
    "from datetime import datetime\n",
    "\n",
    "import matplotlib.pyplot as plt\n",
    "import matplotlib.dates as md\n",
    "import matplotlib\n",
    "import pylab as pl\n",
    "from IPython.core.display import display, HTML"
   ]
  },
  {
   "cell_type": "code",
   "execution_count": 3,
   "metadata": {},
   "outputs": [],
   "source": [
    "working_dir = \"/home/lana/shared/caringbridge/data/projects/sna-social-support/data_selection\""
   ]
  },
  {
   "cell_type": "code",
   "execution_count": 4,
   "metadata": {},
   "outputs": [
    {
     "data": {
      "text/plain": [
       "28388948"
      ]
     },
     "execution_count": 4,
     "metadata": {},
     "output_type": "execute_result"
    }
   ],
   "source": [
    "metadata_dir = \"/home/lana/shared/caringbridge/data/projects/sna-social-support/user_metadata\"\n",
    "author_to_site = os.path.join(metadata_dir, \"interaction_metadata.h5\")\n",
    "df = pd.read_hdf(author_to_site)\n",
    "len(df)"
   ]
  },
  {
   "cell_type": "code",
   "execution_count": 5,
   "metadata": {},
   "outputs": [],
   "source": [
    "start_date = datetime.fromisoformat('2005-01-01')\n",
    "start_timestamp = int(start_date.timestamp() * 1000)\n",
    "end_date = datetime.fromisoformat('2016-06-01')\n",
    "end_timestamp = int(end_date.timestamp() * 1000)\n",
    "subset_start_date = datetime.fromisoformat('2014-01-01')\n",
    "subset_start_timestamp = int(subset_start_date.timestamp() * 1000)"
   ]
  },
  {
   "cell_type": "code",
   "execution_count": 6,
   "metadata": {},
   "outputs": [
    {
     "data": {
      "text/plain": [
       "362345"
      ]
     },
     "execution_count": 6,
     "metadata": {},
     "output_type": "execute_result"
    }
   ],
   "source": [
    "# load the list of valid users\n",
    "data_selection_working_dir = \"/home/lana/shared/caringbridge/data/projects/sna-social-support/data_selection\"\n",
    "valid_user_ids = set()\n",
    "with open(os.path.join(data_selection_working_dir, \"valid_user_ids.txt\"), 'r') as infile:\n",
    "    for line in infile:\n",
    "        user_id = line.strip()\n",
    "        if user_id == \"\":\n",
    "            continue\n",
    "        else:\n",
    "            valid_user_ids.add(int(user_id))\n",
    "len(valid_user_ids)"
   ]
  },
  {
   "cell_type": "code",
   "execution_count": 7,
   "metadata": {},
   "outputs": [
    {
     "data": {
      "text/plain": [
       "411269"
      ]
     },
     "execution_count": 7,
     "metadata": {},
     "output_type": "execute_result"
    }
   ],
   "source": [
    "# load the list of valid sites\n",
    "data_selection_working_dir = \"/home/lana/shared/caringbridge/data/projects/sna-social-support/data_selection\"\n",
    "valid_site_ids = set()\n",
    "with open(os.path.join(data_selection_working_dir, \"valid_site_ids.txt\"), 'r') as infile:\n",
    "    for line in infile:\n",
    "        site_id = line.strip()\n",
    "        if site_id == \"\":\n",
    "            continue\n",
    "        else:\n",
    "            valid_site_ids.add(int(site_id))\n",
    "len(valid_site_ids)"
   ]
  },
  {
   "cell_type": "code",
   "execution_count": 8,
   "metadata": {},
   "outputs": [
    {
     "name": "stderr",
     "output_type": "stream",
     "text": [
      "/home/srivbane/shared/anaconda3/lib/python3.7/site-packages/pandas/core/indexing.py:494: SettingWithCopyWarning: \n",
      "A value is trying to be set on a copy of a slice from a DataFrame.\n",
      "Try using .loc[row_indexer,col_indexer] = value instead\n",
      "\n",
      "See the caveats in the documentation: http://pandas.pydata.org/pandas-docs/stable/user_guide/indexing.html#returning-a-view-versus-a-copy\n",
      "  self.obj[item] = s\n"
     ]
    },
    {
     "data": {
      "text/plain": [
       "44"
      ]
     },
     "execution_count": 8,
     "metadata": {},
     "output_type": "execute_result"
    }
   ],
   "source": [
    "journals = df[df.int_type==\"journal\"]\n",
    "invalid_created_at = journals.created_at <= 0\n",
    "journals.loc[invalid_created_at, 'created_at'] = journals.loc[invalid_created_at, 'updated_at']\n",
    "len(journals[invalid_created_at])"
   ]
  },
  {
   "cell_type": "code",
   "execution_count": 9,
   "metadata": {},
   "outputs": [
    {
     "data": {
      "text/plain": [
       "9131110"
      ]
     },
     "execution_count": 9,
     "metadata": {},
     "output_type": "execute_result"
    }
   ],
   "source": [
    "ints = df[(df.user_id.isin(valid_user_ids)) & (df.int_type != \"journal\") & (~df.is_self_interaction)]\n",
    "len(ints)"
   ]
  },
  {
   "cell_type": "code",
   "execution_count": 10,
   "metadata": {},
   "outputs": [
    {
     "data": {
      "text/plain": [
       "914296"
      ]
     },
     "execution_count": 10,
     "metadata": {},
     "output_type": "execute_result"
    }
   ],
   "source": [
    "initiations = ints.sort_values(by='created_at', ascending=True).drop_duplicates(subset=['user_id', 'site_id'], keep='first')\n",
    "len(initiations)"
   ]
  },
  {
   "cell_type": "code",
   "execution_count": 11,
   "metadata": {},
   "outputs": [],
   "source": [
    "# figure out if the initiating user was already an author at this time\n",
    "journals_subset = journals[journals.created_at >= start_timestamp]\n",
    "first_update = journals_subset.sort_values(by='created_at', ascending=True).drop_duplicates(subset='user_id', keep='first')\n",
    "user_first_update_created_at = {user_id: created_at for user_id, created_at in zip(first_update.user_id, first_update.created_at)}\n",
    "initiations['is_user_already_author'] = [user_first_update_created_at[user_id] < created_at for user_id, created_at in zip(initiations.user_id, initiations.created_at)]"
   ]
  },
  {
   "cell_type": "code",
   "execution_count": 12,
   "metadata": {},
   "outputs": [
    {
     "data": {
      "text/html": [
       "<div>\n",
       "<style scoped>\n",
       "    .dataframe tbody tr th:only-of-type {\n",
       "        vertical-align: middle;\n",
       "    }\n",
       "\n",
       "    .dataframe tbody tr th {\n",
       "        vertical-align: top;\n",
       "    }\n",
       "\n",
       "    .dataframe thead th {\n",
       "        text-align: right;\n",
       "    }\n",
       "</style>\n",
       "<table border=\"1\" class=\"dataframe\">\n",
       "  <thead>\n",
       "    <tr style=\"text-align: right;\">\n",
       "      <th></th>\n",
       "      <th>user_id</th>\n",
       "      <th>site_id</th>\n",
       "      <th>int_type</th>\n",
       "      <th>created_at</th>\n",
       "      <th>updated_at</th>\n",
       "      <th>journal_oid</th>\n",
       "      <th>site_index</th>\n",
       "      <th>is_nontrivial</th>\n",
       "      <th>is_self_interaction</th>\n",
       "      <th>is_user_already_author</th>\n",
       "    </tr>\n",
       "  </thead>\n",
       "  <tbody>\n",
       "    <tr>\n",
       "      <td>8825093</td>\n",
       "      <td>23616609</td>\n",
       "      <td>630703</td>\n",
       "      <td>amps</td>\n",
       "      <td>1101191820000</td>\n",
       "      <td>1354086839000</td>\n",
       "      <td>51be87b46ca0044b2a002008</td>\n",
       "      <td>1.0</td>\n",
       "      <td>True</td>\n",
       "      <td>False</td>\n",
       "      <td>False</td>\n",
       "    </tr>\n",
       "    <tr>\n",
       "      <td>8825091</td>\n",
       "      <td>10499159</td>\n",
       "      <td>630703</td>\n",
       "      <td>amps</td>\n",
       "      <td>1101191820000</td>\n",
       "      <td>1354086839000</td>\n",
       "      <td>51be87b46ca0044b2a002008</td>\n",
       "      <td>1.0</td>\n",
       "      <td>True</td>\n",
       "      <td>False</td>\n",
       "      <td>False</td>\n",
       "    </tr>\n",
       "    <tr>\n",
       "      <td>6959076</td>\n",
       "      <td>1217109</td>\n",
       "      <td>1</td>\n",
       "      <td>amps</td>\n",
       "      <td>1103856900000</td>\n",
       "      <td>1103856900000</td>\n",
       "      <td>51bdf3e56ca0048f4e00ced4</td>\n",
       "      <td>0.0</td>\n",
       "      <td>True</td>\n",
       "      <td>False</td>\n",
       "      <td>False</td>\n",
       "    </tr>\n",
       "    <tr>\n",
       "      <td>1042</td>\n",
       "      <td>44</td>\n",
       "      <td>3</td>\n",
       "      <td>guestbook</td>\n",
       "      <td>1117633029000</td>\n",
       "      <td>1117633029000</td>\n",
       "      <td></td>\n",
       "      <td>-1.0</td>\n",
       "      <td>True</td>\n",
       "      <td>False</td>\n",
       "      <td>True</td>\n",
       "    </tr>\n",
       "    <tr>\n",
       "      <td>1056</td>\n",
       "      <td>122</td>\n",
       "      <td>45</td>\n",
       "      <td>guestbook</td>\n",
       "      <td>1117645589000</td>\n",
       "      <td>1117645589000</td>\n",
       "      <td></td>\n",
       "      <td>-1.0</td>\n",
       "      <td>True</td>\n",
       "      <td>False</td>\n",
       "      <td>False</td>\n",
       "    </tr>\n",
       "  </tbody>\n",
       "</table>\n",
       "</div>"
      ],
      "text/plain": [
       "          user_id  site_id   int_type     created_at     updated_at  \\\n",
       "8825093  23616609   630703       amps  1101191820000  1354086839000   \n",
       "8825091  10499159   630703       amps  1101191820000  1354086839000   \n",
       "6959076   1217109        1       amps  1103856900000  1103856900000   \n",
       "1042           44        3  guestbook  1117633029000  1117633029000   \n",
       "1056          122       45  guestbook  1117645589000  1117645589000   \n",
       "\n",
       "                      journal_oid  site_index  is_nontrivial  \\\n",
       "8825093  51be87b46ca0044b2a002008         1.0           True   \n",
       "8825091  51be87b46ca0044b2a002008         1.0           True   \n",
       "6959076  51bdf3e56ca0048f4e00ced4         0.0           True   \n",
       "1042                                     -1.0           True   \n",
       "1056                                     -1.0           True   \n",
       "\n",
       "         is_self_interaction  is_user_already_author  \n",
       "8825093                False                   False  \n",
       "8825091                False                   False  \n",
       "6959076                False                   False  \n",
       "1042                   False                    True  \n",
       "1056                   False                   False  "
      ]
     },
     "execution_count": 12,
     "metadata": {},
     "output_type": "execute_result"
    }
   ],
   "source": [
    "initiations.head()"
   ]
  },
  {
   "cell_type": "markdown",
   "metadata": {},
   "source": [
    "### Comment sampling"
   ]
  },
  {
   "cell_type": "code",
   "execution_count": 11,
   "metadata": {},
   "outputs": [
    {
     "data": {
      "text/plain": [
       "111590"
      ]
     },
     "execution_count": 11,
     "metadata": {},
     "output_type": "execute_result"
    }
   ],
   "source": [
    "comments = initiations[initiations.int_type == 'comment']\n",
    "len(comments)"
   ]
  },
  {
   "cell_type": "code",
   "execution_count": 12,
   "metadata": {},
   "outputs": [
    {
     "data": {
      "text/plain": [
       "60798"
      ]
     },
     "execution_count": 12,
     "metadata": {},
     "output_type": "execute_result"
    }
   ],
   "source": [
    "# only consider comment initiations in 01/2014 - 06/2016\n",
    "comments = comments[(comments.created_at > subset_start_timestamp)&(comments.created_at < end_timestamp)]\n",
    "len(comments)"
   ]
  },
  {
   "cell_type": "code",
   "execution_count": 13,
   "metadata": {},
   "outputs": [],
   "source": [
    "# figure out if the initiating user was already an author at this time\n",
    "journals_subset = journals[journals.created_at >= start_timestamp]\n",
    "first_update = journals_subset.sort_values(by='created_at', ascending=True).drop_duplicates(subset='user_id', keep='first')\n",
    "user_first_update_created_at = {user_id: created_at for user_id, created_at in zip(first_update.user_id, first_update.created_at)}"
   ]
  },
  {
   "cell_type": "code",
   "execution_count": 14,
   "metadata": {},
   "outputs": [],
   "source": [
    "comments['is_user_already_author'] = [user_first_update_created_at[user_id] < created_at for user_id, created_at in zip(comments.user_id, comments.created_at)]"
   ]
  },
  {
   "cell_type": "code",
   "execution_count": 15,
   "metadata": {},
   "outputs": [
    {
     "data": {
      "text/plain": [
       "[(True, 54137), (False, 6661)]"
      ]
     },
     "execution_count": 15,
     "metadata": {},
     "output_type": "execute_result"
    }
   ],
   "source": [
    "Counter(comments['is_user_already_author']).most_common()"
   ]
  },
  {
   "cell_type": "code",
   "execution_count": 16,
   "metadata": {},
   "outputs": [
    {
     "data": {
      "text/plain": [
       "0.10955952498437449"
      ]
     },
     "execution_count": 16,
     "metadata": {},
     "output_type": "execute_result"
    }
   ],
   "source": [
    "# about 11% of initiating comments are by users who aren't yet authors (but will be)\n",
    "1 - np.sum(comments['is_user_already_author']) / len(comments)"
   ]
  },
  {
   "cell_type": "code",
   "execution_count": 17,
   "metadata": {},
   "outputs": [],
   "source": [
    "sample = comments.sample(n=100)"
   ]
  },
  {
   "cell_type": "code",
   "execution_count": 28,
   "metadata": {},
   "outputs": [
    {
     "data": {
      "text/html": [
       "<div>\n",
       "<style scoped>\n",
       "    .dataframe tbody tr th:only-of-type {\n",
       "        vertical-align: middle;\n",
       "    }\n",
       "\n",
       "    .dataframe tbody tr th {\n",
       "        vertical-align: top;\n",
       "    }\n",
       "\n",
       "    .dataframe thead th {\n",
       "        text-align: right;\n",
       "    }\n",
       "</style>\n",
       "<table border=\"1\" class=\"dataframe\">\n",
       "  <thead>\n",
       "    <tr style=\"text-align: right;\">\n",
       "      <th></th>\n",
       "      <th>user_id</th>\n",
       "      <th>site_id</th>\n",
       "      <th>int_type</th>\n",
       "      <th>created_at</th>\n",
       "      <th>updated_at</th>\n",
       "      <th>journal_oid</th>\n",
       "      <th>site_index</th>\n",
       "      <th>is_nontrivial</th>\n",
       "      <th>is_self_interaction</th>\n",
       "      <th>is_user_already_author</th>\n",
       "    </tr>\n",
       "  </thead>\n",
       "  <tbody>\n",
       "    <tr>\n",
       "      <td>6282512</td>\n",
       "      <td>3039373</td>\n",
       "      <td>1101726</td>\n",
       "      <td>comment</td>\n",
       "      <td>1456686325000</td>\n",
       "      <td>1456686325000</td>\n",
       "      <td>56d24ee24db921c25c0afad2</td>\n",
       "      <td>0.0</td>\n",
       "      <td>True</td>\n",
       "      <td>False</td>\n",
       "      <td>True</td>\n",
       "    </tr>\n",
       "    <tr>\n",
       "      <td>6172229</td>\n",
       "      <td>1102431</td>\n",
       "      <td>1070057</td>\n",
       "      <td>comment</td>\n",
       "      <td>1448888397000</td>\n",
       "      <td>1448888397000</td>\n",
       "      <td>565c99ddca16b46476ea5bae</td>\n",
       "      <td>14.0</td>\n",
       "      <td>True</td>\n",
       "      <td>False</td>\n",
       "      <td>False</td>\n",
       "    </tr>\n",
       "    <tr>\n",
       "      <td>6275438</td>\n",
       "      <td>4785881</td>\n",
       "      <td>1100557</td>\n",
       "      <td>comment</td>\n",
       "      <td>1456230358000</td>\n",
       "      <td>1456230780000</td>\n",
       "      <td>56cc8012af3d79764d020d97</td>\n",
       "      <td>1.0</td>\n",
       "      <td>True</td>\n",
       "      <td>False</td>\n",
       "      <td>True</td>\n",
       "    </tr>\n",
       "    <tr>\n",
       "      <td>6585047</td>\n",
       "      <td>150066</td>\n",
       "      <td>459998</td>\n",
       "      <td>comment</td>\n",
       "      <td>1459205303000</td>\n",
       "      <td>1459205303000</td>\n",
       "      <td>56f9ec89a689b47530f3e46c</td>\n",
       "      <td>107.0</td>\n",
       "      <td>True</td>\n",
       "      <td>False</td>\n",
       "      <td>True</td>\n",
       "    </tr>\n",
       "    <tr>\n",
       "      <td>5919215</td>\n",
       "      <td>6922470</td>\n",
       "      <td>1001758</td>\n",
       "      <td>comment</td>\n",
       "      <td>1427765326000</td>\n",
       "      <td>1427765326000</td>\n",
       "      <td>5518c5b48b5cd36d366b47cf</td>\n",
       "      <td>4.0</td>\n",
       "      <td>True</td>\n",
       "      <td>False</td>\n",
       "      <td>True</td>\n",
       "    </tr>\n",
       "  </tbody>\n",
       "</table>\n",
       "</div>"
      ],
      "text/plain": [
       "         user_id  site_id int_type     created_at     updated_at  \\\n",
       "6282512  3039373  1101726  comment  1456686325000  1456686325000   \n",
       "6172229  1102431  1070057  comment  1448888397000  1448888397000   \n",
       "6275438  4785881  1100557  comment  1456230358000  1456230780000   \n",
       "6585047   150066   459998  comment  1459205303000  1459205303000   \n",
       "5919215  6922470  1001758  comment  1427765326000  1427765326000   \n",
       "\n",
       "                      journal_oid  site_index  is_nontrivial  \\\n",
       "6282512  56d24ee24db921c25c0afad2         0.0           True   \n",
       "6172229  565c99ddca16b46476ea5bae        14.0           True   \n",
       "6275438  56cc8012af3d79764d020d97         1.0           True   \n",
       "6585047  56f9ec89a689b47530f3e46c       107.0           True   \n",
       "5919215  5518c5b48b5cd36d366b47cf         4.0           True   \n",
       "\n",
       "         is_self_interaction  is_user_already_author  \n",
       "6282512                False                    True  \n",
       "6172229                False                   False  \n",
       "6275438                False                    True  \n",
       "6585047                False                    True  \n",
       "5919215                False                    True  "
      ]
     },
     "execution_count": 28,
     "metadata": {},
     "output_type": "execute_result"
    }
   ],
   "source": [
    "sample.head()"
   ]
  },
  {
   "cell_type": "code",
   "execution_count": 31,
   "metadata": {},
   "outputs": [],
   "source": [
    "port = 5010\n",
    "sample['link'] = [f\"http://127.0.0.1:{port}/siteId/{site_id}#{journal_oid}\" for site_id, journal_oid in zip(sample.site_id, sample.journal_oid)]\n",
    "sample['initiator_relationship_to_author'] = ''\n",
    "sample['is_postdiagnosis_connection'] = ''\n",
    "sample['other_comments'] = ''"
   ]
  },
  {
   "cell_type": "code",
   "execution_count": 33,
   "metadata": {},
   "outputs": [
    {
     "name": "stdout",
     "output_type": "stream",
     "text": [
      "Finished.\n"
     ]
    },
    {
     "data": {
      "text/plain": [
       "'/home/srivbane/shared/caringbridge/data/projects/sna-social-support/data_selection/comment_initiations_20191210.csv'"
      ]
     },
     "execution_count": 33,
     "metadata": {},
     "output_type": "execute_result"
    }
   ],
   "source": [
    "towrite_df = sample[['user_id', 'site_id', 'journal_oid', 'link', 'is_user_already_author', 'initiator_relationship_to_author', 'is_postdiagnosis_connection', 'other_comments']]\n",
    "sample_filepath = os.path.join(working_dir, 'comment_initiations_20191210.csv')\n",
    "towrite_df.to_csv(sample_filepath, index=False)\n",
    "print(\"Finished.\")\n",
    "sample_filepath"
   ]
  },
  {
   "cell_type": "code",
   "execution_count": null,
   "metadata": {},
   "outputs": [],
   "source": []
  },
  {
   "cell_type": "markdown",
   "metadata": {},
   "source": [
    "### Guestbook sampling"
   ]
  },
  {
   "cell_type": "code",
   "execution_count": 14,
   "metadata": {},
   "outputs": [
    {
     "data": {
      "text/plain": [
       "653994"
      ]
     },
     "execution_count": 14,
     "metadata": {},
     "output_type": "execute_result"
    }
   ],
   "source": [
    "guestbooks = initiations[initiations.int_type == 'guestbook']\n",
    "len(guestbooks)"
   ]
  },
  {
   "cell_type": "code",
   "execution_count": 15,
   "metadata": {},
   "outputs": [
    {
     "data": {
      "text/plain": [
       "28018"
      ]
     },
     "execution_count": 15,
     "metadata": {},
     "output_type": "execute_result"
    }
   ],
   "source": [
    "# only consider guestbook initiations in 01/2014 - 06/2016\n",
    "guestbooks = guestbooks[(guestbooks.created_at > subset_start_timestamp)&(guestbooks.created_at < end_timestamp)]\n",
    "len(guestbooks)"
   ]
  },
  {
   "cell_type": "code",
   "execution_count": 16,
   "metadata": {},
   "outputs": [],
   "source": [
    "guestbooks['is_user_already_author'] = [user_first_update_created_at[user_id] < created_at for user_id, created_at in zip(guestbooks.user_id, guestbooks.created_at)]"
   ]
  },
  {
   "cell_type": "code",
   "execution_count": 17,
   "metadata": {},
   "outputs": [
    {
     "data": {
      "text/plain": [
       "[(True, 24759), (False, 3259)]"
      ]
     },
     "execution_count": 17,
     "metadata": {},
     "output_type": "execute_result"
    }
   ],
   "source": [
    "Counter(guestbooks['is_user_already_author']).most_common()"
   ]
  },
  {
   "cell_type": "code",
   "execution_count": 18,
   "metadata": {},
   "outputs": [
    {
     "data": {
      "text/plain": [
       "0.11631808123349274"
      ]
     },
     "execution_count": 18,
     "metadata": {},
     "output_type": "execute_result"
    }
   ],
   "source": [
    "# about 11% of initiating guestbooks are by users who aren't yet authors (but will be)\n",
    "1 - np.sum(guestbooks['is_user_already_author']) / len(guestbooks)"
   ]
  },
  {
   "cell_type": "code",
   "execution_count": 19,
   "metadata": {},
   "outputs": [],
   "source": [
    "sample = guestbooks.sample(n=100)"
   ]
  },
  {
   "cell_type": "code",
   "execution_count": 20,
   "metadata": {},
   "outputs": [
    {
     "data": {
      "text/html": [
       "<div>\n",
       "<style scoped>\n",
       "    .dataframe tbody tr th:only-of-type {\n",
       "        vertical-align: middle;\n",
       "    }\n",
       "\n",
       "    .dataframe tbody tr th {\n",
       "        vertical-align: top;\n",
       "    }\n",
       "\n",
       "    .dataframe thead th {\n",
       "        text-align: right;\n",
       "    }\n",
       "</style>\n",
       "<table border=\"1\" class=\"dataframe\">\n",
       "  <thead>\n",
       "    <tr style=\"text-align: right;\">\n",
       "      <th></th>\n",
       "      <th>user_id</th>\n",
       "      <th>site_id</th>\n",
       "      <th>int_type</th>\n",
       "      <th>created_at</th>\n",
       "      <th>updated_at</th>\n",
       "      <th>journal_oid</th>\n",
       "      <th>site_index</th>\n",
       "      <th>is_nontrivial</th>\n",
       "      <th>is_self_interaction</th>\n",
       "      <th>is_user_already_author</th>\n",
       "    </tr>\n",
       "  </thead>\n",
       "  <tbody>\n",
       "    <tr>\n",
       "      <td>5819959</td>\n",
       "      <td>27112138</td>\n",
       "      <td>1090109</td>\n",
       "      <td>guestbook</td>\n",
       "      <td>1453384467000</td>\n",
       "      <td>1453384467000</td>\n",
       "      <td></td>\n",
       "      <td>-1.0</td>\n",
       "      <td>True</td>\n",
       "      <td>False</td>\n",
       "      <td>True</td>\n",
       "    </tr>\n",
       "    <tr>\n",
       "      <td>5778509</td>\n",
       "      <td>19298182</td>\n",
       "      <td>1023213</td>\n",
       "      <td>guestbook</td>\n",
       "      <td>1429189649000</td>\n",
       "      <td>1429189649000</td>\n",
       "      <td></td>\n",
       "      <td>-1.0</td>\n",
       "      <td>True</td>\n",
       "      <td>False</td>\n",
       "      <td>True</td>\n",
       "    </tr>\n",
       "    <tr>\n",
       "      <td>5584015</td>\n",
       "      <td>4153161</td>\n",
       "      <td>850693</td>\n",
       "      <td>guestbook</td>\n",
       "      <td>1388714658000</td>\n",
       "      <td>1388714658000</td>\n",
       "      <td></td>\n",
       "      <td>-1.0</td>\n",
       "      <td>True</td>\n",
       "      <td>False</td>\n",
       "      <td>True</td>\n",
       "    </tr>\n",
       "    <tr>\n",
       "      <td>5796968</td>\n",
       "      <td>1880666</td>\n",
       "      <td>1042790</td>\n",
       "      <td>guestbook</td>\n",
       "      <td>1439014971000</td>\n",
       "      <td>1439014971000</td>\n",
       "      <td></td>\n",
       "      <td>-1.0</td>\n",
       "      <td>True</td>\n",
       "      <td>False</td>\n",
       "      <td>True</td>\n",
       "    </tr>\n",
       "    <tr>\n",
       "      <td>5800682</td>\n",
       "      <td>14665708</td>\n",
       "      <td>1051361</td>\n",
       "      <td>guestbook</td>\n",
       "      <td>1441075824000</td>\n",
       "      <td>1441075824000</td>\n",
       "      <td></td>\n",
       "      <td>-1.0</td>\n",
       "      <td>True</td>\n",
       "      <td>False</td>\n",
       "      <td>True</td>\n",
       "    </tr>\n",
       "  </tbody>\n",
       "</table>\n",
       "</div>"
      ],
      "text/plain": [
       "          user_id  site_id   int_type     created_at     updated_at  \\\n",
       "5819959  27112138  1090109  guestbook  1453384467000  1453384467000   \n",
       "5778509  19298182  1023213  guestbook  1429189649000  1429189649000   \n",
       "5584015   4153161   850693  guestbook  1388714658000  1388714658000   \n",
       "5796968   1880666  1042790  guestbook  1439014971000  1439014971000   \n",
       "5800682  14665708  1051361  guestbook  1441075824000  1441075824000   \n",
       "\n",
       "        journal_oid  site_index  is_nontrivial  is_self_interaction  \\\n",
       "5819959                    -1.0           True                False   \n",
       "5778509                    -1.0           True                False   \n",
       "5584015                    -1.0           True                False   \n",
       "5796968                    -1.0           True                False   \n",
       "5800682                    -1.0           True                False   \n",
       "\n",
       "         is_user_already_author  \n",
       "5819959                    True  \n",
       "5778509                    True  \n",
       "5584015                    True  \n",
       "5796968                    True  \n",
       "5800682                    True  "
      ]
     },
     "execution_count": 20,
     "metadata": {},
     "output_type": "execute_result"
    }
   ],
   "source": [
    "sample.head()"
   ]
  },
  {
   "cell_type": "code",
   "execution_count": 21,
   "metadata": {},
   "outputs": [],
   "source": [
    "port = 5010\n",
    "sample['link'] = [f\"http://127.0.0.1:{port}/guestbook/siteId/{site_id}\" for site_id in sample.site_id]\n",
    "sample['initiator_relationship_to_site_author'] = ''\n",
    "sample['is_postdiagnosis_connection'] = ''\n",
    "sample['other_comments'] = ''"
   ]
  },
  {
   "cell_type": "code",
   "execution_count": 22,
   "metadata": {},
   "outputs": [],
   "source": [
    "# add the guestbook text directly\n",
    "import sqlite3\n",
    "try:\n",
    "    gb_db_filepath = \"/home/srivbane/shared/caringbridge/data/projects/caringbridge_core/guestbook.sqlite\"\n",
    "    guestbook_db = sqlite3.connect(\n",
    "        gb_db_filepath,\n",
    "        detect_types=sqlite3.PARSE_DECLTYPES\n",
    "    )\n",
    "    guestbook_db.row_factory = sqlite3.Row\n",
    "    \n",
    "    body_texts = []\n",
    "    for user_id, site_id, created_at in zip(sample.user_id, sample.site_id, sample.created_at):\n",
    "        cursor = guestbook_db.execute(\"\"\"\n",
    "                    SELECT *\n",
    "                        FROM guestbook \n",
    "                        WHERE user_id = ? AND site_id = ? AND created_at = ?\n",
    "                    \"\"\", (user_id,site_id,created_at))\n",
    "        result = cursor.fetchall()\n",
    "        assert len(result) == 1\n",
    "        result = result[0]\n",
    "        body = result['body']\n",
    "        body_texts.append(body)\n",
    "finally:\n",
    "    guestbook_db.close()\n",
    "assert len(body_texts) == len(sample)\n",
    "sample['body_text'] = body_texts"
   ]
  },
  {
   "cell_type": "code",
   "execution_count": 26,
   "metadata": {},
   "outputs": [],
   "source": [
    "from html.parser import HTMLParser\n",
    "\n",
    "# See: https://stackoverflow.com/questions/753052/strip-html-from-strings-in-python\n",
    "class MLStripper(HTMLParser):\n",
    "    def __init__(self):\n",
    "        super().__init__()\n",
    "        self.reset()\n",
    "        self.strict = False\n",
    "        self.convert_charrefs = True\n",
    "        self.fed = []\n",
    "    def handle_data(self, d):\n",
    "        self.fed.append(d)\n",
    "    def handle_starttag(self, tag, attrs):\n",
    "        if tag == 'br':\n",
    "            self.fed.append(\"\\n\")  # this adds linebreaks in place of <br> tags\n",
    "    def get_data(self):\n",
    "        return ''.join(self.fed)\n",
    "\n",
    "\n",
    "def strip_tags(html_text):  # this function strips HTML tags from a given text string\n",
    "    s = MLStripper()\n",
    "    s.feed(html_text)\n",
    "    return s.get_data()\n",
    "\n",
    "cleaned_texts = []\n",
    "for body_text in body_texts:\n",
    "    cleaned_text = strip_tags(body_text)\n",
    "    cleaned_texts.append(cleaned_text)\n",
    "sample['body_text'] = cleaned_texts"
   ]
  },
  {
   "cell_type": "code",
   "execution_count": 32,
   "metadata": {},
   "outputs": [
    {
     "name": "stdout",
     "output_type": "stream",
     "text": [
      "Finished.\n"
     ]
    },
    {
     "data": {
      "text/plain": [
       "'/home/srivbane/shared/caringbridge/data/projects/sna-social-support/data_selection/guestbook_initiations_20191215.csv'"
      ]
     },
     "execution_count": 32,
     "metadata": {},
     "output_type": "execute_result"
    }
   ],
   "source": [
    "towrite_df = sample[['user_id', 'site_id', 'link', 'is_user_already_author', 'body_text', 'initiator_relationship_to_site_author', 'is_postdiagnosis_connection', 'other_comments']]\n",
    "sample_filepath = os.path.join(working_dir, 'guestbook_initiations_20191215.csv')\n",
    "towrite_df.to_csv(sample_filepath, index=False)\n",
    "print(\"Finished.\")\n",
    "sample_filepath"
   ]
  },
  {
   "cell_type": "markdown",
   "metadata": {},
   "source": [
    "## Single author joining component annotation\n",
    "\n",
    "Annotation of Joining Component initiations."
   ]
  },
  {
   "cell_type": "code",
   "execution_count": 11,
   "metadata": {},
   "outputs": [
    {
     "data": {
      "text/plain": [
       "100"
      ]
     },
     "execution_count": 11,
     "metadata": {},
     "output_type": "execute_result"
    }
   ],
   "source": [
    "source_filepath = '/home/srivbane/shared/caringbridge/data/projects/sna-social-support/dyad_growth/isolate_joining_component_100.csv'\n",
    "joining_component_df = pd.read_csv(source_filepath)\n",
    "len(joining_component_df)"
   ]
  },
  {
   "cell_type": "code",
   "execution_count": 13,
   "metadata": {},
   "outputs": [
    {
     "data": {
      "text/plain": [
       "28018"
      ]
     },
     "execution_count": 13,
     "metadata": {},
     "output_type": "execute_result"
    }
   ],
   "source": [
    "guestbooks = initiations[initiations.int_type == 'guestbook']\n",
    "guestbooks = guestbooks[(guestbooks.created_at > subset_start_timestamp)&(guestbooks.created_at < end_timestamp)]\n",
    "len(guestbooks)"
   ]
  },
  {
   "cell_type": "code",
   "execution_count": 25,
   "metadata": {},
   "outputs": [],
   "source": [
    "# figure out if the initiating user was already an author at this time\n",
    "journals_subset = journals[journals.created_at >= start_timestamp]\n",
    "first_update = journals_subset.sort_values(by='created_at', ascending=True).drop_duplicates(subset='user_id', keep='first')\n",
    "user_first_update_created_at = {user_id: created_at for user_id, created_at in zip(first_update.user_id, first_update.created_at)}"
   ]
  },
  {
   "cell_type": "code",
   "execution_count": 26,
   "metadata": {},
   "outputs": [],
   "source": [
    "guestbooks['is_user_already_author'] = [user_first_update_created_at[user_id] < created_at for user_id, created_at in zip(guestbooks.user_id, guestbooks.created_at)]"
   ]
  },
  {
   "cell_type": "code",
   "execution_count": 27,
   "metadata": {},
   "outputs": [],
   "source": [
    "sample = pd.merge(joining_component_df, guestbooks, validate='one_to_one', left_on=['from_user_id', 'created_at'], right_on=['user_id', 'created_at'])"
   ]
  },
  {
   "cell_type": "code",
   "execution_count": 28,
   "metadata": {},
   "outputs": [
    {
     "data": {
      "text/html": [
       "<div>\n",
       "<style scoped>\n",
       "    .dataframe tbody tr th:only-of-type {\n",
       "        vertical-align: middle;\n",
       "    }\n",
       "\n",
       "    .dataframe tbody tr th {\n",
       "        vertical-align: top;\n",
       "    }\n",
       "\n",
       "    .dataframe thead th {\n",
       "        text-align: right;\n",
       "    }\n",
       "</style>\n",
       "<table border=\"1\" class=\"dataframe\">\n",
       "  <thead>\n",
       "    <tr style=\"text-align: right;\">\n",
       "      <th></th>\n",
       "      <th>from_user_id</th>\n",
       "      <th>to_user_id</th>\n",
       "      <th>created_at</th>\n",
       "      <th>involves_lwcc</th>\n",
       "      <th>user_id</th>\n",
       "      <th>site_id</th>\n",
       "      <th>int_type</th>\n",
       "      <th>updated_at</th>\n",
       "      <th>journal_oid</th>\n",
       "      <th>site_index</th>\n",
       "      <th>is_nontrivial</th>\n",
       "      <th>is_self_interaction</th>\n",
       "      <th>is_user_already_author</th>\n",
       "    </tr>\n",
       "  </thead>\n",
       "  <tbody>\n",
       "    <tr>\n",
       "      <td>0</td>\n",
       "      <td>24607077</td>\n",
       "      <td>22991957</td>\n",
       "      <td>1395595701000</td>\n",
       "      <td>True</td>\n",
       "      <td>24607077</td>\n",
       "      <td>601811</td>\n",
       "      <td>guestbook</td>\n",
       "      <td>1395595701000</td>\n",
       "      <td></td>\n",
       "      <td>-1.0</td>\n",
       "      <td>True</td>\n",
       "      <td>False</td>\n",
       "      <td>False</td>\n",
       "    </tr>\n",
       "    <tr>\n",
       "      <td>1</td>\n",
       "      <td>29817353</td>\n",
       "      <td>10049611</td>\n",
       "      <td>1430140018000</td>\n",
       "      <td>True</td>\n",
       "      <td>29817353</td>\n",
       "      <td>975551</td>\n",
       "      <td>guestbook</td>\n",
       "      <td>1430140018000</td>\n",
       "      <td></td>\n",
       "      <td>-1.0</td>\n",
       "      <td>True</td>\n",
       "      <td>False</td>\n",
       "      <td>True</td>\n",
       "    </tr>\n",
       "    <tr>\n",
       "      <td>2</td>\n",
       "      <td>23748805</td>\n",
       "      <td>27980037</td>\n",
       "      <td>1390572425000</td>\n",
       "      <td>True</td>\n",
       "      <td>23748805</td>\n",
       "      <td>860077</td>\n",
       "      <td>guestbook</td>\n",
       "      <td>1390572425000</td>\n",
       "      <td></td>\n",
       "      <td>-1.0</td>\n",
       "      <td>True</td>\n",
       "      <td>False</td>\n",
       "      <td>True</td>\n",
       "    </tr>\n",
       "    <tr>\n",
       "      <td>3</td>\n",
       "      <td>19932045</td>\n",
       "      <td>24182195</td>\n",
       "      <td>1461029311000</td>\n",
       "      <td>True</td>\n",
       "      <td>19932045</td>\n",
       "      <td>1105301</td>\n",
       "      <td>guestbook</td>\n",
       "      <td>1461029311000</td>\n",
       "      <td></td>\n",
       "      <td>-1.0</td>\n",
       "      <td>True</td>\n",
       "      <td>False</td>\n",
       "      <td>True</td>\n",
       "    </tr>\n",
       "    <tr>\n",
       "      <td>4</td>\n",
       "      <td>28620950</td>\n",
       "      <td>28618168</td>\n",
       "      <td>1407432137000</td>\n",
       "      <td>True</td>\n",
       "      <td>28620950</td>\n",
       "      <td>882330</td>\n",
       "      <td>guestbook</td>\n",
       "      <td>1407432137000</td>\n",
       "      <td></td>\n",
       "      <td>-1.0</td>\n",
       "      <td>True</td>\n",
       "      <td>False</td>\n",
       "      <td>False</td>\n",
       "    </tr>\n",
       "  </tbody>\n",
       "</table>\n",
       "</div>"
      ],
      "text/plain": [
       "   from_user_id  to_user_id     created_at  involves_lwcc   user_id  site_id  \\\n",
       "0      24607077    22991957  1395595701000           True  24607077   601811   \n",
       "1      29817353    10049611  1430140018000           True  29817353   975551   \n",
       "2      23748805    27980037  1390572425000           True  23748805   860077   \n",
       "3      19932045    24182195  1461029311000           True  19932045  1105301   \n",
       "4      28620950    28618168  1407432137000           True  28620950   882330   \n",
       "\n",
       "    int_type     updated_at journal_oid  site_index  is_nontrivial  \\\n",
       "0  guestbook  1395595701000                    -1.0           True   \n",
       "1  guestbook  1430140018000                    -1.0           True   \n",
       "2  guestbook  1390572425000                    -1.0           True   \n",
       "3  guestbook  1461029311000                    -1.0           True   \n",
       "4  guestbook  1407432137000                    -1.0           True   \n",
       "\n",
       "   is_self_interaction  is_user_already_author  \n",
       "0                False                   False  \n",
       "1                False                    True  \n",
       "2                False                    True  \n",
       "3                False                    True  \n",
       "4                False                   False  "
      ]
     },
     "execution_count": 28,
     "metadata": {},
     "output_type": "execute_result"
    }
   ],
   "source": [
    "sample.head()"
   ]
  },
  {
   "cell_type": "code",
   "execution_count": 29,
   "metadata": {},
   "outputs": [],
   "source": [
    "# add the guestbook text directly\n",
    "import sqlite3\n",
    "try:\n",
    "    gb_db_filepath = \"/home/srivbane/shared/caringbridge/data/projects/caringbridge_core/guestbook.sqlite\"\n",
    "    guestbook_db = sqlite3.connect(\n",
    "        gb_db_filepath,\n",
    "        detect_types=sqlite3.PARSE_DECLTYPES\n",
    "    )\n",
    "    guestbook_db.row_factory = sqlite3.Row\n",
    "    \n",
    "    body_texts = []\n",
    "    for user_id, site_id, created_at in zip(sample.user_id, sample.site_id, sample.created_at):\n",
    "        cursor = guestbook_db.execute(\"\"\"\n",
    "                    SELECT *\n",
    "                        FROM guestbook \n",
    "                        WHERE user_id = ? AND site_id = ? AND created_at = ?\n",
    "                    \"\"\", (user_id,site_id,created_at))\n",
    "        result = cursor.fetchall()\n",
    "        assert len(result) == 1\n",
    "        result = result[0]\n",
    "        body = result['body']\n",
    "        body_texts.append(body)\n",
    "finally:\n",
    "    guestbook_db.close()\n",
    "assert len(body_texts) == len(sample)\n",
    "sample['body_text'] = body_texts"
   ]
  },
  {
   "cell_type": "code",
   "execution_count": 30,
   "metadata": {},
   "outputs": [],
   "source": [
    "from html.parser import HTMLParser\n",
    "\n",
    "# See: https://stackoverflow.com/questions/753052/strip-html-from-strings-in-python\n",
    "class MLStripper(HTMLParser):\n",
    "    def __init__(self):\n",
    "        super().__init__()\n",
    "        self.reset()\n",
    "        self.strict = False\n",
    "        self.convert_charrefs = True\n",
    "        self.fed = []\n",
    "    def handle_data(self, d):\n",
    "        self.fed.append(d)\n",
    "    def handle_starttag(self, tag, attrs):\n",
    "        if tag == 'br':\n",
    "            self.fed.append(\"\\n\")  # this adds linebreaks in place of <br> tags\n",
    "    def get_data(self):\n",
    "        return ''.join(self.fed)\n",
    "\n",
    "\n",
    "def strip_tags(html_text):  # this function strips HTML tags from a given text string\n",
    "    s = MLStripper()\n",
    "    s.feed(html_text)\n",
    "    return s.get_data()\n",
    "\n",
    "cleaned_texts = []\n",
    "for body_text in body_texts:\n",
    "    cleaned_text = strip_tags(body_text)\n",
    "    cleaned_texts.append(cleaned_text)\n",
    "sample['body_text'] = cleaned_texts"
   ]
  },
  {
   "cell_type": "code",
   "execution_count": 31,
   "metadata": {},
   "outputs": [],
   "source": [
    "port = 5010\n",
    "sample['link'] = [f\"http://127.0.0.1:{port}/guestbook/siteId/{site_id}\" for site_id in sample.site_id]\n",
    "sample['initiator_relationship_to_site_author'] = ''\n",
    "sample['is_postdiagnosis_connection'] = ''\n",
    "sample['other_comments'] = ''"
   ]
  },
  {
   "cell_type": "code",
   "execution_count": null,
   "metadata": {},
   "outputs": [],
   "source": [
    "sample.head()"
   ]
  },
  {
   "cell_type": "code",
   "execution_count": 34,
   "metadata": {
    "scrolled": true
   },
   "outputs": [
    {
     "name": "stdout",
     "output_type": "stream",
     "text": [
      "Finished.\n"
     ]
    },
    {
     "data": {
      "text/plain": [
       "'/home/srivbane/shared/caringbridge/data/projects/sna-social-support/data_selection/guestbook_joining_components_20200102.csv'"
      ]
     },
     "execution_count": 34,
     "metadata": {},
     "output_type": "execute_result"
    }
   ],
   "source": [
    "towrite_df = sample[['user_id', 'site_id', 'link', 'is_user_already_author', 'involves_lwcc', 'body_text', 'initiator_relationship_to_site_author', 'is_postdiagnosis_connection', 'other_comments']]\n",
    "sample_filepath = os.path.join(working_dir, 'guestbook_joining_components_20200102.csv')\n",
    "towrite_df.to_csv(sample_filepath, index=False)\n",
    "print(\"Finished.\")\n",
    "sample_filepath"
   ]
  },
  {
   "cell_type": "markdown",
   "metadata": {},
   "source": [
    "## New sampling (April 2020)\n",
    "\n",
    "More expansive sampling approach for multiple annotators."
   ]
  },
  {
   "cell_type": "code",
   "execution_count": 13,
   "metadata": {},
   "outputs": [],
   "source": [
    "import sqlite3\n",
    "\n",
    "def get_guestbook_texts(sample):\n",
    "    try:\n",
    "        gb_db_filepath = \"/home/lana/shared/caringbridge/data/projects/caringbridge_core/guestbook.sqlite\"\n",
    "        guestbook_db = sqlite3.connect(\n",
    "            gb_db_filepath,\n",
    "            detect_types=sqlite3.PARSE_DECLTYPES\n",
    "        )\n",
    "        guestbook_db.row_factory = sqlite3.Row\n",
    "\n",
    "        body_texts = []\n",
    "        for user_id, site_id, created_at in zip(sample.user_id, sample.site_id, sample.created_at):\n",
    "            cursor = guestbook_db.execute(\"\"\"\n",
    "                        SELECT *\n",
    "                            FROM guestbook \n",
    "                            WHERE user_id = ? AND site_id = ? AND created_at = ?\n",
    "                        \"\"\", (user_id,site_id,created_at))\n",
    "            result = cursor.fetchall()\n",
    "            assert len(result) == 1\n",
    "            result = result[0]\n",
    "            body = result['body']\n",
    "            body_texts.append(body)\n",
    "    finally:\n",
    "        guestbook_db.close()\n",
    "    assert len(body_texts) == len(sample)\n",
    "    return body_texts\n",
    "\n",
    "\n",
    "def get_comment_texts(sample):\n",
    "    try:\n",
    "        comments_db_filepath = \"/home/lana/shared/caringbridge/data/projects/caringbridge_core/updated_comments.sqlite\"\n",
    "        comments_db = sqlite3.connect(\n",
    "            comments_db_filepath,\n",
    "            detect_types=sqlite3.PARSE_DECLTYPES\n",
    "        )\n",
    "        comments_db.row_factory = sqlite3.Row\n",
    "\n",
    "        body_texts = []\n",
    "        for user_id, site_id, journal_oid in zip(sample.user_id, sample.site_id, sample.journal_oid):\n",
    "            cursor = comments_db.execute(\"\"\"\n",
    "                        SELECT *\n",
    "                            FROM comments \n",
    "                            WHERE site_id = ? AND ancestor_id = ? AND user_id = ?\n",
    "                        \"\"\", (site_id, journal_oid, user_id))\n",
    "            result = cursor.fetchall()\n",
    "            # unlike the others, there might be multiple comments\n",
    "            if len(result) > 1:\n",
    "                # so we choose the chronologically first comment\n",
    "                result.sort(key=lambda r: r['created_at'])\n",
    "            result = result[0]\n",
    "            body = result['body']\n",
    "            body_texts.append(body)\n",
    "    finally:\n",
    "        comments_db.close()\n",
    "    assert len(body_texts) == len(sample)\n",
    "    return body_texts\n",
    "\n",
    "\n",
    "def get_journal_update_texts(sample):\n",
    "    try:\n",
    "        journal_db_filepath = \"/home/lana/shared/caringbridge/data/projects/caringbridge_core/journal.sqlite\"\n",
    "        journal_db = sqlite3.connect(\n",
    "            journal_db_filepath,\n",
    "            detect_types=sqlite3.PARSE_DECLTYPES\n",
    "        )\n",
    "        journal_db.row_factory = sqlite3.Row\n",
    "\n",
    "        body_texts = []\n",
    "        for site_id, journal_oid in zip(sample.site_id, sample.journal_oid):\n",
    "            cursor = journal_db.execute(\"\"\"\n",
    "                        SELECT title, body\n",
    "                            FROM journalText \n",
    "                            WHERE site_id = ? AND journal_oid = ?\n",
    "                        \"\"\", (site_id,journal_oid))\n",
    "            result = cursor.fetchall()\n",
    "            assert len(result) == 1\n",
    "            result = result[0]\n",
    "            body = result['body']\n",
    "            body_texts.append(body)\n",
    "    finally:\n",
    "        journal_db.close()\n",
    "    assert len(body_texts) == len(sample)\n",
    "    return body_texts"
   ]
  },
  {
   "cell_type": "code",
   "execution_count": 14,
   "metadata": {},
   "outputs": [],
   "source": [
    "from html.parser import HTMLParser\n",
    "\n",
    "# See: https://stackoverflow.com/questions/753052/strip-html-from-strings-in-python\n",
    "class MLStripper(HTMLParser):\n",
    "    def __init__(self):\n",
    "        super().__init__()\n",
    "        self.reset()\n",
    "        self.strict = False\n",
    "        self.convert_charrefs = True\n",
    "        self.fed = []\n",
    "    def handle_data(self, d):\n",
    "        self.fed.append(d)\n",
    "    def handle_starttag(self, tag, attrs):\n",
    "        if tag == 'br':\n",
    "            self.fed.append(\"\\n\")  # this adds linebreaks in place of <br> tags\n",
    "    def get_data(self):\n",
    "        return ''.join(self.fed)\n",
    "\n",
    "\n",
    "def strip_tags(html_text):  # this function strips HTML tags from a given text string\n",
    "    s = MLStripper()\n",
    "    s.feed(html_text)\n",
    "    return s.get_data()\n"
   ]
  },
  {
   "cell_type": "markdown",
   "metadata": {},
   "source": [
    "## Third annotation set\n",
    "\n",
    "100 comments and 100 guestbooks."
   ]
  },
  {
   "cell_type": "code",
   "execution_count": 32,
   "metadata": {},
   "outputs": [
    {
     "data": {
      "text/plain": [
       "60798"
      ]
     },
     "execution_count": 32,
     "metadata": {},
     "output_type": "execute_result"
    }
   ],
   "source": [
    "comments = initiations[initiations.int_type == 'comment']\n",
    "comments = comments[(comments.created_at > subset_start_timestamp)&(comments.created_at < end_timestamp)]\n",
    "len(comments)"
   ]
  },
  {
   "cell_type": "code",
   "execution_count": 33,
   "metadata": {},
   "outputs": [
    {
     "data": {
      "text/plain": [
       "28018"
      ]
     },
     "execution_count": 33,
     "metadata": {},
     "output_type": "execute_result"
    }
   ],
   "source": [
    "guestbooks = initiations[initiations.int_type == 'guestbook']\n",
    "guestbooks = guestbooks[(guestbooks.created_at > subset_start_timestamp)&(guestbooks.created_at < end_timestamp)]\n",
    "len(guestbooks)"
   ]
  },
  {
   "cell_type": "code",
   "execution_count": 34,
   "metadata": {},
   "outputs": [
    {
     "name": "stdout",
     "output_type": "stream",
     "text": [
      "Removing guestbook rows: 100\n",
      "Removing comment rows: 100\n",
      "Removing guestbook rows: 100\n",
      "Removing comment rows: 100\n"
     ]
    }
   ],
   "source": [
    "from glob import glob\n",
    "for fpath in glob(os.path.join(working_dir, 'inits_irr*.csv')):\n",
    "    existing_set = pd.read_csv(fpath)\n",
    "    existing_comments = existing_set[~existing_set.journal_oid.isna()]\n",
    "    existing_guestbooks = existing_set[existing_set.journal_oid.isna()]\n",
    "    \n",
    "    \n",
    "    existing_gb_keys = set()\n",
    "    for row in existing_guestbooks.itertuples():\n",
    "        key = str(row.user_id) + \"|\" + str(row.site_id)\n",
    "        existing_gb_keys.add(key)\n",
    "    is_existing_sampled_row_list = []\n",
    "    for row in guestbooks.itertuples():\n",
    "        key = str(row.user_id) + \"|\" + str(row.site_id)\n",
    "        is_existing_sampled_row = key in existing_gb_keys\n",
    "        is_existing_sampled_row_list.append(is_existing_sampled_row)\n",
    "    is_existing_sampled_row_list = np.array(is_existing_sampled_row_list)\n",
    "    print(\"Removing guestbook rows:\", np.sum(is_existing_sampled_row_list))\n",
    "    guestbooks = guestbooks[~is_existing_sampled_row_list]\n",
    "    \n",
    "    existing_comment_keys = set()\n",
    "    for row in existing_comments.itertuples():\n",
    "        key = str(row.user_id) + \"|\" + str(row.site_id) + \"|\" + str(row.journal_oid)\n",
    "        existing_comment_keys.add(key)\n",
    "    is_existing_sampled_row_list = []\n",
    "    for row in comments.itertuples():\n",
    "        key = str(row.user_id) + \"|\" + str(row.site_id) + \"|\" + str(row.journal_oid)\n",
    "        is_existing_sampled_row = key in existing_comment_keys\n",
    "        is_existing_sampled_row_list.append(is_existing_sampled_row)\n",
    "    is_existing_sampled_row_list = np.array(is_existing_sampled_row_list)\n",
    "    print(\"Removing comment rows:\", np.sum(is_existing_sampled_row_list))\n",
    "    comments = comments[~is_existing_sampled_row_list]"
   ]
  },
  {
   "cell_type": "code",
   "execution_count": 37,
   "metadata": {},
   "outputs": [
    {
     "data": {
      "text/plain": [
       "(27818, 60598)"
      ]
     },
     "execution_count": 37,
     "metadata": {},
     "output_type": "execute_result"
    }
   ],
   "source": [
    "len(guestbooks), len(comments)"
   ]
  },
  {
   "cell_type": "code",
   "execution_count": 35,
   "metadata": {},
   "outputs": [],
   "source": [
    "n = 200\n",
    "comments_sample = comments.sample(n=n, random_state=3)\n",
    "guestbook_sample = guestbooks.sample(n=n, random_state=3)"
   ]
  },
  {
   "cell_type": "code",
   "execution_count": null,
   "metadata": {},
   "outputs": [],
   "source": [
    "guestbook_sample['journal_text'] = \"\"\n",
    "guestbook_sample['int_text'] = get_guestbook_texts(guestbook_sample)\n",
    "guestbook_sample['int_text'] = guestbook_sample.int_text.map(strip_tags)\n",
    "guestbook_sample.head()"
   ]
  },
  {
   "cell_type": "code",
   "execution_count": null,
   "metadata": {},
   "outputs": [],
   "source": [
    "comments_sample['journal_text'] = get_journal_update_texts(comments_sample)\n",
    "comments_sample['journal_text'] = comments_sample.journal_text.map(strip_tags)\n",
    "comments_sample['int_text'] = get_comment_texts(comments_sample)\n",
    "comments_sample['int_text'] = comments_sample.int_text.map(strip_tags)\n",
    "comments_sample.head()"
   ]
  },
  {
   "cell_type": "code",
   "execution_count": 39,
   "metadata": {},
   "outputs": [
    {
     "data": {
      "text/plain": [
       "400"
      ]
     },
     "execution_count": 39,
     "metadata": {},
     "output_type": "execute_result"
    }
   ],
   "source": [
    "sample = pd.concat((comments_sample, guestbook_sample))\n",
    "len(sample)"
   ]
  },
  {
   "cell_type": "code",
   "execution_count": 40,
   "metadata": {},
   "outputs": [],
   "source": [
    "port = 5000\n",
    "sample['link'] = [f\"http://127.0.0.1:{port}/guestbook/siteId/{site_id}\" for site_id in sample.site_id]\n",
    "sample['initiator_relationship_to_site_author'] = ''\n",
    "sample['is_postdiagnosis_connection'] = ''\n",
    "sample['other_comments'] = ''"
   ]
  },
  {
   "cell_type": "code",
   "execution_count": 41,
   "metadata": {},
   "outputs": [
    {
     "name": "stdout",
     "output_type": "stream",
     "text": [
      "Finished.\n"
     ]
    },
    {
     "data": {
      "text/plain": [
       "'/home/lana/shared/caringbridge/data/projects/sna-social-support/data_selection/inits_irr4_n400_20200430.csv'"
      ]
     },
     "execution_count": 41,
     "metadata": {},
     "output_type": "execute_result"
    }
   ],
   "source": [
    "towrite_df = sample[['user_id', 'site_id', 'journal_oid', 'link', 'is_user_already_author', 'journal_text', 'int_text', 'initiator_relationship_to_site_author', 'is_postdiagnosis_connection', 'other_comments']]\n",
    "sample_filepath = os.path.join(working_dir, 'inits_irr4_n400_20200430.csv')\n",
    "towrite_df.to_csv(sample_filepath, index=False)\n",
    "print(\"Finished.\")\n",
    "sample_filepath"
   ]
  },
  {
   "cell_type": "code",
   "execution_count": null,
   "metadata": {},
   "outputs": [],
   "source": []
  },
  {
   "cell_type": "code",
   "execution_count": null,
   "metadata": {},
   "outputs": [],
   "source": []
  },
  {
   "cell_type": "code",
   "execution_count": null,
   "metadata": {},
   "outputs": [],
   "source": []
  }
 ],
 "metadata": {
  "kernelspec": {
   "display_name": "Python (shared-conda)",
   "language": "python",
   "name": "shared-conda"
  },
  "language_info": {
   "codemirror_mode": {
    "name": "ipython",
    "version": 3
   },
   "file_extension": ".py",
   "mimetype": "text/x-python",
   "name": "python",
   "nbconvert_exporter": "python",
   "pygments_lexer": "ipython3",
   "version": "3.7.3"
  }
 },
 "nbformat": 4,
 "nbformat_minor": 2
}
