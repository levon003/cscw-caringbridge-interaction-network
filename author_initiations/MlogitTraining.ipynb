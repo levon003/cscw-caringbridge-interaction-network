{
 "cells": [
  {
   "cell_type": "markdown",
   "metadata": {},
   "source": [
    "MLogit Training\n",
    "===\n",
    "\n",
    "Test notebook for using R on MSI to train the mlogit models."
   ]
  },
  {
   "cell_type": "code",
   "execution_count": 1,
   "metadata": {},
   "outputs": [
    {
     "name": "stderr",
     "output_type": "stream",
     "text": [
      "Warning message in install.packages(\"knitr\"):\n",
      "“installation of package ‘knitr’ had non-zero exit status”\n",
      "also installing the dependency ‘dfidx’\n",
      "\n",
      "\n",
      "Warning message:\n",
      "“package ‘parallel’ is not available (for R version 3.6.2)”\n",
      "Warning message:\n",
      "“package ‘parallel’ is a base package, and should not be updated”\n",
      "also installing the dependencies ‘rlang’, ‘tidyselect’, ‘vctrs’\n",
      "\n",
      "\n",
      "Warning message in install.packages(\"tidyr\"):\n",
      "“installation of package ‘rlang’ had non-zero exit status”\n",
      "Warning message in install.packages(\"tidyr\"):\n",
      "“installation of package ‘vctrs’ had non-zero exit status”\n",
      "Warning message in install.packages(\"tidyr\"):\n",
      "“installation of package ‘tidyselect’ had non-zero exit status”\n",
      "Warning message in install.packages(\"tidyr\"):\n",
      "“installation of package ‘tidyr’ had non-zero exit status”\n",
      "Warning message in install.packages(\"readr\"):\n",
      "“installation of package ‘readr’ had non-zero exit status”\n",
      "also installing the dependency ‘farver’\n",
      "\n",
      "\n",
      "Warning message in install.packages(\"scales\"):\n",
      "“installation of package ‘farver’ had non-zero exit status”\n",
      "also installing the dependencies ‘glue’, ‘lifecycle’, ‘rlang’, ‘tidyselect’, ‘vctrs’\n",
      "\n",
      "\n",
      "Warning message in install.packages(\"dplyr\"):\n",
      "“installation of package ‘glue’ had non-zero exit status”\n",
      "Warning message in install.packages(\"dplyr\"):\n",
      "“installation of package ‘rlang’ had non-zero exit status”\n",
      "Warning message in install.packages(\"dplyr\"):\n",
      "“installation of package ‘vctrs’ had non-zero exit status”\n",
      "Warning message in install.packages(\"dplyr\"):\n",
      "“installation of package ‘tidyselect’ had non-zero exit status”\n",
      "Warning message in install.packages(\"dplyr\"):\n",
      "“installation of package ‘dplyr’ had non-zero exit status”\n"
     ]
    }
   ],
   "source": [
    "install.packages(\"knitr\")\n",
    "install.packages(\"car\")\n",
    "# these are needed by the helper R file\n",
    "install.packages(\"ggplot2\")\n",
    "install.packages(\"latex2exp\")\n",
    "install.packages(\"mlogit\")\n",
    "install.packages(\"stringr\")\n",
    "install.packages(\"parallel\")\n",
    "install.packages(\"tidyr\")\n",
    "install.packages(\"readr\")\n",
    "install.packages(\"scales\")\n",
    "install.packages(\"dplyr\")\n",
    "install.packages(\"gridExtra\")"
   ]
  },
  {
   "cell_type": "code",
   "execution_count": 2,
   "metadata": {},
   "outputs": [
    {
     "name": "stderr",
     "output_type": "stream",
     "text": [
      "Loading required package: dfidx\n",
      "\n",
      "\n",
      "Attaching package: ‘dfidx’\n",
      "\n",
      "\n",
      "The following object is masked from ‘package:stats’:\n",
      "\n",
      "    filter\n",
      "\n",
      "\n",
      "\n",
      "Attaching package: ‘scales’\n",
      "\n",
      "\n",
      "The following object is masked from ‘package:readr’:\n",
      "\n",
      "    col_factor\n",
      "\n",
      "\n",
      "\n",
      "Attaching package: ‘dplyr’\n",
      "\n",
      "\n",
      "The following objects are masked from ‘package:stats’:\n",
      "\n",
      "    filter, lag\n",
      "\n",
      "\n",
      "The following objects are masked from ‘package:base’:\n",
      "\n",
      "    intersect, setdiff, setequal, union\n",
      "\n",
      "\n",
      "\n",
      "Attaching package: ‘gridExtra’\n",
      "\n",
      "\n",
      "The following object is masked from ‘package:dplyr’:\n",
      "\n",
      "    combine\n",
      "\n",
      "\n",
      "Loading required package: carData\n",
      "\n",
      "\n",
      "Attaching package: ‘car’\n",
      "\n",
      "\n",
      "The following object is masked from ‘package:dplyr’:\n",
      "\n",
      "    recode\n",
      "\n",
      "\n"
     ]
    }
   ],
   "source": [
    "library(knitr)\n",
    "knitr::opts_chunk$set(echo=F, warning=F, cache=T, message=F, fig.width=6, fig.height=2.5)\n",
    "source(\"helper.R\")\n",
    "mutate = dplyr::mutate\n",
    "library(car)"
   ]
  },
  {
   "cell_type": "code",
   "execution_count": 3,
   "metadata": {},
   "outputs": [
    {
     "data": {
      "text/plain": [
       "\n",
       "To cite package ‘mlogit’ in publications use:\n",
       "\n",
       "  Yves Croissant (2020). mlogit: Multinomial Logit Models. R package\n",
       "  version 1.1-0. https://CRAN.R-project.org/package=mlogit\n",
       "\n",
       "A BibTeX entry for LaTeX users is\n",
       "\n",
       "  @Manual{,\n",
       "    title = {mlogit: Multinomial Logit Models},\n",
       "    author = {Yves Croissant},\n",
       "    year = {2020},\n",
       "    note = {R package version 1.1-0},\n",
       "    url = {https://CRAN.R-project.org/package=mlogit},\n",
       "  }\n"
      ]
     },
     "metadata": {},
     "output_type": "display_data"
    }
   ],
   "source": [
    "citation(\"mlogit\")"
   ]
  },
  {
   "cell_type": "code",
   "execution_count": 5,
   "metadata": {},
   "outputs": [],
   "source": [
    "fn <- '/home/lana/shared/caringbridge/data/projects/sna-social-support/author_initiations/author_initiation_choices_train_all_nofuturepatient.csv'\n",
    "DM <- read_csv(fn, col_types='iiiiiiiiiiiccciiiidddi')\n",
    "#%>%\n",
    "#mutate(\n",
    "#    is_friend_of_friend=is_friend_of_friend - is_reciprocal    #ifelse(is_friend_of_friend & -is_reciprocal, 1, 0)\n",
    "#)\n",
    "#%>%\n",
    "#    mutate(\n",
    "#        has_indeg=ifelse(indeg > 0, 1, 0),\n",
    "#        has_outdeg=ifelse(outdeg > 0, 1, 0)\n",
    "#      )\n",
    "# this mutate can be used to construct other features, if desired"
   ]
  },
  {
   "cell_type": "code",
   "execution_count": 6,
   "metadata": {},
   "outputs": [],
   "source": [
    "# is_friend_of_friend is computed as being EITHER a reciprocated tie OR a strong connection via a friend\n",
    "DM$is_friend_of_friend = DM$is_friend_of_friend - DM$is_reciprocal"
   ]
  },
  {
   "cell_type": "code",
   "execution_count": 7,
   "metadata": {},
   "outputs": [],
   "source": [
    "#hcf = health condition factor\n",
    "DM$hcf = relevel(factor(DM$target_health_condition), ref=\"None\")"
   ]
  },
  {
   "cell_type": "code",
   "execution_count": 8,
   "metadata": {},
   "outputs": [
    {
     "data": {
      "text/html": [
       "3878525"
      ],
      "text/latex": [
       "3878525"
      ],
      "text/markdown": [
       "3878525"
      ],
      "text/plain": [
       "[1] 3878525"
      ]
     },
     "metadata": {},
     "output_type": "display_data"
    },
    {
     "data": {
      "text/html": [
       "155141"
      ],
      "text/latex": [
       "155141"
      ],
      "text/markdown": [
       "155141"
      ],
      "text/plain": [
       "[1] 155141"
      ]
     },
     "metadata": {},
     "output_type": "display_data"
    }
   ],
   "source": [
    "nrow(DM); nrow(DM) / 25"
   ]
  },
  {
   "cell_type": "code",
   "execution_count": 7,
   "metadata": {},
   "outputs": [
    {
     "name": "stderr",
     "output_type": "stream",
     "text": [
      "Warning message:\n",
      "“Setting row names on a tibble is deprecated.”\n"
     ]
    }
   ],
   "source": [
    "# load the test data\n",
    "fn <- '/home/lana/shared/caringbridge/data/projects/sna-social-support/author_initiations/author_initiation_choices_test_all_nofuturepatient.csv'\n",
    "DM_test <- read_csv(fn, col_types='iiiiiiiiiiiccciiiidddi')\n",
    "DM_test$is_friend_of_friend = DM_test$is_friend_of_friend - DM_test$is_reciprocal\n",
    "DM_test$hcf = relevel(factor(DM_test$target_health_condition), ref=\"None\")\n",
    "H_test <- DM_test %>%\n",
    "     group_by(choice_id) %>% mutate(alt_id=row_number()) %>% ungroup() %>%\n",
    "     mlogit.data(shape=\"long\", chid.var='choice_id', choice=\"is_target\", alt.var='alt_id')\n"
   ]
  },
  {
   "cell_type": "code",
   "execution_count": 9,
   "metadata": {},
   "outputs": [
    {
     "data": {
      "text/html": [
       "<table>\n",
       "<caption>A tibble: 6 × 23</caption>\n",
       "<thead>\n",
       "\t<tr><th scope=col>choice_id</th><th scope=col>initiator_user_id</th><th scope=col>candidate_user_id</th><th scope=col>is_target</th><th scope=col>target_outdegree</th><th scope=col>target_indegree</th><th scope=col>target_has_indegree</th><th scope=col>is_reciprocal</th><th scope=col>is_weakly_connected</th><th scope=col>is_friend_of_friend</th><th scope=col>⋯</th><th scope=col>target_health_condition</th><th scope=col>is_health_condition_shared</th><th scope=col>target_is_multisite_author</th><th scope=col>target_is_mixedsite_author</th><th scope=col>target_update_count</th><th scope=col>target_update_frequency</th><th scope=col>target_days_since_most_recent_update</th><th scope=col>target_days_since_first_update</th><th scope=col>target_site_visits</th><th scope=col>hcf</th></tr>\n",
       "\t<tr><th scope=col>&lt;int&gt;</th><th scope=col>&lt;int&gt;</th><th scope=col>&lt;int&gt;</th><th scope=col>&lt;int&gt;</th><th scope=col>&lt;int&gt;</th><th scope=col>&lt;int&gt;</th><th scope=col>&lt;int&gt;</th><th scope=col>&lt;int&gt;</th><th scope=col>&lt;int&gt;</th><th scope=col>&lt;int&gt;</th><th scope=col>⋯</th><th scope=col>&lt;chr&gt;</th><th scope=col>&lt;int&gt;</th><th scope=col>&lt;int&gt;</th><th scope=col>&lt;int&gt;</th><th scope=col>&lt;int&gt;</th><th scope=col>&lt;dbl&gt;</th><th scope=col>&lt;dbl&gt;</th><th scope=col>&lt;dbl&gt;</th><th scope=col>&lt;int&gt;</th><th scope=col>&lt;fct&gt;</th></tr>\n",
       "</thead>\n",
       "<tbody>\n",
       "\t<tr><td>0</td><td>15878504</td><td> 5758186</td><td>1</td><td>10</td><td>41</td><td>1</td><td>0</td><td>1</td><td>0</td><td>⋯</td><td>Cancer                </td><td>1</td><td>0</td><td>0</td><td>628</td><td>10.271729</td><td>   0.0000</td><td>1118.324664</td><td>118271</td><td>Cancer                </td></tr>\n",
       "\t<tr><td>0</td><td>15878504</td><td> 8745849</td><td>0</td><td> 0</td><td> 1</td><td>1</td><td>0</td><td>1</td><td>0</td><td>⋯</td><td>Cardiovascular/Stroke </td><td>0</td><td>0</td><td>0</td><td> 17</td><td> 2.249373</td><td>1132.4663</td><td> 226.729861</td><td>  1962</td><td>Cardiovascular/Stroke </td></tr>\n",
       "\t<tr><td>0</td><td>15878504</td><td> 7054610</td><td>0</td><td> 3</td><td> 3</td><td>1</td><td>0</td><td>1</td><td>0</td><td>⋯</td><td>Neurological Condition</td><td>0</td><td>0</td><td>0</td><td> 11</td><td> 5.774769</td><td>1446.3149</td><td>  57.145139</td><td>   440</td><td>Neurological Condition</td></tr>\n",
       "\t<tr><td>0</td><td>15878504</td><td>24619441</td><td>0</td><td> 0</td><td> 0</td><td>0</td><td>0</td><td>0</td><td>0</td><td>⋯</td><td>Other                 </td><td>0</td><td>0</td><td>0</td><td>  5</td><td>40.986717</td><td> 322.2351</td><td>   3.659722</td><td>   161</td><td>Other                 </td></tr>\n",
       "\t<tr><td>0</td><td>15878504</td><td>12664705</td><td>0</td><td> 0</td><td> 0</td><td>0</td><td>0</td><td>0</td><td>0</td><td>⋯</td><td>Cancer                </td><td>1</td><td>0</td><td>0</td><td> 17</td><td> 1.863397</td><td> 504.8274</td><td> 273.693750</td><td>  2765</td><td>Cancer                </td></tr>\n",
       "\t<tr><td>0</td><td>15878504</td><td> 3604528</td><td>0</td><td> 0</td><td> 0</td><td>0</td><td>0</td><td>0</td><td>0</td><td>⋯</td><td>None                  </td><td>0</td><td>0</td><td>0</td><td>  8</td><td> 7.619263</td><td>1977.1469</td><td>  31.499109</td><td>   631</td><td>None                  </td></tr>\n",
       "</tbody>\n",
       "</table>\n"
      ],
      "text/latex": [
       "A tibble: 6 × 23\n",
       "\\begin{tabular}{lllllllllllllllllllll}\n",
       " choice\\_id & initiator\\_user\\_id & candidate\\_user\\_id & is\\_target & target\\_outdegree & target\\_indegree & target\\_has\\_indegree & is\\_reciprocal & is\\_weakly\\_connected & is\\_friend\\_of\\_friend & ⋯ & target\\_health\\_condition & is\\_health\\_condition\\_shared & target\\_is\\_multisite\\_author & target\\_is\\_mixedsite\\_author & target\\_update\\_count & target\\_update\\_frequency & target\\_days\\_since\\_most\\_recent\\_update & target\\_days\\_since\\_first\\_update & target\\_site\\_visits & hcf\\\\\n",
       " <int> & <int> & <int> & <int> & <int> & <int> & <int> & <int> & <int> & <int> & ⋯ & <chr> & <int> & <int> & <int> & <int> & <dbl> & <dbl> & <dbl> & <int> & <fct>\\\\\n",
       "\\hline\n",
       "\t 0 & 15878504 &  5758186 & 1 & 10 & 41 & 1 & 0 & 1 & 0 & ⋯ & Cancer                 & 1 & 0 & 0 & 628 & 10.271729 &    0.0000 & 1118.324664 & 118271 & Cancer                \\\\\n",
       "\t 0 & 15878504 &  8745849 & 0 &  0 &  1 & 1 & 0 & 1 & 0 & ⋯ & Cardiovascular/Stroke  & 0 & 0 & 0 &  17 &  2.249373 & 1132.4663 &  226.729861 &   1962 & Cardiovascular/Stroke \\\\\n",
       "\t 0 & 15878504 &  7054610 & 0 &  3 &  3 & 1 & 0 & 1 & 0 & ⋯ & Neurological Condition & 0 & 0 & 0 &  11 &  5.774769 & 1446.3149 &   57.145139 &    440 & Neurological Condition\\\\\n",
       "\t 0 & 15878504 & 24619441 & 0 &  0 &  0 & 0 & 0 & 0 & 0 & ⋯ & Other                  & 0 & 0 & 0 &   5 & 40.986717 &  322.2351 &    3.659722 &    161 & Other                 \\\\\n",
       "\t 0 & 15878504 & 12664705 & 0 &  0 &  0 & 0 & 0 & 0 & 0 & ⋯ & Cancer                 & 1 & 0 & 0 &  17 &  1.863397 &  504.8274 &  273.693750 &   2765 & Cancer                \\\\\n",
       "\t 0 & 15878504 &  3604528 & 0 &  0 &  0 & 0 & 0 & 0 & 0 & ⋯ & None                   & 0 & 0 & 0 &   8 &  7.619263 & 1977.1469 &   31.499109 &    631 & None                  \\\\\n",
       "\\end{tabular}\n"
      ],
      "text/markdown": [
       "\n",
       "A tibble: 6 × 23\n",
       "\n",
       "| choice_id &lt;int&gt; | initiator_user_id &lt;int&gt; | candidate_user_id &lt;int&gt; | is_target &lt;int&gt; | target_outdegree &lt;int&gt; | target_indegree &lt;int&gt; | target_has_indegree &lt;int&gt; | is_reciprocal &lt;int&gt; | is_weakly_connected &lt;int&gt; | is_friend_of_friend &lt;int&gt; | ⋯ ⋯ | target_health_condition &lt;chr&gt; | is_health_condition_shared &lt;int&gt; | target_is_multisite_author &lt;int&gt; | target_is_mixedsite_author &lt;int&gt; | target_update_count &lt;int&gt; | target_update_frequency &lt;dbl&gt; | target_days_since_most_recent_update &lt;dbl&gt; | target_days_since_first_update &lt;dbl&gt; | target_site_visits &lt;int&gt; | hcf &lt;fct&gt; |\n",
       "|---|---|---|---|---|---|---|---|---|---|---|---|---|---|---|---|---|---|---|---|---|\n",
       "| 0 | 15878504 |  5758186 | 1 | 10 | 41 | 1 | 0 | 1 | 0 | ⋯ | Cancer                 | 1 | 0 | 0 | 628 | 10.271729 |    0.0000 | 1118.324664 | 118271 | Cancer                 |\n",
       "| 0 | 15878504 |  8745849 | 0 |  0 |  1 | 1 | 0 | 1 | 0 | ⋯ | Cardiovascular/Stroke  | 0 | 0 | 0 |  17 |  2.249373 | 1132.4663 |  226.729861 |   1962 | Cardiovascular/Stroke  |\n",
       "| 0 | 15878504 |  7054610 | 0 |  3 |  3 | 1 | 0 | 1 | 0 | ⋯ | Neurological Condition | 0 | 0 | 0 |  11 |  5.774769 | 1446.3149 |   57.145139 |    440 | Neurological Condition |\n",
       "| 0 | 15878504 | 24619441 | 0 |  0 |  0 | 0 | 0 | 0 | 0 | ⋯ | Other                  | 0 | 0 | 0 |   5 | 40.986717 |  322.2351 |    3.659722 |    161 | Other                  |\n",
       "| 0 | 15878504 | 12664705 | 0 |  0 |  0 | 0 | 0 | 0 | 0 | ⋯ | Cancer                 | 1 | 0 | 0 |  17 |  1.863397 |  504.8274 |  273.693750 |   2765 | Cancer                 |\n",
       "| 0 | 15878504 |  3604528 | 0 |  0 |  0 | 0 | 0 | 0 | 0 | ⋯ | None                   | 0 | 0 | 0 |   8 |  7.619263 | 1977.1469 |   31.499109 |    631 | None                   |\n",
       "\n"
      ],
      "text/plain": [
       "  choice_id initiator_user_id candidate_user_id is_target target_outdegree\n",
       "1 0         15878504           5758186          1         10              \n",
       "2 0         15878504           8745849          0          0              \n",
       "3 0         15878504           7054610          0          3              \n",
       "4 0         15878504          24619441          0          0              \n",
       "5 0         15878504          12664705          0          0              \n",
       "6 0         15878504           3604528          0          0              \n",
       "  target_indegree target_has_indegree is_reciprocal is_weakly_connected\n",
       "1 41              1                   0             1                  \n",
       "2  1              1                   0             1                  \n",
       "3  3              1                   0             1                  \n",
       "4  0              0                   0             0                  \n",
       "5  0              0                   0             0                  \n",
       "6  0              0                   0             0                  \n",
       "  is_friend_of_friend ⋯ target_health_condition is_health_condition_shared\n",
       "1 0                   ⋯ Cancer                  1                         \n",
       "2 0                   ⋯ Cardiovascular/Stroke   0                         \n",
       "3 0                   ⋯ Neurological Condition  0                         \n",
       "4 0                   ⋯ Other                   0                         \n",
       "5 0                   ⋯ Cancer                  1                         \n",
       "6 0                   ⋯ None                    0                         \n",
       "  target_is_multisite_author target_is_mixedsite_author target_update_count\n",
       "1 0                          0                          628                \n",
       "2 0                          0                           17                \n",
       "3 0                          0                           11                \n",
       "4 0                          0                            5                \n",
       "5 0                          0                           17                \n",
       "6 0                          0                            8                \n",
       "  target_update_frequency target_days_since_most_recent_update\n",
       "1 10.271729                  0.0000                           \n",
       "2  2.249373               1132.4663                           \n",
       "3  5.774769               1446.3149                           \n",
       "4 40.986717                322.2351                           \n",
       "5  1.863397                504.8274                           \n",
       "6  7.619263               1977.1469                           \n",
       "  target_days_since_first_update target_site_visits hcf                   \n",
       "1 1118.324664                    118271             Cancer                \n",
       "2  226.729861                      1962             Cardiovascular/Stroke \n",
       "3   57.145139                       440             Neurological Condition\n",
       "4    3.659722                       161             Other                 \n",
       "5  273.693750                      2765             Cancer                \n",
       "6   31.499109                       631             None                  "
      ]
     },
     "metadata": {},
     "output_type": "display_data"
    }
   ],
   "source": [
    "head(DM)"
   ]
  },
  {
   "cell_type": "code",
   "execution_count": 10,
   "metadata": {},
   "outputs": [
    {
     "data": {
      "text/html": [
       "<ol class=list-inline>\n",
       "\t<li>'choice_id'</li>\n",
       "\t<li>'initiator_user_id'</li>\n",
       "\t<li>'candidate_user_id'</li>\n",
       "\t<li>'is_target'</li>\n",
       "\t<li>'target_outdegree'</li>\n",
       "\t<li>'target_indegree'</li>\n",
       "\t<li>'target_has_indegree'</li>\n",
       "\t<li>'is_reciprocal'</li>\n",
       "\t<li>'is_weakly_connected'</li>\n",
       "\t<li>'is_friend_of_friend'</li>\n",
       "\t<li>'is_author_type_shared'</li>\n",
       "\t<li>'target_author_type'</li>\n",
       "\t<li>'initiator_author_type'</li>\n",
       "\t<li>'target_health_condition'</li>\n",
       "\t<li>'is_health_condition_shared'</li>\n",
       "\t<li>'target_is_multisite_author'</li>\n",
       "\t<li>'target_is_mixedsite_author'</li>\n",
       "\t<li>'target_update_count'</li>\n",
       "\t<li>'target_update_frequency'</li>\n",
       "\t<li>'target_days_since_most_recent_update'</li>\n",
       "\t<li>'target_days_since_first_update'</li>\n",
       "\t<li>'target_site_visits'</li>\n",
       "\t<li>'hcf'</li>\n",
       "</ol>\n"
      ],
      "text/latex": [
       "\\begin{enumerate*}\n",
       "\\item 'choice\\_id'\n",
       "\\item 'initiator\\_user\\_id'\n",
       "\\item 'candidate\\_user\\_id'\n",
       "\\item 'is\\_target'\n",
       "\\item 'target\\_outdegree'\n",
       "\\item 'target\\_indegree'\n",
       "\\item 'target\\_has\\_indegree'\n",
       "\\item 'is\\_reciprocal'\n",
       "\\item 'is\\_weakly\\_connected'\n",
       "\\item 'is\\_friend\\_of\\_friend'\n",
       "\\item 'is\\_author\\_type\\_shared'\n",
       "\\item 'target\\_author\\_type'\n",
       "\\item 'initiator\\_author\\_type'\n",
       "\\item 'target\\_health\\_condition'\n",
       "\\item 'is\\_health\\_condition\\_shared'\n",
       "\\item 'target\\_is\\_multisite\\_author'\n",
       "\\item 'target\\_is\\_mixedsite\\_author'\n",
       "\\item 'target\\_update\\_count'\n",
       "\\item 'target\\_update\\_frequency'\n",
       "\\item 'target\\_days\\_since\\_most\\_recent\\_update'\n",
       "\\item 'target\\_days\\_since\\_first\\_update'\n",
       "\\item 'target\\_site\\_visits'\n",
       "\\item 'hcf'\n",
       "\\end{enumerate*}\n"
      ],
      "text/markdown": [
       "1. 'choice_id'\n",
       "2. 'initiator_user_id'\n",
       "3. 'candidate_user_id'\n",
       "4. 'is_target'\n",
       "5. 'target_outdegree'\n",
       "6. 'target_indegree'\n",
       "7. 'target_has_indegree'\n",
       "8. 'is_reciprocal'\n",
       "9. 'is_weakly_connected'\n",
       "10. 'is_friend_of_friend'\n",
       "11. 'is_author_type_shared'\n",
       "12. 'target_author_type'\n",
       "13. 'initiator_author_type'\n",
       "14. 'target_health_condition'\n",
       "15. 'is_health_condition_shared'\n",
       "16. 'target_is_multisite_author'\n",
       "17. 'target_is_mixedsite_author'\n",
       "18. 'target_update_count'\n",
       "19. 'target_update_frequency'\n",
       "20. 'target_days_since_most_recent_update'\n",
       "21. 'target_days_since_first_update'\n",
       "22. 'target_site_visits'\n",
       "23. 'hcf'\n",
       "\n",
       "\n"
      ],
      "text/plain": [
       " [1] \"choice_id\"                           \n",
       " [2] \"initiator_user_id\"                   \n",
       " [3] \"candidate_user_id\"                   \n",
       " [4] \"is_target\"                           \n",
       " [5] \"target_outdegree\"                    \n",
       " [6] \"target_indegree\"                     \n",
       " [7] \"target_has_indegree\"                 \n",
       " [8] \"is_reciprocal\"                       \n",
       " [9] \"is_weakly_connected\"                 \n",
       "[10] \"is_friend_of_friend\"                 \n",
       "[11] \"is_author_type_shared\"               \n",
       "[12] \"target_author_type\"                  \n",
       "[13] \"initiator_author_type\"               \n",
       "[14] \"target_health_condition\"             \n",
       "[15] \"is_health_condition_shared\"          \n",
       "[16] \"target_is_multisite_author\"          \n",
       "[17] \"target_is_mixedsite_author\"          \n",
       "[18] \"target_update_count\"                 \n",
       "[19] \"target_update_frequency\"             \n",
       "[20] \"target_days_since_most_recent_update\"\n",
       "[21] \"target_days_since_first_update\"      \n",
       "[22] \"target_site_visits\"                  \n",
       "[23] \"hcf\"                                 "
      ]
     },
     "metadata": {},
     "output_type": "display_data"
    }
   ],
   "source": [
    "# column names\n",
    "names(DM)"
   ]
  },
  {
   "cell_type": "code",
   "execution_count": 11,
   "metadata": {},
   "outputs": [],
   "source": [
    "H_train <- DM %>%\n",
    "     group_by(choice_id) %>% mutate(alt_id=row_number()) %>% ungroup() %>%\n",
    "     mlogit.data(shape=\"long\", chid.var='choice_id', choice=\"is_target\", alt.var='alt_id')\n"
   ]
  },
  {
   "cell_type": "code",
   "execution_count": 11,
   "metadata": {},
   "outputs": [
    {
     "name": "stderr",
     "output_type": "stream",
     "text": [
      "Warning message:\n",
      "“Setting row names on a tibble is deprecated.”\n",
      "Warning message:\n",
      "“Setting row names on a tibble is deprecated.”\n"
     ]
    }
   ],
   "source": [
    "# DO NOT RUN THIS CELL - DEPRECATED IMPLEMENTATION\n",
    "\n",
    "examples <- DM %>% distinct(choice_id) %>% mutate(r=runif(nrow(DM %>% distinct(choice_id)))) %>% arrange(r)\n",
    "\n",
    "\n",
    "H_train <- DM %>% inner_join(head(examples, 150000), by='choice_id') %>%\n",
    "     group_by(choice_id) %>% mutate(alt_id=row_number()) %>% ungroup() %>%\n",
    "#     select(choice_id, alt_id, is_target, target_indegree, target_has_indegree) %>%\n",
    "     mlogit.data(shape=\"long\", chid.var='choice_id', choice=\"is_target\", alt.var='alt_id')\n",
    "\n",
    "H_valid <- DM %>% inner_join(tail(examples, 5141), by='choice_id') %>%\n",
    "     group_by(choice_id) %>% mutate(alt_id=row_number()) %>% ungroup() %>%\n",
    "#     select(choice_id, alt_id, y, outdeg:has_outdeg) %>%\n",
    "     mlogit.data(shape=\"long\", chid.var='choice_id', choice=\"is_target\", alt.var='alt_id')\n"
   ]
  },
  {
   "cell_type": "code",
   "execution_count": 12,
   "metadata": {
    "scrolled": true
   },
   "outputs": [
    {
     "name": "stdout",
     "output_type": "stream",
     "text": [
      "\u001b[90m# A tibble: 3,878,525 x 25\u001b[39m\n",
      "   choice_id initiator_user_… candidate_user_… is_target target_outdegree\n",
      " \u001b[90m*\u001b[39m     \u001b[3m\u001b[90m<int>\u001b[39m\u001b[23m            \u001b[3m\u001b[90m<int>\u001b[39m\u001b[23m            \u001b[3m\u001b[90m<int>\u001b[39m\u001b[23m \u001b[3m\u001b[90m<lgl>\u001b[39m\u001b[23m                \u001b[3m\u001b[90m<int>\u001b[39m\u001b[23m\n",
      "\u001b[90m 1\u001b[39m         0         15\u001b[4m8\u001b[24m\u001b[4m7\u001b[24m\u001b[4m8\u001b[24m504          5\u001b[4m7\u001b[24m\u001b[4m5\u001b[24m\u001b[4m8\u001b[24m186 TRUE                    10\n",
      "\u001b[90m 2\u001b[39m         0         15\u001b[4m8\u001b[24m\u001b[4m7\u001b[24m\u001b[4m8\u001b[24m504          8\u001b[4m7\u001b[24m\u001b[4m4\u001b[24m\u001b[4m5\u001b[24m849 FALSE                    0\n",
      "\u001b[90m 3\u001b[39m         0         15\u001b[4m8\u001b[24m\u001b[4m7\u001b[24m\u001b[4m8\u001b[24m504          7\u001b[4m0\u001b[24m\u001b[4m5\u001b[24m\u001b[4m4\u001b[24m610 FALSE                    3\n",
      "\u001b[90m 4\u001b[39m         0         15\u001b[4m8\u001b[24m\u001b[4m7\u001b[24m\u001b[4m8\u001b[24m504         24\u001b[4m6\u001b[24m\u001b[4m1\u001b[24m\u001b[4m9\u001b[24m441 FALSE                    0\n",
      "\u001b[90m 5\u001b[39m         0         15\u001b[4m8\u001b[24m\u001b[4m7\u001b[24m\u001b[4m8\u001b[24m504         12\u001b[4m6\u001b[24m\u001b[4m6\u001b[24m\u001b[4m4\u001b[24m705 FALSE                    0\n",
      "\u001b[90m 6\u001b[39m         0         15\u001b[4m8\u001b[24m\u001b[4m7\u001b[24m\u001b[4m8\u001b[24m504          3\u001b[4m6\u001b[24m\u001b[4m0\u001b[24m\u001b[4m4\u001b[24m528 FALSE                    0\n",
      "\u001b[90m 7\u001b[39m         0         15\u001b[4m8\u001b[24m\u001b[4m7\u001b[24m\u001b[4m8\u001b[24m504         10\u001b[4m2\u001b[24m\u001b[4m1\u001b[24m\u001b[4m9\u001b[24m933 FALSE                    1\n",
      "\u001b[90m 8\u001b[39m         0         15\u001b[4m8\u001b[24m\u001b[4m7\u001b[24m\u001b[4m8\u001b[24m504          2\u001b[4m0\u001b[24m\u001b[4m1\u001b[24m\u001b[4m3\u001b[24m798 FALSE                    0\n",
      "\u001b[90m 9\u001b[39m         0         15\u001b[4m8\u001b[24m\u001b[4m7\u001b[24m\u001b[4m8\u001b[24m504          3\u001b[4m6\u001b[24m\u001b[4m2\u001b[24m\u001b[4m5\u001b[24m288 FALSE                    1\n",
      "\u001b[90m10\u001b[39m         0         15\u001b[4m8\u001b[24m\u001b[4m7\u001b[24m\u001b[4m8\u001b[24m504          2\u001b[4m8\u001b[24m\u001b[4m9\u001b[24m\u001b[4m0\u001b[24m036 FALSE                    0\n",
      "\u001b[90m# … with 3,878,515 more rows, and 21 more variables: target_indegree \u001b[3m\u001b[90m<int>\u001b[90m\u001b[23m,\n",
      "#   target_has_indegree \u001b[3m\u001b[90m<int>\u001b[90m\u001b[23m, is_reciprocal \u001b[3m\u001b[90m<int>\u001b[90m\u001b[23m, is_weakly_connected \u001b[3m\u001b[90m<int>\u001b[90m\u001b[23m,\n",
      "#   is_friend_of_friend \u001b[3m\u001b[90m<int>\u001b[90m\u001b[23m, is_author_type_shared \u001b[3m\u001b[90m<int>\u001b[90m\u001b[23m,\n",
      "#   target_author_type \u001b[3m\u001b[90m<chr>\u001b[90m\u001b[23m, initiator_author_type \u001b[3m\u001b[90m<chr>\u001b[90m\u001b[23m,\n",
      "#   target_health_condition \u001b[3m\u001b[90m<chr>\u001b[90m\u001b[23m, is_health_condition_shared \u001b[3m\u001b[90m<int>\u001b[90m\u001b[23m,\n",
      "#   target_is_multisite_author \u001b[3m\u001b[90m<int>\u001b[90m\u001b[23m, target_is_mixedsite_author \u001b[3m\u001b[90m<int>\u001b[90m\u001b[23m,\n",
      "#   target_update_count \u001b[3m\u001b[90m<int>\u001b[90m\u001b[23m, target_update_frequency \u001b[3m\u001b[90m<dbl>\u001b[90m\u001b[23m,\n",
      "#   target_days_since_most_recent_update \u001b[3m\u001b[90m<dbl>\u001b[90m\u001b[23m,\n",
      "#   target_days_since_first_update \u001b[3m\u001b[90m<dbl>\u001b[90m\u001b[23m, target_site_visits \u001b[3m\u001b[90m<int>\u001b[90m\u001b[23m, hcf \u001b[3m\u001b[90m<fct>\u001b[90m\u001b[23m,\n",
      "#   alt_id \u001b[3m\u001b[90m<fct>\u001b[90m\u001b[23m, idx$chid \u001b[3m\u001b[90m<int>\u001b[90m\u001b[23m, $alt \u001b[3m\u001b[90m<fct>\u001b[90m\u001b[23m\u001b[39m\n",
      "\n",
      "~~~ indexes ~~~~\n",
      "   chid alt\n",
      "1     0   1\n",
      "2     0   2\n",
      "3     0   3\n",
      "4     0   4\n",
      "5     0   5\n",
      "6     0   6\n",
      "7     0   7\n",
      "8     0   8\n",
      "9     0   9\n",
      "10    0  10\n",
      "indexes:  1, 2 \n"
     ]
    }
   ],
   "source": [
    "head(H_train)"
   ]
  },
  {
   "cell_type": "code",
   "execution_count": 13,
   "metadata": {},
   "outputs": [
    {
     "ename": "ERROR",
     "evalue": "Error in cor(dplyr::select_if(H_train, is.numeric) %>% select(-contains(\"_id\"))): 'x' must be numeric\n",
     "output_type": "error",
     "traceback": [
      "Error in cor(dplyr::select_if(H_train, is.numeric) %>% select(-contains(\"_id\"))): 'x' must be numeric\nTraceback:\n",
      "1. cor(dplyr::select_if(H_train, is.numeric) %>% select(-contains(\"_id\")))",
      "2. stop(\"'x' must be numeric\")"
     ]
    }
   ],
   "source": [
    "nums <- unlist(lapply(H_train, is.numeric))  \n",
    "#cor(H_train[ , nums])\n",
    "#unlist(lapply(nums, \"_id\"))\n",
    "#select(H_train,contains(\"_id\"))\n",
    "cor(dplyr::select_if(H_train, is.numeric) %>% select(-contains(\"_id\")))"
   ]
  },
  {
   "cell_type": "code",
   "execution_count": null,
   "metadata": {},
   "outputs": [],
   "source": [
    "start_time <- proc.time()\n",
    "fs <- list(\n",
    "#  mlogit(is_target ~ censored_log(target_outdegree, min=1) + censored_log(target_indegree, min=1) + is_reciprocal | 0, H_train),\n",
    "  mlogit(is_target ~ factor(target_author_type) \n",
    "         + factor(target_author_type) : is_author_type_shared \n",
    "         + is_author_type_shared | 0, H_train),\n",
    "  mlogit(is_target ~ censored_log(target_outdegree, min=1) \n",
    "         + target_has_indegree \n",
    "         + censored_log(target_indegree, min=1) \n",
    "         + is_reciprocal\n",
    "         + is_weakly_connected\n",
    "         + is_friend_of_friend\n",
    "         + factor(target_author_type) \n",
    "         + is_author_type_shared\n",
    "         + is_health_condition_shared\n",
    "         + target_is_multisite_author\n",
    "         + target_is_mixedsite_author\n",
    "         + target_update_count\n",
    "         + target_update_frequency\n",
    "         + target_days_since_most_recent_update\n",
    "         + target_days_since_first_update\n",
    "#         + target_site_visits\n",
    "         | 0, H_train)\n",
    ")\n",
    "total_time <- proc.time() - start_time\n",
    "total_time"
   ]
  },
  {
   "cell_type": "code",
   "execution_count": 14,
   "metadata": {
    "scrolled": false
   },
   "outputs": [
    {
     "name": "stdout",
     "output_type": "stream",
     "text": [
      "\n",
      "==================================================================================\n",
      "                                                               is_target          \n",
      "                                                           (1)            (2)     \n",
      "----------------------------------------------------------------------------------\n",
      "censored_log(target_outdegree, min = 1)                                -0.191***  \n",
      "                                                                        (0.005)   \n",
      "                                                                                  \n",
      "target_has_indegree                                                    0.756***   \n",
      "                                                                        (0.017)   \n",
      "                                                                                  \n",
      "censored_log(target_indegree, min = 1)                                 0.649***   \n",
      "                                                                        (0.005)   \n",
      "                                                                                  \n",
      "is_reciprocal                                                          20.016***  \n",
      "                                                                        (0.460)   \n",
      "                                                                                  \n",
      "is_weakly_connected                                                    1.767***   \n",
      "                                                                        (0.021)   \n",
      "                                                                                  \n",
      "is_friend_of_friend                                                    5.220***   \n",
      "                                                                        (0.097)   \n",
      "                                                                                  \n",
      "factor(target_author_type)mixed                          0.084***        0.020    \n",
      "                                                         (0.018)        (0.018)   \n",
      "                                                                                  \n",
      "factor(target_author_type)p                              0.087***      -0.242***  \n",
      "                                                         (0.019)        (0.012)   \n",
      "                                                                                  \n",
      "is_author_type_shared                                    0.387***      0.299***   \n",
      "                                                         (0.019)        (0.012)   \n",
      "                                                                                  \n",
      "factor(target_author_type)mixed:is_author_type_shared   -0.438***                 \n",
      "                                                         (0.048)                  \n",
      "                                                                                  \n",
      "factor(target_author_type)p:is_author_type_shared         0.035                   \n",
      "                                                         (0.038)                  \n",
      "                                                                                  \n",
      "is_heh_condition_shared                                                0.213***   \n",
      "                                                                        (0.009)   \n",
      "                                                                                  \n",
      "target_is_multisite_author                                             0.315***   \n",
      "                                                                        (0.015)   \n",
      "                                                                                  \n",
      "target_is_mixedsite_author                                             0.474***   \n",
      "                                                                        (0.008)   \n",
      "                                                                                  \n",
      "target_update_count                                                   -0.0003***  \n",
      "                                                                       (0.00004)  \n",
      "                                                                                  \n",
      "target_update_frequency                                                0.007***   \n",
      "                                                                       (0.0002)   \n",
      "                                                                                  \n",
      "target_days_since_most_recent_update                                   -0.011***  \n",
      "                                                                       (0.00005)  \n",
      "                                                                                  \n",
      "target_days_since_first_update                                         -0.001***  \n",
      "                                                                       (0.00001)  \n",
      "                                                                                  \n",
      "----------------------------------------------------------------------------------\n",
      "Observations                                             155,141        155,141   \n",
      "Log Likelihood                                         -497,923.700  -133,746.600 \n",
      "==================================================================================\n",
      "Note:                                                  *p<0.1; **p<0.05; ***p<0.01\n"
     ]
    }
   ],
   "source": [
    "stargazer::stargazer(\n",
    "  fs,\n",
    "  dep.var.caption = \"\",\n",
    "  #covariate.labels = c(\"log outdegree\", \"Has outegree\", \"log indegree\", \"Has indegree\",\n",
    "   #                    \"is shared condition\",\n",
    "    #                   \"is patient authored\", \"is mixed authored\", \"is shared authored\",\n",
    "     #                  \"visit count\"),\n",
    "  header=TRUE,\n",
    "  type='text')    # use type = 'latex' to produce latex table code as the output"
   ]
  },
  {
   "cell_type": "code",
   "execution_count": 15,
   "metadata": {},
   "outputs": [
    {
     "name": "stdout",
     "output_type": "stream",
     "text": [
      "[1] \"Train accuracy  &   0.0462 & 0.7398  \\\\\"\n",
      "[1] \"Test accuracy   &   0.0452 & 0.7727  \\\\\"\n"
     ]
    }
   ],
   "source": [
    "print(paste(\"Train accuracy  &  \",\n",
    "    lapply(fs, function(x) acc(x, H_train)) %>% unlist() %>% round(4) %>% paste(collapse=' & '), ' \\\\'))\n",
    "print(paste(\"Test accuracy   &  \",\n",
    "    lapply(fs, function(x) acc(x, H_test)) %>% unlist() %>% round(4) %>% paste(collapse=' & '), ' \\\\'))\n"
   ]
  },
  {
   "cell_type": "code",
   "execution_count": 16,
   "metadata": {},
   "outputs": [
    {
     "data": {
      "text/html": [
       "<dl class=dl-horizontal>\n",
       "\t<dt>censored_log(target_outdegree, min = 1)</dt>\n",
       "\t\t<dd>-17.3701738776079</dd>\n",
       "\t<dt>target_has_indegree</dt>\n",
       "\t\t<dd>112.932757012046</dd>\n",
       "\t<dt>censored_log(target_indegree, min = 1)</dt>\n",
       "\t\t<dd>91.3454793495408</dd>\n",
       "\t<dt>is_reciprocal</dt>\n",
       "\t\t<dd>49282663183.367</dd>\n",
       "\t<dt>is_weakly_connected</dt>\n",
       "\t\t<dd>485.343512097563</dd>\n",
       "\t<dt>is_friend_of_friend</dt>\n",
       "\t\t<dd>18401.227976564</dd>\n",
       "\t<dt>factor(target_author_type)mixed</dt>\n",
       "\t\t<dd>2.04367521142499</dd>\n",
       "\t<dt>factor(target_author_type)p</dt>\n",
       "\t\t<dd>-21.5259391170543</dd>\n",
       "\t<dt>is_author_type_shared</dt>\n",
       "\t\t<dd>34.8517896611307</dd>\n",
       "\t<dt>is_heh_condition_shared</dt>\n",
       "\t\t<dd>23.7001357276337</dd>\n",
       "\t<dt>target_is_multisite_author</dt>\n",
       "\t\t<dd>37.0189654845484</dd>\n",
       "\t<dt>target_is_mixedsite_author</dt>\n",
       "\t\t<dd>60.6599847681288</dd>\n",
       "\t<dt>target_update_count</dt>\n",
       "\t\t<dd>-0.0341824393761292</dd>\n",
       "\t<dt>target_update_frequency</dt>\n",
       "\t\t<dd>0.711428565195882</dd>\n",
       "\t<dt>target_days_since_most_recent_update</dt>\n",
       "\t\t<dd>-1.12715729580413</dd>\n",
       "\t<dt>target_days_since_first_update</dt>\n",
       "\t\t<dd>-0.117804568207081</dd>\n",
       "</dl>\n"
      ],
      "text/latex": [
       "\\begin{description*}\n",
       "\\item[censored\\textbackslash{}\\_log(target\\textbackslash{}\\_outdegree, min = 1)] -17.3701738776079\n",
       "\\item[target\\textbackslash{}\\_has\\textbackslash{}\\_indegree] 112.932757012046\n",
       "\\item[censored\\textbackslash{}\\_log(target\\textbackslash{}\\_indegree, min = 1)] 91.3454793495408\n",
       "\\item[is\\textbackslash{}\\_reciprocal] 49282663183.367\n",
       "\\item[is\\textbackslash{}\\_weakly\\textbackslash{}\\_connected] 485.343512097563\n",
       "\\item[is\\textbackslash{}\\_friend\\textbackslash{}\\_of\\textbackslash{}\\_friend] 18401.227976564\n",
       "\\item[factor(target\\textbackslash{}\\_author\\textbackslash{}\\_type)mixed] 2.04367521142499\n",
       "\\item[factor(target\\textbackslash{}\\_author\\textbackslash{}\\_type)p] -21.5259391170543\n",
       "\\item[is\\textbackslash{}\\_author\\textbackslash{}\\_type\\textbackslash{}\\_shared] 34.8517896611307\n",
       "\\item[is\\textbackslash{}\\_heh\\textbackslash{}\\_condition\\textbackslash{}\\_shared] 23.7001357276337\n",
       "\\item[target\\textbackslash{}\\_is\\textbackslash{}\\_multisite\\textbackslash{}\\_author] 37.0189654845484\n",
       "\\item[target\\textbackslash{}\\_is\\textbackslash{}\\_mixedsite\\textbackslash{}\\_author] 60.6599847681288\n",
       "\\item[target\\textbackslash{}\\_update\\textbackslash{}\\_count] -0.0341824393761292\n",
       "\\item[target\\textbackslash{}\\_update\\textbackslash{}\\_frequency] 0.711428565195882\n",
       "\\item[target\\textbackslash{}\\_days\\textbackslash{}\\_since\\textbackslash{}\\_most\\textbackslash{}\\_recent\\textbackslash{}\\_update] -1.12715729580413\n",
       "\\item[target\\textbackslash{}\\_days\\textbackslash{}\\_since\\textbackslash{}\\_first\\textbackslash{}\\_update] -0.117804568207081\n",
       "\\end{description*}\n"
      ],
      "text/markdown": [
       "censored_log(target_outdegree, min = 1)\n",
       ":   -17.3701738776079target_has_indegree\n",
       ":   112.932757012046censored_log(target_indegree, min = 1)\n",
       ":   91.3454793495408is_reciprocal\n",
       ":   49282663183.367is_weakly_connected\n",
       ":   485.343512097563is_friend_of_friend\n",
       ":   18401.227976564factor(target_author_type)mixed\n",
       ":   2.04367521142499factor(target_author_type)p\n",
       ":   -21.5259391170543is_author_type_shared\n",
       ":   34.8517896611307is_heh_condition_shared\n",
       ":   23.7001357276337target_is_multisite_author\n",
       ":   37.0189654845484target_is_mixedsite_author\n",
       ":   60.6599847681288target_update_count\n",
       ":   -0.0341824393761292target_update_frequency\n",
       ":   0.711428565195882target_days_since_most_recent_update\n",
       ":   -1.12715729580413target_days_since_first_update\n",
       ":   -0.117804568207081\n",
       "\n"
      ],
      "text/plain": [
       "censored_log(target_outdegree, min = 1)                     target_has_indegree \n",
       "                          -1.737017e+01                            1.129328e+02 \n",
       " censored_log(target_indegree, min = 1)                           is_reciprocal \n",
       "                           9.134548e+01                            4.928266e+10 \n",
       "                    is_weakly_connected                     is_friend_of_friend \n",
       "                           4.853435e+02                            1.840123e+04 \n",
       "        factor(target_author_type)mixed             factor(target_author_type)p \n",
       "                           2.043675e+00                           -2.152594e+01 \n",
       "                  is_author_type_shared                 is_heh_condition_shared \n",
       "                           3.485179e+01                            2.370014e+01 \n",
       "             target_is_multisite_author              target_is_mixedsite_author \n",
       "                           3.701897e+01                            6.065998e+01 \n",
       "                    target_update_count                 target_update_frequency \n",
       "                          -3.418244e-02                            7.114286e-01 \n",
       "   target_days_since_most_recent_update          target_days_since_first_update \n",
       "                          -1.127157e+00                           -1.178046e-01 \n",
       "attr(,\"names.sup.coef\")\n",
       "character(0)\n",
       "attr(,\"fixed\")\n",
       "censored_log(target_outdegree, min = 1)                     target_has_indegree \n",
       "                                  FALSE                                   FALSE \n",
       " censored_log(target_indegree, min = 1)                           is_reciprocal \n",
       "                                  FALSE                                   FALSE \n",
       "                    is_weakly_connected                     is_friend_of_friend \n",
       "                                  FALSE                                   FALSE \n",
       "        factor(target_author_type)mixed             factor(target_author_type)p \n",
       "                                  FALSE                                   FALSE \n",
       "                  is_author_type_shared                 is_heh_condition_shared \n",
       "                                  FALSE                                   FALSE \n",
       "             target_is_multisite_author              target_is_mixedsite_author \n",
       "                                  FALSE                                   FALSE \n",
       "                    target_update_count                 target_update_frequency \n",
       "                                  FALSE                                   FALSE \n",
       "   target_days_since_most_recent_update          target_days_since_first_update \n",
       "                                  FALSE                                   FALSE \n",
       "attr(,\"sup\")\n",
       "character(0)"
      ]
     },
     "metadata": {},
     "output_type": "display_data"
    }
   ],
   "source": [
    "# % increase in the odds of being the target author\n",
    "# \"The exponential beta coefficient represents the change in the odds\n",
    "# of the dependent variable being in a particular category vis-a-vis the reference category,\n",
    "# associated with a one unit change of the corresponding independent variable.\"\n",
    "(exp(fs[[2]]$coefficients) - 1) * 100"
   ]
  },
  {
   "cell_type": "markdown",
   "metadata": {},
   "source": [
    "## Modeling by feature category"
   ]
  },
  {
   "cell_type": "code",
   "execution_count": 18,
   "metadata": {},
   "outputs": [
    {
     "data": {
      "text/plain": [
       "   user  system elapsed \n",
       "350.130  94.039 444.732 "
      ]
     },
     "metadata": {},
     "output_type": "display_data"
    }
   ],
   "source": [
    "start_time <- proc.time()\n",
    "fs <- list(\n",
    "  mlogit(is_target ~ censored_log(target_outdegree, min=1) \n",
    "         + target_has_indegree \n",
    "         + censored_log(target_indegree, min=1) \n",
    "         + is_reciprocal\n",
    "         + is_weakly_connected\n",
    "         + is_friend_of_friend\n",
    "         + factor(target_author_type) \n",
    "         + is_author_type_shared\n",
    "         + is_health_condition_shared\n",
    "         + target_is_multisite_author\n",
    "         + target_is_mixedsite_author\n",
    "         + target_update_count\n",
    "         + target_update_frequency\n",
    "         + target_days_since_most_recent_update\n",
    "         + target_days_since_first_update\n",
    "         | 0, H_train),\n",
    "  mlogit(is_target ~ censored_log(target_outdegree, min=1) \n",
    "         + target_has_indegree \n",
    "         + censored_log(target_indegree, min=1) \n",
    "         + is_reciprocal\n",
    "         + is_weakly_connected\n",
    "         + is_friend_of_friend\n",
    "         | 0, H_train),\n",
    "  mlogit(is_target ~ factor(target_author_type) \n",
    "         + is_author_type_shared\n",
    "         + target_is_multisite_author\n",
    "         + target_is_mixedsite_author\n",
    "         | 0, H_train),\n",
    "  mlogit(is_target ~ target_update_count\n",
    "         + target_update_frequency\n",
    "         + target_days_since_most_recent_update\n",
    "         + target_days_since_first_update\n",
    "         | 0, H_train),\n",
    "  mlogit(is_target ~ is_health_condition_shared | 0, H_train)\n",
    ")\n",
    "total_time <- proc.time() - start_time\n",
    "total_time"
   ]
  },
  {
   "cell_type": "code",
   "execution_count": 37,
   "metadata": {
    "scrolled": false
   },
   "outputs": [
    {
     "name": "stdout",
     "output_type": "stream",
     "text": [
      "\n",
      "========================================================================================================\n",
      "                                                                   is_target                            \n",
      "                                            (1)          (2)          (3)          (4)          (5)     \n",
      "--------------------------------------------------------------------------------------------------------\n",
      "censored_log(target_outdegree, min = 1)  -0.191***    -0.510***                                         \n",
      "                                          (0.005)      (0.004)                                          \n",
      "                                                                                                        \n",
      "target_has_indegree                       0.756***     0.995***                                         \n",
      "                                          (0.017)      (0.013)                                          \n",
      "                                                                                                        \n",
      "censored_log(target_indegree, min = 1)    0.649***     0.674***                                         \n",
      "                                          (0.005)      (0.003)                                          \n",
      "                                                                                                        \n",
      "is_reciprocal                            20.016***    13.068***                                         \n",
      "                                          (0.460)      (0.174)                                          \n",
      "                                                                                                        \n",
      "is_weakly_connected                       1.767***     2.454***                                         \n",
      "                                          (0.021)      (0.021)                                          \n",
      "                                                                                                        \n",
      "is_friend_of_friend                       5.220***     4.881***                                         \n",
      "                                          (0.097)      (0.050)                                          \n",
      "                                                                                                        \n",
      "factor(target_author_type)mixed            0.020                    0.095***                            \n",
      "                                          (0.018)                   (0.012)                             \n",
      "                                                                                                        \n",
      "factor(target_author_type)p              -0.242***                  0.124***                            \n",
      "                                          (0.012)                   (0.008)                             \n",
      "                                                                                                        \n",
      "is_author_type_shared                     0.299***                  0.371***                            \n",
      "                                          (0.012)                   (0.008)                             \n",
      "                                                                                                        \n",
      "is_heh_condition_shared                   0.213***                                            0.411***  \n",
      "                                          (0.009)                                             (0.006)   \n",
      "                                                                                                        \n",
      "target_is_multisite_author                0.315***                  0.249***                            \n",
      "                                          (0.015)                   (0.010)                             \n",
      "                                                                                                        \n",
      "target_is_mixedsite_author                0.474***                  1.365***                            \n",
      "                                          (0.008)                   (0.005)                             \n",
      "                                                                                                        \n",
      "target_update_count                      -0.0003***                              0.001***               \n",
      "                                         (0.00004)                              (0.00002)               \n",
      "                                                                                                        \n",
      "target_update_frequency                   0.007***                               0.004***               \n",
      "                                          (0.0002)                               (0.0002)               \n",
      "                                                                                                        \n",
      "target_days_since_most_recent_update     -0.011***                              -0.013***               \n",
      "                                         (0.00005)                              (0.00005)               \n",
      "                                                                                                        \n",
      "target_days_since_first_update           -0.001***                              -0.001***               \n",
      "                                         (0.00001)                              (0.00001)               \n",
      "                                                                                                        \n",
      "--------------------------------------------------------------------------------------------------------\n",
      "Observations                              155,141      155,141      155,141      155,141      155,141   \n",
      "Log Likelihood                          -133,746.600 -353,610.400 -465,555.600 -206,743.700 -496,923.300\n",
      "========================================================================================================\n",
      "Note:                                                                        *p<0.1; **p<0.05; ***p<0.01\n"
     ]
    }
   ],
   "source": [
    "stargazer::stargazer(\n",
    "  fs,\n",
    "  dep.var.caption = \"\",\n",
    "  header=TRUE,\n",
    "  type='text')    # use type = 'latex' to produce latex table code as the output"
   ]
  },
  {
   "cell_type": "code",
   "execution_count": 20,
   "metadata": {},
   "outputs": [
    {
     "name": "stdout",
     "output_type": "stream",
     "text": [
      "[1] \"Train accuracy  &   0.7398 & 0.3322 & 0.1098 & 0.6907 & 0.0504  \\\\\"\n",
      "[1] \"Test accuracy   &   0.7727 & 0.324 & 0.0975 & 0.7331 & 0.0488  \\\\\"\n"
     ]
    }
   ],
   "source": [
    "print(paste(\"Train accuracy  &  \",\n",
    "    lapply(fs, function(x) acc(x, H_train)) %>% unlist() %>% round(4) %>% paste(collapse=' & '), ' \\\\'))\n",
    "print(paste(\"Test accuracy   &  \",\n",
    "    lapply(fs, function(x) acc(x, H_test)) %>% unlist() %>% round(4) %>% paste(collapse=' & '), ' \\\\'))"
   ]
  },
  {
   "cell_type": "code",
   "execution_count": 36,
   "metadata": {},
   "outputs": [
    {
     "name": "stdout",
     "output_type": "stream",
     "text": [
      "\n",
      "% Table created by stargazer v.5.2.2 by Marek Hlavac, Harvard University. E-mail: hlavac at fas.harvard.edu\n",
      "% Date and time: Sat, Jan 11, 2020 - 03:54:04 PM\n",
      "\\begin{table}[!htbp] \\centering \n",
      "  \\caption{} \n",
      "  \\label{} \n",
      "\\begin{tabular}{@{\\extracolsep{5pt}}lcccc} \n",
      "\\\\[-1.8ex]\\hline \n",
      "\\hline \\\\[-1.8ex] \n",
      "\\\\[-1.8ex] & \\multicolumn{4}{c}{is\\_target} \\\\ \n",
      "\\\\[-1.8ex] & (1) & (2) & (3) & (4)\\\\ \n",
      "\\hline \\\\[-1.8ex] \n",
      " censored\\_log(target\\_outdegree, min = 1) & $-$0.191$^{***}$ & $-$0.510$^{***}$ &  &  \\\\ \n",
      "  & (0.005) & (0.004) &  &  \\\\ \n",
      "  & & & & \\\\ \n",
      " target\\_has\\_indegree & 0.756$^{***}$ & 0.995$^{***}$ &  &  \\\\ \n",
      "  & (0.017) & (0.013) &  &  \\\\ \n",
      "  & & & & \\\\ \n",
      " censored\\_log(target\\_indegree, min = 1) & 0.649$^{***}$ & 0.674$^{***}$ &  &  \\\\ \n",
      "  & (0.005) & (0.003) &  &  \\\\ \n",
      "  & & & & \\\\ \n",
      " is\\_reciprocal & 20.016$^{***}$ & 13.068$^{***}$ &  &  \\\\ \n",
      "  & (0.460) & (0.174) &  &  \\\\ \n",
      "  & & & & \\\\ \n",
      " is\\_weakly\\_connected & 1.767$^{***}$ & 2.454$^{***}$ &  &  \\\\ \n",
      "  & (0.021) & (0.021) &  &  \\\\ \n",
      "  & & & & \\\\ \n",
      " is\\_friend\\_of\\_friend & 5.220$^{***}$ & 4.881$^{***}$ &  &  \\\\ \n",
      "  & (0.097) & (0.050) &  &  \\\\ \n",
      "  & & & & \\\\ \n",
      " factor(target\\_author\\_type)mixed & 0.020 &  & 0.095$^{***}$ &  \\\\ \n",
      "  & (0.018) &  & (0.012) &  \\\\ \n",
      "  & & & & \\\\ \n",
      " factor(target\\_author\\_type)p & $-$0.242$^{***}$ &  & 0.124$^{***}$ &  \\\\ \n",
      "  & (0.012) &  & (0.008) &  \\\\ \n",
      "  & & & & \\\\ \n",
      " is\\_author\\_type\\_shared & 0.299$^{***}$ &  & 0.371$^{***}$ &  \\\\ \n",
      "  & (0.012) &  & (0.008) &  \\\\ \n",
      "  & & & & \\\\ \n",
      " is\\_heh\\_condition\\_shared & 0.213$^{***}$ &  &  &  \\\\ \n",
      "  & (0.009) &  &  &  \\\\ \n",
      "  & & & & \\\\ \n",
      " target\\_is\\_multisite\\_author & 0.315$^{***}$ &  & 0.249$^{***}$ &  \\\\ \n",
      "  & (0.015) &  & (0.010) &  \\\\ \n",
      "  & & & & \\\\ \n",
      " target\\_is\\_mixedsite\\_author & 0.474$^{***}$ &  & 1.365$^{***}$ &  \\\\ \n",
      "  & (0.008) &  & (0.005) &  \\\\ \n",
      "  & & & & \\\\ \n",
      " target\\_update\\_count & $-$0.0003$^{***}$ &  &  & 0.001$^{***}$ \\\\ \n",
      "  & (0.00004) &  &  & (0.00002) \\\\ \n",
      "  & & & & \\\\ \n",
      " target\\_update\\_frequency & 0.007$^{***}$ &  &  & 0.004$^{***}$ \\\\ \n",
      "  & (0.0002) &  &  & (0.0002) \\\\ \n",
      "  & & & & \\\\ \n",
      " target\\_days\\_since\\_most\\_recent\\_update & $-$0.011$^{***}$ &  &  & $-$0.013$^{***}$ \\\\ \n",
      "  & (0.00005) &  &  & (0.00005) \\\\ \n",
      "  & & & & \\\\ \n",
      " target\\_days\\_since\\_first\\_update & $-$0.001$^{***}$ &  &  & $-$0.001$^{***}$ \\\\ \n",
      "  & (0.00001) &  &  & (0.00001) \\\\ \n",
      "  & & & & \\\\ \n",
      "\\hline \\\\[-1.8ex] \n",
      "Observations & 155,141 & 155,141 & 155,141 & 155,141 \\\\ \n",
      "Log Likelihood & $-$133,746.600 & $-$353,610.400 & $-$465,555.600 & $-$206,743.700 \\\\ \n",
      "\\hline \n",
      "\\hline \\\\[-1.8ex] \n",
      "\\textit{Note:}  & \\multicolumn{4}{r}{$^{*}$p$<$0.1; $^{**}$p$<$0.05; $^{***}$p$<$0.01} \\\\ \n",
      "\\end{tabular} \n",
      "\\end{table} \n"
     ]
    }
   ],
   "source": [
    "stargazer::stargazer(\n",
    "  head(fs, -1),\n",
    "  dep.var.caption = \"\",\n",
    "  header=TRUE,\n",
    "  type='latex')"
   ]
  },
  {
   "cell_type": "code",
   "execution_count": null,
   "metadata": {},
   "outputs": [],
   "source": []
  },
  {
   "cell_type": "markdown",
   "metadata": {},
   "source": [
    "### Activity features only\n",
    "\n",
    "Breaking things down by activity features, in order to understand why the test acc was so high. It's because of the \"time since most recent update\" feature, which is highly predictive of initiation."
   ]
  },
  {
   "cell_type": "code",
   "execution_count": 25,
   "metadata": {},
   "outputs": [
    {
     "data": {
      "text/plain": [
       "   user  system elapsed \n",
       "193.116  41.652 235.167 "
      ]
     },
     "metadata": {},
     "output_type": "display_data"
    }
   ],
   "source": [
    "start_time <- proc.time()\n",
    "fst <- list(\n",
    "  mlogit(is_target ~ target_update_count\n",
    "         + target_update_frequency\n",
    "         + target_days_since_most_recent_update\n",
    "         + target_days_since_first_update\n",
    "         | 0, H_train),\n",
    "  mlogit(is_target ~ target_days_since_most_recent_update\n",
    "         + target_days_since_first_update\n",
    "         | 0, H_train),\n",
    "  mlogit(is_target ~ target_update_count\n",
    "         + target_update_frequency\n",
    "         | 0, H_train),\n",
    "  mlogit(is_target ~ target_update_count | 0, H_train),\n",
    "  mlogit(is_target ~ target_update_frequency | 0, H_train),\n",
    "  mlogit(is_target ~ target_days_since_most_recent_update | 0, H_train),\n",
    "  mlogit(is_target ~ target_days_since_first_update | 0, H_train)\n",
    ")\n",
    "total_time <- proc.time() - start_time\n",
    "total_time"
   ]
  },
  {
   "cell_type": "code",
   "execution_count": 26,
   "metadata": {},
   "outputs": [
    {
     "name": "stdout",
     "output_type": "stream",
     "text": [
      "\n",
      "===============================================================================================================================\n",
      "                                                                             is_target                                         \n",
      "                                         (1)          (2)          (3)          (4)          (5)          (6)          (7)     \n",
      "-------------------------------------------------------------------------------------------------------------------------------\n",
      "target_update_count                    0.001***                  0.002***     0.002***                                         \n",
      "                                      (0.00002)                 (0.00002)    (0.00002)                                         \n",
      "                                                                                                                               \n",
      "target_update_frequency                0.004***                 -0.013***                 -0.013***                            \n",
      "                                       (0.0002)                  (0.0002)                  (0.0002)                            \n",
      "                                                                                                                               \n",
      "target_days_since_most_recent_update  -0.013***    -0.013***                                           -0.014***               \n",
      "                                      (0.00005)    (0.00005)                                           (0.00005)               \n",
      "                                                                                                                               \n",
      "target_days_since_first_update        -0.001***    -0.001***                                                        -0.0002*** \n",
      "                                      (0.00001)    (0.00001)                                                        (0.00001)  \n",
      "                                                                                                                               \n",
      "-------------------------------------------------------------------------------------------------------------------------------\n",
      "Observations                           155,141      155,141      155,141      155,141      155,141      155,141      155,141   \n",
      "Log Likelihood                       -206,743.700 -207,384.200 -493,779.200 -495,846.900 -497,337.200 -212,572.100 -498,747.600\n",
      "===============================================================================================================================\n",
      "Note:                                                                                               *p<0.1; **p<0.05; ***p<0.01\n"
     ]
    }
   ],
   "source": [
    "stargazer::stargazer(\n",
    "  fst,\n",
    "  dep.var.caption = \"\",\n",
    "  header=TRUE,\n",
    "  type='text')    # use type = 'latex' to produce latex table code as the output"
   ]
  },
  {
   "cell_type": "code",
   "execution_count": 28,
   "metadata": {},
   "outputs": [
    {
     "name": "stdout",
     "output_type": "stream",
     "text": [
      "[1] \"Test accuracy   &   0.7331 & 0.7579 & 0.0625 & 0.057 & 0.0554 & 0.8105 & 0.3281  \\\\\"\n"
     ]
    }
   ],
   "source": [
    "print(paste(\"Test accuracy   &  \",\n",
    "    lapply(fst, function(x) acc(x, H_test)) %>% unlist() %>% round(4) %>% paste(collapse=' & '), ' \\\\'))"
   ]
  },
  {
   "cell_type": "code",
   "execution_count": 29,
   "metadata": {},
   "outputs": [
    {
     "name": "stdout",
     "output_type": "stream",
     "text": [
      "[1] \"Train accuracy  &   0.6907 & 0.7241 & 0.0812 & 0.0754 & 0.0505 & 0.7901 & 0.3123  \\\\\"\n"
     ]
    }
   ],
   "source": [
    "print(paste(\"Train accuracy  &  \",\n",
    "    lapply(fst, function(x) acc(x, H_train)) %>% unlist() %>% round(4) %>% paste(collapse=' & '), ' \\\\'))"
   ]
  },
  {
   "cell_type": "code",
   "execution_count": 30,
   "metadata": {},
   "outputs": [
    {
     "data": {
      "text/plain": [
       "   user  system elapsed \n",
       " 36.109   8.374  44.633 "
      ]
     },
     "metadata": {},
     "output_type": "display_data"
    }
   ],
   "source": [
    "start_time <- proc.time()\n",
    "fstt <- list(\n",
    "  mlogit(is_target ~ target_days_since_most_recent_update * target_days_since_first_update\n",
    "         | 0, H_train)\n",
    ")\n",
    "total_time <- proc.time() - start_time\n",
    "total_time"
   ]
  },
  {
   "cell_type": "code",
   "execution_count": 31,
   "metadata": {},
   "outputs": [
    {
     "name": "stdout",
     "output_type": "stream",
     "text": [
      "\n",
      "===============================================================================================\n",
      "                                                                             is_target         \n",
      "-----------------------------------------------------------------------------------------------\n",
      "target_days_since_most_recent_update                                         -0.013***         \n",
      "                                                                             (0.0001)          \n",
      "                                                                                               \n",
      "target_days_since_first_update                                               -0.001***         \n",
      "                                                                             (0.00001)         \n",
      "                                                                                               \n",
      "target_days_since_most_recent_update:target_days_since_first_update         0.00000***         \n",
      "                                                                             (0.00000)         \n",
      "                                                                                               \n",
      "-----------------------------------------------------------------------------------------------\n",
      "Observations                                                                  155,141          \n",
      "Log Likelihood                                                             -207,376.500        \n",
      "===============================================================================================\n",
      "Note:                                                               *p<0.1; **p<0.05; ***p<0.01\n"
     ]
    }
   ],
   "source": [
    "stargazer::stargazer(\n",
    "  fstt,\n",
    "  dep.var.caption = \"\",\n",
    "  header=TRUE,\n",
    "  type='text')    # use type = 'latex' to produce latex table code as the output"
   ]
  },
  {
   "cell_type": "code",
   "execution_count": 32,
   "metadata": {},
   "outputs": [
    {
     "name": "stdout",
     "output_type": "stream",
     "text": [
      "[1] \"Train accuracy  &   0.7237  \\\\\"\n",
      "[1] \"Test accuracy   &   0.7574  \\\\\"\n"
     ]
    }
   ],
   "source": [
    "print(paste(\"Train accuracy  &  \",\n",
    "    lapply(fstt, function(x) acc(x, H_train)) %>% unlist() %>% round(4) %>% paste(collapse=' & '), ' \\\\'))\n",
    "print(paste(\"Test accuracy   &  \",\n",
    "    lapply(fstt, function(x) acc(x, H_test)) %>% unlist() %>% round(4) %>% paste(collapse=' & '), ' \\\\'))"
   ]
  },
  {
   "cell_type": "markdown",
   "metadata": {},
   "source": [
    "## First initiation vs All initiations"
   ]
  },
  {
   "cell_type": "code",
   "execution_count": 17,
   "metadata": {},
   "outputs": [
    {
     "name": "stderr",
     "output_type": "stream",
     "text": [
      "Warning message:\n",
      "“Setting row names on a tibble is deprecated.”\n"
     ]
    },
    {
     "data": {
      "text/html": [
       "1665400"
      ],
      "text/latex": [
       "1665400"
      ],
      "text/markdown": [
       "1665400"
      ],
      "text/plain": [
       "[1] 1665400"
      ]
     },
     "metadata": {},
     "output_type": "display_data"
    }
   ],
   "source": [
    "# load the training data with first initiations only\n",
    "fn <- '/home/srivbane/shared/caringbridge/data/projects/sna-social-support/author_initiations/author_initiation_choices_train_firstonly.csv'\n",
    "DM_train_firstonly <- read_csv(fn, col_types='iiiiiiiiiiiccciiiidddi')\n",
    "DM_train_firstonly$is_friend_of_friend = DM_train_firstonly$is_friend_of_friend - DM_train_firstonly$is_reciprocal\n",
    "DM_train_firstonly$hcf = relevel(factor(DM_train_firstonly$target_health_condition), ref=\"None\")\n",
    "H_train_firstonly <- DM_train_firstonly %>%\n",
    "     group_by(choice_id) %>% mutate(alt_id=row_number()) %>% ungroup() %>%\n",
    "     mlogit.data(shape=\"long\", chid.var='choice_id', choice=\"is_target\", alt.var='alt_id')\n",
    "\n",
    "nrow(H_train_firstonly)"
   ]
  },
  {
   "cell_type": "code",
   "execution_count": 18,
   "metadata": {},
   "outputs": [
    {
     "name": "stderr",
     "output_type": "stream",
     "text": [
      "Warning message:\n",
      "“Setting row names on a tibble is deprecated.”\n"
     ]
    },
    {
     "data": {
      "text/html": [
       "203500"
      ],
      "text/latex": [
       "203500"
      ],
      "text/markdown": [
       "203500"
      ],
      "text/plain": [
       "[1] 203500"
      ]
     },
     "metadata": {},
     "output_type": "display_data"
    }
   ],
   "source": [
    "# load the test data with first initiations only\n",
    "fn <- '/home/srivbane/shared/caringbridge/data/projects/sna-social-support/author_initiations/author_initiation_choices_test_firstonly.csv'\n",
    "DM_test_firstonly <- read_csv(fn, col_types='iiiiiiiiiiiccciiiidddi')\n",
    "DM_test_firstonly$is_friend_of_friend = DM_test_firstonly$is_friend_of_friend - DM_test_firstonly$is_reciprocal\n",
    "DM_test_firstonly$hcf = relevel(factor(DM_test_firstonly$target_health_condition), ref=\"None\")\n",
    "H_test_firstonly <- DM_test_firstonly %>%\n",
    "     group_by(choice_id) %>% mutate(alt_id=row_number()) %>% ungroup() %>%\n",
    "     mlogit.data(shape=\"long\", chid.var='choice_id', choice=\"is_target\", alt.var='alt_id')\n",
    "nrow(H_test_firstonly)"
   ]
  },
  {
   "cell_type": "code",
   "execution_count": 19,
   "metadata": {},
   "outputs": [
    {
     "data": {
      "text/plain": [
       "   user  system elapsed \n",
       "209.982  99.273 139.771 "
      ]
     },
     "metadata": {},
     "output_type": "display_data"
    }
   ],
   "source": [
    "start_time <- proc.time()\n",
    "firstonly_mds <- list(\n",
    "  mlogit(is_target ~ censored_log(target_outdegree, min=1) \n",
    "         + target_has_indegree \n",
    "         + censored_log(target_indegree, min=1) \n",
    "         + is_reciprocal\n",
    "         + is_weakly_connected\n",
    "         + is_friend_of_friend\n",
    "         + factor(target_author_type) \n",
    "         + is_author_type_shared\n",
    "         + is_health_condition_shared\n",
    "         + target_is_multisite_author\n",
    "         + target_is_mixedsite_author\n",
    "         + target_update_count\n",
    "         + target_update_frequency\n",
    "         + target_days_since_most_recent_update\n",
    "         + target_days_since_first_update\n",
    "         | 0, H_train_firstonly),\n",
    "  mlogit(is_target ~ censored_log(target_outdegree, min=1) \n",
    "         + target_has_indegree \n",
    "         + censored_log(target_indegree, min=1) \n",
    "         + is_reciprocal\n",
    "         + is_weakly_connected\n",
    "         + is_friend_of_friend\n",
    "         + factor(target_author_type) \n",
    "         + is_author_type_shared\n",
    "         + is_health_condition_shared\n",
    "         + target_is_multisite_author\n",
    "         + target_is_mixedsite_author\n",
    "         + target_update_count\n",
    "         + target_update_frequency\n",
    "         + target_days_since_most_recent_update\n",
    "         + target_days_since_first_update\n",
    "         | 0, H_train)\n",
    ")\n",
    "total_time <- proc.time() - start_time\n",
    "total_time"
   ]
  },
  {
   "cell_type": "code",
   "execution_count": 20,
   "metadata": {},
   "outputs": [
    {
     "name": "stdout",
     "output_type": "stream",
     "text": [
      "\n",
      "====================================================================\n",
      "                                                 is_target          \n",
      "                                             (1)            (2)     \n",
      "--------------------------------------------------------------------\n",
      "censored_log(target_outdegree, min = 1)   -0.220***      -0.191***  \n",
      "                                           (0.009)        (0.005)   \n",
      "                                                                    \n",
      "target_has_indegree                        0.775***      0.756***   \n",
      "                                           (0.025)        (0.017)   \n",
      "                                                                    \n",
      "censored_log(target_indegree, min = 1)     0.480***      0.649***   \n",
      "                                           (0.008)        (0.005)   \n",
      "                                                                    \n",
      "is_reciprocal                             30.524***      20.016***  \n",
      "                                           (1.059)        (0.460)   \n",
      "                                                                    \n",
      "is_weakly_connected                        1.898***      1.767***   \n",
      "                                           (0.030)        (0.021)   \n",
      "                                                                    \n",
      "is_friend_of_friend                        6.668***      5.220***   \n",
      "                                           (0.305)        (0.097)   \n",
      "                                                                    \n",
      "factor(target_author_type)mixed            0.156***        0.020    \n",
      "                                           (0.026)        (0.018)   \n",
      "                                                                    \n",
      "factor(target_author_type)p               -0.114***      -0.242***  \n",
      "                                           (0.018)        (0.012)   \n",
      "                                                                    \n",
      "is_author_type_shared                      0.332***      0.299***   \n",
      "                                           (0.018)        (0.012)   \n",
      "                                                                    \n",
      "is_heh_condition_shared                    0.189***      0.213***   \n",
      "                                           (0.014)        (0.009)   \n",
      "                                                                    \n",
      "target_is_multisite_author                 0.438***      0.315***   \n",
      "                                           (0.023)        (0.015)   \n",
      "                                                                    \n",
      "target_is_mixedsite_author                -0.081***      0.474***   \n",
      "                                           (0.013)        (0.008)   \n",
      "                                                                    \n",
      "target_update_count                       -0.001***     -0.0003***  \n",
      "                                           (0.0001)      (0.00004)  \n",
      "                                                                    \n",
      "target_update_frequency                    0.009***      0.007***   \n",
      "                                           (0.0004)      (0.0002)   \n",
      "                                                                    \n",
      "target_days_since_most_recent_update      -0.016***      -0.011***  \n",
      "                                           (0.0001)      (0.00005)  \n",
      "                                                                    \n",
      "target_days_since_first_update            -0.001***      -0.001***  \n",
      "                                          (0.00002)      (0.00001)  \n",
      "                                                                    \n",
      "--------------------------------------------------------------------\n",
      "Observations                                66,616        155,141   \n",
      "Log Likelihood                           -54,114.570   -133,746.600 \n",
      "====================================================================\n",
      "Note:                                    *p<0.1; **p<0.05; ***p<0.01\n"
     ]
    }
   ],
   "source": [
    "stargazer::stargazer(\n",
    "  firstonly_mds,\n",
    "  dep.var.caption = \"\",\n",
    "  header=TRUE,\n",
    "  type='text')    # use type = 'latex' to produce latex table code as the output"
   ]
  },
  {
   "cell_type": "code",
   "execution_count": 21,
   "metadata": {},
   "outputs": [
    {
     "data": {
      "text/html": [
       "0.777545934910532"
      ],
      "text/latex": [
       "0.777545934910532"
      ],
      "text/markdown": [
       "0.777545934910532"
      ],
      "text/plain": [
       "[1] 0.7775459"
      ]
     },
     "metadata": {},
     "output_type": "display_data"
    },
    {
     "data": {
      "text/html": [
       "0.739791544466002"
      ],
      "text/latex": [
       "0.739791544466002"
      ],
      "text/markdown": [
       "0.739791544466002"
      ],
      "text/plain": [
       "[1] 0.7397915"
      ]
     },
     "metadata": {},
     "output_type": "display_data"
    }
   ],
   "source": [
    "# Train accuracy\n",
    "acc(firstonly_mds[[1]], H_train_firstonly)\n",
    "acc(firstonly_mds[[2]], H_train)"
   ]
  },
  {
   "cell_type": "code",
   "execution_count": 22,
   "metadata": {},
   "outputs": [
    {
     "data": {
      "text/html": [
       "0.806388206388206"
      ],
      "text/latex": [
       "0.806388206388206"
      ],
      "text/markdown": [
       "0.806388206388206"
      ],
      "text/plain": [
       "[1] 0.8063882"
      ]
     },
     "metadata": {},
     "output_type": "display_data"
    },
    {
     "data": {
      "text/html": [
       "0.77272562588312"
      ],
      "text/latex": [
       "0.77272562588312"
      ],
      "text/markdown": [
       "0.77272562588312"
      ],
      "text/plain": [
       "[1] 0.7727256"
      ]
     },
     "metadata": {},
     "output_type": "display_data"
    }
   ],
   "source": [
    "# Test accuracy\n",
    "acc(firstonly_mds[[1]], H_test_firstonly)\n",
    "acc(firstonly_mds[[2]], H_test)"
   ]
  },
  {
   "cell_type": "markdown",
   "metadata": {},
   "source": [
    "## Health condition analysis"
   ]
  },
  {
   "cell_type": "code",
   "execution_count": 63,
   "metadata": {},
   "outputs": [
    {
     "name": "stderr",
     "output_type": "stream",
     "text": [
      "Warning message:\n",
      "“Setting row names on a tibble is deprecated.”\n"
     ]
    },
    {
     "data": {
      "text/html": [
       "2397775"
      ],
      "text/latex": [
       "2397775"
      ],
      "text/markdown": [
       "2397775"
      ],
      "text/plain": [
       "[1] 2397775"
      ]
     },
     "metadata": {},
     "output_type": "display_data"
    }
   ],
   "source": [
    "# load the training data with non-none initiator health condition only\n",
    "fn <- '/home/srivbane/shared/caringbridge/data/projects/sna-social-support/author_initiations/author_initiation_choices_train_hcNotNone.csv'\n",
    "DM_train_hcNotNone <- read_csv(fn, col_types='iiiiiiiiiiiccciiiidddic')\n",
    "DM_train_hcNotNone$is_friend_of_friend = DM_train_hcNotNone$is_friend_of_friend - DM_train_hcNotNone$is_reciprocal\n",
    "DM_train_hcNotNone$hcf = relevel(factor(DM_train_hcNotNone$target_health_condition), ref=\"None\")\n",
    "H_train_hcNotNone <- DM_train_hcNotNone %>%\n",
    "     group_by(choice_id) %>% mutate(alt_id=row_number()) %>% ungroup() %>%\n",
    "     mlogit.data(shape=\"long\", chid.var='choice_id', choice=\"is_target\", alt.var='alt_id')\n",
    "nrow(H_train_hcNotNone)"
   ]
  },
  {
   "cell_type": "code",
   "execution_count": 34,
   "metadata": {},
   "outputs": [
    {
     "name": "stdout",
     "output_type": "stream",
     "text": [
      "\n",
      "==========================================================\n",
      "                                       is_target          \n",
      "                                   (1)            (2)     \n",
      "----------------------------------------------------------\n",
      "hcfCancer                       -0.156***      -0.391***  \n",
      "                                 (0.006)        (0.011)   \n",
      "                                                          \n",
      "hcfCardiovascular/Stroke        -0.117***      -0.222***  \n",
      "                                 (0.014)        (0.018)   \n",
      "                                                          \n",
      "hcfCondition Unknown            -2.739***      -2.785***  \n",
      "                                 (0.108)        (0.136)   \n",
      "                                                          \n",
      "hcfCongenital/Immune Disorder    0.379***      0.399***   \n",
      "                                 (0.027)        (0.033)   \n",
      "                                                          \n",
      "hcfInfant/Childbirth            -0.533***      -0.588***  \n",
      "                                 (0.021)        (0.026)   \n",
      "                                                          \n",
      "hcfInjury                       -0.194***      -0.288***  \n",
      "                                 (0.014)        (0.018)   \n",
      "                                                          \n",
      "hcfNeurological Condition       -0.233***      -0.290***  \n",
      "                                 (0.017)        (0.021)   \n",
      "                                                          \n",
      "hcfOther                        -1.815***      -1.897***  \n",
      "                                 (0.017)        (0.022)   \n",
      "                                                          \n",
      "hcfSurgery/Transplantation      -0.749***      -0.828***  \n",
      "                                 (0.017)        (0.021)   \n",
      "                                                          \n",
      "is_heh_condition_shared          0.232***      0.513***   \n",
      "                                 (0.006)        (0.012)   \n",
      "                                                          \n",
      "----------------------------------------------------------\n",
      "Observations                     155,141        95,911    \n",
      "Log Likelihood                 -485,725.600  -300,143.800 \n",
      "==========================================================\n",
      "Note:                          *p<0.1; **p<0.05; ***p<0.01\n"
     ]
    }
   ],
   "source": [
    "# health condition model without interactions\n",
    "# comparing the subset who do and don't have \n",
    "md_all <- mlogit(is_target ~ hcf + is_health_condition_shared | 0, H_train)\n",
    "md_hcNotNone <- mlogit(is_target ~ hcf + is_health_condition_shared | 0, H_train_hcNotNone)\n",
    "stargazer::stargazer(\n",
    "  list(md_all, md_hcNotNone),\n",
    "  dep.var.caption = \"\",\n",
    "  header=TRUE,\n",
    "  type='text')    # use type = 'latex' to produce latex table code as the output"
   ]
  },
  {
   "cell_type": "code",
   "execution_count": 66,
   "metadata": {},
   "outputs": [],
   "source": [
    "md_all <- mlogit(is_target ~ hcf + is_health_condition_shared : hcf | 0, H_train)"
   ]
  },
  {
   "cell_type": "code",
   "execution_count": 67,
   "metadata": {},
   "outputs": [
    {
     "name": "stdout",
     "output_type": "stream",
     "text": [
      "\n",
      "=================================================================================\n",
      "                                                               is_target         \n",
      "---------------------------------------------------------------------------------\n",
      "hcfCancer                                                      -0.308***         \n",
      "                                                                (0.010)          \n",
      "                                                                                 \n",
      "hcfCardiovascular/Stroke                                       -0.228***         \n",
      "                                                                (0.015)          \n",
      "                                                                                 \n",
      "hcfCondition Unknown                                           -2.849***         \n",
      "                                                                (0.109)          \n",
      "                                                                                 \n",
      "hcfCongenital/Immune Disorder                                  0.252***          \n",
      "                                                                (0.028)          \n",
      "                                                                                 \n",
      "hcfInfant/Childbirth                                           -0.709***         \n",
      "                                                                (0.022)          \n",
      "                                                                                 \n",
      "hcfInjury                                                      -0.322***         \n",
      "                                                                (0.015)          \n",
      "                                                                                 \n",
      "hcfNeurological Condition                                      -0.351***         \n",
      "                                                                (0.018)          \n",
      "                                                                                 \n",
      "hcfOther                                                       -1.927***         \n",
      "                                                                (0.019)          \n",
      "                                                                                 \n",
      "hcfSurgery/Transplantation                                     -0.864***         \n",
      "                                                                (0.018)          \n",
      "                                                                                 \n",
      "hcfNone:is_heh_condition_shared                                 -0.002           \n",
      "                                                                (0.012)          \n",
      "                                                                                 \n",
      "hcfCancer:is_heh_condition_shared                              0.397***          \n",
      "                                                                (0.013)          \n",
      "                                                                                 \n",
      "hcfCardiovascular/Stroke:is_heh_condition_shared               0.547***          \n",
      "                                                                (0.055)          \n",
      "                                                                                 \n",
      "hcfCondition Unknown:is_heh_condition_shared                    1.637**          \n",
      "                                                                (0.722)          \n",
      "                                                                                 \n",
      "hcfCongenital/Immune Disorder:is_heh_condition_shared          1.685***          \n",
      "                                                                (0.145)          \n",
      "                                                                                 \n",
      "hcfInfant/Childbirth:is_heh_condition_shared                   1.734***          \n",
      "                                                                (0.072)          \n",
      "                                                                                 \n",
      "hcfInjury:is_heh_condition_shared                              0.913***          \n",
      "                                                                (0.057)          \n",
      "                                                                                 \n",
      "hcfNeurological Condition:is_heh_condition_shared              0.743***          \n",
      "                                                                (0.069)          \n",
      "                                                                                 \n",
      "hcfOther:is_heh_condition_shared                               0.419***          \n",
      "                                                                (0.052)          \n",
      "                                                                                 \n",
      "hcfSurgery/Transplantation:is_heh_condition_shared             0.578***          \n",
      "                                                                (0.061)          \n",
      "                                                                                 \n",
      "---------------------------------------------------------------------------------\n",
      "Observations                                                    155,141          \n",
      "Log Likelihood                                               -485,206.100        \n",
      "=================================================================================\n",
      "Note:                                                 *p<0.1; **p<0.05; ***p<0.01\n"
     ]
    }
   ],
   "source": [
    "stargazer::stargazer(\n",
    "  md_all,\n",
    "  dep.var.caption = \"\",\n",
    "  header=TRUE,\n",
    "  type='text')    # use type = 'latex' to produce latex table code as the output"
   ]
  },
  {
   "cell_type": "code",
   "execution_count": 68,
   "metadata": {},
   "outputs": [],
   "source": [
    "H_train$is_health_condition_provided = ifelse(H_train$hcf == \"None\", 0, 1)"
   ]
  },
  {
   "cell_type": "code",
   "execution_count": 75,
   "metadata": {},
   "outputs": [
    {
     "name": "stdout",
     "output_type": "stream",
     "text": [
      "\n",
      "=====================================================\n",
      "                                   is_target         \n",
      "-----------------------------------------------------\n",
      "is_heh_condition_provided          -0.423***         \n",
      "                                    (0.005)          \n",
      "                                                     \n",
      "-----------------------------------------------------\n",
      "Observations                        155,141          \n",
      "Log Likelihood                   -496,099.900        \n",
      "=====================================================\n",
      "Note:                     *p<0.1; **p<0.05; ***p<0.01\n"
     ]
    }
   ],
   "source": [
    "# Providing a health condition doesn't result in more connections\n",
    "# But, this model doesn't account for the baseline difference in reporting\n",
    "# In other words, as < 50% of sites report, of course it doesn't help!  So the true effect, if it IS positive, must be less than the amount necessary to see a positive effect despite the 60/40 recording split\n",
    "md <- mlogit(is_target ~ is_health_condition_provided | 0, H_train)\n",
    "stargazer::stargazer(\n",
    "  md,\n",
    "  dep.var.caption = \"\",\n",
    "  header=TRUE,\n",
    "  type='text')"
   ]
  },
  {
   "cell_type": "code",
   "execution_count": null,
   "metadata": {},
   "outputs": [],
   "source": []
  },
  {
   "cell_type": "code",
   "execution_count": 42,
   "metadata": {},
   "outputs": [
    {
     "data": {
      "text/html": [
       "95911"
      ],
      "text/latex": [
       "95911"
      ],
      "text/markdown": [
       "95911"
      ],
      "text/plain": [
       "[1] 95911"
      ]
     },
     "metadata": {},
     "output_type": "display_data"
    },
    {
     "data": {
      "text/html": [
       "2250000"
      ],
      "text/latex": [
       "2250000"
      ],
      "text/markdown": [
       "2250000"
      ],
      "text/plain": [
       "[1] 2250000"
      ]
     },
     "metadata": {},
     "output_type": "display_data"
    }
   ],
   "source": [
    "nrow(H_train_hcNotNone) / 25\n",
    "90000 * 25"
   ]
  },
  {
   "cell_type": "code",
   "execution_count": 60,
   "metadata": {},
   "outputs": [
    {
     "data": {
      "text/html": [
       "<ol class=list-inline>\n",
       "\t<li>'None'</li>\n",
       "\t<li>'Cancer'</li>\n",
       "\t<li>'Other'</li>\n",
       "</ol>\n"
      ],
      "text/latex": [
       "\\begin{enumerate*}\n",
       "\\item 'None'\n",
       "\\item 'Cancer'\n",
       "\\item 'Other'\n",
       "\\end{enumerate*}\n"
      ],
      "text/markdown": [
       "1. 'None'\n",
       "2. 'Cancer'\n",
       "3. 'Other'\n",
       "\n",
       "\n"
      ],
      "text/plain": [
       "[1] \"None\"   \"Cancer\" \"Other\" "
      ]
     },
     "metadata": {},
     "output_type": "display_data"
    }
   ],
   "source": [
    "#levels(H_train_hcNotNone$hcf) <- c(\"None\", \"Cancer\", \"Cardiovascular/Stroke\", \"Condition Unknown\", \"Congenital/Immune Disorder\", \"Infant/Childbirth\", 'Injury', 'Neurological Condition', 'Other', 'Surgery/Transplantation')\n",
    " levels(H_train_hcNotNone$hcf) <- c(\"None\", \"Cancer\", \"Other\", \"Other\", \"Other\", \"Other\", 'Other', 'Other', 'Other', 'Other')\n",
    "levels(H_train_hcNotNone$hcf)"
   ]
  },
  {
   "cell_type": "code",
   "execution_count": 65,
   "metadata": {},
   "outputs": [],
   "source": [
    "#H_train_hcNotNone_subset <- H_train_hcNotNone %>% filter(is_health_condition_shared == 1)\n",
    "#md_hcNotNone <- mlogit(is_target ~ hcf + is_health_condition_shared + is_health_condition_shared : hcf\n",
    "#                        | 0, H_train_hcNotNone_subset)"
   ]
  },
  {
   "cell_type": "code",
   "execution_count": 62,
   "metadata": {},
   "outputs": [
    {
     "name": "stdout",
     "output_type": "stream",
     "text": [
      "\n",
      "===================================================\n",
      "                                 is_target         \n",
      "---------------------------------------------------\n",
      "hcfCancer                        -0.345***         \n",
      "                                  (0.010)          \n",
      "                                                   \n",
      "hcfOther                         -0.800***         \n",
      "                                  (0.009)          \n",
      "                                                   \n",
      "is_heh_condition_shared          0.439***          \n",
      "                                  (0.012)          \n",
      "                                                   \n",
      "---------------------------------------------------\n",
      "Observations                      95,911           \n",
      "Log Likelihood                 -304,020.000        \n",
      "===================================================\n",
      "Note:                   *p<0.1; **p<0.05; ***p<0.01\n"
     ]
    }
   ],
   "source": [
    "stargazer::stargazer(\n",
    "  md_hcNotNone,\n",
    "  dep.var.caption = \"\",\n",
    "  header=TRUE,\n",
    "  type='text')    # use type = 'latex' to produce latex table code as the output"
   ]
  },
  {
   "cell_type": "code",
   "execution_count": 33,
   "metadata": {},
   "outputs": [
    {
     "name": "stdout",
     "output_type": "stream",
     "text": [
      "\n",
      "==================================================================================\n",
      "                                                               is_target          \n",
      "                                                           (1)            (2)     \n",
      "----------------------------------------------------------------------------------\n",
      "hcfCancer                                               -0.308***      -0.391***  \n",
      "                                                         (0.010)        (0.011)   \n",
      "                                                                                  \n",
      "hcfCardiovascular/Stroke                                -0.228***      -0.222***  \n",
      "                                                         (0.015)        (0.018)   \n",
      "                                                                                  \n",
      "hcfCondition Unknown                                    -2.849***      -2.785***  \n",
      "                                                         (0.109)        (0.136)   \n",
      "                                                                                  \n",
      "hcfCongenital/Immune Disorder                            0.252***      0.399***   \n",
      "                                                         (0.028)        (0.033)   \n",
      "                                                                                  \n",
      "hcfInfant/Childbirth                                    -0.709***      -0.588***  \n",
      "                                                         (0.022)        (0.026)   \n",
      "                                                                                  \n",
      "hcfInjury                                               -0.322***      -0.288***  \n",
      "                                                         (0.015)        (0.018)   \n",
      "                                                                                  \n",
      "hcfNeurological Condition                               -0.351***      -0.290***  \n",
      "                                                         (0.018)        (0.021)   \n",
      "                                                                                  \n",
      "hcfOther                                                -1.927***      -1.897***  \n",
      "                                                         (0.019)        (0.022)   \n",
      "                                                                                  \n",
      "hcfSurgery/Transplantation                              -0.864***      -0.828***  \n",
      "                                                         (0.018)        (0.021)   \n",
      "                                                                                  \n",
      "is_heh_condition_shared                                   -0.002       0.513***   \n",
      "                                                         (0.012)        (0.012)   \n",
      "                                                                                  \n",
      "hcfCancer:is_heh_condition_shared                        0.399***                 \n",
      "                                                         (0.021)                  \n",
      "                                                                                  \n",
      "hcfCardiovascular/Stroke:is_heh_condition_shared         0.549***                 \n",
      "                                                         (0.057)                  \n",
      "                                                                                  \n",
      "hcfCondition Unknown:is_heh_condition_shared             1.639**                  \n",
      "                                                         (0.722)                  \n",
      "                                                                                  \n",
      "hcfCongenital/Immune Disorder:is_heh_condition_shared    1.686***                 \n",
      "                                                         (0.146)                  \n",
      "                                                                                  \n",
      "hcfInfant/Childbirth:is_heh_condition_shared             1.736***                 \n",
      "                                                         (0.073)                  \n",
      "                                                                                  \n",
      "hcfInjury:is_heh_condition_shared                        0.915***                 \n",
      "                                                         (0.058)                  \n",
      "                                                                                  \n",
      "hcfNeurological Condition:is_heh_condition_shared        0.745***                 \n",
      "                                                         (0.070)                  \n",
      "                                                                                  \n",
      "hcfOther:is_heh_condition_shared                         0.420***                 \n",
      "                                                         (0.054)                  \n",
      "                                                                                  \n",
      "hcfSurgery/Transplantation:is_heh_condition_shared       0.580***                 \n",
      "                                                         (0.063)                  \n",
      "                                                                                  \n",
      "----------------------------------------------------------------------------------\n",
      "Observations                                             155,141        95,911    \n",
      "Log Likelihood                                         -485,206.100  -300,143.800 \n",
      "==================================================================================\n",
      "Note:                                                  *p<0.1; **p<0.05; ***p<0.01\n"
     ]
    }
   ],
   "source": [
    "stargazer::stargazer(\n",
    "  list(md_all, md_hcNotNone),\n",
    "  dep.var.caption = \"\",\n",
    "  header=TRUE,\n",
    "  type='text')    # use type = 'latex' to produce latex table code as the output"
   ]
  },
  {
   "cell_type": "markdown",
   "metadata": {},
   "source": [
    "## Geographic analysis\n",
    "\n",
    "Building models that include geographic features."
   ]
  },
  {
   "cell_type": "code",
   "execution_count": 15,
   "metadata": {},
   "outputs": [
    {
     "name": "stderr",
     "output_type": "stream",
     "text": [
      "Warning message:\n",
      "“Setting row names on a tibble is deprecated.”\n"
     ]
    },
    {
     "data": {
      "text/html": [
       "175175"
      ],
      "text/latex": [
       "175175"
      ],
      "text/markdown": [
       "175175"
      ],
      "text/plain": [
       "[1] 175175"
      ]
     },
     "metadata": {},
     "output_type": "display_data"
    }
   ],
   "source": [
    "# load the training data with geo-identified authors only\n",
    "fn <- '/home/srivbane/shared/caringbridge/data/projects/sna-social-support/author_initiations/geo_author_initiation_choices_train_all.csv'\n",
    "DM_train_geo <- read_csv(fn, col_types='iiiiiiiiiiiccciiiidddii')\n",
    "DM_train_geo$is_friend_of_friend = DM_train_geo$is_friend_of_friend - DM_train_geo$is_reciprocal\n",
    "DM_train_geo$hcf = relevel(factor(DM_train_geo$target_health_condition), ref=\"None\")\n",
    "H_train_geo <- DM_train_geo %>%\n",
    "     group_by(choice_id) %>% mutate(alt_id=row_number()) %>% ungroup() %>%\n",
    "     mlogit.data(shape=\"long\", chid.var='choice_id', choice=\"is_target\", alt.var='alt_id')\n",
    "nrow(H_train_geo)"
   ]
  },
  {
   "cell_type": "code",
   "execution_count": 16,
   "metadata": {},
   "outputs": [
    {
     "name": "stderr",
     "output_type": "stream",
     "text": [
      "Warning message:\n",
      "“Setting row names on a tibble is deprecated.”\n"
     ]
    },
    {
     "data": {
      "text/html": [
       "16700"
      ],
      "text/latex": [
       "16700"
      ],
      "text/markdown": [
       "16700"
      ],
      "text/plain": [
       "[1] 16700"
      ]
     },
     "metadata": {},
     "output_type": "display_data"
    }
   ],
   "source": [
    "# load the test data with geo-identified authors only\n",
    "fn <- '/home/srivbane/shared/caringbridge/data/projects/sna-social-support/author_initiations/geo_author_initiation_choices_test_all.csv'\n",
    "DM_test_geo <- read_csv(fn, col_types='iiiiiiiiiiiccciiiidddii')\n",
    "DM_test_geo$is_friend_of_friend = DM_test_geo$is_friend_of_friend - DM_test_geo$is_reciprocal\n",
    "DM_test_geo$hcf = relevel(factor(DM_test_geo$target_health_condition), ref=\"None\")\n",
    "H_test_geo <- DM_test_geo %>%\n",
    "     group_by(choice_id) %>% mutate(alt_id=row_number()) %>% ungroup() %>%\n",
    "     mlogit.data(shape=\"long\", chid.var='choice_id', choice=\"is_target\", alt.var='alt_id')\n",
    "nrow(H_test_geo)"
   ]
  },
  {
   "cell_type": "code",
   "execution_count": 17,
   "metadata": {},
   "outputs": [
    {
     "data": {
      "text/plain": [
       "   user  system elapsed \n",
       "165.795  20.340 165.593 "
      ]
     },
     "metadata": {},
     "output_type": "display_data"
    }
   ],
   "source": [
    "start_time <- proc.time()\n",
    "geo_mds <- list(\n",
    "  mlogit(is_target ~ censored_log(target_outdegree, min=1) \n",
    "         + target_has_indegree \n",
    "         + censored_log(target_indegree, min=1) \n",
    "         + is_reciprocal\n",
    "         + is_weakly_connected\n",
    "         + is_friend_of_friend\n",
    "         + factor(target_author_type) \n",
    "         + is_author_type_shared\n",
    "         + is_health_condition_shared\n",
    "         + target_is_multisite_author\n",
    "         + target_is_mixedsite_author\n",
    "         + target_update_count\n",
    "         + target_update_frequency\n",
    "         + target_days_since_most_recent_update\n",
    "         + target_days_since_first_update\n",
    "         | 0, H_train),\n",
    "  mlogit(is_target ~ censored_log(target_outdegree, min=1) \n",
    "         + target_has_indegree \n",
    "         + censored_log(target_indegree, min=1) \n",
    "         + is_reciprocal\n",
    "         + is_weakly_connected\n",
    "         + is_friend_of_friend\n",
    "         + factor(target_author_type) \n",
    "         + is_author_type_shared\n",
    "         + is_health_condition_shared\n",
    "         + target_is_multisite_author\n",
    "         + target_is_mixedsite_author\n",
    "         + target_update_count\n",
    "         + target_update_frequency\n",
    "         + target_days_since_most_recent_update\n",
    "         + target_days_since_first_update\n",
    "         | 0, H_train_geo),\n",
    "  mlogit(is_target ~ censored_log(target_outdegree, min=1) \n",
    "         + target_has_indegree \n",
    "         + censored_log(target_indegree, min=1) \n",
    "         + is_reciprocal\n",
    "         + is_weakly_connected\n",
    "         + is_friend_of_friend\n",
    "         + factor(target_author_type) \n",
    "         + is_author_type_shared\n",
    "         + is_health_condition_shared\n",
    "         + target_is_multisite_author\n",
    "         + target_is_mixedsite_author\n",
    "         + target_update_count\n",
    "         + target_update_frequency\n",
    "         + target_days_since_most_recent_update\n",
    "         + target_days_since_first_update\n",
    "         + is_state_assignment_shared\n",
    "         | 0, H_train_geo)\n",
    ")\n",
    "total_time <- proc.time() - start_time\n",
    "total_time"
   ]
  },
  {
   "cell_type": "code",
   "execution_count": 20,
   "metadata": {},
   "outputs": [
    {
     "name": "stdout",
     "output_type": "stream",
     "text": [
      "\n",
      "==========================================================================\n",
      "                                                    is_target             \n",
      "                                            (1)         (2)        (3)    \n",
      "--------------------------------------------------------------------------\n",
      "censored_log(target_outdegree, min = 1)  -0.191***   -0.225***  -0.231*** \n",
      "                                          (0.005)     (0.025)    (0.029)  \n",
      "                                                                          \n",
      "target_has_indegree                       0.756***    1.907***   1.795*** \n",
      "                                          (0.017)     (0.170)    (0.182)  \n",
      "                                                                          \n",
      "censored_log(target_indegree, min = 1)    0.649***    0.960***   0.974*** \n",
      "                                          (0.005)     (0.027)    (0.030)  \n",
      "                                                                          \n",
      "is_reciprocal                            20.016***    8.458***   7.999*** \n",
      "                                          (0.460)     (0.574)    (0.568)  \n",
      "                                                                          \n",
      "is_weakly_connected                       1.767***    4.647***   4.281*** \n",
      "                                          (0.021)     (0.430)    (0.435)  \n",
      "                                                                          \n",
      "is_friend_of_friend                       5.220***    3.196***   2.801*** \n",
      "                                          (0.097)     (0.201)    (0.207)  \n",
      "                                                                          \n",
      "factor(target_author_type)mixed            0.020       0.110      0.111   \n",
      "                                          (0.018)     (0.085)    (0.098)  \n",
      "                                                                          \n",
      "factor(target_author_type)p              -0.242***   -0.187***  -0.247*** \n",
      "                                          (0.012)     (0.063)    (0.072)  \n",
      "                                                                          \n",
      "is_author_type_shared                     0.299***    0.331***   0.295*** \n",
      "                                          (0.012)     (0.059)    (0.068)  \n",
      "                                                                          \n",
      "is_heh_condition_shared                   0.213***    0.366***   0.400*** \n",
      "                                          (0.009)     (0.049)    (0.056)  \n",
      "                                                                          \n",
      "target_is_multisite_author                0.315***    0.752***   0.772*** \n",
      "                                          (0.015)     (0.058)    (0.066)  \n",
      "                                                                          \n",
      "target_is_mixedsite_author                0.474***    0.367***   0.352*** \n",
      "                                          (0.008)     (0.059)    (0.067)  \n",
      "                                                                          \n",
      "target_update_count                      -0.0003***  -0.001***  -0.0004***\n",
      "                                         (0.00004)    (0.0001)   (0.0001) \n",
      "                                                                          \n",
      "target_update_frequency                   0.007***    0.013***   0.013*** \n",
      "                                          (0.0002)    (0.002)    (0.002)  \n",
      "                                                                          \n",
      "target_days_since_most_recent_update     -0.011***   -0.006***  -0.005*** \n",
      "                                         (0.00005)    (0.0001)   (0.0001) \n",
      "                                                                          \n",
      "target_days_since_first_update           -0.001***   -0.001***  -0.0005***\n",
      "                                         (0.00001)   (0.00003)  (0.00004) \n",
      "                                                                          \n",
      "is_state_assignment_shared                                       2.723*** \n",
      "                                                                 (0.069)  \n",
      "                                                                          \n",
      "--------------------------------------------------------------------------\n",
      "Observations                              155,141      7,007      7,007   \n",
      "Log Likelihood                          -133,746.600 -4,830.810 -3,743.011\n",
      "==========================================================================\n",
      "Note:                                          *p<0.1; **p<0.05; ***p<0.01\n"
     ]
    }
   ],
   "source": [
    "stargazer::stargazer(\n",
    "  geo_mds,\n",
    "  dep.var.caption = \"\",\n",
    "  header=TRUE,\n",
    "  type='text')"
   ]
  },
  {
   "cell_type": "code",
   "execution_count": 19,
   "metadata": {},
   "outputs": [
    {
     "data": {
      "text/html": [
       "<dl class=dl-horizontal>\n",
       "\t<dt>censored_log(target_outdegree, min = 1)</dt>\n",
       "\t\t<dd>-20.6109860791572</dd>\n",
       "\t<dt>target_has_indegree</dt>\n",
       "\t\t<dd>501.728750683055</dd>\n",
       "\t<dt>censored_log(target_indegree, min = 1)</dt>\n",
       "\t\t<dd>164.897325137041</dd>\n",
       "\t<dt>is_reciprocal</dt>\n",
       "\t\t<dd>297671.354633551</dd>\n",
       "\t<dt>is_weakly_connected</dt>\n",
       "\t\t<dd>7131.46821040193</dd>\n",
       "\t<dt>is_friend_of_friend</dt>\n",
       "\t\t<dd>1545.82214054664</dd>\n",
       "\t<dt>factor(target_author_type)mixed</dt>\n",
       "\t\t<dd>11.7836471341956</dd>\n",
       "\t<dt>factor(target_author_type)p</dt>\n",
       "\t\t<dd>-21.8784021564176</dd>\n",
       "\t<dt>is_author_type_shared</dt>\n",
       "\t\t<dd>34.2648561192199</dd>\n",
       "\t<dt>is_heh_condition_shared</dt>\n",
       "\t\t<dd>49.1408180854759</dd>\n",
       "\t<dt>target_is_multisite_author</dt>\n",
       "\t\t<dd>116.436687612212</dd>\n",
       "\t<dt>target_is_mixedsite_author</dt>\n",
       "\t\t<dd>42.1617846693162</dd>\n",
       "\t<dt>target_update_count</dt>\n",
       "\t\t<dd>-0.0449766225468551</dd>\n",
       "\t<dt>target_update_frequency</dt>\n",
       "\t\t<dd>1.26767920987085</dd>\n",
       "\t<dt>target_days_since_most_recent_update</dt>\n",
       "\t\t<dd>-0.538984711228196</dd>\n",
       "\t<dt>target_days_since_first_update</dt>\n",
       "\t\t<dd>-0.0497428580121473</dd>\n",
       "\t<dt>is_state_assignment_shared</dt>\n",
       "\t\t<dd>1422.44291923454</dd>\n",
       "</dl>\n"
      ],
      "text/latex": [
       "\\begin{description*}\n",
       "\\item[censored\\textbackslash{}\\_log(target\\textbackslash{}\\_outdegree, min = 1)] -20.6109860791572\n",
       "\\item[target\\textbackslash{}\\_has\\textbackslash{}\\_indegree] 501.728750683055\n",
       "\\item[censored\\textbackslash{}\\_log(target\\textbackslash{}\\_indegree, min = 1)] 164.897325137041\n",
       "\\item[is\\textbackslash{}\\_reciprocal] 297671.354633551\n",
       "\\item[is\\textbackslash{}\\_weakly\\textbackslash{}\\_connected] 7131.46821040193\n",
       "\\item[is\\textbackslash{}\\_friend\\textbackslash{}\\_of\\textbackslash{}\\_friend] 1545.82214054664\n",
       "\\item[factor(target\\textbackslash{}\\_author\\textbackslash{}\\_type)mixed] 11.7836471341956\n",
       "\\item[factor(target\\textbackslash{}\\_author\\textbackslash{}\\_type)p] -21.8784021564176\n",
       "\\item[is\\textbackslash{}\\_author\\textbackslash{}\\_type\\textbackslash{}\\_shared] 34.2648561192199\n",
       "\\item[is\\textbackslash{}\\_heh\\textbackslash{}\\_condition\\textbackslash{}\\_shared] 49.1408180854759\n",
       "\\item[target\\textbackslash{}\\_is\\textbackslash{}\\_multisite\\textbackslash{}\\_author] 116.436687612212\n",
       "\\item[target\\textbackslash{}\\_is\\textbackslash{}\\_mixedsite\\textbackslash{}\\_author] 42.1617846693162\n",
       "\\item[target\\textbackslash{}\\_update\\textbackslash{}\\_count] -0.0449766225468551\n",
       "\\item[target\\textbackslash{}\\_update\\textbackslash{}\\_frequency] 1.26767920987085\n",
       "\\item[target\\textbackslash{}\\_days\\textbackslash{}\\_since\\textbackslash{}\\_most\\textbackslash{}\\_recent\\textbackslash{}\\_update] -0.538984711228196\n",
       "\\item[target\\textbackslash{}\\_days\\textbackslash{}\\_since\\textbackslash{}\\_first\\textbackslash{}\\_update] -0.0497428580121473\n",
       "\\item[is\\textbackslash{}\\_state\\textbackslash{}\\_assignment\\textbackslash{}\\_shared] 1422.44291923454\n",
       "\\end{description*}\n"
      ],
      "text/markdown": [
       "censored_log(target_outdegree, min = 1)\n",
       ":   -20.6109860791572target_has_indegree\n",
       ":   501.728750683055censored_log(target_indegree, min = 1)\n",
       ":   164.897325137041is_reciprocal\n",
       ":   297671.354633551is_weakly_connected\n",
       ":   7131.46821040193is_friend_of_friend\n",
       ":   1545.82214054664factor(target_author_type)mixed\n",
       ":   11.7836471341956factor(target_author_type)p\n",
       ":   -21.8784021564176is_author_type_shared\n",
       ":   34.2648561192199is_heh_condition_shared\n",
       ":   49.1408180854759target_is_multisite_author\n",
       ":   116.436687612212target_is_mixedsite_author\n",
       ":   42.1617846693162target_update_count\n",
       ":   -0.0449766225468551target_update_frequency\n",
       ":   1.26767920987085target_days_since_most_recent_update\n",
       ":   -0.538984711228196target_days_since_first_update\n",
       ":   -0.0497428580121473is_state_assignment_shared\n",
       ":   1422.44291923454\n",
       "\n"
      ],
      "text/plain": [
       "censored_log(target_outdegree, min = 1)                     target_has_indegree \n",
       "                          -2.061099e+01                            5.017288e+02 \n",
       " censored_log(target_indegree, min = 1)                           is_reciprocal \n",
       "                           1.648973e+02                            2.976714e+05 \n",
       "                    is_weakly_connected                     is_friend_of_friend \n",
       "                           7.131468e+03                            1.545822e+03 \n",
       "        factor(target_author_type)mixed             factor(target_author_type)p \n",
       "                           1.178365e+01                           -2.187840e+01 \n",
       "                  is_author_type_shared                 is_heh_condition_shared \n",
       "                           3.426486e+01                            4.914082e+01 \n",
       "             target_is_multisite_author              target_is_mixedsite_author \n",
       "                           1.164367e+02                            4.216178e+01 \n",
       "                    target_update_count                 target_update_frequency \n",
       "                          -4.497662e-02                            1.267679e+00 \n",
       "   target_days_since_most_recent_update          target_days_since_first_update \n",
       "                          -5.389847e-01                           -4.974286e-02 \n",
       "             is_state_assignment_shared \n",
       "                           1.422443e+03 \n",
       "attr(,\"names.sup.coef\")\n",
       "character(0)\n",
       "attr(,\"fixed\")\n",
       "censored_log(target_outdegree, min = 1)                     target_has_indegree \n",
       "                                  FALSE                                   FALSE \n",
       " censored_log(target_indegree, min = 1)                           is_reciprocal \n",
       "                                  FALSE                                   FALSE \n",
       "                    is_weakly_connected                     is_friend_of_friend \n",
       "                                  FALSE                                   FALSE \n",
       "        factor(target_author_type)mixed             factor(target_author_type)p \n",
       "                                  FALSE                                   FALSE \n",
       "                  is_author_type_shared                 is_heh_condition_shared \n",
       "                                  FALSE                                   FALSE \n",
       "             target_is_multisite_author              target_is_mixedsite_author \n",
       "                                  FALSE                                   FALSE \n",
       "                    target_update_count                 target_update_frequency \n",
       "                                  FALSE                                   FALSE \n",
       "   target_days_since_most_recent_update          target_days_since_first_update \n",
       "                                  FALSE                                   FALSE \n",
       "             is_state_assignment_shared \n",
       "                                  FALSE \n",
       "attr(,\"sup\")\n",
       "character(0)"
      ]
     },
     "metadata": {},
     "output_type": "display_data"
    }
   ],
   "source": [
    "# The exponentiated coefficient represents the change in the odds\n",
    "# of being the target vis-a-vis the non-target category,\n",
    "# associated with having a shared state assignment.\"\n",
    "\n",
    "(exp(geo_mds[[3]]$coefficients) - 1) * 100"
   ]
  },
  {
   "cell_type": "code",
   "execution_count": 21,
   "metadata": {},
   "outputs": [
    {
     "data": {
      "text/html": [
       "0.77272562588312"
      ],
      "text/latex": [
       "0.77272562588312"
      ],
      "text/markdown": [
       "0.77272562588312"
      ],
      "text/plain": [
       "[1] 0.7727256"
      ]
     },
     "metadata": {},
     "output_type": "display_data"
    },
    {
     "data": {
      "text/html": [
       "0.842814371257485"
      ],
      "text/latex": [
       "0.842814371257485"
      ],
      "text/markdown": [
       "0.842814371257485"
      ],
      "text/plain": [
       "[1] 0.8428144"
      ]
     },
     "metadata": {},
     "output_type": "display_data"
    },
    {
     "data": {
      "text/html": [
       "0.87125748502994"
      ],
      "text/latex": [
       "0.87125748502994"
      ],
      "text/markdown": [
       "0.87125748502994"
      ],
      "text/plain": [
       "[1] 0.8712575"
      ]
     },
     "metadata": {},
     "output_type": "display_data"
    }
   ],
   "source": [
    "# Test accuracy\n",
    "acc(geo_mds[[1]], H_test)\n",
    "acc(geo_mds[[2]], H_test_geo)\n",
    "acc(geo_mds[[3]], H_test_geo)"
   ]
  },
  {
   "cell_type": "code",
   "execution_count": 22,
   "metadata": {},
   "outputs": [
    {
     "name": "stdout",
     "output_type": "stream",
     "text": [
      "\n",
      "======================================================\n",
      "                                    is_target         \n",
      "------------------------------------------------------\n",
      "is_state_assignment_shared          3.139***          \n",
      "                                     (0.031)          \n",
      "                                                      \n",
      "------------------------------------------------------\n",
      "Observations                          7,007           \n",
      "Log Likelihood                     -17,409.340        \n",
      "======================================================\n",
      "Note:                      *p<0.1; **p<0.05; ***p<0.01\n"
     ]
    },
    {
     "data": {
      "text/html": [
       "0.261976047904192"
      ],
      "text/latex": [
       "0.261976047904192"
      ],
      "text/markdown": [
       "0.261976047904192"
      ],
      "text/plain": [
       "[1] 0.261976"
      ]
     },
     "metadata": {},
     "output_type": "display_data"
    }
   ],
   "source": [
    "md <- mlogit(is_target ~ is_state_assignment_shared | 0, H_train_geo)\n",
    "stargazer::stargazer(\n",
    "  md,\n",
    "  dep.var.caption = \"\",\n",
    "  header=TRUE,\n",
    "  type='text')\n",
    "acc(md, H_test_geo)"
   ]
  },
  {
   "cell_type": "code",
   "execution_count": null,
   "metadata": {},
   "outputs": [],
   "source": []
  },
  {
   "cell_type": "code",
   "execution_count": null,
   "metadata": {},
   "outputs": [],
   "source": []
  }
 ],
 "metadata": {
  "kernelspec": {
   "display_name": "R 3.6",
   "language": "R",
   "name": "ir36"
  },
  "language_info": {
   "codemirror_mode": "r",
   "file_extension": ".r",
   "mimetype": "text/x-r-source",
   "name": "R",
   "pygments_lexer": "r",
   "version": "3.6.2"
  }
 },
 "nbformat": 4,
 "nbformat_minor": 2
}
