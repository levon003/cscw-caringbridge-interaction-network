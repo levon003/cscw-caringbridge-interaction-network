{
 "cells": [
  {
   "cell_type": "markdown",
   "metadata": {},
   "source": [
    "\"Initiator or not?\" Logistic Regression\n",
    "===\n",
    "\n",
    "- Number of journal updates\n",
    "- Posting frequency (# updates / (last update - first update))\n",
    "- Health condition\n",
    "- Author role\n",
    "- is_multisite_author\n",
    "- is_mixed_site_author\n",
    "\n",
    "is_interacted_with as  a separating factor\n",
    "\n",
    "Not using: is_shared, due to its high correlation with author role\n",
    "\n",
    "Feels like this is a propensity score matching problem?\n",
    "Desired finding:\n",
    " - Level of activity is a strong predictor\n",
    " - Other features basically don't matter\n",
    "\n",
    "Problem: comparing a group who may yet initiate to people who have already initiated.\n",
    "\n",
    "One solution: Bucket people by their month of joining the site.  \n",
    "\n",
    "The Q becomes: what differentiates people joining in the same month from initiating or not.\n",
    "\n",
    "Take the average from the n \"cohorts\", look at the distribution of the coefficients. \n",
    "(Should be mostly normal-looking, centered on the mean)\n",
    "\n",
    "#### From talking with Dan Kluver:\n",
    "\n",
    "Argue: by using a time cutoff on the target feature, we enable the use of a simpler model.  However, we observe similar results with unbounded predictors (and note that only 11% of users who initiate do so later than the first year)\n",
    "\n",
    "Dan: Explain the exploratory models, but then say what you present in the omnibus model.\n",
    "\n",
    "Should really be using a zero-inflated model of some kind..."
   ]
  },
  {
   "cell_type": "code",
   "execution_count": 1,
   "metadata": {},
   "outputs": [],
   "source": [
    "%reload_ext autoreload\n",
    "%autoreload 2\n",
    "%matplotlib inline"
   ]
  },
  {
   "cell_type": "code",
   "execution_count": 2,
   "metadata": {},
   "outputs": [
    {
     "name": "stderr",
     "output_type": "stream",
     "text": [
      "/home/srivbane/shared/anaconda3/lib/python3.7/site-packages/statsmodels/compat/pandas.py:49: FutureWarning: The Panel class is removed from pandas. Accessing it from the top-level namespace will also be removed in the next version\n",
      "  data_klasses = (pandas.Series, pandas.DataFrame, pandas.Panel)\n"
     ]
    }
   ],
   "source": [
    "import os\n",
    "import re\n",
    "import pandas as pd\n",
    "import numpy as np\n",
    "\n",
    "from collections import Counter\n",
    "import sqlite3\n",
    "from tqdm import tqdm\n",
    "import random\n",
    "import pickle\n",
    "from datetime import datetime\n",
    "\n",
    "import matplotlib.pyplot as plt\n",
    "import matplotlib.dates as md\n",
    "import matplotlib\n",
    "import pylab as pl\n",
    "from IPython.core.display import display, HTML\n",
    "\n",
    "import statsmodels.api as sm\n",
    "import statsmodels.formula.api as smf"
   ]
  },
  {
   "cell_type": "code",
   "execution_count": 3,
   "metadata": {},
   "outputs": [],
   "source": [
    "from stargazer.stargazer import Stargazer"
   ]
  },
  {
   "cell_type": "code",
   "execution_count": 4,
   "metadata": {},
   "outputs": [],
   "source": [
    "import sys\n",
    "sys.path.append(\"/home/srivbane/levon003/repos/qual-health-journeys/annotation_data\")\n",
    "import journal as journal_utils"
   ]
  },
  {
   "cell_type": "code",
   "execution_count": 5,
   "metadata": {},
   "outputs": [],
   "source": [
    "working_dir = \"/home/srivbane/shared/caringbridge/data/projects/sna-social-support/author_initiations\"\n",
    "assert os.path.exists(working_dir)"
   ]
  },
  {
   "cell_type": "code",
   "execution_count": 6,
   "metadata": {},
   "outputs": [
    {
     "data": {
      "text/plain": [
       "'/panfs/roc/groups/3/srivbane/levon003/repos/sna-social-support/figures'"
      ]
     },
     "execution_count": 6,
     "metadata": {},
     "output_type": "execute_result"
    }
   ],
   "source": [
    "git_root_dir = !git rev-parse --show-toplevel\n",
    "git_root_dir = git_root_dir[0]\n",
    "figures_dir = os.path.join(git_root_dir, 'figures')\n",
    "figures_dir"
   ]
  },
  {
   "cell_type": "code",
   "execution_count": 7,
   "metadata": {},
   "outputs": [],
   "source": [
    "start_date = datetime.fromisoformat('2005-01-01')\n",
    "start_timestamp = int(start_date.timestamp() * 1000)\n",
    "end_date = datetime.fromisoformat('2016-06-01')\n",
    "end_timestamp = int(end_date.timestamp() * 1000)\n",
    "subset_start_date = datetime.fromisoformat('2014-01-01')\n",
    "subset_start_timestamp = int(subset_start_date.timestamp() * 1000)"
   ]
  },
  {
   "cell_type": "markdown",
   "metadata": {},
   "source": [
    "### Read in the data"
   ]
  },
  {
   "cell_type": "code",
   "execution_count": 8,
   "metadata": {},
   "outputs": [
    {
     "data": {
      "text/plain": [
       "362345"
      ]
     },
     "execution_count": 8,
     "metadata": {},
     "output_type": "execute_result"
    }
   ],
   "source": [
    "# load the list of valid users\n",
    "data_selection_working_dir = \"/home/srivbane/shared/caringbridge/data/projects/sna-social-support/data_selection\"\n",
    "valid_user_ids = set()\n",
    "with open(os.path.join(data_selection_working_dir, \"valid_user_ids.txt\"), 'r') as infile:\n",
    "    for line in infile:\n",
    "        user_id = line.strip()\n",
    "        if user_id == \"\":\n",
    "            continue\n",
    "        else:\n",
    "            valid_user_ids.add(int(user_id))\n",
    "len(valid_user_ids)"
   ]
  },
  {
   "cell_type": "code",
   "execution_count": 9,
   "metadata": {},
   "outputs": [
    {
     "data": {
      "text/plain": [
       "340414"
      ]
     },
     "execution_count": 9,
     "metadata": {},
     "output_type": "execute_result"
    }
   ],
   "source": [
    "# load the list of valid sites\n",
    "data_selection_working_dir = \"/home/srivbane/shared/caringbridge/data/projects/sna-social-support/data_selection\"\n",
    "valid_site_ids = set()\n",
    "with open(os.path.join(data_selection_working_dir, \"valid_site_ids.txt\"), 'r') as infile:\n",
    "    for line in infile:\n",
    "        site_id = line.strip()\n",
    "        if site_id == \"\":\n",
    "            continue\n",
    "        else:\n",
    "            valid_site_ids.add(int(site_id))\n",
    "len(valid_site_ids)"
   ]
  },
  {
   "cell_type": "code",
   "execution_count": 10,
   "metadata": {},
   "outputs": [
    {
     "name": "stdout",
     "output_type": "stream",
     "text": [
      "0:00:16.692236\n"
     ]
    },
    {
     "data": {
      "text/plain": [
       "15850052"
      ]
     },
     "execution_count": 10,
     "metadata": {},
     "output_type": "execute_result"
    }
   ],
   "source": [
    "# read the journal metadata with author type info added\n",
    "s = datetime.now()\n",
    "author_type_dir = \"/home/srivbane/shared/caringbridge/data/projects/sna-social-support/author_type\"\n",
    "journal_metadata_filepath = os.path.join(author_type_dir, \"journal_metadata_with_author_type.df\")\n",
    "journal_df = pd.read_feather(journal_metadata_filepath)\n",
    "print(datetime.now() - s)\n",
    "len(journal_df)"
   ]
  },
  {
   "cell_type": "code",
   "execution_count": 11,
   "metadata": {},
   "outputs": [],
   "source": [
    "# as a quick fix for invalid dates in journals, when created_at is 0 we use the updated_at instead\n",
    "# note that only 41 updates have this issue\n",
    "invalid_created_at = journal_df.created_at <= 0\n",
    "journal_df.loc[invalid_created_at, 'created_at'] = journal_df.loc[invalid_created_at, 'updated_at']"
   ]
  },
  {
   "cell_type": "code",
   "execution_count": 12,
   "metadata": {},
   "outputs": [
    {
     "data": {
      "text/plain": [
       "714874"
      ]
     },
     "execution_count": 12,
     "metadata": {},
     "output_type": "execute_result"
    }
   ],
   "source": [
    "health_cond_filepath = os.path.join(\"/home/srivbane/shared/caringbridge/data/projects/sna-social-support/user_metadata\", \"assigned_health_conditions.feather\")\n",
    "user_health_conds_df = pd.read_feather(health_cond_filepath)\n",
    "len(user_health_conds_df)"
   ]
  },
  {
   "cell_type": "code",
   "execution_count": 13,
   "metadata": {},
   "outputs": [
    {
     "data": {
      "text/plain": [
       "362345"
      ]
     },
     "execution_count": 13,
     "metadata": {},
     "output_type": "execute_result"
    }
   ],
   "source": [
    "# read the user author type dataframe\n",
    "author_type_dir = \"/home/srivbane/shared/caringbridge/data/projects/sna-social-support/author_type\"\n",
    "user_patient_proportions_filepath = os.path.join(author_type_dir, 'user_patient_proportions.df')\n",
    "user_df = pd.read_feather(user_patient_proportions_filepath)\n",
    "len(user_df)"
   ]
  },
  {
   "cell_type": "code",
   "execution_count": 14,
   "metadata": {},
   "outputs": [
    {
     "data": {
      "text/plain": [
       "14812407"
      ]
     },
     "execution_count": 14,
     "metadata": {},
     "output_type": "execute_result"
    }
   ],
   "source": [
    "# read the user->user interactions dataframe\n",
    "metadata_dir = \"/home/srivbane/shared/caringbridge/data/projects/sna-social-support/user_metadata\"\n",
    "u2u_df = pd.read_feather(os.path.join(metadata_dir,\"u2u_df.feather\"))\n",
    "len(u2u_df)"
   ]
  },
  {
   "cell_type": "code",
   "execution_count": 15,
   "metadata": {},
   "outputs": [],
   "source": [
    "# currently not necessary, since we use the processed user->user interactions...\n",
    "# read in the interactions dataframe\n",
    "#metadata_dir = \"/home/srivbane/shared/caringbridge/data/projects/sna-social-support/user_metadata\"\n",
    "#author_to_site = os.path.join(metadata_dir, \"interaction_metadata.h5\")\n",
    "#ints_df = pd.read_hdf(author_to_site)\n",
    "#len(ints_df)"
   ]
  },
  {
   "cell_type": "markdown",
   "metadata": {},
   "source": [
    "## Compute and merge the features"
   ]
  },
  {
   "cell_type": "code",
   "execution_count": 16,
   "metadata": {},
   "outputs": [
    {
     "data": {
      "text/plain": [
       "362345"
      ]
     },
     "execution_count": 16,
     "metadata": {},
     "output_type": "execute_result"
    }
   ],
   "source": [
    "user_df = user_df[user_df.user_id.isin(valid_user_ids)]\n",
    "len(user_df)"
   ]
  },
  {
   "cell_type": "code",
   "execution_count": 17,
   "metadata": {},
   "outputs": [
    {
     "data": {
      "text/html": [
       "<div>\n",
       "<style scoped>\n",
       "    .dataframe tbody tr th:only-of-type {\n",
       "        vertical-align: middle;\n",
       "    }\n",
       "\n",
       "    .dataframe tbody tr th {\n",
       "        vertical-align: top;\n",
       "    }\n",
       "\n",
       "    .dataframe thead th {\n",
       "        text-align: right;\n",
       "    }\n",
       "</style>\n",
       "<table border=\"1\" class=\"dataframe\">\n",
       "  <thead>\n",
       "    <tr style=\"text-align: right;\">\n",
       "      <th></th>\n",
       "      <th>user_id</th>\n",
       "      <th>patient_proportion</th>\n",
       "      <th>user_total</th>\n",
       "      <th>num_sites</th>\n",
       "      <th>user_author_type</th>\n",
       "      <th>is_shared</th>\n",
       "    </tr>\n",
       "  </thead>\n",
       "  <tbody>\n",
       "    <tr>\n",
       "      <td>0</td>\n",
       "      <td>1</td>\n",
       "      <td>0.032086</td>\n",
       "      <td>187</td>\n",
       "      <td>1</td>\n",
       "      <td>cg</td>\n",
       "      <td>False</td>\n",
       "    </tr>\n",
       "    <tr>\n",
       "      <td>1</td>\n",
       "      <td>2</td>\n",
       "      <td>0.068966</td>\n",
       "      <td>29</td>\n",
       "      <td>1</td>\n",
       "      <td>cg</td>\n",
       "      <td>False</td>\n",
       "    </tr>\n",
       "    <tr>\n",
       "      <td>2</td>\n",
       "      <td>6</td>\n",
       "      <td>0.000000</td>\n",
       "      <td>17</td>\n",
       "      <td>1</td>\n",
       "      <td>cg</td>\n",
       "      <td>False</td>\n",
       "    </tr>\n",
       "    <tr>\n",
       "      <td>3</td>\n",
       "      <td>12</td>\n",
       "      <td>0.000000</td>\n",
       "      <td>15</td>\n",
       "      <td>1</td>\n",
       "      <td>cg</td>\n",
       "      <td>False</td>\n",
       "    </tr>\n",
       "    <tr>\n",
       "      <td>4</td>\n",
       "      <td>15</td>\n",
       "      <td>0.250000</td>\n",
       "      <td>12</td>\n",
       "      <td>1</td>\n",
       "      <td>cg</td>\n",
       "      <td>False</td>\n",
       "    </tr>\n",
       "  </tbody>\n",
       "</table>\n",
       "</div>"
      ],
      "text/plain": [
       "   user_id  patient_proportion  user_total  num_sites user_author_type  \\\n",
       "0        1            0.032086         187          1               cg   \n",
       "1        2            0.068966          29          1               cg   \n",
       "2        6            0.000000          17          1               cg   \n",
       "3       12            0.000000          15          1               cg   \n",
       "4       15            0.250000          12          1               cg   \n",
       "\n",
       "   is_shared  \n",
       "0      False  \n",
       "1      False  \n",
       "2      False  \n",
       "3      False  \n",
       "4      False  "
      ]
     },
     "execution_count": 17,
     "metadata": {},
     "output_type": "execute_result"
    }
   ],
   "source": [
    "user_df.head()"
   ]
  },
  {
   "cell_type": "code",
   "execution_count": 18,
   "metadata": {},
   "outputs": [
    {
     "data": {
      "text/plain": [
       "[(False, 343654), (True, 18691)]"
      ]
     },
     "execution_count": 18,
     "metadata": {},
     "output_type": "execute_result"
    }
   ],
   "source": [
    "user_df['is_multisite_author'] = user_df.num_sites > 1\n",
    "Counter(user_df.is_multisite_author).most_common()"
   ]
  },
  {
   "cell_type": "code",
   "execution_count": 19,
   "metadata": {},
   "outputs": [
    {
     "data": {
      "text/plain": [
       "(79115, 0.2183416357339)"
      ]
     },
     "execution_count": 19,
     "metadata": {},
     "output_type": "execute_result"
    }
   ],
   "source": [
    "is_mixedsite_author_dict = {}\n",
    "site_author_sets = journal_df[journal_df.user_id.isin(valid_user_ids)].groupby('site_id').agg({'user_id': lambda user_ids: set(user_ids)})\n",
    "for site_id, user_ids in zip(site_author_sets.index, site_author_sets.user_id):\n",
    "    if len(user_ids) > 1:\n",
    "        for user_id in user_ids:\n",
    "            is_mixedsite_author_dict[user_id] = True\n",
    "is_mixedsite_author = [user_id in is_mixedsite_author_dict for user_id in user_df.user_id]\n",
    "user_df['is_mixedsite_author'] = is_mixedsite_author\n",
    "# 21.8% of authors have written updates on a site on which another valid author has written an update \n",
    "np.sum(is_mixedsite_author), np.sum(is_mixedsite_author) / len(is_mixedsite_author)"
   ]
  },
  {
   "cell_type": "code",
   "execution_count": 20,
   "metadata": {},
   "outputs": [],
   "source": [
    "# merge in the health condition data\n",
    "user_health_cond_dict = {user_id: assigned_health_cond for user_id, assigned_health_cond in zip(user_health_conds_df.user_id, user_health_conds_df.assigned_health_cond)}\n",
    "health_condition = [user_health_cond_dict[user_id] for user_id in user_df.user_id]\n",
    "user_df['health_condition'] = health_condition"
   ]
  },
  {
   "cell_type": "code",
   "execution_count": 21,
   "metadata": {},
   "outputs": [],
   "source": [
    "# number of journal updates, first update, last update\n",
    "user_updates_df = journal_df[journal_df.user_id.isin(valid_user_ids)].groupby('user_id').agg({\n",
    "    'journal_oid': lambda group: len(group),\n",
    "    'created_at': lambda created_ats: (np.min(created_ats), np.max(created_ats))\n",
    "}).reset_index()  # note that columns are not renamed appropriately, but are reused immediately\n",
    "user_update_count_dict = {\n",
    "    user_id: count for user_id, count \n",
    "    in zip(user_updates_df.user_id, user_updates_df.journal_oid)}\n",
    "user_first_update_dict = {\n",
    "    user_id: created_at[0] for user_id, created_at \n",
    "    in zip(user_updates_df.user_id, user_updates_df.created_at)}\n",
    "user_last_update_dict = {\n",
    "    user_id: created_at[1] for user_id, created_at \n",
    "    in zip(user_updates_df.user_id, user_updates_df.created_at)}\n",
    "update_count = [user_update_count_dict[user_id] for user_id in user_df.user_id]\n",
    "first_update = [user_first_update_dict[user_id] for user_id in user_df.user_id]\n",
    "last_update = [user_last_update_dict[user_id] for user_id in user_df.user_id]\n",
    "user_df['update_count'] = update_count\n",
    "user_df['first_update'] = first_update\n",
    "user_df['last_update'] = last_update\n",
    "user_df['author_tenure'] = user_df.last_update - user_df.first_update\n",
    "assert np.all(user_df.author_tenure > 0)"
   ]
  },
  {
   "cell_type": "code",
   "execution_count": 22,
   "metadata": {},
   "outputs": [],
   "source": [
    "# posting frequency (updates per month, across all sites)\n",
    "tenure_in_months = user_df.author_tenure / (1000 * 60 * 60 * 24 * 30)\n",
    "user_df['update_frequency'] = user_df.update_count / tenure_in_months"
   ]
  },
  {
   "cell_type": "code",
   "execution_count": 23,
   "metadata": {},
   "outputs": [
    {
     "data": {
      "text/plain": [
       "0.6297754902096069"
      ]
     },
     "execution_count": 23,
     "metadata": {},
     "output_type": "execute_result"
    }
   ],
   "source": [
    "# one small detail is that only 63% of users have the same update count and user total\n",
    "# I speculate that the user_total eliminates updates on non-valid sites, while the update_count includes these updates\n",
    "np.sum(user_df.update_count == user_df.user_total) / len(user_df)"
   ]
  },
  {
   "cell_type": "code",
   "execution_count": 24,
   "metadata": {},
   "outputs": [],
   "source": [
    "# is_interacted_with\n",
    "# computed from the user->user interaction data\n",
    "interacted_with_user_ids = set(u2u_df.to_user_id)\n",
    "is_interacted_with = [user_id in interacted_with_user_ids for user_id in user_df.user_id]\n",
    "user_df['is_interacted_with'] = is_interacted_with"
   ]
  },
  {
   "cell_type": "code",
   "execution_count": 25,
   "metadata": {},
   "outputs": [
    {
     "data": {
      "text/plain": [
       "(209141, 0.577187487063434)"
      ]
     },
     "execution_count": 25,
     "metadata": {},
     "output_type": "execute_result"
    }
   ],
   "source": [
    "np.sum(is_interacted_with), np.sum(is_interacted_with) / len(is_interacted_with)"
   ]
  },
  {
   "cell_type": "code",
   "execution_count": 26,
   "metadata": {},
   "outputs": [],
   "source": [
    "# the primary outcome in this analysis\n",
    "initiating_user_ids = set(u2u_df.from_user_id)\n",
    "is_initiator = [user_id in initiating_user_ids for user_id in user_df.user_id]\n",
    "user_df['is_initiator'] = is_initiator"
   ]
  },
  {
   "cell_type": "code",
   "execution_count": 27,
   "metadata": {},
   "outputs": [
    {
     "data": {
      "text/plain": [
       "(207534, 0.572752487270419)"
      ]
     },
     "execution_count": 27,
     "metadata": {},
     "output_type": "execute_result"
    }
   ],
   "source": [
    "np.sum(is_initiator), np.sum(is_initiator) / len(is_initiator)"
   ]
  },
  {
   "cell_type": "markdown",
   "metadata": {},
   "source": [
    "#### Construct time-bound outcomes"
   ]
  },
  {
   "cell_type": "code",
   "execution_count": 28,
   "metadata": {},
   "outputs": [],
   "source": [
    "ms_1yr = 1000 * 60 * 60 * 24 * 365\n",
    "first_update_dict = {user_id: first_update for user_id, first_update in zip(user_df.user_id, user_df.first_update)}"
   ]
  },
  {
   "cell_type": "code",
   "execution_count": 29,
   "metadata": {},
   "outputs": [],
   "source": [
    "u2u_subset = u2u_df[u2u_df.from_user_id.isin(set(first_update_dict.keys()))]\n",
    "users_initiating_within_1yr = set([from_user_id \n",
    "                                  for from_user_id, created_at \n",
    "                                  in zip(u2u_subset.from_user_id, u2u_subset.created_at) \n",
    "                                  if created_at <= first_update_dict[from_user_id] + ms_1yr])\n",
    "is_initiator_1yr = [user_id in users_initiating_within_1yr for user_id in user_df.user_id]"
   ]
  },
  {
   "cell_type": "code",
   "execution_count": 30,
   "metadata": {},
   "outputs": [],
   "source": [
    "u2u_subset = u2u_df[u2u_df.to_user_id.isin(set(first_update_dict.keys()))]\n",
    "users_with_ints_within_1yr = set([to_user_id \n",
    "                                  for to_user_id, created_at \n",
    "                                  in zip(u2u_subset.to_user_id, u2u_subset.created_at) \n",
    "                                  if created_at <= first_update_dict[to_user_id] + ms_1yr])\n",
    "is_interacted_with_1yr = [user_id in users_with_ints_within_1yr for user_id in user_df.user_id]"
   ]
  },
  {
   "cell_type": "code",
   "execution_count": 31,
   "metadata": {},
   "outputs": [],
   "source": [
    "user_df['is_interacted_with_1yr'] = is_interacted_with_1yr\n",
    "user_df['is_initiator_1yr'] = is_initiator_1yr"
   ]
  },
  {
   "cell_type": "code",
   "execution_count": 32,
   "metadata": {},
   "outputs": [
    {
     "data": {
      "text/plain": [
       "0.11685824283486733"
      ]
     },
     "execution_count": 32,
     "metadata": {},
     "output_type": "execute_result"
    }
   ],
   "source": [
    "# what % of authors initiate more than 1 year from their first update?\n",
    "np.sum((user_df.is_initiator)&(~user_df.is_initiator_1yr)) / len(user_df)"
   ]
  },
  {
   "cell_type": "code",
   "execution_count": 33,
   "metadata": {},
   "outputs": [
    {
     "data": {
      "text/plain": [
       "0.023546619934040763"
      ]
     },
     "execution_count": 33,
     "metadata": {},
     "output_type": "execute_result"
    }
   ],
   "source": [
    "# what % of authors are interacted with more than 1 year from their first update?\n",
    "np.sum((user_df.is_interacted_with)&(~user_df.is_interacted_with_1yr)) / len(user_df)"
   ]
  },
  {
   "cell_type": "markdown",
   "metadata": {},
   "source": [
    "### Construct cohort"
   ]
  },
  {
   "cell_type": "code",
   "execution_count": 34,
   "metadata": {},
   "outputs": [],
   "source": [
    "def get_year_month(first_update):\n",
    "    date = datetime.utcfromtimestamp(first_update / 1000)\n",
    "    return date.strftime('%Y-%m')\n",
    "    \n",
    "first_update_month = user_df.first_update.map(get_year_month)\n",
    "user_df['first_update_month'] = first_update_month"
   ]
  },
  {
   "cell_type": "code",
   "execution_count": 35,
   "metadata": {},
   "outputs": [
    {
     "data": {
      "image/png": "[encoded data removed]",
      "text/plain": [
       "<Figure size 864x144 with 1 Axes>"
      ]
     },
     "metadata": {
      "needs_background": "light"
     },
     "output_type": "display_data"
    }
   ],
   "source": [
    "# confirm that the number of users in each cohort is somewhat consistent\n",
    "first_update_months = user_df[(user_df.first_update >= start_timestamp)&(user_df.first_update <= end_timestamp)].first_update_month\n",
    "fig, ax = plt.subplots(1, 1, figsize=(12,2))\n",
    "xs = sorted(set(first_update_months))\n",
    "counts = Counter(first_update_months)\n",
    "ys = [counts[x] for x in xs]\n",
    "plt.plot(xs, ys, linestyle='-', linewidth=1, label='Initiations')\n",
    "\n",
    "newline = '\\n'\n",
    "xticks = xs[::6]\n",
    "plt.xticks(xticks, [f\"{newline if i%2 == 0 else ''}{xtick}\" for i, xtick in enumerate(xticks)])\n",
    "\n",
    "plt.show()"
   ]
  },
  {
   "cell_type": "markdown",
   "metadata": {},
   "source": [
    "## Construct the user subset and fit the models"
   ]
  },
  {
   "cell_type": "code",
   "execution_count": 36,
   "metadata": {},
   "outputs": [],
   "source": [
    "model_start_date = datetime.fromisoformat('2014-01-01')\n",
    "model_start_timestamp = int(model_start_date.timestamp() * 1000)\n",
    "model_end_date = datetime.fromisoformat('2016-01-01')\n",
    "model_end_timestamp = int(model_end_date.timestamp() * 1000)"
   ]
  },
  {
   "cell_type": "code",
   "execution_count": 37,
   "metadata": {},
   "outputs": [
    {
     "data": {
      "text/plain": [
       "user_id                     int64\n",
       "patient_proportion        float64\n",
       "user_total                  int64\n",
       "num_sites                   int64\n",
       "user_author_type           object\n",
       "is_shared                   int64\n",
       "is_multisite_author         int64\n",
       "is_mixedsite_author         int64\n",
       "health_condition           object\n",
       "update_count                int64\n",
       "first_update                int64\n",
       "last_update                 int64\n",
       "author_tenure               int64\n",
       "update_frequency          float64\n",
       "is_interacted_with          int64\n",
       "is_initiator                int64\n",
       "is_interacted_with_1yr      int64\n",
       "is_initiator_1yr            int64\n",
       "first_update_month         object\n",
       "dtype: object"
      ]
     },
     "execution_count": 37,
     "metadata": {},
     "output_type": "execute_result"
    }
   ],
   "source": [
    "# convert all boolean columns to integers\n",
    "cols_to_convert = []\n",
    "for column, dtype in zip(user_df.columns, user_df.dtypes):\n",
    "    if dtype == \"bool\":\n",
    "        cols_to_convert.append(column)\n",
    "for column in cols_to_convert:\n",
    "    user_df[column] = user_df[column].astype(int)\n",
    "user_df.dtypes"
   ]
  },
  {
   "cell_type": "code",
   "execution_count": 38,
   "metadata": {},
   "outputs": [
    {
     "data": {
      "text/plain": [
       "datetime.datetime(2016, 6, 1, 21, 7, 43)"
      ]
     },
     "execution_count": 38,
     "metadata": {},
     "output_type": "execute_result"
    }
   ],
   "source": [
    "# we can't know if an author initiated or was interacted with after this timestamp\n",
    "# so to define a \"interacted with within X time\" feature, the author's first update needs to be less than this time\n",
    "last_interaction_observed = np.max(u2u_df[u2u_df.int_type == 'guestbook'].created_at)\n",
    "datetime.utcfromtimestamp(last_interaction_observed / 1000)"
   ]
  },
  {
   "cell_type": "code",
   "execution_count": 39,
   "metadata": {},
   "outputs": [
    {
     "data": {
      "text/plain": [
       "(53335, 0.14719397259517863)"
      ]
     },
     "execution_count": 39,
     "metadata": {},
     "output_type": "execute_result"
    }
   ],
   "source": [
    "#user_subset = user_df[(user_df.first_update >= model_start_timestamp)&(user_df.first_update <= model_end_timestamp)]\n",
    "user_subset = user_df[(user_df.first_update >= model_start_timestamp)&(user_df.first_update <= model_end_timestamp)&(user_df.first_update + ms_1yr <= last_interaction_observed)]\n",
    "test_user_subset = user_df[user_df.first_update > model_end_timestamp]\n",
    "len(user_subset), len(user_subset) / len(user_df)"
   ]
  },
  {
   "cell_type": "code",
   "execution_count": 40,
   "metadata": {},
   "outputs": [
    {
     "data": {
      "text/plain": [
       "[('None', 31771),\n",
       " ('Cancer', 13766),\n",
       " ('Cardiovascular/Stroke', 1964),\n",
       " ('Surgery/Transplantation', 1468),\n",
       " ('Injury', 1420),\n",
       " ('Neurological Condition', 1106),\n",
       " ('Infant/Childbirth', 798),\n",
       " ('Other', 707),\n",
       " ('Congenital/Immune Disorder', 334),\n",
       " ('Condition Unknown', 1)]"
      ]
     },
     "execution_count": 40,
     "metadata": {},
     "output_type": "execute_result"
    }
   ],
   "source": [
    "Counter(user_subset.health_condition).most_common()"
   ]
  },
  {
   "cell_type": "code",
   "execution_count": 41,
   "metadata": {},
   "outputs": [
    {
     "name": "stderr",
     "output_type": "stream",
     "text": [
      "/home/srivbane/shared/anaconda3/lib/python3.7/site-packages/pandas/core/indexing.py:494: SettingWithCopyWarning: \n",
      "A value is trying to be set on a copy of a slice from a DataFrame.\n",
      "Try using .loc[row_indexer,col_indexer] = value instead\n",
      "\n",
      "See the caveats in the documentation: http://pandas.pydata.org/pandas-docs/stable/user_guide/indexing.html#returning-a-view-versus-a-copy\n",
      "  self.obj[item] = s\n"
     ]
    }
   ],
   "source": [
    "# remap the singleton Condition Unknown user to \"Other\"\n",
    "user_subset.loc[user_subset.health_condition == 'Condition Unknown', 'health_condition'] = 'Other'"
   ]
  },
  {
   "cell_type": "code",
   "execution_count": 42,
   "metadata": {
    "scrolled": true
   },
   "outputs": [
    {
     "data": {
      "text/plain": [
       "[('cg', 40416), ('p', 9795), ('mixed', 3124)]"
      ]
     },
     "execution_count": 42,
     "metadata": {},
     "output_type": "execute_result"
    }
   ],
   "source": [
    "Counter(user_subset.user_author_type).most_common()"
   ]
  },
  {
   "cell_type": "code",
   "execution_count": 43,
   "metadata": {},
   "outputs": [
    {
     "data": {
      "text/plain": [
       "array([[24823., 25986.],\n",
       "       [ 1135.,  1391.]])"
      ]
     },
     "execution_count": 43,
     "metadata": {},
     "output_type": "execute_result"
    }
   ],
   "source": [
    "# is_multisite_author X is_initiator contingency table\n",
    "# made to debug an issue with quasi-perfect separation\n",
    "cont_table = np.zeros((2,2))\n",
    "for is_multisite_author, is_initiator in zip(user_subset.is_multisite_author, user_subset.is_initiator):\n",
    "    assert is_multisite_author == 0 or is_multisite_author == 1\n",
    "    assert is_initiator == 0 or is_initiator == 1\n",
    "    cont_table[is_multisite_author,is_initiator] += 1            \n",
    "cont_table"
   ]
  },
  {
   "cell_type": "code",
   "execution_count": 44,
   "metadata": {},
   "outputs": [
    {
     "data": {
      "text/html": [
       "<div>\n",
       "<style scoped>\n",
       "    .dataframe tbody tr th:only-of-type {\n",
       "        vertical-align: middle;\n",
       "    }\n",
       "\n",
       "    .dataframe tbody tr th {\n",
       "        vertical-align: top;\n",
       "    }\n",
       "\n",
       "    .dataframe thead th {\n",
       "        text-align: right;\n",
       "    }\n",
       "</style>\n",
       "<table border=\"1\" class=\"dataframe\">\n",
       "  <thead>\n",
       "    <tr style=\"text-align: right;\">\n",
       "      <th></th>\n",
       "      <th>is_initiator</th>\n",
       "      <th>is_initiator_1yr</th>\n",
       "      <th>is_interacted_with</th>\n",
       "      <th>is_interacted_with_1yr</th>\n",
       "      <th>update_count</th>\n",
       "      <th>update_frequency</th>\n",
       "      <th>is_mixedsite_author</th>\n",
       "      <th>num_sites</th>\n",
       "      <th>is_multisite_author</th>\n",
       "    </tr>\n",
       "  </thead>\n",
       "  <tbody>\n",
       "    <tr>\n",
       "      <td>is_initiator</td>\n",
       "      <td>1.000000</td>\n",
       "      <td>0.849891</td>\n",
       "      <td>0.298587</td>\n",
       "      <td>0.292615</td>\n",
       "      <td>0.105193</td>\n",
       "      <td>-0.104995</td>\n",
       "      <td>0.028630</td>\n",
       "      <td>0.004147</td>\n",
       "      <td>0.016671</td>\n",
       "    </tr>\n",
       "    <tr>\n",
       "      <td>is_initiator_1yr</td>\n",
       "      <td>0.849891</td>\n",
       "      <td>1.000000</td>\n",
       "      <td>0.287198</td>\n",
       "      <td>0.284565</td>\n",
       "      <td>0.091816</td>\n",
       "      <td>-0.091186</td>\n",
       "      <td>0.018832</td>\n",
       "      <td>0.002579</td>\n",
       "      <td>0.012251</td>\n",
       "    </tr>\n",
       "    <tr>\n",
       "      <td>is_interacted_with</td>\n",
       "      <td>0.298587</td>\n",
       "      <td>0.287198</td>\n",
       "      <td>1.000000</td>\n",
       "      <td>0.979782</td>\n",
       "      <td>0.129917</td>\n",
       "      <td>-0.107929</td>\n",
       "      <td>0.170247</td>\n",
       "      <td>-0.011793</td>\n",
       "      <td>-0.000158</td>\n",
       "    </tr>\n",
       "    <tr>\n",
       "      <td>is_interacted_with_1yr</td>\n",
       "      <td>0.292615</td>\n",
       "      <td>0.284565</td>\n",
       "      <td>0.979782</td>\n",
       "      <td>1.000000</td>\n",
       "      <td>0.119569</td>\n",
       "      <td>-0.097753</td>\n",
       "      <td>0.165892</td>\n",
       "      <td>-0.035773</td>\n",
       "      <td>-0.027513</td>\n",
       "    </tr>\n",
       "    <tr>\n",
       "      <td>update_count</td>\n",
       "      <td>0.105193</td>\n",
       "      <td>0.091816</td>\n",
       "      <td>0.129917</td>\n",
       "      <td>0.119569</td>\n",
       "      <td>1.000000</td>\n",
       "      <td>-0.022960</td>\n",
       "      <td>-0.056948</td>\n",
       "      <td>0.044440</td>\n",
       "      <td>0.035505</td>\n",
       "    </tr>\n",
       "    <tr>\n",
       "      <td>update_frequency</td>\n",
       "      <td>-0.104995</td>\n",
       "      <td>-0.091186</td>\n",
       "      <td>-0.107929</td>\n",
       "      <td>-0.097753</td>\n",
       "      <td>-0.022960</td>\n",
       "      <td>1.000000</td>\n",
       "      <td>-0.045376</td>\n",
       "      <td>-0.057254</td>\n",
       "      <td>-0.064307</td>\n",
       "    </tr>\n",
       "    <tr>\n",
       "      <td>is_mixedsite_author</td>\n",
       "      <td>0.028630</td>\n",
       "      <td>0.018832</td>\n",
       "      <td>0.170247</td>\n",
       "      <td>0.165892</td>\n",
       "      <td>-0.056948</td>\n",
       "      <td>-0.045376</td>\n",
       "      <td>1.000000</td>\n",
       "      <td>0.002930</td>\n",
       "      <td>0.012872</td>\n",
       "    </tr>\n",
       "    <tr>\n",
       "      <td>num_sites</td>\n",
       "      <td>0.004147</td>\n",
       "      <td>0.002579</td>\n",
       "      <td>-0.011793</td>\n",
       "      <td>-0.035773</td>\n",
       "      <td>0.044440</td>\n",
       "      <td>-0.057254</td>\n",
       "      <td>0.002930</td>\n",
       "      <td>1.000000</td>\n",
       "      <td>0.864776</td>\n",
       "    </tr>\n",
       "    <tr>\n",
       "      <td>is_multisite_author</td>\n",
       "      <td>0.016671</td>\n",
       "      <td>0.012251</td>\n",
       "      <td>-0.000158</td>\n",
       "      <td>-0.027513</td>\n",
       "      <td>0.035505</td>\n",
       "      <td>-0.064307</td>\n",
       "      <td>0.012872</td>\n",
       "      <td>0.864776</td>\n",
       "      <td>1.000000</td>\n",
       "    </tr>\n",
       "  </tbody>\n",
       "</table>\n",
       "</div>"
      ],
      "text/plain": [
       "                        is_initiator  is_initiator_1yr  is_interacted_with  \\\n",
       "is_initiator                1.000000          0.849891            0.298587   \n",
       "is_initiator_1yr            0.849891          1.000000            0.287198   \n",
       "is_interacted_with          0.298587          0.287198            1.000000   \n",
       "is_interacted_with_1yr      0.292615          0.284565            0.979782   \n",
       "update_count                0.105193          0.091816            0.129917   \n",
       "update_frequency           -0.104995         -0.091186           -0.107929   \n",
       "is_mixedsite_author         0.028630          0.018832            0.170247   \n",
       "num_sites                   0.004147          0.002579           -0.011793   \n",
       "is_multisite_author         0.016671          0.012251           -0.000158   \n",
       "\n",
       "                        is_interacted_with_1yr  update_count  \\\n",
       "is_initiator                          0.292615      0.105193   \n",
       "is_initiator_1yr                      0.284565      0.091816   \n",
       "is_interacted_with                    0.979782      0.129917   \n",
       "is_interacted_with_1yr                1.000000      0.119569   \n",
       "update_count                          0.119569      1.000000   \n",
       "update_frequency                     -0.097753     -0.022960   \n",
       "is_mixedsite_author                   0.165892     -0.056948   \n",
       "num_sites                            -0.035773      0.044440   \n",
       "is_multisite_author                  -0.027513      0.035505   \n",
       "\n",
       "                        update_frequency  is_mixedsite_author  num_sites  \\\n",
       "is_initiator                   -0.104995             0.028630   0.004147   \n",
       "is_initiator_1yr               -0.091186             0.018832   0.002579   \n",
       "is_interacted_with             -0.107929             0.170247  -0.011793   \n",
       "is_interacted_with_1yr         -0.097753             0.165892  -0.035773   \n",
       "update_count                   -0.022960            -0.056948   0.044440   \n",
       "update_frequency                1.000000            -0.045376  -0.057254   \n",
       "is_mixedsite_author            -0.045376             1.000000   0.002930   \n",
       "num_sites                      -0.057254             0.002930   1.000000   \n",
       "is_multisite_author            -0.064307             0.012872   0.864776   \n",
       "\n",
       "                        is_multisite_author  \n",
       "is_initiator                       0.016671  \n",
       "is_initiator_1yr                   0.012251  \n",
       "is_interacted_with                -0.000158  \n",
       "is_interacted_with_1yr            -0.027513  \n",
       "update_count                       0.035505  \n",
       "update_frequency                  -0.064307  \n",
       "is_mixedsite_author                0.012872  \n",
       "num_sites                          0.864776  \n",
       "is_multisite_author                1.000000  "
      ]
     },
     "execution_count": 44,
     "metadata": {},
     "output_type": "execute_result"
    }
   ],
   "source": [
    "user_subset[[\"is_initiator\", \"is_initiator_1yr\", \"is_interacted_with\", \"is_interacted_with_1yr\", \"update_count\", \"update_frequency\", \"is_mixedsite_author\", \"num_sites\", \"is_multisite_author\"]].corr()"
   ]
  },
  {
   "cell_type": "code",
   "execution_count": 45,
   "metadata": {},
   "outputs": [],
   "source": [
    "def print_feature_summary(res):\n",
    "    for feature, coef in zip(res.params.index, res.params):\n",
    "        prob = np.exp(coef)/(1+np.exp(coef))\n",
    "        feature_name = feature\n",
    "        if \"health_condition\" in feature_name:\n",
    "            feature_name = \"health_condition \" + feature_name.split(\"[\")[1][2:-1]\n",
    "        print(f\"{feature_name:<50} {min((np.exp(coef)-1)*100, 999):>8.3f}% increase   {prob*100:>8.2f}%   ({np.exp(coef):.3f})\")"
   ]
  },
  {
   "cell_type": "code",
   "execution_count": null,
   "metadata": {},
   "outputs": [],
   "source": []
  },
  {
   "cell_type": "markdown",
   "metadata": {},
   "source": [
    "#### Omnibus model, no removals"
   ]
  },
  {
   "cell_type": "code",
   "execution_count": 46,
   "metadata": {},
   "outputs": [
    {
     "name": "stdout",
     "output_type": "stream",
     "text": [
      "Optimization terminated successfully.\n",
      "         Current function value: 0.635522\n",
      "         Iterations 5\n"
     ]
    },
    {
     "data": {
      "text/html": [
       "<table class=\"simpletable\">\n",
       "<caption>Logit Regression Results</caption>\n",
       "<tr>\n",
       "  <th>Dep. Variable:</th> <td>is_initiator_1yr</td> <th>  No. Observations:  </th>  <td> 53335</td> \n",
       "</tr>\n",
       "<tr>\n",
       "  <th>Model:</th>               <td>Logit</td>      <th>  Df Residuals:      </th>  <td> 53317</td> \n",
       "</tr>\n",
       "<tr>\n",
       "  <th>Method:</th>               <td>MLE</td>       <th>  Df Model:          </th>  <td>    17</td> \n",
       "</tr>\n",
       "<tr>\n",
       "  <th>Date:</th>          <td>Sun, 05 Jan 2020</td> <th>  Pseudo R-squ.:     </th>  <td>0.07085</td>\n",
       "</tr>\n",
       "<tr>\n",
       "  <th>Time:</th>              <td>13:42:54</td>     <th>  Log-Likelihood:    </th> <td> -33896.</td>\n",
       "</tr>\n",
       "<tr>\n",
       "  <th>converged:</th>           <td>True</td>       <th>  LL-Null:           </th> <td> -36480.</td>\n",
       "</tr>\n",
       "<tr>\n",
       "  <th> </th>                      <td> </td>        <th>  LLR p-value:       </th>  <td> 0.000</td> \n",
       "</tr>\n",
       "</table>\n",
       "<table class=\"simpletable\">\n",
       "<tr>\n",
       "                                         <td></td>                                           <th>coef</th>     <th>std err</th>      <th>z</th>      <th>P>|z|</th>  <th>[0.025</th>    <th>0.975]</th>  \n",
       "</tr>\n",
       "<tr>\n",
       "  <th>Intercept</th>                                                                      <td>   -0.8080</td> <td>    0.021</td> <td>  -38.848</td> <td> 0.000</td> <td>   -0.849</td> <td>   -0.767</td>\n",
       "</tr>\n",
       "<tr>\n",
       "  <th>user_author_type[T.mixed]</th>                                                      <td>   -0.3447</td> <td>    0.064</td> <td>   -5.391</td> <td> 0.000</td> <td>   -0.470</td> <td>   -0.219</td>\n",
       "</tr>\n",
       "<tr>\n",
       "  <th>user_author_type[T.p]</th>                                                          <td>   -0.3939</td> <td>    0.040</td> <td>   -9.876</td> <td> 0.000</td> <td>   -0.472</td> <td>   -0.316</td>\n",
       "</tr>\n",
       "<tr>\n",
       "  <th>C(health_condition, Treatment(reference='None'))[T.Cancer]</th>                     <td>    0.1065</td> <td>    0.022</td> <td>    4.777</td> <td> 0.000</td> <td>    0.063</td> <td>    0.150</td>\n",
       "</tr>\n",
       "<tr>\n",
       "  <th>C(health_condition, Treatment(reference='None'))[T.Cardiovascular/Stroke]</th>      <td>    0.0594</td> <td>    0.049</td> <td>    1.205</td> <td> 0.228</td> <td>   -0.037</td> <td>    0.156</td>\n",
       "</tr>\n",
       "<tr>\n",
       "  <th>C(health_condition, Treatment(reference='None'))[T.Congenital/Immune Disorder]</th> <td>    0.0630</td> <td>    0.116</td> <td>    0.544</td> <td> 0.587</td> <td>   -0.164</td> <td>    0.290</td>\n",
       "</tr>\n",
       "<tr>\n",
       "  <th>C(health_condition, Treatment(reference='None'))[T.Infant/Childbirth]</th>          <td>   -0.1540</td> <td>    0.076</td> <td>   -2.024</td> <td> 0.043</td> <td>   -0.303</td> <td>   -0.005</td>\n",
       "</tr>\n",
       "<tr>\n",
       "  <th>C(health_condition, Treatment(reference='None'))[T.Injury]</th>                     <td>   -0.1569</td> <td>    0.058</td> <td>   -2.709</td> <td> 0.007</td> <td>   -0.270</td> <td>   -0.043</td>\n",
       "</tr>\n",
       "<tr>\n",
       "  <th>C(health_condition, Treatment(reference='None'))[T.Neurological Condition]</th>     <td>    0.3008</td> <td>    0.064</td> <td>    4.688</td> <td> 0.000</td> <td>    0.175</td> <td>    0.427</td>\n",
       "</tr>\n",
       "<tr>\n",
       "  <th>C(health_condition, Treatment(reference='None'))[T.Other]</th>                      <td>    0.1109</td> <td>    0.080</td> <td>    1.380</td> <td> 0.168</td> <td>   -0.047</td> <td>    0.269</td>\n",
       "</tr>\n",
       "<tr>\n",
       "  <th>C(health_condition, Treatment(reference='None'))[T.Surgery/Transplantation]</th>    <td>    0.0629</td> <td>    0.057</td> <td>    1.104</td> <td> 0.269</td> <td>   -0.049</td> <td>    0.174</td>\n",
       "</tr>\n",
       "<tr>\n",
       "  <th>is_interacted_with_1yr</th>                                                         <td>    1.0372</td> <td>    0.022</td> <td>   47.873</td> <td> 0.000</td> <td>    0.995</td> <td>    1.080</td>\n",
       "</tr>\n",
       "<tr>\n",
       "  <th>user_author_type[T.mixed]:is_interacted_with_1yr</th>                               <td>    0.4136</td> <td>    0.082</td> <td>    5.029</td> <td> 0.000</td> <td>    0.252</td> <td>    0.575</td>\n",
       "</tr>\n",
       "<tr>\n",
       "  <th>user_author_type[T.p]:is_interacted_with_1yr</th>                                   <td>    0.6051</td> <td>    0.050</td> <td>   12.035</td> <td> 0.000</td> <td>    0.507</td> <td>    0.704</td>\n",
       "</tr>\n",
       "<tr>\n",
       "  <th>update_count</th>                                                                   <td>    0.0029</td> <td>    0.000</td> <td>   12.014</td> <td> 0.000</td> <td>    0.002</td> <td>    0.003</td>\n",
       "</tr>\n",
       "<tr>\n",
       "  <th>update_frequency</th>                                                               <td>   -0.0084</td> <td>    0.001</td> <td>  -14.671</td> <td> 0.000</td> <td>   -0.010</td> <td>   -0.007</td>\n",
       "</tr>\n",
       "<tr>\n",
       "  <th>is_mixedsite_author</th>                                                            <td>   -0.1368</td> <td>    0.020</td> <td>   -6.899</td> <td> 0.000</td> <td>   -0.176</td> <td>   -0.098</td>\n",
       "</tr>\n",
       "<tr>\n",
       "  <th>is_multisite_author</th>                                                            <td>    0.1338</td> <td>    0.043</td> <td>    3.094</td> <td> 0.002</td> <td>    0.049</td> <td>    0.219</td>\n",
       "</tr>\n",
       "</table>"
      ],
      "text/plain": [
       "<class 'statsmodels.iolib.summary.Summary'>\n",
       "\"\"\"\n",
       "                           Logit Regression Results                           \n",
       "==============================================================================\n",
       "Dep. Variable:       is_initiator_1yr   No. Observations:                53335\n",
       "Model:                          Logit   Df Residuals:                    53317\n",
       "Method:                           MLE   Df Model:                           17\n",
       "Date:                Sun, 05 Jan 2020   Pseudo R-squ.:                 0.07085\n",
       "Time:                        13:42:54   Log-Likelihood:                -33896.\n",
       "converged:                       True   LL-Null:                       -36480.\n",
       "                                        LLR p-value:                     0.000\n",
       "==================================================================================================================================================\n",
       "                                                                                     coef    std err          z      P>|z|      [0.025      0.975]\n",
       "--------------------------------------------------------------------------------------------------------------------------------------------------\n",
       "Intercept                                                                         -0.8080      0.021    -38.848      0.000      -0.849      -0.767\n",
       "user_author_type[T.mixed]                                                         -0.3447      0.064     -5.391      0.000      -0.470      -0.219\n",
       "user_author_type[T.p]                                                             -0.3939      0.040     -9.876      0.000      -0.472      -0.316\n",
       "C(health_condition, Treatment(reference='None'))[T.Cancer]                         0.1065      0.022      4.777      0.000       0.063       0.150\n",
       "C(health_condition, Treatment(reference='None'))[T.Cardiovascular/Stroke]          0.0594      0.049      1.205      0.228      -0.037       0.156\n",
       "C(health_condition, Treatment(reference='None'))[T.Congenital/Immune Disorder]     0.0630      0.116      0.544      0.587      -0.164       0.290\n",
       "C(health_condition, Treatment(reference='None'))[T.Infant/Childbirth]             -0.1540      0.076     -2.024      0.043      -0.303      -0.005\n",
       "C(health_condition, Treatment(reference='None'))[T.Injury]                        -0.1569      0.058     -2.709      0.007      -0.270      -0.043\n",
       "C(health_condition, Treatment(reference='None'))[T.Neurological Condition]         0.3008      0.064      4.688      0.000       0.175       0.427\n",
       "C(health_condition, Treatment(reference='None'))[T.Other]                          0.1109      0.080      1.380      0.168      -0.047       0.269\n",
       "C(health_condition, Treatment(reference='None'))[T.Surgery/Transplantation]        0.0629      0.057      1.104      0.269      -0.049       0.174\n",
       "is_interacted_with_1yr                                                             1.0372      0.022     47.873      0.000       0.995       1.080\n",
       "user_author_type[T.mixed]:is_interacted_with_1yr                                   0.4136      0.082      5.029      0.000       0.252       0.575\n",
       "user_author_type[T.p]:is_interacted_with_1yr                                       0.6051      0.050     12.035      0.000       0.507       0.704\n",
       "update_count                                                                       0.0029      0.000     12.014      0.000       0.002       0.003\n",
       "update_frequency                                                                  -0.0084      0.001    -14.671      0.000      -0.010      -0.007\n",
       "is_mixedsite_author                                                               -0.1368      0.020     -6.899      0.000      -0.176      -0.098\n",
       "is_multisite_author                                                                0.1338      0.043      3.094      0.002       0.049       0.219\n",
       "==================================================================================================================================================\n",
       "\"\"\""
      ]
     },
     "execution_count": 46,
     "metadata": {},
     "output_type": "execute_result"
    }
   ],
   "source": [
    "formula = \"\"\"\n",
    "is_initiator_1yr ~ \n",
    "    is_interacted_with_1yr \n",
    "    + user_author_type\n",
    "    + user_author_type * is_interacted_with_1yr\n",
    "    + update_count \n",
    "    + update_frequency \n",
    "    + is_mixedsite_author\n",
    "    + C(health_condition, Treatment(reference='None'))\n",
    "    + is_multisite_author\n",
    "    + 1\n",
    "\"\"\"\n",
    "# + num_sites OR is_multisite_author\n",
    "# + health_condition\n",
    "model = smf.logit(formula=formula, \n",
    "                  data=user_subset)\n",
    "res = model.fit(maxiter=100)\n",
    "res.summary()"
   ]
  },
  {
   "cell_type": "code",
   "execution_count": 47,
   "metadata": {},
   "outputs": [
    {
     "name": "stdout",
     "output_type": "stream",
     "text": [
      "Intercept                                           -55.426% increase      30.83%   (-0.808)\n",
      "user_author_type[T.mixed]                           -29.157% increase      41.47%   (-0.345)\n",
      "user_author_type[T.p]                               -32.555% increase      40.28%   (-0.394)\n",
      "health_condition Cancer                              11.232% increase      52.66%   (0.106)\n",
      "health_condition Cardiovascular/Stroke                6.116% increase      51.48%   (0.059)\n",
      "health_condition Congenital/Immune Disorder           6.502% increase      51.57%   (0.063)\n",
      "health_condition Infant/Childbirth                  -14.275% increase      46.16%   (-0.154)\n",
      "health_condition Injury                             -14.520% increase      46.09%   (-0.157)\n",
      "health_condition Neurological Condition              35.094% increase      57.46%   (0.301)\n",
      "health_condition Other                               11.731% increase      52.77%   (0.111)\n",
      "health_condition Surgery/Transplantation              6.489% increase      51.57%   (0.063)\n",
      "is_interacted_with_1yr                              182.122% increase      73.83%   (1.037)\n",
      "user_author_type[T.mixed]:is_interacted_with_1yr     51.229% increase      60.20%   (0.414)\n",
      "user_author_type[T.p]:is_interacted_with_1yr         83.135% increase      64.68%   (0.605)\n",
      "update_count                                          0.286% increase      50.07%   (0.003)\n",
      "update_frequency                                     -0.835% increase      49.79%   (-0.008)\n",
      "is_mixedsite_author                                 -12.785% increase      46.59%   (-0.137)\n",
      "is_multisite_author                                  14.320% increase      53.34%   (0.134)\n"
     ]
    }
   ],
   "source": [
    "print_feature_summary(res)"
   ]
  },
  {
   "cell_type": "code",
   "execution_count": 48,
   "metadata": {},
   "outputs": [
    {
     "data": {
      "text/plain": [
       "(0.67704022512829, [(False, 10621), (True, 7502)])"
      ]
     },
     "execution_count": 48,
     "metadata": {},
     "output_type": "execute_result"
    }
   ],
   "source": [
    "# Testing on the last 6 months of users, we predict initiators with 67% accuracy\n",
    "raw_preds = res.predict(test_user_subset)\n",
    "preds = raw_preds >= 0.5\n",
    "acc = np.sum(preds == test_user_subset.is_initiator) / len(test_user_subset)\n",
    "acc, Counter(preds).most_common()"
   ]
  },
  {
   "cell_type": "code",
   "execution_count": 48,
   "metadata": {},
   "outputs": [
    {
     "data": {
      "text/plain": [
       "0.6455610762163683"
      ]
     },
     "execution_count": 48,
     "metadata": {},
     "output_type": "execute_result"
    }
   ],
   "source": [
    "# Training set accuracy, for curiosity\n",
    "raw_preds = res.predict(user_subset)\n",
    "preds = raw_preds >= 0.5\n",
    "acc = np.sum(preds == user_subset.is_initiator) / len(user_subset)\n",
    "acc"
   ]
  },
  {
   "cell_type": "code",
   "execution_count": 49,
   "metadata": {},
   "outputs": [
    {
     "data": {
      "text/plain": [
       "0.43239898753163963"
      ]
     },
     "execution_count": 49,
     "metadata": {},
     "output_type": "execute_result"
    }
   ],
   "source": [
    "np.sum(user_subset.is_initiator_1yr == 1) / len(user_subset)"
   ]
  },
  {
   "cell_type": "code",
   "execution_count": 50,
   "metadata": {},
   "outputs": [
    {
     "data": {
      "text/plain": [
       "0.541295584512984"
      ]
     },
     "execution_count": 50,
     "metadata": {},
     "output_type": "execute_result"
    }
   ],
   "source": [
    "np.sum(user_subset.is_interacted_with_1yr == 1) / len(user_subset)"
   ]
  },
  {
   "cell_type": "code",
   "execution_count": 51,
   "metadata": {},
   "outputs": [
    {
     "data": {
      "text/plain": [
       "0.3306084184869223"
      ]
     },
     "execution_count": 51,
     "metadata": {},
     "output_type": "execute_result"
    }
   ],
   "source": [
    "# 33% of authors neither interact nor are interacted with (within 1 year)\n",
    "np.sum((user_subset.is_interacted_with_1yr == 0)&(user_subset.is_initiator_1yr == 0)) / len(user_subset)"
   ]
  },
  {
   "cell_type": "markdown",
   "metadata": {},
   "source": [
    "#### Broken down by `is_interacted_with`\n",
    "\n",
    "Including fitting a model with an author_type X is_interacted_with interaction term."
   ]
  },
  {
   "cell_type": "code",
   "execution_count": 133,
   "metadata": {},
   "outputs": [
    {
     "name": "stdout",
     "output_type": "stream",
     "text": [
      "Optimization terminated successfully.\n",
      "         Current function value: 0.637049\n",
      "         Iterations 5\n",
      "Optimization terminated successfully.\n",
      "         Current function value: 0.673166\n",
      "         Iterations 5\n",
      "Optimization terminated successfully.\n",
      "         Current function value: 0.588231\n",
      "         Iterations 5\n"
     ]
    }
   ],
   "source": [
    "formula = \"\"\"\n",
    "is_initiator_1yr ~ \n",
    "    user_author_type\n",
    "    + update_count \n",
    "    + update_frequency \n",
    "    + is_mixedsite_author\n",
    "    + C(health_condition, Treatment(reference='None'))\n",
    "    + is_multisite_author\n",
    "    + 1\n",
    "\"\"\"\n",
    "full = user_subset\n",
    "is_interacted_with_subset = user_subset[user_subset.is_interacted_with_1yr == 1]\n",
    "not_interacted_with_subset = user_subset[user_subset.is_interacted_with_1yr == 0]\n",
    "full_model = smf.logit(formula=formula, #+ \" + is_interacted_with_1yr\", \n",
    "                  data=full)\n",
    "is_model = smf.logit(formula=formula, \n",
    "                  data=is_interacted_with_subset)\n",
    "not_model = smf.logit(formula=formula, \n",
    "                  data=not_interacted_with_subset)\n",
    "full_res = full_model.fit()\n",
    "is_res = is_model.fit()\n",
    "not_res = not_model.fit()"
   ]
  },
  {
   "cell_type": "code",
   "execution_count": 135,
   "metadata": {},
   "outputs": [
    {
     "name": "stdout",
     "output_type": "stream",
     "text": [
      "Intercept & -0.882$^{*}$ &  0.242$^{*}$ & -0.845$^{*}$ \\\\\n",
      " & (0.020) & (0.025) & (0.026) \\\\\n",
      "user-author-type[T.mixed] & -0.100$^{*}$ &  0.048$^{***}$ & -0.311$^{*}$ \\\\\n",
      " & (0.040) & (0.052) & (0.064) \\\\\n",
      "user-author-type[T.p] & -0.028$^{***}$ &  0.189$^{*}$ & -0.357$^{*}$ \\\\\n",
      " & (0.024) & (0.032) & (0.040) \\\\\n",
      "Cancer] &  0.105$^{*}$ &  0.098$^{*}$ &  0.108$^{*}$ \\\\\n",
      " & (0.022) & (0.029) & (0.036) \\\\\n",
      "Cardiovascular/Stroke] &  0.059$^{***}$ &  0.071$^{***}$ &  0.040$^{***}$ \\\\\n",
      " & (0.050) & (0.065) & (0.077) \\\\\n",
      "Congenital/Immune Disorder] &  0.035$^{***}$ &  0.135$^{***}$ & -0.067$^{***}$ \\\\\n",
      " & (0.116) & (0.146) & (0.200) \\\\\n",
      "Infant/Childbirth] & -0.162$^{*}$ & -0.026$^{***}$ & -0.455$^{*}$ \\\\\n",
      " & (0.076) & (0.095) & (0.141) \\\\\n",
      "Injury] & -0.166$^{*}$ & -0.221$^{*}$ & -0.056$^{***}$ \\\\\n",
      " & (0.058) & (0.071) & (0.097) \\\\\n",
      "Neurological Condition] &  0.298$^{*}$ &  0.174$^{*}$ &  0.466$^{*}$ \\\\\n",
      " & (0.064) & (0.086) & (0.093) \\\\\n",
      "Other] &  0.114$^{***}$ &  0.042$^{***}$ &  0.190$^{***}$ \\\\\n",
      " & (0.081) & (0.108) & (0.118) \\\\\n",
      "Surgery/Transplantation] &  0.059$^{***}$ &  0.110$^{***}$ & -0.012$^{***}$ \\\\\n",
      " & (0.057) & (0.076) & (0.088) \\\\\n",
      "update-count &  0.003$^{*}$ &  0.004$^{*}$ &  0.001$^{*}$ \\\\\n",
      " & (0.000) & (0.000) & (0.000) \\\\\n",
      "update-frequency & -0.008$^{*}$ & -0.010$^{*}$ & -0.006$^{*}$ \\\\\n",
      " & (0.001) & (0.001) & (0.001) \\\\\n",
      "is-mixedsite-author & -0.137$^{*}$ & -0.210$^{*}$ &  0.014$^{***}$ \\\\\n",
      " & (0.020) & (0.025) & (0.033) \\\\\n",
      "is-multisite-author &  0.139$^{*}$ &  0.275$^{*}$ &  0.012$^{***}$ \\\\\n",
      " & (0.043) & (0.062) & (0.063) \\\\\n"
     ]
    }
   ],
   "source": [
    "mds = [full_res, is_res, not_res]\n",
    "for i, param in enumerate(mds[1].params.index):\n",
    "    if \"health_condition\" in param:\n",
    "        param = param.split(\"T.\")[1]\n",
    "    param = param.replace(\"_\", \"-\")\n",
    "    coefs_strs = []\n",
    "    se_strs = []\n",
    "    for md in mds:\n",
    "        c = md.params.iloc[i]\n",
    "        coef_str = f\"{c:>6.3f}\"\n",
    "        se = md.bse.iloc[i]\n",
    "        se_strs.append(f\"({se:.3f})\")\n",
    "        p_val = md.pvalues.iloc[i]\n",
    "        pval_str = \"\"\n",
    "        if p_val <= 0.05:\n",
    "            pval_str = \"*\"\n",
    "        elif p_val <= 0.01:\n",
    "            pval_str = \"**\"\n",
    "        else:\n",
    "            pval_str = \"***\"\n",
    "        coef_str += \"$^{\" + pval_str + \"}$\"\n",
    "        coefs_strs.append(coef_str)\n",
    "    print(f\"{param} & \" + \" & \".join(coefs_strs) + \" \\\\\\\\\")\n",
    "    print(f\" & \" + \" & \".join(se_strs) + \" \\\\\\\\\")"
   ]
  },
  {
   "cell_type": "code",
   "execution_count": 51,
   "metadata": {},
   "outputs": [
    {
     "data": {
      "text/plain": [
       "14.682814852039815"
      ]
     },
     "execution_count": 51,
     "metadata": {},
     "output_type": "execute_result"
    }
   ],
   "source": [
    "(np.exp(0.137) - 1) * 100"
   ]
  },
  {
   "cell_type": "code",
   "execution_count": 130,
   "metadata": {},
   "outputs": [
    {
     "name": "stdout",
     "output_type": "stream",
     "text": [
      "58.99\\% & 60.95\\% & 73.23\\%\n"
     ]
    }
   ],
   "source": [
    "# Test set accuracies\n",
    "test_subsets =[\n",
    "    test_user_subset,\n",
    "    test_user_subset[test_user_subset.is_interacted_with_1yr == 1],\n",
    "    test_user_subset[test_user_subset.is_interacted_with_1yr == 0],\n",
    "]\n",
    "accs = []\n",
    "for md, test_ss in zip(mds,  test_subsets):\n",
    "    raw_preds = md.predict(test_ss)\n",
    "    preds = raw_preds >= 0.5\n",
    "    acc = np.sum(preds == test_ss.is_initiator) / len(test_ss)\n",
    "    accs.append(f\"{acc*100:.2f}\\\\%\")\n",
    "print(\" & \".join(accs))"
   ]
  },
  {
   "cell_type": "code",
   "execution_count": 128,
   "metadata": {},
   "outputs": [
    {
     "name": "stdout",
     "output_type": "stream",
     "text": [
      "-35923.278 & -19434.315 & -14391.070\n",
      "53335 & 28870 & 24465\n"
     ]
    }
   ],
   "source": [
    "# log likelihood and num of observations\n",
    "print(\" & \".join([f\"{md.llf:.3f}\" for md in mds])) \n",
    "print(\" & \".join([f\"{md.nobs}\" for md in mds]))"
   ]
  },
  {
   "cell_type": "code",
   "execution_count": 80,
   "metadata": {},
   "outputs": [],
   "source": [
    "is_res.rsquared = 0.5\n",
    "not_res.rsquared = 0.5\n",
    "is_res.rsquared_adj = 0.5\n",
    "not_res.rsquared_adj = 0.5\n",
    "is_res.fvalue = 0.5\n",
    "not_res.fvalue = 0.5\n",
    "is_res.f_pvalue = 0.5\n",
    "not_res.f_pvalue = 0.5\n",
    "\n",
    "full_res.rsquared = 0.5\n",
    "full_res.rsquared_adj = 0.5\n",
    "full_res.fvalue = 0.5\n",
    "full_res.f_pvalue = 0.5\n",
    "#print(Stargazer([full_res, is_res, not_res]).render_latex())"
   ]
  },
  {
   "cell_type": "code",
   "execution_count": 53,
   "metadata": {},
   "outputs": [
    {
     "name": "stdout",
     "output_type": "stream",
     "text": [
      "Intercept                                            27.380% increase      56.02%   (0.242)\n",
      "user_author_type[T.mixed]                             4.933% increase      51.20%   (0.048)\n",
      "user_author_type[T.p]                                20.857% increase      54.72%   (0.189)\n",
      "health_condition Cancer                              10.250% increase      52.44%   (0.098)\n",
      "health_condition Cardiovascular/Stroke                7.364% increase      51.78%   (0.071)\n",
      "health_condition Congenital/Immune Disorder          14.412% increase      53.36%   (0.135)\n",
      "health_condition Infant/Childbirth                   -2.585% increase      49.35%   (-0.026)\n",
      "health_condition Injury                             -19.858% increase      44.49%   (-0.221)\n",
      "health_condition Neurological Condition              18.999% increase      54.34%   (0.174)\n",
      "health_condition Other                                4.279% increase      51.05%   (0.042)\n",
      "health_condition Surgery/Transplantation             11.594% increase      52.74%   (0.110)\n",
      "update_count                                          0.437% increase      50.11%   (0.004)\n",
      "update_frequency                                     -1.026% increase      49.74%   (-0.010)\n",
      "is_mixedsite_author                                 -18.981% increase      44.76%   (-0.210)\n",
      "is_multisite_author                                  31.617% increase      56.83%   (0.275)\n"
     ]
    },
    {
     "data": {
      "text/html": [
       "<table class=\"simpletable\">\n",
       "<caption>Logit Regression Results</caption>\n",
       "<tr>\n",
       "  <th>Dep. Variable:</th> <td>is_initiator_1yr</td> <th>  No. Observations:  </th>   <td> 28870</td>  \n",
       "</tr>\n",
       "<tr>\n",
       "  <th>Model:</th>               <td>Logit</td>      <th>  Df Residuals:      </th>   <td> 28855</td>  \n",
       "</tr>\n",
       "<tr>\n",
       "  <th>Method:</th>               <td>MLE</td>       <th>  Df Model:          </th>   <td>    14</td>  \n",
       "</tr>\n",
       "<tr>\n",
       "  <th>Date:</th>          <td>Sat, 28 Dec 2019</td> <th>  Pseudo R-squ.:     </th>   <td>0.01784</td> \n",
       "</tr>\n",
       "<tr>\n",
       "  <th>Time:</th>              <td>15:26:08</td>     <th>  Log-Likelihood:    </th>  <td> -19434.</td> \n",
       "</tr>\n",
       "<tr>\n",
       "  <th>converged:</th>           <td>True</td>       <th>  LL-Null:           </th>  <td> -19787.</td> \n",
       "</tr>\n",
       "<tr>\n",
       "  <th> </th>                      <td> </td>        <th>  LLR p-value:       </th> <td>1.279e-141</td>\n",
       "</tr>\n",
       "</table>\n",
       "<table class=\"simpletable\">\n",
       "<tr>\n",
       "                                         <td></td>                                           <th>coef</th>     <th>std err</th>      <th>z</th>      <th>P>|z|</th>  <th>[0.025</th>    <th>0.975]</th>  \n",
       "</tr>\n",
       "<tr>\n",
       "  <th>Intercept</th>                                                                      <td>    0.2420</td> <td>    0.025</td> <td>    9.856</td> <td> 0.000</td> <td>    0.194</td> <td>    0.290</td>\n",
       "</tr>\n",
       "<tr>\n",
       "  <th>user_author_type[T.mixed]</th>                                                      <td>    0.0481</td> <td>    0.052</td> <td>    0.921</td> <td> 0.357</td> <td>   -0.054</td> <td>    0.151</td>\n",
       "</tr>\n",
       "<tr>\n",
       "  <th>user_author_type[T.p]</th>                                                          <td>    0.1894</td> <td>    0.032</td> <td>    5.887</td> <td> 0.000</td> <td>    0.126</td> <td>    0.253</td>\n",
       "</tr>\n",
       "<tr>\n",
       "  <th>C(health_condition, Treatment(reference='None'))[T.Cancer]</th>                     <td>    0.0976</td> <td>    0.029</td> <td>    3.400</td> <td> 0.001</td> <td>    0.041</td> <td>    0.154</td>\n",
       "</tr>\n",
       "<tr>\n",
       "  <th>C(health_condition, Treatment(reference='None'))[T.Cardiovascular/Stroke]</th>      <td>    0.0711</td> <td>    0.065</td> <td>    1.100</td> <td> 0.271</td> <td>   -0.056</td> <td>    0.198</td>\n",
       "</tr>\n",
       "<tr>\n",
       "  <th>C(health_condition, Treatment(reference='None'))[T.Congenital/Immune Disorder]</th> <td>    0.1346</td> <td>    0.146</td> <td>    0.924</td> <td> 0.355</td> <td>   -0.151</td> <td>    0.420</td>\n",
       "</tr>\n",
       "<tr>\n",
       "  <th>C(health_condition, Treatment(reference='None'))[T.Infant/Childbirth]</th>          <td>   -0.0262</td> <td>    0.095</td> <td>   -0.277</td> <td> 0.782</td> <td>   -0.212</td> <td>    0.159</td>\n",
       "</tr>\n",
       "<tr>\n",
       "  <th>C(health_condition, Treatment(reference='None'))[T.Injury]</th>                     <td>   -0.2214</td> <td>    0.071</td> <td>   -3.098</td> <td> 0.002</td> <td>   -0.361</td> <td>   -0.081</td>\n",
       "</tr>\n",
       "<tr>\n",
       "  <th>C(health_condition, Treatment(reference='None'))[T.Neurological Condition]</th>     <td>    0.1739</td> <td>    0.086</td> <td>    2.026</td> <td> 0.043</td> <td>    0.006</td> <td>    0.342</td>\n",
       "</tr>\n",
       "<tr>\n",
       "  <th>C(health_condition, Treatment(reference='None'))[T.Other]</th>                      <td>    0.0419</td> <td>    0.108</td> <td>    0.387</td> <td> 0.699</td> <td>   -0.170</td> <td>    0.254</td>\n",
       "</tr>\n",
       "<tr>\n",
       "  <th>C(health_condition, Treatment(reference='None'))[T.Surgery/Transplantation]</th>    <td>    0.1097</td> <td>    0.076</td> <td>    1.449</td> <td> 0.147</td> <td>   -0.039</td> <td>    0.258</td>\n",
       "</tr>\n",
       "<tr>\n",
       "  <th>update_count</th>                                                                   <td>    0.0044</td> <td>    0.000</td> <td>   12.899</td> <td> 0.000</td> <td>    0.004</td> <td>    0.005</td>\n",
       "</tr>\n",
       "<tr>\n",
       "  <th>update_frequency</th>                                                               <td>   -0.0103</td> <td>    0.001</td> <td>  -12.760</td> <td> 0.000</td> <td>   -0.012</td> <td>   -0.009</td>\n",
       "</tr>\n",
       "<tr>\n",
       "  <th>is_mixedsite_author</th>                                                            <td>   -0.2105</td> <td>    0.025</td> <td>   -8.430</td> <td> 0.000</td> <td>   -0.259</td> <td>   -0.162</td>\n",
       "</tr>\n",
       "<tr>\n",
       "  <th>is_multisite_author</th>                                                            <td>    0.2747</td> <td>    0.062</td> <td>    4.423</td> <td> 0.000</td> <td>    0.153</td> <td>    0.396</td>\n",
       "</tr>\n",
       "</table>"
      ],
      "text/plain": [
       "<class 'statsmodels.iolib.summary.Summary'>\n",
       "\"\"\"\n",
       "                           Logit Regression Results                           \n",
       "==============================================================================\n",
       "Dep. Variable:       is_initiator_1yr   No. Observations:                28870\n",
       "Model:                          Logit   Df Residuals:                    28855\n",
       "Method:                           MLE   Df Model:                           14\n",
       "Date:                Sat, 28 Dec 2019   Pseudo R-squ.:                 0.01784\n",
       "Time:                        15:26:08   Log-Likelihood:                -19434.\n",
       "converged:                       True   LL-Null:                       -19787.\n",
       "                                        LLR p-value:                1.279e-141\n",
       "==================================================================================================================================================\n",
       "                                                                                     coef    std err          z      P>|z|      [0.025      0.975]\n",
       "--------------------------------------------------------------------------------------------------------------------------------------------------\n",
       "Intercept                                                                          0.2420      0.025      9.856      0.000       0.194       0.290\n",
       "user_author_type[T.mixed]                                                          0.0481      0.052      0.921      0.357      -0.054       0.151\n",
       "user_author_type[T.p]                                                              0.1894      0.032      5.887      0.000       0.126       0.253\n",
       "C(health_condition, Treatment(reference='None'))[T.Cancer]                         0.0976      0.029      3.400      0.001       0.041       0.154\n",
       "C(health_condition, Treatment(reference='None'))[T.Cardiovascular/Stroke]          0.0711      0.065      1.100      0.271      -0.056       0.198\n",
       "C(health_condition, Treatment(reference='None'))[T.Congenital/Immune Disorder]     0.1346      0.146      0.924      0.355      -0.151       0.420\n",
       "C(health_condition, Treatment(reference='None'))[T.Infant/Childbirth]             -0.0262      0.095     -0.277      0.782      -0.212       0.159\n",
       "C(health_condition, Treatment(reference='None'))[T.Injury]                        -0.2214      0.071     -3.098      0.002      -0.361      -0.081\n",
       "C(health_condition, Treatment(reference='None'))[T.Neurological Condition]         0.1739      0.086      2.026      0.043       0.006       0.342\n",
       "C(health_condition, Treatment(reference='None'))[T.Other]                          0.0419      0.108      0.387      0.699      -0.170       0.254\n",
       "C(health_condition, Treatment(reference='None'))[T.Surgery/Transplantation]        0.1097      0.076      1.449      0.147      -0.039       0.258\n",
       "update_count                                                                       0.0044      0.000     12.899      0.000       0.004       0.005\n",
       "update_frequency                                                                  -0.0103      0.001    -12.760      0.000      -0.012      -0.009\n",
       "is_mixedsite_author                                                               -0.2105      0.025     -8.430      0.000      -0.259      -0.162\n",
       "is_multisite_author                                                                0.2747      0.062      4.423      0.000       0.153       0.396\n",
       "==================================================================================================================================================\n",
       "\"\"\""
      ]
     },
     "execution_count": 53,
     "metadata": {},
     "output_type": "execute_result"
    }
   ],
   "source": [
    "print_feature_summary(is_res)\n",
    "is_res.summary()"
   ]
  },
  {
   "cell_type": "code",
   "execution_count": 54,
   "metadata": {},
   "outputs": [
    {
     "name": "stdout",
     "output_type": "stream",
     "text": [
      "Intercept                                           -57.047% increase      30.05%   (-0.845)\n",
      "user_author_type[T.mixed]                           -26.758% increase      42.28%   (-0.311)\n",
      "user_author_type[T.p]                               -30.032% increase      41.17%   (-0.357)\n",
      "health_condition Cancer                              11.376% increase      52.69%   (0.108)\n",
      "health_condition Cardiovascular/Stroke                4.114% increase      51.01%   (0.040)\n",
      "health_condition Congenital/Immune Disorder          -6.461% increase      48.33%   (-0.067)\n",
      "health_condition Infant/Childbirth                  -36.547% increase      38.82%   (-0.455)\n",
      "health_condition Injury                              -5.444% increase      48.60%   (-0.056)\n",
      "health_condition Neurological Condition              59.319% increase      61.44%   (0.466)\n",
      "health_condition Other                               20.876% increase      54.73%   (0.190)\n",
      "health_condition Surgery/Transplantation             -1.217% increase      49.69%   (-0.012)\n",
      "update_count                                          0.083% increase      50.02%   (0.001)\n",
      "update_frequency                                     -0.575% increase      49.86%   (-0.006)\n",
      "is_mixedsite_author                                   1.455% increase      50.36%   (0.014)\n",
      "is_multisite_author                                   1.197% increase      50.30%   (0.012)\n"
     ]
    },
    {
     "data": {
      "text/html": [
       "<table class=\"simpletable\">\n",
       "<caption>Logit Regression Results</caption>\n",
       "<tr>\n",
       "  <th>Dep. Variable:</th> <td>is_initiator_1yr</td> <th>  No. Observations:  </th>  <td> 24465</td>  \n",
       "</tr>\n",
       "<tr>\n",
       "  <th>Model:</th>               <td>Logit</td>      <th>  Df Residuals:      </th>  <td> 24450</td>  \n",
       "</tr>\n",
       "<tr>\n",
       "  <th>Method:</th>               <td>MLE</td>       <th>  Df Model:          </th>  <td>    14</td>  \n",
       "</tr>\n",
       "<tr>\n",
       "  <th>Date:</th>          <td>Sat, 28 Dec 2019</td> <th>  Pseudo R-squ.:     </th> <td>0.006785</td> \n",
       "</tr>\n",
       "<tr>\n",
       "  <th>Time:</th>              <td>15:26:11</td>     <th>  Log-Likelihood:    </th> <td> -14391.</td> \n",
       "</tr>\n",
       "<tr>\n",
       "  <th>converged:</th>           <td>True</td>       <th>  LL-Null:           </th> <td> -14489.</td> \n",
       "</tr>\n",
       "<tr>\n",
       "  <th> </th>                      <td> </td>        <th>  LLR p-value:       </th> <td>2.690e-34</td>\n",
       "</tr>\n",
       "</table>\n",
       "<table class=\"simpletable\">\n",
       "<tr>\n",
       "                                         <td></td>                                           <th>coef</th>     <th>std err</th>      <th>z</th>      <th>P>|z|</th>  <th>[0.025</th>    <th>0.975]</th>  \n",
       "</tr>\n",
       "<tr>\n",
       "  <th>Intercept</th>                                                                      <td>   -0.8451</td> <td>    0.026</td> <td>  -33.011</td> <td> 0.000</td> <td>   -0.895</td> <td>   -0.795</td>\n",
       "</tr>\n",
       "<tr>\n",
       "  <th>user_author_type[T.mixed]</th>                                                      <td>   -0.3114</td> <td>    0.064</td> <td>   -4.879</td> <td> 0.000</td> <td>   -0.436</td> <td>   -0.186</td>\n",
       "</tr>\n",
       "<tr>\n",
       "  <th>user_author_type[T.p]</th>                                                          <td>   -0.3571</td> <td>    0.040</td> <td>   -8.842</td> <td> 0.000</td> <td>   -0.436</td> <td>   -0.278</td>\n",
       "</tr>\n",
       "<tr>\n",
       "  <th>C(health_condition, Treatment(reference='None'))[T.Cancer]</th>                     <td>    0.1077</td> <td>    0.036</td> <td>    3.033</td> <td> 0.002</td> <td>    0.038</td> <td>    0.177</td>\n",
       "</tr>\n",
       "<tr>\n",
       "  <th>C(health_condition, Treatment(reference='None'))[T.Cardiovascular/Stroke]</th>      <td>    0.0403</td> <td>    0.077</td> <td>    0.527</td> <td> 0.598</td> <td>   -0.110</td> <td>    0.190</td>\n",
       "</tr>\n",
       "<tr>\n",
       "  <th>C(health_condition, Treatment(reference='None'))[T.Congenital/Immune Disorder]</th> <td>   -0.0668</td> <td>    0.200</td> <td>   -0.333</td> <td> 0.739</td> <td>   -0.459</td> <td>    0.326</td>\n",
       "</tr>\n",
       "<tr>\n",
       "  <th>C(health_condition, Treatment(reference='None'))[T.Infant/Childbirth]</th>          <td>   -0.4549</td> <td>    0.141</td> <td>   -3.223</td> <td> 0.001</td> <td>   -0.731</td> <td>   -0.178</td>\n",
       "</tr>\n",
       "<tr>\n",
       "  <th>C(health_condition, Treatment(reference='None'))[T.Injury]</th>                     <td>   -0.0560</td> <td>    0.097</td> <td>   -0.576</td> <td> 0.565</td> <td>   -0.247</td> <td>    0.135</td>\n",
       "</tr>\n",
       "<tr>\n",
       "  <th>C(health_condition, Treatment(reference='None'))[T.Neurological Condition]</th>     <td>    0.4657</td> <td>    0.093</td> <td>    4.988</td> <td> 0.000</td> <td>    0.283</td> <td>    0.649</td>\n",
       "</tr>\n",
       "<tr>\n",
       "  <th>C(health_condition, Treatment(reference='None'))[T.Other]</th>                      <td>    0.1896</td> <td>    0.118</td> <td>    1.611</td> <td> 0.107</td> <td>   -0.041</td> <td>    0.420</td>\n",
       "</tr>\n",
       "<tr>\n",
       "  <th>C(health_condition, Treatment(reference='None'))[T.Surgery/Transplantation]</th>    <td>   -0.0122</td> <td>    0.088</td> <td>   -0.139</td> <td> 0.889</td> <td>   -0.185</td> <td>    0.160</td>\n",
       "</tr>\n",
       "<tr>\n",
       "  <th>update_count</th>                                                                   <td>    0.0008</td> <td>    0.000</td> <td>    2.464</td> <td> 0.014</td> <td>    0.000</td> <td>    0.001</td>\n",
       "</tr>\n",
       "<tr>\n",
       "  <th>update_frequency</th>                                                               <td>   -0.0058</td> <td>    0.001</td> <td>   -7.315</td> <td> 0.000</td> <td>   -0.007</td> <td>   -0.004</td>\n",
       "</tr>\n",
       "<tr>\n",
       "  <th>is_mixedsite_author</th>                                                            <td>    0.0144</td> <td>    0.033</td> <td>    0.443</td> <td> 0.658</td> <td>   -0.049</td> <td>    0.078</td>\n",
       "</tr>\n",
       "<tr>\n",
       "  <th>is_multisite_author</th>                                                            <td>    0.0119</td> <td>    0.063</td> <td>    0.188</td> <td> 0.851</td> <td>   -0.112</td> <td>    0.136</td>\n",
       "</tr>\n",
       "</table>"
      ],
      "text/plain": [
       "<class 'statsmodels.iolib.summary.Summary'>\n",
       "\"\"\"\n",
       "                           Logit Regression Results                           \n",
       "==============================================================================\n",
       "Dep. Variable:       is_initiator_1yr   No. Observations:                24465\n",
       "Model:                          Logit   Df Residuals:                    24450\n",
       "Method:                           MLE   Df Model:                           14\n",
       "Date:                Sat, 28 Dec 2019   Pseudo R-squ.:                0.006785\n",
       "Time:                        15:26:11   Log-Likelihood:                -14391.\n",
       "converged:                       True   LL-Null:                       -14489.\n",
       "                                        LLR p-value:                 2.690e-34\n",
       "==================================================================================================================================================\n",
       "                                                                                     coef    std err          z      P>|z|      [0.025      0.975]\n",
       "--------------------------------------------------------------------------------------------------------------------------------------------------\n",
       "Intercept                                                                         -0.8451      0.026    -33.011      0.000      -0.895      -0.795\n",
       "user_author_type[T.mixed]                                                         -0.3114      0.064     -4.879      0.000      -0.436      -0.186\n",
       "user_author_type[T.p]                                                             -0.3571      0.040     -8.842      0.000      -0.436      -0.278\n",
       "C(health_condition, Treatment(reference='None'))[T.Cancer]                         0.1077      0.036      3.033      0.002       0.038       0.177\n",
       "C(health_condition, Treatment(reference='None'))[T.Cardiovascular/Stroke]          0.0403      0.077      0.527      0.598      -0.110       0.190\n",
       "C(health_condition, Treatment(reference='None'))[T.Congenital/Immune Disorder]    -0.0668      0.200     -0.333      0.739      -0.459       0.326\n",
       "C(health_condition, Treatment(reference='None'))[T.Infant/Childbirth]             -0.4549      0.141     -3.223      0.001      -0.731      -0.178\n",
       "C(health_condition, Treatment(reference='None'))[T.Injury]                        -0.0560      0.097     -0.576      0.565      -0.247       0.135\n",
       "C(health_condition, Treatment(reference='None'))[T.Neurological Condition]         0.4657      0.093      4.988      0.000       0.283       0.649\n",
       "C(health_condition, Treatment(reference='None'))[T.Other]                          0.1896      0.118      1.611      0.107      -0.041       0.420\n",
       "C(health_condition, Treatment(reference='None'))[T.Surgery/Transplantation]       -0.0122      0.088     -0.139      0.889      -0.185       0.160\n",
       "update_count                                                                       0.0008      0.000      2.464      0.014       0.000       0.001\n",
       "update_frequency                                                                  -0.0058      0.001     -7.315      0.000      -0.007      -0.004\n",
       "is_mixedsite_author                                                                0.0144      0.033      0.443      0.658      -0.049       0.078\n",
       "is_multisite_author                                                                0.0119      0.063      0.188      0.851      -0.112       0.136\n",
       "==================================================================================================================================================\n",
       "\"\"\""
      ]
     },
     "execution_count": 54,
     "metadata": {},
     "output_type": "execute_result"
    }
   ],
   "source": [
    "print_feature_summary(not_res)\n",
    "not_res.summary()"
   ]
  },
  {
   "cell_type": "code",
   "execution_count": 131,
   "metadata": {},
   "outputs": [
    {
     "name": "stdout",
     "output_type": "stream",
     "text": [
      "Optimization terminated successfully.\n",
      "         Current function value: 0.640240\n",
      "         Iterations 5\n",
      "Intercept                                           -59.541% increase      28.81%   (-0.905)\n",
      "user_author_type[T.mixed]                           -25.762% increase      42.61%   (-0.298)\n",
      "user_author_type[T.p]                               -25.638% increase      42.65%   (-0.296)\n",
      "is_interacted_with                                  196.137% increase      74.76%   (1.086)\n",
      "user_author_type[T.mixed]:is_interacted_with         54.584% increase      60.72%   (0.436)\n",
      "user_author_type[T.p]:is_interacted_with             80.974% increase      64.41%   (0.593)\n",
      "Test Accuracy: 67.89%\n",
      "Train Accuracy: 64.98%\n"
     ]
    },
    {
     "data": {
      "text/html": [
       "<table class=\"simpletable\">\n",
       "<caption>Logit Regression Results</caption>\n",
       "<tr>\n",
       "  <th>Dep. Variable:</th> <td>is_initiator_1yr</td> <th>  No. Observations:  </th>  <td> 53335</td> \n",
       "</tr>\n",
       "<tr>\n",
       "  <th>Model:</th>               <td>Logit</td>      <th>  Df Residuals:      </th>  <td> 53329</td> \n",
       "</tr>\n",
       "<tr>\n",
       "  <th>Method:</th>               <td>MLE</td>       <th>  Df Model:          </th>  <td>     5</td> \n",
       "</tr>\n",
       "<tr>\n",
       "  <th>Date:</th>          <td>Sat, 28 Dec 2019</td> <th>  Pseudo R-squ.:     </th>  <td>0.06395</td>\n",
       "</tr>\n",
       "<tr>\n",
       "  <th>Time:</th>              <td>16:48:48</td>     <th>  Log-Likelihood:    </th> <td> -34147.</td>\n",
       "</tr>\n",
       "<tr>\n",
       "  <th>converged:</th>           <td>True</td>       <th>  LL-Null:           </th> <td> -36480.</td>\n",
       "</tr>\n",
       "<tr>\n",
       "  <th> </th>                      <td> </td>        <th>  LLR p-value:       </th>  <td> 0.000</td> \n",
       "</tr>\n",
       "</table>\n",
       "<table class=\"simpletable\">\n",
       "<tr>\n",
       "                        <td></td>                          <th>coef</th>     <th>std err</th>      <th>z</th>      <th>P>|z|</th>  <th>[0.025</th>    <th>0.975]</th>  \n",
       "</tr>\n",
       "<tr>\n",
       "  <th>Intercept</th>                                    <td>   -0.9049</td> <td>    0.016</td> <td>  -55.411</td> <td> 0.000</td> <td>   -0.937</td> <td>   -0.873</td>\n",
       "</tr>\n",
       "<tr>\n",
       "  <th>user_author_type[T.mixed]</th>                    <td>   -0.2979</td> <td>    0.065</td> <td>   -4.599</td> <td> 0.000</td> <td>   -0.425</td> <td>   -0.171</td>\n",
       "</tr>\n",
       "<tr>\n",
       "  <th>user_author_type[T.p]</th>                        <td>   -0.2962</td> <td>    0.040</td> <td>   -7.397</td> <td> 0.000</td> <td>   -0.375</td> <td>   -0.218</td>\n",
       "</tr>\n",
       "<tr>\n",
       "  <th>is_interacted_with</th>                           <td>    1.0857</td> <td>    0.021</td> <td>   51.241</td> <td> 0.000</td> <td>    1.044</td> <td>    1.127</td>\n",
       "</tr>\n",
       "<tr>\n",
       "  <th>user_author_type[T.mixed]:is_interacted_with</th> <td>    0.4356</td> <td>    0.082</td> <td>    5.281</td> <td> 0.000</td> <td>    0.274</td> <td>    0.597</td>\n",
       "</tr>\n",
       "<tr>\n",
       "  <th>user_author_type[T.p]:is_interacted_with</th>     <td>    0.5932</td> <td>    0.050</td> <td>   11.762</td> <td> 0.000</td> <td>    0.494</td> <td>    0.692</td>\n",
       "</tr>\n",
       "</table>"
      ],
      "text/plain": [
       "<class 'statsmodels.iolib.summary.Summary'>\n",
       "\"\"\"\n",
       "                           Logit Regression Results                           \n",
       "==============================================================================\n",
       "Dep. Variable:       is_initiator_1yr   No. Observations:                53335\n",
       "Model:                          Logit   Df Residuals:                    53329\n",
       "Method:                           MLE   Df Model:                            5\n",
       "Date:                Sat, 28 Dec 2019   Pseudo R-squ.:                 0.06395\n",
       "Time:                        16:48:48   Log-Likelihood:                -34147.\n",
       "converged:                       True   LL-Null:                       -36480.\n",
       "                                        LLR p-value:                     0.000\n",
       "================================================================================================================\n",
       "                                                   coef    std err          z      P>|z|      [0.025      0.975]\n",
       "----------------------------------------------------------------------------------------------------------------\n",
       "Intercept                                       -0.9049      0.016    -55.411      0.000      -0.937      -0.873\n",
       "user_author_type[T.mixed]                       -0.2979      0.065     -4.599      0.000      -0.425      -0.171\n",
       "user_author_type[T.p]                           -0.2962      0.040     -7.397      0.000      -0.375      -0.218\n",
       "is_interacted_with                               1.0857      0.021     51.241      0.000       1.044       1.127\n",
       "user_author_type[T.mixed]:is_interacted_with     0.4356      0.082      5.281      0.000       0.274       0.597\n",
       "user_author_type[T.p]:is_interacted_with         0.5932      0.050     11.762      0.000       0.494       0.692\n",
       "================================================================================================================\n",
       "\"\"\""
      ]
     },
     "execution_count": 131,
     "metadata": {},
     "output_type": "execute_result"
    }
   ],
   "source": [
    "formula = \"\"\"\n",
    "is_initiator_1yr ~  \n",
    "    user_author_type * is_interacted_with\n",
    "    + 1\n",
    "\"\"\"\n",
    "model = smf.logit(formula=formula, \n",
    "                  data=user_subset)\n",
    "res = model.fit(maxiter=100)\n",
    "\n",
    "print_feature_summary(res)\n",
    "\n",
    "raw_preds = res.predict(test_user_subset)\n",
    "preds = raw_preds >= 0.5\n",
    "acc = np.sum(preds == test_user_subset.is_initiator) / len(test_user_subset)\n",
    "print(f\"Test Accuracy: {acc*100:.2f}%\")\n",
    "raw_preds = res.predict(user_subset)\n",
    "preds = raw_preds >= 0.5\n",
    "acc = np.sum(preds == user_subset.is_initiator) / len(user_subset)\n",
    "print(f\"Train Accuracy: {acc*100:.2f}%\")\n",
    "\n",
    "res.summary()"
   ]
  },
  {
   "cell_type": "code",
   "execution_count": 49,
   "metadata": {},
   "outputs": [
    {
     "data": {
      "text/plain": [
       "1.8097704246078856"
      ]
     },
     "execution_count": 49,
     "metadata": {},
     "output_type": "execute_result"
    }
   ],
   "source": [
    "np.exp( 0.5932)"
   ]
  },
  {
   "cell_type": "code",
   "execution_count": 132,
   "metadata": {},
   "outputs": [
    {
     "name": "stdout",
     "output_type": "stream",
     "text": [
      "\\begin{table}\n",
      "\\caption{Results: Logit}\n",
      "\\begin{center}\n",
      "\\begin{tabular}{llll}\n",
      "\\hline\n",
      "Model:              & Logit            & Pseudo R-squared: & 0.064       \\\\\n",
      "Dependent Variable: & is_initiator_1yr & AIC:              & 68306.4489  \\\\\n",
      "Date:               & 2019-12-28 16:52 & BIC:              & 68359.7550  \\\\\n",
      "No. Observations:   & 53335            & Log-Likelihood:   & -34147.     \\\\\n",
      "Df Model:           & 5                & LL-Null:          & -36480.     \\\\\n",
      "Df Residuals:       & 53329            & LLR p-value:      & 0.0000      \\\\\n",
      "Converged:          & 1.0000           & Scale:            & 1.0000      \\\\\n",
      "No. Iterations:     & 5.0000           &                   &             \\\\\n",
      "\\hline\n",
      "\\end{tabular}\n",
      "\\end{center}\n",
      "\\hline\n",
      "\\begin{center}\n",
      "\\begin{tabular}{lcccccc}\n",
      "\\hline\n",
      "                                                 &  Coef.  & Std.Err. &    z     & P$>$$|$z$|$ &  [0.025 &  0.975]  \\\\\n",
      "\\hline\n",
      "\\hline\n",
      "\\end{tabular}\n",
      "\\begin{tabular}{lrrrrrr}\n",
      "Intercept                                        & -0.9049 &   0.0163 & -55.4107 &      0.0000 & -0.9369 & -0.8729  \\\\\n",
      "user\\_author\\_type[T.mixed]                      & -0.2979 &   0.0648 &  -4.5992 &      0.0000 & -0.4248 & -0.1709  \\\\\n",
      "user\\_author\\_type[T.p]                          & -0.2962 &   0.0400 &  -7.3971 &      0.0000 & -0.3747 & -0.2177  \\\\\n",
      "is\\_interacted\\_with                             &  1.0857 &   0.0212 &  51.2408 &      0.0000 &  1.0441 &  1.1272  \\\\\n",
      "user\\_author\\_type[T.mixed]:is\\_interacted\\_with &  0.4356 &   0.0825 &   5.2807 &      0.0000 &  0.2739 &  0.5972  \\\\\n",
      "user\\_author\\_type[T.p]:is\\_interacted\\_with     &  0.5932 &   0.0504 &  11.7622 &      0.0000 &  0.4943 &  0.6920  \\\\\n",
      "\\hline\n",
      "\\end{tabular}\n",
      "\\end{center}\n",
      "\\end{table}\n"
     ]
    }
   ],
   "source": [
    "print(res.summary2().as_latex())"
   ]
  },
  {
   "cell_type": "markdown",
   "metadata": {},
   "source": [
    "#### Predicting `is_interacted_with` rather than `is_initiator`"
   ]
  },
  {
   "cell_type": "code",
   "execution_count": 56,
   "metadata": {
    "scrolled": false
   },
   "outputs": [
    {
     "name": "stdout",
     "output_type": "stream",
     "text": [
      "Optimization terminated successfully.\n",
      "         Current function value: 0.621222\n",
      "         Iterations 6\n"
     ]
    },
    {
     "data": {
      "text/html": [
       "<table class=\"simpletable\">\n",
       "<caption>Logit Regression Results</caption>\n",
       "<tr>\n",
       "  <th>Dep. Variable:</th> <td>is_interacted_with_1yr</td> <th>  No. Observations:  </th>  <td> 53335</td> \n",
       "</tr>\n",
       "<tr>\n",
       "  <th>Model:</th>                  <td>Logit</td>         <th>  Df Residuals:      </th>  <td> 53319</td> \n",
       "</tr>\n",
       "<tr>\n",
       "  <th>Method:</th>                  <td>MLE</td>          <th>  Df Model:          </th>  <td>    15</td> \n",
       "</tr>\n",
       "<tr>\n",
       "  <th>Date:</th>             <td>Sat, 28 Dec 2019</td>    <th>  Pseudo R-squ.:     </th>  <td>0.09933</td>\n",
       "</tr>\n",
       "<tr>\n",
       "  <th>Time:</th>                 <td>15:26:27</td>        <th>  Log-Likelihood:    </th> <td> -33133.</td>\n",
       "</tr>\n",
       "<tr>\n",
       "  <th>converged:</th>              <td>True</td>          <th>  LL-Null:           </th> <td> -36787.</td>\n",
       "</tr>\n",
       "<tr>\n",
       "  <th> </th>                         <td> </td>           <th>  LLR p-value:       </th>  <td> 0.000</td> \n",
       "</tr>\n",
       "</table>\n",
       "<table class=\"simpletable\">\n",
       "<tr>\n",
       "                                         <td></td>                                           <th>coef</th>     <th>std err</th>      <th>z</th>      <th>P>|z|</th>  <th>[0.025</th>    <th>0.975]</th>  \n",
       "</tr>\n",
       "<tr>\n",
       "  <th>Intercept</th>                                                                      <td>   -0.7014</td> <td>    0.020</td> <td>  -34.974</td> <td> 0.000</td> <td>   -0.741</td> <td>   -0.662</td>\n",
       "</tr>\n",
       "<tr>\n",
       "  <th>user_author_type[T.mixed]</th>                                                      <td>   -0.0177</td> <td>    0.040</td> <td>   -0.441</td> <td> 0.659</td> <td>   -0.096</td> <td>    0.061</td>\n",
       "</tr>\n",
       "<tr>\n",
       "  <th>user_author_type[T.p]</th>                                                          <td>    0.0177</td> <td>    0.025</td> <td>    0.706</td> <td> 0.480</td> <td>   -0.031</td> <td>    0.067</td>\n",
       "</tr>\n",
       "<tr>\n",
       "  <th>C(health_condition, Treatment(reference='None'))[T.Cancer]</th>                     <td>    0.0005</td> <td>    0.023</td> <td>    0.023</td> <td> 0.982</td> <td>   -0.044</td> <td>    0.045</td>\n",
       "</tr>\n",
       "<tr>\n",
       "  <th>C(health_condition, Treatment(reference='None'))[T.Cardiovascular/Stroke]</th>      <td>   -0.0510</td> <td>    0.050</td> <td>   -1.016</td> <td> 0.310</td> <td>   -0.149</td> <td>    0.047</td>\n",
       "</tr>\n",
       "<tr>\n",
       "  <th>C(health_condition, Treatment(reference='None'))[T.Congenital/Immune Disorder]</th> <td>    0.2195</td> <td>    0.121</td> <td>    1.821</td> <td> 0.069</td> <td>   -0.017</td> <td>    0.456</td>\n",
       "</tr>\n",
       "<tr>\n",
       "  <th>C(health_condition, Treatment(reference='None'))[T.Infant/Childbirth]</th>          <td>    0.2212</td> <td>    0.078</td> <td>    2.824</td> <td> 0.005</td> <td>    0.068</td> <td>    0.375</td>\n",
       "</tr>\n",
       "<tr>\n",
       "  <th>C(health_condition, Treatment(reference='None'))[T.Injury]</th>                     <td>    0.2017</td> <td>    0.059</td> <td>    3.394</td> <td> 0.001</td> <td>    0.085</td> <td>    0.318</td>\n",
       "</tr>\n",
       "<tr>\n",
       "  <th>C(health_condition, Treatment(reference='None'))[T.Neurological Condition]</th>     <td>   -0.1325</td> <td>    0.066</td> <td>   -2.011</td> <td> 0.044</td> <td>   -0.262</td> <td>   -0.003</td>\n",
       "</tr>\n",
       "<tr>\n",
       "  <th>C(health_condition, Treatment(reference='None'))[T.Other]</th>                      <td>   -0.1626</td> <td>    0.082</td> <td>   -1.994</td> <td> 0.046</td> <td>   -0.322</td> <td>   -0.003</td>\n",
       "</tr>\n",
       "<tr>\n",
       "  <th>C(health_condition, Treatment(reference='None'))[T.Surgery/Transplantation]</th>    <td>   -0.1125</td> <td>    0.057</td> <td>   -1.962</td> <td> 0.050</td> <td>   -0.225</td> <td>-9.24e-05</td>\n",
       "</tr>\n",
       "<tr>\n",
       "  <th>is_initiator_1yr</th>                                                               <td>    1.1521</td> <td>    0.019</td> <td>   60.096</td> <td> 0.000</td> <td>    1.115</td> <td>    1.190</td>\n",
       "</tr>\n",
       "<tr>\n",
       "  <th>update_count</th>                                                                   <td>    0.0094</td> <td>    0.000</td> <td>   26.711</td> <td> 0.000</td> <td>    0.009</td> <td>    0.010</td>\n",
       "</tr>\n",
       "<tr>\n",
       "  <th>update_frequency</th>                                                               <td>   -0.0075</td> <td>    0.001</td> <td>  -13.837</td> <td> 0.000</td> <td>   -0.009</td> <td>   -0.006</td>\n",
       "</tr>\n",
       "<tr>\n",
       "  <th>is_mixedsite_author</th>                                                            <td>    0.8029</td> <td>    0.020</td> <td>   39.692</td> <td> 0.000</td> <td>    0.763</td> <td>    0.843</td>\n",
       "</tr>\n",
       "<tr>\n",
       "  <th>is_multisite_author</th>                                                            <td>   -0.4737</td> <td>    0.045</td> <td>  -10.554</td> <td> 0.000</td> <td>   -0.562</td> <td>   -0.386</td>\n",
       "</tr>\n",
       "</table>"
      ],
      "text/plain": [
       "<class 'statsmodels.iolib.summary.Summary'>\n",
       "\"\"\"\n",
       "                             Logit Regression Results                             \n",
       "==================================================================================\n",
       "Dep. Variable:     is_interacted_with_1yr   No. Observations:                53335\n",
       "Model:                              Logit   Df Residuals:                    53319\n",
       "Method:                               MLE   Df Model:                           15\n",
       "Date:                    Sat, 28 Dec 2019   Pseudo R-squ.:                 0.09933\n",
       "Time:                            15:26:27   Log-Likelihood:                -33133.\n",
       "converged:                           True   LL-Null:                       -36787.\n",
       "                                            LLR p-value:                     0.000\n",
       "==================================================================================================================================================\n",
       "                                                                                     coef    std err          z      P>|z|      [0.025      0.975]\n",
       "--------------------------------------------------------------------------------------------------------------------------------------------------\n",
       "Intercept                                                                         -0.7014      0.020    -34.974      0.000      -0.741      -0.662\n",
       "user_author_type[T.mixed]                                                         -0.0177      0.040     -0.441      0.659      -0.096       0.061\n",
       "user_author_type[T.p]                                                              0.0177      0.025      0.706      0.480      -0.031       0.067\n",
       "C(health_condition, Treatment(reference='None'))[T.Cancer]                         0.0005      0.023      0.023      0.982      -0.044       0.045\n",
       "C(health_condition, Treatment(reference='None'))[T.Cardiovascular/Stroke]         -0.0510      0.050     -1.016      0.310      -0.149       0.047\n",
       "C(health_condition, Treatment(reference='None'))[T.Congenital/Immune Disorder]     0.2195      0.121      1.821      0.069      -0.017       0.456\n",
       "C(health_condition, Treatment(reference='None'))[T.Infant/Childbirth]              0.2212      0.078      2.824      0.005       0.068       0.375\n",
       "C(health_condition, Treatment(reference='None'))[T.Injury]                         0.2017      0.059      3.394      0.001       0.085       0.318\n",
       "C(health_condition, Treatment(reference='None'))[T.Neurological Condition]        -0.1325      0.066     -2.011      0.044      -0.262      -0.003\n",
       "C(health_condition, Treatment(reference='None'))[T.Other]                         -0.1626      0.082     -1.994      0.046      -0.322      -0.003\n",
       "C(health_condition, Treatment(reference='None'))[T.Surgery/Transplantation]       -0.1125      0.057     -1.962      0.050      -0.225   -9.24e-05\n",
       "is_initiator_1yr                                                                   1.1521      0.019     60.096      0.000       1.115       1.190\n",
       "update_count                                                                       0.0094      0.000     26.711      0.000       0.009       0.010\n",
       "update_frequency                                                                  -0.0075      0.001    -13.837      0.000      -0.009      -0.006\n",
       "is_mixedsite_author                                                                0.8029      0.020     39.692      0.000       0.763       0.843\n",
       "is_multisite_author                                                               -0.4737      0.045    -10.554      0.000      -0.562      -0.386\n",
       "==================================================================================================================================================\n",
       "\"\"\""
      ]
     },
     "execution_count": 56,
     "metadata": {},
     "output_type": "execute_result"
    }
   ],
   "source": [
    "formula = \"\"\"\n",
    "is_interacted_with_1yr ~ \n",
    "    is_initiator_1yr\n",
    "    + user_author_type\n",
    "    + update_count \n",
    "    + update_frequency \n",
    "    + is_mixedsite_author\n",
    "    + C(health_condition, Treatment(reference='None'))\n",
    "    + is_multisite_author\n",
    "    + 1\n",
    "\"\"\"\n",
    "# + num_sites OR is_multisite_author\n",
    "# + health_condition\n",
    "model = smf.logit(formula=formula, \n",
    "                  data=user_subset)\n",
    "res = model.fit(maxiter=100)\n",
    "res.summary()"
   ]
  },
  {
   "cell_type": "code",
   "execution_count": 57,
   "metadata": {},
   "outputs": [
    {
     "name": "stdout",
     "output_type": "stream",
     "text": [
      "Intercept                                           -50.413% increase      33.15%   (-0.701)\n",
      "user_author_type[T.mixed]                            -1.753% increase      49.56%   (-0.018)\n",
      "user_author_type[T.p]                                 1.782% increase      50.44%   (0.018)\n",
      "health_condition Cancer                               0.052% increase      50.01%   (0.001)\n",
      "health_condition Cardiovascular/Stroke               -4.973% increase      48.72%   (-0.051)\n",
      "health_condition Congenital/Immune Disorder          24.545% increase      55.47%   (0.219)\n",
      "health_condition Infant/Childbirth                   24.752% increase      55.51%   (0.221)\n",
      "health_condition Injury                              22.342% increase      55.02%   (0.202)\n",
      "health_condition Neurological Condition             -12.411% increase      46.69%   (-0.133)\n",
      "health_condition Other                              -15.011% increase      45.94%   (-0.163)\n",
      "health_condition Surgery/Transplantation            -10.639% increase      47.19%   (-0.112)\n",
      "is_initiator_1yr                                    216.482% increase      75.99%   (1.152)\n",
      "update_count                                          0.940% increase      50.23%   (0.009)\n",
      "update_frequency                                     -0.749% increase      49.81%   (-0.008)\n",
      "is_mixedsite_author                                 123.211% increase      69.06%   (0.803)\n",
      "is_multisite_author                                 -37.733% increase      38.37%   (-0.474)\n"
     ]
    }
   ],
   "source": [
    "print_feature_summary(res)"
   ]
  },
  {
   "cell_type": "markdown",
   "metadata": {},
   "source": [
    "#### Fitting separate models for each cohort"
   ]
  },
  {
   "cell_type": "code",
   "execution_count": 180,
   "metadata": {},
   "outputs": [
    {
     "name": "stdout",
     "output_type": "stream",
     "text": [
      "Optimization terminated successfully.\n",
      "         Current function value: 0.651861\n",
      "         Iterations 5\n",
      "Optimization terminated successfully.\n",
      "         Current function value: 0.649723\n",
      "         Iterations 5\n",
      "Optimization terminated successfully.\n",
      "         Current function value: 0.646642\n",
      "         Iterations 5\n",
      "Optimization terminated successfully.\n",
      "         Current function value: 0.639500\n",
      "         Iterations 5\n",
      "Optimization terminated successfully.\n",
      "         Current function value: 0.641465\n",
      "         Iterations 5\n",
      "Optimization terminated successfully.\n",
      "         Current function value: 0.642976\n",
      "         Iterations 5\n",
      "Optimization terminated successfully.\n",
      "         Current function value: 0.638542\n",
      "         Iterations 5\n",
      "Optimization terminated successfully.\n",
      "         Current function value: 0.644348\n",
      "         Iterations 5\n",
      "Optimization terminated successfully.\n",
      "         Current function value: 0.641242\n",
      "         Iterations 5\n",
      "Optimization terminated successfully.\n",
      "         Current function value: 0.642909\n",
      "         Iterations 5\n",
      "Optimization terminated successfully.\n",
      "         Current function value: 0.645583\n",
      "         Iterations 5\n",
      "Optimization terminated successfully.\n",
      "         Current function value: 0.645075\n",
      "         Iterations 5\n",
      "Optimization terminated successfully.\n",
      "         Current function value: 0.645523\n",
      "         Iterations 5\n",
      "Optimization terminated successfully.\n",
      "         Current function value: 0.643392\n",
      "         Iterations 6\n",
      "Optimization terminated successfully.\n",
      "         Current function value: 0.646777\n",
      "         Iterations 5\n",
      "Optimization terminated successfully.\n",
      "         Current function value: 0.653478\n",
      "         Iterations 5\n",
      "Optimization terminated successfully.\n",
      "         Current function value: 0.645027\n",
      "         Iterations 5\n",
      "Optimization terminated successfully.\n",
      "         Current function value: 0.647064\n",
      "         Iterations 5\n",
      "Optimization terminated successfully.\n",
      "         Current function value: 0.646744\n",
      "         Iterations 5\n",
      "Optimization terminated successfully.\n",
      "         Current function value: 0.645955\n",
      "         Iterations 5\n",
      "Optimization terminated successfully.\n",
      "         Current function value: 0.638401\n",
      "         Iterations 5\n",
      "Optimization terminated successfully.\n",
      "         Current function value: 0.641612\n",
      "         Iterations 5\n",
      "Optimization terminated successfully.\n",
      "         Current function value: 0.638962\n",
      "         Iterations 5\n",
      "Optimization terminated successfully.\n",
      "         Current function value: 0.643345\n",
      "         Iterations 5\n"
     ]
    }
   ],
   "source": [
    "cohorts = sorted([c for c, count in Counter(user_subset.first_update_month).most_common() if count >= 1000])\n",
    "\n",
    "formula = \"\"\"\n",
    "is_initiator ~ \n",
    "    is_interacted_with\n",
    "    + user_author_type\n",
    "    + update_count \n",
    "    + update_frequency \n",
    "    + is_mixedsite_author\n",
    "    + is_multisite_author\n",
    "    + 1\n",
    "\"\"\"\n",
    "formula= \"\"\"\n",
    "is_initiator ~ \n",
    "    user_author_type * is_interacted_with\n",
    "    + 1\n",
    "\"\"\"\n",
    "\n",
    "results = []\n",
    "for cohort in cohorts:\n",
    "    model_data = user_subset[user_subset.first_update_month == cohort]\n",
    "    model = smf.logit(formula=formula, \n",
    "                  data=model_data)\n",
    "    res = model.fit()\n",
    "    results.append(res)"
   ]
  },
  {
   "cell_type": "code",
   "execution_count": 181,
   "metadata": {},
   "outputs": [],
   "source": [
    "params = []\n",
    "for result in results:\n",
    "    params.append(result.params)\n",
    "params = np.array(params)"
   ]
  },
  {
   "cell_type": "code",
   "execution_count": 183,
   "metadata": {},
   "outputs": [
    {
     "name": "stdout",
     "output_type": "stream",
     "text": [
      "Intercept                                           -45.669% increase      35.20%   (-0.610 std 0.091)\n",
      "user_author_type[T.mixed]                           -28.474% increase      41.70%   (-0.335 std 0.271)\n",
      "user_author_type[T.p]                               -19.212% increase      44.69%   (-0.213 std 0.113)\n",
      "is_interacted_with                                  210.120% increase      75.62%   (1.132 std 0.089)\n",
      "user_author_type[T.mixed]:is_interacted_with         56.860% increase      61.07%   (0.450 std 0.348)\n",
      "user_author_type[T.p]:is_interacted_with             69.147% increase      62.85%   (0.526 std 0.226)\n"
     ]
    }
   ],
   "source": [
    "for feature, coef, std in zip(results[0].params.index, params.mean(axis=0), params.std(axis=0)):\n",
    "    prob = np.exp(coef)/(1+np.exp(coef))\n",
    "    feature_name = feature\n",
    "    if \"health_condition\" in feature_name:\n",
    "        feature_name = \"health_condition \" + feature_name.split(\"[\")[1][2:-1]\n",
    "    print(f\"{feature_name:<50} {min((np.exp(coef)-1)*100, 999):>8.3f}% increase   {prob*100:>8.2f}%   ({coef:.3f} std {std:.3f})\")"
   ]
  },
  {
   "cell_type": "code",
   "execution_count": 184,
   "metadata": {},
   "outputs": [
    {
     "data": {
      "image/png": "[encoded data removed]",
      "text/plain": [
       "<Figure size 432x1728 with 6 Axes>"
      ]
     },
     "metadata": {
      "needs_background": "light"
     },
     "output_type": "display_data"
    }
   ],
   "source": [
    "num_params = len(results[0].params)\n",
    "fig, axs = plt.subplots(nrows=num_params, ncols=1, figsize=(6,24))\n",
    "for i, ax in enumerate(axs):\n",
    "    ax.hist(np.exp(params[:,i]))\n",
    "    ax.set_title(results[0].params.index[i])\n",
    "plt.show()"
   ]
  },
  {
   "cell_type": "code",
   "execution_count": null,
   "metadata": {},
   "outputs": [],
   "source": []
  }
 ],
 "metadata": {
  "kernelspec": {
   "display_name": "Python (shared-conda)",
   "language": "python",
   "name": "shared-conda"
  },
  "language_info": {
   "codemirror_mode": {
    "name": "ipython",
    "version": 3
   },
   "file_extension": ".py",
   "mimetype": "text/x-python",
   "name": "python",
   "nbconvert_exporter": "python",
   "pygments_lexer": "ipython3",
   "version": "3.7.3"
  }
 },
 "nbformat": 4,
 "nbformat_minor": 2
}
