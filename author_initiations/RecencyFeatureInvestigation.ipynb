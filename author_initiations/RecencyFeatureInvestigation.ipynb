{
 "cells": [
  {
   "cell_type": "markdown",
   "metadata": {},
   "source": [
    "## Recency feature investigation"
   ]
  },
  {
   "cell_type": "code",
   "execution_count": 4,
   "metadata": {},
   "outputs": [],
   "source": [
    "%reload_ext autoreload\n",
    "%autoreload 2\n",
    "%matplotlib inline"
   ]
  },
  {
   "cell_type": "code",
   "execution_count": 37,
   "metadata": {},
   "outputs": [],
   "source": [
    "import os\n",
    "import re\n",
    "import pandas as pd\n",
    "import numpy as np\n",
    "\n",
    "from collections import Counter, defaultdict\n",
    "import sqlite3\n",
    "from tqdm import tqdm\n",
    "import random\n",
    "import pickle\n",
    "from datetime import datetime\n",
    "import bisect\n",
    "\n",
    "import matplotlib.pyplot as plt\n",
    "import matplotlib.dates as md\n",
    "import matplotlib\n",
    "import pylab as pl\n",
    "from IPython.core.display import display, HTML\n",
    "\n",
    "import networkx as nx\n",
    "import scipy, scipy.stats"
   ]
  },
  {
   "cell_type": "code",
   "execution_count": null,
   "metadata": {},
   "outputs": [],
   "source": []
  },
  {
   "cell_type": "code",
   "execution_count": 2,
   "metadata": {},
   "outputs": [],
   "source": [
    "train_filepath = \"/home/srivbane/shared/caringbridge/data/projects/sna-social-support/author_initiations/author_initiation_choices_train_all.csv\"\n",
    "test_filepath = \"/home/srivbane/shared/caringbridge/data/projects/sna-social-support/author_initiations/author_initiation_choices_test_all.csv\""
   ]
  },
  {
   "cell_type": "code",
   "execution_count": 5,
   "metadata": {},
   "outputs": [],
   "source": [
    "train = pd.read_csv(train_filepath)"
   ]
  },
  {
   "cell_type": "code",
   "execution_count": 6,
   "metadata": {},
   "outputs": [],
   "source": [
    "test = pd.read_csv(test_filepath)"
   ]
  },
  {
   "cell_type": "code",
   "execution_count": 7,
   "metadata": {},
   "outputs": [
    {
     "data": {
      "text/plain": [
       "(3878525, 690025)"
      ]
     },
     "execution_count": 7,
     "metadata": {},
     "output_type": "execute_result"
    }
   ],
   "source": [
    "len(train), len(test)"
   ]
  },
  {
   "cell_type": "code",
   "execution_count": 8,
   "metadata": {},
   "outputs": [
    {
     "data": {
      "text/html": [
       "<div>\n",
       "<style scoped>\n",
       "    .dataframe tbody tr th:only-of-type {\n",
       "        vertical-align: middle;\n",
       "    }\n",
       "\n",
       "    .dataframe tbody tr th {\n",
       "        vertical-align: top;\n",
       "    }\n",
       "\n",
       "    .dataframe thead th {\n",
       "        text-align: right;\n",
       "    }\n",
       "</style>\n",
       "<table border=\"1\" class=\"dataframe\">\n",
       "  <thead>\n",
       "    <tr style=\"text-align: right;\">\n",
       "      <th></th>\n",
       "      <th>choice_id</th>\n",
       "      <th>initiator_user_id</th>\n",
       "      <th>candidate_user_id</th>\n",
       "      <th>is_target</th>\n",
       "      <th>target_outdegree</th>\n",
       "      <th>target_indegree</th>\n",
       "      <th>target_has_indegree</th>\n",
       "      <th>is_reciprocal</th>\n",
       "      <th>is_weakly_connected</th>\n",
       "      <th>is_friend_of_friend</th>\n",
       "      <th>...</th>\n",
       "      <th>initiator_author_type</th>\n",
       "      <th>target_health_condition</th>\n",
       "      <th>is_health_condition_shared</th>\n",
       "      <th>target_is_multisite_author</th>\n",
       "      <th>target_is_mixedsite_author</th>\n",
       "      <th>target_update_count</th>\n",
       "      <th>target_update_frequency</th>\n",
       "      <th>target_days_since_most_recent_update</th>\n",
       "      <th>target_days_since_first_update</th>\n",
       "      <th>target_site_visits</th>\n",
       "    </tr>\n",
       "  </thead>\n",
       "  <tbody>\n",
       "    <tr>\n",
       "      <td>0</td>\n",
       "      <td>0</td>\n",
       "      <td>15878504</td>\n",
       "      <td>5758186</td>\n",
       "      <td>1</td>\n",
       "      <td>10</td>\n",
       "      <td>41</td>\n",
       "      <td>1</td>\n",
       "      <td>0</td>\n",
       "      <td>1</td>\n",
       "      <td>0</td>\n",
       "      <td>...</td>\n",
       "      <td>cg</td>\n",
       "      <td>Cancer</td>\n",
       "      <td>1</td>\n",
       "      <td>0</td>\n",
       "      <td>0</td>\n",
       "      <td>628</td>\n",
       "      <td>10.271729</td>\n",
       "      <td>0.000000</td>\n",
       "      <td>1118.324664</td>\n",
       "      <td>118271</td>\n",
       "    </tr>\n",
       "    <tr>\n",
       "      <td>1</td>\n",
       "      <td>0</td>\n",
       "      <td>15878504</td>\n",
       "      <td>8745849</td>\n",
       "      <td>0</td>\n",
       "      <td>0</td>\n",
       "      <td>1</td>\n",
       "      <td>1</td>\n",
       "      <td>0</td>\n",
       "      <td>1</td>\n",
       "      <td>0</td>\n",
       "      <td>...</td>\n",
       "      <td>cg</td>\n",
       "      <td>Cardiovascular/Stroke</td>\n",
       "      <td>0</td>\n",
       "      <td>0</td>\n",
       "      <td>0</td>\n",
       "      <td>17</td>\n",
       "      <td>2.249373</td>\n",
       "      <td>1132.466331</td>\n",
       "      <td>226.729861</td>\n",
       "      <td>1962</td>\n",
       "    </tr>\n",
       "    <tr>\n",
       "      <td>2</td>\n",
       "      <td>0</td>\n",
       "      <td>15878504</td>\n",
       "      <td>7054610</td>\n",
       "      <td>0</td>\n",
       "      <td>3</td>\n",
       "      <td>3</td>\n",
       "      <td>1</td>\n",
       "      <td>0</td>\n",
       "      <td>1</td>\n",
       "      <td>0</td>\n",
       "      <td>...</td>\n",
       "      <td>cg</td>\n",
       "      <td>Neurological Condition</td>\n",
       "      <td>0</td>\n",
       "      <td>0</td>\n",
       "      <td>0</td>\n",
       "      <td>11</td>\n",
       "      <td>5.774769</td>\n",
       "      <td>1446.314942</td>\n",
       "      <td>57.145139</td>\n",
       "      <td>440</td>\n",
       "    </tr>\n",
       "    <tr>\n",
       "      <td>3</td>\n",
       "      <td>0</td>\n",
       "      <td>15878504</td>\n",
       "      <td>24619441</td>\n",
       "      <td>0</td>\n",
       "      <td>0</td>\n",
       "      <td>0</td>\n",
       "      <td>0</td>\n",
       "      <td>0</td>\n",
       "      <td>0</td>\n",
       "      <td>0</td>\n",
       "      <td>...</td>\n",
       "      <td>cg</td>\n",
       "      <td>Other</td>\n",
       "      <td>0</td>\n",
       "      <td>0</td>\n",
       "      <td>0</td>\n",
       "      <td>5</td>\n",
       "      <td>40.986717</td>\n",
       "      <td>322.235081</td>\n",
       "      <td>3.659722</td>\n",
       "      <td>161</td>\n",
       "    </tr>\n",
       "    <tr>\n",
       "      <td>4</td>\n",
       "      <td>0</td>\n",
       "      <td>15878504</td>\n",
       "      <td>12664705</td>\n",
       "      <td>0</td>\n",
       "      <td>0</td>\n",
       "      <td>0</td>\n",
       "      <td>0</td>\n",
       "      <td>0</td>\n",
       "      <td>0</td>\n",
       "      <td>0</td>\n",
       "      <td>...</td>\n",
       "      <td>cg</td>\n",
       "      <td>Cancer</td>\n",
       "      <td>1</td>\n",
       "      <td>0</td>\n",
       "      <td>0</td>\n",
       "      <td>17</td>\n",
       "      <td>1.863397</td>\n",
       "      <td>504.827442</td>\n",
       "      <td>273.693750</td>\n",
       "      <td>2765</td>\n",
       "    </tr>\n",
       "  </tbody>\n",
       "</table>\n",
       "<p>5 rows × 22 columns</p>\n",
       "</div>"
      ],
      "text/plain": [
       "   choice_id  initiator_user_id  candidate_user_id  is_target  \\\n",
       "0          0           15878504            5758186          1   \n",
       "1          0           15878504            8745849          0   \n",
       "2          0           15878504            7054610          0   \n",
       "3          0           15878504           24619441          0   \n",
       "4          0           15878504           12664705          0   \n",
       "\n",
       "   target_outdegree  target_indegree  target_has_indegree  is_reciprocal  \\\n",
       "0                10               41                    1              0   \n",
       "1                 0                1                    1              0   \n",
       "2                 3                3                    1              0   \n",
       "3                 0                0                    0              0   \n",
       "4                 0                0                    0              0   \n",
       "\n",
       "   is_weakly_connected  is_friend_of_friend  ...  initiator_author_type  \\\n",
       "0                    1                    0  ...                     cg   \n",
       "1                    1                    0  ...                     cg   \n",
       "2                    1                    0  ...                     cg   \n",
       "3                    0                    0  ...                     cg   \n",
       "4                    0                    0  ...                     cg   \n",
       "\n",
       "  target_health_condition is_health_condition_shared  \\\n",
       "0                  Cancer                          1   \n",
       "1   Cardiovascular/Stroke                          0   \n",
       "2  Neurological Condition                          0   \n",
       "3                   Other                          0   \n",
       "4                  Cancer                          1   \n",
       "\n",
       "  target_is_multisite_author  target_is_mixedsite_author  target_update_count  \\\n",
       "0                          0                           0                  628   \n",
       "1                          0                           0                   17   \n",
       "2                          0                           0                   11   \n",
       "3                          0                           0                    5   \n",
       "4                          0                           0                   17   \n",
       "\n",
       "   target_update_frequency  target_days_since_most_recent_update  \\\n",
       "0                10.271729                              0.000000   \n",
       "1                 2.249373                           1132.466331   \n",
       "2                 5.774769                           1446.314942   \n",
       "3                40.986717                            322.235081   \n",
       "4                 1.863397                            504.827442   \n",
       "\n",
       "   target_days_since_first_update  target_site_visits  \n",
       "0                     1118.324664              118271  \n",
       "1                      226.729861                1962  \n",
       "2                       57.145139                 440  \n",
       "3                        3.659722                 161  \n",
       "4                      273.693750                2765  \n",
       "\n",
       "[5 rows x 22 columns]"
      ]
     },
     "execution_count": 8,
     "metadata": {},
     "output_type": "execute_result"
    }
   ],
   "source": [
    "train.head()"
   ]
  },
  {
   "cell_type": "code",
   "execution_count": 12,
   "metadata": {},
   "outputs": [
    {
     "data": {
      "image/png": "[encoded data removed]",
      "text/plain": [
       "<Figure size 432x288 with 1 Axes>"
      ]
     },
     "metadata": {
      "needs_background": "light"
     },
     "output_type": "display_data"
    }
   ],
   "source": [
    "plt.hist(test[test.is_target == 0].target_days_since_most_recent_update, bins=50)\n",
    "plt.hist(test[test.is_target == 1].target_days_since_most_recent_update, bins=50)\n",
    "plt.show()"
   ]
  },
  {
   "cell_type": "code",
   "execution_count": 42,
   "metadata": {},
   "outputs": [
    {
     "data": {
      "text/plain": [
       "(22371, 27601, 0.8105141118075432)"
      ]
     },
     "execution_count": 42,
     "metadata": {},
     "output_type": "execute_result"
    }
   ],
   "source": [
    "correct_count = 0\n",
    "total = 0\n",
    "for key, group in test.groupby(by='choice_id'):\n",
    "    true_days_since_most_recent_update = group.target_days_since_most_recent_update.iloc[0]\n",
    "    total += 1\n",
    "    if np.min(group.target_days_since_most_recent_update) == true_days_since_most_recent_update:\n",
    "        correct_count += 1\n",
    "correct_count, total, correct_count / total"
   ]
  },
  {
   "cell_type": "code",
   "execution_count": 43,
   "metadata": {},
   "outputs": [
    {
     "data": {
      "text/plain": [
       "(18723, 23953, 0.7816557424957208)"
      ]
     },
     "execution_count": 43,
     "metadata": {},
     "output_type": "execute_result"
    }
   ],
   "source": [
    "correct_count = 0\n",
    "total = 0\n",
    "for key, group in test.groupby(by='choice_id'):\n",
    "    true_days_since_most_recent_update = group.target_days_since_most_recent_update.iloc[0]\n",
    "    if true_days_since_most_recent_update <= 0:\n",
    "        continue\n",
    "    total += 1\n",
    "    if np.min(group.target_days_since_most_recent_update) == true_days_since_most_recent_update:\n",
    "        correct_count += 1\n",
    "correct_count, total, correct_count / total"
   ]
  },
  {
   "cell_type": "code",
   "execution_count": 23,
   "metadata": {},
   "outputs": [
    {
     "data": {
      "text/plain": [
       "(18723, 23953, 0.7816557424957208)"
      ]
     },
     "execution_count": 23,
     "metadata": {},
     "output_type": "execute_result"
    }
   ],
   "source": [
    "correct_count, total, correct_count / total"
   ]
  },
  {
   "cell_type": "code",
   "execution_count": 15,
   "metadata": {},
   "outputs": [
    {
     "data": {
      "text/plain": [
       "0.003004234857323338"
      ]
     },
     "execution_count": 15,
     "metadata": {},
     "output_type": "execute_result"
    }
   ],
   "source": [
    "# a small percent of these values are < 0... why?\n",
    "np.sum(train.target_days_since_most_recent_update < 0) / len(train)"
   ]
  },
  {
   "cell_type": "code",
   "execution_count": 16,
   "metadata": {},
   "outputs": [
    {
     "data": {
      "text/plain": [
       "0.0026868591717691386"
      ]
     },
     "execution_count": 16,
     "metadata": {},
     "output_type": "execute_result"
    }
   ],
   "source": [
    "np.sum(test.target_days_since_most_recent_update < 0) / len(test)"
   ]
  },
  {
   "cell_type": "code",
   "execution_count": 20,
   "metadata": {},
   "outputs": [
    {
     "data": {
      "text/plain": [
       "(0.00281472982641597, 0.9941810353162607)"
      ]
     },
     "execution_count": 20,
     "metadata": {},
     "output_type": "execute_result"
    }
   ],
   "source": [
    "np.sum(np.isclose(train.target_days_since_most_recent_update, 0)) / len(train),\\\n",
    "np.sum(train.target_days_since_most_recent_update > 0) / len(train)"
   ]
  },
  {
   "cell_type": "code",
   "execution_count": 21,
   "metadata": {},
   "outputs": [
    {
     "data": {
      "text/plain": [
       "10.95890410958904"
      ]
     },
     "execution_count": 21,
     "metadata": {},
     "output_type": "execute_result"
    }
   ],
   "source": [
    "4000 / 365"
   ]
  },
  {
   "cell_type": "markdown",
   "metadata": {},
   "source": [
    "## Pan et al. 2017 correlation between in-degree and out-degree\n",
    "\n",
    "Quick and dirty analysis."
   ]
  },
  {
   "cell_type": "code",
   "execution_count": 24,
   "metadata": {},
   "outputs": [
    {
     "data": {
      "text/plain": [
       "14812407"
      ]
     },
     "execution_count": 24,
     "metadata": {},
     "output_type": "execute_result"
    }
   ],
   "source": [
    "# read the user->user interactions dataframe\n",
    "metadata_dir = \"/home/srivbane/shared/caringbridge/data/projects/sna-social-support/user_metadata\"\n",
    "u2u_df = pd.read_feather(os.path.join(metadata_dir,\"u2u_df.feather\"))\n",
    "len(u2u_df)"
   ]
  },
  {
   "cell_type": "code",
   "execution_count": 25,
   "metadata": {},
   "outputs": [
    {
     "data": {
      "text/plain": [
       "362345"
      ]
     },
     "execution_count": 25,
     "metadata": {},
     "output_type": "execute_result"
    }
   ],
   "source": [
    "# load the list of valid users\n",
    "data_selection_working_dir = \"/home/srivbane/shared/caringbridge/data/projects/sna-social-support/data_selection\"\n",
    "valid_user_ids = set()\n",
    "with open(os.path.join(data_selection_working_dir, \"valid_user_ids.txt\"), 'r') as infile:\n",
    "    for line in infile:\n",
    "        user_id = line.strip()\n",
    "        if user_id == \"\":\n",
    "            continue\n",
    "        else:\n",
    "            valid_user_ids.add(int(user_id))\n",
    "len(valid_user_ids)"
   ]
  },
  {
   "cell_type": "code",
   "execution_count": 26,
   "metadata": {},
   "outputs": [
    {
     "data": {
      "text/plain": [
       "340414"
      ]
     },
     "execution_count": 26,
     "metadata": {},
     "output_type": "execute_result"
    }
   ],
   "source": [
    "# load the list of valid sites\n",
    "data_selection_working_dir = \"/home/srivbane/shared/caringbridge/data/projects/sna-social-support/data_selection\"\n",
    "valid_site_ids = set()\n",
    "with open(os.path.join(data_selection_working_dir, \"valid_site_ids.txt\"), 'r') as infile:\n",
    "    for line in infile:\n",
    "        site_id = line.strip()\n",
    "        if site_id == \"\":\n",
    "            continue\n",
    "        else:\n",
    "            valid_site_ids.add(int(site_id))\n",
    "len(valid_site_ids)"
   ]
  },
  {
   "cell_type": "code",
   "execution_count": 27,
   "metadata": {},
   "outputs": [
    {
     "data": {
      "text/plain": [
       "(10441676, 0.704927700136784)"
      ]
     },
     "execution_count": 27,
     "metadata": {},
     "output_type": "execute_result"
    }
   ],
   "source": [
    "valid_u2u_df = u2u_df[(u2u_df.from_user_id.isin(valid_user_ids))&(u2u_df.to_user_id.isin(valid_user_ids))]\n",
    "len(valid_u2u_df), len(valid_u2u_df) / len(u2u_df)"
   ]
  },
  {
   "cell_type": "code",
   "execution_count": 28,
   "metadata": {},
   "outputs": [],
   "source": [
    "outdegrees = valid_u2u_df.groupby(by='from_user_id').count()"
   ]
  },
  {
   "cell_type": "code",
   "execution_count": 29,
   "metadata": {},
   "outputs": [],
   "source": [
    "indegrees = valid_u2u_df.groupby(by='to_user_id').count()"
   ]
  },
  {
   "cell_type": "code",
   "execution_count": 31,
   "metadata": {},
   "outputs": [],
   "source": [
    "degrees = pd.merge(outdegrees.reset_index(), indegrees.reset_index(), left_on='from_user_id', right_on='to_user_id', validate='one_to_one')"
   ]
  },
  {
   "cell_type": "code",
   "execution_count": 33,
   "metadata": {},
   "outputs": [],
   "source": [
    "degrees['indegree'] = degrees.created_at_y\n",
    "degrees['outdegree'] = degrees.created_at_x"
   ]
  },
  {
   "cell_type": "code",
   "execution_count": 39,
   "metadata": {},
   "outputs": [
    {
     "data": {
      "text/plain": [
       "(0.4050065375072285, 0.0)"
      ]
     },
     "execution_count": 39,
     "metadata": {},
     "output_type": "execute_result"
    }
   ],
   "source": [
    "# this isn't actually indegree and outdegree, this is \"in-replies\" vs \"out-replies\"\n",
    "# this correlation is a bit lower than that found in Pan et al. 2017\n",
    "scipy.stats.pearsonr(degrees.indegree, degrees.outdegree)"
   ]
  },
  {
   "cell_type": "code",
   "execution_count": 40,
   "metadata": {},
   "outputs": [],
   "source": [
    "inits_df = valid_u2u_df.sort_values(by='created_at', ascending=True).drop_duplicates(subset=['from_user_id', 'to_user_id'], keep='first')\n",
    "outdegrees = inits_df.groupby(by='from_user_id').count()\n",
    "indegrees = inits_df.groupby(by='to_user_id').count()\n",
    "degrees = pd.merge(outdegrees.reset_index(), indegrees.reset_index(), left_on='from_user_id', right_on='to_user_id', validate='one_to_one')\n",
    "degrees['indegree'] = degrees.created_at_y\n",
    "degrees['outdegree'] = degrees.created_at_x"
   ]
  },
  {
   "cell_type": "code",
   "execution_count": 41,
   "metadata": {},
   "outputs": [
    {
     "data": {
      "text/plain": [
       "(0.46808401534183214, 0.0)"
      ]
     },
     "execution_count": 41,
     "metadata": {},
     "output_type": "execute_result"
    }
   ],
   "source": [
    "scipy.stats.pearsonr(degrees.indegree, degrees.outdegree)"
   ]
  },
  {
   "cell_type": "code",
   "execution_count": null,
   "metadata": {},
   "outputs": [],
   "source": []
  }
 ],
 "metadata": {
  "kernelspec": {
   "display_name": "Python (shared-conda)",
   "language": "python",
   "name": "shared-conda"
  },
  "language_info": {
   "codemirror_mode": {
    "name": "ipython",
    "version": 3
   },
   "file_extension": ".py",
   "mimetype": "text/x-python",
   "name": "python",
   "nbconvert_exporter": "python",
   "pygments_lexer": "ipython3",
   "version": "3.7.3"
  }
 },
 "nbformat": 4,
 "nbformat_minor": 2
}
