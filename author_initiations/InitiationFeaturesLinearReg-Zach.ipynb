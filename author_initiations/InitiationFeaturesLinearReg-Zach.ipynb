{
 "cells": [
  {
   "cell_type": "code",
   "execution_count": 1,
   "metadata": {},
   "outputs": [],
   "source": [
    "import os\n",
    "import pandas as pd\n",
    "import numpy as np\n",
    "import matplotlib.pyplot as plt\n",
    "import statsmodels.api as sm\n",
    "import statsmodels.formula.api as smf\n",
    "import scipy.stats\n",
    "import statsmodels.stats\n",
    "from datetime import datetime\n",
    "from IPython.core.display import display, HTML"
   ]
  },
  {
   "cell_type": "code",
   "execution_count": 2,
   "metadata": {},
   "outputs": [],
   "source": [
    "from stargazer.stargazer import Stargazer"
   ]
  },
  {
   "cell_type": "code",
   "execution_count": 3,
   "metadata": {},
   "outputs": [],
   "source": [
    "%reload_ext autoreload\n",
    "%autoreload 2\n",
    "%matplotlib inline"
   ]
  },
  {
   "cell_type": "code",
   "execution_count": 4,
   "metadata": {},
   "outputs": [
    {
     "data": {
      "text/plain": [
       "'/panfs/roc/groups/3/srivbane/levon003/repos/sna-social-support/figures'"
      ]
     },
     "execution_count": 4,
     "metadata": {},
     "output_type": "execute_result"
    }
   ],
   "source": [
    "git_root_dir = !git rev-parse --show-toplevel\n",
    "git_root_dir = git_root_dir[0]\n",
    "figures_dir = os.path.join(git_root_dir, 'figures')\n",
    "figures_dir"
   ]
  },
  {
   "cell_type": "code",
   "execution_count": 7,
   "metadata": {},
   "outputs": [
    {
     "data": {
      "text/html": [
       "<div>\n",
       "<style scoped>\n",
       "    .dataframe tbody tr th:only-of-type {\n",
       "        vertical-align: middle;\n",
       "    }\n",
       "\n",
       "    .dataframe tbody tr th {\n",
       "        vertical-align: top;\n",
       "    }\n",
       "\n",
       "    .dataframe thead th {\n",
       "        text-align: right;\n",
       "    }\n",
       "</style>\n",
       "<table border=\"1\" class=\"dataframe\">\n",
       "  <thead>\n",
       "    <tr style=\"text-align: right;\">\n",
       "      <th></th>\n",
       "      <th>user_id</th>\n",
       "      <th>months_before_initiation</th>\n",
       "      <th>posts_per_month</th>\n",
       "      <th>num_ints_received</th>\n",
       "      <th>num_ints_pre_init</th>\n",
       "      <th>is_first_initiation_pre_interaction</th>\n",
       "      <th>first_int_to_first_update</th>\n",
       "      <th>is_first_initiation_pre_authorship</th>\n",
       "      <th>has_received_int</th>\n",
       "      <th>first_int_received_to_first_init</th>\n",
       "      <th>recent_int_received_to_first_init</th>\n",
       "      <th>num_ints_post_init</th>\n",
       "      <th>assigned_health_cond</th>\n",
       "      <th>user_author_type</th>\n",
       "      <th>is_multiauthor</th>\n",
       "      <th>will_become_multiauthor</th>\n",
       "    </tr>\n",
       "  </thead>\n",
       "  <tbody>\n",
       "    <tr>\n",
       "      <th>0</th>\n",
       "      <td>27800665</td>\n",
       "      <td>-5.067508</td>\n",
       "      <td>-0.000000</td>\n",
       "      <td>0</td>\n",
       "      <td>0</td>\n",
       "      <td>0</td>\n",
       "      <td>-540.776848</td>\n",
       "      <td>True</td>\n",
       "      <td>0</td>\n",
       "      <td>0.000000</td>\n",
       "      <td>0.000000</td>\n",
       "      <td>0</td>\n",
       "      <td>Injury</td>\n",
       "      <td>cg</td>\n",
       "      <td>0</td>\n",
       "      <td>0</td>\n",
       "    </tr>\n",
       "    <tr>\n",
       "      <th>1</th>\n",
       "      <td>11120609</td>\n",
       "      <td>38.489169</td>\n",
       "      <td>1.896637</td>\n",
       "      <td>17</td>\n",
       "      <td>17</td>\n",
       "      <td>0</td>\n",
       "      <td>0.307964</td>\n",
       "      <td>False</td>\n",
       "      <td>1</td>\n",
       "      <td>38.181205</td>\n",
       "      <td>31.053977</td>\n",
       "      <td>0</td>\n",
       "      <td>Injury</td>\n",
       "      <td>cg</td>\n",
       "      <td>0</td>\n",
       "      <td>0</td>\n",
       "    </tr>\n",
       "    <tr>\n",
       "      <th>2</th>\n",
       "      <td>3336096</td>\n",
       "      <td>68.557365</td>\n",
       "      <td>0.495935</td>\n",
       "      <td>3</td>\n",
       "      <td>3</td>\n",
       "      <td>0</td>\n",
       "      <td>0.029827</td>\n",
       "      <td>False</td>\n",
       "      <td>1</td>\n",
       "      <td>68.527538</td>\n",
       "      <td>63.483461</td>\n",
       "      <td>0</td>\n",
       "      <td>None</td>\n",
       "      <td>cg</td>\n",
       "      <td>0</td>\n",
       "      <td>0</td>\n",
       "    </tr>\n",
       "    <tr>\n",
       "      <th>3</th>\n",
       "      <td>21214391</td>\n",
       "      <td>6.345764</td>\n",
       "      <td>2.206196</td>\n",
       "      <td>0</td>\n",
       "      <td>0</td>\n",
       "      <td>0</td>\n",
       "      <td>-529.367272</td>\n",
       "      <td>False</td>\n",
       "      <td>0</td>\n",
       "      <td>0.000000</td>\n",
       "      <td>0.000000</td>\n",
       "      <td>0</td>\n",
       "      <td>Cancer</td>\n",
       "      <td>mixed</td>\n",
       "      <td>0</td>\n",
       "      <td>0</td>\n",
       "    </tr>\n",
       "    <tr>\n",
       "      <th>4</th>\n",
       "      <td>26867927</td>\n",
       "      <td>5.088479</td>\n",
       "      <td>0.196522</td>\n",
       "      <td>6</td>\n",
       "      <td>4</td>\n",
       "      <td>0</td>\n",
       "      <td>0.007379</td>\n",
       "      <td>False</td>\n",
       "      <td>1</td>\n",
       "      <td>5.081100</td>\n",
       "      <td>-4.979513</td>\n",
       "      <td>2</td>\n",
       "      <td>None</td>\n",
       "      <td>p</td>\n",
       "      <td>0</td>\n",
       "      <td>0</td>\n",
       "    </tr>\n",
       "  </tbody>\n",
       "</table>\n",
       "</div>"
      ],
      "text/plain": [
       "    user_id  months_before_initiation  posts_per_month  num_ints_received  \\\n",
       "0  27800665                 -5.067508        -0.000000                  0   \n",
       "1  11120609                 38.489169         1.896637                 17   \n",
       "2   3336096                 68.557365         0.495935                  3   \n",
       "3  21214391                  6.345764         2.206196                  0   \n",
       "4  26867927                  5.088479         0.196522                  6   \n",
       "\n",
       "   num_ints_pre_init  is_first_initiation_pre_interaction  \\\n",
       "0                  0                                    0   \n",
       "1                 17                                    0   \n",
       "2                  3                                    0   \n",
       "3                  0                                    0   \n",
       "4                  4                                    0   \n",
       "\n",
       "   first_int_to_first_update  is_first_initiation_pre_authorship  \\\n",
       "0                -540.776848                                True   \n",
       "1                   0.307964                               False   \n",
       "2                   0.029827                               False   \n",
       "3                -529.367272                               False   \n",
       "4                   0.007379                               False   \n",
       "\n",
       "   has_received_int  first_int_received_to_first_init  \\\n",
       "0                 0                          0.000000   \n",
       "1                 1                         38.181205   \n",
       "2                 1                         68.527538   \n",
       "3                 0                          0.000000   \n",
       "4                 1                          5.081100   \n",
       "\n",
       "   recent_int_received_to_first_init  num_ints_post_init assigned_health_cond  \\\n",
       "0                           0.000000                   0               Injury   \n",
       "1                          31.053977                   0               Injury   \n",
       "2                          63.483461                   0                 None   \n",
       "3                           0.000000                   0               Cancer   \n",
       "4                          -4.979513                   2                 None   \n",
       "\n",
       "  user_author_type  is_multiauthor  will_become_multiauthor  \n",
       "0               cg               0                        0  \n",
       "1               cg               0                        0  \n",
       "2               cg               0                        0  \n",
       "3            mixed               0                        0  \n",
       "4                p               0                        0  "
      ]
     },
     "execution_count": 7,
     "metadata": {},
     "output_type": "execute_result"
    }
   ],
   "source": [
    "init_dir = '/home/lana/shared/caringbridge/data/derived'\n",
    "init_filepath = os.path.join(init_dir, \"initiation_features.feather\")\n",
    "init_df = pd.read_feather(init_filepath)\n",
    "init_df.head()"
   ]
  },
  {
   "cell_type": "code",
   "execution_count": 8,
   "metadata": {},
   "outputs": [
    {
     "data": {
      "text/plain": [
       "26126"
      ]
     },
     "execution_count": 8,
     "metadata": {},
     "output_type": "execute_result"
    }
   ],
   "source": [
    "len(init_df)"
   ]
  },
  {
   "cell_type": "code",
   "execution_count": 6,
   "metadata": {
    "scrolled": false
   },
   "outputs": [
    {
     "data": {
      "text/html": [
       "<div>\n",
       "<style scoped>\n",
       "    .dataframe tbody tr th:only-of-type {\n",
       "        vertical-align: middle;\n",
       "    }\n",
       "\n",
       "    .dataframe tbody tr th {\n",
       "        vertical-align: top;\n",
       "    }\n",
       "\n",
       "    .dataframe thead th {\n",
       "        text-align: right;\n",
       "    }\n",
       "</style>\n",
       "<table border=\"1\" class=\"dataframe\">\n",
       "  <thead>\n",
       "    <tr style=\"text-align: right;\">\n",
       "      <th></th>\n",
       "      <th>user_id</th>\n",
       "      <th>months_before_initiation</th>\n",
       "      <th>posts_per_month</th>\n",
       "      <th>num_ints_received</th>\n",
       "      <th>num_ints_pre_init</th>\n",
       "      <th>is_first_initiation_pre_interaction</th>\n",
       "      <th>first_int_to_first_update</th>\n",
       "      <th>is_first_initiation_pre_authorship</th>\n",
       "      <th>has_received_int</th>\n",
       "      <th>first_int_received_to_first_init</th>\n",
       "      <th>recent_int_received_to_first_init</th>\n",
       "      <th>num_ints_post_init</th>\n",
       "      <th>is_multiauthor</th>\n",
       "      <th>will_become_multiauthor</th>\n",
       "    </tr>\n",
       "  </thead>\n",
       "  <tbody>\n",
       "    <tr>\n",
       "      <td>user_id</td>\n",
       "      <td>1.000000</td>\n",
       "      <td>-0.743882</td>\n",
       "      <td>0.032253</td>\n",
       "      <td>0.037191</td>\n",
       "      <td>0.000243</td>\n",
       "      <td>0.095790</td>\n",
       "      <td>-0.070696</td>\n",
       "      <td>0.243685</td>\n",
       "      <td>-0.032371</td>\n",
       "      <td>-0.493861</td>\n",
       "      <td>-0.429364</td>\n",
       "      <td>0.061191</td>\n",
       "      <td>-0.095876</td>\n",
       "      <td>-0.053866</td>\n",
       "    </tr>\n",
       "    <tr>\n",
       "      <td>months_before_initiation</td>\n",
       "      <td>-0.743882</td>\n",
       "      <td>1.000000</td>\n",
       "      <td>-0.033857</td>\n",
       "      <td>-0.029032</td>\n",
       "      <td>0.016017</td>\n",
       "      <td>-0.084444</td>\n",
       "      <td>0.186067</td>\n",
       "      <td>-0.479924</td>\n",
       "      <td>0.134120</td>\n",
       "      <td>0.603334</td>\n",
       "      <td>0.504691</td>\n",
       "      <td>-0.065319</td>\n",
       "      <td>0.130917</td>\n",
       "      <td>0.062241</td>\n",
       "    </tr>\n",
       "    <tr>\n",
       "      <td>posts_per_month</td>\n",
       "      <td>0.032253</td>\n",
       "      <td>-0.033857</td>\n",
       "      <td>1.000000</td>\n",
       "      <td>0.010066</td>\n",
       "      <td>-0.000654</td>\n",
       "      <td>0.088498</td>\n",
       "      <td>0.028497</td>\n",
       "      <td>-0.032347</td>\n",
       "      <td>0.029208</td>\n",
       "      <td>-0.029662</td>\n",
       "      <td>-0.030657</td>\n",
       "      <td>0.017341</td>\n",
       "      <td>-0.005654</td>\n",
       "      <td>-0.001306</td>\n",
       "    </tr>\n",
       "    <tr>\n",
       "      <td>num_ints_received</td>\n",
       "      <td>0.037191</td>\n",
       "      <td>-0.029032</td>\n",
       "      <td>0.010066</td>\n",
       "      <td>1.000000</td>\n",
       "      <td>0.811168</td>\n",
       "      <td>-0.013271</td>\n",
       "      <td>0.191021</td>\n",
       "      <td>-0.106889</td>\n",
       "      <td>0.192385</td>\n",
       "      <td>0.028341</td>\n",
       "      <td>-0.212830</td>\n",
       "      <td>0.773841</td>\n",
       "      <td>0.002622</td>\n",
       "      <td>0.002412</td>\n",
       "    </tr>\n",
       "    <tr>\n",
       "      <td>num_ints_pre_init</td>\n",
       "      <td>0.000243</td>\n",
       "      <td>0.016017</td>\n",
       "      <td>-0.000654</td>\n",
       "      <td>0.811168</td>\n",
       "      <td>1.000000</td>\n",
       "      <td>-0.034253</td>\n",
       "      <td>0.159608</td>\n",
       "      <td>-0.089348</td>\n",
       "      <td>0.160814</td>\n",
       "      <td>0.080649</td>\n",
       "      <td>-0.100043</td>\n",
       "      <td>0.257306</td>\n",
       "      <td>0.011524</td>\n",
       "      <td>0.016051</td>\n",
       "    </tr>\n",
       "    <tr>\n",
       "      <td>is_first_initiation_pre_interaction</td>\n",
       "      <td>0.095790</td>\n",
       "      <td>-0.084444</td>\n",
       "      <td>0.088498</td>\n",
       "      <td>-0.013271</td>\n",
       "      <td>-0.034253</td>\n",
       "      <td>1.000000</td>\n",
       "      <td>0.186297</td>\n",
       "      <td>-0.100795</td>\n",
       "      <td>0.181418</td>\n",
       "      <td>-0.143039</td>\n",
       "      <td>-0.143727</td>\n",
       "      <td>0.015170</td>\n",
       "      <td>-0.010739</td>\n",
       "      <td>-0.014227</td>\n",
       "    </tr>\n",
       "    <tr>\n",
       "      <td>first_int_to_first_update</td>\n",
       "      <td>-0.070696</td>\n",
       "      <td>0.186067</td>\n",
       "      <td>0.028497</td>\n",
       "      <td>0.191021</td>\n",
       "      <td>0.159608</td>\n",
       "      <td>0.186297</td>\n",
       "      <td>1.000000</td>\n",
       "      <td>-0.588255</td>\n",
       "      <td>0.997435</td>\n",
       "      <td>0.474414</td>\n",
       "      <td>0.137955</td>\n",
       "      <td>0.142776</td>\n",
       "      <td>0.059270</td>\n",
       "      <td>0.008104</td>\n",
       "    </tr>\n",
       "    <tr>\n",
       "      <td>is_first_initiation_pre_authorship</td>\n",
       "      <td>0.243685</td>\n",
       "      <td>-0.479924</td>\n",
       "      <td>-0.032347</td>\n",
       "      <td>-0.106889</td>\n",
       "      <td>-0.089348</td>\n",
       "      <td>-0.100795</td>\n",
       "      <td>-0.588255</td>\n",
       "      <td>1.000000</td>\n",
       "      <td>-0.555598</td>\n",
       "      <td>-0.265117</td>\n",
       "      <td>-0.077382</td>\n",
       "      <td>-0.079853</td>\n",
       "      <td>-0.077805</td>\n",
       "      <td>-0.006539</td>\n",
       "    </tr>\n",
       "    <tr>\n",
       "      <td>has_received_int</td>\n",
       "      <td>-0.032371</td>\n",
       "      <td>0.134120</td>\n",
       "      <td>0.029208</td>\n",
       "      <td>0.192385</td>\n",
       "      <td>0.160814</td>\n",
       "      <td>0.181418</td>\n",
       "      <td>0.997435</td>\n",
       "      <td>-0.555598</td>\n",
       "      <td>1.000000</td>\n",
       "      <td>0.477175</td>\n",
       "      <td>0.139278</td>\n",
       "      <td>0.143724</td>\n",
       "      <td>0.052533</td>\n",
       "      <td>0.005106</td>\n",
       "    </tr>\n",
       "    <tr>\n",
       "      <td>first_int_received_to_first_init</td>\n",
       "      <td>-0.493861</td>\n",
       "      <td>0.603334</td>\n",
       "      <td>-0.029662</td>\n",
       "      <td>0.028341</td>\n",
       "      <td>0.080649</td>\n",
       "      <td>-0.143039</td>\n",
       "      <td>0.474414</td>\n",
       "      <td>-0.265117</td>\n",
       "      <td>0.477175</td>\n",
       "      <td>1.000000</td>\n",
       "      <td>0.756256</td>\n",
       "      <td>-0.040516</td>\n",
       "      <td>0.089913</td>\n",
       "      <td>0.045412</td>\n",
       "    </tr>\n",
       "    <tr>\n",
       "      <td>recent_int_received_to_first_init</td>\n",
       "      <td>-0.429364</td>\n",
       "      <td>0.504691</td>\n",
       "      <td>-0.030657</td>\n",
       "      <td>-0.212830</td>\n",
       "      <td>-0.100043</td>\n",
       "      <td>-0.143727</td>\n",
       "      <td>0.137955</td>\n",
       "      <td>-0.077382</td>\n",
       "      <td>0.139278</td>\n",
       "      <td>0.756256</td>\n",
       "      <td>1.000000</td>\n",
       "      <td>-0.243322</td>\n",
       "      <td>0.039361</td>\n",
       "      <td>0.021391</td>\n",
       "    </tr>\n",
       "    <tr>\n",
       "      <td>num_ints_post_init</td>\n",
       "      <td>0.061191</td>\n",
       "      <td>-0.065319</td>\n",
       "      <td>0.017341</td>\n",
       "      <td>0.773841</td>\n",
       "      <td>0.257306</td>\n",
       "      <td>0.015170</td>\n",
       "      <td>0.142776</td>\n",
       "      <td>-0.079853</td>\n",
       "      <td>0.143724</td>\n",
       "      <td>-0.040516</td>\n",
       "      <td>-0.243322</td>\n",
       "      <td>1.000000</td>\n",
       "      <td>-0.008148</td>\n",
       "      <td>-0.013399</td>\n",
       "    </tr>\n",
       "    <tr>\n",
       "      <td>is_multiauthor</td>\n",
       "      <td>-0.095876</td>\n",
       "      <td>0.130917</td>\n",
       "      <td>-0.005654</td>\n",
       "      <td>0.002622</td>\n",
       "      <td>0.011524</td>\n",
       "      <td>-0.010739</td>\n",
       "      <td>0.059270</td>\n",
       "      <td>-0.077805</td>\n",
       "      <td>0.052533</td>\n",
       "      <td>0.089913</td>\n",
       "      <td>0.039361</td>\n",
       "      <td>-0.008148</td>\n",
       "      <td>1.000000</td>\n",
       "      <td>0.624823</td>\n",
       "    </tr>\n",
       "    <tr>\n",
       "      <td>will_become_multiauthor</td>\n",
       "      <td>-0.053866</td>\n",
       "      <td>0.062241</td>\n",
       "      <td>-0.001306</td>\n",
       "      <td>0.002412</td>\n",
       "      <td>0.016051</td>\n",
       "      <td>-0.014227</td>\n",
       "      <td>0.008104</td>\n",
       "      <td>-0.006539</td>\n",
       "      <td>0.005106</td>\n",
       "      <td>0.045412</td>\n",
       "      <td>0.021391</td>\n",
       "      <td>-0.013399</td>\n",
       "      <td>0.624823</td>\n",
       "      <td>1.000000</td>\n",
       "    </tr>\n",
       "  </tbody>\n",
       "</table>\n",
       "</div>"
      ],
      "text/plain": [
       "                                      user_id  months_before_initiation  \\\n",
       "user_id                              1.000000                 -0.743882   \n",
       "months_before_initiation            -0.743882                  1.000000   \n",
       "posts_per_month                      0.032253                 -0.033857   \n",
       "num_ints_received                    0.037191                 -0.029032   \n",
       "num_ints_pre_init                    0.000243                  0.016017   \n",
       "is_first_initiation_pre_interaction  0.095790                 -0.084444   \n",
       "first_int_to_first_update           -0.070696                  0.186067   \n",
       "is_first_initiation_pre_authorship   0.243685                 -0.479924   \n",
       "has_received_int                    -0.032371                  0.134120   \n",
       "first_int_received_to_first_init    -0.493861                  0.603334   \n",
       "recent_int_received_to_first_init   -0.429364                  0.504691   \n",
       "num_ints_post_init                   0.061191                 -0.065319   \n",
       "is_multiauthor                      -0.095876                  0.130917   \n",
       "will_become_multiauthor             -0.053866                  0.062241   \n",
       "\n",
       "                                     posts_per_month  num_ints_received  \\\n",
       "user_id                                     0.032253           0.037191   \n",
       "months_before_initiation                   -0.033857          -0.029032   \n",
       "posts_per_month                             1.000000           0.010066   \n",
       "num_ints_received                           0.010066           1.000000   \n",
       "num_ints_pre_init                          -0.000654           0.811168   \n",
       "is_first_initiation_pre_interaction         0.088498          -0.013271   \n",
       "first_int_to_first_update                   0.028497           0.191021   \n",
       "is_first_initiation_pre_authorship         -0.032347          -0.106889   \n",
       "has_received_int                            0.029208           0.192385   \n",
       "first_int_received_to_first_init           -0.029662           0.028341   \n",
       "recent_int_received_to_first_init          -0.030657          -0.212830   \n",
       "num_ints_post_init                          0.017341           0.773841   \n",
       "is_multiauthor                             -0.005654           0.002622   \n",
       "will_become_multiauthor                    -0.001306           0.002412   \n",
       "\n",
       "                                     num_ints_pre_init  \\\n",
       "user_id                                       0.000243   \n",
       "months_before_initiation                      0.016017   \n",
       "posts_per_month                              -0.000654   \n",
       "num_ints_received                             0.811168   \n",
       "num_ints_pre_init                             1.000000   \n",
       "is_first_initiation_pre_interaction          -0.034253   \n",
       "first_int_to_first_update                     0.159608   \n",
       "is_first_initiation_pre_authorship           -0.089348   \n",
       "has_received_int                              0.160814   \n",
       "first_int_received_to_first_init              0.080649   \n",
       "recent_int_received_to_first_init            -0.100043   \n",
       "num_ints_post_init                            0.257306   \n",
       "is_multiauthor                                0.011524   \n",
       "will_become_multiauthor                       0.016051   \n",
       "\n",
       "                                     is_first_initiation_pre_interaction  \\\n",
       "user_id                                                         0.095790   \n",
       "months_before_initiation                                       -0.084444   \n",
       "posts_per_month                                                 0.088498   \n",
       "num_ints_received                                              -0.013271   \n",
       "num_ints_pre_init                                              -0.034253   \n",
       "is_first_initiation_pre_interaction                             1.000000   \n",
       "first_int_to_first_update                                       0.186297   \n",
       "is_first_initiation_pre_authorship                             -0.100795   \n",
       "has_received_int                                                0.181418   \n",
       "first_int_received_to_first_init                               -0.143039   \n",
       "recent_int_received_to_first_init                              -0.143727   \n",
       "num_ints_post_init                                              0.015170   \n",
       "is_multiauthor                                                 -0.010739   \n",
       "will_become_multiauthor                                        -0.014227   \n",
       "\n",
       "                                     first_int_to_first_update  \\\n",
       "user_id                                              -0.070696   \n",
       "months_before_initiation                              0.186067   \n",
       "posts_per_month                                       0.028497   \n",
       "num_ints_received                                     0.191021   \n",
       "num_ints_pre_init                                     0.159608   \n",
       "is_first_initiation_pre_interaction                   0.186297   \n",
       "first_int_to_first_update                             1.000000   \n",
       "is_first_initiation_pre_authorship                   -0.588255   \n",
       "has_received_int                                      0.997435   \n",
       "first_int_received_to_first_init                      0.474414   \n",
       "recent_int_received_to_first_init                     0.137955   \n",
       "num_ints_post_init                                    0.142776   \n",
       "is_multiauthor                                        0.059270   \n",
       "will_become_multiauthor                               0.008104   \n",
       "\n",
       "                                     is_first_initiation_pre_authorship  \\\n",
       "user_id                                                        0.243685   \n",
       "months_before_initiation                                      -0.479924   \n",
       "posts_per_month                                               -0.032347   \n",
       "num_ints_received                                             -0.106889   \n",
       "num_ints_pre_init                                             -0.089348   \n",
       "is_first_initiation_pre_interaction                           -0.100795   \n",
       "first_int_to_first_update                                     -0.588255   \n",
       "is_first_initiation_pre_authorship                             1.000000   \n",
       "has_received_int                                              -0.555598   \n",
       "first_int_received_to_first_init                              -0.265117   \n",
       "recent_int_received_to_first_init                             -0.077382   \n",
       "num_ints_post_init                                            -0.079853   \n",
       "is_multiauthor                                                -0.077805   \n",
       "will_become_multiauthor                                       -0.006539   \n",
       "\n",
       "                                     has_received_int  \\\n",
       "user_id                                     -0.032371   \n",
       "months_before_initiation                     0.134120   \n",
       "posts_per_month                              0.029208   \n",
       "num_ints_received                            0.192385   \n",
       "num_ints_pre_init                            0.160814   \n",
       "is_first_initiation_pre_interaction          0.181418   \n",
       "first_int_to_first_update                    0.997435   \n",
       "is_first_initiation_pre_authorship          -0.555598   \n",
       "has_received_int                             1.000000   \n",
       "first_int_received_to_first_init             0.477175   \n",
       "recent_int_received_to_first_init            0.139278   \n",
       "num_ints_post_init                           0.143724   \n",
       "is_multiauthor                               0.052533   \n",
       "will_become_multiauthor                      0.005106   \n",
       "\n",
       "                                     first_int_received_to_first_init  \\\n",
       "user_id                                                     -0.493861   \n",
       "months_before_initiation                                     0.603334   \n",
       "posts_per_month                                             -0.029662   \n",
       "num_ints_received                                            0.028341   \n",
       "num_ints_pre_init                                            0.080649   \n",
       "is_first_initiation_pre_interaction                         -0.143039   \n",
       "first_int_to_first_update                                    0.474414   \n",
       "is_first_initiation_pre_authorship                          -0.265117   \n",
       "has_received_int                                             0.477175   \n",
       "first_int_received_to_first_init                             1.000000   \n",
       "recent_int_received_to_first_init                            0.756256   \n",
       "num_ints_post_init                                          -0.040516   \n",
       "is_multiauthor                                               0.089913   \n",
       "will_become_multiauthor                                      0.045412   \n",
       "\n",
       "                                     recent_int_received_to_first_init  \\\n",
       "user_id                                                      -0.429364   \n",
       "months_before_initiation                                      0.504691   \n",
       "posts_per_month                                              -0.030657   \n",
       "num_ints_received                                            -0.212830   \n",
       "num_ints_pre_init                                            -0.100043   \n",
       "is_first_initiation_pre_interaction                          -0.143727   \n",
       "first_int_to_first_update                                     0.137955   \n",
       "is_first_initiation_pre_authorship                           -0.077382   \n",
       "has_received_int                                              0.139278   \n",
       "first_int_received_to_first_init                              0.756256   \n",
       "recent_int_received_to_first_init                             1.000000   \n",
       "num_ints_post_init                                           -0.243322   \n",
       "is_multiauthor                                                0.039361   \n",
       "will_become_multiauthor                                       0.021391   \n",
       "\n",
       "                                     num_ints_post_init  is_multiauthor  \\\n",
       "user_id                                        0.061191       -0.095876   \n",
       "months_before_initiation                      -0.065319        0.130917   \n",
       "posts_per_month                                0.017341       -0.005654   \n",
       "num_ints_received                              0.773841        0.002622   \n",
       "num_ints_pre_init                              0.257306        0.011524   \n",
       "is_first_initiation_pre_interaction            0.015170       -0.010739   \n",
       "first_int_to_first_update                      0.142776        0.059270   \n",
       "is_first_initiation_pre_authorship            -0.079853       -0.077805   \n",
       "has_received_int                               0.143724        0.052533   \n",
       "first_int_received_to_first_init              -0.040516        0.089913   \n",
       "recent_int_received_to_first_init             -0.243322        0.039361   \n",
       "num_ints_post_init                             1.000000       -0.008148   \n",
       "is_multiauthor                                -0.008148        1.000000   \n",
       "will_become_multiauthor                       -0.013399        0.624823   \n",
       "\n",
       "                                     will_become_multiauthor  \n",
       "user_id                                            -0.053866  \n",
       "months_before_initiation                            0.062241  \n",
       "posts_per_month                                    -0.001306  \n",
       "num_ints_received                                   0.002412  \n",
       "num_ints_pre_init                                   0.016051  \n",
       "is_first_initiation_pre_interaction                -0.014227  \n",
       "first_int_to_first_update                           0.008104  \n",
       "is_first_initiation_pre_authorship                 -0.006539  \n",
       "has_received_int                                    0.005106  \n",
       "first_int_received_to_first_init                    0.045412  \n",
       "recent_int_received_to_first_init                   0.021391  \n",
       "num_ints_post_init                                 -0.013399  \n",
       "is_multiauthor                                      0.624823  \n",
       "will_become_multiauthor                             1.000000  "
      ]
     },
     "execution_count": 6,
     "metadata": {},
     "output_type": "execute_result"
    }
   ],
   "source": [
    "init_df.corr()"
   ]
  },
  {
   "cell_type": "code",
   "execution_count": 7,
   "metadata": {},
   "outputs": [
    {
     "data": {
      "image/png": "[encoded data removed]",
      "text/plain": [
       "<Figure size 432x288 with 1 Axes>"
      ]
     },
     "metadata": {
      "needs_background": "light"
     },
     "output_type": "display_data"
    }
   ],
   "source": [
    "plt.hist(init_df.months_before_initiation, bins=100)\n",
    "plt.show()"
   ]
  },
  {
   "cell_type": "markdown",
   "metadata": {},
   "source": [
    "## Author type investigation"
   ]
  },
  {
   "cell_type": "code",
   "execution_count": 8,
   "metadata": {},
   "outputs": [],
   "source": [
    "# all values are negative when first initiation is pre-authorship\n",
    "assert np.all(init_df[init_df.is_first_initiation_pre_authorship].months_before_initiation < 0)"
   ]
  },
  {
   "cell_type": "code",
   "execution_count": 9,
   "metadata": {},
   "outputs": [],
   "source": [
    "# months_before_initiation is the number of months between first authorship and first initiation\n",
    "# months_before_authorship is the number of months between first initiation and first authorship\n",
    "init_df['months_before_authorship'] = init_df.months_before_initiation * -1"
   ]
  },
  {
   "cell_type": "code",
   "execution_count": 10,
   "metadata": {},
   "outputs": [
    {
     "data": {
      "text/plain": [
       "5439"
      ]
     },
     "execution_count": 10,
     "metadata": {},
     "output_type": "execute_result"
    }
   ],
   "source": [
    "pre_authorship_df = init_df[init_df.is_first_initiation_pre_authorship]\n",
    "len(pre_authorship_df)"
   ]
  },
  {
   "cell_type": "code",
   "execution_count": 99,
   "metadata": {},
   "outputs": [
    {
     "data": {
      "image/png": "[encoded data removed]",
      "text/plain": [
       "<Figure size 394.421x144 with 1 Axes>"
      ]
     },
     "metadata": {
      "needs_background": "light"
     },
     "output_type": "display_data"
    },
    {
     "data": {
      "text/plain": [
       "(7.768210319375487, 5.788025077160494)"
      ]
     },
     "execution_count": 99,
     "metadata": {},
     "output_type": "execute_result"
    }
   ],
   "source": [
    "fig, ax = plt.subplots(1, 1, figsize=(5.47807, 2.0))\n",
    "num_bins = 50\n",
    "base = 2\n",
    "x = np.clip(pre_authorship_df.months_before_authorship, 1 / (30 * 24), None)\n",
    "logbins = np.logspace(np.log2(min(x)), np.log2(max(x)), num=num_bins, base=base, endpoint=True)\n",
    "ax.hist(x, bins=logbins)\n",
    "plt.xscale('log', nonposx='clip', basex=base)\n",
    "\n",
    "# add semantically interpretable time moments\n",
    "alpha=0.6\n",
    "ax.axvline(1/30, color='black', alpha=alpha)\n",
    "ax.axvline(1, color='black', alpha=alpha)\n",
    "ax.axvline(12, color='black', alpha=alpha)\n",
    "text_y = ax.transData.inverted().transform((0, ax.transAxes.transform((0, 0.95))[1]))[1]  # https://matplotlib.org/users/transforms_tutorial.html\n",
    "#ax.text(1000 * 60, text_y, 'Minute', color='darkgray')\n",
    "#ax.text(1000 * 60 * 60, text_y, 'Hour', color='darkgray')\n",
    "#ax.text(1000 * 60 * 60 * 24, text_y, 'Day', color='darkgray')\n",
    "ax.text(1/30 * 1.1, text_y, 'Day', color='black', verticalalignment='center')\n",
    "ax.text(1 * 1.1, text_y, 'Month', color='black', verticalalignment='center')\n",
    "ax.text(12 * 1.1, text_y, 'Year', color='black', verticalalignment='center')\n",
    "\n",
    "plt.ylabel(\"Author count\")\n",
    "plt.xlabel(\"Months between first initiation and first authored update\")\n",
    "plt.savefig(os.path.join(figures_dir, 'init_timing_response_pre_distribution.pdf'), dpi=180, pad_inches=0)\n",
    "plt.show()\n",
    "np.mean(pre_authorship_df.months_before_authorship), np.median(pre_authorship_df.months_before_authorship)"
   ]
  },
  {
   "cell_type": "code",
   "execution_count": 11,
   "metadata": {},
   "outputs": [
    {
     "data": {
      "text/plain": [
       "(6.7805679878647585,\n",
       " 8.063777128268308,\n",
       " 1.2832091404035495,\n",
       " Ttest_indResult(statistic=-5.314935102443531, pvalue=1.20202735177626e-07),\n",
       " 1100,\n",
       " 4013,\n",
       " 0.20224305938591652,\n",
       " 0.7378194521051664)"
      ]
     },
     "execution_count": 11,
     "metadata": {},
     "output_type": "execute_result"
    }
   ],
   "source": [
    "sample1 = pre_authorship_df[pre_authorship_df.user_author_type == 'p'].months_before_authorship\n",
    "sample2 = pre_authorship_df[pre_authorship_df.user_author_type == 'cg'].months_before_authorship\n",
    "\n",
    "np.mean(sample1), \\\n",
    "np.mean(sample2), \\\n",
    "np.mean(sample2) - np.mean(sample1), \\\n",
    "scipy.stats.ttest_ind(sample1, sample2, equal_var=False), \\\n",
    "len(sample1), len(sample2), \\\n",
    "len(sample1) / len(pre_authorship_df), len(sample2) / len(pre_authorship_df)"
   ]
  },
  {
   "cell_type": "code",
   "execution_count": 12,
   "metadata": {},
   "outputs": [],
   "source": [
    "# among CB users who will become authors, \n",
    "# patients start sites on average 1.2 months more rapidly relative to caregivers"
   ]
  },
  {
   "cell_type": "code",
   "execution_count": 13,
   "metadata": {},
   "outputs": [
    {
     "name": "stderr",
     "output_type": "stream",
     "text": [
      "/home/srivbane/shared/anaconda3/lib/python3.7/site-packages/statsmodels/base/data.py:480: FutureWarning: \n",
      ".ix is deprecated. Please use\n",
      ".loc for label based indexing or\n",
      ".iloc for positional indexing\n",
      "\n",
      "See the documentation here:\n",
      "http://pandas.pydata.org/pandas-docs/stable/user_guide/indexing.html#ix-indexer-is-deprecated\n",
      "  if hasattr(x, 'ix'):\n"
     ]
    },
    {
     "data": {
      "text/html": [
       "<table class=\"simpletable\">\n",
       "<caption>OLS Regression Results</caption>\n",
       "<tr>\n",
       "  <th>Dep. Variable:</th>    <td>months_before_authorship</td> <th>  R-squared:         </th> <td>   0.005</td> \n",
       "</tr>\n",
       "<tr>\n",
       "  <th>Model:</th>                       <td>OLS</td>           <th>  Adj. R-squared:    </th> <td>   0.005</td> \n",
       "</tr>\n",
       "<tr>\n",
       "  <th>Method:</th>                 <td>Least Squares</td>      <th>  F-statistic:       </th> <td>   14.11</td> \n",
       "</tr>\n",
       "<tr>\n",
       "  <th>Date:</th>                 <td>Mon, 13 Jan 2020</td>     <th>  Prob (F-statistic):</th> <td>7.71e-07</td> \n",
       "</tr>\n",
       "<tr>\n",
       "  <th>Time:</th>                     <td>14:27:10</td>         <th>  Log-Likelihood:    </th> <td> -18433.</td> \n",
       "</tr>\n",
       "<tr>\n",
       "  <th>No. Observations:</th>          <td>  5438</td>          <th>  AIC:               </th> <td>3.687e+04</td>\n",
       "</tr>\n",
       "<tr>\n",
       "  <th>Df Residuals:</th>              <td>  5435</td>          <th>  BIC:               </th> <td>3.689e+04</td>\n",
       "</tr>\n",
       "<tr>\n",
       "  <th>Df Model:</th>                  <td>     2</td>          <th>                     </th>     <td> </td>    \n",
       "</tr>\n",
       "<tr>\n",
       "  <th>Covariance Type:</th>          <td>nonrobust</td>        <th>                     </th>     <td> </td>    \n",
       "</tr>\n",
       "</table>\n",
       "<table class=\"simpletable\">\n",
       "<tr>\n",
       "                <td></td>                  <th>coef</th>     <th>std err</th>      <th>t</th>      <th>P>|t|</th>  <th>[0.025</th>    <th>0.975]</th>  \n",
       "</tr>\n",
       "<tr>\n",
       "  <th>Intercept</th>                    <td>    8.0638</td> <td>    0.113</td> <td>   71.167</td> <td> 0.000</td> <td>    7.842</td> <td>    8.286</td>\n",
       "</tr>\n",
       "<tr>\n",
       "  <th>C(user_author_type)[T.mixed]</th> <td>   -0.6020</td> <td>    0.414</td> <td>   -1.454</td> <td> 0.146</td> <td>   -1.414</td> <td>    0.209</td>\n",
       "</tr>\n",
       "<tr>\n",
       "  <th>C(user_author_type)[T.p]</th>     <td>   -1.2832</td> <td>    0.244</td> <td>   -5.253</td> <td> 0.000</td> <td>   -1.762</td> <td>   -0.804</td>\n",
       "</tr>\n",
       "</table>\n",
       "<table class=\"simpletable\">\n",
       "<tr>\n",
       "  <th>Omnibus:</th>       <td>518.661</td> <th>  Durbin-Watson:     </th> <td>   1.663</td> \n",
       "</tr>\n",
       "<tr>\n",
       "  <th>Prob(Omnibus):</th> <td> 0.000</td>  <th>  Jarque-Bera (JB):  </th> <td> 672.139</td> \n",
       "</tr>\n",
       "<tr>\n",
       "  <th>Skew:</th>          <td> 0.855</td>  <th>  Prob(JB):          </th> <td>1.11e-146</td>\n",
       "</tr>\n",
       "<tr>\n",
       "  <th>Kurtosis:</th>      <td> 2.794</td>  <th>  Cond. No.          </th> <td>    4.40</td> \n",
       "</tr>\n",
       "</table><br/><br/>Warnings:<br/>[1] Standard Errors assume that the covariance matrix of the errors is correctly specified."
      ],
      "text/plain": [
       "<class 'statsmodels.iolib.summary.Summary'>\n",
       "\"\"\"\n",
       "                               OLS Regression Results                               \n",
       "====================================================================================\n",
       "Dep. Variable:     months_before_authorship   R-squared:                       0.005\n",
       "Model:                                  OLS   Adj. R-squared:                  0.005\n",
       "Method:                       Least Squares   F-statistic:                     14.11\n",
       "Date:                      Mon, 13 Jan 2020   Prob (F-statistic):           7.71e-07\n",
       "Time:                              14:27:10   Log-Likelihood:                -18433.\n",
       "No. Observations:                      5438   AIC:                         3.687e+04\n",
       "Df Residuals:                          5435   BIC:                         3.689e+04\n",
       "Df Model:                                 2                                         \n",
       "Covariance Type:                  nonrobust                                         \n",
       "================================================================================================\n",
       "                                   coef    std err          t      P>|t|      [0.025      0.975]\n",
       "------------------------------------------------------------------------------------------------\n",
       "Intercept                        8.0638      0.113     71.167      0.000       7.842       8.286\n",
       "C(user_author_type)[T.mixed]    -0.6020      0.414     -1.454      0.146      -1.414       0.209\n",
       "C(user_author_type)[T.p]        -1.2832      0.244     -5.253      0.000      -1.762      -0.804\n",
       "==============================================================================\n",
       "Omnibus:                      518.661   Durbin-Watson:                   1.663\n",
       "Prob(Omnibus):                  0.000   Jarque-Bera (JB):              672.139\n",
       "Skew:                           0.855   Prob(JB):                    1.11e-146\n",
       "Kurtosis:                       2.794   Cond. No.                         4.40\n",
       "==============================================================================\n",
       "\n",
       "Warnings:\n",
       "[1] Standard Errors assume that the covariance matrix of the errors is correctly specified.\n",
       "\"\"\""
      ]
     },
     "execution_count": 13,
     "metadata": {},
     "output_type": "execute_result"
    }
   ],
   "source": [
    "f = f'months_before_authorship ~ C(user_author_type)'\n",
    "\n",
    "model = smf.ols(formula=f, data = init_df[init_df.is_first_initiation_pre_authorship])\n",
    "res = model.fit()\n",
    "res.summary()"
   ]
  },
  {
   "cell_type": "code",
   "execution_count": 14,
   "metadata": {},
   "outputs": [
    {
     "data": {
      "text/plain": [
       "20687"
      ]
     },
     "execution_count": 14,
     "metadata": {},
     "output_type": "execute_result"
    }
   ],
   "source": [
    "# subset of the data that initiated for the first time AFTER becoming authors\n",
    "post_authorship_df = init_df[~init_df.is_first_initiation_pre_authorship]\n",
    "len(post_authorship_df)"
   ]
  },
  {
   "cell_type": "code",
   "execution_count": 100,
   "metadata": {},
   "outputs": [
    {
     "data": {
      "image/png": "[encoded data removed]",
      "text/plain": [
       "<Figure size 394.421x144 with 1 Axes>"
      ]
     },
     "metadata": {
      "needs_background": "light"
     },
     "output_type": "display_data"
    },
    {
     "data": {
      "text/plain": [
       "(22.319350661099083, 13.572659722222221)"
      ]
     },
     "execution_count": 100,
     "metadata": {},
     "output_type": "execute_result"
    }
   ],
   "source": [
    "fig, ax = plt.subplots(1, 1, figsize=(5.47807, 2.0))\n",
    "num_bins = 50\n",
    "base = 2\n",
    "x = np.clip(post_authorship_df.months_before_initiation, 1/ (30 * 24), None)\n",
    "logbins = np.logspace(np.log2(min(x)), np.log2(max(x)), num=num_bins, base=base, endpoint=True)\n",
    "ax.hist(x, bins=logbins)\n",
    "plt.xscale('log', nonposx='clip', basex=base)\n",
    "\n",
    "# add semantically interpretable time moments\n",
    "alpha=0.6\n",
    "ax.axvline(1/30, color='black', alpha=alpha)\n",
    "ax.axvline(1, color='black', alpha=alpha)\n",
    "ax.axvline(12, color='black', alpha=alpha)\n",
    "ax.axvline(12 * 10, color='black', alpha=alpha)\n",
    "text_y = ax.transData.inverted().transform((0, ax.transAxes.transform((0, 0.95))[1]))[1]  # https://matplotlib.org/users/transforms_tutorial.html\n",
    "#ax.text(1000 * 60, text_y, 'Minute', color='darkgray')\n",
    "#ax.text(1000 * 60 * 60, text_y, 'Hour', color='darkgray')\n",
    "#ax.text(1000 * 60 * 60 * 24, text_y, 'Day', color='darkgray')\n",
    "ax.text(1/30 * 1.1, text_y, 'Day', color='black', verticalalignment='center')\n",
    "ax.text(1 * 1.1, text_y, 'Month', color='black', verticalalignment='center')\n",
    "ax.text(12 * 1.1, text_y, 'Year', color='black', verticalalignment='center')\n",
    "ax.text(12 * 10 * 1.1, text_y, 'Decade', color='black', verticalalignment='center')\n",
    "\n",
    "plt.ylabel(\"Author count\")\n",
    "plt.xlabel(\"Months between first authored update and first initiation\")\n",
    "plt.savefig(os.path.join(figures_dir, 'init_timing_response_post_distribution.pdf'), dpi=180, pad_inches=0)\n",
    "plt.show()\n",
    "np.mean(post_authorship_df.months_before_initiation), np.median(post_authorship_df.months_before_initiation)"
   ]
  },
  {
   "cell_type": "code",
   "execution_count": 15,
   "metadata": {},
   "outputs": [
    {
     "data": {
      "text/plain": [
       "0.5291245709866099"
      ]
     },
     "execution_count": 15,
     "metadata": {},
     "output_type": "execute_result"
    }
   ],
   "source": [
    "# 52.9% of authors initiate more than a year after becoming authors\n",
    "np.sum(post_authorship_df.months_before_initiation >= 12) / len(post_authorship_df)"
   ]
  },
  {
   "cell_type": "code",
   "execution_count": 16,
   "metadata": {},
   "outputs": [
    {
     "data": {
      "text/plain": [
       "(18.509829800727783,\n",
       " 23.180410839612794,\n",
       " 4.670581038885011,\n",
       " Ttest_indResult(statistic=-11.908749423602208, pvalue=2.0232137549551328e-32),\n",
       " 4268,\n",
       " 15040,\n",
       " 0.2063131435200851,\n",
       " 0.7270266350848359)"
      ]
     },
     "execution_count": 16,
     "metadata": {},
     "output_type": "execute_result"
    }
   ],
   "source": [
    "sample1 = post_authorship_df[post_authorship_df.user_author_type == 'p'].months_before_initiation\n",
    "sample2 = post_authorship_df[post_authorship_df.user_author_type == 'cg'].months_before_initiation\n",
    "\n",
    "np.mean(sample1), \\\n",
    "np.mean(sample2), \\\n",
    "np.mean(sample2) - np.mean(sample1), \\\n",
    "scipy.stats.ttest_ind(sample1, sample2, equal_var=False), \\\n",
    "len(sample1), len(sample2), \\\n",
    "len(sample1) / len(post_authorship_df), len(sample2) / len(post_authorship_df)"
   ]
  },
  {
   "cell_type": "code",
   "execution_count": 18,
   "metadata": {},
   "outputs": [],
   "source": [
    "# among CB authors who will go on to initiate with other authors, \n",
    "# patients make a first initiation on average 4.7 months more rapidly compared to caregivers"
   ]
  },
  {
   "cell_type": "code",
   "execution_count": 17,
   "metadata": {},
   "outputs": [
    {
     "data": {
      "text/html": [
       "<table class=\"simpletable\">\n",
       "<caption>OLS Regression Results</caption>\n",
       "<tr>\n",
       "  <th>Dep. Variable:</th>    <td>months_before_initiation</td> <th>  R-squared:         </th> <td>   0.006</td> \n",
       "</tr>\n",
       "<tr>\n",
       "  <th>Model:</th>                       <td>OLS</td>           <th>  Adj. R-squared:    </th> <td>   0.006</td> \n",
       "</tr>\n",
       "<tr>\n",
       "  <th>Method:</th>                 <td>Least Squares</td>      <th>  F-statistic:       </th> <td>   66.16</td> \n",
       "</tr>\n",
       "<tr>\n",
       "  <th>Date:</th>                 <td>Mon, 13 Jan 2020</td>     <th>  Prob (F-statistic):</th> <td>2.27e-29</td> \n",
       "</tr>\n",
       "<tr>\n",
       "  <th>Time:</th>                     <td>14:27:20</td>         <th>  Log-Likelihood:    </th> <td> -95729.</td> \n",
       "</tr>\n",
       "<tr>\n",
       "  <th>No. Observations:</th>          <td> 20687</td>          <th>  AIC:               </th> <td>1.915e+05</td>\n",
       "</tr>\n",
       "<tr>\n",
       "  <th>Df Residuals:</th>              <td> 20684</td>          <th>  BIC:               </th> <td>1.915e+05</td>\n",
       "</tr>\n",
       "<tr>\n",
       "  <th>Df Model:</th>                  <td>     2</td>          <th>                     </th>     <td> </td>    \n",
       "</tr>\n",
       "<tr>\n",
       "  <th>Covariance Type:</th>          <td>nonrobust</td>        <th>                     </th>     <td> </td>    \n",
       "</tr>\n",
       "</table>\n",
       "<table class=\"simpletable\">\n",
       "<tr>\n",
       "                <td></td>                  <th>coef</th>     <th>std err</th>      <th>t</th>      <th>P>|t|</th>  <th>[0.025</th>    <th>0.975]</th>  \n",
       "</tr>\n",
       "<tr>\n",
       "  <th>Intercept</th>                    <td>   23.1804</td> <td>    0.202</td> <td>  114.882</td> <td> 0.000</td> <td>   22.785</td> <td>   23.576</td>\n",
       "</tr>\n",
       "<tr>\n",
       "  <th>C(user_author_type)[T.mixed]</th> <td>    1.5383</td> <td>    0.696</td> <td>    2.209</td> <td> 0.027</td> <td>    0.174</td> <td>    2.903</td>\n",
       "</tr>\n",
       "<tr>\n",
       "  <th>C(user_author_type)[T.p]</th>     <td>   -4.6706</td> <td>    0.429</td> <td>  -10.883</td> <td> 0.000</td> <td>   -5.512</td> <td>   -3.829</td>\n",
       "</tr>\n",
       "</table>\n",
       "<table class=\"simpletable\">\n",
       "<tr>\n",
       "  <th>Omnibus:</th>       <td>13833.567</td> <th>  Durbin-Watson:     </th>  <td>   1.952</td> \n",
       "</tr>\n",
       "<tr>\n",
       "  <th>Prob(Omnibus):</th>  <td> 0.000</td>   <th>  Jarque-Bera (JB):  </th> <td>724510.074</td>\n",
       "</tr>\n",
       "<tr>\n",
       "  <th>Skew:</th>           <td> 2.593</td>   <th>  Prob(JB):          </th>  <td>    0.00</td> \n",
       "</tr>\n",
       "<tr>\n",
       "  <th>Kurtosis:</th>       <td>31.524</td>   <th>  Cond. No.          </th>  <td>    4.20</td> \n",
       "</tr>\n",
       "</table><br/><br/>Warnings:<br/>[1] Standard Errors assume that the covariance matrix of the errors is correctly specified."
      ],
      "text/plain": [
       "<class 'statsmodels.iolib.summary.Summary'>\n",
       "\"\"\"\n",
       "                               OLS Regression Results                               \n",
       "====================================================================================\n",
       "Dep. Variable:     months_before_initiation   R-squared:                       0.006\n",
       "Model:                                  OLS   Adj. R-squared:                  0.006\n",
       "Method:                       Least Squares   F-statistic:                     66.16\n",
       "Date:                      Mon, 13 Jan 2020   Prob (F-statistic):           2.27e-29\n",
       "Time:                              14:27:20   Log-Likelihood:                -95729.\n",
       "No. Observations:                     20687   AIC:                         1.915e+05\n",
       "Df Residuals:                         20684   BIC:                         1.915e+05\n",
       "Df Model:                                 2                                         \n",
       "Covariance Type:                  nonrobust                                         \n",
       "================================================================================================\n",
       "                                   coef    std err          t      P>|t|      [0.025      0.975]\n",
       "------------------------------------------------------------------------------------------------\n",
       "Intercept                       23.1804      0.202    114.882      0.000      22.785      23.576\n",
       "C(user_author_type)[T.mixed]     1.5383      0.696      2.209      0.027       0.174       2.903\n",
       "C(user_author_type)[T.p]        -4.6706      0.429    -10.883      0.000      -5.512      -3.829\n",
       "==============================================================================\n",
       "Omnibus:                    13833.567   Durbin-Watson:                   1.952\n",
       "Prob(Omnibus):                  0.000   Jarque-Bera (JB):           724510.074\n",
       "Skew:                           2.593   Prob(JB):                         0.00\n",
       "Kurtosis:                      31.524   Cond. No.                         4.20\n",
       "==============================================================================\n",
       "\n",
       "Warnings:\n",
       "[1] Standard Errors assume that the covariance matrix of the errors is correctly specified.\n",
       "\"\"\""
      ]
     },
     "execution_count": 17,
     "metadata": {},
     "output_type": "execute_result"
    }
   ],
   "source": [
    "f = f'months_before_initiation ~ C(user_author_type)'\n",
    "\n",
    "model = smf.ols(formula=f, data = init_df[~init_df.is_first_initiation_pre_authorship])\n",
    "res = model.fit()\n",
    "res.summary()"
   ]
  },
  {
   "cell_type": "code",
   "execution_count": 18,
   "metadata": {},
   "outputs": [
    {
     "data": {
      "text/plain": [
       "(14.583210236570887,\n",
       " 10.695599145796814,\n",
       " 3.8876110907740724,\n",
       " Ttest_indResult(statistic=1.377240528013718, pvalue=0.1684843682123351))"
      ]
     },
     "execution_count": 18,
     "metadata": {},
     "output_type": "execute_result"
    }
   ],
   "source": [
    "# patients are more active while on the site than caregivers are (in terms of posts per month)\n",
    "# but the difference is marginal...\n",
    "sample1 = post_authorship_df[post_authorship_df.user_author_type == 'p'].posts_per_month\n",
    "sample2 = post_authorship_df[post_authorship_df.user_author_type == 'cg'].posts_per_month\n",
    "\n",
    "np.mean(sample1), \\\n",
    "np.mean(sample2), \\\n",
    "np.mean(sample1) - np.mean(sample2), \\\n",
    "scipy.stats.ttest_ind(sample1, sample2, equal_var=False)"
   ]
  },
  {
   "cell_type": "code",
   "execution_count": 19,
   "metadata": {},
   "outputs": [],
   "source": [
    "# Overall, the gap between first authorship and first initiation\n",
    "# is smaller for patient authors compared to caregiver authors\n",
    "\n",
    "# One thought: is this essentially caused by a lower survival rate for patients?\n",
    "# Second thought: is this interesting?  patients and caregivers just don't seem that different, so maybe?\n",
    "\n",
    "# Regarding thought 1:\n",
    "# the below analysis of interactions "
   ]
  },
  {
   "cell_type": "code",
   "execution_count": 20,
   "metadata": {},
   "outputs": [
    {
     "data": {
      "text/plain": [
       "(Ttest_indResult(statistic=0.6638897040940227, pvalue=0.5067787729721002),\n",
       " 0.2063131435200851,\n",
       " 0.20224305938591652,\n",
       " 0.004070084134168567)"
      ]
     },
     "execution_count": 20,
     "metadata": {},
     "output_type": "execute_result"
    }
   ],
   "source": [
    "# Note that the \"transition rate\" from user to author by author type seems to be consistent\n",
    "# with the underlying distribution. In other words:\n",
    "# the author type distribution of user->author converts is the same as the distribution of authors who were\n",
    "# never initiating users before they became authors.\n",
    "# Difference in patient proportion of only 0.4 percentage points (20.6\\% vs 20.2\\%; $t=0.664$, $p=0.507$)\n",
    "\n",
    "sample1 = post_authorship_df.user_author_type == 'p'\n",
    "sample2 = pre_authorship_df.user_author_type == 'p'\n",
    "scipy.stats.ttest_ind(sample1, sample2, equal_var=False), \\\n",
    "np.mean(sample1), np.mean(sample2), np.mean(sample1) - np.mean(sample2)"
   ]
  },
  {
   "cell_type": "code",
   "execution_count": 21,
   "metadata": {},
   "outputs": [
    {
     "data": {
      "text/plain": [
       "28388948"
      ]
     },
     "execution_count": 21,
     "metadata": {},
     "output_type": "execute_result"
    }
   ],
   "source": [
    "# read in the interactions dataframe\n",
    "metadata_dir = \"/home/srivbane/shared/caringbridge/data/projects/sna-social-support/user_metadata\"\n",
    "author_to_site = os.path.join(metadata_dir, \"interaction_metadata.h5\")\n",
    "ints_df = pd.read_hdf(author_to_site)\n",
    "len(ints_df)"
   ]
  },
  {
   "cell_type": "code",
   "execution_count": 22,
   "metadata": {},
   "outputs": [
    {
     "name": "stdout",
     "output_type": "stream",
     "text": [
      "44\n",
      "0\n"
     ]
    }
   ],
   "source": [
    "# as a quick fix for invalid dates in journals, when created_at is 0 we use the updated_at instead\n",
    "invalid_created_at = ints_df.created_at <= 0\n",
    "print(np.sum(invalid_created_at))\n",
    "ints_df.loc[invalid_created_at, 'created_at'] = ints_df.loc[invalid_created_at, 'updated_at']\n",
    "print(np.sum(ints_df.created_at <= 0))"
   ]
  },
  {
   "cell_type": "code",
   "execution_count": 23,
   "metadata": {},
   "outputs": [
    {
     "name": "stderr",
     "output_type": "stream",
     "text": [
      "/home/srivbane/shared/anaconda3/lib/python3.7/site-packages/numpy/core/fromnumeric.py:2495: FutureWarning: Method .ptp is deprecated and will be removed in a future version. Use numpy.ptp instead.\n",
      "  return ptp(axis=axis, out=out, **kwargs)\n"
     ]
    }
   ],
   "source": [
    "interaction_end_date = datetime.fromisoformat('2016-06-01')\n",
    "interaction_end_timestamp = int(interaction_end_date.timestamp() * 1000)\n",
    "total_time_on_site = ints_df.groupby(by='user_id').agg({\n",
    "    'created_at': lambda created_at: np.ptp(created_at) if np.max(created_at) <= interaction_end_timestamp else interaction_end_timestamp - np.min(created_at)\n",
    "}).created_at.rename('total_time_on_site')"
   ]
  },
  {
   "cell_type": "code",
   "execution_count": 24,
   "metadata": {},
   "outputs": [],
   "source": [
    "total_time_on_site_dict = total_time_on_site.to_dict()"
   ]
  },
  {
   "cell_type": "code",
   "execution_count": 25,
   "metadata": {},
   "outputs": [],
   "source": [
    "ms_days = 1000 * 60 * 60 * 24 * 30\n",
    "init_df['total_active_time_months'] = [total_time_on_site_dict[user_id] / ms_days for user_id in init_df.user_id]"
   ]
  },
  {
   "cell_type": "code",
   "execution_count": 26,
   "metadata": {},
   "outputs": [
    {
     "data": {
      "image/png": "[encoded data removed]",
      "text/plain": [
       "<Figure size 432x288 with 1 Axes>"
      ]
     },
     "metadata": {
      "needs_background": "light"
     },
     "output_type": "display_data"
    }
   ],
   "source": [
    "total_active_time_months = init_df.total_active_time_months\n",
    "plt.hist(total_active_time_months, log=True, bins=50, range=(0, 12 * 15))  # first 15 years only\n",
    "plt.title(\"Distribution of total active time\")\n",
    "plt.xlabel(\"Active time on CB (months)\")\n",
    "plt.ylabel(\"Author count\")\n",
    "plt.show()"
   ]
  },
  {
   "cell_type": "code",
   "execution_count": 27,
   "metadata": {},
   "outputs": [
    {
     "data": {
      "text/plain": [
       "0.002679323279491694"
      ]
     },
     "execution_count": 27,
     "metadata": {},
     "output_type": "execute_result"
    }
   ],
   "source": [
    "# a tiny percentage of the data is active for more than 1 decade\n",
    "np.sum(init_df.total_active_time_months >= 12 * 10) / len(init_df)"
   ]
  },
  {
   "cell_type": "code",
   "execution_count": 28,
   "metadata": {},
   "outputs": [
    {
     "data": {
      "text/plain": [
       "(757.9879212376503,\n",
       " 840.4811082122773,\n",
       " 82.49318697462695,\n",
       " Ttest_indResult(statistic=-8.353251663098838, pvalue=7.549997459115162e-17))"
      ]
     },
     "execution_count": 28,
     "metadata": {},
     "output_type": "execute_result"
    }
   ],
   "source": [
    "sample1 = init_df[init_df.user_author_type == 'p'].total_active_time_months * 30\n",
    "sample2 = init_df[init_df.user_author_type == 'cg'].total_active_time_months * 30\n",
    "\n",
    "np.mean(sample1), \\\n",
    "np.mean(sample2), \\\n",
    "np.mean(sample2) - np.mean(sample1), \\\n",
    "scipy.stats.ttest_ind(sample1, sample2, equal_var=False)"
   ]
  },
  {
   "cell_type": "markdown",
   "metadata": {},
   "source": [
    "#### pre-authorship + active time analysis"
   ]
  },
  {
   "cell_type": "code",
   "execution_count": 184,
   "metadata": {},
   "outputs": [],
   "source": [
    "pre_authorship_df = init_df[init_df.is_first_initiation_pre_authorship].copy()\n",
    "pre_authorship_df.months_before_initiation *= -1"
   ]
  },
  {
   "cell_type": "code",
   "execution_count": 185,
   "metadata": {},
   "outputs": [
    {
     "data": {
      "text/plain": [
       "(449.8739173505891,\n",
       " 454.99591040345695,\n",
       " 5.121993052867822,\n",
       " Ttest_indResult(statistic=-0.5806520596699212, pvalue=0.5615484709140249))"
      ]
     },
     "execution_count": 185,
     "metadata": {},
     "output_type": "execute_result"
    }
   ],
   "source": [
    "# there's no significant difference between Patient and Caregiver active time when initiation is pre-authorship\n",
    "sample1 = pre_authorship_df[pre_authorship_df.user_author_type == 'p'].total_active_time_months * 30\n",
    "sample2 = pre_authorship_df[pre_authorship_df.user_author_type == 'cg'].total_active_time_months * 30\n",
    "\n",
    "np.mean(sample1), \\\n",
    "np.mean(sample2), \\\n",
    "np.mean(sample2) - np.mean(sample1), \\\n",
    "scipy.stats.ttest_ind(sample1, sample2, equal_var=False)"
   ]
  },
  {
   "cell_type": "code",
   "execution_count": 186,
   "metadata": {},
   "outputs": [
    {
     "data": {
      "text/plain": [
       "(6.7805679878647585,\n",
       " 8.063777128268308,\n",
       " 1.2832091404035495,\n",
       " Ttest_indResult(statistic=-5.314935102443531, pvalue=1.20202735177626e-07))"
      ]
     },
     "execution_count": 186,
     "metadata": {},
     "output_type": "execute_result"
    }
   ],
   "source": [
    "# Ps make sites a shorter time after initiating compared to CG; 1.3 months on average\n",
    "sample1 = pre_authorship_df[pre_authorship_df.user_author_type == 'p'].months_before_initiation\n",
    "sample2 = pre_authorship_df[pre_authorship_df.user_author_type == 'cg'].months_before_initiation\n",
    "\n",
    "np.mean(sample1), \\\n",
    "np.mean(sample2), \\\n",
    "np.mean(sample2) - np.mean(sample1), \\\n",
    "scipy.stats.ttest_ind(sample1, sample2, equal_var=False)"
   ]
  },
  {
   "cell_type": "code",
   "execution_count": 187,
   "metadata": {},
   "outputs": [
    {
     "data": {
      "text/html": [
       "<table class=\"simpletable\">\n",
       "<caption>OLS Regression Results</caption>\n",
       "<tr>\n",
       "  <th>Dep. Variable:</th>    <td>np.log(months_before_initiation)</td> <th>  R-squared:         </th> <td>   0.310</td> \n",
       "</tr>\n",
       "<tr>\n",
       "  <th>Model:</th>                           <td>OLS</td>               <th>  Adj. R-squared:    </th> <td>   0.310</td> \n",
       "</tr>\n",
       "<tr>\n",
       "  <th>Method:</th>                     <td>Least Squares</td>          <th>  F-statistic:       </th> <td>   489.2</td> \n",
       "</tr>\n",
       "<tr>\n",
       "  <th>Date:</th>                     <td>Mon, 13 Jan 2020</td>         <th>  Prob (F-statistic):</th>  <td>  0.00</td>  \n",
       "</tr>\n",
       "<tr>\n",
       "  <th>Time:</th>                         <td>19:30:02</td>             <th>  Log-Likelihood:    </th> <td> -10699.</td> \n",
       "</tr>\n",
       "<tr>\n",
       "  <th>No. Observations:</th>              <td>  5438</td>              <th>  AIC:               </th> <td>2.141e+04</td>\n",
       "</tr>\n",
       "<tr>\n",
       "  <th>Df Residuals:</th>                  <td>  5432</td>              <th>  BIC:               </th> <td>2.145e+04</td>\n",
       "</tr>\n",
       "<tr>\n",
       "  <th>Df Model:</th>                      <td>     5</td>              <th>                     </th>     <td> </td>    \n",
       "</tr>\n",
       "<tr>\n",
       "  <th>Covariance Type:</th>              <td>nonrobust</td>            <th>                     </th>     <td> </td>    \n",
       "</tr>\n",
       "</table>\n",
       "<table class=\"simpletable\">\n",
       "<tr>\n",
       "                                <td></td>                                   <th>coef</th>     <th>std err</th>      <th>t</th>      <th>P>|t|</th>  <th>[0.025</th>    <th>0.975]</th>  \n",
       "</tr>\n",
       "<tr>\n",
       "  <th>Intercept</th>                                                     <td>   -1.6215</td> <td>    0.078</td> <td>  -20.720</td> <td> 0.000</td> <td>   -1.775</td> <td>   -1.468</td>\n",
       "</tr>\n",
       "<tr>\n",
       "  <th>C(user_author_type)[T.mixed]</th>                                  <td>   -0.6928</td> <td>    0.264</td> <td>   -2.622</td> <td> 0.009</td> <td>   -1.211</td> <td>   -0.175</td>\n",
       "</tr>\n",
       "<tr>\n",
       "  <th>C(user_author_type)[T.p]</th>                                      <td>   -1.2148</td> <td>    0.166</td> <td>   -7.300</td> <td> 0.000</td> <td>   -1.541</td> <td>   -0.889</td>\n",
       "</tr>\n",
       "<tr>\n",
       "  <th>np.log(total_active_time_months)</th>                              <td>    1.1660</td> <td>    0.030</td> <td>   38.879</td> <td> 0.000</td> <td>    1.107</td> <td>    1.225</td>\n",
       "</tr>\n",
       "<tr>\n",
       "  <th>np.log(total_active_time_months):C(user_author_type)[T.mixed]</th> <td>    0.1657</td> <td>    0.102</td> <td>    1.630</td> <td> 0.103</td> <td>   -0.034</td> <td>    0.365</td>\n",
       "</tr>\n",
       "<tr>\n",
       "  <th>np.log(total_active_time_months):C(user_author_type)[T.p]</th>     <td>    0.2607</td> <td>    0.064</td> <td>    4.082</td> <td> 0.000</td> <td>    0.136</td> <td>    0.386</td>\n",
       "</tr>\n",
       "</table>\n",
       "<table class=\"simpletable\">\n",
       "<tr>\n",
       "  <th>Omnibus:</th>       <td>2324.852</td> <th>  Durbin-Watson:     </th> <td>   2.014</td> \n",
       "</tr>\n",
       "<tr>\n",
       "  <th>Prob(Omnibus):</th>  <td> 0.000</td>  <th>  Jarque-Bera (JB):  </th> <td>10439.717</td>\n",
       "</tr>\n",
       "<tr>\n",
       "  <th>Skew:</th>           <td>-2.089</td>  <th>  Prob(JB):          </th> <td>    0.00</td> \n",
       "</tr>\n",
       "<tr>\n",
       "  <th>Kurtosis:</th>       <td> 8.350</td>  <th>  Cond. No.          </th> <td>    34.4</td> \n",
       "</tr>\n",
       "</table><br/><br/>Warnings:<br/>[1] Standard Errors assume that the covariance matrix of the errors is correctly specified."
      ],
      "text/plain": [
       "<class 'statsmodels.iolib.summary.Summary'>\n",
       "\"\"\"\n",
       "                                   OLS Regression Results                                   \n",
       "============================================================================================\n",
       "Dep. Variable:     np.log(months_before_initiation)   R-squared:                       0.310\n",
       "Model:                                          OLS   Adj. R-squared:                  0.310\n",
       "Method:                               Least Squares   F-statistic:                     489.2\n",
       "Date:                              Mon, 13 Jan 2020   Prob (F-statistic):               0.00\n",
       "Time:                                      19:30:02   Log-Likelihood:                -10699.\n",
       "No. Observations:                              5438   AIC:                         2.141e+04\n",
       "Df Residuals:                                  5432   BIC:                         2.145e+04\n",
       "Df Model:                                         5                                         \n",
       "Covariance Type:                          nonrobust                                         \n",
       "=================================================================================================================================\n",
       "                                                                    coef    std err          t      P>|t|      [0.025      0.975]\n",
       "---------------------------------------------------------------------------------------------------------------------------------\n",
       "Intercept                                                        -1.6215      0.078    -20.720      0.000      -1.775      -1.468\n",
       "C(user_author_type)[T.mixed]                                     -0.6928      0.264     -2.622      0.009      -1.211      -0.175\n",
       "C(user_author_type)[T.p]                                         -1.2148      0.166     -7.300      0.000      -1.541      -0.889\n",
       "np.log(total_active_time_months)                                  1.1660      0.030     38.879      0.000       1.107       1.225\n",
       "np.log(total_active_time_months):C(user_author_type)[T.mixed]     0.1657      0.102      1.630      0.103      -0.034       0.365\n",
       "np.log(total_active_time_months):C(user_author_type)[T.p]         0.2607      0.064      4.082      0.000       0.136       0.386\n",
       "==============================================================================\n",
       "Omnibus:                     2324.852   Durbin-Watson:                   2.014\n",
       "Prob(Omnibus):                  0.000   Jarque-Bera (JB):            10439.717\n",
       "Skew:                          -2.089   Prob(JB):                         0.00\n",
       "Kurtosis:                       8.350   Cond. No.                         34.4\n",
       "==============================================================================\n",
       "\n",
       "Warnings:\n",
       "[1] Standard Errors assume that the covariance matrix of the errors is correctly specified.\n",
       "\"\"\""
      ]
     },
     "execution_count": 187,
     "metadata": {},
     "output_type": "execute_result"
    }
   ],
   "source": [
    "# ANCOVA (main effects analysis of covariance model) for pre-authorship case\n",
    "# NO LONGER AN ANCOVA MODEL; AN INTERACTION TERM WAS SIGNIFICANT AFTER LOG TRANSFORMATION\n",
    "# compared to caregivers, much sooner\n",
    "f = 'np.log(months_before_initiation) ~ np.log(total_active_time_months) * C(user_author_type)'\n",
    "model = smf.ols(formula=f, data = pre_authorship_df)\n",
    "res = model.fit()\n",
    "res.summary()"
   ]
  },
  {
   "cell_type": "code",
   "execution_count": 188,
   "metadata": {},
   "outputs": [
    {
     "name": "stdout",
     "output_type": "stream",
     "text": [
      "\\begin{center}\n",
      "\\begin{tabular}{lclc}\n",
      "\\toprule\n",
      "\\textbf{Dep. Variable:}                                                     & np.log(months_before_initiation) & \\textbf{  R-squared:         } &     0.310   \\\\\n",
      "\\textbf{Model:}                                                             &               OLS                & \\textbf{  Adj. R-squared:    } &     0.310   \\\\\n",
      "\\textbf{Method:}                                                            &          Least Squares           & \\textbf{  F-statistic:       } &     489.2   \\\\\n",
      "\\textbf{Date:}                                                              &         Mon, 13 Jan 2020         & \\textbf{  Prob (F-statistic):} &     0.00    \\\\\n",
      "\\textbf{Time:}                                                              &             19:30:03             & \\textbf{  Log-Likelihood:    } &   -10699.   \\\\\n",
      "\\textbf{No. Observations:}                                                  &                5438              & \\textbf{  AIC:               } & 2.141e+04   \\\\\n",
      "\\textbf{Df Residuals:}                                                      &                5432              & \\textbf{  BIC:               } & 2.145e+04   \\\\\n",
      "\\textbf{Df Model:}                                                          &                   5              & \\textbf{                     } &             \\\\\n",
      "\\bottomrule\n",
      "\\end{tabular}\n",
      "\\begin{tabular}{lcccccc}\n",
      "                                                                            & \\textbf{coef} & \\textbf{std err} & \\textbf{t} & \\textbf{P$>$$|$t$|$} & \\textbf{[0.025} & \\textbf{0.975]}  \\\\\n",
      "\\midrule\n",
      "\\textbf{Intercept}                                                          &      -1.6215  &        0.078     &   -20.720  &         0.000        &       -1.775    &       -1.468     \\\\\n",
      "\\textbf{C(user\\_author\\_type)[T.mixed]}                                     &      -0.6928  &        0.264     &    -2.622  &         0.009        &       -1.211    &       -0.175     \\\\\n",
      "\\textbf{C(user\\_author\\_type)[T.p]}                                         &      -1.2148  &        0.166     &    -7.300  &         0.000        &       -1.541    &       -0.889     \\\\\n",
      "\\textbf{np.log(total\\_active\\_time\\_months)}                                &       1.1660  &        0.030     &    38.879  &         0.000        &        1.107    &        1.225     \\\\\n",
      "\\textbf{np.log(total\\_active\\_time\\_months):C(user\\_author\\_type)[T.mixed]} &       0.1657  &        0.102     &     1.630  &         0.103        &       -0.034    &        0.365     \\\\\n",
      "\\textbf{np.log(total\\_active\\_time\\_months):C(user\\_author\\_type)[T.p]}     &       0.2607  &        0.064     &     4.082  &         0.000        &        0.136    &        0.386     \\\\\n",
      "\\bottomrule\n",
      "\\end{tabular}\n",
      "\\begin{tabular}{lclc}\n",
      "\\textbf{Omnibus:}       & 2324.852 & \\textbf{  Durbin-Watson:     } &     2.014  \\\\\n",
      "\\textbf{Prob(Omnibus):} &   0.000  & \\textbf{  Jarque-Bera (JB):  } & 10439.717  \\\\\n",
      "\\textbf{Skew:}          &  -2.089  & \\textbf{  Prob(JB):          } &      0.00  \\\\\n",
      "\\textbf{Kurtosis:}      &   8.350  & \\textbf{  Cond. No.          } &      34.4  \\\\\n",
      "\\bottomrule\n",
      "\\end{tabular}\n",
      "%\\caption{OLS Regression Results}\n",
      "\\end{center}\n",
      "\n",
      "Warnings: \\newline\n",
      " [1] Standard Errors assume that the covariance matrix of the errors is correctly specified.\n"
     ]
    }
   ],
   "source": [
    "print(res.summary().as_latex())"
   ]
  },
  {
   "cell_type": "code",
   "execution_count": 189,
   "metadata": {},
   "outputs": [
    {
     "name": "stdout",
     "output_type": "stream",
     "text": [
      "   df_resid           ssr  df_diff     ss_diff          F        Pr(>F)\n",
      "0    5437.0  16639.890127      0.0         NaN        NaN           NaN\n",
      "1    5434.0  16339.886340      3.0  300.003787  33.353293  2.356883e-21\n",
      "2    5432.0  16286.453437      2.0   53.432904   8.910704  1.369193e-04\n"
     ]
    }
   ],
   "source": [
    "# ANOVA for the interaction\n",
    "# unlike post-authorship, there is no interaction with author type\n",
    "md0 = smf.ols('np.log(months_before_initiation) ~ np.log(total_active_time_months)', data=pre_authorship_df).fit()\n",
    "md1 = smf.ols('np.log(months_before_initiation) ~ np.log(total_active_time_months) + C(user_author_type)', data=pre_authorship_df).fit()\n",
    "md2 = smf.ols('np.log(months_before_initiation) ~ np.log(total_active_time_months) * C(user_author_type)', data=pre_authorship_df).fit()\n",
    "anovaResults = statsmodels.stats.anova.anova_lm(md0, md1, md2, typ=1)\n",
    "print(anovaResults)"
   ]
  },
  {
   "cell_type": "code",
   "execution_count": 190,
   "metadata": {},
   "outputs": [
    {
     "data": {
      "image/png": "[encoded data removed]",
      "text/plain": [
       "<Figure size 197.211x144 with 1 Axes>"
      ]
     },
     "metadata": {
      "needs_background": "light"
     },
     "output_type": "display_data"
    }
   ],
   "source": [
    "# plot the effects of the interaction\n",
    "# confidence vs prediction intervals: https://stats.stackexchange.com/questions/16493/difference-between-confidence-intervals-and-prediction-intervals\n",
    "color_dict = {\n",
    "    'p': 'blue',\n",
    "    'cg': 'orange',\n",
    "    'mixed': 'green'\n",
    "}\n",
    "label_dict = {\n",
    "    'p': 'Patient',\n",
    "    'cg': 'Caregiver',\n",
    "    'mixed': 'Mixed'\n",
    "}\n",
    "\n",
    "day_start = 1\n",
    "day_end = 365 * 2\n",
    "fig, ax = plt.subplots(1, 1, figsize=(5.47807 / 2, 2.0))\n",
    "for author_type in ['p', 'cg']:\n",
    "    alpha = 0.3 if author_type == 'mixed' else 1.0\n",
    "    total_active_time_months = np.linspace(day_start / 30, day_end / 30, num=50)\n",
    "    user_author_type = [author_type for i in range(len(total_active_time_months))]\n",
    "    preds = res.predict(exog=dict(total_active_time_months=total_active_time_months, user_author_type=user_author_type))\n",
    "    plt.plot(total_active_time_months, np.exp(preds), label=label_dict[author_type], alpha=alpha, linewidth=1,\n",
    "            linestyle=\"--\" if author_type == 'cg' else \"-\")\n",
    "    \n",
    "    predictions = res.get_prediction(exog=dict(total_active_time_months=total_active_time_months, user_author_type=user_author_type))\n",
    "    pred_ci_df = predictions.summary_frame(alpha=0.01)    \n",
    "    ax.fill_between(total_active_time_months, \n",
    "                    np.exp(pred_ci_df.mean_ci_lower.rename('')), \n",
    "                    np.exp(pred_ci_df.mean_ci_upper.rename('')),\n",
    "                    color=color_dict[author_type], alpha=alpha * 0.4)\n",
    "\n",
    "    if author_type == 'cg':\n",
    "        # print linear trend line for visual comparison\n",
    "        xs = total_active_time_months\n",
    "        ys = total_active_time_months + np.exp(preds[0])\n",
    "        #plt.plot(xs, ys, color='black', linestyle='--', linewidth=1)\n",
    "        cg_preds = np.exp(preds)\n",
    "    else:\n",
    "        p_preds = np.exp(preds)\n",
    "        \n",
    "\n",
    "#sdf = post_authorship_df[post_authorship_df.total_active_time_months <= day_end / 30].sample(n=2000)\n",
    "#plt.scatter(sdf.total_active_time_months, sdf.months_before_initiation.rename(''), \n",
    "#            color=[color_dict[at] for at in sdf.user_author_type], alpha=0.4)\n",
    "\n",
    "#plt.axhline(0, color='black', alpha=0.2)\n",
    "\n",
    "plt.legend()\n",
    "#plt.xlabel(\"Total months active on CB (pre- and post-initiation)\")\n",
    "plt.xlabel(\"Total active months\")\n",
    "plt.ylabel(\"Months between\\ninitiation and authorship\")\n",
    "#plt.title(\"Effects plot for interaction model\")\n",
    "plt.tight_layout(pad=0)\n",
    "plt.margins(0,0)\n",
    "plt.savefig(os.path.join(figures_dir, 'init_timing_effects_plot_pre.pdf'), dpi=180, pad_inches=0)\n",
    "plt.show()"
   ]
  },
  {
   "cell_type": "code",
   "execution_count": 194,
   "metadata": {},
   "outputs": [
    {
     "data": {
      "text/plain": [
       "0      4.168731\n",
       "1     25.213108\n",
       "2     46.497739\n",
       "3     77.245665\n",
       "4     94.623862\n",
       "5    100.508458\n",
       "dtype: float64"
      ]
     },
     "execution_count": 194,
     "metadata": {},
     "output_type": "execute_result"
    }
   ],
   "source": [
    "for author_type in ['p', 'cg']:\n",
    "    total_active_time_months = [1, 6, 12, 24, 36, 48]\n",
    "    user_author_type = [author_type for i in range(len(total_active_time_months))]\n",
    "    preds = res.predict(exog=dict(total_active_time_months=total_active_time_months, user_author_type=user_author_type))\n",
    "    if author_type == 'cg':\n",
    "        cg_preds = np.exp(preds)\n",
    "    else:\n",
    "        p_preds = np.exp(preds)\n",
    "(cg_preds - p_preds) * 30"
   ]
  },
  {
   "cell_type": "markdown",
   "metadata": {},
   "source": [
    "#### post-authorship + active time analysis"
   ]
  },
  {
   "cell_type": "code",
   "execution_count": 195,
   "metadata": {},
   "outputs": [
    {
     "data": {
      "text/plain": [
       "(837.3987469817363,\n",
       " 943.3369658457069,\n",
       " 105.93821886397063,\n",
       " Ttest_indResult(statistic=-8.982714099813403, pvalue=3.2723041970204805e-19))"
      ]
     },
     "execution_count": 195,
     "metadata": {},
     "output_type": "execute_result"
    }
   ],
   "source": [
    "post_authorship_df = init_df[~init_df.is_first_initiation_pre_authorship]\n",
    "\n",
    "sample1 = post_authorship_df[post_authorship_df.user_author_type == 'p'].total_active_time_months * 30\n",
    "sample2 = post_authorship_df[post_authorship_df.user_author_type == 'cg'].total_active_time_months * 30\n",
    "\n",
    "np.mean(sample1), \\\n",
    "np.mean(sample2), \\\n",
    "np.mean(sample2) - np.mean(sample1), \\\n",
    "scipy.stats.ttest_ind(sample1, sample2, equal_var=False)"
   ]
  },
  {
   "cell_type": "code",
   "execution_count": 196,
   "metadata": {},
   "outputs": [],
   "source": [
    "# Caregivers are on CB for, on average, 105.9 additional days, compared to patients.\n",
    "# Citing Ma et al. and Levonian et al., we expect that some of this effect is determined by declining health/death of patients"
   ]
  },
  {
   "cell_type": "code",
   "execution_count": 197,
   "metadata": {},
   "outputs": [
    {
     "data": {
      "text/plain": [
       "(18.509829800727783,\n",
       " 23.180410839612794,\n",
       " 4.670581038885011,\n",
       " Ttest_indResult(statistic=-11.908749423602208, pvalue=2.0232137549551328e-32))"
      ]
     },
     "execution_count": 197,
     "metadata": {},
     "output_type": "execute_result"
    }
   ],
   "source": [
    "# Patients initiate 4.7 months sooner than CGs, on average, after becoming authors\n",
    "post_authorship_df = init_df[~init_df.is_first_initiation_pre_authorship]\n",
    "\n",
    "sample1 = post_authorship_df[post_authorship_df.user_author_type == 'p'].months_before_initiation\n",
    "sample2 = post_authorship_df[post_authorship_df.user_author_type == 'cg'].months_before_initiation\n",
    "\n",
    "np.mean(sample1), \\\n",
    "np.mean(sample2), \\\n",
    "np.mean(sample2) - np.mean(sample1), \\\n",
    "scipy.stats.ttest_ind(sample1, sample2, equal_var=False)"
   ]
  },
  {
   "cell_type": "code",
   "execution_count": 198,
   "metadata": {},
   "outputs": [
    {
     "data": {
      "text/html": [
       "<table class=\"simpletable\">\n",
       "<caption>OLS Regression Results</caption>\n",
       "<tr>\n",
       "  <th>Dep. Variable:</th>    <td>months_before_initiation</td> <th>  R-squared:         </th> <td>   0.859</td> \n",
       "</tr>\n",
       "<tr>\n",
       "  <th>Model:</th>                       <td>OLS</td>           <th>  Adj. R-squared:    </th> <td>   0.859</td> \n",
       "</tr>\n",
       "<tr>\n",
       "  <th>Method:</th>                 <td>Least Squares</td>      <th>  F-statistic:       </th> <td>4.216e+04</td>\n",
       "</tr>\n",
       "<tr>\n",
       "  <th>Date:</th>                 <td>Mon, 13 Jan 2020</td>     <th>  Prob (F-statistic):</th>  <td>  0.00</td>  \n",
       "</tr>\n",
       "<tr>\n",
       "  <th>Time:</th>                     <td>19:33:00</td>         <th>  Log-Likelihood:    </th> <td> -75499.</td> \n",
       "</tr>\n",
       "<tr>\n",
       "  <th>No. Observations:</th>          <td> 20687</td>          <th>  AIC:               </th> <td>1.510e+05</td>\n",
       "</tr>\n",
       "<tr>\n",
       "  <th>Df Residuals:</th>              <td> 20683</td>          <th>  BIC:               </th> <td>1.510e+05</td>\n",
       "</tr>\n",
       "<tr>\n",
       "  <th>Df Model:</th>                  <td>     3</td>          <th>                     </th>     <td> </td>    \n",
       "</tr>\n",
       "<tr>\n",
       "  <th>Covariance Type:</th>          <td>nonrobust</td>        <th>                     </th>     <td> </td>    \n",
       "</tr>\n",
       "</table>\n",
       "<table class=\"simpletable\">\n",
       "<tr>\n",
       "                <td></td>                  <th>coef</th>     <th>std err</th>      <th>t</th>      <th>P>|t|</th>  <th>[0.025</th>    <th>0.975]</th>  \n",
       "</tr>\n",
       "<tr>\n",
       "  <th>Intercept</th>                    <td>   -6.1269</td> <td>    0.112</td> <td>  -54.580</td> <td> 0.000</td> <td>   -6.347</td> <td>   -5.907</td>\n",
       "</tr>\n",
       "<tr>\n",
       "  <th>C(user_author_type)[T.mixed]</th> <td>   -0.4912</td> <td>    0.262</td> <td>   -1.875</td> <td> 0.061</td> <td>   -1.005</td> <td>    0.022</td>\n",
       "</tr>\n",
       "<tr>\n",
       "  <th>C(user_author_type)[T.p]</th>     <td>   -1.3793</td> <td>    0.162</td> <td>   -8.531</td> <td> 0.000</td> <td>   -1.696</td> <td>   -1.062</td>\n",
       "</tr>\n",
       "<tr>\n",
       "  <th>total_active_time_months</th>     <td>    0.9320</td> <td>    0.003</td> <td>  354.310</td> <td> 0.000</td> <td>    0.927</td> <td>    0.937</td>\n",
       "</tr>\n",
       "</table>\n",
       "<table class=\"simpletable\">\n",
       "<tr>\n",
       "  <th>Omnibus:</th>       <td>30175.134</td> <th>  Durbin-Watson:     </th>   <td>   1.600</td>   \n",
       "</tr>\n",
       "<tr>\n",
       "  <th>Prob(Omnibus):</th>  <td> 0.000</td>   <th>  Jarque-Bera (JB):  </th> <td>183052589.623</td>\n",
       "</tr>\n",
       "<tr>\n",
       "  <th>Skew:</th>           <td> 7.756</td>   <th>  Prob(JB):          </th>   <td>    0.00</td>   \n",
       "</tr>\n",
       "<tr>\n",
       "  <th>Kurtosis:</th>       <td>463.573</td>  <th>  Cond. No.          </th>   <td>    162.</td>   \n",
       "</tr>\n",
       "</table><br/><br/>Warnings:<br/>[1] Standard Errors assume that the covariance matrix of the errors is correctly specified."
      ],
      "text/plain": [
       "<class 'statsmodels.iolib.summary.Summary'>\n",
       "\"\"\"\n",
       "                               OLS Regression Results                               \n",
       "====================================================================================\n",
       "Dep. Variable:     months_before_initiation   R-squared:                       0.859\n",
       "Model:                                  OLS   Adj. R-squared:                  0.859\n",
       "Method:                       Least Squares   F-statistic:                 4.216e+04\n",
       "Date:                      Mon, 13 Jan 2020   Prob (F-statistic):               0.00\n",
       "Time:                              19:33:00   Log-Likelihood:                -75499.\n",
       "No. Observations:                     20687   AIC:                         1.510e+05\n",
       "Df Residuals:                         20683   BIC:                         1.510e+05\n",
       "Df Model:                                 3                                         \n",
       "Covariance Type:                  nonrobust                                         \n",
       "================================================================================================\n",
       "                                   coef    std err          t      P>|t|      [0.025      0.975]\n",
       "------------------------------------------------------------------------------------------------\n",
       "Intercept                       -6.1269      0.112    -54.580      0.000      -6.347      -5.907\n",
       "C(user_author_type)[T.mixed]    -0.4912      0.262     -1.875      0.061      -1.005       0.022\n",
       "C(user_author_type)[T.p]        -1.3793      0.162     -8.531      0.000      -1.696      -1.062\n",
       "total_active_time_months         0.9320      0.003    354.310      0.000       0.927       0.937\n",
       "==============================================================================\n",
       "Omnibus:                    30175.134   Durbin-Watson:                   1.600\n",
       "Prob(Omnibus):                  0.000   Jarque-Bera (JB):        183052589.623\n",
       "Skew:                           7.756   Prob(JB):                         0.00\n",
       "Kurtosis:                     463.573   Cond. No.                         162.\n",
       "==============================================================================\n",
       "\n",
       "Warnings:\n",
       "[1] Standard Errors assume that the covariance matrix of the errors is correctly specified.\n",
       "\"\"\""
      ]
     },
     "execution_count": 198,
     "metadata": {},
     "output_type": "execute_result"
    }
   ],
   "source": [
    "# ANCOVA (main effects analysis of covariance model)\n",
    "# small sublinear trend on total_active_time_months\n",
    "# significantly reduced role of author type, but still present\n",
    "f = 'months_before_initiation ~ total_active_time_months + C(user_author_type)'\n",
    "model = smf.ols(formula=f, data = post_authorship_df)\n",
    "res = model.fit()\n",
    "res.summary()"
   ]
  },
  {
   "cell_type": "code",
   "execution_count": 199,
   "metadata": {},
   "outputs": [
    {
     "data": {
      "text/html": [
       "<table class=\"simpletable\">\n",
       "<caption>OLS Regression Results</caption>\n",
       "<tr>\n",
       "  <th>Dep. Variable:</th>    <td>np.log(months_before_initiation)</td> <th>  R-squared:         </th> <td>   0.542</td> \n",
       "</tr>\n",
       "<tr>\n",
       "  <th>Model:</th>                           <td>OLS</td>               <th>  Adj. R-squared:    </th> <td>   0.542</td> \n",
       "</tr>\n",
       "<tr>\n",
       "  <th>Method:</th>                     <td>Least Squares</td>          <th>  F-statistic:       </th> <td>   4899.</td> \n",
       "</tr>\n",
       "<tr>\n",
       "  <th>Date:</th>                     <td>Mon, 13 Jan 2020</td>         <th>  Prob (F-statistic):</th>  <td>  0.00</td>  \n",
       "</tr>\n",
       "<tr>\n",
       "  <th>Time:</th>                         <td>19:33:00</td>             <th>  Log-Likelihood:    </th> <td> -33771.</td> \n",
       "</tr>\n",
       "<tr>\n",
       "  <th>No. Observations:</th>              <td> 20687</td>              <th>  AIC:               </th> <td>6.755e+04</td>\n",
       "</tr>\n",
       "<tr>\n",
       "  <th>Df Residuals:</th>                  <td> 20681</td>              <th>  BIC:               </th> <td>6.760e+04</td>\n",
       "</tr>\n",
       "<tr>\n",
       "  <th>Df Model:</th>                      <td>     5</td>              <th>                     </th>     <td> </td>    \n",
       "</tr>\n",
       "<tr>\n",
       "  <th>Covariance Type:</th>              <td>nonrobust</td>            <th>                     </th>     <td> </td>    \n",
       "</tr>\n",
       "</table>\n",
       "<table class=\"simpletable\">\n",
       "<tr>\n",
       "                                <td></td>                                   <th>coef</th>     <th>std err</th>      <th>t</th>      <th>P>|t|</th>  <th>[0.025</th>    <th>0.975]</th>  \n",
       "</tr>\n",
       "<tr>\n",
       "  <th>Intercept</th>                                                     <td>   -1.8437</td> <td>    0.032</td> <td>  -57.433</td> <td> 0.000</td> <td>   -1.907</td> <td>   -1.781</td>\n",
       "</tr>\n",
       "<tr>\n",
       "  <th>C(user_author_type)[T.mixed]</th>                                  <td>   -0.0897</td> <td>    0.108</td> <td>   -0.831</td> <td> 0.406</td> <td>   -0.301</td> <td>    0.122</td>\n",
       "</tr>\n",
       "<tr>\n",
       "  <th>C(user_author_type)[T.p]</th>                                      <td>   -0.3996</td> <td>    0.071</td> <td>   -5.599</td> <td> 0.000</td> <td>   -0.539</td> <td>   -0.260</td>\n",
       "</tr>\n",
       "<tr>\n",
       "  <th>np.log(total_active_time_months)</th>                              <td>    1.3251</td> <td>    0.010</td> <td>  133.376</td> <td> 0.000</td> <td>    1.306</td> <td>    1.345</td>\n",
       "</tr>\n",
       "<tr>\n",
       "  <th>np.log(total_active_time_months):C(user_author_type)[T.mixed]</th> <td>    0.0187</td> <td>    0.033</td> <td>    0.569</td> <td> 0.570</td> <td>   -0.046</td> <td>    0.083</td>\n",
       "</tr>\n",
       "<tr>\n",
       "  <th>np.log(total_active_time_months):C(user_author_type)[T.p]</th>     <td>    0.0616</td> <td>    0.023</td> <td>    2.720</td> <td> 0.007</td> <td>    0.017</td> <td>    0.106</td>\n",
       "</tr>\n",
       "</table>\n",
       "<table class=\"simpletable\">\n",
       "<tr>\n",
       "  <th>Omnibus:</th>       <td>10146.537</td> <th>  Durbin-Watson:     </th> <td>   1.864</td> \n",
       "</tr>\n",
       "<tr>\n",
       "  <th>Prob(Omnibus):</th>  <td> 0.000</td>   <th>  Jarque-Bera (JB):  </th> <td>70370.259</td>\n",
       "</tr>\n",
       "<tr>\n",
       "  <th>Skew:</th>           <td>-2.277</td>   <th>  Prob(JB):          </th> <td>    0.00</td> \n",
       "</tr>\n",
       "<tr>\n",
       "  <th>Kurtosis:</th>       <td>10.804</td>   <th>  Cond. No.          </th> <td>    45.4</td> \n",
       "</tr>\n",
       "</table><br/><br/>Warnings:<br/>[1] Standard Errors assume that the covariance matrix of the errors is correctly specified."
      ],
      "text/plain": [
       "<class 'statsmodels.iolib.summary.Summary'>\n",
       "\"\"\"\n",
       "                                   OLS Regression Results                                   \n",
       "============================================================================================\n",
       "Dep. Variable:     np.log(months_before_initiation)   R-squared:                       0.542\n",
       "Model:                                          OLS   Adj. R-squared:                  0.542\n",
       "Method:                               Least Squares   F-statistic:                     4899.\n",
       "Date:                              Mon, 13 Jan 2020   Prob (F-statistic):               0.00\n",
       "Time:                                      19:33:00   Log-Likelihood:                -33771.\n",
       "No. Observations:                             20687   AIC:                         6.755e+04\n",
       "Df Residuals:                                 20681   BIC:                         6.760e+04\n",
       "Df Model:                                         5                                         \n",
       "Covariance Type:                          nonrobust                                         \n",
       "=================================================================================================================================\n",
       "                                                                    coef    std err          t      P>|t|      [0.025      0.975]\n",
       "---------------------------------------------------------------------------------------------------------------------------------\n",
       "Intercept                                                        -1.8437      0.032    -57.433      0.000      -1.907      -1.781\n",
       "C(user_author_type)[T.mixed]                                     -0.0897      0.108     -0.831      0.406      -0.301       0.122\n",
       "C(user_author_type)[T.p]                                         -0.3996      0.071     -5.599      0.000      -0.539      -0.260\n",
       "np.log(total_active_time_months)                                  1.3251      0.010    133.376      0.000       1.306       1.345\n",
       "np.log(total_active_time_months):C(user_author_type)[T.mixed]     0.0187      0.033      0.569      0.570      -0.046       0.083\n",
       "np.log(total_active_time_months):C(user_author_type)[T.p]         0.0616      0.023      2.720      0.007       0.017       0.106\n",
       "==============================================================================\n",
       "Omnibus:                    10146.537   Durbin-Watson:                   1.864\n",
       "Prob(Omnibus):                  0.000   Jarque-Bera (JB):            70370.259\n",
       "Skew:                          -2.277   Prob(JB):                         0.00\n",
       "Kurtosis:                      10.804   Cond. No.                         45.4\n",
       "==============================================================================\n",
       "\n",
       "Warnings:\n",
       "[1] Standard Errors assume that the covariance matrix of the errors is correctly specified.\n",
       "\"\"\""
      ]
     },
     "execution_count": 199,
     "metadata": {},
     "output_type": "execute_result"
    }
   ],
   "source": [
    "# Interaction model\n",
    "f = 'np.log(months_before_initiation) ~ np.log(total_active_time_months) * C(user_author_type)'\n",
    "model = smf.ols(formula=f, data = post_authorship_df)\n",
    "res = model.fit()\n",
    "res.summary()"
   ]
  },
  {
   "cell_type": "code",
   "execution_count": 200,
   "metadata": {},
   "outputs": [
    {
     "name": "stdout",
     "output_type": "stream",
     "text": [
      "\\begin{tabular}{lcccccc}\n",
      "\\hline\n",
      "                                                                   &  Coef.  & Std.Err. &    t     & P$>$$|$t$|$ &  [0.025 &  0.975]  \\\\\n",
      "\\hline\n",
      "\\hline\n",
      "\\end{tabular}\n",
      "\\begin{tabular}{lrrrrrr}\n",
      "Intercept                                                          & -1.8437 &   0.0321 & -57.4332 &      0.0000 & -1.9066 & -1.7807  \\\\\n",
      "C(user\\_author\\_type)[T.mixed]                                     & -0.0897 &   0.1079 &  -0.8312 &      0.4059 & -0.3012 &  0.1218  \\\\\n",
      "C(user\\_author\\_type)[T.p]                                         & -0.3996 &   0.0714 &  -5.5993 &      0.0000 & -0.5395 & -0.2597  \\\\\n",
      "np.log(total\\_active\\_time\\_months)                                &  1.3251 &   0.0099 & 133.3760 &      0.0000 &  1.3056 &  1.3446  \\\\\n",
      "np.log(total\\_active\\_time\\_months):C(user\\_author\\_type)[T.mixed] &  0.0187 &   0.0329 &   0.5687 &      0.5696 & -0.0457 &  0.0831  \\\\\n",
      "np.log(total\\_active\\_time\\_months):C(user\\_author\\_type)[T.p]     &  0.0616 &   0.0227 &   2.7199 &      0.0065 &  0.0172 &  0.1061  \\\\\n",
      "\\hline\n",
      "\\end{tabular}\n"
     ]
    }
   ],
   "source": [
    "# can generate some useful latex info\n",
    "for line in res.summary2().as_latex().split(\"\\n\")[17:19+13]:\n",
    "    print(line)"
   ]
  },
  {
   "cell_type": "code",
   "execution_count": 201,
   "metadata": {},
   "outputs": [
    {
     "data": {
      "text/plain": [
       "Intercept                                                       -55.309990\n",
       "C(user_author_type)[T.mixed]                                     -2.690436\n",
       "C(user_author_type)[T.p]                                        -11.987388\n",
       "np.log(total_active_time_months)                                 39.753256\n",
       "np.log(total_active_time_months):C(user_author_type)[T.mixed]     0.560583\n",
       "np.log(total_active_time_months):C(user_author_type)[T.p]         1.849396\n",
       "dtype: float64"
      ]
     },
     "execution_count": 201,
     "metadata": {},
     "output_type": "execute_result"
    }
   ],
   "source": [
    "# parameters with a \"day\" interpretation\n",
    "# e.g. total_active_time_months:C(user_author_type)[T.p]: \n",
    "# for patients, each additional month active is associated with initiating a little more than half a day earlier\n",
    "# total_active_time_month\n",
    "# for caregivers, a 30 day increase in total time on CB is associated with initiating 28 days earlier; this 2-day gap indicates that initiation is more likely to occur earlier (? need better way to articulate this effect)\n",
    "res.params * 30"
   ]
  },
  {
   "cell_type": "code",
   "execution_count": null,
   "metadata": {},
   "outputs": [],
   "source": []
  },
  {
   "cell_type": "code",
   "execution_count": 202,
   "metadata": {},
   "outputs": [
    {
     "data": {
      "text/plain": [
       "(0.03402816358024691, 562.8015509259259)"
      ]
     },
     "execution_count": 202,
     "metadata": {},
     "output_type": "execute_result"
    }
   ],
   "source": [
    "np.min(post_authorship_df.total_active_time_months), np.max(post_authorship_df.total_active_time_months)"
   ]
  },
  {
   "cell_type": "code",
   "execution_count": 203,
   "metadata": {},
   "outputs": [
    {
     "data": {
      "image/png": "[encoded data removed]",
      "text/plain": [
       "<Figure size 197.211x144 with 1 Axes>"
      ]
     },
     "metadata": {
      "needs_background": "light"
     },
     "output_type": "display_data"
    }
   ],
   "source": [
    "# plot the effects of the interaction\n",
    "# confidence vs prediction intervals: https://stats.stackexchange.com/questions/16493/difference-between-confidence-intervals-and-prediction-intervals\n",
    "color_dict = {\n",
    "    'p': 'blue',\n",
    "    'cg': 'orange',\n",
    "    'mixed': 'green'\n",
    "}\n",
    "label_dict = {\n",
    "    'p': 'Patient',\n",
    "    'cg': 'Caregiver',\n",
    "    'mixed': 'Mixed'\n",
    "}\n",
    "\n",
    "day_start = 1\n",
    "day_end = 365 * 2\n",
    "fig, ax = plt.subplots(1, 1, figsize=(5.47807 / 2, 2.0))\n",
    "for author_type in ['p', 'cg']:\n",
    "    alpha = 0.3 if author_type == 'mixed' else 1.0\n",
    "    total_active_time_months = np.linspace(day_start / 30, day_end / 30, num=50)\n",
    "    user_author_type = [author_type for i in range(len(total_active_time_months))]\n",
    "    preds = res.predict(exog=dict(total_active_time_months=total_active_time_months, user_author_type=user_author_type))\n",
    "    plt.plot(total_active_time_months, np.exp(preds), label=label_dict[author_type], alpha=alpha, linewidth=1,\n",
    "            linestyle=\"--\" if author_type == 'cg' else \"-\")\n",
    "    \n",
    "    predictions = res.get_prediction(exog=dict(total_active_time_months=total_active_time_months, user_author_type=user_author_type))\n",
    "    pred_ci_df = predictions.summary_frame(alpha=0.01)    \n",
    "    ax.fill_between(total_active_time_months, \n",
    "                    np.exp(pred_ci_df.mean_ci_lower.rename('')), \n",
    "                    np.exp(pred_ci_df.mean_ci_upper.rename('')),\n",
    "                    color=color_dict[author_type], alpha=alpha * 0.4)\n",
    "\n",
    "    if author_type == 'cg':\n",
    "        # print linear trend line for visual comparison\n",
    "        xs = total_active_time_months\n",
    "        ys = total_active_time_months + np.exp(preds[0])\n",
    "        #plt.plot(xs, ys, color='black', linestyle='--', linewidth=1)\n",
    "        cg_preds = np.exp(preds)\n",
    "    else:\n",
    "        p_preds = np.exp(preds)\n",
    "        \n",
    "\n",
    "#sdf = post_authorship_df[post_authorship_df.total_active_time_months <= day_end / 30].sample(n=2000)\n",
    "#plt.scatter(sdf.total_active_time_months, sdf.months_before_initiation.rename(''), \n",
    "#            color=[color_dict[at] for at in sdf.user_author_type], alpha=0.4)\n",
    "\n",
    "#plt.axhline(0, color='black', alpha=0.2)\n",
    "\n",
    "plt.legend()\n",
    "plt.xlabel(\"Total active months\")\n",
    "plt.ylabel(\"Months between\\nauthorship and initiation\")\n",
    "#plt.title(\"Effects plot for interaction model\")\n",
    "plt.tight_layout(pad=0)\n",
    "plt.margins(0,0)\n",
    "plt.savefig(os.path.join(figures_dir, 'init_timing_effects_plot_post.pdf'), dpi=180, pad_inches=0)\n",
    "plt.show()"
   ]
  },
  {
   "cell_type": "code",
   "execution_count": 204,
   "metadata": {},
   "outputs": [],
   "source": [
    "for author_type in ['p', 'cg']:\n",
    "    total_active_time_months = [1, 6, 12, 24, 36, 48]\n",
    "    user_author_type = [author_type for i in range(len(total_active_time_months))]\n",
    "    preds = res.predict(exog=dict(total_active_time_months=total_active_time_months, user_author_type=user_author_type))\n",
    "    if author_type == 'cg':\n",
    "        cg_preds = np.exp(preds)\n",
    "    else:\n",
    "        p_preds = np.exp(preds)"
   ]
  },
  {
   "cell_type": "code",
   "execution_count": 205,
   "metadata": {},
   "outputs": [
    {
     "data": {
      "text/plain": [
       "0      1.563681\n",
       "1     12.804868\n",
       "2     27.905089\n",
       "3     58.992344\n",
       "4     89.644602\n",
       "5    119.240301\n",
       "dtype: float64"
      ]
     },
     "execution_count": 205,
     "metadata": {},
     "output_type": "execute_result"
    }
   ],
   "source": [
    "(cg_preds - p_preds) * 30"
   ]
  },
  {
   "cell_type": "code",
   "execution_count": 43,
   "metadata": {},
   "outputs": [],
   "source": [
    "# the decreased slope of the patient line relative to the caregiver line\n",
    "# indicates that patients do in fact initiate earlier than caregivers do\n",
    "# the fact that both trends are sub-linear indicates "
   ]
  },
  {
   "cell_type": "code",
   "execution_count": 44,
   "metadata": {},
   "outputs": [
    {
     "data": {
      "text/plain": [
       "0.6990000000000001"
      ]
     },
     "execution_count": 44,
     "metadata": {},
     "output_type": "execute_result"
    }
   ],
   "source": [
    "# interestingly, a sublinear relationship between total user tenure on CB\n",
    "# and the time between authorship and first initiation\n",
    "# i.e. for each additional day that will be spent by this user on the site, the average first initiation time is earlier than you would predict if the timing of the first initiation was entirely a function of the percent of time spent on the site\n",
    "0.0233 * 30"
   ]
  },
  {
   "cell_type": "code",
   "execution_count": 136,
   "metadata": {},
   "outputs": [
    {
     "name": "stdout",
     "output_type": "stream",
     "text": [
      "   df_resid           ssr  df_diff     ss_diff          F        Pr(>F)\n",
      "0   20685.0  31873.952974      0.0         NaN        NaN           NaN\n",
      "1   20683.0  31720.929144      2.0  153.023831  49.901197  2.400517e-22\n",
      "2   20681.0  31709.518345      2.0   11.410798   3.721071  2.422425e-02\n"
     ]
    }
   ],
   "source": [
    "# ANOVA for the interaction\n",
    "# the interaction is significant at the 95% confidence level\n",
    "md0 = smf.ols('np.log(months_before_initiation) ~ np.log(total_active_time_months)', data=post_authorship_df).fit()\n",
    "md1 = smf.ols('np.log(months_before_initiation) ~ np.log(total_active_time_months) + C(user_author_type)', data=post_authorship_df).fit()\n",
    "md2 = smf.ols('np.log(months_before_initiation) ~ np.log(total_active_time_months) * C(user_author_type)', data=post_authorship_df).fit()\n",
    "anovaResults = statsmodels.stats.anova.anova_lm(md0, md1, md2, typ=1)\n",
    "print(anovaResults)"
   ]
  },
  {
   "cell_type": "code",
   "execution_count": 46,
   "metadata": {},
   "outputs": [
    {
     "data": {
      "text/plain": [
       "((20687, 1), (20687, 6))"
      ]
     },
     "execution_count": 46,
     "metadata": {},
     "output_type": "execute_result"
    }
   ],
   "source": [
    "import patsy\n",
    "f = f'months_before_initiation ~ total_active_time_months + C(user_author_type) + C(user_author_type) : total_active_time_months'\n",
    "y,X = patsy.dmatrices(f, post_authorship_df, return_type='dataframe')\n",
    "y.shape, X.shape"
   ]
  },
  {
   "cell_type": "code",
   "execution_count": 47,
   "metadata": {},
   "outputs": [
    {
     "data": {
      "text/html": [
       "<div>\n",
       "<style scoped>\n",
       "    .dataframe tbody tr th:only-of-type {\n",
       "        vertical-align: middle;\n",
       "    }\n",
       "\n",
       "    .dataframe tbody tr th {\n",
       "        vertical-align: top;\n",
       "    }\n",
       "\n",
       "    .dataframe thead th {\n",
       "        text-align: right;\n",
       "    }\n",
       "</style>\n",
       "<table border=\"1\" class=\"dataframe\">\n",
       "  <thead>\n",
       "    <tr style=\"text-align: right;\">\n",
       "      <th></th>\n",
       "      <th>Intercept</th>\n",
       "      <th>C(user_author_type)[T.mixed]</th>\n",
       "      <th>C(user_author_type)[T.p]</th>\n",
       "      <th>total_active_time_months</th>\n",
       "      <th>C(user_author_type)[T.mixed]:total_active_time_months</th>\n",
       "      <th>C(user_author_type)[T.p]:total_active_time_months</th>\n",
       "    </tr>\n",
       "  </thead>\n",
       "  <tbody>\n",
       "    <tr>\n",
       "      <td>Intercept</td>\n",
       "      <td>NaN</td>\n",
       "      <td>NaN</td>\n",
       "      <td>NaN</td>\n",
       "      <td>NaN</td>\n",
       "      <td>NaN</td>\n",
       "      <td>NaN</td>\n",
       "    </tr>\n",
       "    <tr>\n",
       "      <td>C(user_author_type)[T.mixed]</td>\n",
       "      <td>NaN</td>\n",
       "      <td>1.000000</td>\n",
       "      <td>-0.136255</td>\n",
       "      <td>0.029932</td>\n",
       "      <td>0.773998</td>\n",
       "      <td>-0.102222</td>\n",
       "    </tr>\n",
       "    <tr>\n",
       "      <td>C(user_author_type)[T.p]</td>\n",
       "      <td>NaN</td>\n",
       "      <td>-0.136255</td>\n",
       "      <td>1.000000</td>\n",
       "      <td>-0.060971</td>\n",
       "      <td>-0.105461</td>\n",
       "      <td>0.750222</td>\n",
       "    </tr>\n",
       "    <tr>\n",
       "      <td>total_active_time_months</td>\n",
       "      <td>NaN</td>\n",
       "      <td>0.029932</td>\n",
       "      <td>-0.060971</td>\n",
       "      <td>1.000000</td>\n",
       "      <td>0.199396</td>\n",
       "      <td>0.221269</td>\n",
       "    </tr>\n",
       "    <tr>\n",
       "      <td>C(user_author_type)[T.mixed]:total_active_time_months</td>\n",
       "      <td>NaN</td>\n",
       "      <td>0.773998</td>\n",
       "      <td>-0.105461</td>\n",
       "      <td>0.199396</td>\n",
       "      <td>1.000000</td>\n",
       "      <td>-0.079119</td>\n",
       "    </tr>\n",
       "    <tr>\n",
       "      <td>C(user_author_type)[T.p]:total_active_time_months</td>\n",
       "      <td>NaN</td>\n",
       "      <td>-0.102222</td>\n",
       "      <td>0.750222</td>\n",
       "      <td>0.221269</td>\n",
       "      <td>-0.079119</td>\n",
       "      <td>1.000000</td>\n",
       "    </tr>\n",
       "  </tbody>\n",
       "</table>\n",
       "</div>"
      ],
      "text/plain": [
       "                                                    Intercept  \\\n",
       "Intercept                                                 NaN   \n",
       "C(user_author_type)[T.mixed]                              NaN   \n",
       "C(user_author_type)[T.p]                                  NaN   \n",
       "total_active_time_months                                  NaN   \n",
       "C(user_author_type)[T.mixed]:total_active_time_...        NaN   \n",
       "C(user_author_type)[T.p]:total_active_time_months         NaN   \n",
       "\n",
       "                                                    C(user_author_type)[T.mixed]  \\\n",
       "Intercept                                                                    NaN   \n",
       "C(user_author_type)[T.mixed]                                            1.000000   \n",
       "C(user_author_type)[T.p]                                               -0.136255   \n",
       "total_active_time_months                                                0.029932   \n",
       "C(user_author_type)[T.mixed]:total_active_time_...                      0.773998   \n",
       "C(user_author_type)[T.p]:total_active_time_months                      -0.102222   \n",
       "\n",
       "                                                    C(user_author_type)[T.p]  \\\n",
       "Intercept                                                                NaN   \n",
       "C(user_author_type)[T.mixed]                                       -0.136255   \n",
       "C(user_author_type)[T.p]                                            1.000000   \n",
       "total_active_time_months                                           -0.060971   \n",
       "C(user_author_type)[T.mixed]:total_active_time_...                 -0.105461   \n",
       "C(user_author_type)[T.p]:total_active_time_months                   0.750222   \n",
       "\n",
       "                                                    total_active_time_months  \\\n",
       "Intercept                                                                NaN   \n",
       "C(user_author_type)[T.mixed]                                        0.029932   \n",
       "C(user_author_type)[T.p]                                           -0.060971   \n",
       "total_active_time_months                                            1.000000   \n",
       "C(user_author_type)[T.mixed]:total_active_time_...                  0.199396   \n",
       "C(user_author_type)[T.p]:total_active_time_months                   0.221269   \n",
       "\n",
       "                                                    C(user_author_type)[T.mixed]:total_active_time_months  \\\n",
       "Intercept                                                                                         NaN       \n",
       "C(user_author_type)[T.mixed]                                                                 0.773998       \n",
       "C(user_author_type)[T.p]                                                                    -0.105461       \n",
       "total_active_time_months                                                                     0.199396       \n",
       "C(user_author_type)[T.mixed]:total_active_time_...                                           1.000000       \n",
       "C(user_author_type)[T.p]:total_active_time_months                                           -0.079119       \n",
       "\n",
       "                                                    C(user_author_type)[T.p]:total_active_time_months  \n",
       "Intercept                                                                                         NaN  \n",
       "C(user_author_type)[T.mixed]                                                                -0.102222  \n",
       "C(user_author_type)[T.p]                                                                     0.750222  \n",
       "total_active_time_months                                                                     0.221269  \n",
       "C(user_author_type)[T.mixed]:total_active_time_...                                          -0.079119  \n",
       "C(user_author_type)[T.p]:total_active_time_months                                            1.000000  "
      ]
     },
     "execution_count": 47,
     "metadata": {},
     "output_type": "execute_result"
    }
   ],
   "source": [
    "# no obvious multicolinearity problems...\n",
    "X.corr()"
   ]
  },
  {
   "cell_type": "markdown",
   "metadata": {},
   "source": [
    "## Omnibus model"
   ]
  },
  {
   "cell_type": "code",
   "execution_count": 69,
   "metadata": {},
   "outputs": [
    {
     "data": {
      "text/html": [
       "<table class=\"simpletable\">\n",
       "<caption>OLS Regression Results</caption>\n",
       "<tr>\n",
       "  <th>Dep. Variable:</th>    <td>months_before_initiation</td> <th>  R-squared:         </th>  <td>   0.116</td>  \n",
       "</tr>\n",
       "<tr>\n",
       "  <th>Model:</th>                       <td>OLS</td>           <th>  Adj. R-squared:    </th>  <td>   0.115</td>  \n",
       "</tr>\n",
       "<tr>\n",
       "  <th>Method:</th>                 <td>Least Squares</td>      <th>  F-statistic:       </th>  <td>   228.3</td>  \n",
       "</tr>\n",
       "<tr>\n",
       "  <th>Date:</th>                 <td>Sun, 05 Jan 2020</td>     <th>  Prob (F-statistic):</th>   <td>  0.00</td>   \n",
       "</tr>\n",
       "<tr>\n",
       "  <th>Time:</th>                     <td>16:59:00</td>         <th>  Log-Likelihood:    </th> <td>-1.2002e+05</td>\n",
       "</tr>\n",
       "<tr>\n",
       "  <th>No. Observations:</th>          <td> 26125</td>          <th>  AIC:               </th>  <td>2.401e+05</td> \n",
       "</tr>\n",
       "<tr>\n",
       "  <th>Df Residuals:</th>              <td> 26109</td>          <th>  BIC:               </th>  <td>2.402e+05</td> \n",
       "</tr>\n",
       "<tr>\n",
       "  <th>Df Model:</th>                  <td>    15</td>          <th>                     </th>      <td> </td>     \n",
       "</tr>\n",
       "<tr>\n",
       "  <th>Covariance Type:</th>          <td>nonrobust</td>        <th>                     </th>      <td> </td>     \n",
       "</tr>\n",
       "</table>\n",
       "<table class=\"simpletable\">\n",
       "<tr>\n",
       "                            <td></td>                               <th>coef</th>     <th>std err</th>      <th>t</th>      <th>P>|t|</th>  <th>[0.025</th>    <th>0.975]</th>  \n",
       "</tr>\n",
       "<tr>\n",
       "  <th>Intercept</th>                                             <td>   13.9468</td> <td>    0.342</td> <td>   40.797</td> <td> 0.000</td> <td>   13.277</td> <td>   14.617</td>\n",
       "</tr>\n",
       "<tr>\n",
       "  <th>C(assigned_health_cond)[T.Cardiovascular/Stroke]</th>      <td>   -0.6374</td> <td>    0.809</td> <td>   -0.787</td> <td> 0.431</td> <td>   -2.224</td> <td>    0.949</td>\n",
       "</tr>\n",
       "<tr>\n",
       "  <th>C(assigned_health_cond)[T.Condition Unknown]</th>          <td>   22.2140</td> <td>    2.643</td> <td>    8.404</td> <td> 0.000</td> <td>   17.033</td> <td>   27.395</td>\n",
       "</tr>\n",
       "<tr>\n",
       "  <th>C(assigned_health_cond)[T.Congenital/Immune Disorder]</th> <td>   -6.5656</td> <td>    1.862</td> <td>   -3.527</td> <td> 0.000</td> <td>  -10.214</td> <td>   -2.917</td>\n",
       "</tr>\n",
       "<tr>\n",
       "  <th>C(assigned_health_cond)[T.Infant/Childbirth]</th>          <td>    2.2990</td> <td>    1.062</td> <td>    2.164</td> <td> 0.030</td> <td>    0.217</td> <td>    4.381</td>\n",
       "</tr>\n",
       "<tr>\n",
       "  <th>C(assigned_health_cond)[T.Injury]</th>                     <td>    0.9338</td> <td>    0.888</td> <td>    1.051</td> <td> 0.293</td> <td>   -0.808</td> <td>    2.675</td>\n",
       "</tr>\n",
       "<tr>\n",
       "  <th>C(assigned_health_cond)[T.Neurological Condition]</th>     <td>    2.3263</td> <td>    0.976</td> <td>    2.384</td> <td> 0.017</td> <td>    0.413</td> <td>    4.239</td>\n",
       "</tr>\n",
       "<tr>\n",
       "  <th>C(assigned_health_cond)[T.None]</th>                       <td>   -4.9977</td> <td>    0.344</td> <td>  -14.519</td> <td> 0.000</td> <td>   -5.672</td> <td>   -4.323</td>\n",
       "</tr>\n",
       "<tr>\n",
       "  <th>C(assigned_health_cond)[T.Other]</th>                      <td>   19.0683</td> <td>    0.704</td> <td>   27.075</td> <td> 0.000</td> <td>   17.688</td> <td>   20.449</td>\n",
       "</tr>\n",
       "<tr>\n",
       "  <th>C(assigned_health_cond)[T.Surgery/Transplantation]</th>    <td>    5.3029</td> <td>    0.827</td> <td>    6.411</td> <td> 0.000</td> <td>    3.682</td> <td>    6.924</td>\n",
       "</tr>\n",
       "<tr>\n",
       "  <th>C(user_author_type)[T.mixed]</th>                          <td>    1.9229</td> <td>    0.607</td> <td>    3.166</td> <td> 0.002</td> <td>    0.732</td> <td>    3.113</td>\n",
       "</tr>\n",
       "<tr>\n",
       "  <th>C(user_author_type)[T.p]</th>                              <td>   -3.0585</td> <td>    0.378</td> <td>   -8.087</td> <td> 0.000</td> <td>   -3.800</td> <td>   -2.317</td>\n",
       "</tr>\n",
       "<tr>\n",
       "  <th>has_received_int</th>                                      <td>    4.9413</td> <td>    0.302</td> <td>   16.383</td> <td> 0.000</td> <td>    4.350</td> <td>    5.533</td>\n",
       "</tr>\n",
       "<tr>\n",
       "  <th>first_int_to_first_update:has_received_int</th>            <td>    0.7097</td> <td>    0.025</td> <td>   28.130</td> <td> 0.000</td> <td>    0.660</td> <td>    0.759</td>\n",
       "</tr>\n",
       "<tr>\n",
       "  <th>is_multiauthor</th>                                        <td>   19.5659</td> <td>    1.289</td> <td>   15.177</td> <td> 0.000</td> <td>   17.039</td> <td>   22.093</td>\n",
       "</tr>\n",
       "<tr>\n",
       "  <th>will_become_multiauthor</th>                               <td>   -2.1454</td> <td>    0.830</td> <td>   -2.585</td> <td> 0.010</td> <td>   -3.772</td> <td>   -0.519</td>\n",
       "</tr>\n",
       "</table>\n",
       "<table class=\"simpletable\">\n",
       "<tr>\n",
       "  <th>Omnibus:</th>       <td>15141.575</td> <th>  Durbin-Watson:     </th>  <td>   1.919</td> \n",
       "</tr>\n",
       "<tr>\n",
       "  <th>Prob(Omnibus):</th>  <td> 0.000</td>   <th>  Jarque-Bera (JB):  </th> <td>439215.611</td>\n",
       "</tr>\n",
       "<tr>\n",
       "  <th>Skew:</th>           <td> 2.265</td>   <th>  Prob(JB):          </th>  <td>    0.00</td> \n",
       "</tr>\n",
       "<tr>\n",
       "  <th>Kurtosis:</th>       <td>22.569</td>   <th>  Cond. No.          </th>  <td>    108.</td> \n",
       "</tr>\n",
       "</table><br/><br/>Warnings:<br/>[1] Standard Errors assume that the covariance matrix of the errors is correctly specified."
      ],
      "text/plain": [
       "<class 'statsmodels.iolib.summary.Summary'>\n",
       "\"\"\"\n",
       "                               OLS Regression Results                               \n",
       "====================================================================================\n",
       "Dep. Variable:     months_before_initiation   R-squared:                       0.116\n",
       "Model:                                  OLS   Adj. R-squared:                  0.115\n",
       "Method:                       Least Squares   F-statistic:                     228.3\n",
       "Date:                      Sun, 05 Jan 2020   Prob (F-statistic):               0.00\n",
       "Time:                              16:59:00   Log-Likelihood:            -1.2002e+05\n",
       "No. Observations:                     26125   AIC:                         2.401e+05\n",
       "Df Residuals:                         26109   BIC:                         2.402e+05\n",
       "Df Model:                                15                                         \n",
       "Covariance Type:                  nonrobust                                         \n",
       "=========================================================================================================================\n",
       "                                                            coef    std err          t      P>|t|      [0.025      0.975]\n",
       "-------------------------------------------------------------------------------------------------------------------------\n",
       "Intercept                                                13.9468      0.342     40.797      0.000      13.277      14.617\n",
       "C(assigned_health_cond)[T.Cardiovascular/Stroke]         -0.6374      0.809     -0.787      0.431      -2.224       0.949\n",
       "C(assigned_health_cond)[T.Condition Unknown]             22.2140      2.643      8.404      0.000      17.033      27.395\n",
       "C(assigned_health_cond)[T.Congenital/Immune Disorder]    -6.5656      1.862     -3.527      0.000     -10.214      -2.917\n",
       "C(assigned_health_cond)[T.Infant/Childbirth]              2.2990      1.062      2.164      0.030       0.217       4.381\n",
       "C(assigned_health_cond)[T.Injury]                         0.9338      0.888      1.051      0.293      -0.808       2.675\n",
       "C(assigned_health_cond)[T.Neurological Condition]         2.3263      0.976      2.384      0.017       0.413       4.239\n",
       "C(assigned_health_cond)[T.None]                          -4.9977      0.344    -14.519      0.000      -5.672      -4.323\n",
       "C(assigned_health_cond)[T.Other]                         19.0683      0.704     27.075      0.000      17.688      20.449\n",
       "C(assigned_health_cond)[T.Surgery/Transplantation]        5.3029      0.827      6.411      0.000       3.682       6.924\n",
       "C(user_author_type)[T.mixed]                              1.9229      0.607      3.166      0.002       0.732       3.113\n",
       "C(user_author_type)[T.p]                                 -3.0585      0.378     -8.087      0.000      -3.800      -2.317\n",
       "has_received_int                                          4.9413      0.302     16.383      0.000       4.350       5.533\n",
       "first_int_to_first_update:has_received_int                0.7097      0.025     28.130      0.000       0.660       0.759\n",
       "is_multiauthor                                           19.5659      1.289     15.177      0.000      17.039      22.093\n",
       "will_become_multiauthor                                  -2.1454      0.830     -2.585      0.010      -3.772      -0.519\n",
       "==============================================================================\n",
       "Omnibus:                    15141.575   Durbin-Watson:                   1.919\n",
       "Prob(Omnibus):                  0.000   Jarque-Bera (JB):           439215.611\n",
       "Skew:                           2.265   Prob(JB):                         0.00\n",
       "Kurtosis:                      22.569   Cond. No.                         108.\n",
       "==============================================================================\n",
       "\n",
       "Warnings:\n",
       "[1] Standard Errors assume that the covariance matrix of the errors is correctly specified.\n",
       "\"\"\""
      ]
     },
     "execution_count": 69,
     "metadata": {},
     "output_type": "execute_result"
    }
   ],
   "source": [
    "int_feats = 'has_received_int + first_int_to_first_update : has_received_int '\n",
    "multiauthor_feats = 'is_multiauthor + will_become_multiauthor'\n",
    "f = f'months_before_initiation ~ {int_feats} + {multiauthor_feats} + C(assigned_health_cond) + C(user_author_type)'\n",
    "\n",
    "model = smf.ols(formula=f, data = init_df)\n",
    "res = model.fit()\n",
    "res.summary()"
   ]
  },
  {
   "cell_type": "code",
   "execution_count": 96,
   "metadata": {},
   "outputs": [
    {
     "data": {
      "text/html": [
       "<table class=\"simpletable\">\n",
       "<caption>OLS Regression Results</caption>\n",
       "<tr>\n",
       "  <th>Dep. Variable:</th>    <td>months_before_initiation</td> <th>  R-squared:         </th> <td>   0.128</td> \n",
       "</tr>\n",
       "<tr>\n",
       "  <th>Model:</th>                       <td>OLS</td>           <th>  Adj. R-squared:    </th> <td>   0.127</td> \n",
       "</tr>\n",
       "<tr>\n",
       "  <th>Method:</th>                 <td>Least Squares</td>      <th>  F-statistic:       </th> <td>   216.3</td> \n",
       "</tr>\n",
       "<tr>\n",
       "  <th>Date:</th>                 <td>Sun, 05 Jan 2020</td>     <th>  Prob (F-statistic):</th>  <td>  0.00</td>  \n",
       "</tr>\n",
       "<tr>\n",
       "  <th>Time:</th>                     <td>18:15:04</td>         <th>  Log-Likelihood:    </th> <td> -94381.</td> \n",
       "</tr>\n",
       "<tr>\n",
       "  <th>No. Observations:</th>          <td> 20687</td>          <th>  AIC:               </th> <td>1.888e+05</td>\n",
       "</tr>\n",
       "<tr>\n",
       "  <th>Df Residuals:</th>              <td> 20672</td>          <th>  BIC:               </th> <td>1.889e+05</td>\n",
       "</tr>\n",
       "<tr>\n",
       "  <th>Df Model:</th>                  <td>    14</td>          <th>                     </th>     <td> </td>    \n",
       "</tr>\n",
       "<tr>\n",
       "  <th>Covariance Type:</th>          <td>nonrobust</td>        <th>                     </th>     <td> </td>    \n",
       "</tr>\n",
       "</table>\n",
       "<table class=\"simpletable\">\n",
       "<tr>\n",
       "                                           <td></td>                                             <th>coef</th>     <th>std err</th>      <th>t</th>      <th>P>|t|</th>  <th>[0.025</th>    <th>0.975]</th>  \n",
       "</tr>\n",
       "<tr>\n",
       "  <th>Intercept</th>                                                                          <td>   25.6960</td> <td>    0.355</td> <td>   72.410</td> <td> 0.000</td> <td>   25.000</td> <td>   26.392</td>\n",
       "</tr>\n",
       "<tr>\n",
       "  <th>C(assigned_health_cond, Treatment(reference='None'))[T.Cancer]</th>                     <td>    3.4493</td> <td>    0.374</td> <td>    9.226</td> <td> 0.000</td> <td>    2.717</td> <td>    4.182</td>\n",
       "</tr>\n",
       "<tr>\n",
       "  <th>C(assigned_health_cond, Treatment(reference='None'))[T.Cardiovascular/Stroke]</th>      <td>    3.1722</td> <td>    0.859</td> <td>    3.691</td> <td> 0.000</td> <td>    1.488</td> <td>    4.857</td>\n",
       "</tr>\n",
       "<tr>\n",
       "  <th>C(assigned_health_cond, Treatment(reference='None'))[T.Condition Unknown]</th>          <td>   20.1020</td> <td>    2.574</td> <td>    7.809</td> <td> 0.000</td> <td>   15.056</td> <td>   25.148</td>\n",
       "</tr>\n",
       "<tr>\n",
       "  <th>C(assigned_health_cond, Treatment(reference='None'))[T.Congenital/Immune Disorder]</th> <td>   -3.4404</td> <td>    1.997</td> <td>   -1.723</td> <td> 0.085</td> <td>   -7.355</td> <td>    0.474</td>\n",
       "</tr>\n",
       "<tr>\n",
       "  <th>C(assigned_health_cond, Treatment(reference='None'))[T.Infant/Childbirth]</th>          <td>    4.5510</td> <td>    1.089</td> <td>    4.178</td> <td> 0.000</td> <td>    2.416</td> <td>    6.686</td>\n",
       "</tr>\n",
       "<tr>\n",
       "  <th>C(assigned_health_cond, Treatment(reference='None'))[T.Injury]</th>                     <td>    5.4327</td> <td>    0.936</td> <td>    5.804</td> <td> 0.000</td> <td>    3.598</td> <td>    7.267</td>\n",
       "</tr>\n",
       "<tr>\n",
       "  <th>C(assigned_health_cond, Treatment(reference='None'))[T.Neurological Condition]</th>     <td>    6.2929</td> <td>    1.038</td> <td>    6.060</td> <td> 0.000</td> <td>    4.257</td> <td>    8.328</td>\n",
       "</tr>\n",
       "<tr>\n",
       "  <th>C(assigned_health_cond, Treatment(reference='None'))[T.Other]</th>                      <td>   19.1338</td> <td>    0.695</td> <td>   27.521</td> <td> 0.000</td> <td>   17.771</td> <td>   20.497</td>\n",
       "</tr>\n",
       "<tr>\n",
       "  <th>C(assigned_health_cond, Treatment(reference='None'))[T.Surgery/Transplantation]</th>    <td>    8.0032</td> <td>    0.860</td> <td>    9.304</td> <td> 0.000</td> <td>    6.317</td> <td>    9.689</td>\n",
       "</tr>\n",
       "<tr>\n",
       "  <th>C(user_author_type)[T.mixed]</th>                                                       <td>    1.5716</td> <td>    0.654</td> <td>    2.402</td> <td> 0.016</td> <td>    0.289</td> <td>    2.854</td>\n",
       "</tr>\n",
       "<tr>\n",
       "  <th>C(user_author_type)[T.p]</th>                                                           <td>   -3.9264</td> <td>    0.412</td> <td>   -9.530</td> <td> 0.000</td> <td>   -4.734</td> <td>   -3.119</td>\n",
       "</tr>\n",
       "<tr>\n",
       "  <th>has_received_int</th>                                                                   <td>  -10.4753</td> <td>    0.350</td> <td>  -29.968</td> <td> 0.000</td> <td>  -11.160</td> <td>   -9.790</td>\n",
       "</tr>\n",
       "<tr>\n",
       "  <th>first_int_to_first_update:has_received_int</th>                                         <td>    0.7318</td> <td>    0.024</td> <td>   29.939</td> <td> 0.000</td> <td>    0.684</td> <td>    0.780</td>\n",
       "</tr>\n",
       "<tr>\n",
       "  <th>is_multiauthor</th>                                                                     <td>   12.6709</td> <td>    0.979</td> <td>   12.938</td> <td> 0.000</td> <td>   10.751</td> <td>   14.590</td>\n",
       "</tr>\n",
       "</table>\n",
       "<table class=\"simpletable\">\n",
       "<tr>\n",
       "  <th>Omnibus:</th>       <td>12829.455</td> <th>  Durbin-Watson:     </th>  <td>   1.947</td> \n",
       "</tr>\n",
       "<tr>\n",
       "  <th>Prob(Omnibus):</th>  <td> 0.000</td>   <th>  Jarque-Bera (JB):  </th> <td>510229.871</td>\n",
       "</tr>\n",
       "<tr>\n",
       "  <th>Skew:</th>           <td> 2.394</td>   <th>  Prob(JB):          </th>  <td>    0.00</td> \n",
       "</tr>\n",
       "<tr>\n",
       "  <th>Kurtosis:</th>       <td>26.854</td>   <th>  Cond. No.          </th>  <td>    109.</td> \n",
       "</tr>\n",
       "</table><br/><br/>Warnings:<br/>[1] Standard Errors assume that the covariance matrix of the errors is correctly specified."
      ],
      "text/plain": [
       "<class 'statsmodels.iolib.summary.Summary'>\n",
       "\"\"\"\n",
       "                               OLS Regression Results                               \n",
       "====================================================================================\n",
       "Dep. Variable:     months_before_initiation   R-squared:                       0.128\n",
       "Model:                                  OLS   Adj. R-squared:                  0.127\n",
       "Method:                       Least Squares   F-statistic:                     216.3\n",
       "Date:                      Sun, 05 Jan 2020   Prob (F-statistic):               0.00\n",
       "Time:                              18:15:04   Log-Likelihood:                -94381.\n",
       "No. Observations:                     20687   AIC:                         1.888e+05\n",
       "Df Residuals:                         20672   BIC:                         1.889e+05\n",
       "Df Model:                                14                                         \n",
       "Covariance Type:                  nonrobust                                         \n",
       "======================================================================================================================================================\n",
       "                                                                                         coef    std err          t      P>|t|      [0.025      0.975]\n",
       "------------------------------------------------------------------------------------------------------------------------------------------------------\n",
       "Intercept                                                                             25.6960      0.355     72.410      0.000      25.000      26.392\n",
       "C(assigned_health_cond, Treatment(reference='None'))[T.Cancer]                         3.4493      0.374      9.226      0.000       2.717       4.182\n",
       "C(assigned_health_cond, Treatment(reference='None'))[T.Cardiovascular/Stroke]          3.1722      0.859      3.691      0.000       1.488       4.857\n",
       "C(assigned_health_cond, Treatment(reference='None'))[T.Condition Unknown]             20.1020      2.574      7.809      0.000      15.056      25.148\n",
       "C(assigned_health_cond, Treatment(reference='None'))[T.Congenital/Immune Disorder]    -3.4404      1.997     -1.723      0.085      -7.355       0.474\n",
       "C(assigned_health_cond, Treatment(reference='None'))[T.Infant/Childbirth]              4.5510      1.089      4.178      0.000       2.416       6.686\n",
       "C(assigned_health_cond, Treatment(reference='None'))[T.Injury]                         5.4327      0.936      5.804      0.000       3.598       7.267\n",
       "C(assigned_health_cond, Treatment(reference='None'))[T.Neurological Condition]         6.2929      1.038      6.060      0.000       4.257       8.328\n",
       "C(assigned_health_cond, Treatment(reference='None'))[T.Other]                         19.1338      0.695     27.521      0.000      17.771      20.497\n",
       "C(assigned_health_cond, Treatment(reference='None'))[T.Surgery/Transplantation]        8.0032      0.860      9.304      0.000       6.317       9.689\n",
       "C(user_author_type)[T.mixed]                                                           1.5716      0.654      2.402      0.016       0.289       2.854\n",
       "C(user_author_type)[T.p]                                                              -3.9264      0.412     -9.530      0.000      -4.734      -3.119\n",
       "has_received_int                                                                     -10.4753      0.350    -29.968      0.000     -11.160      -9.790\n",
       "first_int_to_first_update:has_received_int                                             0.7318      0.024     29.939      0.000       0.684       0.780\n",
       "is_multiauthor                                                                        12.6709      0.979     12.938      0.000      10.751      14.590\n",
       "==============================================================================\n",
       "Omnibus:                    12829.455   Durbin-Watson:                   1.947\n",
       "Prob(Omnibus):                  0.000   Jarque-Bera (JB):           510229.871\n",
       "Skew:                           2.394   Prob(JB):                         0.00\n",
       "Kurtosis:                      26.854   Cond. No.                         109.\n",
       "==============================================================================\n",
       "\n",
       "Warnings:\n",
       "[1] Standard Errors assume that the covariance matrix of the errors is correctly specified.\n",
       "\"\"\""
      ]
     },
     "execution_count": 96,
     "metadata": {},
     "output_type": "execute_result"
    }
   ],
   "source": [
    "# post-authorship model\n",
    "int_feats = 'has_received_int + first_int_to_first_update : has_received_int '\n",
    "multiauthor_feats = 'is_multiauthor'\n",
    "f = f'months_before_initiation ~ {int_feats} + {multiauthor_feats} + C(assigned_health_cond, Treatment(reference=\\'None\\')) + C(user_author_type)'\n",
    "\n",
    "model = smf.ols(formula=f, data = init_df[~init_df.is_first_initiation_pre_authorship])\n",
    "post_res = model.fit()\n",
    "post_res.summary()"
   ]
  },
  {
   "cell_type": "code",
   "execution_count": 97,
   "metadata": {},
   "outputs": [
    {
     "data": {
      "text/html": [
       "<table class=\"simpletable\">\n",
       "<caption>OLS Regression Results</caption>\n",
       "<tr>\n",
       "  <th>Dep. Variable:</th>    <td>months_before_initiation</td> <th>  R-squared:         </th> <td>   0.008</td> \n",
       "</tr>\n",
       "<tr>\n",
       "  <th>Model:</th>                       <td>OLS</td>           <th>  Adj. R-squared:    </th> <td>   0.006</td> \n",
       "</tr>\n",
       "<tr>\n",
       "  <th>Method:</th>                 <td>Least Squares</td>      <th>  F-statistic:       </th> <td>   3.531</td> \n",
       "</tr>\n",
       "<tr>\n",
       "  <th>Date:</th>                 <td>Sun, 05 Jan 2020</td>     <th>  Prob (F-statistic):</th> <td>3.03e-05</td> \n",
       "</tr>\n",
       "<tr>\n",
       "  <th>Time:</th>                     <td>18:15:26</td>         <th>  Log-Likelihood:    </th> <td> -18426.</td> \n",
       "</tr>\n",
       "<tr>\n",
       "  <th>No. Observations:</th>          <td>  5438</td>          <th>  AIC:               </th> <td>3.688e+04</td>\n",
       "</tr>\n",
       "<tr>\n",
       "  <th>Df Residuals:</th>              <td>  5425</td>          <th>  BIC:               </th> <td>3.696e+04</td>\n",
       "</tr>\n",
       "<tr>\n",
       "  <th>Df Model:</th>                  <td>    12</td>          <th>                     </th>     <td> </td>    \n",
       "</tr>\n",
       "<tr>\n",
       "  <th>Covariance Type:</th>          <td>nonrobust</td>        <th>                     </th>     <td> </td>    \n",
       "</tr>\n",
       "</table>\n",
       "<table class=\"simpletable\">\n",
       "<tr>\n",
       "                                           <td></td>                                             <th>coef</th>     <th>std err</th>      <th>t</th>      <th>P>|t|</th>  <th>[0.025</th>    <th>0.975]</th>  \n",
       "</tr>\n",
       "<tr>\n",
       "  <th>Intercept</th>                                                                          <td>    8.0488</td> <td>    0.139</td> <td>   58.094</td> <td> 0.000</td> <td>    7.777</td> <td>    8.320</td>\n",
       "</tr>\n",
       "<tr>\n",
       "  <th>C(assigned_health_cond, Treatment(reference='None'))[T.Cancer]</th>                     <td>    0.2411</td> <td>    0.234</td> <td>    1.031</td> <td> 0.303</td> <td>   -0.217</td> <td>    0.700</td>\n",
       "</tr>\n",
       "<tr>\n",
       "  <th>C(assigned_health_cond, Treatment(reference='None'))[T.Cardiovascular/Stroke]</th>      <td>    0.5972</td> <td>    0.526</td> <td>    1.134</td> <td> 0.257</td> <td>   -0.435</td> <td>    1.629</td>\n",
       "</tr>\n",
       "<tr>\n",
       "  <th>C(assigned_health_cond, Treatment(reference='None'))[T.Condition Unknown]</th>          <td>   -3.1058</td> <td>    7.176</td> <td>   -0.433</td> <td> 0.665</td> <td>  -17.175</td> <td>   10.963</td>\n",
       "</tr>\n",
       "<tr>\n",
       "  <th>C(assigned_health_cond, Treatment(reference='None'))[T.Congenital/Immune Disorder]</th> <td>   -1.1974</td> <td>    1.275</td> <td>   -0.939</td> <td> 0.348</td> <td>   -3.696</td> <td>    1.301</td>\n",
       "</tr>\n",
       "<tr>\n",
       "  <th>C(assigned_health_cond, Treatment(reference='None'))[T.Infant/Childbirth]</th>          <td>   -1.3556</td> <td>    0.886</td> <td>   -1.530</td> <td> 0.126</td> <td>   -3.093</td> <td>    0.382</td>\n",
       "</tr>\n",
       "<tr>\n",
       "  <th>C(assigned_health_cond, Treatment(reference='None'))[T.Injury]</th>                     <td>    0.3802</td> <td>    0.611</td> <td>    0.623</td> <td> 0.534</td> <td>   -0.817</td> <td>    1.577</td>\n",
       "</tr>\n",
       "<tr>\n",
       "  <th>C(assigned_health_cond, Treatment(reference='None'))[T.Neurological Condition]</th>     <td>    0.4054</td> <td>    0.657</td> <td>    0.617</td> <td> 0.537</td> <td>   -0.882</td> <td>    1.692</td>\n",
       "</tr>\n",
       "<tr>\n",
       "  <th>C(assigned_health_cond, Treatment(reference='None'))[T.Other]</th>                      <td>   -1.4030</td> <td>    0.813</td> <td>   -1.725</td> <td> 0.085</td> <td>   -2.997</td> <td>    0.191</td>\n",
       "</tr>\n",
       "<tr>\n",
       "  <th>C(assigned_health_cond, Treatment(reference='None'))[T.Surgery/Transplantation]</th>    <td>    0.4259</td> <td>    0.609</td> <td>    0.699</td> <td> 0.485</td> <td>   -0.768</td> <td>    1.620</td>\n",
       "</tr>\n",
       "<tr>\n",
       "  <th>C(user_author_type)[T.mixed]</th>                                                       <td>   -0.5680</td> <td>    0.415</td> <td>   -1.368</td> <td> 0.171</td> <td>   -1.382</td> <td>    0.246</td>\n",
       "</tr>\n",
       "<tr>\n",
       "  <th>C(user_author_type)[T.p]</th>                                                           <td>   -1.3299</td> <td>    0.248</td> <td>   -5.364</td> <td> 0.000</td> <td>   -1.816</td> <td>   -0.844</td>\n",
       "</tr>\n",
       "<tr>\n",
       "  <th>will_become_multiauthor</th>                                                            <td>   -0.8453</td> <td>    0.438</td> <td>   -1.930</td> <td> 0.054</td> <td>   -1.704</td> <td>    0.013</td>\n",
       "</tr>\n",
       "</table>\n",
       "<table class=\"simpletable\">\n",
       "<tr>\n",
       "  <th>Omnibus:</th>       <td>515.490</td> <th>  Durbin-Watson:     </th> <td>   1.661</td> \n",
       "</tr>\n",
       "<tr>\n",
       "  <th>Prob(Omnibus):</th> <td> 0.000</td>  <th>  Jarque-Bera (JB):  </th> <td> 666.681</td> \n",
       "</tr>\n",
       "<tr>\n",
       "  <th>Skew:</th>          <td> 0.851</td>  <th>  Prob(JB):          </th> <td>1.71e-145</td>\n",
       "</tr>\n",
       "<tr>\n",
       "  <th>Kurtosis:</th>      <td> 2.792</td>  <th>  Cond. No.          </th> <td>    78.5</td> \n",
       "</tr>\n",
       "</table><br/><br/>Warnings:<br/>[1] Standard Errors assume that the covariance matrix of the errors is correctly specified."
      ],
      "text/plain": [
       "<class 'statsmodels.iolib.summary.Summary'>\n",
       "\"\"\"\n",
       "                               OLS Regression Results                               \n",
       "====================================================================================\n",
       "Dep. Variable:     months_before_initiation   R-squared:                       0.008\n",
       "Model:                                  OLS   Adj. R-squared:                  0.006\n",
       "Method:                       Least Squares   F-statistic:                     3.531\n",
       "Date:                      Sun, 05 Jan 2020   Prob (F-statistic):           3.03e-05\n",
       "Time:                              18:15:26   Log-Likelihood:                -18426.\n",
       "No. Observations:                      5438   AIC:                         3.688e+04\n",
       "Df Residuals:                          5425   BIC:                         3.696e+04\n",
       "Df Model:                                12                                         \n",
       "Covariance Type:                  nonrobust                                         \n",
       "======================================================================================================================================================\n",
       "                                                                                         coef    std err          t      P>|t|      [0.025      0.975]\n",
       "------------------------------------------------------------------------------------------------------------------------------------------------------\n",
       "Intercept                                                                              8.0488      0.139     58.094      0.000       7.777       8.320\n",
       "C(assigned_health_cond, Treatment(reference='None'))[T.Cancer]                         0.2411      0.234      1.031      0.303      -0.217       0.700\n",
       "C(assigned_health_cond, Treatment(reference='None'))[T.Cardiovascular/Stroke]          0.5972      0.526      1.134      0.257      -0.435       1.629\n",
       "C(assigned_health_cond, Treatment(reference='None'))[T.Condition Unknown]             -3.1058      7.176     -0.433      0.665     -17.175      10.963\n",
       "C(assigned_health_cond, Treatment(reference='None'))[T.Congenital/Immune Disorder]    -1.1974      1.275     -0.939      0.348      -3.696       1.301\n",
       "C(assigned_health_cond, Treatment(reference='None'))[T.Infant/Childbirth]             -1.3556      0.886     -1.530      0.126      -3.093       0.382\n",
       "C(assigned_health_cond, Treatment(reference='None'))[T.Injury]                         0.3802      0.611      0.623      0.534      -0.817       1.577\n",
       "C(assigned_health_cond, Treatment(reference='None'))[T.Neurological Condition]         0.4054      0.657      0.617      0.537      -0.882       1.692\n",
       "C(assigned_health_cond, Treatment(reference='None'))[T.Other]                         -1.4030      0.813     -1.725      0.085      -2.997       0.191\n",
       "C(assigned_health_cond, Treatment(reference='None'))[T.Surgery/Transplantation]        0.4259      0.609      0.699      0.485      -0.768       1.620\n",
       "C(user_author_type)[T.mixed]                                                          -0.5680      0.415     -1.368      0.171      -1.382       0.246\n",
       "C(user_author_type)[T.p]                                                              -1.3299      0.248     -5.364      0.000      -1.816      -0.844\n",
       "will_become_multiauthor                                                               -0.8453      0.438     -1.930      0.054      -1.704       0.013\n",
       "==============================================================================\n",
       "Omnibus:                      515.490   Durbin-Watson:                   1.661\n",
       "Prob(Omnibus):                  0.000   Jarque-Bera (JB):              666.681\n",
       "Skew:                           0.851   Prob(JB):                    1.71e-145\n",
       "Kurtosis:                       2.792   Cond. No.                         78.5\n",
       "==============================================================================\n",
       "\n",
       "Warnings:\n",
       "[1] Standard Errors assume that the covariance matrix of the errors is correctly specified.\n",
       "\"\"\""
      ]
     },
     "execution_count": 97,
     "metadata": {},
     "output_type": "execute_result"
    }
   ],
   "source": [
    "pre_authorship_df = init_df[init_df.is_first_initiation_pre_authorship].copy()\n",
    "pre_authorship_df.months_before_initiation *= -1\n",
    "\n",
    "f = f'months_before_initiation ~ will_become_multiauthor + C(assigned_health_cond, Treatment(reference=\\'None\\')) + C(user_author_type)'\n",
    "\n",
    "model = smf.ols(formula=f, data = pre_authorship_df)\n",
    "pre_res = model.fit()\n",
    "pre_res.summary()"
   ]
  },
  {
   "cell_type": "code",
   "execution_count": 98,
   "metadata": {},
   "outputs": [
    {
     "data": {
      "text/html": [
       "<table style=\"text-align:center\"><tr><td colspan=\"3\" style=\"border-bottom: 1px solid black\"></td></tr><tr><td style=\"text-align:left\"></td><td colspan=\"2\"><em>Dependent variable:</em></td></tr><tr><td style=\"text-align:left\"></td><tr><td style=\"text-align:left\"></td><td>(1)</td><td>(2)</td></tr><tr><td colspan=\"3\" style=\"border-bottom: 1px solid black\"></td></tr><tr><td style=\"text-align:left\">C(assigned_health_cond, Treatment(reference='None'))[T.Cancer]</td><td>0.241<sup></sup></td><td>3.449<sup>***</sup></td></tr><tr><td style=\"text-align:left\"></td><td>(0.234)</td><td>(0.374)</td></tr><tr><td style=\"text-align:left\">C(assigned_health_cond, Treatment(reference='None'))[T.Cardiovascular/Stroke]</td><td>0.597<sup></sup></td><td>3.172<sup>***</sup></td></tr><tr><td style=\"text-align:left\"></td><td>(0.526)</td><td>(0.859)</td></tr><tr><td style=\"text-align:left\">C(assigned_health_cond, Treatment(reference='None'))[T.Condition Unknown]</td><td>-3.106<sup></sup></td><td>20.102<sup>***</sup></td></tr><tr><td style=\"text-align:left\"></td><td>(7.176)</td><td>(2.574)</td></tr><tr><td style=\"text-align:left\">C(assigned_health_cond, Treatment(reference='None'))[T.Congenital/Immune Disorder]</td><td>-1.197<sup></sup></td><td>-3.44<sup>*</sup></td></tr><tr><td style=\"text-align:left\"></td><td>(1.275)</td><td>(1.997)</td></tr><tr><td style=\"text-align:left\">C(assigned_health_cond, Treatment(reference='None'))[T.Infant/Childbirth]</td><td>-1.356<sup></sup></td><td>4.551<sup>***</sup></td></tr><tr><td style=\"text-align:left\"></td><td>(0.886)</td><td>(1.089)</td></tr><tr><td style=\"text-align:left\">C(assigned_health_cond, Treatment(reference='None'))[T.Injury]</td><td>0.38<sup></sup></td><td>5.433<sup>***</sup></td></tr><tr><td style=\"text-align:left\"></td><td>(0.611)</td><td>(0.936)</td></tr><tr><td style=\"text-align:left\">C(assigned_health_cond, Treatment(reference='None'))[T.Neurological Condition]</td><td>0.405<sup></sup></td><td>6.293<sup>***</sup></td></tr><tr><td style=\"text-align:left\"></td><td>(0.657)</td><td>(1.038)</td></tr><tr><td style=\"text-align:left\">C(assigned_health_cond, Treatment(reference='None'))[T.Other]</td><td>-1.403<sup>*</sup></td><td>19.134<sup>***</sup></td></tr><tr><td style=\"text-align:left\"></td><td>(0.813)</td><td>(0.695)</td></tr><tr><td style=\"text-align:left\">C(assigned_health_cond, Treatment(reference='None'))[T.Surgery/Transplantation]</td><td>0.426<sup></sup></td><td>8.003<sup>***</sup></td></tr><tr><td style=\"text-align:left\"></td><td>(0.609)</td><td>(0.86)</td></tr><tr><td style=\"text-align:left\">C(user_author_type)[T.mixed]</td><td>-0.568<sup></sup></td><td>1.572<sup>**</sup></td></tr><tr><td style=\"text-align:left\"></td><td>(0.415)</td><td>(0.654)</td></tr><tr><td style=\"text-align:left\">C(user_author_type)[T.p]</td><td>-1.33<sup>***</sup></td><td>-3.926<sup>***</sup></td></tr><tr><td style=\"text-align:left\"></td><td>(0.248)</td><td>(0.412)</td></tr><tr><td style=\"text-align:left\">Intercept</td><td>8.049<sup>***</sup></td><td>25.696<sup>***</sup></td></tr><tr><td style=\"text-align:left\"></td><td>(0.139)</td><td>(0.355)</td></tr><tr><td style=\"text-align:left\">first_int_to_first_update:has_received_int</td><td></td><td>0.732<sup>***</sup></td></tr><tr><td style=\"text-align:left\"></td><td></td><td>(0.024)</td></tr><tr><td style=\"text-align:left\">has_received_int</td><td></td><td>-10.475<sup>***</sup></td></tr><tr><td style=\"text-align:left\"></td><td></td><td>(0.35)</td></tr><tr><td style=\"text-align:left\">is_multiauthor</td><td></td><td>12.671<sup>***</sup></td></tr><tr><td style=\"text-align:left\"></td><td></td><td>(0.979)</td></tr><tr><td style=\"text-align:left\">will_become_multiauthor</td><td>-0.845<sup>*</sup></td><td></td></tr><tr><td style=\"text-align:left\"></td><td>(0.438)</td><td></td></tr><td colspan=\"3\" style=\"border-bottom: 1px solid black\"></td></tr><tr><td style=\"text-align: left\">Observations</td><td>5438.0</td><td>20687.0</td></tr><tr><td style=\"text-align: left\">R<sup>2</sup></td><td>0.008</td><td>0.128</td></tr><tr><td style=\"text-align: left\">Adjusted R<sup>2</sup></td><td>0.006</td><td>0.127</td></tr><tr><td style=\"text-align: left\">Residual Std. Error</td><td>7.175(df = 5425.0)</td><td>23.191(df = 20672.0)</td></tr><tr><td style=\"text-align: left\">F Statistic</td><td>3.531<sup>***</sup>(df = 12.0; 5425.0)</td><td>216.265<sup>***</sup>(df = 14.0; 20672.0)</td></tr><tr><td colspan=\"3\" style=\"border-bottom: 1px solid black\"></td></tr><tr><td style=\"text-align: left\">Note:</td>\n",
       " <td colspan=\"2\" style=\"text-align: right\">\n",
       "  <sup>*</sup>p&lt;0.1;\n",
       "  <sup>**</sup>p&lt;0.05;\n",
       "  <sup>***</sup>p&lt;0.01\n",
       " </td></tr></table>"
      ],
      "text/plain": [
       "<IPython.core.display.HTML object>"
      ]
     },
     "metadata": {},
     "output_type": "display_data"
    }
   ],
   "source": [
    "display(HTML(Stargazer([pre_res, post_res]).render_html()))"
   ]
  },
  {
   "cell_type": "code",
   "execution_count": 109,
   "metadata": {},
   "outputs": [
    {
     "name": "stdout",
     "output_type": "stream",
     "text": [
      "\\begin{table}[!htbp] \\centering\n",
      "  \\label{}\n",
      "\\begin{tabular}{@{\\extracolsep{5pt}}lcc}\n",
      "\\\\[-1.8ex]\\hline\n",
      "\\hline \\\\[-1.8ex]\n",
      "& \\multicolumn{2}{c}{\\textit{Dependent variable:}} \\\n",
      "\\cr \\cline{2-3}\n",
      "\\\\[-1.8ex] & (1) & (2) \\\\\n",
      "\\hline \\\\[-1.8ex]\n",
      "HC = Cancer] & 0.241$^{}$ & 3.449$^{***}$ \\\\\n",
      "  & (0.234) & (0.374) \\\\\n",
      "HC = Cardiovascular/Stroke] & 0.597$^{}$ & 3.172$^{***}$ \\\\\n",
      "  & (0.526) & (0.859) \\\\\n",
      "HC = Condition Unknown] & -3.106$^{}$ & 20.102$^{***}$ \\\\\n",
      "  & (7.176) & (2.574) \\\\\n",
      "HC = Congenital/Immune Disorder] & -1.197$^{}$ & -3.44$^{*}$ \\\\\n",
      "  & (1.275) & (1.997) \\\\\n",
      "HC = Infant/Childbirth] & -1.356$^{}$ & 4.551$^{***}$ \\\\\n",
      "  & (0.886) & (1.089) \\\\\n",
      "HC = Injury] & 0.38$^{}$ & 5.433$^{***}$ \\\\\n",
      "  & (0.611) & (0.936) \\\\\n",
      "HC = Neurological Condition] & 0.405$^{}$ & 6.293$^{***}$ \\\\\n",
      "  & (0.657) & (1.038) \\\\\n",
      "HC = Other] & -1.403$^{*}$ & 19.134$^{***}$ \\\\\n",
      "  & (0.813) & (0.695) \\\\\n",
      "HC = Surgery/Transplantation] & 0.426$^{}$ & 8.003$^{***}$ \\\\\n",
      "  & (0.609) & (0.86) \\\\\n",
      " C(user-author-type)[T.mixed] & -0.568$^{}$ & 1.572$^{**}$ \\\\\n",
      "  & (0.415) & (0.654) \\\\\n",
      " C(user-author-type)[T.p] & -1.33$^{***}$ & -3.926$^{***}$ \\\\\n",
      "  & (0.248) & (0.412) \\\\\n",
      " Intercept & 8.049$^{***}$ & 25.696$^{***}$ \\\\\n",
      "  & (0.139) & (0.355) \\\\\n",
      " first-int-to-first-update:has-received-int & & 0.732$^{***}$ \\\\\n",
      "  & & (0.024) \\\\\n",
      " has-received-int & & -10.475$^{***}$ \\\\\n",
      "  & & (0.35) \\\\\n",
      " is-multiauthor & & 12.671$^{***}$ \\\\\n",
      "  & & (0.979) \\\\\n",
      " will-become-multiauthor & -0.845$^{*}$ & \\\\\n",
      "  & (0.438) & \\\\\n",
      "\\hline \\\\[-1.8ex]\n",
      " Observations & 5438.0 & 20687.0 \\\\\n",
      " R${2}$ & 0.008 & 0.128 \\\\\n",
      " Adjusted R${2}$ & 0.006 & 0.127 \\\\\n",
      " Residual Std. Error & 7.175(df = 5425.0) & 23.191(df = 20672.0)  \\\\\n",
      " F Statistic & 3.531$^{***}$ (df = 12.0; 5425.0) & 216.265$^{***}$ (df = 14.0; 20672.0) \\\\\n",
      "\\hline\n",
      "\\hline \\\\[-1.8ex]\n",
      "\\textit{Note:} & \\multicolumn{2}{r}{$^{*}$p$<$0.1; $^{**}$p$<$0.05; $^{***}$p$<$0.01} \\\\\n",
      "\\end{tabular}\n",
      "\\end{table}\n"
     ]
    }
   ],
   "source": [
    "# light manipulation of the stargazer output\n",
    "for line in Stargazer([pre_res, post_res]).render_latex().split(\"\\n\"):\n",
    "    if line.startswith(\"  & & \\\\\"):\n",
    "        continue\n",
    "    if \"assigned_health_cond\" in line:\n",
    "        line = \"HC = \" + line[56:]\n",
    "    line = line.replace(\"_\", \"-\")\n",
    "    print(line)"
   ]
  },
  {
   "cell_type": "code",
   "execution_count": null,
   "metadata": {},
   "outputs": [],
   "source": []
  },
  {
   "cell_type": "code",
   "execution_count": null,
   "metadata": {},
   "outputs": [],
   "source": []
  }
 ],
 "metadata": {
  "kernelspec": {
   "display_name": "Python (shared-conda)",
   "language": "python",
   "name": "shared-conda"
  },
  "language_info": {
   "codemirror_mode": {
    "name": "ipython",
    "version": 3
   },
   "file_extension": ".py",
   "mimetype": "text/x-python",
   "name": "python",
   "nbconvert_exporter": "python",
   "pygments_lexer": "ipython3",
   "version": "3.7.3"
  }
 },
 "nbformat": 4,
 "nbformat_minor": 4
}
