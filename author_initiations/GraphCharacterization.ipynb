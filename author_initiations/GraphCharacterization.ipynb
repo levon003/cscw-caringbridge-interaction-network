{
 "cells": [
  {
   "cell_type": "markdown",
   "metadata": {},
   "source": [
    "Graph characterization\n",
    "===\n",
    "\n"
   ]
  },
  {
   "cell_type": "code",
   "execution_count": 1,
   "metadata": {},
   "outputs": [],
   "source": [
    "%reload_ext autoreload\n",
    "%autoreload 2\n",
    "%matplotlib inline"
   ]
  },
  {
   "cell_type": "code",
   "execution_count": 2,
   "metadata": {},
   "outputs": [],
   "source": [
    "import os\n",
    "import re\n",
    "import pandas as pd\n",
    "import numpy as np\n",
    "\n",
    "from collections import Counter, defaultdict\n",
    "import sqlite3\n",
    "from tqdm import tqdm\n",
    "import random\n",
    "import pickle\n",
    "from datetime import datetime\n",
    "import bisect\n",
    "\n",
    "import matplotlib.pyplot as plt\n",
    "import matplotlib.dates as md\n",
    "import matplotlib\n",
    "import pylab as pl\n",
    "from IPython.core.display import display, HTML\n",
    "\n",
    "import networkx as nx"
   ]
  },
  {
   "cell_type": "code",
   "execution_count": 3,
   "metadata": {},
   "outputs": [],
   "source": [
    "working_dir = \"/home/srivbane/shared/caringbridge/data/projects/sna-social-support/author_initiations\"\n",
    "assert os.path.exists(working_dir)"
   ]
  },
  {
   "cell_type": "code",
   "execution_count": 4,
   "metadata": {},
   "outputs": [
    {
     "data": {
      "text/plain": [
       "'/panfs/roc/groups/3/srivbane/levon003/repos/sna-social-support/figures'"
      ]
     },
     "execution_count": 4,
     "metadata": {},
     "output_type": "execute_result"
    }
   ],
   "source": [
    "git_root_dir = !git rev-parse --show-toplevel\n",
    "git_root_dir = git_root_dir[0]\n",
    "figures_dir = os.path.join(git_root_dir, 'figures')\n",
    "figures_dir"
   ]
  },
  {
   "cell_type": "code",
   "execution_count": 5,
   "metadata": {},
   "outputs": [],
   "source": [
    "start_date = datetime.fromisoformat('2005-01-01')\n",
    "start_timestamp = int(start_date.timestamp() * 1000)\n",
    "end_date = datetime.fromisoformat('2016-06-01')\n",
    "end_timestamp = int(end_date.timestamp() * 1000)\n",
    "subset_start_date = datetime.fromisoformat('2014-01-01')\n",
    "subset_start_timestamp = int(subset_start_date.timestamp() * 1000)"
   ]
  },
  {
   "cell_type": "markdown",
   "metadata": {},
   "source": [
    "### Read in the data"
   ]
  },
  {
   "cell_type": "code",
   "execution_count": 6,
   "metadata": {},
   "outputs": [
    {
     "data": {
      "text/plain": [
       "362345"
      ]
     },
     "execution_count": 6,
     "metadata": {},
     "output_type": "execute_result"
    }
   ],
   "source": [
    "# load the list of valid users\n",
    "data_selection_working_dir = \"/home/srivbane/shared/caringbridge/data/projects/sna-social-support/data_selection\"\n",
    "valid_user_ids = set()\n",
    "with open(os.path.join(data_selection_working_dir, \"valid_user_ids.txt\"), 'r') as infile:\n",
    "    for line in infile:\n",
    "        user_id = line.strip()\n",
    "        if user_id == \"\":\n",
    "            continue\n",
    "        else:\n",
    "            valid_user_ids.add(int(user_id))\n",
    "len(valid_user_ids)"
   ]
  },
  {
   "cell_type": "code",
   "execution_count": 7,
   "metadata": {},
   "outputs": [
    {
     "data": {
      "text/plain": [
       "340414"
      ]
     },
     "execution_count": 7,
     "metadata": {},
     "output_type": "execute_result"
    }
   ],
   "source": [
    "# load the list of valid sites\n",
    "data_selection_working_dir = \"/home/srivbane/shared/caringbridge/data/projects/sna-social-support/data_selection\"\n",
    "valid_site_ids = set()\n",
    "with open(os.path.join(data_selection_working_dir, \"valid_site_ids.txt\"), 'r') as infile:\n",
    "    for line in infile:\n",
    "        site_id = line.strip()\n",
    "        if site_id == \"\":\n",
    "            continue\n",
    "        else:\n",
    "            valid_site_ids.add(int(site_id))\n",
    "len(valid_site_ids)"
   ]
  },
  {
   "cell_type": "code",
   "execution_count": 8,
   "metadata": {},
   "outputs": [
    {
     "name": "stdout",
     "output_type": "stream",
     "text": [
      "0:00:14.230355\n"
     ]
    },
    {
     "data": {
      "text/plain": [
       "15850052"
      ]
     },
     "execution_count": 8,
     "metadata": {},
     "output_type": "execute_result"
    }
   ],
   "source": [
    "# read the journal metadata with author type info added\n",
    "s = datetime.now()\n",
    "author_type_dir = \"/home/srivbane/shared/caringbridge/data/projects/sna-social-support/author_type\"\n",
    "journal_metadata_filepath = os.path.join(author_type_dir, \"journal_metadata_with_author_type.df\")\n",
    "journal_df = pd.read_feather(journal_metadata_filepath)\n",
    "print(datetime.now() - s)\n",
    "len(journal_df)"
   ]
  },
  {
   "cell_type": "code",
   "execution_count": 9,
   "metadata": {},
   "outputs": [],
   "source": [
    "# as a quick fix for invalid dates in journals, when created_at is 0 we use the updated_at instead\n",
    "# note that only 41 updates have this issue\n",
    "invalid_created_at = journal_df.created_at <= 0\n",
    "journal_df.loc[invalid_created_at, 'created_at'] = journal_df.loc[invalid_created_at, 'updated_at']"
   ]
  },
  {
   "cell_type": "code",
   "execution_count": 10,
   "metadata": {},
   "outputs": [
    {
     "data": {
      "text/plain": [
       "362345"
      ]
     },
     "execution_count": 10,
     "metadata": {},
     "output_type": "execute_result"
    }
   ],
   "source": [
    "# read the user author type dataframe\n",
    "author_type_dir = \"/home/srivbane/shared/caringbridge/data/projects/sna-social-support/author_type\"\n",
    "user_patient_proportions_filepath = os.path.join(author_type_dir, 'user_patient_proportions.df')\n",
    "user_df = pd.read_feather(user_patient_proportions_filepath)\n",
    "len(user_df)"
   ]
  },
  {
   "cell_type": "code",
   "execution_count": 11,
   "metadata": {},
   "outputs": [
    {
     "data": {
      "text/plain": [
       "14812407"
      ]
     },
     "execution_count": 11,
     "metadata": {},
     "output_type": "execute_result"
    }
   ],
   "source": [
    "# read the user->user interactions dataframe\n",
    "metadata_dir = \"/home/srivbane/shared/caringbridge/data/projects/sna-social-support/user_metadata\"\n",
    "u2u_df = pd.read_feather(os.path.join(metadata_dir,\"u2u_df.feather\"))\n",
    "len(u2u_df)"
   ]
  },
  {
   "cell_type": "code",
   "execution_count": 12,
   "metadata": {},
   "outputs": [
    {
     "data": {
      "text/plain": [
       "840943"
      ]
     },
     "execution_count": 12,
     "metadata": {},
     "output_type": "execute_result"
    }
   ],
   "source": [
    "# read the site-level metadata\n",
    "site_metadata_working_dir = \"/home/srivbane/shared/caringbridge/data/derived/site_metadata\"\n",
    "site_metadata_filepath = os.path.join(site_metadata_working_dir, \"site_metadata.feather\")\n",
    "site_metadata_df = pd.read_feather(site_metadata_filepath)\n",
    "len(site_metadata_df)"
   ]
  },
  {
   "cell_type": "code",
   "execution_count": 13,
   "metadata": {},
   "outputs": [
    {
     "data": {
      "text/plain": [
       "28388948"
      ]
     },
     "execution_count": 13,
     "metadata": {},
     "output_type": "execute_result"
    }
   ],
   "source": [
    "# read in the interactions dataframe\n",
    "metadata_dir = \"/home/srivbane/shared/caringbridge/data/projects/sna-social-support/user_metadata\"\n",
    "author_to_site = os.path.join(metadata_dir, \"interaction_metadata.h5\")\n",
    "ints_df = pd.read_hdf(author_to_site)\n",
    "len(ints_df)"
   ]
  },
  {
   "cell_type": "markdown",
   "metadata": {},
   "source": [
    "### Filter the u2u links"
   ]
  },
  {
   "cell_type": "code",
   "execution_count": 14,
   "metadata": {},
   "outputs": [
    {
     "data": {
      "text/plain": [
       "(10441676, 0.704927700136784)"
      ]
     },
     "execution_count": 14,
     "metadata": {},
     "output_type": "execute_result"
    }
   ],
   "source": [
    "valid_u2u_df = u2u_df[(u2u_df.from_user_id.isin(valid_user_ids))&(u2u_df.to_user_id.isin(valid_user_ids))]\n",
    "len(valid_u2u_df), len(valid_u2u_df) / len(u2u_df)"
   ]
  },
  {
   "cell_type": "code",
   "execution_count": 15,
   "metadata": {},
   "outputs": [
    {
     "data": {
      "text/plain": [
       "(947270, 0.06395111881546328)"
      ]
     },
     "execution_count": 15,
     "metadata": {},
     "output_type": "execute_result"
    }
   ],
   "source": [
    "inits_df = valid_u2u_df.sort_values(by='created_at', ascending=True).drop_duplicates(subset=['from_user_id', 'to_user_id'], keep='first')\n",
    "len(inits_df), len(inits_df) / len(u2u_df)"
   ]
  },
  {
   "cell_type": "code",
   "execution_count": 16,
   "metadata": {},
   "outputs": [
    {
     "data": {
      "text/plain": [
       "(25176609, 0.8868454371750584)"
      ]
     },
     "execution_count": 16,
     "metadata": {},
     "output_type": "execute_result"
    }
   ],
   "source": [
    "valid_ints_df = ints_df[ints_df.user_id.isin(valid_user_ids)]\n",
    "len(valid_ints_df), len(valid_ints_df) / len(ints_df)"
   ]
  },
  {
   "cell_type": "code",
   "execution_count": 17,
   "metadata": {},
   "outputs": [],
   "source": [
    "model_start_date = datetime.fromisoformat('2014-01-01')\n",
    "model_start_timestamp = int(model_start_date.timestamp() * 1000)\n",
    "model_end_date = datetime.fromisoformat('2016-01-01')\n",
    "model_end_timestamp = int(model_end_date.timestamp() * 1000)"
   ]
  },
  {
   "cell_type": "markdown",
   "metadata": {},
   "source": [
    "### Build the graph at a specified time"
   ]
  },
  {
   "cell_type": "code",
   "execution_count": 18,
   "metadata": {},
   "outputs": [],
   "source": [
    "target_timestamp = end_timestamp"
   ]
  },
  {
   "cell_type": "code",
   "execution_count": 19,
   "metadata": {},
   "outputs": [
    {
     "data": {
      "text/plain": [
       "917285"
      ]
     },
     "execution_count": 19,
     "metadata": {},
     "output_type": "execute_result"
    }
   ],
   "source": [
    "inits_subset = inits_df[inits_df.created_at < target_timestamp]\n",
    "len(inits_subset)"
   ]
  },
  {
   "cell_type": "code",
   "execution_count": 20,
   "metadata": {},
   "outputs": [
    {
     "name": "stdout",
     "output_type": "stream",
     "text": [
      "0:00:08.182485\n"
     ]
    }
   ],
   "source": [
    "s = datetime.now()\n",
    "base_graph = nx.DiGraph()\n",
    "nodes = set(inits_subset.from_user_id) | set(inits_subset.to_user_id)\n",
    "edges = [tuple(row) for row in inits_subset[[\"from_user_id\", \"to_user_id\"]].values]\n",
    "base_graph.add_nodes_from(nodes)\n",
    "base_graph.add_edges_from(edges)\n",
    "print(f\"{datetime.now() - s}\")"
   ]
  },
  {
   "cell_type": "code",
   "execution_count": 21,
   "metadata": {},
   "outputs": [],
   "source": [
    "G = base_graph"
   ]
  },
  {
   "cell_type": "code",
   "execution_count": 22,
   "metadata": {},
   "outputs": [
    {
     "data": {
      "text/plain": [
       "(66768, 0.18426637596765513)"
      ]
     },
     "execution_count": 22,
     "metadata": {},
     "output_type": "execute_result"
    }
   ],
   "source": [
    "# compute users active at target_timestamp\n",
    "# active users who have interacted within some threshold\n",
    "threshold = int(1000 * 60 * 60 * 24 * (364 / 2))  # about 6 months\n",
    "active_users = set(ints_df[(ints_df.created_at >= target_timestamp - threshold)&(ints_df.created_at <= target_timestamp)&(ints_df.user_id.isin(valid_user_ids))].user_id)\n",
    "len(active_users), len(active_users) / len(valid_user_ids)"
   ]
  },
  {
   "cell_type": "code",
   "execution_count": 110,
   "metadata": {},
   "outputs": [
    {
     "data": {
      "text/plain": [
       "182.0"
      ]
     },
     "execution_count": 110,
     "metadata": {},
     "output_type": "execute_result"
    }
   ],
   "source": [
    "364 / 2"
   ]
  },
  {
   "cell_type": "code",
   "execution_count": 23,
   "metadata": {},
   "outputs": [],
   "source": [
    "isolate_count = 0\n",
    "no_outdegree_count = 0\n",
    "no_indegree_count = 0\n",
    "for active_user in active_users:\n",
    "    if active_user not in G.nodes:\n",
    "        no_outdegree_count += 1\n",
    "        no_indegree_count += 1\n",
    "        isolate_count += 1\n",
    "        continue\n",
    "    if G.out_degree(active_user) == 0:\n",
    "        no_outdegree_count += 1\n",
    "    if G.in_degree(active_user) == 0:\n",
    "        no_indegree_count += 1\n",
    "    if G.out_degree(active_user) == 0 and G.in_degree(active_user) == 0:\n",
    "        isolate_count += 1"
   ]
  },
  {
   "cell_type": "code",
   "execution_count": 24,
   "metadata": {},
   "outputs": [
    {
     "data": {
      "text/plain": [
       "(1632, 5440)"
      ]
     },
     "execution_count": 24,
     "metadata": {},
     "output_type": "execute_result"
    }
   ],
   "source": [
    "np.max(np.array(G.in_degree())[:,1]), np.max(np.array(G.out_degree())[:,1])"
   ]
  },
  {
   "cell_type": "code",
   "execution_count": 25,
   "metadata": {},
   "outputs": [
    {
     "data": {
      "text/plain": [
       "(0.17298705966930267, 0.3199436855978912, 0.3048316558830578)"
      ]
     },
     "execution_count": 25,
     "metadata": {},
     "output_type": "execute_result"
    }
   ],
   "source": [
    "isolate_count / len(active_users),\\\n",
    "no_indegree_count / len(active_users),\\\n",
    "no_outdegree_count / len(active_users)"
   ]
  },
  {
   "cell_type": "code",
   "execution_count": 26,
   "metadata": {},
   "outputs": [
    {
     "data": {
      "text/plain": [
       "(101897, 11)"
      ]
     },
     "execution_count": 26,
     "metadata": {},
     "output_type": "execute_result"
    }
   ],
   "source": [
    "sccs = nx.strongly_connected_components(G)\n",
    "lscc = max(sccs, key=len)\n",
    "second_largest_size = sorted(map(len, nx.strongly_connected_components(G)))[-2]\n",
    "len(lscc), second_largest_size"
   ]
  },
  {
   "cell_type": "code",
   "execution_count": 27,
   "metadata": {},
   "outputs": [
    {
     "data": {
      "text/plain": [
       "(247576, 12)"
      ]
     },
     "execution_count": 27,
     "metadata": {},
     "output_type": "execute_result"
    }
   ],
   "source": [
    "wccs = nx.weakly_connected_components(G)\n",
    "lwcc = max(wccs, key=len)\n",
    "second_largest_size = sorted(map(len, nx.weakly_connected_components(G)))[-2]\n",
    "len(lwcc), second_largest_size"
   ]
  },
  {
   "cell_type": "code",
   "execution_count": 28,
   "metadata": {},
   "outputs": [
    {
     "data": {
      "text/plain": [
       "(55218, 261644)"
      ]
     },
     "execution_count": 28,
     "metadata": {},
     "output_type": "execute_result"
    }
   ],
   "source": [
    "G_active = G.subgraph(active_users)\n",
    "len(G_active), len(G)"
   ]
  },
  {
   "cell_type": "code",
   "execution_count": 29,
   "metadata": {},
   "outputs": [
    {
     "data": {
      "text/plain": [
       "(611, 1352)"
      ]
     },
     "execution_count": 29,
     "metadata": {},
     "output_type": "execute_result"
    }
   ],
   "source": [
    "np.max(np.array(G_active.in_degree())[:,1]), np.max(np.array(G_active.out_degree())[:,1])"
   ]
  },
  {
   "cell_type": "code",
   "execution_count": 30,
   "metadata": {},
   "outputs": [
    {
     "data": {
      "text/plain": [
       "(44898, 18)"
      ]
     },
     "execution_count": 30,
     "metadata": {},
     "output_type": "execute_result"
    }
   ],
   "source": [
    "wccs = nx.weakly_connected_components(G_active)\n",
    "lwcc = max(wccs, key=len)\n",
    "second_largest_size = sorted(map(len, nx.weakly_connected_components(G_active)))[-2]\n",
    "len(lwcc), second_largest_size"
   ]
  },
  {
   "cell_type": "code",
   "execution_count": 31,
   "metadata": {},
   "outputs": [
    {
     "data": {
      "text/plain": [
       "(17042, 14)"
      ]
     },
     "execution_count": 31,
     "metadata": {},
     "output_type": "execute_result"
    }
   ],
   "source": [
    "sccs = nx.strongly_connected_components(G_active)\n",
    "lscc = max(sccs, key=len)\n",
    "second_largest_size = sorted(map(len, nx.strongly_connected_components(G_active)))[-2]\n",
    "len(lscc), second_largest_size"
   ]
  },
  {
   "cell_type": "code",
   "execution_count": 165,
   "metadata": {},
   "outputs": [
    {
     "name": "stdout",
     "output_type": "stream",
     "text": [
      "1:42:44.158828\n"
     ]
    },
    {
     "data": {
      "text/plain": [
       "38"
      ]
     },
     "execution_count": 165,
     "metadata": {},
     "output_type": "execute_result"
    }
   ],
   "source": [
    "# warning: SLOW\n",
    "s = datetime.now()\n",
    "diam = nx.diameter(G_active.subgraph(lscc))\n",
    "print(f\"{datetime.now() - s}\")\n",
    "diam"
   ]
  },
  {
   "cell_type": "code",
   "execution_count": 109,
   "metadata": {},
   "outputs": [
    {
     "data": {
      "text/plain": [
       "145733"
      ]
     },
     "execution_count": 109,
     "metadata": {},
     "output_type": "execute_result"
    }
   ],
   "source": [
    "G_active.number_of_edges()"
   ]
  },
  {
   "cell_type": "code",
   "execution_count": 108,
   "metadata": {},
   "outputs": [
    {
     "data": {
      "text/plain": [
       "(20219, 21910)"
      ]
     },
     "execution_count": 108,
     "metadata": {},
     "output_type": "execute_result"
    }
   ],
   "source": [
    "# compute number of dyads in G_active (and number of authors in dyads)\n",
    "G_recip = G_active.to_undirected(reciprocal=True)\n",
    "authors_in_dyads = sum([degree > 0 for node, degree in G_recip.degree()])\n",
    "total_dyads = G_recip.number_of_edges()\n",
    "authors_in_dyads, total_dyads"
   ]
  },
  {
   "cell_type": "code",
   "execution_count": 32,
   "metadata": {},
   "outputs": [
    {
     "data": {
      "text/plain": [
       "(2590, 2335)"
      ]
     },
     "execution_count": 32,
     "metadata": {},
     "output_type": "execute_result"
    }
   ],
   "source": [
    "# number of SCCs and WCCs\n",
    "g = G_active\n",
    "scc_sizes = np.array(list(map(len, nx.strongly_connected_components(g))))\n",
    "scc_sizes = scc_sizes[scc_sizes > 1]\n",
    "wcc_sizes = np.array(list(map(len, nx.weakly_connected_components(g))))\n",
    "wcc_sizes = wcc_sizes[wcc_sizes > 1]\n",
    "len(scc_sizes), len(wcc_sizes)"
   ]
  },
  {
   "cell_type": "code",
   "execution_count": 104,
   "metadata": {},
   "outputs": [
    {
     "data": {
      "image/png": "[encoded data removed]",
      "text/plain": [
       "<Figure size 197.211x115.2 with 1 Axes>"
      ]
     },
     "metadata": {
      "needs_background": "light"
     },
     "output_type": "display_data"
    }
   ],
   "source": [
    "x = np.sort(scc_sizes)[:-1]\n",
    "fig, ax = plt.subplots(1, 1, figsize=(5.47807 / 2, 1.6))\n",
    "ax.hist(x, bins=12, log=False, align='mid')\n",
    "ax.set_xlabel(\"SCC Size\")\n",
    "ax.set_ylabel(\"# Components\")\n",
    "plt.xticks(range(2, 16, 2))\n",
    "#plt.yticks(np.logspace(start=0, stop=4, base=10, num=5))\n",
    "import matplotlib.ticker as ticker\n",
    "plt.yscale('log')\n",
    "#ax.yaxis.set_major_locator(ticker.FixedLocator([0, 10, 10000]))\n",
    "#ax.yaxis.set_minor_locator(ticker.NullLocator())\n",
    "#ax.yaxis.set_minor_formatter(ticker.ScalarFormatter())\n",
    "\n",
    "plt.tight_layout(pad=0)\n",
    "plt.margins(0,0)\n",
    "plt.savefig(os.path.join(figures_dir, 'network_scc_dist_plot.pdf'), dpi=180, pad_inches=0)\n",
    "\n",
    "plt.show()"
   ]
  },
  {
   "cell_type": "code",
   "execution_count": 103,
   "metadata": {},
   "outputs": [
    {
     "data": {
      "image/png": "[encoded data removed]",
      "text/plain": [
       "<Figure size 197.211x115.2 with 1 Axes>"
      ]
     },
     "metadata": {
      "needs_background": "light"
     },
     "output_type": "display_data"
    }
   ],
   "source": [
    "x = np.sort(wcc_sizes)[:-1]\n",
    "fig, ax = plt.subplots(1, 1, figsize=(5.47807 / 2, 1.6))\n",
    "ax.hist(x, bins=12, log=True, align='mid')\n",
    "ax.set_xlabel(\"WCC Size\")\n",
    "ax.set_ylabel(\"# Components\")\n",
    "plt.xticks(range(2, 18, 2))\n",
    "\n",
    "plt.tight_layout(pad=0)\n",
    "plt.margins(0,0)\n",
    "plt.savefig(os.path.join(figures_dir, 'network_wcc_dist_plot.pdf'), dpi=180, pad_inches=0)\n",
    "\n",
    "plt.show()"
   ]
  },
  {
   "cell_type": "code",
   "execution_count": 35,
   "metadata": {},
   "outputs": [
    {
     "data": {
      "text/plain": [
       "46"
      ]
     },
     "execution_count": 35,
     "metadata": {},
     "output_type": "execute_result"
    }
   ],
   "source": [
    "bins = []\n",
    "#bins.append(start_date.timestamp() * 1000)\n",
    "year = 2005\n",
    "month = 1\n",
    "while year != 2016 or month != 7:\n",
    "    bins.append(datetime.fromisoformat(f\"{year}-{month:02}-01\").timestamp() * 1000)\n",
    "    month += 3\n",
    "    if month >= 12:\n",
    "        year += 1\n",
    "        month = 1\n",
    "len(bins)"
   ]
  },
  {
   "cell_type": "markdown",
   "metadata": {},
   "source": [
    "We compute network features every three months during the year:\n",
    "```\n",
    "1 2 3 4 5 6 7 8 9 10 11 12\n",
    "^     ^     ^      ^\n",
    "```"
   ]
  },
  {
   "cell_type": "code",
   "execution_count": 36,
   "metadata": {
    "scrolled": false
   },
   "outputs": [
    {
     "name": "stderr",
     "output_type": "stream",
     "text": [
      "100%|██████████| 46/46 [04:42<00:00,  6.14s/it]\n"
     ]
    }
   ],
   "source": [
    "threshold = int(1000 * 60 * 60 * 24 * (364 / 2))  # about 6 months\n",
    "\n",
    "active_user_counts = []\n",
    "lwcc_sizes = []\n",
    "lscc_sizes  = []\n",
    "isolate_counts = []\n",
    "in_lwcc_counts = []\n",
    "in_other_comp_counts = []\n",
    "for target_timestamp in tqdm(bins):\n",
    "    inits_subset = inits_df[inits_df.created_at <= target_timestamp]\n",
    "    \n",
    "    g = nx.DiGraph()\n",
    "    nodes = set(inits_subset.from_user_id) | set(inits_subset.to_user_id)\n",
    "    edges = [tuple(row) for row in inits_subset[[\"from_user_id\", \"to_user_id\"]].values]\n",
    "    base_graph.add_nodes_from(nodes)\n",
    "    base_graph.add_edges_from(edges)\n",
    "    \n",
    "    active_users = set(valid_ints_df[(valid_ints_df.created_at >= target_timestamp - threshold)&(valid_ints_df.created_at <= target_timestamp)].user_id)\n",
    "    g_active = G.subgraph(active_users)\n",
    "    active_user_count = len(active_users)\n",
    "    active_user_counts.append(active_user_count)\n",
    "    \n",
    "    # nodes that appear in the active users list but not in the graph are isolates\n",
    "    isolate_count = len(active_users - g_active.nodes)\n",
    "    \n",
    "    wccs = nx.weakly_connected_components(g_active)\n",
    "    lwcc = max(wccs, key=len)\n",
    "    lwcc_sizes.append(len(lwcc))\n",
    "    \n",
    "    in_lwcc_count = 0\n",
    "    in_other_comp_count = 0\n",
    "    for active_user in g_active.nodes:\n",
    "        if active_user in lwcc:\n",
    "            in_lwcc_count += 1\n",
    "        else:\n",
    "            in_other_comp_count += 1\n",
    "            \n",
    "    isolate_counts.append(isolate_count)\n",
    "    in_lwcc_counts.append(in_lwcc_count)\n",
    "    in_other_comp_counts.append(in_other_comp_count)\n",
    "    assert active_user_count == isolate_count + in_lwcc_count + in_other_comp_count\n",
    "    \n",
    "    sccs = nx.strongly_connected_components(g_active)\n",
    "    lscc = max(sccs, key=len)\n",
    "    lscc_sizes.append(len(lscc))\n",
    "    \n",
    "    "
   ]
  },
  {
   "cell_type": "code",
   "execution_count": 37,
   "metadata": {},
   "outputs": [],
   "source": [
    "active_user_counts = np.array(active_user_counts)\n",
    "isolate_pcts = np.array(isolate_counts) / active_user_counts\n",
    "in_lwcc_pcts = np.array(in_lwcc_counts) / active_user_counts\n",
    "in_other_comp_pcts = np.array(in_other_comp_counts) / active_user_counts"
   ]
  },
  {
   "cell_type": "code",
   "execution_count": 40,
   "metadata": {},
   "outputs": [
    {
     "data": {
      "image/png": "[encoded data removed]",
      "text/plain": [
       "<Figure size 576x144 with 1 Axes>"
      ]
     },
     "metadata": {
      "needs_background": "light"
     },
     "output_type": "display_data"
    },
    {
     "data": {
      "text/plain": [
       "(0.15654726068633354,\n",
       " 0.6859422034918724,\n",
       " 0.2645996387718242,\n",
       " 0.1575105358217941)"
      ]
     },
     "execution_count": 40,
     "metadata": {},
     "output_type": "execute_result"
    }
   ],
   "source": [
    "fig, ax = plt.subplots(1, 1, figsize=(8,2))\n",
    "\n",
    "plt.plot(bins, isolate_pcts, linestyle='solid', linewidth=2, label='Isolates')\n",
    "plt.plot(bins, in_lwcc_pcts, linestyle='dotted', linewidth=2, label='LWCC')\n",
    "plt.plot(bins, np.array(lscc_sizes) / active_user_counts, linestyle='dashed', linewidth=2, label='LSCC')\n",
    "plt.plot(bins, in_other_comp_pcts, linestyle='dashdot', linewidth=2, label='Other')\n",
    "\n",
    "\n",
    "\n",
    "plt.axvline(subset_start_timestamp, color='black', alpha=0.2, linestyle='--', linewidth=1)\n",
    "\n",
    "plt.legend(ncol=4, frameon=False, loc=9)\n",
    "plt.ylim((0,0.99))\n",
    "\n",
    "plt.ylabel(\"% active authors\")\n",
    "\n",
    "newline = '\\n'\n",
    "xticks = [datetime.fromisoformat(f\"{2005 + i // 2}-{'01' if i % 2 == 0 else '07'}-01\").timestamp() * 1000 for i in range((2016 - 2005) * 2 + 2)]\n",
    "plt.xticks(\n",
    "    xticks, \n",
    "    [f\"{newline if i%2 == 0 else ''}{datetime.utcfromtimestamp(be / 1000).strftime('%Y-%m')}\" for i, be in enumerate(xticks)])\n",
    "\n",
    "plt.tight_layout(pad=0)\n",
    "plt.margins(0,0)\n",
    "plt.savefig(os.path.join(figures_dir, 'network_summary_timeline_plot.pdf'), dpi=200, pad_inches=0)\n",
    "     \n",
    "plt.show()\n",
    "     \n",
    "isolate_pcts[-1], in_lwcc_pcts[-1], (np.array(lscc_sizes) / active_user_counts)[-1], in_other_comp_pcts[-1]"
   ]
  },
  {
   "cell_type": "code",
   "execution_count": 46,
   "metadata": {},
   "outputs": [
    {
     "data": {
      "text/plain": [
       "array([79695, 80855, 79059, 76139, 73467, 73532, 72326, 69811, 66714,\n",
       "       66440])"
      ]
     },
     "execution_count": 46,
     "metadata": {},
     "output_type": "execute_result"
    }
   ],
   "source": [
    "# range of active user counts during the analysis period\n",
    "active_user_counts[np.array(bins) >= subset_start_timestamp]"
   ]
  },
  {
   "cell_type": "code",
   "execution_count": 43,
   "metadata": {},
   "outputs": [
    {
     "data": {
      "image/png": "[encoded data removed]",
      "text/plain": [
       "<Figure size 576x144 with 1 Axes>"
      ]
     },
     "metadata": {
      "needs_background": "light"
     },
     "output_type": "display_data"
    }
   ],
   "source": [
    "fig, ax = plt.subplots(1, 1, figsize=(8,2))\n",
    "\n",
    "plt.plot(bins, active_user_counts, linestyle='-', linewidth=2, label='Active Authors')\n",
    "#plt.plot(bins, lwcc_sizes, linestyle='-', linewidth=2, label='LWCC Size')\n",
    "#plt.plot(bins, lscc_sizes, linestyle='-', linewidth=2, label='LSCC Size')\n",
    "\n",
    "plt.axvline(subset_start_timestamp, color='black', alpha=0.2, linestyle='--', linewidth=1)\n",
    "\n",
    "#plt.legend(ncol=2, frameon=False, loc=10)\n",
    "\n",
    "plt.ylabel(\"Active Author Count\")\n",
    "\n",
    "newline = '\\n'\n",
    "xticks = [datetime.fromisoformat(f\"{2005 + i // 2}-{'01' if i % 2 == 0 else '07'}-01\").timestamp() * 1000 for i in range((2016 - 2005) * 2 + 2)]\n",
    "plt.xticks(\n",
    "    xticks, \n",
    "    [f\"{newline if i%2 == 0 else ''}{datetime.utcfromtimestamp(be / 1000).strftime('%Y-%m')}\" for i, be in enumerate(xticks)])\n",
    "\n",
    "plt.tight_layout(pad=0)\n",
    "plt.margins(0,0)\n",
    "plt.savefig(os.path.join(figures_dir, 'network_user_summary_timeline_plot.pdf'), dpi=200, pad_inches=0)\n",
    "     \n",
    "plt.show()"
   ]
  },
  {
   "cell_type": "code",
   "execution_count": 42,
   "metadata": {},
   "outputs": [
    {
     "data": {
      "image/png": "[encoded data removed]",
      "text/plain": [
       "<Figure size 576x144 with 1 Axes>"
      ]
     },
     "metadata": {
      "needs_background": "light"
     },
     "output_type": "display_data"
    }
   ],
   "source": [
    "fig, ax = plt.subplots(1, 1, figsize=(8,2))\n",
    "\n",
    "#plt.plot(bins, isolate_pcts, linestyle='-', linewidth=2, label='Isolates')\n",
    "plt.plot(bins, np.array(lwcc_sizes) / active_user_counts, linestyle='-', linewidth=2, label='LWCC %')\n",
    "plt.plot(bins, np.array(lscc_sizes) / active_user_counts, linestyle='-', linewidth=2, label='LSCC Size')\n",
    "\n",
    "plt.axvline(subset_start_timestamp, color='black', alpha=0.2, linestyle='--', linewidth=1)\n",
    "\n",
    "#plt.legend(ncol=2, frameon=False, loc=10)\n",
    "plt.ylim((0,0.9))\n",
    "\n",
    "plt.ylabel(\"% active authors\")\n",
    "\n",
    "newline = '\\n'\n",
    "xticks = [datetime.fromisoformat(f\"{2005 + i // 2}-{'01' if i % 2 == 0 else '07'}-01\").timestamp() * 1000 for i in range((2016 - 2005) * 2 + 2)]\n",
    "plt.xticks(\n",
    "    xticks, \n",
    "    [f\"{newline if i%2 == 0 else ''}{datetime.utcfromtimestamp(be / 1000).strftime('%Y-%m')}\" for i, be in enumerate(xticks)])\n",
    "\n",
    "plt.tight_layout(pad=0)\n",
    "plt.margins(0,0)\n",
    "plt.savefig(os.path.join(figures_dir, 'network_wcc_vs_scc_timeline_plot.pdf'), dpi=200, pad_inches=0)\n",
    "     \n",
    "plt.show()"
   ]
  },
  {
   "cell_type": "code",
   "execution_count": null,
   "metadata": {},
   "outputs": [],
   "source": [
    "#hist, bin_edges = np.histogram(initiations_df.created_at, bins=bins)\n",
    "#plt.plot(bin_edges[:-1], hist, linestyle='-', linewidth=1, label='Initiations')"
   ]
  },
  {
   "cell_type": "code",
   "execution_count": 144,
   "metadata": {},
   "outputs": [
    {
     "data": {
      "text/html": [
       "<div>\n",
       "<style scoped>\n",
       "    .dataframe tbody tr th:only-of-type {\n",
       "        vertical-align: middle;\n",
       "    }\n",
       "\n",
       "    .dataframe tbody tr th {\n",
       "        vertical-align: top;\n",
       "    }\n",
       "\n",
       "    .dataframe thead th {\n",
       "        text-align: right;\n",
       "    }\n",
       "</style>\n",
       "<table border=\"1\" class=\"dataframe\">\n",
       "  <thead>\n",
       "    <tr style=\"text-align: right;\">\n",
       "      <th></th>\n",
       "      <th>from_user_id</th>\n",
       "      <th>to_user_id</th>\n",
       "      <th>created_at</th>\n",
       "      <th>int_type</th>\n",
       "    </tr>\n",
       "  </thead>\n",
       "  <tbody>\n",
       "    <tr>\n",
       "      <td>13397423</td>\n",
       "      <td>22239537</td>\n",
       "      <td>5758186</td>\n",
       "      <td>1388556151000</td>\n",
       "      <td>amps</td>\n",
       "    </tr>\n",
       "    <tr>\n",
       "      <td>10668176</td>\n",
       "      <td>9825200</td>\n",
       "      <td>5749759</td>\n",
       "      <td>1388558061000</td>\n",
       "      <td>amps</td>\n",
       "    </tr>\n",
       "    <tr>\n",
       "      <td>14351032</td>\n",
       "      <td>27800665</td>\n",
       "      <td>8646149</td>\n",
       "      <td>1388558607000</td>\n",
       "      <td>amps</td>\n",
       "    </tr>\n",
       "    <tr>\n",
       "      <td>13827032</td>\n",
       "      <td>24273883</td>\n",
       "      <td>26728970</td>\n",
       "      <td>1388558755000</td>\n",
       "      <td>amps</td>\n",
       "    </tr>\n",
       "    <tr>\n",
       "      <td>11586580</td>\n",
       "      <td>13703620</td>\n",
       "      <td>22391773</td>\n",
       "      <td>1388564226000</td>\n",
       "      <td>amps</td>\n",
       "    </tr>\n",
       "  </tbody>\n",
       "</table>\n",
       "</div>"
      ],
      "text/plain": [
       "          from_user_id  to_user_id     created_at int_type\n",
       "13397423      22239537     5758186  1388556151000     amps\n",
       "10668176       9825200     5749759  1388558061000     amps\n",
       "14351032      27800665     8646149  1388558607000     amps\n",
       "13827032      24273883    26728970  1388558755000     amps\n",
       "11586580      13703620    22391773  1388564226000     amps"
      ]
     },
     "execution_count": 144,
     "metadata": {},
     "output_type": "execute_result"
    }
   ],
   "source": [
    "n = 20000\n",
    "s = 24\n",
    "# sample n initiations\n",
    "# using s negative samples\n",
    "# valid candidate users are ALL valid authors who have posted their first update at this time\n",
    "inits_subset = inits_df[(inits_df.created_at >= model_start_timestamp)&(inits_df.created_at <= model_end_timestamp)]\n",
    "inits_subset = inits_subset.sample(n=n).sort_values(by='created_at', ascending=True)\n",
    "inits_subset.head()"
   ]
  },
  {
   "cell_type": "code",
   "execution_count": 145,
   "metadata": {},
   "outputs": [
    {
     "data": {
      "text/plain": [
       "0.7502187142088341"
      ]
     },
     "execution_count": 145,
     "metadata": {},
     "output_type": "execute_result"
    }
   ],
   "source": [
    "user_df['time_to_first_update'] = user_df.first_update - model_start_timestamp\n",
    "# if first update is positive, it is still in the future\n",
    "# if first update is <= 0, then it should already be an eligible node\n",
    "# however, it might not be in the network, since the base network only contains connected nodes\n",
    "active_user_ids = user_df.loc[user_df.time_to_first_update <= 0, 'user_id']\n",
    "len(active_user_ids) / len(user_df)"
   ]
  },
  {
   "cell_type": "code",
   "execution_count": 146,
   "metadata": {},
   "outputs": [
    {
     "data": {
      "text/plain": [
       "155141"
      ]
     },
     "execution_count": 146,
     "metadata": {},
     "output_type": "execute_result"
    }
   ],
   "source": [
    "# create data structures storing all of the edges that do not yet but will exist in the model\n",
    "# these will be added incrementally as computation continues\n",
    "model_subset = inits_df[(inits_df.created_at >= model_start_timestamp)&(inits_df.created_at <= model_end_timestamp)]\n",
    "all_edges = [(created_at, tuple(row))\n",
    "             for created_at, row \n",
    "             in zip(model_subset.created_at, model_subset[[\"from_user_id\", \"to_user_id\"]].values)]\n",
    "edge_df = pd.DataFrame(all_edges, columns=['created_at', 'edge'])\n",
    "edge_df['time_to_existence'] = edge_df.created_at - model_start_timestamp\n",
    "# if time_to_existence <= 0, it should exist in the network\n",
    "assert np.all(edge_df.time_to_existence > 0)\n",
    "len(edge_df)"
   ]
  },
  {
   "cell_type": "code",
   "execution_count": null,
   "metadata": {
    "scrolled": true
   },
   "outputs": [],
   "source": [
    "prev_timestep = model_start_timestamp\n",
    "active_user_ids = user_df.loc[user_df.time_to_first_update <= 0, 'user_id']\n",
    "sampled_initiations = []\n",
    "for from_user_id, to_user_id, created_at in tqdm(zip(inits_subset.from_user_id, inits_subset.to_user_id, inits_subset.created_at), total=len(inits_subset)):\n",
    "    curr_timestep = created_at\n",
    "    elapsed_time = curr_timestep - prev_timestep\n",
    "    if elapsed_time > 0:  # if 2+ sampled initiations occur at the same time, elapsed_time == 0\n",
    "        # update the active users set\n",
    "        user_df.time_to_first_update -= elapsed_time\n",
    "        active_user_ids = user_df.loc[user_df.time_to_first_update <= 0, 'user_id']\n",
    "        # update the graph with all initiations between previous timestep and now\n",
    "        edge_df.time_to_existence -= elapsed_time\n",
    "        new_edge_mask = edge_df.time_to_existence < 0  # edges that exist AT zero happen at the current timestep, including the edge from_user_id, to_user_id\n",
    "        new_edges = edge_df[new_edge_mask]\n",
    "        edge_df = edge_df[~new_edge_mask] # TODO Use loc for assignment?\n",
    "        #assert np.all(edge_df[edge_df.time_to_existence==0].created_at == created_at)\n",
    "        G.add_edges_from(new_edges.edge)\n",
    "        # also add edges to the WCC graph\n",
    "        for from_user_id, to_user_id in new_edges.edge:\n",
    "            wcc_graph.add_edge(from_user_id, to_user_id)\n",
    "    \n",
    "    # candidate users are all active users...\n",
    "    candidate_user_ids = set(active_user_ids)\n",
    "    # ... minus the true initiation target...\n",
    "    candidate_user_ids.discard(to_user_id)\n",
    "    # ... minus users already initiated to by this user\n",
    "    if from_user_id in G:\n",
    "        candidate_user_ids -= set(G[from_user_id].keys())\n",
    "    \n",
    "    # we only sample s of the candidate users\n",
    "    negative_sampled_users = list(random.sample(candidate_user_ids, s))\n",
    "    \n",
    "    # now, extract ids for the target user and all of the negative sampled users\n",
    "    indegree_list = []\n",
    "    outdegree_list = []\n",
    "    is_reciprocal_list = []\n",
    "    is_weakly_connected_list = []\n",
    "    is_friend_of_friend_list = []\n",
    "    #is_strongly_connected_list = []\n",
    "    for user_id in [to_user_id] + negative_sampled_users:\n",
    "        is_friend_of_friend = False\n",
    "        if user_id in G:\n",
    "            indegree = G.in_degree(user_id)\n",
    "            outdegree = G.out_degree(user_id)\n",
    "            is_reciprocal = from_user_id in G[user_id]\n",
    "            is_weakly_connected = wcc_graph.are_weakly_connected(from_user_id, user_id)\n",
    "            if is_weakly_connected:\n",
    "                is_friend_of_friend = compute_is_friend_of_friend(G, from_user_id, user_id)\n",
    "                #is_strongly_connected = are_strongly_connected(G, from_user_id, user_id)\n",
    "        else:\n",
    "            indegree = 0\n",
    "            outdegree = 0\n",
    "            is_reciprocal = False\n",
    "            is_weakly_connected = False\n",
    "        \n",
    "        indegree_list.append(indegree)\n",
    "        outdegree_list.append(outdegree)\n",
    "        is_reciprocal_list.append(is_reciprocal)\n",
    "        is_weakly_connected_list.append(is_weakly_connected)\n",
    "        is_strongly_connected_list.append(is_strongly_connected)\n",
    "        is_friend_of_friend_list.append(is_friend_of_friend)\n",
    "    \n",
    "    d = {\n",
    "        'initiator_user_id': from_user_id,\n",
    "        'target_user_id': to_user_id,\n",
    "        'negative_user_ids': negative_sampled_users,\n",
    "        'created_at': created_at,\n",
    "        'indegree_list': indegree_list,\n",
    "        'outdegree_list': outdegree_list,\n",
    "        'is_reciprocal_list': is_reciprocal_list,\n",
    "        'is_weakly_connected_list': is_weakly_connected_list,\n",
    "        'is_friend_of_friend_list': is_friend_of_friend_list\n",
    "    }\n",
    "    sampled_initiations.append(d)\n",
    "    \n",
    "    prev_timestep = curr_timestep\n"
   ]
  },
  {
   "cell_type": "code",
   "execution_count": 148,
   "metadata": {},
   "outputs": [
    {
     "data": {
      "text/plain": [
       "20000"
      ]
     },
     "execution_count": 148,
     "metadata": {},
     "output_type": "execute_result"
    }
   ],
   "source": [
    "sampled_inits_df = pd.DataFrame(sampled_initiations)\n",
    "len(sampled_inits_df)"
   ]
  },
  {
   "cell_type": "code",
   "execution_count": 149,
   "metadata": {},
   "outputs": [
    {
     "name": "stdout",
     "output_type": "stream",
     "text": [
      "Finished.\n"
     ]
    }
   ],
   "source": [
    "# save the sampled initiations dataframe with graph features\n",
    "# so that the expensive graph feature computation can be saved\n",
    "sampled_inits_df_filename = \"sampled_inits_df.pickle\"\n",
    "sampled_inits_df_filepath = os.path.join(working_dir, sampled_inits_df_filename)\n",
    "sampled_inits_df.to_pickle(sampled_inits_df_filepath)\n",
    "print(\"Finished.\")"
   ]
  },
  {
   "cell_type": "code",
   "execution_count": 39,
   "metadata": {},
   "outputs": [
    {
     "data": {
      "text/plain": [
       "20000"
      ]
     },
     "execution_count": 39,
     "metadata": {},
     "output_type": "execute_result"
    }
   ],
   "source": [
    "# read the sampled initiations dataframe with graph features\n",
    "sampled_inits_df_filename = \"sampled_inits_df.pickle\"\n",
    "sampled_inits_df_filepath = os.path.join(working_dir, sampled_inits_df_filename)\n",
    "sampled_inits_df = pd.read_pickle(sampled_inits_df_filepath)\n",
    "len(sampled_inits_df)"
   ]
  },
  {
   "cell_type": "code",
   "execution_count": 150,
   "metadata": {},
   "outputs": [
    {
     "data": {
      "text/html": [
       "<div>\n",
       "<style scoped>\n",
       "    .dataframe tbody tr th:only-of-type {\n",
       "        vertical-align: middle;\n",
       "    }\n",
       "\n",
       "    .dataframe tbody tr th {\n",
       "        vertical-align: top;\n",
       "    }\n",
       "\n",
       "    .dataframe thead th {\n",
       "        text-align: right;\n",
       "    }\n",
       "</style>\n",
       "<table border=\"1\" class=\"dataframe\">\n",
       "  <thead>\n",
       "    <tr style=\"text-align: right;\">\n",
       "      <th></th>\n",
       "      <th>initiator_user_id</th>\n",
       "      <th>target_user_id</th>\n",
       "      <th>negative_user_ids</th>\n",
       "      <th>created_at</th>\n",
       "      <th>indegree_list</th>\n",
       "      <th>outdegree_list</th>\n",
       "      <th>is_reciprocal_list</th>\n",
       "      <th>is_weakly_connected_list</th>\n",
       "      <th>is_friend_of_friend_list</th>\n",
       "    </tr>\n",
       "  </thead>\n",
       "  <tbody>\n",
       "    <tr>\n",
       "      <td>0</td>\n",
       "      <td>22239537</td>\n",
       "      <td>5758186</td>\n",
       "      <td>[370350, 6940380, 5863211, 21034677, 10553453,...</td>\n",
       "      <td>1388556151000</td>\n",
       "      <td>[41, 1, 6, 9, 1, 0, 0, 0, 0, 0, 5, 5, 0, 0, 1,...</td>\n",
       "      <td>[10, 3, 1, 2, 1, 1, 0, 0, 0, 0, 6, 2, 0, 0, 0,...</td>\n",
       "      <td>[False, False, False, False, False, False, Fal...</td>\n",
       "      <td>[True, True, True, True, True, False, False, F...</td>\n",
       "      <td>[False, False, False, False, False, False, Fal...</td>\n",
       "    </tr>\n",
       "    <tr>\n",
       "      <td>1</td>\n",
       "      <td>8888130</td>\n",
       "      <td>1402976</td>\n",
       "      <td>[2516543, 3937319, 8826219, 5807457, 2415107, ...</td>\n",
       "      <td>1388558061000</td>\n",
       "      <td>[503, 9, 2, 0, 1, 0, 1, 0, 0, 0, 0, 0, 0, 0, 0...</td>\n",
       "      <td>[371, 4, 1, 0, 5, 7, 1, 0, 0, 0, 0, 0, 3, 0, 1...</td>\n",
       "      <td>[False, False, False, False, False, False, Fal...</td>\n",
       "      <td>[True, True, True, False, True, True, True, Fa...</td>\n",
       "      <td>[True, False, False, False, False, False, Fals...</td>\n",
       "    </tr>\n",
       "    <tr>\n",
       "      <td>2</td>\n",
       "      <td>4804553</td>\n",
       "      <td>5043364</td>\n",
       "      <td>[1266249, 16971126, 6547604, 17128374, 111663,...</td>\n",
       "      <td>1388558607000</td>\n",
       "      <td>[4, 7, 0, 1, 2, 3, 0, 0, 0, 0, 8, 2, 1, 1, 3, ...</td>\n",
       "      <td>[7, 3, 0, 6, 1, 3, 1, 1, 1, 1, 15, 3, 1, 0, 0,...</td>\n",
       "      <td>[False, False, False, False, False, False, Fal...</td>\n",
       "      <td>[True, True, False, True, True, True, True, Tr...</td>\n",
       "      <td>[False, False, False, False, False, False, Fal...</td>\n",
       "    </tr>\n",
       "    <tr>\n",
       "      <td>3</td>\n",
       "      <td>27800665</td>\n",
       "      <td>27795336</td>\n",
       "      <td>[5214754, 18345673, 53400, 5393460, 4404141, 2...</td>\n",
       "      <td>1388558755000</td>\n",
       "      <td>[1, 8, 6, 16, 4, 2, 0, 0, 1, 4, 3, 2, 0, 0, 0,...</td>\n",
       "      <td>[0, 10, 3, 4, 5, 1, 0, 0, 1, 1, 2, 2, 1, 0, 0,...</td>\n",
       "      <td>[False, False, False, False, False, False, Fal...</td>\n",
       "      <td>[True, False, False, False, False, False, Fals...</td>\n",
       "      <td>[False, False, False, False, False, False, Fal...</td>\n",
       "    </tr>\n",
       "    <tr>\n",
       "      <td>4</td>\n",
       "      <td>2574230</td>\n",
       "      <td>27751497</td>\n",
       "      <td>[1461304, 14029150, 7396569, 2826403, 22936889...</td>\n",
       "      <td>1388564226000</td>\n",
       "      <td>[4, 2, 0, 1, 0, 2, 2, 1, 2, 0, 1, 1, 49, 0, 2,...</td>\n",
       "      <td>[0, 0, 1, 1, 0, 0, 5, 0, 0, 1, 3, 0, 16, 4, 0,...</td>\n",
       "      <td>[False, False, False, False, False, False, Fal...</td>\n",
       "      <td>[True, True, True, False, False, True, True, T...</td>\n",
       "      <td>[False, False, False, False, False, False, Fal...</td>\n",
       "    </tr>\n",
       "  </tbody>\n",
       "</table>\n",
       "</div>"
      ],
      "text/plain": [
       "   initiator_user_id  target_user_id  \\\n",
       "0           22239537         5758186   \n",
       "1            8888130         1402976   \n",
       "2            4804553         5043364   \n",
       "3           27800665        27795336   \n",
       "4            2574230        27751497   \n",
       "\n",
       "                                   negative_user_ids     created_at  \\\n",
       "0  [370350, 6940380, 5863211, 21034677, 10553453,...  1388556151000   \n",
       "1  [2516543, 3937319, 8826219, 5807457, 2415107, ...  1388558061000   \n",
       "2  [1266249, 16971126, 6547604, 17128374, 111663,...  1388558607000   \n",
       "3  [5214754, 18345673, 53400, 5393460, 4404141, 2...  1388558755000   \n",
       "4  [1461304, 14029150, 7396569, 2826403, 22936889...  1388564226000   \n",
       "\n",
       "                                       indegree_list  \\\n",
       "0  [41, 1, 6, 9, 1, 0, 0, 0, 0, 0, 5, 5, 0, 0, 1,...   \n",
       "1  [503, 9, 2, 0, 1, 0, 1, 0, 0, 0, 0, 0, 0, 0, 0...   \n",
       "2  [4, 7, 0, 1, 2, 3, 0, 0, 0, 0, 8, 2, 1, 1, 3, ...   \n",
       "3  [1, 8, 6, 16, 4, 2, 0, 0, 1, 4, 3, 2, 0, 0, 0,...   \n",
       "4  [4, 2, 0, 1, 0, 2, 2, 1, 2, 0, 1, 1, 49, 0, 2,...   \n",
       "\n",
       "                                      outdegree_list  \\\n",
       "0  [10, 3, 1, 2, 1, 1, 0, 0, 0, 0, 6, 2, 0, 0, 0,...   \n",
       "1  [371, 4, 1, 0, 5, 7, 1, 0, 0, 0, 0, 0, 3, 0, 1...   \n",
       "2  [7, 3, 0, 6, 1, 3, 1, 1, 1, 1, 15, 3, 1, 0, 0,...   \n",
       "3  [0, 10, 3, 4, 5, 1, 0, 0, 1, 1, 2, 2, 1, 0, 0,...   \n",
       "4  [0, 0, 1, 1, 0, 0, 5, 0, 0, 1, 3, 0, 16, 4, 0,...   \n",
       "\n",
       "                                  is_reciprocal_list  \\\n",
       "0  [False, False, False, False, False, False, Fal...   \n",
       "1  [False, False, False, False, False, False, Fal...   \n",
       "2  [False, False, False, False, False, False, Fal...   \n",
       "3  [False, False, False, False, False, False, Fal...   \n",
       "4  [False, False, False, False, False, False, Fal...   \n",
       "\n",
       "                            is_weakly_connected_list  \\\n",
       "0  [True, True, True, True, True, False, False, F...   \n",
       "1  [True, True, True, False, True, True, True, Fa...   \n",
       "2  [True, True, False, True, True, True, True, Tr...   \n",
       "3  [True, False, False, False, False, False, Fals...   \n",
       "4  [True, True, True, False, False, True, True, T...   \n",
       "\n",
       "                            is_friend_of_friend_list  \n",
       "0  [False, False, False, False, False, False, Fal...  \n",
       "1  [True, False, False, False, False, False, Fals...  \n",
       "2  [False, False, False, False, False, False, Fal...  \n",
       "3  [False, False, False, False, False, False, Fal...  \n",
       "4  [False, False, False, False, False, False, Fal...  "
      ]
     },
     "execution_count": 150,
     "metadata": {},
     "output_type": "execute_result"
    }
   ],
   "source": [
    "sampled_inits_df.head()"
   ]
  },
  {
   "cell_type": "code",
   "execution_count": 151,
   "metadata": {},
   "outputs": [],
   "source": [
    "# dictionaries for computing user-level features\n",
    "author_type_dict = {row.user_id: row.user_author_type for row in user_df.itertuples()}\n",
    "health_condition_dict = {row.user_id: row.health_condition for row in user_df.itertuples()}\n",
    "is_multisite_author_dict = {row.user_id: row.is_multisite_author for row in user_df.itertuples()}\n",
    "is_mixedsite_author_dict = {row.user_id: row.is_mixedsite_author for row in user_df.itertuples()}\n",
    "update_count_dict = {row.user_id: row.update_count for row in user_df.itertuples()}\n",
    "update_frequency_dict = {row.user_id: row.update_frequency for row in user_df.itertuples()}"
   ]
  },
  {
   "cell_type": "code",
   "execution_count": 152,
   "metadata": {},
   "outputs": [],
   "source": [
    "# compute days_since_most_recent_update\n",
    "# given a target user_id and a created_at timestamp\n",
    "def get_most_recent_update(user_id, created_at):\n",
    "    update_times = user_updates_dict[user_id]\n",
    "    # update_times is a sorted list of created_at times for all updates by the given user_id\n",
    "    ind = bisect.bisect_right(update_times, created_at)\n",
    "    most_recent_update = update_times[ind-1]\n",
    "    return most_recent_update\n",
    "\n",
    "def compute_days_since_most_recent_update(user_id, created_at):\n",
    "    most_recent_update = get_most_recent_update(user_id, created_at)\n",
    "    ms_since_most_recent_update = created_at - most_recent_update\n",
    "    days_since_most_recent_update = ms_since_most_recent_update / (1000 * 60 * 60 * 24)\n",
    "    return days_since_most_recent_update\n",
    "\n",
    "def compute_days_since_first_update(user_id, created_at):\n",
    "    update_times = user_updates_dict[user_id]\n",
    "    ind = bisect.bisect_right(update_times, created_at)\n",
    "    most_recent_update = update_times[ind-1]\n",
    "    first_update = update_times[0]\n",
    "    ms_since_first_update = most_recent_update - first_update\n",
    "    days_since_first_update = ms_since_first_update / (1000 * 60 * 60 * 24)\n",
    "    return days_since_first_update"
   ]
  },
  {
   "cell_type": "code",
   "execution_count": null,
   "metadata": {
    "scrolled": true
   },
   "outputs": [],
   "source": [
    "sampled_initiations_filename = \"author_initiation_choices_train_20000.csv\"\n",
    "sampled_initiations_filepath = os.path.join(working_dir, sampled_initiations_filename)\n",
    "with open(sampled_initiations_filepath, 'w') as outfile:\n",
    "    header = \"\"\"\n",
    "            choice_id,\n",
    "            initiator_user_id,\n",
    "            candidate_user_id,\n",
    "            is_target,\n",
    "            target_outdegree,\n",
    "            target_indegree,\n",
    "            target_has_indegree,\n",
    "            is_reciprocal,\n",
    "            is_weakly_connected,\n",
    "            is_friend_of_friend,\n",
    "            is_author_type_shared,\n",
    "            target_author_type,\n",
    "            initiator_author_type,\n",
    "            target_health_condition,\n",
    "            is_health_condition_shared,\n",
    "            target_is_multisite_author,\n",
    "            target_is_mixedsite_author,\n",
    "            target_update_count,\n",
    "            target_update_frequency,\n",
    "            target_days_since_most_recent_update,\n",
    "            target_days_since_first_update,\n",
    "            target_site_visits\n",
    "    \"\"\"\n",
    "    header = re.sub(r'\\s+', '', header).strip() + \"\\n\"\n",
    "    format_str = \"iiiiiiiiiiiccciiiidddi\"\n",
    "    outfile.write(header)\n",
    "    for i, row in tqdm(enumerate(sampled_inits_df.itertuples()), total=len(sampled_inits_df)):\n",
    "        choice_id = i\n",
    "        initiator_user_id = row.initiator_user_id\n",
    "        initiator_author_type = author_type_dict[initiator_user_id]\n",
    "        initiator_health_condition = health_condition_dict[initiator_user_id]\n",
    "        for i, user_id in enumerate([row.target_user_id] + row.negative_user_ids):\n",
    "            is_target = int(i == 0)\n",
    "            candidate_user_id = user_id\n",
    "            target_outdegree = row.outdegree_list[i]\n",
    "            target_indegree = row.indegree_list[i]\n",
    "            target_has_indegree = int(target_indegree > 0)\n",
    "            is_reciprocal = int(row.is_reciprocal_list[i])\n",
    "            is_weakly_connected = int(row.is_weakly_connected_list[i])\n",
    "            is_friend_of_friend = int(row.is_friend_of_friend_list[i])\n",
    "            \n",
    "            # Include the user-level features for the candidates\n",
    "            target_author_type = author_type_dict[candidate_user_id]\n",
    "            is_author_type_shared = int(initiator_author_type == target_author_type)\n",
    "            \n",
    "            target_health_condition = health_condition_dict[candidate_user_id]\n",
    "            is_health_condition_shared = int(initiator_health_condition == target_health_condition)\n",
    "            \n",
    "            target_is_multisite_author = int(is_multisite_author_dict[candidate_user_id])\n",
    "            target_is_mixedsite_author = int(is_mixedsite_author_dict[candidate_user_id])\n",
    "            target_update_count = update_count_dict[candidate_user_id]\n",
    "            target_update_frequency = update_frequency_dict[candidate_user_id]\n",
    "            \n",
    "            target_days_since_most_recent_update = compute_days_since_most_recent_update(candidate_user_id, row.created_at)\n",
    "            target_days_since_first_update = compute_days_since_first_update(candidate_user_id, row.created_at)\n",
    "            \n",
    "            target_site_visits = user_visits_dict[candidate_user_id]\n",
    "            \n",
    "            line_vars = [\n",
    "                choice_id,\n",
    "                initiator_user_id,\n",
    "                candidate_user_id,\n",
    "                is_target,\n",
    "                target_outdegree,\n",
    "                target_indegree,\n",
    "                target_has_indegree,\n",
    "                is_reciprocal,\n",
    "                is_weakly_connected,\n",
    "                is_friend_of_friend,\n",
    "                is_author_type_shared,\n",
    "                target_author_type,\n",
    "                initiator_author_type,\n",
    "                target_health_condition,\n",
    "                is_health_condition_shared,\n",
    "                target_is_multisite_author,\n",
    "                target_is_mixedsite_author,\n",
    "                target_update_count,\n",
    "                target_update_frequency,\n",
    "                target_days_since_most_recent_update,\n",
    "                target_days_since_first_update,\n",
    "                target_site_visits\n",
    "            ]\n",
    "            line = \",\".join([str(v) for v in line_vars]) + \"\\n\"\n",
    "            #line = f\"{choice_id},{initiator_user_id},{candidate_user_id},{is_target},{target_outdegree},{target_indegree},{target_has_indegree},{is_reciprocal},{is_author_type_shared},{target_author_type},{initiator_author_type}\\n\"\n",
    "            outfile.write(line)\n",
    "print(f\"R column types format string: {format_str}\")\n",
    "sampled_initiations_filepath"
   ]
  },
  {
   "cell_type": "code",
   "execution_count": 43,
   "metadata": {},
   "outputs": [],
   "source": []
  },
  {
   "cell_type": "code",
   "execution_count": null,
   "metadata": {},
   "outputs": [],
   "source": []
  }
 ],
 "metadata": {
  "kernelspec": {
   "display_name": "Python (shared-conda)",
   "language": "python",
   "name": "shared-conda"
  },
  "language_info": {
   "codemirror_mode": {
    "name": "ipython",
    "version": 3
   },
   "file_extension": ".py",
   "mimetype": "text/x-python",
   "name": "python",
   "nbconvert_exporter": "python",
   "pygments_lexer": "ipython3",
   "version": "3.7.3"
  }
 },
 "nbformat": 4,
 "nbformat_minor": 2
}
