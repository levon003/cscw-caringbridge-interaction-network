{
 "cells": [
  {
   "cell_type": "markdown",
   "metadata": {},
   "source": [
    "\"With whom do users initiate?\" Mlogit Modeling - Subgroup Selection\n",
    "===\n",
    "\n",
    "From the full train and test data, we create subsets for building more specific models.\n",
    "\n",
    " - FIRST initiations only\n",
    " - Health condition != None"
   ]
  },
  {
   "cell_type": "code",
   "execution_count": 1,
   "metadata": {},
   "outputs": [],
   "source": [
    "%reload_ext autoreload\n",
    "%autoreload 2\n",
    "%matplotlib inline"
   ]
  },
  {
   "cell_type": "code",
   "execution_count": 2,
   "metadata": {},
   "outputs": [],
   "source": [
    "import os\n",
    "import re\n",
    "import pandas as pd\n",
    "import numpy as np\n",
    "\n",
    "from collections import Counter, defaultdict\n",
    "import sqlite3\n",
    "from tqdm import tqdm\n",
    "import random\n",
    "import pickle\n",
    "from datetime import datetime\n",
    "import bisect\n",
    "\n",
    "import matplotlib.pyplot as plt\n",
    "import matplotlib.dates as md\n",
    "import matplotlib\n",
    "import pylab as pl\n",
    "from IPython.core.display import display, HTML\n",
    "\n",
    "import networkx as nx"
   ]
  },
  {
   "cell_type": "code",
   "execution_count": 3,
   "metadata": {},
   "outputs": [],
   "source": [
    "working_dir = \"/home/srivbane/shared/caringbridge/data/projects/sna-social-support/author_initiations\"\n",
    "assert os.path.exists(working_dir)"
   ]
  },
  {
   "cell_type": "code",
   "execution_count": 4,
   "metadata": {},
   "outputs": [
    {
     "name": "stdout",
     "output_type": "stream",
     "text": [
      "author_initiation_choices_test_all.csv\r\n",
      "author_initiation_choices_test_firstonly.csv\r\n",
      "author_initiation_choices_test_hcNotNone.csv\r\n",
      "author_initiation_choices_train_20000.csv\r\n",
      "author_initiation_choices_train_all.csv\r\n",
      "author_initiation_choices_train_firstonly.csv\r\n",
      "author_initiation_choices_train_hcNotNone.csv\r\n",
      "geo_author_initiation_choices_test_all.csv\r\n",
      "geo_author_initiation_choices_train_all.csv\r\n",
      "geoMlogitFeatureExtraction.stderr\r\n",
      "geoMlogitFeatureExtraction.stdout\r\n",
      "geo_sampled_inits_test_df.pickle\r\n",
      "geo_sampled_inits_train_df.pickle\r\n",
      "mlogitFeatureExtraction.stderr\r\n",
      "mlogitFeatureExtraction.stdout\r\n",
      "sampled_inits_df.pickle\r\n",
      "sampled_inits_test_df.pickle\r\n",
      "sampled_inits_train_df.pickle\r\n"
     ]
    }
   ],
   "source": [
    "!ls {working_dir}"
   ]
  },
  {
   "cell_type": "code",
   "execution_count": 5,
   "metadata": {},
   "outputs": [
    {
     "data": {
      "text/plain": [
       "(3878525, 690025)"
      ]
     },
     "execution_count": 5,
     "metadata": {},
     "output_type": "execute_result"
    }
   ],
   "source": [
    "train_filepath = os.path.join(working_dir, \"author_initiation_choices_train_all.csv\")\n",
    "train = pd.read_csv(train_filepath, header=0)\n",
    "test_filepath = os.path.join(working_dir, \"author_initiation_choices_test_all.csv\")\n",
    "test = pd.read_csv(test_filepath, header=0)\n",
    "len(train), len(test)"
   ]
  },
  {
   "cell_type": "code",
   "execution_count": 6,
   "metadata": {},
   "outputs": [
    {
     "data": {
      "text/plain": [
       "(155141.0, 27601.0)"
      ]
     },
     "execution_count": 6,
     "metadata": {},
     "output_type": "execute_result"
    }
   ],
   "source": [
    "len(train) / 25, len(test) / 25"
   ]
  },
  {
   "cell_type": "code",
   "execution_count": 7,
   "metadata": {},
   "outputs": [
    {
     "data": {
      "text/html": [
       "<div>\n",
       "<style scoped>\n",
       "    .dataframe tbody tr th:only-of-type {\n",
       "        vertical-align: middle;\n",
       "    }\n",
       "\n",
       "    .dataframe tbody tr th {\n",
       "        vertical-align: top;\n",
       "    }\n",
       "\n",
       "    .dataframe thead th {\n",
       "        text-align: right;\n",
       "    }\n",
       "</style>\n",
       "<table border=\"1\" class=\"dataframe\">\n",
       "  <thead>\n",
       "    <tr style=\"text-align: right;\">\n",
       "      <th></th>\n",
       "      <th>choice_id</th>\n",
       "      <th>initiator_user_id</th>\n",
       "      <th>candidate_user_id</th>\n",
       "      <th>is_target</th>\n",
       "      <th>target_outdegree</th>\n",
       "      <th>target_indegree</th>\n",
       "      <th>target_has_indegree</th>\n",
       "      <th>is_reciprocal</th>\n",
       "      <th>is_weakly_connected</th>\n",
       "      <th>is_friend_of_friend</th>\n",
       "      <th>...</th>\n",
       "      <th>initiator_author_type</th>\n",
       "      <th>target_health_condition</th>\n",
       "      <th>is_health_condition_shared</th>\n",
       "      <th>target_is_multisite_author</th>\n",
       "      <th>target_is_mixedsite_author</th>\n",
       "      <th>target_update_count</th>\n",
       "      <th>target_update_frequency</th>\n",
       "      <th>target_days_since_most_recent_update</th>\n",
       "      <th>target_days_since_first_update</th>\n",
       "      <th>target_site_visits</th>\n",
       "    </tr>\n",
       "  </thead>\n",
       "  <tbody>\n",
       "    <tr>\n",
       "      <td>0</td>\n",
       "      <td>0</td>\n",
       "      <td>15878504</td>\n",
       "      <td>5758186</td>\n",
       "      <td>1</td>\n",
       "      <td>10</td>\n",
       "      <td>41</td>\n",
       "      <td>1</td>\n",
       "      <td>0</td>\n",
       "      <td>1</td>\n",
       "      <td>0</td>\n",
       "      <td>...</td>\n",
       "      <td>cg</td>\n",
       "      <td>Cancer</td>\n",
       "      <td>1</td>\n",
       "      <td>0</td>\n",
       "      <td>0</td>\n",
       "      <td>628</td>\n",
       "      <td>10.271729</td>\n",
       "      <td>0.000000</td>\n",
       "      <td>1118.324664</td>\n",
       "      <td>118271</td>\n",
       "    </tr>\n",
       "    <tr>\n",
       "      <td>1</td>\n",
       "      <td>0</td>\n",
       "      <td>15878504</td>\n",
       "      <td>8745849</td>\n",
       "      <td>0</td>\n",
       "      <td>0</td>\n",
       "      <td>1</td>\n",
       "      <td>1</td>\n",
       "      <td>0</td>\n",
       "      <td>1</td>\n",
       "      <td>0</td>\n",
       "      <td>...</td>\n",
       "      <td>cg</td>\n",
       "      <td>Cardiovascular/Stroke</td>\n",
       "      <td>0</td>\n",
       "      <td>0</td>\n",
       "      <td>0</td>\n",
       "      <td>17</td>\n",
       "      <td>2.249373</td>\n",
       "      <td>1132.466331</td>\n",
       "      <td>226.729861</td>\n",
       "      <td>1962</td>\n",
       "    </tr>\n",
       "    <tr>\n",
       "      <td>2</td>\n",
       "      <td>0</td>\n",
       "      <td>15878504</td>\n",
       "      <td>7054610</td>\n",
       "      <td>0</td>\n",
       "      <td>3</td>\n",
       "      <td>3</td>\n",
       "      <td>1</td>\n",
       "      <td>0</td>\n",
       "      <td>1</td>\n",
       "      <td>0</td>\n",
       "      <td>...</td>\n",
       "      <td>cg</td>\n",
       "      <td>Neurological Condition</td>\n",
       "      <td>0</td>\n",
       "      <td>0</td>\n",
       "      <td>0</td>\n",
       "      <td>11</td>\n",
       "      <td>5.774769</td>\n",
       "      <td>1446.314942</td>\n",
       "      <td>57.145139</td>\n",
       "      <td>440</td>\n",
       "    </tr>\n",
       "    <tr>\n",
       "      <td>3</td>\n",
       "      <td>0</td>\n",
       "      <td>15878504</td>\n",
       "      <td>24619441</td>\n",
       "      <td>0</td>\n",
       "      <td>0</td>\n",
       "      <td>0</td>\n",
       "      <td>0</td>\n",
       "      <td>0</td>\n",
       "      <td>0</td>\n",
       "      <td>0</td>\n",
       "      <td>...</td>\n",
       "      <td>cg</td>\n",
       "      <td>Other</td>\n",
       "      <td>0</td>\n",
       "      <td>0</td>\n",
       "      <td>0</td>\n",
       "      <td>5</td>\n",
       "      <td>40.986717</td>\n",
       "      <td>322.235081</td>\n",
       "      <td>3.659722</td>\n",
       "      <td>161</td>\n",
       "    </tr>\n",
       "    <tr>\n",
       "      <td>4</td>\n",
       "      <td>0</td>\n",
       "      <td>15878504</td>\n",
       "      <td>12664705</td>\n",
       "      <td>0</td>\n",
       "      <td>0</td>\n",
       "      <td>0</td>\n",
       "      <td>0</td>\n",
       "      <td>0</td>\n",
       "      <td>0</td>\n",
       "      <td>0</td>\n",
       "      <td>...</td>\n",
       "      <td>cg</td>\n",
       "      <td>Cancer</td>\n",
       "      <td>1</td>\n",
       "      <td>0</td>\n",
       "      <td>0</td>\n",
       "      <td>17</td>\n",
       "      <td>1.863397</td>\n",
       "      <td>504.827442</td>\n",
       "      <td>273.693750</td>\n",
       "      <td>2765</td>\n",
       "    </tr>\n",
       "  </tbody>\n",
       "</table>\n",
       "<p>5 rows × 22 columns</p>\n",
       "</div>"
      ],
      "text/plain": [
       "   choice_id  initiator_user_id  candidate_user_id  is_target  \\\n",
       "0          0           15878504            5758186          1   \n",
       "1          0           15878504            8745849          0   \n",
       "2          0           15878504            7054610          0   \n",
       "3          0           15878504           24619441          0   \n",
       "4          0           15878504           12664705          0   \n",
       "\n",
       "   target_outdegree  target_indegree  target_has_indegree  is_reciprocal  \\\n",
       "0                10               41                    1              0   \n",
       "1                 0                1                    1              0   \n",
       "2                 3                3                    1              0   \n",
       "3                 0                0                    0              0   \n",
       "4                 0                0                    0              0   \n",
       "\n",
       "   is_weakly_connected  is_friend_of_friend  ...  initiator_author_type  \\\n",
       "0                    1                    0  ...                     cg   \n",
       "1                    1                    0  ...                     cg   \n",
       "2                    1                    0  ...                     cg   \n",
       "3                    0                    0  ...                     cg   \n",
       "4                    0                    0  ...                     cg   \n",
       "\n",
       "  target_health_condition is_health_condition_shared  \\\n",
       "0                  Cancer                          1   \n",
       "1   Cardiovascular/Stroke                          0   \n",
       "2  Neurological Condition                          0   \n",
       "3                   Other                          0   \n",
       "4                  Cancer                          1   \n",
       "\n",
       "  target_is_multisite_author  target_is_mixedsite_author  target_update_count  \\\n",
       "0                          0                           0                  628   \n",
       "1                          0                           0                   17   \n",
       "2                          0                           0                   11   \n",
       "3                          0                           0                    5   \n",
       "4                          0                           0                   17   \n",
       "\n",
       "   target_update_frequency  target_days_since_most_recent_update  \\\n",
       "0                10.271729                              0.000000   \n",
       "1                 2.249373                           1132.466331   \n",
       "2                 5.774769                           1446.314942   \n",
       "3                40.986717                            322.235081   \n",
       "4                 1.863397                            504.827442   \n",
       "\n",
       "   target_days_since_first_update  target_site_visits  \n",
       "0                     1118.324664              118271  \n",
       "1                      226.729861                1962  \n",
       "2                       57.145139                 440  \n",
       "3                        3.659722                 161  \n",
       "4                      273.693750                2765  \n",
       "\n",
       "[5 rows x 22 columns]"
      ]
     },
     "execution_count": 7,
     "metadata": {},
     "output_type": "execute_result"
    }
   ],
   "source": [
    "train.head()"
   ]
  },
  {
   "cell_type": "markdown",
   "metadata": {},
   "source": [
    "## First initiations only\n",
    "\n",
    "Include in the data only the very FIRST time an author initiates with another."
   ]
  },
  {
   "cell_type": "code",
   "execution_count": 14,
   "metadata": {},
   "outputs": [],
   "source": [
    "# this implementation assumes that the initiations are arranged chronologically\n",
    "# which is necessary as the time of the interaction is not recorded in this version of the data\n",
    "# (which was a mistake on my part)"
   ]
  },
  {
   "cell_type": "code",
   "execution_count": 17,
   "metadata": {},
   "outputs": [
    {
     "name": "stderr",
     "output_type": "stream",
     "text": [
      "100%|██████████| 3878525/3878525 [00:14<00:00, 271471.88it/s]\n"
     ]
    }
   ],
   "source": [
    "included_user_ids = set()\n",
    "curr_choice_id = -1\n",
    "should_include = False\n",
    "rows_to_keep = []\n",
    "for row in tqdm(train.itertuples(), total=len(train)):\n",
    "    choice_id = row.choice_id\n",
    "    if choice_id != curr_choice_id:\n",
    "        curr_choice_id = choice_id\n",
    "        initiator_user_id = row.initiator_user_id\n",
    "        if initiator_user_id in included_user_ids:\n",
    "            should_include = False\n",
    "        else:\n",
    "            included_user_ids.add(initiator_user_id)\n",
    "            should_include = True\n",
    "    rows_to_keep.append(should_include)"
   ]
  },
  {
   "cell_type": "code",
   "execution_count": 20,
   "metadata": {},
   "outputs": [
    {
     "data": {
      "text/plain": [
       "(1665400, 0.4293900387389536)"
      ]
     },
     "execution_count": 20,
     "metadata": {},
     "output_type": "execute_result"
    }
   ],
   "source": [
    "train_subset = train.loc[rows_to_keep]\n",
    "len(train_subset), len(train_subset) / len(train)"
   ]
  },
  {
   "cell_type": "code",
   "execution_count": 21,
   "metadata": {},
   "outputs": [
    {
     "name": "stderr",
     "output_type": "stream",
     "text": [
      "100%|██████████| 690025/690025 [00:02<00:00, 270823.53it/s]\n"
     ]
    }
   ],
   "source": [
    "should_include = False\n",
    "rows_to_keep = []\n",
    "for row in tqdm(test.itertuples(), total=len(test)):\n",
    "    choice_id = row.choice_id\n",
    "    if choice_id != curr_choice_id:\n",
    "        curr_choice_id = choice_id\n",
    "        initiator_user_id = row.initiator_user_id\n",
    "        if initiator_user_id in included_user_ids:\n",
    "            should_include = False\n",
    "        else:\n",
    "            included_user_ids.add(initiator_user_id)\n",
    "            should_include = True\n",
    "    rows_to_keep.append(should_include)"
   ]
  },
  {
   "cell_type": "code",
   "execution_count": 22,
   "metadata": {},
   "outputs": [
    {
     "data": {
      "text/plain": [
       "(203500, 0.29491685083873775)"
      ]
     },
     "execution_count": 22,
     "metadata": {},
     "output_type": "execute_result"
    }
   ],
   "source": [
    "test_subset = test.loc[rows_to_keep]\n",
    "len(test_subset), len(test_subset) / len(test)"
   ]
  },
  {
   "cell_type": "code",
   "execution_count": 23,
   "metadata": {},
   "outputs": [
    {
     "name": "stdout",
     "output_type": "stream",
     "text": [
      "Finished.\n"
     ]
    }
   ],
   "source": [
    "train_filepath = os.path.join(working_dir, \"author_initiation_choices_train_firstonly.csv\")\n",
    "train_subset.to_csv(train_filepath, index=False)\n",
    "test_filepath = os.path.join(working_dir, \"author_initiation_choices_test_firstonly.csv\")\n",
    "test_subset.to_csv(test_filepath, index=False)\n",
    "print(\"Finished.\")"
   ]
  },
  {
   "cell_type": "markdown",
   "metadata": {},
   "source": [
    "## Health condition subset"
   ]
  },
  {
   "cell_type": "code",
   "execution_count": 25,
   "metadata": {},
   "outputs": [
    {
     "data": {
      "text/plain": [
       "714874"
      ]
     },
     "execution_count": 25,
     "metadata": {},
     "output_type": "execute_result"
    }
   ],
   "source": [
    "# load the health condition assignments as a dictionary\n",
    "health_cond_filepath = os.path.join(\"/home/srivbane/shared/caringbridge/data/projects/sna-social-support/user_metadata\", \"assigned_health_conditions.feather\")\n",
    "user_health_conds_df = pd.read_feather(health_cond_filepath)\n",
    "health_cond_dict = {row.user_id: row.assigned_health_cond for row in user_health_conds_df.itertuples()}\n",
    "len(health_cond_dict)"
   ]
  },
  {
   "cell_type": "code",
   "execution_count": 29,
   "metadata": {},
   "outputs": [
    {
     "data": {
      "text/plain": [
       "(2397775, 0.6182182659645097, 410000, 0.5941813702402087)"
      ]
     },
     "execution_count": 29,
     "metadata": {},
     "output_type": "execute_result"
    }
   ],
   "source": [
    "# Keep only rows where the initiator_user_id's health condition is not NONE\n",
    "# which creates the possibility for a shared health condition\n",
    "train_subset = train.copy()\n",
    "train_subset['initiator_health_condition'] = train_subset.initiator_user_id.map(lambda user_id: health_cond_dict[user_id])\n",
    "test_subset = test.copy()\n",
    "test_subset['initiator_health_condition'] = test_subset.initiator_user_id.map(lambda user_id: health_cond_dict[user_id])\n",
    "\n",
    "train_subset = train_subset[train_subset.initiator_health_condition != \"None\"]\n",
    "test_subset = test_subset[test_subset.initiator_health_condition != \"None\"]\n",
    "\n",
    "len(train_subset), len(train_subset) / len(train), len(test_subset), len(test_subset) / len(test)"
   ]
  },
  {
   "cell_type": "code",
   "execution_count": 30,
   "metadata": {},
   "outputs": [
    {
     "name": "stdout",
     "output_type": "stream",
     "text": [
      "Finished.\n"
     ]
    }
   ],
   "source": [
    "train_filepath = os.path.join(working_dir, \"author_initiation_choices_train_hcNotNone.csv\")\n",
    "train_subset.to_csv(train_filepath, index=False)\n",
    "test_filepath = os.path.join(working_dir, \"author_initiation_choices_test_hcNotNone.csv\")\n",
    "test_subset.to_csv(test_filepath, index=False)\n",
    "print(\"Finished.\")"
   ]
  },
  {
   "cell_type": "markdown",
   "metadata": {},
   "source": [
    "## Geographic Analysis\n",
    "\n",
    "While the subsetted data for the geographic analysis is not created here, I load the pickled data files in for a little futher analysis.\n"
   ]
  },
  {
   "cell_type": "code",
   "execution_count": 8,
   "metadata": {},
   "outputs": [
    {
     "data": {
      "text/plain": [
       "(175175, 16700)"
      ]
     },
     "execution_count": 8,
     "metadata": {},
     "output_type": "execute_result"
    }
   ],
   "source": [
    "geo_train_filepath = os.path.join(working_dir, \"geo_author_initiation_choices_train_all.csv\")\n",
    "geo_train = pd.read_csv(geo_train_filepath, header=0)\n",
    "geo_test_filepath = os.path.join(working_dir, \"geo_author_initiation_choices_test_all.csv\")\n",
    "geo_test = pd.read_csv(geo_test_filepath, header=0)\n",
    "len(geo_train), len(geo_test)"
   ]
  },
  {
   "cell_type": "code",
   "execution_count": 9,
   "metadata": {},
   "outputs": [
    {
     "data": {
      "text/plain": [
       "(7007.0, 668.0)"
      ]
     },
     "execution_count": 9,
     "metadata": {},
     "output_type": "execute_result"
    }
   ],
   "source": [
    "len(geo_train) / 25, len(geo_test) / 25"
   ]
  },
  {
   "cell_type": "code",
   "execution_count": 10,
   "metadata": {},
   "outputs": [
    {
     "data": {
      "text/plain": [
       "0.045165365699589406"
      ]
     },
     "execution_count": 10,
     "metadata": {},
     "output_type": "execute_result"
    }
   ],
   "source": [
    "(len(geo_train) / 25) / (len(train) / 25)"
   ]
  },
  {
   "cell_type": "code",
   "execution_count": 11,
   "metadata": {},
   "outputs": [
    {
     "data": {
      "text/plain": [
       "0.4947909233623519"
      ]
     },
     "execution_count": 11,
     "metadata": {},
     "output_type": "execute_result"
    }
   ],
   "source": [
    "# 49.5% of the 7007 initiations between geo-identified authors \n",
    "# was between two authors that share the same US state assignment\n",
    "geo_targets = geo_train[geo_train.is_target == 1]\n",
    "np.sum(geo_targets.is_state_assignment_shared) / len(geo_targets)"
   ]
  },
  {
   "cell_type": "code",
   "execution_count": 12,
   "metadata": {},
   "outputs": [
    {
     "data": {
      "text/plain": [
       "0.5494011976047904"
      ]
     },
     "execution_count": 12,
     "metadata": {},
     "output_type": "execute_result"
    }
   ],
   "source": [
    "geo_targets = geo_test[geo_test.is_target == 1]\n",
    "np.sum(geo_targets.is_state_assignment_shared) / len(geo_targets)"
   ]
  },
  {
   "cell_type": "code",
   "execution_count": null,
   "metadata": {},
   "outputs": [],
   "source": [
    "# TODO It seems like geo-identified users have significantly fewer initations than the non-geo-identified users.\n",
    "# Is this true?\n",
    "# Load the state assignments data\n",
    "# Load the u2u data\n",
    "# Identify subgroups based on the is_state_assignment_shared feature\n",
    "# Group by From user to get initiation counts per user\n",
    "# Group by To user to get initiated counts per users\n",
    "# Compare the means of the two subgroups of users (and confirm that the 7001 training number is actually correct)"
   ]
  },
  {
   "cell_type": "code",
   "execution_count": 18,
   "metadata": {},
   "outputs": [
    {
     "data": {
      "text/plain": [
       "263330"
      ]
     },
     "execution_count": 18,
     "metadata": {},
     "output_type": "execute_result"
    }
   ],
   "source": [
    "# read in the geographic user assignments\n",
    "geo_user_df_filepath = \"/home/srivbane/shared/caringbridge/data/projects/sna-social-support/geo_data/geo_user_df.feather\"\n",
    "geo_user_df = pd.read_feather(geo_user_df_filepath)\n",
    "len(geo_user_df)"
   ]
  },
  {
   "cell_type": "code",
   "execution_count": 19,
   "metadata": {},
   "outputs": [
    {
     "data": {
      "text/html": [
       "<div>\n",
       "<style scoped>\n",
       "    .dataframe tbody tr th:only-of-type {\n",
       "        vertical-align: middle;\n",
       "    }\n",
       "\n",
       "    .dataframe tbody tr th {\n",
       "        vertical-align: top;\n",
       "    }\n",
       "\n",
       "    .dataframe thead th {\n",
       "        text-align: right;\n",
       "    }\n",
       "</style>\n",
       "<table border=\"1\" class=\"dataframe\">\n",
       "  <thead>\n",
       "    <tr style=\"text-align: right;\">\n",
       "      <th></th>\n",
       "      <th>user_id</th>\n",
       "      <th>total_updates</th>\n",
       "      <th>total_geolinked_updates</th>\n",
       "      <th>state_assignment</th>\n",
       "    </tr>\n",
       "  </thead>\n",
       "  <tbody>\n",
       "    <tr>\n",
       "      <td>0</td>\n",
       "      <td>322059</td>\n",
       "      <td>87</td>\n",
       "      <td>81</td>\n",
       "      <td>ID</td>\n",
       "    </tr>\n",
       "    <tr>\n",
       "      <td>1</td>\n",
       "      <td>5968472</td>\n",
       "      <td>77</td>\n",
       "      <td>74</td>\n",
       "      <td>NY</td>\n",
       "    </tr>\n",
       "    <tr>\n",
       "      <td>2</td>\n",
       "      <td>21573557</td>\n",
       "      <td>15</td>\n",
       "      <td>14</td>\n",
       "      <td>GA</td>\n",
       "    </tr>\n",
       "    <tr>\n",
       "      <td>3</td>\n",
       "      <td>20049997</td>\n",
       "      <td>41</td>\n",
       "      <td>41</td>\n",
       "      <td>GA</td>\n",
       "    </tr>\n",
       "    <tr>\n",
       "      <td>4</td>\n",
       "      <td>24353953</td>\n",
       "      <td>17</td>\n",
       "      <td>8</td>\n",
       "      <td>None</td>\n",
       "    </tr>\n",
       "  </tbody>\n",
       "</table>\n",
       "</div>"
      ],
      "text/plain": [
       "    user_id  total_updates  total_geolinked_updates state_assignment\n",
       "0    322059             87                       81               ID\n",
       "1   5968472             77                       74               NY\n",
       "2  21573557             15                       14               GA\n",
       "3  20049997             41                       41               GA\n",
       "4  24353953             17                        8             None"
      ]
     },
     "execution_count": 19,
     "metadata": {},
     "output_type": "execute_result"
    }
   ],
   "source": [
    "geo_user_df.head()"
   ]
  },
  {
   "cell_type": "code",
   "execution_count": 20,
   "metadata": {},
   "outputs": [
    {
     "data": {
      "text/plain": [
       "362345"
      ]
     },
     "execution_count": 20,
     "metadata": {},
     "output_type": "execute_result"
    }
   ],
   "source": [
    "# load the list of valid users\n",
    "data_selection_working_dir = \"/home/srivbane/shared/caringbridge/data/projects/sna-social-support/data_selection\"\n",
    "valid_user_ids = set()\n",
    "with open(os.path.join(data_selection_working_dir, \"valid_user_ids.txt\"), 'r') as infile:\n",
    "    for line in infile:\n",
    "        user_id = line.strip()\n",
    "        if user_id == \"\":\n",
    "            continue\n",
    "        else:\n",
    "            valid_user_ids.add(int(user_id))\n",
    "len(valid_user_ids)"
   ]
  },
  {
   "cell_type": "code",
   "execution_count": 23,
   "metadata": {},
   "outputs": [
    {
     "data": {
      "text/plain": [
       "9"
      ]
     },
     "execution_count": 23,
     "metadata": {},
     "output_type": "execute_result"
    }
   ],
   "source": [
    "# a few users are non-valid but ARE given state assignments\n",
    "# probably this is due to manual exclusions...\n",
    "len(set(geo_user_df.user_id) - valid_user_ids)"
   ]
  },
  {
   "cell_type": "code",
   "execution_count": 24,
   "metadata": {},
   "outputs": [
    {
     "data": {
      "text/plain": [
       "263321"
      ]
     },
     "execution_count": 24,
     "metadata": {},
     "output_type": "execute_result"
    }
   ],
   "source": [
    "geo_user_df = geo_user_df[geo_user_df.user_id.isin(valid_user_ids)]\n",
    "len(geo_user_df)"
   ]
  },
  {
   "cell_type": "code",
   "execution_count": 28,
   "metadata": {},
   "outputs": [
    {
     "data": {
      "text/plain": [
       "(118534, 0.3271302211980295)"
      ]
     },
     "execution_count": 28,
     "metadata": {},
     "output_type": "execute_result"
    }
   ],
   "source": [
    "np.sum(geo_user_df.state_assignment!='None'), np.sum(geo_user_df.state_assignment!='None') / len(valid_user_ids)"
   ]
  },
  {
   "cell_type": "code",
   "execution_count": 31,
   "metadata": {},
   "outputs": [
    {
     "data": {
      "text/plain": [
       "947270"
      ]
     },
     "execution_count": 31,
     "metadata": {},
     "output_type": "execute_result"
    }
   ],
   "source": [
    "# read the user->user interactions dataframe\n",
    "metadata_dir = \"/home/srivbane/shared/caringbridge/data/projects/sna-social-support/user_metadata\"\n",
    "u2u_df = pd.read_feather(os.path.join(metadata_dir,\"u2u_df.feather\"))\n",
    "valid_u2u_df = u2u_df[(u2u_df.from_user_id.isin(valid_user_ids))&(u2u_df.to_user_id.isin(valid_user_ids))]\n",
    "inits_df = valid_u2u_df.sort_values(by='created_at', ascending=True).drop_duplicates(subset=['from_user_id', 'to_user_id'], keep='first')\n",
    "len(inits_df)"
   ]
  },
  {
   "cell_type": "code",
   "execution_count": 32,
   "metadata": {},
   "outputs": [],
   "source": [
    "model_start_date = datetime.fromisoformat('2014-01-01')\n",
    "model_start_timestamp = int(model_start_date.timestamp() * 1000)\n",
    "model_end_date = datetime.fromisoformat('2016-01-01')\n",
    "model_end_timestamp = int(model_end_date.timestamp() * 1000)"
   ]
  },
  {
   "cell_type": "code",
   "execution_count": 34,
   "metadata": {},
   "outputs": [
    {
     "data": {
      "text/plain": [
       "155141"
      ]
     },
     "execution_count": 34,
     "metadata": {},
     "output_type": "execute_result"
    }
   ],
   "source": [
    "inits_subset = inits_df[(inits_df.created_at >= model_start_timestamp)&(inits_df.created_at <= model_end_timestamp)]\n",
    "len(inits_subset)"
   ]
  },
  {
   "cell_type": "code",
   "execution_count": 35,
   "metadata": {},
   "outputs": [
    {
     "data": {
      "text/plain": [
       "(118534, 144787)"
      ]
     },
     "execution_count": 35,
     "metadata": {},
     "output_type": "execute_result"
    }
   ],
   "source": [
    "state_assigned_users = set(geo_user_df[geo_user_df.state_assignment != 'None'].user_id)\n",
    "not_state_assigned_users = set(geo_user_df[geo_user_df.state_assignment == 'None'].user_id)\n",
    "len(state_assigned_users), len(not_state_assigned_users)"
   ]
  },
  {
   "cell_type": "code",
   "execution_count": 59,
   "metadata": {},
   "outputs": [
    {
     "data": {
      "text/plain": [
       "7007"
      ]
     },
     "execution_count": 59,
     "metadata": {},
     "output_type": "execute_result"
    }
   ],
   "source": [
    "np.sum((inits_subset.from_user_id.isin(state_assigned_users))&(inits_subset.to_user_id.isin(state_assigned_users)))"
   ]
  },
  {
   "cell_type": "code",
   "execution_count": 64,
   "metadata": {},
   "outputs": [
    {
     "data": {
      "text/plain": [
       "0.417948833641655"
      ]
     },
     "execution_count": 64,
     "metadata": {},
     "output_type": "execute_result"
    }
   ],
   "source": [
    "# 41.8% of initations involve state-assigned users\n",
    "np.sum((inits_subset.from_user_id.isin(state_assigned_users))|(inits_subset.to_user_id.isin(state_assigned_users))) / len(inits_subset)"
   ]
  },
  {
   "cell_type": "code",
   "execution_count": 47,
   "metadata": {},
   "outputs": [
    {
     "data": {
      "text/html": [
       "<div>\n",
       "<style scoped>\n",
       "    .dataframe tbody tr th:only-of-type {\n",
       "        vertical-align: middle;\n",
       "    }\n",
       "\n",
       "    .dataframe tbody tr th {\n",
       "        vertical-align: top;\n",
       "    }\n",
       "\n",
       "    .dataframe thead th {\n",
       "        text-align: right;\n",
       "    }\n",
       "</style>\n",
       "<table border=\"1\" class=\"dataframe\">\n",
       "  <thead>\n",
       "    <tr style=\"text-align: right;\">\n",
       "      <th></th>\n",
       "      <th>from_user_id</th>\n",
       "      <th>initiation_count</th>\n",
       "    </tr>\n",
       "  </thead>\n",
       "  <tbody>\n",
       "    <tr>\n",
       "      <td>0</td>\n",
       "      <td>2</td>\n",
       "      <td>1</td>\n",
       "    </tr>\n",
       "    <tr>\n",
       "      <td>1</td>\n",
       "      <td>17</td>\n",
       "      <td>2</td>\n",
       "    </tr>\n",
       "    <tr>\n",
       "      <td>2</td>\n",
       "      <td>21</td>\n",
       "      <td>2</td>\n",
       "    </tr>\n",
       "    <tr>\n",
       "      <td>3</td>\n",
       "      <td>37</td>\n",
       "      <td>4</td>\n",
       "    </tr>\n",
       "    <tr>\n",
       "      <td>4</td>\n",
       "      <td>43</td>\n",
       "      <td>7</td>\n",
       "    </tr>\n",
       "    <tr>\n",
       "      <td>...</td>\n",
       "      <td>...</td>\n",
       "      <td>...</td>\n",
       "    </tr>\n",
       "    <tr>\n",
       "      <td>67197</td>\n",
       "      <td>33251338</td>\n",
       "      <td>2</td>\n",
       "    </tr>\n",
       "    <tr>\n",
       "      <td>67198</td>\n",
       "      <td>33296926</td>\n",
       "      <td>1</td>\n",
       "    </tr>\n",
       "    <tr>\n",
       "      <td>67199</td>\n",
       "      <td>33322962</td>\n",
       "      <td>1</td>\n",
       "    </tr>\n",
       "    <tr>\n",
       "      <td>67200</td>\n",
       "      <td>33461499</td>\n",
       "      <td>1</td>\n",
       "    </tr>\n",
       "    <tr>\n",
       "      <td>67201</td>\n",
       "      <td>33472188</td>\n",
       "      <td>1</td>\n",
       "    </tr>\n",
       "  </tbody>\n",
       "</table>\n",
       "<p>67202 rows × 2 columns</p>\n",
       "</div>"
      ],
      "text/plain": [
       "       from_user_id  initiation_count\n",
       "0                 2                 1\n",
       "1                17                 2\n",
       "2                21                 2\n",
       "3                37                 4\n",
       "4                43                 7\n",
       "...             ...               ...\n",
       "67197      33251338                 2\n",
       "67198      33296926                 1\n",
       "67199      33322962                 1\n",
       "67200      33461499                 1\n",
       "67201      33472188                 1\n",
       "\n",
       "[67202 rows x 2 columns]"
      ]
     },
     "execution_count": 47,
     "metadata": {},
     "output_type": "execute_result"
    }
   ],
   "source": [
    "# From user counts\n",
    "initiation_counts_df = inits_subset.groupby(by='from_user_id').count()\n",
    "initiation_counts_df = initiation_counts_df.int_type.rename('initiation_count').reset_index()\n",
    "initiation_counts_df"
   ]
  },
  {
   "cell_type": "code",
   "execution_count": 48,
   "metadata": {},
   "outputs": [
    {
     "data": {
      "text/html": [
       "<div>\n",
       "<style scoped>\n",
       "    .dataframe tbody tr th:only-of-type {\n",
       "        vertical-align: middle;\n",
       "    }\n",
       "\n",
       "    .dataframe tbody tr th {\n",
       "        vertical-align: top;\n",
       "    }\n",
       "\n",
       "    .dataframe thead th {\n",
       "        text-align: right;\n",
       "    }\n",
       "</style>\n",
       "<table border=\"1\" class=\"dataframe\">\n",
       "  <thead>\n",
       "    <tr style=\"text-align: right;\">\n",
       "      <th></th>\n",
       "      <th>to_user_id</th>\n",
       "      <th>initiation_count</th>\n",
       "    </tr>\n",
       "  </thead>\n",
       "  <tbody>\n",
       "    <tr>\n",
       "      <td>0</td>\n",
       "      <td>47</td>\n",
       "      <td>7</td>\n",
       "    </tr>\n",
       "    <tr>\n",
       "      <td>1</td>\n",
       "      <td>63</td>\n",
       "      <td>2</td>\n",
       "    </tr>\n",
       "    <tr>\n",
       "      <td>2</td>\n",
       "      <td>81</td>\n",
       "      <td>1</td>\n",
       "    </tr>\n",
       "    <tr>\n",
       "      <td>3</td>\n",
       "      <td>122</td>\n",
       "      <td>2</td>\n",
       "    </tr>\n",
       "    <tr>\n",
       "      <td>4</td>\n",
       "      <td>211</td>\n",
       "      <td>1</td>\n",
       "    </tr>\n",
       "    <tr>\n",
       "      <td>...</td>\n",
       "      <td>...</td>\n",
       "      <td>...</td>\n",
       "    </tr>\n",
       "    <tr>\n",
       "      <td>52130</td>\n",
       "      <td>32359524</td>\n",
       "      <td>4</td>\n",
       "    </tr>\n",
       "    <tr>\n",
       "      <td>52131</td>\n",
       "      <td>32423687</td>\n",
       "      <td>2</td>\n",
       "    </tr>\n",
       "    <tr>\n",
       "      <td>52132</td>\n",
       "      <td>32535023</td>\n",
       "      <td>1</td>\n",
       "    </tr>\n",
       "    <tr>\n",
       "      <td>52133</td>\n",
       "      <td>32842471</td>\n",
       "      <td>1</td>\n",
       "    </tr>\n",
       "    <tr>\n",
       "      <td>52134</td>\n",
       "      <td>33120135</td>\n",
       "      <td>1</td>\n",
       "    </tr>\n",
       "  </tbody>\n",
       "</table>\n",
       "<p>52135 rows × 2 columns</p>\n",
       "</div>"
      ],
      "text/plain": [
       "       to_user_id  initiation_count\n",
       "0              47                 7\n",
       "1              63                 2\n",
       "2              81                 1\n",
       "3             122                 2\n",
       "4             211                 1\n",
       "...           ...               ...\n",
       "52130    32359524                 4\n",
       "52131    32423687                 2\n",
       "52132    32535023                 1\n",
       "52133    32842471                 1\n",
       "52134    33120135                 1\n",
       "\n",
       "[52135 rows x 2 columns]"
      ]
     },
     "execution_count": 48,
     "metadata": {},
     "output_type": "execute_result"
    }
   ],
   "source": [
    "# To user counts\n",
    "initiated_with_counts_df = inits_subset.groupby(by='to_user_id').count()\n",
    "initiated_with_counts_df = initiated_with_counts_df.int_type.rename('initiation_count').reset_index()\n",
    "initiated_with_counts_df"
   ]
  },
  {
   "cell_type": "code",
   "execution_count": 63,
   "metadata": {},
   "outputs": [
    {
     "data": {
      "text/plain": [
       "(2.308577125680783, 2.4099168323992046, 2.2588402324859134)"
      ]
     },
     "execution_count": 63,
     "metadata": {},
     "output_type": "execute_result"
    }
   ],
   "source": [
    "np.mean(initiation_counts_df.initiation_count), \\\n",
    "np.mean(initiation_counts_df[initiation_counts_df.from_user_id.isin(state_assigned_users)].initiation_count), \\\n",
    "np.mean(initiation_counts_df[~initiation_counts_df.from_user_id.isin(state_assigned_users)].initiation_count)"
   ]
  },
  {
   "cell_type": "code",
   "execution_count": 65,
   "metadata": {},
   "outputs": [
    {
     "data": {
      "text/plain": [
       "(2.9757552507912153, 2.9654344695151225, 2.977160789783376)"
      ]
     },
     "execution_count": 65,
     "metadata": {},
     "output_type": "execute_result"
    }
   ],
   "source": [
    "np.mean(initiated_with_counts_df.initiation_count), \\\n",
    "np.mean(initiated_with_counts_df[initiated_with_counts_df.to_user_id.isin(state_assigned_users)].initiation_count), \\\n",
    "np.mean(initiated_with_counts_df[~initiated_with_counts_df.to_user_id.isin(state_assigned_users)].initiation_count)"
   ]
  },
  {
   "cell_type": "code",
   "execution_count": 68,
   "metadata": {},
   "outputs": [
    {
     "data": {
      "text/plain": [
       "(Ttest_indResult(statistic=4.507400095821928, pvalue=6.586081540813135e-06),\n",
       " 22124,\n",
       " 45078)"
      ]
     },
     "execution_count": 68,
     "metadata": {},
     "output_type": "execute_result"
    }
   ],
   "source": [
    "# state-assigned authors initiate MORE than other authors on average (2.41 vs 2.26 initiations, p$<0.001$)\n",
    "import scipy.stats\n",
    "sample1 = initiation_counts_df[initiation_counts_df.from_user_id.isin(state_assigned_users)].initiation_count\n",
    "sample2 = initiation_counts_df[~initiation_counts_df.from_user_id.isin(state_assigned_users)].initiation_count\n",
    "scipy.stats.ttest_ind(sample1, sample2, equal_var=False), len(sample1), len(sample2)"
   ]
  },
  {
   "cell_type": "code",
   "execution_count": 66,
   "metadata": {},
   "outputs": [
    {
     "data": {
      "text/plain": [
       "Ttest_indResult(statistic=-0.1675110147963767, pvalue=0.8669725404088171)"
      ]
     },
     "execution_count": 66,
     "metadata": {},
     "output_type": "execute_result"
    }
   ],
   "source": [
    "import scipy.stats\n",
    "sample1 = initiated_with_counts_df[initiated_with_counts_df.to_user_id.isin(state_assigned_users)].initiation_count\n",
    "sample2 = initiated_with_counts_df[~initiated_with_counts_df.to_user_id.isin(state_assigned_users)].initiation_count\n",
    "scipy.stats.ttest_ind(sample1, sample2, equal_var=False)"
   ]
  },
  {
   "cell_type": "code",
   "execution_count": null,
   "metadata": {},
   "outputs": [],
   "source": []
  }
 ],
 "metadata": {
  "kernelspec": {
   "display_name": "Python (shared-conda)",
   "language": "python",
   "name": "shared-conda"
  },
  "language_info": {
   "codemirror_mode": {
    "name": "ipython",
    "version": 3
   },
   "file_extension": ".py",
   "mimetype": "text/x-python",
   "name": "python",
   "nbconvert_exporter": "python",
   "pygments_lexer": "ipython3",
   "version": "3.7.3"
  }
 },
 "nbformat": 4,
 "nbformat_minor": 2
}
